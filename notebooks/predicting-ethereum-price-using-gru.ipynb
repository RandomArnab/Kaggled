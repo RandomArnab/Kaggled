{
 "cells": [
  {
   "cell_type": "markdown",
   "id": "3f9621f3",
   "metadata": {
    "id": "BxzUuFyaKx43",
    "papermill": {
     "duration": 0.014437,
     "end_time": "2023-03-10T08:30:07.714538",
     "exception": false,
     "start_time": "2023-03-10T08:30:07.700101",
     "status": "completed"
    },
    "tags": []
   },
   "source": [
    "Import libraries and packages"
   ]
  },
  {
   "cell_type": "code",
   "execution_count": 1,
   "id": "71abd843",
   "metadata": {
    "execution": {
     "iopub.execute_input": "2023-03-10T08:30:07.743579Z",
     "iopub.status.busy": "2023-03-10T08:30:07.742668Z",
     "iopub.status.idle": "2023-03-10T08:30:19.215866Z",
     "shell.execute_reply": "2023-03-10T08:30:19.214615Z"
    },
    "id": "dotL6p2lEHz1",
    "papermill": {
     "duration": 11.491576,
     "end_time": "2023-03-10T08:30:19.219262",
     "exception": false,
     "start_time": "2023-03-10T08:30:07.727686",
     "status": "completed"
    },
    "tags": []
   },
   "outputs": [],
   "source": [
    "import pandas as pd\n",
    "import datetime\n",
    "import regex as re\n",
    "import math\n",
    "import matplotlib.pyplot as plt\n",
    "import plotly.graph_objects as go\n",
    "import plotly.express as px\n",
    "from itertools import cycle\n",
    "import numpy as np\n",
    "from sklearn.metrics import mean_squared_error, mean_absolute_error, explained_variance_score, r2_score \n",
    "from sklearn.metrics import mean_poisson_deviance, mean_gamma_deviance, accuracy_score\n",
    "from sklearn.preprocessing import MinMaxScaler\n",
    "\n",
    "import tensorflow as tf\n",
    "from tensorflow.keras.models import Sequential\n",
    "from tensorflow.keras.layers import Dense, Dropout\n",
    "from tensorflow.keras.layers import LSTM, GRU\n",
    "\n",
    "import warnings\n",
    "warnings.filterwarnings('ignore')"
   ]
  },
  {
   "cell_type": "markdown",
   "id": "20ffcb62",
   "metadata": {
    "id": "YLY42WvCK19W",
    "papermill": {
     "duration": 0.012552,
     "end_time": "2023-03-10T08:30:19.244912",
     "exception": false,
     "start_time": "2023-03-10T08:30:19.232360",
     "status": "completed"
    },
    "tags": []
   },
   "source": [
    "Import Dataset"
   ]
  },
  {
   "cell_type": "code",
   "execution_count": 2,
   "id": "3df47df1",
   "metadata": {
    "execution": {
     "iopub.execute_input": "2023-03-10T08:30:19.275898Z",
     "iopub.status.busy": "2023-03-10T08:30:19.274552Z",
     "iopub.status.idle": "2023-03-10T08:30:19.307156Z",
     "shell.execute_reply": "2023-03-10T08:30:19.306264Z"
    },
    "id": "l4n6IbeaEebF",
    "papermill": {
     "duration": 0.050461,
     "end_time": "2023-03-10T08:30:19.309700",
     "exception": false,
     "start_time": "2023-03-10T08:30:19.259239",
     "status": "completed"
    },
    "tags": []
   },
   "outputs": [],
   "source": [
    "eth = pd.read_csv('/kaggle/input/ethereum-historical-data/ethereum_price.csv')"
   ]
  },
  {
   "cell_type": "code",
   "execution_count": 3,
   "id": "8c61f423",
   "metadata": {
    "execution": {
     "iopub.execute_input": "2023-03-10T08:30:19.338245Z",
     "iopub.status.busy": "2023-03-10T08:30:19.337432Z",
     "iopub.status.idle": "2023-03-10T08:30:19.368935Z",
     "shell.execute_reply": "2023-03-10T08:30:19.367732Z"
    },
    "id": "-1v9SE5FEh8V",
    "outputId": "c22249e0-242a-449d-cfbe-50d7817717a7",
    "papermill": {
     "duration": 0.048838,
     "end_time": "2023-03-10T08:30:19.371739",
     "exception": false,
     "start_time": "2023-03-10T08:30:19.322901",
     "status": "completed"
    },
    "tags": []
   },
   "outputs": [
    {
     "data": {
      "text/html": [
       "<div>\n",
       "<style scoped>\n",
       "    .dataframe tbody tr th:only-of-type {\n",
       "        vertical-align: middle;\n",
       "    }\n",
       "\n",
       "    .dataframe tbody tr th {\n",
       "        vertical-align: top;\n",
       "    }\n",
       "\n",
       "    .dataframe thead th {\n",
       "        text-align: right;\n",
       "    }\n",
       "</style>\n",
       "<table border=\"1\" class=\"dataframe\">\n",
       "  <thead>\n",
       "    <tr style=\"text-align: right;\">\n",
       "      <th></th>\n",
       "      <th>Date</th>\n",
       "      <th>Price</th>\n",
       "      <th>Open</th>\n",
       "      <th>High</th>\n",
       "      <th>Low</th>\n",
       "      <th>Vol.</th>\n",
       "      <th>Change %</th>\n",
       "    </tr>\n",
       "  </thead>\n",
       "  <tbody>\n",
       "    <tr>\n",
       "      <th>0</th>\n",
       "      <td>Mar 08, 2023</td>\n",
       "      <td>1,553.49</td>\n",
       "      <td>1,561.79</td>\n",
       "      <td>1,569.70</td>\n",
       "      <td>1,548.98</td>\n",
       "      <td>498.57K</td>\n",
       "      <td>-0.53%</td>\n",
       "    </tr>\n",
       "    <tr>\n",
       "      <th>1</th>\n",
       "      <td>Mar 07, 2023</td>\n",
       "      <td>1,561.78</td>\n",
       "      <td>1,565.84</td>\n",
       "      <td>1,580.95</td>\n",
       "      <td>1,536.31</td>\n",
       "      <td>460.10K</td>\n",
       "      <td>-0.26%</td>\n",
       "    </tr>\n",
       "    <tr>\n",
       "      <th>2</th>\n",
       "      <td>Mar 06, 2023</td>\n",
       "      <td>1,565.84</td>\n",
       "      <td>1,564.36</td>\n",
       "      <td>1,581.13</td>\n",
       "      <td>1,555.43</td>\n",
       "      <td>322.16K</td>\n",
       "      <td>0.09%</td>\n",
       "    </tr>\n",
       "    <tr>\n",
       "      <th>3</th>\n",
       "      <td>Mar 05, 2023</td>\n",
       "      <td>1,564.37</td>\n",
       "      <td>1,566.73</td>\n",
       "      <td>1,587.95</td>\n",
       "      <td>1,556.84</td>\n",
       "      <td>313.01K</td>\n",
       "      <td>-0.15%</td>\n",
       "    </tr>\n",
       "    <tr>\n",
       "      <th>4</th>\n",
       "      <td>Mar 04, 2023</td>\n",
       "      <td>1,566.73</td>\n",
       "      <td>1,569.45</td>\n",
       "      <td>1,577.02</td>\n",
       "      <td>1,550.10</td>\n",
       "      <td>247.02K</td>\n",
       "      <td>-0.14%</td>\n",
       "    </tr>\n",
       "  </tbody>\n",
       "</table>\n",
       "</div>"
      ],
      "text/plain": [
       "           Date     Price      Open      High       Low     Vol. Change %\n",
       "0  Mar 08, 2023  1,553.49  1,561.79  1,569.70  1,548.98  498.57K   -0.53%\n",
       "1  Mar 07, 2023  1,561.78  1,565.84  1,580.95  1,536.31  460.10K   -0.26%\n",
       "2  Mar 06, 2023  1,565.84  1,564.36  1,581.13  1,555.43  322.16K    0.09%\n",
       "3  Mar 05, 2023  1,564.37  1,566.73  1,587.95  1,556.84  313.01K   -0.15%\n",
       "4  Mar 04, 2023  1,566.73  1,569.45  1,577.02  1,550.10  247.02K   -0.14%"
      ]
     },
     "execution_count": 3,
     "metadata": {},
     "output_type": "execute_result"
    }
   ],
   "source": [
    "eth.head()"
   ]
  },
  {
   "cell_type": "markdown",
   "id": "6bbcd54e",
   "metadata": {
    "id": "K3TdxS_UK_0T",
    "papermill": {
     "duration": 0.012707,
     "end_time": "2023-03-10T08:30:19.397743",
     "exception": false,
     "start_time": "2023-03-10T08:30:19.385036",
     "status": "completed"
    },
    "tags": []
   },
   "source": [
    "Data Preprocessing"
   ]
  },
  {
   "cell_type": "code",
   "execution_count": 4,
   "id": "c134870c",
   "metadata": {
    "execution": {
     "iopub.execute_input": "2023-03-10T08:30:19.425674Z",
     "iopub.status.busy": "2023-03-10T08:30:19.425216Z",
     "iopub.status.idle": "2023-03-10T08:30:24.577023Z",
     "shell.execute_reply": "2023-03-10T08:30:24.576222Z"
    },
    "id": "Gj5gooEfFPaP",
    "outputId": "389c096f-7e70-48ba-e889-11983e5900fd",
    "papermill": {
     "duration": 5.168703,
     "end_time": "2023-03-10T08:30:24.579422",
     "exception": false,
     "start_time": "2023-03-10T08:30:19.410719",
     "status": "completed"
    },
    "tags": []
   },
   "outputs": [
    {
     "data": {
      "text/html": [
       "<div>\n",
       "<style scoped>\n",
       "    .dataframe tbody tr th:only-of-type {\n",
       "        vertical-align: middle;\n",
       "    }\n",
       "\n",
       "    .dataframe tbody tr th {\n",
       "        vertical-align: top;\n",
       "    }\n",
       "\n",
       "    .dataframe thead th {\n",
       "        text-align: right;\n",
       "    }\n",
       "</style>\n",
       "<table border=\"1\" class=\"dataframe\">\n",
       "  <thead>\n",
       "    <tr style=\"text-align: right;\">\n",
       "      <th></th>\n",
       "      <th>Date</th>\n",
       "      <th>Price</th>\n",
       "      <th>Open</th>\n",
       "      <th>High</th>\n",
       "      <th>Low</th>\n",
       "      <th>Vol.</th>\n",
       "      <th>Change %</th>\n",
       "    </tr>\n",
       "  </thead>\n",
       "  <tbody>\n",
       "    <tr>\n",
       "      <th>0</th>\n",
       "      <td>2023-03-08</td>\n",
       "      <td>1553.49</td>\n",
       "      <td>1561.79</td>\n",
       "      <td>1569.7</td>\n",
       "      <td>1548.98</td>\n",
       "      <td>498570</td>\n",
       "      <td>-0.53</td>\n",
       "    </tr>\n",
       "    <tr>\n",
       "      <th>1</th>\n",
       "      <td>2023-03-07</td>\n",
       "      <td>1561.78</td>\n",
       "      <td>1565.84</td>\n",
       "      <td>1580.95</td>\n",
       "      <td>1536.31</td>\n",
       "      <td>460100</td>\n",
       "      <td>-0.26</td>\n",
       "    </tr>\n",
       "    <tr>\n",
       "      <th>2</th>\n",
       "      <td>2023-03-06</td>\n",
       "      <td>1565.84</td>\n",
       "      <td>1564.36</td>\n",
       "      <td>1581.13</td>\n",
       "      <td>1555.43</td>\n",
       "      <td>322160</td>\n",
       "      <td>0.09</td>\n",
       "    </tr>\n",
       "    <tr>\n",
       "      <th>3</th>\n",
       "      <td>2023-03-05</td>\n",
       "      <td>1564.37</td>\n",
       "      <td>1566.73</td>\n",
       "      <td>1587.95</td>\n",
       "      <td>1556.84</td>\n",
       "      <td>313010</td>\n",
       "      <td>-0.15</td>\n",
       "    </tr>\n",
       "    <tr>\n",
       "      <th>4</th>\n",
       "      <td>2023-03-04</td>\n",
       "      <td>1566.73</td>\n",
       "      <td>1569.45</td>\n",
       "      <td>1577.02</td>\n",
       "      <td>1550.1</td>\n",
       "      <td>247020</td>\n",
       "      <td>-0.14</td>\n",
       "    </tr>\n",
       "  </tbody>\n",
       "</table>\n",
       "</div>"
      ],
      "text/plain": [
       "        Date    Price     Open     High      Low    Vol. Change %\n",
       "0 2023-03-08  1553.49  1561.79   1569.7  1548.98  498570    -0.53\n",
       "1 2023-03-07  1561.78  1565.84  1580.95  1536.31  460100    -0.26\n",
       "2 2023-03-06  1565.84  1564.36  1581.13  1555.43  322160     0.09\n",
       "3 2023-03-05  1564.37  1566.73  1587.95  1556.84  313010    -0.15\n",
       "4 2023-03-04  1566.73  1569.45  1577.02   1550.1  247020    -0.14"
      ]
     },
     "execution_count": 4,
     "metadata": {},
     "output_type": "execute_result"
    }
   ],
   "source": [
    "eth['Date'] = pd.to_datetime(eth.Date)\n",
    "\n",
    "for i in range(len(eth)):\n",
    "    eth['Price'][i] = float(re.sub(',', '', eth['Price'][i]))\n",
    "    eth['Open'][i] = float(re.sub(',', '', eth['Open'][i]))\n",
    "    eth['High'][i] = float(re.sub(',', '', eth['High'][i]))\n",
    "    eth['Low'][i] = float(re.sub(',', '', eth['Low'][i]))\n",
    "    eth['Change %'][i] = float(re.sub('%', '', eth['Change %'][i]))\n",
    "    if eth['Vol.'][i][-1] == 'K':\n",
    "        eth['Vol.'][i] = int(float(re.sub('K', '', eth['Vol.'][i])) * 1000) \n",
    "    elif eth['Vol.'][i][-1] == 'M':\n",
    "        eth['Vol.'][i] = int(float(re.sub('M', '', eth['Vol.'][i])) * 1000000) \n",
    "\n",
    "eth.head()"
   ]
  },
  {
   "cell_type": "code",
   "execution_count": 5,
   "id": "a0051a82",
   "metadata": {
    "execution": {
     "iopub.execute_input": "2023-03-10T08:30:24.609249Z",
     "iopub.status.busy": "2023-03-10T08:30:24.608811Z",
     "iopub.status.idle": "2023-03-10T08:30:24.615886Z",
     "shell.execute_reply": "2023-03-10T08:30:24.614697Z"
    },
    "id": "LHaE0OCkHNsn",
    "outputId": "7ea71991-7dae-4273-bf9a-d685e4c13c16",
    "papermill": {
     "duration": 0.024462,
     "end_time": "2023-03-10T08:30:24.618208",
     "exception": false,
     "start_time": "2023-03-10T08:30:24.593746",
     "status": "completed"
    },
    "tags": []
   },
   "outputs": [
    {
     "data": {
      "text/plain": [
       "(2555, 7)"
      ]
     },
     "execution_count": 5,
     "metadata": {},
     "output_type": "execute_result"
    }
   ],
   "source": [
    "eth.shape"
   ]
  },
  {
   "cell_type": "code",
   "execution_count": 6,
   "id": "af7c98c4",
   "metadata": {
    "execution": {
     "iopub.execute_input": "2023-03-10T08:30:24.647032Z",
     "iopub.status.busy": "2023-03-10T08:30:24.646632Z",
     "iopub.status.idle": "2023-03-10T08:30:24.656916Z",
     "shell.execute_reply": "2023-03-10T08:30:24.655476Z"
    },
    "id": "5EyUoXnwGqdr",
    "outputId": "ce68dd45-f130-4c55-d0d2-8e11e6e0b6f5",
    "papermill": {
     "duration": 0.028344,
     "end_time": "2023-03-10T08:30:24.660009",
     "exception": false,
     "start_time": "2023-03-10T08:30:24.631665",
     "status": "completed"
    },
    "tags": []
   },
   "outputs": [
    {
     "name": "stdout",
     "output_type": "stream",
     "text": [
      "Total number of days : 2555\n",
      "Total number of fields : 7\n"
     ]
    }
   ],
   "source": [
    "print('Total number of days :', eth.Date.nunique())\n",
    "print('Total number of fields :', eth.shape[1])"
   ]
  },
  {
   "cell_type": "markdown",
   "id": "277850ed",
   "metadata": {
    "id": "SLyeJT9tK50C",
    "papermill": {
     "duration": 0.013316,
     "end_time": "2023-03-10T08:30:24.687388",
     "exception": false,
     "start_time": "2023-03-10T08:30:24.674072",
     "status": "completed"
    },
    "tags": []
   },
   "source": [
    "Chceking Null and NA values"
   ]
  },
  {
   "cell_type": "code",
   "execution_count": 7,
   "id": "bd9aabeb",
   "metadata": {
    "execution": {
     "iopub.execute_input": "2023-03-10T08:30:24.716878Z",
     "iopub.status.busy": "2023-03-10T08:30:24.716159Z",
     "iopub.status.idle": "2023-03-10T08:30:24.724924Z",
     "shell.execute_reply": "2023-03-10T08:30:24.723473Z"
    },
    "id": "4MbwkSzEJoJa",
    "outputId": "3e0cc6e2-0a27-4030-80b6-648f2009c1ca",
    "papermill": {
     "duration": 0.026474,
     "end_time": "2023-03-10T08:30:24.727419",
     "exception": false,
     "start_time": "2023-03-10T08:30:24.700945",
     "status": "completed"
    },
    "tags": []
   },
   "outputs": [
    {
     "name": "stdout",
     "output_type": "stream",
     "text": [
      "Null values : 0\n",
      "NA values : False\n"
     ]
    }
   ],
   "source": [
    "print(\"Null values :\", eth.isnull().values.sum())\n",
    "print(\"NA values :\", eth.isna().values.any())"
   ]
  },
  {
   "cell_type": "markdown",
   "id": "fe8c2c4a",
   "metadata": {
    "id": "fWv4KYmjLCuH",
    "papermill": {
     "duration": 0.013251,
     "end_time": "2023-03-10T08:30:24.754370",
     "exception": false,
     "start_time": "2023-03-10T08:30:24.741119",
     "status": "completed"
    },
    "tags": []
   },
   "source": [
    "Finding out the duration of dataset"
   ]
  },
  {
   "cell_type": "code",
   "execution_count": 8,
   "id": "9dfbde72",
   "metadata": {
    "execution": {
     "iopub.execute_input": "2023-03-10T08:30:24.784249Z",
     "iopub.status.busy": "2023-03-10T08:30:24.782786Z",
     "iopub.status.idle": "2023-03-10T08:30:24.793167Z",
     "shell.execute_reply": "2023-03-10T08:30:24.791902Z"
    },
    "id": "R2zAYnNpKA9_",
    "outputId": "3b405c19-5e79-4fb4-8046-4f8124eb1c6d",
    "papermill": {
     "duration": 0.027726,
     "end_time": "2023-03-10T08:30:24.795701",
     "exception": false,
     "start_time": "2023-03-10T08:30:24.767975",
     "status": "completed"
    },
    "tags": []
   },
   "outputs": [
    {
     "name": "stdout",
     "output_type": "stream",
     "text": [
      "Starting date : 2016-03-10 00:00:00\n",
      "Ending date : 2023-03-08 00:00:00\n",
      "Duration : 2554 days 00:00:00\n"
     ]
    }
   ],
   "source": [
    "print(\"Starting date :\", eth.iloc[-1][0])\n",
    "print(\"Ending date :\", eth.iloc[0][0])\n",
    "print(\"Duration :\", eth.iloc[0][0]- eth.iloc[-1][0])"
   ]
  },
  {
   "cell_type": "markdown",
   "id": "b451e74e",
   "metadata": {
    "id": "u988DjN_LGyp",
    "papermill": {
     "duration": 0.013297,
     "end_time": "2023-03-10T08:30:24.822858",
     "exception": false,
     "start_time": "2023-03-10T08:30:24.809561",
     "status": "completed"
    },
    "tags": []
   },
   "source": [
    "Monthwise comparisions"
   ]
  },
  {
   "cell_type": "code",
   "execution_count": 9,
   "id": "6781c7d8",
   "metadata": {
    "execution": {
     "iopub.execute_input": "2023-03-10T08:30:24.852883Z",
     "iopub.status.busy": "2023-03-10T08:30:24.852092Z",
     "iopub.status.idle": "2023-03-10T08:30:24.877839Z",
     "shell.execute_reply": "2023-03-10T08:30:24.876427Z"
    },
    "id": "oNjXzqPSKKlT",
    "outputId": "7d5cd722-6729-4490-a2e2-5552aa046022",
    "papermill": {
     "duration": 0.044096,
     "end_time": "2023-03-10T08:30:24.880561",
     "exception": false,
     "start_time": "2023-03-10T08:30:24.836465",
     "status": "completed"
    },
    "tags": []
   },
   "outputs": [
    {
     "data": {
      "text/html": [
       "<div>\n",
       "<style scoped>\n",
       "    .dataframe tbody tr th:only-of-type {\n",
       "        vertical-align: middle;\n",
       "    }\n",
       "\n",
       "    .dataframe tbody tr th {\n",
       "        vertical-align: top;\n",
       "    }\n",
       "\n",
       "    .dataframe thead th {\n",
       "        text-align: right;\n",
       "    }\n",
       "</style>\n",
       "<table border=\"1\" class=\"dataframe\">\n",
       "  <thead>\n",
       "    <tr style=\"text-align: right;\">\n",
       "      <th></th>\n",
       "      <th>Date</th>\n",
       "      <th>Open</th>\n",
       "    </tr>\n",
       "  </thead>\n",
       "  <tbody>\n",
       "    <tr>\n",
       "      <th>0</th>\n",
       "      <td>January</td>\n",
       "      <td>1012.926636</td>\n",
       "    </tr>\n",
       "    <tr>\n",
       "      <th>1</th>\n",
       "      <td>February</td>\n",
       "      <td>1057.254670</td>\n",
       "    </tr>\n",
       "    <tr>\n",
       "      <th>2</th>\n",
       "      <td>March</td>\n",
       "      <td>856.974306</td>\n",
       "    </tr>\n",
       "    <tr>\n",
       "      <th>3</th>\n",
       "      <td>April</td>\n",
       "      <td>897.661762</td>\n",
       "    </tr>\n",
       "    <tr>\n",
       "      <th>4</th>\n",
       "      <td>May</td>\n",
       "      <td>940.999447</td>\n",
       "    </tr>\n",
       "    <tr>\n",
       "      <th>5</th>\n",
       "      <td>June</td>\n",
       "      <td>729.158619</td>\n",
       "    </tr>\n",
       "    <tr>\n",
       "      <th>6</th>\n",
       "      <td>July</td>\n",
       "      <td>666.152673</td>\n",
       "    </tr>\n",
       "    <tr>\n",
       "      <th>7</th>\n",
       "      <td>August</td>\n",
       "      <td>857.359770</td>\n",
       "    </tr>\n",
       "    <tr>\n",
       "      <th>8</th>\n",
       "      <td>September</td>\n",
       "      <td>848.079286</td>\n",
       "    </tr>\n",
       "    <tr>\n",
       "      <th>9</th>\n",
       "      <td>October</td>\n",
       "      <td>888.357926</td>\n",
       "    </tr>\n",
       "    <tr>\n",
       "      <th>10</th>\n",
       "      <td>November</td>\n",
       "      <td>989.121476</td>\n",
       "    </tr>\n",
       "    <tr>\n",
       "      <th>11</th>\n",
       "      <td>December</td>\n",
       "      <td>971.279631</td>\n",
       "    </tr>\n",
       "  </tbody>\n",
       "</table>\n",
       "</div>"
      ],
      "text/plain": [
       "         Date         Open\n",
       "0     January  1012.926636\n",
       "1    February  1057.254670\n",
       "2       March   856.974306\n",
       "3       April   897.661762\n",
       "4         May   940.999447\n",
       "5        June   729.158619\n",
       "6        July   666.152673\n",
       "7      August   857.359770\n",
       "8   September   848.079286\n",
       "9     October   888.357926\n",
       "10   November   989.121476\n",
       "11   December   971.279631"
      ]
     },
     "execution_count": 9,
     "metadata": {},
     "output_type": "execute_result"
    }
   ],
   "source": [
    "monthwise = eth.groupby(pd.DatetimeIndex(eth.Date).month)[['Open']].mean()\n",
    "new_order = ['January', 'February', 'March', 'April', 'May', 'June', 'July', 'August', \n",
    "             'September', 'October', 'November', 'December']\n",
    "monthwise = monthwise.reset_index()\n",
    "monthwise['Date'] = new_order\n",
    "\n",
    "monthwise"
   ]
  },
  {
   "cell_type": "code",
   "execution_count": 10,
   "id": "3dd1260f",
   "metadata": {
    "execution": {
     "iopub.execute_input": "2023-03-10T08:30:24.910268Z",
     "iopub.status.busy": "2023-03-10T08:30:24.909846Z",
     "iopub.status.idle": "2023-03-10T08:30:25.074284Z",
     "shell.execute_reply": "2023-03-10T08:30:25.073238Z"
    },
    "id": "PvYMfcw2SA5Z",
    "outputId": "7685a42b-37b2-4d0b-f3a2-0e7c4c7637e9",
    "papermill": {
     "duration": 0.182117,
     "end_time": "2023-03-10T08:30:25.076723",
     "exception": false,
     "start_time": "2023-03-10T08:30:24.894606",
     "status": "completed"
    },
    "tags": []
   },
   "outputs": [
    {
     "data": {
      "text/html": [
       "        <script type=\"text/javascript\">\n",
       "        window.PlotlyConfig = {MathJaxConfig: 'local'};\n",
       "        if (window.MathJax && window.MathJax.Hub && window.MathJax.Hub.Config) {window.MathJax.Hub.Config({SVG: {font: \"STIX-Web\"}});}\n",
       "        if (typeof require !== 'undefined') {\n",
       "        require.undef(\"plotly\");\n",
       "        requirejs.config({\n",
       "            paths: {\n",
       "                'plotly': ['https://cdn.plot.ly/plotly-2.18.0.min']\n",
       "            }\n",
       "        });\n",
       "        require(['plotly'], function(Plotly) {\n",
       "            window._Plotly = Plotly;\n",
       "        });\n",
       "        }\n",
       "        </script>\n",
       "        "
      ]
     },
     "metadata": {},
     "output_type": "display_data"
    },
    {
     "data": {
      "text/html": [
       "<div>                            <div id=\"bdb26f41-0a78-45ef-a5e5-e930ecf2510f\" class=\"plotly-graph-div\" style=\"height:525px; width:100%;\"></div>            <script type=\"text/javascript\">                require([\"plotly\"], function(Plotly) {                    window.PLOTLYENV=window.PLOTLYENV || {};                                    if (document.getElementById(\"bdb26f41-0a78-45ef-a5e5-e930ecf2510f\")) {                    Plotly.newPlot(                        \"bdb26f41-0a78-45ef-a5e5-e930ecf2510f\",                        [{\"marker\":{\"color\":\"pink\"},\"name\":\"Stock Open Price\",\"x\":[\"January\",\"February\",\"March\",\"April\",\"May\",\"June\",\"July\",\"August\",\"September\",\"October\",\"November\",\"December\"],\"y\":[1012.9266359446996,1057.2546700507614,856.974305555555,897.6617619047621,940.9994470046087,729.1586190476195,666.1526728110596,857.3597695852537,848.0792857142865,888.3579262672806,989.1214761904764,971.2796313364057],\"type\":\"bar\"}],                        {\"template\":{\"data\":{\"histogram2dcontour\":[{\"type\":\"histogram2dcontour\",\"colorbar\":{\"outlinewidth\":0,\"ticks\":\"\"},\"colorscale\":[[0.0,\"#0d0887\"],[0.1111111111111111,\"#46039f\"],[0.2222222222222222,\"#7201a8\"],[0.3333333333333333,\"#9c179e\"],[0.4444444444444444,\"#bd3786\"],[0.5555555555555556,\"#d8576b\"],[0.6666666666666666,\"#ed7953\"],[0.7777777777777778,\"#fb9f3a\"],[0.8888888888888888,\"#fdca26\"],[1.0,\"#f0f921\"]]}],\"choropleth\":[{\"type\":\"choropleth\",\"colorbar\":{\"outlinewidth\":0,\"ticks\":\"\"}}],\"histogram2d\":[{\"type\":\"histogram2d\",\"colorbar\":{\"outlinewidth\":0,\"ticks\":\"\"},\"colorscale\":[[0.0,\"#0d0887\"],[0.1111111111111111,\"#46039f\"],[0.2222222222222222,\"#7201a8\"],[0.3333333333333333,\"#9c179e\"],[0.4444444444444444,\"#bd3786\"],[0.5555555555555556,\"#d8576b\"],[0.6666666666666666,\"#ed7953\"],[0.7777777777777778,\"#fb9f3a\"],[0.8888888888888888,\"#fdca26\"],[1.0,\"#f0f921\"]]}],\"heatmap\":[{\"type\":\"heatmap\",\"colorbar\":{\"outlinewidth\":0,\"ticks\":\"\"},\"colorscale\":[[0.0,\"#0d0887\"],[0.1111111111111111,\"#46039f\"],[0.2222222222222222,\"#7201a8\"],[0.3333333333333333,\"#9c179e\"],[0.4444444444444444,\"#bd3786\"],[0.5555555555555556,\"#d8576b\"],[0.6666666666666666,\"#ed7953\"],[0.7777777777777778,\"#fb9f3a\"],[0.8888888888888888,\"#fdca26\"],[1.0,\"#f0f921\"]]}],\"heatmapgl\":[{\"type\":\"heatmapgl\",\"colorbar\":{\"outlinewidth\":0,\"ticks\":\"\"},\"colorscale\":[[0.0,\"#0d0887\"],[0.1111111111111111,\"#46039f\"],[0.2222222222222222,\"#7201a8\"],[0.3333333333333333,\"#9c179e\"],[0.4444444444444444,\"#bd3786\"],[0.5555555555555556,\"#d8576b\"],[0.6666666666666666,\"#ed7953\"],[0.7777777777777778,\"#fb9f3a\"],[0.8888888888888888,\"#fdca26\"],[1.0,\"#f0f921\"]]}],\"contourcarpet\":[{\"type\":\"contourcarpet\",\"colorbar\":{\"outlinewidth\":0,\"ticks\":\"\"}}],\"contour\":[{\"type\":\"contour\",\"colorbar\":{\"outlinewidth\":0,\"ticks\":\"\"},\"colorscale\":[[0.0,\"#0d0887\"],[0.1111111111111111,\"#46039f\"],[0.2222222222222222,\"#7201a8\"],[0.3333333333333333,\"#9c179e\"],[0.4444444444444444,\"#bd3786\"],[0.5555555555555556,\"#d8576b\"],[0.6666666666666666,\"#ed7953\"],[0.7777777777777778,\"#fb9f3a\"],[0.8888888888888888,\"#fdca26\"],[1.0,\"#f0f921\"]]}],\"surface\":[{\"type\":\"surface\",\"colorbar\":{\"outlinewidth\":0,\"ticks\":\"\"},\"colorscale\":[[0.0,\"#0d0887\"],[0.1111111111111111,\"#46039f\"],[0.2222222222222222,\"#7201a8\"],[0.3333333333333333,\"#9c179e\"],[0.4444444444444444,\"#bd3786\"],[0.5555555555555556,\"#d8576b\"],[0.6666666666666666,\"#ed7953\"],[0.7777777777777778,\"#fb9f3a\"],[0.8888888888888888,\"#fdca26\"],[1.0,\"#f0f921\"]]}],\"mesh3d\":[{\"type\":\"mesh3d\",\"colorbar\":{\"outlinewidth\":0,\"ticks\":\"\"}}],\"scatter\":[{\"fillpattern\":{\"fillmode\":\"overlay\",\"size\":10,\"solidity\":0.2},\"type\":\"scatter\"}],\"parcoords\":[{\"type\":\"parcoords\",\"line\":{\"colorbar\":{\"outlinewidth\":0,\"ticks\":\"\"}}}],\"scatterpolargl\":[{\"type\":\"scatterpolargl\",\"marker\":{\"colorbar\":{\"outlinewidth\":0,\"ticks\":\"\"}}}],\"bar\":[{\"error_x\":{\"color\":\"#2a3f5f\"},\"error_y\":{\"color\":\"#2a3f5f\"},\"marker\":{\"line\":{\"color\":\"#E5ECF6\",\"width\":0.5},\"pattern\":{\"fillmode\":\"overlay\",\"size\":10,\"solidity\":0.2}},\"type\":\"bar\"}],\"scattergeo\":[{\"type\":\"scattergeo\",\"marker\":{\"colorbar\":{\"outlinewidth\":0,\"ticks\":\"\"}}}],\"scatterpolar\":[{\"type\":\"scatterpolar\",\"marker\":{\"colorbar\":{\"outlinewidth\":0,\"ticks\":\"\"}}}],\"histogram\":[{\"marker\":{\"pattern\":{\"fillmode\":\"overlay\",\"size\":10,\"solidity\":0.2}},\"type\":\"histogram\"}],\"scattergl\":[{\"type\":\"scattergl\",\"marker\":{\"colorbar\":{\"outlinewidth\":0,\"ticks\":\"\"}}}],\"scatter3d\":[{\"type\":\"scatter3d\",\"line\":{\"colorbar\":{\"outlinewidth\":0,\"ticks\":\"\"}},\"marker\":{\"colorbar\":{\"outlinewidth\":0,\"ticks\":\"\"}}}],\"scattermapbox\":[{\"type\":\"scattermapbox\",\"marker\":{\"colorbar\":{\"outlinewidth\":0,\"ticks\":\"\"}}}],\"scatterternary\":[{\"type\":\"scatterternary\",\"marker\":{\"colorbar\":{\"outlinewidth\":0,\"ticks\":\"\"}}}],\"scattercarpet\":[{\"type\":\"scattercarpet\",\"marker\":{\"colorbar\":{\"outlinewidth\":0,\"ticks\":\"\"}}}],\"carpet\":[{\"aaxis\":{\"endlinecolor\":\"#2a3f5f\",\"gridcolor\":\"white\",\"linecolor\":\"white\",\"minorgridcolor\":\"white\",\"startlinecolor\":\"#2a3f5f\"},\"baxis\":{\"endlinecolor\":\"#2a3f5f\",\"gridcolor\":\"white\",\"linecolor\":\"white\",\"minorgridcolor\":\"white\",\"startlinecolor\":\"#2a3f5f\"},\"type\":\"carpet\"}],\"table\":[{\"cells\":{\"fill\":{\"color\":\"#EBF0F8\"},\"line\":{\"color\":\"white\"}},\"header\":{\"fill\":{\"color\":\"#C8D4E3\"},\"line\":{\"color\":\"white\"}},\"type\":\"table\"}],\"barpolar\":[{\"marker\":{\"line\":{\"color\":\"#E5ECF6\",\"width\":0.5},\"pattern\":{\"fillmode\":\"overlay\",\"size\":10,\"solidity\":0.2}},\"type\":\"barpolar\"}],\"pie\":[{\"automargin\":true,\"type\":\"pie\"}]},\"layout\":{\"autotypenumbers\":\"strict\",\"colorway\":[\"#636efa\",\"#EF553B\",\"#00cc96\",\"#ab63fa\",\"#FFA15A\",\"#19d3f3\",\"#FF6692\",\"#B6E880\",\"#FF97FF\",\"#FECB52\"],\"font\":{\"color\":\"#2a3f5f\"},\"hovermode\":\"closest\",\"hoverlabel\":{\"align\":\"left\"},\"paper_bgcolor\":\"white\",\"plot_bgcolor\":\"#E5ECF6\",\"polar\":{\"bgcolor\":\"#E5ECF6\",\"angularaxis\":{\"gridcolor\":\"white\",\"linecolor\":\"white\",\"ticks\":\"\"},\"radialaxis\":{\"gridcolor\":\"white\",\"linecolor\":\"white\",\"ticks\":\"\"}},\"ternary\":{\"bgcolor\":\"#E5ECF6\",\"aaxis\":{\"gridcolor\":\"white\",\"linecolor\":\"white\",\"ticks\":\"\"},\"baxis\":{\"gridcolor\":\"white\",\"linecolor\":\"white\",\"ticks\":\"\"},\"caxis\":{\"gridcolor\":\"white\",\"linecolor\":\"white\",\"ticks\":\"\"}},\"coloraxis\":{\"colorbar\":{\"outlinewidth\":0,\"ticks\":\"\"}},\"colorscale\":{\"sequential\":[[0.0,\"#0d0887\"],[0.1111111111111111,\"#46039f\"],[0.2222222222222222,\"#7201a8\"],[0.3333333333333333,\"#9c179e\"],[0.4444444444444444,\"#bd3786\"],[0.5555555555555556,\"#d8576b\"],[0.6666666666666666,\"#ed7953\"],[0.7777777777777778,\"#fb9f3a\"],[0.8888888888888888,\"#fdca26\"],[1.0,\"#f0f921\"]],\"sequentialminus\":[[0.0,\"#0d0887\"],[0.1111111111111111,\"#46039f\"],[0.2222222222222222,\"#7201a8\"],[0.3333333333333333,\"#9c179e\"],[0.4444444444444444,\"#bd3786\"],[0.5555555555555556,\"#d8576b\"],[0.6666666666666666,\"#ed7953\"],[0.7777777777777778,\"#fb9f3a\"],[0.8888888888888888,\"#fdca26\"],[1.0,\"#f0f921\"]],\"diverging\":[[0,\"#8e0152\"],[0.1,\"#c51b7d\"],[0.2,\"#de77ae\"],[0.3,\"#f1b6da\"],[0.4,\"#fde0ef\"],[0.5,\"#f7f7f7\"],[0.6,\"#e6f5d0\"],[0.7,\"#b8e186\"],[0.8,\"#7fbc41\"],[0.9,\"#4d9221\"],[1,\"#276419\"]]},\"xaxis\":{\"gridcolor\":\"white\",\"linecolor\":\"white\",\"ticks\":\"\",\"title\":{\"standoff\":15},\"zerolinecolor\":\"white\",\"automargin\":true,\"zerolinewidth\":2},\"yaxis\":{\"gridcolor\":\"white\",\"linecolor\":\"white\",\"ticks\":\"\",\"title\":{\"standoff\":15},\"zerolinecolor\":\"white\",\"automargin\":true,\"zerolinewidth\":2},\"scene\":{\"xaxis\":{\"backgroundcolor\":\"#E5ECF6\",\"gridcolor\":\"white\",\"linecolor\":\"white\",\"showbackground\":true,\"ticks\":\"\",\"zerolinecolor\":\"white\",\"gridwidth\":2},\"yaxis\":{\"backgroundcolor\":\"#E5ECF6\",\"gridcolor\":\"white\",\"linecolor\":\"white\",\"showbackground\":true,\"ticks\":\"\",\"zerolinecolor\":\"white\",\"gridwidth\":2},\"zaxis\":{\"backgroundcolor\":\"#E5ECF6\",\"gridcolor\":\"white\",\"linecolor\":\"white\",\"showbackground\":true,\"ticks\":\"\",\"zerolinecolor\":\"white\",\"gridwidth\":2}},\"shapedefaults\":{\"line\":{\"color\":\"#2a3f5f\"}},\"annotationdefaults\":{\"arrowcolor\":\"#2a3f5f\",\"arrowhead\":0,\"arrowwidth\":1},\"geo\":{\"bgcolor\":\"white\",\"landcolor\":\"#E5ECF6\",\"subunitcolor\":\"white\",\"showland\":true,\"showlakes\":true,\"lakecolor\":\"white\"},\"title\":{\"x\":0.05},\"mapbox\":{\"style\":\"light\"}}},\"xaxis\":{\"tickangle\":-45},\"barmode\":\"group\",\"title\":{\"text\":\"Monthwise comparision for Open Prices\"}},                        {\"responsive\": true}                    ).then(function(){\n",
       "                            \n",
       "var gd = document.getElementById('bdb26f41-0a78-45ef-a5e5-e930ecf2510f');\n",
       "var x = new MutationObserver(function (mutations, observer) {{\n",
       "        var display = window.getComputedStyle(gd).display;\n",
       "        if (!display || display === 'none') {{\n",
       "            console.log([gd, 'removed!']);\n",
       "            Plotly.purge(gd);\n",
       "            observer.disconnect();\n",
       "        }}\n",
       "}});\n",
       "\n",
       "// Listen for the removal of the full notebook cells\n",
       "var notebookContainer = gd.closest('#notebook-container');\n",
       "if (notebookContainer) {{\n",
       "    x.observe(notebookContainer, {childList: true});\n",
       "}}\n",
       "\n",
       "// Listen for the clearing of the current output cell\n",
       "var outputEl = gd.closest('.output');\n",
       "if (outputEl) {{\n",
       "    x.observe(outputEl, {childList: true});\n",
       "}}\n",
       "\n",
       "                        })                };                });            </script>        </div>"
      ]
     },
     "metadata": {},
     "output_type": "display_data"
    }
   ],
   "source": [
    "fig = go.Figure()\n",
    "\n",
    "fig.add_trace(go.Bar(\n",
    "    x = monthwise.Date,\n",
    "    y = monthwise['Open'],\n",
    "    name = 'Stock Open Price',\n",
    "    marker_color = 'pink'\n",
    "))\n",
    "fig.update_layout(barmode = 'group', xaxis_tickangle = -45, \n",
    "                  title = 'Monthwise comparision for Open Prices')\n",
    "fig.show()"
   ]
  },
  {
   "cell_type": "markdown",
   "id": "35a9ff55",
   "metadata": {
    "id": "ZB7_NIxTLTDI",
    "papermill": {
     "duration": 0.014718,
     "end_time": "2023-03-10T08:30:25.106059",
     "exception": false,
     "start_time": "2023-03-10T08:30:25.091341",
     "status": "completed"
    },
    "tags": []
   },
   "source": [
    "Monthwise comparision for High and Low prices"
   ]
  },
  {
   "cell_type": "code",
   "execution_count": 11,
   "id": "b8cf7f1a",
   "metadata": {
    "execution": {
     "iopub.execute_input": "2023-03-10T08:30:25.137251Z",
     "iopub.status.busy": "2023-03-10T08:30:25.136523Z",
     "iopub.status.idle": "2023-03-10T08:30:25.153181Z",
     "shell.execute_reply": "2023-03-10T08:30:25.151644Z"
    },
    "id": "E2poNxEyNnQA",
    "papermill": {
     "duration": 0.035591,
     "end_time": "2023-03-10T08:30:25.156209",
     "exception": false,
     "start_time": "2023-03-10T08:30:25.120618",
     "status": "completed"
    },
    "tags": []
   },
   "outputs": [],
   "source": [
    "monthwise_high = eth.groupby(pd.DatetimeIndex(eth.Date).month)['High'].max()\n",
    "monthwise_high = monthwise_high.reset_index()\n",
    "monthwise_high['Date'] = new_order\n",
    "\n",
    "monthwise_low = eth.groupby(pd.DatetimeIndex(eth.Date).month)['Low'].min()\n",
    "monthwise_low = monthwise_low.reset_index()\n",
    "monthwise_low['Date'] = new_order"
   ]
  },
  {
   "cell_type": "code",
   "execution_count": 12,
   "id": "6043597b",
   "metadata": {
    "execution": {
     "iopub.execute_input": "2023-03-10T08:30:25.187916Z",
     "iopub.status.busy": "2023-03-10T08:30:25.187134Z",
     "iopub.status.idle": "2023-03-10T08:30:25.204889Z",
     "shell.execute_reply": "2023-03-10T08:30:25.203382Z"
    },
    "id": "z61UJY1tNnNG",
    "outputId": "05a6957f-4c98-4bff-c102-5f3d8e435103",
    "papermill": {
     "duration": 0.036566,
     "end_time": "2023-03-10T08:30:25.207557",
     "exception": false,
     "start_time": "2023-03-10T08:30:25.170991",
     "status": "completed"
    },
    "tags": []
   },
   "outputs": [
    {
     "data": {
      "text/html": [
       "<div>                            <div id=\"a877d3de-202b-45bc-8faf-267406e30d66\" class=\"plotly-graph-div\" style=\"height:525px; width:100%;\"></div>            <script type=\"text/javascript\">                require([\"plotly\"], function(Plotly) {                    window.PLOTLYENV=window.PLOTLYENV || {};                                    if (document.getElementById(\"a877d3de-202b-45bc-8faf-267406e30d66\")) {                    Plotly.newPlot(                        \"a877d3de-202b-45bc-8faf-267406e30d66\",                        [{\"marker\":{\"color\":\"purple\"},\"name\":\"Stock High Price\",\"x\":[\"January\",\"February\",\"March\",\"April\",\"May\",\"June\",\"July\",\"August\",\"September\",\"October\",\"November\",\"December\"],\"y\":[3889.07,3277.36,3481.23,3579.82,4366.1,2889.19,2551.68,3467.42,4024.89,4458.3,4864.06,4778.14],\"type\":\"bar\"},{\"marker\":{\"color\":\"pink\"},\"name\":\"Stock Low Price\",\"x\":[\"January\",\"February\",\"March\",\"April\",\"May\",\"June\",\"July\",\"August\",\"September\",\"October\",\"November\",\"December\"],\"y\":[8.03,10.41,8.34,6.86,8.35,10.13,9.35,9.9,11.26,9.5,7.74,5.86],\"type\":\"bar\"}],                        {\"template\":{\"data\":{\"histogram2dcontour\":[{\"type\":\"histogram2dcontour\",\"colorbar\":{\"outlinewidth\":0,\"ticks\":\"\"},\"colorscale\":[[0.0,\"#0d0887\"],[0.1111111111111111,\"#46039f\"],[0.2222222222222222,\"#7201a8\"],[0.3333333333333333,\"#9c179e\"],[0.4444444444444444,\"#bd3786\"],[0.5555555555555556,\"#d8576b\"],[0.6666666666666666,\"#ed7953\"],[0.7777777777777778,\"#fb9f3a\"],[0.8888888888888888,\"#fdca26\"],[1.0,\"#f0f921\"]]}],\"choropleth\":[{\"type\":\"choropleth\",\"colorbar\":{\"outlinewidth\":0,\"ticks\":\"\"}}],\"histogram2d\":[{\"type\":\"histogram2d\",\"colorbar\":{\"outlinewidth\":0,\"ticks\":\"\"},\"colorscale\":[[0.0,\"#0d0887\"],[0.1111111111111111,\"#46039f\"],[0.2222222222222222,\"#7201a8\"],[0.3333333333333333,\"#9c179e\"],[0.4444444444444444,\"#bd3786\"],[0.5555555555555556,\"#d8576b\"],[0.6666666666666666,\"#ed7953\"],[0.7777777777777778,\"#fb9f3a\"],[0.8888888888888888,\"#fdca26\"],[1.0,\"#f0f921\"]]}],\"heatmap\":[{\"type\":\"heatmap\",\"colorbar\":{\"outlinewidth\":0,\"ticks\":\"\"},\"colorscale\":[[0.0,\"#0d0887\"],[0.1111111111111111,\"#46039f\"],[0.2222222222222222,\"#7201a8\"],[0.3333333333333333,\"#9c179e\"],[0.4444444444444444,\"#bd3786\"],[0.5555555555555556,\"#d8576b\"],[0.6666666666666666,\"#ed7953\"],[0.7777777777777778,\"#fb9f3a\"],[0.8888888888888888,\"#fdca26\"],[1.0,\"#f0f921\"]]}],\"heatmapgl\":[{\"type\":\"heatmapgl\",\"colorbar\":{\"outlinewidth\":0,\"ticks\":\"\"},\"colorscale\":[[0.0,\"#0d0887\"],[0.1111111111111111,\"#46039f\"],[0.2222222222222222,\"#7201a8\"],[0.3333333333333333,\"#9c179e\"],[0.4444444444444444,\"#bd3786\"],[0.5555555555555556,\"#d8576b\"],[0.6666666666666666,\"#ed7953\"],[0.7777777777777778,\"#fb9f3a\"],[0.8888888888888888,\"#fdca26\"],[1.0,\"#f0f921\"]]}],\"contourcarpet\":[{\"type\":\"contourcarpet\",\"colorbar\":{\"outlinewidth\":0,\"ticks\":\"\"}}],\"contour\":[{\"type\":\"contour\",\"colorbar\":{\"outlinewidth\":0,\"ticks\":\"\"},\"colorscale\":[[0.0,\"#0d0887\"],[0.1111111111111111,\"#46039f\"],[0.2222222222222222,\"#7201a8\"],[0.3333333333333333,\"#9c179e\"],[0.4444444444444444,\"#bd3786\"],[0.5555555555555556,\"#d8576b\"],[0.6666666666666666,\"#ed7953\"],[0.7777777777777778,\"#fb9f3a\"],[0.8888888888888888,\"#fdca26\"],[1.0,\"#f0f921\"]]}],\"surface\":[{\"type\":\"surface\",\"colorbar\":{\"outlinewidth\":0,\"ticks\":\"\"},\"colorscale\":[[0.0,\"#0d0887\"],[0.1111111111111111,\"#46039f\"],[0.2222222222222222,\"#7201a8\"],[0.3333333333333333,\"#9c179e\"],[0.4444444444444444,\"#bd3786\"],[0.5555555555555556,\"#d8576b\"],[0.6666666666666666,\"#ed7953\"],[0.7777777777777778,\"#fb9f3a\"],[0.8888888888888888,\"#fdca26\"],[1.0,\"#f0f921\"]]}],\"mesh3d\":[{\"type\":\"mesh3d\",\"colorbar\":{\"outlinewidth\":0,\"ticks\":\"\"}}],\"scatter\":[{\"fillpattern\":{\"fillmode\":\"overlay\",\"size\":10,\"solidity\":0.2},\"type\":\"scatter\"}],\"parcoords\":[{\"type\":\"parcoords\",\"line\":{\"colorbar\":{\"outlinewidth\":0,\"ticks\":\"\"}}}],\"scatterpolargl\":[{\"type\":\"scatterpolargl\",\"marker\":{\"colorbar\":{\"outlinewidth\":0,\"ticks\":\"\"}}}],\"bar\":[{\"error_x\":{\"color\":\"#2a3f5f\"},\"error_y\":{\"color\":\"#2a3f5f\"},\"marker\":{\"line\":{\"color\":\"#E5ECF6\",\"width\":0.5},\"pattern\":{\"fillmode\":\"overlay\",\"size\":10,\"solidity\":0.2}},\"type\":\"bar\"}],\"scattergeo\":[{\"type\":\"scattergeo\",\"marker\":{\"colorbar\":{\"outlinewidth\":0,\"ticks\":\"\"}}}],\"scatterpolar\":[{\"type\":\"scatterpolar\",\"marker\":{\"colorbar\":{\"outlinewidth\":0,\"ticks\":\"\"}}}],\"histogram\":[{\"marker\":{\"pattern\":{\"fillmode\":\"overlay\",\"size\":10,\"solidity\":0.2}},\"type\":\"histogram\"}],\"scattergl\":[{\"type\":\"scattergl\",\"marker\":{\"colorbar\":{\"outlinewidth\":0,\"ticks\":\"\"}}}],\"scatter3d\":[{\"type\":\"scatter3d\",\"line\":{\"colorbar\":{\"outlinewidth\":0,\"ticks\":\"\"}},\"marker\":{\"colorbar\":{\"outlinewidth\":0,\"ticks\":\"\"}}}],\"scattermapbox\":[{\"type\":\"scattermapbox\",\"marker\":{\"colorbar\":{\"outlinewidth\":0,\"ticks\":\"\"}}}],\"scatterternary\":[{\"type\":\"scatterternary\",\"marker\":{\"colorbar\":{\"outlinewidth\":0,\"ticks\":\"\"}}}],\"scattercarpet\":[{\"type\":\"scattercarpet\",\"marker\":{\"colorbar\":{\"outlinewidth\":0,\"ticks\":\"\"}}}],\"carpet\":[{\"aaxis\":{\"endlinecolor\":\"#2a3f5f\",\"gridcolor\":\"white\",\"linecolor\":\"white\",\"minorgridcolor\":\"white\",\"startlinecolor\":\"#2a3f5f\"},\"baxis\":{\"endlinecolor\":\"#2a3f5f\",\"gridcolor\":\"white\",\"linecolor\":\"white\",\"minorgridcolor\":\"white\",\"startlinecolor\":\"#2a3f5f\"},\"type\":\"carpet\"}],\"table\":[{\"cells\":{\"fill\":{\"color\":\"#EBF0F8\"},\"line\":{\"color\":\"white\"}},\"header\":{\"fill\":{\"color\":\"#C8D4E3\"},\"line\":{\"color\":\"white\"}},\"type\":\"table\"}],\"barpolar\":[{\"marker\":{\"line\":{\"color\":\"#E5ECF6\",\"width\":0.5},\"pattern\":{\"fillmode\":\"overlay\",\"size\":10,\"solidity\":0.2}},\"type\":\"barpolar\"}],\"pie\":[{\"automargin\":true,\"type\":\"pie\"}]},\"layout\":{\"autotypenumbers\":\"strict\",\"colorway\":[\"#636efa\",\"#EF553B\",\"#00cc96\",\"#ab63fa\",\"#FFA15A\",\"#19d3f3\",\"#FF6692\",\"#B6E880\",\"#FF97FF\",\"#FECB52\"],\"font\":{\"color\":\"#2a3f5f\"},\"hovermode\":\"closest\",\"hoverlabel\":{\"align\":\"left\"},\"paper_bgcolor\":\"white\",\"plot_bgcolor\":\"#E5ECF6\",\"polar\":{\"bgcolor\":\"#E5ECF6\",\"angularaxis\":{\"gridcolor\":\"white\",\"linecolor\":\"white\",\"ticks\":\"\"},\"radialaxis\":{\"gridcolor\":\"white\",\"linecolor\":\"white\",\"ticks\":\"\"}},\"ternary\":{\"bgcolor\":\"#E5ECF6\",\"aaxis\":{\"gridcolor\":\"white\",\"linecolor\":\"white\",\"ticks\":\"\"},\"baxis\":{\"gridcolor\":\"white\",\"linecolor\":\"white\",\"ticks\":\"\"},\"caxis\":{\"gridcolor\":\"white\",\"linecolor\":\"white\",\"ticks\":\"\"}},\"coloraxis\":{\"colorbar\":{\"outlinewidth\":0,\"ticks\":\"\"}},\"colorscale\":{\"sequential\":[[0.0,\"#0d0887\"],[0.1111111111111111,\"#46039f\"],[0.2222222222222222,\"#7201a8\"],[0.3333333333333333,\"#9c179e\"],[0.4444444444444444,\"#bd3786\"],[0.5555555555555556,\"#d8576b\"],[0.6666666666666666,\"#ed7953\"],[0.7777777777777778,\"#fb9f3a\"],[0.8888888888888888,\"#fdca26\"],[1.0,\"#f0f921\"]],\"sequentialminus\":[[0.0,\"#0d0887\"],[0.1111111111111111,\"#46039f\"],[0.2222222222222222,\"#7201a8\"],[0.3333333333333333,\"#9c179e\"],[0.4444444444444444,\"#bd3786\"],[0.5555555555555556,\"#d8576b\"],[0.6666666666666666,\"#ed7953\"],[0.7777777777777778,\"#fb9f3a\"],[0.8888888888888888,\"#fdca26\"],[1.0,\"#f0f921\"]],\"diverging\":[[0,\"#8e0152\"],[0.1,\"#c51b7d\"],[0.2,\"#de77ae\"],[0.3,\"#f1b6da\"],[0.4,\"#fde0ef\"],[0.5,\"#f7f7f7\"],[0.6,\"#e6f5d0\"],[0.7,\"#b8e186\"],[0.8,\"#7fbc41\"],[0.9,\"#4d9221\"],[1,\"#276419\"]]},\"xaxis\":{\"gridcolor\":\"white\",\"linecolor\":\"white\",\"ticks\":\"\",\"title\":{\"standoff\":15},\"zerolinecolor\":\"white\",\"automargin\":true,\"zerolinewidth\":2},\"yaxis\":{\"gridcolor\":\"white\",\"linecolor\":\"white\",\"ticks\":\"\",\"title\":{\"standoff\":15},\"zerolinecolor\":\"white\",\"automargin\":true,\"zerolinewidth\":2},\"scene\":{\"xaxis\":{\"backgroundcolor\":\"#E5ECF6\",\"gridcolor\":\"white\",\"linecolor\":\"white\",\"showbackground\":true,\"ticks\":\"\",\"zerolinecolor\":\"white\",\"gridwidth\":2},\"yaxis\":{\"backgroundcolor\":\"#E5ECF6\",\"gridcolor\":\"white\",\"linecolor\":\"white\",\"showbackground\":true,\"ticks\":\"\",\"zerolinecolor\":\"white\",\"gridwidth\":2},\"zaxis\":{\"backgroundcolor\":\"#E5ECF6\",\"gridcolor\":\"white\",\"linecolor\":\"white\",\"showbackground\":true,\"ticks\":\"\",\"zerolinecolor\":\"white\",\"gridwidth\":2}},\"shapedefaults\":{\"line\":{\"color\":\"#2a3f5f\"}},\"annotationdefaults\":{\"arrowcolor\":\"#2a3f5f\",\"arrowhead\":0,\"arrowwidth\":1},\"geo\":{\"bgcolor\":\"white\",\"landcolor\":\"#E5ECF6\",\"subunitcolor\":\"white\",\"showland\":true,\"showlakes\":true,\"lakecolor\":\"white\"},\"title\":{\"x\":0.05},\"mapbox\":{\"style\":\"light\"}}},\"xaxis\":{\"tickangle\":-45},\"barmode\":\"group\",\"title\":{\"text\":\" Monthwise High and Low Price\"}},                        {\"responsive\": true}                    ).then(function(){\n",
       "                            \n",
       "var gd = document.getElementById('a877d3de-202b-45bc-8faf-267406e30d66');\n",
       "var x = new MutationObserver(function (mutations, observer) {{\n",
       "        var display = window.getComputedStyle(gd).display;\n",
       "        if (!display || display === 'none') {{\n",
       "            console.log([gd, 'removed!']);\n",
       "            Plotly.purge(gd);\n",
       "            observer.disconnect();\n",
       "        }}\n",
       "}});\n",
       "\n",
       "// Listen for the removal of the full notebook cells\n",
       "var notebookContainer = gd.closest('#notebook-container');\n",
       "if (notebookContainer) {{\n",
       "    x.observe(notebookContainer, {childList: true});\n",
       "}}\n",
       "\n",
       "// Listen for the clearing of the current output cell\n",
       "var outputEl = gd.closest('.output');\n",
       "if (outputEl) {{\n",
       "    x.observe(outputEl, {childList: true});\n",
       "}}\n",
       "\n",
       "                        })                };                });            </script>        </div>"
      ]
     },
     "metadata": {},
     "output_type": "display_data"
    }
   ],
   "source": [
    "fig = go.Figure()\n",
    "fig.add_trace(go.Bar(\n",
    "    x = monthwise_high.Date,\n",
    "    y = monthwise_high.High,\n",
    "    name = 'Stock High Price',\n",
    "    marker_color = 'purple'\n",
    "))\n",
    "fig.add_trace(go.Bar(\n",
    "    x = monthwise_low.Date,\n",
    "    y = monthwise_low.Low,\n",
    "    name = 'Stock Low Price',\n",
    "    marker_color='pink'\n",
    "))\n",
    "\n",
    "fig.update_layout(barmode='group', xaxis_tickangle = -45,\n",
    "                  title=' Monthwise High and Low Price')\n",
    "fig.show()"
   ]
  },
  {
   "cell_type": "markdown",
   "id": "a2864bd3",
   "metadata": {
    "id": "BCTF0_GxLZpH",
    "papermill": {
     "duration": 0.014476,
     "end_time": "2023-03-10T08:30:25.236512",
     "exception": false,
     "start_time": "2023-03-10T08:30:25.222036",
     "status": "completed"
    },
    "tags": []
   },
   "source": [
    "Trend comparision between open, high and low prices"
   ]
  },
  {
   "cell_type": "code",
   "execution_count": 13,
   "id": "e981037d",
   "metadata": {
    "execution": {
     "iopub.execute_input": "2023-03-10T08:30:25.267079Z",
     "iopub.status.busy": "2023-03-10T08:30:25.266673Z",
     "iopub.status.idle": "2023-03-10T08:30:27.022629Z",
     "shell.execute_reply": "2023-03-10T08:30:27.021268Z"
    },
    "id": "7azjDCoRXD4G",
    "outputId": "57cc7205-59d5-499f-9eaf-05b62b09afcb",
    "papermill": {
     "duration": 1.778255,
     "end_time": "2023-03-10T08:30:27.029097",
     "exception": false,
     "start_time": "2023-03-10T08:30:25.250842",
     "status": "completed"
    },
    "tags": []
   },
   "outputs": [
    {
     "data": {
      "text/html": [
       "<div>                            <div id=\"09f80bfa-5309-4a3e-b5df-fbe1163eaeb9\" class=\"plotly-graph-div\" style=\"height:525px; width:100%;\"></div>            <script type=\"text/javascript\">                require([\"plotly\"], function(Plotly) {                    window.PLOTLYENV=window.PLOTLYENV || {};                                    if (document.getElementById(\"09f80bfa-5309-4a3e-b5df-fbe1163eaeb9\")) {                    Plotly.newPlot(                        \"09f80bfa-5309-4a3e-b5df-fbe1163eaeb9\",                        [{\"hovertemplate\":\"variable=Open<br>Date=%{x}<br>Eth value=%{y}<extra></extra>\",\"legendgroup\":\"Open\",\"line\":{\"color\":\"#636efa\",\"dash\":\"solid\"},\"marker\":{\"symbol\":\"circle\"},\"mode\":\"lines\",\"name\":\"Eth Open Price\",\"showlegend\":true,\"x\":[\"2023-03-08T00:00:00\",\"2023-03-07T00:00:00\",\"2023-03-06T00:00:00\",\"2023-03-05T00:00:00\",\"2023-03-04T00:00:00\",\"2023-03-03T00:00:00\",\"2023-03-02T00:00:00\",\"2023-03-01T00:00:00\",\"2023-02-28T00:00:00\",\"2023-02-27T00:00:00\",\"2023-02-26T00:00:00\",\"2023-02-25T00:00:00\",\"2023-02-24T00:00:00\",\"2023-02-23T00:00:00\",\"2023-02-22T00:00:00\",\"2023-02-21T00:00:00\",\"2023-02-20T00:00:00\",\"2023-02-19T00:00:00\",\"2023-02-18T00:00:00\",\"2023-02-17T00:00:00\",\"2023-02-16T00:00:00\",\"2023-02-15T00:00:00\",\"2023-02-14T00:00:00\",\"2023-02-13T00:00:00\",\"2023-02-12T00:00:00\",\"2023-02-11T00:00:00\",\"2023-02-10T00:00:00\",\"2023-02-09T00:00:00\",\"2023-02-08T00:00:00\",\"2023-02-07T00:00:00\",\"2023-02-06T00:00:00\",\"2023-02-05T00:00:00\",\"2023-02-04T00:00:00\",\"2023-02-03T00:00:00\",\"2023-02-02T00:00:00\",\"2023-02-01T00:00:00\",\"2023-01-31T00:00:00\",\"2023-01-30T00:00:00\",\"2023-01-29T00:00:00\",\"2023-01-28T00:00:00\",\"2023-01-27T00:00:00\",\"2023-01-26T00:00:00\",\"2023-01-25T00:00:00\",\"2023-01-24T00:00:00\",\"2023-01-23T00:00:00\",\"2023-01-22T00:00:00\",\"2023-01-21T00:00:00\",\"2023-01-20T00:00:00\",\"2023-01-19T00:00:00\",\"2023-01-18T00:00:00\",\"2023-01-17T00:00:00\",\"2023-01-16T00:00:00\",\"2023-01-15T00:00:00\",\"2023-01-14T00:00:00\",\"2023-01-13T00:00:00\",\"2023-01-12T00:00:00\",\"2023-01-11T00:00:00\",\"2023-01-10T00:00:00\",\"2023-01-09T00:00:00\",\"2023-01-08T00:00:00\",\"2023-01-07T00:00:00\",\"2023-01-06T00:00:00\",\"2023-01-05T00:00:00\",\"2023-01-04T00:00:00\",\"2023-01-03T00:00:00\",\"2023-01-02T00:00:00\",\"2023-01-01T00:00:00\",\"2022-12-31T00:00:00\",\"2022-12-30T00:00:00\",\"2022-12-29T00:00:00\",\"2022-12-28T00:00:00\",\"2022-12-27T00:00:00\",\"2022-12-26T00:00:00\",\"2022-12-25T00:00:00\",\"2022-12-24T00:00:00\",\"2022-12-23T00:00:00\",\"2022-12-22T00:00:00\",\"2022-12-21T00:00:00\",\"2022-12-20T00:00:00\",\"2022-12-19T00:00:00\",\"2022-12-18T00:00:00\",\"2022-12-17T00:00:00\",\"2022-12-16T00:00:00\",\"2022-12-15T00:00:00\",\"2022-12-14T00:00:00\",\"2022-12-13T00:00:00\",\"2022-12-12T00:00:00\",\"2022-12-11T00:00:00\",\"2022-12-10T00:00:00\",\"2022-12-09T00:00:00\",\"2022-12-08T00:00:00\",\"2022-12-07T00:00:00\",\"2022-12-06T00:00:00\",\"2022-12-05T00:00:00\",\"2022-12-04T00:00:00\",\"2022-12-03T00:00:00\",\"2022-12-02T00:00:00\",\"2022-12-01T00:00:00\",\"2022-11-30T00:00:00\",\"2022-11-29T00:00:00\",\"2022-11-28T00:00:00\",\"2022-11-27T00:00:00\",\"2022-11-26T00:00:00\",\"2022-11-25T00:00:00\",\"2022-11-24T00:00:00\",\"2022-11-23T00:00:00\",\"2022-11-22T00:00:00\",\"2022-11-21T00:00:00\",\"2022-11-20T00:00:00\",\"2022-11-19T00:00:00\",\"2022-11-18T00:00:00\",\"2022-11-17T00:00:00\",\"2022-11-16T00:00:00\",\"2022-11-15T00:00:00\",\"2022-11-14T00:00:00\",\"2022-11-13T00:00:00\",\"2022-11-12T00:00:00\",\"2022-11-11T00:00:00\",\"2022-11-10T00:00:00\",\"2022-11-09T00:00:00\",\"2022-11-08T00:00:00\",\"2022-11-07T00:00:00\",\"2022-11-06T00:00:00\",\"2022-11-05T00:00:00\",\"2022-11-04T00:00:00\",\"2022-11-03T00:00:00\",\"2022-11-02T00:00:00\",\"2022-11-01T00:00:00\",\"2022-10-31T00:00:00\",\"2022-10-30T00:00:00\",\"2022-10-29T00:00:00\",\"2022-10-28T00:00:00\",\"2022-10-27T00:00:00\",\"2022-10-26T00:00:00\",\"2022-10-25T00:00:00\",\"2022-10-24T00:00:00\",\"2022-10-23T00:00:00\",\"2022-10-22T00:00:00\",\"2022-10-21T00:00:00\",\"2022-10-20T00:00:00\",\"2022-10-19T00:00:00\",\"2022-10-18T00:00:00\",\"2022-10-17T00:00:00\",\"2022-10-16T00:00:00\",\"2022-10-15T00:00:00\",\"2022-10-14T00:00:00\",\"2022-10-13T00:00:00\",\"2022-10-12T00:00:00\",\"2022-10-11T00:00:00\",\"2022-10-10T00:00:00\",\"2022-10-09T00:00:00\",\"2022-10-08T00:00:00\",\"2022-10-07T00:00:00\",\"2022-10-06T00:00:00\",\"2022-10-05T00:00:00\",\"2022-10-04T00:00:00\",\"2022-10-03T00:00:00\",\"2022-10-02T00:00:00\",\"2022-10-01T00:00:00\",\"2022-09-30T00:00:00\",\"2022-09-29T00:00:00\",\"2022-09-28T00:00:00\",\"2022-09-27T00:00:00\",\"2022-09-26T00:00:00\",\"2022-09-25T00:00:00\",\"2022-09-24T00:00:00\",\"2022-09-23T00:00:00\",\"2022-09-22T00:00:00\",\"2022-09-21T00:00:00\",\"2022-09-20T00:00:00\",\"2022-09-19T00:00:00\",\"2022-09-18T00:00:00\",\"2022-09-17T00:00:00\",\"2022-09-16T00:00:00\",\"2022-09-15T00:00:00\",\"2022-09-14T00:00:00\",\"2022-09-13T00:00:00\",\"2022-09-12T00:00:00\",\"2022-09-11T00:00:00\",\"2022-09-10T00:00:00\",\"2022-09-09T00:00:00\",\"2022-09-08T00:00:00\",\"2022-09-07T00:00:00\",\"2022-09-06T00:00:00\",\"2022-09-05T00:00:00\",\"2022-09-04T00:00:00\",\"2022-09-03T00:00:00\",\"2022-09-02T00:00:00\",\"2022-09-01T00:00:00\",\"2022-08-31T00:00:00\",\"2022-08-30T00:00:00\",\"2022-08-29T00:00:00\",\"2022-08-28T00:00:00\",\"2022-08-27T00:00:00\",\"2022-08-26T00:00:00\",\"2022-08-25T00:00:00\",\"2022-08-24T00:00:00\",\"2022-08-23T00:00:00\",\"2022-08-22T00:00:00\",\"2022-08-21T00:00:00\",\"2022-08-20T00:00:00\",\"2022-08-19T00:00:00\",\"2022-08-18T00:00:00\",\"2022-08-17T00:00:00\",\"2022-08-16T00:00:00\",\"2022-08-15T00:00:00\",\"2022-08-14T00:00:00\",\"2022-08-13T00:00:00\",\"2022-08-12T00:00:00\",\"2022-08-11T00:00:00\",\"2022-08-10T00:00:00\",\"2022-08-09T00:00:00\",\"2022-08-08T00:00:00\",\"2022-08-07T00:00:00\",\"2022-08-06T00:00:00\",\"2022-08-05T00:00:00\",\"2022-08-04T00:00:00\",\"2022-08-03T00:00:00\",\"2022-08-02T00:00:00\",\"2022-08-01T00:00:00\",\"2022-07-31T00:00:00\",\"2022-07-30T00:00:00\",\"2022-07-29T00:00:00\",\"2022-07-28T00:00:00\",\"2022-07-27T00:00:00\",\"2022-07-26T00:00:00\",\"2022-07-25T00:00:00\",\"2022-07-24T00:00:00\",\"2022-07-23T00:00:00\",\"2022-07-22T00:00:00\",\"2022-07-21T00:00:00\",\"2022-07-20T00:00:00\",\"2022-07-19T00:00:00\",\"2022-07-18T00:00:00\",\"2022-07-17T00:00:00\",\"2022-07-16T00:00:00\",\"2022-07-15T00:00:00\",\"2022-07-14T00:00:00\",\"2022-07-13T00:00:00\",\"2022-07-12T00:00:00\",\"2022-07-11T00:00:00\",\"2022-07-10T00:00:00\",\"2022-07-09T00:00:00\",\"2022-07-08T00:00:00\",\"2022-07-07T00:00:00\",\"2022-07-06T00:00:00\",\"2022-07-05T00:00:00\",\"2022-07-04T00:00:00\",\"2022-07-03T00:00:00\",\"2022-07-02T00:00:00\",\"2022-07-01T00:00:00\",\"2022-06-30T00:00:00\",\"2022-06-29T00:00:00\",\"2022-06-28T00:00:00\",\"2022-06-27T00:00:00\",\"2022-06-26T00:00:00\",\"2022-06-25T00:00:00\",\"2022-06-24T00:00:00\",\"2022-06-23T00:00:00\",\"2022-06-22T00:00:00\",\"2022-06-21T00:00:00\",\"2022-06-20T00:00:00\",\"2022-06-19T00:00:00\",\"2022-06-18T00:00:00\",\"2022-06-17T00:00:00\",\"2022-06-16T00:00:00\",\"2022-06-15T00:00:00\",\"2022-06-14T00:00:00\",\"2022-06-13T00:00:00\",\"2022-06-12T00:00:00\",\"2022-06-11T00:00:00\",\"2022-06-10T00:00:00\",\"2022-06-09T00:00:00\",\"2022-06-08T00:00:00\",\"2022-06-07T00:00:00\",\"2022-06-06T00:00:00\",\"2022-06-05T00:00:00\",\"2022-06-04T00:00:00\",\"2022-06-03T00:00:00\",\"2022-06-02T00:00:00\",\"2022-06-01T00:00:00\",\"2022-05-31T00:00:00\",\"2022-05-30T00:00:00\",\"2022-05-29T00:00:00\",\"2022-05-28T00:00:00\",\"2022-05-27T00:00:00\",\"2022-05-26T00:00:00\",\"2022-05-25T00:00:00\",\"2022-05-24T00:00:00\",\"2022-05-23T00:00:00\",\"2022-05-22T00:00:00\",\"2022-05-21T00:00:00\",\"2022-05-20T00:00:00\",\"2022-05-19T00:00:00\",\"2022-05-18T00:00:00\",\"2022-05-17T00:00:00\",\"2022-05-16T00:00:00\",\"2022-05-15T00:00:00\",\"2022-05-14T00:00:00\",\"2022-05-13T00:00:00\",\"2022-05-12T00:00:00\",\"2022-05-11T00:00:00\",\"2022-05-10T00:00:00\",\"2022-05-09T00:00:00\",\"2022-05-08T00:00:00\",\"2022-05-07T00:00:00\",\"2022-05-06T00:00:00\",\"2022-05-05T00:00:00\",\"2022-05-04T00:00:00\",\"2022-05-03T00:00:00\",\"2022-05-02T00:00:00\",\"2022-05-01T00:00:00\",\"2022-04-30T00:00:00\",\"2022-04-29T00:00:00\",\"2022-04-28T00:00:00\",\"2022-04-27T00:00:00\",\"2022-04-26T00:00:00\",\"2022-04-25T00:00:00\",\"2022-04-24T00:00:00\",\"2022-04-23T00:00:00\",\"2022-04-22T00:00:00\",\"2022-04-21T00:00:00\",\"2022-04-20T00:00:00\",\"2022-04-19T00:00:00\",\"2022-04-18T00:00:00\",\"2022-04-17T00:00:00\",\"2022-04-16T00:00:00\",\"2022-04-15T00:00:00\",\"2022-04-14T00:00:00\",\"2022-04-13T00:00:00\",\"2022-04-12T00:00:00\",\"2022-04-11T00:00:00\",\"2022-04-10T00:00:00\",\"2022-04-09T00:00:00\",\"2022-04-08T00:00:00\",\"2022-04-07T00:00:00\",\"2022-04-06T00:00:00\",\"2022-04-05T00:00:00\",\"2022-04-04T00:00:00\",\"2022-04-03T00:00:00\",\"2022-04-02T00:00:00\",\"2022-04-01T00:00:00\",\"2022-03-31T00:00:00\",\"2022-03-30T00:00:00\",\"2022-03-29T00:00:00\",\"2022-03-28T00:00:00\",\"2022-03-27T00:00:00\",\"2022-03-26T00:00:00\",\"2022-03-25T00:00:00\",\"2022-03-24T00:00:00\",\"2022-03-23T00:00:00\",\"2022-03-22T00:00:00\",\"2022-03-21T00:00:00\",\"2022-03-20T00:00:00\",\"2022-03-19T00:00:00\",\"2022-03-18T00:00:00\",\"2022-03-17T00:00:00\",\"2022-03-16T00:00:00\",\"2022-03-15T00:00:00\",\"2022-03-14T00:00:00\",\"2022-03-13T00:00:00\",\"2022-03-12T00:00:00\",\"2022-03-11T00:00:00\",\"2022-03-10T00:00:00\",\"2022-03-09T00:00:00\",\"2022-03-08T00:00:00\",\"2022-03-07T00:00:00\",\"2022-03-06T00:00:00\",\"2022-03-05T00:00:00\",\"2022-03-04T00:00:00\",\"2022-03-03T00:00:00\",\"2022-03-02T00:00:00\",\"2022-03-01T00:00:00\",\"2022-02-28T00:00:00\",\"2022-02-27T00:00:00\",\"2022-02-26T00:00:00\",\"2022-02-25T00:00:00\",\"2022-02-24T00:00:00\",\"2022-02-23T00:00:00\",\"2022-02-22T00:00:00\",\"2022-02-21T00:00:00\",\"2022-02-20T00:00:00\",\"2022-02-19T00:00:00\",\"2022-02-18T00:00:00\",\"2022-02-17T00:00:00\",\"2022-02-16T00:00:00\",\"2022-02-15T00:00:00\",\"2022-02-14T00:00:00\",\"2022-02-13T00:00:00\",\"2022-02-12T00:00:00\",\"2022-02-11T00:00:00\",\"2022-02-10T00:00:00\",\"2022-02-09T00:00:00\",\"2022-02-08T00:00:00\",\"2022-02-07T00:00:00\",\"2022-02-06T00:00:00\",\"2022-02-05T00:00:00\",\"2022-02-04T00:00:00\",\"2022-02-03T00:00:00\",\"2022-02-02T00:00:00\",\"2022-02-01T00:00:00\",\"2022-01-31T00:00:00\",\"2022-01-30T00:00:00\",\"2022-01-29T00:00:00\",\"2022-01-28T00:00:00\",\"2022-01-27T00:00:00\",\"2022-01-26T00:00:00\",\"2022-01-25T00:00:00\",\"2022-01-24T00:00:00\",\"2022-01-23T00:00:00\",\"2022-01-22T00:00:00\",\"2022-01-21T00:00:00\",\"2022-01-20T00:00:00\",\"2022-01-19T00:00:00\",\"2022-01-18T00:00:00\",\"2022-01-17T00:00:00\",\"2022-01-16T00:00:00\",\"2022-01-15T00:00:00\",\"2022-01-14T00:00:00\",\"2022-01-13T00:00:00\",\"2022-01-12T00:00:00\",\"2022-01-11T00:00:00\",\"2022-01-10T00:00:00\",\"2022-01-09T00:00:00\",\"2022-01-08T00:00:00\",\"2022-01-07T00:00:00\",\"2022-01-06T00:00:00\",\"2022-01-05T00:00:00\",\"2022-01-04T00:00:00\",\"2022-01-03T00:00:00\",\"2022-01-02T00:00:00\",\"2022-01-01T00:00:00\",\"2021-12-31T00:00:00\",\"2021-12-30T00:00:00\",\"2021-12-29T00:00:00\",\"2021-12-28T00:00:00\",\"2021-12-27T00:00:00\",\"2021-12-26T00:00:00\",\"2021-12-25T00:00:00\",\"2021-12-24T00:00:00\",\"2021-12-23T00:00:00\",\"2021-12-22T00:00:00\",\"2021-12-21T00:00:00\",\"2021-12-20T00:00:00\",\"2021-12-19T00:00:00\",\"2021-12-18T00:00:00\",\"2021-12-17T00:00:00\",\"2021-12-16T00:00:00\",\"2021-12-15T00:00:00\",\"2021-12-14T00:00:00\",\"2021-12-13T00:00:00\",\"2021-12-12T00:00:00\",\"2021-12-11T00:00:00\",\"2021-12-10T00:00:00\",\"2021-12-09T00:00:00\",\"2021-12-08T00:00:00\",\"2021-12-07T00:00:00\",\"2021-12-06T00:00:00\",\"2021-12-05T00:00:00\",\"2021-12-04T00:00:00\",\"2021-12-03T00:00:00\",\"2021-12-02T00:00:00\",\"2021-12-01T00:00:00\",\"2021-11-30T00:00:00\",\"2021-11-29T00:00:00\",\"2021-11-28T00:00:00\",\"2021-11-27T00:00:00\",\"2021-11-26T00:00:00\",\"2021-11-25T00:00:00\",\"2021-11-24T00:00:00\",\"2021-11-23T00:00:00\",\"2021-11-22T00:00:00\",\"2021-11-21T00:00:00\",\"2021-11-20T00:00:00\",\"2021-11-19T00:00:00\",\"2021-11-18T00:00:00\",\"2021-11-17T00:00:00\",\"2021-11-16T00:00:00\",\"2021-11-15T00:00:00\",\"2021-11-14T00:00:00\",\"2021-11-13T00:00:00\",\"2021-11-12T00:00:00\",\"2021-11-11T00:00:00\",\"2021-11-10T00:00:00\",\"2021-11-09T00:00:00\",\"2021-11-08T00:00:00\",\"2021-11-07T00:00:00\",\"2021-11-06T00:00:00\",\"2021-11-05T00:00:00\",\"2021-11-04T00:00:00\",\"2021-11-03T00:00:00\",\"2021-11-02T00:00:00\",\"2021-11-01T00:00:00\",\"2021-10-31T00:00:00\",\"2021-10-30T00:00:00\",\"2021-10-29T00:00:00\",\"2021-10-28T00:00:00\",\"2021-10-27T00:00:00\",\"2021-10-26T00:00:00\",\"2021-10-25T00:00:00\",\"2021-10-24T00:00:00\",\"2021-10-23T00:00:00\",\"2021-10-22T00:00:00\",\"2021-10-21T00:00:00\",\"2021-10-20T00:00:00\",\"2021-10-19T00:00:00\",\"2021-10-18T00:00:00\",\"2021-10-17T00:00:00\",\"2021-10-16T00:00:00\",\"2021-10-15T00:00:00\",\"2021-10-14T00:00:00\",\"2021-10-13T00:00:00\",\"2021-10-12T00:00:00\",\"2021-10-11T00:00:00\",\"2021-10-10T00:00:00\",\"2021-10-09T00:00:00\",\"2021-10-08T00:00:00\",\"2021-10-07T00:00:00\",\"2021-10-06T00:00:00\",\"2021-10-05T00:00:00\",\"2021-10-04T00:00:00\",\"2021-10-03T00:00:00\",\"2021-10-02T00:00:00\",\"2021-10-01T00:00:00\",\"2021-09-30T00:00:00\",\"2021-09-29T00:00:00\",\"2021-09-28T00:00:00\",\"2021-09-27T00:00:00\",\"2021-09-26T00:00:00\",\"2021-09-25T00:00:00\",\"2021-09-24T00:00:00\",\"2021-09-23T00:00:00\",\"2021-09-22T00:00:00\",\"2021-09-21T00:00:00\",\"2021-09-20T00:00:00\",\"2021-09-19T00:00:00\",\"2021-09-18T00:00:00\",\"2021-09-17T00:00:00\",\"2021-09-16T00:00:00\",\"2021-09-15T00:00:00\",\"2021-09-14T00:00:00\",\"2021-09-13T00:00:00\",\"2021-09-12T00:00:00\",\"2021-09-11T00:00:00\",\"2021-09-10T00:00:00\",\"2021-09-09T00:00:00\",\"2021-09-08T00:00:00\",\"2021-09-07T00:00:00\",\"2021-09-06T00:00:00\",\"2021-09-05T00:00:00\",\"2021-09-04T00:00:00\",\"2021-09-03T00:00:00\",\"2021-09-02T00:00:00\",\"2021-09-01T00:00:00\",\"2021-08-31T00:00:00\",\"2021-08-30T00:00:00\",\"2021-08-29T00:00:00\",\"2021-08-28T00:00:00\",\"2021-08-27T00:00:00\",\"2021-08-26T00:00:00\",\"2021-08-25T00:00:00\",\"2021-08-24T00:00:00\",\"2021-08-23T00:00:00\",\"2021-08-22T00:00:00\",\"2021-08-21T00:00:00\",\"2021-08-20T00:00:00\",\"2021-08-19T00:00:00\",\"2021-08-18T00:00:00\",\"2021-08-17T00:00:00\",\"2021-08-16T00:00:00\",\"2021-08-15T00:00:00\",\"2021-08-14T00:00:00\",\"2021-08-13T00:00:00\",\"2021-08-12T00:00:00\",\"2021-08-11T00:00:00\",\"2021-08-10T00:00:00\",\"2021-08-09T00:00:00\",\"2021-08-08T00:00:00\",\"2021-08-07T00:00:00\",\"2021-08-06T00:00:00\",\"2021-08-05T00:00:00\",\"2021-08-04T00:00:00\",\"2021-08-03T00:00:00\",\"2021-08-02T00:00:00\",\"2021-08-01T00:00:00\",\"2021-07-31T00:00:00\",\"2021-07-30T00:00:00\",\"2021-07-29T00:00:00\",\"2021-07-28T00:00:00\",\"2021-07-27T00:00:00\",\"2021-07-26T00:00:00\",\"2021-07-25T00:00:00\",\"2021-07-24T00:00:00\",\"2021-07-23T00:00:00\",\"2021-07-22T00:00:00\",\"2021-07-21T00:00:00\",\"2021-07-20T00:00:00\",\"2021-07-19T00:00:00\",\"2021-07-18T00:00:00\",\"2021-07-17T00:00:00\",\"2021-07-16T00:00:00\",\"2021-07-15T00:00:00\",\"2021-07-14T00:00:00\",\"2021-07-13T00:00:00\",\"2021-07-12T00:00:00\",\"2021-07-11T00:00:00\",\"2021-07-10T00:00:00\",\"2021-07-09T00:00:00\",\"2021-07-08T00:00:00\",\"2021-07-07T00:00:00\",\"2021-07-06T00:00:00\",\"2021-07-05T00:00:00\",\"2021-07-04T00:00:00\",\"2021-07-03T00:00:00\",\"2021-07-02T00:00:00\",\"2021-07-01T00:00:00\",\"2021-06-30T00:00:00\",\"2021-06-29T00:00:00\",\"2021-06-28T00:00:00\",\"2021-06-27T00:00:00\",\"2021-06-26T00:00:00\",\"2021-06-25T00:00:00\",\"2021-06-24T00:00:00\",\"2021-06-23T00:00:00\",\"2021-06-22T00:00:00\",\"2021-06-21T00:00:00\",\"2021-06-20T00:00:00\",\"2021-06-19T00:00:00\",\"2021-06-18T00:00:00\",\"2021-06-17T00:00:00\",\"2021-06-16T00:00:00\",\"2021-06-15T00:00:00\",\"2021-06-14T00:00:00\",\"2021-06-13T00:00:00\",\"2021-06-12T00:00:00\",\"2021-06-11T00:00:00\",\"2021-06-10T00:00:00\",\"2021-06-09T00:00:00\",\"2021-06-08T00:00:00\",\"2021-06-07T00:00:00\",\"2021-06-06T00:00:00\",\"2021-06-05T00:00:00\",\"2021-06-04T00:00:00\",\"2021-06-03T00:00:00\",\"2021-06-02T00:00:00\",\"2021-06-01T00:00:00\",\"2021-05-31T00:00:00\",\"2021-05-30T00:00:00\",\"2021-05-29T00:00:00\",\"2021-05-28T00:00:00\",\"2021-05-27T00:00:00\",\"2021-05-26T00:00:00\",\"2021-05-25T00:00:00\",\"2021-05-24T00:00:00\",\"2021-05-23T00:00:00\",\"2021-05-22T00:00:00\",\"2021-05-21T00:00:00\",\"2021-05-20T00:00:00\",\"2021-05-19T00:00:00\",\"2021-05-18T00:00:00\",\"2021-05-17T00:00:00\",\"2021-05-16T00:00:00\",\"2021-05-15T00:00:00\",\"2021-05-14T00:00:00\",\"2021-05-13T00:00:00\",\"2021-05-12T00:00:00\",\"2021-05-11T00:00:00\",\"2021-05-10T00:00:00\",\"2021-05-09T00:00:00\",\"2021-05-08T00:00:00\",\"2021-05-07T00:00:00\",\"2021-05-06T00:00:00\",\"2021-05-05T00:00:00\",\"2021-05-04T00:00:00\",\"2021-05-03T00:00:00\",\"2021-05-02T00:00:00\",\"2021-05-01T00:00:00\",\"2021-04-30T00:00:00\",\"2021-04-29T00:00:00\",\"2021-04-28T00:00:00\",\"2021-04-27T00:00:00\",\"2021-04-26T00:00:00\",\"2021-04-25T00:00:00\",\"2021-04-24T00:00:00\",\"2021-04-23T00:00:00\",\"2021-04-22T00:00:00\",\"2021-04-21T00:00:00\",\"2021-04-20T00:00:00\",\"2021-04-19T00:00:00\",\"2021-04-18T00:00:00\",\"2021-04-17T00:00:00\",\"2021-04-16T00:00:00\",\"2021-04-15T00:00:00\",\"2021-04-14T00:00:00\",\"2021-04-13T00:00:00\",\"2021-04-12T00:00:00\",\"2021-04-11T00:00:00\",\"2021-04-10T00:00:00\",\"2021-04-09T00:00:00\",\"2021-04-08T00:00:00\",\"2021-04-07T00:00:00\",\"2021-04-06T00:00:00\",\"2021-04-05T00:00:00\",\"2021-04-04T00:00:00\",\"2021-04-03T00:00:00\",\"2021-04-02T00:00:00\",\"2021-04-01T00:00:00\",\"2021-03-31T00:00:00\",\"2021-03-30T00:00:00\",\"2021-03-29T00:00:00\",\"2021-03-28T00:00:00\",\"2021-03-27T00:00:00\",\"2021-03-26T00:00:00\",\"2021-03-25T00:00:00\",\"2021-03-24T00:00:00\",\"2021-03-23T00:00:00\",\"2021-03-22T00:00:00\",\"2021-03-21T00:00:00\",\"2021-03-20T00:00:00\",\"2021-03-19T00:00:00\",\"2021-03-18T00:00:00\",\"2021-03-17T00:00:00\",\"2021-03-16T00:00:00\",\"2021-03-15T00:00:00\",\"2021-03-14T00:00:00\",\"2021-03-13T00:00:00\",\"2021-03-12T00:00:00\",\"2021-03-11T00:00:00\",\"2021-03-10T00:00:00\",\"2021-03-09T00:00:00\",\"2021-03-08T00:00:00\",\"2021-03-07T00:00:00\",\"2021-03-06T00:00:00\",\"2021-03-05T00:00:00\",\"2021-03-04T00:00:00\",\"2021-03-03T00:00:00\",\"2021-03-02T00:00:00\",\"2021-03-01T00:00:00\",\"2021-02-28T00:00:00\",\"2021-02-27T00:00:00\",\"2021-02-26T00:00:00\",\"2021-02-25T00:00:00\",\"2021-02-24T00:00:00\",\"2021-02-23T00:00:00\",\"2021-02-22T00:00:00\",\"2021-02-21T00:00:00\",\"2021-02-20T00:00:00\",\"2021-02-19T00:00:00\",\"2021-02-18T00:00:00\",\"2021-02-17T00:00:00\",\"2021-02-16T00:00:00\",\"2021-02-15T00:00:00\",\"2021-02-14T00:00:00\",\"2021-02-13T00:00:00\",\"2021-02-12T00:00:00\",\"2021-02-11T00:00:00\",\"2021-02-10T00:00:00\",\"2021-02-09T00:00:00\",\"2021-02-08T00:00:00\",\"2021-02-07T00:00:00\",\"2021-02-06T00:00:00\",\"2021-02-05T00:00:00\",\"2021-02-04T00:00:00\",\"2021-02-03T00:00:00\",\"2021-02-02T00:00:00\",\"2021-02-01T00:00:00\",\"2021-01-31T00:00:00\",\"2021-01-30T00:00:00\",\"2021-01-29T00:00:00\",\"2021-01-28T00:00:00\",\"2021-01-27T00:00:00\",\"2021-01-26T00:00:00\",\"2021-01-25T00:00:00\",\"2021-01-24T00:00:00\",\"2021-01-23T00:00:00\",\"2021-01-22T00:00:00\",\"2021-01-21T00:00:00\",\"2021-01-20T00:00:00\",\"2021-01-19T00:00:00\",\"2021-01-18T00:00:00\",\"2021-01-17T00:00:00\",\"2021-01-16T00:00:00\",\"2021-01-15T00:00:00\",\"2021-01-14T00:00:00\",\"2021-01-13T00:00:00\",\"2021-01-12T00:00:00\",\"2021-01-11T00:00:00\",\"2021-01-10T00:00:00\",\"2021-01-09T00:00:00\",\"2021-01-08T00:00:00\",\"2021-01-07T00:00:00\",\"2021-01-06T00:00:00\",\"2021-01-05T00:00:00\",\"2021-01-04T00:00:00\",\"2021-01-03T00:00:00\",\"2021-01-02T00:00:00\",\"2021-01-01T00:00:00\",\"2020-12-31T00:00:00\",\"2020-12-30T00:00:00\",\"2020-12-29T00:00:00\",\"2020-12-28T00:00:00\",\"2020-12-27T00:00:00\",\"2020-12-26T00:00:00\",\"2020-12-25T00:00:00\",\"2020-12-24T00:00:00\",\"2020-12-23T00:00:00\",\"2020-12-22T00:00:00\",\"2020-12-21T00:00:00\",\"2020-12-20T00:00:00\",\"2020-12-19T00:00:00\",\"2020-12-18T00:00:00\",\"2020-12-17T00:00:00\",\"2020-12-16T00:00:00\",\"2020-12-15T00:00:00\",\"2020-12-14T00:00:00\",\"2020-12-13T00:00:00\",\"2020-12-12T00:00:00\",\"2020-12-11T00:00:00\",\"2020-12-10T00:00:00\",\"2020-12-09T00:00:00\",\"2020-12-08T00:00:00\",\"2020-12-07T00:00:00\",\"2020-12-06T00:00:00\",\"2020-12-05T00:00:00\",\"2020-12-04T00:00:00\",\"2020-12-03T00:00:00\",\"2020-12-02T00:00:00\",\"2020-12-01T00:00:00\",\"2020-11-30T00:00:00\",\"2020-11-29T00:00:00\",\"2020-11-28T00:00:00\",\"2020-11-27T00:00:00\",\"2020-11-26T00:00:00\",\"2020-11-25T00:00:00\",\"2020-11-24T00:00:00\",\"2020-11-23T00:00:00\",\"2020-11-22T00:00:00\",\"2020-11-21T00:00:00\",\"2020-11-20T00:00:00\",\"2020-11-19T00:00:00\",\"2020-11-18T00:00:00\",\"2020-11-17T00:00:00\",\"2020-11-16T00:00:00\",\"2020-11-15T00:00:00\",\"2020-11-14T00:00:00\",\"2020-11-13T00:00:00\",\"2020-11-12T00:00:00\",\"2020-11-11T00:00:00\",\"2020-11-10T00:00:00\",\"2020-11-09T00:00:00\",\"2020-11-08T00:00:00\",\"2020-11-07T00:00:00\",\"2020-11-06T00:00:00\",\"2020-11-05T00:00:00\",\"2020-11-04T00:00:00\",\"2020-11-03T00:00:00\",\"2020-11-02T00:00:00\",\"2020-11-01T00:00:00\",\"2020-10-31T00:00:00\",\"2020-10-30T00:00:00\",\"2020-10-29T00:00:00\",\"2020-10-28T00:00:00\",\"2020-10-27T00:00:00\",\"2020-10-26T00:00:00\",\"2020-10-25T00:00:00\",\"2020-10-24T00:00:00\",\"2020-10-23T00:00:00\",\"2020-10-22T00:00:00\",\"2020-10-21T00:00:00\",\"2020-10-20T00:00:00\",\"2020-10-19T00:00:00\",\"2020-10-18T00:00:00\",\"2020-10-17T00:00:00\",\"2020-10-16T00:00:00\",\"2020-10-15T00:00:00\",\"2020-10-14T00:00:00\",\"2020-10-13T00:00:00\",\"2020-10-12T00:00:00\",\"2020-10-11T00:00:00\",\"2020-10-10T00:00:00\",\"2020-10-09T00:00:00\",\"2020-10-08T00:00:00\",\"2020-10-07T00:00:00\",\"2020-10-06T00:00:00\",\"2020-10-05T00:00:00\",\"2020-10-04T00:00:00\",\"2020-10-03T00:00:00\",\"2020-10-02T00:00:00\",\"2020-10-01T00:00:00\",\"2020-09-30T00:00:00\",\"2020-09-29T00:00:00\",\"2020-09-28T00:00:00\",\"2020-09-27T00:00:00\",\"2020-09-26T00:00:00\",\"2020-09-25T00:00:00\",\"2020-09-24T00:00:00\",\"2020-09-23T00:00:00\",\"2020-09-22T00:00:00\",\"2020-09-21T00:00:00\",\"2020-09-20T00:00:00\",\"2020-09-19T00:00:00\",\"2020-09-18T00:00:00\",\"2020-09-17T00:00:00\",\"2020-09-16T00:00:00\",\"2020-09-15T00:00:00\",\"2020-09-14T00:00:00\",\"2020-09-13T00:00:00\",\"2020-09-12T00:00:00\",\"2020-09-11T00:00:00\",\"2020-09-10T00:00:00\",\"2020-09-09T00:00:00\",\"2020-09-08T00:00:00\",\"2020-09-07T00:00:00\",\"2020-09-06T00:00:00\",\"2020-09-05T00:00:00\",\"2020-09-04T00:00:00\",\"2020-09-03T00:00:00\",\"2020-09-02T00:00:00\",\"2020-09-01T00:00:00\",\"2020-08-31T00:00:00\",\"2020-08-30T00:00:00\",\"2020-08-29T00:00:00\",\"2020-08-28T00:00:00\",\"2020-08-27T00:00:00\",\"2020-08-26T00:00:00\",\"2020-08-25T00:00:00\",\"2020-08-24T00:00:00\",\"2020-08-23T00:00:00\",\"2020-08-22T00:00:00\",\"2020-08-21T00:00:00\",\"2020-08-20T00:00:00\",\"2020-08-19T00:00:00\",\"2020-08-18T00:00:00\",\"2020-08-17T00:00:00\",\"2020-08-16T00:00:00\",\"2020-08-15T00:00:00\",\"2020-08-14T00:00:00\",\"2020-08-13T00:00:00\",\"2020-08-12T00:00:00\",\"2020-08-11T00:00:00\",\"2020-08-10T00:00:00\",\"2020-08-09T00:00:00\",\"2020-08-08T00:00:00\",\"2020-08-07T00:00:00\",\"2020-08-06T00:00:00\",\"2020-08-05T00:00:00\",\"2020-08-04T00:00:00\",\"2020-08-03T00:00:00\",\"2020-08-02T00:00:00\",\"2020-08-01T00:00:00\",\"2020-07-31T00:00:00\",\"2020-07-30T00:00:00\",\"2020-07-29T00:00:00\",\"2020-07-28T00:00:00\",\"2020-07-27T00:00:00\",\"2020-07-26T00:00:00\",\"2020-07-25T00:00:00\",\"2020-07-24T00:00:00\",\"2020-07-23T00:00:00\",\"2020-07-22T00:00:00\",\"2020-07-21T00:00:00\",\"2020-07-20T00:00:00\",\"2020-07-19T00:00:00\",\"2020-07-18T00:00:00\",\"2020-07-17T00:00:00\",\"2020-07-16T00:00:00\",\"2020-07-15T00:00:00\",\"2020-07-14T00:00:00\",\"2020-07-13T00:00:00\",\"2020-07-12T00:00:00\",\"2020-07-11T00:00:00\",\"2020-07-10T00:00:00\",\"2020-07-09T00:00:00\",\"2020-07-08T00:00:00\",\"2020-07-07T00:00:00\",\"2020-07-06T00:00:00\",\"2020-07-05T00:00:00\",\"2020-07-04T00:00:00\",\"2020-07-03T00:00:00\",\"2020-07-02T00:00:00\",\"2020-07-01T00:00:00\",\"2020-06-30T00:00:00\",\"2020-06-29T00:00:00\",\"2020-06-28T00:00:00\",\"2020-06-27T00:00:00\",\"2020-06-26T00:00:00\",\"2020-06-25T00:00:00\",\"2020-06-24T00:00:00\",\"2020-06-23T00:00:00\",\"2020-06-22T00:00:00\",\"2020-06-21T00:00:00\",\"2020-06-20T00:00:00\",\"2020-06-19T00:00:00\",\"2020-06-18T00:00:00\",\"2020-06-17T00:00:00\",\"2020-06-16T00:00:00\",\"2020-06-15T00:00:00\",\"2020-06-14T00:00:00\",\"2020-06-13T00:00:00\",\"2020-06-12T00:00:00\",\"2020-06-11T00:00:00\",\"2020-06-10T00:00:00\",\"2020-06-09T00:00:00\",\"2020-06-08T00:00:00\",\"2020-06-07T00:00:00\",\"2020-06-06T00:00:00\",\"2020-06-05T00:00:00\",\"2020-06-04T00:00:00\",\"2020-06-03T00:00:00\",\"2020-06-02T00:00:00\",\"2020-06-01T00:00:00\",\"2020-05-31T00:00:00\",\"2020-05-30T00:00:00\",\"2020-05-29T00:00:00\",\"2020-05-28T00:00:00\",\"2020-05-27T00:00:00\",\"2020-05-26T00:00:00\",\"2020-05-25T00:00:00\",\"2020-05-24T00:00:00\",\"2020-05-23T00:00:00\",\"2020-05-22T00:00:00\",\"2020-05-21T00:00:00\",\"2020-05-20T00:00:00\",\"2020-05-19T00:00:00\",\"2020-05-18T00:00:00\",\"2020-05-17T00:00:00\",\"2020-05-16T00:00:00\",\"2020-05-15T00:00:00\",\"2020-05-14T00:00:00\",\"2020-05-13T00:00:00\",\"2020-05-12T00:00:00\",\"2020-05-11T00:00:00\",\"2020-05-10T00:00:00\",\"2020-05-09T00:00:00\",\"2020-05-08T00:00:00\",\"2020-05-07T00:00:00\",\"2020-05-06T00:00:00\",\"2020-05-05T00:00:00\",\"2020-05-04T00:00:00\",\"2020-05-03T00:00:00\",\"2020-05-02T00:00:00\",\"2020-05-01T00:00:00\",\"2020-04-30T00:00:00\",\"2020-04-29T00:00:00\",\"2020-04-28T00:00:00\",\"2020-04-27T00:00:00\",\"2020-04-26T00:00:00\",\"2020-04-25T00:00:00\",\"2020-04-24T00:00:00\",\"2020-04-23T00:00:00\",\"2020-04-22T00:00:00\",\"2020-04-21T00:00:00\",\"2020-04-20T00:00:00\",\"2020-04-19T00:00:00\",\"2020-04-18T00:00:00\",\"2020-04-17T00:00:00\",\"2020-04-16T00:00:00\",\"2020-04-15T00:00:00\",\"2020-04-14T00:00:00\",\"2020-04-13T00:00:00\",\"2020-04-12T00:00:00\",\"2020-04-11T00:00:00\",\"2020-04-10T00:00:00\",\"2020-04-09T00:00:00\",\"2020-04-08T00:00:00\",\"2020-04-07T00:00:00\",\"2020-04-06T00:00:00\",\"2020-04-05T00:00:00\",\"2020-04-04T00:00:00\",\"2020-04-03T00:00:00\",\"2020-04-02T00:00:00\",\"2020-04-01T00:00:00\",\"2020-03-31T00:00:00\",\"2020-03-30T00:00:00\",\"2020-03-29T00:00:00\",\"2020-03-28T00:00:00\",\"2020-03-27T00:00:00\",\"2020-03-26T00:00:00\",\"2020-03-25T00:00:00\",\"2020-03-24T00:00:00\",\"2020-03-23T00:00:00\",\"2020-03-22T00:00:00\",\"2020-03-21T00:00:00\",\"2020-03-20T00:00:00\",\"2020-03-19T00:00:00\",\"2020-03-18T00:00:00\",\"2020-03-17T00:00:00\",\"2020-03-16T00:00:00\",\"2020-03-15T00:00:00\",\"2020-03-14T00:00:00\",\"2020-03-13T00:00:00\",\"2020-03-12T00:00:00\",\"2020-03-11T00:00:00\",\"2020-03-10T00:00:00\",\"2020-03-09T00:00:00\",\"2020-03-08T00:00:00\",\"2020-03-07T00:00:00\",\"2020-03-06T00:00:00\",\"2020-03-05T00:00:00\",\"2020-03-04T00:00:00\",\"2020-03-03T00:00:00\",\"2020-03-02T00:00:00\",\"2020-03-01T00:00:00\",\"2020-02-29T00:00:00\",\"2020-02-28T00:00:00\",\"2020-02-27T00:00:00\",\"2020-02-26T00:00:00\",\"2020-02-25T00:00:00\",\"2020-02-24T00:00:00\",\"2020-02-23T00:00:00\",\"2020-02-22T00:00:00\",\"2020-02-21T00:00:00\",\"2020-02-20T00:00:00\",\"2020-02-19T00:00:00\",\"2020-02-18T00:00:00\",\"2020-02-17T00:00:00\",\"2020-02-16T00:00:00\",\"2020-02-15T00:00:00\",\"2020-02-14T00:00:00\",\"2020-02-13T00:00:00\",\"2020-02-12T00:00:00\",\"2020-02-11T00:00:00\",\"2020-02-10T00:00:00\",\"2020-02-09T00:00:00\",\"2020-02-08T00:00:00\",\"2020-02-07T00:00:00\",\"2020-02-06T00:00:00\",\"2020-02-05T00:00:00\",\"2020-02-04T00:00:00\",\"2020-02-03T00:00:00\",\"2020-02-02T00:00:00\",\"2020-02-01T00:00:00\",\"2020-01-31T00:00:00\",\"2020-01-30T00:00:00\",\"2020-01-29T00:00:00\",\"2020-01-28T00:00:00\",\"2020-01-27T00:00:00\",\"2020-01-26T00:00:00\",\"2020-01-25T00:00:00\",\"2020-01-24T00:00:00\",\"2020-01-23T00:00:00\",\"2020-01-22T00:00:00\",\"2020-01-21T00:00:00\",\"2020-01-20T00:00:00\",\"2020-01-19T00:00:00\",\"2020-01-18T00:00:00\",\"2020-01-17T00:00:00\",\"2020-01-16T00:00:00\",\"2020-01-15T00:00:00\",\"2020-01-14T00:00:00\",\"2020-01-13T00:00:00\",\"2020-01-12T00:00:00\",\"2020-01-11T00:00:00\",\"2020-01-10T00:00:00\",\"2020-01-09T00:00:00\",\"2020-01-08T00:00:00\",\"2020-01-07T00:00:00\",\"2020-01-06T00:00:00\",\"2020-01-05T00:00:00\",\"2020-01-04T00:00:00\",\"2020-01-03T00:00:00\",\"2020-01-02T00:00:00\",\"2020-01-01T00:00:00\",\"2019-12-31T00:00:00\",\"2019-12-30T00:00:00\",\"2019-12-29T00:00:00\",\"2019-12-28T00:00:00\",\"2019-12-27T00:00:00\",\"2019-12-26T00:00:00\",\"2019-12-25T00:00:00\",\"2019-12-24T00:00:00\",\"2019-12-23T00:00:00\",\"2019-12-22T00:00:00\",\"2019-12-21T00:00:00\",\"2019-12-20T00:00:00\",\"2019-12-19T00:00:00\",\"2019-12-18T00:00:00\",\"2019-12-17T00:00:00\",\"2019-12-16T00:00:00\",\"2019-12-15T00:00:00\",\"2019-12-14T00:00:00\",\"2019-12-13T00:00:00\",\"2019-12-12T00:00:00\",\"2019-12-11T00:00:00\",\"2019-12-10T00:00:00\",\"2019-12-09T00:00:00\",\"2019-12-08T00:00:00\",\"2019-12-07T00:00:00\",\"2019-12-06T00:00:00\",\"2019-12-05T00:00:00\",\"2019-12-04T00:00:00\",\"2019-12-03T00:00:00\",\"2019-12-02T00:00:00\",\"2019-12-01T00:00:00\",\"2019-11-30T00:00:00\",\"2019-11-29T00:00:00\",\"2019-11-28T00:00:00\",\"2019-11-27T00:00:00\",\"2019-11-26T00:00:00\",\"2019-11-25T00:00:00\",\"2019-11-24T00:00:00\",\"2019-11-23T00:00:00\",\"2019-11-22T00:00:00\",\"2019-11-21T00:00:00\",\"2019-11-20T00:00:00\",\"2019-11-19T00:00:00\",\"2019-11-18T00:00:00\",\"2019-11-17T00:00:00\",\"2019-11-16T00:00:00\",\"2019-11-15T00:00:00\",\"2019-11-14T00:00:00\",\"2019-11-13T00:00:00\",\"2019-11-12T00:00:00\",\"2019-11-11T00:00:00\",\"2019-11-10T00:00:00\",\"2019-11-09T00:00:00\",\"2019-11-08T00:00:00\",\"2019-11-07T00:00:00\",\"2019-11-06T00:00:00\",\"2019-11-05T00:00:00\",\"2019-11-04T00:00:00\",\"2019-11-03T00:00:00\",\"2019-11-02T00:00:00\",\"2019-11-01T00:00:00\",\"2019-10-31T00:00:00\",\"2019-10-30T00:00:00\",\"2019-10-29T00:00:00\",\"2019-10-28T00:00:00\",\"2019-10-27T00:00:00\",\"2019-10-26T00:00:00\",\"2019-10-25T00:00:00\",\"2019-10-24T00:00:00\",\"2019-10-23T00:00:00\",\"2019-10-22T00:00:00\",\"2019-10-21T00:00:00\",\"2019-10-20T00:00:00\",\"2019-10-19T00:00:00\",\"2019-10-18T00:00:00\",\"2019-10-17T00:00:00\",\"2019-10-16T00:00:00\",\"2019-10-15T00:00:00\",\"2019-10-14T00:00:00\",\"2019-10-13T00:00:00\",\"2019-10-12T00:00:00\",\"2019-10-11T00:00:00\",\"2019-10-10T00:00:00\",\"2019-10-09T00:00:00\",\"2019-10-08T00:00:00\",\"2019-10-07T00:00:00\",\"2019-10-06T00:00:00\",\"2019-10-05T00:00:00\",\"2019-10-04T00:00:00\",\"2019-10-03T00:00:00\",\"2019-10-02T00:00:00\",\"2019-10-01T00:00:00\",\"2019-09-30T00:00:00\",\"2019-09-29T00:00:00\",\"2019-09-28T00:00:00\",\"2019-09-27T00:00:00\",\"2019-09-26T00:00:00\",\"2019-09-25T00:00:00\",\"2019-09-24T00:00:00\",\"2019-09-23T00:00:00\",\"2019-09-22T00:00:00\",\"2019-09-21T00:00:00\",\"2019-09-20T00:00:00\",\"2019-09-19T00:00:00\",\"2019-09-18T00:00:00\",\"2019-09-17T00:00:00\",\"2019-09-16T00:00:00\",\"2019-09-15T00:00:00\",\"2019-09-14T00:00:00\",\"2019-09-13T00:00:00\",\"2019-09-12T00:00:00\",\"2019-09-11T00:00:00\",\"2019-09-10T00:00:00\",\"2019-09-09T00:00:00\",\"2019-09-08T00:00:00\",\"2019-09-07T00:00:00\",\"2019-09-06T00:00:00\",\"2019-09-05T00:00:00\",\"2019-09-04T00:00:00\",\"2019-09-03T00:00:00\",\"2019-09-02T00:00:00\",\"2019-09-01T00:00:00\",\"2019-08-31T00:00:00\",\"2019-08-30T00:00:00\",\"2019-08-29T00:00:00\",\"2019-08-28T00:00:00\",\"2019-08-27T00:00:00\",\"2019-08-26T00:00:00\",\"2019-08-25T00:00:00\",\"2019-08-24T00:00:00\",\"2019-08-23T00:00:00\",\"2019-08-22T00:00:00\",\"2019-08-21T00:00:00\",\"2019-08-20T00:00:00\",\"2019-08-19T00:00:00\",\"2019-08-18T00:00:00\",\"2019-08-17T00:00:00\",\"2019-08-16T00:00:00\",\"2019-08-15T00:00:00\",\"2019-08-14T00:00:00\",\"2019-08-13T00:00:00\",\"2019-08-12T00:00:00\",\"2019-08-11T00:00:00\",\"2019-08-10T00:00:00\",\"2019-08-09T00:00:00\",\"2019-08-08T00:00:00\",\"2019-08-07T00:00:00\",\"2019-08-06T00:00:00\",\"2019-08-05T00:00:00\",\"2019-08-04T00:00:00\",\"2019-08-03T00:00:00\",\"2019-08-02T00:00:00\",\"2019-08-01T00:00:00\",\"2019-07-31T00:00:00\",\"2019-07-30T00:00:00\",\"2019-07-29T00:00:00\",\"2019-07-28T00:00:00\",\"2019-07-27T00:00:00\",\"2019-07-26T00:00:00\",\"2019-07-25T00:00:00\",\"2019-07-24T00:00:00\",\"2019-07-23T00:00:00\",\"2019-07-22T00:00:00\",\"2019-07-21T00:00:00\",\"2019-07-20T00:00:00\",\"2019-07-19T00:00:00\",\"2019-07-18T00:00:00\",\"2019-07-17T00:00:00\",\"2019-07-16T00:00:00\",\"2019-07-15T00:00:00\",\"2019-07-14T00:00:00\",\"2019-07-13T00:00:00\",\"2019-07-12T00:00:00\",\"2019-07-11T00:00:00\",\"2019-07-10T00:00:00\",\"2019-07-09T00:00:00\",\"2019-07-08T00:00:00\",\"2019-07-07T00:00:00\",\"2019-07-06T00:00:00\",\"2019-07-05T00:00:00\",\"2019-07-04T00:00:00\",\"2019-07-03T00:00:00\",\"2019-07-02T00:00:00\",\"2019-07-01T00:00:00\",\"2019-06-30T00:00:00\",\"2019-06-29T00:00:00\",\"2019-06-28T00:00:00\",\"2019-06-27T00:00:00\",\"2019-06-26T00:00:00\",\"2019-06-25T00:00:00\",\"2019-06-24T00:00:00\",\"2019-06-23T00:00:00\",\"2019-06-22T00:00:00\",\"2019-06-21T00:00:00\",\"2019-06-20T00:00:00\",\"2019-06-19T00:00:00\",\"2019-06-18T00:00:00\",\"2019-06-17T00:00:00\",\"2019-06-16T00:00:00\",\"2019-06-15T00:00:00\",\"2019-06-14T00:00:00\",\"2019-06-13T00:00:00\",\"2019-06-12T00:00:00\",\"2019-06-11T00:00:00\",\"2019-06-10T00:00:00\",\"2019-06-09T00:00:00\",\"2019-06-08T00:00:00\",\"2019-06-07T00:00:00\",\"2019-06-06T00:00:00\",\"2019-06-05T00:00:00\",\"2019-06-04T00:00:00\",\"2019-06-03T00:00:00\",\"2019-06-02T00:00:00\",\"2019-06-01T00:00:00\",\"2019-05-31T00:00:00\",\"2019-05-30T00:00:00\",\"2019-05-29T00:00:00\",\"2019-05-28T00:00:00\",\"2019-05-27T00:00:00\",\"2019-05-26T00:00:00\",\"2019-05-25T00:00:00\",\"2019-05-24T00:00:00\",\"2019-05-23T00:00:00\",\"2019-05-22T00:00:00\",\"2019-05-21T00:00:00\",\"2019-05-20T00:00:00\",\"2019-05-19T00:00:00\",\"2019-05-18T00:00:00\",\"2019-05-17T00:00:00\",\"2019-05-16T00:00:00\",\"2019-05-15T00:00:00\",\"2019-05-14T00:00:00\",\"2019-05-13T00:00:00\",\"2019-05-12T00:00:00\",\"2019-05-11T00:00:00\",\"2019-05-10T00:00:00\",\"2019-05-09T00:00:00\",\"2019-05-08T00:00:00\",\"2019-05-07T00:00:00\",\"2019-05-06T00:00:00\",\"2019-05-05T00:00:00\",\"2019-05-04T00:00:00\",\"2019-05-03T00:00:00\",\"2019-05-02T00:00:00\",\"2019-05-01T00:00:00\",\"2019-04-30T00:00:00\",\"2019-04-29T00:00:00\",\"2019-04-28T00:00:00\",\"2019-04-27T00:00:00\",\"2019-04-26T00:00:00\",\"2019-04-25T00:00:00\",\"2019-04-24T00:00:00\",\"2019-04-23T00:00:00\",\"2019-04-22T00:00:00\",\"2019-04-21T00:00:00\",\"2019-04-20T00:00:00\",\"2019-04-19T00:00:00\",\"2019-04-18T00:00:00\",\"2019-04-17T00:00:00\",\"2019-04-16T00:00:00\",\"2019-04-15T00:00:00\",\"2019-04-14T00:00:00\",\"2019-04-13T00:00:00\",\"2019-04-12T00:00:00\",\"2019-04-11T00:00:00\",\"2019-04-10T00:00:00\",\"2019-04-09T00:00:00\",\"2019-04-08T00:00:00\",\"2019-04-07T00:00:00\",\"2019-04-06T00:00:00\",\"2019-04-05T00:00:00\",\"2019-04-04T00:00:00\",\"2019-04-03T00:00:00\",\"2019-04-02T00:00:00\",\"2019-04-01T00:00:00\",\"2019-03-31T00:00:00\",\"2019-03-30T00:00:00\",\"2019-03-29T00:00:00\",\"2019-03-28T00:00:00\",\"2019-03-27T00:00:00\",\"2019-03-26T00:00:00\",\"2019-03-25T00:00:00\",\"2019-03-24T00:00:00\",\"2019-03-23T00:00:00\",\"2019-03-22T00:00:00\",\"2019-03-21T00:00:00\",\"2019-03-20T00:00:00\",\"2019-03-19T00:00:00\",\"2019-03-18T00:00:00\",\"2019-03-17T00:00:00\",\"2019-03-16T00:00:00\",\"2019-03-15T00:00:00\",\"2019-03-14T00:00:00\",\"2019-03-13T00:00:00\",\"2019-03-12T00:00:00\",\"2019-03-11T00:00:00\",\"2019-03-10T00:00:00\",\"2019-03-09T00:00:00\",\"2019-03-08T00:00:00\",\"2019-03-07T00:00:00\",\"2019-03-06T00:00:00\",\"2019-03-05T00:00:00\",\"2019-03-04T00:00:00\",\"2019-03-03T00:00:00\",\"2019-03-02T00:00:00\",\"2019-03-01T00:00:00\",\"2019-02-28T00:00:00\",\"2019-02-27T00:00:00\",\"2019-02-26T00:00:00\",\"2019-02-25T00:00:00\",\"2019-02-24T00:00:00\",\"2019-02-23T00:00:00\",\"2019-02-22T00:00:00\",\"2019-02-21T00:00:00\",\"2019-02-20T00:00:00\",\"2019-02-19T00:00:00\",\"2019-02-18T00:00:00\",\"2019-02-17T00:00:00\",\"2019-02-16T00:00:00\",\"2019-02-15T00:00:00\",\"2019-02-14T00:00:00\",\"2019-02-13T00:00:00\",\"2019-02-12T00:00:00\",\"2019-02-11T00:00:00\",\"2019-02-10T00:00:00\",\"2019-02-09T00:00:00\",\"2019-02-08T00:00:00\",\"2019-02-07T00:00:00\",\"2019-02-06T00:00:00\",\"2019-02-05T00:00:00\",\"2019-02-04T00:00:00\",\"2019-02-03T00:00:00\",\"2019-02-02T00:00:00\",\"2019-02-01T00:00:00\",\"2019-01-31T00:00:00\",\"2019-01-30T00:00:00\",\"2019-01-29T00:00:00\",\"2019-01-28T00:00:00\",\"2019-01-27T00:00:00\",\"2019-01-26T00:00:00\",\"2019-01-25T00:00:00\",\"2019-01-24T00:00:00\",\"2019-01-23T00:00:00\",\"2019-01-22T00:00:00\",\"2019-01-21T00:00:00\",\"2019-01-20T00:00:00\",\"2019-01-19T00:00:00\",\"2019-01-18T00:00:00\",\"2019-01-17T00:00:00\",\"2019-01-16T00:00:00\",\"2019-01-15T00:00:00\",\"2019-01-14T00:00:00\",\"2019-01-13T00:00:00\",\"2019-01-12T00:00:00\",\"2019-01-11T00:00:00\",\"2019-01-10T00:00:00\",\"2019-01-09T00:00:00\",\"2019-01-08T00:00:00\",\"2019-01-07T00:00:00\",\"2019-01-06T00:00:00\",\"2019-01-05T00:00:00\",\"2019-01-04T00:00:00\",\"2019-01-03T00:00:00\",\"2019-01-02T00:00:00\",\"2019-01-01T00:00:00\",\"2018-12-31T00:00:00\",\"2018-12-30T00:00:00\",\"2018-12-29T00:00:00\",\"2018-12-28T00:00:00\",\"2018-12-27T00:00:00\",\"2018-12-26T00:00:00\",\"2018-12-25T00:00:00\",\"2018-12-24T00:00:00\",\"2018-12-23T00:00:00\",\"2018-12-22T00:00:00\",\"2018-12-21T00:00:00\",\"2018-12-20T00:00:00\",\"2018-12-19T00:00:00\",\"2018-12-18T00:00:00\",\"2018-12-17T00:00:00\",\"2018-12-16T00:00:00\",\"2018-12-15T00:00:00\",\"2018-12-14T00:00:00\",\"2018-12-13T00:00:00\",\"2018-12-12T00:00:00\",\"2018-12-11T00:00:00\",\"2018-12-10T00:00:00\",\"2018-12-09T00:00:00\",\"2018-12-08T00:00:00\",\"2018-12-07T00:00:00\",\"2018-12-06T00:00:00\",\"2018-12-05T00:00:00\",\"2018-12-04T00:00:00\",\"2018-12-03T00:00:00\",\"2018-12-02T00:00:00\",\"2018-12-01T00:00:00\",\"2018-11-30T00:00:00\",\"2018-11-29T00:00:00\",\"2018-11-28T00:00:00\",\"2018-11-27T00:00:00\",\"2018-11-26T00:00:00\",\"2018-11-25T00:00:00\",\"2018-11-24T00:00:00\",\"2018-11-23T00:00:00\",\"2018-11-22T00:00:00\",\"2018-11-21T00:00:00\",\"2018-11-20T00:00:00\",\"2018-11-19T00:00:00\",\"2018-11-18T00:00:00\",\"2018-11-17T00:00:00\",\"2018-11-16T00:00:00\",\"2018-11-15T00:00:00\",\"2018-11-14T00:00:00\",\"2018-11-13T00:00:00\",\"2018-11-12T00:00:00\",\"2018-11-11T00:00:00\",\"2018-11-10T00:00:00\",\"2018-11-09T00:00:00\",\"2018-11-08T00:00:00\",\"2018-11-07T00:00:00\",\"2018-11-06T00:00:00\",\"2018-11-05T00:00:00\",\"2018-11-04T00:00:00\",\"2018-11-03T00:00:00\",\"2018-11-02T00:00:00\",\"2018-11-01T00:00:00\",\"2018-10-31T00:00:00\",\"2018-10-30T00:00:00\",\"2018-10-29T00:00:00\",\"2018-10-28T00:00:00\",\"2018-10-27T00:00:00\",\"2018-10-26T00:00:00\",\"2018-10-25T00:00:00\",\"2018-10-24T00:00:00\",\"2018-10-23T00:00:00\",\"2018-10-22T00:00:00\",\"2018-10-21T00:00:00\",\"2018-10-20T00:00:00\",\"2018-10-19T00:00:00\",\"2018-10-18T00:00:00\",\"2018-10-17T00:00:00\",\"2018-10-16T00:00:00\",\"2018-10-15T00:00:00\",\"2018-10-14T00:00:00\",\"2018-10-13T00:00:00\",\"2018-10-12T00:00:00\",\"2018-10-11T00:00:00\",\"2018-10-10T00:00:00\",\"2018-10-09T00:00:00\",\"2018-10-08T00:00:00\",\"2018-10-07T00:00:00\",\"2018-10-06T00:00:00\",\"2018-10-05T00:00:00\",\"2018-10-04T00:00:00\",\"2018-10-03T00:00:00\",\"2018-10-02T00:00:00\",\"2018-10-01T00:00:00\",\"2018-09-30T00:00:00\",\"2018-09-29T00:00:00\",\"2018-09-28T00:00:00\",\"2018-09-27T00:00:00\",\"2018-09-26T00:00:00\",\"2018-09-25T00:00:00\",\"2018-09-24T00:00:00\",\"2018-09-23T00:00:00\",\"2018-09-22T00:00:00\",\"2018-09-21T00:00:00\",\"2018-09-20T00:00:00\",\"2018-09-19T00:00:00\",\"2018-09-18T00:00:00\",\"2018-09-17T00:00:00\",\"2018-09-16T00:00:00\",\"2018-09-15T00:00:00\",\"2018-09-14T00:00:00\",\"2018-09-13T00:00:00\",\"2018-09-12T00:00:00\",\"2018-09-11T00:00:00\",\"2018-09-10T00:00:00\",\"2018-09-09T00:00:00\",\"2018-09-08T00:00:00\",\"2018-09-07T00:00:00\",\"2018-09-06T00:00:00\",\"2018-09-05T00:00:00\",\"2018-09-04T00:00:00\",\"2018-09-03T00:00:00\",\"2018-09-02T00:00:00\",\"2018-09-01T00:00:00\",\"2018-08-31T00:00:00\",\"2018-08-30T00:00:00\",\"2018-08-29T00:00:00\",\"2018-08-28T00:00:00\",\"2018-08-27T00:00:00\",\"2018-08-26T00:00:00\",\"2018-08-25T00:00:00\",\"2018-08-24T00:00:00\",\"2018-08-23T00:00:00\",\"2018-08-22T00:00:00\",\"2018-08-21T00:00:00\",\"2018-08-20T00:00:00\",\"2018-08-19T00:00:00\",\"2018-08-18T00:00:00\",\"2018-08-17T00:00:00\",\"2018-08-16T00:00:00\",\"2018-08-15T00:00:00\",\"2018-08-14T00:00:00\",\"2018-08-13T00:00:00\",\"2018-08-12T00:00:00\",\"2018-08-11T00:00:00\",\"2018-08-10T00:00:00\",\"2018-08-09T00:00:00\",\"2018-08-08T00:00:00\",\"2018-08-07T00:00:00\",\"2018-08-06T00:00:00\",\"2018-08-05T00:00:00\",\"2018-08-04T00:00:00\",\"2018-08-03T00:00:00\",\"2018-08-02T00:00:00\",\"2018-08-01T00:00:00\",\"2018-07-31T00:00:00\",\"2018-07-30T00:00:00\",\"2018-07-29T00:00:00\",\"2018-07-28T00:00:00\",\"2018-07-27T00:00:00\",\"2018-07-26T00:00:00\",\"2018-07-25T00:00:00\",\"2018-07-24T00:00:00\",\"2018-07-23T00:00:00\",\"2018-07-22T00:00:00\",\"2018-07-21T00:00:00\",\"2018-07-20T00:00:00\",\"2018-07-19T00:00:00\",\"2018-07-18T00:00:00\",\"2018-07-17T00:00:00\",\"2018-07-16T00:00:00\",\"2018-07-15T00:00:00\",\"2018-07-14T00:00:00\",\"2018-07-13T00:00:00\",\"2018-07-12T00:00:00\",\"2018-07-11T00:00:00\",\"2018-07-10T00:00:00\",\"2018-07-09T00:00:00\",\"2018-07-08T00:00:00\",\"2018-07-07T00:00:00\",\"2018-07-06T00:00:00\",\"2018-07-05T00:00:00\",\"2018-07-04T00:00:00\",\"2018-07-03T00:00:00\",\"2018-07-02T00:00:00\",\"2018-07-01T00:00:00\",\"2018-06-30T00:00:00\",\"2018-06-29T00:00:00\",\"2018-06-28T00:00:00\",\"2018-06-27T00:00:00\",\"2018-06-26T00:00:00\",\"2018-06-25T00:00:00\",\"2018-06-24T00:00:00\",\"2018-06-23T00:00:00\",\"2018-06-22T00:00:00\",\"2018-06-21T00:00:00\",\"2018-06-20T00:00:00\",\"2018-06-19T00:00:00\",\"2018-06-18T00:00:00\",\"2018-06-17T00:00:00\",\"2018-06-16T00:00:00\",\"2018-06-15T00:00:00\",\"2018-06-14T00:00:00\",\"2018-06-13T00:00:00\",\"2018-06-12T00:00:00\",\"2018-06-11T00:00:00\",\"2018-06-10T00:00:00\",\"2018-06-09T00:00:00\",\"2018-06-08T00:00:00\",\"2018-06-07T00:00:00\",\"2018-06-06T00:00:00\",\"2018-06-05T00:00:00\",\"2018-06-04T00:00:00\",\"2018-06-03T00:00:00\",\"2018-06-02T00:00:00\",\"2018-06-01T00:00:00\",\"2018-05-31T00:00:00\",\"2018-05-30T00:00:00\",\"2018-05-29T00:00:00\",\"2018-05-28T00:00:00\",\"2018-05-27T00:00:00\",\"2018-05-26T00:00:00\",\"2018-05-25T00:00:00\",\"2018-05-24T00:00:00\",\"2018-05-23T00:00:00\",\"2018-05-22T00:00:00\",\"2018-05-21T00:00:00\",\"2018-05-20T00:00:00\",\"2018-05-19T00:00:00\",\"2018-05-18T00:00:00\",\"2018-05-17T00:00:00\",\"2018-05-16T00:00:00\",\"2018-05-15T00:00:00\",\"2018-05-14T00:00:00\",\"2018-05-13T00:00:00\",\"2018-05-12T00:00:00\",\"2018-05-11T00:00:00\",\"2018-05-10T00:00:00\",\"2018-05-09T00:00:00\",\"2018-05-08T00:00:00\",\"2018-05-07T00:00:00\",\"2018-05-06T00:00:00\",\"2018-05-05T00:00:00\",\"2018-05-04T00:00:00\",\"2018-05-03T00:00:00\",\"2018-05-02T00:00:00\",\"2018-05-01T00:00:00\",\"2018-04-30T00:00:00\",\"2018-04-29T00:00:00\",\"2018-04-28T00:00:00\",\"2018-04-27T00:00:00\",\"2018-04-26T00:00:00\",\"2018-04-25T00:00:00\",\"2018-04-24T00:00:00\",\"2018-04-23T00:00:00\",\"2018-04-22T00:00:00\",\"2018-04-21T00:00:00\",\"2018-04-20T00:00:00\",\"2018-04-19T00:00:00\",\"2018-04-18T00:00:00\",\"2018-04-17T00:00:00\",\"2018-04-16T00:00:00\",\"2018-04-15T00:00:00\",\"2018-04-14T00:00:00\",\"2018-04-13T00:00:00\",\"2018-04-12T00:00:00\",\"2018-04-11T00:00:00\",\"2018-04-10T00:00:00\",\"2018-04-09T00:00:00\",\"2018-04-08T00:00:00\",\"2018-04-07T00:00:00\",\"2018-04-06T00:00:00\",\"2018-04-05T00:00:00\",\"2018-04-04T00:00:00\",\"2018-04-03T00:00:00\",\"2018-04-02T00:00:00\",\"2018-04-01T00:00:00\",\"2018-03-31T00:00:00\",\"2018-03-30T00:00:00\",\"2018-03-29T00:00:00\",\"2018-03-28T00:00:00\",\"2018-03-27T00:00:00\",\"2018-03-26T00:00:00\",\"2018-03-25T00:00:00\",\"2018-03-24T00:00:00\",\"2018-03-23T00:00:00\",\"2018-03-22T00:00:00\",\"2018-03-21T00:00:00\",\"2018-03-20T00:00:00\",\"2018-03-19T00:00:00\",\"2018-03-18T00:00:00\",\"2018-03-17T00:00:00\",\"2018-03-16T00:00:00\",\"2018-03-15T00:00:00\",\"2018-03-14T00:00:00\",\"2018-03-13T00:00:00\",\"2018-03-12T00:00:00\",\"2018-03-11T00:00:00\",\"2018-03-10T00:00:00\",\"2018-03-09T00:00:00\",\"2018-03-08T00:00:00\",\"2018-03-07T00:00:00\",\"2018-03-06T00:00:00\",\"2018-03-05T00:00:00\",\"2018-03-04T00:00:00\",\"2018-03-03T00:00:00\",\"2018-03-02T00:00:00\",\"2018-03-01T00:00:00\",\"2018-02-28T00:00:00\",\"2018-02-27T00:00:00\",\"2018-02-26T00:00:00\",\"2018-02-25T00:00:00\",\"2018-02-24T00:00:00\",\"2018-02-23T00:00:00\",\"2018-02-22T00:00:00\",\"2018-02-21T00:00:00\",\"2018-02-20T00:00:00\",\"2018-02-19T00:00:00\",\"2018-02-18T00:00:00\",\"2018-02-17T00:00:00\",\"2018-02-16T00:00:00\",\"2018-02-15T00:00:00\",\"2018-02-14T00:00:00\",\"2018-02-13T00:00:00\",\"2018-02-12T00:00:00\",\"2018-02-11T00:00:00\",\"2018-02-10T00:00:00\",\"2018-02-09T00:00:00\",\"2018-02-08T00:00:00\",\"2018-02-07T00:00:00\",\"2018-02-06T00:00:00\",\"2018-02-05T00:00:00\",\"2018-02-04T00:00:00\",\"2018-02-03T00:00:00\",\"2018-02-02T00:00:00\",\"2018-02-01T00:00:00\",\"2018-01-31T00:00:00\",\"2018-01-30T00:00:00\",\"2018-01-29T00:00:00\",\"2018-01-28T00:00:00\",\"2018-01-27T00:00:00\",\"2018-01-26T00:00:00\",\"2018-01-25T00:00:00\",\"2018-01-24T00:00:00\",\"2018-01-23T00:00:00\",\"2018-01-22T00:00:00\",\"2018-01-21T00:00:00\",\"2018-01-20T00:00:00\",\"2018-01-19T00:00:00\",\"2018-01-18T00:00:00\",\"2018-01-17T00:00:00\",\"2018-01-16T00:00:00\",\"2018-01-15T00:00:00\",\"2018-01-14T00:00:00\",\"2018-01-13T00:00:00\",\"2018-01-12T00:00:00\",\"2018-01-11T00:00:00\",\"2018-01-10T00:00:00\",\"2018-01-09T00:00:00\",\"2018-01-08T00:00:00\",\"2018-01-07T00:00:00\",\"2018-01-06T00:00:00\",\"2018-01-05T00:00:00\",\"2018-01-04T00:00:00\",\"2018-01-03T00:00:00\",\"2018-01-02T00:00:00\",\"2018-01-01T00:00:00\",\"2017-12-31T00:00:00\",\"2017-12-30T00:00:00\",\"2017-12-29T00:00:00\",\"2017-12-28T00:00:00\",\"2017-12-27T00:00:00\",\"2017-12-26T00:00:00\",\"2017-12-25T00:00:00\",\"2017-12-24T00:00:00\",\"2017-12-23T00:00:00\",\"2017-12-22T00:00:00\",\"2017-12-21T00:00:00\",\"2017-12-20T00:00:00\",\"2017-12-19T00:00:00\",\"2017-12-18T00:00:00\",\"2017-12-17T00:00:00\",\"2017-12-16T00:00:00\",\"2017-12-15T00:00:00\",\"2017-12-14T00:00:00\",\"2017-12-13T00:00:00\",\"2017-12-12T00:00:00\",\"2017-12-11T00:00:00\",\"2017-12-10T00:00:00\",\"2017-12-09T00:00:00\",\"2017-12-08T00:00:00\",\"2017-12-07T00:00:00\",\"2017-12-06T00:00:00\",\"2017-12-05T00:00:00\",\"2017-12-04T00:00:00\",\"2017-12-03T00:00:00\",\"2017-12-02T00:00:00\",\"2017-12-01T00:00:00\",\"2017-11-30T00:00:00\",\"2017-11-29T00:00:00\",\"2017-11-28T00:00:00\",\"2017-11-27T00:00:00\",\"2017-11-26T00:00:00\",\"2017-11-25T00:00:00\",\"2017-11-24T00:00:00\",\"2017-11-23T00:00:00\",\"2017-11-22T00:00:00\",\"2017-11-21T00:00:00\",\"2017-11-20T00:00:00\",\"2017-11-19T00:00:00\",\"2017-11-18T00:00:00\",\"2017-11-17T00:00:00\",\"2017-11-16T00:00:00\",\"2017-11-15T00:00:00\",\"2017-11-14T00:00:00\",\"2017-11-13T00:00:00\",\"2017-11-12T00:00:00\",\"2017-11-11T00:00:00\",\"2017-11-10T00:00:00\",\"2017-11-09T00:00:00\",\"2017-11-08T00:00:00\",\"2017-11-07T00:00:00\",\"2017-11-06T00:00:00\",\"2017-11-05T00:00:00\",\"2017-11-04T00:00:00\",\"2017-11-03T00:00:00\",\"2017-11-02T00:00:00\",\"2017-11-01T00:00:00\",\"2017-10-31T00:00:00\",\"2017-10-30T00:00:00\",\"2017-10-29T00:00:00\",\"2017-10-28T00:00:00\",\"2017-10-27T00:00:00\",\"2017-10-26T00:00:00\",\"2017-10-25T00:00:00\",\"2017-10-24T00:00:00\",\"2017-10-23T00:00:00\",\"2017-10-22T00:00:00\",\"2017-10-21T00:00:00\",\"2017-10-20T00:00:00\",\"2017-10-19T00:00:00\",\"2017-10-18T00:00:00\",\"2017-10-17T00:00:00\",\"2017-10-16T00:00:00\",\"2017-10-15T00:00:00\",\"2017-10-14T00:00:00\",\"2017-10-13T00:00:00\",\"2017-10-12T00:00:00\",\"2017-10-11T00:00:00\",\"2017-10-10T00:00:00\",\"2017-10-09T00:00:00\",\"2017-10-08T00:00:00\",\"2017-10-07T00:00:00\",\"2017-10-06T00:00:00\",\"2017-10-05T00:00:00\",\"2017-10-04T00:00:00\",\"2017-10-03T00:00:00\",\"2017-10-02T00:00:00\",\"2017-10-01T00:00:00\",\"2017-09-30T00:00:00\",\"2017-09-29T00:00:00\",\"2017-09-28T00:00:00\",\"2017-09-27T00:00:00\",\"2017-09-26T00:00:00\",\"2017-09-25T00:00:00\",\"2017-09-24T00:00:00\",\"2017-09-23T00:00:00\",\"2017-09-22T00:00:00\",\"2017-09-21T00:00:00\",\"2017-09-20T00:00:00\",\"2017-09-19T00:00:00\",\"2017-09-18T00:00:00\",\"2017-09-17T00:00:00\",\"2017-09-16T00:00:00\",\"2017-09-15T00:00:00\",\"2017-09-14T00:00:00\",\"2017-09-13T00:00:00\",\"2017-09-12T00:00:00\",\"2017-09-11T00:00:00\",\"2017-09-10T00:00:00\",\"2017-09-09T00:00:00\",\"2017-09-08T00:00:00\",\"2017-09-07T00:00:00\",\"2017-09-06T00:00:00\",\"2017-09-05T00:00:00\",\"2017-09-04T00:00:00\",\"2017-09-03T00:00:00\",\"2017-09-02T00:00:00\",\"2017-09-01T00:00:00\",\"2017-08-31T00:00:00\",\"2017-08-30T00:00:00\",\"2017-08-29T00:00:00\",\"2017-08-28T00:00:00\",\"2017-08-27T00:00:00\",\"2017-08-26T00:00:00\",\"2017-08-25T00:00:00\",\"2017-08-24T00:00:00\",\"2017-08-23T00:00:00\",\"2017-08-22T00:00:00\",\"2017-08-21T00:00:00\",\"2017-08-20T00:00:00\",\"2017-08-19T00:00:00\",\"2017-08-18T00:00:00\",\"2017-08-17T00:00:00\",\"2017-08-16T00:00:00\",\"2017-08-15T00:00:00\",\"2017-08-14T00:00:00\",\"2017-08-13T00:00:00\",\"2017-08-12T00:00:00\",\"2017-08-11T00:00:00\",\"2017-08-10T00:00:00\",\"2017-08-09T00:00:00\",\"2017-08-08T00:00:00\",\"2017-08-07T00:00:00\",\"2017-08-06T00:00:00\",\"2017-08-05T00:00:00\",\"2017-08-04T00:00:00\",\"2017-08-03T00:00:00\",\"2017-08-02T00:00:00\",\"2017-08-01T00:00:00\",\"2017-07-31T00:00:00\",\"2017-07-30T00:00:00\",\"2017-07-29T00:00:00\",\"2017-07-28T00:00:00\",\"2017-07-27T00:00:00\",\"2017-07-26T00:00:00\",\"2017-07-25T00:00:00\",\"2017-07-24T00:00:00\",\"2017-07-23T00:00:00\",\"2017-07-22T00:00:00\",\"2017-07-21T00:00:00\",\"2017-07-20T00:00:00\",\"2017-07-19T00:00:00\",\"2017-07-18T00:00:00\",\"2017-07-17T00:00:00\",\"2017-07-16T00:00:00\",\"2017-07-15T00:00:00\",\"2017-07-14T00:00:00\",\"2017-07-13T00:00:00\",\"2017-07-12T00:00:00\",\"2017-07-11T00:00:00\",\"2017-07-10T00:00:00\",\"2017-07-09T00:00:00\",\"2017-07-08T00:00:00\",\"2017-07-07T00:00:00\",\"2017-07-06T00:00:00\",\"2017-07-05T00:00:00\",\"2017-07-04T00:00:00\",\"2017-07-03T00:00:00\",\"2017-07-02T00:00:00\",\"2017-07-01T00:00:00\",\"2017-06-30T00:00:00\",\"2017-06-29T00:00:00\",\"2017-06-28T00:00:00\",\"2017-06-27T00:00:00\",\"2017-06-26T00:00:00\",\"2017-06-25T00:00:00\",\"2017-06-24T00:00:00\",\"2017-06-23T00:00:00\",\"2017-06-22T00:00:00\",\"2017-06-21T00:00:00\",\"2017-06-20T00:00:00\",\"2017-06-19T00:00:00\",\"2017-06-18T00:00:00\",\"2017-06-17T00:00:00\",\"2017-06-16T00:00:00\",\"2017-06-15T00:00:00\",\"2017-06-14T00:00:00\",\"2017-06-13T00:00:00\",\"2017-06-12T00:00:00\",\"2017-06-11T00:00:00\",\"2017-06-10T00:00:00\",\"2017-06-09T00:00:00\",\"2017-06-08T00:00:00\",\"2017-06-07T00:00:00\",\"2017-06-06T00:00:00\",\"2017-06-05T00:00:00\",\"2017-06-04T00:00:00\",\"2017-06-03T00:00:00\",\"2017-06-02T00:00:00\",\"2017-06-01T00:00:00\",\"2017-05-31T00:00:00\",\"2017-05-30T00:00:00\",\"2017-05-29T00:00:00\",\"2017-05-28T00:00:00\",\"2017-05-27T00:00:00\",\"2017-05-26T00:00:00\",\"2017-05-25T00:00:00\",\"2017-05-24T00:00:00\",\"2017-05-23T00:00:00\",\"2017-05-22T00:00:00\",\"2017-05-21T00:00:00\",\"2017-05-20T00:00:00\",\"2017-05-19T00:00:00\",\"2017-05-18T00:00:00\",\"2017-05-17T00:00:00\",\"2017-05-16T00:00:00\",\"2017-05-15T00:00:00\",\"2017-05-14T00:00:00\",\"2017-05-13T00:00:00\",\"2017-05-12T00:00:00\",\"2017-05-11T00:00:00\",\"2017-05-10T00:00:00\",\"2017-05-09T00:00:00\",\"2017-05-08T00:00:00\",\"2017-05-07T00:00:00\",\"2017-05-06T00:00:00\",\"2017-05-05T00:00:00\",\"2017-05-04T00:00:00\",\"2017-05-03T00:00:00\",\"2017-05-02T00:00:00\",\"2017-05-01T00:00:00\",\"2017-04-30T00:00:00\",\"2017-04-29T00:00:00\",\"2017-04-28T00:00:00\",\"2017-04-27T00:00:00\",\"2017-04-26T00:00:00\",\"2017-04-25T00:00:00\",\"2017-04-24T00:00:00\",\"2017-04-23T00:00:00\",\"2017-04-22T00:00:00\",\"2017-04-21T00:00:00\",\"2017-04-20T00:00:00\",\"2017-04-19T00:00:00\",\"2017-04-18T00:00:00\",\"2017-04-17T00:00:00\",\"2017-04-16T00:00:00\",\"2017-04-15T00:00:00\",\"2017-04-14T00:00:00\",\"2017-04-13T00:00:00\",\"2017-04-12T00:00:00\",\"2017-04-11T00:00:00\",\"2017-04-10T00:00:00\",\"2017-04-09T00:00:00\",\"2017-04-08T00:00:00\",\"2017-04-07T00:00:00\",\"2017-04-06T00:00:00\",\"2017-04-05T00:00:00\",\"2017-04-04T00:00:00\",\"2017-04-03T00:00:00\",\"2017-04-02T00:00:00\",\"2017-04-01T00:00:00\",\"2017-03-31T00:00:00\",\"2017-03-30T00:00:00\",\"2017-03-29T00:00:00\",\"2017-03-28T00:00:00\",\"2017-03-27T00:00:00\",\"2017-03-26T00:00:00\",\"2017-03-25T00:00:00\",\"2017-03-24T00:00:00\",\"2017-03-23T00:00:00\",\"2017-03-22T00:00:00\",\"2017-03-21T00:00:00\",\"2017-03-20T00:00:00\",\"2017-03-19T00:00:00\",\"2017-03-18T00:00:00\",\"2017-03-17T00:00:00\",\"2017-03-16T00:00:00\",\"2017-03-15T00:00:00\",\"2017-03-14T00:00:00\",\"2017-03-13T00:00:00\",\"2017-03-12T00:00:00\",\"2017-03-11T00:00:00\",\"2017-03-10T00:00:00\",\"2017-03-09T00:00:00\",\"2017-03-08T00:00:00\",\"2017-03-07T00:00:00\",\"2017-03-06T00:00:00\",\"2017-03-05T00:00:00\",\"2017-03-04T00:00:00\",\"2017-03-03T00:00:00\",\"2017-03-02T00:00:00\",\"2017-03-01T00:00:00\",\"2017-02-28T00:00:00\",\"2017-02-27T00:00:00\",\"2017-02-26T00:00:00\",\"2017-02-25T00:00:00\",\"2017-02-24T00:00:00\",\"2017-02-23T00:00:00\",\"2017-02-22T00:00:00\",\"2017-02-21T00:00:00\",\"2017-02-20T00:00:00\",\"2017-02-19T00:00:00\",\"2017-02-18T00:00:00\",\"2017-02-17T00:00:00\",\"2017-02-16T00:00:00\",\"2017-02-15T00:00:00\",\"2017-02-14T00:00:00\",\"2017-02-13T00:00:00\",\"2017-02-12T00:00:00\",\"2017-02-11T00:00:00\",\"2017-02-10T00:00:00\",\"2017-02-09T00:00:00\",\"2017-02-08T00:00:00\",\"2017-02-07T00:00:00\",\"2017-02-06T00:00:00\",\"2017-02-05T00:00:00\",\"2017-02-04T00:00:00\",\"2017-02-03T00:00:00\",\"2017-02-02T00:00:00\",\"2017-02-01T00:00:00\",\"2017-01-31T00:00:00\",\"2017-01-30T00:00:00\",\"2017-01-29T00:00:00\",\"2017-01-28T00:00:00\",\"2017-01-27T00:00:00\",\"2017-01-26T00:00:00\",\"2017-01-25T00:00:00\",\"2017-01-24T00:00:00\",\"2017-01-23T00:00:00\",\"2017-01-22T00:00:00\",\"2017-01-21T00:00:00\",\"2017-01-20T00:00:00\",\"2017-01-19T00:00:00\",\"2017-01-18T00:00:00\",\"2017-01-17T00:00:00\",\"2017-01-16T00:00:00\",\"2017-01-15T00:00:00\",\"2017-01-14T00:00:00\",\"2017-01-13T00:00:00\",\"2017-01-12T00:00:00\",\"2017-01-11T00:00:00\",\"2017-01-10T00:00:00\",\"2017-01-09T00:00:00\",\"2017-01-08T00:00:00\",\"2017-01-07T00:00:00\",\"2017-01-06T00:00:00\",\"2017-01-05T00:00:00\",\"2017-01-04T00:00:00\",\"2017-01-03T00:00:00\",\"2017-01-02T00:00:00\",\"2017-01-01T00:00:00\",\"2016-12-31T00:00:00\",\"2016-12-30T00:00:00\",\"2016-12-29T00:00:00\",\"2016-12-28T00:00:00\",\"2016-12-27T00:00:00\",\"2016-12-26T00:00:00\",\"2016-12-25T00:00:00\",\"2016-12-24T00:00:00\",\"2016-12-23T00:00:00\",\"2016-12-22T00:00:00\",\"2016-12-21T00:00:00\",\"2016-12-20T00:00:00\",\"2016-12-19T00:00:00\",\"2016-12-18T00:00:00\",\"2016-12-17T00:00:00\",\"2016-12-16T00:00:00\",\"2016-12-15T00:00:00\",\"2016-12-14T00:00:00\",\"2016-12-13T00:00:00\",\"2016-12-12T00:00:00\",\"2016-12-11T00:00:00\",\"2016-12-10T00:00:00\",\"2016-12-09T00:00:00\",\"2016-12-08T00:00:00\",\"2016-12-07T00:00:00\",\"2016-12-06T00:00:00\",\"2016-12-05T00:00:00\",\"2016-12-04T00:00:00\",\"2016-12-03T00:00:00\",\"2016-12-02T00:00:00\",\"2016-12-01T00:00:00\",\"2016-11-30T00:00:00\",\"2016-11-29T00:00:00\",\"2016-11-28T00:00:00\",\"2016-11-27T00:00:00\",\"2016-11-26T00:00:00\",\"2016-11-25T00:00:00\",\"2016-11-24T00:00:00\",\"2016-11-23T00:00:00\",\"2016-11-22T00:00:00\",\"2016-11-21T00:00:00\",\"2016-11-20T00:00:00\",\"2016-11-19T00:00:00\",\"2016-11-18T00:00:00\",\"2016-11-17T00:00:00\",\"2016-11-16T00:00:00\",\"2016-11-15T00:00:00\",\"2016-11-14T00:00:00\",\"2016-11-13T00:00:00\",\"2016-11-12T00:00:00\",\"2016-11-11T00:00:00\",\"2016-11-10T00:00:00\",\"2016-11-09T00:00:00\",\"2016-11-08T00:00:00\",\"2016-11-07T00:00:00\",\"2016-11-06T00:00:00\",\"2016-11-05T00:00:00\",\"2016-11-04T00:00:00\",\"2016-11-03T00:00:00\",\"2016-11-02T00:00:00\",\"2016-11-01T00:00:00\",\"2016-10-31T00:00:00\",\"2016-10-30T00:00:00\",\"2016-10-29T00:00:00\",\"2016-10-28T00:00:00\",\"2016-10-27T00:00:00\",\"2016-10-26T00:00:00\",\"2016-10-25T00:00:00\",\"2016-10-24T00:00:00\",\"2016-10-23T00:00:00\",\"2016-10-22T00:00:00\",\"2016-10-21T00:00:00\",\"2016-10-20T00:00:00\",\"2016-10-19T00:00:00\",\"2016-10-18T00:00:00\",\"2016-10-17T00:00:00\",\"2016-10-16T00:00:00\",\"2016-10-15T00:00:00\",\"2016-10-14T00:00:00\",\"2016-10-13T00:00:00\",\"2016-10-12T00:00:00\",\"2016-10-11T00:00:00\",\"2016-10-10T00:00:00\",\"2016-10-09T00:00:00\",\"2016-10-08T00:00:00\",\"2016-10-07T00:00:00\",\"2016-10-06T00:00:00\",\"2016-10-05T00:00:00\",\"2016-10-04T00:00:00\",\"2016-10-03T00:00:00\",\"2016-10-02T00:00:00\",\"2016-10-01T00:00:00\",\"2016-09-30T00:00:00\",\"2016-09-29T00:00:00\",\"2016-09-28T00:00:00\",\"2016-09-27T00:00:00\",\"2016-09-26T00:00:00\",\"2016-09-25T00:00:00\",\"2016-09-24T00:00:00\",\"2016-09-23T00:00:00\",\"2016-09-22T00:00:00\",\"2016-09-21T00:00:00\",\"2016-09-20T00:00:00\",\"2016-09-19T00:00:00\",\"2016-09-18T00:00:00\",\"2016-09-17T00:00:00\",\"2016-09-16T00:00:00\",\"2016-09-15T00:00:00\",\"2016-09-14T00:00:00\",\"2016-09-13T00:00:00\",\"2016-09-12T00:00:00\",\"2016-09-11T00:00:00\",\"2016-09-10T00:00:00\",\"2016-09-09T00:00:00\",\"2016-09-08T00:00:00\",\"2016-09-07T00:00:00\",\"2016-09-06T00:00:00\",\"2016-09-05T00:00:00\",\"2016-09-04T00:00:00\",\"2016-09-03T00:00:00\",\"2016-09-02T00:00:00\",\"2016-09-01T00:00:00\",\"2016-08-31T00:00:00\",\"2016-08-30T00:00:00\",\"2016-08-29T00:00:00\",\"2016-08-28T00:00:00\",\"2016-08-27T00:00:00\",\"2016-08-26T00:00:00\",\"2016-08-25T00:00:00\",\"2016-08-24T00:00:00\",\"2016-08-23T00:00:00\",\"2016-08-22T00:00:00\",\"2016-08-21T00:00:00\",\"2016-08-20T00:00:00\",\"2016-08-19T00:00:00\",\"2016-08-18T00:00:00\",\"2016-08-17T00:00:00\",\"2016-08-16T00:00:00\",\"2016-08-15T00:00:00\",\"2016-08-14T00:00:00\",\"2016-08-13T00:00:00\",\"2016-08-12T00:00:00\",\"2016-08-11T00:00:00\",\"2016-08-10T00:00:00\",\"2016-08-09T00:00:00\",\"2016-08-08T00:00:00\",\"2016-08-07T00:00:00\",\"2016-08-06T00:00:00\",\"2016-08-05T00:00:00\",\"2016-08-04T00:00:00\",\"2016-08-03T00:00:00\",\"2016-08-02T00:00:00\",\"2016-08-01T00:00:00\",\"2016-07-31T00:00:00\",\"2016-07-30T00:00:00\",\"2016-07-29T00:00:00\",\"2016-07-28T00:00:00\",\"2016-07-27T00:00:00\",\"2016-07-26T00:00:00\",\"2016-07-25T00:00:00\",\"2016-07-24T00:00:00\",\"2016-07-23T00:00:00\",\"2016-07-22T00:00:00\",\"2016-07-21T00:00:00\",\"2016-07-20T00:00:00\",\"2016-07-19T00:00:00\",\"2016-07-18T00:00:00\",\"2016-07-17T00:00:00\",\"2016-07-16T00:00:00\",\"2016-07-15T00:00:00\",\"2016-07-14T00:00:00\",\"2016-07-13T00:00:00\",\"2016-07-12T00:00:00\",\"2016-07-11T00:00:00\",\"2016-07-10T00:00:00\",\"2016-07-09T00:00:00\",\"2016-07-08T00:00:00\",\"2016-07-07T00:00:00\",\"2016-07-06T00:00:00\",\"2016-07-05T00:00:00\",\"2016-07-04T00:00:00\",\"2016-07-03T00:00:00\",\"2016-07-02T00:00:00\",\"2016-07-01T00:00:00\",\"2016-06-30T00:00:00\",\"2016-06-29T00:00:00\",\"2016-06-28T00:00:00\",\"2016-06-27T00:00:00\",\"2016-06-26T00:00:00\",\"2016-06-25T00:00:00\",\"2016-06-24T00:00:00\",\"2016-06-23T00:00:00\",\"2016-06-22T00:00:00\",\"2016-06-21T00:00:00\",\"2016-06-20T00:00:00\",\"2016-06-19T00:00:00\",\"2016-06-18T00:00:00\",\"2016-06-17T00:00:00\",\"2016-06-16T00:00:00\",\"2016-06-15T00:00:00\",\"2016-06-14T00:00:00\",\"2016-06-13T00:00:00\",\"2016-06-12T00:00:00\",\"2016-06-11T00:00:00\",\"2016-06-10T00:00:00\",\"2016-06-09T00:00:00\",\"2016-06-08T00:00:00\",\"2016-06-07T00:00:00\",\"2016-06-06T00:00:00\",\"2016-06-05T00:00:00\",\"2016-06-04T00:00:00\",\"2016-06-03T00:00:00\",\"2016-06-02T00:00:00\",\"2016-06-01T00:00:00\",\"2016-05-31T00:00:00\",\"2016-05-30T00:00:00\",\"2016-05-29T00:00:00\",\"2016-05-28T00:00:00\",\"2016-05-27T00:00:00\",\"2016-05-26T00:00:00\",\"2016-05-25T00:00:00\",\"2016-05-24T00:00:00\",\"2016-05-23T00:00:00\",\"2016-05-22T00:00:00\",\"2016-05-21T00:00:00\",\"2016-05-20T00:00:00\",\"2016-05-19T00:00:00\",\"2016-05-18T00:00:00\",\"2016-05-17T00:00:00\",\"2016-05-16T00:00:00\",\"2016-05-15T00:00:00\",\"2016-05-14T00:00:00\",\"2016-05-13T00:00:00\",\"2016-05-12T00:00:00\",\"2016-05-11T00:00:00\",\"2016-05-10T00:00:00\",\"2016-05-09T00:00:00\",\"2016-05-08T00:00:00\",\"2016-05-07T00:00:00\",\"2016-05-06T00:00:00\",\"2016-05-05T00:00:00\",\"2016-05-04T00:00:00\",\"2016-05-03T00:00:00\",\"2016-05-02T00:00:00\",\"2016-05-01T00:00:00\",\"2016-04-30T00:00:00\",\"2016-04-29T00:00:00\",\"2016-04-28T00:00:00\",\"2016-04-27T00:00:00\",\"2016-04-26T00:00:00\",\"2016-04-25T00:00:00\",\"2016-04-24T00:00:00\",\"2016-04-23T00:00:00\",\"2016-04-22T00:00:00\",\"2016-04-21T00:00:00\",\"2016-04-20T00:00:00\",\"2016-04-19T00:00:00\",\"2016-04-18T00:00:00\",\"2016-04-17T00:00:00\",\"2016-04-16T00:00:00\",\"2016-04-15T00:00:00\",\"2016-04-14T00:00:00\",\"2016-04-13T00:00:00\",\"2016-04-12T00:00:00\",\"2016-04-11T00:00:00\",\"2016-04-10T00:00:00\",\"2016-04-09T00:00:00\",\"2016-04-08T00:00:00\",\"2016-04-07T00:00:00\",\"2016-04-06T00:00:00\",\"2016-04-05T00:00:00\",\"2016-04-04T00:00:00\",\"2016-04-03T00:00:00\",\"2016-04-02T00:00:00\",\"2016-04-01T00:00:00\",\"2016-03-31T00:00:00\",\"2016-03-30T00:00:00\",\"2016-03-29T00:00:00\",\"2016-03-28T00:00:00\",\"2016-03-27T00:00:00\",\"2016-03-26T00:00:00\",\"2016-03-25T00:00:00\",\"2016-03-24T00:00:00\",\"2016-03-23T00:00:00\",\"2016-03-22T00:00:00\",\"2016-03-21T00:00:00\",\"2016-03-20T00:00:00\",\"2016-03-19T00:00:00\",\"2016-03-18T00:00:00\",\"2016-03-17T00:00:00\",\"2016-03-16T00:00:00\",\"2016-03-15T00:00:00\",\"2016-03-14T00:00:00\",\"2016-03-13T00:00:00\",\"2016-03-12T00:00:00\",\"2016-03-11T00:00:00\",\"2016-03-10T00:00:00\"],\"xaxis\":\"x\",\"y\":[1561.79,1565.84,1564.36,1566.73,1569.45,1647.86,1666.09,1604.69,1633.66,1641.59,1594.66,1608.24,1650.52,1643.39,1659.41,1703.29,1681.49,1691.62,1693.96,1640.66,1675.43,1555.45,1505.85,1515.44,1538.34,1513.12,1545.35,1650.97,1671.39,1613.72,1629.44,1666.9,1663.78,1641.7,1642.1,1585.27,1566.5,1645.97,1572.13,1597.61,1602.54,1611.2,1555.97,1626.52,1627.04,1626.66,1659.96,1551.12,1511.35,1564.66,1576.94,1552.69,1550.05,1450.86,1416.08,1389.84,1335.14,1320.51,1288.39,1263.91,1269.14,1250.95,1256.92,1214.57,1213.93,1200.52,1195.69,1200.0,1200.84,1189.99,1211.6,1228.22,1218.69,1220.46,1220.03,1217.59,1213.99,1217.19,1167.8,1182.7,1187.19,1166.7,1266.32,1307.29,1320.76,1275.49,1263.42,1266.36,1262.88,1280.29,1231.04,1271.24,1259.56,1279.21,1240.46,1295.69,1276.05,1294.4,1216.54,1167.73,1193.38,1205.17,1198.12,1203.77,1185.7,1139.74,1107.46,1142.88,1217.65,1208.92,1206.99,1206.16,1253.45,1242.64,1221.47,1256.29,1288.71,1299.21,1100.86,1335.26,1567.54,1570.71,1626.86,1645.03,1531.06,1518.99,1579.59,1572.89,1590.47,1619.67,1554.47,1514.14,1566.18,1459.6,1343.88,1364.19,1313.64,1299.76,1282.87,1285.33,1310.81,1331.4,1305.95,1274.93,1296.74,1287.33,1294.56,1279.97,1290.0,1323.17,1315.08,1331.07,1352.17,1352.07,1361.51,1323.37,1277.02,1311.8,1328.73,1336.05,1337.34,1328.23,1337.07,1294.24,1317.01,1327.91,1326.12,1247.64,1323.34,1375.96,1334.82,1468.76,1434.01,1472.63,1637.89,1574.41,1716.45,1766.99,1774.38,1718.84,1635.33,1629.63,1557.85,1617.4,1578.9,1557.35,1575.31,1585.55,1554.57,1523.39,1552.56,1426.25,1490.88,1508.32,1695.38,1656.64,1665.3,1626.7,1618.21,1575.61,1609.01,1846.52,1834.19,1876.69,1900.08,1935.1,1983.52,1957.62,1880.3,1853.5,1702.8,1778.15,1700.26,1690.29,1737.66,1607.0,1618.07,1631.46,1630.07,1679.98,1695.99,1720.8,1725.97,1635.99,1449.65,1438.76,1598.19,1549.61,1534.85,1575.68,1520.66,1543.45,1584.33,1337.92,1356.0,1231.03,1192.83,1115.8,1038.6,1096.41,1167.35,1216.94,1216.26,1238.1,1186.48,1133.87,1151.19,1074.07,1066.6,1059.05,1069.13,1099.51,1143.95,1191.02,1198.03,1241.8,1224.96,1144.33,1049.02,1125.96,1128.29,1128.39,995.49,1086.47,1068.49,1237.92,1208.82,1206.67,1434.43,1531.5,1663.04,1788.15,1792.81,1813.05,1859.99,1806.11,1804.6,1775.28,1834.66,1817.98,1941.81,1998.46,1813.56,1792.25,1724.67,1793.19,1942.89,1979.4,1973.01,2043.19,1975.12,1959.79,2019.36,1913.99,2091.05,2023.0,2145.86,2056.33,2009.55,1955.59,2087.17,2342.27,2229.69,2519.98,2636.03,2692.92,2747.6,2940.7,2781.47,2856.01,2825.65,2727.2,2817.14,2937.01,2889.01,2810.42,3006.04,2922.03,2931.9,2963.0,2983.91,3076.06,3101.79,3055.86,2989.05,3058.96,3042.01,3021.93,3117.21,3027.64,2978.45,3201.99,3259.59,3193.54,3228.83,3169.58,3406.83,3520.35,3521.16,3442.34,3456.18,3282.33,3385.6,3401.86,3329.67,3295.73,3145.95,3103.43,3110.8,3036.18,2969.64,2891.41,2861.66,2950.03,2939.76,2812.29,2773.8,2617.43,2589.54,2516.75,2569.8,2556.96,2606.5,2726.94,2577.21,2492.53,2549.4,2665.42,2622.15,2834.78,2947.03,2975.8,2922.44,2616.34,2779.55,2767.58,2596.52,2578.54,2637.38,2569.19,2619.32,2763.97,2779.44,2893.78,3122.33,3182.32,2929.29,2871.06,2917.16,2927.64,3071.8,3243.73,3115.91,3139.65,3056.29,3013.75,2994.74,2692.8,2680.66,2787.16,2686.82,2602.71,2600.12,2545.95,2424.66,2462.25,2458.07,2441.01,2540.81,2412.52,2570.67,3000.21,3084.48,3160.15,3209.43,3346.63,3326.5,3307.84,3241.95,3370.87,3238.22,3084.64,3150.27,3079.89,3198.14,3407.22,3536.15,3784.47,3764.62,3830.7,3765.67,3677.69,3709.38,3629.33,3792.95,4036.86,4062.02,4093.38,4043.6,4110.2,3979.57,4016.25,3944.03,3925.46,3959.9,3878.2,3957.12,4019.57,3860.51,3782.12,4131.47,4078.17,3903.52,4107.2,4435.74,4307.08,4351.36,4194.95,4118.27,4219.3,4512.9,4583.28,4628.72,4443.22,4296.98,4095.16,4037.06,4520.3,4270.73,4340.23,4086.73,4268.07,4409.02,4295.27,3996.29,4290.31,4208.29,4562.97,4625.71,4644.4,4665.76,4720.5,4633.98,4731.83,4808.34,4612.05,4517.27,4475.0,4534.96,4601.93,4586.96,4320.85,4287.41,4322.0,4413.7,4284.9,3921.54,4130.06,4219.92,4082.68,4168.8,3970.94,4053.89,4160.51,3876.76,3745.46,3848.64,3827.55,3869.05,3790.34,3607.36,3491.08,3541.49,3414.93,3574.52,3559.96,3586.91,3575.43,3515.35,3383.32,3417.26,3388.83,3309.14,2999.86,2851.06,2807.15,2926.04,3061.86,2922.47,2928.59,3152.92,3077.8,2764.71,2976.7,3328.49,3435.92,3398.55,3569.92,3612.23,3430.36,3284.65,3408.17,3267.33,3209.37,3423.87,3498.92,3424.35,3926.84,3950.2,3885.4,3938.45,3785.85,3826.9,3429.65,3228.23,3222.43,3243.96,3273.78,3093.78,3228.03,3172.12,3322.6,3238.41,3224.17,3285.12,3184.83,3016.92,3012.62,3147.67,3307.96,3264.56,3322.25,3043.2,3160.17,3140.86,3162.81,3011.88,3158.3,2889.58,2827.23,2725.28,2506.5,2608.01,2556.07,2530.94,2461.08,2380.59,2299.46,2300.21,2230.24,2189.74,2166.98,2124.0,2024.51,1994.61,1786.18,1818.07,1891.43,1898.01,1877.0,1917.21,1994.73,1940.48,2035.09,2139.44,2110.9,2146.15,2120.05,2316.21,2322.74,2196.25,2322.6,2224.7,2154.53,2108.58,2274.5,2158.32,2083.48,1981.24,1830.42,1810.53,1989.77,1968.76,1877.28,1890.95,2244.25,2166.3,2229.53,2372.1,2367.78,2544.35,2581.42,2508.49,2368.68,2351.45,2470.04,2607.45,2507.86,2592.12,2713.52,2628.43,2688.75,2856.63,2705.05,2633.74,2707.94,2386.93,2276.97,2411.68,2742.39,2885.02,2705.69,2647.27,2101.3,2292.68,2433.09,2766.88,2436.59,3376.22,3280.5,3582.19,3643.67,4074.57,3719.46,3807.5,4173.61,3948.66,3923.48,3905.69,3479.81,3490.83,3522.74,3284.31,3429.48,2950.07,2945.04,2772.27,2757.02,2746.51,2665.83,2531.07,2320.63,2217.23,2367.35,2398.95,2360.32,2331.84,2161.06,2236.1,2317.88,2424.12,2514.55,2432.9,2299.25,2137.55,2150.79,2133.89,2067.26,2080.2,1962.44,2112.41,2108.81,2076.14,2007.82,2134.66,1968.12,1918.82,1841.01,1816.92,1686.88,1712.89,1698.68,1586.36,1582.23,1668.42,1681.5,1783.58,1804.6,1809.09,1775.87,1823.72,1804.56,1792.08,1848.18,1921.29,1767.05,1827.44,1794.28,1869.32,1831.57,1727.17,1650.94,1530.24,1539.73,1567.84,1488.8,1570.0,1418.91,1458.84,1445.69,1476.77,1623.76,1578.27,1777.25,1933.52,1912.97,1955.54,1934.17,1849.95,1781.44,1778.63,1800.6,1815.44,1840.9,1786.74,1742.11,1770.81,1750.19,1612.98,1676.62,1719.11,1593.91,1664.19,1511.96,1373.31,1312.69,1377.05,1379.78,1329.16,1247.67,1366.14,1317.67,1390.69,1233.41,1234.34,1118.01,1377.63,1372.0,1258.1,1233.93,1228.33,1172.12,1233.34,1128.8,1050.2,1086.96,1255.84,1275.87,1215.92,1224.33,1208.71,1099.77,1042.48,977.76,774.54,729.0,735.87,751.92,732.04,730.26,683.76,636.35,626.99,612.38,585.47,637.04,607.86,638.28,657.79,654.08,643.28,637.29,588.81,586.22,590.66,568.07,544.16,558.15,573.28,554.95,591.03,601.54,596.61,567.84,616.33,597.94,585.69,616.78,575.35,537.89,518.7,519.69,569.69,605.01,609.2,559.37,551.9,509.94,471.27,478.55,482.05,460.37,448.18,460.75,476.38,462.61,463.33,450.26,444.38,454.55,435.39,455.78,416.59,402.5,388.23,383.64,396.45,386.36,382.81,387.16,388.25,403.11,393.93,406.45,412.44,408.59,414.12,391.39,368.53,379.03,377.85,368.61,365.08,377.6,378.96,381.13,386.64,374.39,370.28,365.25,350.71,341.66,340.59,353.53,352.69,345.6,345.78,353.06,359.5,359.77,353.97,357.42,354.26,351.62,349.13,319.97,343.96,341.32,371.09,385.33,384.25,389.37,364.75,363.91,376.7,365.89,388.06,373.74,367.89,351.1,337.46,352.06,353.49,334.91,385.94,381.97,439.14,475.72,433.89,428.81,398.8,395.32,383.16,385.96,383.16,407.64,390.81,395.56,388.06,416.05,407.39,422.1,430.63,433.62,432.22,438.04,424.28,387.15,379.03,395.52,390.22,396.78,379.57,394.8,400.8,389.62,385.86,372.26,387.15,346.48,334.84,317.79,316.95,321.82,311.12,305.32,279.33,275.33,263.29,245.54,236.1,239.03,235.72,232.77,233.65,238.62,240.49,239.75,242.84,239.2,241.21,242.01,246.93,239.26,241.56,227.95,229.09,225.09,226.42,230.96,225.61,227.88,225.09,221.07,229.72,232.57,234.75,243.2,243.24,228.11,228.87,229.11,231.34,233.85,235.37,230.92,231.99,238.23,237.55,230.72,247.79,243.82,246.19,244.56,242.0,240.27,243.37,244.53,237.9,248.01,231.8,243.63,220.66,220.14,208.2,200.99,204.13,199.99,206.65,207.35,198.75,210.0,214.52,214.88,207.0,200.51,194.85,203.29,199.58,189.82,185.82,187.77,210.19,211.47,212.0,199.05,205.36,206.59,209.85,213.96,212.0,206.23,215.42,196.55,196.13,197.35,194.01,187.57,185.48,182.72,170.79,170.37,180.12,187.47,170.63,172.32,152.9,158.43,156.36,158.76,158.18,157.85,169.67,173.01,164.71,171.07,142.58,144.03,141.13,141.29,135.65,132.88,132.15,125.24,131.02,131.74,138.38,136.08,138.59,136.0,122.46,132.59,133.32,135.43,117.76,115.95,111.06,124.35,122.67,134.02,107.87,194.57,200.61,202.88,199.21,237.3,244.87,228.46,224.36,223.94,231.9,217.96,217.51,226.94,227.6,224.3,246.97,265.63,274.72,261.65,265.14,257.32,259.07,282.33,267.71,259.92,264.87,285.17,268.71,265.59,236.75,222.94,228.61,223.23,223.47,213.15,203.84,188.94,189.8,188.48,183.58,179.88,184.6,173.86,175.78,170.27,167.91,160.4,162.56,162.8,168.15,169.41,166.87,166.92,174.17,170.18,164.39,166.44,166.07,143.59,146.5,142.65,144.81,137.93,140.8,143.01,144.09,135.59,134.32,134.3,127.19,130.75,129.21,131.87,134.4,128.35,126.4,125.92,125.24,128.05,128.07,132.2,127.61,128.69,128.42,132.93,122.06,132.78,142.55,142.03,144.95,145.04,143.51,145.88,147.88,151.17,148.25,148.88,148.7,145.79,147.81,148.89,151.06,151.93,154.57,151.07,152.71,147.6,145.88,140.58,152.46,149.79,161.46,174.96,176.09,178.49,184.19,182.39,180.19,185.24,188.36,187.0,185.09,188.98,184.96,184.02,186.95,191.28,188.66,185.86,181.72,183.01,183.12,182.38,183.25,190.44,181.67,184.06,179.61,181.5,160.73,162.26,171.44,174.17,175.14,171.93,172.79,177.31,174.52,180.57,186.64,181.07,179.86,180.6,191.11,192.65,180.74,179.81,170.52,176.44,175.65,174.58,180.26,175.78,180.36,169.28,173.62,173.19,164.58,168.93,166.29,201.22,211.16,215.23,218.01,220.22,210.44,207.8,197.33,189.1,188.17,181.06,180.87,178.48,180.05,180.64,181.45,177.76,169.14,173.82,174.8,178.82,178.1,169.72,171.62,168.14,168.68,172.85,186.6,188.36,186.32,190.16,193.42,190.29,187.27,196.15,201.65,193.67,184.83,184.55,187.67,186.59,207.68,210.48,215.84,205.92,209.46,220.12,224.68,225.62,232.45,220.76,220.89,216.52,216.37,217.23,208.49,209.81,210.39,206.64,217.8,217.65,215.45,211.86,217.27,225.03,227.83,220.11,225.23,210.95,198.88,228.49,226.56,269.12,274.68,268.72,289.13,307.44,312.23,304.87,288.11,287.16,283.36,300.51,291.48,294.87,292.23,318.26,310.52,297.73,338.54,317.65,311.47,308.51,310.39,294.69,271.45,268.26,264.59,273.02,268.0,267.74,262.53,254.89,261.38,244.38,246.85,231.21,243.43,248.98,248.63,245.81,241.27,250.26,269.03,264.26,267.94,254.57,268.62,271.16,270.97,264.66,250.69,249.2,244.68,244.35,253.7,250.72,259.68,233.87,244.38,264.68,248.14,217.34,196.0,188.09,192.17,172.78,170.85,170.76,169.34,172.99,163.03,163.67,167.87,161.66,160.35,161.84,154.94,158.3,159.43,157.96,155.16,165.23,169.94,170.87,168.5,172.89,172.79,173.34,165.91,165.61,160.16,167.3,163.19,163.46,164.37,177.39,175.09,179.16,174.32,165.58,164.93,157.43,160.34,163.47,141.5,141.77,142.65,143.38,138.17,139.63,134.37,134.25,136.44,137.53,136.42,135.11,139.32,138.72,137.92,138.91,141.15,136.77,132.44,131.97,133.81,132.99,135.72,137.52,133.84,136.93,137.62,136.82,125.97,131.02,132.77,135.72,135.47,135.2,136.66,138.26,132.94,158.31,147.97,145.79,149.01,144.02,145.79,133.79,122.88,121.72,120.97,122.21,122.66,121.32,124.94,119.44,119.27,104.55,104.63,107.37,107.91,107.63,110.67,106.99,106.74,108.51,104.76,105.82,112.5,115.83,115.5,116.7,116.84,118.23,116.05,117.52,123.0,119.34,122.02,121.71,119.59,127.55,114.65,123.75,125.15,125.61,148.78,148.41,149.96,154.96,153.48,152.87,146.94,152.96,139.58,131.9,138.45,133.64,136.59,114.57,130.06,128.39,139.06,129.6,115.85,108.18,114.6,99.36,100.68,94.37,84.72,83.9,83.81,86.31,89.62,87.72,90.18,93.62,90.56,93.28,90.85,102.36,110.14,108.66,116.4,118.23,113.76,117.86,122.75,111.19,110.08,118.03,114.42,124.63,126.17,137.75,132.9,150.27,178.76,176.53,176.99,184.1,187.51,210.44,212.79,213.1,213.19,211.39,212.87,218.8,220.22,210.67,211.86,200.27,202.67,198.17,198.59,197.27,196.83,204.84,204.36,204.78,204.08,205.12,205.68,207.03,207.38,207.76,205.12,206.6,213.16,215.06,214.27,197.09,201.22,196.67,190.89,226.33,228.28,229.83,226.11,225.19,228.34,222.33,220.48,225.84,231.77,232.8,231.9,221.95,229.18,214.46,219.14,228.02,244.67,240.82,247.92,224.43,209.74,209.02,196.17,220.2,221.94,209.88,210.98,183.11,185.07,197.05,195.81,196.69,215.51,229.58,228.76,285.17,288.98,295.05,295.32,281.94,283.97,288.41,295.61,286.57,274.46,277.61,281.29,276.12,269.84,280.9,271.9,299.33,293.9,316.91,286.76,281.12,278.3,284.0,318.2,317.63,331.78,363.33,355.48,378.29,405.38,408.81,407.11,417.58,411.0,420.33,431.88,456.65,466.41,468.89,470.24,462.79,472.03,479.78,450.58,459.02,461.51,449.44,469.48,480.0,499.86,479.68,450.87,434.09,432.88,430.86,445.96,432.67,471.77,486.41,485.4,469.91,468.47,467.58,461.9,475.73,452.57,452.72,434.92,421.23,442.16,430.32,458.76,454.81,474.14,462.58,525.97,536.31,538.22,517.91,496.47,496.95,487.88,519.49,476.17,494.6,531.4,524.64,593.8,599.67,604.71,606.39,608.83,591.44,619.09,591.33,579.34,577.87,557.96,566.86,512.32,570.67,586.63,585.39,602.4,577.52,642.02,696.84,716.02,696.73,693.28,668.98,706.53,705.73,727.06,729.41,684.77,676.97,724.36,751.98,747.98,759.35,793.29,818.75,785.29,778.97,688.23,671.31,670.12,689.83,683.49,643.96,661.65,617.37,702.94,644.08,622.01,605.58,617.1,567.7,525.74,503.24,511.75,533.89,502.52,494.36,494.25,430.13,415.43,399.04,400.67,384.85,369.97,381.69,378.62,415.58,385.02,378.85,394.1,393.75,384.13,446.86,448.73,485.97,523.46,520.44,543.15,539.9,559.9,557.09,555.75,536.72,549.96,600.48,610.36,612.08,689.67,697.06,720.12,682.77,725.7,698.91,750.09,814.56,850.0,865.53,855.91,855.46,870.51,852.44,871.58,867.06,841.28,834.1,854.99,803.56,838.97,884.94,940.04,913.09,971.57,937.35,927.34,919.53,841.38,865.72,811.01,851.44,877.88,805.15,752.75,782.72,696.75,828.49,971.49,920.93,1033.02,1118.15,1072.17,1174.36,1245.5,1114.7,1046.9,1048.2,1061.8,982.11,995.26,1047.0,1146.3,1032.6,993.92,1020.1,1019.6,1275.8,1349.9,1379.9,1257.0,1135.1,1245.9,1285.7,1129.4,1115.9,1004.3,962.77,939.3,942.01,858.78,752.46,736.77,682.22,731.52,711.42,736.45,749.8,709.81,659.89,672.59,628.19,786.97,794.99,799.98,783.99,708.78,683.25,678.29,686.51,690.69,634.87,515.25,429.24,460.92,442.19,415.02,413.71,451.87,465.0,459.49,455.51,460.67,432.21,420.34,465.56,473.44,464.0,464.0,469.89,405.19,380.48,360.0,367.94,354.7,346.68,331.0,331.16,330.59,334.28,313.22,303.9,313.07,296.18,319.52,307.5,291.42,296.9,295.63,299.48,303.47,284.89,288.6,303.69,307.0,304.39,293.49,295.99,295.1,295.46,296.3,284.85,293.55,299.23,302.61,306.97,313.45,315.65,334.46,337.23,339.24,337.46,303.06,303.2,299.32,297.4,309.82,311.46,308.43,295.12,291.4,291.69,296.82,304.26,303.44,292.66,302.63,309.75,289.28,295.2,282.0,285.9,262.19,256.67,283.5,282.63,296.81,257.0,253.0,258.68,222.5,275.48,293.9,297.19,297.9,303.08,304.0,334.1,337.36,316.18,295.81,350.63,345.0,390.35,387.3,382.78,372.0,347.09,348.01,332.72,328.7,325.62,316.5,312.54,322.24,298.37,292.78,292.0,299.0,301.34,286.0,298.22,296.64,307.22,308.81,295.97,293.99,295.83,269.51,264.29,253.87,220.73,224.79,218.0,225.97,200.81,195.31,206.76,191.2,202.54,203.33,202.7,226.59,228.15,232.01,216.11,227.29,194.63,226.56,190.16,157.4,170.15,196.49,205.0,223.92,188.63,202.0,234.97,245.23,238.38,265.35,264.77,266.68,273.99,277.64,255.0,275.62,285.3,311.62,279.0,251.3,277.0,296.89,324.37,320.94,321.66,344.15,355.5,348.88,364.56,348.44,338.7,335.95,382.7,386.9,336.33,325.88,278.41,256.95,250.7,261.89,242.16,241.06,217.01,214.77,211.4,218.34,224.69,189.99,161.91,149.99,152.8,168.71,183.88,168.24,154.92,146.14,123.03,124.4,98.6,89.67,88.17,92.56,90.37,89.9,86.99,89.38,88.33,88.94,88.97,94.21,96.65,91.5,99.2,85.79,82.01,81.4,83.51,73.55,76.0,68.0,57.31,53.9,53.54,53.33,52.15,51.37,51.96,49.66,52.42,49.52,49.58,49.71,48.5,50.65,46.85,44.21,44.17,43.94,44.51,42.25,43.11,45.35,44.41,44.28,48.6,50.59,49.72,51.62,52.88,50.16,48.93,50.46,50.75,54.01,43.14,41.46,42.45,42.06,43.17,34.2,44.65,45.07,34.8,28.66,28.4,23.2,21.3,19.18,17.75,16.51,18.88,19.51,19.35,18.5,19.49,19.02,17.43,15.86,15.5,14.57,13.55,13.11,13.27,12.68,12.82,12.4,12.8,12.79,12.76,12.92,12.92,13.02,11.32,11.33,11.33,11.27,10.95,11.35,11.45,11.31,11.18,11.32,11.0,10.78,10.71,10.71,10.5,10.44,10.49,10.5,10.52,10.49,10.52,10.58,10.64,10.91,10.64,10.38,10.31,10.3,9.54,9.72,9.67,9.72,9.83,9.48,10.61,10.43,10.43,9.8,10.09,10.23,11.16,9.57,8.43,8.19,8.17,8.17,8.27,7.62,7.2,7.27,7.11,7.25,7.11,7.55,7.84,7.68,7.63,7.93,7.88,7.86,7.86,8.16,8.44,8.49,8.19,8.14,8.42,8.1,8.35,7.6,6.68,7.4,7.85,7.76,8.43,8.61,8.16,8.7,8.97,9.33,9.38,9.17,9.69,9.89,9.61,9.54,9.68,9.54,9.96,10.02,10.19,10.0,10.08,10.01,10.27,10.54,10.66,10.92,10.88,10.91,11.15,11.23,10.86,10.94,10.81,10.96,11.28,10.38,11.15,11.57,11.5,11.36,11.99,12.07,12.25,12.16,12.1,11.99,12.54,12.0,11.98,12.01,11.96,12.07,11.72,11.84,11.76,12.03,12.26,12.73,12.84,13.11,13.33,13.44,13.22,13.18,13.25,13.1,13.25,13.08,12.9,13.14,12.86,13.39,13.3,13.65,14.3,13.15,12.49,12.73,12.6,12.0,11.94,12.01,12.0,11.8,12.13,11.72,11.45,11.64,11.73,11.85,11.73,11.88,12.13,12.22,11.66,11.33,11.03,10.94,11.11,11.26,11.39,10.98,11.03,11.14,11.2,11.26,10.69,10.69,10.72,11.07,11.15,11.16,11.48,11.69,11.71,11.9,11.99,10.16,10.16,10.16,10.16,10.16,10.16,10.16,11.04,12.0,12.45,12.85,12.87,12.93,12.01,13.55,12.86,14.33,14.55,12.67,12.52,11.7,11.09,11.31,11.72,11.95,11.5,10.7,10.55,10.48,10.95,10.83,11.37,10.16,10.58,10.37,11.42,11.65,12.06,12.17,12.5,12.64,12.08,13.95,13.71,14.22,14.39,13.76,13.26,13.75,11.67,12.33,10.76,15.19,20.86,18.61,18.7,17.65,15.75,14.3,13.95,14.44,14.51,14.6,13.94,14.0,13.75,13.9,13.82,13.94,14.07,12.78,12.44,11.8,10.99,12.4,12.52,12.84,13.38,14.21,14.06,13.6,14.74,13.4,12.28,11.15,10.01,10.25,10.6,10.09,9.92,9.38,9.31,9.51,9.41,9.45,9.85,9.4,9.38,10.01,8.83,8.74,7.45,7.23,7.73,7.4,7.56,8.05,8.35,7.95,8.23,8.61,8.73,8.97,9.3,8.7,8.23,8.39,8.08,7.48,8.53,8.56,9.15,9.69,10.05,10.76,10.4,11.15,11.6,11.61,11.65,11.41,11.92,11.79,11.78,10.4,10.93,10.67,11.32,12.43,11.37,11.53,10.18,10.55,10.97,11.09,12.58,13.06,12.63,15.07,12.92,11.95,11.75,11.2],\"yaxis\":\"y\",\"type\":\"scattergl\"},{\"hovertemplate\":\"variable=High<br>Date=%{x}<br>Eth value=%{y}<extra></extra>\",\"legendgroup\":\"High\",\"line\":{\"color\":\"#EF553B\",\"dash\":\"solid\"},\"marker\":{\"symbol\":\"circle\"},\"mode\":\"lines\",\"name\":\"Eth High Price\",\"showlegend\":true,\"x\":[\"2023-03-08T00:00:00\",\"2023-03-07T00:00:00\",\"2023-03-06T00:00:00\",\"2023-03-05T00:00:00\",\"2023-03-04T00:00:00\",\"2023-03-03T00:00:00\",\"2023-03-02T00:00:00\",\"2023-03-01T00:00:00\",\"2023-02-28T00:00:00\",\"2023-02-27T00:00:00\",\"2023-02-26T00:00:00\",\"2023-02-25T00:00:00\",\"2023-02-24T00:00:00\",\"2023-02-23T00:00:00\",\"2023-02-22T00:00:00\",\"2023-02-21T00:00:00\",\"2023-02-20T00:00:00\",\"2023-02-19T00:00:00\",\"2023-02-18T00:00:00\",\"2023-02-17T00:00:00\",\"2023-02-16T00:00:00\",\"2023-02-15T00:00:00\",\"2023-02-14T00:00:00\",\"2023-02-13T00:00:00\",\"2023-02-12T00:00:00\",\"2023-02-11T00:00:00\",\"2023-02-10T00:00:00\",\"2023-02-09T00:00:00\",\"2023-02-08T00:00:00\",\"2023-02-07T00:00:00\",\"2023-02-06T00:00:00\",\"2023-02-05T00:00:00\",\"2023-02-04T00:00:00\",\"2023-02-03T00:00:00\",\"2023-02-02T00:00:00\",\"2023-02-01T00:00:00\",\"2023-01-31T00:00:00\",\"2023-01-30T00:00:00\",\"2023-01-29T00:00:00\",\"2023-01-28T00:00:00\",\"2023-01-27T00:00:00\",\"2023-01-26T00:00:00\",\"2023-01-25T00:00:00\",\"2023-01-24T00:00:00\",\"2023-01-23T00:00:00\",\"2023-01-22T00:00:00\",\"2023-01-21T00:00:00\",\"2023-01-20T00:00:00\",\"2023-01-19T00:00:00\",\"2023-01-18T00:00:00\",\"2023-01-17T00:00:00\",\"2023-01-16T00:00:00\",\"2023-01-15T00:00:00\",\"2023-01-14T00:00:00\",\"2023-01-13T00:00:00\",\"2023-01-12T00:00:00\",\"2023-01-11T00:00:00\",\"2023-01-10T00:00:00\",\"2023-01-09T00:00:00\",\"2023-01-08T00:00:00\",\"2023-01-07T00:00:00\",\"2023-01-06T00:00:00\",\"2023-01-05T00:00:00\",\"2023-01-04T00:00:00\",\"2023-01-03T00:00:00\",\"2023-01-02T00:00:00\",\"2023-01-01T00:00:00\",\"2022-12-31T00:00:00\",\"2022-12-30T00:00:00\",\"2022-12-29T00:00:00\",\"2022-12-28T00:00:00\",\"2022-12-27T00:00:00\",\"2022-12-26T00:00:00\",\"2022-12-25T00:00:00\",\"2022-12-24T00:00:00\",\"2022-12-23T00:00:00\",\"2022-12-22T00:00:00\",\"2022-12-21T00:00:00\",\"2022-12-20T00:00:00\",\"2022-12-19T00:00:00\",\"2022-12-18T00:00:00\",\"2022-12-17T00:00:00\",\"2022-12-16T00:00:00\",\"2022-12-15T00:00:00\",\"2022-12-14T00:00:00\",\"2022-12-13T00:00:00\",\"2022-12-12T00:00:00\",\"2022-12-11T00:00:00\",\"2022-12-10T00:00:00\",\"2022-12-09T00:00:00\",\"2022-12-08T00:00:00\",\"2022-12-07T00:00:00\",\"2022-12-06T00:00:00\",\"2022-12-05T00:00:00\",\"2022-12-04T00:00:00\",\"2022-12-03T00:00:00\",\"2022-12-02T00:00:00\",\"2022-12-01T00:00:00\",\"2022-11-30T00:00:00\",\"2022-11-29T00:00:00\",\"2022-11-28T00:00:00\",\"2022-11-27T00:00:00\",\"2022-11-26T00:00:00\",\"2022-11-25T00:00:00\",\"2022-11-24T00:00:00\",\"2022-11-23T00:00:00\",\"2022-11-22T00:00:00\",\"2022-11-21T00:00:00\",\"2022-11-20T00:00:00\",\"2022-11-19T00:00:00\",\"2022-11-18T00:00:00\",\"2022-11-17T00:00:00\",\"2022-11-16T00:00:00\",\"2022-11-15T00:00:00\",\"2022-11-14T00:00:00\",\"2022-11-13T00:00:00\",\"2022-11-12T00:00:00\",\"2022-11-11T00:00:00\",\"2022-11-10T00:00:00\",\"2022-11-09T00:00:00\",\"2022-11-08T00:00:00\",\"2022-11-07T00:00:00\",\"2022-11-06T00:00:00\",\"2022-11-05T00:00:00\",\"2022-11-04T00:00:00\",\"2022-11-03T00:00:00\",\"2022-11-02T00:00:00\",\"2022-11-01T00:00:00\",\"2022-10-31T00:00:00\",\"2022-10-30T00:00:00\",\"2022-10-29T00:00:00\",\"2022-10-28T00:00:00\",\"2022-10-27T00:00:00\",\"2022-10-26T00:00:00\",\"2022-10-25T00:00:00\",\"2022-10-24T00:00:00\",\"2022-10-23T00:00:00\",\"2022-10-22T00:00:00\",\"2022-10-21T00:00:00\",\"2022-10-20T00:00:00\",\"2022-10-19T00:00:00\",\"2022-10-18T00:00:00\",\"2022-10-17T00:00:00\",\"2022-10-16T00:00:00\",\"2022-10-15T00:00:00\",\"2022-10-14T00:00:00\",\"2022-10-13T00:00:00\",\"2022-10-12T00:00:00\",\"2022-10-11T00:00:00\",\"2022-10-10T00:00:00\",\"2022-10-09T00:00:00\",\"2022-10-08T00:00:00\",\"2022-10-07T00:00:00\",\"2022-10-06T00:00:00\",\"2022-10-05T00:00:00\",\"2022-10-04T00:00:00\",\"2022-10-03T00:00:00\",\"2022-10-02T00:00:00\",\"2022-10-01T00:00:00\",\"2022-09-30T00:00:00\",\"2022-09-29T00:00:00\",\"2022-09-28T00:00:00\",\"2022-09-27T00:00:00\",\"2022-09-26T00:00:00\",\"2022-09-25T00:00:00\",\"2022-09-24T00:00:00\",\"2022-09-23T00:00:00\",\"2022-09-22T00:00:00\",\"2022-09-21T00:00:00\",\"2022-09-20T00:00:00\",\"2022-09-19T00:00:00\",\"2022-09-18T00:00:00\",\"2022-09-17T00:00:00\",\"2022-09-16T00:00:00\",\"2022-09-15T00:00:00\",\"2022-09-14T00:00:00\",\"2022-09-13T00:00:00\",\"2022-09-12T00:00:00\",\"2022-09-11T00:00:00\",\"2022-09-10T00:00:00\",\"2022-09-09T00:00:00\",\"2022-09-08T00:00:00\",\"2022-09-07T00:00:00\",\"2022-09-06T00:00:00\",\"2022-09-05T00:00:00\",\"2022-09-04T00:00:00\",\"2022-09-03T00:00:00\",\"2022-09-02T00:00:00\",\"2022-09-01T00:00:00\",\"2022-08-31T00:00:00\",\"2022-08-30T00:00:00\",\"2022-08-29T00:00:00\",\"2022-08-28T00:00:00\",\"2022-08-27T00:00:00\",\"2022-08-26T00:00:00\",\"2022-08-25T00:00:00\",\"2022-08-24T00:00:00\",\"2022-08-23T00:00:00\",\"2022-08-22T00:00:00\",\"2022-08-21T00:00:00\",\"2022-08-20T00:00:00\",\"2022-08-19T00:00:00\",\"2022-08-18T00:00:00\",\"2022-08-17T00:00:00\",\"2022-08-16T00:00:00\",\"2022-08-15T00:00:00\",\"2022-08-14T00:00:00\",\"2022-08-13T00:00:00\",\"2022-08-12T00:00:00\",\"2022-08-11T00:00:00\",\"2022-08-10T00:00:00\",\"2022-08-09T00:00:00\",\"2022-08-08T00:00:00\",\"2022-08-07T00:00:00\",\"2022-08-06T00:00:00\",\"2022-08-05T00:00:00\",\"2022-08-04T00:00:00\",\"2022-08-03T00:00:00\",\"2022-08-02T00:00:00\",\"2022-08-01T00:00:00\",\"2022-07-31T00:00:00\",\"2022-07-30T00:00:00\",\"2022-07-29T00:00:00\",\"2022-07-28T00:00:00\",\"2022-07-27T00:00:00\",\"2022-07-26T00:00:00\",\"2022-07-25T00:00:00\",\"2022-07-24T00:00:00\",\"2022-07-23T00:00:00\",\"2022-07-22T00:00:00\",\"2022-07-21T00:00:00\",\"2022-07-20T00:00:00\",\"2022-07-19T00:00:00\",\"2022-07-18T00:00:00\",\"2022-07-17T00:00:00\",\"2022-07-16T00:00:00\",\"2022-07-15T00:00:00\",\"2022-07-14T00:00:00\",\"2022-07-13T00:00:00\",\"2022-07-12T00:00:00\",\"2022-07-11T00:00:00\",\"2022-07-10T00:00:00\",\"2022-07-09T00:00:00\",\"2022-07-08T00:00:00\",\"2022-07-07T00:00:00\",\"2022-07-06T00:00:00\",\"2022-07-05T00:00:00\",\"2022-07-04T00:00:00\",\"2022-07-03T00:00:00\",\"2022-07-02T00:00:00\",\"2022-07-01T00:00:00\",\"2022-06-30T00:00:00\",\"2022-06-29T00:00:00\",\"2022-06-28T00:00:00\",\"2022-06-27T00:00:00\",\"2022-06-26T00:00:00\",\"2022-06-25T00:00:00\",\"2022-06-24T00:00:00\",\"2022-06-23T00:00:00\",\"2022-06-22T00:00:00\",\"2022-06-21T00:00:00\",\"2022-06-20T00:00:00\",\"2022-06-19T00:00:00\",\"2022-06-18T00:00:00\",\"2022-06-17T00:00:00\",\"2022-06-16T00:00:00\",\"2022-06-15T00:00:00\",\"2022-06-14T00:00:00\",\"2022-06-13T00:00:00\",\"2022-06-12T00:00:00\",\"2022-06-11T00:00:00\",\"2022-06-10T00:00:00\",\"2022-06-09T00:00:00\",\"2022-06-08T00:00:00\",\"2022-06-07T00:00:00\",\"2022-06-06T00:00:00\",\"2022-06-05T00:00:00\",\"2022-06-04T00:00:00\",\"2022-06-03T00:00:00\",\"2022-06-02T00:00:00\",\"2022-06-01T00:00:00\",\"2022-05-31T00:00:00\",\"2022-05-30T00:00:00\",\"2022-05-29T00:00:00\",\"2022-05-28T00:00:00\",\"2022-05-27T00:00:00\",\"2022-05-26T00:00:00\",\"2022-05-25T00:00:00\",\"2022-05-24T00:00:00\",\"2022-05-23T00:00:00\",\"2022-05-22T00:00:00\",\"2022-05-21T00:00:00\",\"2022-05-20T00:00:00\",\"2022-05-19T00:00:00\",\"2022-05-18T00:00:00\",\"2022-05-17T00:00:00\",\"2022-05-16T00:00:00\",\"2022-05-15T00:00:00\",\"2022-05-14T00:00:00\",\"2022-05-13T00:00:00\",\"2022-05-12T00:00:00\",\"2022-05-11T00:00:00\",\"2022-05-10T00:00:00\",\"2022-05-09T00:00:00\",\"2022-05-08T00:00:00\",\"2022-05-07T00:00:00\",\"2022-05-06T00:00:00\",\"2022-05-05T00:00:00\",\"2022-05-04T00:00:00\",\"2022-05-03T00:00:00\",\"2022-05-02T00:00:00\",\"2022-05-01T00:00:00\",\"2022-04-30T00:00:00\",\"2022-04-29T00:00:00\",\"2022-04-28T00:00:00\",\"2022-04-27T00:00:00\",\"2022-04-26T00:00:00\",\"2022-04-25T00:00:00\",\"2022-04-24T00:00:00\",\"2022-04-23T00:00:00\",\"2022-04-22T00:00:00\",\"2022-04-21T00:00:00\",\"2022-04-20T00:00:00\",\"2022-04-19T00:00:00\",\"2022-04-18T00:00:00\",\"2022-04-17T00:00:00\",\"2022-04-16T00:00:00\",\"2022-04-15T00:00:00\",\"2022-04-14T00:00:00\",\"2022-04-13T00:00:00\",\"2022-04-12T00:00:00\",\"2022-04-11T00:00:00\",\"2022-04-10T00:00:00\",\"2022-04-09T00:00:00\",\"2022-04-08T00:00:00\",\"2022-04-07T00:00:00\",\"2022-04-06T00:00:00\",\"2022-04-05T00:00:00\",\"2022-04-04T00:00:00\",\"2022-04-03T00:00:00\",\"2022-04-02T00:00:00\",\"2022-04-01T00:00:00\",\"2022-03-31T00:00:00\",\"2022-03-30T00:00:00\",\"2022-03-29T00:00:00\",\"2022-03-28T00:00:00\",\"2022-03-27T00:00:00\",\"2022-03-26T00:00:00\",\"2022-03-25T00:00:00\",\"2022-03-24T00:00:00\",\"2022-03-23T00:00:00\",\"2022-03-22T00:00:00\",\"2022-03-21T00:00:00\",\"2022-03-20T00:00:00\",\"2022-03-19T00:00:00\",\"2022-03-18T00:00:00\",\"2022-03-17T00:00:00\",\"2022-03-16T00:00:00\",\"2022-03-15T00:00:00\",\"2022-03-14T00:00:00\",\"2022-03-13T00:00:00\",\"2022-03-12T00:00:00\",\"2022-03-11T00:00:00\",\"2022-03-10T00:00:00\",\"2022-03-09T00:00:00\",\"2022-03-08T00:00:00\",\"2022-03-07T00:00:00\",\"2022-03-06T00:00:00\",\"2022-03-05T00:00:00\",\"2022-03-04T00:00:00\",\"2022-03-03T00:00:00\",\"2022-03-02T00:00:00\",\"2022-03-01T00:00:00\",\"2022-02-28T00:00:00\",\"2022-02-27T00:00:00\",\"2022-02-26T00:00:00\",\"2022-02-25T00:00:00\",\"2022-02-24T00:00:00\",\"2022-02-23T00:00:00\",\"2022-02-22T00:00:00\",\"2022-02-21T00:00:00\",\"2022-02-20T00:00:00\",\"2022-02-19T00:00:00\",\"2022-02-18T00:00:00\",\"2022-02-17T00:00:00\",\"2022-02-16T00:00:00\",\"2022-02-15T00:00:00\",\"2022-02-14T00:00:00\",\"2022-02-13T00:00:00\",\"2022-02-12T00:00:00\",\"2022-02-11T00:00:00\",\"2022-02-10T00:00:00\",\"2022-02-09T00:00:00\",\"2022-02-08T00:00:00\",\"2022-02-07T00:00:00\",\"2022-02-06T00:00:00\",\"2022-02-05T00:00:00\",\"2022-02-04T00:00:00\",\"2022-02-03T00:00:00\",\"2022-02-02T00:00:00\",\"2022-02-01T00:00:00\",\"2022-01-31T00:00:00\",\"2022-01-30T00:00:00\",\"2022-01-29T00:00:00\",\"2022-01-28T00:00:00\",\"2022-01-27T00:00:00\",\"2022-01-26T00:00:00\",\"2022-01-25T00:00:00\",\"2022-01-24T00:00:00\",\"2022-01-23T00:00:00\",\"2022-01-22T00:00:00\",\"2022-01-21T00:00:00\",\"2022-01-20T00:00:00\",\"2022-01-19T00:00:00\",\"2022-01-18T00:00:00\",\"2022-01-17T00:00:00\",\"2022-01-16T00:00:00\",\"2022-01-15T00:00:00\",\"2022-01-14T00:00:00\",\"2022-01-13T00:00:00\",\"2022-01-12T00:00:00\",\"2022-01-11T00:00:00\",\"2022-01-10T00:00:00\",\"2022-01-09T00:00:00\",\"2022-01-08T00:00:00\",\"2022-01-07T00:00:00\",\"2022-01-06T00:00:00\",\"2022-01-05T00:00:00\",\"2022-01-04T00:00:00\",\"2022-01-03T00:00:00\",\"2022-01-02T00:00:00\",\"2022-01-01T00:00:00\",\"2021-12-31T00:00:00\",\"2021-12-30T00:00:00\",\"2021-12-29T00:00:00\",\"2021-12-28T00:00:00\",\"2021-12-27T00:00:00\",\"2021-12-26T00:00:00\",\"2021-12-25T00:00:00\",\"2021-12-24T00:00:00\",\"2021-12-23T00:00:00\",\"2021-12-22T00:00:00\",\"2021-12-21T00:00:00\",\"2021-12-20T00:00:00\",\"2021-12-19T00:00:00\",\"2021-12-18T00:00:00\",\"2021-12-17T00:00:00\",\"2021-12-16T00:00:00\",\"2021-12-15T00:00:00\",\"2021-12-14T00:00:00\",\"2021-12-13T00:00:00\",\"2021-12-12T00:00:00\",\"2021-12-11T00:00:00\",\"2021-12-10T00:00:00\",\"2021-12-09T00:00:00\",\"2021-12-08T00:00:00\",\"2021-12-07T00:00:00\",\"2021-12-06T00:00:00\",\"2021-12-05T00:00:00\",\"2021-12-04T00:00:00\",\"2021-12-03T00:00:00\",\"2021-12-02T00:00:00\",\"2021-12-01T00:00:00\",\"2021-11-30T00:00:00\",\"2021-11-29T00:00:00\",\"2021-11-28T00:00:00\",\"2021-11-27T00:00:00\",\"2021-11-26T00:00:00\",\"2021-11-25T00:00:00\",\"2021-11-24T00:00:00\",\"2021-11-23T00:00:00\",\"2021-11-22T00:00:00\",\"2021-11-21T00:00:00\",\"2021-11-20T00:00:00\",\"2021-11-19T00:00:00\",\"2021-11-18T00:00:00\",\"2021-11-17T00:00:00\",\"2021-11-16T00:00:00\",\"2021-11-15T00:00:00\",\"2021-11-14T00:00:00\",\"2021-11-13T00:00:00\",\"2021-11-12T00:00:00\",\"2021-11-11T00:00:00\",\"2021-11-10T00:00:00\",\"2021-11-09T00:00:00\",\"2021-11-08T00:00:00\",\"2021-11-07T00:00:00\",\"2021-11-06T00:00:00\",\"2021-11-05T00:00:00\",\"2021-11-04T00:00:00\",\"2021-11-03T00:00:00\",\"2021-11-02T00:00:00\",\"2021-11-01T00:00:00\",\"2021-10-31T00:00:00\",\"2021-10-30T00:00:00\",\"2021-10-29T00:00:00\",\"2021-10-28T00:00:00\",\"2021-10-27T00:00:00\",\"2021-10-26T00:00:00\",\"2021-10-25T00:00:00\",\"2021-10-24T00:00:00\",\"2021-10-23T00:00:00\",\"2021-10-22T00:00:00\",\"2021-10-21T00:00:00\",\"2021-10-20T00:00:00\",\"2021-10-19T00:00:00\",\"2021-10-18T00:00:00\",\"2021-10-17T00:00:00\",\"2021-10-16T00:00:00\",\"2021-10-15T00:00:00\",\"2021-10-14T00:00:00\",\"2021-10-13T00:00:00\",\"2021-10-12T00:00:00\",\"2021-10-11T00:00:00\",\"2021-10-10T00:00:00\",\"2021-10-09T00:00:00\",\"2021-10-08T00:00:00\",\"2021-10-07T00:00:00\",\"2021-10-06T00:00:00\",\"2021-10-05T00:00:00\",\"2021-10-04T00:00:00\",\"2021-10-03T00:00:00\",\"2021-10-02T00:00:00\",\"2021-10-01T00:00:00\",\"2021-09-30T00:00:00\",\"2021-09-29T00:00:00\",\"2021-09-28T00:00:00\",\"2021-09-27T00:00:00\",\"2021-09-26T00:00:00\",\"2021-09-25T00:00:00\",\"2021-09-24T00:00:00\",\"2021-09-23T00:00:00\",\"2021-09-22T00:00:00\",\"2021-09-21T00:00:00\",\"2021-09-20T00:00:00\",\"2021-09-19T00:00:00\",\"2021-09-18T00:00:00\",\"2021-09-17T00:00:00\",\"2021-09-16T00:00:00\",\"2021-09-15T00:00:00\",\"2021-09-14T00:00:00\",\"2021-09-13T00:00:00\",\"2021-09-12T00:00:00\",\"2021-09-11T00:00:00\",\"2021-09-10T00:00:00\",\"2021-09-09T00:00:00\",\"2021-09-08T00:00:00\",\"2021-09-07T00:00:00\",\"2021-09-06T00:00:00\",\"2021-09-05T00:00:00\",\"2021-09-04T00:00:00\",\"2021-09-03T00:00:00\",\"2021-09-02T00:00:00\",\"2021-09-01T00:00:00\",\"2021-08-31T00:00:00\",\"2021-08-30T00:00:00\",\"2021-08-29T00:00:00\",\"2021-08-28T00:00:00\",\"2021-08-27T00:00:00\",\"2021-08-26T00:00:00\",\"2021-08-25T00:00:00\",\"2021-08-24T00:00:00\",\"2021-08-23T00:00:00\",\"2021-08-22T00:00:00\",\"2021-08-21T00:00:00\",\"2021-08-20T00:00:00\",\"2021-08-19T00:00:00\",\"2021-08-18T00:00:00\",\"2021-08-17T00:00:00\",\"2021-08-16T00:00:00\",\"2021-08-15T00:00:00\",\"2021-08-14T00:00:00\",\"2021-08-13T00:00:00\",\"2021-08-12T00:00:00\",\"2021-08-11T00:00:00\",\"2021-08-10T00:00:00\",\"2021-08-09T00:00:00\",\"2021-08-08T00:00:00\",\"2021-08-07T00:00:00\",\"2021-08-06T00:00:00\",\"2021-08-05T00:00:00\",\"2021-08-04T00:00:00\",\"2021-08-03T00:00:00\",\"2021-08-02T00:00:00\",\"2021-08-01T00:00:00\",\"2021-07-31T00:00:00\",\"2021-07-30T00:00:00\",\"2021-07-29T00:00:00\",\"2021-07-28T00:00:00\",\"2021-07-27T00:00:00\",\"2021-07-26T00:00:00\",\"2021-07-25T00:00:00\",\"2021-07-24T00:00:00\",\"2021-07-23T00:00:00\",\"2021-07-22T00:00:00\",\"2021-07-21T00:00:00\",\"2021-07-20T00:00:00\",\"2021-07-19T00:00:00\",\"2021-07-18T00:00:00\",\"2021-07-17T00:00:00\",\"2021-07-16T00:00:00\",\"2021-07-15T00:00:00\",\"2021-07-14T00:00:00\",\"2021-07-13T00:00:00\",\"2021-07-12T00:00:00\",\"2021-07-11T00:00:00\",\"2021-07-10T00:00:00\",\"2021-07-09T00:00:00\",\"2021-07-08T00:00:00\",\"2021-07-07T00:00:00\",\"2021-07-06T00:00:00\",\"2021-07-05T00:00:00\",\"2021-07-04T00:00:00\",\"2021-07-03T00:00:00\",\"2021-07-02T00:00:00\",\"2021-07-01T00:00:00\",\"2021-06-30T00:00:00\",\"2021-06-29T00:00:00\",\"2021-06-28T00:00:00\",\"2021-06-27T00:00:00\",\"2021-06-26T00:00:00\",\"2021-06-25T00:00:00\",\"2021-06-24T00:00:00\",\"2021-06-23T00:00:00\",\"2021-06-22T00:00:00\",\"2021-06-21T00:00:00\",\"2021-06-20T00:00:00\",\"2021-06-19T00:00:00\",\"2021-06-18T00:00:00\",\"2021-06-17T00:00:00\",\"2021-06-16T00:00:00\",\"2021-06-15T00:00:00\",\"2021-06-14T00:00:00\",\"2021-06-13T00:00:00\",\"2021-06-12T00:00:00\",\"2021-06-11T00:00:00\",\"2021-06-10T00:00:00\",\"2021-06-09T00:00:00\",\"2021-06-08T00:00:00\",\"2021-06-07T00:00:00\",\"2021-06-06T00:00:00\",\"2021-06-05T00:00:00\",\"2021-06-04T00:00:00\",\"2021-06-03T00:00:00\",\"2021-06-02T00:00:00\",\"2021-06-01T00:00:00\",\"2021-05-31T00:00:00\",\"2021-05-30T00:00:00\",\"2021-05-29T00:00:00\",\"2021-05-28T00:00:00\",\"2021-05-27T00:00:00\",\"2021-05-26T00:00:00\",\"2021-05-25T00:00:00\",\"2021-05-24T00:00:00\",\"2021-05-23T00:00:00\",\"2021-05-22T00:00:00\",\"2021-05-21T00:00:00\",\"2021-05-20T00:00:00\",\"2021-05-19T00:00:00\",\"2021-05-18T00:00:00\",\"2021-05-17T00:00:00\",\"2021-05-16T00:00:00\",\"2021-05-15T00:00:00\",\"2021-05-14T00:00:00\",\"2021-05-13T00:00:00\",\"2021-05-12T00:00:00\",\"2021-05-11T00:00:00\",\"2021-05-10T00:00:00\",\"2021-05-09T00:00:00\",\"2021-05-08T00:00:00\",\"2021-05-07T00:00:00\",\"2021-05-06T00:00:00\",\"2021-05-05T00:00:00\",\"2021-05-04T00:00:00\",\"2021-05-03T00:00:00\",\"2021-05-02T00:00:00\",\"2021-05-01T00:00:00\",\"2021-04-30T00:00:00\",\"2021-04-29T00:00:00\",\"2021-04-28T00:00:00\",\"2021-04-27T00:00:00\",\"2021-04-26T00:00:00\",\"2021-04-25T00:00:00\",\"2021-04-24T00:00:00\",\"2021-04-23T00:00:00\",\"2021-04-22T00:00:00\",\"2021-04-21T00:00:00\",\"2021-04-20T00:00:00\",\"2021-04-19T00:00:00\",\"2021-04-18T00:00:00\",\"2021-04-17T00:00:00\",\"2021-04-16T00:00:00\",\"2021-04-15T00:00:00\",\"2021-04-14T00:00:00\",\"2021-04-13T00:00:00\",\"2021-04-12T00:00:00\",\"2021-04-11T00:00:00\",\"2021-04-10T00:00:00\",\"2021-04-09T00:00:00\",\"2021-04-08T00:00:00\",\"2021-04-07T00:00:00\",\"2021-04-06T00:00:00\",\"2021-04-05T00:00:00\",\"2021-04-04T00:00:00\",\"2021-04-03T00:00:00\",\"2021-04-02T00:00:00\",\"2021-04-01T00:00:00\",\"2021-03-31T00:00:00\",\"2021-03-30T00:00:00\",\"2021-03-29T00:00:00\",\"2021-03-28T00:00:00\",\"2021-03-27T00:00:00\",\"2021-03-26T00:00:00\",\"2021-03-25T00:00:00\",\"2021-03-24T00:00:00\",\"2021-03-23T00:00:00\",\"2021-03-22T00:00:00\",\"2021-03-21T00:00:00\",\"2021-03-20T00:00:00\",\"2021-03-19T00:00:00\",\"2021-03-18T00:00:00\",\"2021-03-17T00:00:00\",\"2021-03-16T00:00:00\",\"2021-03-15T00:00:00\",\"2021-03-14T00:00:00\",\"2021-03-13T00:00:00\",\"2021-03-12T00:00:00\",\"2021-03-11T00:00:00\",\"2021-03-10T00:00:00\",\"2021-03-09T00:00:00\",\"2021-03-08T00:00:00\",\"2021-03-07T00:00:00\",\"2021-03-06T00:00:00\",\"2021-03-05T00:00:00\",\"2021-03-04T00:00:00\",\"2021-03-03T00:00:00\",\"2021-03-02T00:00:00\",\"2021-03-01T00:00:00\",\"2021-02-28T00:00:00\",\"2021-02-27T00:00:00\",\"2021-02-26T00:00:00\",\"2021-02-25T00:00:00\",\"2021-02-24T00:00:00\",\"2021-02-23T00:00:00\",\"2021-02-22T00:00:00\",\"2021-02-21T00:00:00\",\"2021-02-20T00:00:00\",\"2021-02-19T00:00:00\",\"2021-02-18T00:00:00\",\"2021-02-17T00:00:00\",\"2021-02-16T00:00:00\",\"2021-02-15T00:00:00\",\"2021-02-14T00:00:00\",\"2021-02-13T00:00:00\",\"2021-02-12T00:00:00\",\"2021-02-11T00:00:00\",\"2021-02-10T00:00:00\",\"2021-02-09T00:00:00\",\"2021-02-08T00:00:00\",\"2021-02-07T00:00:00\",\"2021-02-06T00:00:00\",\"2021-02-05T00:00:00\",\"2021-02-04T00:00:00\",\"2021-02-03T00:00:00\",\"2021-02-02T00:00:00\",\"2021-02-01T00:00:00\",\"2021-01-31T00:00:00\",\"2021-01-30T00:00:00\",\"2021-01-29T00:00:00\",\"2021-01-28T00:00:00\",\"2021-01-27T00:00:00\",\"2021-01-26T00:00:00\",\"2021-01-25T00:00:00\",\"2021-01-24T00:00:00\",\"2021-01-23T00:00:00\",\"2021-01-22T00:00:00\",\"2021-01-21T00:00:00\",\"2021-01-20T00:00:00\",\"2021-01-19T00:00:00\",\"2021-01-18T00:00:00\",\"2021-01-17T00:00:00\",\"2021-01-16T00:00:00\",\"2021-01-15T00:00:00\",\"2021-01-14T00:00:00\",\"2021-01-13T00:00:00\",\"2021-01-12T00:00:00\",\"2021-01-11T00:00:00\",\"2021-01-10T00:00:00\",\"2021-01-09T00:00:00\",\"2021-01-08T00:00:00\",\"2021-01-07T00:00:00\",\"2021-01-06T00:00:00\",\"2021-01-05T00:00:00\",\"2021-01-04T00:00:00\",\"2021-01-03T00:00:00\",\"2021-01-02T00:00:00\",\"2021-01-01T00:00:00\",\"2020-12-31T00:00:00\",\"2020-12-30T00:00:00\",\"2020-12-29T00:00:00\",\"2020-12-28T00:00:00\",\"2020-12-27T00:00:00\",\"2020-12-26T00:00:00\",\"2020-12-25T00:00:00\",\"2020-12-24T00:00:00\",\"2020-12-23T00:00:00\",\"2020-12-22T00:00:00\",\"2020-12-21T00:00:00\",\"2020-12-20T00:00:00\",\"2020-12-19T00:00:00\",\"2020-12-18T00:00:00\",\"2020-12-17T00:00:00\",\"2020-12-16T00:00:00\",\"2020-12-15T00:00:00\",\"2020-12-14T00:00:00\",\"2020-12-13T00:00:00\",\"2020-12-12T00:00:00\",\"2020-12-11T00:00:00\",\"2020-12-10T00:00:00\",\"2020-12-09T00:00:00\",\"2020-12-08T00:00:00\",\"2020-12-07T00:00:00\",\"2020-12-06T00:00:00\",\"2020-12-05T00:00:00\",\"2020-12-04T00:00:00\",\"2020-12-03T00:00:00\",\"2020-12-02T00:00:00\",\"2020-12-01T00:00:00\",\"2020-11-30T00:00:00\",\"2020-11-29T00:00:00\",\"2020-11-28T00:00:00\",\"2020-11-27T00:00:00\",\"2020-11-26T00:00:00\",\"2020-11-25T00:00:00\",\"2020-11-24T00:00:00\",\"2020-11-23T00:00:00\",\"2020-11-22T00:00:00\",\"2020-11-21T00:00:00\",\"2020-11-20T00:00:00\",\"2020-11-19T00:00:00\",\"2020-11-18T00:00:00\",\"2020-11-17T00:00:00\",\"2020-11-16T00:00:00\",\"2020-11-15T00:00:00\",\"2020-11-14T00:00:00\",\"2020-11-13T00:00:00\",\"2020-11-12T00:00:00\",\"2020-11-11T00:00:00\",\"2020-11-10T00:00:00\",\"2020-11-09T00:00:00\",\"2020-11-08T00:00:00\",\"2020-11-07T00:00:00\",\"2020-11-06T00:00:00\",\"2020-11-05T00:00:00\",\"2020-11-04T00:00:00\",\"2020-11-03T00:00:00\",\"2020-11-02T00:00:00\",\"2020-11-01T00:00:00\",\"2020-10-31T00:00:00\",\"2020-10-30T00:00:00\",\"2020-10-29T00:00:00\",\"2020-10-28T00:00:00\",\"2020-10-27T00:00:00\",\"2020-10-26T00:00:00\",\"2020-10-25T00:00:00\",\"2020-10-24T00:00:00\",\"2020-10-23T00:00:00\",\"2020-10-22T00:00:00\",\"2020-10-21T00:00:00\",\"2020-10-20T00:00:00\",\"2020-10-19T00:00:00\",\"2020-10-18T00:00:00\",\"2020-10-17T00:00:00\",\"2020-10-16T00:00:00\",\"2020-10-15T00:00:00\",\"2020-10-14T00:00:00\",\"2020-10-13T00:00:00\",\"2020-10-12T00:00:00\",\"2020-10-11T00:00:00\",\"2020-10-10T00:00:00\",\"2020-10-09T00:00:00\",\"2020-10-08T00:00:00\",\"2020-10-07T00:00:00\",\"2020-10-06T00:00:00\",\"2020-10-05T00:00:00\",\"2020-10-04T00:00:00\",\"2020-10-03T00:00:00\",\"2020-10-02T00:00:00\",\"2020-10-01T00:00:00\",\"2020-09-30T00:00:00\",\"2020-09-29T00:00:00\",\"2020-09-28T00:00:00\",\"2020-09-27T00:00:00\",\"2020-09-26T00:00:00\",\"2020-09-25T00:00:00\",\"2020-09-24T00:00:00\",\"2020-09-23T00:00:00\",\"2020-09-22T00:00:00\",\"2020-09-21T00:00:00\",\"2020-09-20T00:00:00\",\"2020-09-19T00:00:00\",\"2020-09-18T00:00:00\",\"2020-09-17T00:00:00\",\"2020-09-16T00:00:00\",\"2020-09-15T00:00:00\",\"2020-09-14T00:00:00\",\"2020-09-13T00:00:00\",\"2020-09-12T00:00:00\",\"2020-09-11T00:00:00\",\"2020-09-10T00:00:00\",\"2020-09-09T00:00:00\",\"2020-09-08T00:00:00\",\"2020-09-07T00:00:00\",\"2020-09-06T00:00:00\",\"2020-09-05T00:00:00\",\"2020-09-04T00:00:00\",\"2020-09-03T00:00:00\",\"2020-09-02T00:00:00\",\"2020-09-01T00:00:00\",\"2020-08-31T00:00:00\",\"2020-08-30T00:00:00\",\"2020-08-29T00:00:00\",\"2020-08-28T00:00:00\",\"2020-08-27T00:00:00\",\"2020-08-26T00:00:00\",\"2020-08-25T00:00:00\",\"2020-08-24T00:00:00\",\"2020-08-23T00:00:00\",\"2020-08-22T00:00:00\",\"2020-08-21T00:00:00\",\"2020-08-20T00:00:00\",\"2020-08-19T00:00:00\",\"2020-08-18T00:00:00\",\"2020-08-17T00:00:00\",\"2020-08-16T00:00:00\",\"2020-08-15T00:00:00\",\"2020-08-14T00:00:00\",\"2020-08-13T00:00:00\",\"2020-08-12T00:00:00\",\"2020-08-11T00:00:00\",\"2020-08-10T00:00:00\",\"2020-08-09T00:00:00\",\"2020-08-08T00:00:00\",\"2020-08-07T00:00:00\",\"2020-08-06T00:00:00\",\"2020-08-05T00:00:00\",\"2020-08-04T00:00:00\",\"2020-08-03T00:00:00\",\"2020-08-02T00:00:00\",\"2020-08-01T00:00:00\",\"2020-07-31T00:00:00\",\"2020-07-30T00:00:00\",\"2020-07-29T00:00:00\",\"2020-07-28T00:00:00\",\"2020-07-27T00:00:00\",\"2020-07-26T00:00:00\",\"2020-07-25T00:00:00\",\"2020-07-24T00:00:00\",\"2020-07-23T00:00:00\",\"2020-07-22T00:00:00\",\"2020-07-21T00:00:00\",\"2020-07-20T00:00:00\",\"2020-07-19T00:00:00\",\"2020-07-18T00:00:00\",\"2020-07-17T00:00:00\",\"2020-07-16T00:00:00\",\"2020-07-15T00:00:00\",\"2020-07-14T00:00:00\",\"2020-07-13T00:00:00\",\"2020-07-12T00:00:00\",\"2020-07-11T00:00:00\",\"2020-07-10T00:00:00\",\"2020-07-09T00:00:00\",\"2020-07-08T00:00:00\",\"2020-07-07T00:00:00\",\"2020-07-06T00:00:00\",\"2020-07-05T00:00:00\",\"2020-07-04T00:00:00\",\"2020-07-03T00:00:00\",\"2020-07-02T00:00:00\",\"2020-07-01T00:00:00\",\"2020-06-30T00:00:00\",\"2020-06-29T00:00:00\",\"2020-06-28T00:00:00\",\"2020-06-27T00:00:00\",\"2020-06-26T00:00:00\",\"2020-06-25T00:00:00\",\"2020-06-24T00:00:00\",\"2020-06-23T00:00:00\",\"2020-06-22T00:00:00\",\"2020-06-21T00:00:00\",\"2020-06-20T00:00:00\",\"2020-06-19T00:00:00\",\"2020-06-18T00:00:00\",\"2020-06-17T00:00:00\",\"2020-06-16T00:00:00\",\"2020-06-15T00:00:00\",\"2020-06-14T00:00:00\",\"2020-06-13T00:00:00\",\"2020-06-12T00:00:00\",\"2020-06-11T00:00:00\",\"2020-06-10T00:00:00\",\"2020-06-09T00:00:00\",\"2020-06-08T00:00:00\",\"2020-06-07T00:00:00\",\"2020-06-06T00:00:00\",\"2020-06-05T00:00:00\",\"2020-06-04T00:00:00\",\"2020-06-03T00:00:00\",\"2020-06-02T00:00:00\",\"2020-06-01T00:00:00\",\"2020-05-31T00:00:00\",\"2020-05-30T00:00:00\",\"2020-05-29T00:00:00\",\"2020-05-28T00:00:00\",\"2020-05-27T00:00:00\",\"2020-05-26T00:00:00\",\"2020-05-25T00:00:00\",\"2020-05-24T00:00:00\",\"2020-05-23T00:00:00\",\"2020-05-22T00:00:00\",\"2020-05-21T00:00:00\",\"2020-05-20T00:00:00\",\"2020-05-19T00:00:00\",\"2020-05-18T00:00:00\",\"2020-05-17T00:00:00\",\"2020-05-16T00:00:00\",\"2020-05-15T00:00:00\",\"2020-05-14T00:00:00\",\"2020-05-13T00:00:00\",\"2020-05-12T00:00:00\",\"2020-05-11T00:00:00\",\"2020-05-10T00:00:00\",\"2020-05-09T00:00:00\",\"2020-05-08T00:00:00\",\"2020-05-07T00:00:00\",\"2020-05-06T00:00:00\",\"2020-05-05T00:00:00\",\"2020-05-04T00:00:00\",\"2020-05-03T00:00:00\",\"2020-05-02T00:00:00\",\"2020-05-01T00:00:00\",\"2020-04-30T00:00:00\",\"2020-04-29T00:00:00\",\"2020-04-28T00:00:00\",\"2020-04-27T00:00:00\",\"2020-04-26T00:00:00\",\"2020-04-25T00:00:00\",\"2020-04-24T00:00:00\",\"2020-04-23T00:00:00\",\"2020-04-22T00:00:00\",\"2020-04-21T00:00:00\",\"2020-04-20T00:00:00\",\"2020-04-19T00:00:00\",\"2020-04-18T00:00:00\",\"2020-04-17T00:00:00\",\"2020-04-16T00:00:00\",\"2020-04-15T00:00:00\",\"2020-04-14T00:00:00\",\"2020-04-13T00:00:00\",\"2020-04-12T00:00:00\",\"2020-04-11T00:00:00\",\"2020-04-10T00:00:00\",\"2020-04-09T00:00:00\",\"2020-04-08T00:00:00\",\"2020-04-07T00:00:00\",\"2020-04-06T00:00:00\",\"2020-04-05T00:00:00\",\"2020-04-04T00:00:00\",\"2020-04-03T00:00:00\",\"2020-04-02T00:00:00\",\"2020-04-01T00:00:00\",\"2020-03-31T00:00:00\",\"2020-03-30T00:00:00\",\"2020-03-29T00:00:00\",\"2020-03-28T00:00:00\",\"2020-03-27T00:00:00\",\"2020-03-26T00:00:00\",\"2020-03-25T00:00:00\",\"2020-03-24T00:00:00\",\"2020-03-23T00:00:00\",\"2020-03-22T00:00:00\",\"2020-03-21T00:00:00\",\"2020-03-20T00:00:00\",\"2020-03-19T00:00:00\",\"2020-03-18T00:00:00\",\"2020-03-17T00:00:00\",\"2020-03-16T00:00:00\",\"2020-03-15T00:00:00\",\"2020-03-14T00:00:00\",\"2020-03-13T00:00:00\",\"2020-03-12T00:00:00\",\"2020-03-11T00:00:00\",\"2020-03-10T00:00:00\",\"2020-03-09T00:00:00\",\"2020-03-08T00:00:00\",\"2020-03-07T00:00:00\",\"2020-03-06T00:00:00\",\"2020-03-05T00:00:00\",\"2020-03-04T00:00:00\",\"2020-03-03T00:00:00\",\"2020-03-02T00:00:00\",\"2020-03-01T00:00:00\",\"2020-02-29T00:00:00\",\"2020-02-28T00:00:00\",\"2020-02-27T00:00:00\",\"2020-02-26T00:00:00\",\"2020-02-25T00:00:00\",\"2020-02-24T00:00:00\",\"2020-02-23T00:00:00\",\"2020-02-22T00:00:00\",\"2020-02-21T00:00:00\",\"2020-02-20T00:00:00\",\"2020-02-19T00:00:00\",\"2020-02-18T00:00:00\",\"2020-02-17T00:00:00\",\"2020-02-16T00:00:00\",\"2020-02-15T00:00:00\",\"2020-02-14T00:00:00\",\"2020-02-13T00:00:00\",\"2020-02-12T00:00:00\",\"2020-02-11T00:00:00\",\"2020-02-10T00:00:00\",\"2020-02-09T00:00:00\",\"2020-02-08T00:00:00\",\"2020-02-07T00:00:00\",\"2020-02-06T00:00:00\",\"2020-02-05T00:00:00\",\"2020-02-04T00:00:00\",\"2020-02-03T00:00:00\",\"2020-02-02T00:00:00\",\"2020-02-01T00:00:00\",\"2020-01-31T00:00:00\",\"2020-01-30T00:00:00\",\"2020-01-29T00:00:00\",\"2020-01-28T00:00:00\",\"2020-01-27T00:00:00\",\"2020-01-26T00:00:00\",\"2020-01-25T00:00:00\",\"2020-01-24T00:00:00\",\"2020-01-23T00:00:00\",\"2020-01-22T00:00:00\",\"2020-01-21T00:00:00\",\"2020-01-20T00:00:00\",\"2020-01-19T00:00:00\",\"2020-01-18T00:00:00\",\"2020-01-17T00:00:00\",\"2020-01-16T00:00:00\",\"2020-01-15T00:00:00\",\"2020-01-14T00:00:00\",\"2020-01-13T00:00:00\",\"2020-01-12T00:00:00\",\"2020-01-11T00:00:00\",\"2020-01-10T00:00:00\",\"2020-01-09T00:00:00\",\"2020-01-08T00:00:00\",\"2020-01-07T00:00:00\",\"2020-01-06T00:00:00\",\"2020-01-05T00:00:00\",\"2020-01-04T00:00:00\",\"2020-01-03T00:00:00\",\"2020-01-02T00:00:00\",\"2020-01-01T00:00:00\",\"2019-12-31T00:00:00\",\"2019-12-30T00:00:00\",\"2019-12-29T00:00:00\",\"2019-12-28T00:00:00\",\"2019-12-27T00:00:00\",\"2019-12-26T00:00:00\",\"2019-12-25T00:00:00\",\"2019-12-24T00:00:00\",\"2019-12-23T00:00:00\",\"2019-12-22T00:00:00\",\"2019-12-21T00:00:00\",\"2019-12-20T00:00:00\",\"2019-12-19T00:00:00\",\"2019-12-18T00:00:00\",\"2019-12-17T00:00:00\",\"2019-12-16T00:00:00\",\"2019-12-15T00:00:00\",\"2019-12-14T00:00:00\",\"2019-12-13T00:00:00\",\"2019-12-12T00:00:00\",\"2019-12-11T00:00:00\",\"2019-12-10T00:00:00\",\"2019-12-09T00:00:00\",\"2019-12-08T00:00:00\",\"2019-12-07T00:00:00\",\"2019-12-06T00:00:00\",\"2019-12-05T00:00:00\",\"2019-12-04T00:00:00\",\"2019-12-03T00:00:00\",\"2019-12-02T00:00:00\",\"2019-12-01T00:00:00\",\"2019-11-30T00:00:00\",\"2019-11-29T00:00:00\",\"2019-11-28T00:00:00\",\"2019-11-27T00:00:00\",\"2019-11-26T00:00:00\",\"2019-11-25T00:00:00\",\"2019-11-24T00:00:00\",\"2019-11-23T00:00:00\",\"2019-11-22T00:00:00\",\"2019-11-21T00:00:00\",\"2019-11-20T00:00:00\",\"2019-11-19T00:00:00\",\"2019-11-18T00:00:00\",\"2019-11-17T00:00:00\",\"2019-11-16T00:00:00\",\"2019-11-15T00:00:00\",\"2019-11-14T00:00:00\",\"2019-11-13T00:00:00\",\"2019-11-12T00:00:00\",\"2019-11-11T00:00:00\",\"2019-11-10T00:00:00\",\"2019-11-09T00:00:00\",\"2019-11-08T00:00:00\",\"2019-11-07T00:00:00\",\"2019-11-06T00:00:00\",\"2019-11-05T00:00:00\",\"2019-11-04T00:00:00\",\"2019-11-03T00:00:00\",\"2019-11-02T00:00:00\",\"2019-11-01T00:00:00\",\"2019-10-31T00:00:00\",\"2019-10-30T00:00:00\",\"2019-10-29T00:00:00\",\"2019-10-28T00:00:00\",\"2019-10-27T00:00:00\",\"2019-10-26T00:00:00\",\"2019-10-25T00:00:00\",\"2019-10-24T00:00:00\",\"2019-10-23T00:00:00\",\"2019-10-22T00:00:00\",\"2019-10-21T00:00:00\",\"2019-10-20T00:00:00\",\"2019-10-19T00:00:00\",\"2019-10-18T00:00:00\",\"2019-10-17T00:00:00\",\"2019-10-16T00:00:00\",\"2019-10-15T00:00:00\",\"2019-10-14T00:00:00\",\"2019-10-13T00:00:00\",\"2019-10-12T00:00:00\",\"2019-10-11T00:00:00\",\"2019-10-10T00:00:00\",\"2019-10-09T00:00:00\",\"2019-10-08T00:00:00\",\"2019-10-07T00:00:00\",\"2019-10-06T00:00:00\",\"2019-10-05T00:00:00\",\"2019-10-04T00:00:00\",\"2019-10-03T00:00:00\",\"2019-10-02T00:00:00\",\"2019-10-01T00:00:00\",\"2019-09-30T00:00:00\",\"2019-09-29T00:00:00\",\"2019-09-28T00:00:00\",\"2019-09-27T00:00:00\",\"2019-09-26T00:00:00\",\"2019-09-25T00:00:00\",\"2019-09-24T00:00:00\",\"2019-09-23T00:00:00\",\"2019-09-22T00:00:00\",\"2019-09-21T00:00:00\",\"2019-09-20T00:00:00\",\"2019-09-19T00:00:00\",\"2019-09-18T00:00:00\",\"2019-09-17T00:00:00\",\"2019-09-16T00:00:00\",\"2019-09-15T00:00:00\",\"2019-09-14T00:00:00\",\"2019-09-13T00:00:00\",\"2019-09-12T00:00:00\",\"2019-09-11T00:00:00\",\"2019-09-10T00:00:00\",\"2019-09-09T00:00:00\",\"2019-09-08T00:00:00\",\"2019-09-07T00:00:00\",\"2019-09-06T00:00:00\",\"2019-09-05T00:00:00\",\"2019-09-04T00:00:00\",\"2019-09-03T00:00:00\",\"2019-09-02T00:00:00\",\"2019-09-01T00:00:00\",\"2019-08-31T00:00:00\",\"2019-08-30T00:00:00\",\"2019-08-29T00:00:00\",\"2019-08-28T00:00:00\",\"2019-08-27T00:00:00\",\"2019-08-26T00:00:00\",\"2019-08-25T00:00:00\",\"2019-08-24T00:00:00\",\"2019-08-23T00:00:00\",\"2019-08-22T00:00:00\",\"2019-08-21T00:00:00\",\"2019-08-20T00:00:00\",\"2019-08-19T00:00:00\",\"2019-08-18T00:00:00\",\"2019-08-17T00:00:00\",\"2019-08-16T00:00:00\",\"2019-08-15T00:00:00\",\"2019-08-14T00:00:00\",\"2019-08-13T00:00:00\",\"2019-08-12T00:00:00\",\"2019-08-11T00:00:00\",\"2019-08-10T00:00:00\",\"2019-08-09T00:00:00\",\"2019-08-08T00:00:00\",\"2019-08-07T00:00:00\",\"2019-08-06T00:00:00\",\"2019-08-05T00:00:00\",\"2019-08-04T00:00:00\",\"2019-08-03T00:00:00\",\"2019-08-02T00:00:00\",\"2019-08-01T00:00:00\",\"2019-07-31T00:00:00\",\"2019-07-30T00:00:00\",\"2019-07-29T00:00:00\",\"2019-07-28T00:00:00\",\"2019-07-27T00:00:00\",\"2019-07-26T00:00:00\",\"2019-07-25T00:00:00\",\"2019-07-24T00:00:00\",\"2019-07-23T00:00:00\",\"2019-07-22T00:00:00\",\"2019-07-21T00:00:00\",\"2019-07-20T00:00:00\",\"2019-07-19T00:00:00\",\"2019-07-18T00:00:00\",\"2019-07-17T00:00:00\",\"2019-07-16T00:00:00\",\"2019-07-15T00:00:00\",\"2019-07-14T00:00:00\",\"2019-07-13T00:00:00\",\"2019-07-12T00:00:00\",\"2019-07-11T00:00:00\",\"2019-07-10T00:00:00\",\"2019-07-09T00:00:00\",\"2019-07-08T00:00:00\",\"2019-07-07T00:00:00\",\"2019-07-06T00:00:00\",\"2019-07-05T00:00:00\",\"2019-07-04T00:00:00\",\"2019-07-03T00:00:00\",\"2019-07-02T00:00:00\",\"2019-07-01T00:00:00\",\"2019-06-30T00:00:00\",\"2019-06-29T00:00:00\",\"2019-06-28T00:00:00\",\"2019-06-27T00:00:00\",\"2019-06-26T00:00:00\",\"2019-06-25T00:00:00\",\"2019-06-24T00:00:00\",\"2019-06-23T00:00:00\",\"2019-06-22T00:00:00\",\"2019-06-21T00:00:00\",\"2019-06-20T00:00:00\",\"2019-06-19T00:00:00\",\"2019-06-18T00:00:00\",\"2019-06-17T00:00:00\",\"2019-06-16T00:00:00\",\"2019-06-15T00:00:00\",\"2019-06-14T00:00:00\",\"2019-06-13T00:00:00\",\"2019-06-12T00:00:00\",\"2019-06-11T00:00:00\",\"2019-06-10T00:00:00\",\"2019-06-09T00:00:00\",\"2019-06-08T00:00:00\",\"2019-06-07T00:00:00\",\"2019-06-06T00:00:00\",\"2019-06-05T00:00:00\",\"2019-06-04T00:00:00\",\"2019-06-03T00:00:00\",\"2019-06-02T00:00:00\",\"2019-06-01T00:00:00\",\"2019-05-31T00:00:00\",\"2019-05-30T00:00:00\",\"2019-05-29T00:00:00\",\"2019-05-28T00:00:00\",\"2019-05-27T00:00:00\",\"2019-05-26T00:00:00\",\"2019-05-25T00:00:00\",\"2019-05-24T00:00:00\",\"2019-05-23T00:00:00\",\"2019-05-22T00:00:00\",\"2019-05-21T00:00:00\",\"2019-05-20T00:00:00\",\"2019-05-19T00:00:00\",\"2019-05-18T00:00:00\",\"2019-05-17T00:00:00\",\"2019-05-16T00:00:00\",\"2019-05-15T00:00:00\",\"2019-05-14T00:00:00\",\"2019-05-13T00:00:00\",\"2019-05-12T00:00:00\",\"2019-05-11T00:00:00\",\"2019-05-10T00:00:00\",\"2019-05-09T00:00:00\",\"2019-05-08T00:00:00\",\"2019-05-07T00:00:00\",\"2019-05-06T00:00:00\",\"2019-05-05T00:00:00\",\"2019-05-04T00:00:00\",\"2019-05-03T00:00:00\",\"2019-05-02T00:00:00\",\"2019-05-01T00:00:00\",\"2019-04-30T00:00:00\",\"2019-04-29T00:00:00\",\"2019-04-28T00:00:00\",\"2019-04-27T00:00:00\",\"2019-04-26T00:00:00\",\"2019-04-25T00:00:00\",\"2019-04-24T00:00:00\",\"2019-04-23T00:00:00\",\"2019-04-22T00:00:00\",\"2019-04-21T00:00:00\",\"2019-04-20T00:00:00\",\"2019-04-19T00:00:00\",\"2019-04-18T00:00:00\",\"2019-04-17T00:00:00\",\"2019-04-16T00:00:00\",\"2019-04-15T00:00:00\",\"2019-04-14T00:00:00\",\"2019-04-13T00:00:00\",\"2019-04-12T00:00:00\",\"2019-04-11T00:00:00\",\"2019-04-10T00:00:00\",\"2019-04-09T00:00:00\",\"2019-04-08T00:00:00\",\"2019-04-07T00:00:00\",\"2019-04-06T00:00:00\",\"2019-04-05T00:00:00\",\"2019-04-04T00:00:00\",\"2019-04-03T00:00:00\",\"2019-04-02T00:00:00\",\"2019-04-01T00:00:00\",\"2019-03-31T00:00:00\",\"2019-03-30T00:00:00\",\"2019-03-29T00:00:00\",\"2019-03-28T00:00:00\",\"2019-03-27T00:00:00\",\"2019-03-26T00:00:00\",\"2019-03-25T00:00:00\",\"2019-03-24T00:00:00\",\"2019-03-23T00:00:00\",\"2019-03-22T00:00:00\",\"2019-03-21T00:00:00\",\"2019-03-20T00:00:00\",\"2019-03-19T00:00:00\",\"2019-03-18T00:00:00\",\"2019-03-17T00:00:00\",\"2019-03-16T00:00:00\",\"2019-03-15T00:00:00\",\"2019-03-14T00:00:00\",\"2019-03-13T00:00:00\",\"2019-03-12T00:00:00\",\"2019-03-11T00:00:00\",\"2019-03-10T00:00:00\",\"2019-03-09T00:00:00\",\"2019-03-08T00:00:00\",\"2019-03-07T00:00:00\",\"2019-03-06T00:00:00\",\"2019-03-05T00:00:00\",\"2019-03-04T00:00:00\",\"2019-03-03T00:00:00\",\"2019-03-02T00:00:00\",\"2019-03-01T00:00:00\",\"2019-02-28T00:00:00\",\"2019-02-27T00:00:00\",\"2019-02-26T00:00:00\",\"2019-02-25T00:00:00\",\"2019-02-24T00:00:00\",\"2019-02-23T00:00:00\",\"2019-02-22T00:00:00\",\"2019-02-21T00:00:00\",\"2019-02-20T00:00:00\",\"2019-02-19T00:00:00\",\"2019-02-18T00:00:00\",\"2019-02-17T00:00:00\",\"2019-02-16T00:00:00\",\"2019-02-15T00:00:00\",\"2019-02-14T00:00:00\",\"2019-02-13T00:00:00\",\"2019-02-12T00:00:00\",\"2019-02-11T00:00:00\",\"2019-02-10T00:00:00\",\"2019-02-09T00:00:00\",\"2019-02-08T00:00:00\",\"2019-02-07T00:00:00\",\"2019-02-06T00:00:00\",\"2019-02-05T00:00:00\",\"2019-02-04T00:00:00\",\"2019-02-03T00:00:00\",\"2019-02-02T00:00:00\",\"2019-02-01T00:00:00\",\"2019-01-31T00:00:00\",\"2019-01-30T00:00:00\",\"2019-01-29T00:00:00\",\"2019-01-28T00:00:00\",\"2019-01-27T00:00:00\",\"2019-01-26T00:00:00\",\"2019-01-25T00:00:00\",\"2019-01-24T00:00:00\",\"2019-01-23T00:00:00\",\"2019-01-22T00:00:00\",\"2019-01-21T00:00:00\",\"2019-01-20T00:00:00\",\"2019-01-19T00:00:00\",\"2019-01-18T00:00:00\",\"2019-01-17T00:00:00\",\"2019-01-16T00:00:00\",\"2019-01-15T00:00:00\",\"2019-01-14T00:00:00\",\"2019-01-13T00:00:00\",\"2019-01-12T00:00:00\",\"2019-01-11T00:00:00\",\"2019-01-10T00:00:00\",\"2019-01-09T00:00:00\",\"2019-01-08T00:00:00\",\"2019-01-07T00:00:00\",\"2019-01-06T00:00:00\",\"2019-01-05T00:00:00\",\"2019-01-04T00:00:00\",\"2019-01-03T00:00:00\",\"2019-01-02T00:00:00\",\"2019-01-01T00:00:00\",\"2018-12-31T00:00:00\",\"2018-12-30T00:00:00\",\"2018-12-29T00:00:00\",\"2018-12-28T00:00:00\",\"2018-12-27T00:00:00\",\"2018-12-26T00:00:00\",\"2018-12-25T00:00:00\",\"2018-12-24T00:00:00\",\"2018-12-23T00:00:00\",\"2018-12-22T00:00:00\",\"2018-12-21T00:00:00\",\"2018-12-20T00:00:00\",\"2018-12-19T00:00:00\",\"2018-12-18T00:00:00\",\"2018-12-17T00:00:00\",\"2018-12-16T00:00:00\",\"2018-12-15T00:00:00\",\"2018-12-14T00:00:00\",\"2018-12-13T00:00:00\",\"2018-12-12T00:00:00\",\"2018-12-11T00:00:00\",\"2018-12-10T00:00:00\",\"2018-12-09T00:00:00\",\"2018-12-08T00:00:00\",\"2018-12-07T00:00:00\",\"2018-12-06T00:00:00\",\"2018-12-05T00:00:00\",\"2018-12-04T00:00:00\",\"2018-12-03T00:00:00\",\"2018-12-02T00:00:00\",\"2018-12-01T00:00:00\",\"2018-11-30T00:00:00\",\"2018-11-29T00:00:00\",\"2018-11-28T00:00:00\",\"2018-11-27T00:00:00\",\"2018-11-26T00:00:00\",\"2018-11-25T00:00:00\",\"2018-11-24T00:00:00\",\"2018-11-23T00:00:00\",\"2018-11-22T00:00:00\",\"2018-11-21T00:00:00\",\"2018-11-20T00:00:00\",\"2018-11-19T00:00:00\",\"2018-11-18T00:00:00\",\"2018-11-17T00:00:00\",\"2018-11-16T00:00:00\",\"2018-11-15T00:00:00\",\"2018-11-14T00:00:00\",\"2018-11-13T00:00:00\",\"2018-11-12T00:00:00\",\"2018-11-11T00:00:00\",\"2018-11-10T00:00:00\",\"2018-11-09T00:00:00\",\"2018-11-08T00:00:00\",\"2018-11-07T00:00:00\",\"2018-11-06T00:00:00\",\"2018-11-05T00:00:00\",\"2018-11-04T00:00:00\",\"2018-11-03T00:00:00\",\"2018-11-02T00:00:00\",\"2018-11-01T00:00:00\",\"2018-10-31T00:00:00\",\"2018-10-30T00:00:00\",\"2018-10-29T00:00:00\",\"2018-10-28T00:00:00\",\"2018-10-27T00:00:00\",\"2018-10-26T00:00:00\",\"2018-10-25T00:00:00\",\"2018-10-24T00:00:00\",\"2018-10-23T00:00:00\",\"2018-10-22T00:00:00\",\"2018-10-21T00:00:00\",\"2018-10-20T00:00:00\",\"2018-10-19T00:00:00\",\"2018-10-18T00:00:00\",\"2018-10-17T00:00:00\",\"2018-10-16T00:00:00\",\"2018-10-15T00:00:00\",\"2018-10-14T00:00:00\",\"2018-10-13T00:00:00\",\"2018-10-12T00:00:00\",\"2018-10-11T00:00:00\",\"2018-10-10T00:00:00\",\"2018-10-09T00:00:00\",\"2018-10-08T00:00:00\",\"2018-10-07T00:00:00\",\"2018-10-06T00:00:00\",\"2018-10-05T00:00:00\",\"2018-10-04T00:00:00\",\"2018-10-03T00:00:00\",\"2018-10-02T00:00:00\",\"2018-10-01T00:00:00\",\"2018-09-30T00:00:00\",\"2018-09-29T00:00:00\",\"2018-09-28T00:00:00\",\"2018-09-27T00:00:00\",\"2018-09-26T00:00:00\",\"2018-09-25T00:00:00\",\"2018-09-24T00:00:00\",\"2018-09-23T00:00:00\",\"2018-09-22T00:00:00\",\"2018-09-21T00:00:00\",\"2018-09-20T00:00:00\",\"2018-09-19T00:00:00\",\"2018-09-18T00:00:00\",\"2018-09-17T00:00:00\",\"2018-09-16T00:00:00\",\"2018-09-15T00:00:00\",\"2018-09-14T00:00:00\",\"2018-09-13T00:00:00\",\"2018-09-12T00:00:00\",\"2018-09-11T00:00:00\",\"2018-09-10T00:00:00\",\"2018-09-09T00:00:00\",\"2018-09-08T00:00:00\",\"2018-09-07T00:00:00\",\"2018-09-06T00:00:00\",\"2018-09-05T00:00:00\",\"2018-09-04T00:00:00\",\"2018-09-03T00:00:00\",\"2018-09-02T00:00:00\",\"2018-09-01T00:00:00\",\"2018-08-31T00:00:00\",\"2018-08-30T00:00:00\",\"2018-08-29T00:00:00\",\"2018-08-28T00:00:00\",\"2018-08-27T00:00:00\",\"2018-08-26T00:00:00\",\"2018-08-25T00:00:00\",\"2018-08-24T00:00:00\",\"2018-08-23T00:00:00\",\"2018-08-22T00:00:00\",\"2018-08-21T00:00:00\",\"2018-08-20T00:00:00\",\"2018-08-19T00:00:00\",\"2018-08-18T00:00:00\",\"2018-08-17T00:00:00\",\"2018-08-16T00:00:00\",\"2018-08-15T00:00:00\",\"2018-08-14T00:00:00\",\"2018-08-13T00:00:00\",\"2018-08-12T00:00:00\",\"2018-08-11T00:00:00\",\"2018-08-10T00:00:00\",\"2018-08-09T00:00:00\",\"2018-08-08T00:00:00\",\"2018-08-07T00:00:00\",\"2018-08-06T00:00:00\",\"2018-08-05T00:00:00\",\"2018-08-04T00:00:00\",\"2018-08-03T00:00:00\",\"2018-08-02T00:00:00\",\"2018-08-01T00:00:00\",\"2018-07-31T00:00:00\",\"2018-07-30T00:00:00\",\"2018-07-29T00:00:00\",\"2018-07-28T00:00:00\",\"2018-07-27T00:00:00\",\"2018-07-26T00:00:00\",\"2018-07-25T00:00:00\",\"2018-07-24T00:00:00\",\"2018-07-23T00:00:00\",\"2018-07-22T00:00:00\",\"2018-07-21T00:00:00\",\"2018-07-20T00:00:00\",\"2018-07-19T00:00:00\",\"2018-07-18T00:00:00\",\"2018-07-17T00:00:00\",\"2018-07-16T00:00:00\",\"2018-07-15T00:00:00\",\"2018-07-14T00:00:00\",\"2018-07-13T00:00:00\",\"2018-07-12T00:00:00\",\"2018-07-11T00:00:00\",\"2018-07-10T00:00:00\",\"2018-07-09T00:00:00\",\"2018-07-08T00:00:00\",\"2018-07-07T00:00:00\",\"2018-07-06T00:00:00\",\"2018-07-05T00:00:00\",\"2018-07-04T00:00:00\",\"2018-07-03T00:00:00\",\"2018-07-02T00:00:00\",\"2018-07-01T00:00:00\",\"2018-06-30T00:00:00\",\"2018-06-29T00:00:00\",\"2018-06-28T00:00:00\",\"2018-06-27T00:00:00\",\"2018-06-26T00:00:00\",\"2018-06-25T00:00:00\",\"2018-06-24T00:00:00\",\"2018-06-23T00:00:00\",\"2018-06-22T00:00:00\",\"2018-06-21T00:00:00\",\"2018-06-20T00:00:00\",\"2018-06-19T00:00:00\",\"2018-06-18T00:00:00\",\"2018-06-17T00:00:00\",\"2018-06-16T00:00:00\",\"2018-06-15T00:00:00\",\"2018-06-14T00:00:00\",\"2018-06-13T00:00:00\",\"2018-06-12T00:00:00\",\"2018-06-11T00:00:00\",\"2018-06-10T00:00:00\",\"2018-06-09T00:00:00\",\"2018-06-08T00:00:00\",\"2018-06-07T00:00:00\",\"2018-06-06T00:00:00\",\"2018-06-05T00:00:00\",\"2018-06-04T00:00:00\",\"2018-06-03T00:00:00\",\"2018-06-02T00:00:00\",\"2018-06-01T00:00:00\",\"2018-05-31T00:00:00\",\"2018-05-30T00:00:00\",\"2018-05-29T00:00:00\",\"2018-05-28T00:00:00\",\"2018-05-27T00:00:00\",\"2018-05-26T00:00:00\",\"2018-05-25T00:00:00\",\"2018-05-24T00:00:00\",\"2018-05-23T00:00:00\",\"2018-05-22T00:00:00\",\"2018-05-21T00:00:00\",\"2018-05-20T00:00:00\",\"2018-05-19T00:00:00\",\"2018-05-18T00:00:00\",\"2018-05-17T00:00:00\",\"2018-05-16T00:00:00\",\"2018-05-15T00:00:00\",\"2018-05-14T00:00:00\",\"2018-05-13T00:00:00\",\"2018-05-12T00:00:00\",\"2018-05-11T00:00:00\",\"2018-05-10T00:00:00\",\"2018-05-09T00:00:00\",\"2018-05-08T00:00:00\",\"2018-05-07T00:00:00\",\"2018-05-06T00:00:00\",\"2018-05-05T00:00:00\",\"2018-05-04T00:00:00\",\"2018-05-03T00:00:00\",\"2018-05-02T00:00:00\",\"2018-05-01T00:00:00\",\"2018-04-30T00:00:00\",\"2018-04-29T00:00:00\",\"2018-04-28T00:00:00\",\"2018-04-27T00:00:00\",\"2018-04-26T00:00:00\",\"2018-04-25T00:00:00\",\"2018-04-24T00:00:00\",\"2018-04-23T00:00:00\",\"2018-04-22T00:00:00\",\"2018-04-21T00:00:00\",\"2018-04-20T00:00:00\",\"2018-04-19T00:00:00\",\"2018-04-18T00:00:00\",\"2018-04-17T00:00:00\",\"2018-04-16T00:00:00\",\"2018-04-15T00:00:00\",\"2018-04-14T00:00:00\",\"2018-04-13T00:00:00\",\"2018-04-12T00:00:00\",\"2018-04-11T00:00:00\",\"2018-04-10T00:00:00\",\"2018-04-09T00:00:00\",\"2018-04-08T00:00:00\",\"2018-04-07T00:00:00\",\"2018-04-06T00:00:00\",\"2018-04-05T00:00:00\",\"2018-04-04T00:00:00\",\"2018-04-03T00:00:00\",\"2018-04-02T00:00:00\",\"2018-04-01T00:00:00\",\"2018-03-31T00:00:00\",\"2018-03-30T00:00:00\",\"2018-03-29T00:00:00\",\"2018-03-28T00:00:00\",\"2018-03-27T00:00:00\",\"2018-03-26T00:00:00\",\"2018-03-25T00:00:00\",\"2018-03-24T00:00:00\",\"2018-03-23T00:00:00\",\"2018-03-22T00:00:00\",\"2018-03-21T00:00:00\",\"2018-03-20T00:00:00\",\"2018-03-19T00:00:00\",\"2018-03-18T00:00:00\",\"2018-03-17T00:00:00\",\"2018-03-16T00:00:00\",\"2018-03-15T00:00:00\",\"2018-03-14T00:00:00\",\"2018-03-13T00:00:00\",\"2018-03-12T00:00:00\",\"2018-03-11T00:00:00\",\"2018-03-10T00:00:00\",\"2018-03-09T00:00:00\",\"2018-03-08T00:00:00\",\"2018-03-07T00:00:00\",\"2018-03-06T00:00:00\",\"2018-03-05T00:00:00\",\"2018-03-04T00:00:00\",\"2018-03-03T00:00:00\",\"2018-03-02T00:00:00\",\"2018-03-01T00:00:00\",\"2018-02-28T00:00:00\",\"2018-02-27T00:00:00\",\"2018-02-26T00:00:00\",\"2018-02-25T00:00:00\",\"2018-02-24T00:00:00\",\"2018-02-23T00:00:00\",\"2018-02-22T00:00:00\",\"2018-02-21T00:00:00\",\"2018-02-20T00:00:00\",\"2018-02-19T00:00:00\",\"2018-02-18T00:00:00\",\"2018-02-17T00:00:00\",\"2018-02-16T00:00:00\",\"2018-02-15T00:00:00\",\"2018-02-14T00:00:00\",\"2018-02-13T00:00:00\",\"2018-02-12T00:00:00\",\"2018-02-11T00:00:00\",\"2018-02-10T00:00:00\",\"2018-02-09T00:00:00\",\"2018-02-08T00:00:00\",\"2018-02-07T00:00:00\",\"2018-02-06T00:00:00\",\"2018-02-05T00:00:00\",\"2018-02-04T00:00:00\",\"2018-02-03T00:00:00\",\"2018-02-02T00:00:00\",\"2018-02-01T00:00:00\",\"2018-01-31T00:00:00\",\"2018-01-30T00:00:00\",\"2018-01-29T00:00:00\",\"2018-01-28T00:00:00\",\"2018-01-27T00:00:00\",\"2018-01-26T00:00:00\",\"2018-01-25T00:00:00\",\"2018-01-24T00:00:00\",\"2018-01-23T00:00:00\",\"2018-01-22T00:00:00\",\"2018-01-21T00:00:00\",\"2018-01-20T00:00:00\",\"2018-01-19T00:00:00\",\"2018-01-18T00:00:00\",\"2018-01-17T00:00:00\",\"2018-01-16T00:00:00\",\"2018-01-15T00:00:00\",\"2018-01-14T00:00:00\",\"2018-01-13T00:00:00\",\"2018-01-12T00:00:00\",\"2018-01-11T00:00:00\",\"2018-01-10T00:00:00\",\"2018-01-09T00:00:00\",\"2018-01-08T00:00:00\",\"2018-01-07T00:00:00\",\"2018-01-06T00:00:00\",\"2018-01-05T00:00:00\",\"2018-01-04T00:00:00\",\"2018-01-03T00:00:00\",\"2018-01-02T00:00:00\",\"2018-01-01T00:00:00\",\"2017-12-31T00:00:00\",\"2017-12-30T00:00:00\",\"2017-12-29T00:00:00\",\"2017-12-28T00:00:00\",\"2017-12-27T00:00:00\",\"2017-12-26T00:00:00\",\"2017-12-25T00:00:00\",\"2017-12-24T00:00:00\",\"2017-12-23T00:00:00\",\"2017-12-22T00:00:00\",\"2017-12-21T00:00:00\",\"2017-12-20T00:00:00\",\"2017-12-19T00:00:00\",\"2017-12-18T00:00:00\",\"2017-12-17T00:00:00\",\"2017-12-16T00:00:00\",\"2017-12-15T00:00:00\",\"2017-12-14T00:00:00\",\"2017-12-13T00:00:00\",\"2017-12-12T00:00:00\",\"2017-12-11T00:00:00\",\"2017-12-10T00:00:00\",\"2017-12-09T00:00:00\",\"2017-12-08T00:00:00\",\"2017-12-07T00:00:00\",\"2017-12-06T00:00:00\",\"2017-12-05T00:00:00\",\"2017-12-04T00:00:00\",\"2017-12-03T00:00:00\",\"2017-12-02T00:00:00\",\"2017-12-01T00:00:00\",\"2017-11-30T00:00:00\",\"2017-11-29T00:00:00\",\"2017-11-28T00:00:00\",\"2017-11-27T00:00:00\",\"2017-11-26T00:00:00\",\"2017-11-25T00:00:00\",\"2017-11-24T00:00:00\",\"2017-11-23T00:00:00\",\"2017-11-22T00:00:00\",\"2017-11-21T00:00:00\",\"2017-11-20T00:00:00\",\"2017-11-19T00:00:00\",\"2017-11-18T00:00:00\",\"2017-11-17T00:00:00\",\"2017-11-16T00:00:00\",\"2017-11-15T00:00:00\",\"2017-11-14T00:00:00\",\"2017-11-13T00:00:00\",\"2017-11-12T00:00:00\",\"2017-11-11T00:00:00\",\"2017-11-10T00:00:00\",\"2017-11-09T00:00:00\",\"2017-11-08T00:00:00\",\"2017-11-07T00:00:00\",\"2017-11-06T00:00:00\",\"2017-11-05T00:00:00\",\"2017-11-04T00:00:00\",\"2017-11-03T00:00:00\",\"2017-11-02T00:00:00\",\"2017-11-01T00:00:00\",\"2017-10-31T00:00:00\",\"2017-10-30T00:00:00\",\"2017-10-29T00:00:00\",\"2017-10-28T00:00:00\",\"2017-10-27T00:00:00\",\"2017-10-26T00:00:00\",\"2017-10-25T00:00:00\",\"2017-10-24T00:00:00\",\"2017-10-23T00:00:00\",\"2017-10-22T00:00:00\",\"2017-10-21T00:00:00\",\"2017-10-20T00:00:00\",\"2017-10-19T00:00:00\",\"2017-10-18T00:00:00\",\"2017-10-17T00:00:00\",\"2017-10-16T00:00:00\",\"2017-10-15T00:00:00\",\"2017-10-14T00:00:00\",\"2017-10-13T00:00:00\",\"2017-10-12T00:00:00\",\"2017-10-11T00:00:00\",\"2017-10-10T00:00:00\",\"2017-10-09T00:00:00\",\"2017-10-08T00:00:00\",\"2017-10-07T00:00:00\",\"2017-10-06T00:00:00\",\"2017-10-05T00:00:00\",\"2017-10-04T00:00:00\",\"2017-10-03T00:00:00\",\"2017-10-02T00:00:00\",\"2017-10-01T00:00:00\",\"2017-09-30T00:00:00\",\"2017-09-29T00:00:00\",\"2017-09-28T00:00:00\",\"2017-09-27T00:00:00\",\"2017-09-26T00:00:00\",\"2017-09-25T00:00:00\",\"2017-09-24T00:00:00\",\"2017-09-23T00:00:00\",\"2017-09-22T00:00:00\",\"2017-09-21T00:00:00\",\"2017-09-20T00:00:00\",\"2017-09-19T00:00:00\",\"2017-09-18T00:00:00\",\"2017-09-17T00:00:00\",\"2017-09-16T00:00:00\",\"2017-09-15T00:00:00\",\"2017-09-14T00:00:00\",\"2017-09-13T00:00:00\",\"2017-09-12T00:00:00\",\"2017-09-11T00:00:00\",\"2017-09-10T00:00:00\",\"2017-09-09T00:00:00\",\"2017-09-08T00:00:00\",\"2017-09-07T00:00:00\",\"2017-09-06T00:00:00\",\"2017-09-05T00:00:00\",\"2017-09-04T00:00:00\",\"2017-09-03T00:00:00\",\"2017-09-02T00:00:00\",\"2017-09-01T00:00:00\",\"2017-08-31T00:00:00\",\"2017-08-30T00:00:00\",\"2017-08-29T00:00:00\",\"2017-08-28T00:00:00\",\"2017-08-27T00:00:00\",\"2017-08-26T00:00:00\",\"2017-08-25T00:00:00\",\"2017-08-24T00:00:00\",\"2017-08-23T00:00:00\",\"2017-08-22T00:00:00\",\"2017-08-21T00:00:00\",\"2017-08-20T00:00:00\",\"2017-08-19T00:00:00\",\"2017-08-18T00:00:00\",\"2017-08-17T00:00:00\",\"2017-08-16T00:00:00\",\"2017-08-15T00:00:00\",\"2017-08-14T00:00:00\",\"2017-08-13T00:00:00\",\"2017-08-12T00:00:00\",\"2017-08-11T00:00:00\",\"2017-08-10T00:00:00\",\"2017-08-09T00:00:00\",\"2017-08-08T00:00:00\",\"2017-08-07T00:00:00\",\"2017-08-06T00:00:00\",\"2017-08-05T00:00:00\",\"2017-08-04T00:00:00\",\"2017-08-03T00:00:00\",\"2017-08-02T00:00:00\",\"2017-08-01T00:00:00\",\"2017-07-31T00:00:00\",\"2017-07-30T00:00:00\",\"2017-07-29T00:00:00\",\"2017-07-28T00:00:00\",\"2017-07-27T00:00:00\",\"2017-07-26T00:00:00\",\"2017-07-25T00:00:00\",\"2017-07-24T00:00:00\",\"2017-07-23T00:00:00\",\"2017-07-22T00:00:00\",\"2017-07-21T00:00:00\",\"2017-07-20T00:00:00\",\"2017-07-19T00:00:00\",\"2017-07-18T00:00:00\",\"2017-07-17T00:00:00\",\"2017-07-16T00:00:00\",\"2017-07-15T00:00:00\",\"2017-07-14T00:00:00\",\"2017-07-13T00:00:00\",\"2017-07-12T00:00:00\",\"2017-07-11T00:00:00\",\"2017-07-10T00:00:00\",\"2017-07-09T00:00:00\",\"2017-07-08T00:00:00\",\"2017-07-07T00:00:00\",\"2017-07-06T00:00:00\",\"2017-07-05T00:00:00\",\"2017-07-04T00:00:00\",\"2017-07-03T00:00:00\",\"2017-07-02T00:00:00\",\"2017-07-01T00:00:00\",\"2017-06-30T00:00:00\",\"2017-06-29T00:00:00\",\"2017-06-28T00:00:00\",\"2017-06-27T00:00:00\",\"2017-06-26T00:00:00\",\"2017-06-25T00:00:00\",\"2017-06-24T00:00:00\",\"2017-06-23T00:00:00\",\"2017-06-22T00:00:00\",\"2017-06-21T00:00:00\",\"2017-06-20T00:00:00\",\"2017-06-19T00:00:00\",\"2017-06-18T00:00:00\",\"2017-06-17T00:00:00\",\"2017-06-16T00:00:00\",\"2017-06-15T00:00:00\",\"2017-06-14T00:00:00\",\"2017-06-13T00:00:00\",\"2017-06-12T00:00:00\",\"2017-06-11T00:00:00\",\"2017-06-10T00:00:00\",\"2017-06-09T00:00:00\",\"2017-06-08T00:00:00\",\"2017-06-07T00:00:00\",\"2017-06-06T00:00:00\",\"2017-06-05T00:00:00\",\"2017-06-04T00:00:00\",\"2017-06-03T00:00:00\",\"2017-06-02T00:00:00\",\"2017-06-01T00:00:00\",\"2017-05-31T00:00:00\",\"2017-05-30T00:00:00\",\"2017-05-29T00:00:00\",\"2017-05-28T00:00:00\",\"2017-05-27T00:00:00\",\"2017-05-26T00:00:00\",\"2017-05-25T00:00:00\",\"2017-05-24T00:00:00\",\"2017-05-23T00:00:00\",\"2017-05-22T00:00:00\",\"2017-05-21T00:00:00\",\"2017-05-20T00:00:00\",\"2017-05-19T00:00:00\",\"2017-05-18T00:00:00\",\"2017-05-17T00:00:00\",\"2017-05-16T00:00:00\",\"2017-05-15T00:00:00\",\"2017-05-14T00:00:00\",\"2017-05-13T00:00:00\",\"2017-05-12T00:00:00\",\"2017-05-11T00:00:00\",\"2017-05-10T00:00:00\",\"2017-05-09T00:00:00\",\"2017-05-08T00:00:00\",\"2017-05-07T00:00:00\",\"2017-05-06T00:00:00\",\"2017-05-05T00:00:00\",\"2017-05-04T00:00:00\",\"2017-05-03T00:00:00\",\"2017-05-02T00:00:00\",\"2017-05-01T00:00:00\",\"2017-04-30T00:00:00\",\"2017-04-29T00:00:00\",\"2017-04-28T00:00:00\",\"2017-04-27T00:00:00\",\"2017-04-26T00:00:00\",\"2017-04-25T00:00:00\",\"2017-04-24T00:00:00\",\"2017-04-23T00:00:00\",\"2017-04-22T00:00:00\",\"2017-04-21T00:00:00\",\"2017-04-20T00:00:00\",\"2017-04-19T00:00:00\",\"2017-04-18T00:00:00\",\"2017-04-17T00:00:00\",\"2017-04-16T00:00:00\",\"2017-04-15T00:00:00\",\"2017-04-14T00:00:00\",\"2017-04-13T00:00:00\",\"2017-04-12T00:00:00\",\"2017-04-11T00:00:00\",\"2017-04-10T00:00:00\",\"2017-04-09T00:00:00\",\"2017-04-08T00:00:00\",\"2017-04-07T00:00:00\",\"2017-04-06T00:00:00\",\"2017-04-05T00:00:00\",\"2017-04-04T00:00:00\",\"2017-04-03T00:00:00\",\"2017-04-02T00:00:00\",\"2017-04-01T00:00:00\",\"2017-03-31T00:00:00\",\"2017-03-30T00:00:00\",\"2017-03-29T00:00:00\",\"2017-03-28T00:00:00\",\"2017-03-27T00:00:00\",\"2017-03-26T00:00:00\",\"2017-03-25T00:00:00\",\"2017-03-24T00:00:00\",\"2017-03-23T00:00:00\",\"2017-03-22T00:00:00\",\"2017-03-21T00:00:00\",\"2017-03-20T00:00:00\",\"2017-03-19T00:00:00\",\"2017-03-18T00:00:00\",\"2017-03-17T00:00:00\",\"2017-03-16T00:00:00\",\"2017-03-15T00:00:00\",\"2017-03-14T00:00:00\",\"2017-03-13T00:00:00\",\"2017-03-12T00:00:00\",\"2017-03-11T00:00:00\",\"2017-03-10T00:00:00\",\"2017-03-09T00:00:00\",\"2017-03-08T00:00:00\",\"2017-03-07T00:00:00\",\"2017-03-06T00:00:00\",\"2017-03-05T00:00:00\",\"2017-03-04T00:00:00\",\"2017-03-03T00:00:00\",\"2017-03-02T00:00:00\",\"2017-03-01T00:00:00\",\"2017-02-28T00:00:00\",\"2017-02-27T00:00:00\",\"2017-02-26T00:00:00\",\"2017-02-25T00:00:00\",\"2017-02-24T00:00:00\",\"2017-02-23T00:00:00\",\"2017-02-22T00:00:00\",\"2017-02-21T00:00:00\",\"2017-02-20T00:00:00\",\"2017-02-19T00:00:00\",\"2017-02-18T00:00:00\",\"2017-02-17T00:00:00\",\"2017-02-16T00:00:00\",\"2017-02-15T00:00:00\",\"2017-02-14T00:00:00\",\"2017-02-13T00:00:00\",\"2017-02-12T00:00:00\",\"2017-02-11T00:00:00\",\"2017-02-10T00:00:00\",\"2017-02-09T00:00:00\",\"2017-02-08T00:00:00\",\"2017-02-07T00:00:00\",\"2017-02-06T00:00:00\",\"2017-02-05T00:00:00\",\"2017-02-04T00:00:00\",\"2017-02-03T00:00:00\",\"2017-02-02T00:00:00\",\"2017-02-01T00:00:00\",\"2017-01-31T00:00:00\",\"2017-01-30T00:00:00\",\"2017-01-29T00:00:00\",\"2017-01-28T00:00:00\",\"2017-01-27T00:00:00\",\"2017-01-26T00:00:00\",\"2017-01-25T00:00:00\",\"2017-01-24T00:00:00\",\"2017-01-23T00:00:00\",\"2017-01-22T00:00:00\",\"2017-01-21T00:00:00\",\"2017-01-20T00:00:00\",\"2017-01-19T00:00:00\",\"2017-01-18T00:00:00\",\"2017-01-17T00:00:00\",\"2017-01-16T00:00:00\",\"2017-01-15T00:00:00\",\"2017-01-14T00:00:00\",\"2017-01-13T00:00:00\",\"2017-01-12T00:00:00\",\"2017-01-11T00:00:00\",\"2017-01-10T00:00:00\",\"2017-01-09T00:00:00\",\"2017-01-08T00:00:00\",\"2017-01-07T00:00:00\",\"2017-01-06T00:00:00\",\"2017-01-05T00:00:00\",\"2017-01-04T00:00:00\",\"2017-01-03T00:00:00\",\"2017-01-02T00:00:00\",\"2017-01-01T00:00:00\",\"2016-12-31T00:00:00\",\"2016-12-30T00:00:00\",\"2016-12-29T00:00:00\",\"2016-12-28T00:00:00\",\"2016-12-27T00:00:00\",\"2016-12-26T00:00:00\",\"2016-12-25T00:00:00\",\"2016-12-24T00:00:00\",\"2016-12-23T00:00:00\",\"2016-12-22T00:00:00\",\"2016-12-21T00:00:00\",\"2016-12-20T00:00:00\",\"2016-12-19T00:00:00\",\"2016-12-18T00:00:00\",\"2016-12-17T00:00:00\",\"2016-12-16T00:00:00\",\"2016-12-15T00:00:00\",\"2016-12-14T00:00:00\",\"2016-12-13T00:00:00\",\"2016-12-12T00:00:00\",\"2016-12-11T00:00:00\",\"2016-12-10T00:00:00\",\"2016-12-09T00:00:00\",\"2016-12-08T00:00:00\",\"2016-12-07T00:00:00\",\"2016-12-06T00:00:00\",\"2016-12-05T00:00:00\",\"2016-12-04T00:00:00\",\"2016-12-03T00:00:00\",\"2016-12-02T00:00:00\",\"2016-12-01T00:00:00\",\"2016-11-30T00:00:00\",\"2016-11-29T00:00:00\",\"2016-11-28T00:00:00\",\"2016-11-27T00:00:00\",\"2016-11-26T00:00:00\",\"2016-11-25T00:00:00\",\"2016-11-24T00:00:00\",\"2016-11-23T00:00:00\",\"2016-11-22T00:00:00\",\"2016-11-21T00:00:00\",\"2016-11-20T00:00:00\",\"2016-11-19T00:00:00\",\"2016-11-18T00:00:00\",\"2016-11-17T00:00:00\",\"2016-11-16T00:00:00\",\"2016-11-15T00:00:00\",\"2016-11-14T00:00:00\",\"2016-11-13T00:00:00\",\"2016-11-12T00:00:00\",\"2016-11-11T00:00:00\",\"2016-11-10T00:00:00\",\"2016-11-09T00:00:00\",\"2016-11-08T00:00:00\",\"2016-11-07T00:00:00\",\"2016-11-06T00:00:00\",\"2016-11-05T00:00:00\",\"2016-11-04T00:00:00\",\"2016-11-03T00:00:00\",\"2016-11-02T00:00:00\",\"2016-11-01T00:00:00\",\"2016-10-31T00:00:00\",\"2016-10-30T00:00:00\",\"2016-10-29T00:00:00\",\"2016-10-28T00:00:00\",\"2016-10-27T00:00:00\",\"2016-10-26T00:00:00\",\"2016-10-25T00:00:00\",\"2016-10-24T00:00:00\",\"2016-10-23T00:00:00\",\"2016-10-22T00:00:00\",\"2016-10-21T00:00:00\",\"2016-10-20T00:00:00\",\"2016-10-19T00:00:00\",\"2016-10-18T00:00:00\",\"2016-10-17T00:00:00\",\"2016-10-16T00:00:00\",\"2016-10-15T00:00:00\",\"2016-10-14T00:00:00\",\"2016-10-13T00:00:00\",\"2016-10-12T00:00:00\",\"2016-10-11T00:00:00\",\"2016-10-10T00:00:00\",\"2016-10-09T00:00:00\",\"2016-10-08T00:00:00\",\"2016-10-07T00:00:00\",\"2016-10-06T00:00:00\",\"2016-10-05T00:00:00\",\"2016-10-04T00:00:00\",\"2016-10-03T00:00:00\",\"2016-10-02T00:00:00\",\"2016-10-01T00:00:00\",\"2016-09-30T00:00:00\",\"2016-09-29T00:00:00\",\"2016-09-28T00:00:00\",\"2016-09-27T00:00:00\",\"2016-09-26T00:00:00\",\"2016-09-25T00:00:00\",\"2016-09-24T00:00:00\",\"2016-09-23T00:00:00\",\"2016-09-22T00:00:00\",\"2016-09-21T00:00:00\",\"2016-09-20T00:00:00\",\"2016-09-19T00:00:00\",\"2016-09-18T00:00:00\",\"2016-09-17T00:00:00\",\"2016-09-16T00:00:00\",\"2016-09-15T00:00:00\",\"2016-09-14T00:00:00\",\"2016-09-13T00:00:00\",\"2016-09-12T00:00:00\",\"2016-09-11T00:00:00\",\"2016-09-10T00:00:00\",\"2016-09-09T00:00:00\",\"2016-09-08T00:00:00\",\"2016-09-07T00:00:00\",\"2016-09-06T00:00:00\",\"2016-09-05T00:00:00\",\"2016-09-04T00:00:00\",\"2016-09-03T00:00:00\",\"2016-09-02T00:00:00\",\"2016-09-01T00:00:00\",\"2016-08-31T00:00:00\",\"2016-08-30T00:00:00\",\"2016-08-29T00:00:00\",\"2016-08-28T00:00:00\",\"2016-08-27T00:00:00\",\"2016-08-26T00:00:00\",\"2016-08-25T00:00:00\",\"2016-08-24T00:00:00\",\"2016-08-23T00:00:00\",\"2016-08-22T00:00:00\",\"2016-08-21T00:00:00\",\"2016-08-20T00:00:00\",\"2016-08-19T00:00:00\",\"2016-08-18T00:00:00\",\"2016-08-17T00:00:00\",\"2016-08-16T00:00:00\",\"2016-08-15T00:00:00\",\"2016-08-14T00:00:00\",\"2016-08-13T00:00:00\",\"2016-08-12T00:00:00\",\"2016-08-11T00:00:00\",\"2016-08-10T00:00:00\",\"2016-08-09T00:00:00\",\"2016-08-08T00:00:00\",\"2016-08-07T00:00:00\",\"2016-08-06T00:00:00\",\"2016-08-05T00:00:00\",\"2016-08-04T00:00:00\",\"2016-08-03T00:00:00\",\"2016-08-02T00:00:00\",\"2016-08-01T00:00:00\",\"2016-07-31T00:00:00\",\"2016-07-30T00:00:00\",\"2016-07-29T00:00:00\",\"2016-07-28T00:00:00\",\"2016-07-27T00:00:00\",\"2016-07-26T00:00:00\",\"2016-07-25T00:00:00\",\"2016-07-24T00:00:00\",\"2016-07-23T00:00:00\",\"2016-07-22T00:00:00\",\"2016-07-21T00:00:00\",\"2016-07-20T00:00:00\",\"2016-07-19T00:00:00\",\"2016-07-18T00:00:00\",\"2016-07-17T00:00:00\",\"2016-07-16T00:00:00\",\"2016-07-15T00:00:00\",\"2016-07-14T00:00:00\",\"2016-07-13T00:00:00\",\"2016-07-12T00:00:00\",\"2016-07-11T00:00:00\",\"2016-07-10T00:00:00\",\"2016-07-09T00:00:00\",\"2016-07-08T00:00:00\",\"2016-07-07T00:00:00\",\"2016-07-06T00:00:00\",\"2016-07-05T00:00:00\",\"2016-07-04T00:00:00\",\"2016-07-03T00:00:00\",\"2016-07-02T00:00:00\",\"2016-07-01T00:00:00\",\"2016-06-30T00:00:00\",\"2016-06-29T00:00:00\",\"2016-06-28T00:00:00\",\"2016-06-27T00:00:00\",\"2016-06-26T00:00:00\",\"2016-06-25T00:00:00\",\"2016-06-24T00:00:00\",\"2016-06-23T00:00:00\",\"2016-06-22T00:00:00\",\"2016-06-21T00:00:00\",\"2016-06-20T00:00:00\",\"2016-06-19T00:00:00\",\"2016-06-18T00:00:00\",\"2016-06-17T00:00:00\",\"2016-06-16T00:00:00\",\"2016-06-15T00:00:00\",\"2016-06-14T00:00:00\",\"2016-06-13T00:00:00\",\"2016-06-12T00:00:00\",\"2016-06-11T00:00:00\",\"2016-06-10T00:00:00\",\"2016-06-09T00:00:00\",\"2016-06-08T00:00:00\",\"2016-06-07T00:00:00\",\"2016-06-06T00:00:00\",\"2016-06-05T00:00:00\",\"2016-06-04T00:00:00\",\"2016-06-03T00:00:00\",\"2016-06-02T00:00:00\",\"2016-06-01T00:00:00\",\"2016-05-31T00:00:00\",\"2016-05-30T00:00:00\",\"2016-05-29T00:00:00\",\"2016-05-28T00:00:00\",\"2016-05-27T00:00:00\",\"2016-05-26T00:00:00\",\"2016-05-25T00:00:00\",\"2016-05-24T00:00:00\",\"2016-05-23T00:00:00\",\"2016-05-22T00:00:00\",\"2016-05-21T00:00:00\",\"2016-05-20T00:00:00\",\"2016-05-19T00:00:00\",\"2016-05-18T00:00:00\",\"2016-05-17T00:00:00\",\"2016-05-16T00:00:00\",\"2016-05-15T00:00:00\",\"2016-05-14T00:00:00\",\"2016-05-13T00:00:00\",\"2016-05-12T00:00:00\",\"2016-05-11T00:00:00\",\"2016-05-10T00:00:00\",\"2016-05-09T00:00:00\",\"2016-05-08T00:00:00\",\"2016-05-07T00:00:00\",\"2016-05-06T00:00:00\",\"2016-05-05T00:00:00\",\"2016-05-04T00:00:00\",\"2016-05-03T00:00:00\",\"2016-05-02T00:00:00\",\"2016-05-01T00:00:00\",\"2016-04-30T00:00:00\",\"2016-04-29T00:00:00\",\"2016-04-28T00:00:00\",\"2016-04-27T00:00:00\",\"2016-04-26T00:00:00\",\"2016-04-25T00:00:00\",\"2016-04-24T00:00:00\",\"2016-04-23T00:00:00\",\"2016-04-22T00:00:00\",\"2016-04-21T00:00:00\",\"2016-04-20T00:00:00\",\"2016-04-19T00:00:00\",\"2016-04-18T00:00:00\",\"2016-04-17T00:00:00\",\"2016-04-16T00:00:00\",\"2016-04-15T00:00:00\",\"2016-04-14T00:00:00\",\"2016-04-13T00:00:00\",\"2016-04-12T00:00:00\",\"2016-04-11T00:00:00\",\"2016-04-10T00:00:00\",\"2016-04-09T00:00:00\",\"2016-04-08T00:00:00\",\"2016-04-07T00:00:00\",\"2016-04-06T00:00:00\",\"2016-04-05T00:00:00\",\"2016-04-04T00:00:00\",\"2016-04-03T00:00:00\",\"2016-04-02T00:00:00\",\"2016-04-01T00:00:00\",\"2016-03-31T00:00:00\",\"2016-03-30T00:00:00\",\"2016-03-29T00:00:00\",\"2016-03-28T00:00:00\",\"2016-03-27T00:00:00\",\"2016-03-26T00:00:00\",\"2016-03-25T00:00:00\",\"2016-03-24T00:00:00\",\"2016-03-23T00:00:00\",\"2016-03-22T00:00:00\",\"2016-03-21T00:00:00\",\"2016-03-20T00:00:00\",\"2016-03-19T00:00:00\",\"2016-03-18T00:00:00\",\"2016-03-17T00:00:00\",\"2016-03-16T00:00:00\",\"2016-03-15T00:00:00\",\"2016-03-14T00:00:00\",\"2016-03-13T00:00:00\",\"2016-03-12T00:00:00\",\"2016-03-11T00:00:00\",\"2016-03-10T00:00:00\"],\"xaxis\":\"x\",\"y\":[1569.7,1580.95,1581.13,1587.95,1577.02,1649.19,1677.45,1668.55,1646.33,1664.98,1648.77,1608.62,1663.82,1678.2,1666.39,1716.35,1719.1,1722.28,1708.87,1720.06,1738.87,1676.94,1565.2,1525.56,1547.3,1542.64,1554.19,1655.96,1694.28,1676.83,1657.75,1671.88,1694.58,1673.59,1710.27,1647.27,1602.03,1647.25,1657.19,1605.96,1620.15,1629.89,1638.97,1641.17,1643.82,1662.13,1678.27,1662.26,1560.7,1604.74,1603.32,1598.18,1564.34,1576.83,1463.53,1435.95,1392.4,1344.42,1344.39,1289.13,1270.95,1274.85,1259.08,1266.97,1219.75,1220.76,1204.12,1207.71,1202.13,1205.34,1214.32,1233.15,1230.37,1223.82,1226.2,1228.46,1229.47,1218.69,1228.97,1194.47,1196.55,1189.21,1279.27,1311.07,1348.43,1345.07,1278.37,1282.86,1281.24,1291.11,1289.87,1275.3,1273.92,1303.92,1284.24,1302.61,1295.8,1295.82,1304.97,1226.35,1199.06,1222.83,1229.2,1204.75,1217.38,1189.17,1141.58,1143.96,1226.14,1231.15,1225.39,1227.73,1267.62,1289.21,1289.01,1274.24,1291.39,1307.16,1346.92,1337.19,1576.1,1608.06,1637.44,1664.42,1666.17,1558.75,1618.82,1609.1,1634.17,1638.6,1660.13,1572.66,1575.9,1590.23,1522.06,1369.35,1370.91,1318.84,1306.27,1310.47,1313.46,1341.21,1338.39,1314.52,1301.48,1342.01,1299.74,1304.45,1297.59,1337.58,1328.55,1336.69,1361.26,1383.02,1364.03,1367.3,1329.16,1317.41,1333.61,1372.44,1351.61,1354.75,1399.67,1339.17,1335.73,1348.91,1356.74,1346.38,1388.38,1384.39,1391.5,1469.21,1475.05,1483.43,1653.55,1646.09,1751.5,1782.74,1786.73,1788.1,1743.47,1660.56,1657.05,1686.23,1628.77,1580.81,1581.37,1647.5,1597.48,1617.09,1605.3,1559.46,1507.92,1518.14,1703.32,1720.84,1691.25,1672.63,1627.13,1644.88,1654.84,1846.97,1880.22,1956.54,1914.06,2012.02,2028.4,2018.97,1961.83,1931.06,1881.39,1789.55,1813.45,1728.97,1749.33,1740.33,1661.15,1682.23,1675.51,1702.81,1752.94,1741.34,1764.74,1781.39,1643.7,1451.46,1608.06,1659.93,1596.02,1644.99,1600.35,1618.43,1620.35,1590.95,1385.23,1399.16,1284.76,1210.17,1116.51,1097.75,1170.63,1219.26,1232.69,1275.69,1252.69,1202.09,1170.97,1159.76,1086.9,1077.66,1110.25,1105.88,1155.02,1234.96,1237.14,1276.81,1255.55,1244.82,1152.97,1127.06,1192.27,1165.62,1152.07,1096.93,1116.46,1254.28,1244.8,1261.39,1454.07,1542.01,1681.58,1803.54,1832.7,1837.41,1870.99,1919.4,1829.25,1815.19,1843.31,1851.25,1971.22,2015.02,2009.95,1824.81,1807.79,1820.82,1964.91,2020.64,1992.6,2086.21,2055.15,1989.44,2061.08,2039.71,2108.84,2120.03,2145.86,2161.78,2068.66,2146.22,2190.51,2451.33,2455.19,2529.35,2641.84,2703.11,2757.14,2952.84,2963.54,2861.42,2879.99,2847.02,2841.16,2946.18,2977.78,2916.39,3032.7,3023.23,2966.94,2977.45,3029.14,3176.69,3161.9,3128.86,3069.07,3081.14,3084.84,3056.84,3143.18,3128.2,3082.02,3213.52,3306.14,3268.18,3311.42,3268.56,3406.87,3554.54,3544.92,3579.82,3529.63,3478.74,3444.43,3445.98,3481.23,3428.41,3297.4,3150.09,3192.73,3126.37,3042.28,3048.32,2960.42,2962.19,2984.0,2983.11,2832.61,2787.12,2667.61,2608.68,2600.65,2612.33,2670.05,2731.37,2772.09,2623.99,2645.41,2673.19,2684.5,2835.94,2967.9,3041.84,3036.59,2949.44,2834.61,2856.01,2830.31,2732.02,2749.8,2663.01,2755.58,2764.46,2829.2,2943.14,3159.83,3184.88,3193.18,2963.7,2952.94,2984.72,3136.33,3277.36,3266.41,3228.86,3185.77,3073.23,3058.88,2994.99,2723.97,2809.57,2808.6,2704.64,2636.04,2632.51,2556.34,2515.19,2719.32,2504.32,2540.81,2547.19,2621.21,3032.69,3270.71,3173.63,3242.47,3356.45,3388.22,3369.95,3341.24,3407.98,3406.79,3262.78,3179.96,3210.34,3244.46,3413.26,3550.19,3846.44,3889.07,3849.5,3851.16,3775.2,3812.01,3767.93,3825.97,4036.86,4125.22,4104.23,4136.03,4133.77,4149.17,4072.4,4058.76,3978.66,4025.36,3993.05,3993.87,4108.24,4090.15,3879.43,4141.27,4173.21,4094.92,4226.79,4482.89,4449.69,4424.2,4373.23,4247.38,4237.56,4646.73,4629.75,4778.14,4749.12,4456.82,4297.63,4183.02,4548.1,4549.74,4372.83,4384.75,4311.46,4422.6,4434.27,4305.41,4342.74,4298.3,4562.97,4769.38,4692.76,4705.02,4807.16,4778.17,4864.06,4836.69,4822.97,4634.39,4526.75,4569.31,4604.83,4661.88,4598.38,4376.94,4393.61,4428.41,4458.3,4289.8,4299.61,4291.98,4234.76,4184.0,4169.33,4164.11,4366.91,4168.12,3884.34,3892.01,3917.56,3967.43,3904.91,3820.47,3612.04,3545.35,3622.53,3599.18,3626.11,3668.35,3650.18,3627.19,3540.83,3436.34,3485.48,3467.95,3329.32,3047.08,2948.5,2969.18,3163.86,3113.65,2965.48,3158.38,3173.0,3087.97,3101.88,3344.04,3455.67,3539.5,3592.2,3672.68,3612.29,3428.87,3429.24,3469.5,3345.37,3512.9,3564.3,3557.67,3945.79,3968.2,3981.22,3968.33,4024.89,3833.89,3839.91,3467.42,3345.72,3282.21,3284.58,3279.93,3249.62,3247.43,3357.99,3375.42,3271.94,3307.33,3300.36,3185.51,3124.51,3290.03,3334.22,3318.61,3328.38,3324.53,3236.28,3269.7,3232.02,3184.84,3188.49,3169.74,2946.62,2842.95,2766.46,2631.43,2664.73,2696.38,2551.68,2467.4,2397.71,2343.49,2318.68,2430.01,2195.03,2162.29,2129.66,2043.26,2029.51,1840.36,1915.15,1988.24,1917.8,1960.21,2038.91,2017.99,2042.61,2167.6,2173.34,2191.3,2185.62,2322.47,2402.68,2347.47,2322.6,2386.2,2236.97,2158.7,2274.63,2281.55,2241.86,2142.84,1980.7,1850.4,2017.47,2033.96,2043.1,1994.32,2257.86,2276.83,2276.7,2376.62,2459.11,2552.12,2637.9,2606.91,2547.9,2448.04,2493.48,2615.46,2620.74,2618.7,2842.88,2743.53,2814.02,2856.63,2889.19,2801.0,2738.23,2713.98,2465.84,2567.42,2760.17,2885.87,2908.37,2747.49,2667.2,2379.89,2481.06,2931.66,2988.52,3434.01,3558.57,3582.27,3877.2,4129.99,4171.76,4031.99,4366.1,4177.53,4203.98,3979.77,3952.88,3583.34,3601.59,3540.78,3516.34,3451.44,2984.52,2951.74,2797.61,2797.52,2759.03,2677.95,2539.8,2355.2,2367.46,2440.21,2642.99,2467.51,2345.18,2275.87,2338.53,2493.93,2544.54,2541.9,2445.4,2315.47,2199.52,2164.76,2197.73,2101.07,2084.08,2128.25,2150.78,2127.89,2091.31,2137.68,2144.11,1983.84,1945.4,1857.65,1839.41,1724.74,1731.73,1699.27,1621.32,1739.82,1720.01,1806.62,1815.85,1868.09,1848.88,1849.23,1837.88,1817.35,1890.59,1932.36,1943.36,1841.19,1845.32,1875.98,1869.1,1841.05,1732.84,1670.01,1548.71,1623.73,1653.04,1602.13,1571.15,1467.76,1527.69,1561.66,1669.24,1711.16,1781.44,1935.04,1974.99,2040.79,1968.93,1950.04,1854.03,1827.07,1835.51,1850.0,1871.36,1862.17,1817.68,1835.4,1818.94,1775.12,1692.29,1742.9,1760.09,1693.64,1667.93,1546.88,1376.44,1380.04,1405.78,1436.27,1359.51,1372.31,1377.94,1474.68,1398.0,1271.65,1272.85,1387.39,1406.56,1437.42,1260.3,1269.01,1290.92,1256.13,1246.52,1134.66,1149.19,1257.3,1347.98,1301.75,1271.08,1286.81,1210.78,1131.56,1158.27,1008.49,787.26,748.96,755.13,757.11,739.77,747.86,715.46,652.36,633.9,614.92,638.11,637.47,647.87,661.04,669.54,664.26,675.68,638.18,596.97,591.41,594.83,573.59,560.28,575.56,577.94,594.78,603.06,606.9,596.73,619.61,622.1,604.34,635.66,615.97,576.52,547.94,530.41,577.08,605.63,621.7,610.33,580.0,552.13,513.06,480.55,495.04,484.59,465.97,462.93,477.34,477.78,469.57,476.08,454.43,458.51,460.09,467.88,457.79,419.94,407.9,389.98,404.04,397.32,394.01,391.98,393.33,408.1,409.85,410.41,417.07,416.28,419.11,420.12,400.36,380.14,383.97,378.49,369.94,379.6,380.77,387.11,387.06,394.58,377.27,377.97,368.19,352.95,342.68,354.9,354.86,353.97,351.04,353.61,369.1,360.94,360.66,367.63,362.0,355.87,357.8,352.6,344.12,346.19,375.34,385.39,386.99,392.21,393.96,372.88,381.67,383.99,389.51,388.12,374.41,376.92,358.33,355.69,357.33,358.09,394.12,399.58,466.4,480.96,488.24,438.71,429.59,405.53,397.64,396.48,392.61,409.02,410.17,396.96,396.87,418.72,418.92,426.65,433.65,444.86,436.58,442.7,443.74,430.33,389.21,398.13,399.05,399.93,396.77,398.14,403.18,406.92,402.01,397.73,415.08,392.37,349.34,341.11,324.93,326.53,332.57,318.54,308.57,287.01,279.53,266.42,246.49,239.71,239.7,236.83,234.53,239.47,241.36,242.08,245.04,243.79,241.64,242.17,247.63,248.76,243.43,241.64,229.8,230.4,228.14,232.04,232.47,228.57,229.83,227.74,231.3,233.5,235.29,249.23,244.77,246.39,231.18,230.96,231.94,234.69,236.55,235.95,233.34,238.48,238.61,239.23,249.77,249.51,249.45,247.11,244.94,244.43,247.5,246.41,244.76,253.21,249.81,245.33,246.55,224.52,220.33,208.18,204.9,205.52,210.4,211.03,209.04,211.58,215.28,215.75,217.0,209.79,203.12,204.02,205.82,200.82,192.04,193.26,210.19,214.5,216.44,214.0,210.62,211.33,210.63,218.74,215.15,216.99,227.05,218.32,197.51,198.8,199.3,197.35,189.33,192.4,183.71,174.48,186.24,188.23,189.22,174.52,174.28,161.06,161.57,158.85,164.75,161.37,170.1,173.2,174.23,175.78,171.24,145.26,145.71,146.46,148.91,136.56,135.14,134.72,131.74,132.68,140.99,139.22,141.88,142.9,136.93,136.86,137.33,151.85,141.05,117.91,120.6,124.38,132.13,134.58,138.86,195.4,202.96,205.62,208.23,237.3,251.55,244.98,233.96,228.66,232.37,234.24,227.44,232.87,234.55,238.07,250.05,266.17,276.81,275.3,266.71,267.8,264.22,285.75,285.59,268.45,273.81,287.93,286.34,277.39,274.89,238.61,229.28,230.38,227.55,224.53,216.14,207.51,191.48,194.92,193.25,184.17,185.67,186.76,178.41,176.06,171.97,168.0,162.72,164.27,168.25,171.27,169.79,169.24,177.77,179.29,173.96,167.18,166.45,169.73,146.87,146.46,147.68,144.86,141.6,147.55,145.13,144.27,138.33,135.57,134.86,130.77,132.97,133.53,136.16,137.74,129.73,127.04,132.12,128.17,129.77,134.92,133.04,128.79,129.66,133.9,133.93,132.96,142.75,143.87,145.17,145.43,145.82,146.57,148.48,151.75,152.22,149.76,149.36,149.08,151.02,149.84,151.63,152.33,155.19,157.27,154.68,155.43,149.81,151.26,153.24,154.25,163.06,175.91,177.42,178.7,184.33,185.97,183.46,186.1,188.91,189.45,187.44,190.17,191.28,185.73,188.35,192.27,194.11,191.45,188.27,184.51,185.18,184.28,185.21,191.58,192.28,188.91,188.33,192.54,186.24,163.68,171.61,175.08,177.67,176.17,174.81,177.47,178.33,181.08,187.67,186.99,184.42,184.49,195.87,194.08,195.08,184.57,182.03,176.87,176.63,178.43,180.57,180.84,184.95,180.52,174.43,175.15,175.65,169.81,174.26,202.97,211.76,215.64,221.17,221.27,223.35,216.89,214.45,198.82,190.23,188.54,181.53,182.37,182.27,184.16,184.76,183.42,180.63,177.79,175.56,180.06,182.59,180.56,173.22,174.43,170.27,173.05,187.13,188.61,193.09,191.49,193.47,195.32,194.42,196.78,201.96,202.81,197.17,186.12,188.03,189.3,209.43,211.01,215.97,216.23,213.53,220.49,226.11,229.22,237.47,235.0,222.21,223.0,220.84,217.55,218.19,212.88,214.45,212.01,222.7,218.65,224.05,217.02,218.03,227.47,228.76,233.7,225.68,228.42,219.13,234.41,235.43,269.62,275.04,278.33,289.14,313.81,317.94,313.15,309.42,296.06,293.61,301.56,301.64,297.0,303.0,323.21,324.13,312.7,345.83,364.89,318.49,313.67,320.79,314.0,295.72,273.18,269.79,273.26,274.14,282.75,271.61,268.81,262.47,261.67,247.77,246.99,244.36,250.51,253.12,250.0,248.24,251.47,269.77,272.64,274.94,268.7,287.99,273.72,275.39,279.07,268.75,256.9,254.22,247.3,259.7,261.59,259.68,263.05,247.84,267.8,278.52,249.78,220.02,206.1,202.93,204.72,175.78,173.28,172.68,181.39,176.98,165.25,171.04,169.8,162.88,163.7,162.56,159.16,160.28,161.95,161.82,165.81,170.53,175.92,172.32,173.42,176.71,173.41,175.02,167.21,166.64,168.63,168.18,165.27,166.08,177.63,183.49,179.24,185.54,175.37,172.53,167.34,164.33,177.29,165.42,143.28,142.69,145.85,143.53,140.33,140.08,134.99,137.05,137.53,138.3,137.44,139.74,139.75,139.5,141.87,141.17,143.95,137.68,134.82,133.84,134.93,136.23,137.75,138.57,139.45,139.98,149.49,141.11,131.57,168.42,136.36,138.06,138.56,159.6,138.66,141.57,165.79,159.31,148.83,149.55,149.46,149.84,147.64,135.27,124.5,124.0,124.46,126.17,123.99,125.05,125.46,121.09,122.58,106.12,107.67,108.32,109.24,111.25,111.16,108.54,110.56,109.67,107.32,113.14,116.24,117.63,117.41,117.32,119.01,119.47,118.04,123.52,125.37,122.19,123.03,126.5,129.6,130.3,124.09,126.15,127.83,150.09,152.57,152.21,156.36,158.29,159.78,155.4,154.3,155.93,140.51,138.72,139.76,146.02,137.22,131.51,136.13,139.74,158.27,132.46,115.87,118.67,116.35,107.89,101.33,96.99,87.62,85.07,87.0,90.72,91.33,91.94,95.3,98.76,97.98,96.99,104.42,110.7,113.16,127.08,120.71,120.45,119.8,123.77,126.6,113.67,120.56,121.1,129.34,128.08,139.74,140.86,153.55,178.93,182.07,177.93,184.88,189.79,210.59,213.88,214.95,214.22,215.47,215.26,220.53,224.64,221.32,212.42,218.35,203.16,203.75,199.79,201.89,198.96,205.79,205.52,206.22,208.94,206.12,207.86,207.95,209.39,211.65,209.37,208.74,215.23,216.6,218.71,235.83,207.53,206.13,202.9,226.36,231.32,232.66,231.66,227.44,228.69,231.88,227.14,227.15,232.97,235.95,238.64,237.45,234.14,232.6,222.41,228.59,246.87,249.02,254.36,250.74,225.48,214.91,213.93,224.48,223.14,259.37,224.6,214.57,186.57,200.42,203.64,208.23,220.85,234.49,232.66,288.01,292.6,296.76,299.38,301.92,284.85,290.91,297.11,297.86,286.57,281.34,282.74,282.71,279.19,298.2,282.77,303.74,306.3,320.81,316.9,298.19,303.85,284.0,321.22,327.51,332.52,365.36,369.74,380.15,410.57,413.4,412.51,419.7,419.74,424.51,434.43,457.33,468.6,471.78,471.47,473.58,484.59,484.97,484.3,470.37,472.88,468.95,469.74,484.0,515.2,511.54,480.84,455.68,439.94,442.02,446.27,447.62,473.36,488.1,494.03,486.18,474.58,478.59,480.69,483.93,479.94,456.02,457.49,441.29,443.32,445.38,459.96,472.54,475.74,482.42,526.26,544.71,541.08,547.5,523.95,507.19,502.47,520.73,525.21,501.64,538.16,535.63,593.82,608.65,608.32,616.52,611.63,613.0,624.81,627.51,598.78,589.55,586.15,584.9,572.71,575.0,591.48,606.26,616.48,609.39,649.85,698.48,718.06,722.92,716.51,694.24,718.5,710.49,738.71,741.52,739.67,689.83,736.58,768.24,759.71,761.43,797.3,838.26,830.03,806.9,788.61,690.97,674.36,693.85,700.05,693.79,685.54,665.2,703.25,711.74,648.58,643.58,623.86,620.58,570.15,526.41,520.86,537.32,534.18,514.14,528.71,498.13,433.25,417.84,430.85,403.71,394.66,385.7,386.91,416.38,418.78,393.94,399.46,419.07,411.17,449.33,465.09,491.77,526.22,535.11,545.15,543.51,577.63,589.83,566.63,558.33,559.19,609.48,625.34,620.01,702.53,713.8,739.25,733.33,746.13,728.83,772.23,824.83,851.72,870.27,867.35,868.51,875.69,879.53,888.06,894.78,879.18,849.36,874.49,882.61,878.14,906.43,959.41,954.94,980.27,972.86,945.68,945.99,922.38,868.92,875.52,854.1,908.26,879.51,831.02,852.98,797.94,859.72,972.66,997.51,1036.17,1157.09,1126.87,1178.92,1259.8,1264.8,1125.3,1078.6,1102.4,1068.8,1022.0,1084.1,1146.3,1160.0,1079.0,1079.0,1088.3,1278.8,1377.9,1385.0,1423.2,1285.0,1331.8,1381.9,1299.0,1225.0,1116.0,1014.2,1023.6,997.0,954.73,890.0,762.0,741.99,737.56,755.0,740.3,766.06,749.8,737.0,675.0,717.0,792.0,848.08,826.2,863.0,798.9,725.0,711.96,698.31,760.0,742.0,646.92,531.2,460.92,487.8,453.61,429.0,454.23,467.38,471.06,482.69,472.0,467.0,454.95,517.0,479.0,491.89,464.0,481.99,478.5,426.27,381.89,373.5,373.7,371.0,350.4,335.01,335.11,339.61,336.69,318.0,316.99,319.88,324.03,328.8,318.9,304.2,310.0,301.0,304.38,307.36,293.01,305.11,312.0,314.4,312.49,297.01,299.5,299.0,300.0,311.85,293.96,305.62,303.0,313.01,316.5,316.21,334.8,355.0,344.89,348.0,350.0,310.01,306.55,307.0,311.16,314.39,315.0,309.59,297.92,296.0,300.5,304.63,305.57,307.76,303.9,310.69,315.51,296.38,297.93,294.54,287.2,269.5,287.53,294.0,299.0,299.89,263.69,270.0,269.0,281.01,294.16,316.73,308.0,305.0,307.08,334.58,338.66,339.5,323.17,351.59,368.4,390.77,395.03,390.0,390.1,375.98,352.0,348.01,334.6,338.25,329.56,325.0,329.96,346.99,299.0,298.51,307.0,312.0,304.0,299.91,306.48,308.0,319.78,310.42,310.05,316.0,299.5,274.6,271.5,259.9,228.3,228.2,229.7,232.59,201.5,210.76,213.0,204.19,207.0,209.59,227.69,232.56,236.57,237.19,239.0,238.0,245.61,258.0,190.61,172.7,197.8,207.76,224.99,225.0,215.0,238.01,249.0,246.66,265.8,273.0,272.12,283.0,283.98,285.91,277.63,301.9,318.27,318.27,279.0,286.85,306.39,327.55,329.9,328.99,348.5,366.52,362.5,377.46,366.08,355.51,344.0,385.73,395.0,412.21,347.0,341.94,279.9,258.93,263.7,264.99,244.29,245.98,217.99,219.21,227.32,230.55,229.98,191.3,172.79,161.0,187.0,206.06,197.41,174.3,190.0,146.4,128.95,129.25,98.89,90.93,93.48,95.17,91.92,89.99,92.0,91.5,92.46,91.1,95.48,98.0,96.84,101.7,99.78,86.62,85.18,88.1,84.0,77.6,77.4,68.0,58.38,54.21,54.48,54.44,52.78,52.27,52.45,53.0,53.0,50.27,49.9,50.48,50.65,51.51,48.47,44.8,44.76,44.86,45.76,44.53,46.03,47.53,45.69,48.6,51.59,51.87,51.83,53.28,54.3,50.6,52.01,51.8,54.9,58.99,44.75,42.95,43.7,45.13,45.69,44.99,51.88,46.21,34.8,29.93,30.6,23.23,21.45,19.7,18.0,18.88,19.67,20.23,19.45,20.0,20.73,19.45,17.49,16.23,15.75,14.66,13.8,13.31,13.37,12.85,12.89,12.91,12.94,12.9,12.92,12.99,13.15,13.4,11.37,11.4,11.38,11.39,11.51,11.6,11.5,11.33,11.37,11.4,10.93,10.84,10.77,10.74,10.69,10.51,10.54,10.58,10.63,10.58,10.75,10.83,10.98,11.09,10.75,10.51,10.49,10.6,9.78,9.83,9.87,9.83,10.04,10.7,10.75,10.84,10.48,10.19,10.4,11.7,11.1,9.9,8.5,8.59,8.35,8.5,8.6,7.76,7.33,7.35,7.32,7.35,7.68,7.84,7.96,7.75,7.93,7.94,7.9,7.96,8.23,8.49,8.49,8.63,8.25,8.55,8.65,8.84,8.7,7.88,7.57,7.91,8.1,8.43,8.61,8.76,8.74,9.02,9.33,9.53,9.69,9.85,9.92,10.26,9.68,9.76,9.86,10.03,10.27,10.5,10.41,10.19,10.37,10.32,10.58,10.69,10.92,11.21,11.1,11.27,11.24,11.24,11.18,11.25,11.21,11.5,11.53,11.26,11.7,11.66,11.72,12.0,12.23,12.26,12.37,12.2,12.32,12.62,12.91,12.03,12.06,12.05,12.1,12.12,12.06,12.33,12.09,12.56,12.76,13.0,13.15,13.39,13.5,13.5,13.33,13.31,13.43,13.33,13.49,13.27,13.14,13.2,13.47,13.5,13.7,14.35,15.4,13.1,13.1,12.87,12.82,12.41,12.33,12.55,12.05,12.3,12.18,11.9,11.96,11.82,11.92,11.92,11.96,12.43,12.38,12.6,11.63,11.39,11.18,11.16,11.26,11.42,11.39,11.2,11.28,11.36,11.3,11.3,10.76,10.97,11.07,11.17,11.28,11.67,11.76,11.99,12.1,12.33,10.16,10.16,10.16,10.16,10.16,10.16,10.16,11.2,12.04,12.55,12.85,12.94,13.0,13.28,13.86,13.8,14.44,14.85,15.15,12.75,13.04,12.24,11.75,11.74,12.05,12.55,11.79,10.6,10.8,11.09,11.02,11.43,11.65,10.67,11.12,11.49,11.85,12.11,12.2,12.58,12.88,13.05,14.07,14.19,14.4,14.84,14.46,14.0,15.9,12.98,12.49,13.36,15.3,21.69,21.1,18.75,19.41,17.91,16.09,14.28,14.46,14.7,14.89,14.7,14.19,13.97,13.9,13.99,14.03,14.3,14.28,12.81,12.89,12.5,12.43,13.07,12.99,13.82,14.49,14.51,14.0,14.89,14.65,14.4,12.6,11.47,10.42,10.75,11.11,10.47,9.98,9.47,9.65,9.64,9.64,9.98,10.0,10.0,10.01,10.3,9.0,9.36,7.72,7.87,7.99,7.6,8.15,8.5,8.8,8.41,8.8,9.05,9.38,9.55,10.9,8.68,8.69,8.86,8.8,8.54,8.93,9.43,10.2,10.34,10.85,10.96,11.15,11.67,11.76,11.77,11.94,12.02,12.3,11.88,11.94,10.98,11.2,11.35,12.47,12.43,11.97,12.05,10.88,11.1,11.2,12.61,13.89,13.42,15.07,15.07,13.45,11.95,11.85],\"yaxis\":\"y\",\"type\":\"scattergl\"},{\"hovertemplate\":\"variable=Low<br>Date=%{x}<br>Eth value=%{y}<extra></extra>\",\"legendgroup\":\"Low\",\"line\":{\"color\":\"#00cc96\",\"dash\":\"solid\"},\"marker\":{\"symbol\":\"circle\"},\"mode\":\"lines\",\"name\":\"Eth Low Price\",\"showlegend\":true,\"x\":[\"2023-03-08T00:00:00\",\"2023-03-07T00:00:00\",\"2023-03-06T00:00:00\",\"2023-03-05T00:00:00\",\"2023-03-04T00:00:00\",\"2023-03-03T00:00:00\",\"2023-03-02T00:00:00\",\"2023-03-01T00:00:00\",\"2023-02-28T00:00:00\",\"2023-02-27T00:00:00\",\"2023-02-26T00:00:00\",\"2023-02-25T00:00:00\",\"2023-02-24T00:00:00\",\"2023-02-23T00:00:00\",\"2023-02-22T00:00:00\",\"2023-02-21T00:00:00\",\"2023-02-20T00:00:00\",\"2023-02-19T00:00:00\",\"2023-02-18T00:00:00\",\"2023-02-17T00:00:00\",\"2023-02-16T00:00:00\",\"2023-02-15T00:00:00\",\"2023-02-14T00:00:00\",\"2023-02-13T00:00:00\",\"2023-02-12T00:00:00\",\"2023-02-11T00:00:00\",\"2023-02-10T00:00:00\",\"2023-02-09T00:00:00\",\"2023-02-08T00:00:00\",\"2023-02-07T00:00:00\",\"2023-02-06T00:00:00\",\"2023-02-05T00:00:00\",\"2023-02-04T00:00:00\",\"2023-02-03T00:00:00\",\"2023-02-02T00:00:00\",\"2023-02-01T00:00:00\",\"2023-01-31T00:00:00\",\"2023-01-30T00:00:00\",\"2023-01-29T00:00:00\",\"2023-01-28T00:00:00\",\"2023-01-27T00:00:00\",\"2023-01-26T00:00:00\",\"2023-01-25T00:00:00\",\"2023-01-24T00:00:00\",\"2023-01-23T00:00:00\",\"2023-01-22T00:00:00\",\"2023-01-21T00:00:00\",\"2023-01-20T00:00:00\",\"2023-01-19T00:00:00\",\"2023-01-18T00:00:00\",\"2023-01-17T00:00:00\",\"2023-01-16T00:00:00\",\"2023-01-15T00:00:00\",\"2023-01-14T00:00:00\",\"2023-01-13T00:00:00\",\"2023-01-12T00:00:00\",\"2023-01-11T00:00:00\",\"2023-01-10T00:00:00\",\"2023-01-09T00:00:00\",\"2023-01-08T00:00:00\",\"2023-01-07T00:00:00\",\"2023-01-06T00:00:00\",\"2023-01-05T00:00:00\",\"2023-01-04T00:00:00\",\"2023-01-03T00:00:00\",\"2023-01-02T00:00:00\",\"2023-01-01T00:00:00\",\"2022-12-31T00:00:00\",\"2022-12-30T00:00:00\",\"2022-12-29T00:00:00\",\"2022-12-28T00:00:00\",\"2022-12-27T00:00:00\",\"2022-12-26T00:00:00\",\"2022-12-25T00:00:00\",\"2022-12-24T00:00:00\",\"2022-12-23T00:00:00\",\"2022-12-22T00:00:00\",\"2022-12-21T00:00:00\",\"2022-12-20T00:00:00\",\"2022-12-19T00:00:00\",\"2022-12-18T00:00:00\",\"2022-12-17T00:00:00\",\"2022-12-16T00:00:00\",\"2022-12-15T00:00:00\",\"2022-12-14T00:00:00\",\"2022-12-13T00:00:00\",\"2022-12-12T00:00:00\",\"2022-12-11T00:00:00\",\"2022-12-10T00:00:00\",\"2022-12-09T00:00:00\",\"2022-12-08T00:00:00\",\"2022-12-07T00:00:00\",\"2022-12-06T00:00:00\",\"2022-12-05T00:00:00\",\"2022-12-04T00:00:00\",\"2022-12-03T00:00:00\",\"2022-12-02T00:00:00\",\"2022-12-01T00:00:00\",\"2022-11-30T00:00:00\",\"2022-11-29T00:00:00\",\"2022-11-28T00:00:00\",\"2022-11-27T00:00:00\",\"2022-11-26T00:00:00\",\"2022-11-25T00:00:00\",\"2022-11-24T00:00:00\",\"2022-11-23T00:00:00\",\"2022-11-22T00:00:00\",\"2022-11-21T00:00:00\",\"2022-11-20T00:00:00\",\"2022-11-19T00:00:00\",\"2022-11-18T00:00:00\",\"2022-11-17T00:00:00\",\"2022-11-16T00:00:00\",\"2022-11-15T00:00:00\",\"2022-11-14T00:00:00\",\"2022-11-13T00:00:00\",\"2022-11-12T00:00:00\",\"2022-11-11T00:00:00\",\"2022-11-10T00:00:00\",\"2022-11-09T00:00:00\",\"2022-11-08T00:00:00\",\"2022-11-07T00:00:00\",\"2022-11-06T00:00:00\",\"2022-11-05T00:00:00\",\"2022-11-04T00:00:00\",\"2022-11-03T00:00:00\",\"2022-11-02T00:00:00\",\"2022-11-01T00:00:00\",\"2022-10-31T00:00:00\",\"2022-10-30T00:00:00\",\"2022-10-29T00:00:00\",\"2022-10-28T00:00:00\",\"2022-10-27T00:00:00\",\"2022-10-26T00:00:00\",\"2022-10-25T00:00:00\",\"2022-10-24T00:00:00\",\"2022-10-23T00:00:00\",\"2022-10-22T00:00:00\",\"2022-10-21T00:00:00\",\"2022-10-20T00:00:00\",\"2022-10-19T00:00:00\",\"2022-10-18T00:00:00\",\"2022-10-17T00:00:00\",\"2022-10-16T00:00:00\",\"2022-10-15T00:00:00\",\"2022-10-14T00:00:00\",\"2022-10-13T00:00:00\",\"2022-10-12T00:00:00\",\"2022-10-11T00:00:00\",\"2022-10-10T00:00:00\",\"2022-10-09T00:00:00\",\"2022-10-08T00:00:00\",\"2022-10-07T00:00:00\",\"2022-10-06T00:00:00\",\"2022-10-05T00:00:00\",\"2022-10-04T00:00:00\",\"2022-10-03T00:00:00\",\"2022-10-02T00:00:00\",\"2022-10-01T00:00:00\",\"2022-09-30T00:00:00\",\"2022-09-29T00:00:00\",\"2022-09-28T00:00:00\",\"2022-09-27T00:00:00\",\"2022-09-26T00:00:00\",\"2022-09-25T00:00:00\",\"2022-09-24T00:00:00\",\"2022-09-23T00:00:00\",\"2022-09-22T00:00:00\",\"2022-09-21T00:00:00\",\"2022-09-20T00:00:00\",\"2022-09-19T00:00:00\",\"2022-09-18T00:00:00\",\"2022-09-17T00:00:00\",\"2022-09-16T00:00:00\",\"2022-09-15T00:00:00\",\"2022-09-14T00:00:00\",\"2022-09-13T00:00:00\",\"2022-09-12T00:00:00\",\"2022-09-11T00:00:00\",\"2022-09-10T00:00:00\",\"2022-09-09T00:00:00\",\"2022-09-08T00:00:00\",\"2022-09-07T00:00:00\",\"2022-09-06T00:00:00\",\"2022-09-05T00:00:00\",\"2022-09-04T00:00:00\",\"2022-09-03T00:00:00\",\"2022-09-02T00:00:00\",\"2022-09-01T00:00:00\",\"2022-08-31T00:00:00\",\"2022-08-30T00:00:00\",\"2022-08-29T00:00:00\",\"2022-08-28T00:00:00\",\"2022-08-27T00:00:00\",\"2022-08-26T00:00:00\",\"2022-08-25T00:00:00\",\"2022-08-24T00:00:00\",\"2022-08-23T00:00:00\",\"2022-08-22T00:00:00\",\"2022-08-21T00:00:00\",\"2022-08-20T00:00:00\",\"2022-08-19T00:00:00\",\"2022-08-18T00:00:00\",\"2022-08-17T00:00:00\",\"2022-08-16T00:00:00\",\"2022-08-15T00:00:00\",\"2022-08-14T00:00:00\",\"2022-08-13T00:00:00\",\"2022-08-12T00:00:00\",\"2022-08-11T00:00:00\",\"2022-08-10T00:00:00\",\"2022-08-09T00:00:00\",\"2022-08-08T00:00:00\",\"2022-08-07T00:00:00\",\"2022-08-06T00:00:00\",\"2022-08-05T00:00:00\",\"2022-08-04T00:00:00\",\"2022-08-03T00:00:00\",\"2022-08-02T00:00:00\",\"2022-08-01T00:00:00\",\"2022-07-31T00:00:00\",\"2022-07-30T00:00:00\",\"2022-07-29T00:00:00\",\"2022-07-28T00:00:00\",\"2022-07-27T00:00:00\",\"2022-07-26T00:00:00\",\"2022-07-25T00:00:00\",\"2022-07-24T00:00:00\",\"2022-07-23T00:00:00\",\"2022-07-22T00:00:00\",\"2022-07-21T00:00:00\",\"2022-07-20T00:00:00\",\"2022-07-19T00:00:00\",\"2022-07-18T00:00:00\",\"2022-07-17T00:00:00\",\"2022-07-16T00:00:00\",\"2022-07-15T00:00:00\",\"2022-07-14T00:00:00\",\"2022-07-13T00:00:00\",\"2022-07-12T00:00:00\",\"2022-07-11T00:00:00\",\"2022-07-10T00:00:00\",\"2022-07-09T00:00:00\",\"2022-07-08T00:00:00\",\"2022-07-07T00:00:00\",\"2022-07-06T00:00:00\",\"2022-07-05T00:00:00\",\"2022-07-04T00:00:00\",\"2022-07-03T00:00:00\",\"2022-07-02T00:00:00\",\"2022-07-01T00:00:00\",\"2022-06-30T00:00:00\",\"2022-06-29T00:00:00\",\"2022-06-28T00:00:00\",\"2022-06-27T00:00:00\",\"2022-06-26T00:00:00\",\"2022-06-25T00:00:00\",\"2022-06-24T00:00:00\",\"2022-06-23T00:00:00\",\"2022-06-22T00:00:00\",\"2022-06-21T00:00:00\",\"2022-06-20T00:00:00\",\"2022-06-19T00:00:00\",\"2022-06-18T00:00:00\",\"2022-06-17T00:00:00\",\"2022-06-16T00:00:00\",\"2022-06-15T00:00:00\",\"2022-06-14T00:00:00\",\"2022-06-13T00:00:00\",\"2022-06-12T00:00:00\",\"2022-06-11T00:00:00\",\"2022-06-10T00:00:00\",\"2022-06-09T00:00:00\",\"2022-06-08T00:00:00\",\"2022-06-07T00:00:00\",\"2022-06-06T00:00:00\",\"2022-06-05T00:00:00\",\"2022-06-04T00:00:00\",\"2022-06-03T00:00:00\",\"2022-06-02T00:00:00\",\"2022-06-01T00:00:00\",\"2022-05-31T00:00:00\",\"2022-05-30T00:00:00\",\"2022-05-29T00:00:00\",\"2022-05-28T00:00:00\",\"2022-05-27T00:00:00\",\"2022-05-26T00:00:00\",\"2022-05-25T00:00:00\",\"2022-05-24T00:00:00\",\"2022-05-23T00:00:00\",\"2022-05-22T00:00:00\",\"2022-05-21T00:00:00\",\"2022-05-20T00:00:00\",\"2022-05-19T00:00:00\",\"2022-05-18T00:00:00\",\"2022-05-17T00:00:00\",\"2022-05-16T00:00:00\",\"2022-05-15T00:00:00\",\"2022-05-14T00:00:00\",\"2022-05-13T00:00:00\",\"2022-05-12T00:00:00\",\"2022-05-11T00:00:00\",\"2022-05-10T00:00:00\",\"2022-05-09T00:00:00\",\"2022-05-08T00:00:00\",\"2022-05-07T00:00:00\",\"2022-05-06T00:00:00\",\"2022-05-05T00:00:00\",\"2022-05-04T00:00:00\",\"2022-05-03T00:00:00\",\"2022-05-02T00:00:00\",\"2022-05-01T00:00:00\",\"2022-04-30T00:00:00\",\"2022-04-29T00:00:00\",\"2022-04-28T00:00:00\",\"2022-04-27T00:00:00\",\"2022-04-26T00:00:00\",\"2022-04-25T00:00:00\",\"2022-04-24T00:00:00\",\"2022-04-23T00:00:00\",\"2022-04-22T00:00:00\",\"2022-04-21T00:00:00\",\"2022-04-20T00:00:00\",\"2022-04-19T00:00:00\",\"2022-04-18T00:00:00\",\"2022-04-17T00:00:00\",\"2022-04-16T00:00:00\",\"2022-04-15T00:00:00\",\"2022-04-14T00:00:00\",\"2022-04-13T00:00:00\",\"2022-04-12T00:00:00\",\"2022-04-11T00:00:00\",\"2022-04-10T00:00:00\",\"2022-04-09T00:00:00\",\"2022-04-08T00:00:00\",\"2022-04-07T00:00:00\",\"2022-04-06T00:00:00\",\"2022-04-05T00:00:00\",\"2022-04-04T00:00:00\",\"2022-04-03T00:00:00\",\"2022-04-02T00:00:00\",\"2022-04-01T00:00:00\",\"2022-03-31T00:00:00\",\"2022-03-30T00:00:00\",\"2022-03-29T00:00:00\",\"2022-03-28T00:00:00\",\"2022-03-27T00:00:00\",\"2022-03-26T00:00:00\",\"2022-03-25T00:00:00\",\"2022-03-24T00:00:00\",\"2022-03-23T00:00:00\",\"2022-03-22T00:00:00\",\"2022-03-21T00:00:00\",\"2022-03-20T00:00:00\",\"2022-03-19T00:00:00\",\"2022-03-18T00:00:00\",\"2022-03-17T00:00:00\",\"2022-03-16T00:00:00\",\"2022-03-15T00:00:00\",\"2022-03-14T00:00:00\",\"2022-03-13T00:00:00\",\"2022-03-12T00:00:00\",\"2022-03-11T00:00:00\",\"2022-03-10T00:00:00\",\"2022-03-09T00:00:00\",\"2022-03-08T00:00:00\",\"2022-03-07T00:00:00\",\"2022-03-06T00:00:00\",\"2022-03-05T00:00:00\",\"2022-03-04T00:00:00\",\"2022-03-03T00:00:00\",\"2022-03-02T00:00:00\",\"2022-03-01T00:00:00\",\"2022-02-28T00:00:00\",\"2022-02-27T00:00:00\",\"2022-02-26T00:00:00\",\"2022-02-25T00:00:00\",\"2022-02-24T00:00:00\",\"2022-02-23T00:00:00\",\"2022-02-22T00:00:00\",\"2022-02-21T00:00:00\",\"2022-02-20T00:00:00\",\"2022-02-19T00:00:00\",\"2022-02-18T00:00:00\",\"2022-02-17T00:00:00\",\"2022-02-16T00:00:00\",\"2022-02-15T00:00:00\",\"2022-02-14T00:00:00\",\"2022-02-13T00:00:00\",\"2022-02-12T00:00:00\",\"2022-02-11T00:00:00\",\"2022-02-10T00:00:00\",\"2022-02-09T00:00:00\",\"2022-02-08T00:00:00\",\"2022-02-07T00:00:00\",\"2022-02-06T00:00:00\",\"2022-02-05T00:00:00\",\"2022-02-04T00:00:00\",\"2022-02-03T00:00:00\",\"2022-02-02T00:00:00\",\"2022-02-01T00:00:00\",\"2022-01-31T00:00:00\",\"2022-01-30T00:00:00\",\"2022-01-29T00:00:00\",\"2022-01-28T00:00:00\",\"2022-01-27T00:00:00\",\"2022-01-26T00:00:00\",\"2022-01-25T00:00:00\",\"2022-01-24T00:00:00\",\"2022-01-23T00:00:00\",\"2022-01-22T00:00:00\",\"2022-01-21T00:00:00\",\"2022-01-20T00:00:00\",\"2022-01-19T00:00:00\",\"2022-01-18T00:00:00\",\"2022-01-17T00:00:00\",\"2022-01-16T00:00:00\",\"2022-01-15T00:00:00\",\"2022-01-14T00:00:00\",\"2022-01-13T00:00:00\",\"2022-01-12T00:00:00\",\"2022-01-11T00:00:00\",\"2022-01-10T00:00:00\",\"2022-01-09T00:00:00\",\"2022-01-08T00:00:00\",\"2022-01-07T00:00:00\",\"2022-01-06T00:00:00\",\"2022-01-05T00:00:00\",\"2022-01-04T00:00:00\",\"2022-01-03T00:00:00\",\"2022-01-02T00:00:00\",\"2022-01-01T00:00:00\",\"2021-12-31T00:00:00\",\"2021-12-30T00:00:00\",\"2021-12-29T00:00:00\",\"2021-12-28T00:00:00\",\"2021-12-27T00:00:00\",\"2021-12-26T00:00:00\",\"2021-12-25T00:00:00\",\"2021-12-24T00:00:00\",\"2021-12-23T00:00:00\",\"2021-12-22T00:00:00\",\"2021-12-21T00:00:00\",\"2021-12-20T00:00:00\",\"2021-12-19T00:00:00\",\"2021-12-18T00:00:00\",\"2021-12-17T00:00:00\",\"2021-12-16T00:00:00\",\"2021-12-15T00:00:00\",\"2021-12-14T00:00:00\",\"2021-12-13T00:00:00\",\"2021-12-12T00:00:00\",\"2021-12-11T00:00:00\",\"2021-12-10T00:00:00\",\"2021-12-09T00:00:00\",\"2021-12-08T00:00:00\",\"2021-12-07T00:00:00\",\"2021-12-06T00:00:00\",\"2021-12-05T00:00:00\",\"2021-12-04T00:00:00\",\"2021-12-03T00:00:00\",\"2021-12-02T00:00:00\",\"2021-12-01T00:00:00\",\"2021-11-30T00:00:00\",\"2021-11-29T00:00:00\",\"2021-11-28T00:00:00\",\"2021-11-27T00:00:00\",\"2021-11-26T00:00:00\",\"2021-11-25T00:00:00\",\"2021-11-24T00:00:00\",\"2021-11-23T00:00:00\",\"2021-11-22T00:00:00\",\"2021-11-21T00:00:00\",\"2021-11-20T00:00:00\",\"2021-11-19T00:00:00\",\"2021-11-18T00:00:00\",\"2021-11-17T00:00:00\",\"2021-11-16T00:00:00\",\"2021-11-15T00:00:00\",\"2021-11-14T00:00:00\",\"2021-11-13T00:00:00\",\"2021-11-12T00:00:00\",\"2021-11-11T00:00:00\",\"2021-11-10T00:00:00\",\"2021-11-09T00:00:00\",\"2021-11-08T00:00:00\",\"2021-11-07T00:00:00\",\"2021-11-06T00:00:00\",\"2021-11-05T00:00:00\",\"2021-11-04T00:00:00\",\"2021-11-03T00:00:00\",\"2021-11-02T00:00:00\",\"2021-11-01T00:00:00\",\"2021-10-31T00:00:00\",\"2021-10-30T00:00:00\",\"2021-10-29T00:00:00\",\"2021-10-28T00:00:00\",\"2021-10-27T00:00:00\",\"2021-10-26T00:00:00\",\"2021-10-25T00:00:00\",\"2021-10-24T00:00:00\",\"2021-10-23T00:00:00\",\"2021-10-22T00:00:00\",\"2021-10-21T00:00:00\",\"2021-10-20T00:00:00\",\"2021-10-19T00:00:00\",\"2021-10-18T00:00:00\",\"2021-10-17T00:00:00\",\"2021-10-16T00:00:00\",\"2021-10-15T00:00:00\",\"2021-10-14T00:00:00\",\"2021-10-13T00:00:00\",\"2021-10-12T00:00:00\",\"2021-10-11T00:00:00\",\"2021-10-10T00:00:00\",\"2021-10-09T00:00:00\",\"2021-10-08T00:00:00\",\"2021-10-07T00:00:00\",\"2021-10-06T00:00:00\",\"2021-10-05T00:00:00\",\"2021-10-04T00:00:00\",\"2021-10-03T00:00:00\",\"2021-10-02T00:00:00\",\"2021-10-01T00:00:00\",\"2021-09-30T00:00:00\",\"2021-09-29T00:00:00\",\"2021-09-28T00:00:00\",\"2021-09-27T00:00:00\",\"2021-09-26T00:00:00\",\"2021-09-25T00:00:00\",\"2021-09-24T00:00:00\",\"2021-09-23T00:00:00\",\"2021-09-22T00:00:00\",\"2021-09-21T00:00:00\",\"2021-09-20T00:00:00\",\"2021-09-19T00:00:00\",\"2021-09-18T00:00:00\",\"2021-09-17T00:00:00\",\"2021-09-16T00:00:00\",\"2021-09-15T00:00:00\",\"2021-09-14T00:00:00\",\"2021-09-13T00:00:00\",\"2021-09-12T00:00:00\",\"2021-09-11T00:00:00\",\"2021-09-10T00:00:00\",\"2021-09-09T00:00:00\",\"2021-09-08T00:00:00\",\"2021-09-07T00:00:00\",\"2021-09-06T00:00:00\",\"2021-09-05T00:00:00\",\"2021-09-04T00:00:00\",\"2021-09-03T00:00:00\",\"2021-09-02T00:00:00\",\"2021-09-01T00:00:00\",\"2021-08-31T00:00:00\",\"2021-08-30T00:00:00\",\"2021-08-29T00:00:00\",\"2021-08-28T00:00:00\",\"2021-08-27T00:00:00\",\"2021-08-26T00:00:00\",\"2021-08-25T00:00:00\",\"2021-08-24T00:00:00\",\"2021-08-23T00:00:00\",\"2021-08-22T00:00:00\",\"2021-08-21T00:00:00\",\"2021-08-20T00:00:00\",\"2021-08-19T00:00:00\",\"2021-08-18T00:00:00\",\"2021-08-17T00:00:00\",\"2021-08-16T00:00:00\",\"2021-08-15T00:00:00\",\"2021-08-14T00:00:00\",\"2021-08-13T00:00:00\",\"2021-08-12T00:00:00\",\"2021-08-11T00:00:00\",\"2021-08-10T00:00:00\",\"2021-08-09T00:00:00\",\"2021-08-08T00:00:00\",\"2021-08-07T00:00:00\",\"2021-08-06T00:00:00\",\"2021-08-05T00:00:00\",\"2021-08-04T00:00:00\",\"2021-08-03T00:00:00\",\"2021-08-02T00:00:00\",\"2021-08-01T00:00:00\",\"2021-07-31T00:00:00\",\"2021-07-30T00:00:00\",\"2021-07-29T00:00:00\",\"2021-07-28T00:00:00\",\"2021-07-27T00:00:00\",\"2021-07-26T00:00:00\",\"2021-07-25T00:00:00\",\"2021-07-24T00:00:00\",\"2021-07-23T00:00:00\",\"2021-07-22T00:00:00\",\"2021-07-21T00:00:00\",\"2021-07-20T00:00:00\",\"2021-07-19T00:00:00\",\"2021-07-18T00:00:00\",\"2021-07-17T00:00:00\",\"2021-07-16T00:00:00\",\"2021-07-15T00:00:00\",\"2021-07-14T00:00:00\",\"2021-07-13T00:00:00\",\"2021-07-12T00:00:00\",\"2021-07-11T00:00:00\",\"2021-07-10T00:00:00\",\"2021-07-09T00:00:00\",\"2021-07-08T00:00:00\",\"2021-07-07T00:00:00\",\"2021-07-06T00:00:00\",\"2021-07-05T00:00:00\",\"2021-07-04T00:00:00\",\"2021-07-03T00:00:00\",\"2021-07-02T00:00:00\",\"2021-07-01T00:00:00\",\"2021-06-30T00:00:00\",\"2021-06-29T00:00:00\",\"2021-06-28T00:00:00\",\"2021-06-27T00:00:00\",\"2021-06-26T00:00:00\",\"2021-06-25T00:00:00\",\"2021-06-24T00:00:00\",\"2021-06-23T00:00:00\",\"2021-06-22T00:00:00\",\"2021-06-21T00:00:00\",\"2021-06-20T00:00:00\",\"2021-06-19T00:00:00\",\"2021-06-18T00:00:00\",\"2021-06-17T00:00:00\",\"2021-06-16T00:00:00\",\"2021-06-15T00:00:00\",\"2021-06-14T00:00:00\",\"2021-06-13T00:00:00\",\"2021-06-12T00:00:00\",\"2021-06-11T00:00:00\",\"2021-06-10T00:00:00\",\"2021-06-09T00:00:00\",\"2021-06-08T00:00:00\",\"2021-06-07T00:00:00\",\"2021-06-06T00:00:00\",\"2021-06-05T00:00:00\",\"2021-06-04T00:00:00\",\"2021-06-03T00:00:00\",\"2021-06-02T00:00:00\",\"2021-06-01T00:00:00\",\"2021-05-31T00:00:00\",\"2021-05-30T00:00:00\",\"2021-05-29T00:00:00\",\"2021-05-28T00:00:00\",\"2021-05-27T00:00:00\",\"2021-05-26T00:00:00\",\"2021-05-25T00:00:00\",\"2021-05-24T00:00:00\",\"2021-05-23T00:00:00\",\"2021-05-22T00:00:00\",\"2021-05-21T00:00:00\",\"2021-05-20T00:00:00\",\"2021-05-19T00:00:00\",\"2021-05-18T00:00:00\",\"2021-05-17T00:00:00\",\"2021-05-16T00:00:00\",\"2021-05-15T00:00:00\",\"2021-05-14T00:00:00\",\"2021-05-13T00:00:00\",\"2021-05-12T00:00:00\",\"2021-05-11T00:00:00\",\"2021-05-10T00:00:00\",\"2021-05-09T00:00:00\",\"2021-05-08T00:00:00\",\"2021-05-07T00:00:00\",\"2021-05-06T00:00:00\",\"2021-05-05T00:00:00\",\"2021-05-04T00:00:00\",\"2021-05-03T00:00:00\",\"2021-05-02T00:00:00\",\"2021-05-01T00:00:00\",\"2021-04-30T00:00:00\",\"2021-04-29T00:00:00\",\"2021-04-28T00:00:00\",\"2021-04-27T00:00:00\",\"2021-04-26T00:00:00\",\"2021-04-25T00:00:00\",\"2021-04-24T00:00:00\",\"2021-04-23T00:00:00\",\"2021-04-22T00:00:00\",\"2021-04-21T00:00:00\",\"2021-04-20T00:00:00\",\"2021-04-19T00:00:00\",\"2021-04-18T00:00:00\",\"2021-04-17T00:00:00\",\"2021-04-16T00:00:00\",\"2021-04-15T00:00:00\",\"2021-04-14T00:00:00\",\"2021-04-13T00:00:00\",\"2021-04-12T00:00:00\",\"2021-04-11T00:00:00\",\"2021-04-10T00:00:00\",\"2021-04-09T00:00:00\",\"2021-04-08T00:00:00\",\"2021-04-07T00:00:00\",\"2021-04-06T00:00:00\",\"2021-04-05T00:00:00\",\"2021-04-04T00:00:00\",\"2021-04-03T00:00:00\",\"2021-04-02T00:00:00\",\"2021-04-01T00:00:00\",\"2021-03-31T00:00:00\",\"2021-03-30T00:00:00\",\"2021-03-29T00:00:00\",\"2021-03-28T00:00:00\",\"2021-03-27T00:00:00\",\"2021-03-26T00:00:00\",\"2021-03-25T00:00:00\",\"2021-03-24T00:00:00\",\"2021-03-23T00:00:00\",\"2021-03-22T00:00:00\",\"2021-03-21T00:00:00\",\"2021-03-20T00:00:00\",\"2021-03-19T00:00:00\",\"2021-03-18T00:00:00\",\"2021-03-17T00:00:00\",\"2021-03-16T00:00:00\",\"2021-03-15T00:00:00\",\"2021-03-14T00:00:00\",\"2021-03-13T00:00:00\",\"2021-03-12T00:00:00\",\"2021-03-11T00:00:00\",\"2021-03-10T00:00:00\",\"2021-03-09T00:00:00\",\"2021-03-08T00:00:00\",\"2021-03-07T00:00:00\",\"2021-03-06T00:00:00\",\"2021-03-05T00:00:00\",\"2021-03-04T00:00:00\",\"2021-03-03T00:00:00\",\"2021-03-02T00:00:00\",\"2021-03-01T00:00:00\",\"2021-02-28T00:00:00\",\"2021-02-27T00:00:00\",\"2021-02-26T00:00:00\",\"2021-02-25T00:00:00\",\"2021-02-24T00:00:00\",\"2021-02-23T00:00:00\",\"2021-02-22T00:00:00\",\"2021-02-21T00:00:00\",\"2021-02-20T00:00:00\",\"2021-02-19T00:00:00\",\"2021-02-18T00:00:00\",\"2021-02-17T00:00:00\",\"2021-02-16T00:00:00\",\"2021-02-15T00:00:00\",\"2021-02-14T00:00:00\",\"2021-02-13T00:00:00\",\"2021-02-12T00:00:00\",\"2021-02-11T00:00:00\",\"2021-02-10T00:00:00\",\"2021-02-09T00:00:00\",\"2021-02-08T00:00:00\",\"2021-02-07T00:00:00\",\"2021-02-06T00:00:00\",\"2021-02-05T00:00:00\",\"2021-02-04T00:00:00\",\"2021-02-03T00:00:00\",\"2021-02-02T00:00:00\",\"2021-02-01T00:00:00\",\"2021-01-31T00:00:00\",\"2021-01-30T00:00:00\",\"2021-01-29T00:00:00\",\"2021-01-28T00:00:00\",\"2021-01-27T00:00:00\",\"2021-01-26T00:00:00\",\"2021-01-25T00:00:00\",\"2021-01-24T00:00:00\",\"2021-01-23T00:00:00\",\"2021-01-22T00:00:00\",\"2021-01-21T00:00:00\",\"2021-01-20T00:00:00\",\"2021-01-19T00:00:00\",\"2021-01-18T00:00:00\",\"2021-01-17T00:00:00\",\"2021-01-16T00:00:00\",\"2021-01-15T00:00:00\",\"2021-01-14T00:00:00\",\"2021-01-13T00:00:00\",\"2021-01-12T00:00:00\",\"2021-01-11T00:00:00\",\"2021-01-10T00:00:00\",\"2021-01-09T00:00:00\",\"2021-01-08T00:00:00\",\"2021-01-07T00:00:00\",\"2021-01-06T00:00:00\",\"2021-01-05T00:00:00\",\"2021-01-04T00:00:00\",\"2021-01-03T00:00:00\",\"2021-01-02T00:00:00\",\"2021-01-01T00:00:00\",\"2020-12-31T00:00:00\",\"2020-12-30T00:00:00\",\"2020-12-29T00:00:00\",\"2020-12-28T00:00:00\",\"2020-12-27T00:00:00\",\"2020-12-26T00:00:00\",\"2020-12-25T00:00:00\",\"2020-12-24T00:00:00\",\"2020-12-23T00:00:00\",\"2020-12-22T00:00:00\",\"2020-12-21T00:00:00\",\"2020-12-20T00:00:00\",\"2020-12-19T00:00:00\",\"2020-12-18T00:00:00\",\"2020-12-17T00:00:00\",\"2020-12-16T00:00:00\",\"2020-12-15T00:00:00\",\"2020-12-14T00:00:00\",\"2020-12-13T00:00:00\",\"2020-12-12T00:00:00\",\"2020-12-11T00:00:00\",\"2020-12-10T00:00:00\",\"2020-12-09T00:00:00\",\"2020-12-08T00:00:00\",\"2020-12-07T00:00:00\",\"2020-12-06T00:00:00\",\"2020-12-05T00:00:00\",\"2020-12-04T00:00:00\",\"2020-12-03T00:00:00\",\"2020-12-02T00:00:00\",\"2020-12-01T00:00:00\",\"2020-11-30T00:00:00\",\"2020-11-29T00:00:00\",\"2020-11-28T00:00:00\",\"2020-11-27T00:00:00\",\"2020-11-26T00:00:00\",\"2020-11-25T00:00:00\",\"2020-11-24T00:00:00\",\"2020-11-23T00:00:00\",\"2020-11-22T00:00:00\",\"2020-11-21T00:00:00\",\"2020-11-20T00:00:00\",\"2020-11-19T00:00:00\",\"2020-11-18T00:00:00\",\"2020-11-17T00:00:00\",\"2020-11-16T00:00:00\",\"2020-11-15T00:00:00\",\"2020-11-14T00:00:00\",\"2020-11-13T00:00:00\",\"2020-11-12T00:00:00\",\"2020-11-11T00:00:00\",\"2020-11-10T00:00:00\",\"2020-11-09T00:00:00\",\"2020-11-08T00:00:00\",\"2020-11-07T00:00:00\",\"2020-11-06T00:00:00\",\"2020-11-05T00:00:00\",\"2020-11-04T00:00:00\",\"2020-11-03T00:00:00\",\"2020-11-02T00:00:00\",\"2020-11-01T00:00:00\",\"2020-10-31T00:00:00\",\"2020-10-30T00:00:00\",\"2020-10-29T00:00:00\",\"2020-10-28T00:00:00\",\"2020-10-27T00:00:00\",\"2020-10-26T00:00:00\",\"2020-10-25T00:00:00\",\"2020-10-24T00:00:00\",\"2020-10-23T00:00:00\",\"2020-10-22T00:00:00\",\"2020-10-21T00:00:00\",\"2020-10-20T00:00:00\",\"2020-10-19T00:00:00\",\"2020-10-18T00:00:00\",\"2020-10-17T00:00:00\",\"2020-10-16T00:00:00\",\"2020-10-15T00:00:00\",\"2020-10-14T00:00:00\",\"2020-10-13T00:00:00\",\"2020-10-12T00:00:00\",\"2020-10-11T00:00:00\",\"2020-10-10T00:00:00\",\"2020-10-09T00:00:00\",\"2020-10-08T00:00:00\",\"2020-10-07T00:00:00\",\"2020-10-06T00:00:00\",\"2020-10-05T00:00:00\",\"2020-10-04T00:00:00\",\"2020-10-03T00:00:00\",\"2020-10-02T00:00:00\",\"2020-10-01T00:00:00\",\"2020-09-30T00:00:00\",\"2020-09-29T00:00:00\",\"2020-09-28T00:00:00\",\"2020-09-27T00:00:00\",\"2020-09-26T00:00:00\",\"2020-09-25T00:00:00\",\"2020-09-24T00:00:00\",\"2020-09-23T00:00:00\",\"2020-09-22T00:00:00\",\"2020-09-21T00:00:00\",\"2020-09-20T00:00:00\",\"2020-09-19T00:00:00\",\"2020-09-18T00:00:00\",\"2020-09-17T00:00:00\",\"2020-09-16T00:00:00\",\"2020-09-15T00:00:00\",\"2020-09-14T00:00:00\",\"2020-09-13T00:00:00\",\"2020-09-12T00:00:00\",\"2020-09-11T00:00:00\",\"2020-09-10T00:00:00\",\"2020-09-09T00:00:00\",\"2020-09-08T00:00:00\",\"2020-09-07T00:00:00\",\"2020-09-06T00:00:00\",\"2020-09-05T00:00:00\",\"2020-09-04T00:00:00\",\"2020-09-03T00:00:00\",\"2020-09-02T00:00:00\",\"2020-09-01T00:00:00\",\"2020-08-31T00:00:00\",\"2020-08-30T00:00:00\",\"2020-08-29T00:00:00\",\"2020-08-28T00:00:00\",\"2020-08-27T00:00:00\",\"2020-08-26T00:00:00\",\"2020-08-25T00:00:00\",\"2020-08-24T00:00:00\",\"2020-08-23T00:00:00\",\"2020-08-22T00:00:00\",\"2020-08-21T00:00:00\",\"2020-08-20T00:00:00\",\"2020-08-19T00:00:00\",\"2020-08-18T00:00:00\",\"2020-08-17T00:00:00\",\"2020-08-16T00:00:00\",\"2020-08-15T00:00:00\",\"2020-08-14T00:00:00\",\"2020-08-13T00:00:00\",\"2020-08-12T00:00:00\",\"2020-08-11T00:00:00\",\"2020-08-10T00:00:00\",\"2020-08-09T00:00:00\",\"2020-08-08T00:00:00\",\"2020-08-07T00:00:00\",\"2020-08-06T00:00:00\",\"2020-08-05T00:00:00\",\"2020-08-04T00:00:00\",\"2020-08-03T00:00:00\",\"2020-08-02T00:00:00\",\"2020-08-01T00:00:00\",\"2020-07-31T00:00:00\",\"2020-07-30T00:00:00\",\"2020-07-29T00:00:00\",\"2020-07-28T00:00:00\",\"2020-07-27T00:00:00\",\"2020-07-26T00:00:00\",\"2020-07-25T00:00:00\",\"2020-07-24T00:00:00\",\"2020-07-23T00:00:00\",\"2020-07-22T00:00:00\",\"2020-07-21T00:00:00\",\"2020-07-20T00:00:00\",\"2020-07-19T00:00:00\",\"2020-07-18T00:00:00\",\"2020-07-17T00:00:00\",\"2020-07-16T00:00:00\",\"2020-07-15T00:00:00\",\"2020-07-14T00:00:00\",\"2020-07-13T00:00:00\",\"2020-07-12T00:00:00\",\"2020-07-11T00:00:00\",\"2020-07-10T00:00:00\",\"2020-07-09T00:00:00\",\"2020-07-08T00:00:00\",\"2020-07-07T00:00:00\",\"2020-07-06T00:00:00\",\"2020-07-05T00:00:00\",\"2020-07-04T00:00:00\",\"2020-07-03T00:00:00\",\"2020-07-02T00:00:00\",\"2020-07-01T00:00:00\",\"2020-06-30T00:00:00\",\"2020-06-29T00:00:00\",\"2020-06-28T00:00:00\",\"2020-06-27T00:00:00\",\"2020-06-26T00:00:00\",\"2020-06-25T00:00:00\",\"2020-06-24T00:00:00\",\"2020-06-23T00:00:00\",\"2020-06-22T00:00:00\",\"2020-06-21T00:00:00\",\"2020-06-20T00:00:00\",\"2020-06-19T00:00:00\",\"2020-06-18T00:00:00\",\"2020-06-17T00:00:00\",\"2020-06-16T00:00:00\",\"2020-06-15T00:00:00\",\"2020-06-14T00:00:00\",\"2020-06-13T00:00:00\",\"2020-06-12T00:00:00\",\"2020-06-11T00:00:00\",\"2020-06-10T00:00:00\",\"2020-06-09T00:00:00\",\"2020-06-08T00:00:00\",\"2020-06-07T00:00:00\",\"2020-06-06T00:00:00\",\"2020-06-05T00:00:00\",\"2020-06-04T00:00:00\",\"2020-06-03T00:00:00\",\"2020-06-02T00:00:00\",\"2020-06-01T00:00:00\",\"2020-05-31T00:00:00\",\"2020-05-30T00:00:00\",\"2020-05-29T00:00:00\",\"2020-05-28T00:00:00\",\"2020-05-27T00:00:00\",\"2020-05-26T00:00:00\",\"2020-05-25T00:00:00\",\"2020-05-24T00:00:00\",\"2020-05-23T00:00:00\",\"2020-05-22T00:00:00\",\"2020-05-21T00:00:00\",\"2020-05-20T00:00:00\",\"2020-05-19T00:00:00\",\"2020-05-18T00:00:00\",\"2020-05-17T00:00:00\",\"2020-05-16T00:00:00\",\"2020-05-15T00:00:00\",\"2020-05-14T00:00:00\",\"2020-05-13T00:00:00\",\"2020-05-12T00:00:00\",\"2020-05-11T00:00:00\",\"2020-05-10T00:00:00\",\"2020-05-09T00:00:00\",\"2020-05-08T00:00:00\",\"2020-05-07T00:00:00\",\"2020-05-06T00:00:00\",\"2020-05-05T00:00:00\",\"2020-05-04T00:00:00\",\"2020-05-03T00:00:00\",\"2020-05-02T00:00:00\",\"2020-05-01T00:00:00\",\"2020-04-30T00:00:00\",\"2020-04-29T00:00:00\",\"2020-04-28T00:00:00\",\"2020-04-27T00:00:00\",\"2020-04-26T00:00:00\",\"2020-04-25T00:00:00\",\"2020-04-24T00:00:00\",\"2020-04-23T00:00:00\",\"2020-04-22T00:00:00\",\"2020-04-21T00:00:00\",\"2020-04-20T00:00:00\",\"2020-04-19T00:00:00\",\"2020-04-18T00:00:00\",\"2020-04-17T00:00:00\",\"2020-04-16T00:00:00\",\"2020-04-15T00:00:00\",\"2020-04-14T00:00:00\",\"2020-04-13T00:00:00\",\"2020-04-12T00:00:00\",\"2020-04-11T00:00:00\",\"2020-04-10T00:00:00\",\"2020-04-09T00:00:00\",\"2020-04-08T00:00:00\",\"2020-04-07T00:00:00\",\"2020-04-06T00:00:00\",\"2020-04-05T00:00:00\",\"2020-04-04T00:00:00\",\"2020-04-03T00:00:00\",\"2020-04-02T00:00:00\",\"2020-04-01T00:00:00\",\"2020-03-31T00:00:00\",\"2020-03-30T00:00:00\",\"2020-03-29T00:00:00\",\"2020-03-28T00:00:00\",\"2020-03-27T00:00:00\",\"2020-03-26T00:00:00\",\"2020-03-25T00:00:00\",\"2020-03-24T00:00:00\",\"2020-03-23T00:00:00\",\"2020-03-22T00:00:00\",\"2020-03-21T00:00:00\",\"2020-03-20T00:00:00\",\"2020-03-19T00:00:00\",\"2020-03-18T00:00:00\",\"2020-03-17T00:00:00\",\"2020-03-16T00:00:00\",\"2020-03-15T00:00:00\",\"2020-03-14T00:00:00\",\"2020-03-13T00:00:00\",\"2020-03-12T00:00:00\",\"2020-03-11T00:00:00\",\"2020-03-10T00:00:00\",\"2020-03-09T00:00:00\",\"2020-03-08T00:00:00\",\"2020-03-07T00:00:00\",\"2020-03-06T00:00:00\",\"2020-03-05T00:00:00\",\"2020-03-04T00:00:00\",\"2020-03-03T00:00:00\",\"2020-03-02T00:00:00\",\"2020-03-01T00:00:00\",\"2020-02-29T00:00:00\",\"2020-02-28T00:00:00\",\"2020-02-27T00:00:00\",\"2020-02-26T00:00:00\",\"2020-02-25T00:00:00\",\"2020-02-24T00:00:00\",\"2020-02-23T00:00:00\",\"2020-02-22T00:00:00\",\"2020-02-21T00:00:00\",\"2020-02-20T00:00:00\",\"2020-02-19T00:00:00\",\"2020-02-18T00:00:00\",\"2020-02-17T00:00:00\",\"2020-02-16T00:00:00\",\"2020-02-15T00:00:00\",\"2020-02-14T00:00:00\",\"2020-02-13T00:00:00\",\"2020-02-12T00:00:00\",\"2020-02-11T00:00:00\",\"2020-02-10T00:00:00\",\"2020-02-09T00:00:00\",\"2020-02-08T00:00:00\",\"2020-02-07T00:00:00\",\"2020-02-06T00:00:00\",\"2020-02-05T00:00:00\",\"2020-02-04T00:00:00\",\"2020-02-03T00:00:00\",\"2020-02-02T00:00:00\",\"2020-02-01T00:00:00\",\"2020-01-31T00:00:00\",\"2020-01-30T00:00:00\",\"2020-01-29T00:00:00\",\"2020-01-28T00:00:00\",\"2020-01-27T00:00:00\",\"2020-01-26T00:00:00\",\"2020-01-25T00:00:00\",\"2020-01-24T00:00:00\",\"2020-01-23T00:00:00\",\"2020-01-22T00:00:00\",\"2020-01-21T00:00:00\",\"2020-01-20T00:00:00\",\"2020-01-19T00:00:00\",\"2020-01-18T00:00:00\",\"2020-01-17T00:00:00\",\"2020-01-16T00:00:00\",\"2020-01-15T00:00:00\",\"2020-01-14T00:00:00\",\"2020-01-13T00:00:00\",\"2020-01-12T00:00:00\",\"2020-01-11T00:00:00\",\"2020-01-10T00:00:00\",\"2020-01-09T00:00:00\",\"2020-01-08T00:00:00\",\"2020-01-07T00:00:00\",\"2020-01-06T00:00:00\",\"2020-01-05T00:00:00\",\"2020-01-04T00:00:00\",\"2020-01-03T00:00:00\",\"2020-01-02T00:00:00\",\"2020-01-01T00:00:00\",\"2019-12-31T00:00:00\",\"2019-12-30T00:00:00\",\"2019-12-29T00:00:00\",\"2019-12-28T00:00:00\",\"2019-12-27T00:00:00\",\"2019-12-26T00:00:00\",\"2019-12-25T00:00:00\",\"2019-12-24T00:00:00\",\"2019-12-23T00:00:00\",\"2019-12-22T00:00:00\",\"2019-12-21T00:00:00\",\"2019-12-20T00:00:00\",\"2019-12-19T00:00:00\",\"2019-12-18T00:00:00\",\"2019-12-17T00:00:00\",\"2019-12-16T00:00:00\",\"2019-12-15T00:00:00\",\"2019-12-14T00:00:00\",\"2019-12-13T00:00:00\",\"2019-12-12T00:00:00\",\"2019-12-11T00:00:00\",\"2019-12-10T00:00:00\",\"2019-12-09T00:00:00\",\"2019-12-08T00:00:00\",\"2019-12-07T00:00:00\",\"2019-12-06T00:00:00\",\"2019-12-05T00:00:00\",\"2019-12-04T00:00:00\",\"2019-12-03T00:00:00\",\"2019-12-02T00:00:00\",\"2019-12-01T00:00:00\",\"2019-11-30T00:00:00\",\"2019-11-29T00:00:00\",\"2019-11-28T00:00:00\",\"2019-11-27T00:00:00\",\"2019-11-26T00:00:00\",\"2019-11-25T00:00:00\",\"2019-11-24T00:00:00\",\"2019-11-23T00:00:00\",\"2019-11-22T00:00:00\",\"2019-11-21T00:00:00\",\"2019-11-20T00:00:00\",\"2019-11-19T00:00:00\",\"2019-11-18T00:00:00\",\"2019-11-17T00:00:00\",\"2019-11-16T00:00:00\",\"2019-11-15T00:00:00\",\"2019-11-14T00:00:00\",\"2019-11-13T00:00:00\",\"2019-11-12T00:00:00\",\"2019-11-11T00:00:00\",\"2019-11-10T00:00:00\",\"2019-11-09T00:00:00\",\"2019-11-08T00:00:00\",\"2019-11-07T00:00:00\",\"2019-11-06T00:00:00\",\"2019-11-05T00:00:00\",\"2019-11-04T00:00:00\",\"2019-11-03T00:00:00\",\"2019-11-02T00:00:00\",\"2019-11-01T00:00:00\",\"2019-10-31T00:00:00\",\"2019-10-30T00:00:00\",\"2019-10-29T00:00:00\",\"2019-10-28T00:00:00\",\"2019-10-27T00:00:00\",\"2019-10-26T00:00:00\",\"2019-10-25T00:00:00\",\"2019-10-24T00:00:00\",\"2019-10-23T00:00:00\",\"2019-10-22T00:00:00\",\"2019-10-21T00:00:00\",\"2019-10-20T00:00:00\",\"2019-10-19T00:00:00\",\"2019-10-18T00:00:00\",\"2019-10-17T00:00:00\",\"2019-10-16T00:00:00\",\"2019-10-15T00:00:00\",\"2019-10-14T00:00:00\",\"2019-10-13T00:00:00\",\"2019-10-12T00:00:00\",\"2019-10-11T00:00:00\",\"2019-10-10T00:00:00\",\"2019-10-09T00:00:00\",\"2019-10-08T00:00:00\",\"2019-10-07T00:00:00\",\"2019-10-06T00:00:00\",\"2019-10-05T00:00:00\",\"2019-10-04T00:00:00\",\"2019-10-03T00:00:00\",\"2019-10-02T00:00:00\",\"2019-10-01T00:00:00\",\"2019-09-30T00:00:00\",\"2019-09-29T00:00:00\",\"2019-09-28T00:00:00\",\"2019-09-27T00:00:00\",\"2019-09-26T00:00:00\",\"2019-09-25T00:00:00\",\"2019-09-24T00:00:00\",\"2019-09-23T00:00:00\",\"2019-09-22T00:00:00\",\"2019-09-21T00:00:00\",\"2019-09-20T00:00:00\",\"2019-09-19T00:00:00\",\"2019-09-18T00:00:00\",\"2019-09-17T00:00:00\",\"2019-09-16T00:00:00\",\"2019-09-15T00:00:00\",\"2019-09-14T00:00:00\",\"2019-09-13T00:00:00\",\"2019-09-12T00:00:00\",\"2019-09-11T00:00:00\",\"2019-09-10T00:00:00\",\"2019-09-09T00:00:00\",\"2019-09-08T00:00:00\",\"2019-09-07T00:00:00\",\"2019-09-06T00:00:00\",\"2019-09-05T00:00:00\",\"2019-09-04T00:00:00\",\"2019-09-03T00:00:00\",\"2019-09-02T00:00:00\",\"2019-09-01T00:00:00\",\"2019-08-31T00:00:00\",\"2019-08-30T00:00:00\",\"2019-08-29T00:00:00\",\"2019-08-28T00:00:00\",\"2019-08-27T00:00:00\",\"2019-08-26T00:00:00\",\"2019-08-25T00:00:00\",\"2019-08-24T00:00:00\",\"2019-08-23T00:00:00\",\"2019-08-22T00:00:00\",\"2019-08-21T00:00:00\",\"2019-08-20T00:00:00\",\"2019-08-19T00:00:00\",\"2019-08-18T00:00:00\",\"2019-08-17T00:00:00\",\"2019-08-16T00:00:00\",\"2019-08-15T00:00:00\",\"2019-08-14T00:00:00\",\"2019-08-13T00:00:00\",\"2019-08-12T00:00:00\",\"2019-08-11T00:00:00\",\"2019-08-10T00:00:00\",\"2019-08-09T00:00:00\",\"2019-08-08T00:00:00\",\"2019-08-07T00:00:00\",\"2019-08-06T00:00:00\",\"2019-08-05T00:00:00\",\"2019-08-04T00:00:00\",\"2019-08-03T00:00:00\",\"2019-08-02T00:00:00\",\"2019-08-01T00:00:00\",\"2019-07-31T00:00:00\",\"2019-07-30T00:00:00\",\"2019-07-29T00:00:00\",\"2019-07-28T00:00:00\",\"2019-07-27T00:00:00\",\"2019-07-26T00:00:00\",\"2019-07-25T00:00:00\",\"2019-07-24T00:00:00\",\"2019-07-23T00:00:00\",\"2019-07-22T00:00:00\",\"2019-07-21T00:00:00\",\"2019-07-20T00:00:00\",\"2019-07-19T00:00:00\",\"2019-07-18T00:00:00\",\"2019-07-17T00:00:00\",\"2019-07-16T00:00:00\",\"2019-07-15T00:00:00\",\"2019-07-14T00:00:00\",\"2019-07-13T00:00:00\",\"2019-07-12T00:00:00\",\"2019-07-11T00:00:00\",\"2019-07-10T00:00:00\",\"2019-07-09T00:00:00\",\"2019-07-08T00:00:00\",\"2019-07-07T00:00:00\",\"2019-07-06T00:00:00\",\"2019-07-05T00:00:00\",\"2019-07-04T00:00:00\",\"2019-07-03T00:00:00\",\"2019-07-02T00:00:00\",\"2019-07-01T00:00:00\",\"2019-06-30T00:00:00\",\"2019-06-29T00:00:00\",\"2019-06-28T00:00:00\",\"2019-06-27T00:00:00\",\"2019-06-26T00:00:00\",\"2019-06-25T00:00:00\",\"2019-06-24T00:00:00\",\"2019-06-23T00:00:00\",\"2019-06-22T00:00:00\",\"2019-06-21T00:00:00\",\"2019-06-20T00:00:00\",\"2019-06-19T00:00:00\",\"2019-06-18T00:00:00\",\"2019-06-17T00:00:00\",\"2019-06-16T00:00:00\",\"2019-06-15T00:00:00\",\"2019-06-14T00:00:00\",\"2019-06-13T00:00:00\",\"2019-06-12T00:00:00\",\"2019-06-11T00:00:00\",\"2019-06-10T00:00:00\",\"2019-06-09T00:00:00\",\"2019-06-08T00:00:00\",\"2019-06-07T00:00:00\",\"2019-06-06T00:00:00\",\"2019-06-05T00:00:00\",\"2019-06-04T00:00:00\",\"2019-06-03T00:00:00\",\"2019-06-02T00:00:00\",\"2019-06-01T00:00:00\",\"2019-05-31T00:00:00\",\"2019-05-30T00:00:00\",\"2019-05-29T00:00:00\",\"2019-05-28T00:00:00\",\"2019-05-27T00:00:00\",\"2019-05-26T00:00:00\",\"2019-05-25T00:00:00\",\"2019-05-24T00:00:00\",\"2019-05-23T00:00:00\",\"2019-05-22T00:00:00\",\"2019-05-21T00:00:00\",\"2019-05-20T00:00:00\",\"2019-05-19T00:00:00\",\"2019-05-18T00:00:00\",\"2019-05-17T00:00:00\",\"2019-05-16T00:00:00\",\"2019-05-15T00:00:00\",\"2019-05-14T00:00:00\",\"2019-05-13T00:00:00\",\"2019-05-12T00:00:00\",\"2019-05-11T00:00:00\",\"2019-05-10T00:00:00\",\"2019-05-09T00:00:00\",\"2019-05-08T00:00:00\",\"2019-05-07T00:00:00\",\"2019-05-06T00:00:00\",\"2019-05-05T00:00:00\",\"2019-05-04T00:00:00\",\"2019-05-03T00:00:00\",\"2019-05-02T00:00:00\",\"2019-05-01T00:00:00\",\"2019-04-30T00:00:00\",\"2019-04-29T00:00:00\",\"2019-04-28T00:00:00\",\"2019-04-27T00:00:00\",\"2019-04-26T00:00:00\",\"2019-04-25T00:00:00\",\"2019-04-24T00:00:00\",\"2019-04-23T00:00:00\",\"2019-04-22T00:00:00\",\"2019-04-21T00:00:00\",\"2019-04-20T00:00:00\",\"2019-04-19T00:00:00\",\"2019-04-18T00:00:00\",\"2019-04-17T00:00:00\",\"2019-04-16T00:00:00\",\"2019-04-15T00:00:00\",\"2019-04-14T00:00:00\",\"2019-04-13T00:00:00\",\"2019-04-12T00:00:00\",\"2019-04-11T00:00:00\",\"2019-04-10T00:00:00\",\"2019-04-09T00:00:00\",\"2019-04-08T00:00:00\",\"2019-04-07T00:00:00\",\"2019-04-06T00:00:00\",\"2019-04-05T00:00:00\",\"2019-04-04T00:00:00\",\"2019-04-03T00:00:00\",\"2019-04-02T00:00:00\",\"2019-04-01T00:00:00\",\"2019-03-31T00:00:00\",\"2019-03-30T00:00:00\",\"2019-03-29T00:00:00\",\"2019-03-28T00:00:00\",\"2019-03-27T00:00:00\",\"2019-03-26T00:00:00\",\"2019-03-25T00:00:00\",\"2019-03-24T00:00:00\",\"2019-03-23T00:00:00\",\"2019-03-22T00:00:00\",\"2019-03-21T00:00:00\",\"2019-03-20T00:00:00\",\"2019-03-19T00:00:00\",\"2019-03-18T00:00:00\",\"2019-03-17T00:00:00\",\"2019-03-16T00:00:00\",\"2019-03-15T00:00:00\",\"2019-03-14T00:00:00\",\"2019-03-13T00:00:00\",\"2019-03-12T00:00:00\",\"2019-03-11T00:00:00\",\"2019-03-10T00:00:00\",\"2019-03-09T00:00:00\",\"2019-03-08T00:00:00\",\"2019-03-07T00:00:00\",\"2019-03-06T00:00:00\",\"2019-03-05T00:00:00\",\"2019-03-04T00:00:00\",\"2019-03-03T00:00:00\",\"2019-03-02T00:00:00\",\"2019-03-01T00:00:00\",\"2019-02-28T00:00:00\",\"2019-02-27T00:00:00\",\"2019-02-26T00:00:00\",\"2019-02-25T00:00:00\",\"2019-02-24T00:00:00\",\"2019-02-23T00:00:00\",\"2019-02-22T00:00:00\",\"2019-02-21T00:00:00\",\"2019-02-20T00:00:00\",\"2019-02-19T00:00:00\",\"2019-02-18T00:00:00\",\"2019-02-17T00:00:00\",\"2019-02-16T00:00:00\",\"2019-02-15T00:00:00\",\"2019-02-14T00:00:00\",\"2019-02-13T00:00:00\",\"2019-02-12T00:00:00\",\"2019-02-11T00:00:00\",\"2019-02-10T00:00:00\",\"2019-02-09T00:00:00\",\"2019-02-08T00:00:00\",\"2019-02-07T00:00:00\",\"2019-02-06T00:00:00\",\"2019-02-05T00:00:00\",\"2019-02-04T00:00:00\",\"2019-02-03T00:00:00\",\"2019-02-02T00:00:00\",\"2019-02-01T00:00:00\",\"2019-01-31T00:00:00\",\"2019-01-30T00:00:00\",\"2019-01-29T00:00:00\",\"2019-01-28T00:00:00\",\"2019-01-27T00:00:00\",\"2019-01-26T00:00:00\",\"2019-01-25T00:00:00\",\"2019-01-24T00:00:00\",\"2019-01-23T00:00:00\",\"2019-01-22T00:00:00\",\"2019-01-21T00:00:00\",\"2019-01-20T00:00:00\",\"2019-01-19T00:00:00\",\"2019-01-18T00:00:00\",\"2019-01-17T00:00:00\",\"2019-01-16T00:00:00\",\"2019-01-15T00:00:00\",\"2019-01-14T00:00:00\",\"2019-01-13T00:00:00\",\"2019-01-12T00:00:00\",\"2019-01-11T00:00:00\",\"2019-01-10T00:00:00\",\"2019-01-09T00:00:00\",\"2019-01-08T00:00:00\",\"2019-01-07T00:00:00\",\"2019-01-06T00:00:00\",\"2019-01-05T00:00:00\",\"2019-01-04T00:00:00\",\"2019-01-03T00:00:00\",\"2019-01-02T00:00:00\",\"2019-01-01T00:00:00\",\"2018-12-31T00:00:00\",\"2018-12-30T00:00:00\",\"2018-12-29T00:00:00\",\"2018-12-28T00:00:00\",\"2018-12-27T00:00:00\",\"2018-12-26T00:00:00\",\"2018-12-25T00:00:00\",\"2018-12-24T00:00:00\",\"2018-12-23T00:00:00\",\"2018-12-22T00:00:00\",\"2018-12-21T00:00:00\",\"2018-12-20T00:00:00\",\"2018-12-19T00:00:00\",\"2018-12-18T00:00:00\",\"2018-12-17T00:00:00\",\"2018-12-16T00:00:00\",\"2018-12-15T00:00:00\",\"2018-12-14T00:00:00\",\"2018-12-13T00:00:00\",\"2018-12-12T00:00:00\",\"2018-12-11T00:00:00\",\"2018-12-10T00:00:00\",\"2018-12-09T00:00:00\",\"2018-12-08T00:00:00\",\"2018-12-07T00:00:00\",\"2018-12-06T00:00:00\",\"2018-12-05T00:00:00\",\"2018-12-04T00:00:00\",\"2018-12-03T00:00:00\",\"2018-12-02T00:00:00\",\"2018-12-01T00:00:00\",\"2018-11-30T00:00:00\",\"2018-11-29T00:00:00\",\"2018-11-28T00:00:00\",\"2018-11-27T00:00:00\",\"2018-11-26T00:00:00\",\"2018-11-25T00:00:00\",\"2018-11-24T00:00:00\",\"2018-11-23T00:00:00\",\"2018-11-22T00:00:00\",\"2018-11-21T00:00:00\",\"2018-11-20T00:00:00\",\"2018-11-19T00:00:00\",\"2018-11-18T00:00:00\",\"2018-11-17T00:00:00\",\"2018-11-16T00:00:00\",\"2018-11-15T00:00:00\",\"2018-11-14T00:00:00\",\"2018-11-13T00:00:00\",\"2018-11-12T00:00:00\",\"2018-11-11T00:00:00\",\"2018-11-10T00:00:00\",\"2018-11-09T00:00:00\",\"2018-11-08T00:00:00\",\"2018-11-07T00:00:00\",\"2018-11-06T00:00:00\",\"2018-11-05T00:00:00\",\"2018-11-04T00:00:00\",\"2018-11-03T00:00:00\",\"2018-11-02T00:00:00\",\"2018-11-01T00:00:00\",\"2018-10-31T00:00:00\",\"2018-10-30T00:00:00\",\"2018-10-29T00:00:00\",\"2018-10-28T00:00:00\",\"2018-10-27T00:00:00\",\"2018-10-26T00:00:00\",\"2018-10-25T00:00:00\",\"2018-10-24T00:00:00\",\"2018-10-23T00:00:00\",\"2018-10-22T00:00:00\",\"2018-10-21T00:00:00\",\"2018-10-20T00:00:00\",\"2018-10-19T00:00:00\",\"2018-10-18T00:00:00\",\"2018-10-17T00:00:00\",\"2018-10-16T00:00:00\",\"2018-10-15T00:00:00\",\"2018-10-14T00:00:00\",\"2018-10-13T00:00:00\",\"2018-10-12T00:00:00\",\"2018-10-11T00:00:00\",\"2018-10-10T00:00:00\",\"2018-10-09T00:00:00\",\"2018-10-08T00:00:00\",\"2018-10-07T00:00:00\",\"2018-10-06T00:00:00\",\"2018-10-05T00:00:00\",\"2018-10-04T00:00:00\",\"2018-10-03T00:00:00\",\"2018-10-02T00:00:00\",\"2018-10-01T00:00:00\",\"2018-09-30T00:00:00\",\"2018-09-29T00:00:00\",\"2018-09-28T00:00:00\",\"2018-09-27T00:00:00\",\"2018-09-26T00:00:00\",\"2018-09-25T00:00:00\",\"2018-09-24T00:00:00\",\"2018-09-23T00:00:00\",\"2018-09-22T00:00:00\",\"2018-09-21T00:00:00\",\"2018-09-20T00:00:00\",\"2018-09-19T00:00:00\",\"2018-09-18T00:00:00\",\"2018-09-17T00:00:00\",\"2018-09-16T00:00:00\",\"2018-09-15T00:00:00\",\"2018-09-14T00:00:00\",\"2018-09-13T00:00:00\",\"2018-09-12T00:00:00\",\"2018-09-11T00:00:00\",\"2018-09-10T00:00:00\",\"2018-09-09T00:00:00\",\"2018-09-08T00:00:00\",\"2018-09-07T00:00:00\",\"2018-09-06T00:00:00\",\"2018-09-05T00:00:00\",\"2018-09-04T00:00:00\",\"2018-09-03T00:00:00\",\"2018-09-02T00:00:00\",\"2018-09-01T00:00:00\",\"2018-08-31T00:00:00\",\"2018-08-30T00:00:00\",\"2018-08-29T00:00:00\",\"2018-08-28T00:00:00\",\"2018-08-27T00:00:00\",\"2018-08-26T00:00:00\",\"2018-08-25T00:00:00\",\"2018-08-24T00:00:00\",\"2018-08-23T00:00:00\",\"2018-08-22T00:00:00\",\"2018-08-21T00:00:00\",\"2018-08-20T00:00:00\",\"2018-08-19T00:00:00\",\"2018-08-18T00:00:00\",\"2018-08-17T00:00:00\",\"2018-08-16T00:00:00\",\"2018-08-15T00:00:00\",\"2018-08-14T00:00:00\",\"2018-08-13T00:00:00\",\"2018-08-12T00:00:00\",\"2018-08-11T00:00:00\",\"2018-08-10T00:00:00\",\"2018-08-09T00:00:00\",\"2018-08-08T00:00:00\",\"2018-08-07T00:00:00\",\"2018-08-06T00:00:00\",\"2018-08-05T00:00:00\",\"2018-08-04T00:00:00\",\"2018-08-03T00:00:00\",\"2018-08-02T00:00:00\",\"2018-08-01T00:00:00\",\"2018-07-31T00:00:00\",\"2018-07-30T00:00:00\",\"2018-07-29T00:00:00\",\"2018-07-28T00:00:00\",\"2018-07-27T00:00:00\",\"2018-07-26T00:00:00\",\"2018-07-25T00:00:00\",\"2018-07-24T00:00:00\",\"2018-07-23T00:00:00\",\"2018-07-22T00:00:00\",\"2018-07-21T00:00:00\",\"2018-07-20T00:00:00\",\"2018-07-19T00:00:00\",\"2018-07-18T00:00:00\",\"2018-07-17T00:00:00\",\"2018-07-16T00:00:00\",\"2018-07-15T00:00:00\",\"2018-07-14T00:00:00\",\"2018-07-13T00:00:00\",\"2018-07-12T00:00:00\",\"2018-07-11T00:00:00\",\"2018-07-10T00:00:00\",\"2018-07-09T00:00:00\",\"2018-07-08T00:00:00\",\"2018-07-07T00:00:00\",\"2018-07-06T00:00:00\",\"2018-07-05T00:00:00\",\"2018-07-04T00:00:00\",\"2018-07-03T00:00:00\",\"2018-07-02T00:00:00\",\"2018-07-01T00:00:00\",\"2018-06-30T00:00:00\",\"2018-06-29T00:00:00\",\"2018-06-28T00:00:00\",\"2018-06-27T00:00:00\",\"2018-06-26T00:00:00\",\"2018-06-25T00:00:00\",\"2018-06-24T00:00:00\",\"2018-06-23T00:00:00\",\"2018-06-22T00:00:00\",\"2018-06-21T00:00:00\",\"2018-06-20T00:00:00\",\"2018-06-19T00:00:00\",\"2018-06-18T00:00:00\",\"2018-06-17T00:00:00\",\"2018-06-16T00:00:00\",\"2018-06-15T00:00:00\",\"2018-06-14T00:00:00\",\"2018-06-13T00:00:00\",\"2018-06-12T00:00:00\",\"2018-06-11T00:00:00\",\"2018-06-10T00:00:00\",\"2018-06-09T00:00:00\",\"2018-06-08T00:00:00\",\"2018-06-07T00:00:00\",\"2018-06-06T00:00:00\",\"2018-06-05T00:00:00\",\"2018-06-04T00:00:00\",\"2018-06-03T00:00:00\",\"2018-06-02T00:00:00\",\"2018-06-01T00:00:00\",\"2018-05-31T00:00:00\",\"2018-05-30T00:00:00\",\"2018-05-29T00:00:00\",\"2018-05-28T00:00:00\",\"2018-05-27T00:00:00\",\"2018-05-26T00:00:00\",\"2018-05-25T00:00:00\",\"2018-05-24T00:00:00\",\"2018-05-23T00:00:00\",\"2018-05-22T00:00:00\",\"2018-05-21T00:00:00\",\"2018-05-20T00:00:00\",\"2018-05-19T00:00:00\",\"2018-05-18T00:00:00\",\"2018-05-17T00:00:00\",\"2018-05-16T00:00:00\",\"2018-05-15T00:00:00\",\"2018-05-14T00:00:00\",\"2018-05-13T00:00:00\",\"2018-05-12T00:00:00\",\"2018-05-11T00:00:00\",\"2018-05-10T00:00:00\",\"2018-05-09T00:00:00\",\"2018-05-08T00:00:00\",\"2018-05-07T00:00:00\",\"2018-05-06T00:00:00\",\"2018-05-05T00:00:00\",\"2018-05-04T00:00:00\",\"2018-05-03T00:00:00\",\"2018-05-02T00:00:00\",\"2018-05-01T00:00:00\",\"2018-04-30T00:00:00\",\"2018-04-29T00:00:00\",\"2018-04-28T00:00:00\",\"2018-04-27T00:00:00\",\"2018-04-26T00:00:00\",\"2018-04-25T00:00:00\",\"2018-04-24T00:00:00\",\"2018-04-23T00:00:00\",\"2018-04-22T00:00:00\",\"2018-04-21T00:00:00\",\"2018-04-20T00:00:00\",\"2018-04-19T00:00:00\",\"2018-04-18T00:00:00\",\"2018-04-17T00:00:00\",\"2018-04-16T00:00:00\",\"2018-04-15T00:00:00\",\"2018-04-14T00:00:00\",\"2018-04-13T00:00:00\",\"2018-04-12T00:00:00\",\"2018-04-11T00:00:00\",\"2018-04-10T00:00:00\",\"2018-04-09T00:00:00\",\"2018-04-08T00:00:00\",\"2018-04-07T00:00:00\",\"2018-04-06T00:00:00\",\"2018-04-05T00:00:00\",\"2018-04-04T00:00:00\",\"2018-04-03T00:00:00\",\"2018-04-02T00:00:00\",\"2018-04-01T00:00:00\",\"2018-03-31T00:00:00\",\"2018-03-30T00:00:00\",\"2018-03-29T00:00:00\",\"2018-03-28T00:00:00\",\"2018-03-27T00:00:00\",\"2018-03-26T00:00:00\",\"2018-03-25T00:00:00\",\"2018-03-24T00:00:00\",\"2018-03-23T00:00:00\",\"2018-03-22T00:00:00\",\"2018-03-21T00:00:00\",\"2018-03-20T00:00:00\",\"2018-03-19T00:00:00\",\"2018-03-18T00:00:00\",\"2018-03-17T00:00:00\",\"2018-03-16T00:00:00\",\"2018-03-15T00:00:00\",\"2018-03-14T00:00:00\",\"2018-03-13T00:00:00\",\"2018-03-12T00:00:00\",\"2018-03-11T00:00:00\",\"2018-03-10T00:00:00\",\"2018-03-09T00:00:00\",\"2018-03-08T00:00:00\",\"2018-03-07T00:00:00\",\"2018-03-06T00:00:00\",\"2018-03-05T00:00:00\",\"2018-03-04T00:00:00\",\"2018-03-03T00:00:00\",\"2018-03-02T00:00:00\",\"2018-03-01T00:00:00\",\"2018-02-28T00:00:00\",\"2018-02-27T00:00:00\",\"2018-02-26T00:00:00\",\"2018-02-25T00:00:00\",\"2018-02-24T00:00:00\",\"2018-02-23T00:00:00\",\"2018-02-22T00:00:00\",\"2018-02-21T00:00:00\",\"2018-02-20T00:00:00\",\"2018-02-19T00:00:00\",\"2018-02-18T00:00:00\",\"2018-02-17T00:00:00\",\"2018-02-16T00:00:00\",\"2018-02-15T00:00:00\",\"2018-02-14T00:00:00\",\"2018-02-13T00:00:00\",\"2018-02-12T00:00:00\",\"2018-02-11T00:00:00\",\"2018-02-10T00:00:00\",\"2018-02-09T00:00:00\",\"2018-02-08T00:00:00\",\"2018-02-07T00:00:00\",\"2018-02-06T00:00:00\",\"2018-02-05T00:00:00\",\"2018-02-04T00:00:00\",\"2018-02-03T00:00:00\",\"2018-02-02T00:00:00\",\"2018-02-01T00:00:00\",\"2018-01-31T00:00:00\",\"2018-01-30T00:00:00\",\"2018-01-29T00:00:00\",\"2018-01-28T00:00:00\",\"2018-01-27T00:00:00\",\"2018-01-26T00:00:00\",\"2018-01-25T00:00:00\",\"2018-01-24T00:00:00\",\"2018-01-23T00:00:00\",\"2018-01-22T00:00:00\",\"2018-01-21T00:00:00\",\"2018-01-20T00:00:00\",\"2018-01-19T00:00:00\",\"2018-01-18T00:00:00\",\"2018-01-17T00:00:00\",\"2018-01-16T00:00:00\",\"2018-01-15T00:00:00\",\"2018-01-14T00:00:00\",\"2018-01-13T00:00:00\",\"2018-01-12T00:00:00\",\"2018-01-11T00:00:00\",\"2018-01-10T00:00:00\",\"2018-01-09T00:00:00\",\"2018-01-08T00:00:00\",\"2018-01-07T00:00:00\",\"2018-01-06T00:00:00\",\"2018-01-05T00:00:00\",\"2018-01-04T00:00:00\",\"2018-01-03T00:00:00\",\"2018-01-02T00:00:00\",\"2018-01-01T00:00:00\",\"2017-12-31T00:00:00\",\"2017-12-30T00:00:00\",\"2017-12-29T00:00:00\",\"2017-12-28T00:00:00\",\"2017-12-27T00:00:00\",\"2017-12-26T00:00:00\",\"2017-12-25T00:00:00\",\"2017-12-24T00:00:00\",\"2017-12-23T00:00:00\",\"2017-12-22T00:00:00\",\"2017-12-21T00:00:00\",\"2017-12-20T00:00:00\",\"2017-12-19T00:00:00\",\"2017-12-18T00:00:00\",\"2017-12-17T00:00:00\",\"2017-12-16T00:00:00\",\"2017-12-15T00:00:00\",\"2017-12-14T00:00:00\",\"2017-12-13T00:00:00\",\"2017-12-12T00:00:00\",\"2017-12-11T00:00:00\",\"2017-12-10T00:00:00\",\"2017-12-09T00:00:00\",\"2017-12-08T00:00:00\",\"2017-12-07T00:00:00\",\"2017-12-06T00:00:00\",\"2017-12-05T00:00:00\",\"2017-12-04T00:00:00\",\"2017-12-03T00:00:00\",\"2017-12-02T00:00:00\",\"2017-12-01T00:00:00\",\"2017-11-30T00:00:00\",\"2017-11-29T00:00:00\",\"2017-11-28T00:00:00\",\"2017-11-27T00:00:00\",\"2017-11-26T00:00:00\",\"2017-11-25T00:00:00\",\"2017-11-24T00:00:00\",\"2017-11-23T00:00:00\",\"2017-11-22T00:00:00\",\"2017-11-21T00:00:00\",\"2017-11-20T00:00:00\",\"2017-11-19T00:00:00\",\"2017-11-18T00:00:00\",\"2017-11-17T00:00:00\",\"2017-11-16T00:00:00\",\"2017-11-15T00:00:00\",\"2017-11-14T00:00:00\",\"2017-11-13T00:00:00\",\"2017-11-12T00:00:00\",\"2017-11-11T00:00:00\",\"2017-11-10T00:00:00\",\"2017-11-09T00:00:00\",\"2017-11-08T00:00:00\",\"2017-11-07T00:00:00\",\"2017-11-06T00:00:00\",\"2017-11-05T00:00:00\",\"2017-11-04T00:00:00\",\"2017-11-03T00:00:00\",\"2017-11-02T00:00:00\",\"2017-11-01T00:00:00\",\"2017-10-31T00:00:00\",\"2017-10-30T00:00:00\",\"2017-10-29T00:00:00\",\"2017-10-28T00:00:00\",\"2017-10-27T00:00:00\",\"2017-10-26T00:00:00\",\"2017-10-25T00:00:00\",\"2017-10-24T00:00:00\",\"2017-10-23T00:00:00\",\"2017-10-22T00:00:00\",\"2017-10-21T00:00:00\",\"2017-10-20T00:00:00\",\"2017-10-19T00:00:00\",\"2017-10-18T00:00:00\",\"2017-10-17T00:00:00\",\"2017-10-16T00:00:00\",\"2017-10-15T00:00:00\",\"2017-10-14T00:00:00\",\"2017-10-13T00:00:00\",\"2017-10-12T00:00:00\",\"2017-10-11T00:00:00\",\"2017-10-10T00:00:00\",\"2017-10-09T00:00:00\",\"2017-10-08T00:00:00\",\"2017-10-07T00:00:00\",\"2017-10-06T00:00:00\",\"2017-10-05T00:00:00\",\"2017-10-04T00:00:00\",\"2017-10-03T00:00:00\",\"2017-10-02T00:00:00\",\"2017-10-01T00:00:00\",\"2017-09-30T00:00:00\",\"2017-09-29T00:00:00\",\"2017-09-28T00:00:00\",\"2017-09-27T00:00:00\",\"2017-09-26T00:00:00\",\"2017-09-25T00:00:00\",\"2017-09-24T00:00:00\",\"2017-09-23T00:00:00\",\"2017-09-22T00:00:00\",\"2017-09-21T00:00:00\",\"2017-09-20T00:00:00\",\"2017-09-19T00:00:00\",\"2017-09-18T00:00:00\",\"2017-09-17T00:00:00\",\"2017-09-16T00:00:00\",\"2017-09-15T00:00:00\",\"2017-09-14T00:00:00\",\"2017-09-13T00:00:00\",\"2017-09-12T00:00:00\",\"2017-09-11T00:00:00\",\"2017-09-10T00:00:00\",\"2017-09-09T00:00:00\",\"2017-09-08T00:00:00\",\"2017-09-07T00:00:00\",\"2017-09-06T00:00:00\",\"2017-09-05T00:00:00\",\"2017-09-04T00:00:00\",\"2017-09-03T00:00:00\",\"2017-09-02T00:00:00\",\"2017-09-01T00:00:00\",\"2017-08-31T00:00:00\",\"2017-08-30T00:00:00\",\"2017-08-29T00:00:00\",\"2017-08-28T00:00:00\",\"2017-08-27T00:00:00\",\"2017-08-26T00:00:00\",\"2017-08-25T00:00:00\",\"2017-08-24T00:00:00\",\"2017-08-23T00:00:00\",\"2017-08-22T00:00:00\",\"2017-08-21T00:00:00\",\"2017-08-20T00:00:00\",\"2017-08-19T00:00:00\",\"2017-08-18T00:00:00\",\"2017-08-17T00:00:00\",\"2017-08-16T00:00:00\",\"2017-08-15T00:00:00\",\"2017-08-14T00:00:00\",\"2017-08-13T00:00:00\",\"2017-08-12T00:00:00\",\"2017-08-11T00:00:00\",\"2017-08-10T00:00:00\",\"2017-08-09T00:00:00\",\"2017-08-08T00:00:00\",\"2017-08-07T00:00:00\",\"2017-08-06T00:00:00\",\"2017-08-05T00:00:00\",\"2017-08-04T00:00:00\",\"2017-08-03T00:00:00\",\"2017-08-02T00:00:00\",\"2017-08-01T00:00:00\",\"2017-07-31T00:00:00\",\"2017-07-30T00:00:00\",\"2017-07-29T00:00:00\",\"2017-07-28T00:00:00\",\"2017-07-27T00:00:00\",\"2017-07-26T00:00:00\",\"2017-07-25T00:00:00\",\"2017-07-24T00:00:00\",\"2017-07-23T00:00:00\",\"2017-07-22T00:00:00\",\"2017-07-21T00:00:00\",\"2017-07-20T00:00:00\",\"2017-07-19T00:00:00\",\"2017-07-18T00:00:00\",\"2017-07-17T00:00:00\",\"2017-07-16T00:00:00\",\"2017-07-15T00:00:00\",\"2017-07-14T00:00:00\",\"2017-07-13T00:00:00\",\"2017-07-12T00:00:00\",\"2017-07-11T00:00:00\",\"2017-07-10T00:00:00\",\"2017-07-09T00:00:00\",\"2017-07-08T00:00:00\",\"2017-07-07T00:00:00\",\"2017-07-06T00:00:00\",\"2017-07-05T00:00:00\",\"2017-07-04T00:00:00\",\"2017-07-03T00:00:00\",\"2017-07-02T00:00:00\",\"2017-07-01T00:00:00\",\"2017-06-30T00:00:00\",\"2017-06-29T00:00:00\",\"2017-06-28T00:00:00\",\"2017-06-27T00:00:00\",\"2017-06-26T00:00:00\",\"2017-06-25T00:00:00\",\"2017-06-24T00:00:00\",\"2017-06-23T00:00:00\",\"2017-06-22T00:00:00\",\"2017-06-21T00:00:00\",\"2017-06-20T00:00:00\",\"2017-06-19T00:00:00\",\"2017-06-18T00:00:00\",\"2017-06-17T00:00:00\",\"2017-06-16T00:00:00\",\"2017-06-15T00:00:00\",\"2017-06-14T00:00:00\",\"2017-06-13T00:00:00\",\"2017-06-12T00:00:00\",\"2017-06-11T00:00:00\",\"2017-06-10T00:00:00\",\"2017-06-09T00:00:00\",\"2017-06-08T00:00:00\",\"2017-06-07T00:00:00\",\"2017-06-06T00:00:00\",\"2017-06-05T00:00:00\",\"2017-06-04T00:00:00\",\"2017-06-03T00:00:00\",\"2017-06-02T00:00:00\",\"2017-06-01T00:00:00\",\"2017-05-31T00:00:00\",\"2017-05-30T00:00:00\",\"2017-05-29T00:00:00\",\"2017-05-28T00:00:00\",\"2017-05-27T00:00:00\",\"2017-05-26T00:00:00\",\"2017-05-25T00:00:00\",\"2017-05-24T00:00:00\",\"2017-05-23T00:00:00\",\"2017-05-22T00:00:00\",\"2017-05-21T00:00:00\",\"2017-05-20T00:00:00\",\"2017-05-19T00:00:00\",\"2017-05-18T00:00:00\",\"2017-05-17T00:00:00\",\"2017-05-16T00:00:00\",\"2017-05-15T00:00:00\",\"2017-05-14T00:00:00\",\"2017-05-13T00:00:00\",\"2017-05-12T00:00:00\",\"2017-05-11T00:00:00\",\"2017-05-10T00:00:00\",\"2017-05-09T00:00:00\",\"2017-05-08T00:00:00\",\"2017-05-07T00:00:00\",\"2017-05-06T00:00:00\",\"2017-05-05T00:00:00\",\"2017-05-04T00:00:00\",\"2017-05-03T00:00:00\",\"2017-05-02T00:00:00\",\"2017-05-01T00:00:00\",\"2017-04-30T00:00:00\",\"2017-04-29T00:00:00\",\"2017-04-28T00:00:00\",\"2017-04-27T00:00:00\",\"2017-04-26T00:00:00\",\"2017-04-25T00:00:00\",\"2017-04-24T00:00:00\",\"2017-04-23T00:00:00\",\"2017-04-22T00:00:00\",\"2017-04-21T00:00:00\",\"2017-04-20T00:00:00\",\"2017-04-19T00:00:00\",\"2017-04-18T00:00:00\",\"2017-04-17T00:00:00\",\"2017-04-16T00:00:00\",\"2017-04-15T00:00:00\",\"2017-04-14T00:00:00\",\"2017-04-13T00:00:00\",\"2017-04-12T00:00:00\",\"2017-04-11T00:00:00\",\"2017-04-10T00:00:00\",\"2017-04-09T00:00:00\",\"2017-04-08T00:00:00\",\"2017-04-07T00:00:00\",\"2017-04-06T00:00:00\",\"2017-04-05T00:00:00\",\"2017-04-04T00:00:00\",\"2017-04-03T00:00:00\",\"2017-04-02T00:00:00\",\"2017-04-01T00:00:00\",\"2017-03-31T00:00:00\",\"2017-03-30T00:00:00\",\"2017-03-29T00:00:00\",\"2017-03-28T00:00:00\",\"2017-03-27T00:00:00\",\"2017-03-26T00:00:00\",\"2017-03-25T00:00:00\",\"2017-03-24T00:00:00\",\"2017-03-23T00:00:00\",\"2017-03-22T00:00:00\",\"2017-03-21T00:00:00\",\"2017-03-20T00:00:00\",\"2017-03-19T00:00:00\",\"2017-03-18T00:00:00\",\"2017-03-17T00:00:00\",\"2017-03-16T00:00:00\",\"2017-03-15T00:00:00\",\"2017-03-14T00:00:00\",\"2017-03-13T00:00:00\",\"2017-03-12T00:00:00\",\"2017-03-11T00:00:00\",\"2017-03-10T00:00:00\",\"2017-03-09T00:00:00\",\"2017-03-08T00:00:00\",\"2017-03-07T00:00:00\",\"2017-03-06T00:00:00\",\"2017-03-05T00:00:00\",\"2017-03-04T00:00:00\",\"2017-03-03T00:00:00\",\"2017-03-02T00:00:00\",\"2017-03-01T00:00:00\",\"2017-02-28T00:00:00\",\"2017-02-27T00:00:00\",\"2017-02-26T00:00:00\",\"2017-02-25T00:00:00\",\"2017-02-24T00:00:00\",\"2017-02-23T00:00:00\",\"2017-02-22T00:00:00\",\"2017-02-21T00:00:00\",\"2017-02-20T00:00:00\",\"2017-02-19T00:00:00\",\"2017-02-18T00:00:00\",\"2017-02-17T00:00:00\",\"2017-02-16T00:00:00\",\"2017-02-15T00:00:00\",\"2017-02-14T00:00:00\",\"2017-02-13T00:00:00\",\"2017-02-12T00:00:00\",\"2017-02-11T00:00:00\",\"2017-02-10T00:00:00\",\"2017-02-09T00:00:00\",\"2017-02-08T00:00:00\",\"2017-02-07T00:00:00\",\"2017-02-06T00:00:00\",\"2017-02-05T00:00:00\",\"2017-02-04T00:00:00\",\"2017-02-03T00:00:00\",\"2017-02-02T00:00:00\",\"2017-02-01T00:00:00\",\"2017-01-31T00:00:00\",\"2017-01-30T00:00:00\",\"2017-01-29T00:00:00\",\"2017-01-28T00:00:00\",\"2017-01-27T00:00:00\",\"2017-01-26T00:00:00\",\"2017-01-25T00:00:00\",\"2017-01-24T00:00:00\",\"2017-01-23T00:00:00\",\"2017-01-22T00:00:00\",\"2017-01-21T00:00:00\",\"2017-01-20T00:00:00\",\"2017-01-19T00:00:00\",\"2017-01-18T00:00:00\",\"2017-01-17T00:00:00\",\"2017-01-16T00:00:00\",\"2017-01-15T00:00:00\",\"2017-01-14T00:00:00\",\"2017-01-13T00:00:00\",\"2017-01-12T00:00:00\",\"2017-01-11T00:00:00\",\"2017-01-10T00:00:00\",\"2017-01-09T00:00:00\",\"2017-01-08T00:00:00\",\"2017-01-07T00:00:00\",\"2017-01-06T00:00:00\",\"2017-01-05T00:00:00\",\"2017-01-04T00:00:00\",\"2017-01-03T00:00:00\",\"2017-01-02T00:00:00\",\"2017-01-01T00:00:00\",\"2016-12-31T00:00:00\",\"2016-12-30T00:00:00\",\"2016-12-29T00:00:00\",\"2016-12-28T00:00:00\",\"2016-12-27T00:00:00\",\"2016-12-26T00:00:00\",\"2016-12-25T00:00:00\",\"2016-12-24T00:00:00\",\"2016-12-23T00:00:00\",\"2016-12-22T00:00:00\",\"2016-12-21T00:00:00\",\"2016-12-20T00:00:00\",\"2016-12-19T00:00:00\",\"2016-12-18T00:00:00\",\"2016-12-17T00:00:00\",\"2016-12-16T00:00:00\",\"2016-12-15T00:00:00\",\"2016-12-14T00:00:00\",\"2016-12-13T00:00:00\",\"2016-12-12T00:00:00\",\"2016-12-11T00:00:00\",\"2016-12-10T00:00:00\",\"2016-12-09T00:00:00\",\"2016-12-08T00:00:00\",\"2016-12-07T00:00:00\",\"2016-12-06T00:00:00\",\"2016-12-05T00:00:00\",\"2016-12-04T00:00:00\",\"2016-12-03T00:00:00\",\"2016-12-02T00:00:00\",\"2016-12-01T00:00:00\",\"2016-11-30T00:00:00\",\"2016-11-29T00:00:00\",\"2016-11-28T00:00:00\",\"2016-11-27T00:00:00\",\"2016-11-26T00:00:00\",\"2016-11-25T00:00:00\",\"2016-11-24T00:00:00\",\"2016-11-23T00:00:00\",\"2016-11-22T00:00:00\",\"2016-11-21T00:00:00\",\"2016-11-20T00:00:00\",\"2016-11-19T00:00:00\",\"2016-11-18T00:00:00\",\"2016-11-17T00:00:00\",\"2016-11-16T00:00:00\",\"2016-11-15T00:00:00\",\"2016-11-14T00:00:00\",\"2016-11-13T00:00:00\",\"2016-11-12T00:00:00\",\"2016-11-11T00:00:00\",\"2016-11-10T00:00:00\",\"2016-11-09T00:00:00\",\"2016-11-08T00:00:00\",\"2016-11-07T00:00:00\",\"2016-11-06T00:00:00\",\"2016-11-05T00:00:00\",\"2016-11-04T00:00:00\",\"2016-11-03T00:00:00\",\"2016-11-02T00:00:00\",\"2016-11-01T00:00:00\",\"2016-10-31T00:00:00\",\"2016-10-30T00:00:00\",\"2016-10-29T00:00:00\",\"2016-10-28T00:00:00\",\"2016-10-27T00:00:00\",\"2016-10-26T00:00:00\",\"2016-10-25T00:00:00\",\"2016-10-24T00:00:00\",\"2016-10-23T00:00:00\",\"2016-10-22T00:00:00\",\"2016-10-21T00:00:00\",\"2016-10-20T00:00:00\",\"2016-10-19T00:00:00\",\"2016-10-18T00:00:00\",\"2016-10-17T00:00:00\",\"2016-10-16T00:00:00\",\"2016-10-15T00:00:00\",\"2016-10-14T00:00:00\",\"2016-10-13T00:00:00\",\"2016-10-12T00:00:00\",\"2016-10-11T00:00:00\",\"2016-10-10T00:00:00\",\"2016-10-09T00:00:00\",\"2016-10-08T00:00:00\",\"2016-10-07T00:00:00\",\"2016-10-06T00:00:00\",\"2016-10-05T00:00:00\",\"2016-10-04T00:00:00\",\"2016-10-03T00:00:00\",\"2016-10-02T00:00:00\",\"2016-10-01T00:00:00\",\"2016-09-30T00:00:00\",\"2016-09-29T00:00:00\",\"2016-09-28T00:00:00\",\"2016-09-27T00:00:00\",\"2016-09-26T00:00:00\",\"2016-09-25T00:00:00\",\"2016-09-24T00:00:00\",\"2016-09-23T00:00:00\",\"2016-09-22T00:00:00\",\"2016-09-21T00:00:00\",\"2016-09-20T00:00:00\",\"2016-09-19T00:00:00\",\"2016-09-18T00:00:00\",\"2016-09-17T00:00:00\",\"2016-09-16T00:00:00\",\"2016-09-15T00:00:00\",\"2016-09-14T00:00:00\",\"2016-09-13T00:00:00\",\"2016-09-12T00:00:00\",\"2016-09-11T00:00:00\",\"2016-09-10T00:00:00\",\"2016-09-09T00:00:00\",\"2016-09-08T00:00:00\",\"2016-09-07T00:00:00\",\"2016-09-06T00:00:00\",\"2016-09-05T00:00:00\",\"2016-09-04T00:00:00\",\"2016-09-03T00:00:00\",\"2016-09-02T00:00:00\",\"2016-09-01T00:00:00\",\"2016-08-31T00:00:00\",\"2016-08-30T00:00:00\",\"2016-08-29T00:00:00\",\"2016-08-28T00:00:00\",\"2016-08-27T00:00:00\",\"2016-08-26T00:00:00\",\"2016-08-25T00:00:00\",\"2016-08-24T00:00:00\",\"2016-08-23T00:00:00\",\"2016-08-22T00:00:00\",\"2016-08-21T00:00:00\",\"2016-08-20T00:00:00\",\"2016-08-19T00:00:00\",\"2016-08-18T00:00:00\",\"2016-08-17T00:00:00\",\"2016-08-16T00:00:00\",\"2016-08-15T00:00:00\",\"2016-08-14T00:00:00\",\"2016-08-13T00:00:00\",\"2016-08-12T00:00:00\",\"2016-08-11T00:00:00\",\"2016-08-10T00:00:00\",\"2016-08-09T00:00:00\",\"2016-08-08T00:00:00\",\"2016-08-07T00:00:00\",\"2016-08-06T00:00:00\",\"2016-08-05T00:00:00\",\"2016-08-04T00:00:00\",\"2016-08-03T00:00:00\",\"2016-08-02T00:00:00\",\"2016-08-01T00:00:00\",\"2016-07-31T00:00:00\",\"2016-07-30T00:00:00\",\"2016-07-29T00:00:00\",\"2016-07-28T00:00:00\",\"2016-07-27T00:00:00\",\"2016-07-26T00:00:00\",\"2016-07-25T00:00:00\",\"2016-07-24T00:00:00\",\"2016-07-23T00:00:00\",\"2016-07-22T00:00:00\",\"2016-07-21T00:00:00\",\"2016-07-20T00:00:00\",\"2016-07-19T00:00:00\",\"2016-07-18T00:00:00\",\"2016-07-17T00:00:00\",\"2016-07-16T00:00:00\",\"2016-07-15T00:00:00\",\"2016-07-14T00:00:00\",\"2016-07-13T00:00:00\",\"2016-07-12T00:00:00\",\"2016-07-11T00:00:00\",\"2016-07-10T00:00:00\",\"2016-07-09T00:00:00\",\"2016-07-08T00:00:00\",\"2016-07-07T00:00:00\",\"2016-07-06T00:00:00\",\"2016-07-05T00:00:00\",\"2016-07-04T00:00:00\",\"2016-07-03T00:00:00\",\"2016-07-02T00:00:00\",\"2016-07-01T00:00:00\",\"2016-06-30T00:00:00\",\"2016-06-29T00:00:00\",\"2016-06-28T00:00:00\",\"2016-06-27T00:00:00\",\"2016-06-26T00:00:00\",\"2016-06-25T00:00:00\",\"2016-06-24T00:00:00\",\"2016-06-23T00:00:00\",\"2016-06-22T00:00:00\",\"2016-06-21T00:00:00\",\"2016-06-20T00:00:00\",\"2016-06-19T00:00:00\",\"2016-06-18T00:00:00\",\"2016-06-17T00:00:00\",\"2016-06-16T00:00:00\",\"2016-06-15T00:00:00\",\"2016-06-14T00:00:00\",\"2016-06-13T00:00:00\",\"2016-06-12T00:00:00\",\"2016-06-11T00:00:00\",\"2016-06-10T00:00:00\",\"2016-06-09T00:00:00\",\"2016-06-08T00:00:00\",\"2016-06-07T00:00:00\",\"2016-06-06T00:00:00\",\"2016-06-05T00:00:00\",\"2016-06-04T00:00:00\",\"2016-06-03T00:00:00\",\"2016-06-02T00:00:00\",\"2016-06-01T00:00:00\",\"2016-05-31T00:00:00\",\"2016-05-30T00:00:00\",\"2016-05-29T00:00:00\",\"2016-05-28T00:00:00\",\"2016-05-27T00:00:00\",\"2016-05-26T00:00:00\",\"2016-05-25T00:00:00\",\"2016-05-24T00:00:00\",\"2016-05-23T00:00:00\",\"2016-05-22T00:00:00\",\"2016-05-21T00:00:00\",\"2016-05-20T00:00:00\",\"2016-05-19T00:00:00\",\"2016-05-18T00:00:00\",\"2016-05-17T00:00:00\",\"2016-05-16T00:00:00\",\"2016-05-15T00:00:00\",\"2016-05-14T00:00:00\",\"2016-05-13T00:00:00\",\"2016-05-12T00:00:00\",\"2016-05-11T00:00:00\",\"2016-05-10T00:00:00\",\"2016-05-09T00:00:00\",\"2016-05-08T00:00:00\",\"2016-05-07T00:00:00\",\"2016-05-06T00:00:00\",\"2016-05-05T00:00:00\",\"2016-05-04T00:00:00\",\"2016-05-03T00:00:00\",\"2016-05-02T00:00:00\",\"2016-05-01T00:00:00\",\"2016-04-30T00:00:00\",\"2016-04-29T00:00:00\",\"2016-04-28T00:00:00\",\"2016-04-27T00:00:00\",\"2016-04-26T00:00:00\",\"2016-04-25T00:00:00\",\"2016-04-24T00:00:00\",\"2016-04-23T00:00:00\",\"2016-04-22T00:00:00\",\"2016-04-21T00:00:00\",\"2016-04-20T00:00:00\",\"2016-04-19T00:00:00\",\"2016-04-18T00:00:00\",\"2016-04-17T00:00:00\",\"2016-04-16T00:00:00\",\"2016-04-15T00:00:00\",\"2016-04-14T00:00:00\",\"2016-04-13T00:00:00\",\"2016-04-12T00:00:00\",\"2016-04-11T00:00:00\",\"2016-04-10T00:00:00\",\"2016-04-09T00:00:00\",\"2016-04-08T00:00:00\",\"2016-04-07T00:00:00\",\"2016-04-06T00:00:00\",\"2016-04-05T00:00:00\",\"2016-04-04T00:00:00\",\"2016-04-03T00:00:00\",\"2016-04-02T00:00:00\",\"2016-04-01T00:00:00\",\"2016-03-31T00:00:00\",\"2016-03-30T00:00:00\",\"2016-03-29T00:00:00\",\"2016-03-28T00:00:00\",\"2016-03-27T00:00:00\",\"2016-03-26T00:00:00\",\"2016-03-25T00:00:00\",\"2016-03-24T00:00:00\",\"2016-03-23T00:00:00\",\"2016-03-22T00:00:00\",\"2016-03-21T00:00:00\",\"2016-03-20T00:00:00\",\"2016-03-19T00:00:00\",\"2016-03-18T00:00:00\",\"2016-03-17T00:00:00\",\"2016-03-16T00:00:00\",\"2016-03-15T00:00:00\",\"2016-03-14T00:00:00\",\"2016-03-13T00:00:00\",\"2016-03-12T00:00:00\",\"2016-03-11T00:00:00\",\"2016-03-10T00:00:00\"],\"xaxis\":\"x\",\"y\":[1548.98,1536.31,1555.43,1556.84,1550.1,1547.61,1620.2,1595.4,1598.67,1609.82,1588.65,1562.1,1579.68,1630.94,1600.79,1637.16,1651.54,1670.97,1681.17,1631.92,1634.97,1542.8,1494.3,1464.1,1495.05,1508.07,1499.49,1530.98,1631.15,1613.2,1606.59,1612.7,1646.11,1628.73,1632.39,1560.18,1562.04,1540.25,1566.9,1561.24,1560.21,1581.76,1523.71,1539.51,1591.9,1609.32,1622.89,1543.21,1510.65,1505.37,1544.45,1526.4,1517.4,1449.47,1401.98,1365.78,1322.1,1316.95,1285.97,1259.15,1261.46,1240.38,1242.93,1212.91,1206.83,1193.77,1191.67,1193.16,1186.1,1187.19,1184.22,1202.02,1213.08,1201.2,1214.76,1212.97,1185.27,1205.48,1163.57,1152.54,1172.82,1162.76,1156.91,1260.89,1302.76,1255.82,1241.45,1258.53,1260.05,1257.0,1223.27,1221.1,1243.66,1248.69,1240.14,1237.81,1266.16,1263.58,1213.44,1159.72,1151.98,1191.09,1196.93,1172.63,1180.91,1128.53,1077.85,1081.96,1135.57,1207.34,1201.47,1185.58,1188.76,1235.39,1175.42,1205.61,1239.34,1203.04,1089.01,1076.29,1241.18,1547.29,1565.79,1623.48,1528.6,1515.75,1503.29,1564.69,1550.72,1577.35,1548.83,1489.99,1508.24,1458.61,1335.38,1324.25,1301.8,1294.61,1257.83,1272.79,1282.44,1287.58,1296.45,1274.66,1264.86,1284.08,1196.63,1275.77,1269.35,1288.68,1308.15,1304.08,1319.17,1347.78,1317.58,1318.87,1266.86,1272.38,1303.22,1316.62,1289.66,1261.29,1305.49,1279.71,1271.87,1307.96,1264.91,1237.96,1222.29,1315.03,1284.5,1327.21,1409.65,1410.9,1461.16,1556.97,1562.3,1694.08,1722.62,1707.81,1631.17,1595.9,1493.19,1556.09,1557.66,1541.16,1535.98,1547.68,1514.75,1523.39,1475.68,1424.33,1424.69,1449.31,1490.67,1654.77,1606.06,1564.37,1531.91,1563.92,1525.51,1607.6,1822.04,1821.0,1856.44,1873.7,1909.19,1946.65,1856.64,1850.72,1657.78,1668.79,1694.69,1669.39,1687.74,1605.71,1581.18,1591.6,1560.17,1607.29,1667.41,1674.42,1658.26,1597.67,1421.17,1357.7,1438.5,1547.7,1490.35,1520.36,1465.93,1488.73,1494.88,1336.75,1323.23,1192.18,1182.22,1072.58,1012.29,1035.82,1093.28,1155.25,1205.26,1194.15,1163.85,1112.02,1079.36,1045.97,1041.82,1029.03,1035.79,1000.77,1088.1,1137.57,1176.77,1196.2,1181.11,1132.87,1046.57,1045.37,1110.63,1056.58,938.24,883.35,1052.17,1052.65,1016.99,1078.11,1168.68,1430.93,1503.15,1657.3,1778.0,1766.94,1727.77,1804.77,1773.65,1748.89,1740.83,1784.23,1770.85,1928.93,1804.33,1764.72,1722.88,1708.62,1744.12,1937.52,1914.48,1959.57,1966.34,1940.59,1923.86,1903.67,1909.56,2008.84,1979.93,2001.74,1952.07,1941.53,1796.24,2007.57,2202.02,2228.9,2492.59,2589.29,2635.85,2730.95,2773.9,2757.36,2780.08,2720.57,2716.31,2778.33,2856.42,2795.58,2768.38,2800.21,2915.66,2917.84,2937.47,2950.97,3037.67,3030.32,2887.25,2983.17,3011.47,2996.62,2980.84,2999.66,2951.8,2953.66,3198.1,3182.1,3174.14,3143.96,3164.24,3400.74,3412.01,3414.4,3436.79,3215.33,3263.36,3333.5,3329.67,3275.32,3126.46,3085.8,3081.71,3005.99,2925.78,2887.69,2830.38,2819.27,2895.3,2768.65,2747.06,2603.8,2510.75,2500.12,2494.59,2555.85,2525.2,2559.9,2569.13,2483.29,2447.74,2542.19,2592.07,2575.63,2789.87,2914.7,2858.54,2574.12,2562.94,2734.56,2573.39,2303.07,2578.15,2501.4,2560.24,2577.52,2699.7,2754.15,2855.66,3045.92,2912.61,2834.13,2838.29,2858.85,2880.6,3058.59,3055.95,3029.7,2995.59,2957.16,2963.11,2671.72,2579.8,2618.07,2676.32,2478.85,2543.99,2520.14,2362.53,2317.3,2405.66,2352.36,2161.55,2373.85,2311.8,2471.8,2989.19,3049.3,3084.48,3142.4,3276.44,3265.41,3195.65,3234.97,3208.0,3053.4,2931.68,3060.47,3001.76,3077.3,3306.14,3418.46,3715.24,3682.48,3718.33,3675.75,3623.74,3589.64,3607.2,3760.86,4033.04,4005.38,4024.87,4024.24,3895.89,3944.15,3915.56,3757.42,3890.9,3769.91,3702.33,3955.46,3649.69,3690.06,3673.19,3988.29,3836.92,3894.03,4078.14,4229.63,4259.45,3922.65,4036.0,3533.02,4047.07,4437.53,4525.33,4349.21,4280.18,3980.24,4029.06,3917.43,4248.9,4172.19,4064.17,4026.75,4246.2,4206.75,3978.08,3958.44,4071.01,4115.31,4543.47,4514.95,4585.37,4511.96,4578.66,4498.78,4715.43,4612.05,4502.7,4330.29,4439.67,4421.87,4458.87,4287.36,4157.51,4169.48,4250.24,4268.21,3896.33,3914.06,4098.19,4069.94,3965.84,3938.79,3896.4,4029.48,3830.26,3733.78,3685.82,3664.63,3804.55,3735.21,3588.24,3416.0,3404.49,3381.43,3409.22,3541.4,3537.24,3473.47,3345.56,3365.28,3273.22,3346.63,3265.97,2972.75,2837.68,2784.66,2791.42,2926.24,2740.12,2812.7,2740.06,3035.96,2740.58,2659.71,2931.64,3282.85,3371.33,3352.32,3488.53,3361.63,3270.91,3118.66,3231.87,3202.41,3156.28,3395.94,3221.6,3061.3,3867.55,3834.74,3844.07,3715.97,3723.42,3384.82,3191.34,3145.53,3155.31,3212.24,3063.37,3057.48,3080.7,3150.75,3231.96,3128.98,3200.19,3179.18,2962.04,2951.04,2993.63,3138.37,3115.34,3209.45,3035.52,2981.35,3122.67,3057.84,2899.24,2949.66,2867.58,2726.04,2533.51,2462.32,2445.49,2513.51,2515.26,2421.7,2320.8,2269.15,2246.23,2152.92,2174.44,2108.74,2106.71,2000.27,1952.31,1758.64,1720.7,1807.19,1881.6,1851.97,1852.42,1884.81,1868.45,1920.62,2008.66,2081.62,2078.43,2066.09,2095.92,2296.43,2194.2,2163.09,2222.95,2115.8,2019.75,2077.56,2090.61,2076.17,1962.89,1808.59,1719.32,1793.47,1886.74,1823.57,1707.24,1868.32,2045.03,2164.14,2142.74,2309.08,2353.24,2512.39,2467.61,2311.96,2260.8,2324.21,2432.41,2408.37,2320.64,2581.24,2614.48,2555.98,2557.71,2666.39,2554.88,2529.73,2279.42,2181.93,2207.21,2332.43,2638.62,2648.1,2388.81,2080.87,1739.91,2162.84,2111.42,2163.4,1922.25,3244.93,3130.12,3351.92,3639.12,3694.54,3539.96,3794.15,3781.86,3669.84,3734.44,3453.37,3363.56,3380.6,3228.86,3188.9,2950.07,2854.12,2753.6,2726.03,2670.35,2562.74,2484.44,2305.97,2169.91,2159.6,2119.26,2313.46,2238.15,2058.0,2081.3,1948.93,2314.12,2302.3,2402.75,2281.49,2136.49,2103.73,2114.55,2058.23,2050.39,1951.83,1939.64,2047.48,2004.05,1982.0,2004.4,1949.99,1897.38,1774.66,1788.6,1678.38,1661.92,1667.12,1586.28,1550.11,1546.48,1654.14,1659.28,1748.47,1801.6,1735.42,1760.83,1743.62,1715.97,1745.04,1836.78,1730.46,1723.18,1729.05,1759.5,1801.29,1665.54,1634.73,1514.62,1443.32,1506.86,1477.72,1457.22,1411.55,1294.79,1427.15,1403.3,1460.92,1505.79,1370.45,1561.68,1885.7,1800.0,1892.7,1849.05,1734.15,1726.78,1661.09,1787.11,1766.05,1741.04,1704.97,1683.52,1711.4,1566.43,1491.68,1648.03,1589.28,1570.45,1510.27,1361.63,1272.09,1282.41,1327.66,1288.26,1221.15,1210.4,1246.45,1298.13,1222.14,1196.94,1045.02,1095.26,1237.27,1252.36,1184.15,1168.39,1154.04,1079.19,1088.52,990.96,1008.28,917.96,1180.45,1172.39,1069.25,1153.09,1060.67,976.91,894.24,769.57,715.15,715.74,724.67,720.21,690.24,682.47,627.12,616.04,605.01,566.15,554.09,588.24,599.97,622.39,645.91,630.44,627.36,580.9,579.95,576.01,563.37,543.9,536.43,548.99,530.88,551.08,584.53,583.67,561.24,566.34,587.15,575.24,567.79,571.04,530.71,506.97,494.65,484.03,555.32,589.56,551.8,514.44,505.14,471.06,465.41,459.92,459.74,445.82,440.44,452.6,457.65,452.44,449.51,439.5,434.95,432.44,425.57,415.08,396.46,377.22,370.96,379.13,384.94,380.53,374.36,381.53,381.51,390.92,383.21,403.95,407.74,402.91,391.21,368.06,367.16,372.72,367.54,363.18,362.65,370.39,373.62,374.57,366.05,369.23,364.57,347.82,334.79,334.11,337.21,348.76,344.03,343.74,335.91,345.66,352.81,351.48,352.57,347.51,346.95,338.01,317.27,315.54,336.15,331.41,365.48,377.63,375.81,363.54,355.18,362.4,357.54,353.85,366.05,356.38,350.86,331.12,326.66,325.47,316.69,314.13,368.22,376.99,423.26,429.65,418.35,398.47,391.97,379.8,372.53,377.63,370.4,387.62,383.42,379.96,385.21,402.8,394.51,415.45,420.71,413.22,428.75,418.37,377.57,367.05,367.38,386.45,384.31,376.38,366.44,391.67,384.84,381.3,368.46,335.76,343.33,329.02,314.83,312.64,306.4,311.04,300.33,279.33,268.54,260.7,241.89,235.67,234.51,233.35,232.4,231.84,230.44,237.04,237.21,237.71,236.91,237.76,236.19,238.28,238.0,234.92,227.1,223.79,224.8,224.77,223.53,224.33,223.23,221.6,218.46,217.11,228.16,227.99,231.56,240.94,227.69,227.38,226.28,226.97,228.13,228.63,228.99,219.06,230.52,234.86,228.62,227.01,242.54,240.18,241.3,235.44,238.38,239.7,236.68,233.84,227.95,230.85,230.31,218.86,217.84,204.79,200.85,197.3,198.57,199.97,204.97,196.68,192.11,207.03,209.79,207.0,199.77,193.48,192.61,196.21,188.59,185.68,177.43,180.7,208.83,207.25,197.36,198.79,201.75,195.25,205.5,210.51,206.06,202.59,196.45,192.47,190.87,192.52,186.03,185.19,178.54,169.93,168.31,167.51,177.24,170.61,168.55,148.91,152.44,155.52,150.6,155.17,154.01,152.52,165.91,163.73,162.75,142.55,140.84,139.36,138.01,135.26,128.93,130.54,125.02,124.84,125.48,131.09,133.69,133.06,132.67,120.2,121.37,126.01,118.07,115.59,110.16,109.67,102.44,120.93,121.27,88.5,102.83,182.15,196.17,190.73,196.71,236.87,227.71,224.34,220.74,220.34,216.23,213.0,217.43,214.47,210.36,216.39,245.75,258.15,261.24,256.97,254.15,246.46,253.88,259.3,242.11,237.89,262.45,260.78,257.09,236.73,218.22,217.02,223.07,213.75,213.14,201.29,188.26,188.93,187.16,179.49,179.36,175.46,171.2,173.76,170.27,165.45,159.55,157.87,155.65,159.78,166.19,165.53,161.61,162.04,165.34,162.33,159.08,159.74,143.59,142.64,142.0,142.23,135.69,135.85,137.61,139.22,135.17,134.32,132.76,126.05,126.74,128.81,128.27,130.91,127.67,125.98,123.18,124.53,124.18,127.07,126.55,127.09,126.85,126.31,126.12,117.14,120.63,131.0,140.3,141.4,143.51,140.0,142.53,144.49,147.02,147.09,147.54,147.01,144.64,143.95,146.56,147.49,146.26,150.45,150.64,149.71,141.91,144.04,131.78,139.79,146.6,139.13,158.55,173.99,173.48,176.08,180.49,179.53,178.29,183.96,185.7,183.24,184.32,183.55,182.86,181.83,185.48,188.13,183.12,180.69,179.46,181.94,178.69,178.24,180.58,181.67,180.7,176.47,174.35,160.41,159.4,154.42,170.82,171.91,169.56,170.38,169.28,172.12,172.49,178.26,180.65,178.89,178.78,179.76,187.33,179.39,177.74,169.13,168.74,172.39,171.33,170.65,173.97,174.03,165.59,164.97,168.56,161.32,153.17,162.12,164.78,199.82,206.71,213.71,213.12,202.95,207.69,195.95,188.68,185.92,180.09,177.79,176.85,174.86,177.44,176.25,177.36,168.42,166.16,170.54,173.85,175.37,169.45,167.08,166.16,165.38,164.04,167.57,184.26,186.02,182.81,186.13,175.8,182.97,181.29,194.55,192.33,182.96,181.58,179.35,176.08,183.74,106.01,209.49,205.64,202.35,206.4,215.57,220.62,222.46,220.75,216.31,215.52,213.93,211.23,208.17,204.54,207.37,199.68,203.5,212.07,214.79,202.3,208.31,212.46,217.72,219.8,213.57,206.47,192.91,193.48,204.39,223.95,262.85,266.81,263.08,281.53,303.38,301.6,285.28,285.61,281.92,281.18,289.39,273.07,280.35,290.78,295.44,295.3,279.82,315.99,307.75,297.9,306.12,292.09,271.45,264.83,263.61,261.76,266.96,263.96,260.92,252.01,254.02,242.57,237.6,227.38,227.0,241.09,244.33,236.4,237.94,235.35,248.77,263.59,261.14,246.61,241.51,260.85,265.5,262.96,245.92,247.9,241.74,231.89,241.68,246.85,238.64,232.85,232.13,224.62,244.27,217.32,195.22,185.69,182.81,172.75,168.86,167.03,165.7,169.06,159.66,159.56,160.36,160.86,159.22,158.85,154.94,152.6,157.54,156.74,152.32,151.73,154.87,169.01,167.07,164.81,170.17,169.15,165.38,164.26,159.52,153.65,161.52,161.34,158.93,159.6,171.61,172.15,171.87,164.17,160.22,156.42,153.26,152.24,141.29,140.26,140.71,140.43,138.13,137.68,133.89,132.61,132.36,135.5,135.76,134.65,133.05,136.56,137.1,136.86,137.61,136.75,132.44,130.48,131.2,129.14,131.66,134.53,133.38,131.66,135.72,133.94,125.44,123.25,129.05,130.74,128.46,133.09,128.15,134.48,132.85,132.87,146.28,144.27,143.5,140.88,143.8,125.07,122.78,121.71,120.87,120.44,121.06,119.28,119.55,116.42,117.96,103.89,104.29,102.28,106.6,106.95,106.36,106.29,104.41,105.86,103.82,102.89,101.6,112.03,115.37,115.03,114.93,115.52,112.36,114.15,116.25,119.34,118.27,117.51,119.1,116.9,114.62,112.79,122.73,121.28,121.98,147.95,146.29,148.47,148.63,152.84,145.29,144.39,138.74,130.67,129.61,129.51,130.71,113.14,112.59,123.39,122.14,129.48,115.79,105.97,105.59,98.63,98.57,91.96,84.61,83.89,81.97,82.28,84.83,87.19,86.25,88.68,88.82,84.75,77.65,90.57,102.24,106.13,106.79,116.08,111.62,111.73,114.81,111.19,102.84,106.44,102.8,111.79,119.76,125.93,126.84,127.3,146.86,176.06,174.94,175.29,171.99,177.34,209.4,211.54,209.51,210.61,209.23,212.79,217.16,209.15,207.82,199.38,199.63,198.13,197.84,193.0,195.28,195.03,203.05,203.06,203.19,202.99,205.0,202.99,205.5,207.04,203.65,204.02,203.95,210.1,211.37,195.4,195.51,196.41,190.89,188.65,224.74,226.81,224.79,222.0,223.01,220.0,219.75,216.44,223.75,225.33,227.01,215.15,215.39,211.31,208.91,204.84,225.73,238.14,233.46,222.05,207.78,199.19,195.24,192.87,208.61,209.06,203.16,183.11,169.08,177.29,187.35,187.26,191.16,214.84,212.9,227.76,283.4,285.95,289.45,281.76,277.13,272.85,284.45,282.57,271.9,269.75,276.53,270.91,268.94,266.4,270.26,270.17,289.5,282.76,285.78,278.6,277.91,250.84,281.17,314.71,305.19,326.67,351.07,348.98,370.06,401.66,401.22,402.52,398.1,408.21,407.96,427.81,447.06,462.04,461.55,457.36,460.61,464.75,449.44,448.14,456.35,443.04,441.74,463.94,470.91,467.33,446.14,432.59,429.89,425.77,418.71,425.6,429.39,469.93,482.24,464.29,455.05,459.68,453.94,460.63,442.29,445.06,433.46,406.12,418.62,423.01,429.87,437.08,419.56,456.46,450.72,522.47,517.42,514.88,489.16,494.73,484.89,483.99,461.62,450.67,484.99,510.29,503.43,592.54,593.74,600.29,593.98,577.53,580.71,590.81,574.8,565.69,554.96,543.16,511.94,507.72,558.44,579.36,569.77,547.39,564.74,639.2,694.07,688.7,683.38,658.25,663.91,667.51,696.63,687.16,669.2,635.23,665.81,723.39,711.49,721.49,700.4,755.09,782.18,760.1,686.79,664.29,630.33,664.03,669.15,640.92,641.84,600.69,594.98,644.05,619.81,591.78,574.73,558.27,522.15,502.02,501.73,498.87,502.52,486.89,482.19,414.07,412.35,391.81,388.05,384.85,369.41,363.83,367.21,371.35,380.89,375.67,359.49,390.09,366.12,380.85,440.84,446.7,467.46,513.05,520.05,508.36,517.81,545.87,517.02,516.31,454.9,544.51,585.84,572.69,587.1,680.01,678.27,664.53,678.46,644.46,689.41,724.98,803.9,850.24,838.06,853.45,850.47,848.41,850.84,861.4,835.34,818.46,810.91,787.95,789.92,818.48,877.65,910.29,903.28,934.49,907.33,902.56,840.82,822.98,810.99,778.9,816.72,781.97,751.76,719.34,568.78,634.64,788.79,850.38,766.82,970.42,1028.03,1042.9,1155.9,1109.0,1031.6,983.0,1025.1,952.04,905.38,912.76,1001.5,1029.6,960.1,940.0,770.1,868.98,1264.4,1256.0,1252.6,1083.4,1102.5,1203.2,1119.1,968.12,999.5,951.38,930.0,893.24,840.0,752.46,717.94,675.56,640.43,703.02,652.0,703.27,708.83,651.76,560.0,616.19,492.01,747.1,709.0,750.01,660.0,683.24,672.51,610.0,651.0,573.0,497.75,429.14,413.3,441.0,400.34,390.0,403.0,444.17,439.27,431.04,447.0,413.96,385.4,403.01,457.2,458.25,464.0,454.4,397.37,374.34,358.8,350.0,352.03,343.28,325.32,325.0,321.18,321.5,313.22,302.4,293.33,294.7,286.0,305.0,290.11,285.01,292.0,292.28,293.0,284.0,275.21,287.04,303.1,303.93,290.5,288.6,291.6,290.55,288.5,280.02,273.5,289.4,289.31,301.04,304.0,287.46,308.0,330.85,315.0,334.05,298.0,302.1,296.6,292.57,287.03,307.55,304.5,293.04,285.12,287.56,285.93,292.1,295.0,292.3,280.5,297.75,286.93,285.2,281.8,275.41,259.01,253.03,251.52,277.0,275.0,257.0,239.0,242.2,198.0,221.71,256.0,283.0,287.33,276.11,291.46,291.0,321.1,314.81,267.64,275.0,328.33,325.1,383.6,380.1,365.1,346.42,332.74,331.88,324.5,324.04,314.14,311.65,285.01,294.53,286.96,280.0,286.0,297.01,279.94,272.29,293.99,285.21,299.0,294.0,287.6,277.0,265.0,257.32,251.0,219.23,218.66,217.07,215.0,200.8,188.12,192.21,176.95,188.1,197.86,191.76,190.49,223.64,219.0,214.35,208.0,194.63,187.0,177.5,155.0,136.12,169.82,179.58,189.46,177.78,169.0,187.5,234.15,226.68,233.84,258.37,249.53,260.0,266.45,242.81,238.0,267.35,276.0,255.0,204.11,214.99,253.2,291.53,316.36,305.0,287.11,328.0,344.13,336.89,332.0,305.22,265.0,315.0,345.61,297.0,310.0,278.26,256.95,242.04,241.01,238.23,231.72,216.1,210.01,208.23,196.0,200.9,182.0,155.01,149.66,110.42,143.64,155.0,166.33,148.6,136.8,122.32,119.54,98.31,89.42,83.77,85.43,90.37,88.11,84.5,83.85,87.35,86.6,77.76,88.11,90.89,90.53,88.2,84.61,81.0,79.49,66.0,72.6,71.2,66.0,56.92,53.66,53.25,53.0,51.75,51.03,51.1,48.6,45.0,49.07,48.88,48.87,47.95,47.34,46.85,43.84,43.8,43.01,43.18,42.25,41.78,41.25,44.19,41.05,42.77,47.7,48.7,46.82,50.75,49.4,47.95,47.67,46.55,47.46,42.5,40.22,38.51,41.15,39.47,34.1,31.1,32.84,34.8,28.36,27.0,23.2,21.05,18.83,16.5,16.25,16.51,18.5,19.14,18.15,18.4,18.43,16.3,15.62,15.18,14.3,13.3,13.05,12.7,12.6,12.6,12.25,12.4,12.7,12.7,12.6,12.57,12.59,11.32,11.05,11.22,11.13,10.75,10.41,11.0,11.25,11.12,11.05,11.0,10.55,10.53,10.41,10.38,10.38,10.38,10.35,10.36,10.43,10.35,10.46,10.59,10.34,10.56,10.3,10.15,9.74,9.53,9.55,9.6,9.51,9.39,9.08,9.41,10.2,9.5,9.8,9.48,9.47,9.2,9.44,8.3,8.11,8.03,8.0,8.05,7.62,7.1,7.08,7.05,7.17,7.11,7.11,7.46,7.64,7.55,7.58,7.74,7.47,7.77,7.71,8.2,8.3,8.09,8.0,7.94,8.02,8.24,7.27,5.86,6.5,7.42,7.64,7.1,8.36,8.11,7.74,8.65,8.7,9.22,9.17,8.7,9.68,9.54,9.51,9.49,9.48,9.46,9.9,9.93,9.72,9.96,9.68,9.7,10.26,10.52,10.2,10.79,10.85,10.91,10.99,10.85,10.81,10.76,10.41,10.88,10.31,9.5,10.85,11.23,11.36,11.12,11.98,11.99,12.08,12.09,11.99,11.95,11.98,11.81,11.92,11.83,11.9,11.72,11.68,11.76,11.6,11.99,12.0,12.56,12.62,13.08,13.22,13.17,13.0,13.05,13.05,13.07,13.04,12.85,12.81,12.77,12.71,13.1,12.47,13.16,13.08,12.48,12.26,12.51,11.99,11.91,11.91,11.86,11.67,11.6,11.58,11.4,11.26,11.6,11.45,11.65,11.6,11.65,11.91,11.61,11.17,10.94,10.78,10.92,11.13,11.13,10.97,10.96,10.9,11.0,10.93,10.68,10.61,10.66,10.65,10.83,10.88,11.0,11.4,11.57,11.57,11.86,10.16,10.16,10.16,10.16,10.16,10.16,10.16,9.9,11.08,11.3,12.47,12.6,12.54,11.78,11.91,12.75,12.17,13.9,12.53,12.03,11.55,11.07,11.01,11.02,11.72,11.37,10.69,10.43,10.4,10.2,10.74,10.4,9.9,9.73,10.22,9.35,11.35,11.56,11.95,11.74,12.2,11.57,11.51,13.68,13.53,13.91,13.1,12.5,12.95,11.2,10.51,10.55,10.13,11.51,18.44,17.55,16.0,15.7,14.25,13.81,13.56,14.37,14.3,13.88,13.8,13.69,13.4,13.42,13.61,13.46,12.6,12.3,11.78,10.38,10.53,12.13,11.8,12.0,13.32,13.62,13.01,13.31,13.2,12.21,11.1,10.0,9.93,9.71,10.08,9.79,9.3,9.28,9.25,9.0,9.2,9.12,9.3,9.25,9.18,8.79,8.35,7.45,7.19,7.25,7.31,7.12,7.32,8.01,7.81,7.73,8.0,8.35,8.65,8.44,8.61,8.18,8.1,8.0,6.86,7.21,8.01,7.52,9.0,9.6,9.4,10.2,9.7,10.88,11.4,11.43,11.39,11.29,11.44,11.37,10.4,10.17,10.58,10.52,10.67,11.2,11.08,10.14,9.56,9.78,8.34,10.44,12.62,11.98,11.4,12.92,11.95,11.75,11.07],\"yaxis\":\"y\",\"type\":\"scattergl\"}],                        {\"template\":{\"data\":{\"histogram2dcontour\":[{\"type\":\"histogram2dcontour\",\"colorbar\":{\"outlinewidth\":0,\"ticks\":\"\"},\"colorscale\":[[0.0,\"#0d0887\"],[0.1111111111111111,\"#46039f\"],[0.2222222222222222,\"#7201a8\"],[0.3333333333333333,\"#9c179e\"],[0.4444444444444444,\"#bd3786\"],[0.5555555555555556,\"#d8576b\"],[0.6666666666666666,\"#ed7953\"],[0.7777777777777778,\"#fb9f3a\"],[0.8888888888888888,\"#fdca26\"],[1.0,\"#f0f921\"]]}],\"choropleth\":[{\"type\":\"choropleth\",\"colorbar\":{\"outlinewidth\":0,\"ticks\":\"\"}}],\"histogram2d\":[{\"type\":\"histogram2d\",\"colorbar\":{\"outlinewidth\":0,\"ticks\":\"\"},\"colorscale\":[[0.0,\"#0d0887\"],[0.1111111111111111,\"#46039f\"],[0.2222222222222222,\"#7201a8\"],[0.3333333333333333,\"#9c179e\"],[0.4444444444444444,\"#bd3786\"],[0.5555555555555556,\"#d8576b\"],[0.6666666666666666,\"#ed7953\"],[0.7777777777777778,\"#fb9f3a\"],[0.8888888888888888,\"#fdca26\"],[1.0,\"#f0f921\"]]}],\"heatmap\":[{\"type\":\"heatmap\",\"colorbar\":{\"outlinewidth\":0,\"ticks\":\"\"},\"colorscale\":[[0.0,\"#0d0887\"],[0.1111111111111111,\"#46039f\"],[0.2222222222222222,\"#7201a8\"],[0.3333333333333333,\"#9c179e\"],[0.4444444444444444,\"#bd3786\"],[0.5555555555555556,\"#d8576b\"],[0.6666666666666666,\"#ed7953\"],[0.7777777777777778,\"#fb9f3a\"],[0.8888888888888888,\"#fdca26\"],[1.0,\"#f0f921\"]]}],\"heatmapgl\":[{\"type\":\"heatmapgl\",\"colorbar\":{\"outlinewidth\":0,\"ticks\":\"\"},\"colorscale\":[[0.0,\"#0d0887\"],[0.1111111111111111,\"#46039f\"],[0.2222222222222222,\"#7201a8\"],[0.3333333333333333,\"#9c179e\"],[0.4444444444444444,\"#bd3786\"],[0.5555555555555556,\"#d8576b\"],[0.6666666666666666,\"#ed7953\"],[0.7777777777777778,\"#fb9f3a\"],[0.8888888888888888,\"#fdca26\"],[1.0,\"#f0f921\"]]}],\"contourcarpet\":[{\"type\":\"contourcarpet\",\"colorbar\":{\"outlinewidth\":0,\"ticks\":\"\"}}],\"contour\":[{\"type\":\"contour\",\"colorbar\":{\"outlinewidth\":0,\"ticks\":\"\"},\"colorscale\":[[0.0,\"#0d0887\"],[0.1111111111111111,\"#46039f\"],[0.2222222222222222,\"#7201a8\"],[0.3333333333333333,\"#9c179e\"],[0.4444444444444444,\"#bd3786\"],[0.5555555555555556,\"#d8576b\"],[0.6666666666666666,\"#ed7953\"],[0.7777777777777778,\"#fb9f3a\"],[0.8888888888888888,\"#fdca26\"],[1.0,\"#f0f921\"]]}],\"surface\":[{\"type\":\"surface\",\"colorbar\":{\"outlinewidth\":0,\"ticks\":\"\"},\"colorscale\":[[0.0,\"#0d0887\"],[0.1111111111111111,\"#46039f\"],[0.2222222222222222,\"#7201a8\"],[0.3333333333333333,\"#9c179e\"],[0.4444444444444444,\"#bd3786\"],[0.5555555555555556,\"#d8576b\"],[0.6666666666666666,\"#ed7953\"],[0.7777777777777778,\"#fb9f3a\"],[0.8888888888888888,\"#fdca26\"],[1.0,\"#f0f921\"]]}],\"mesh3d\":[{\"type\":\"mesh3d\",\"colorbar\":{\"outlinewidth\":0,\"ticks\":\"\"}}],\"scatter\":[{\"fillpattern\":{\"fillmode\":\"overlay\",\"size\":10,\"solidity\":0.2},\"type\":\"scatter\"}],\"parcoords\":[{\"type\":\"parcoords\",\"line\":{\"colorbar\":{\"outlinewidth\":0,\"ticks\":\"\"}}}],\"scatterpolargl\":[{\"type\":\"scatterpolargl\",\"marker\":{\"colorbar\":{\"outlinewidth\":0,\"ticks\":\"\"}}}],\"bar\":[{\"error_x\":{\"color\":\"#2a3f5f\"},\"error_y\":{\"color\":\"#2a3f5f\"},\"marker\":{\"line\":{\"color\":\"#E5ECF6\",\"width\":0.5},\"pattern\":{\"fillmode\":\"overlay\",\"size\":10,\"solidity\":0.2}},\"type\":\"bar\"}],\"scattergeo\":[{\"type\":\"scattergeo\",\"marker\":{\"colorbar\":{\"outlinewidth\":0,\"ticks\":\"\"}}}],\"scatterpolar\":[{\"type\":\"scatterpolar\",\"marker\":{\"colorbar\":{\"outlinewidth\":0,\"ticks\":\"\"}}}],\"histogram\":[{\"marker\":{\"pattern\":{\"fillmode\":\"overlay\",\"size\":10,\"solidity\":0.2}},\"type\":\"histogram\"}],\"scattergl\":[{\"type\":\"scattergl\",\"marker\":{\"colorbar\":{\"outlinewidth\":0,\"ticks\":\"\"}}}],\"scatter3d\":[{\"type\":\"scatter3d\",\"line\":{\"colorbar\":{\"outlinewidth\":0,\"ticks\":\"\"}},\"marker\":{\"colorbar\":{\"outlinewidth\":0,\"ticks\":\"\"}}}],\"scattermapbox\":[{\"type\":\"scattermapbox\",\"marker\":{\"colorbar\":{\"outlinewidth\":0,\"ticks\":\"\"}}}],\"scatterternary\":[{\"type\":\"scatterternary\",\"marker\":{\"colorbar\":{\"outlinewidth\":0,\"ticks\":\"\"}}}],\"scattercarpet\":[{\"type\":\"scattercarpet\",\"marker\":{\"colorbar\":{\"outlinewidth\":0,\"ticks\":\"\"}}}],\"carpet\":[{\"aaxis\":{\"endlinecolor\":\"#2a3f5f\",\"gridcolor\":\"white\",\"linecolor\":\"white\",\"minorgridcolor\":\"white\",\"startlinecolor\":\"#2a3f5f\"},\"baxis\":{\"endlinecolor\":\"#2a3f5f\",\"gridcolor\":\"white\",\"linecolor\":\"white\",\"minorgridcolor\":\"white\",\"startlinecolor\":\"#2a3f5f\"},\"type\":\"carpet\"}],\"table\":[{\"cells\":{\"fill\":{\"color\":\"#EBF0F8\"},\"line\":{\"color\":\"white\"}},\"header\":{\"fill\":{\"color\":\"#C8D4E3\"},\"line\":{\"color\":\"white\"}},\"type\":\"table\"}],\"barpolar\":[{\"marker\":{\"line\":{\"color\":\"#E5ECF6\",\"width\":0.5},\"pattern\":{\"fillmode\":\"overlay\",\"size\":10,\"solidity\":0.2}},\"type\":\"barpolar\"}],\"pie\":[{\"automargin\":true,\"type\":\"pie\"}]},\"layout\":{\"autotypenumbers\":\"strict\",\"colorway\":[\"#636efa\",\"#EF553B\",\"#00cc96\",\"#ab63fa\",\"#FFA15A\",\"#19d3f3\",\"#FF6692\",\"#B6E880\",\"#FF97FF\",\"#FECB52\"],\"font\":{\"color\":\"#2a3f5f\"},\"hovermode\":\"closest\",\"hoverlabel\":{\"align\":\"left\"},\"paper_bgcolor\":\"white\",\"plot_bgcolor\":\"#E5ECF6\",\"polar\":{\"bgcolor\":\"#E5ECF6\",\"angularaxis\":{\"gridcolor\":\"white\",\"linecolor\":\"white\",\"ticks\":\"\"},\"radialaxis\":{\"gridcolor\":\"white\",\"linecolor\":\"white\",\"ticks\":\"\"}},\"ternary\":{\"bgcolor\":\"#E5ECF6\",\"aaxis\":{\"gridcolor\":\"white\",\"linecolor\":\"white\",\"ticks\":\"\"},\"baxis\":{\"gridcolor\":\"white\",\"linecolor\":\"white\",\"ticks\":\"\"},\"caxis\":{\"gridcolor\":\"white\",\"linecolor\":\"white\",\"ticks\":\"\"}},\"coloraxis\":{\"colorbar\":{\"outlinewidth\":0,\"ticks\":\"\"}},\"colorscale\":{\"sequential\":[[0.0,\"#0d0887\"],[0.1111111111111111,\"#46039f\"],[0.2222222222222222,\"#7201a8\"],[0.3333333333333333,\"#9c179e\"],[0.4444444444444444,\"#bd3786\"],[0.5555555555555556,\"#d8576b\"],[0.6666666666666666,\"#ed7953\"],[0.7777777777777778,\"#fb9f3a\"],[0.8888888888888888,\"#fdca26\"],[1.0,\"#f0f921\"]],\"sequentialminus\":[[0.0,\"#0d0887\"],[0.1111111111111111,\"#46039f\"],[0.2222222222222222,\"#7201a8\"],[0.3333333333333333,\"#9c179e\"],[0.4444444444444444,\"#bd3786\"],[0.5555555555555556,\"#d8576b\"],[0.6666666666666666,\"#ed7953\"],[0.7777777777777778,\"#fb9f3a\"],[0.8888888888888888,\"#fdca26\"],[1.0,\"#f0f921\"]],\"diverging\":[[0,\"#8e0152\"],[0.1,\"#c51b7d\"],[0.2,\"#de77ae\"],[0.3,\"#f1b6da\"],[0.4,\"#fde0ef\"],[0.5,\"#f7f7f7\"],[0.6,\"#e6f5d0\"],[0.7,\"#b8e186\"],[0.8,\"#7fbc41\"],[0.9,\"#4d9221\"],[1,\"#276419\"]]},\"xaxis\":{\"gridcolor\":\"white\",\"linecolor\":\"white\",\"ticks\":\"\",\"title\":{\"standoff\":15},\"zerolinecolor\":\"white\",\"automargin\":true,\"zerolinewidth\":2},\"yaxis\":{\"gridcolor\":\"white\",\"linecolor\":\"white\",\"ticks\":\"\",\"title\":{\"standoff\":15},\"zerolinecolor\":\"white\",\"automargin\":true,\"zerolinewidth\":2},\"scene\":{\"xaxis\":{\"backgroundcolor\":\"#E5ECF6\",\"gridcolor\":\"white\",\"linecolor\":\"white\",\"showbackground\":true,\"ticks\":\"\",\"zerolinecolor\":\"white\",\"gridwidth\":2},\"yaxis\":{\"backgroundcolor\":\"#E5ECF6\",\"gridcolor\":\"white\",\"linecolor\":\"white\",\"showbackground\":true,\"ticks\":\"\",\"zerolinecolor\":\"white\",\"gridwidth\":2},\"zaxis\":{\"backgroundcolor\":\"#E5ECF6\",\"gridcolor\":\"white\",\"linecolor\":\"white\",\"showbackground\":true,\"ticks\":\"\",\"zerolinecolor\":\"white\",\"gridwidth\":2}},\"shapedefaults\":{\"line\":{\"color\":\"#2a3f5f\"}},\"annotationdefaults\":{\"arrowcolor\":\"#2a3f5f\",\"arrowhead\":0,\"arrowwidth\":1},\"geo\":{\"bgcolor\":\"white\",\"landcolor\":\"#E5ECF6\",\"subunitcolor\":\"white\",\"showland\":true,\"showlakes\":true,\"lakecolor\":\"white\"},\"title\":{\"x\":0.05},\"mapbox\":{\"style\":\"light\"}}},\"xaxis\":{\"anchor\":\"y\",\"domain\":[0.0,1.0],\"title\":{\"text\":\"Date\"},\"showgrid\":false},\"yaxis\":{\"anchor\":\"x\",\"domain\":[0.0,1.0],\"title\":{\"text\":\"Eth value\"},\"showgrid\":false},\"legend\":{\"title\":{\"text\":\"Stock Parameters\"},\"tracegroupgap\":0},\"margin\":{\"t\":60},\"title\":{\"text\":\"Ethereum Price analysis chart\"},\"font\":{\"size\":15,\"color\":\"black\"}},                        {\"responsive\": true}                    ).then(function(){\n",
       "                            \n",
       "var gd = document.getElementById('09f80bfa-5309-4a3e-b5df-fbe1163eaeb9');\n",
       "var x = new MutationObserver(function (mutations, observer) {{\n",
       "        var display = window.getComputedStyle(gd).display;\n",
       "        if (!display || display === 'none') {{\n",
       "            console.log([gd, 'removed!']);\n",
       "            Plotly.purge(gd);\n",
       "            observer.disconnect();\n",
       "        }}\n",
       "}});\n",
       "\n",
       "// Listen for the removal of the full notebook cells\n",
       "var notebookContainer = gd.closest('#notebook-container');\n",
       "if (notebookContainer) {{\n",
       "    x.observe(notebookContainer, {childList: true});\n",
       "}}\n",
       "\n",
       "// Listen for the clearing of the current output cell\n",
       "var outputEl = gd.closest('.output');\n",
       "if (outputEl) {{\n",
       "    x.observe(outputEl, {childList: true});\n",
       "}}\n",
       "\n",
       "                        })                };                });            </script>        </div>"
      ]
     },
     "metadata": {},
     "output_type": "display_data"
    }
   ],
   "source": [
    "names = cycle(['Eth Open Price','Eth High Price','Eth Low Price'])\n",
    "\n",
    "fig = px.line(eth, x = eth.Date, y = [eth['Open'], eth['High'], eth['Low']],\n",
    "             labels = {'date': 'Date','value':'Eth value'})\n",
    "fig.update_layout(title_text = 'Ethereum Price analysis chart', font_size = 15, font_color = 'black',legend_title_text='Stock Parameters')\n",
    "fig.for_each_trace(lambda t:  t.update(name = next(names)))\n",
    "fig.update_xaxes(showgrid = False)\n",
    "fig.update_yaxes(showgrid = False)\n",
    "\n",
    "fig.show()"
   ]
  },
  {
   "cell_type": "markdown",
   "id": "05613e77",
   "metadata": {
    "id": "DjOoKVcHLlNH",
    "papermill": {
     "duration": 0.016593,
     "end_time": "2023-03-10T08:30:27.063138",
     "exception": false,
     "start_time": "2023-03-10T08:30:27.046545",
     "status": "completed"
    },
    "tags": []
   },
   "source": [
    "Preparing Ethereum open price"
   ]
  },
  {
   "cell_type": "code",
   "execution_count": 14,
   "id": "32c0b33b",
   "metadata": {
    "execution": {
     "iopub.execute_input": "2023-03-10T08:30:27.100581Z",
     "iopub.status.busy": "2023-03-10T08:30:27.099139Z",
     "iopub.status.idle": "2023-03-10T08:30:27.113440Z",
     "shell.execute_reply": "2023-03-10T08:30:27.111774Z"
    },
    "id": "Gga7iS1SX_1M",
    "outputId": "aa0b123e-e39c-4bdd-c253-dbce59bb154e",
    "papermill": {
     "duration": 0.036625,
     "end_time": "2023-03-10T08:30:27.116557",
     "exception": false,
     "start_time": "2023-03-10T08:30:27.079932",
     "status": "completed"
    },
    "tags": []
   },
   "outputs": [
    {
     "name": "stdout",
     "output_type": "stream",
     "text": [
      "(2555, 2)\n"
     ]
    },
    {
     "data": {
      "text/html": [
       "<div>\n",
       "<style scoped>\n",
       "    .dataframe tbody tr th:only-of-type {\n",
       "        vertical-align: middle;\n",
       "    }\n",
       "\n",
       "    .dataframe tbody tr th {\n",
       "        vertical-align: top;\n",
       "    }\n",
       "\n",
       "    .dataframe thead th {\n",
       "        text-align: right;\n",
       "    }\n",
       "</style>\n",
       "<table border=\"1\" class=\"dataframe\">\n",
       "  <thead>\n",
       "    <tr style=\"text-align: right;\">\n",
       "      <th></th>\n",
       "      <th>Date</th>\n",
       "      <th>Open</th>\n",
       "    </tr>\n",
       "  </thead>\n",
       "  <tbody>\n",
       "    <tr>\n",
       "      <th>0</th>\n",
       "      <td>2023-03-08</td>\n",
       "      <td>1561.79</td>\n",
       "    </tr>\n",
       "    <tr>\n",
       "      <th>1</th>\n",
       "      <td>2023-03-07</td>\n",
       "      <td>1565.84</td>\n",
       "    </tr>\n",
       "    <tr>\n",
       "      <th>2</th>\n",
       "      <td>2023-03-06</td>\n",
       "      <td>1564.36</td>\n",
       "    </tr>\n",
       "    <tr>\n",
       "      <th>3</th>\n",
       "      <td>2023-03-05</td>\n",
       "      <td>1566.73</td>\n",
       "    </tr>\n",
       "    <tr>\n",
       "      <th>4</th>\n",
       "      <td>2023-03-04</td>\n",
       "      <td>1569.45</td>\n",
       "    </tr>\n",
       "  </tbody>\n",
       "</table>\n",
       "</div>"
      ],
      "text/plain": [
       "        Date     Open\n",
       "0 2023-03-08  1561.79\n",
       "1 2023-03-07  1565.84\n",
       "2 2023-03-06  1564.36\n",
       "3 2023-03-05  1566.73\n",
       "4 2023-03-04  1569.45"
      ]
     },
     "execution_count": 14,
     "metadata": {},
     "output_type": "execute_result"
    }
   ],
   "source": [
    "open_eth = eth[['Date', 'Open']]\n",
    "print(open_eth.shape)\n",
    "open_eth.head()"
   ]
  },
  {
   "cell_type": "code",
   "execution_count": 15,
   "id": "ac5ea0a1",
   "metadata": {
    "execution": {
     "iopub.execute_input": "2023-03-10T08:30:27.154727Z",
     "iopub.status.busy": "2023-03-10T08:30:27.154324Z",
     "iopub.status.idle": "2023-03-10T08:30:27.297792Z",
     "shell.execute_reply": "2023-03-10T08:30:27.296605Z"
    },
    "id": "HyQGOCZOYkzh",
    "outputId": "f4f271ab-8706-44d6-c317-9c5fc7837f0f",
    "papermill": {
     "duration": 0.16651,
     "end_time": "2023-03-10T08:30:27.301233",
     "exception": false,
     "start_time": "2023-03-10T08:30:27.134723",
     "status": "completed"
    },
    "tags": []
   },
   "outputs": [
    {
     "data": {
      "text/html": [
       "<div>                            <div id=\"7aa5dcdb-f46a-473e-b6b0-00e12a612b9d\" class=\"plotly-graph-div\" style=\"height:525px; width:100%;\"></div>            <script type=\"text/javascript\">                require([\"plotly\"], function(Plotly) {                    window.PLOTLYENV=window.PLOTLYENV || {};                                    if (document.getElementById(\"7aa5dcdb-f46a-473e-b6b0-00e12a612b9d\")) {                    Plotly.newPlot(                        \"7aa5dcdb-f46a-473e-b6b0-00e12a612b9d\",                        [{\"hovertemplate\":\"Date=%{x}<br>Open=%{y}<extra></extra>\",\"legendgroup\":\"\",\"line\":{\"color\":\"#636efa\",\"dash\":\"solid\"},\"marker\":{\"symbol\":\"circle\",\"line\":{\"width\":2}},\"mode\":\"lines\",\"name\":\"\",\"showlegend\":false,\"x\":[\"2023-03-08T00:00:00\",\"2023-03-07T00:00:00\",\"2023-03-06T00:00:00\",\"2023-03-05T00:00:00\",\"2023-03-04T00:00:00\",\"2023-03-03T00:00:00\",\"2023-03-02T00:00:00\",\"2023-03-01T00:00:00\",\"2023-02-28T00:00:00\",\"2023-02-27T00:00:00\",\"2023-02-26T00:00:00\",\"2023-02-25T00:00:00\",\"2023-02-24T00:00:00\",\"2023-02-23T00:00:00\",\"2023-02-22T00:00:00\",\"2023-02-21T00:00:00\",\"2023-02-20T00:00:00\",\"2023-02-19T00:00:00\",\"2023-02-18T00:00:00\",\"2023-02-17T00:00:00\",\"2023-02-16T00:00:00\",\"2023-02-15T00:00:00\",\"2023-02-14T00:00:00\",\"2023-02-13T00:00:00\",\"2023-02-12T00:00:00\",\"2023-02-11T00:00:00\",\"2023-02-10T00:00:00\",\"2023-02-09T00:00:00\",\"2023-02-08T00:00:00\",\"2023-02-07T00:00:00\",\"2023-02-06T00:00:00\",\"2023-02-05T00:00:00\",\"2023-02-04T00:00:00\",\"2023-02-03T00:00:00\",\"2023-02-02T00:00:00\",\"2023-02-01T00:00:00\",\"2023-01-31T00:00:00\",\"2023-01-30T00:00:00\",\"2023-01-29T00:00:00\",\"2023-01-28T00:00:00\",\"2023-01-27T00:00:00\",\"2023-01-26T00:00:00\",\"2023-01-25T00:00:00\",\"2023-01-24T00:00:00\",\"2023-01-23T00:00:00\",\"2023-01-22T00:00:00\",\"2023-01-21T00:00:00\",\"2023-01-20T00:00:00\",\"2023-01-19T00:00:00\",\"2023-01-18T00:00:00\",\"2023-01-17T00:00:00\",\"2023-01-16T00:00:00\",\"2023-01-15T00:00:00\",\"2023-01-14T00:00:00\",\"2023-01-13T00:00:00\",\"2023-01-12T00:00:00\",\"2023-01-11T00:00:00\",\"2023-01-10T00:00:00\",\"2023-01-09T00:00:00\",\"2023-01-08T00:00:00\",\"2023-01-07T00:00:00\",\"2023-01-06T00:00:00\",\"2023-01-05T00:00:00\",\"2023-01-04T00:00:00\",\"2023-01-03T00:00:00\",\"2023-01-02T00:00:00\",\"2023-01-01T00:00:00\",\"2022-12-31T00:00:00\",\"2022-12-30T00:00:00\",\"2022-12-29T00:00:00\",\"2022-12-28T00:00:00\",\"2022-12-27T00:00:00\",\"2022-12-26T00:00:00\",\"2022-12-25T00:00:00\",\"2022-12-24T00:00:00\",\"2022-12-23T00:00:00\",\"2022-12-22T00:00:00\",\"2022-12-21T00:00:00\",\"2022-12-20T00:00:00\",\"2022-12-19T00:00:00\",\"2022-12-18T00:00:00\",\"2022-12-17T00:00:00\",\"2022-12-16T00:00:00\",\"2022-12-15T00:00:00\",\"2022-12-14T00:00:00\",\"2022-12-13T00:00:00\",\"2022-12-12T00:00:00\",\"2022-12-11T00:00:00\",\"2022-12-10T00:00:00\",\"2022-12-09T00:00:00\",\"2022-12-08T00:00:00\",\"2022-12-07T00:00:00\",\"2022-12-06T00:00:00\",\"2022-12-05T00:00:00\",\"2022-12-04T00:00:00\",\"2022-12-03T00:00:00\",\"2022-12-02T00:00:00\",\"2022-12-01T00:00:00\",\"2022-11-30T00:00:00\",\"2022-11-29T00:00:00\",\"2022-11-28T00:00:00\",\"2022-11-27T00:00:00\",\"2022-11-26T00:00:00\",\"2022-11-25T00:00:00\",\"2022-11-24T00:00:00\",\"2022-11-23T00:00:00\",\"2022-11-22T00:00:00\",\"2022-11-21T00:00:00\",\"2022-11-20T00:00:00\",\"2022-11-19T00:00:00\",\"2022-11-18T00:00:00\",\"2022-11-17T00:00:00\",\"2022-11-16T00:00:00\",\"2022-11-15T00:00:00\",\"2022-11-14T00:00:00\",\"2022-11-13T00:00:00\",\"2022-11-12T00:00:00\",\"2022-11-11T00:00:00\",\"2022-11-10T00:00:00\",\"2022-11-09T00:00:00\",\"2022-11-08T00:00:00\",\"2022-11-07T00:00:00\",\"2022-11-06T00:00:00\",\"2022-11-05T00:00:00\",\"2022-11-04T00:00:00\",\"2022-11-03T00:00:00\",\"2022-11-02T00:00:00\",\"2022-11-01T00:00:00\",\"2022-10-31T00:00:00\",\"2022-10-30T00:00:00\",\"2022-10-29T00:00:00\",\"2022-10-28T00:00:00\",\"2022-10-27T00:00:00\",\"2022-10-26T00:00:00\",\"2022-10-25T00:00:00\",\"2022-10-24T00:00:00\",\"2022-10-23T00:00:00\",\"2022-10-22T00:00:00\",\"2022-10-21T00:00:00\",\"2022-10-20T00:00:00\",\"2022-10-19T00:00:00\",\"2022-10-18T00:00:00\",\"2022-10-17T00:00:00\",\"2022-10-16T00:00:00\",\"2022-10-15T00:00:00\",\"2022-10-14T00:00:00\",\"2022-10-13T00:00:00\",\"2022-10-12T00:00:00\",\"2022-10-11T00:00:00\",\"2022-10-10T00:00:00\",\"2022-10-09T00:00:00\",\"2022-10-08T00:00:00\",\"2022-10-07T00:00:00\",\"2022-10-06T00:00:00\",\"2022-10-05T00:00:00\",\"2022-10-04T00:00:00\",\"2022-10-03T00:00:00\",\"2022-10-02T00:00:00\",\"2022-10-01T00:00:00\",\"2022-09-30T00:00:00\",\"2022-09-29T00:00:00\",\"2022-09-28T00:00:00\",\"2022-09-27T00:00:00\",\"2022-09-26T00:00:00\",\"2022-09-25T00:00:00\",\"2022-09-24T00:00:00\",\"2022-09-23T00:00:00\",\"2022-09-22T00:00:00\",\"2022-09-21T00:00:00\",\"2022-09-20T00:00:00\",\"2022-09-19T00:00:00\",\"2022-09-18T00:00:00\",\"2022-09-17T00:00:00\",\"2022-09-16T00:00:00\",\"2022-09-15T00:00:00\",\"2022-09-14T00:00:00\",\"2022-09-13T00:00:00\",\"2022-09-12T00:00:00\",\"2022-09-11T00:00:00\",\"2022-09-10T00:00:00\",\"2022-09-09T00:00:00\",\"2022-09-08T00:00:00\",\"2022-09-07T00:00:00\",\"2022-09-06T00:00:00\",\"2022-09-05T00:00:00\",\"2022-09-04T00:00:00\",\"2022-09-03T00:00:00\",\"2022-09-02T00:00:00\",\"2022-09-01T00:00:00\",\"2022-08-31T00:00:00\",\"2022-08-30T00:00:00\",\"2022-08-29T00:00:00\",\"2022-08-28T00:00:00\",\"2022-08-27T00:00:00\",\"2022-08-26T00:00:00\",\"2022-08-25T00:00:00\",\"2022-08-24T00:00:00\",\"2022-08-23T00:00:00\",\"2022-08-22T00:00:00\",\"2022-08-21T00:00:00\",\"2022-08-20T00:00:00\",\"2022-08-19T00:00:00\",\"2022-08-18T00:00:00\",\"2022-08-17T00:00:00\",\"2022-08-16T00:00:00\",\"2022-08-15T00:00:00\",\"2022-08-14T00:00:00\",\"2022-08-13T00:00:00\",\"2022-08-12T00:00:00\",\"2022-08-11T00:00:00\",\"2022-08-10T00:00:00\",\"2022-08-09T00:00:00\",\"2022-08-08T00:00:00\",\"2022-08-07T00:00:00\",\"2022-08-06T00:00:00\",\"2022-08-05T00:00:00\",\"2022-08-04T00:00:00\",\"2022-08-03T00:00:00\",\"2022-08-02T00:00:00\",\"2022-08-01T00:00:00\",\"2022-07-31T00:00:00\",\"2022-07-30T00:00:00\",\"2022-07-29T00:00:00\",\"2022-07-28T00:00:00\",\"2022-07-27T00:00:00\",\"2022-07-26T00:00:00\",\"2022-07-25T00:00:00\",\"2022-07-24T00:00:00\",\"2022-07-23T00:00:00\",\"2022-07-22T00:00:00\",\"2022-07-21T00:00:00\",\"2022-07-20T00:00:00\",\"2022-07-19T00:00:00\",\"2022-07-18T00:00:00\",\"2022-07-17T00:00:00\",\"2022-07-16T00:00:00\",\"2022-07-15T00:00:00\",\"2022-07-14T00:00:00\",\"2022-07-13T00:00:00\",\"2022-07-12T00:00:00\",\"2022-07-11T00:00:00\",\"2022-07-10T00:00:00\",\"2022-07-09T00:00:00\",\"2022-07-08T00:00:00\",\"2022-07-07T00:00:00\",\"2022-07-06T00:00:00\",\"2022-07-05T00:00:00\",\"2022-07-04T00:00:00\",\"2022-07-03T00:00:00\",\"2022-07-02T00:00:00\",\"2022-07-01T00:00:00\",\"2022-06-30T00:00:00\",\"2022-06-29T00:00:00\",\"2022-06-28T00:00:00\",\"2022-06-27T00:00:00\",\"2022-06-26T00:00:00\",\"2022-06-25T00:00:00\",\"2022-06-24T00:00:00\",\"2022-06-23T00:00:00\",\"2022-06-22T00:00:00\",\"2022-06-21T00:00:00\",\"2022-06-20T00:00:00\",\"2022-06-19T00:00:00\",\"2022-06-18T00:00:00\",\"2022-06-17T00:00:00\",\"2022-06-16T00:00:00\",\"2022-06-15T00:00:00\",\"2022-06-14T00:00:00\",\"2022-06-13T00:00:00\",\"2022-06-12T00:00:00\",\"2022-06-11T00:00:00\",\"2022-06-10T00:00:00\",\"2022-06-09T00:00:00\",\"2022-06-08T00:00:00\",\"2022-06-07T00:00:00\",\"2022-06-06T00:00:00\",\"2022-06-05T00:00:00\",\"2022-06-04T00:00:00\",\"2022-06-03T00:00:00\",\"2022-06-02T00:00:00\",\"2022-06-01T00:00:00\",\"2022-05-31T00:00:00\",\"2022-05-30T00:00:00\",\"2022-05-29T00:00:00\",\"2022-05-28T00:00:00\",\"2022-05-27T00:00:00\",\"2022-05-26T00:00:00\",\"2022-05-25T00:00:00\",\"2022-05-24T00:00:00\",\"2022-05-23T00:00:00\",\"2022-05-22T00:00:00\",\"2022-05-21T00:00:00\",\"2022-05-20T00:00:00\",\"2022-05-19T00:00:00\",\"2022-05-18T00:00:00\",\"2022-05-17T00:00:00\",\"2022-05-16T00:00:00\",\"2022-05-15T00:00:00\",\"2022-05-14T00:00:00\",\"2022-05-13T00:00:00\",\"2022-05-12T00:00:00\",\"2022-05-11T00:00:00\",\"2022-05-10T00:00:00\",\"2022-05-09T00:00:00\",\"2022-05-08T00:00:00\",\"2022-05-07T00:00:00\",\"2022-05-06T00:00:00\",\"2022-05-05T00:00:00\",\"2022-05-04T00:00:00\",\"2022-05-03T00:00:00\",\"2022-05-02T00:00:00\",\"2022-05-01T00:00:00\",\"2022-04-30T00:00:00\",\"2022-04-29T00:00:00\",\"2022-04-28T00:00:00\",\"2022-04-27T00:00:00\",\"2022-04-26T00:00:00\",\"2022-04-25T00:00:00\",\"2022-04-24T00:00:00\",\"2022-04-23T00:00:00\",\"2022-04-22T00:00:00\",\"2022-04-21T00:00:00\",\"2022-04-20T00:00:00\",\"2022-04-19T00:00:00\",\"2022-04-18T00:00:00\",\"2022-04-17T00:00:00\",\"2022-04-16T00:00:00\",\"2022-04-15T00:00:00\",\"2022-04-14T00:00:00\",\"2022-04-13T00:00:00\",\"2022-04-12T00:00:00\",\"2022-04-11T00:00:00\",\"2022-04-10T00:00:00\",\"2022-04-09T00:00:00\",\"2022-04-08T00:00:00\",\"2022-04-07T00:00:00\",\"2022-04-06T00:00:00\",\"2022-04-05T00:00:00\",\"2022-04-04T00:00:00\",\"2022-04-03T00:00:00\",\"2022-04-02T00:00:00\",\"2022-04-01T00:00:00\",\"2022-03-31T00:00:00\",\"2022-03-30T00:00:00\",\"2022-03-29T00:00:00\",\"2022-03-28T00:00:00\",\"2022-03-27T00:00:00\",\"2022-03-26T00:00:00\",\"2022-03-25T00:00:00\",\"2022-03-24T00:00:00\",\"2022-03-23T00:00:00\",\"2022-03-22T00:00:00\",\"2022-03-21T00:00:00\",\"2022-03-20T00:00:00\",\"2022-03-19T00:00:00\",\"2022-03-18T00:00:00\",\"2022-03-17T00:00:00\",\"2022-03-16T00:00:00\",\"2022-03-15T00:00:00\",\"2022-03-14T00:00:00\",\"2022-03-13T00:00:00\",\"2022-03-12T00:00:00\",\"2022-03-11T00:00:00\",\"2022-03-10T00:00:00\",\"2022-03-09T00:00:00\",\"2022-03-08T00:00:00\",\"2022-03-07T00:00:00\",\"2022-03-06T00:00:00\",\"2022-03-05T00:00:00\",\"2022-03-04T00:00:00\",\"2022-03-03T00:00:00\",\"2022-03-02T00:00:00\",\"2022-03-01T00:00:00\",\"2022-02-28T00:00:00\",\"2022-02-27T00:00:00\",\"2022-02-26T00:00:00\",\"2022-02-25T00:00:00\",\"2022-02-24T00:00:00\",\"2022-02-23T00:00:00\",\"2022-02-22T00:00:00\",\"2022-02-21T00:00:00\",\"2022-02-20T00:00:00\",\"2022-02-19T00:00:00\",\"2022-02-18T00:00:00\",\"2022-02-17T00:00:00\",\"2022-02-16T00:00:00\",\"2022-02-15T00:00:00\",\"2022-02-14T00:00:00\",\"2022-02-13T00:00:00\",\"2022-02-12T00:00:00\",\"2022-02-11T00:00:00\",\"2022-02-10T00:00:00\",\"2022-02-09T00:00:00\",\"2022-02-08T00:00:00\",\"2022-02-07T00:00:00\",\"2022-02-06T00:00:00\",\"2022-02-05T00:00:00\",\"2022-02-04T00:00:00\",\"2022-02-03T00:00:00\",\"2022-02-02T00:00:00\",\"2022-02-01T00:00:00\",\"2022-01-31T00:00:00\",\"2022-01-30T00:00:00\",\"2022-01-29T00:00:00\",\"2022-01-28T00:00:00\",\"2022-01-27T00:00:00\",\"2022-01-26T00:00:00\",\"2022-01-25T00:00:00\",\"2022-01-24T00:00:00\",\"2022-01-23T00:00:00\",\"2022-01-22T00:00:00\",\"2022-01-21T00:00:00\",\"2022-01-20T00:00:00\",\"2022-01-19T00:00:00\",\"2022-01-18T00:00:00\",\"2022-01-17T00:00:00\",\"2022-01-16T00:00:00\",\"2022-01-15T00:00:00\",\"2022-01-14T00:00:00\",\"2022-01-13T00:00:00\",\"2022-01-12T00:00:00\",\"2022-01-11T00:00:00\",\"2022-01-10T00:00:00\",\"2022-01-09T00:00:00\",\"2022-01-08T00:00:00\",\"2022-01-07T00:00:00\",\"2022-01-06T00:00:00\",\"2022-01-05T00:00:00\",\"2022-01-04T00:00:00\",\"2022-01-03T00:00:00\",\"2022-01-02T00:00:00\",\"2022-01-01T00:00:00\",\"2021-12-31T00:00:00\",\"2021-12-30T00:00:00\",\"2021-12-29T00:00:00\",\"2021-12-28T00:00:00\",\"2021-12-27T00:00:00\",\"2021-12-26T00:00:00\",\"2021-12-25T00:00:00\",\"2021-12-24T00:00:00\",\"2021-12-23T00:00:00\",\"2021-12-22T00:00:00\",\"2021-12-21T00:00:00\",\"2021-12-20T00:00:00\",\"2021-12-19T00:00:00\",\"2021-12-18T00:00:00\",\"2021-12-17T00:00:00\",\"2021-12-16T00:00:00\",\"2021-12-15T00:00:00\",\"2021-12-14T00:00:00\",\"2021-12-13T00:00:00\",\"2021-12-12T00:00:00\",\"2021-12-11T00:00:00\",\"2021-12-10T00:00:00\",\"2021-12-09T00:00:00\",\"2021-12-08T00:00:00\",\"2021-12-07T00:00:00\",\"2021-12-06T00:00:00\",\"2021-12-05T00:00:00\",\"2021-12-04T00:00:00\",\"2021-12-03T00:00:00\",\"2021-12-02T00:00:00\",\"2021-12-01T00:00:00\",\"2021-11-30T00:00:00\",\"2021-11-29T00:00:00\",\"2021-11-28T00:00:00\",\"2021-11-27T00:00:00\",\"2021-11-26T00:00:00\",\"2021-11-25T00:00:00\",\"2021-11-24T00:00:00\",\"2021-11-23T00:00:00\",\"2021-11-22T00:00:00\",\"2021-11-21T00:00:00\",\"2021-11-20T00:00:00\",\"2021-11-19T00:00:00\",\"2021-11-18T00:00:00\",\"2021-11-17T00:00:00\",\"2021-11-16T00:00:00\",\"2021-11-15T00:00:00\",\"2021-11-14T00:00:00\",\"2021-11-13T00:00:00\",\"2021-11-12T00:00:00\",\"2021-11-11T00:00:00\",\"2021-11-10T00:00:00\",\"2021-11-09T00:00:00\",\"2021-11-08T00:00:00\",\"2021-11-07T00:00:00\",\"2021-11-06T00:00:00\",\"2021-11-05T00:00:00\",\"2021-11-04T00:00:00\",\"2021-11-03T00:00:00\",\"2021-11-02T00:00:00\",\"2021-11-01T00:00:00\",\"2021-10-31T00:00:00\",\"2021-10-30T00:00:00\",\"2021-10-29T00:00:00\",\"2021-10-28T00:00:00\",\"2021-10-27T00:00:00\",\"2021-10-26T00:00:00\",\"2021-10-25T00:00:00\",\"2021-10-24T00:00:00\",\"2021-10-23T00:00:00\",\"2021-10-22T00:00:00\",\"2021-10-21T00:00:00\",\"2021-10-20T00:00:00\",\"2021-10-19T00:00:00\",\"2021-10-18T00:00:00\",\"2021-10-17T00:00:00\",\"2021-10-16T00:00:00\",\"2021-10-15T00:00:00\",\"2021-10-14T00:00:00\",\"2021-10-13T00:00:00\",\"2021-10-12T00:00:00\",\"2021-10-11T00:00:00\",\"2021-10-10T00:00:00\",\"2021-10-09T00:00:00\",\"2021-10-08T00:00:00\",\"2021-10-07T00:00:00\",\"2021-10-06T00:00:00\",\"2021-10-05T00:00:00\",\"2021-10-04T00:00:00\",\"2021-10-03T00:00:00\",\"2021-10-02T00:00:00\",\"2021-10-01T00:00:00\",\"2021-09-30T00:00:00\",\"2021-09-29T00:00:00\",\"2021-09-28T00:00:00\",\"2021-09-27T00:00:00\",\"2021-09-26T00:00:00\",\"2021-09-25T00:00:00\",\"2021-09-24T00:00:00\",\"2021-09-23T00:00:00\",\"2021-09-22T00:00:00\",\"2021-09-21T00:00:00\",\"2021-09-20T00:00:00\",\"2021-09-19T00:00:00\",\"2021-09-18T00:00:00\",\"2021-09-17T00:00:00\",\"2021-09-16T00:00:00\",\"2021-09-15T00:00:00\",\"2021-09-14T00:00:00\",\"2021-09-13T00:00:00\",\"2021-09-12T00:00:00\",\"2021-09-11T00:00:00\",\"2021-09-10T00:00:00\",\"2021-09-09T00:00:00\",\"2021-09-08T00:00:00\",\"2021-09-07T00:00:00\",\"2021-09-06T00:00:00\",\"2021-09-05T00:00:00\",\"2021-09-04T00:00:00\",\"2021-09-03T00:00:00\",\"2021-09-02T00:00:00\",\"2021-09-01T00:00:00\",\"2021-08-31T00:00:00\",\"2021-08-30T00:00:00\",\"2021-08-29T00:00:00\",\"2021-08-28T00:00:00\",\"2021-08-27T00:00:00\",\"2021-08-26T00:00:00\",\"2021-08-25T00:00:00\",\"2021-08-24T00:00:00\",\"2021-08-23T00:00:00\",\"2021-08-22T00:00:00\",\"2021-08-21T00:00:00\",\"2021-08-20T00:00:00\",\"2021-08-19T00:00:00\",\"2021-08-18T00:00:00\",\"2021-08-17T00:00:00\",\"2021-08-16T00:00:00\",\"2021-08-15T00:00:00\",\"2021-08-14T00:00:00\",\"2021-08-13T00:00:00\",\"2021-08-12T00:00:00\",\"2021-08-11T00:00:00\",\"2021-08-10T00:00:00\",\"2021-08-09T00:00:00\",\"2021-08-08T00:00:00\",\"2021-08-07T00:00:00\",\"2021-08-06T00:00:00\",\"2021-08-05T00:00:00\",\"2021-08-04T00:00:00\",\"2021-08-03T00:00:00\",\"2021-08-02T00:00:00\",\"2021-08-01T00:00:00\",\"2021-07-31T00:00:00\",\"2021-07-30T00:00:00\",\"2021-07-29T00:00:00\",\"2021-07-28T00:00:00\",\"2021-07-27T00:00:00\",\"2021-07-26T00:00:00\",\"2021-07-25T00:00:00\",\"2021-07-24T00:00:00\",\"2021-07-23T00:00:00\",\"2021-07-22T00:00:00\",\"2021-07-21T00:00:00\",\"2021-07-20T00:00:00\",\"2021-07-19T00:00:00\",\"2021-07-18T00:00:00\",\"2021-07-17T00:00:00\",\"2021-07-16T00:00:00\",\"2021-07-15T00:00:00\",\"2021-07-14T00:00:00\",\"2021-07-13T00:00:00\",\"2021-07-12T00:00:00\",\"2021-07-11T00:00:00\",\"2021-07-10T00:00:00\",\"2021-07-09T00:00:00\",\"2021-07-08T00:00:00\",\"2021-07-07T00:00:00\",\"2021-07-06T00:00:00\",\"2021-07-05T00:00:00\",\"2021-07-04T00:00:00\",\"2021-07-03T00:00:00\",\"2021-07-02T00:00:00\",\"2021-07-01T00:00:00\",\"2021-06-30T00:00:00\",\"2021-06-29T00:00:00\",\"2021-06-28T00:00:00\",\"2021-06-27T00:00:00\",\"2021-06-26T00:00:00\",\"2021-06-25T00:00:00\",\"2021-06-24T00:00:00\",\"2021-06-23T00:00:00\",\"2021-06-22T00:00:00\",\"2021-06-21T00:00:00\",\"2021-06-20T00:00:00\",\"2021-06-19T00:00:00\",\"2021-06-18T00:00:00\",\"2021-06-17T00:00:00\",\"2021-06-16T00:00:00\",\"2021-06-15T00:00:00\",\"2021-06-14T00:00:00\",\"2021-06-13T00:00:00\",\"2021-06-12T00:00:00\",\"2021-06-11T00:00:00\",\"2021-06-10T00:00:00\",\"2021-06-09T00:00:00\",\"2021-06-08T00:00:00\",\"2021-06-07T00:00:00\",\"2021-06-06T00:00:00\",\"2021-06-05T00:00:00\",\"2021-06-04T00:00:00\",\"2021-06-03T00:00:00\",\"2021-06-02T00:00:00\",\"2021-06-01T00:00:00\",\"2021-05-31T00:00:00\",\"2021-05-30T00:00:00\",\"2021-05-29T00:00:00\",\"2021-05-28T00:00:00\",\"2021-05-27T00:00:00\",\"2021-05-26T00:00:00\",\"2021-05-25T00:00:00\",\"2021-05-24T00:00:00\",\"2021-05-23T00:00:00\",\"2021-05-22T00:00:00\",\"2021-05-21T00:00:00\",\"2021-05-20T00:00:00\",\"2021-05-19T00:00:00\",\"2021-05-18T00:00:00\",\"2021-05-17T00:00:00\",\"2021-05-16T00:00:00\",\"2021-05-15T00:00:00\",\"2021-05-14T00:00:00\",\"2021-05-13T00:00:00\",\"2021-05-12T00:00:00\",\"2021-05-11T00:00:00\",\"2021-05-10T00:00:00\",\"2021-05-09T00:00:00\",\"2021-05-08T00:00:00\",\"2021-05-07T00:00:00\",\"2021-05-06T00:00:00\",\"2021-05-05T00:00:00\",\"2021-05-04T00:00:00\",\"2021-05-03T00:00:00\",\"2021-05-02T00:00:00\",\"2021-05-01T00:00:00\",\"2021-04-30T00:00:00\",\"2021-04-29T00:00:00\",\"2021-04-28T00:00:00\",\"2021-04-27T00:00:00\",\"2021-04-26T00:00:00\",\"2021-04-25T00:00:00\",\"2021-04-24T00:00:00\",\"2021-04-23T00:00:00\",\"2021-04-22T00:00:00\",\"2021-04-21T00:00:00\",\"2021-04-20T00:00:00\",\"2021-04-19T00:00:00\",\"2021-04-18T00:00:00\",\"2021-04-17T00:00:00\",\"2021-04-16T00:00:00\",\"2021-04-15T00:00:00\",\"2021-04-14T00:00:00\",\"2021-04-13T00:00:00\",\"2021-04-12T00:00:00\",\"2021-04-11T00:00:00\",\"2021-04-10T00:00:00\",\"2021-04-09T00:00:00\",\"2021-04-08T00:00:00\",\"2021-04-07T00:00:00\",\"2021-04-06T00:00:00\",\"2021-04-05T00:00:00\",\"2021-04-04T00:00:00\",\"2021-04-03T00:00:00\",\"2021-04-02T00:00:00\",\"2021-04-01T00:00:00\",\"2021-03-31T00:00:00\",\"2021-03-30T00:00:00\",\"2021-03-29T00:00:00\",\"2021-03-28T00:00:00\",\"2021-03-27T00:00:00\",\"2021-03-26T00:00:00\",\"2021-03-25T00:00:00\",\"2021-03-24T00:00:00\",\"2021-03-23T00:00:00\",\"2021-03-22T00:00:00\",\"2021-03-21T00:00:00\",\"2021-03-20T00:00:00\",\"2021-03-19T00:00:00\",\"2021-03-18T00:00:00\",\"2021-03-17T00:00:00\",\"2021-03-16T00:00:00\",\"2021-03-15T00:00:00\",\"2021-03-14T00:00:00\",\"2021-03-13T00:00:00\",\"2021-03-12T00:00:00\",\"2021-03-11T00:00:00\",\"2021-03-10T00:00:00\",\"2021-03-09T00:00:00\",\"2021-03-08T00:00:00\",\"2021-03-07T00:00:00\",\"2021-03-06T00:00:00\",\"2021-03-05T00:00:00\",\"2021-03-04T00:00:00\",\"2021-03-03T00:00:00\",\"2021-03-02T00:00:00\",\"2021-03-01T00:00:00\",\"2021-02-28T00:00:00\",\"2021-02-27T00:00:00\",\"2021-02-26T00:00:00\",\"2021-02-25T00:00:00\",\"2021-02-24T00:00:00\",\"2021-02-23T00:00:00\",\"2021-02-22T00:00:00\",\"2021-02-21T00:00:00\",\"2021-02-20T00:00:00\",\"2021-02-19T00:00:00\",\"2021-02-18T00:00:00\",\"2021-02-17T00:00:00\",\"2021-02-16T00:00:00\",\"2021-02-15T00:00:00\",\"2021-02-14T00:00:00\",\"2021-02-13T00:00:00\",\"2021-02-12T00:00:00\",\"2021-02-11T00:00:00\",\"2021-02-10T00:00:00\",\"2021-02-09T00:00:00\",\"2021-02-08T00:00:00\",\"2021-02-07T00:00:00\",\"2021-02-06T00:00:00\",\"2021-02-05T00:00:00\",\"2021-02-04T00:00:00\",\"2021-02-03T00:00:00\",\"2021-02-02T00:00:00\",\"2021-02-01T00:00:00\",\"2021-01-31T00:00:00\",\"2021-01-30T00:00:00\",\"2021-01-29T00:00:00\",\"2021-01-28T00:00:00\",\"2021-01-27T00:00:00\",\"2021-01-26T00:00:00\",\"2021-01-25T00:00:00\",\"2021-01-24T00:00:00\",\"2021-01-23T00:00:00\",\"2021-01-22T00:00:00\",\"2021-01-21T00:00:00\",\"2021-01-20T00:00:00\",\"2021-01-19T00:00:00\",\"2021-01-18T00:00:00\",\"2021-01-17T00:00:00\",\"2021-01-16T00:00:00\",\"2021-01-15T00:00:00\",\"2021-01-14T00:00:00\",\"2021-01-13T00:00:00\",\"2021-01-12T00:00:00\",\"2021-01-11T00:00:00\",\"2021-01-10T00:00:00\",\"2021-01-09T00:00:00\",\"2021-01-08T00:00:00\",\"2021-01-07T00:00:00\",\"2021-01-06T00:00:00\",\"2021-01-05T00:00:00\",\"2021-01-04T00:00:00\",\"2021-01-03T00:00:00\",\"2021-01-02T00:00:00\",\"2021-01-01T00:00:00\",\"2020-12-31T00:00:00\",\"2020-12-30T00:00:00\",\"2020-12-29T00:00:00\",\"2020-12-28T00:00:00\",\"2020-12-27T00:00:00\",\"2020-12-26T00:00:00\",\"2020-12-25T00:00:00\",\"2020-12-24T00:00:00\",\"2020-12-23T00:00:00\",\"2020-12-22T00:00:00\",\"2020-12-21T00:00:00\",\"2020-12-20T00:00:00\",\"2020-12-19T00:00:00\",\"2020-12-18T00:00:00\",\"2020-12-17T00:00:00\",\"2020-12-16T00:00:00\",\"2020-12-15T00:00:00\",\"2020-12-14T00:00:00\",\"2020-12-13T00:00:00\",\"2020-12-12T00:00:00\",\"2020-12-11T00:00:00\",\"2020-12-10T00:00:00\",\"2020-12-09T00:00:00\",\"2020-12-08T00:00:00\",\"2020-12-07T00:00:00\",\"2020-12-06T00:00:00\",\"2020-12-05T00:00:00\",\"2020-12-04T00:00:00\",\"2020-12-03T00:00:00\",\"2020-12-02T00:00:00\",\"2020-12-01T00:00:00\",\"2020-11-30T00:00:00\",\"2020-11-29T00:00:00\",\"2020-11-28T00:00:00\",\"2020-11-27T00:00:00\",\"2020-11-26T00:00:00\",\"2020-11-25T00:00:00\",\"2020-11-24T00:00:00\",\"2020-11-23T00:00:00\",\"2020-11-22T00:00:00\",\"2020-11-21T00:00:00\",\"2020-11-20T00:00:00\",\"2020-11-19T00:00:00\",\"2020-11-18T00:00:00\",\"2020-11-17T00:00:00\",\"2020-11-16T00:00:00\",\"2020-11-15T00:00:00\",\"2020-11-14T00:00:00\",\"2020-11-13T00:00:00\",\"2020-11-12T00:00:00\",\"2020-11-11T00:00:00\",\"2020-11-10T00:00:00\",\"2020-11-09T00:00:00\",\"2020-11-08T00:00:00\",\"2020-11-07T00:00:00\",\"2020-11-06T00:00:00\",\"2020-11-05T00:00:00\",\"2020-11-04T00:00:00\",\"2020-11-03T00:00:00\",\"2020-11-02T00:00:00\",\"2020-11-01T00:00:00\",\"2020-10-31T00:00:00\",\"2020-10-30T00:00:00\",\"2020-10-29T00:00:00\",\"2020-10-28T00:00:00\",\"2020-10-27T00:00:00\",\"2020-10-26T00:00:00\",\"2020-10-25T00:00:00\",\"2020-10-24T00:00:00\",\"2020-10-23T00:00:00\",\"2020-10-22T00:00:00\",\"2020-10-21T00:00:00\",\"2020-10-20T00:00:00\",\"2020-10-19T00:00:00\",\"2020-10-18T00:00:00\",\"2020-10-17T00:00:00\",\"2020-10-16T00:00:00\",\"2020-10-15T00:00:00\",\"2020-10-14T00:00:00\",\"2020-10-13T00:00:00\",\"2020-10-12T00:00:00\",\"2020-10-11T00:00:00\",\"2020-10-10T00:00:00\",\"2020-10-09T00:00:00\",\"2020-10-08T00:00:00\",\"2020-10-07T00:00:00\",\"2020-10-06T00:00:00\",\"2020-10-05T00:00:00\",\"2020-10-04T00:00:00\",\"2020-10-03T00:00:00\",\"2020-10-02T00:00:00\",\"2020-10-01T00:00:00\",\"2020-09-30T00:00:00\",\"2020-09-29T00:00:00\",\"2020-09-28T00:00:00\",\"2020-09-27T00:00:00\",\"2020-09-26T00:00:00\",\"2020-09-25T00:00:00\",\"2020-09-24T00:00:00\",\"2020-09-23T00:00:00\",\"2020-09-22T00:00:00\",\"2020-09-21T00:00:00\",\"2020-09-20T00:00:00\",\"2020-09-19T00:00:00\",\"2020-09-18T00:00:00\",\"2020-09-17T00:00:00\",\"2020-09-16T00:00:00\",\"2020-09-15T00:00:00\",\"2020-09-14T00:00:00\",\"2020-09-13T00:00:00\",\"2020-09-12T00:00:00\",\"2020-09-11T00:00:00\",\"2020-09-10T00:00:00\",\"2020-09-09T00:00:00\",\"2020-09-08T00:00:00\",\"2020-09-07T00:00:00\",\"2020-09-06T00:00:00\",\"2020-09-05T00:00:00\",\"2020-09-04T00:00:00\",\"2020-09-03T00:00:00\",\"2020-09-02T00:00:00\",\"2020-09-01T00:00:00\",\"2020-08-31T00:00:00\",\"2020-08-30T00:00:00\",\"2020-08-29T00:00:00\",\"2020-08-28T00:00:00\",\"2020-08-27T00:00:00\",\"2020-08-26T00:00:00\",\"2020-08-25T00:00:00\",\"2020-08-24T00:00:00\",\"2020-08-23T00:00:00\",\"2020-08-22T00:00:00\",\"2020-08-21T00:00:00\",\"2020-08-20T00:00:00\",\"2020-08-19T00:00:00\",\"2020-08-18T00:00:00\",\"2020-08-17T00:00:00\",\"2020-08-16T00:00:00\",\"2020-08-15T00:00:00\",\"2020-08-14T00:00:00\",\"2020-08-13T00:00:00\",\"2020-08-12T00:00:00\",\"2020-08-11T00:00:00\",\"2020-08-10T00:00:00\",\"2020-08-09T00:00:00\",\"2020-08-08T00:00:00\",\"2020-08-07T00:00:00\",\"2020-08-06T00:00:00\",\"2020-08-05T00:00:00\",\"2020-08-04T00:00:00\",\"2020-08-03T00:00:00\",\"2020-08-02T00:00:00\",\"2020-08-01T00:00:00\",\"2020-07-31T00:00:00\",\"2020-07-30T00:00:00\",\"2020-07-29T00:00:00\",\"2020-07-28T00:00:00\",\"2020-07-27T00:00:00\",\"2020-07-26T00:00:00\",\"2020-07-25T00:00:00\",\"2020-07-24T00:00:00\",\"2020-07-23T00:00:00\",\"2020-07-22T00:00:00\",\"2020-07-21T00:00:00\",\"2020-07-20T00:00:00\",\"2020-07-19T00:00:00\",\"2020-07-18T00:00:00\",\"2020-07-17T00:00:00\",\"2020-07-16T00:00:00\",\"2020-07-15T00:00:00\",\"2020-07-14T00:00:00\",\"2020-07-13T00:00:00\",\"2020-07-12T00:00:00\",\"2020-07-11T00:00:00\",\"2020-07-10T00:00:00\",\"2020-07-09T00:00:00\",\"2020-07-08T00:00:00\",\"2020-07-07T00:00:00\",\"2020-07-06T00:00:00\",\"2020-07-05T00:00:00\",\"2020-07-04T00:00:00\",\"2020-07-03T00:00:00\",\"2020-07-02T00:00:00\",\"2020-07-01T00:00:00\",\"2020-06-30T00:00:00\",\"2020-06-29T00:00:00\",\"2020-06-28T00:00:00\",\"2020-06-27T00:00:00\",\"2020-06-26T00:00:00\",\"2020-06-25T00:00:00\",\"2020-06-24T00:00:00\",\"2020-06-23T00:00:00\",\"2020-06-22T00:00:00\",\"2020-06-21T00:00:00\",\"2020-06-20T00:00:00\",\"2020-06-19T00:00:00\",\"2020-06-18T00:00:00\",\"2020-06-17T00:00:00\",\"2020-06-16T00:00:00\",\"2020-06-15T00:00:00\",\"2020-06-14T00:00:00\",\"2020-06-13T00:00:00\",\"2020-06-12T00:00:00\",\"2020-06-11T00:00:00\",\"2020-06-10T00:00:00\",\"2020-06-09T00:00:00\",\"2020-06-08T00:00:00\",\"2020-06-07T00:00:00\",\"2020-06-06T00:00:00\",\"2020-06-05T00:00:00\",\"2020-06-04T00:00:00\",\"2020-06-03T00:00:00\",\"2020-06-02T00:00:00\",\"2020-06-01T00:00:00\",\"2020-05-31T00:00:00\",\"2020-05-30T00:00:00\",\"2020-05-29T00:00:00\",\"2020-05-28T00:00:00\",\"2020-05-27T00:00:00\",\"2020-05-26T00:00:00\",\"2020-05-25T00:00:00\",\"2020-05-24T00:00:00\",\"2020-05-23T00:00:00\",\"2020-05-22T00:00:00\",\"2020-05-21T00:00:00\",\"2020-05-20T00:00:00\",\"2020-05-19T00:00:00\",\"2020-05-18T00:00:00\",\"2020-05-17T00:00:00\",\"2020-05-16T00:00:00\",\"2020-05-15T00:00:00\",\"2020-05-14T00:00:00\",\"2020-05-13T00:00:00\",\"2020-05-12T00:00:00\",\"2020-05-11T00:00:00\",\"2020-05-10T00:00:00\",\"2020-05-09T00:00:00\",\"2020-05-08T00:00:00\",\"2020-05-07T00:00:00\",\"2020-05-06T00:00:00\",\"2020-05-05T00:00:00\",\"2020-05-04T00:00:00\",\"2020-05-03T00:00:00\",\"2020-05-02T00:00:00\",\"2020-05-01T00:00:00\",\"2020-04-30T00:00:00\",\"2020-04-29T00:00:00\",\"2020-04-28T00:00:00\",\"2020-04-27T00:00:00\",\"2020-04-26T00:00:00\",\"2020-04-25T00:00:00\",\"2020-04-24T00:00:00\",\"2020-04-23T00:00:00\",\"2020-04-22T00:00:00\",\"2020-04-21T00:00:00\",\"2020-04-20T00:00:00\",\"2020-04-19T00:00:00\",\"2020-04-18T00:00:00\",\"2020-04-17T00:00:00\",\"2020-04-16T00:00:00\",\"2020-04-15T00:00:00\",\"2020-04-14T00:00:00\",\"2020-04-13T00:00:00\",\"2020-04-12T00:00:00\",\"2020-04-11T00:00:00\",\"2020-04-10T00:00:00\",\"2020-04-09T00:00:00\",\"2020-04-08T00:00:00\",\"2020-04-07T00:00:00\",\"2020-04-06T00:00:00\",\"2020-04-05T00:00:00\",\"2020-04-04T00:00:00\",\"2020-04-03T00:00:00\",\"2020-04-02T00:00:00\",\"2020-04-01T00:00:00\",\"2020-03-31T00:00:00\",\"2020-03-30T00:00:00\",\"2020-03-29T00:00:00\",\"2020-03-28T00:00:00\",\"2020-03-27T00:00:00\",\"2020-03-26T00:00:00\",\"2020-03-25T00:00:00\",\"2020-03-24T00:00:00\",\"2020-03-23T00:00:00\",\"2020-03-22T00:00:00\",\"2020-03-21T00:00:00\",\"2020-03-20T00:00:00\",\"2020-03-19T00:00:00\",\"2020-03-18T00:00:00\",\"2020-03-17T00:00:00\",\"2020-03-16T00:00:00\",\"2020-03-15T00:00:00\",\"2020-03-14T00:00:00\",\"2020-03-13T00:00:00\",\"2020-03-12T00:00:00\",\"2020-03-11T00:00:00\",\"2020-03-10T00:00:00\",\"2020-03-09T00:00:00\",\"2020-03-08T00:00:00\",\"2020-03-07T00:00:00\",\"2020-03-06T00:00:00\",\"2020-03-05T00:00:00\",\"2020-03-04T00:00:00\",\"2020-03-03T00:00:00\",\"2020-03-02T00:00:00\",\"2020-03-01T00:00:00\",\"2020-02-29T00:00:00\",\"2020-02-28T00:00:00\",\"2020-02-27T00:00:00\",\"2020-02-26T00:00:00\",\"2020-02-25T00:00:00\",\"2020-02-24T00:00:00\",\"2020-02-23T00:00:00\",\"2020-02-22T00:00:00\",\"2020-02-21T00:00:00\",\"2020-02-20T00:00:00\",\"2020-02-19T00:00:00\",\"2020-02-18T00:00:00\",\"2020-02-17T00:00:00\",\"2020-02-16T00:00:00\",\"2020-02-15T00:00:00\",\"2020-02-14T00:00:00\",\"2020-02-13T00:00:00\",\"2020-02-12T00:00:00\",\"2020-02-11T00:00:00\",\"2020-02-10T00:00:00\",\"2020-02-09T00:00:00\",\"2020-02-08T00:00:00\",\"2020-02-07T00:00:00\",\"2020-02-06T00:00:00\",\"2020-02-05T00:00:00\",\"2020-02-04T00:00:00\",\"2020-02-03T00:00:00\",\"2020-02-02T00:00:00\",\"2020-02-01T00:00:00\",\"2020-01-31T00:00:00\",\"2020-01-30T00:00:00\",\"2020-01-29T00:00:00\",\"2020-01-28T00:00:00\",\"2020-01-27T00:00:00\",\"2020-01-26T00:00:00\",\"2020-01-25T00:00:00\",\"2020-01-24T00:00:00\",\"2020-01-23T00:00:00\",\"2020-01-22T00:00:00\",\"2020-01-21T00:00:00\",\"2020-01-20T00:00:00\",\"2020-01-19T00:00:00\",\"2020-01-18T00:00:00\",\"2020-01-17T00:00:00\",\"2020-01-16T00:00:00\",\"2020-01-15T00:00:00\",\"2020-01-14T00:00:00\",\"2020-01-13T00:00:00\",\"2020-01-12T00:00:00\",\"2020-01-11T00:00:00\",\"2020-01-10T00:00:00\",\"2020-01-09T00:00:00\",\"2020-01-08T00:00:00\",\"2020-01-07T00:00:00\",\"2020-01-06T00:00:00\",\"2020-01-05T00:00:00\",\"2020-01-04T00:00:00\",\"2020-01-03T00:00:00\",\"2020-01-02T00:00:00\",\"2020-01-01T00:00:00\",\"2019-12-31T00:00:00\",\"2019-12-30T00:00:00\",\"2019-12-29T00:00:00\",\"2019-12-28T00:00:00\",\"2019-12-27T00:00:00\",\"2019-12-26T00:00:00\",\"2019-12-25T00:00:00\",\"2019-12-24T00:00:00\",\"2019-12-23T00:00:00\",\"2019-12-22T00:00:00\",\"2019-12-21T00:00:00\",\"2019-12-20T00:00:00\",\"2019-12-19T00:00:00\",\"2019-12-18T00:00:00\",\"2019-12-17T00:00:00\",\"2019-12-16T00:00:00\",\"2019-12-15T00:00:00\",\"2019-12-14T00:00:00\",\"2019-12-13T00:00:00\",\"2019-12-12T00:00:00\",\"2019-12-11T00:00:00\",\"2019-12-10T00:00:00\",\"2019-12-09T00:00:00\",\"2019-12-08T00:00:00\",\"2019-12-07T00:00:00\",\"2019-12-06T00:00:00\",\"2019-12-05T00:00:00\",\"2019-12-04T00:00:00\",\"2019-12-03T00:00:00\",\"2019-12-02T00:00:00\",\"2019-12-01T00:00:00\",\"2019-11-30T00:00:00\",\"2019-11-29T00:00:00\",\"2019-11-28T00:00:00\",\"2019-11-27T00:00:00\",\"2019-11-26T00:00:00\",\"2019-11-25T00:00:00\",\"2019-11-24T00:00:00\",\"2019-11-23T00:00:00\",\"2019-11-22T00:00:00\",\"2019-11-21T00:00:00\",\"2019-11-20T00:00:00\",\"2019-11-19T00:00:00\",\"2019-11-18T00:00:00\",\"2019-11-17T00:00:00\",\"2019-11-16T00:00:00\",\"2019-11-15T00:00:00\",\"2019-11-14T00:00:00\",\"2019-11-13T00:00:00\",\"2019-11-12T00:00:00\",\"2019-11-11T00:00:00\",\"2019-11-10T00:00:00\",\"2019-11-09T00:00:00\",\"2019-11-08T00:00:00\",\"2019-11-07T00:00:00\",\"2019-11-06T00:00:00\",\"2019-11-05T00:00:00\",\"2019-11-04T00:00:00\",\"2019-11-03T00:00:00\",\"2019-11-02T00:00:00\",\"2019-11-01T00:00:00\",\"2019-10-31T00:00:00\",\"2019-10-30T00:00:00\",\"2019-10-29T00:00:00\",\"2019-10-28T00:00:00\",\"2019-10-27T00:00:00\",\"2019-10-26T00:00:00\",\"2019-10-25T00:00:00\",\"2019-10-24T00:00:00\",\"2019-10-23T00:00:00\",\"2019-10-22T00:00:00\",\"2019-10-21T00:00:00\",\"2019-10-20T00:00:00\",\"2019-10-19T00:00:00\",\"2019-10-18T00:00:00\",\"2019-10-17T00:00:00\",\"2019-10-16T00:00:00\",\"2019-10-15T00:00:00\",\"2019-10-14T00:00:00\",\"2019-10-13T00:00:00\",\"2019-10-12T00:00:00\",\"2019-10-11T00:00:00\",\"2019-10-10T00:00:00\",\"2019-10-09T00:00:00\",\"2019-10-08T00:00:00\",\"2019-10-07T00:00:00\",\"2019-10-06T00:00:00\",\"2019-10-05T00:00:00\",\"2019-10-04T00:00:00\",\"2019-10-03T00:00:00\",\"2019-10-02T00:00:00\",\"2019-10-01T00:00:00\",\"2019-09-30T00:00:00\",\"2019-09-29T00:00:00\",\"2019-09-28T00:00:00\",\"2019-09-27T00:00:00\",\"2019-09-26T00:00:00\",\"2019-09-25T00:00:00\",\"2019-09-24T00:00:00\",\"2019-09-23T00:00:00\",\"2019-09-22T00:00:00\",\"2019-09-21T00:00:00\",\"2019-09-20T00:00:00\",\"2019-09-19T00:00:00\",\"2019-09-18T00:00:00\",\"2019-09-17T00:00:00\",\"2019-09-16T00:00:00\",\"2019-09-15T00:00:00\",\"2019-09-14T00:00:00\",\"2019-09-13T00:00:00\",\"2019-09-12T00:00:00\",\"2019-09-11T00:00:00\",\"2019-09-10T00:00:00\",\"2019-09-09T00:00:00\",\"2019-09-08T00:00:00\",\"2019-09-07T00:00:00\",\"2019-09-06T00:00:00\",\"2019-09-05T00:00:00\",\"2019-09-04T00:00:00\",\"2019-09-03T00:00:00\",\"2019-09-02T00:00:00\",\"2019-09-01T00:00:00\",\"2019-08-31T00:00:00\",\"2019-08-30T00:00:00\",\"2019-08-29T00:00:00\",\"2019-08-28T00:00:00\",\"2019-08-27T00:00:00\",\"2019-08-26T00:00:00\",\"2019-08-25T00:00:00\",\"2019-08-24T00:00:00\",\"2019-08-23T00:00:00\",\"2019-08-22T00:00:00\",\"2019-08-21T00:00:00\",\"2019-08-20T00:00:00\",\"2019-08-19T00:00:00\",\"2019-08-18T00:00:00\",\"2019-08-17T00:00:00\",\"2019-08-16T00:00:00\",\"2019-08-15T00:00:00\",\"2019-08-14T00:00:00\",\"2019-08-13T00:00:00\",\"2019-08-12T00:00:00\",\"2019-08-11T00:00:00\",\"2019-08-10T00:00:00\",\"2019-08-09T00:00:00\",\"2019-08-08T00:00:00\",\"2019-08-07T00:00:00\",\"2019-08-06T00:00:00\",\"2019-08-05T00:00:00\",\"2019-08-04T00:00:00\",\"2019-08-03T00:00:00\",\"2019-08-02T00:00:00\",\"2019-08-01T00:00:00\",\"2019-07-31T00:00:00\",\"2019-07-30T00:00:00\",\"2019-07-29T00:00:00\",\"2019-07-28T00:00:00\",\"2019-07-27T00:00:00\",\"2019-07-26T00:00:00\",\"2019-07-25T00:00:00\",\"2019-07-24T00:00:00\",\"2019-07-23T00:00:00\",\"2019-07-22T00:00:00\",\"2019-07-21T00:00:00\",\"2019-07-20T00:00:00\",\"2019-07-19T00:00:00\",\"2019-07-18T00:00:00\",\"2019-07-17T00:00:00\",\"2019-07-16T00:00:00\",\"2019-07-15T00:00:00\",\"2019-07-14T00:00:00\",\"2019-07-13T00:00:00\",\"2019-07-12T00:00:00\",\"2019-07-11T00:00:00\",\"2019-07-10T00:00:00\",\"2019-07-09T00:00:00\",\"2019-07-08T00:00:00\",\"2019-07-07T00:00:00\",\"2019-07-06T00:00:00\",\"2019-07-05T00:00:00\",\"2019-07-04T00:00:00\",\"2019-07-03T00:00:00\",\"2019-07-02T00:00:00\",\"2019-07-01T00:00:00\",\"2019-06-30T00:00:00\",\"2019-06-29T00:00:00\",\"2019-06-28T00:00:00\",\"2019-06-27T00:00:00\",\"2019-06-26T00:00:00\",\"2019-06-25T00:00:00\",\"2019-06-24T00:00:00\",\"2019-06-23T00:00:00\",\"2019-06-22T00:00:00\",\"2019-06-21T00:00:00\",\"2019-06-20T00:00:00\",\"2019-06-19T00:00:00\",\"2019-06-18T00:00:00\",\"2019-06-17T00:00:00\",\"2019-06-16T00:00:00\",\"2019-06-15T00:00:00\",\"2019-06-14T00:00:00\",\"2019-06-13T00:00:00\",\"2019-06-12T00:00:00\",\"2019-06-11T00:00:00\",\"2019-06-10T00:00:00\",\"2019-06-09T00:00:00\",\"2019-06-08T00:00:00\",\"2019-06-07T00:00:00\",\"2019-06-06T00:00:00\",\"2019-06-05T00:00:00\",\"2019-06-04T00:00:00\",\"2019-06-03T00:00:00\",\"2019-06-02T00:00:00\",\"2019-06-01T00:00:00\",\"2019-05-31T00:00:00\",\"2019-05-30T00:00:00\",\"2019-05-29T00:00:00\",\"2019-05-28T00:00:00\",\"2019-05-27T00:00:00\",\"2019-05-26T00:00:00\",\"2019-05-25T00:00:00\",\"2019-05-24T00:00:00\",\"2019-05-23T00:00:00\",\"2019-05-22T00:00:00\",\"2019-05-21T00:00:00\",\"2019-05-20T00:00:00\",\"2019-05-19T00:00:00\",\"2019-05-18T00:00:00\",\"2019-05-17T00:00:00\",\"2019-05-16T00:00:00\",\"2019-05-15T00:00:00\",\"2019-05-14T00:00:00\",\"2019-05-13T00:00:00\",\"2019-05-12T00:00:00\",\"2019-05-11T00:00:00\",\"2019-05-10T00:00:00\",\"2019-05-09T00:00:00\",\"2019-05-08T00:00:00\",\"2019-05-07T00:00:00\",\"2019-05-06T00:00:00\",\"2019-05-05T00:00:00\",\"2019-05-04T00:00:00\",\"2019-05-03T00:00:00\",\"2019-05-02T00:00:00\",\"2019-05-01T00:00:00\",\"2019-04-30T00:00:00\",\"2019-04-29T00:00:00\",\"2019-04-28T00:00:00\",\"2019-04-27T00:00:00\",\"2019-04-26T00:00:00\",\"2019-04-25T00:00:00\",\"2019-04-24T00:00:00\",\"2019-04-23T00:00:00\",\"2019-04-22T00:00:00\",\"2019-04-21T00:00:00\",\"2019-04-20T00:00:00\",\"2019-04-19T00:00:00\",\"2019-04-18T00:00:00\",\"2019-04-17T00:00:00\",\"2019-04-16T00:00:00\",\"2019-04-15T00:00:00\",\"2019-04-14T00:00:00\",\"2019-04-13T00:00:00\",\"2019-04-12T00:00:00\",\"2019-04-11T00:00:00\",\"2019-04-10T00:00:00\",\"2019-04-09T00:00:00\",\"2019-04-08T00:00:00\",\"2019-04-07T00:00:00\",\"2019-04-06T00:00:00\",\"2019-04-05T00:00:00\",\"2019-04-04T00:00:00\",\"2019-04-03T00:00:00\",\"2019-04-02T00:00:00\",\"2019-04-01T00:00:00\",\"2019-03-31T00:00:00\",\"2019-03-30T00:00:00\",\"2019-03-29T00:00:00\",\"2019-03-28T00:00:00\",\"2019-03-27T00:00:00\",\"2019-03-26T00:00:00\",\"2019-03-25T00:00:00\",\"2019-03-24T00:00:00\",\"2019-03-23T00:00:00\",\"2019-03-22T00:00:00\",\"2019-03-21T00:00:00\",\"2019-03-20T00:00:00\",\"2019-03-19T00:00:00\",\"2019-03-18T00:00:00\",\"2019-03-17T00:00:00\",\"2019-03-16T00:00:00\",\"2019-03-15T00:00:00\",\"2019-03-14T00:00:00\",\"2019-03-13T00:00:00\",\"2019-03-12T00:00:00\",\"2019-03-11T00:00:00\",\"2019-03-10T00:00:00\",\"2019-03-09T00:00:00\",\"2019-03-08T00:00:00\",\"2019-03-07T00:00:00\",\"2019-03-06T00:00:00\",\"2019-03-05T00:00:00\",\"2019-03-04T00:00:00\",\"2019-03-03T00:00:00\",\"2019-03-02T00:00:00\",\"2019-03-01T00:00:00\",\"2019-02-28T00:00:00\",\"2019-02-27T00:00:00\",\"2019-02-26T00:00:00\",\"2019-02-25T00:00:00\",\"2019-02-24T00:00:00\",\"2019-02-23T00:00:00\",\"2019-02-22T00:00:00\",\"2019-02-21T00:00:00\",\"2019-02-20T00:00:00\",\"2019-02-19T00:00:00\",\"2019-02-18T00:00:00\",\"2019-02-17T00:00:00\",\"2019-02-16T00:00:00\",\"2019-02-15T00:00:00\",\"2019-02-14T00:00:00\",\"2019-02-13T00:00:00\",\"2019-02-12T00:00:00\",\"2019-02-11T00:00:00\",\"2019-02-10T00:00:00\",\"2019-02-09T00:00:00\",\"2019-02-08T00:00:00\",\"2019-02-07T00:00:00\",\"2019-02-06T00:00:00\",\"2019-02-05T00:00:00\",\"2019-02-04T00:00:00\",\"2019-02-03T00:00:00\",\"2019-02-02T00:00:00\",\"2019-02-01T00:00:00\",\"2019-01-31T00:00:00\",\"2019-01-30T00:00:00\",\"2019-01-29T00:00:00\",\"2019-01-28T00:00:00\",\"2019-01-27T00:00:00\",\"2019-01-26T00:00:00\",\"2019-01-25T00:00:00\",\"2019-01-24T00:00:00\",\"2019-01-23T00:00:00\",\"2019-01-22T00:00:00\",\"2019-01-21T00:00:00\",\"2019-01-20T00:00:00\",\"2019-01-19T00:00:00\",\"2019-01-18T00:00:00\",\"2019-01-17T00:00:00\",\"2019-01-16T00:00:00\",\"2019-01-15T00:00:00\",\"2019-01-14T00:00:00\",\"2019-01-13T00:00:00\",\"2019-01-12T00:00:00\",\"2019-01-11T00:00:00\",\"2019-01-10T00:00:00\",\"2019-01-09T00:00:00\",\"2019-01-08T00:00:00\",\"2019-01-07T00:00:00\",\"2019-01-06T00:00:00\",\"2019-01-05T00:00:00\",\"2019-01-04T00:00:00\",\"2019-01-03T00:00:00\",\"2019-01-02T00:00:00\",\"2019-01-01T00:00:00\",\"2018-12-31T00:00:00\",\"2018-12-30T00:00:00\",\"2018-12-29T00:00:00\",\"2018-12-28T00:00:00\",\"2018-12-27T00:00:00\",\"2018-12-26T00:00:00\",\"2018-12-25T00:00:00\",\"2018-12-24T00:00:00\",\"2018-12-23T00:00:00\",\"2018-12-22T00:00:00\",\"2018-12-21T00:00:00\",\"2018-12-20T00:00:00\",\"2018-12-19T00:00:00\",\"2018-12-18T00:00:00\",\"2018-12-17T00:00:00\",\"2018-12-16T00:00:00\",\"2018-12-15T00:00:00\",\"2018-12-14T00:00:00\",\"2018-12-13T00:00:00\",\"2018-12-12T00:00:00\",\"2018-12-11T00:00:00\",\"2018-12-10T00:00:00\",\"2018-12-09T00:00:00\",\"2018-12-08T00:00:00\",\"2018-12-07T00:00:00\",\"2018-12-06T00:00:00\",\"2018-12-05T00:00:00\",\"2018-12-04T00:00:00\",\"2018-12-03T00:00:00\",\"2018-12-02T00:00:00\",\"2018-12-01T00:00:00\",\"2018-11-30T00:00:00\",\"2018-11-29T00:00:00\",\"2018-11-28T00:00:00\",\"2018-11-27T00:00:00\",\"2018-11-26T00:00:00\",\"2018-11-25T00:00:00\",\"2018-11-24T00:00:00\",\"2018-11-23T00:00:00\",\"2018-11-22T00:00:00\",\"2018-11-21T00:00:00\",\"2018-11-20T00:00:00\",\"2018-11-19T00:00:00\",\"2018-11-18T00:00:00\",\"2018-11-17T00:00:00\",\"2018-11-16T00:00:00\",\"2018-11-15T00:00:00\",\"2018-11-14T00:00:00\",\"2018-11-13T00:00:00\",\"2018-11-12T00:00:00\",\"2018-11-11T00:00:00\",\"2018-11-10T00:00:00\",\"2018-11-09T00:00:00\",\"2018-11-08T00:00:00\",\"2018-11-07T00:00:00\",\"2018-11-06T00:00:00\",\"2018-11-05T00:00:00\",\"2018-11-04T00:00:00\",\"2018-11-03T00:00:00\",\"2018-11-02T00:00:00\",\"2018-11-01T00:00:00\",\"2018-10-31T00:00:00\",\"2018-10-30T00:00:00\",\"2018-10-29T00:00:00\",\"2018-10-28T00:00:00\",\"2018-10-27T00:00:00\",\"2018-10-26T00:00:00\",\"2018-10-25T00:00:00\",\"2018-10-24T00:00:00\",\"2018-10-23T00:00:00\",\"2018-10-22T00:00:00\",\"2018-10-21T00:00:00\",\"2018-10-20T00:00:00\",\"2018-10-19T00:00:00\",\"2018-10-18T00:00:00\",\"2018-10-17T00:00:00\",\"2018-10-16T00:00:00\",\"2018-10-15T00:00:00\",\"2018-10-14T00:00:00\",\"2018-10-13T00:00:00\",\"2018-10-12T00:00:00\",\"2018-10-11T00:00:00\",\"2018-10-10T00:00:00\",\"2018-10-09T00:00:00\",\"2018-10-08T00:00:00\",\"2018-10-07T00:00:00\",\"2018-10-06T00:00:00\",\"2018-10-05T00:00:00\",\"2018-10-04T00:00:00\",\"2018-10-03T00:00:00\",\"2018-10-02T00:00:00\",\"2018-10-01T00:00:00\",\"2018-09-30T00:00:00\",\"2018-09-29T00:00:00\",\"2018-09-28T00:00:00\",\"2018-09-27T00:00:00\",\"2018-09-26T00:00:00\",\"2018-09-25T00:00:00\",\"2018-09-24T00:00:00\",\"2018-09-23T00:00:00\",\"2018-09-22T00:00:00\",\"2018-09-21T00:00:00\",\"2018-09-20T00:00:00\",\"2018-09-19T00:00:00\",\"2018-09-18T00:00:00\",\"2018-09-17T00:00:00\",\"2018-09-16T00:00:00\",\"2018-09-15T00:00:00\",\"2018-09-14T00:00:00\",\"2018-09-13T00:00:00\",\"2018-09-12T00:00:00\",\"2018-09-11T00:00:00\",\"2018-09-10T00:00:00\",\"2018-09-09T00:00:00\",\"2018-09-08T00:00:00\",\"2018-09-07T00:00:00\",\"2018-09-06T00:00:00\",\"2018-09-05T00:00:00\",\"2018-09-04T00:00:00\",\"2018-09-03T00:00:00\",\"2018-09-02T00:00:00\",\"2018-09-01T00:00:00\",\"2018-08-31T00:00:00\",\"2018-08-30T00:00:00\",\"2018-08-29T00:00:00\",\"2018-08-28T00:00:00\",\"2018-08-27T00:00:00\",\"2018-08-26T00:00:00\",\"2018-08-25T00:00:00\",\"2018-08-24T00:00:00\",\"2018-08-23T00:00:00\",\"2018-08-22T00:00:00\",\"2018-08-21T00:00:00\",\"2018-08-20T00:00:00\",\"2018-08-19T00:00:00\",\"2018-08-18T00:00:00\",\"2018-08-17T00:00:00\",\"2018-08-16T00:00:00\",\"2018-08-15T00:00:00\",\"2018-08-14T00:00:00\",\"2018-08-13T00:00:00\",\"2018-08-12T00:00:00\",\"2018-08-11T00:00:00\",\"2018-08-10T00:00:00\",\"2018-08-09T00:00:00\",\"2018-08-08T00:00:00\",\"2018-08-07T00:00:00\",\"2018-08-06T00:00:00\",\"2018-08-05T00:00:00\",\"2018-08-04T00:00:00\",\"2018-08-03T00:00:00\",\"2018-08-02T00:00:00\",\"2018-08-01T00:00:00\",\"2018-07-31T00:00:00\",\"2018-07-30T00:00:00\",\"2018-07-29T00:00:00\",\"2018-07-28T00:00:00\",\"2018-07-27T00:00:00\",\"2018-07-26T00:00:00\",\"2018-07-25T00:00:00\",\"2018-07-24T00:00:00\",\"2018-07-23T00:00:00\",\"2018-07-22T00:00:00\",\"2018-07-21T00:00:00\",\"2018-07-20T00:00:00\",\"2018-07-19T00:00:00\",\"2018-07-18T00:00:00\",\"2018-07-17T00:00:00\",\"2018-07-16T00:00:00\",\"2018-07-15T00:00:00\",\"2018-07-14T00:00:00\",\"2018-07-13T00:00:00\",\"2018-07-12T00:00:00\",\"2018-07-11T00:00:00\",\"2018-07-10T00:00:00\",\"2018-07-09T00:00:00\",\"2018-07-08T00:00:00\",\"2018-07-07T00:00:00\",\"2018-07-06T00:00:00\",\"2018-07-05T00:00:00\",\"2018-07-04T00:00:00\",\"2018-07-03T00:00:00\",\"2018-07-02T00:00:00\",\"2018-07-01T00:00:00\",\"2018-06-30T00:00:00\",\"2018-06-29T00:00:00\",\"2018-06-28T00:00:00\",\"2018-06-27T00:00:00\",\"2018-06-26T00:00:00\",\"2018-06-25T00:00:00\",\"2018-06-24T00:00:00\",\"2018-06-23T00:00:00\",\"2018-06-22T00:00:00\",\"2018-06-21T00:00:00\",\"2018-06-20T00:00:00\",\"2018-06-19T00:00:00\",\"2018-06-18T00:00:00\",\"2018-06-17T00:00:00\",\"2018-06-16T00:00:00\",\"2018-06-15T00:00:00\",\"2018-06-14T00:00:00\",\"2018-06-13T00:00:00\",\"2018-06-12T00:00:00\",\"2018-06-11T00:00:00\",\"2018-06-10T00:00:00\",\"2018-06-09T00:00:00\",\"2018-06-08T00:00:00\",\"2018-06-07T00:00:00\",\"2018-06-06T00:00:00\",\"2018-06-05T00:00:00\",\"2018-06-04T00:00:00\",\"2018-06-03T00:00:00\",\"2018-06-02T00:00:00\",\"2018-06-01T00:00:00\",\"2018-05-31T00:00:00\",\"2018-05-30T00:00:00\",\"2018-05-29T00:00:00\",\"2018-05-28T00:00:00\",\"2018-05-27T00:00:00\",\"2018-05-26T00:00:00\",\"2018-05-25T00:00:00\",\"2018-05-24T00:00:00\",\"2018-05-23T00:00:00\",\"2018-05-22T00:00:00\",\"2018-05-21T00:00:00\",\"2018-05-20T00:00:00\",\"2018-05-19T00:00:00\",\"2018-05-18T00:00:00\",\"2018-05-17T00:00:00\",\"2018-05-16T00:00:00\",\"2018-05-15T00:00:00\",\"2018-05-14T00:00:00\",\"2018-05-13T00:00:00\",\"2018-05-12T00:00:00\",\"2018-05-11T00:00:00\",\"2018-05-10T00:00:00\",\"2018-05-09T00:00:00\",\"2018-05-08T00:00:00\",\"2018-05-07T00:00:00\",\"2018-05-06T00:00:00\",\"2018-05-05T00:00:00\",\"2018-05-04T00:00:00\",\"2018-05-03T00:00:00\",\"2018-05-02T00:00:00\",\"2018-05-01T00:00:00\",\"2018-04-30T00:00:00\",\"2018-04-29T00:00:00\",\"2018-04-28T00:00:00\",\"2018-04-27T00:00:00\",\"2018-04-26T00:00:00\",\"2018-04-25T00:00:00\",\"2018-04-24T00:00:00\",\"2018-04-23T00:00:00\",\"2018-04-22T00:00:00\",\"2018-04-21T00:00:00\",\"2018-04-20T00:00:00\",\"2018-04-19T00:00:00\",\"2018-04-18T00:00:00\",\"2018-04-17T00:00:00\",\"2018-04-16T00:00:00\",\"2018-04-15T00:00:00\",\"2018-04-14T00:00:00\",\"2018-04-13T00:00:00\",\"2018-04-12T00:00:00\",\"2018-04-11T00:00:00\",\"2018-04-10T00:00:00\",\"2018-04-09T00:00:00\",\"2018-04-08T00:00:00\",\"2018-04-07T00:00:00\",\"2018-04-06T00:00:00\",\"2018-04-05T00:00:00\",\"2018-04-04T00:00:00\",\"2018-04-03T00:00:00\",\"2018-04-02T00:00:00\",\"2018-04-01T00:00:00\",\"2018-03-31T00:00:00\",\"2018-03-30T00:00:00\",\"2018-03-29T00:00:00\",\"2018-03-28T00:00:00\",\"2018-03-27T00:00:00\",\"2018-03-26T00:00:00\",\"2018-03-25T00:00:00\",\"2018-03-24T00:00:00\",\"2018-03-23T00:00:00\",\"2018-03-22T00:00:00\",\"2018-03-21T00:00:00\",\"2018-03-20T00:00:00\",\"2018-03-19T00:00:00\",\"2018-03-18T00:00:00\",\"2018-03-17T00:00:00\",\"2018-03-16T00:00:00\",\"2018-03-15T00:00:00\",\"2018-03-14T00:00:00\",\"2018-03-13T00:00:00\",\"2018-03-12T00:00:00\",\"2018-03-11T00:00:00\",\"2018-03-10T00:00:00\",\"2018-03-09T00:00:00\",\"2018-03-08T00:00:00\",\"2018-03-07T00:00:00\",\"2018-03-06T00:00:00\",\"2018-03-05T00:00:00\",\"2018-03-04T00:00:00\",\"2018-03-03T00:00:00\",\"2018-03-02T00:00:00\",\"2018-03-01T00:00:00\",\"2018-02-28T00:00:00\",\"2018-02-27T00:00:00\",\"2018-02-26T00:00:00\",\"2018-02-25T00:00:00\",\"2018-02-24T00:00:00\",\"2018-02-23T00:00:00\",\"2018-02-22T00:00:00\",\"2018-02-21T00:00:00\",\"2018-02-20T00:00:00\",\"2018-02-19T00:00:00\",\"2018-02-18T00:00:00\",\"2018-02-17T00:00:00\",\"2018-02-16T00:00:00\",\"2018-02-15T00:00:00\",\"2018-02-14T00:00:00\",\"2018-02-13T00:00:00\",\"2018-02-12T00:00:00\",\"2018-02-11T00:00:00\",\"2018-02-10T00:00:00\",\"2018-02-09T00:00:00\",\"2018-02-08T00:00:00\",\"2018-02-07T00:00:00\",\"2018-02-06T00:00:00\",\"2018-02-05T00:00:00\",\"2018-02-04T00:00:00\",\"2018-02-03T00:00:00\",\"2018-02-02T00:00:00\",\"2018-02-01T00:00:00\",\"2018-01-31T00:00:00\",\"2018-01-30T00:00:00\",\"2018-01-29T00:00:00\",\"2018-01-28T00:00:00\",\"2018-01-27T00:00:00\",\"2018-01-26T00:00:00\",\"2018-01-25T00:00:00\",\"2018-01-24T00:00:00\",\"2018-01-23T00:00:00\",\"2018-01-22T00:00:00\",\"2018-01-21T00:00:00\",\"2018-01-20T00:00:00\",\"2018-01-19T00:00:00\",\"2018-01-18T00:00:00\",\"2018-01-17T00:00:00\",\"2018-01-16T00:00:00\",\"2018-01-15T00:00:00\",\"2018-01-14T00:00:00\",\"2018-01-13T00:00:00\",\"2018-01-12T00:00:00\",\"2018-01-11T00:00:00\",\"2018-01-10T00:00:00\",\"2018-01-09T00:00:00\",\"2018-01-08T00:00:00\",\"2018-01-07T00:00:00\",\"2018-01-06T00:00:00\",\"2018-01-05T00:00:00\",\"2018-01-04T00:00:00\",\"2018-01-03T00:00:00\",\"2018-01-02T00:00:00\",\"2018-01-01T00:00:00\",\"2017-12-31T00:00:00\",\"2017-12-30T00:00:00\",\"2017-12-29T00:00:00\",\"2017-12-28T00:00:00\",\"2017-12-27T00:00:00\",\"2017-12-26T00:00:00\",\"2017-12-25T00:00:00\",\"2017-12-24T00:00:00\",\"2017-12-23T00:00:00\",\"2017-12-22T00:00:00\",\"2017-12-21T00:00:00\",\"2017-12-20T00:00:00\",\"2017-12-19T00:00:00\",\"2017-12-18T00:00:00\",\"2017-12-17T00:00:00\",\"2017-12-16T00:00:00\",\"2017-12-15T00:00:00\",\"2017-12-14T00:00:00\",\"2017-12-13T00:00:00\",\"2017-12-12T00:00:00\",\"2017-12-11T00:00:00\",\"2017-12-10T00:00:00\",\"2017-12-09T00:00:00\",\"2017-12-08T00:00:00\",\"2017-12-07T00:00:00\",\"2017-12-06T00:00:00\",\"2017-12-05T00:00:00\",\"2017-12-04T00:00:00\",\"2017-12-03T00:00:00\",\"2017-12-02T00:00:00\",\"2017-12-01T00:00:00\",\"2017-11-30T00:00:00\",\"2017-11-29T00:00:00\",\"2017-11-28T00:00:00\",\"2017-11-27T00:00:00\",\"2017-11-26T00:00:00\",\"2017-11-25T00:00:00\",\"2017-11-24T00:00:00\",\"2017-11-23T00:00:00\",\"2017-11-22T00:00:00\",\"2017-11-21T00:00:00\",\"2017-11-20T00:00:00\",\"2017-11-19T00:00:00\",\"2017-11-18T00:00:00\",\"2017-11-17T00:00:00\",\"2017-11-16T00:00:00\",\"2017-11-15T00:00:00\",\"2017-11-14T00:00:00\",\"2017-11-13T00:00:00\",\"2017-11-12T00:00:00\",\"2017-11-11T00:00:00\",\"2017-11-10T00:00:00\",\"2017-11-09T00:00:00\",\"2017-11-08T00:00:00\",\"2017-11-07T00:00:00\",\"2017-11-06T00:00:00\",\"2017-11-05T00:00:00\",\"2017-11-04T00:00:00\",\"2017-11-03T00:00:00\",\"2017-11-02T00:00:00\",\"2017-11-01T00:00:00\",\"2017-10-31T00:00:00\",\"2017-10-30T00:00:00\",\"2017-10-29T00:00:00\",\"2017-10-28T00:00:00\",\"2017-10-27T00:00:00\",\"2017-10-26T00:00:00\",\"2017-10-25T00:00:00\",\"2017-10-24T00:00:00\",\"2017-10-23T00:00:00\",\"2017-10-22T00:00:00\",\"2017-10-21T00:00:00\",\"2017-10-20T00:00:00\",\"2017-10-19T00:00:00\",\"2017-10-18T00:00:00\",\"2017-10-17T00:00:00\",\"2017-10-16T00:00:00\",\"2017-10-15T00:00:00\",\"2017-10-14T00:00:00\",\"2017-10-13T00:00:00\",\"2017-10-12T00:00:00\",\"2017-10-11T00:00:00\",\"2017-10-10T00:00:00\",\"2017-10-09T00:00:00\",\"2017-10-08T00:00:00\",\"2017-10-07T00:00:00\",\"2017-10-06T00:00:00\",\"2017-10-05T00:00:00\",\"2017-10-04T00:00:00\",\"2017-10-03T00:00:00\",\"2017-10-02T00:00:00\",\"2017-10-01T00:00:00\",\"2017-09-30T00:00:00\",\"2017-09-29T00:00:00\",\"2017-09-28T00:00:00\",\"2017-09-27T00:00:00\",\"2017-09-26T00:00:00\",\"2017-09-25T00:00:00\",\"2017-09-24T00:00:00\",\"2017-09-23T00:00:00\",\"2017-09-22T00:00:00\",\"2017-09-21T00:00:00\",\"2017-09-20T00:00:00\",\"2017-09-19T00:00:00\",\"2017-09-18T00:00:00\",\"2017-09-17T00:00:00\",\"2017-09-16T00:00:00\",\"2017-09-15T00:00:00\",\"2017-09-14T00:00:00\",\"2017-09-13T00:00:00\",\"2017-09-12T00:00:00\",\"2017-09-11T00:00:00\",\"2017-09-10T00:00:00\",\"2017-09-09T00:00:00\",\"2017-09-08T00:00:00\",\"2017-09-07T00:00:00\",\"2017-09-06T00:00:00\",\"2017-09-05T00:00:00\",\"2017-09-04T00:00:00\",\"2017-09-03T00:00:00\",\"2017-09-02T00:00:00\",\"2017-09-01T00:00:00\",\"2017-08-31T00:00:00\",\"2017-08-30T00:00:00\",\"2017-08-29T00:00:00\",\"2017-08-28T00:00:00\",\"2017-08-27T00:00:00\",\"2017-08-26T00:00:00\",\"2017-08-25T00:00:00\",\"2017-08-24T00:00:00\",\"2017-08-23T00:00:00\",\"2017-08-22T00:00:00\",\"2017-08-21T00:00:00\",\"2017-08-20T00:00:00\",\"2017-08-19T00:00:00\",\"2017-08-18T00:00:00\",\"2017-08-17T00:00:00\",\"2017-08-16T00:00:00\",\"2017-08-15T00:00:00\",\"2017-08-14T00:00:00\",\"2017-08-13T00:00:00\",\"2017-08-12T00:00:00\",\"2017-08-11T00:00:00\",\"2017-08-10T00:00:00\",\"2017-08-09T00:00:00\",\"2017-08-08T00:00:00\",\"2017-08-07T00:00:00\",\"2017-08-06T00:00:00\",\"2017-08-05T00:00:00\",\"2017-08-04T00:00:00\",\"2017-08-03T00:00:00\",\"2017-08-02T00:00:00\",\"2017-08-01T00:00:00\",\"2017-07-31T00:00:00\",\"2017-07-30T00:00:00\",\"2017-07-29T00:00:00\",\"2017-07-28T00:00:00\",\"2017-07-27T00:00:00\",\"2017-07-26T00:00:00\",\"2017-07-25T00:00:00\",\"2017-07-24T00:00:00\",\"2017-07-23T00:00:00\",\"2017-07-22T00:00:00\",\"2017-07-21T00:00:00\",\"2017-07-20T00:00:00\",\"2017-07-19T00:00:00\",\"2017-07-18T00:00:00\",\"2017-07-17T00:00:00\",\"2017-07-16T00:00:00\",\"2017-07-15T00:00:00\",\"2017-07-14T00:00:00\",\"2017-07-13T00:00:00\",\"2017-07-12T00:00:00\",\"2017-07-11T00:00:00\",\"2017-07-10T00:00:00\",\"2017-07-09T00:00:00\",\"2017-07-08T00:00:00\",\"2017-07-07T00:00:00\",\"2017-07-06T00:00:00\",\"2017-07-05T00:00:00\",\"2017-07-04T00:00:00\",\"2017-07-03T00:00:00\",\"2017-07-02T00:00:00\",\"2017-07-01T00:00:00\",\"2017-06-30T00:00:00\",\"2017-06-29T00:00:00\",\"2017-06-28T00:00:00\",\"2017-06-27T00:00:00\",\"2017-06-26T00:00:00\",\"2017-06-25T00:00:00\",\"2017-06-24T00:00:00\",\"2017-06-23T00:00:00\",\"2017-06-22T00:00:00\",\"2017-06-21T00:00:00\",\"2017-06-20T00:00:00\",\"2017-06-19T00:00:00\",\"2017-06-18T00:00:00\",\"2017-06-17T00:00:00\",\"2017-06-16T00:00:00\",\"2017-06-15T00:00:00\",\"2017-06-14T00:00:00\",\"2017-06-13T00:00:00\",\"2017-06-12T00:00:00\",\"2017-06-11T00:00:00\",\"2017-06-10T00:00:00\",\"2017-06-09T00:00:00\",\"2017-06-08T00:00:00\",\"2017-06-07T00:00:00\",\"2017-06-06T00:00:00\",\"2017-06-05T00:00:00\",\"2017-06-04T00:00:00\",\"2017-06-03T00:00:00\",\"2017-06-02T00:00:00\",\"2017-06-01T00:00:00\",\"2017-05-31T00:00:00\",\"2017-05-30T00:00:00\",\"2017-05-29T00:00:00\",\"2017-05-28T00:00:00\",\"2017-05-27T00:00:00\",\"2017-05-26T00:00:00\",\"2017-05-25T00:00:00\",\"2017-05-24T00:00:00\",\"2017-05-23T00:00:00\",\"2017-05-22T00:00:00\",\"2017-05-21T00:00:00\",\"2017-05-20T00:00:00\",\"2017-05-19T00:00:00\",\"2017-05-18T00:00:00\",\"2017-05-17T00:00:00\",\"2017-05-16T00:00:00\",\"2017-05-15T00:00:00\",\"2017-05-14T00:00:00\",\"2017-05-13T00:00:00\",\"2017-05-12T00:00:00\",\"2017-05-11T00:00:00\",\"2017-05-10T00:00:00\",\"2017-05-09T00:00:00\",\"2017-05-08T00:00:00\",\"2017-05-07T00:00:00\",\"2017-05-06T00:00:00\",\"2017-05-05T00:00:00\",\"2017-05-04T00:00:00\",\"2017-05-03T00:00:00\",\"2017-05-02T00:00:00\",\"2017-05-01T00:00:00\",\"2017-04-30T00:00:00\",\"2017-04-29T00:00:00\",\"2017-04-28T00:00:00\",\"2017-04-27T00:00:00\",\"2017-04-26T00:00:00\",\"2017-04-25T00:00:00\",\"2017-04-24T00:00:00\",\"2017-04-23T00:00:00\",\"2017-04-22T00:00:00\",\"2017-04-21T00:00:00\",\"2017-04-20T00:00:00\",\"2017-04-19T00:00:00\",\"2017-04-18T00:00:00\",\"2017-04-17T00:00:00\",\"2017-04-16T00:00:00\",\"2017-04-15T00:00:00\",\"2017-04-14T00:00:00\",\"2017-04-13T00:00:00\",\"2017-04-12T00:00:00\",\"2017-04-11T00:00:00\",\"2017-04-10T00:00:00\",\"2017-04-09T00:00:00\",\"2017-04-08T00:00:00\",\"2017-04-07T00:00:00\",\"2017-04-06T00:00:00\",\"2017-04-05T00:00:00\",\"2017-04-04T00:00:00\",\"2017-04-03T00:00:00\",\"2017-04-02T00:00:00\",\"2017-04-01T00:00:00\",\"2017-03-31T00:00:00\",\"2017-03-30T00:00:00\",\"2017-03-29T00:00:00\",\"2017-03-28T00:00:00\",\"2017-03-27T00:00:00\",\"2017-03-26T00:00:00\",\"2017-03-25T00:00:00\",\"2017-03-24T00:00:00\",\"2017-03-23T00:00:00\",\"2017-03-22T00:00:00\",\"2017-03-21T00:00:00\",\"2017-03-20T00:00:00\",\"2017-03-19T00:00:00\",\"2017-03-18T00:00:00\",\"2017-03-17T00:00:00\",\"2017-03-16T00:00:00\",\"2017-03-15T00:00:00\",\"2017-03-14T00:00:00\",\"2017-03-13T00:00:00\",\"2017-03-12T00:00:00\",\"2017-03-11T00:00:00\",\"2017-03-10T00:00:00\",\"2017-03-09T00:00:00\",\"2017-03-08T00:00:00\",\"2017-03-07T00:00:00\",\"2017-03-06T00:00:00\",\"2017-03-05T00:00:00\",\"2017-03-04T00:00:00\",\"2017-03-03T00:00:00\",\"2017-03-02T00:00:00\",\"2017-03-01T00:00:00\",\"2017-02-28T00:00:00\",\"2017-02-27T00:00:00\",\"2017-02-26T00:00:00\",\"2017-02-25T00:00:00\",\"2017-02-24T00:00:00\",\"2017-02-23T00:00:00\",\"2017-02-22T00:00:00\",\"2017-02-21T00:00:00\",\"2017-02-20T00:00:00\",\"2017-02-19T00:00:00\",\"2017-02-18T00:00:00\",\"2017-02-17T00:00:00\",\"2017-02-16T00:00:00\",\"2017-02-15T00:00:00\",\"2017-02-14T00:00:00\",\"2017-02-13T00:00:00\",\"2017-02-12T00:00:00\",\"2017-02-11T00:00:00\",\"2017-02-10T00:00:00\",\"2017-02-09T00:00:00\",\"2017-02-08T00:00:00\",\"2017-02-07T00:00:00\",\"2017-02-06T00:00:00\",\"2017-02-05T00:00:00\",\"2017-02-04T00:00:00\",\"2017-02-03T00:00:00\",\"2017-02-02T00:00:00\",\"2017-02-01T00:00:00\",\"2017-01-31T00:00:00\",\"2017-01-30T00:00:00\",\"2017-01-29T00:00:00\",\"2017-01-28T00:00:00\",\"2017-01-27T00:00:00\",\"2017-01-26T00:00:00\",\"2017-01-25T00:00:00\",\"2017-01-24T00:00:00\",\"2017-01-23T00:00:00\",\"2017-01-22T00:00:00\",\"2017-01-21T00:00:00\",\"2017-01-20T00:00:00\",\"2017-01-19T00:00:00\",\"2017-01-18T00:00:00\",\"2017-01-17T00:00:00\",\"2017-01-16T00:00:00\",\"2017-01-15T00:00:00\",\"2017-01-14T00:00:00\",\"2017-01-13T00:00:00\",\"2017-01-12T00:00:00\",\"2017-01-11T00:00:00\",\"2017-01-10T00:00:00\",\"2017-01-09T00:00:00\",\"2017-01-08T00:00:00\",\"2017-01-07T00:00:00\",\"2017-01-06T00:00:00\",\"2017-01-05T00:00:00\",\"2017-01-04T00:00:00\",\"2017-01-03T00:00:00\",\"2017-01-02T00:00:00\",\"2017-01-01T00:00:00\",\"2016-12-31T00:00:00\",\"2016-12-30T00:00:00\",\"2016-12-29T00:00:00\",\"2016-12-28T00:00:00\",\"2016-12-27T00:00:00\",\"2016-12-26T00:00:00\",\"2016-12-25T00:00:00\",\"2016-12-24T00:00:00\",\"2016-12-23T00:00:00\",\"2016-12-22T00:00:00\",\"2016-12-21T00:00:00\",\"2016-12-20T00:00:00\",\"2016-12-19T00:00:00\",\"2016-12-18T00:00:00\",\"2016-12-17T00:00:00\",\"2016-12-16T00:00:00\",\"2016-12-15T00:00:00\",\"2016-12-14T00:00:00\",\"2016-12-13T00:00:00\",\"2016-12-12T00:00:00\",\"2016-12-11T00:00:00\",\"2016-12-10T00:00:00\",\"2016-12-09T00:00:00\",\"2016-12-08T00:00:00\",\"2016-12-07T00:00:00\",\"2016-12-06T00:00:00\",\"2016-12-05T00:00:00\",\"2016-12-04T00:00:00\",\"2016-12-03T00:00:00\",\"2016-12-02T00:00:00\",\"2016-12-01T00:00:00\",\"2016-11-30T00:00:00\",\"2016-11-29T00:00:00\",\"2016-11-28T00:00:00\",\"2016-11-27T00:00:00\",\"2016-11-26T00:00:00\",\"2016-11-25T00:00:00\",\"2016-11-24T00:00:00\",\"2016-11-23T00:00:00\",\"2016-11-22T00:00:00\",\"2016-11-21T00:00:00\",\"2016-11-20T00:00:00\",\"2016-11-19T00:00:00\",\"2016-11-18T00:00:00\",\"2016-11-17T00:00:00\",\"2016-11-16T00:00:00\",\"2016-11-15T00:00:00\",\"2016-11-14T00:00:00\",\"2016-11-13T00:00:00\",\"2016-11-12T00:00:00\",\"2016-11-11T00:00:00\",\"2016-11-10T00:00:00\",\"2016-11-09T00:00:00\",\"2016-11-08T00:00:00\",\"2016-11-07T00:00:00\",\"2016-11-06T00:00:00\",\"2016-11-05T00:00:00\",\"2016-11-04T00:00:00\",\"2016-11-03T00:00:00\",\"2016-11-02T00:00:00\",\"2016-11-01T00:00:00\",\"2016-10-31T00:00:00\",\"2016-10-30T00:00:00\",\"2016-10-29T00:00:00\",\"2016-10-28T00:00:00\",\"2016-10-27T00:00:00\",\"2016-10-26T00:00:00\",\"2016-10-25T00:00:00\",\"2016-10-24T00:00:00\",\"2016-10-23T00:00:00\",\"2016-10-22T00:00:00\",\"2016-10-21T00:00:00\",\"2016-10-20T00:00:00\",\"2016-10-19T00:00:00\",\"2016-10-18T00:00:00\",\"2016-10-17T00:00:00\",\"2016-10-16T00:00:00\",\"2016-10-15T00:00:00\",\"2016-10-14T00:00:00\",\"2016-10-13T00:00:00\",\"2016-10-12T00:00:00\",\"2016-10-11T00:00:00\",\"2016-10-10T00:00:00\",\"2016-10-09T00:00:00\",\"2016-10-08T00:00:00\",\"2016-10-07T00:00:00\",\"2016-10-06T00:00:00\",\"2016-10-05T00:00:00\",\"2016-10-04T00:00:00\",\"2016-10-03T00:00:00\",\"2016-10-02T00:00:00\",\"2016-10-01T00:00:00\",\"2016-09-30T00:00:00\",\"2016-09-29T00:00:00\",\"2016-09-28T00:00:00\",\"2016-09-27T00:00:00\",\"2016-09-26T00:00:00\",\"2016-09-25T00:00:00\",\"2016-09-24T00:00:00\",\"2016-09-23T00:00:00\",\"2016-09-22T00:00:00\",\"2016-09-21T00:00:00\",\"2016-09-20T00:00:00\",\"2016-09-19T00:00:00\",\"2016-09-18T00:00:00\",\"2016-09-17T00:00:00\",\"2016-09-16T00:00:00\",\"2016-09-15T00:00:00\",\"2016-09-14T00:00:00\",\"2016-09-13T00:00:00\",\"2016-09-12T00:00:00\",\"2016-09-11T00:00:00\",\"2016-09-10T00:00:00\",\"2016-09-09T00:00:00\",\"2016-09-08T00:00:00\",\"2016-09-07T00:00:00\",\"2016-09-06T00:00:00\",\"2016-09-05T00:00:00\",\"2016-09-04T00:00:00\",\"2016-09-03T00:00:00\",\"2016-09-02T00:00:00\",\"2016-09-01T00:00:00\",\"2016-08-31T00:00:00\",\"2016-08-30T00:00:00\",\"2016-08-29T00:00:00\",\"2016-08-28T00:00:00\",\"2016-08-27T00:00:00\",\"2016-08-26T00:00:00\",\"2016-08-25T00:00:00\",\"2016-08-24T00:00:00\",\"2016-08-23T00:00:00\",\"2016-08-22T00:00:00\",\"2016-08-21T00:00:00\",\"2016-08-20T00:00:00\",\"2016-08-19T00:00:00\",\"2016-08-18T00:00:00\",\"2016-08-17T00:00:00\",\"2016-08-16T00:00:00\",\"2016-08-15T00:00:00\",\"2016-08-14T00:00:00\",\"2016-08-13T00:00:00\",\"2016-08-12T00:00:00\",\"2016-08-11T00:00:00\",\"2016-08-10T00:00:00\",\"2016-08-09T00:00:00\",\"2016-08-08T00:00:00\",\"2016-08-07T00:00:00\",\"2016-08-06T00:00:00\",\"2016-08-05T00:00:00\",\"2016-08-04T00:00:00\",\"2016-08-03T00:00:00\",\"2016-08-02T00:00:00\",\"2016-08-01T00:00:00\",\"2016-07-31T00:00:00\",\"2016-07-30T00:00:00\",\"2016-07-29T00:00:00\",\"2016-07-28T00:00:00\",\"2016-07-27T00:00:00\",\"2016-07-26T00:00:00\",\"2016-07-25T00:00:00\",\"2016-07-24T00:00:00\",\"2016-07-23T00:00:00\",\"2016-07-22T00:00:00\",\"2016-07-21T00:00:00\",\"2016-07-20T00:00:00\",\"2016-07-19T00:00:00\",\"2016-07-18T00:00:00\",\"2016-07-17T00:00:00\",\"2016-07-16T00:00:00\",\"2016-07-15T00:00:00\",\"2016-07-14T00:00:00\",\"2016-07-13T00:00:00\",\"2016-07-12T00:00:00\",\"2016-07-11T00:00:00\",\"2016-07-10T00:00:00\",\"2016-07-09T00:00:00\",\"2016-07-08T00:00:00\",\"2016-07-07T00:00:00\",\"2016-07-06T00:00:00\",\"2016-07-05T00:00:00\",\"2016-07-04T00:00:00\",\"2016-07-03T00:00:00\",\"2016-07-02T00:00:00\",\"2016-07-01T00:00:00\",\"2016-06-30T00:00:00\",\"2016-06-29T00:00:00\",\"2016-06-28T00:00:00\",\"2016-06-27T00:00:00\",\"2016-06-26T00:00:00\",\"2016-06-25T00:00:00\",\"2016-06-24T00:00:00\",\"2016-06-23T00:00:00\",\"2016-06-22T00:00:00\",\"2016-06-21T00:00:00\",\"2016-06-20T00:00:00\",\"2016-06-19T00:00:00\",\"2016-06-18T00:00:00\",\"2016-06-17T00:00:00\",\"2016-06-16T00:00:00\",\"2016-06-15T00:00:00\",\"2016-06-14T00:00:00\",\"2016-06-13T00:00:00\",\"2016-06-12T00:00:00\",\"2016-06-11T00:00:00\",\"2016-06-10T00:00:00\",\"2016-06-09T00:00:00\",\"2016-06-08T00:00:00\",\"2016-06-07T00:00:00\",\"2016-06-06T00:00:00\",\"2016-06-05T00:00:00\",\"2016-06-04T00:00:00\",\"2016-06-03T00:00:00\",\"2016-06-02T00:00:00\",\"2016-06-01T00:00:00\",\"2016-05-31T00:00:00\",\"2016-05-30T00:00:00\",\"2016-05-29T00:00:00\",\"2016-05-28T00:00:00\",\"2016-05-27T00:00:00\",\"2016-05-26T00:00:00\",\"2016-05-25T00:00:00\",\"2016-05-24T00:00:00\",\"2016-05-23T00:00:00\",\"2016-05-22T00:00:00\",\"2016-05-21T00:00:00\",\"2016-05-20T00:00:00\",\"2016-05-19T00:00:00\",\"2016-05-18T00:00:00\",\"2016-05-17T00:00:00\",\"2016-05-16T00:00:00\",\"2016-05-15T00:00:00\",\"2016-05-14T00:00:00\",\"2016-05-13T00:00:00\",\"2016-05-12T00:00:00\",\"2016-05-11T00:00:00\",\"2016-05-10T00:00:00\",\"2016-05-09T00:00:00\",\"2016-05-08T00:00:00\",\"2016-05-07T00:00:00\",\"2016-05-06T00:00:00\",\"2016-05-05T00:00:00\",\"2016-05-04T00:00:00\",\"2016-05-03T00:00:00\",\"2016-05-02T00:00:00\",\"2016-05-01T00:00:00\",\"2016-04-30T00:00:00\",\"2016-04-29T00:00:00\",\"2016-04-28T00:00:00\",\"2016-04-27T00:00:00\",\"2016-04-26T00:00:00\",\"2016-04-25T00:00:00\",\"2016-04-24T00:00:00\",\"2016-04-23T00:00:00\",\"2016-04-22T00:00:00\",\"2016-04-21T00:00:00\",\"2016-04-20T00:00:00\",\"2016-04-19T00:00:00\",\"2016-04-18T00:00:00\",\"2016-04-17T00:00:00\",\"2016-04-16T00:00:00\",\"2016-04-15T00:00:00\",\"2016-04-14T00:00:00\",\"2016-04-13T00:00:00\",\"2016-04-12T00:00:00\",\"2016-04-11T00:00:00\",\"2016-04-10T00:00:00\",\"2016-04-09T00:00:00\",\"2016-04-08T00:00:00\",\"2016-04-07T00:00:00\",\"2016-04-06T00:00:00\",\"2016-04-05T00:00:00\",\"2016-04-04T00:00:00\",\"2016-04-03T00:00:00\",\"2016-04-02T00:00:00\",\"2016-04-01T00:00:00\",\"2016-03-31T00:00:00\",\"2016-03-30T00:00:00\",\"2016-03-29T00:00:00\",\"2016-03-28T00:00:00\",\"2016-03-27T00:00:00\",\"2016-03-26T00:00:00\",\"2016-03-25T00:00:00\",\"2016-03-24T00:00:00\",\"2016-03-23T00:00:00\",\"2016-03-22T00:00:00\",\"2016-03-21T00:00:00\",\"2016-03-20T00:00:00\",\"2016-03-19T00:00:00\",\"2016-03-18T00:00:00\",\"2016-03-17T00:00:00\",\"2016-03-16T00:00:00\",\"2016-03-15T00:00:00\",\"2016-03-14T00:00:00\",\"2016-03-13T00:00:00\",\"2016-03-12T00:00:00\",\"2016-03-11T00:00:00\",\"2016-03-10T00:00:00\"],\"xaxis\":\"x\",\"y\":[1561.79,1565.84,1564.36,1566.73,1569.45,1647.86,1666.09,1604.69,1633.66,1641.59,1594.66,1608.24,1650.52,1643.39,1659.41,1703.29,1681.49,1691.62,1693.96,1640.66,1675.43,1555.45,1505.85,1515.44,1538.34,1513.12,1545.35,1650.97,1671.39,1613.72,1629.44,1666.9,1663.78,1641.7,1642.1,1585.27,1566.5,1645.97,1572.13,1597.61,1602.54,1611.2,1555.97,1626.52,1627.04,1626.66,1659.96,1551.12,1511.35,1564.66,1576.94,1552.69,1550.05,1450.86,1416.08,1389.84,1335.14,1320.51,1288.39,1263.91,1269.14,1250.95,1256.92,1214.57,1213.93,1200.52,1195.69,1200.0,1200.84,1189.99,1211.6,1228.22,1218.69,1220.46,1220.03,1217.59,1213.99,1217.19,1167.8,1182.7,1187.19,1166.7,1266.32,1307.29,1320.76,1275.49,1263.42,1266.36,1262.88,1280.29,1231.04,1271.24,1259.56,1279.21,1240.46,1295.69,1276.05,1294.4,1216.54,1167.73,1193.38,1205.17,1198.12,1203.77,1185.7,1139.74,1107.46,1142.88,1217.65,1208.92,1206.99,1206.16,1253.45,1242.64,1221.47,1256.29,1288.71,1299.21,1100.86,1335.26,1567.54,1570.71,1626.86,1645.03,1531.06,1518.99,1579.59,1572.89,1590.47,1619.67,1554.47,1514.14,1566.18,1459.6,1343.88,1364.19,1313.64,1299.76,1282.87,1285.33,1310.81,1331.4,1305.95,1274.93,1296.74,1287.33,1294.56,1279.97,1290.0,1323.17,1315.08,1331.07,1352.17,1352.07,1361.51,1323.37,1277.02,1311.8,1328.73,1336.05,1337.34,1328.23,1337.07,1294.24,1317.01,1327.91,1326.12,1247.64,1323.34,1375.96,1334.82,1468.76,1434.01,1472.63,1637.89,1574.41,1716.45,1766.99,1774.38,1718.84,1635.33,1629.63,1557.85,1617.4,1578.9,1557.35,1575.31,1585.55,1554.57,1523.39,1552.56,1426.25,1490.88,1508.32,1695.38,1656.64,1665.3,1626.7,1618.21,1575.61,1609.01,1846.52,1834.19,1876.69,1900.08,1935.1,1983.52,1957.62,1880.3,1853.5,1702.8,1778.15,1700.26,1690.29,1737.66,1607.0,1618.07,1631.46,1630.07,1679.98,1695.99,1720.8,1725.97,1635.99,1449.65,1438.76,1598.19,1549.61,1534.85,1575.68,1520.66,1543.45,1584.33,1337.92,1356.0,1231.03,1192.83,1115.8,1038.6,1096.41,1167.35,1216.94,1216.26,1238.1,1186.48,1133.87,1151.19,1074.07,1066.6,1059.05,1069.13,1099.51,1143.95,1191.02,1198.03,1241.8,1224.96,1144.33,1049.02,1125.96,1128.29,1128.39,995.49,1086.47,1068.49,1237.92,1208.82,1206.67,1434.43,1531.5,1663.04,1788.15,1792.81,1813.05,1859.99,1806.11,1804.6,1775.28,1834.66,1817.98,1941.81,1998.46,1813.56,1792.25,1724.67,1793.19,1942.89,1979.4,1973.01,2043.19,1975.12,1959.79,2019.36,1913.99,2091.05,2023.0,2145.86,2056.33,2009.55,1955.59,2087.17,2342.27,2229.69,2519.98,2636.03,2692.92,2747.6,2940.7,2781.47,2856.01,2825.65,2727.2,2817.14,2937.01,2889.01,2810.42,3006.04,2922.03,2931.9,2963.0,2983.91,3076.06,3101.79,3055.86,2989.05,3058.96,3042.01,3021.93,3117.21,3027.64,2978.45,3201.99,3259.59,3193.54,3228.83,3169.58,3406.83,3520.35,3521.16,3442.34,3456.18,3282.33,3385.6,3401.86,3329.67,3295.73,3145.95,3103.43,3110.8,3036.18,2969.64,2891.41,2861.66,2950.03,2939.76,2812.29,2773.8,2617.43,2589.54,2516.75,2569.8,2556.96,2606.5,2726.94,2577.21,2492.53,2549.4,2665.42,2622.15,2834.78,2947.03,2975.8,2922.44,2616.34,2779.55,2767.58,2596.52,2578.54,2637.38,2569.19,2619.32,2763.97,2779.44,2893.78,3122.33,3182.32,2929.29,2871.06,2917.16,2927.64,3071.8,3243.73,3115.91,3139.65,3056.29,3013.75,2994.74,2692.8,2680.66,2787.16,2686.82,2602.71,2600.12,2545.95,2424.66,2462.25,2458.07,2441.01,2540.81,2412.52,2570.67,3000.21,3084.48,3160.15,3209.43,3346.63,3326.5,3307.84,3241.95,3370.87,3238.22,3084.64,3150.27,3079.89,3198.14,3407.22,3536.15,3784.47,3764.62,3830.7,3765.67,3677.69,3709.38,3629.33,3792.95,4036.86,4062.02,4093.38,4043.6,4110.2,3979.57,4016.25,3944.03,3925.46,3959.9,3878.2,3957.12,4019.57,3860.51,3782.12,4131.47,4078.17,3903.52,4107.2,4435.74,4307.08,4351.36,4194.95,4118.27,4219.3,4512.9,4583.28,4628.72,4443.22,4296.98,4095.16,4037.06,4520.3,4270.73,4340.23,4086.73,4268.07,4409.02,4295.27,3996.29,4290.31,4208.29,4562.97,4625.71,4644.4,4665.76,4720.5,4633.98,4731.83,4808.34,4612.05,4517.27,4475.0,4534.96,4601.93,4586.96,4320.85,4287.41,4322.0,4413.7,4284.9,3921.54,4130.06,4219.92,4082.68,4168.8,3970.94,4053.89,4160.51,3876.76,3745.46,3848.64,3827.55,3869.05,3790.34,3607.36,3491.08,3541.49,3414.93,3574.52,3559.96,3586.91,3575.43,3515.35,3383.32,3417.26,3388.83,3309.14,2999.86,2851.06,2807.15,2926.04,3061.86,2922.47,2928.59,3152.92,3077.8,2764.71,2976.7,3328.49,3435.92,3398.55,3569.92,3612.23,3430.36,3284.65,3408.17,3267.33,3209.37,3423.87,3498.92,3424.35,3926.84,3950.2,3885.4,3938.45,3785.85,3826.9,3429.65,3228.23,3222.43,3243.96,3273.78,3093.78,3228.03,3172.12,3322.6,3238.41,3224.17,3285.12,3184.83,3016.92,3012.62,3147.67,3307.96,3264.56,3322.25,3043.2,3160.17,3140.86,3162.81,3011.88,3158.3,2889.58,2827.23,2725.28,2506.5,2608.01,2556.07,2530.94,2461.08,2380.59,2299.46,2300.21,2230.24,2189.74,2166.98,2124.0,2024.51,1994.61,1786.18,1818.07,1891.43,1898.01,1877.0,1917.21,1994.73,1940.48,2035.09,2139.44,2110.9,2146.15,2120.05,2316.21,2322.74,2196.25,2322.6,2224.7,2154.53,2108.58,2274.5,2158.32,2083.48,1981.24,1830.42,1810.53,1989.77,1968.76,1877.28,1890.95,2244.25,2166.3,2229.53,2372.1,2367.78,2544.35,2581.42,2508.49,2368.68,2351.45,2470.04,2607.45,2507.86,2592.12,2713.52,2628.43,2688.75,2856.63,2705.05,2633.74,2707.94,2386.93,2276.97,2411.68,2742.39,2885.02,2705.69,2647.27,2101.3,2292.68,2433.09,2766.88,2436.59,3376.22,3280.5,3582.19,3643.67,4074.57,3719.46,3807.5,4173.61,3948.66,3923.48,3905.69,3479.81,3490.83,3522.74,3284.31,3429.48,2950.07,2945.04,2772.27,2757.02,2746.51,2665.83,2531.07,2320.63,2217.23,2367.35,2398.95,2360.32,2331.84,2161.06,2236.1,2317.88,2424.12,2514.55,2432.9,2299.25,2137.55,2150.79,2133.89,2067.26,2080.2,1962.44,2112.41,2108.81,2076.14,2007.82,2134.66,1968.12,1918.82,1841.01,1816.92,1686.88,1712.89,1698.68,1586.36,1582.23,1668.42,1681.5,1783.58,1804.6,1809.09,1775.87,1823.72,1804.56,1792.08,1848.18,1921.29,1767.05,1827.44,1794.28,1869.32,1831.57,1727.17,1650.94,1530.24,1539.73,1567.84,1488.8,1570.0,1418.91,1458.84,1445.69,1476.77,1623.76,1578.27,1777.25,1933.52,1912.97,1955.54,1934.17,1849.95,1781.44,1778.63,1800.6,1815.44,1840.9,1786.74,1742.11,1770.81,1750.19,1612.98,1676.62,1719.11,1593.91,1664.19,1511.96,1373.31,1312.69,1377.05,1379.78,1329.16,1247.67,1366.14,1317.67,1390.69,1233.41,1234.34,1118.01,1377.63,1372.0,1258.1,1233.93,1228.33,1172.12,1233.34,1128.8,1050.2,1086.96,1255.84,1275.87,1215.92,1224.33,1208.71,1099.77,1042.48,977.76,774.54,729.0,735.87,751.92,732.04,730.26,683.76,636.35,626.99,612.38,585.47,637.04,607.86,638.28,657.79,654.08,643.28,637.29,588.81,586.22,590.66,568.07,544.16,558.15,573.28,554.95,591.03,601.54,596.61,567.84,616.33,597.94,585.69,616.78,575.35,537.89,518.7,519.69,569.69,605.01,609.2,559.37,551.9,509.94,471.27,478.55,482.05,460.37,448.18,460.75,476.38,462.61,463.33,450.26,444.38,454.55,435.39,455.78,416.59,402.5,388.23,383.64,396.45,386.36,382.81,387.16,388.25,403.11,393.93,406.45,412.44,408.59,414.12,391.39,368.53,379.03,377.85,368.61,365.08,377.6,378.96,381.13,386.64,374.39,370.28,365.25,350.71,341.66,340.59,353.53,352.69,345.6,345.78,353.06,359.5,359.77,353.97,357.42,354.26,351.62,349.13,319.97,343.96,341.32,371.09,385.33,384.25,389.37,364.75,363.91,376.7,365.89,388.06,373.74,367.89,351.1,337.46,352.06,353.49,334.91,385.94,381.97,439.14,475.72,433.89,428.81,398.8,395.32,383.16,385.96,383.16,407.64,390.81,395.56,388.06,416.05,407.39,422.1,430.63,433.62,432.22,438.04,424.28,387.15,379.03,395.52,390.22,396.78,379.57,394.8,400.8,389.62,385.86,372.26,387.15,346.48,334.84,317.79,316.95,321.82,311.12,305.32,279.33,275.33,263.29,245.54,236.1,239.03,235.72,232.77,233.65,238.62,240.49,239.75,242.84,239.2,241.21,242.01,246.93,239.26,241.56,227.95,229.09,225.09,226.42,230.96,225.61,227.88,225.09,221.07,229.72,232.57,234.75,243.2,243.24,228.11,228.87,229.11,231.34,233.85,235.37,230.92,231.99,238.23,237.55,230.72,247.79,243.82,246.19,244.56,242.0,240.27,243.37,244.53,237.9,248.01,231.8,243.63,220.66,220.14,208.2,200.99,204.13,199.99,206.65,207.35,198.75,210.0,214.52,214.88,207.0,200.51,194.85,203.29,199.58,189.82,185.82,187.77,210.19,211.47,212.0,199.05,205.36,206.59,209.85,213.96,212.0,206.23,215.42,196.55,196.13,197.35,194.01,187.57,185.48,182.72,170.79,170.37,180.12,187.47,170.63,172.32,152.9,158.43,156.36,158.76,158.18,157.85,169.67,173.01,164.71,171.07,142.58,144.03,141.13,141.29,135.65,132.88,132.15,125.24,131.02,131.74,138.38,136.08,138.59,136.0,122.46,132.59,133.32,135.43,117.76,115.95,111.06,124.35,122.67,134.02,107.87,194.57,200.61,202.88,199.21,237.3,244.87,228.46,224.36,223.94,231.9,217.96,217.51,226.94,227.6,224.3,246.97,265.63,274.72,261.65,265.14,257.32,259.07,282.33,267.71,259.92,264.87,285.17,268.71,265.59,236.75,222.94,228.61,223.23,223.47,213.15,203.84,188.94,189.8,188.48,183.58,179.88,184.6,173.86,175.78,170.27,167.91,160.4,162.56,162.8,168.15,169.41,166.87,166.92,174.17,170.18,164.39,166.44,166.07,143.59,146.5,142.65,144.81,137.93,140.8,143.01,144.09,135.59,134.32,134.3,127.19,130.75,129.21,131.87,134.4,128.35,126.4,125.92,125.24,128.05,128.07,132.2,127.61,128.69,128.42,132.93,122.06,132.78,142.55,142.03,144.95,145.04,143.51,145.88,147.88,151.17,148.25,148.88,148.7,145.79,147.81,148.89,151.06,151.93,154.57,151.07,152.71,147.6,145.88,140.58,152.46,149.79,161.46,174.96,176.09,178.49,184.19,182.39,180.19,185.24,188.36,187.0,185.09,188.98,184.96,184.02,186.95,191.28,188.66,185.86,181.72,183.01,183.12,182.38,183.25,190.44,181.67,184.06,179.61,181.5,160.73,162.26,171.44,174.17,175.14,171.93,172.79,177.31,174.52,180.57,186.64,181.07,179.86,180.6,191.11,192.65,180.74,179.81,170.52,176.44,175.65,174.58,180.26,175.78,180.36,169.28,173.62,173.19,164.58,168.93,166.29,201.22,211.16,215.23,218.01,220.22,210.44,207.8,197.33,189.1,188.17,181.06,180.87,178.48,180.05,180.64,181.45,177.76,169.14,173.82,174.8,178.82,178.1,169.72,171.62,168.14,168.68,172.85,186.6,188.36,186.32,190.16,193.42,190.29,187.27,196.15,201.65,193.67,184.83,184.55,187.67,186.59,207.68,210.48,215.84,205.92,209.46,220.12,224.68,225.62,232.45,220.76,220.89,216.52,216.37,217.23,208.49,209.81,210.39,206.64,217.8,217.65,215.45,211.86,217.27,225.03,227.83,220.11,225.23,210.95,198.88,228.49,226.56,269.12,274.68,268.72,289.13,307.44,312.23,304.87,288.11,287.16,283.36,300.51,291.48,294.87,292.23,318.26,310.52,297.73,338.54,317.65,311.47,308.51,310.39,294.69,271.45,268.26,264.59,273.02,268.0,267.74,262.53,254.89,261.38,244.38,246.85,231.21,243.43,248.98,248.63,245.81,241.27,250.26,269.03,264.26,267.94,254.57,268.62,271.16,270.97,264.66,250.69,249.2,244.68,244.35,253.7,250.72,259.68,233.87,244.38,264.68,248.14,217.34,196.0,188.09,192.17,172.78,170.85,170.76,169.34,172.99,163.03,163.67,167.87,161.66,160.35,161.84,154.94,158.3,159.43,157.96,155.16,165.23,169.94,170.87,168.5,172.89,172.79,173.34,165.91,165.61,160.16,167.3,163.19,163.46,164.37,177.39,175.09,179.16,174.32,165.58,164.93,157.43,160.34,163.47,141.5,141.77,142.65,143.38,138.17,139.63,134.37,134.25,136.44,137.53,136.42,135.11,139.32,138.72,137.92,138.91,141.15,136.77,132.44,131.97,133.81,132.99,135.72,137.52,133.84,136.93,137.62,136.82,125.97,131.02,132.77,135.72,135.47,135.2,136.66,138.26,132.94,158.31,147.97,145.79,149.01,144.02,145.79,133.79,122.88,121.72,120.97,122.21,122.66,121.32,124.94,119.44,119.27,104.55,104.63,107.37,107.91,107.63,110.67,106.99,106.74,108.51,104.76,105.82,112.5,115.83,115.5,116.7,116.84,118.23,116.05,117.52,123.0,119.34,122.02,121.71,119.59,127.55,114.65,123.75,125.15,125.61,148.78,148.41,149.96,154.96,153.48,152.87,146.94,152.96,139.58,131.9,138.45,133.64,136.59,114.57,130.06,128.39,139.06,129.6,115.85,108.18,114.6,99.36,100.68,94.37,84.72,83.9,83.81,86.31,89.62,87.72,90.18,93.62,90.56,93.28,90.85,102.36,110.14,108.66,116.4,118.23,113.76,117.86,122.75,111.19,110.08,118.03,114.42,124.63,126.17,137.75,132.9,150.27,178.76,176.53,176.99,184.1,187.51,210.44,212.79,213.1,213.19,211.39,212.87,218.8,220.22,210.67,211.86,200.27,202.67,198.17,198.59,197.27,196.83,204.84,204.36,204.78,204.08,205.12,205.68,207.03,207.38,207.76,205.12,206.6,213.16,215.06,214.27,197.09,201.22,196.67,190.89,226.33,228.28,229.83,226.11,225.19,228.34,222.33,220.48,225.84,231.77,232.8,231.9,221.95,229.18,214.46,219.14,228.02,244.67,240.82,247.92,224.43,209.74,209.02,196.17,220.2,221.94,209.88,210.98,183.11,185.07,197.05,195.81,196.69,215.51,229.58,228.76,285.17,288.98,295.05,295.32,281.94,283.97,288.41,295.61,286.57,274.46,277.61,281.29,276.12,269.84,280.9,271.9,299.33,293.9,316.91,286.76,281.12,278.3,284.0,318.2,317.63,331.78,363.33,355.48,378.29,405.38,408.81,407.11,417.58,411.0,420.33,431.88,456.65,466.41,468.89,470.24,462.79,472.03,479.78,450.58,459.02,461.51,449.44,469.48,480.0,499.86,479.68,450.87,434.09,432.88,430.86,445.96,432.67,471.77,486.41,485.4,469.91,468.47,467.58,461.9,475.73,452.57,452.72,434.92,421.23,442.16,430.32,458.76,454.81,474.14,462.58,525.97,536.31,538.22,517.91,496.47,496.95,487.88,519.49,476.17,494.6,531.4,524.64,593.8,599.67,604.71,606.39,608.83,591.44,619.09,591.33,579.34,577.87,557.96,566.86,512.32,570.67,586.63,585.39,602.4,577.52,642.02,696.84,716.02,696.73,693.28,668.98,706.53,705.73,727.06,729.41,684.77,676.97,724.36,751.98,747.98,759.35,793.29,818.75,785.29,778.97,688.23,671.31,670.12,689.83,683.49,643.96,661.65,617.37,702.94,644.08,622.01,605.58,617.1,567.7,525.74,503.24,511.75,533.89,502.52,494.36,494.25,430.13,415.43,399.04,400.67,384.85,369.97,381.69,378.62,415.58,385.02,378.85,394.1,393.75,384.13,446.86,448.73,485.97,523.46,520.44,543.15,539.9,559.9,557.09,555.75,536.72,549.96,600.48,610.36,612.08,689.67,697.06,720.12,682.77,725.7,698.91,750.09,814.56,850.0,865.53,855.91,855.46,870.51,852.44,871.58,867.06,841.28,834.1,854.99,803.56,838.97,884.94,940.04,913.09,971.57,937.35,927.34,919.53,841.38,865.72,811.01,851.44,877.88,805.15,752.75,782.72,696.75,828.49,971.49,920.93,1033.02,1118.15,1072.17,1174.36,1245.5,1114.7,1046.9,1048.2,1061.8,982.11,995.26,1047.0,1146.3,1032.6,993.92,1020.1,1019.6,1275.8,1349.9,1379.9,1257.0,1135.1,1245.9,1285.7,1129.4,1115.9,1004.3,962.77,939.3,942.01,858.78,752.46,736.77,682.22,731.52,711.42,736.45,749.8,709.81,659.89,672.59,628.19,786.97,794.99,799.98,783.99,708.78,683.25,678.29,686.51,690.69,634.87,515.25,429.24,460.92,442.19,415.02,413.71,451.87,465.0,459.49,455.51,460.67,432.21,420.34,465.56,473.44,464.0,464.0,469.89,405.19,380.48,360.0,367.94,354.7,346.68,331.0,331.16,330.59,334.28,313.22,303.9,313.07,296.18,319.52,307.5,291.42,296.9,295.63,299.48,303.47,284.89,288.6,303.69,307.0,304.39,293.49,295.99,295.1,295.46,296.3,284.85,293.55,299.23,302.61,306.97,313.45,315.65,334.46,337.23,339.24,337.46,303.06,303.2,299.32,297.4,309.82,311.46,308.43,295.12,291.4,291.69,296.82,304.26,303.44,292.66,302.63,309.75,289.28,295.2,282.0,285.9,262.19,256.67,283.5,282.63,296.81,257.0,253.0,258.68,222.5,275.48,293.9,297.19,297.9,303.08,304.0,334.1,337.36,316.18,295.81,350.63,345.0,390.35,387.3,382.78,372.0,347.09,348.01,332.72,328.7,325.62,316.5,312.54,322.24,298.37,292.78,292.0,299.0,301.34,286.0,298.22,296.64,307.22,308.81,295.97,293.99,295.83,269.51,264.29,253.87,220.73,224.79,218.0,225.97,200.81,195.31,206.76,191.2,202.54,203.33,202.7,226.59,228.15,232.01,216.11,227.29,194.63,226.56,190.16,157.4,170.15,196.49,205.0,223.92,188.63,202.0,234.97,245.23,238.38,265.35,264.77,266.68,273.99,277.64,255.0,275.62,285.3,311.62,279.0,251.3,277.0,296.89,324.37,320.94,321.66,344.15,355.5,348.88,364.56,348.44,338.7,335.95,382.7,386.9,336.33,325.88,278.41,256.95,250.7,261.89,242.16,241.06,217.01,214.77,211.4,218.34,224.69,189.99,161.91,149.99,152.8,168.71,183.88,168.24,154.92,146.14,123.03,124.4,98.6,89.67,88.17,92.56,90.37,89.9,86.99,89.38,88.33,88.94,88.97,94.21,96.65,91.5,99.2,85.79,82.01,81.4,83.51,73.55,76.0,68.0,57.31,53.9,53.54,53.33,52.15,51.37,51.96,49.66,52.42,49.52,49.58,49.71,48.5,50.65,46.85,44.21,44.17,43.94,44.51,42.25,43.11,45.35,44.41,44.28,48.6,50.59,49.72,51.62,52.88,50.16,48.93,50.46,50.75,54.01,43.14,41.46,42.45,42.06,43.17,34.2,44.65,45.07,34.8,28.66,28.4,23.2,21.3,19.18,17.75,16.51,18.88,19.51,19.35,18.5,19.49,19.02,17.43,15.86,15.5,14.57,13.55,13.11,13.27,12.68,12.82,12.4,12.8,12.79,12.76,12.92,12.92,13.02,11.32,11.33,11.33,11.27,10.95,11.35,11.45,11.31,11.18,11.32,11.0,10.78,10.71,10.71,10.5,10.44,10.49,10.5,10.52,10.49,10.52,10.58,10.64,10.91,10.64,10.38,10.31,10.3,9.54,9.72,9.67,9.72,9.83,9.48,10.61,10.43,10.43,9.8,10.09,10.23,11.16,9.57,8.43,8.19,8.17,8.17,8.27,7.62,7.2,7.27,7.11,7.25,7.11,7.55,7.84,7.68,7.63,7.93,7.88,7.86,7.86,8.16,8.44,8.49,8.19,8.14,8.42,8.1,8.35,7.6,6.68,7.4,7.85,7.76,8.43,8.61,8.16,8.7,8.97,9.33,9.38,9.17,9.69,9.89,9.61,9.54,9.68,9.54,9.96,10.02,10.19,10.0,10.08,10.01,10.27,10.54,10.66,10.92,10.88,10.91,11.15,11.23,10.86,10.94,10.81,10.96,11.28,10.38,11.15,11.57,11.5,11.36,11.99,12.07,12.25,12.16,12.1,11.99,12.54,12.0,11.98,12.01,11.96,12.07,11.72,11.84,11.76,12.03,12.26,12.73,12.84,13.11,13.33,13.44,13.22,13.18,13.25,13.1,13.25,13.08,12.9,13.14,12.86,13.39,13.3,13.65,14.3,13.15,12.49,12.73,12.6,12.0,11.94,12.01,12.0,11.8,12.13,11.72,11.45,11.64,11.73,11.85,11.73,11.88,12.13,12.22,11.66,11.33,11.03,10.94,11.11,11.26,11.39,10.98,11.03,11.14,11.2,11.26,10.69,10.69,10.72,11.07,11.15,11.16,11.48,11.69,11.71,11.9,11.99,10.16,10.16,10.16,10.16,10.16,10.16,10.16,11.04,12.0,12.45,12.85,12.87,12.93,12.01,13.55,12.86,14.33,14.55,12.67,12.52,11.7,11.09,11.31,11.72,11.95,11.5,10.7,10.55,10.48,10.95,10.83,11.37,10.16,10.58,10.37,11.42,11.65,12.06,12.17,12.5,12.64,12.08,13.95,13.71,14.22,14.39,13.76,13.26,13.75,11.67,12.33,10.76,15.19,20.86,18.61,18.7,17.65,15.75,14.3,13.95,14.44,14.51,14.6,13.94,14.0,13.75,13.9,13.82,13.94,14.07,12.78,12.44,11.8,10.99,12.4,12.52,12.84,13.38,14.21,14.06,13.6,14.74,13.4,12.28,11.15,10.01,10.25,10.6,10.09,9.92,9.38,9.31,9.51,9.41,9.45,9.85,9.4,9.38,10.01,8.83,8.74,7.45,7.23,7.73,7.4,7.56,8.05,8.35,7.95,8.23,8.61,8.73,8.97,9.3,8.7,8.23,8.39,8.08,7.48,8.53,8.56,9.15,9.69,10.05,10.76,10.4,11.15,11.6,11.61,11.65,11.41,11.92,11.79,11.78,10.4,10.93,10.67,11.32,12.43,11.37,11.53,10.18,10.55,10.97,11.09,12.58,13.06,12.63,15.07,12.92,11.95,11.75,11.2],\"yaxis\":\"y\",\"type\":\"scattergl\",\"opacity\":0.8}],                        {\"template\":{\"data\":{\"histogram2dcontour\":[{\"type\":\"histogram2dcontour\",\"colorbar\":{\"outlinewidth\":0,\"ticks\":\"\"},\"colorscale\":[[0.0,\"#0d0887\"],[0.1111111111111111,\"#46039f\"],[0.2222222222222222,\"#7201a8\"],[0.3333333333333333,\"#9c179e\"],[0.4444444444444444,\"#bd3786\"],[0.5555555555555556,\"#d8576b\"],[0.6666666666666666,\"#ed7953\"],[0.7777777777777778,\"#fb9f3a\"],[0.8888888888888888,\"#fdca26\"],[1.0,\"#f0f921\"]]}],\"choropleth\":[{\"type\":\"choropleth\",\"colorbar\":{\"outlinewidth\":0,\"ticks\":\"\"}}],\"histogram2d\":[{\"type\":\"histogram2d\",\"colorbar\":{\"outlinewidth\":0,\"ticks\":\"\"},\"colorscale\":[[0.0,\"#0d0887\"],[0.1111111111111111,\"#46039f\"],[0.2222222222222222,\"#7201a8\"],[0.3333333333333333,\"#9c179e\"],[0.4444444444444444,\"#bd3786\"],[0.5555555555555556,\"#d8576b\"],[0.6666666666666666,\"#ed7953\"],[0.7777777777777778,\"#fb9f3a\"],[0.8888888888888888,\"#fdca26\"],[1.0,\"#f0f921\"]]}],\"heatmap\":[{\"type\":\"heatmap\",\"colorbar\":{\"outlinewidth\":0,\"ticks\":\"\"},\"colorscale\":[[0.0,\"#0d0887\"],[0.1111111111111111,\"#46039f\"],[0.2222222222222222,\"#7201a8\"],[0.3333333333333333,\"#9c179e\"],[0.4444444444444444,\"#bd3786\"],[0.5555555555555556,\"#d8576b\"],[0.6666666666666666,\"#ed7953\"],[0.7777777777777778,\"#fb9f3a\"],[0.8888888888888888,\"#fdca26\"],[1.0,\"#f0f921\"]]}],\"heatmapgl\":[{\"type\":\"heatmapgl\",\"colorbar\":{\"outlinewidth\":0,\"ticks\":\"\"},\"colorscale\":[[0.0,\"#0d0887\"],[0.1111111111111111,\"#46039f\"],[0.2222222222222222,\"#7201a8\"],[0.3333333333333333,\"#9c179e\"],[0.4444444444444444,\"#bd3786\"],[0.5555555555555556,\"#d8576b\"],[0.6666666666666666,\"#ed7953\"],[0.7777777777777778,\"#fb9f3a\"],[0.8888888888888888,\"#fdca26\"],[1.0,\"#f0f921\"]]}],\"contourcarpet\":[{\"type\":\"contourcarpet\",\"colorbar\":{\"outlinewidth\":0,\"ticks\":\"\"}}],\"contour\":[{\"type\":\"contour\",\"colorbar\":{\"outlinewidth\":0,\"ticks\":\"\"},\"colorscale\":[[0.0,\"#0d0887\"],[0.1111111111111111,\"#46039f\"],[0.2222222222222222,\"#7201a8\"],[0.3333333333333333,\"#9c179e\"],[0.4444444444444444,\"#bd3786\"],[0.5555555555555556,\"#d8576b\"],[0.6666666666666666,\"#ed7953\"],[0.7777777777777778,\"#fb9f3a\"],[0.8888888888888888,\"#fdca26\"],[1.0,\"#f0f921\"]]}],\"surface\":[{\"type\":\"surface\",\"colorbar\":{\"outlinewidth\":0,\"ticks\":\"\"},\"colorscale\":[[0.0,\"#0d0887\"],[0.1111111111111111,\"#46039f\"],[0.2222222222222222,\"#7201a8\"],[0.3333333333333333,\"#9c179e\"],[0.4444444444444444,\"#bd3786\"],[0.5555555555555556,\"#d8576b\"],[0.6666666666666666,\"#ed7953\"],[0.7777777777777778,\"#fb9f3a\"],[0.8888888888888888,\"#fdca26\"],[1.0,\"#f0f921\"]]}],\"mesh3d\":[{\"type\":\"mesh3d\",\"colorbar\":{\"outlinewidth\":0,\"ticks\":\"\"}}],\"scatter\":[{\"fillpattern\":{\"fillmode\":\"overlay\",\"size\":10,\"solidity\":0.2},\"type\":\"scatter\"}],\"parcoords\":[{\"type\":\"parcoords\",\"line\":{\"colorbar\":{\"outlinewidth\":0,\"ticks\":\"\"}}}],\"scatterpolargl\":[{\"type\":\"scatterpolargl\",\"marker\":{\"colorbar\":{\"outlinewidth\":0,\"ticks\":\"\"}}}],\"bar\":[{\"error_x\":{\"color\":\"#2a3f5f\"},\"error_y\":{\"color\":\"#2a3f5f\"},\"marker\":{\"line\":{\"color\":\"#E5ECF6\",\"width\":0.5},\"pattern\":{\"fillmode\":\"overlay\",\"size\":10,\"solidity\":0.2}},\"type\":\"bar\"}],\"scattergeo\":[{\"type\":\"scattergeo\",\"marker\":{\"colorbar\":{\"outlinewidth\":0,\"ticks\":\"\"}}}],\"scatterpolar\":[{\"type\":\"scatterpolar\",\"marker\":{\"colorbar\":{\"outlinewidth\":0,\"ticks\":\"\"}}}],\"histogram\":[{\"marker\":{\"pattern\":{\"fillmode\":\"overlay\",\"size\":10,\"solidity\":0.2}},\"type\":\"histogram\"}],\"scattergl\":[{\"type\":\"scattergl\",\"marker\":{\"colorbar\":{\"outlinewidth\":0,\"ticks\":\"\"}}}],\"scatter3d\":[{\"type\":\"scatter3d\",\"line\":{\"colorbar\":{\"outlinewidth\":0,\"ticks\":\"\"}},\"marker\":{\"colorbar\":{\"outlinewidth\":0,\"ticks\":\"\"}}}],\"scattermapbox\":[{\"type\":\"scattermapbox\",\"marker\":{\"colorbar\":{\"outlinewidth\":0,\"ticks\":\"\"}}}],\"scatterternary\":[{\"type\":\"scatterternary\",\"marker\":{\"colorbar\":{\"outlinewidth\":0,\"ticks\":\"\"}}}],\"scattercarpet\":[{\"type\":\"scattercarpet\",\"marker\":{\"colorbar\":{\"outlinewidth\":0,\"ticks\":\"\"}}}],\"carpet\":[{\"aaxis\":{\"endlinecolor\":\"#2a3f5f\",\"gridcolor\":\"white\",\"linecolor\":\"white\",\"minorgridcolor\":\"white\",\"startlinecolor\":\"#2a3f5f\"},\"baxis\":{\"endlinecolor\":\"#2a3f5f\",\"gridcolor\":\"white\",\"linecolor\":\"white\",\"minorgridcolor\":\"white\",\"startlinecolor\":\"#2a3f5f\"},\"type\":\"carpet\"}],\"table\":[{\"cells\":{\"fill\":{\"color\":\"#EBF0F8\"},\"line\":{\"color\":\"white\"}},\"header\":{\"fill\":{\"color\":\"#C8D4E3\"},\"line\":{\"color\":\"white\"}},\"type\":\"table\"}],\"barpolar\":[{\"marker\":{\"line\":{\"color\":\"#E5ECF6\",\"width\":0.5},\"pattern\":{\"fillmode\":\"overlay\",\"size\":10,\"solidity\":0.2}},\"type\":\"barpolar\"}],\"pie\":[{\"automargin\":true,\"type\":\"pie\"}]},\"layout\":{\"autotypenumbers\":\"strict\",\"colorway\":[\"#636efa\",\"#EF553B\",\"#00cc96\",\"#ab63fa\",\"#FFA15A\",\"#19d3f3\",\"#FF6692\",\"#B6E880\",\"#FF97FF\",\"#FECB52\"],\"font\":{\"color\":\"#2a3f5f\"},\"hovermode\":\"closest\",\"hoverlabel\":{\"align\":\"left\"},\"paper_bgcolor\":\"white\",\"plot_bgcolor\":\"#E5ECF6\",\"polar\":{\"bgcolor\":\"#E5ECF6\",\"angularaxis\":{\"gridcolor\":\"white\",\"linecolor\":\"white\",\"ticks\":\"\"},\"radialaxis\":{\"gridcolor\":\"white\",\"linecolor\":\"white\",\"ticks\":\"\"}},\"ternary\":{\"bgcolor\":\"#E5ECF6\",\"aaxis\":{\"gridcolor\":\"white\",\"linecolor\":\"white\",\"ticks\":\"\"},\"baxis\":{\"gridcolor\":\"white\",\"linecolor\":\"white\",\"ticks\":\"\"},\"caxis\":{\"gridcolor\":\"white\",\"linecolor\":\"white\",\"ticks\":\"\"}},\"coloraxis\":{\"colorbar\":{\"outlinewidth\":0,\"ticks\":\"\"}},\"colorscale\":{\"sequential\":[[0.0,\"#0d0887\"],[0.1111111111111111,\"#46039f\"],[0.2222222222222222,\"#7201a8\"],[0.3333333333333333,\"#9c179e\"],[0.4444444444444444,\"#bd3786\"],[0.5555555555555556,\"#d8576b\"],[0.6666666666666666,\"#ed7953\"],[0.7777777777777778,\"#fb9f3a\"],[0.8888888888888888,\"#fdca26\"],[1.0,\"#f0f921\"]],\"sequentialminus\":[[0.0,\"#0d0887\"],[0.1111111111111111,\"#46039f\"],[0.2222222222222222,\"#7201a8\"],[0.3333333333333333,\"#9c179e\"],[0.4444444444444444,\"#bd3786\"],[0.5555555555555556,\"#d8576b\"],[0.6666666666666666,\"#ed7953\"],[0.7777777777777778,\"#fb9f3a\"],[0.8888888888888888,\"#fdca26\"],[1.0,\"#f0f921\"]],\"diverging\":[[0,\"#8e0152\"],[0.1,\"#c51b7d\"],[0.2,\"#de77ae\"],[0.3,\"#f1b6da\"],[0.4,\"#fde0ef\"],[0.5,\"#f7f7f7\"],[0.6,\"#e6f5d0\"],[0.7,\"#b8e186\"],[0.8,\"#7fbc41\"],[0.9,\"#4d9221\"],[1,\"#276419\"]]},\"xaxis\":{\"gridcolor\":\"white\",\"linecolor\":\"white\",\"ticks\":\"\",\"title\":{\"standoff\":15},\"zerolinecolor\":\"white\",\"automargin\":true,\"zerolinewidth\":2},\"yaxis\":{\"gridcolor\":\"white\",\"linecolor\":\"white\",\"ticks\":\"\",\"title\":{\"standoff\":15},\"zerolinecolor\":\"white\",\"automargin\":true,\"zerolinewidth\":2},\"scene\":{\"xaxis\":{\"backgroundcolor\":\"#E5ECF6\",\"gridcolor\":\"white\",\"linecolor\":\"white\",\"showbackground\":true,\"ticks\":\"\",\"zerolinecolor\":\"white\",\"gridwidth\":2},\"yaxis\":{\"backgroundcolor\":\"#E5ECF6\",\"gridcolor\":\"white\",\"linecolor\":\"white\",\"showbackground\":true,\"ticks\":\"\",\"zerolinecolor\":\"white\",\"gridwidth\":2},\"zaxis\":{\"backgroundcolor\":\"#E5ECF6\",\"gridcolor\":\"white\",\"linecolor\":\"white\",\"showbackground\":true,\"ticks\":\"\",\"zerolinecolor\":\"white\",\"gridwidth\":2}},\"shapedefaults\":{\"line\":{\"color\":\"#2a3f5f\"}},\"annotationdefaults\":{\"arrowcolor\":\"#2a3f5f\",\"arrowhead\":0,\"arrowwidth\":1},\"geo\":{\"bgcolor\":\"white\",\"landcolor\":\"#E5ECF6\",\"subunitcolor\":\"white\",\"showland\":true,\"showlakes\":true,\"lakecolor\":\"white\"},\"title\":{\"x\":0.05},\"mapbox\":{\"style\":\"light\"}}},\"xaxis\":{\"anchor\":\"y\",\"domain\":[0.0,1.0],\"title\":{\"text\":\"Date\"},\"showgrid\":false},\"yaxis\":{\"anchor\":\"x\",\"domain\":[0.0,1.0],\"title\":{\"text\":\"Open\"},\"showgrid\":false},\"legend\":{\"tracegroupgap\":0},\"margin\":{\"t\":60},\"title\":{\"text\":\"Stock close price chart\"},\"font\":{\"size\":15,\"color\":\"black\"},\"plot_bgcolor\":\"white\"},                        {\"responsive\": true}                    ).then(function(){\n",
       "                            \n",
       "var gd = document.getElementById('7aa5dcdb-f46a-473e-b6b0-00e12a612b9d');\n",
       "var x = new MutationObserver(function (mutations, observer) {{\n",
       "        var display = window.getComputedStyle(gd).display;\n",
       "        if (!display || display === 'none') {{\n",
       "            console.log([gd, 'removed!']);\n",
       "            Plotly.purge(gd);\n",
       "            observer.disconnect();\n",
       "        }}\n",
       "}});\n",
       "\n",
       "// Listen for the removal of the full notebook cells\n",
       "var notebookContainer = gd.closest('#notebook-container');\n",
       "if (notebookContainer) {{\n",
       "    x.observe(notebookContainer, {childList: true});\n",
       "}}\n",
       "\n",
       "// Listen for the clearing of the current output cell\n",
       "var outputEl = gd.closest('.output');\n",
       "if (outputEl) {{\n",
       "    x.observe(outputEl, {childList: true});\n",
       "}}\n",
       "\n",
       "                        })                };                });            </script>        </div>"
      ]
     },
     "metadata": {},
     "output_type": "display_data"
    }
   ],
   "source": [
    "fig = px.line(open_eth, x = open_eth.Date, y = open_eth.Open,labels = {'date':'Date','close':'Close Stock'})\n",
    "fig.update_traces(marker_line_width = 2, opacity = 0.8)\n",
    "fig.update_layout(title_text = 'Stock close price chart', plot_bgcolor = 'white', font_size = 15, font_color = 'black')\n",
    "fig.update_xaxes(showgrid = False)\n",
    "fig.update_yaxes(showgrid = False)\n",
    "fig.show()"
   ]
  },
  {
   "cell_type": "markdown",
   "id": "805692a2",
   "metadata": {
    "id": "TB47NF3LNUFm",
    "papermill": {
     "duration": 0.018025,
     "end_time": "2023-03-10T08:30:27.338134",
     "exception": false,
     "start_time": "2023-03-10T08:30:27.320109",
     "status": "completed"
    },
    "tags": []
   },
   "source": [
    "Considering only last 1 year data for prediction purposes."
   ]
  },
  {
   "cell_type": "code",
   "execution_count": 16,
   "id": "fbbbe9ba",
   "metadata": {
    "execution": {
     "iopub.execute_input": "2023-03-10T08:30:27.377785Z",
     "iopub.status.busy": "2023-03-10T08:30:27.376452Z",
     "iopub.status.idle": "2023-03-10T08:30:27.387211Z",
     "shell.execute_reply": "2023-03-10T08:30:27.385650Z"
    },
    "id": "dFj1_CWtY0vB",
    "outputId": "535c4fa5-c32e-4400-bb0d-dc0b8c1cb6d6",
    "papermill": {
     "duration": 0.034064,
     "end_time": "2023-03-10T08:30:27.390603",
     "exception": false,
     "start_time": "2023-03-10T08:30:27.356539",
     "status": "completed"
    },
    "tags": []
   },
   "outputs": [
    {
     "name": "stdout",
     "output_type": "stream",
     "text": [
      "Total data for prediction:  365\n"
     ]
    }
   ],
   "source": [
    "open_eth = open_eth[open_eth['Date'] > '2022-03-08']\n",
    "open_stock = open_eth.copy()\n",
    "print(\"Total data for prediction: \",open_stock.shape[0])"
   ]
  },
  {
   "cell_type": "code",
   "execution_count": 17,
   "id": "5a183f9d",
   "metadata": {
    "execution": {
     "iopub.execute_input": "2023-03-10T08:30:27.430889Z",
     "iopub.status.busy": "2023-03-10T08:30:27.429823Z",
     "iopub.status.idle": "2023-03-10T08:30:27.534916Z",
     "shell.execute_reply": "2023-03-10T08:30:27.531972Z"
    },
    "id": "z0q09ggAZSa1",
    "outputId": "07602543-28d3-42cd-b042-23e5e6624903",
    "papermill": {
     "duration": 0.128098,
     "end_time": "2023-03-10T08:30:27.537955",
     "exception": false,
     "start_time": "2023-03-10T08:30:27.409857",
     "status": "completed"
    },
    "tags": []
   },
   "outputs": [
    {
     "data": {
      "text/html": [
       "<div>                            <div id=\"15ec4ffc-a62f-417b-b68b-6f88a3452c8a\" class=\"plotly-graph-div\" style=\"height:525px; width:100%;\"></div>            <script type=\"text/javascript\">                require([\"plotly\"], function(Plotly) {                    window.PLOTLYENV=window.PLOTLYENV || {};                                    if (document.getElementById(\"15ec4ffc-a62f-417b-b68b-6f88a3452c8a\")) {                    Plotly.newPlot(                        \"15ec4ffc-a62f-417b-b68b-6f88a3452c8a\",                        [{\"hovertemplate\":\"Date=%{x}<br>Open Stock Price=%{y}<extra></extra>\",\"legendgroup\":\"\",\"line\":{\"color\":\"#636efa\",\"dash\":\"solid\"},\"marker\":{\"symbol\":\"circle\",\"line\":{\"color\":\"orange\",\"width\":2}},\"mode\":\"lines\",\"name\":\"\",\"orientation\":\"v\",\"showlegend\":false,\"x\":[\"2023-03-08T00:00:00\",\"2023-03-07T00:00:00\",\"2023-03-06T00:00:00\",\"2023-03-05T00:00:00\",\"2023-03-04T00:00:00\",\"2023-03-03T00:00:00\",\"2023-03-02T00:00:00\",\"2023-03-01T00:00:00\",\"2023-02-28T00:00:00\",\"2023-02-27T00:00:00\",\"2023-02-26T00:00:00\",\"2023-02-25T00:00:00\",\"2023-02-24T00:00:00\",\"2023-02-23T00:00:00\",\"2023-02-22T00:00:00\",\"2023-02-21T00:00:00\",\"2023-02-20T00:00:00\",\"2023-02-19T00:00:00\",\"2023-02-18T00:00:00\",\"2023-02-17T00:00:00\",\"2023-02-16T00:00:00\",\"2023-02-15T00:00:00\",\"2023-02-14T00:00:00\",\"2023-02-13T00:00:00\",\"2023-02-12T00:00:00\",\"2023-02-11T00:00:00\",\"2023-02-10T00:00:00\",\"2023-02-09T00:00:00\",\"2023-02-08T00:00:00\",\"2023-02-07T00:00:00\",\"2023-02-06T00:00:00\",\"2023-02-05T00:00:00\",\"2023-02-04T00:00:00\",\"2023-02-03T00:00:00\",\"2023-02-02T00:00:00\",\"2023-02-01T00:00:00\",\"2023-01-31T00:00:00\",\"2023-01-30T00:00:00\",\"2023-01-29T00:00:00\",\"2023-01-28T00:00:00\",\"2023-01-27T00:00:00\",\"2023-01-26T00:00:00\",\"2023-01-25T00:00:00\",\"2023-01-24T00:00:00\",\"2023-01-23T00:00:00\",\"2023-01-22T00:00:00\",\"2023-01-21T00:00:00\",\"2023-01-20T00:00:00\",\"2023-01-19T00:00:00\",\"2023-01-18T00:00:00\",\"2023-01-17T00:00:00\",\"2023-01-16T00:00:00\",\"2023-01-15T00:00:00\",\"2023-01-14T00:00:00\",\"2023-01-13T00:00:00\",\"2023-01-12T00:00:00\",\"2023-01-11T00:00:00\",\"2023-01-10T00:00:00\",\"2023-01-09T00:00:00\",\"2023-01-08T00:00:00\",\"2023-01-07T00:00:00\",\"2023-01-06T00:00:00\",\"2023-01-05T00:00:00\",\"2023-01-04T00:00:00\",\"2023-01-03T00:00:00\",\"2023-01-02T00:00:00\",\"2023-01-01T00:00:00\",\"2022-12-31T00:00:00\",\"2022-12-30T00:00:00\",\"2022-12-29T00:00:00\",\"2022-12-28T00:00:00\",\"2022-12-27T00:00:00\",\"2022-12-26T00:00:00\",\"2022-12-25T00:00:00\",\"2022-12-24T00:00:00\",\"2022-12-23T00:00:00\",\"2022-12-22T00:00:00\",\"2022-12-21T00:00:00\",\"2022-12-20T00:00:00\",\"2022-12-19T00:00:00\",\"2022-12-18T00:00:00\",\"2022-12-17T00:00:00\",\"2022-12-16T00:00:00\",\"2022-12-15T00:00:00\",\"2022-12-14T00:00:00\",\"2022-12-13T00:00:00\",\"2022-12-12T00:00:00\",\"2022-12-11T00:00:00\",\"2022-12-10T00:00:00\",\"2022-12-09T00:00:00\",\"2022-12-08T00:00:00\",\"2022-12-07T00:00:00\",\"2022-12-06T00:00:00\",\"2022-12-05T00:00:00\",\"2022-12-04T00:00:00\",\"2022-12-03T00:00:00\",\"2022-12-02T00:00:00\",\"2022-12-01T00:00:00\",\"2022-11-30T00:00:00\",\"2022-11-29T00:00:00\",\"2022-11-28T00:00:00\",\"2022-11-27T00:00:00\",\"2022-11-26T00:00:00\",\"2022-11-25T00:00:00\",\"2022-11-24T00:00:00\",\"2022-11-23T00:00:00\",\"2022-11-22T00:00:00\",\"2022-11-21T00:00:00\",\"2022-11-20T00:00:00\",\"2022-11-19T00:00:00\",\"2022-11-18T00:00:00\",\"2022-11-17T00:00:00\",\"2022-11-16T00:00:00\",\"2022-11-15T00:00:00\",\"2022-11-14T00:00:00\",\"2022-11-13T00:00:00\",\"2022-11-12T00:00:00\",\"2022-11-11T00:00:00\",\"2022-11-10T00:00:00\",\"2022-11-09T00:00:00\",\"2022-11-08T00:00:00\",\"2022-11-07T00:00:00\",\"2022-11-06T00:00:00\",\"2022-11-05T00:00:00\",\"2022-11-04T00:00:00\",\"2022-11-03T00:00:00\",\"2022-11-02T00:00:00\",\"2022-11-01T00:00:00\",\"2022-10-31T00:00:00\",\"2022-10-30T00:00:00\",\"2022-10-29T00:00:00\",\"2022-10-28T00:00:00\",\"2022-10-27T00:00:00\",\"2022-10-26T00:00:00\",\"2022-10-25T00:00:00\",\"2022-10-24T00:00:00\",\"2022-10-23T00:00:00\",\"2022-10-22T00:00:00\",\"2022-10-21T00:00:00\",\"2022-10-20T00:00:00\",\"2022-10-19T00:00:00\",\"2022-10-18T00:00:00\",\"2022-10-17T00:00:00\",\"2022-10-16T00:00:00\",\"2022-10-15T00:00:00\",\"2022-10-14T00:00:00\",\"2022-10-13T00:00:00\",\"2022-10-12T00:00:00\",\"2022-10-11T00:00:00\",\"2022-10-10T00:00:00\",\"2022-10-09T00:00:00\",\"2022-10-08T00:00:00\",\"2022-10-07T00:00:00\",\"2022-10-06T00:00:00\",\"2022-10-05T00:00:00\",\"2022-10-04T00:00:00\",\"2022-10-03T00:00:00\",\"2022-10-02T00:00:00\",\"2022-10-01T00:00:00\",\"2022-09-30T00:00:00\",\"2022-09-29T00:00:00\",\"2022-09-28T00:00:00\",\"2022-09-27T00:00:00\",\"2022-09-26T00:00:00\",\"2022-09-25T00:00:00\",\"2022-09-24T00:00:00\",\"2022-09-23T00:00:00\",\"2022-09-22T00:00:00\",\"2022-09-21T00:00:00\",\"2022-09-20T00:00:00\",\"2022-09-19T00:00:00\",\"2022-09-18T00:00:00\",\"2022-09-17T00:00:00\",\"2022-09-16T00:00:00\",\"2022-09-15T00:00:00\",\"2022-09-14T00:00:00\",\"2022-09-13T00:00:00\",\"2022-09-12T00:00:00\",\"2022-09-11T00:00:00\",\"2022-09-10T00:00:00\",\"2022-09-09T00:00:00\",\"2022-09-08T00:00:00\",\"2022-09-07T00:00:00\",\"2022-09-06T00:00:00\",\"2022-09-05T00:00:00\",\"2022-09-04T00:00:00\",\"2022-09-03T00:00:00\",\"2022-09-02T00:00:00\",\"2022-09-01T00:00:00\",\"2022-08-31T00:00:00\",\"2022-08-30T00:00:00\",\"2022-08-29T00:00:00\",\"2022-08-28T00:00:00\",\"2022-08-27T00:00:00\",\"2022-08-26T00:00:00\",\"2022-08-25T00:00:00\",\"2022-08-24T00:00:00\",\"2022-08-23T00:00:00\",\"2022-08-22T00:00:00\",\"2022-08-21T00:00:00\",\"2022-08-20T00:00:00\",\"2022-08-19T00:00:00\",\"2022-08-18T00:00:00\",\"2022-08-17T00:00:00\",\"2022-08-16T00:00:00\",\"2022-08-15T00:00:00\",\"2022-08-14T00:00:00\",\"2022-08-13T00:00:00\",\"2022-08-12T00:00:00\",\"2022-08-11T00:00:00\",\"2022-08-10T00:00:00\",\"2022-08-09T00:00:00\",\"2022-08-08T00:00:00\",\"2022-08-07T00:00:00\",\"2022-08-06T00:00:00\",\"2022-08-05T00:00:00\",\"2022-08-04T00:00:00\",\"2022-08-03T00:00:00\",\"2022-08-02T00:00:00\",\"2022-08-01T00:00:00\",\"2022-07-31T00:00:00\",\"2022-07-30T00:00:00\",\"2022-07-29T00:00:00\",\"2022-07-28T00:00:00\",\"2022-07-27T00:00:00\",\"2022-07-26T00:00:00\",\"2022-07-25T00:00:00\",\"2022-07-24T00:00:00\",\"2022-07-23T00:00:00\",\"2022-07-22T00:00:00\",\"2022-07-21T00:00:00\",\"2022-07-20T00:00:00\",\"2022-07-19T00:00:00\",\"2022-07-18T00:00:00\",\"2022-07-17T00:00:00\",\"2022-07-16T00:00:00\",\"2022-07-15T00:00:00\",\"2022-07-14T00:00:00\",\"2022-07-13T00:00:00\",\"2022-07-12T00:00:00\",\"2022-07-11T00:00:00\",\"2022-07-10T00:00:00\",\"2022-07-09T00:00:00\",\"2022-07-08T00:00:00\",\"2022-07-07T00:00:00\",\"2022-07-06T00:00:00\",\"2022-07-05T00:00:00\",\"2022-07-04T00:00:00\",\"2022-07-03T00:00:00\",\"2022-07-02T00:00:00\",\"2022-07-01T00:00:00\",\"2022-06-30T00:00:00\",\"2022-06-29T00:00:00\",\"2022-06-28T00:00:00\",\"2022-06-27T00:00:00\",\"2022-06-26T00:00:00\",\"2022-06-25T00:00:00\",\"2022-06-24T00:00:00\",\"2022-06-23T00:00:00\",\"2022-06-22T00:00:00\",\"2022-06-21T00:00:00\",\"2022-06-20T00:00:00\",\"2022-06-19T00:00:00\",\"2022-06-18T00:00:00\",\"2022-06-17T00:00:00\",\"2022-06-16T00:00:00\",\"2022-06-15T00:00:00\",\"2022-06-14T00:00:00\",\"2022-06-13T00:00:00\",\"2022-06-12T00:00:00\",\"2022-06-11T00:00:00\",\"2022-06-10T00:00:00\",\"2022-06-09T00:00:00\",\"2022-06-08T00:00:00\",\"2022-06-07T00:00:00\",\"2022-06-06T00:00:00\",\"2022-06-05T00:00:00\",\"2022-06-04T00:00:00\",\"2022-06-03T00:00:00\",\"2022-06-02T00:00:00\",\"2022-06-01T00:00:00\",\"2022-05-31T00:00:00\",\"2022-05-30T00:00:00\",\"2022-05-29T00:00:00\",\"2022-05-28T00:00:00\",\"2022-05-27T00:00:00\",\"2022-05-26T00:00:00\",\"2022-05-25T00:00:00\",\"2022-05-24T00:00:00\",\"2022-05-23T00:00:00\",\"2022-05-22T00:00:00\",\"2022-05-21T00:00:00\",\"2022-05-20T00:00:00\",\"2022-05-19T00:00:00\",\"2022-05-18T00:00:00\",\"2022-05-17T00:00:00\",\"2022-05-16T00:00:00\",\"2022-05-15T00:00:00\",\"2022-05-14T00:00:00\",\"2022-05-13T00:00:00\",\"2022-05-12T00:00:00\",\"2022-05-11T00:00:00\",\"2022-05-10T00:00:00\",\"2022-05-09T00:00:00\",\"2022-05-08T00:00:00\",\"2022-05-07T00:00:00\",\"2022-05-06T00:00:00\",\"2022-05-05T00:00:00\",\"2022-05-04T00:00:00\",\"2022-05-03T00:00:00\",\"2022-05-02T00:00:00\",\"2022-05-01T00:00:00\",\"2022-04-30T00:00:00\",\"2022-04-29T00:00:00\",\"2022-04-28T00:00:00\",\"2022-04-27T00:00:00\",\"2022-04-26T00:00:00\",\"2022-04-25T00:00:00\",\"2022-04-24T00:00:00\",\"2022-04-23T00:00:00\",\"2022-04-22T00:00:00\",\"2022-04-21T00:00:00\",\"2022-04-20T00:00:00\",\"2022-04-19T00:00:00\",\"2022-04-18T00:00:00\",\"2022-04-17T00:00:00\",\"2022-04-16T00:00:00\",\"2022-04-15T00:00:00\",\"2022-04-14T00:00:00\",\"2022-04-13T00:00:00\",\"2022-04-12T00:00:00\",\"2022-04-11T00:00:00\",\"2022-04-10T00:00:00\",\"2022-04-09T00:00:00\",\"2022-04-08T00:00:00\",\"2022-04-07T00:00:00\",\"2022-04-06T00:00:00\",\"2022-04-05T00:00:00\",\"2022-04-04T00:00:00\",\"2022-04-03T00:00:00\",\"2022-04-02T00:00:00\",\"2022-04-01T00:00:00\",\"2022-03-31T00:00:00\",\"2022-03-30T00:00:00\",\"2022-03-29T00:00:00\",\"2022-03-28T00:00:00\",\"2022-03-27T00:00:00\",\"2022-03-26T00:00:00\",\"2022-03-25T00:00:00\",\"2022-03-24T00:00:00\",\"2022-03-23T00:00:00\",\"2022-03-22T00:00:00\",\"2022-03-21T00:00:00\",\"2022-03-20T00:00:00\",\"2022-03-19T00:00:00\",\"2022-03-18T00:00:00\",\"2022-03-17T00:00:00\",\"2022-03-16T00:00:00\",\"2022-03-15T00:00:00\",\"2022-03-14T00:00:00\",\"2022-03-13T00:00:00\",\"2022-03-12T00:00:00\",\"2022-03-11T00:00:00\",\"2022-03-10T00:00:00\",\"2022-03-09T00:00:00\"],\"xaxis\":\"x\",\"y\":[1561.79,1565.84,1564.36,1566.73,1569.45,1647.86,1666.09,1604.69,1633.66,1641.59,1594.66,1608.24,1650.52,1643.39,1659.41,1703.29,1681.49,1691.62,1693.96,1640.66,1675.43,1555.45,1505.85,1515.44,1538.34,1513.12,1545.35,1650.97,1671.39,1613.72,1629.44,1666.9,1663.78,1641.7,1642.1,1585.27,1566.5,1645.97,1572.13,1597.61,1602.54,1611.2,1555.97,1626.52,1627.04,1626.66,1659.96,1551.12,1511.35,1564.66,1576.94,1552.69,1550.05,1450.86,1416.08,1389.84,1335.14,1320.51,1288.39,1263.91,1269.14,1250.95,1256.92,1214.57,1213.93,1200.52,1195.69,1200.0,1200.84,1189.99,1211.6,1228.22,1218.69,1220.46,1220.03,1217.59,1213.99,1217.19,1167.8,1182.7,1187.19,1166.7,1266.32,1307.29,1320.76,1275.49,1263.42,1266.36,1262.88,1280.29,1231.04,1271.24,1259.56,1279.21,1240.46,1295.69,1276.05,1294.4,1216.54,1167.73,1193.38,1205.17,1198.12,1203.77,1185.7,1139.74,1107.46,1142.88,1217.65,1208.92,1206.99,1206.16,1253.45,1242.64,1221.47,1256.29,1288.71,1299.21,1100.86,1335.26,1567.54,1570.71,1626.86,1645.03,1531.06,1518.99,1579.59,1572.89,1590.47,1619.67,1554.47,1514.14,1566.18,1459.6,1343.88,1364.19,1313.64,1299.76,1282.87,1285.33,1310.81,1331.4,1305.95,1274.93,1296.74,1287.33,1294.56,1279.97,1290.0,1323.17,1315.08,1331.07,1352.17,1352.07,1361.51,1323.37,1277.02,1311.8,1328.73,1336.05,1337.34,1328.23,1337.07,1294.24,1317.01,1327.91,1326.12,1247.64,1323.34,1375.96,1334.82,1468.76,1434.01,1472.63,1637.89,1574.41,1716.45,1766.99,1774.38,1718.84,1635.33,1629.63,1557.85,1617.4,1578.9,1557.35,1575.31,1585.55,1554.57,1523.39,1552.56,1426.25,1490.88,1508.32,1695.38,1656.64,1665.3,1626.7,1618.21,1575.61,1609.01,1846.52,1834.19,1876.69,1900.08,1935.1,1983.52,1957.62,1880.3,1853.5,1702.8,1778.15,1700.26,1690.29,1737.66,1607.0,1618.07,1631.46,1630.07,1679.98,1695.99,1720.8,1725.97,1635.99,1449.65,1438.76,1598.19,1549.61,1534.85,1575.68,1520.66,1543.45,1584.33,1337.92,1356.0,1231.03,1192.83,1115.8,1038.6,1096.41,1167.35,1216.94,1216.26,1238.1,1186.48,1133.87,1151.19,1074.07,1066.6,1059.05,1069.13,1099.51,1143.95,1191.02,1198.03,1241.8,1224.96,1144.33,1049.02,1125.96,1128.29,1128.39,995.49,1086.47,1068.49,1237.92,1208.82,1206.67,1434.43,1531.5,1663.04,1788.15,1792.81,1813.05,1859.99,1806.11,1804.6,1775.28,1834.66,1817.98,1941.81,1998.46,1813.56,1792.25,1724.67,1793.19,1942.89,1979.4,1973.01,2043.19,1975.12,1959.79,2019.36,1913.99,2091.05,2023.0,2145.86,2056.33,2009.55,1955.59,2087.17,2342.27,2229.69,2519.98,2636.03,2692.92,2747.6,2940.7,2781.47,2856.01,2825.65,2727.2,2817.14,2937.01,2889.01,2810.42,3006.04,2922.03,2931.9,2963.0,2983.91,3076.06,3101.79,3055.86,2989.05,3058.96,3042.01,3021.93,3117.21,3027.64,2978.45,3201.99,3259.59,3193.54,3228.83,3169.58,3406.83,3520.35,3521.16,3442.34,3456.18,3282.33,3385.6,3401.86,3329.67,3295.73,3145.95,3103.43,3110.8,3036.18,2969.64,2891.41,2861.66,2950.03,2939.76,2812.29,2773.8,2617.43,2589.54,2516.75,2569.8,2556.96,2606.5,2726.94,2577.21],\"yaxis\":\"y\",\"type\":\"scatter\",\"opacity\":0.8}],                        {\"template\":{\"data\":{\"histogram2dcontour\":[{\"type\":\"histogram2dcontour\",\"colorbar\":{\"outlinewidth\":0,\"ticks\":\"\"},\"colorscale\":[[0.0,\"#0d0887\"],[0.1111111111111111,\"#46039f\"],[0.2222222222222222,\"#7201a8\"],[0.3333333333333333,\"#9c179e\"],[0.4444444444444444,\"#bd3786\"],[0.5555555555555556,\"#d8576b\"],[0.6666666666666666,\"#ed7953\"],[0.7777777777777778,\"#fb9f3a\"],[0.8888888888888888,\"#fdca26\"],[1.0,\"#f0f921\"]]}],\"choropleth\":[{\"type\":\"choropleth\",\"colorbar\":{\"outlinewidth\":0,\"ticks\":\"\"}}],\"histogram2d\":[{\"type\":\"histogram2d\",\"colorbar\":{\"outlinewidth\":0,\"ticks\":\"\"},\"colorscale\":[[0.0,\"#0d0887\"],[0.1111111111111111,\"#46039f\"],[0.2222222222222222,\"#7201a8\"],[0.3333333333333333,\"#9c179e\"],[0.4444444444444444,\"#bd3786\"],[0.5555555555555556,\"#d8576b\"],[0.6666666666666666,\"#ed7953\"],[0.7777777777777778,\"#fb9f3a\"],[0.8888888888888888,\"#fdca26\"],[1.0,\"#f0f921\"]]}],\"heatmap\":[{\"type\":\"heatmap\",\"colorbar\":{\"outlinewidth\":0,\"ticks\":\"\"},\"colorscale\":[[0.0,\"#0d0887\"],[0.1111111111111111,\"#46039f\"],[0.2222222222222222,\"#7201a8\"],[0.3333333333333333,\"#9c179e\"],[0.4444444444444444,\"#bd3786\"],[0.5555555555555556,\"#d8576b\"],[0.6666666666666666,\"#ed7953\"],[0.7777777777777778,\"#fb9f3a\"],[0.8888888888888888,\"#fdca26\"],[1.0,\"#f0f921\"]]}],\"heatmapgl\":[{\"type\":\"heatmapgl\",\"colorbar\":{\"outlinewidth\":0,\"ticks\":\"\"},\"colorscale\":[[0.0,\"#0d0887\"],[0.1111111111111111,\"#46039f\"],[0.2222222222222222,\"#7201a8\"],[0.3333333333333333,\"#9c179e\"],[0.4444444444444444,\"#bd3786\"],[0.5555555555555556,\"#d8576b\"],[0.6666666666666666,\"#ed7953\"],[0.7777777777777778,\"#fb9f3a\"],[0.8888888888888888,\"#fdca26\"],[1.0,\"#f0f921\"]]}],\"contourcarpet\":[{\"type\":\"contourcarpet\",\"colorbar\":{\"outlinewidth\":0,\"ticks\":\"\"}}],\"contour\":[{\"type\":\"contour\",\"colorbar\":{\"outlinewidth\":0,\"ticks\":\"\"},\"colorscale\":[[0.0,\"#0d0887\"],[0.1111111111111111,\"#46039f\"],[0.2222222222222222,\"#7201a8\"],[0.3333333333333333,\"#9c179e\"],[0.4444444444444444,\"#bd3786\"],[0.5555555555555556,\"#d8576b\"],[0.6666666666666666,\"#ed7953\"],[0.7777777777777778,\"#fb9f3a\"],[0.8888888888888888,\"#fdca26\"],[1.0,\"#f0f921\"]]}],\"surface\":[{\"type\":\"surface\",\"colorbar\":{\"outlinewidth\":0,\"ticks\":\"\"},\"colorscale\":[[0.0,\"#0d0887\"],[0.1111111111111111,\"#46039f\"],[0.2222222222222222,\"#7201a8\"],[0.3333333333333333,\"#9c179e\"],[0.4444444444444444,\"#bd3786\"],[0.5555555555555556,\"#d8576b\"],[0.6666666666666666,\"#ed7953\"],[0.7777777777777778,\"#fb9f3a\"],[0.8888888888888888,\"#fdca26\"],[1.0,\"#f0f921\"]]}],\"mesh3d\":[{\"type\":\"mesh3d\",\"colorbar\":{\"outlinewidth\":0,\"ticks\":\"\"}}],\"scatter\":[{\"fillpattern\":{\"fillmode\":\"overlay\",\"size\":10,\"solidity\":0.2},\"type\":\"scatter\"}],\"parcoords\":[{\"type\":\"parcoords\",\"line\":{\"colorbar\":{\"outlinewidth\":0,\"ticks\":\"\"}}}],\"scatterpolargl\":[{\"type\":\"scatterpolargl\",\"marker\":{\"colorbar\":{\"outlinewidth\":0,\"ticks\":\"\"}}}],\"bar\":[{\"error_x\":{\"color\":\"#2a3f5f\"},\"error_y\":{\"color\":\"#2a3f5f\"},\"marker\":{\"line\":{\"color\":\"#E5ECF6\",\"width\":0.5},\"pattern\":{\"fillmode\":\"overlay\",\"size\":10,\"solidity\":0.2}},\"type\":\"bar\"}],\"scattergeo\":[{\"type\":\"scattergeo\",\"marker\":{\"colorbar\":{\"outlinewidth\":0,\"ticks\":\"\"}}}],\"scatterpolar\":[{\"type\":\"scatterpolar\",\"marker\":{\"colorbar\":{\"outlinewidth\":0,\"ticks\":\"\"}}}],\"histogram\":[{\"marker\":{\"pattern\":{\"fillmode\":\"overlay\",\"size\":10,\"solidity\":0.2}},\"type\":\"histogram\"}],\"scattergl\":[{\"type\":\"scattergl\",\"marker\":{\"colorbar\":{\"outlinewidth\":0,\"ticks\":\"\"}}}],\"scatter3d\":[{\"type\":\"scatter3d\",\"line\":{\"colorbar\":{\"outlinewidth\":0,\"ticks\":\"\"}},\"marker\":{\"colorbar\":{\"outlinewidth\":0,\"ticks\":\"\"}}}],\"scattermapbox\":[{\"type\":\"scattermapbox\",\"marker\":{\"colorbar\":{\"outlinewidth\":0,\"ticks\":\"\"}}}],\"scatterternary\":[{\"type\":\"scatterternary\",\"marker\":{\"colorbar\":{\"outlinewidth\":0,\"ticks\":\"\"}}}],\"scattercarpet\":[{\"type\":\"scattercarpet\",\"marker\":{\"colorbar\":{\"outlinewidth\":0,\"ticks\":\"\"}}}],\"carpet\":[{\"aaxis\":{\"endlinecolor\":\"#2a3f5f\",\"gridcolor\":\"white\",\"linecolor\":\"white\",\"minorgridcolor\":\"white\",\"startlinecolor\":\"#2a3f5f\"},\"baxis\":{\"endlinecolor\":\"#2a3f5f\",\"gridcolor\":\"white\",\"linecolor\":\"white\",\"minorgridcolor\":\"white\",\"startlinecolor\":\"#2a3f5f\"},\"type\":\"carpet\"}],\"table\":[{\"cells\":{\"fill\":{\"color\":\"#EBF0F8\"},\"line\":{\"color\":\"white\"}},\"header\":{\"fill\":{\"color\":\"#C8D4E3\"},\"line\":{\"color\":\"white\"}},\"type\":\"table\"}],\"barpolar\":[{\"marker\":{\"line\":{\"color\":\"#E5ECF6\",\"width\":0.5},\"pattern\":{\"fillmode\":\"overlay\",\"size\":10,\"solidity\":0.2}},\"type\":\"barpolar\"}],\"pie\":[{\"automargin\":true,\"type\":\"pie\"}]},\"layout\":{\"autotypenumbers\":\"strict\",\"colorway\":[\"#636efa\",\"#EF553B\",\"#00cc96\",\"#ab63fa\",\"#FFA15A\",\"#19d3f3\",\"#FF6692\",\"#B6E880\",\"#FF97FF\",\"#FECB52\"],\"font\":{\"color\":\"#2a3f5f\"},\"hovermode\":\"closest\",\"hoverlabel\":{\"align\":\"left\"},\"paper_bgcolor\":\"white\",\"plot_bgcolor\":\"#E5ECF6\",\"polar\":{\"bgcolor\":\"#E5ECF6\",\"angularaxis\":{\"gridcolor\":\"white\",\"linecolor\":\"white\",\"ticks\":\"\"},\"radialaxis\":{\"gridcolor\":\"white\",\"linecolor\":\"white\",\"ticks\":\"\"}},\"ternary\":{\"bgcolor\":\"#E5ECF6\",\"aaxis\":{\"gridcolor\":\"white\",\"linecolor\":\"white\",\"ticks\":\"\"},\"baxis\":{\"gridcolor\":\"white\",\"linecolor\":\"white\",\"ticks\":\"\"},\"caxis\":{\"gridcolor\":\"white\",\"linecolor\":\"white\",\"ticks\":\"\"}},\"coloraxis\":{\"colorbar\":{\"outlinewidth\":0,\"ticks\":\"\"}},\"colorscale\":{\"sequential\":[[0.0,\"#0d0887\"],[0.1111111111111111,\"#46039f\"],[0.2222222222222222,\"#7201a8\"],[0.3333333333333333,\"#9c179e\"],[0.4444444444444444,\"#bd3786\"],[0.5555555555555556,\"#d8576b\"],[0.6666666666666666,\"#ed7953\"],[0.7777777777777778,\"#fb9f3a\"],[0.8888888888888888,\"#fdca26\"],[1.0,\"#f0f921\"]],\"sequentialminus\":[[0.0,\"#0d0887\"],[0.1111111111111111,\"#46039f\"],[0.2222222222222222,\"#7201a8\"],[0.3333333333333333,\"#9c179e\"],[0.4444444444444444,\"#bd3786\"],[0.5555555555555556,\"#d8576b\"],[0.6666666666666666,\"#ed7953\"],[0.7777777777777778,\"#fb9f3a\"],[0.8888888888888888,\"#fdca26\"],[1.0,\"#f0f921\"]],\"diverging\":[[0,\"#8e0152\"],[0.1,\"#c51b7d\"],[0.2,\"#de77ae\"],[0.3,\"#f1b6da\"],[0.4,\"#fde0ef\"],[0.5,\"#f7f7f7\"],[0.6,\"#e6f5d0\"],[0.7,\"#b8e186\"],[0.8,\"#7fbc41\"],[0.9,\"#4d9221\"],[1,\"#276419\"]]},\"xaxis\":{\"gridcolor\":\"white\",\"linecolor\":\"white\",\"ticks\":\"\",\"title\":{\"standoff\":15},\"zerolinecolor\":\"white\",\"automargin\":true,\"zerolinewidth\":2},\"yaxis\":{\"gridcolor\":\"white\",\"linecolor\":\"white\",\"ticks\":\"\",\"title\":{\"standoff\":15},\"zerolinecolor\":\"white\",\"automargin\":true,\"zerolinewidth\":2},\"scene\":{\"xaxis\":{\"backgroundcolor\":\"#E5ECF6\",\"gridcolor\":\"white\",\"linecolor\":\"white\",\"showbackground\":true,\"ticks\":\"\",\"zerolinecolor\":\"white\",\"gridwidth\":2},\"yaxis\":{\"backgroundcolor\":\"#E5ECF6\",\"gridcolor\":\"white\",\"linecolor\":\"white\",\"showbackground\":true,\"ticks\":\"\",\"zerolinecolor\":\"white\",\"gridwidth\":2},\"zaxis\":{\"backgroundcolor\":\"#E5ECF6\",\"gridcolor\":\"white\",\"linecolor\":\"white\",\"showbackground\":true,\"ticks\":\"\",\"zerolinecolor\":\"white\",\"gridwidth\":2}},\"shapedefaults\":{\"line\":{\"color\":\"#2a3f5f\"}},\"annotationdefaults\":{\"arrowcolor\":\"#2a3f5f\",\"arrowhead\":0,\"arrowwidth\":1},\"geo\":{\"bgcolor\":\"white\",\"landcolor\":\"#E5ECF6\",\"subunitcolor\":\"white\",\"showland\":true,\"showlakes\":true,\"lakecolor\":\"white\"},\"title\":{\"x\":0.05},\"mapbox\":{\"style\":\"light\"}}},\"xaxis\":{\"anchor\":\"y\",\"domain\":[0.0,1.0],\"title\":{\"text\":\"Date\"},\"showgrid\":false},\"yaxis\":{\"anchor\":\"x\",\"domain\":[0.0,1.0],\"title\":{\"text\":\"Open Stock Price\"},\"showgrid\":false},\"legend\":{\"tracegroupgap\":0},\"margin\":{\"t\":60},\"title\":{\"text\":\"Considered period to predict Ethereum close price\"},\"font\":{\"size\":15,\"color\":\"black\"},\"plot_bgcolor\":\"white\"},                        {\"responsive\": true}                    ).then(function(){\n",
       "                            \n",
       "var gd = document.getElementById('15ec4ffc-a62f-417b-b68b-6f88a3452c8a');\n",
       "var x = new MutationObserver(function (mutations, observer) {{\n",
       "        var display = window.getComputedStyle(gd).display;\n",
       "        if (!display || display === 'none') {{\n",
       "            console.log([gd, 'removed!']);\n",
       "            Plotly.purge(gd);\n",
       "            observer.disconnect();\n",
       "        }}\n",
       "}});\n",
       "\n",
       "// Listen for the removal of the full notebook cells\n",
       "var notebookContainer = gd.closest('#notebook-container');\n",
       "if (notebookContainer) {{\n",
       "    x.observe(notebookContainer, {childList: true});\n",
       "}}\n",
       "\n",
       "// Listen for the clearing of the current output cell\n",
       "var outputEl = gd.closest('.output');\n",
       "if (outputEl) {{\n",
       "    x.observe(outputEl, {childList: true});\n",
       "}}\n",
       "\n",
       "                        })                };                });            </script>        </div>"
      ]
     },
     "metadata": {},
     "output_type": "display_data"
    }
   ],
   "source": [
    "fig = px.line(open_stock, x = open_stock.Date, y = open_stock.Open, labels = {'Date':'Date','Open':'Open Stock Price'})\n",
    "fig.update_traces(marker_line_width = 2, opacity = 0.8, marker_line_color = 'orange')\n",
    "fig.update_layout(title_text = 'Considered period to predict Ethereum close price', plot_bgcolor='white', font_size=15, font_color='black')\n",
    "fig.update_xaxes(showgrid = False)\n",
    "fig.update_yaxes(showgrid = False)\n",
    "fig.show()"
   ]
  },
  {
   "cell_type": "markdown",
   "id": "49f5f763",
   "metadata": {
    "id": "6pfmoTzWGyxM",
    "papermill": {
     "duration": 0.018018,
     "end_time": "2023-03-10T08:30:27.574589",
     "exception": false,
     "start_time": "2023-03-10T08:30:27.556571",
     "status": "completed"
    },
    "tags": []
   },
   "source": [
    "Normalizing Open Price"
   ]
  },
  {
   "cell_type": "code",
   "execution_count": 18,
   "id": "fd172972",
   "metadata": {
    "execution": {
     "iopub.execute_input": "2023-03-10T08:30:27.613718Z",
     "iopub.status.busy": "2023-03-10T08:30:27.613323Z",
     "iopub.status.idle": "2023-03-10T08:30:27.621335Z",
     "shell.execute_reply": "2023-03-10T08:30:27.620073Z"
    },
    "id": "5LmIzygoZg_h",
    "outputId": "89194f97-bb38-4074-930a-3f3716f2981b",
    "papermill": {
     "duration": 0.030463,
     "end_time": "2023-03-10T08:30:27.623873",
     "exception": false,
     "start_time": "2023-03-10T08:30:27.593410",
     "status": "completed"
    },
    "tags": []
   },
   "outputs": [
    {
     "name": "stdout",
     "output_type": "stream",
     "text": [
      "(365, 1)\n"
     ]
    }
   ],
   "source": [
    "del open_stock['Date']\n",
    "scaler = MinMaxScaler(feature_range = (0,1))\n",
    "open_stock = scaler.fit_transform(np.array(open_stock).reshape(-1,1))\n",
    "print(open_stock.shape)"
   ]
  },
  {
   "cell_type": "markdown",
   "id": "789238d5",
   "metadata": {
    "id": "lfr8OFFMOLqS",
    "papermill": {
     "duration": 0.017931,
     "end_time": "2023-03-10T08:30:27.660437",
     "exception": false,
     "start_time": "2023-03-10T08:30:27.642506",
     "status": "completed"
    },
    "tags": []
   },
   "source": [
    "Preparing data for train and test"
   ]
  },
  {
   "cell_type": "code",
   "execution_count": 19,
   "id": "011f6231",
   "metadata": {
    "execution": {
     "iopub.execute_input": "2023-03-10T08:30:27.699143Z",
     "iopub.status.busy": "2023-03-10T08:30:27.698750Z",
     "iopub.status.idle": "2023-03-10T08:30:27.705464Z",
     "shell.execute_reply": "2023-03-10T08:30:27.704269Z"
    },
    "id": "N23Jb3gLZ6_i",
    "outputId": "c90b7388-5157-4468-cc6f-dc7502bc1f9e",
    "papermill": {
     "duration": 0.029616,
     "end_time": "2023-03-10T08:30:27.708428",
     "exception": false,
     "start_time": "2023-03-10T08:30:27.678812",
     "status": "completed"
    },
    "tags": []
   },
   "outputs": [
    {
     "name": "stdout",
     "output_type": "stream",
     "text": [
      "Train_data : (273, 1)\n",
      "Test_data : (92, 1)\n"
     ]
    }
   ],
   "source": [
    "train_size = int(len(open_stock)*0.75)\n",
    "test_size = len(open_stock) - train_size\n",
    "train_data , test_data = open_stock[0:train_size, :] ,open_stock[train_size:len(open_stock),:1]\n",
    "print(\"Train_data :\", train_data.shape)\n",
    "print(\"Test_data :\", test_data.shape)"
   ]
  },
  {
   "cell_type": "markdown",
   "id": "c84deb28",
   "metadata": {
    "id": "JYoNUXMvORZs",
    "papermill": {
     "duration": 0.018382,
     "end_time": "2023-03-10T08:30:27.745377",
     "exception": false,
     "start_time": "2023-03-10T08:30:27.726995",
     "status": "completed"
    },
    "tags": []
   },
   "source": [
    "Converting Open price based on Time Series Forecasting requirement"
   ]
  },
  {
   "cell_type": "code",
   "execution_count": 20,
   "id": "aaf9e80a",
   "metadata": {
    "execution": {
     "iopub.execute_input": "2023-03-10T08:30:27.784417Z",
     "iopub.status.busy": "2023-03-10T08:30:27.783996Z",
     "iopub.status.idle": "2023-03-10T08:30:27.791347Z",
     "shell.execute_reply": "2023-03-10T08:30:27.790022Z"
    },
    "id": "YQztGNR0afGE",
    "papermill": {
     "duration": 0.029723,
     "end_time": "2023-03-10T08:30:27.793724",
     "exception": false,
     "start_time": "2023-03-10T08:30:27.764001",
     "status": "completed"
    },
    "tags": []
   },
   "outputs": [],
   "source": [
    "#Converting the array of values into a dataset matrix\n",
    "def create_dataset(dataset, time_step = 1):\n",
    "    dataX, dataY = [], []\n",
    "    for i in range(len(dataset) - time_step - 1):\n",
    "        a = dataset[i:(i + time_step), 0]    \n",
    "        dataX.append(a)\n",
    "        dataY.append(dataset[i + time_step, 0])\n",
    "    return np.array(dataX), np.array(dataY)"
   ]
  },
  {
   "cell_type": "code",
   "execution_count": 21,
   "id": "2cd384ea",
   "metadata": {
    "execution": {
     "iopub.execute_input": "2023-03-10T08:30:27.833993Z",
     "iopub.status.busy": "2023-03-10T08:30:27.833232Z",
     "iopub.status.idle": "2023-03-10T08:30:27.841049Z",
     "shell.execute_reply": "2023-03-10T08:30:27.839431Z"
    },
    "id": "1rdam8V6dBiX",
    "outputId": "5a5c5869-32f8-4ae1-cfd5-425857007ccc",
    "papermill": {
     "duration": 0.030619,
     "end_time": "2023-03-10T08:30:27.843270",
     "exception": false,
     "start_time": "2023-03-10T08:30:27.812651",
     "status": "completed"
    },
    "tags": []
   },
   "outputs": [
    {
     "name": "stdout",
     "output_type": "stream",
     "text": [
      "X_train:  (257, 15)\n",
      "y_train:  (257,)\n",
      "X_test:  (76, 15)\n",
      "y_test (76,)\n"
     ]
    }
   ],
   "source": [
    "time_step = 15\n",
    "x_train, y_train = create_dataset(train_data, time_step)\n",
    "x_test, y_test = create_dataset(test_data, time_step)\n",
    "\n",
    "print(\"X_train: \", x_train.shape)\n",
    "print(\"y_train: \", y_train.shape)\n",
    "print(\"X_test: \", x_test.shape)\n",
    "print(\"y_test\", y_test.shape)"
   ]
  },
  {
   "cell_type": "markdown",
   "id": "cf2b6241",
   "metadata": {
    "id": "u-rzpD4zOgYB",
    "papermill": {
     "duration": 0.019065,
     "end_time": "2023-03-10T08:30:27.881123",
     "exception": false,
     "start_time": "2023-03-10T08:30:27.862058",
     "status": "completed"
    },
    "tags": []
   },
   "source": [
    "Model Building (GRU)\n",
    "\n",
    "GRUs (Gated Recurrent Units) are very similar to Long Short Term Memory(LSTM). Just like LSTM, GRU uses gates to control the flow of information. They are relatively new as compared to LSTM. This is the reason they offer some improvement over LSTM and have simpler architecture."
   ]
  },
  {
   "cell_type": "code",
   "execution_count": 22,
   "id": "c35f28c0",
   "metadata": {
    "execution": {
     "iopub.execute_input": "2023-03-10T08:30:27.921173Z",
     "iopub.status.busy": "2023-03-10T08:30:27.920414Z",
     "iopub.status.idle": "2023-03-10T08:30:27.926942Z",
     "shell.execute_reply": "2023-03-10T08:30:27.925546Z"
    },
    "id": "aRDVW-cDHH-S",
    "outputId": "0735e663-8452-477a-f170-f2033d8e4894",
    "papermill": {
     "duration": 0.030234,
     "end_time": "2023-03-10T08:30:27.930204",
     "exception": false,
     "start_time": "2023-03-10T08:30:27.899970",
     "status": "completed"
    },
    "tags": []
   },
   "outputs": [
    {
     "name": "stdout",
     "output_type": "stream",
     "text": [
      "(257, 15, 1) (76, 15, 1)\n"
     ]
    }
   ],
   "source": [
    "#Reshaping input to be of format [samples, time steps, features] which is reuqired for LSTM\n",
    "x_train_lstm = x_train.reshape(x_train.shape[0], x_train.shape[1], 1)\n",
    "x_test_lstm = x_test.reshape(x_test.shape[0], x_test.shape[1], 1)\n",
    "\n",
    "print(x_train_lstm.shape, x_test_lstm.shape)"
   ]
  },
  {
   "cell_type": "code",
   "execution_count": 23,
   "id": "b207207f",
   "metadata": {
    "execution": {
     "iopub.execute_input": "2023-03-10T08:30:27.971051Z",
     "iopub.status.busy": "2023-03-10T08:30:27.970672Z",
     "iopub.status.idle": "2023-03-10T08:30:28.968782Z",
     "shell.execute_reply": "2023-03-10T08:30:28.967345Z"
    },
    "id": "1-9pVdV1Hswk",
    "papermill": {
     "duration": 1.022117,
     "end_time": "2023-03-10T08:30:28.971868",
     "exception": false,
     "start_time": "2023-03-10T08:30:27.949751",
     "status": "completed"
    },
    "tags": []
   },
   "outputs": [],
   "source": [
    "tf.keras.backend.clear_session()\n",
    "model = Sequential()\n",
    "model.add(GRU(32, return_sequences = True, input_shape = (time_step, 1)))\n",
    "model.add(GRU(32, return_sequences = True))\n",
    "model.add(GRU(32))\n",
    "model.add(Dropout(0.20))\n",
    "model.add(Dense(1))\n",
    "model.compile(loss = 'mean_squared_error', optimizer = 'adam')"
   ]
  },
  {
   "cell_type": "code",
   "execution_count": 24,
   "id": "c4c1207a",
   "metadata": {
    "execution": {
     "iopub.execute_input": "2023-03-10T08:30:29.013651Z",
     "iopub.status.busy": "2023-03-10T08:30:29.013214Z",
     "iopub.status.idle": "2023-03-10T08:30:29.044119Z",
     "shell.execute_reply": "2023-03-10T08:30:29.042743Z"
    },
    "id": "swdAh2hQHslH",
    "outputId": "6712f924-898f-4e9b-b567-e8c998aa15e4",
    "papermill": {
     "duration": 0.054988,
     "end_time": "2023-03-10T08:30:29.046555",
     "exception": false,
     "start_time": "2023-03-10T08:30:28.991567",
     "status": "completed"
    },
    "tags": []
   },
   "outputs": [
    {
     "name": "stdout",
     "output_type": "stream",
     "text": [
      "Model: \"sequential\"\n",
      "_________________________________________________________________\n",
      " Layer (type)                Output Shape              Param #   \n",
      "=================================================================\n",
      " gru (GRU)                   (None, 15, 32)            3360      \n",
      "                                                                 \n",
      " gru_1 (GRU)                 (None, 15, 32)            6336      \n",
      "                                                                 \n",
      " gru_2 (GRU)                 (None, 32)                6336      \n",
      "                                                                 \n",
      " dropout (Dropout)           (None, 32)                0         \n",
      "                                                                 \n",
      " dense (Dense)               (None, 1)                 33        \n",
      "                                                                 \n",
      "=================================================================\n",
      "Total params: 16,065\n",
      "Trainable params: 16,065\n",
      "Non-trainable params: 0\n",
      "_________________________________________________________________\n"
     ]
    }
   ],
   "source": [
    "model.summary()"
   ]
  },
  {
   "cell_type": "code",
   "execution_count": 25,
   "id": "5dc6179d",
   "metadata": {
    "execution": {
     "iopub.execute_input": "2023-03-10T08:30:29.091498Z",
     "iopub.status.busy": "2023-03-10T08:30:29.089997Z",
     "iopub.status.idle": "2023-03-10T08:31:28.306649Z",
     "shell.execute_reply": "2023-03-10T08:31:28.305222Z"
    },
    "id": "x81zXu40IP5g",
    "outputId": "b90c9975-99ae-49c8-d850-d3996000521a",
    "papermill": {
     "duration": 59.24278,
     "end_time": "2023-03-10T08:31:28.309353",
     "exception": false,
     "start_time": "2023-03-10T08:30:29.066573",
     "status": "completed"
    },
    "tags": []
   },
   "outputs": [
    {
     "name": "stdout",
     "output_type": "stream",
     "text": [
      "Epoch 1/200\n",
      "9/9 [==============================] - 8s 175ms/step - loss: 0.0120 - val_loss: 0.0621\n",
      "Epoch 2/200\n",
      "9/9 [==============================] - 0s 27ms/step - loss: 0.0052 - val_loss: 0.1355\n",
      "Epoch 3/200\n",
      "9/9 [==============================] - 0s 27ms/step - loss: 0.0037 - val_loss: 0.0465\n",
      "Epoch 4/200\n",
      "9/9 [==============================] - 0s 26ms/step - loss: 0.0031 - val_loss: 0.0415\n",
      "Epoch 5/200\n",
      "9/9 [==============================] - 0s 27ms/step - loss: 0.0028 - val_loss: 0.0307\n",
      "Epoch 6/200\n",
      "9/9 [==============================] - 0s 27ms/step - loss: 0.0025 - val_loss: 0.0163\n",
      "Epoch 7/200\n",
      "9/9 [==============================] - 0s 28ms/step - loss: 0.0025 - val_loss: 0.0131\n",
      "Epoch 8/200\n",
      "9/9 [==============================] - 0s 28ms/step - loss: 0.0023 - val_loss: 0.0091\n",
      "Epoch 9/200\n",
      "9/9 [==============================] - 0s 27ms/step - loss: 0.0023 - val_loss: 0.0109\n",
      "Epoch 10/200\n",
      "9/9 [==============================] - 0s 28ms/step - loss: 0.0022 - val_loss: 0.0068\n",
      "Epoch 11/200\n",
      "9/9 [==============================] - 0s 31ms/step - loss: 0.0028 - val_loss: 0.0188\n",
      "Epoch 12/200\n",
      "9/9 [==============================] - 0s 29ms/step - loss: 0.0020 - val_loss: 0.0204\n",
      "Epoch 13/200\n",
      "9/9 [==============================] - 0s 27ms/step - loss: 0.0022 - val_loss: 0.0161\n",
      "Epoch 14/200\n",
      "9/9 [==============================] - 0s 26ms/step - loss: 0.0021 - val_loss: 0.0123\n",
      "Epoch 15/200\n",
      "9/9 [==============================] - 0s 28ms/step - loss: 0.0017 - val_loss: 0.0055\n",
      "Epoch 16/200\n",
      "9/9 [==============================] - 0s 27ms/step - loss: 0.0019 - val_loss: 0.0055\n",
      "Epoch 17/200\n",
      "9/9 [==============================] - 0s 29ms/step - loss: 0.0024 - val_loss: 0.0104\n",
      "Epoch 18/200\n",
      "9/9 [==============================] - 0s 27ms/step - loss: 0.0020 - val_loss: 0.0058\n",
      "Epoch 19/200\n",
      "9/9 [==============================] - 0s 30ms/step - loss: 0.0017 - val_loss: 0.0119\n",
      "Epoch 20/200\n",
      "9/9 [==============================] - 0s 27ms/step - loss: 0.0017 - val_loss: 0.0110\n",
      "Epoch 21/200\n",
      "9/9 [==============================] - 0s 27ms/step - loss: 0.0016 - val_loss: 0.0135\n",
      "Epoch 22/200\n",
      "9/9 [==============================] - 0s 33ms/step - loss: 0.0017 - val_loss: 0.0052\n",
      "Epoch 23/200\n",
      "9/9 [==============================] - 0s 27ms/step - loss: 0.0016 - val_loss: 0.0092\n",
      "Epoch 24/200\n",
      "9/9 [==============================] - 0s 27ms/step - loss: 0.0016 - val_loss: 0.0043\n",
      "Epoch 25/200\n",
      "9/9 [==============================] - 0s 27ms/step - loss: 0.0015 - val_loss: 0.0048\n",
      "Epoch 26/200\n",
      "9/9 [==============================] - 0s 27ms/step - loss: 0.0014 - val_loss: 0.0085\n",
      "Epoch 27/200\n",
      "9/9 [==============================] - 0s 27ms/step - loss: 0.0014 - val_loss: 0.0072\n",
      "Epoch 28/200\n",
      "9/9 [==============================] - 0s 28ms/step - loss: 0.0014 - val_loss: 0.0085\n",
      "Epoch 29/200\n",
      "9/9 [==============================] - 0s 26ms/step - loss: 0.0014 - val_loss: 0.0182\n",
      "Epoch 30/200\n",
      "9/9 [==============================] - 0s 27ms/step - loss: 0.0019 - val_loss: 0.0073\n",
      "Epoch 31/200\n",
      "9/9 [==============================] - 0s 27ms/step - loss: 0.0018 - val_loss: 0.0265\n",
      "Epoch 32/200\n",
      "9/9 [==============================] - 0s 28ms/step - loss: 0.0015 - val_loss: 0.0059\n",
      "Epoch 33/200\n",
      "9/9 [==============================] - 0s 27ms/step - loss: 0.0012 - val_loss: 0.0069\n",
      "Epoch 34/200\n",
      "9/9 [==============================] - 0s 28ms/step - loss: 0.0011 - val_loss: 0.0043\n",
      "Epoch 35/200\n",
      "9/9 [==============================] - 0s 28ms/step - loss: 0.0012 - val_loss: 0.0044\n",
      "Epoch 36/200\n",
      "9/9 [==============================] - 0s 27ms/step - loss: 0.0012 - val_loss: 0.0137\n",
      "Epoch 37/200\n",
      "9/9 [==============================] - 0s 30ms/step - loss: 0.0017 - val_loss: 0.0133\n",
      "Epoch 38/200\n",
      "9/9 [==============================] - 0s 28ms/step - loss: 0.0013 - val_loss: 0.0058\n",
      "Epoch 39/200\n",
      "9/9 [==============================] - 0s 27ms/step - loss: 0.0012 - val_loss: 0.0046\n",
      "Epoch 40/200\n",
      "9/9 [==============================] - 0s 34ms/step - loss: 0.0011 - val_loss: 0.0018\n",
      "Epoch 41/200\n",
      "9/9 [==============================] - 0s 33ms/step - loss: 0.0012 - val_loss: 0.0080\n",
      "Epoch 42/200\n",
      "9/9 [==============================] - 0s 33ms/step - loss: 0.0012 - val_loss: 0.0063\n",
      "Epoch 43/200\n",
      "9/9 [==============================] - 0s 33ms/step - loss: 0.0012 - val_loss: 0.0130\n",
      "Epoch 44/200\n",
      "9/9 [==============================] - 0s 29ms/step - loss: 0.0012 - val_loss: 0.0075\n",
      "Epoch 45/200\n",
      "9/9 [==============================] - 0s 27ms/step - loss: 0.0012 - val_loss: 0.0029\n",
      "Epoch 46/200\n",
      "9/9 [==============================] - 0s 26ms/step - loss: 0.0019 - val_loss: 0.0150\n",
      "Epoch 47/200\n",
      "9/9 [==============================] - 0s 28ms/step - loss: 0.0013 - val_loss: 0.0025\n",
      "Epoch 48/200\n",
      "9/9 [==============================] - 0s 27ms/step - loss: 0.0016 - val_loss: 0.0073\n",
      "Epoch 49/200\n",
      "9/9 [==============================] - 0s 27ms/step - loss: 0.0014 - val_loss: 0.0022\n",
      "Epoch 50/200\n",
      "9/9 [==============================] - 0s 26ms/step - loss: 0.0013 - val_loss: 0.0031\n",
      "Epoch 51/200\n",
      "9/9 [==============================] - 0s 27ms/step - loss: 0.0012 - val_loss: 0.0053\n",
      "Epoch 52/200\n",
      "9/9 [==============================] - 0s 27ms/step - loss: 0.0013 - val_loss: 0.0056\n",
      "Epoch 53/200\n",
      "9/9 [==============================] - 0s 28ms/step - loss: 9.7666e-04 - val_loss: 0.0123\n",
      "Epoch 54/200\n",
      "9/9 [==============================] - 0s 26ms/step - loss: 9.9593e-04 - val_loss: 0.0092\n",
      "Epoch 55/200\n",
      "9/9 [==============================] - 0s 28ms/step - loss: 0.0011 - val_loss: 0.0089\n",
      "Epoch 56/200\n",
      "9/9 [==============================] - 0s 27ms/step - loss: 0.0011 - val_loss: 0.0134\n",
      "Epoch 57/200\n",
      "9/9 [==============================] - 0s 28ms/step - loss: 0.0012 - val_loss: 0.0065\n",
      "Epoch 58/200\n",
      "9/9 [==============================] - 0s 31ms/step - loss: 9.6368e-04 - val_loss: 0.0077\n",
      "Epoch 59/200\n",
      "9/9 [==============================] - 0s 28ms/step - loss: 9.4754e-04 - val_loss: 0.0042\n",
      "Epoch 60/200\n",
      "9/9 [==============================] - 0s 28ms/step - loss: 8.4222e-04 - val_loss: 0.0081\n",
      "Epoch 61/200\n",
      "9/9 [==============================] - 0s 26ms/step - loss: 0.0011 - val_loss: 0.0021\n",
      "Epoch 62/200\n",
      "9/9 [==============================] - 0s 31ms/step - loss: 0.0012 - val_loss: 0.0130\n",
      "Epoch 63/200\n",
      "9/9 [==============================] - 0s 27ms/step - loss: 0.0016 - val_loss: 0.0148\n",
      "Epoch 64/200\n",
      "9/9 [==============================] - 0s 27ms/step - loss: 0.0017 - val_loss: 0.0286\n",
      "Epoch 65/200\n",
      "9/9 [==============================] - 0s 27ms/step - loss: 0.0013 - val_loss: 0.0100\n",
      "Epoch 66/200\n",
      "9/9 [==============================] - 0s 33ms/step - loss: 0.0011 - val_loss: 0.0074\n",
      "Epoch 67/200\n",
      "9/9 [==============================] - 0s 27ms/step - loss: 8.7194e-04 - val_loss: 0.0024\n",
      "Epoch 68/200\n",
      "9/9 [==============================] - 0s 27ms/step - loss: 9.3005e-04 - val_loss: 0.0074\n",
      "Epoch 69/200\n",
      "9/9 [==============================] - 0s 28ms/step - loss: 9.7411e-04 - val_loss: 0.0070\n",
      "Epoch 70/200\n",
      "9/9 [==============================] - 0s 32ms/step - loss: 9.0007e-04 - val_loss: 0.0106\n",
      "Epoch 71/200\n",
      "9/9 [==============================] - 0s 28ms/step - loss: 8.4442e-04 - val_loss: 0.0048\n",
      "Epoch 72/200\n",
      "9/9 [==============================] - 0s 27ms/step - loss: 0.0011 - val_loss: 0.0117\n",
      "Epoch 73/200\n",
      "9/9 [==============================] - 0s 29ms/step - loss: 0.0013 - val_loss: 0.0020\n",
      "Epoch 74/200\n",
      "9/9 [==============================] - 0s 28ms/step - loss: 0.0011 - val_loss: 0.0094\n",
      "Epoch 75/200\n",
      "9/9 [==============================] - 0s 27ms/step - loss: 0.0010 - val_loss: 0.0035\n",
      "Epoch 76/200\n",
      "9/9 [==============================] - 0s 28ms/step - loss: 9.8658e-04 - val_loss: 0.0081\n",
      "Epoch 77/200\n",
      "9/9 [==============================] - 0s 28ms/step - loss: 0.0012 - val_loss: 0.0087\n",
      "Epoch 78/200\n",
      "9/9 [==============================] - 0s 27ms/step - loss: 9.9291e-04 - val_loss: 0.0043\n",
      "Epoch 79/200\n",
      "9/9 [==============================] - 0s 27ms/step - loss: 0.0010 - val_loss: 0.0083\n",
      "Epoch 80/200\n",
      "9/9 [==============================] - 0s 28ms/step - loss: 0.0010 - val_loss: 0.0062\n",
      "Epoch 81/200\n",
      "9/9 [==============================] - 0s 28ms/step - loss: 0.0011 - val_loss: 0.0174\n",
      "Epoch 82/200\n",
      "9/9 [==============================] - 0s 27ms/step - loss: 0.0022 - val_loss: 0.0103\n",
      "Epoch 83/200\n",
      "9/9 [==============================] - 0s 28ms/step - loss: 0.0010 - val_loss: 0.0148\n",
      "Epoch 84/200\n",
      "9/9 [==============================] - 0s 27ms/step - loss: 0.0011 - val_loss: 0.0077\n",
      "Epoch 85/200\n",
      "9/9 [==============================] - 0s 27ms/step - loss: 0.0010 - val_loss: 0.0036\n",
      "Epoch 86/200\n",
      "9/9 [==============================] - 0s 28ms/step - loss: 9.3135e-04 - val_loss: 0.0032\n",
      "Epoch 87/200\n",
      "9/9 [==============================] - 0s 33ms/step - loss: 9.8260e-04 - val_loss: 0.0072\n",
      "Epoch 88/200\n",
      "9/9 [==============================] - 0s 29ms/step - loss: 9.0697e-04 - val_loss: 0.0035\n",
      "Epoch 89/200\n",
      "9/9 [==============================] - 0s 29ms/step - loss: 0.0010 - val_loss: 0.0074\n",
      "Epoch 90/200\n",
      "9/9 [==============================] - 0s 27ms/step - loss: 9.7460e-04 - val_loss: 0.0041\n",
      "Epoch 91/200\n",
      "9/9 [==============================] - 0s 28ms/step - loss: 0.0010 - val_loss: 0.0057\n",
      "Epoch 92/200\n",
      "9/9 [==============================] - 0s 28ms/step - loss: 8.4360e-04 - val_loss: 0.0040\n",
      "Epoch 93/200\n",
      "9/9 [==============================] - 0s 28ms/step - loss: 8.1621e-04 - val_loss: 0.0084\n",
      "Epoch 94/200\n",
      "9/9 [==============================] - 0s 27ms/step - loss: 8.9715e-04 - val_loss: 0.0079\n",
      "Epoch 95/200\n",
      "9/9 [==============================] - 0s 27ms/step - loss: 9.0655e-04 - val_loss: 0.0066\n",
      "Epoch 96/200\n",
      "9/9 [==============================] - 0s 28ms/step - loss: 8.5544e-04 - val_loss: 0.0042\n",
      "Epoch 97/200\n",
      "9/9 [==============================] - 0s 29ms/step - loss: 9.0652e-04 - val_loss: 0.0094\n",
      "Epoch 98/200\n",
      "9/9 [==============================] - 0s 27ms/step - loss: 0.0014 - val_loss: 0.0072\n",
      "Epoch 99/200\n",
      "9/9 [==============================] - 0s 28ms/step - loss: 0.0011 - val_loss: 0.0172\n",
      "Epoch 100/200\n",
      "9/9 [==============================] - 0s 27ms/step - loss: 0.0014 - val_loss: 0.0075\n",
      "Epoch 101/200\n",
      "9/9 [==============================] - 0s 28ms/step - loss: 0.0012 - val_loss: 0.0121\n",
      "Epoch 102/200\n",
      "9/9 [==============================] - 0s 28ms/step - loss: 0.0013 - val_loss: 0.0105\n",
      "Epoch 103/200\n",
      "9/9 [==============================] - 0s 29ms/step - loss: 9.5376e-04 - val_loss: 0.0103\n",
      "Epoch 104/200\n",
      "9/9 [==============================] - 0s 28ms/step - loss: 8.4252e-04 - val_loss: 0.0055\n",
      "Epoch 105/200\n",
      "9/9 [==============================] - 0s 35ms/step - loss: 7.5067e-04 - val_loss: 0.0037\n",
      "Epoch 106/200\n",
      "9/9 [==============================] - 0s 29ms/step - loss: 8.4676e-04 - val_loss: 0.0031\n",
      "Epoch 107/200\n",
      "9/9 [==============================] - 0s 27ms/step - loss: 9.1933e-04 - val_loss: 0.0045\n",
      "Epoch 108/200\n",
      "9/9 [==============================] - 0s 28ms/step - loss: 9.5072e-04 - val_loss: 0.0059\n",
      "Epoch 109/200\n",
      "9/9 [==============================] - 0s 29ms/step - loss: 7.7751e-04 - val_loss: 0.0058\n",
      "Epoch 110/200\n",
      "9/9 [==============================] - 0s 28ms/step - loss: 8.0427e-04 - val_loss: 0.0062\n",
      "Epoch 111/200\n",
      "9/9 [==============================] - 0s 28ms/step - loss: 8.0671e-04 - val_loss: 0.0060\n",
      "Epoch 112/200\n",
      "9/9 [==============================] - 0s 29ms/step - loss: 8.2012e-04 - val_loss: 0.0054\n",
      "Epoch 113/200\n",
      "9/9 [==============================] - 0s 29ms/step - loss: 9.1637e-04 - val_loss: 0.0060\n",
      "Epoch 114/200\n",
      "9/9 [==============================] - 0s 27ms/step - loss: 8.4277e-04 - val_loss: 0.0046\n",
      "Epoch 115/200\n",
      "9/9 [==============================] - 0s 29ms/step - loss: 7.5665e-04 - val_loss: 0.0054\n",
      "Epoch 116/200\n",
      "9/9 [==============================] - 0s 28ms/step - loss: 7.4861e-04 - val_loss: 0.0068\n",
      "Epoch 117/200\n",
      "9/9 [==============================] - 0s 28ms/step - loss: 8.6564e-04 - val_loss: 0.0044\n",
      "Epoch 118/200\n",
      "9/9 [==============================] - 0s 35ms/step - loss: 7.7507e-04 - val_loss: 0.0062\n",
      "Epoch 119/200\n",
      "9/9 [==============================] - 0s 29ms/step - loss: 8.3912e-04 - val_loss: 0.0052\n",
      "Epoch 120/200\n",
      "9/9 [==============================] - 0s 29ms/step - loss: 8.2297e-04 - val_loss: 0.0061\n",
      "Epoch 121/200\n",
      "9/9 [==============================] - 0s 27ms/step - loss: 8.6017e-04 - val_loss: 0.0032\n",
      "Epoch 122/200\n",
      "9/9 [==============================] - 0s 29ms/step - loss: 9.5499e-04 - val_loss: 0.0061\n",
      "Epoch 123/200\n",
      "9/9 [==============================] - 0s 29ms/step - loss: 8.2237e-04 - val_loss: 0.0035\n",
      "Epoch 124/200\n",
      "9/9 [==============================] - 0s 29ms/step - loss: 0.0010 - val_loss: 0.0161\n",
      "Epoch 125/200\n",
      "9/9 [==============================] - 0s 28ms/step - loss: 0.0010 - val_loss: 0.0059\n",
      "Epoch 126/200\n",
      "9/9 [==============================] - 0s 28ms/step - loss: 0.0012 - val_loss: 0.0096\n",
      "Epoch 127/200\n",
      "9/9 [==============================] - 0s 29ms/step - loss: 0.0010 - val_loss: 0.0028\n",
      "Epoch 128/200\n",
      "9/9 [==============================] - 0s 27ms/step - loss: 8.0528e-04 - val_loss: 0.0036\n",
      "Epoch 129/200\n",
      "9/9 [==============================] - 0s 28ms/step - loss: 8.1687e-04 - val_loss: 0.0030\n",
      "Epoch 130/200\n",
      "9/9 [==============================] - 0s 28ms/step - loss: 7.1488e-04 - val_loss: 0.0044\n",
      "Epoch 131/200\n",
      "9/9 [==============================] - 0s 29ms/step - loss: 8.3669e-04 - val_loss: 0.0077\n",
      "Epoch 132/200\n",
      "9/9 [==============================] - 0s 28ms/step - loss: 0.0011 - val_loss: 0.0100\n",
      "Epoch 133/200\n",
      "9/9 [==============================] - 0s 28ms/step - loss: 9.2119e-04 - val_loss: 0.0100\n",
      "Epoch 134/200\n",
      "9/9 [==============================] - 0s 28ms/step - loss: 9.0705e-04 - val_loss: 0.0083\n",
      "Epoch 135/200\n",
      "9/9 [==============================] - 0s 30ms/step - loss: 0.0011 - val_loss: 0.0046\n",
      "Epoch 136/200\n",
      "9/9 [==============================] - 0s 28ms/step - loss: 0.0012 - val_loss: 0.0127\n",
      "Epoch 137/200\n",
      "9/9 [==============================] - 0s 29ms/step - loss: 0.0010 - val_loss: 0.0059\n",
      "Epoch 138/200\n",
      "9/9 [==============================] - 0s 28ms/step - loss: 8.3223e-04 - val_loss: 0.0041\n",
      "Epoch 139/200\n",
      "9/9 [==============================] - 0s 28ms/step - loss: 9.1091e-04 - val_loss: 0.0025\n",
      "Epoch 140/200\n",
      "9/9 [==============================] - 0s 28ms/step - loss: 0.0012 - val_loss: 0.0047\n",
      "Epoch 141/200\n",
      "9/9 [==============================] - 0s 28ms/step - loss: 9.1307e-04 - val_loss: 0.0058\n",
      "Epoch 142/200\n",
      "9/9 [==============================] - 0s 29ms/step - loss: 0.0011 - val_loss: 0.0068\n",
      "Epoch 143/200\n",
      "9/9 [==============================] - 0s 32ms/step - loss: 0.0011 - val_loss: 0.0085\n",
      "Epoch 144/200\n",
      "9/9 [==============================] - 0s 28ms/step - loss: 9.9190e-04 - val_loss: 0.0045\n",
      "Epoch 145/200\n",
      "9/9 [==============================] - 0s 35ms/step - loss: 9.3540e-04 - val_loss: 0.0082\n",
      "Epoch 146/200\n",
      "9/9 [==============================] - 0s 29ms/step - loss: 8.9613e-04 - val_loss: 0.0036\n",
      "Epoch 147/200\n",
      "9/9 [==============================] - 0s 27ms/step - loss: 9.1617e-04 - val_loss: 0.0049\n",
      "Epoch 148/200\n",
      "9/9 [==============================] - 0s 34ms/step - loss: 8.3017e-04 - val_loss: 0.0046\n",
      "Epoch 149/200\n",
      "9/9 [==============================] - 0s 29ms/step - loss: 8.3057e-04 - val_loss: 0.0063\n",
      "Epoch 150/200\n",
      "9/9 [==============================] - 0s 28ms/step - loss: 7.9723e-04 - val_loss: 0.0050\n",
      "Epoch 151/200\n",
      "9/9 [==============================] - 0s 30ms/step - loss: 8.4476e-04 - val_loss: 0.0054\n",
      "Epoch 152/200\n",
      "9/9 [==============================] - 0s 29ms/step - loss: 6.8743e-04 - val_loss: 0.0049\n",
      "Epoch 153/200\n",
      "9/9 [==============================] - 0s 27ms/step - loss: 8.4191e-04 - val_loss: 0.0048\n",
      "Epoch 154/200\n",
      "9/9 [==============================] - 0s 28ms/step - loss: 8.9359e-04 - val_loss: 0.0068\n",
      "Epoch 155/200\n",
      "9/9 [==============================] - 0s 28ms/step - loss: 7.0748e-04 - val_loss: 0.0055\n",
      "Epoch 156/200\n",
      "9/9 [==============================] - 0s 28ms/step - loss: 7.5954e-04 - val_loss: 0.0045\n",
      "Epoch 157/200\n",
      "9/9 [==============================] - 0s 30ms/step - loss: 7.5041e-04 - val_loss: 0.0069\n",
      "Epoch 158/200\n",
      "9/9 [==============================] - 0s 34ms/step - loss: 8.3645e-04 - val_loss: 0.0067\n",
      "Epoch 159/200\n",
      "9/9 [==============================] - 0s 28ms/step - loss: 8.6357e-04 - val_loss: 0.0075\n",
      "Epoch 160/200\n",
      "9/9 [==============================] - 0s 27ms/step - loss: 9.1092e-04 - val_loss: 0.0040\n",
      "Epoch 161/200\n",
      "9/9 [==============================] - 0s 29ms/step - loss: 8.9372e-04 - val_loss: 0.0038\n",
      "Epoch 162/200\n",
      "9/9 [==============================] - 0s 27ms/step - loss: 8.1020e-04 - val_loss: 0.0049\n",
      "Epoch 163/200\n",
      "9/9 [==============================] - 0s 29ms/step - loss: 8.8139e-04 - val_loss: 0.0120\n",
      "Epoch 164/200\n",
      "9/9 [==============================] - 0s 42ms/step - loss: 8.3088e-04 - val_loss: 0.0067\n",
      "Epoch 165/200\n",
      "9/9 [==============================] - 0s 35ms/step - loss: 7.7552e-04 - val_loss: 0.0050\n",
      "Epoch 166/200\n",
      "9/9 [==============================] - 0s 32ms/step - loss: 0.0011 - val_loss: 0.0047\n",
      "Epoch 167/200\n",
      "9/9 [==============================] - 0s 31ms/step - loss: 0.0010 - val_loss: 0.0100\n",
      "Epoch 168/200\n",
      "9/9 [==============================] - 0s 27ms/step - loss: 8.1282e-04 - val_loss: 0.0059\n",
      "Epoch 169/200\n",
      "9/9 [==============================] - 0s 26ms/step - loss: 7.7803e-04 - val_loss: 0.0044\n",
      "Epoch 170/200\n",
      "9/9 [==============================] - 0s 28ms/step - loss: 7.4873e-04 - val_loss: 0.0042\n",
      "Epoch 171/200\n",
      "9/9 [==============================] - 0s 27ms/step - loss: 7.7170e-04 - val_loss: 0.0042\n",
      "Epoch 172/200\n",
      "9/9 [==============================] - 0s 28ms/step - loss: 9.5847e-04 - val_loss: 0.0064\n",
      "Epoch 173/200\n",
      "9/9 [==============================] - 0s 27ms/step - loss: 8.7696e-04 - val_loss: 0.0079\n",
      "Epoch 174/200\n",
      "9/9 [==============================] - 0s 28ms/step - loss: 8.1724e-04 - val_loss: 0.0045\n",
      "Epoch 175/200\n",
      "9/9 [==============================] - 0s 28ms/step - loss: 8.0787e-04 - val_loss: 0.0035\n",
      "Epoch 176/200\n",
      "9/9 [==============================] - 0s 29ms/step - loss: 8.3939e-04 - val_loss: 0.0038\n",
      "Epoch 177/200\n",
      "9/9 [==============================] - 0s 29ms/step - loss: 6.8405e-04 - val_loss: 0.0041\n",
      "Epoch 178/200\n",
      "9/9 [==============================] - 0s 27ms/step - loss: 7.9524e-04 - val_loss: 0.0075\n",
      "Epoch 179/200\n",
      "9/9 [==============================] - 0s 29ms/step - loss: 9.7156e-04 - val_loss: 0.0062\n",
      "Epoch 180/200\n",
      "9/9 [==============================] - 0s 28ms/step - loss: 0.0012 - val_loss: 0.0068\n",
      "Epoch 181/200\n",
      "9/9 [==============================] - 0s 28ms/step - loss: 0.0012 - val_loss: 0.0021\n",
      "Epoch 182/200\n",
      "9/9 [==============================] - 0s 28ms/step - loss: 0.0011 - val_loss: 0.0057\n",
      "Epoch 183/200\n",
      "9/9 [==============================] - 0s 28ms/step - loss: 9.8576e-04 - val_loss: 0.0039\n",
      "Epoch 184/200\n",
      "9/9 [==============================] - 0s 27ms/step - loss: 8.2869e-04 - val_loss: 0.0063\n",
      "Epoch 185/200\n",
      "9/9 [==============================] - 0s 30ms/step - loss: 8.1223e-04 - val_loss: 0.0032\n",
      "Epoch 186/200\n",
      "9/9 [==============================] - 0s 30ms/step - loss: 7.3842e-04 - val_loss: 0.0028\n",
      "Epoch 187/200\n",
      "9/9 [==============================] - 0s 27ms/step - loss: 6.9568e-04 - val_loss: 0.0037\n",
      "Epoch 188/200\n",
      "9/9 [==============================] - 0s 28ms/step - loss: 7.5467e-04 - val_loss: 0.0045\n",
      "Epoch 189/200\n",
      "9/9 [==============================] - 0s 28ms/step - loss: 7.3512e-04 - val_loss: 0.0038\n",
      "Epoch 190/200\n",
      "9/9 [==============================] - 0s 31ms/step - loss: 7.8443e-04 - val_loss: 0.0050\n",
      "Epoch 191/200\n",
      "9/9 [==============================] - 0s 29ms/step - loss: 7.2056e-04 - val_loss: 0.0037\n",
      "Epoch 192/200\n",
      "9/9 [==============================] - 0s 29ms/step - loss: 7.8422e-04 - val_loss: 0.0031\n",
      "Epoch 193/200\n",
      "9/9 [==============================] - 0s 28ms/step - loss: 7.3934e-04 - val_loss: 0.0030\n",
      "Epoch 194/200\n",
      "9/9 [==============================] - 0s 29ms/step - loss: 7.8872e-04 - val_loss: 0.0044\n",
      "Epoch 195/200\n",
      "9/9 [==============================] - 0s 28ms/step - loss: 8.1576e-04 - val_loss: 0.0058\n",
      "Epoch 196/200\n",
      "9/9 [==============================] - 0s 29ms/step - loss: 7.5165e-04 - val_loss: 0.0112\n",
      "Epoch 197/200\n",
      "9/9 [==============================] - 0s 27ms/step - loss: 8.8333e-04 - val_loss: 0.0029\n",
      "Epoch 198/200\n",
      "9/9 [==============================] - 0s 28ms/step - loss: 8.1014e-04 - val_loss: 0.0042\n",
      "Epoch 199/200\n",
      "9/9 [==============================] - 0s 28ms/step - loss: 7.4942e-04 - val_loss: 0.0046\n",
      "Epoch 200/200\n",
      "9/9 [==============================] - 0s 30ms/step - loss: 7.5266e-04 - val_loss: 0.0031\n"
     ]
    }
   ],
   "source": [
    "history = model.fit(x_train_lstm, y_train, validation_data = (x_test_lstm, y_test), epochs = 200, batch_size = 32, verbose = 1)"
   ]
  },
  {
   "cell_type": "markdown",
   "id": "b0584c28",
   "metadata": {
    "id": "2SRQ7YL4O0XI",
    "papermill": {
     "duration": 0.083553,
     "end_time": "2023-03-10T08:31:28.478961",
     "exception": false,
     "start_time": "2023-03-10T08:31:28.395408",
     "status": "completed"
    },
    "tags": []
   },
   "source": [
    "Plotting loss charts"
   ]
  },
  {
   "cell_type": "code",
   "execution_count": 26,
   "id": "3ab20cce",
   "metadata": {
    "execution": {
     "iopub.execute_input": "2023-03-10T08:31:28.647542Z",
     "iopub.status.busy": "2023-03-10T08:31:28.646468Z",
     "iopub.status.idle": "2023-03-10T08:31:28.929426Z",
     "shell.execute_reply": "2023-03-10T08:31:28.928241Z"
    },
    "id": "jEkOTzq7Iok2",
    "outputId": "f5504d3b-fbe8-4fa1-c260-67edaa935128",
    "papermill": {
     "duration": 0.369513,
     "end_time": "2023-03-10T08:31:28.931983",
     "exception": false,
     "start_time": "2023-03-10T08:31:28.562470",
     "status": "completed"
    },
    "tags": []
   },
   "outputs": [
    {
     "data": {
      "image/png": "[encoded data removed]",
      "text/plain": [
       "<Figure size 640x480 with 1 Axes>"
      ]
     },
     "metadata": {},
     "output_type": "display_data"
    },
    {
     "data": {
      "text/plain": [
       "<Figure size 640x480 with 0 Axes>"
      ]
     },
     "metadata": {},
     "output_type": "display_data"
    }
   ],
   "source": [
    "loss = history.history['loss']\n",
    "val_loss = history.history['val_loss']\n",
    "\n",
    "epochs = range(len(loss))\n",
    "\n",
    "plt.plot(epochs, loss, 'r', label='Training loss')\n",
    "plt.plot(epochs, val_loss, 'b', label='Validation loss')\n",
    "plt.title('Training and validation loss')\n",
    "plt.legend(loc=0)\n",
    "plt.figure()\n",
    "\n",
    "\n",
    "plt.show()"
   ]
  },
  {
   "cell_type": "code",
   "execution_count": 27,
   "id": "e5665d3b",
   "metadata": {
    "execution": {
     "iopub.execute_input": "2023-03-10T08:31:29.105623Z",
     "iopub.status.busy": "2023-03-10T08:31:29.104512Z",
     "iopub.status.idle": "2023-03-10T08:31:30.420864Z",
     "shell.execute_reply": "2023-03-10T08:31:30.419282Z"
    },
    "id": "56V6TosmIodJ",
    "outputId": "cc149471-0e0c-46aa-c6fe-fc220905eeb5",
    "papermill": {
     "duration": 1.406935,
     "end_time": "2023-03-10T08:31:30.423855",
     "exception": false,
     "start_time": "2023-03-10T08:31:29.016920",
     "status": "completed"
    },
    "tags": []
   },
   "outputs": [
    {
     "name": "stdout",
     "output_type": "stream",
     "text": [
      "9/9 [==============================] - 1s 7ms/step\n",
      "3/3 [==============================] - 0s 7ms/step\n",
      "(257, 1) (76, 1)\n"
     ]
    }
   ],
   "source": [
    "train_predict = model.predict(x_train)\n",
    "test_predict = model.predict(x_test)\n",
    "print(train_predict.shape, test_predict.shape)"
   ]
  },
  {
   "cell_type": "markdown",
   "id": "63f64f21",
   "metadata": {
    "id": "DCOBtabAO43z",
    "papermill": {
     "duration": 0.083486,
     "end_time": "2023-03-10T08:31:30.591905",
     "exception": false,
     "start_time": "2023-03-10T08:31:30.508419",
     "status": "completed"
    },
    "tags": []
   },
   "source": [
    "Model Evaluation"
   ]
  },
  {
   "cell_type": "code",
   "execution_count": 28,
   "id": "e1f2c21e",
   "metadata": {
    "execution": {
     "iopub.execute_input": "2023-03-10T08:31:30.764596Z",
     "iopub.status.busy": "2023-03-10T08:31:30.764153Z",
     "iopub.status.idle": "2023-03-10T08:31:30.771321Z",
     "shell.execute_reply": "2023-03-10T08:31:30.770355Z"
    },
    "id": "3y-oBABlJK6S",
    "papermill": {
     "duration": 0.097001,
     "end_time": "2023-03-10T08:31:30.773761",
     "exception": false,
     "start_time": "2023-03-10T08:31:30.676760",
     "status": "completed"
    },
    "tags": []
   },
   "outputs": [],
   "source": [
    "# Transform back to original form\n",
    "\n",
    "train_predict = scaler.inverse_transform(train_predict)\n",
    "test_predict = scaler.inverse_transform(test_predict)\n",
    "original_ytrain = scaler.inverse_transform(y_train.reshape(-1,1)) \n",
    "original_ytest = scaler.inverse_transform(y_test.reshape(-1,1)) "
   ]
  },
  {
   "cell_type": "markdown",
   "id": "4962a3ed",
   "metadata": {
    "id": "NdD5Q7tFO87N",
    "papermill": {
     "duration": 0.083517,
     "end_time": "2023-03-10T08:31:30.940549",
     "exception": false,
     "start_time": "2023-03-10T08:31:30.857032",
     "status": "completed"
    },
    "tags": []
   },
   "source": [
    "Evaluation metrics : RMSE, MSE, MAE"
   ]
  },
  {
   "cell_type": "code",
   "execution_count": 29,
   "id": "b606f750",
   "metadata": {
    "execution": {
     "iopub.execute_input": "2023-03-10T08:31:31.113475Z",
     "iopub.status.busy": "2023-03-10T08:31:31.112229Z",
     "iopub.status.idle": "2023-03-10T08:31:31.124084Z",
     "shell.execute_reply": "2023-03-10T08:31:31.122094Z"
    },
    "id": "L8HGjF9kJNDo",
    "outputId": "62b47433-a518-45ec-cddd-ca8155bb0b8e",
    "papermill": {
     "duration": 0.100218,
     "end_time": "2023-03-10T08:31:31.126614",
     "exception": false,
     "start_time": "2023-03-10T08:31:31.026396",
     "status": "completed"
    },
    "tags": []
   },
   "outputs": [
    {
     "name": "stdout",
     "output_type": "stream",
     "text": [
      "Train data RMSE:  63.34053376920244\n",
      "Train data MSE:  4012.0232181674746\n",
      "Train data MAE:  42.95009051252432\n",
      "-------------------------------------------------------------------------------------\n",
      "Test data RMSE:  139.70175170694264\n",
      "Test data MSE:  19516.57942998825\n",
      "Test data MAE:  109.01316733912417\n"
     ]
    }
   ],
   "source": [
    "# Evaluation metrices RMSE and MAE\n",
    "print(\"Train data RMSE: \", math.sqrt(mean_squared_error(original_ytrain,train_predict)))\n",
    "print(\"Train data MSE: \", mean_squared_error(original_ytrain,train_predict))\n",
    "print(\"Train data MAE: \", mean_absolute_error(original_ytrain,train_predict))\n",
    "print(\"-------------------------------------------------------------------------------------\")\n",
    "print(\"Test data RMSE: \", math.sqrt(mean_squared_error(original_ytest,test_predict)))\n",
    "print(\"Test data MSE: \", mean_squared_error(original_ytest,test_predict))\n",
    "print(\"Test data MAE: \", mean_absolute_error(original_ytest,test_predict))"
   ]
  },
  {
   "cell_type": "markdown",
   "id": "5ff53112",
   "metadata": {
    "id": "3kphbTQcPDFX",
    "papermill": {
     "duration": 0.083545,
     "end_time": "2023-03-10T08:31:31.293837",
     "exception": false,
     "start_time": "2023-03-10T08:31:31.210292",
     "status": "completed"
    },
    "tags": []
   },
   "source": [
    "Explained Variance Regression Score:\n",
    "\n",
    "The explained variance score explains the dispersion of errors of a given dataset, and the formula is written as follows: Here, and Var(y) is the variance of prediction errors and actual values respectively. Scores close to 1.0 are highly desired, indicating better squares of standard deviations of errors."
   ]
  },
  {
   "cell_type": "code",
   "execution_count": 30,
   "id": "14e1378d",
   "metadata": {
    "execution": {
     "iopub.execute_input": "2023-03-10T08:31:31.465871Z",
     "iopub.status.busy": "2023-03-10T08:31:31.464643Z",
     "iopub.status.idle": "2023-03-10T08:31:31.472620Z",
     "shell.execute_reply": "2023-03-10T08:31:31.471083Z"
    },
    "id": "ut48xgZ5Jdta",
    "outputId": "70c2d8f0-8d5d-4dbb-e6f0-9a5309638707",
    "papermill": {
     "duration": 0.096115,
     "end_time": "2023-03-10T08:31:31.474988",
     "exception": false,
     "start_time": "2023-03-10T08:31:31.378873",
     "status": "completed"
    },
    "tags": []
   },
   "outputs": [
    {
     "name": "stdout",
     "output_type": "stream",
     "text": [
      "Train data explained variance regression score: 0.9132521821190525\n",
      "Test data explained variance regression score: 0.9356093659055179\n"
     ]
    }
   ],
   "source": [
    "print(\"Train data explained variance regression score:\", explained_variance_score(original_ytrain, train_predict))\n",
    "print(\"Test data explained variance regression score:\", explained_variance_score(original_ytest, test_predict))"
   ]
  },
  {
   "cell_type": "markdown",
   "id": "6d4d652c",
   "metadata": {
    "id": "iNuORXyHPK-l",
    "papermill": {
     "duration": 0.153554,
     "end_time": "2023-03-10T08:31:31.712683",
     "exception": false,
     "start_time": "2023-03-10T08:31:31.559129",
     "status": "completed"
    },
    "tags": []
   },
   "source": [
    "R2 score for regression:\n",
    "\n",
    "R-squared (R2) is a statistical measure that represents the proportion of the variance for a dependent variable that's explained by an independent variable or variables in a regression model.\n"
   ]
  },
  {
   "cell_type": "code",
   "execution_count": 31,
   "id": "8f15a0fe",
   "metadata": {
    "execution": {
     "iopub.execute_input": "2023-03-10T08:31:31.883212Z",
     "iopub.status.busy": "2023-03-10T08:31:31.882751Z",
     "iopub.status.idle": "2023-03-10T08:31:31.891286Z",
     "shell.execute_reply": "2023-03-10T08:31:31.889376Z"
    },
    "id": "qniLD2PKJfTX",
    "outputId": "d457d9bd-04f0-4b91-8f18-7f0ca1d0d015",
    "papermill": {
     "duration": 0.096832,
     "end_time": "2023-03-10T08:31:31.893925",
     "exception": false,
     "start_time": "2023-03-10T08:31:31.797093",
     "status": "completed"
    },
    "tags": []
   },
   "outputs": [
    {
     "name": "stdout",
     "output_type": "stream",
     "text": [
      "Train data R2 score: 0.9129446526298766\n",
      "Test data R2 score: 0.899547328069868\n"
     ]
    }
   ],
   "source": [
    "print(\"Train data R2 score:\", r2_score(original_ytrain, train_predict))\n",
    "print(\"Test data R2 score:\", r2_score(original_ytest, test_predict))"
   ]
  },
  {
   "cell_type": "markdown",
   "id": "2d047095",
   "metadata": {
    "id": "B_K2nN6ePPGG",
    "papermill": {
     "duration": 0.084187,
     "end_time": "2023-03-10T08:31:32.062502",
     "exception": false,
     "start_time": "2023-03-10T08:31:31.978315",
     "status": "completed"
    },
    "tags": []
   },
   "source": [
    "Regression Loss Mean Gamma deviance regression loss (MGD) and Mean Poisson deviance regression loss (MPD)"
   ]
  },
  {
   "cell_type": "code",
   "execution_count": 32,
   "id": "9db34ed5",
   "metadata": {
    "execution": {
     "iopub.execute_input": "2023-03-10T08:31:32.233321Z",
     "iopub.status.busy": "2023-03-10T08:31:32.232314Z",
     "iopub.status.idle": "2023-03-10T08:31:32.241531Z",
     "shell.execute_reply": "2023-03-10T08:31:32.240083Z"
    },
    "id": "LdxQKLI2Jk1G",
    "outputId": "11f4c613-ad40-4a57-d0f8-9d722c12e9d7",
    "papermill": {
     "duration": 0.096968,
     "end_time": "2023-03-10T08:31:32.244012",
     "exception": false,
     "start_time": "2023-03-10T08:31:32.147044",
     "status": "completed"
    },
    "tags": []
   },
   "outputs": [
    {
     "name": "stdout",
     "output_type": "stream",
     "text": [
      "Train data MGD:  0.002051539750017713\n",
      "Test data MGD:  0.0027277277746884667\n",
      "----------------------------------------------------------------------\n",
      "Train data MPD:  2.8395009023371176\n",
      "Test data MPD:  7.20263749070125\n"
     ]
    }
   ],
   "source": [
    "print(\"Train data MGD: \", mean_gamma_deviance(original_ytrain, train_predict))\n",
    "print(\"Test data MGD: \", mean_gamma_deviance(original_ytest, test_predict))\n",
    "print(\"----------------------------------------------------------------------\")\n",
    "print(\"Train data MPD: \", mean_poisson_deviance(original_ytrain, train_predict))\n",
    "print(\"Test data MPD: \", mean_poisson_deviance(original_ytest, test_predict))"
   ]
  },
  {
   "cell_type": "markdown",
   "id": "86ddc688",
   "metadata": {
    "id": "567QW_78mOaW",
    "papermill": {
     "duration": 0.085052,
     "end_time": "2023-03-10T08:31:32.413613",
     "exception": false,
     "start_time": "2023-03-10T08:31:32.328561",
     "status": "completed"
    },
    "tags": []
   },
   "source": [
    "Comparison of original ethereum open price and predicted ethereum open price"
   ]
  },
  {
   "cell_type": "code",
   "execution_count": 33,
   "id": "14b98d95",
   "metadata": {
    "execution": {
     "iopub.execute_input": "2023-03-10T08:31:32.584950Z",
     "iopub.status.busy": "2023-03-10T08:31:32.584510Z",
     "iopub.status.idle": "2023-03-10T08:31:32.704071Z",
     "shell.execute_reply": "2023-03-10T08:31:32.702268Z"
    },
    "id": "5-4us90MJq0x",
    "outputId": "32b65eb1-4374-4288-cbba-d6315da00c4f",
    "papermill": {
     "duration": 0.20813,
     "end_time": "2023-03-10T08:31:32.706703",
     "exception": false,
     "start_time": "2023-03-10T08:31:32.498573",
     "status": "completed"
    },
    "tags": []
   },
   "outputs": [
    {
     "name": "stdout",
     "output_type": "stream",
     "text": [
      "Train predicted data:  (365, 1)\n",
      "Test predicted data:  (365, 1)\n"
     ]
    },
    {
     "data": {
      "text/html": [
       "<div>                            <div id=\"d160fa68-925e-4508-84e1-7de00d93046c\" class=\"plotly-graph-div\" style=\"height:525px; width:100%;\"></div>            <script type=\"text/javascript\">                require([\"plotly\"], function(Plotly) {                    window.PLOTLYENV=window.PLOTLYENV || {};                                    if (document.getElementById(\"d160fa68-925e-4508-84e1-7de00d93046c\")) {                    Plotly.newPlot(                        \"d160fa68-925e-4508-84e1-7de00d93046c\",                        [{\"hovertemplate\":\"variable=original_open<br>Date=%{x}<br>Ethereum price=%{y}<extra></extra>\",\"legendgroup\":\"original_open\",\"line\":{\"color\":\"#636efa\",\"dash\":\"solid\"},\"marker\":{\"symbol\":\"circle\"},\"mode\":\"lines\",\"name\":\"Original Open price\",\"showlegend\":true,\"x\":[\"2023-03-08T00:00:00\",\"2023-03-07T00:00:00\",\"2023-03-06T00:00:00\",\"2023-03-05T00:00:00\",\"2023-03-04T00:00:00\",\"2023-03-03T00:00:00\",\"2023-03-02T00:00:00\",\"2023-03-01T00:00:00\",\"2023-02-28T00:00:00\",\"2023-02-27T00:00:00\",\"2023-02-26T00:00:00\",\"2023-02-25T00:00:00\",\"2023-02-24T00:00:00\",\"2023-02-23T00:00:00\",\"2023-02-22T00:00:00\",\"2023-02-21T00:00:00\",\"2023-02-20T00:00:00\",\"2023-02-19T00:00:00\",\"2023-02-18T00:00:00\",\"2023-02-17T00:00:00\",\"2023-02-16T00:00:00\",\"2023-02-15T00:00:00\",\"2023-02-14T00:00:00\",\"2023-02-13T00:00:00\",\"2023-02-12T00:00:00\",\"2023-02-11T00:00:00\",\"2023-02-10T00:00:00\",\"2023-02-09T00:00:00\",\"2023-02-08T00:00:00\",\"2023-02-07T00:00:00\",\"2023-02-06T00:00:00\",\"2023-02-05T00:00:00\",\"2023-02-04T00:00:00\",\"2023-02-03T00:00:00\",\"2023-02-02T00:00:00\",\"2023-02-01T00:00:00\",\"2023-01-31T00:00:00\",\"2023-01-30T00:00:00\",\"2023-01-29T00:00:00\",\"2023-01-28T00:00:00\",\"2023-01-27T00:00:00\",\"2023-01-26T00:00:00\",\"2023-01-25T00:00:00\",\"2023-01-24T00:00:00\",\"2023-01-23T00:00:00\",\"2023-01-22T00:00:00\",\"2023-01-21T00:00:00\",\"2023-01-20T00:00:00\",\"2023-01-19T00:00:00\",\"2023-01-18T00:00:00\",\"2023-01-17T00:00:00\",\"2023-01-16T00:00:00\",\"2023-01-15T00:00:00\",\"2023-01-14T00:00:00\",\"2023-01-13T00:00:00\",\"2023-01-12T00:00:00\",\"2023-01-11T00:00:00\",\"2023-01-10T00:00:00\",\"2023-01-09T00:00:00\",\"2023-01-08T00:00:00\",\"2023-01-07T00:00:00\",\"2023-01-06T00:00:00\",\"2023-01-05T00:00:00\",\"2023-01-04T00:00:00\",\"2023-01-03T00:00:00\",\"2023-01-02T00:00:00\",\"2023-01-01T00:00:00\",\"2022-12-31T00:00:00\",\"2022-12-30T00:00:00\",\"2022-12-29T00:00:00\",\"2022-12-28T00:00:00\",\"2022-12-27T00:00:00\",\"2022-12-26T00:00:00\",\"2022-12-25T00:00:00\",\"2022-12-24T00:00:00\",\"2022-12-23T00:00:00\",\"2022-12-22T00:00:00\",\"2022-12-21T00:00:00\",\"2022-12-20T00:00:00\",\"2022-12-19T00:00:00\",\"2022-12-18T00:00:00\",\"2022-12-17T00:00:00\",\"2022-12-16T00:00:00\",\"2022-12-15T00:00:00\",\"2022-12-14T00:00:00\",\"2022-12-13T00:00:00\",\"2022-12-12T00:00:00\",\"2022-12-11T00:00:00\",\"2022-12-10T00:00:00\",\"2022-12-09T00:00:00\",\"2022-12-08T00:00:00\",\"2022-12-07T00:00:00\",\"2022-12-06T00:00:00\",\"2022-12-05T00:00:00\",\"2022-12-04T00:00:00\",\"2022-12-03T00:00:00\",\"2022-12-02T00:00:00\",\"2022-12-01T00:00:00\",\"2022-11-30T00:00:00\",\"2022-11-29T00:00:00\",\"2022-11-28T00:00:00\",\"2022-11-27T00:00:00\",\"2022-11-26T00:00:00\",\"2022-11-25T00:00:00\",\"2022-11-24T00:00:00\",\"2022-11-23T00:00:00\",\"2022-11-22T00:00:00\",\"2022-11-21T00:00:00\",\"2022-11-20T00:00:00\",\"2022-11-19T00:00:00\",\"2022-11-18T00:00:00\",\"2022-11-17T00:00:00\",\"2022-11-16T00:00:00\",\"2022-11-15T00:00:00\",\"2022-11-14T00:00:00\",\"2022-11-13T00:00:00\",\"2022-11-12T00:00:00\",\"2022-11-11T00:00:00\",\"2022-11-10T00:00:00\",\"2022-11-09T00:00:00\",\"2022-11-08T00:00:00\",\"2022-11-07T00:00:00\",\"2022-11-06T00:00:00\",\"2022-11-05T00:00:00\",\"2022-11-04T00:00:00\",\"2022-11-03T00:00:00\",\"2022-11-02T00:00:00\",\"2022-11-01T00:00:00\",\"2022-10-31T00:00:00\",\"2022-10-30T00:00:00\",\"2022-10-29T00:00:00\",\"2022-10-28T00:00:00\",\"2022-10-27T00:00:00\",\"2022-10-26T00:00:00\",\"2022-10-25T00:00:00\",\"2022-10-24T00:00:00\",\"2022-10-23T00:00:00\",\"2022-10-22T00:00:00\",\"2022-10-21T00:00:00\",\"2022-10-20T00:00:00\",\"2022-10-19T00:00:00\",\"2022-10-18T00:00:00\",\"2022-10-17T00:00:00\",\"2022-10-16T00:00:00\",\"2022-10-15T00:00:00\",\"2022-10-14T00:00:00\",\"2022-10-13T00:00:00\",\"2022-10-12T00:00:00\",\"2022-10-11T00:00:00\",\"2022-10-10T00:00:00\",\"2022-10-09T00:00:00\",\"2022-10-08T00:00:00\",\"2022-10-07T00:00:00\",\"2022-10-06T00:00:00\",\"2022-10-05T00:00:00\",\"2022-10-04T00:00:00\",\"2022-10-03T00:00:00\",\"2022-10-02T00:00:00\",\"2022-10-01T00:00:00\",\"2022-09-30T00:00:00\",\"2022-09-29T00:00:00\",\"2022-09-28T00:00:00\",\"2022-09-27T00:00:00\",\"2022-09-26T00:00:00\",\"2022-09-25T00:00:00\",\"2022-09-24T00:00:00\",\"2022-09-23T00:00:00\",\"2022-09-22T00:00:00\",\"2022-09-21T00:00:00\",\"2022-09-20T00:00:00\",\"2022-09-19T00:00:00\",\"2022-09-18T00:00:00\",\"2022-09-17T00:00:00\",\"2022-09-16T00:00:00\",\"2022-09-15T00:00:00\",\"2022-09-14T00:00:00\",\"2022-09-13T00:00:00\",\"2022-09-12T00:00:00\",\"2022-09-11T00:00:00\",\"2022-09-10T00:00:00\",\"2022-09-09T00:00:00\",\"2022-09-08T00:00:00\",\"2022-09-07T00:00:00\",\"2022-09-06T00:00:00\",\"2022-09-05T00:00:00\",\"2022-09-04T00:00:00\",\"2022-09-03T00:00:00\",\"2022-09-02T00:00:00\",\"2022-09-01T00:00:00\",\"2022-08-31T00:00:00\",\"2022-08-30T00:00:00\",\"2022-08-29T00:00:00\",\"2022-08-28T00:00:00\",\"2022-08-27T00:00:00\",\"2022-08-26T00:00:00\",\"2022-08-25T00:00:00\",\"2022-08-24T00:00:00\",\"2022-08-23T00:00:00\",\"2022-08-22T00:00:00\",\"2022-08-21T00:00:00\",\"2022-08-20T00:00:00\",\"2022-08-19T00:00:00\",\"2022-08-18T00:00:00\",\"2022-08-17T00:00:00\",\"2022-08-16T00:00:00\",\"2022-08-15T00:00:00\",\"2022-08-14T00:00:00\",\"2022-08-13T00:00:00\",\"2022-08-12T00:00:00\",\"2022-08-11T00:00:00\",\"2022-08-10T00:00:00\",\"2022-08-09T00:00:00\",\"2022-08-08T00:00:00\",\"2022-08-07T00:00:00\",\"2022-08-06T00:00:00\",\"2022-08-05T00:00:00\",\"2022-08-04T00:00:00\",\"2022-08-03T00:00:00\",\"2022-08-02T00:00:00\",\"2022-08-01T00:00:00\",\"2022-07-31T00:00:00\",\"2022-07-30T00:00:00\",\"2022-07-29T00:00:00\",\"2022-07-28T00:00:00\",\"2022-07-27T00:00:00\",\"2022-07-26T00:00:00\",\"2022-07-25T00:00:00\",\"2022-07-24T00:00:00\",\"2022-07-23T00:00:00\",\"2022-07-22T00:00:00\",\"2022-07-21T00:00:00\",\"2022-07-20T00:00:00\",\"2022-07-19T00:00:00\",\"2022-07-18T00:00:00\",\"2022-07-17T00:00:00\",\"2022-07-16T00:00:00\",\"2022-07-15T00:00:00\",\"2022-07-14T00:00:00\",\"2022-07-13T00:00:00\",\"2022-07-12T00:00:00\",\"2022-07-11T00:00:00\",\"2022-07-10T00:00:00\",\"2022-07-09T00:00:00\",\"2022-07-08T00:00:00\",\"2022-07-07T00:00:00\",\"2022-07-06T00:00:00\",\"2022-07-05T00:00:00\",\"2022-07-04T00:00:00\",\"2022-07-03T00:00:00\",\"2022-07-02T00:00:00\",\"2022-07-01T00:00:00\",\"2022-06-30T00:00:00\",\"2022-06-29T00:00:00\",\"2022-06-28T00:00:00\",\"2022-06-27T00:00:00\",\"2022-06-26T00:00:00\",\"2022-06-25T00:00:00\",\"2022-06-24T00:00:00\",\"2022-06-23T00:00:00\",\"2022-06-22T00:00:00\",\"2022-06-21T00:00:00\",\"2022-06-20T00:00:00\",\"2022-06-19T00:00:00\",\"2022-06-18T00:00:00\",\"2022-06-17T00:00:00\",\"2022-06-16T00:00:00\",\"2022-06-15T00:00:00\",\"2022-06-14T00:00:00\",\"2022-06-13T00:00:00\",\"2022-06-12T00:00:00\",\"2022-06-11T00:00:00\",\"2022-06-10T00:00:00\",\"2022-06-09T00:00:00\",\"2022-06-08T00:00:00\",\"2022-06-07T00:00:00\",\"2022-06-06T00:00:00\",\"2022-06-05T00:00:00\",\"2022-06-04T00:00:00\",\"2022-06-03T00:00:00\",\"2022-06-02T00:00:00\",\"2022-06-01T00:00:00\",\"2022-05-31T00:00:00\",\"2022-05-30T00:00:00\",\"2022-05-29T00:00:00\",\"2022-05-28T00:00:00\",\"2022-05-27T00:00:00\",\"2022-05-26T00:00:00\",\"2022-05-25T00:00:00\",\"2022-05-24T00:00:00\",\"2022-05-23T00:00:00\",\"2022-05-22T00:00:00\",\"2022-05-21T00:00:00\",\"2022-05-20T00:00:00\",\"2022-05-19T00:00:00\",\"2022-05-18T00:00:00\",\"2022-05-17T00:00:00\",\"2022-05-16T00:00:00\",\"2022-05-15T00:00:00\",\"2022-05-14T00:00:00\",\"2022-05-13T00:00:00\",\"2022-05-12T00:00:00\",\"2022-05-11T00:00:00\",\"2022-05-10T00:00:00\",\"2022-05-09T00:00:00\",\"2022-05-08T00:00:00\",\"2022-05-07T00:00:00\",\"2022-05-06T00:00:00\",\"2022-05-05T00:00:00\",\"2022-05-04T00:00:00\",\"2022-05-03T00:00:00\",\"2022-05-02T00:00:00\",\"2022-05-01T00:00:00\",\"2022-04-30T00:00:00\",\"2022-04-29T00:00:00\",\"2022-04-28T00:00:00\",\"2022-04-27T00:00:00\",\"2022-04-26T00:00:00\",\"2022-04-25T00:00:00\",\"2022-04-24T00:00:00\",\"2022-04-23T00:00:00\",\"2022-04-22T00:00:00\",\"2022-04-21T00:00:00\",\"2022-04-20T00:00:00\",\"2022-04-19T00:00:00\",\"2022-04-18T00:00:00\",\"2022-04-17T00:00:00\",\"2022-04-16T00:00:00\",\"2022-04-15T00:00:00\",\"2022-04-14T00:00:00\",\"2022-04-13T00:00:00\",\"2022-04-12T00:00:00\",\"2022-04-11T00:00:00\",\"2022-04-10T00:00:00\",\"2022-04-09T00:00:00\",\"2022-04-08T00:00:00\",\"2022-04-07T00:00:00\",\"2022-04-06T00:00:00\",\"2022-04-05T00:00:00\",\"2022-04-04T00:00:00\",\"2022-04-03T00:00:00\",\"2022-04-02T00:00:00\",\"2022-04-01T00:00:00\",\"2022-03-31T00:00:00\",\"2022-03-30T00:00:00\",\"2022-03-29T00:00:00\",\"2022-03-28T00:00:00\",\"2022-03-27T00:00:00\",\"2022-03-26T00:00:00\",\"2022-03-25T00:00:00\",\"2022-03-24T00:00:00\",\"2022-03-23T00:00:00\",\"2022-03-22T00:00:00\",\"2022-03-21T00:00:00\",\"2022-03-20T00:00:00\",\"2022-03-19T00:00:00\",\"2022-03-18T00:00:00\",\"2022-03-17T00:00:00\",\"2022-03-16T00:00:00\",\"2022-03-15T00:00:00\",\"2022-03-14T00:00:00\",\"2022-03-13T00:00:00\",\"2022-03-12T00:00:00\",\"2022-03-11T00:00:00\",\"2022-03-10T00:00:00\",\"2022-03-09T00:00:00\"],\"xaxis\":\"x\",\"y\":[1561.79,1565.84,1564.36,1566.73,1569.45,1647.86,1666.09,1604.69,1633.66,1641.59,1594.66,1608.24,1650.52,1643.39,1659.41,1703.29,1681.49,1691.62,1693.96,1640.66,1675.43,1555.45,1505.85,1515.44,1538.34,1513.12,1545.35,1650.97,1671.39,1613.72,1629.44,1666.9,1663.78,1641.7,1642.1,1585.27,1566.5,1645.97,1572.13,1597.61,1602.54,1611.2,1555.97,1626.52,1627.04,1626.66,1659.96,1551.12,1511.35,1564.66,1576.94,1552.69,1550.05,1450.86,1416.08,1389.84,1335.14,1320.51,1288.39,1263.91,1269.14,1250.95,1256.92,1214.57,1213.93,1200.52,1195.69,1200.0,1200.84,1189.99,1211.6,1228.22,1218.69,1220.46,1220.03,1217.59,1213.99,1217.19,1167.8,1182.7,1187.19,1166.7,1266.32,1307.29,1320.76,1275.49,1263.42,1266.36,1262.88,1280.29,1231.04,1271.24,1259.56,1279.21,1240.46,1295.69,1276.05,1294.4,1216.54,1167.73,1193.38,1205.17,1198.12,1203.77,1185.7,1139.74,1107.46,1142.88,1217.65,1208.92,1206.99,1206.16,1253.45,1242.64,1221.47,1256.29,1288.71,1299.21,1100.86,1335.26,1567.54,1570.71,1626.86,1645.03,1531.06,1518.99,1579.59,1572.89,1590.47,1619.67,1554.47,1514.14,1566.18,1459.6,1343.88,1364.19,1313.64,1299.76,1282.87,1285.33,1310.81,1331.4,1305.95,1274.93,1296.74,1287.33,1294.56,1279.97,1290.0,1323.17,1315.08,1331.07,1352.17,1352.07,1361.51,1323.37,1277.02,1311.8,1328.73,1336.05,1337.34,1328.23,1337.07,1294.24,1317.01,1327.91,1326.12,1247.64,1323.34,1375.96,1334.82,1468.76,1434.01,1472.63,1637.89,1574.41,1716.45,1766.99,1774.38,1718.84,1635.33,1629.63,1557.85,1617.4,1578.9,1557.35,1575.31,1585.55,1554.57,1523.39,1552.56,1426.25,1490.88,1508.32,1695.38,1656.64,1665.3,1626.7,1618.21,1575.61,1609.01,1846.52,1834.19,1876.69,1900.08,1935.1,1983.52,1957.62,1880.3,1853.5,1702.8,1778.15,1700.26,1690.29,1737.66,1607.0,1618.07,1631.46,1630.07,1679.98,1695.99,1720.8,1725.97,1635.99,1449.65,1438.76,1598.19,1549.61,1534.85,1575.68,1520.66,1543.45,1584.33,1337.92,1356.0,1231.03,1192.83,1115.8,1038.6,1096.41,1167.35,1216.94,1216.26,1238.1,1186.48,1133.87,1151.19,1074.07,1066.6,1059.05,1069.13,1099.51,1143.95,1191.02,1198.03,1241.8,1224.96,1144.33,1049.02,1125.96,1128.29,1128.39,995.49,1086.47,1068.49,1237.92,1208.82,1206.67,1434.43,1531.5,1663.04,1788.15,1792.81,1813.05,1859.99,1806.11,1804.6,1775.28,1834.66,1817.98,1941.81,1998.46,1813.56,1792.25,1724.67,1793.19,1942.89,1979.4,1973.01,2043.19,1975.12,1959.79,2019.36,1913.99,2091.05,2023.0,2145.86,2056.33,2009.55,1955.59,2087.17,2342.27,2229.69,2519.98,2636.03,2692.92,2747.6,2940.7,2781.47,2856.01,2825.65,2727.2,2817.14,2937.01,2889.01,2810.42,3006.04,2922.03,2931.9,2963.0,2983.91,3076.06,3101.79,3055.86,2989.05,3058.96,3042.01,3021.93,3117.21,3027.64,2978.45,3201.99,3259.59,3193.54,3228.83,3169.58,3406.83,3520.35,3521.16,3442.34,3456.18,3282.33,3385.6,3401.86,3329.67,3295.73,3145.95,3103.43,3110.8,3036.18,2969.64,2891.41,2861.66,2950.03,2939.76,2812.29,2773.8,2617.43,2589.54,2516.75,2569.8,2556.96,2606.5,2726.94,2577.21],\"yaxis\":\"y\",\"type\":\"scattergl\"},{\"hovertemplate\":\"variable=train_predicted_open<br>Date=%{x}<br>Ethereum price=%{y}<extra></extra>\",\"legendgroup\":\"train_predicted_open\",\"line\":{\"color\":\"#EF553B\",\"dash\":\"solid\"},\"marker\":{\"symbol\":\"circle\"},\"mode\":\"lines\",\"name\":\"Train predicted Open price\",\"showlegend\":true,\"x\":[\"2023-03-08T00:00:00\",\"2023-03-07T00:00:00\",\"2023-03-06T00:00:00\",\"2023-03-05T00:00:00\",\"2023-03-04T00:00:00\",\"2023-03-03T00:00:00\",\"2023-03-02T00:00:00\",\"2023-03-01T00:00:00\",\"2023-02-28T00:00:00\",\"2023-02-27T00:00:00\",\"2023-02-26T00:00:00\",\"2023-02-25T00:00:00\",\"2023-02-24T00:00:00\",\"2023-02-23T00:00:00\",\"2023-02-22T00:00:00\",\"2023-02-21T00:00:00\",\"2023-02-20T00:00:00\",\"2023-02-19T00:00:00\",\"2023-02-18T00:00:00\",\"2023-02-17T00:00:00\",\"2023-02-16T00:00:00\",\"2023-02-15T00:00:00\",\"2023-02-14T00:00:00\",\"2023-02-13T00:00:00\",\"2023-02-12T00:00:00\",\"2023-02-11T00:00:00\",\"2023-02-10T00:00:00\",\"2023-02-09T00:00:00\",\"2023-02-08T00:00:00\",\"2023-02-07T00:00:00\",\"2023-02-06T00:00:00\",\"2023-02-05T00:00:00\",\"2023-02-04T00:00:00\",\"2023-02-03T00:00:00\",\"2023-02-02T00:00:00\",\"2023-02-01T00:00:00\",\"2023-01-31T00:00:00\",\"2023-01-30T00:00:00\",\"2023-01-29T00:00:00\",\"2023-01-28T00:00:00\",\"2023-01-27T00:00:00\",\"2023-01-26T00:00:00\",\"2023-01-25T00:00:00\",\"2023-01-24T00:00:00\",\"2023-01-23T00:00:00\",\"2023-01-22T00:00:00\",\"2023-01-21T00:00:00\",\"2023-01-20T00:00:00\",\"2023-01-19T00:00:00\",\"2023-01-18T00:00:00\",\"2023-01-17T00:00:00\",\"2023-01-16T00:00:00\",\"2023-01-15T00:00:00\",\"2023-01-14T00:00:00\",\"2023-01-13T00:00:00\",\"2023-01-12T00:00:00\",\"2023-01-11T00:00:00\",\"2023-01-10T00:00:00\",\"2023-01-09T00:00:00\",\"2023-01-08T00:00:00\",\"2023-01-07T00:00:00\",\"2023-01-06T00:00:00\",\"2023-01-05T00:00:00\",\"2023-01-04T00:00:00\",\"2023-01-03T00:00:00\",\"2023-01-02T00:00:00\",\"2023-01-01T00:00:00\",\"2022-12-31T00:00:00\",\"2022-12-30T00:00:00\",\"2022-12-29T00:00:00\",\"2022-12-28T00:00:00\",\"2022-12-27T00:00:00\",\"2022-12-26T00:00:00\",\"2022-12-25T00:00:00\",\"2022-12-24T00:00:00\",\"2022-12-23T00:00:00\",\"2022-12-22T00:00:00\",\"2022-12-21T00:00:00\",\"2022-12-20T00:00:00\",\"2022-12-19T00:00:00\",\"2022-12-18T00:00:00\",\"2022-12-17T00:00:00\",\"2022-12-16T00:00:00\",\"2022-12-15T00:00:00\",\"2022-12-14T00:00:00\",\"2022-12-13T00:00:00\",\"2022-12-12T00:00:00\",\"2022-12-11T00:00:00\",\"2022-12-10T00:00:00\",\"2022-12-09T00:00:00\",\"2022-12-08T00:00:00\",\"2022-12-07T00:00:00\",\"2022-12-06T00:00:00\",\"2022-12-05T00:00:00\",\"2022-12-04T00:00:00\",\"2022-12-03T00:00:00\",\"2022-12-02T00:00:00\",\"2022-12-01T00:00:00\",\"2022-11-30T00:00:00\",\"2022-11-29T00:00:00\",\"2022-11-28T00:00:00\",\"2022-11-27T00:00:00\",\"2022-11-26T00:00:00\",\"2022-11-25T00:00:00\",\"2022-11-24T00:00:00\",\"2022-11-23T00:00:00\",\"2022-11-22T00:00:00\",\"2022-11-21T00:00:00\",\"2022-11-20T00:00:00\",\"2022-11-19T00:00:00\",\"2022-11-18T00:00:00\",\"2022-11-17T00:00:00\",\"2022-11-16T00:00:00\",\"2022-11-15T00:00:00\",\"2022-11-14T00:00:00\",\"2022-11-13T00:00:00\",\"2022-11-12T00:00:00\",\"2022-11-11T00:00:00\",\"2022-11-10T00:00:00\",\"2022-11-09T00:00:00\",\"2022-11-08T00:00:00\",\"2022-11-07T00:00:00\",\"2022-11-06T00:00:00\",\"2022-11-05T00:00:00\",\"2022-11-04T00:00:00\",\"2022-11-03T00:00:00\",\"2022-11-02T00:00:00\",\"2022-11-01T00:00:00\",\"2022-10-31T00:00:00\",\"2022-10-30T00:00:00\",\"2022-10-29T00:00:00\",\"2022-10-28T00:00:00\",\"2022-10-27T00:00:00\",\"2022-10-26T00:00:00\",\"2022-10-25T00:00:00\",\"2022-10-24T00:00:00\",\"2022-10-23T00:00:00\",\"2022-10-22T00:00:00\",\"2022-10-21T00:00:00\",\"2022-10-20T00:00:00\",\"2022-10-19T00:00:00\",\"2022-10-18T00:00:00\",\"2022-10-17T00:00:00\",\"2022-10-16T00:00:00\",\"2022-10-15T00:00:00\",\"2022-10-14T00:00:00\",\"2022-10-13T00:00:00\",\"2022-10-12T00:00:00\",\"2022-10-11T00:00:00\",\"2022-10-10T00:00:00\",\"2022-10-09T00:00:00\",\"2022-10-08T00:00:00\",\"2022-10-07T00:00:00\",\"2022-10-06T00:00:00\",\"2022-10-05T00:00:00\",\"2022-10-04T00:00:00\",\"2022-10-03T00:00:00\",\"2022-10-02T00:00:00\",\"2022-10-01T00:00:00\",\"2022-09-30T00:00:00\",\"2022-09-29T00:00:00\",\"2022-09-28T00:00:00\",\"2022-09-27T00:00:00\",\"2022-09-26T00:00:00\",\"2022-09-25T00:00:00\",\"2022-09-24T00:00:00\",\"2022-09-23T00:00:00\",\"2022-09-22T00:00:00\",\"2022-09-21T00:00:00\",\"2022-09-20T00:00:00\",\"2022-09-19T00:00:00\",\"2022-09-18T00:00:00\",\"2022-09-17T00:00:00\",\"2022-09-16T00:00:00\",\"2022-09-15T00:00:00\",\"2022-09-14T00:00:00\",\"2022-09-13T00:00:00\",\"2022-09-12T00:00:00\",\"2022-09-11T00:00:00\",\"2022-09-10T00:00:00\",\"2022-09-09T00:00:00\",\"2022-09-08T00:00:00\",\"2022-09-07T00:00:00\",\"2022-09-06T00:00:00\",\"2022-09-05T00:00:00\",\"2022-09-04T00:00:00\",\"2022-09-03T00:00:00\",\"2022-09-02T00:00:00\",\"2022-09-01T00:00:00\",\"2022-08-31T00:00:00\",\"2022-08-30T00:00:00\",\"2022-08-29T00:00:00\",\"2022-08-28T00:00:00\",\"2022-08-27T00:00:00\",\"2022-08-26T00:00:00\",\"2022-08-25T00:00:00\",\"2022-08-24T00:00:00\",\"2022-08-23T00:00:00\",\"2022-08-22T00:00:00\",\"2022-08-21T00:00:00\",\"2022-08-20T00:00:00\",\"2022-08-19T00:00:00\",\"2022-08-18T00:00:00\",\"2022-08-17T00:00:00\",\"2022-08-16T00:00:00\",\"2022-08-15T00:00:00\",\"2022-08-14T00:00:00\",\"2022-08-13T00:00:00\",\"2022-08-12T00:00:00\",\"2022-08-11T00:00:00\",\"2022-08-10T00:00:00\",\"2022-08-09T00:00:00\",\"2022-08-08T00:00:00\",\"2022-08-07T00:00:00\",\"2022-08-06T00:00:00\",\"2022-08-05T00:00:00\",\"2022-08-04T00:00:00\",\"2022-08-03T00:00:00\",\"2022-08-02T00:00:00\",\"2022-08-01T00:00:00\",\"2022-07-31T00:00:00\",\"2022-07-30T00:00:00\",\"2022-07-29T00:00:00\",\"2022-07-28T00:00:00\",\"2022-07-27T00:00:00\",\"2022-07-26T00:00:00\",\"2022-07-25T00:00:00\",\"2022-07-24T00:00:00\",\"2022-07-23T00:00:00\",\"2022-07-22T00:00:00\",\"2022-07-21T00:00:00\",\"2022-07-20T00:00:00\",\"2022-07-19T00:00:00\",\"2022-07-18T00:00:00\",\"2022-07-17T00:00:00\",\"2022-07-16T00:00:00\",\"2022-07-15T00:00:00\",\"2022-07-14T00:00:00\",\"2022-07-13T00:00:00\",\"2022-07-12T00:00:00\",\"2022-07-11T00:00:00\",\"2022-07-10T00:00:00\",\"2022-07-09T00:00:00\",\"2022-07-08T00:00:00\",\"2022-07-07T00:00:00\",\"2022-07-06T00:00:00\",\"2022-07-05T00:00:00\",\"2022-07-04T00:00:00\",\"2022-07-03T00:00:00\",\"2022-07-02T00:00:00\",\"2022-07-01T00:00:00\",\"2022-06-30T00:00:00\",\"2022-06-29T00:00:00\",\"2022-06-28T00:00:00\",\"2022-06-27T00:00:00\",\"2022-06-26T00:00:00\",\"2022-06-25T00:00:00\",\"2022-06-24T00:00:00\",\"2022-06-23T00:00:00\",\"2022-06-22T00:00:00\",\"2022-06-21T00:00:00\",\"2022-06-20T00:00:00\",\"2022-06-19T00:00:00\",\"2022-06-18T00:00:00\",\"2022-06-17T00:00:00\",\"2022-06-16T00:00:00\",\"2022-06-15T00:00:00\",\"2022-06-14T00:00:00\",\"2022-06-13T00:00:00\",\"2022-06-12T00:00:00\",\"2022-06-11T00:00:00\",\"2022-06-10T00:00:00\",\"2022-06-09T00:00:00\",\"2022-06-08T00:00:00\",\"2022-06-07T00:00:00\",\"2022-06-06T00:00:00\",\"2022-06-05T00:00:00\",\"2022-06-04T00:00:00\",\"2022-06-03T00:00:00\",\"2022-06-02T00:00:00\",\"2022-06-01T00:00:00\",\"2022-05-31T00:00:00\",\"2022-05-30T00:00:00\",\"2022-05-29T00:00:00\",\"2022-05-28T00:00:00\",\"2022-05-27T00:00:00\",\"2022-05-26T00:00:00\",\"2022-05-25T00:00:00\",\"2022-05-24T00:00:00\",\"2022-05-23T00:00:00\",\"2022-05-22T00:00:00\",\"2022-05-21T00:00:00\",\"2022-05-20T00:00:00\",\"2022-05-19T00:00:00\",\"2022-05-18T00:00:00\",\"2022-05-17T00:00:00\",\"2022-05-16T00:00:00\",\"2022-05-15T00:00:00\",\"2022-05-14T00:00:00\",\"2022-05-13T00:00:00\",\"2022-05-12T00:00:00\",\"2022-05-11T00:00:00\",\"2022-05-10T00:00:00\",\"2022-05-09T00:00:00\",\"2022-05-08T00:00:00\",\"2022-05-07T00:00:00\",\"2022-05-06T00:00:00\",\"2022-05-05T00:00:00\",\"2022-05-04T00:00:00\",\"2022-05-03T00:00:00\",\"2022-05-02T00:00:00\",\"2022-05-01T00:00:00\",\"2022-04-30T00:00:00\",\"2022-04-29T00:00:00\",\"2022-04-28T00:00:00\",\"2022-04-27T00:00:00\",\"2022-04-26T00:00:00\",\"2022-04-25T00:00:00\",\"2022-04-24T00:00:00\",\"2022-04-23T00:00:00\",\"2022-04-22T00:00:00\",\"2022-04-21T00:00:00\",\"2022-04-20T00:00:00\",\"2022-04-19T00:00:00\",\"2022-04-18T00:00:00\",\"2022-04-17T00:00:00\",\"2022-04-16T00:00:00\",\"2022-04-15T00:00:00\",\"2022-04-14T00:00:00\",\"2022-04-13T00:00:00\",\"2022-04-12T00:00:00\",\"2022-04-11T00:00:00\",\"2022-04-10T00:00:00\",\"2022-04-09T00:00:00\",\"2022-04-08T00:00:00\",\"2022-04-07T00:00:00\",\"2022-04-06T00:00:00\",\"2022-04-05T00:00:00\",\"2022-04-04T00:00:00\",\"2022-04-03T00:00:00\",\"2022-04-02T00:00:00\",\"2022-04-01T00:00:00\",\"2022-03-31T00:00:00\",\"2022-03-30T00:00:00\",\"2022-03-29T00:00:00\",\"2022-03-28T00:00:00\",\"2022-03-27T00:00:00\",\"2022-03-26T00:00:00\",\"2022-03-25T00:00:00\",\"2022-03-24T00:00:00\",\"2022-03-23T00:00:00\",\"2022-03-22T00:00:00\",\"2022-03-21T00:00:00\",\"2022-03-20T00:00:00\",\"2022-03-19T00:00:00\",\"2022-03-18T00:00:00\",\"2022-03-17T00:00:00\",\"2022-03-16T00:00:00\",\"2022-03-15T00:00:00\",\"2022-03-14T00:00:00\",\"2022-03-13T00:00:00\",\"2022-03-12T00:00:00\",\"2022-03-11T00:00:00\",\"2022-03-10T00:00:00\",\"2022-03-09T00:00:00\"],\"xaxis\":\"x\",\"y\":[null,null,null,null,null,null,null,null,null,null,null,null,null,null,null,1649.8685302734375,1694.743408203125,1673.98876953125,1677.9837646484375,1681.087890625,1626.410400390625,1657.375244140625,1544.3763427734375,1483.7899169921875,1495.9835205078125,1528.8663330078125,1510.4967041015625,1537.0108642578125,1646.734619140625,1677.004150390625,1609.397216796875,1612.644775390625,1655.161376953125,1656.69775390625,1630.699951171875,1627.6895751953125,1572.349609375,1549.3104248046875,1632.1212158203125,1570.7841796875,1583.22119140625,1593.389404296875,1602.9046630859375,1548.040283203125,1611.200439453125,1623.4019775390625,1619.476318359375,1650.3524169921875,1543.5455322265625,1490.87353515625,1545.68115234375,1572.6572265625,1549.2398681640625,1540.694580078125,1445.09765625,1400.2581787109375,1378.008056640625,1331.003173828125,1313.267822265625,1286.947509765625,1263.0938720703125,1266.005126953125,1254.123779296875,1257.1834716796875,1222.671142578125,1213.8006591796875,1203.663330078125,1198.6331787109375,1202.5889892578125,1205.2828369140625,1196.60791015625,1212.52197265625,1231.7489013671875,1226.8905029296875,1224.9130859375,1223.9833984375,1221.7095947265625,1218.14453125,1220.262451171875,1179.211669921875,1181.087646484375,1189.6451416015625,1175.2862548828125,1256.3505859375,1314.7412109375,1332.031982421875,1287.8013916015625,1263.5955810546875,1263.765380859375,1263.7314453125,1279.8931884765625,1241.01953125,1265.48193359375,1264.6947021484375,1279.9847412109375,1249.4920654296875,1289.1644287109375,1283.73876953125,1295.1806640625,1229.599365234375,1171.371337890625,1184.625244140625,1205.44921875,1205.370361328125,1208.549560546875,1193.7196044921875,1150.7310791015625,1113.8460693359375,1137.3892822265625,1212.1898193359375,1223.91064453125,1217.3499755859375,1212.083251953125,1251.133056640625,1251.732666015625,1229.553955078125,1253.4208984375,1289.587158203125,1305.2386474609375,1135.062255859375,1292.23193359375,1566.1240234375,1606.80126953125,1636.31640625,1644.44873046875,1524.091796875,1496.3033447265625,1562.6644287109375,1570.390869140625,1584.5074462890625,1613.4490966796875,1549.5037841796875,1499.6856689453125,1549.4371337890625,1458.7568359375,1335.9896240234375,1341.8302001953125,1310.855224609375,1295.5673828125,1281.831298828125,1283.7337646484375,1308.9859619140625,1333.4110107421875,1313.393798828125,1278.5938720703125,1291.3868408203125,1289.490478515625,1295.077880859375,1283.7105712890625,1289.5372314453125,1321.4378662109375,1320.788330078125,1331.7071533203125,1352.329345703125,1355.00830078125,1361.6561279296875,1327.517333984375,1278.369384765625,1301.8616943359375,1327.8428955078125,1339.141845703125,1340.1226806640625,1330.322509765625,1335.5860595703125,1299.0159912109375,1311.239990234375,1327.25927734375,1328.6778564453125,1257.9425048828125,1308.91748046875,1374.879638671875,1347.551513671875,1458.7135009765625,1447.212890625,1470.322509765625,1633.840087890625,1588.4683837890625,1709.8704833984375,1772.646728515625,1771.1307373046875,1702.339599609375,1609.712158203125,1602.870361328125,1541.2528076171875,1598.654052734375,1573.955810546875,1546.833251953125,1563.027587890625,1577.955322265625,1548.298828125,1512.7935791015625,1539.2303466796875,1425.3046875,1469.3819580078125,1503.621826171875,1693.730712890625,1671.8746337890625,1658.3580322265625,1613.748046875,1600.8651123046875,1561.28759765625,1593.2489013671875,1849.15478515625,1850.9998779296875,1869.9681396484375,1886.405517578125,1919.78857421875,1970.5069580078125,1935.6304931640625,1843.80859375,1816.8719482421875,1665.5799560546875,1746.094970703125,1684.9302978515625,1669.2322998046875,1722.8958740234375,1595.187744140625,1592.6224365234375,1616.6197509765625,1621.096923828125,1671.4114990234375,1691.40380859375,1713.2352294921875,1716.2432861328125,1620.3353271484375,1428.8057861328125,1404.905029296875,1576.522705078125,1561.5670166015625,1531.4727783203125,1565.5157470703125,1517.2916259765625,1530.638427734375,1576.4801025390625,1347.510498046875,1326.0625,1230.3857421875,1184.1700439453125,1120.0391845703125,1047.7060546875,1081.83837890625,1160.9503173828125,1224.7965087890625,1233.1463623046875,1245.5347900390625,1201.228271484375,1143.3931884765625,1146.16064453125,1090.1029052734375,1069.115966796875,1063.2681884765625,1073.1583251953125,1102.5379638671875,1147.587646484375,1197.10791015625,1211.2689208984375,1245.930419921875,1237.032958984375,1161.8016357421875,1064.0440673828125,1106.0333251953125,1132.370361328125,1138.2894287109375,1030.6044921875,1069.3302001953125,1078.388916015625,1219.7545166015625,1234.9166259765625,1221.31201171875,1416.0753173828125,1550.982177734375,1682.0262451171875,null,null,null,null,null,null,null,null,null,null,null,null,null,null,null,null,null,null,null,null,null,null,null,null,null,null,null,null,null,null,null,null,null,null,null,null,null,null,null,null,null,null,null,null,null,null,null,null,null,null,null,null,null,null,null,null,null,null,null,null,null,null,null,null,null,null,null,null,null,null,null,null,null,null,null,null,null,null,null,null,null,null,null,null,null,null,null,null,null,null,null,null,null],\"yaxis\":\"y\",\"type\":\"scattergl\"},{\"hovertemplate\":\"variable=test_predicted_open<br>Date=%{x}<br>Ethereum price=%{y}<extra></extra>\",\"legendgroup\":\"test_predicted_open\",\"line\":{\"color\":\"#00cc96\",\"dash\":\"solid\"},\"marker\":{\"symbol\":\"circle\"},\"mode\":\"lines\",\"name\":\"Test predicted Open price\",\"showlegend\":true,\"x\":[\"2023-03-08T00:00:00\",\"2023-03-07T00:00:00\",\"2023-03-06T00:00:00\",\"2023-03-05T00:00:00\",\"2023-03-04T00:00:00\",\"2023-03-03T00:00:00\",\"2023-03-02T00:00:00\",\"2023-03-01T00:00:00\",\"2023-02-28T00:00:00\",\"2023-02-27T00:00:00\",\"2023-02-26T00:00:00\",\"2023-02-25T00:00:00\",\"2023-02-24T00:00:00\",\"2023-02-23T00:00:00\",\"2023-02-22T00:00:00\",\"2023-02-21T00:00:00\",\"2023-02-20T00:00:00\",\"2023-02-19T00:00:00\",\"2023-02-18T00:00:00\",\"2023-02-17T00:00:00\",\"2023-02-16T00:00:00\",\"2023-02-15T00:00:00\",\"2023-02-14T00:00:00\",\"2023-02-13T00:00:00\",\"2023-02-12T00:00:00\",\"2023-02-11T00:00:00\",\"2023-02-10T00:00:00\",\"2023-02-09T00:00:00\",\"2023-02-08T00:00:00\",\"2023-02-07T00:00:00\",\"2023-02-06T00:00:00\",\"2023-02-05T00:00:00\",\"2023-02-04T00:00:00\",\"2023-02-03T00:00:00\",\"2023-02-02T00:00:00\",\"2023-02-01T00:00:00\",\"2023-01-31T00:00:00\",\"2023-01-30T00:00:00\",\"2023-01-29T00:00:00\",\"2023-01-28T00:00:00\",\"2023-01-27T00:00:00\",\"2023-01-26T00:00:00\",\"2023-01-25T00:00:00\",\"2023-01-24T00:00:00\",\"2023-01-23T00:00:00\",\"2023-01-22T00:00:00\",\"2023-01-21T00:00:00\",\"2023-01-20T00:00:00\",\"2023-01-19T00:00:00\",\"2023-01-18T00:00:00\",\"2023-01-17T00:00:00\",\"2023-01-16T00:00:00\",\"2023-01-15T00:00:00\",\"2023-01-14T00:00:00\",\"2023-01-13T00:00:00\",\"2023-01-12T00:00:00\",\"2023-01-11T00:00:00\",\"2023-01-10T00:00:00\",\"2023-01-09T00:00:00\",\"2023-01-08T00:00:00\",\"2023-01-07T00:00:00\",\"2023-01-06T00:00:00\",\"2023-01-05T00:00:00\",\"2023-01-04T00:00:00\",\"2023-01-03T00:00:00\",\"2023-01-02T00:00:00\",\"2023-01-01T00:00:00\",\"2022-12-31T00:00:00\",\"2022-12-30T00:00:00\",\"2022-12-29T00:00:00\",\"2022-12-28T00:00:00\",\"2022-12-27T00:00:00\",\"2022-12-26T00:00:00\",\"2022-12-25T00:00:00\",\"2022-12-24T00:00:00\",\"2022-12-23T00:00:00\",\"2022-12-22T00:00:00\",\"2022-12-21T00:00:00\",\"2022-12-20T00:00:00\",\"2022-12-19T00:00:00\",\"2022-12-18T00:00:00\",\"2022-12-17T00:00:00\",\"2022-12-16T00:00:00\",\"2022-12-15T00:00:00\",\"2022-12-14T00:00:00\",\"2022-12-13T00:00:00\",\"2022-12-12T00:00:00\",\"2022-12-11T00:00:00\",\"2022-12-10T00:00:00\",\"2022-12-09T00:00:00\",\"2022-12-08T00:00:00\",\"2022-12-07T00:00:00\",\"2022-12-06T00:00:00\",\"2022-12-05T00:00:00\",\"2022-12-04T00:00:00\",\"2022-12-03T00:00:00\",\"2022-12-02T00:00:00\",\"2022-12-01T00:00:00\",\"2022-11-30T00:00:00\",\"2022-11-29T00:00:00\",\"2022-11-28T00:00:00\",\"2022-11-27T00:00:00\",\"2022-11-26T00:00:00\",\"2022-11-25T00:00:00\",\"2022-11-24T00:00:00\",\"2022-11-23T00:00:00\",\"2022-11-22T00:00:00\",\"2022-11-21T00:00:00\",\"2022-11-20T00:00:00\",\"2022-11-19T00:00:00\",\"2022-11-18T00:00:00\",\"2022-11-17T00:00:00\",\"2022-11-16T00:00:00\",\"2022-11-15T00:00:00\",\"2022-11-14T00:00:00\",\"2022-11-13T00:00:00\",\"2022-11-12T00:00:00\",\"2022-11-11T00:00:00\",\"2022-11-10T00:00:00\",\"2022-11-09T00:00:00\",\"2022-11-08T00:00:00\",\"2022-11-07T00:00:00\",\"2022-11-06T00:00:00\",\"2022-11-05T00:00:00\",\"2022-11-04T00:00:00\",\"2022-11-03T00:00:00\",\"2022-11-02T00:00:00\",\"2022-11-01T00:00:00\",\"2022-10-31T00:00:00\",\"2022-10-30T00:00:00\",\"2022-10-29T00:00:00\",\"2022-10-28T00:00:00\",\"2022-10-27T00:00:00\",\"2022-10-26T00:00:00\",\"2022-10-25T00:00:00\",\"2022-10-24T00:00:00\",\"2022-10-23T00:00:00\",\"2022-10-22T00:00:00\",\"2022-10-21T00:00:00\",\"2022-10-20T00:00:00\",\"2022-10-19T00:00:00\",\"2022-10-18T00:00:00\",\"2022-10-17T00:00:00\",\"2022-10-16T00:00:00\",\"2022-10-15T00:00:00\",\"2022-10-14T00:00:00\",\"2022-10-13T00:00:00\",\"2022-10-12T00:00:00\",\"2022-10-11T00:00:00\",\"2022-10-10T00:00:00\",\"2022-10-09T00:00:00\",\"2022-10-08T00:00:00\",\"2022-10-07T00:00:00\",\"2022-10-06T00:00:00\",\"2022-10-05T00:00:00\",\"2022-10-04T00:00:00\",\"2022-10-03T00:00:00\",\"2022-10-02T00:00:00\",\"2022-10-01T00:00:00\",\"2022-09-30T00:00:00\",\"2022-09-29T00:00:00\",\"2022-09-28T00:00:00\",\"2022-09-27T00:00:00\",\"2022-09-26T00:00:00\",\"2022-09-25T00:00:00\",\"2022-09-24T00:00:00\",\"2022-09-23T00:00:00\",\"2022-09-22T00:00:00\",\"2022-09-21T00:00:00\",\"2022-09-20T00:00:00\",\"2022-09-19T00:00:00\",\"2022-09-18T00:00:00\",\"2022-09-17T00:00:00\",\"2022-09-16T00:00:00\",\"2022-09-15T00:00:00\",\"2022-09-14T00:00:00\",\"2022-09-13T00:00:00\",\"2022-09-12T00:00:00\",\"2022-09-11T00:00:00\",\"2022-09-10T00:00:00\",\"2022-09-09T00:00:00\",\"2022-09-08T00:00:00\",\"2022-09-07T00:00:00\",\"2022-09-06T00:00:00\",\"2022-09-05T00:00:00\",\"2022-09-04T00:00:00\",\"2022-09-03T00:00:00\",\"2022-09-02T00:00:00\",\"2022-09-01T00:00:00\",\"2022-08-31T00:00:00\",\"2022-08-30T00:00:00\",\"2022-08-29T00:00:00\",\"2022-08-28T00:00:00\",\"2022-08-27T00:00:00\",\"2022-08-26T00:00:00\",\"2022-08-25T00:00:00\",\"2022-08-24T00:00:00\",\"2022-08-23T00:00:00\",\"2022-08-22T00:00:00\",\"2022-08-21T00:00:00\",\"2022-08-20T00:00:00\",\"2022-08-19T00:00:00\",\"2022-08-18T00:00:00\",\"2022-08-17T00:00:00\",\"2022-08-16T00:00:00\",\"2022-08-15T00:00:00\",\"2022-08-14T00:00:00\",\"2022-08-13T00:00:00\",\"2022-08-12T00:00:00\",\"2022-08-11T00:00:00\",\"2022-08-10T00:00:00\",\"2022-08-09T00:00:00\",\"2022-08-08T00:00:00\",\"2022-08-07T00:00:00\",\"2022-08-06T00:00:00\",\"2022-08-05T00:00:00\",\"2022-08-04T00:00:00\",\"2022-08-03T00:00:00\",\"2022-08-02T00:00:00\",\"2022-08-01T00:00:00\",\"2022-07-31T00:00:00\",\"2022-07-30T00:00:00\",\"2022-07-29T00:00:00\",\"2022-07-28T00:00:00\",\"2022-07-27T00:00:00\",\"2022-07-26T00:00:00\",\"2022-07-25T00:00:00\",\"2022-07-24T00:00:00\",\"2022-07-23T00:00:00\",\"2022-07-22T00:00:00\",\"2022-07-21T00:00:00\",\"2022-07-20T00:00:00\",\"2022-07-19T00:00:00\",\"2022-07-18T00:00:00\",\"2022-07-17T00:00:00\",\"2022-07-16T00:00:00\",\"2022-07-15T00:00:00\",\"2022-07-14T00:00:00\",\"2022-07-13T00:00:00\",\"2022-07-12T00:00:00\",\"2022-07-11T00:00:00\",\"2022-07-10T00:00:00\",\"2022-07-09T00:00:00\",\"2022-07-08T00:00:00\",\"2022-07-07T00:00:00\",\"2022-07-06T00:00:00\",\"2022-07-05T00:00:00\",\"2022-07-04T00:00:00\",\"2022-07-03T00:00:00\",\"2022-07-02T00:00:00\",\"2022-07-01T00:00:00\",\"2022-06-30T00:00:00\",\"2022-06-29T00:00:00\",\"2022-06-28T00:00:00\",\"2022-06-27T00:00:00\",\"2022-06-26T00:00:00\",\"2022-06-25T00:00:00\",\"2022-06-24T00:00:00\",\"2022-06-23T00:00:00\",\"2022-06-22T00:00:00\",\"2022-06-21T00:00:00\",\"2022-06-20T00:00:00\",\"2022-06-19T00:00:00\",\"2022-06-18T00:00:00\",\"2022-06-17T00:00:00\",\"2022-06-16T00:00:00\",\"2022-06-15T00:00:00\",\"2022-06-14T00:00:00\",\"2022-06-13T00:00:00\",\"2022-06-12T00:00:00\",\"2022-06-11T00:00:00\",\"2022-06-10T00:00:00\",\"2022-06-09T00:00:00\",\"2022-06-08T00:00:00\",\"2022-06-07T00:00:00\",\"2022-06-06T00:00:00\",\"2022-06-05T00:00:00\",\"2022-06-04T00:00:00\",\"2022-06-03T00:00:00\",\"2022-06-02T00:00:00\",\"2022-06-01T00:00:00\",\"2022-05-31T00:00:00\",\"2022-05-30T00:00:00\",\"2022-05-29T00:00:00\",\"2022-05-28T00:00:00\",\"2022-05-27T00:00:00\",\"2022-05-26T00:00:00\",\"2022-05-25T00:00:00\",\"2022-05-24T00:00:00\",\"2022-05-23T00:00:00\",\"2022-05-22T00:00:00\",\"2022-05-21T00:00:00\",\"2022-05-20T00:00:00\",\"2022-05-19T00:00:00\",\"2022-05-18T00:00:00\",\"2022-05-17T00:00:00\",\"2022-05-16T00:00:00\",\"2022-05-15T00:00:00\",\"2022-05-14T00:00:00\",\"2022-05-13T00:00:00\",\"2022-05-12T00:00:00\",\"2022-05-11T00:00:00\",\"2022-05-10T00:00:00\",\"2022-05-09T00:00:00\",\"2022-05-08T00:00:00\",\"2022-05-07T00:00:00\",\"2022-05-06T00:00:00\",\"2022-05-05T00:00:00\",\"2022-05-04T00:00:00\",\"2022-05-03T00:00:00\",\"2022-05-02T00:00:00\",\"2022-05-01T00:00:00\",\"2022-04-30T00:00:00\",\"2022-04-29T00:00:00\",\"2022-04-28T00:00:00\",\"2022-04-27T00:00:00\",\"2022-04-26T00:00:00\",\"2022-04-25T00:00:00\",\"2022-04-24T00:00:00\",\"2022-04-23T00:00:00\",\"2022-04-22T00:00:00\",\"2022-04-21T00:00:00\",\"2022-04-20T00:00:00\",\"2022-04-19T00:00:00\",\"2022-04-18T00:00:00\",\"2022-04-17T00:00:00\",\"2022-04-16T00:00:00\",\"2022-04-15T00:00:00\",\"2022-04-14T00:00:00\",\"2022-04-13T00:00:00\",\"2022-04-12T00:00:00\",\"2022-04-11T00:00:00\",\"2022-04-10T00:00:00\",\"2022-04-09T00:00:00\",\"2022-04-08T00:00:00\",\"2022-04-07T00:00:00\",\"2022-04-06T00:00:00\",\"2022-04-05T00:00:00\",\"2022-04-04T00:00:00\",\"2022-04-03T00:00:00\",\"2022-04-02T00:00:00\",\"2022-04-01T00:00:00\",\"2022-03-31T00:00:00\",\"2022-03-30T00:00:00\",\"2022-03-29T00:00:00\",\"2022-03-28T00:00:00\",\"2022-03-27T00:00:00\",\"2022-03-26T00:00:00\",\"2022-03-25T00:00:00\",\"2022-03-24T00:00:00\",\"2022-03-23T00:00:00\",\"2022-03-22T00:00:00\",\"2022-03-21T00:00:00\",\"2022-03-20T00:00:00\",\"2022-03-19T00:00:00\",\"2022-03-18T00:00:00\",\"2022-03-17T00:00:00\",\"2022-03-16T00:00:00\",\"2022-03-15T00:00:00\",\"2022-03-14T00:00:00\",\"2022-03-13T00:00:00\",\"2022-03-12T00:00:00\",\"2022-03-11T00:00:00\",\"2022-03-10T00:00:00\",\"2022-03-09T00:00:00\"],\"xaxis\":\"x\",\"y\":[null,null,null,null,null,null,null,null,null,null,null,null,null,null,null,null,null,null,null,null,null,null,null,null,null,null,null,null,null,null,null,null,null,null,null,null,null,null,null,null,null,null,null,null,null,null,null,null,null,null,null,null,null,null,null,null,null,null,null,null,null,null,null,null,null,null,null,null,null,null,null,null,null,null,null,null,null,null,null,null,null,null,null,null,null,null,null,null,null,null,null,null,null,null,null,null,null,null,null,null,null,null,null,null,null,null,null,null,null,null,null,null,null,null,null,null,null,null,null,null,null,null,null,null,null,null,null,null,null,null,null,null,null,null,null,null,null,null,null,null,null,null,null,null,null,null,null,null,null,null,null,null,null,null,null,null,null,null,null,null,null,null,null,null,null,null,null,null,null,null,null,null,null,null,null,null,null,null,null,null,null,null,null,null,null,null,null,null,null,null,null,null,null,null,null,null,null,null,null,null,null,null,null,null,null,null,null,null,null,null,null,null,null,null,null,null,null,null,null,null,null,null,null,null,null,null,null,null,null,null,null,null,null,null,null,null,null,null,null,null,null,null,null,null,null,null,null,null,null,null,null,null,null,null,null,null,null,null,null,null,null,null,null,null,null,null,null,null,null,null,null,null,null,null,null,null,null,null,null,null,null,null,null,null,null,null,null,null,1986.00927734375,1957.32958984375,2026.7332763671875,1944.8857421875,1923.4476318359375,1997.874267578125,1880.952880859375,2080.92138671875,2004.11376953125,2134.21533203125,2021.938720703125,1962.5115966796875,1911.16796875,2073.466552734375,2383.407470703125,2197.21240234375,2545.018798828125,2646.71923828125,2658.175048828125,2699.44384765625,2946.405029296875,2641.889892578125,2796.478515625,2740.712646484375,2611.479736328125,2776.094970703125,2919.935302734375,2791.078857421875,2691.3271484375,3007.69287109375,2808.540283203125,2844.701904296875,2892.538330078125,2908.481689453125,3029.279541015625,3019.767333984375,2934.154052734375,2861.420654296875,3000.200439453125,2945.31640625,2918.551025390625,3068.822998046875,2890.951416015625,2859.3935546875,3217.765625,3187.7431640625,3042.361572265625,3134.587890625,3032.68017578125,3422.003173828125,3452.225830078125,3370.519775390625,3254.255859375,3334.66259765625,3062.186279296875,3328.239501953125,3290.734130859375,3164.04345703125,3159.1826171875,2959.046630859375,2982.205078125,3021.453125,2907.293701171875,2846.388427734375,2770.87255859375,2767.84130859375,2910.8251953125,2857.293701171875,2673.467529296875,2675.05908203125,2488.603759765625,2508.34130859375,2435.302734375,2528.524169921875,2502.871826171875,2565.554443359375,null],\"yaxis\":\"y\",\"type\":\"scattergl\"}],                        {\"template\":{\"data\":{\"histogram2dcontour\":[{\"type\":\"histogram2dcontour\",\"colorbar\":{\"outlinewidth\":0,\"ticks\":\"\"},\"colorscale\":[[0.0,\"#0d0887\"],[0.1111111111111111,\"#46039f\"],[0.2222222222222222,\"#7201a8\"],[0.3333333333333333,\"#9c179e\"],[0.4444444444444444,\"#bd3786\"],[0.5555555555555556,\"#d8576b\"],[0.6666666666666666,\"#ed7953\"],[0.7777777777777778,\"#fb9f3a\"],[0.8888888888888888,\"#fdca26\"],[1.0,\"#f0f921\"]]}],\"choropleth\":[{\"type\":\"choropleth\",\"colorbar\":{\"outlinewidth\":0,\"ticks\":\"\"}}],\"histogram2d\":[{\"type\":\"histogram2d\",\"colorbar\":{\"outlinewidth\":0,\"ticks\":\"\"},\"colorscale\":[[0.0,\"#0d0887\"],[0.1111111111111111,\"#46039f\"],[0.2222222222222222,\"#7201a8\"],[0.3333333333333333,\"#9c179e\"],[0.4444444444444444,\"#bd3786\"],[0.5555555555555556,\"#d8576b\"],[0.6666666666666666,\"#ed7953\"],[0.7777777777777778,\"#fb9f3a\"],[0.8888888888888888,\"#fdca26\"],[1.0,\"#f0f921\"]]}],\"heatmap\":[{\"type\":\"heatmap\",\"colorbar\":{\"outlinewidth\":0,\"ticks\":\"\"},\"colorscale\":[[0.0,\"#0d0887\"],[0.1111111111111111,\"#46039f\"],[0.2222222222222222,\"#7201a8\"],[0.3333333333333333,\"#9c179e\"],[0.4444444444444444,\"#bd3786\"],[0.5555555555555556,\"#d8576b\"],[0.6666666666666666,\"#ed7953\"],[0.7777777777777778,\"#fb9f3a\"],[0.8888888888888888,\"#fdca26\"],[1.0,\"#f0f921\"]]}],\"heatmapgl\":[{\"type\":\"heatmapgl\",\"colorbar\":{\"outlinewidth\":0,\"ticks\":\"\"},\"colorscale\":[[0.0,\"#0d0887\"],[0.1111111111111111,\"#46039f\"],[0.2222222222222222,\"#7201a8\"],[0.3333333333333333,\"#9c179e\"],[0.4444444444444444,\"#bd3786\"],[0.5555555555555556,\"#d8576b\"],[0.6666666666666666,\"#ed7953\"],[0.7777777777777778,\"#fb9f3a\"],[0.8888888888888888,\"#fdca26\"],[1.0,\"#f0f921\"]]}],\"contourcarpet\":[{\"type\":\"contourcarpet\",\"colorbar\":{\"outlinewidth\":0,\"ticks\":\"\"}}],\"contour\":[{\"type\":\"contour\",\"colorbar\":{\"outlinewidth\":0,\"ticks\":\"\"},\"colorscale\":[[0.0,\"#0d0887\"],[0.1111111111111111,\"#46039f\"],[0.2222222222222222,\"#7201a8\"],[0.3333333333333333,\"#9c179e\"],[0.4444444444444444,\"#bd3786\"],[0.5555555555555556,\"#d8576b\"],[0.6666666666666666,\"#ed7953\"],[0.7777777777777778,\"#fb9f3a\"],[0.8888888888888888,\"#fdca26\"],[1.0,\"#f0f921\"]]}],\"surface\":[{\"type\":\"surface\",\"colorbar\":{\"outlinewidth\":0,\"ticks\":\"\"},\"colorscale\":[[0.0,\"#0d0887\"],[0.1111111111111111,\"#46039f\"],[0.2222222222222222,\"#7201a8\"],[0.3333333333333333,\"#9c179e\"],[0.4444444444444444,\"#bd3786\"],[0.5555555555555556,\"#d8576b\"],[0.6666666666666666,\"#ed7953\"],[0.7777777777777778,\"#fb9f3a\"],[0.8888888888888888,\"#fdca26\"],[1.0,\"#f0f921\"]]}],\"mesh3d\":[{\"type\":\"mesh3d\",\"colorbar\":{\"outlinewidth\":0,\"ticks\":\"\"}}],\"scatter\":[{\"fillpattern\":{\"fillmode\":\"overlay\",\"size\":10,\"solidity\":0.2},\"type\":\"scatter\"}],\"parcoords\":[{\"type\":\"parcoords\",\"line\":{\"colorbar\":{\"outlinewidth\":0,\"ticks\":\"\"}}}],\"scatterpolargl\":[{\"type\":\"scatterpolargl\",\"marker\":{\"colorbar\":{\"outlinewidth\":0,\"ticks\":\"\"}}}],\"bar\":[{\"error_x\":{\"color\":\"#2a3f5f\"},\"error_y\":{\"color\":\"#2a3f5f\"},\"marker\":{\"line\":{\"color\":\"#E5ECF6\",\"width\":0.5},\"pattern\":{\"fillmode\":\"overlay\",\"size\":10,\"solidity\":0.2}},\"type\":\"bar\"}],\"scattergeo\":[{\"type\":\"scattergeo\",\"marker\":{\"colorbar\":{\"outlinewidth\":0,\"ticks\":\"\"}}}],\"scatterpolar\":[{\"type\":\"scatterpolar\",\"marker\":{\"colorbar\":{\"outlinewidth\":0,\"ticks\":\"\"}}}],\"histogram\":[{\"marker\":{\"pattern\":{\"fillmode\":\"overlay\",\"size\":10,\"solidity\":0.2}},\"type\":\"histogram\"}],\"scattergl\":[{\"type\":\"scattergl\",\"marker\":{\"colorbar\":{\"outlinewidth\":0,\"ticks\":\"\"}}}],\"scatter3d\":[{\"type\":\"scatter3d\",\"line\":{\"colorbar\":{\"outlinewidth\":0,\"ticks\":\"\"}},\"marker\":{\"colorbar\":{\"outlinewidth\":0,\"ticks\":\"\"}}}],\"scattermapbox\":[{\"type\":\"scattermapbox\",\"marker\":{\"colorbar\":{\"outlinewidth\":0,\"ticks\":\"\"}}}],\"scatterternary\":[{\"type\":\"scatterternary\",\"marker\":{\"colorbar\":{\"outlinewidth\":0,\"ticks\":\"\"}}}],\"scattercarpet\":[{\"type\":\"scattercarpet\",\"marker\":{\"colorbar\":{\"outlinewidth\":0,\"ticks\":\"\"}}}],\"carpet\":[{\"aaxis\":{\"endlinecolor\":\"#2a3f5f\",\"gridcolor\":\"white\",\"linecolor\":\"white\",\"minorgridcolor\":\"white\",\"startlinecolor\":\"#2a3f5f\"},\"baxis\":{\"endlinecolor\":\"#2a3f5f\",\"gridcolor\":\"white\",\"linecolor\":\"white\",\"minorgridcolor\":\"white\",\"startlinecolor\":\"#2a3f5f\"},\"type\":\"carpet\"}],\"table\":[{\"cells\":{\"fill\":{\"color\":\"#EBF0F8\"},\"line\":{\"color\":\"white\"}},\"header\":{\"fill\":{\"color\":\"#C8D4E3\"},\"line\":{\"color\":\"white\"}},\"type\":\"table\"}],\"barpolar\":[{\"marker\":{\"line\":{\"color\":\"#E5ECF6\",\"width\":0.5},\"pattern\":{\"fillmode\":\"overlay\",\"size\":10,\"solidity\":0.2}},\"type\":\"barpolar\"}],\"pie\":[{\"automargin\":true,\"type\":\"pie\"}]},\"layout\":{\"autotypenumbers\":\"strict\",\"colorway\":[\"#636efa\",\"#EF553B\",\"#00cc96\",\"#ab63fa\",\"#FFA15A\",\"#19d3f3\",\"#FF6692\",\"#B6E880\",\"#FF97FF\",\"#FECB52\"],\"font\":{\"color\":\"#2a3f5f\"},\"hovermode\":\"closest\",\"hoverlabel\":{\"align\":\"left\"},\"paper_bgcolor\":\"white\",\"plot_bgcolor\":\"#E5ECF6\",\"polar\":{\"bgcolor\":\"#E5ECF6\",\"angularaxis\":{\"gridcolor\":\"white\",\"linecolor\":\"white\",\"ticks\":\"\"},\"radialaxis\":{\"gridcolor\":\"white\",\"linecolor\":\"white\",\"ticks\":\"\"}},\"ternary\":{\"bgcolor\":\"#E5ECF6\",\"aaxis\":{\"gridcolor\":\"white\",\"linecolor\":\"white\",\"ticks\":\"\"},\"baxis\":{\"gridcolor\":\"white\",\"linecolor\":\"white\",\"ticks\":\"\"},\"caxis\":{\"gridcolor\":\"white\",\"linecolor\":\"white\",\"ticks\":\"\"}},\"coloraxis\":{\"colorbar\":{\"outlinewidth\":0,\"ticks\":\"\"}},\"colorscale\":{\"sequential\":[[0.0,\"#0d0887\"],[0.1111111111111111,\"#46039f\"],[0.2222222222222222,\"#7201a8\"],[0.3333333333333333,\"#9c179e\"],[0.4444444444444444,\"#bd3786\"],[0.5555555555555556,\"#d8576b\"],[0.6666666666666666,\"#ed7953\"],[0.7777777777777778,\"#fb9f3a\"],[0.8888888888888888,\"#fdca26\"],[1.0,\"#f0f921\"]],\"sequentialminus\":[[0.0,\"#0d0887\"],[0.1111111111111111,\"#46039f\"],[0.2222222222222222,\"#7201a8\"],[0.3333333333333333,\"#9c179e\"],[0.4444444444444444,\"#bd3786\"],[0.5555555555555556,\"#d8576b\"],[0.6666666666666666,\"#ed7953\"],[0.7777777777777778,\"#fb9f3a\"],[0.8888888888888888,\"#fdca26\"],[1.0,\"#f0f921\"]],\"diverging\":[[0,\"#8e0152\"],[0.1,\"#c51b7d\"],[0.2,\"#de77ae\"],[0.3,\"#f1b6da\"],[0.4,\"#fde0ef\"],[0.5,\"#f7f7f7\"],[0.6,\"#e6f5d0\"],[0.7,\"#b8e186\"],[0.8,\"#7fbc41\"],[0.9,\"#4d9221\"],[1,\"#276419\"]]},\"xaxis\":{\"gridcolor\":\"white\",\"linecolor\":\"white\",\"ticks\":\"\",\"title\":{\"standoff\":15},\"zerolinecolor\":\"white\",\"automargin\":true,\"zerolinewidth\":2},\"yaxis\":{\"gridcolor\":\"white\",\"linecolor\":\"white\",\"ticks\":\"\",\"title\":{\"standoff\":15},\"zerolinecolor\":\"white\",\"automargin\":true,\"zerolinewidth\":2},\"scene\":{\"xaxis\":{\"backgroundcolor\":\"#E5ECF6\",\"gridcolor\":\"white\",\"linecolor\":\"white\",\"showbackground\":true,\"ticks\":\"\",\"zerolinecolor\":\"white\",\"gridwidth\":2},\"yaxis\":{\"backgroundcolor\":\"#E5ECF6\",\"gridcolor\":\"white\",\"linecolor\":\"white\",\"showbackground\":true,\"ticks\":\"\",\"zerolinecolor\":\"white\",\"gridwidth\":2},\"zaxis\":{\"backgroundcolor\":\"#E5ECF6\",\"gridcolor\":\"white\",\"linecolor\":\"white\",\"showbackground\":true,\"ticks\":\"\",\"zerolinecolor\":\"white\",\"gridwidth\":2}},\"shapedefaults\":{\"line\":{\"color\":\"#2a3f5f\"}},\"annotationdefaults\":{\"arrowcolor\":\"#2a3f5f\",\"arrowhead\":0,\"arrowwidth\":1},\"geo\":{\"bgcolor\":\"white\",\"landcolor\":\"#E5ECF6\",\"subunitcolor\":\"white\",\"showland\":true,\"showlakes\":true,\"lakecolor\":\"white\"},\"title\":{\"x\":0.05},\"mapbox\":{\"style\":\"light\"}}},\"xaxis\":{\"anchor\":\"y\",\"domain\":[0.0,1.0],\"title\":{\"text\":\"Date\"},\"showgrid\":false},\"yaxis\":{\"anchor\":\"x\",\"domain\":[0.0,1.0],\"title\":{\"text\":\"Ethereum price\"},\"showgrid\":false},\"legend\":{\"title\":{\"text\":\"Open Price\"},\"tracegroupgap\":0},\"margin\":{\"t\":60},\"title\":{\"text\":\"Comparision between original Open price vs predicted Open price\"},\"font\":{\"size\":15,\"color\":\"black\"},\"plot_bgcolor\":\"white\"},                        {\"responsive\": true}                    ).then(function(){\n",
       "                            \n",
       "var gd = document.getElementById('d160fa68-925e-4508-84e1-7de00d93046c');\n",
       "var x = new MutationObserver(function (mutations, observer) {{\n",
       "        var display = window.getComputedStyle(gd).display;\n",
       "        if (!display || display === 'none') {{\n",
       "            console.log([gd, 'removed!']);\n",
       "            Plotly.purge(gd);\n",
       "            observer.disconnect();\n",
       "        }}\n",
       "}});\n",
       "\n",
       "// Listen for the removal of the full notebook cells\n",
       "var notebookContainer = gd.closest('#notebook-container');\n",
       "if (notebookContainer) {{\n",
       "    x.observe(notebookContainer, {childList: true});\n",
       "}}\n",
       "\n",
       "// Listen for the clearing of the current output cell\n",
       "var outputEl = gd.closest('.output');\n",
       "if (outputEl) {{\n",
       "    x.observe(outputEl, {childList: true});\n",
       "}}\n",
       "\n",
       "                        })                };                });            </script>        </div>"
      ]
     },
     "metadata": {},
     "output_type": "display_data"
    }
   ],
   "source": [
    "look_back = time_step\n",
    "train_predict_plot = np.empty_like(open_stock)\n",
    "train_predict_plot[:, :] = np.nan\n",
    "train_predict_plot[look_back : len(train_predict) + look_back, :] = train_predict\n",
    "print(\"Train predicted data: \", train_predict_plot.shape)\n",
    "\n",
    "# shift test predictions for plotting\n",
    "test_predict_plot = np.empty_like(open_stock)\n",
    "test_predict_plot[:, :] = np.nan\n",
    "test_predict_plot[len(train_predict) + (look_back * 2) + 1:len(open_stock) - 1, :] = test_predict\n",
    "print(\"Test predicted data: \", test_predict_plot.shape)\n",
    "\n",
    "names = cycle(['Original Open price','Train predicted Open price','Test predicted Open price'])\n",
    "\n",
    "plotdf = pd.DataFrame({'Date': open_eth['Date'],\n",
    "                       'original_open': open_eth['Open'],\n",
    "                      'train_predicted_open': train_predict_plot.reshape(1,-1)[0].tolist(),\n",
    "                      'test_predicted_open': test_predict_plot.reshape(1,-1)[0].tolist()})\n",
    "plotdf['original_open'] = plotdf['original_open'].astype(np.float64)\n",
    "\n",
    "fig = px.line(plotdf, x = plotdf['Date'], y = [plotdf['original_open'], plotdf['train_predicted_open'], plotdf['test_predicted_open']],\n",
    "              labels = {'value':'Ethereum price','Date': 'Date'})\n",
    "fig.update_layout(title_text = 'Comparision between original Open price vs predicted Open price',\n",
    "                  plot_bgcolor = 'white', font_size = 15, font_color = 'black', legend_title_text = 'Open Price')\n",
    "fig.for_each_trace(lambda t:  t.update(name = next(names)))\n",
    "\n",
    "fig.update_xaxes(showgrid=False)\n",
    "fig.update_yaxes(showgrid=False)\n",
    "fig.show()"
   ]
  },
  {
   "cell_type": "markdown",
   "id": "35f310e7",
   "metadata": {
    "id": "XUd4c_CVmX7b",
    "papermill": {
     "duration": 0.084872,
     "end_time": "2023-03-10T08:31:32.878154",
     "exception": false,
     "start_time": "2023-03-10T08:31:32.793282",
     "status": "completed"
    },
    "tags": []
   },
   "source": [
    "Predicting for the next 30 days"
   ]
  },
  {
   "cell_type": "code",
   "execution_count": 34,
   "id": "3f391124",
   "metadata": {
    "execution": {
     "iopub.execute_input": "2023-03-10T08:31:33.050755Z",
     "iopub.status.busy": "2023-03-10T08:31:33.050323Z",
     "iopub.status.idle": "2023-03-10T08:31:36.044704Z",
     "shell.execute_reply": "2023-03-10T08:31:36.043160Z"
    },
    "id": "t5Z-KKKBVFZr",
    "outputId": "1968471b-8ad6-4de8-e50e-7227cfc13305",
    "papermill": {
     "duration": 3.08506,
     "end_time": "2023-03-10T08:31:36.048504",
     "exception": false,
     "start_time": "2023-03-10T08:31:32.963444",
     "status": "completed"
    },
    "tags": []
   },
   "outputs": [
    {
     "name": "stdout",
     "output_type": "stream",
     "text": [
      "Output of predicted next days:  30\n"
     ]
    }
   ],
   "source": [
    "x_input=test_data[len(test_data)-time_step:].reshape(1,-1)\n",
    "temp_input=list(x_input)\n",
    "temp_input=temp_input[0].tolist()\n",
    "\n",
    "from numpy import array\n",
    "\n",
    "lst_output=[]\n",
    "n_steps=time_step\n",
    "i=0\n",
    "pred_days = 30\n",
    "while(i<pred_days):\n",
    "    \n",
    "    if(len(temp_input)>time_step):\n",
    "        \n",
    "        x_input=np.array(temp_input[1:])\n",
    "        #print(\"{} day input {}\".format(i,x_input))\n",
    "        x_input = x_input.reshape(1,-1)\n",
    "        x_input = x_input.reshape((1, n_steps, 1))\n",
    "        \n",
    "        yhat = model.predict(x_input, verbose=0)\n",
    "        #print(\"{} day output {}\".format(i,yhat))\n",
    "        temp_input.extend(yhat[0].tolist())\n",
    "        temp_input=temp_input[1:]\n",
    "        #print(temp_input)\n",
    "       \n",
    "        lst_output.extend(yhat.tolist())\n",
    "        i=i+1\n",
    "        \n",
    "    else:\n",
    "        \n",
    "        x_input = x_input.reshape((1, n_steps,1))\n",
    "        yhat = model.predict(x_input, verbose=0)\n",
    "        temp_input.extend(yhat[0].tolist())\n",
    "        \n",
    "        lst_output.extend(yhat.tolist())\n",
    "        i=i+1\n",
    "               \n",
    "print(\"Output of predicted next days: \", len(lst_output))"
   ]
  },
  {
   "cell_type": "markdown",
   "id": "7f7cd89f",
   "metadata": {
    "id": "z3NXpaz2mc7d",
    "papermill": {
     "duration": 0.085994,
     "end_time": "2023-03-10T08:31:36.222154",
     "exception": false,
     "start_time": "2023-03-10T08:31:36.136160",
     "status": "completed"
    },
    "tags": []
   },
   "source": [
    "Plotting last 15 days of dataset and next predicted 30 days"
   ]
  },
  {
   "cell_type": "code",
   "execution_count": 35,
   "id": "b8f248c8",
   "metadata": {
    "execution": {
     "iopub.execute_input": "2023-03-10T08:31:36.396785Z",
     "iopub.status.busy": "2023-03-10T08:31:36.396370Z",
     "iopub.status.idle": "2023-03-10T08:31:36.403805Z",
     "shell.execute_reply": "2023-03-10T08:31:36.402591Z"
    },
    "id": "OtpwMWWaVRuf",
    "outputId": "6f98d0b4-4a3d-4016-9d03-cb08f3b8a632",
    "papermill": {
     "duration": 0.098704,
     "end_time": "2023-03-10T08:31:36.407062",
     "exception": false,
     "start_time": "2023-03-10T08:31:36.308358",
     "status": "completed"
    },
    "tags": []
   },
   "outputs": [
    {
     "name": "stdout",
     "output_type": "stream",
     "text": [
      "[ 1  2  3  4  5  6  7  8  9 10 11 12 13 14 15]\n",
      "[16 17 18 19 20 21 22 23 24 25 26 27 28 29 30 31 32 33 34 35 36 37 38 39\n",
      " 40 41 42 43 44 45]\n"
     ]
    }
   ],
   "source": [
    "last_days=np.arange(1,time_step+1)\n",
    "day_pred=np.arange(time_step+1,time_step+pred_days+1)\n",
    "print(last_days)\n",
    "print(day_pred)"
   ]
  },
  {
   "cell_type": "code",
   "execution_count": 36,
   "id": "b5b939ee",
   "metadata": {
    "execution": {
     "iopub.execute_input": "2023-03-10T08:31:36.590675Z",
     "iopub.status.busy": "2023-03-10T08:31:36.590249Z",
     "iopub.status.idle": "2023-03-10T08:31:36.685994Z",
     "shell.execute_reply": "2023-03-10T08:31:36.684799Z"
    },
    "id": "O5Likm-XVUOK",
    "outputId": "d4794a06-9de8-424a-e33d-f4e569b49baa",
    "papermill": {
     "duration": 0.194429,
     "end_time": "2023-03-10T08:31:36.688650",
     "exception": false,
     "start_time": "2023-03-10T08:31:36.494221",
     "status": "completed"
    },
    "tags": []
   },
   "outputs": [
    {
     "data": {
      "text/html": [
       "<div>                            <div id=\"18fbe460-07a9-4eb5-a02c-537262fdc8e5\" class=\"plotly-graph-div\" style=\"height:525px; width:100%;\"></div>            <script type=\"text/javascript\">                require([\"plotly\"], function(Plotly) {                    window.PLOTLYENV=window.PLOTLYENV || {};                                    if (document.getElementById(\"18fbe460-07a9-4eb5-a02c-537262fdc8e5\")) {                    Plotly.newPlot(                        \"18fbe460-07a9-4eb5-a02c-537262fdc8e5\",                        [{\"hovertemplate\":\"variable=last_original_days_value<br>Timestamp=%{x}<br>Ethereum price=%{y}<extra></extra>\",\"legendgroup\":\"last_original_days_value\",\"line\":{\"color\":\"#636efa\",\"dash\":\"solid\"},\"marker\":{\"symbol\":\"circle\"},\"mode\":\"lines\",\"name\":\"Last 15 days Open price\",\"orientation\":\"v\",\"showlegend\":true,\"x\":[0,1,2,3,4,5,6,7,8,9,10,11,12,13,14,15,16,17,18,19,20,21,22,23,24,25,26,27,28,29,30,31,32,33,34,35,36,37,38,39,40,41,42,43,44,45],\"xaxis\":\"x\",\"y\":[2969.6399999999994,2891.41,2861.66,2950.0299999999997,2939.76,2812.29,2773.8,2617.4299999999994,2589.5399999999995,2516.75,2569.8,2556.9600000000005,2606.5,2726.94,2577.2100000000005,null,2466.7077809929847,2356.8180874621867,2261.6131310069563,2181.8161890479923,2114.7942126256225,2057.635274349153,2007.9366540035605,1963.9400249630214,1924.42697827667,1888.5651690888405,1855.77553889215,1825.6380011755227,1797.8316763839125,1772.098159752488,1748.2225530570745,1726.0199158644677,1705.3300718450546,1686.0130925229191,1667.9460606300831,1651.020586169064,1635.140924642086,1620.222020009458,1606.1879992729425,1592.9710434132814,1580.5102583277226,1568.750846850872,1557.643130233884,1547.1420965194702,1537.206798375249,1527.7997885625064],\"yaxis\":\"y\",\"type\":\"scatter\"},{\"hovertemplate\":\"variable=next_predicted_days_value<br>Timestamp=%{x}<br>Ethereum price=%{y}<extra></extra>\",\"legendgroup\":\"next_predicted_days_value\",\"line\":{\"color\":\"#EF553B\",\"dash\":\"solid\"},\"marker\":{\"symbol\":\"circle\"},\"mode\":\"lines\",\"name\":\"Predicted next 30 days Open price\",\"orientation\":\"v\",\"showlegend\":true,\"x\":[0,1,2,3,4,5,6,7,8,9,10,11,12,13,14,15,16,17,18,19,20,21,22,23,24,25,26,27,28,29,30,31,32,33,34,35,36,37,38,39,40,41,42,43,44,45],\"xaxis\":\"x\",\"y\":[2969.6399999999994,2891.41,2861.66,2950.0299999999997,2939.76,2812.29,2773.8,2617.4299999999994,2589.5399999999995,2516.75,2569.8,2556.9600000000005,2606.5,2726.94,2577.2100000000005,null,2466.7077809929847,2356.8180874621867,2261.6131310069563,2181.8161890479923,2114.7942126256225,2057.635274349153,2007.9366540035605,1963.9400249630214,1924.42697827667,1888.5651690888405,1855.77553889215,1825.6380011755227,1797.8316763839125,1772.098159752488,1748.2225530570745,1726.0199158644677,1705.3300718450546,1686.0130925229191,1667.9460606300831,1651.020586169064,1635.140924642086,1620.222020009458,1606.1879992729425,1592.9710434132814,1580.5102583277226,1568.750846850872,1557.643130233884,1547.1420965194702,1537.206798375249,1527.7997885625064],\"yaxis\":\"y\",\"type\":\"scatter\"}],                        {\"template\":{\"data\":{\"histogram2dcontour\":[{\"type\":\"histogram2dcontour\",\"colorbar\":{\"outlinewidth\":0,\"ticks\":\"\"},\"colorscale\":[[0.0,\"#0d0887\"],[0.1111111111111111,\"#46039f\"],[0.2222222222222222,\"#7201a8\"],[0.3333333333333333,\"#9c179e\"],[0.4444444444444444,\"#bd3786\"],[0.5555555555555556,\"#d8576b\"],[0.6666666666666666,\"#ed7953\"],[0.7777777777777778,\"#fb9f3a\"],[0.8888888888888888,\"#fdca26\"],[1.0,\"#f0f921\"]]}],\"choropleth\":[{\"type\":\"choropleth\",\"colorbar\":{\"outlinewidth\":0,\"ticks\":\"\"}}],\"histogram2d\":[{\"type\":\"histogram2d\",\"colorbar\":{\"outlinewidth\":0,\"ticks\":\"\"},\"colorscale\":[[0.0,\"#0d0887\"],[0.1111111111111111,\"#46039f\"],[0.2222222222222222,\"#7201a8\"],[0.3333333333333333,\"#9c179e\"],[0.4444444444444444,\"#bd3786\"],[0.5555555555555556,\"#d8576b\"],[0.6666666666666666,\"#ed7953\"],[0.7777777777777778,\"#fb9f3a\"],[0.8888888888888888,\"#fdca26\"],[1.0,\"#f0f921\"]]}],\"heatmap\":[{\"type\":\"heatmap\",\"colorbar\":{\"outlinewidth\":0,\"ticks\":\"\"},\"colorscale\":[[0.0,\"#0d0887\"],[0.1111111111111111,\"#46039f\"],[0.2222222222222222,\"#7201a8\"],[0.3333333333333333,\"#9c179e\"],[0.4444444444444444,\"#bd3786\"],[0.5555555555555556,\"#d8576b\"],[0.6666666666666666,\"#ed7953\"],[0.7777777777777778,\"#fb9f3a\"],[0.8888888888888888,\"#fdca26\"],[1.0,\"#f0f921\"]]}],\"heatmapgl\":[{\"type\":\"heatmapgl\",\"colorbar\":{\"outlinewidth\":0,\"ticks\":\"\"},\"colorscale\":[[0.0,\"#0d0887\"],[0.1111111111111111,\"#46039f\"],[0.2222222222222222,\"#7201a8\"],[0.3333333333333333,\"#9c179e\"],[0.4444444444444444,\"#bd3786\"],[0.5555555555555556,\"#d8576b\"],[0.6666666666666666,\"#ed7953\"],[0.7777777777777778,\"#fb9f3a\"],[0.8888888888888888,\"#fdca26\"],[1.0,\"#f0f921\"]]}],\"contourcarpet\":[{\"type\":\"contourcarpet\",\"colorbar\":{\"outlinewidth\":0,\"ticks\":\"\"}}],\"contour\":[{\"type\":\"contour\",\"colorbar\":{\"outlinewidth\":0,\"ticks\":\"\"},\"colorscale\":[[0.0,\"#0d0887\"],[0.1111111111111111,\"#46039f\"],[0.2222222222222222,\"#7201a8\"],[0.3333333333333333,\"#9c179e\"],[0.4444444444444444,\"#bd3786\"],[0.5555555555555556,\"#d8576b\"],[0.6666666666666666,\"#ed7953\"],[0.7777777777777778,\"#fb9f3a\"],[0.8888888888888888,\"#fdca26\"],[1.0,\"#f0f921\"]]}],\"surface\":[{\"type\":\"surface\",\"colorbar\":{\"outlinewidth\":0,\"ticks\":\"\"},\"colorscale\":[[0.0,\"#0d0887\"],[0.1111111111111111,\"#46039f\"],[0.2222222222222222,\"#7201a8\"],[0.3333333333333333,\"#9c179e\"],[0.4444444444444444,\"#bd3786\"],[0.5555555555555556,\"#d8576b\"],[0.6666666666666666,\"#ed7953\"],[0.7777777777777778,\"#fb9f3a\"],[0.8888888888888888,\"#fdca26\"],[1.0,\"#f0f921\"]]}],\"mesh3d\":[{\"type\":\"mesh3d\",\"colorbar\":{\"outlinewidth\":0,\"ticks\":\"\"}}],\"scatter\":[{\"fillpattern\":{\"fillmode\":\"overlay\",\"size\":10,\"solidity\":0.2},\"type\":\"scatter\"}],\"parcoords\":[{\"type\":\"parcoords\",\"line\":{\"colorbar\":{\"outlinewidth\":0,\"ticks\":\"\"}}}],\"scatterpolargl\":[{\"type\":\"scatterpolargl\",\"marker\":{\"colorbar\":{\"outlinewidth\":0,\"ticks\":\"\"}}}],\"bar\":[{\"error_x\":{\"color\":\"#2a3f5f\"},\"error_y\":{\"color\":\"#2a3f5f\"},\"marker\":{\"line\":{\"color\":\"#E5ECF6\",\"width\":0.5},\"pattern\":{\"fillmode\":\"overlay\",\"size\":10,\"solidity\":0.2}},\"type\":\"bar\"}],\"scattergeo\":[{\"type\":\"scattergeo\",\"marker\":{\"colorbar\":{\"outlinewidth\":0,\"ticks\":\"\"}}}],\"scatterpolar\":[{\"type\":\"scatterpolar\",\"marker\":{\"colorbar\":{\"outlinewidth\":0,\"ticks\":\"\"}}}],\"histogram\":[{\"marker\":{\"pattern\":{\"fillmode\":\"overlay\",\"size\":10,\"solidity\":0.2}},\"type\":\"histogram\"}],\"scattergl\":[{\"type\":\"scattergl\",\"marker\":{\"colorbar\":{\"outlinewidth\":0,\"ticks\":\"\"}}}],\"scatter3d\":[{\"type\":\"scatter3d\",\"line\":{\"colorbar\":{\"outlinewidth\":0,\"ticks\":\"\"}},\"marker\":{\"colorbar\":{\"outlinewidth\":0,\"ticks\":\"\"}}}],\"scattermapbox\":[{\"type\":\"scattermapbox\",\"marker\":{\"colorbar\":{\"outlinewidth\":0,\"ticks\":\"\"}}}],\"scatterternary\":[{\"type\":\"scatterternary\",\"marker\":{\"colorbar\":{\"outlinewidth\":0,\"ticks\":\"\"}}}],\"scattercarpet\":[{\"type\":\"scattercarpet\",\"marker\":{\"colorbar\":{\"outlinewidth\":0,\"ticks\":\"\"}}}],\"carpet\":[{\"aaxis\":{\"endlinecolor\":\"#2a3f5f\",\"gridcolor\":\"white\",\"linecolor\":\"white\",\"minorgridcolor\":\"white\",\"startlinecolor\":\"#2a3f5f\"},\"baxis\":{\"endlinecolor\":\"#2a3f5f\",\"gridcolor\":\"white\",\"linecolor\":\"white\",\"minorgridcolor\":\"white\",\"startlinecolor\":\"#2a3f5f\"},\"type\":\"carpet\"}],\"table\":[{\"cells\":{\"fill\":{\"color\":\"#EBF0F8\"},\"line\":{\"color\":\"white\"}},\"header\":{\"fill\":{\"color\":\"#C8D4E3\"},\"line\":{\"color\":\"white\"}},\"type\":\"table\"}],\"barpolar\":[{\"marker\":{\"line\":{\"color\":\"#E5ECF6\",\"width\":0.5},\"pattern\":{\"fillmode\":\"overlay\",\"size\":10,\"solidity\":0.2}},\"type\":\"barpolar\"}],\"pie\":[{\"automargin\":true,\"type\":\"pie\"}]},\"layout\":{\"autotypenumbers\":\"strict\",\"colorway\":[\"#636efa\",\"#EF553B\",\"#00cc96\",\"#ab63fa\",\"#FFA15A\",\"#19d3f3\",\"#FF6692\",\"#B6E880\",\"#FF97FF\",\"#FECB52\"],\"font\":{\"color\":\"#2a3f5f\"},\"hovermode\":\"closest\",\"hoverlabel\":{\"align\":\"left\"},\"paper_bgcolor\":\"white\",\"plot_bgcolor\":\"#E5ECF6\",\"polar\":{\"bgcolor\":\"#E5ECF6\",\"angularaxis\":{\"gridcolor\":\"white\",\"linecolor\":\"white\",\"ticks\":\"\"},\"radialaxis\":{\"gridcolor\":\"white\",\"linecolor\":\"white\",\"ticks\":\"\"}},\"ternary\":{\"bgcolor\":\"#E5ECF6\",\"aaxis\":{\"gridcolor\":\"white\",\"linecolor\":\"white\",\"ticks\":\"\"},\"baxis\":{\"gridcolor\":\"white\",\"linecolor\":\"white\",\"ticks\":\"\"},\"caxis\":{\"gridcolor\":\"white\",\"linecolor\":\"white\",\"ticks\":\"\"}},\"coloraxis\":{\"colorbar\":{\"outlinewidth\":0,\"ticks\":\"\"}},\"colorscale\":{\"sequential\":[[0.0,\"#0d0887\"],[0.1111111111111111,\"#46039f\"],[0.2222222222222222,\"#7201a8\"],[0.3333333333333333,\"#9c179e\"],[0.4444444444444444,\"#bd3786\"],[0.5555555555555556,\"#d8576b\"],[0.6666666666666666,\"#ed7953\"],[0.7777777777777778,\"#fb9f3a\"],[0.8888888888888888,\"#fdca26\"],[1.0,\"#f0f921\"]],\"sequentialminus\":[[0.0,\"#0d0887\"],[0.1111111111111111,\"#46039f\"],[0.2222222222222222,\"#7201a8\"],[0.3333333333333333,\"#9c179e\"],[0.4444444444444444,\"#bd3786\"],[0.5555555555555556,\"#d8576b\"],[0.6666666666666666,\"#ed7953\"],[0.7777777777777778,\"#fb9f3a\"],[0.8888888888888888,\"#fdca26\"],[1.0,\"#f0f921\"]],\"diverging\":[[0,\"#8e0152\"],[0.1,\"#c51b7d\"],[0.2,\"#de77ae\"],[0.3,\"#f1b6da\"],[0.4,\"#fde0ef\"],[0.5,\"#f7f7f7\"],[0.6,\"#e6f5d0\"],[0.7,\"#b8e186\"],[0.8,\"#7fbc41\"],[0.9,\"#4d9221\"],[1,\"#276419\"]]},\"xaxis\":{\"gridcolor\":\"white\",\"linecolor\":\"white\",\"ticks\":\"\",\"title\":{\"standoff\":15},\"zerolinecolor\":\"white\",\"automargin\":true,\"zerolinewidth\":2},\"yaxis\":{\"gridcolor\":\"white\",\"linecolor\":\"white\",\"ticks\":\"\",\"title\":{\"standoff\":15},\"zerolinecolor\":\"white\",\"automargin\":true,\"zerolinewidth\":2},\"scene\":{\"xaxis\":{\"backgroundcolor\":\"#E5ECF6\",\"gridcolor\":\"white\",\"linecolor\":\"white\",\"showbackground\":true,\"ticks\":\"\",\"zerolinecolor\":\"white\",\"gridwidth\":2},\"yaxis\":{\"backgroundcolor\":\"#E5ECF6\",\"gridcolor\":\"white\",\"linecolor\":\"white\",\"showbackground\":true,\"ticks\":\"\",\"zerolinecolor\":\"white\",\"gridwidth\":2},\"zaxis\":{\"backgroundcolor\":\"#E5ECF6\",\"gridcolor\":\"white\",\"linecolor\":\"white\",\"showbackground\":true,\"ticks\":\"\",\"zerolinecolor\":\"white\",\"gridwidth\":2}},\"shapedefaults\":{\"line\":{\"color\":\"#2a3f5f\"}},\"annotationdefaults\":{\"arrowcolor\":\"#2a3f5f\",\"arrowhead\":0,\"arrowwidth\":1},\"geo\":{\"bgcolor\":\"white\",\"landcolor\":\"#E5ECF6\",\"subunitcolor\":\"white\",\"showland\":true,\"showlakes\":true,\"lakecolor\":\"white\"},\"title\":{\"x\":0.05},\"mapbox\":{\"style\":\"light\"}}},\"xaxis\":{\"anchor\":\"y\",\"domain\":[0.0,1.0],\"title\":{\"text\":\"Timestamp\"},\"showgrid\":false},\"yaxis\":{\"anchor\":\"x\",\"domain\":[0.0,1.0],\"title\":{\"text\":\"Ethereum price\"},\"showgrid\":false},\"legend\":{\"title\":{\"text\":\"Close Price\"},\"tracegroupgap\":0},\"margin\":{\"t\":60},\"title\":{\"text\":\"Comparing last 15 days vs next 30 days\"},\"font\":{\"size\":15,\"color\":\"black\"},\"plot_bgcolor\":\"white\"},                        {\"responsive\": true}                    ).then(function(){\n",
       "                            \n",
       "var gd = document.getElementById('18fbe460-07a9-4eb5-a02c-537262fdc8e5');\n",
       "var x = new MutationObserver(function (mutations, observer) {{\n",
       "        var display = window.getComputedStyle(gd).display;\n",
       "        if (!display || display === 'none') {{\n",
       "            console.log([gd, 'removed!']);\n",
       "            Plotly.purge(gd);\n",
       "            observer.disconnect();\n",
       "        }}\n",
       "}});\n",
       "\n",
       "// Listen for the removal of the full notebook cells\n",
       "var notebookContainer = gd.closest('#notebook-container');\n",
       "if (notebookContainer) {{\n",
       "    x.observe(notebookContainer, {childList: true});\n",
       "}}\n",
       "\n",
       "// Listen for the clearing of the current output cell\n",
       "var outputEl = gd.closest('.output');\n",
       "if (outputEl) {{\n",
       "    x.observe(outputEl, {childList: true});\n",
       "}}\n",
       "\n",
       "                        })                };                });            </script>        </div>"
      ]
     },
     "metadata": {},
     "output_type": "display_data"
    }
   ],
   "source": [
    "temp_mat = np.empty((len(last_days)+pred_days+1,1))\n",
    "temp_mat[:] = np.nan\n",
    "temp_mat = temp_mat.reshape(1,-1).tolist()[0]\n",
    "\n",
    "last_original_days_value = temp_mat\n",
    "next_predicted_days_value = temp_mat\n",
    "\n",
    "last_original_days_value[0:time_step+1] = scaler.inverse_transform(open_stock[len(open_stock)-time_step:]).reshape(1,-1).tolist()[0]\n",
    "next_predicted_days_value[time_step+1:] = scaler.inverse_transform(np.array(lst_output).reshape(-1,1)).reshape(1,-1).tolist()[0]\n",
    "\n",
    "new_pred_plot = pd.DataFrame({\n",
    "    'last_original_days_value':last_original_days_value,\n",
    "    'next_predicted_days_value':next_predicted_days_value\n",
    "})\n",
    "\n",
    "names = cycle(['Last 15 days Open price','Predicted next 30 days Open price'])\n",
    "\n",
    "fig = px.line(new_pred_plot,x=new_pred_plot.index, y=[new_pred_plot['last_original_days_value'],\n",
    "                                                      new_pred_plot['next_predicted_days_value']],\n",
    "              labels={'value': 'Ethereum price','index': 'Timestamp'})\n",
    "fig.update_layout(title_text='Comparing last 15 days vs next 30 days',\n",
    "                  plot_bgcolor='white', font_size=15, font_color='black',legend_title_text='Close Price')\n",
    "\n",
    "fig.for_each_trace(lambda t:  t.update(name = next(names)))\n",
    "fig.update_xaxes(showgrid=False)\n",
    "fig.update_yaxes(showgrid=False)\n",
    "fig.show()"
   ]
  },
  {
   "cell_type": "markdown",
   "id": "7eed4556",
   "metadata": {
    "id": "ThnCmv1CmgeM",
    "papermill": {
     "duration": 0.085546,
     "end_time": "2023-03-10T08:31:36.860069",
     "exception": false,
     "start_time": "2023-03-10T08:31:36.774523",
     "status": "completed"
    },
    "tags": []
   },
   "source": [
    "Plotting entire Opening Stock Price with next 30 days period of prediction"
   ]
  },
  {
   "cell_type": "code",
   "execution_count": 37,
   "id": "532c65af",
   "metadata": {
    "execution": {
     "iopub.execute_input": "2023-03-10T08:31:37.036902Z",
     "iopub.status.busy": "2023-03-10T08:31:37.036457Z",
     "iopub.status.idle": "2023-03-10T08:31:37.115824Z",
     "shell.execute_reply": "2023-03-10T08:31:37.114506Z"
    },
    "id": "M9RfFZDHWDLo",
    "outputId": "6cc1294d-24be-4ce7-d931-c8ee7b0ca50d",
    "papermill": {
     "duration": 0.17056,
     "end_time": "2023-03-10T08:31:37.118465",
     "exception": false,
     "start_time": "2023-03-10T08:31:36.947905",
     "status": "completed"
    },
    "tags": []
   },
   "outputs": [
    {
     "data": {
      "text/html": [
       "<div>                            <div id=\"ece0af95-829b-4055-806a-acdfa94d2890\" class=\"plotly-graph-div\" style=\"height:525px; width:100%;\"></div>            <script type=\"text/javascript\">                require([\"plotly\"], function(Plotly) {                    window.PLOTLYENV=window.PLOTLYENV || {};                                    if (document.getElementById(\"ece0af95-829b-4055-806a-acdfa94d2890\")) {                    Plotly.newPlot(                        \"ece0af95-829b-4055-806a-acdfa94d2890\",                        [{\"hovertemplate\":\"variable=0<br>Timestamp=%{x}<br>Stock price=%{y}<extra></extra>\",\"legendgroup\":\"0\",\"line\":{\"color\":\"#636efa\",\"dash\":\"solid\"},\"marker\":{\"symbol\":\"circle\"},\"mode\":\"lines\",\"name\":\"Close price\",\"orientation\":\"v\",\"showlegend\":true,\"x\":[0,1,2,3,4,5,6,7,8,9,10,11,12,13,14,15,16,17,18,19,20,21,22,23,24,25,26,27,28,29,30,31,32,33,34,35,36,37,38,39,40,41,42,43,44,45,46,47,48,49,50,51,52,53,54,55,56,57,58,59,60,61,62,63,64,65,66,67,68,69,70,71,72,73,74,75,76,77,78,79,80,81,82,83,84,85,86,87,88,89,90,91,92,93,94,95,96,97,98,99,100,101,102,103,104,105,106,107,108,109,110,111,112,113,114,115,116,117,118,119,120,121,122,123,124,125,126,127,128,129,130,131,132,133,134,135,136,137,138,139,140,141,142,143,144,145,146,147,148,149,150,151,152,153,154,155,156,157,158,159,160,161,162,163,164,165,166,167,168,169,170,171,172,173,174,175,176,177,178,179,180,181,182,183,184,185,186,187,188,189,190,191,192,193,194,195,196,197,198,199,200,201,202,203,204,205,206,207,208,209,210,211,212,213,214,215,216,217,218,219,220,221,222,223,224,225,226,227,228,229,230,231,232,233,234,235,236,237,238,239,240,241,242,243,244,245,246,247,248,249,250,251,252,253,254,255,256,257,258,259,260,261,262,263,264,265,266,267,268,269,270,271,272,273,274,275,276,277,278,279,280,281,282,283,284,285,286,287,288,289,290,291,292,293,294,295,296,297,298,299,300,301,302,303,304,305,306,307,308,309,310,311,312,313,314,315,316,317,318,319,320,321,322,323,324,325,326,327,328,329,330,331,332,333,334,335,336,337,338,339,340,341,342,343,344,345,346,347,348,349,350,351,352,353,354,355,356,357,358,359,360,361,362,363,364,365,366,367,368,369,370,371,372,373,374,375,376,377,378,379,380,381,382,383,384,385,386,387,388,389,390,391,392,393,394],\"xaxis\":\"x\",\"y\":[1561.79,1565.84,1564.36,1566.73,1569.45,1647.86,1666.09,1604.69,1633.66,1641.59,1594.6600000000003,1608.24,1650.5199999999998,1643.39,1659.41,1703.29,1681.49,1691.6199999999997,1693.96,1640.66,1675.4299999999998,1555.45,1505.8500000000001,1515.4399999999998,1538.34,1513.12,1545.35,1650.97,1671.39,1613.72,1629.44,1666.9,1663.78,1641.7,1642.1,1585.27,1566.5,1645.97,1572.13,1597.61,1602.54,1611.2,1555.97,1626.52,1627.04,1626.66,1659.96,1551.12,1511.35,1564.6600000000003,1576.94,1552.69,1550.05,1450.8599999999997,1416.08,1389.84,1335.1400000000003,1320.51,1288.39,1263.91,1269.14,1250.95,1256.92,1214.57,1213.93,1200.52,1195.69,1200.0,1200.84,1189.99,1211.6,1228.22,1218.69,1220.46,1220.03,1217.59,1213.99,1217.19,1167.8,1182.7,1187.19,1166.7,1266.3199999999997,1307.29,1320.76,1275.49,1263.4200000000003,1266.3599999999997,1262.88,1280.29,1231.04,1271.24,1259.56,1279.21,1240.46,1295.69,1276.0499999999997,1294.4,1216.54,1167.73,1193.38,1205.17,1198.12,1203.77,1185.7,1139.74,1107.46,1142.88,1217.65,1208.92,1206.99,1206.16,1253.45,1242.64,1221.47,1256.29,1288.71,1299.2100000000003,1100.86,1335.26,1567.5399999999997,1570.71,1626.86,1645.0299999999997,1531.06,1518.99,1579.59,1572.89,1590.47,1619.67,1554.47,1514.14,1566.18,1459.6,1343.88,1364.19,1313.64,1299.76,1282.87,1285.33,1310.81,1331.4000000000003,1305.95,1274.93,1296.7399999999998,1287.3300000000002,1294.56,1279.9699999999998,1290.0,1323.17,1315.08,1331.07,1352.17,1352.07,1361.51,1323.37,1277.02,1311.7999999999997,1328.7299999999998,1336.0499999999997,1337.34,1328.23,1337.07,1294.24,1317.01,1327.91,1326.12,1247.64,1323.3400000000001,1375.9599999999998,1334.82,1468.76,1434.0099999999998,1472.6300000000003,1637.8899999999999,1574.41,1716.45,1766.99,1774.38,1718.84,1635.33,1629.63,1557.85,1617.4000000000003,1578.9,1557.35,1575.31,1585.55,1554.5699999999997,1523.39,1552.5599999999997,1426.25,1490.88,1508.32,1695.38,1656.64,1665.3,1626.7,1618.21,1575.61,1609.01,1846.5199999999998,1834.19,1876.69,1900.08,1935.1,1983.52,1957.62,1880.2999999999997,1853.5,1702.8,1778.15,1700.26,1690.2900000000002,1737.6599999999999,1607.0,1618.07,1631.46,1630.0700000000002,1679.98,1695.99,1720.8,1725.97,1635.99,1449.6499999999999,1438.76,1598.19,1549.61,1534.85,1575.6799999999998,1520.66,1543.4499999999998,1584.33,1337.92,1356.0,1231.03,1192.83,1115.8,1038.6,1096.41,1167.35,1216.94,1216.26,1238.1,1186.48,1133.87,1151.19,1074.07,1066.6,1059.05,1069.13,1099.51,1143.95,1191.02,1198.03,1241.8,1224.96,1144.33,1049.02,1125.96,1128.29,1128.39,995.49,1086.47,1068.49,1237.92,1208.82,1206.67,1434.4299999999998,1531.5,1663.04,1788.15,1792.81,1813.05,1859.9900000000002,1806.11,1804.5999999999997,1775.2800000000002,1834.66,1817.98,1941.81,1998.46,1813.56,1792.2500000000002,1724.6700000000003,1793.19,1942.8899999999999,1979.4,1973.0100000000002,2043.19,1975.12,1959.79,2019.3599999999997,1913.99,2091.05,2023.0,2145.86,2056.33,2009.55,1955.59,2087.17,2342.27,2229.69,2519.98,2636.03,2692.92,2747.6,2940.7,2781.47,2856.0099999999998,2825.6499999999996,2727.2,2817.14,2937.01,2889.01,2810.42,3006.04,2922.03,2931.9,2963.0000000000005,2983.91,3076.06,3101.79,3055.86,2989.05,3058.96,3042.01,3021.93,3117.21,3027.64,2978.45,3201.99,3259.59,3193.54,3228.83,3169.5799999999995,3406.83,3520.35,3521.16,3442.34,3456.1800000000003,3282.33,3385.6,3401.86,3329.67,3295.73,3145.95,3103.43,3110.8,3036.18,2969.6399999999994,2891.41,2861.66,2950.0299999999997,2939.76,2812.29,2773.8,2617.4299999999994,2589.5399999999995,2516.75,2569.8,2556.9600000000005,2606.5,2726.94,2577.2100000000005,2466.7077809929847,2356.8180874621867,2261.6131310069563,2181.8161890479923,2114.7942126256225,2057.635274349153,2007.9366540035605,1963.9400249630214,1924.42697827667,1888.5651690888405,1855.77553889215,1825.6380011755227,1797.8316763839125,1772.098159752488,1748.2225530570745,1726.0199158644677,1705.3300718450546,1686.0130925229191,1667.9460606300831,1651.020586169064,1635.140924642086,1620.222020009458,1606.1879992729425,1592.9710434132814,1580.5102583277226,1568.750846850872,1557.643130233884,1547.1420965194702,1537.206798375249,1527.7997885625064],\"yaxis\":\"y\",\"type\":\"scatter\"}],                        {\"template\":{\"data\":{\"histogram2dcontour\":[{\"type\":\"histogram2dcontour\",\"colorbar\":{\"outlinewidth\":0,\"ticks\":\"\"},\"colorscale\":[[0.0,\"#0d0887\"],[0.1111111111111111,\"#46039f\"],[0.2222222222222222,\"#7201a8\"],[0.3333333333333333,\"#9c179e\"],[0.4444444444444444,\"#bd3786\"],[0.5555555555555556,\"#d8576b\"],[0.6666666666666666,\"#ed7953\"],[0.7777777777777778,\"#fb9f3a\"],[0.8888888888888888,\"#fdca26\"],[1.0,\"#f0f921\"]]}],\"choropleth\":[{\"type\":\"choropleth\",\"colorbar\":{\"outlinewidth\":0,\"ticks\":\"\"}}],\"histogram2d\":[{\"type\":\"histogram2d\",\"colorbar\":{\"outlinewidth\":0,\"ticks\":\"\"},\"colorscale\":[[0.0,\"#0d0887\"],[0.1111111111111111,\"#46039f\"],[0.2222222222222222,\"#7201a8\"],[0.3333333333333333,\"#9c179e\"],[0.4444444444444444,\"#bd3786\"],[0.5555555555555556,\"#d8576b\"],[0.6666666666666666,\"#ed7953\"],[0.7777777777777778,\"#fb9f3a\"],[0.8888888888888888,\"#fdca26\"],[1.0,\"#f0f921\"]]}],\"heatmap\":[{\"type\":\"heatmap\",\"colorbar\":{\"outlinewidth\":0,\"ticks\":\"\"},\"colorscale\":[[0.0,\"#0d0887\"],[0.1111111111111111,\"#46039f\"],[0.2222222222222222,\"#7201a8\"],[0.3333333333333333,\"#9c179e\"],[0.4444444444444444,\"#bd3786\"],[0.5555555555555556,\"#d8576b\"],[0.6666666666666666,\"#ed7953\"],[0.7777777777777778,\"#fb9f3a\"],[0.8888888888888888,\"#fdca26\"],[1.0,\"#f0f921\"]]}],\"heatmapgl\":[{\"type\":\"heatmapgl\",\"colorbar\":{\"outlinewidth\":0,\"ticks\":\"\"},\"colorscale\":[[0.0,\"#0d0887\"],[0.1111111111111111,\"#46039f\"],[0.2222222222222222,\"#7201a8\"],[0.3333333333333333,\"#9c179e\"],[0.4444444444444444,\"#bd3786\"],[0.5555555555555556,\"#d8576b\"],[0.6666666666666666,\"#ed7953\"],[0.7777777777777778,\"#fb9f3a\"],[0.8888888888888888,\"#fdca26\"],[1.0,\"#f0f921\"]]}],\"contourcarpet\":[{\"type\":\"contourcarpet\",\"colorbar\":{\"outlinewidth\":0,\"ticks\":\"\"}}],\"contour\":[{\"type\":\"contour\",\"colorbar\":{\"outlinewidth\":0,\"ticks\":\"\"},\"colorscale\":[[0.0,\"#0d0887\"],[0.1111111111111111,\"#46039f\"],[0.2222222222222222,\"#7201a8\"],[0.3333333333333333,\"#9c179e\"],[0.4444444444444444,\"#bd3786\"],[0.5555555555555556,\"#d8576b\"],[0.6666666666666666,\"#ed7953\"],[0.7777777777777778,\"#fb9f3a\"],[0.8888888888888888,\"#fdca26\"],[1.0,\"#f0f921\"]]}],\"surface\":[{\"type\":\"surface\",\"colorbar\":{\"outlinewidth\":0,\"ticks\":\"\"},\"colorscale\":[[0.0,\"#0d0887\"],[0.1111111111111111,\"#46039f\"],[0.2222222222222222,\"#7201a8\"],[0.3333333333333333,\"#9c179e\"],[0.4444444444444444,\"#bd3786\"],[0.5555555555555556,\"#d8576b\"],[0.6666666666666666,\"#ed7953\"],[0.7777777777777778,\"#fb9f3a\"],[0.8888888888888888,\"#fdca26\"],[1.0,\"#f0f921\"]]}],\"mesh3d\":[{\"type\":\"mesh3d\",\"colorbar\":{\"outlinewidth\":0,\"ticks\":\"\"}}],\"scatter\":[{\"fillpattern\":{\"fillmode\":\"overlay\",\"size\":10,\"solidity\":0.2},\"type\":\"scatter\"}],\"parcoords\":[{\"type\":\"parcoords\",\"line\":{\"colorbar\":{\"outlinewidth\":0,\"ticks\":\"\"}}}],\"scatterpolargl\":[{\"type\":\"scatterpolargl\",\"marker\":{\"colorbar\":{\"outlinewidth\":0,\"ticks\":\"\"}}}],\"bar\":[{\"error_x\":{\"color\":\"#2a3f5f\"},\"error_y\":{\"color\":\"#2a3f5f\"},\"marker\":{\"line\":{\"color\":\"#E5ECF6\",\"width\":0.5},\"pattern\":{\"fillmode\":\"overlay\",\"size\":10,\"solidity\":0.2}},\"type\":\"bar\"}],\"scattergeo\":[{\"type\":\"scattergeo\",\"marker\":{\"colorbar\":{\"outlinewidth\":0,\"ticks\":\"\"}}}],\"scatterpolar\":[{\"type\":\"scatterpolar\",\"marker\":{\"colorbar\":{\"outlinewidth\":0,\"ticks\":\"\"}}}],\"histogram\":[{\"marker\":{\"pattern\":{\"fillmode\":\"overlay\",\"size\":10,\"solidity\":0.2}},\"type\":\"histogram\"}],\"scattergl\":[{\"type\":\"scattergl\",\"marker\":{\"colorbar\":{\"outlinewidth\":0,\"ticks\":\"\"}}}],\"scatter3d\":[{\"type\":\"scatter3d\",\"line\":{\"colorbar\":{\"outlinewidth\":0,\"ticks\":\"\"}},\"marker\":{\"colorbar\":{\"outlinewidth\":0,\"ticks\":\"\"}}}],\"scattermapbox\":[{\"type\":\"scattermapbox\",\"marker\":{\"colorbar\":{\"outlinewidth\":0,\"ticks\":\"\"}}}],\"scatterternary\":[{\"type\":\"scatterternary\",\"marker\":{\"colorbar\":{\"outlinewidth\":0,\"ticks\":\"\"}}}],\"scattercarpet\":[{\"type\":\"scattercarpet\",\"marker\":{\"colorbar\":{\"outlinewidth\":0,\"ticks\":\"\"}}}],\"carpet\":[{\"aaxis\":{\"endlinecolor\":\"#2a3f5f\",\"gridcolor\":\"white\",\"linecolor\":\"white\",\"minorgridcolor\":\"white\",\"startlinecolor\":\"#2a3f5f\"},\"baxis\":{\"endlinecolor\":\"#2a3f5f\",\"gridcolor\":\"white\",\"linecolor\":\"white\",\"minorgridcolor\":\"white\",\"startlinecolor\":\"#2a3f5f\"},\"type\":\"carpet\"}],\"table\":[{\"cells\":{\"fill\":{\"color\":\"#EBF0F8\"},\"line\":{\"color\":\"white\"}},\"header\":{\"fill\":{\"color\":\"#C8D4E3\"},\"line\":{\"color\":\"white\"}},\"type\":\"table\"}],\"barpolar\":[{\"marker\":{\"line\":{\"color\":\"#E5ECF6\",\"width\":0.5},\"pattern\":{\"fillmode\":\"overlay\",\"size\":10,\"solidity\":0.2}},\"type\":\"barpolar\"}],\"pie\":[{\"automargin\":true,\"type\":\"pie\"}]},\"layout\":{\"autotypenumbers\":\"strict\",\"colorway\":[\"#636efa\",\"#EF553B\",\"#00cc96\",\"#ab63fa\",\"#FFA15A\",\"#19d3f3\",\"#FF6692\",\"#B6E880\",\"#FF97FF\",\"#FECB52\"],\"font\":{\"color\":\"#2a3f5f\"},\"hovermode\":\"closest\",\"hoverlabel\":{\"align\":\"left\"},\"paper_bgcolor\":\"white\",\"plot_bgcolor\":\"#E5ECF6\",\"polar\":{\"bgcolor\":\"#E5ECF6\",\"angularaxis\":{\"gridcolor\":\"white\",\"linecolor\":\"white\",\"ticks\":\"\"},\"radialaxis\":{\"gridcolor\":\"white\",\"linecolor\":\"white\",\"ticks\":\"\"}},\"ternary\":{\"bgcolor\":\"#E5ECF6\",\"aaxis\":{\"gridcolor\":\"white\",\"linecolor\":\"white\",\"ticks\":\"\"},\"baxis\":{\"gridcolor\":\"white\",\"linecolor\":\"white\",\"ticks\":\"\"},\"caxis\":{\"gridcolor\":\"white\",\"linecolor\":\"white\",\"ticks\":\"\"}},\"coloraxis\":{\"colorbar\":{\"outlinewidth\":0,\"ticks\":\"\"}},\"colorscale\":{\"sequential\":[[0.0,\"#0d0887\"],[0.1111111111111111,\"#46039f\"],[0.2222222222222222,\"#7201a8\"],[0.3333333333333333,\"#9c179e\"],[0.4444444444444444,\"#bd3786\"],[0.5555555555555556,\"#d8576b\"],[0.6666666666666666,\"#ed7953\"],[0.7777777777777778,\"#fb9f3a\"],[0.8888888888888888,\"#fdca26\"],[1.0,\"#f0f921\"]],\"sequentialminus\":[[0.0,\"#0d0887\"],[0.1111111111111111,\"#46039f\"],[0.2222222222222222,\"#7201a8\"],[0.3333333333333333,\"#9c179e\"],[0.4444444444444444,\"#bd3786\"],[0.5555555555555556,\"#d8576b\"],[0.6666666666666666,\"#ed7953\"],[0.7777777777777778,\"#fb9f3a\"],[0.8888888888888888,\"#fdca26\"],[1.0,\"#f0f921\"]],\"diverging\":[[0,\"#8e0152\"],[0.1,\"#c51b7d\"],[0.2,\"#de77ae\"],[0.3,\"#f1b6da\"],[0.4,\"#fde0ef\"],[0.5,\"#f7f7f7\"],[0.6,\"#e6f5d0\"],[0.7,\"#b8e186\"],[0.8,\"#7fbc41\"],[0.9,\"#4d9221\"],[1,\"#276419\"]]},\"xaxis\":{\"gridcolor\":\"white\",\"linecolor\":\"white\",\"ticks\":\"\",\"title\":{\"standoff\":15},\"zerolinecolor\":\"white\",\"automargin\":true,\"zerolinewidth\":2},\"yaxis\":{\"gridcolor\":\"white\",\"linecolor\":\"white\",\"ticks\":\"\",\"title\":{\"standoff\":15},\"zerolinecolor\":\"white\",\"automargin\":true,\"zerolinewidth\":2},\"scene\":{\"xaxis\":{\"backgroundcolor\":\"#E5ECF6\",\"gridcolor\":\"white\",\"linecolor\":\"white\",\"showbackground\":true,\"ticks\":\"\",\"zerolinecolor\":\"white\",\"gridwidth\":2},\"yaxis\":{\"backgroundcolor\":\"#E5ECF6\",\"gridcolor\":\"white\",\"linecolor\":\"white\",\"showbackground\":true,\"ticks\":\"\",\"zerolinecolor\":\"white\",\"gridwidth\":2},\"zaxis\":{\"backgroundcolor\":\"#E5ECF6\",\"gridcolor\":\"white\",\"linecolor\":\"white\",\"showbackground\":true,\"ticks\":\"\",\"zerolinecolor\":\"white\",\"gridwidth\":2}},\"shapedefaults\":{\"line\":{\"color\":\"#2a3f5f\"}},\"annotationdefaults\":{\"arrowcolor\":\"#2a3f5f\",\"arrowhead\":0,\"arrowwidth\":1},\"geo\":{\"bgcolor\":\"white\",\"landcolor\":\"#E5ECF6\",\"subunitcolor\":\"white\",\"showland\":true,\"showlakes\":true,\"lakecolor\":\"white\"},\"title\":{\"x\":0.05},\"mapbox\":{\"style\":\"light\"}}},\"xaxis\":{\"anchor\":\"y\",\"domain\":[0.0,1.0],\"title\":{\"text\":\"Timestamp\"},\"showgrid\":false},\"yaxis\":{\"anchor\":\"x\",\"domain\":[0.0,1.0],\"title\":{\"text\":\"Stock price\"},\"showgrid\":false},\"legend\":{\"title\":{\"text\":\"Stock\"},\"tracegroupgap\":0},\"margin\":{\"t\":60},\"title\":{\"text\":\"Plotting whole closing stock price with prediction\"},\"font\":{\"size\":15,\"color\":\"black\"},\"plot_bgcolor\":\"white\"},                        {\"responsive\": true}                    ).then(function(){\n",
       "                            \n",
       "var gd = document.getElementById('ece0af95-829b-4055-806a-acdfa94d2890');\n",
       "var x = new MutationObserver(function (mutations, observer) {{\n",
       "        var display = window.getComputedStyle(gd).display;\n",
       "        if (!display || display === 'none') {{\n",
       "            console.log([gd, 'removed!']);\n",
       "            Plotly.purge(gd);\n",
       "            observer.disconnect();\n",
       "        }}\n",
       "}});\n",
       "\n",
       "// Listen for the removal of the full notebook cells\n",
       "var notebookContainer = gd.closest('#notebook-container');\n",
       "if (notebookContainer) {{\n",
       "    x.observe(notebookContainer, {childList: true});\n",
       "}}\n",
       "\n",
       "// Listen for the clearing of the current output cell\n",
       "var outputEl = gd.closest('.output');\n",
       "if (outputEl) {{\n",
       "    x.observe(outputEl, {childList: true});\n",
       "}}\n",
       "\n",
       "                        })                };                });            </script>        </div>"
      ]
     },
     "metadata": {},
     "output_type": "display_data"
    }
   ],
   "source": [
    "lstmdf=open_stock.tolist()\n",
    "lstmdf.extend((np.array(lst_output).reshape(-1,1)).tolist())\n",
    "lstmdf=scaler.inverse_transform(lstmdf).reshape(1,-1).tolist()[0]\n",
    "\n",
    "names = cycle(['Close price'])\n",
    "\n",
    "fig = px.line(lstmdf,labels={'value': 'Stock price','index': 'Timestamp'})\n",
    "fig.update_layout(title_text='Plotting whole closing stock price with prediction',\n",
    "                  plot_bgcolor='white', font_size=15, font_color='black',legend_title_text='Stock')\n",
    "\n",
    "fig.for_each_trace(lambda t:  t.update(name = next(names)))\n",
    "\n",
    "fig.update_xaxes(showgrid=False)\n",
    "fig.update_yaxes(showgrid=False)\n",
    "fig.show()"
   ]
  },
  {
   "cell_type": "code",
   "execution_count": null,
   "id": "badc8a24",
   "metadata": {
    "id": "YEJ2Bi3LTKB0",
    "papermill": {
     "duration": 0.086426,
     "end_time": "2023-03-10T08:31:37.291820",
     "exception": false,
     "start_time": "2023-03-10T08:31:37.205394",
     "status": "completed"
    },
    "tags": []
   },
   "outputs": [],
   "source": []
  },
  {
   "cell_type": "code",
   "execution_count": null,
   "id": "cc52c51e",
   "metadata": {
    "id": "yFxZA3VVXJI5",
    "papermill": {
     "duration": 0.086984,
     "end_time": "2023-03-10T08:31:37.465753",
     "exception": false,
     "start_time": "2023-03-10T08:31:37.378769",
     "status": "completed"
    },
    "tags": []
   },
   "outputs": [],
   "source": []
  }
 ],
 "metadata": {
  "kernelspec": {
   "display_name": "Python 3",
   "language": "python",
   "name": "python3"
  },
  "language_info": {
   "codemirror_mode": {
    "name": "ipython",
    "version": 3
   },
   "file_extension": ".py",
   "mimetype": "text/x-python",
   "name": "python",
   "nbconvert_exporter": "python",
   "pygments_lexer": "ipython3",
   "version": "3.7.12"
  },
  "papermill": {
   "default_parameters": {},
   "duration": 102.819749,
   "end_time": "2023-03-10T08:31:40.379538",
   "environment_variables": {},
   "exception": null,
   "input_path": "__notebook__.ipynb",
   "output_path": "__notebook__.ipynb",
   "parameters": {},
   "start_time": "2023-03-10T08:29:57.559789",
   "version": "2.4.0"
  }
 },
 "nbformat": 4,
 "nbformat_minor": 5
}
