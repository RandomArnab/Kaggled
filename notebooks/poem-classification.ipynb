{
 "cells": [
  {
   "cell_type": "code",
   "execution_count": 1,
   "id": "1ef3f6cf",
   "metadata": {
    "execution": {
     "iopub.execute_input": "2022-10-18T11:50:23.713245Z",
     "iopub.status.busy": "2022-10-18T11:50:23.712193Z",
     "iopub.status.idle": "2022-10-18T11:50:37.147275Z",
     "shell.execute_reply": "2022-10-18T11:50:37.146004Z"
    },
    "id": "2n0cIICf84y4",
    "outputId": "7c8e651a-62d2-4d31-950e-847e376b2b37",
    "papermill": {
     "duration": 13.463709,
     "end_time": "2022-10-18T11:50:37.150160",
     "exception": false,
     "start_time": "2022-10-18T11:50:23.686451",
     "status": "completed"
    },
    "tags": []
   },
   "outputs": [
    {
     "name": "stdout",
     "output_type": "stream",
     "text": [
      "Collecting contractions\r\n",
      "  Downloading contractions-0.1.72-py2.py3-none-any.whl (8.3 kB)\r\n",
      "Collecting textsearch>=0.0.21\r\n",
      "  Downloading textsearch-0.0.24-py2.py3-none-any.whl (7.6 kB)\r\n",
      "Collecting anyascii\r\n",
      "  Downloading anyascii-0.3.1-py3-none-any.whl (287 kB)\r\n",
      "\u001b[2K     \u001b[90m━━━━━━━━━━━━━━━━━━━━━━━━━━━━━━━━━━━━━━━\u001b[0m \u001b[32m287.5/287.5 kB\u001b[0m \u001b[31m4.6 MB/s\u001b[0m eta \u001b[36m0:00:00\u001b[0m\r\n",
      "\u001b[?25hCollecting pyahocorasick\r\n",
      "  Downloading pyahocorasick-1.4.4-cp37-cp37m-manylinux_2_17_x86_64.manylinux2014_x86_64.whl (106 kB)\r\n",
      "\u001b[2K     \u001b[90m━━━━━━━━━━━━━━━━━━━━━━━━━━━━━━━━━━━━━━━\u001b[0m \u001b[32m106.5/106.5 kB\u001b[0m \u001b[31m9.8 MB/s\u001b[0m eta \u001b[36m0:00:00\u001b[0m\r\n",
      "\u001b[?25hInstalling collected packages: pyahocorasick, anyascii, textsearch, contractions\r\n",
      "Successfully installed anyascii-0.3.1 contractions-0.1.72 pyahocorasick-1.4.4 textsearch-0.0.24\r\n",
      "\u001b[33mWARNING: Running pip as the 'root' user can result in broken permissions and conflicting behaviour with the system package manager. It is recommended to use a virtual environment instead: https://pip.pypa.io/warnings/venv\u001b[0m\u001b[33m\r\n",
      "\u001b[0m"
     ]
    }
   ],
   "source": [
    "!pip install contractions"
   ]
  },
  {
   "cell_type": "markdown",
   "id": "26e12a80",
   "metadata": {
    "papermill": {
     "duration": 0.021829,
     "end_time": "2022-10-18T11:50:37.193235",
     "exception": false,
     "start_time": "2022-10-18T11:50:37.171406",
     "status": "completed"
    },
    "tags": []
   },
   "source": [
    "# Importing required libraries"
   ]
  },
  {
   "cell_type": "code",
   "execution_count": 2,
   "id": "116f5df6",
   "metadata": {
    "execution": {
     "iopub.execute_input": "2022-10-18T11:50:37.235786Z",
     "iopub.status.busy": "2022-10-18T11:50:37.235272Z",
     "iopub.status.idle": "2022-10-18T11:50:47.424333Z",
     "shell.execute_reply": "2022-10-18T11:50:47.423149Z"
    },
    "id": "oNOWmnN-o8b4",
    "outputId": "ab539282-6d31-4920-d37f-ebd4e5e4fb5e",
    "papermill": {
     "duration": 10.213525,
     "end_time": "2022-10-18T11:50:47.427181",
     "exception": false,
     "start_time": "2022-10-18T11:50:37.213656",
     "status": "completed"
    },
    "tags": []
   },
   "outputs": [
    {
     "name": "stderr",
     "output_type": "stream",
     "text": [
      "[nltk_data] Downloading package stopwords to /usr/share/nltk_data...\n",
      "[nltk_data]   Package stopwords is already up-to-date!\n",
      "[nltk_data] Downloading package averaged_perceptron_tagger to\n",
      "[nltk_data]     /usr/share/nltk_data...\n",
      "[nltk_data]   Package averaged_perceptron_tagger is already up-to-\n",
      "[nltk_data]       date!\n",
      "[nltk_data] Downloading package omw-1.4 to /usr/share/nltk_data...\n"
     ]
    }
   ],
   "source": [
    "import pandas as pd\n",
    "import tensorflow as tf\n",
    "from tensorflow.keras.preprocessing.text import Tokenizer\n",
    "from tensorflow.keras.preprocessing.sequence import pad_sequences\n",
    "import numpy as np\n",
    "import unicodedata\n",
    "from textblob import TextBlob\n",
    "import plotly.express as px\n",
    "import contractions\n",
    "import nltk\n",
    "from time import time\n",
    "from nltk.util import ngrams\n",
    "import regex as re\n",
    "import seaborn as sns\n",
    "from tqdm.notebook import tqdm\n",
    "import matplotlib.pyplot as plt\n",
    "nltk.download('stopwords')\n",
    "from nltk.stem import WordNetLemmatizer, SnowballStemmer\n",
    "nltk.download('averaged_perceptron_tagger')\n",
    "nltk.download('omw-1.4')\n",
    "from nltk.corpus import stopwords\n",
    "import multiprocessing\n",
    "from imblearn.combine import SMOTETomek\n",
    "from imblearn.under_sampling import TomekLinks\n",
    "from sklearn.model_selection import cross_val_score\n",
    "from sklearn.metrics import accuracy_score, confusion_matrix\n",
    "from sklearn.naive_bayes import GaussianNB\n",
    "from sklearn.naive_bayes import MultinomialNB\n",
    "from sklearn.svm import SVC\n",
    "from xgboost import XGBClassifier\n",
    "from sklearn.feature_extraction.text import CountVectorizer\n",
    "from sklearn.feature_extraction.text import TfidfVectorizer\n",
    "from sklearn.decomposition import LatentDirichletAllocation\n",
    "from sklearn.preprocessing import LabelEncoder\n",
    "from sklearn.model_selection import GridSearchCV\n",
    "from gensim.models import Word2Vec, KeyedVectors\n",
    "import warnings\n",
    "warnings.filterwarnings('ignore')"
   ]
  },
  {
   "cell_type": "markdown",
   "id": "874fe7d0",
   "metadata": {
    "papermill": {
     "duration": 0.019585,
     "end_time": "2022-10-18T11:50:47.467039",
     "exception": false,
     "start_time": "2022-10-18T11:50:47.447454",
     "status": "completed"
    },
    "tags": []
   },
   "source": [
    "Importing the datasets"
   ]
  },
  {
   "cell_type": "code",
   "execution_count": 3,
   "id": "71145784",
   "metadata": {
    "execution": {
     "iopub.execute_input": "2022-10-18T11:50:47.508626Z",
     "iopub.status.busy": "2022-10-18T11:50:47.508169Z",
     "iopub.status.idle": "2022-10-18T11:50:47.560330Z",
     "shell.execute_reply": "2022-10-18T11:50:47.559160Z"
    },
    "id": "XaZ1zOj6qMrU",
    "outputId": "655ab143-1efc-4a0d-cbd3-161aef8b3c3e",
    "papermill": {
     "duration": 0.076116,
     "end_time": "2022-10-18T11:50:47.563102",
     "exception": false,
     "start_time": "2022-10-18T11:50:47.486986",
     "status": "completed"
    },
    "tags": []
   },
   "outputs": [
    {
     "data": {
      "text/html": [
       "<div>\n",
       "<style scoped>\n",
       "    .dataframe tbody tr th:only-of-type {\n",
       "        vertical-align: middle;\n",
       "    }\n",
       "\n",
       "    .dataframe tbody tr th {\n",
       "        vertical-align: top;\n",
       "    }\n",
       "\n",
       "    .dataframe thead th {\n",
       "        text-align: right;\n",
       "    }\n",
       "</style>\n",
       "<table border=\"1\" class=\"dataframe\">\n",
       "  <thead>\n",
       "    <tr style=\"text-align: right;\">\n",
       "      <th></th>\n",
       "      <th>Genre</th>\n",
       "      <th>Poem</th>\n",
       "    </tr>\n",
       "  </thead>\n",
       "  <tbody>\n",
       "    <tr>\n",
       "      <th>0</th>\n",
       "      <td>Music</td>\n",
       "      <td>NaN</td>\n",
       "    </tr>\n",
       "    <tr>\n",
       "      <th>1</th>\n",
       "      <td>Music</td>\n",
       "      <td>In the thick brushthey spend the...</td>\n",
       "    </tr>\n",
       "    <tr>\n",
       "      <th>2</th>\n",
       "      <td>Music</td>\n",
       "      <td>Storms are generous.                       ...</td>\n",
       "    </tr>\n",
       "    <tr>\n",
       "      <th>3</th>\n",
       "      <td>Music</td>\n",
       "      <td>—After Ana Mendieta Did you carry around the ...</td>\n",
       "    </tr>\n",
       "    <tr>\n",
       "      <th>4</th>\n",
       "      <td>Music</td>\n",
       "      <td>for Aja Sherrard at 20The portent may itself ...</td>\n",
       "    </tr>\n",
       "  </tbody>\n",
       "</table>\n",
       "</div>"
      ],
      "text/plain": [
       "   Genre                                               Poem\n",
       "0  Music                                                NaN\n",
       "1  Music                In the thick brushthey spend the...\n",
       "2  Music     Storms are generous.                       ...\n",
       "3  Music   —After Ana Mendieta Did you carry around the ...\n",
       "4  Music   for Aja Sherrard at 20The portent may itself ..."
      ]
     },
     "execution_count": 3,
     "metadata": {},
     "output_type": "execute_result"
    }
   ],
   "source": [
    "train = pd.read_csv('../input/poem-classification-nlp/Poem_classification - train_data.csv', encoding = 'UTF-8')\n",
    "test = pd.read_csv('../input/poem-classification-nlp/Poem_classification - test_data.csv', encoding = 'UTF-8')\n",
    "train.head()"
   ]
  },
  {
   "cell_type": "code",
   "execution_count": 4,
   "id": "854b9c21",
   "metadata": {
    "execution": {
     "iopub.execute_input": "2022-10-18T11:50:47.606100Z",
     "iopub.status.busy": "2022-10-18T11:50:47.605299Z",
     "iopub.status.idle": "2022-10-18T11:50:47.631943Z",
     "shell.execute_reply": "2022-10-18T11:50:47.630765Z"
    },
    "id": "UGpujboc4fI5",
    "outputId": "5129efff-8580-498f-8ad3-a8461b924471",
    "papermill": {
     "duration": 0.051108,
     "end_time": "2022-10-18T11:50:47.634455",
     "exception": false,
     "start_time": "2022-10-18T11:50:47.583347",
     "status": "completed"
    },
    "tags": []
   },
   "outputs": [
    {
     "name": "stdout",
     "output_type": "stream",
     "text": [
      "<class 'pandas.core.frame.DataFrame'>\n",
      "RangeIndex: 841 entries, 0 to 840\n",
      "Data columns (total 2 columns):\n",
      " #   Column  Non-Null Count  Dtype \n",
      "---  ------  --------------  ----- \n",
      " 0   Genre   841 non-null    object\n",
      " 1   Poem    837 non-null    object\n",
      "dtypes: object(2)\n",
      "memory usage: 13.3+ KB\n"
     ]
    }
   ],
   "source": [
    "train.info()"
   ]
  },
  {
   "cell_type": "code",
   "execution_count": 5,
   "id": "e96fbbc0",
   "metadata": {
    "execution": {
     "iopub.execute_input": "2022-10-18T11:50:47.676795Z",
     "iopub.status.busy": "2022-10-18T11:50:47.676337Z",
     "iopub.status.idle": "2022-10-18T11:50:47.690293Z",
     "shell.execute_reply": "2022-10-18T11:50:47.688742Z"
    },
    "id": "fiv2SlozqOB6",
    "outputId": "68c00da8-6fa3-4396-a8f4-4024bf0bfad9",
    "papermill": {
     "duration": 0.037847,
     "end_time": "2022-10-18T11:50:47.692756",
     "exception": false,
     "start_time": "2022-10-18T11:50:47.654909",
     "status": "completed"
    },
    "tags": []
   },
   "outputs": [
    {
     "name": "stdout",
     "output_type": "stream",
     "text": [
      "(841, 2)\n",
      "(835, 3)\n"
     ]
    }
   ],
   "source": [
    "print(train.shape)\n",
    "train = train.dropna(inplace = False)\n",
    "train = train.drop_duplicates()\n",
    "train = train.reset_index()\n",
    "print(train.shape)"
   ]
  },
  {
   "cell_type": "markdown",
   "id": "59d2eaf2",
   "metadata": {
    "papermill": {
     "duration": 0.019493,
     "end_time": "2022-10-18T11:50:47.732550",
     "exception": false,
     "start_time": "2022-10-18T11:50:47.713057",
     "status": "completed"
    },
    "tags": []
   },
   "source": [
    "There were a couple of NaN poem values but that's been dealt with."
   ]
  },
  {
   "cell_type": "code",
   "execution_count": 6,
   "id": "f34a3b99",
   "metadata": {
    "execution": {
     "iopub.execute_input": "2022-10-18T11:50:47.774134Z",
     "iopub.status.busy": "2022-10-18T11:50:47.773670Z",
     "iopub.status.idle": "2022-10-18T11:50:47.786195Z",
     "shell.execute_reply": "2022-10-18T11:50:47.784544Z"
    },
    "id": "gsK5VF13lmkt",
    "outputId": "99772118-10b5-4f8e-eca4-0c3a6135d4d4",
    "papermill": {
     "duration": 0.036368,
     "end_time": "2022-10-18T11:50:47.788794",
     "exception": false,
     "start_time": "2022-10-18T11:50:47.752426",
     "status": "completed"
    },
    "tags": []
   },
   "outputs": [
    {
     "name": "stdout",
     "output_type": "stream",
     "text": [
      "(150, 2)\n",
      "(150, 3)\n"
     ]
    }
   ],
   "source": [
    "print(test.shape)\n",
    "test = test.dropna(inplace = False)\n",
    "test = test.drop_duplicates()\n",
    "test = test.reset_index()\n",
    "print(test.shape)"
   ]
  },
  {
   "cell_type": "code",
   "execution_count": 7,
   "id": "d50d0d00",
   "metadata": {
    "execution": {
     "iopub.execute_input": "2022-10-18T11:50:47.830779Z",
     "iopub.status.busy": "2022-10-18T11:50:47.830353Z",
     "iopub.status.idle": "2022-10-18T11:50:47.839247Z",
     "shell.execute_reply": "2022-10-18T11:50:47.838201Z"
    },
    "id": "q5VWu3l3sWmY",
    "outputId": "4ac632ba-6a0b-4a92-ecb6-33cc1f3f75d3",
    "papermill": {
     "duration": 0.033023,
     "end_time": "2022-10-18T11:50:47.842130",
     "exception": false,
     "start_time": "2022-10-18T11:50:47.809107",
     "status": "completed"
    },
    "tags": []
   },
   "outputs": [
    {
     "data": {
      "text/plain": [
       "Music          238\n",
       "Death          229\n",
       "Environment    227\n",
       "Affection      141\n",
       "Name: Genre, dtype: int64"
      ]
     },
     "execution_count": 7,
     "metadata": {},
     "output_type": "execute_result"
    }
   ],
   "source": [
    "train.Genre.value_counts()"
   ]
  },
  {
   "cell_type": "code",
   "execution_count": 8,
   "id": "73b3e3fb",
   "metadata": {
    "execution": {
     "iopub.execute_input": "2022-10-18T11:50:47.884838Z",
     "iopub.status.busy": "2022-10-18T11:50:47.883959Z",
     "iopub.status.idle": "2022-10-18T11:50:47.891043Z",
     "shell.execute_reply": "2022-10-18T11:50:47.890054Z"
    },
    "id": "uJUJ8OoFq7EF",
    "papermill": {
     "duration": 0.031092,
     "end_time": "2022-10-18T11:50:47.893597",
     "exception": false,
     "start_time": "2022-10-18T11:50:47.862505",
     "status": "completed"
    },
    "tags": []
   },
   "outputs": [],
   "source": [
    "train['Length'] = train['Poem'].apply(len)\n",
    "test['Length'] = test['Poem'].apply(len)"
   ]
  },
  {
   "cell_type": "code",
   "execution_count": 9,
   "id": "2013f22a",
   "metadata": {
    "execution": {
     "iopub.execute_input": "2022-10-18T11:50:47.936194Z",
     "iopub.status.busy": "2022-10-18T11:50:47.935756Z",
     "iopub.status.idle": "2022-10-18T11:50:49.210874Z",
     "shell.execute_reply": "2022-10-18T11:50:49.209717Z"
    },
    "id": "65Tk4vEHz06B",
    "outputId": "e193afcf-54b2-4be6-e133-0d021a1bc739",
    "papermill": {
     "duration": 1.299758,
     "end_time": "2022-10-18T11:50:49.213538",
     "exception": false,
     "start_time": "2022-10-18T11:50:47.913780",
     "status": "completed"
    },
    "tags": []
   },
   "outputs": [
    {
     "data": {
      "text/html": [
       "        <script type=\"text/javascript\">\n",
       "        window.PlotlyConfig = {MathJaxConfig: 'local'};\n",
       "        if (window.MathJax && window.MathJax.Hub && window.MathJax.Hub.Config) {window.MathJax.Hub.Config({SVG: {font: \"STIX-Web\"}});}\n",
       "        if (typeof require !== 'undefined') {\n",
       "        require.undef(\"plotly\");\n",
       "        requirejs.config({\n",
       "            paths: {\n",
       "                'plotly': ['https://cdn.plot.ly/plotly-2.14.0.min']\n",
       "            }\n",
       "        });\n",
       "        require(['plotly'], function(Plotly) {\n",
       "            window._Plotly = Plotly;\n",
       "        });\n",
       "        }\n",
       "        </script>\n",
       "        "
      ]
     },
     "metadata": {},
     "output_type": "display_data"
    },
    {
     "data": {
      "text/html": [
       "<div>                            <div id=\"ccbbfacd-d6e2-4211-b9f8-4b4ac3f8868a\" class=\"plotly-graph-div\" style=\"height:525px; width:100%;\"></div>            <script type=\"text/javascript\">                require([\"plotly\"], function(Plotly) {                    window.PLOTLYENV=window.PLOTLYENV || {};                                    if (document.getElementById(\"ccbbfacd-d6e2-4211-b9f8-4b4ac3f8868a\")) {                    Plotly.newPlot(                        \"ccbbfacd-d6e2-4211-b9f8-4b4ac3f8868a\",                        [{\"alignmentgroup\":\"True\",\"hovertemplate\":\"Genre=%{y}<br>Length=%{x}<extra></extra>\",\"legendgroup\":\"Music\",\"marker\":{\"color\":\"#636efa\",\"pattern\":{\"shape\":\"\"}},\"name\":\"Music\",\"offsetgroup\":\"Music\",\"orientation\":\"h\",\"showlegend\":true,\"textposition\":\"auto\",\"x\":[205,191,242,209,197,220,162,218,189,294,281,135,162,333,209,226,278,270,318,274,270,272,296,220,330,96,394,230,128,193,334,396,256,288,226,287,268,321,290,70,168,274,349,235,306,246,362,14,315,84,275,352,264,305,210,322,330,78,241,301,337,306,283,260,310,354,66,338,110,136,296,251,325,302,290,308,255,308,328,230,302,168,327,361,230,267,261,325,107,303,38,297,341,316,253,276,469,54,281,296,118,165,304,268,286,290,284,293,212,342,198,292,385,254,326,74,59,311,274,319,282,76,301,296,314,310,270,279,343,343,328,279,171,99,289,255,170,324,289,294,312,237,307,314,320,207,331,333,262,301,288,306,319,314,262,310,259,319,318,293,310,67,354,320,325,303,255,273,322,303,252,319,323,201,206,332,209,70,313,300,372,245,243,213,260,154,352,326,322,238,250,300,295,263,285,329,267,265,286,293,272,271,319,319,321,322,311,264,311,294,271,291,285,338,271,320,258,315,306,307,280,76,242,266,46,270,188,257,297,406,108,192,259,319,303,320,336,330],\"xaxis\":\"x\",\"y\":[\"Music\",\"Music\",\"Music\",\"Music\",\"Music\",\"Music\",\"Music\",\"Music\",\"Music\",\"Music\",\"Music\",\"Music\",\"Music\",\"Music\",\"Music\",\"Music\",\"Music\",\"Music\",\"Music\",\"Music\",\"Music\",\"Music\",\"Music\",\"Music\",\"Music\",\"Music\",\"Music\",\"Music\",\"Music\",\"Music\",\"Music\",\"Music\",\"Music\",\"Music\",\"Music\",\"Music\",\"Music\",\"Music\",\"Music\",\"Music\",\"Music\",\"Music\",\"Music\",\"Music\",\"Music\",\"Music\",\"Music\",\"Music\",\"Music\",\"Music\",\"Music\",\"Music\",\"Music\",\"Music\",\"Music\",\"Music\",\"Music\",\"Music\",\"Music\",\"Music\",\"Music\",\"Music\",\"Music\",\"Music\",\"Music\",\"Music\",\"Music\",\"Music\",\"Music\",\"Music\",\"Music\",\"Music\",\"Music\",\"Music\",\"Music\",\"Music\",\"Music\",\"Music\",\"Music\",\"Music\",\"Music\",\"Music\",\"Music\",\"Music\",\"Music\",\"Music\",\"Music\",\"Music\",\"Music\",\"Music\",\"Music\",\"Music\",\"Music\",\"Music\",\"Music\",\"Music\",\"Music\",\"Music\",\"Music\",\"Music\",\"Music\",\"Music\",\"Music\",\"Music\",\"Music\",\"Music\",\"Music\",\"Music\",\"Music\",\"Music\",\"Music\",\"Music\",\"Music\",\"Music\",\"Music\",\"Music\",\"Music\",\"Music\",\"Music\",\"Music\",\"Music\",\"Music\",\"Music\",\"Music\",\"Music\",\"Music\",\"Music\",\"Music\",\"Music\",\"Music\",\"Music\",\"Music\",\"Music\",\"Music\",\"Music\",\"Music\",\"Music\",\"Music\",\"Music\",\"Music\",\"Music\",\"Music\",\"Music\",\"Music\",\"Music\",\"Music\",\"Music\",\"Music\",\"Music\",\"Music\",\"Music\",\"Music\",\"Music\",\"Music\",\"Music\",\"Music\",\"Music\",\"Music\",\"Music\",\"Music\",\"Music\",\"Music\",\"Music\",\"Music\",\"Music\",\"Music\",\"Music\",\"Music\",\"Music\",\"Music\",\"Music\",\"Music\",\"Music\",\"Music\",\"Music\",\"Music\",\"Music\",\"Music\",\"Music\",\"Music\",\"Music\",\"Music\",\"Music\",\"Music\",\"Music\",\"Music\",\"Music\",\"Music\",\"Music\",\"Music\",\"Music\",\"Music\",\"Music\",\"Music\",\"Music\",\"Music\",\"Music\",\"Music\",\"Music\",\"Music\",\"Music\",\"Music\",\"Music\",\"Music\",\"Music\",\"Music\",\"Music\",\"Music\",\"Music\",\"Music\",\"Music\",\"Music\",\"Music\",\"Music\",\"Music\",\"Music\",\"Music\",\"Music\",\"Music\",\"Music\",\"Music\",\"Music\",\"Music\",\"Music\",\"Music\",\"Music\",\"Music\",\"Music\",\"Music\",\"Music\",\"Music\",\"Music\",\"Music\",\"Music\",\"Music\",\"Music\",\"Music\",\"Music\"],\"yaxis\":\"y\",\"type\":\"bar\"},{\"alignmentgroup\":\"True\",\"hovertemplate\":\"Genre=%{y}<br>Length=%{x}<extra></extra>\",\"legendgroup\":\"Death\",\"marker\":{\"color\":\"#EF553B\",\"pattern\":{\"shape\":\"\"}},\"name\":\"Death\",\"offsetgroup\":\"Death\",\"orientation\":\"h\",\"showlegend\":true,\"textposition\":\"auto\",\"x\":[317,155,198,345,154,44,143,330,148,47,226,280,324,199,340,63,225,333,323,331,257,336,327,244,277,269,313,189,297,361,270,293,77,237,252,295,295,325,308,288,349,337,278,297,379,301,283,328,268,314,334,295,218,317,291,305,268,260,282,393,27,110,237,345,317,154,295,318,256,362,359,266,302,252,316,230,264,295,345,319,303,315,180,245,245,304,239,211,304,349,194,170,293,235,262,288,293,312,339,281,302,54,323,281,343,259,328,304,158,32,314,267,274,209,300,308,294,217,262,317,313,251,325,245,273,292,326,344,320,343,288,257,312,181,318,368,289,291,283,310,329,312,298,212,227,184,304,273,375,259,310,277,297,323,262,296,344,352,266,314,305,348,349,310,311,276,43,315,314,398,172,255,279,292,309,274,400,288,274,200,266,167,314,220,300,317,329,364,284,299,339,286,293,272,275,334,336,299,319,107,332,341,202,313,295,209,256,243,323,232,311,287,384,293,271,258,295,319,306,252,267,304,260,285,291,301,311,270,203],\"xaxis\":\"x\",\"y\":[\"Death\",\"Death\",\"Death\",\"Death\",\"Death\",\"Death\",\"Death\",\"Death\",\"Death\",\"Death\",\"Death\",\"Death\",\"Death\",\"Death\",\"Death\",\"Death\",\"Death\",\"Death\",\"Death\",\"Death\",\"Death\",\"Death\",\"Death\",\"Death\",\"Death\",\"Death\",\"Death\",\"Death\",\"Death\",\"Death\",\"Death\",\"Death\",\"Death\",\"Death\",\"Death\",\"Death\",\"Death\",\"Death\",\"Death\",\"Death\",\"Death\",\"Death\",\"Death\",\"Death\",\"Death\",\"Death\",\"Death\",\"Death\",\"Death\",\"Death\",\"Death\",\"Death\",\"Death\",\"Death\",\"Death\",\"Death\",\"Death\",\"Death\",\"Death\",\"Death\",\"Death\",\"Death\",\"Death\",\"Death\",\"Death\",\"Death\",\"Death\",\"Death\",\"Death\",\"Death\",\"Death\",\"Death\",\"Death\",\"Death\",\"Death\",\"Death\",\"Death\",\"Death\",\"Death\",\"Death\",\"Death\",\"Death\",\"Death\",\"Death\",\"Death\",\"Death\",\"Death\",\"Death\",\"Death\",\"Death\",\"Death\",\"Death\",\"Death\",\"Death\",\"Death\",\"Death\",\"Death\",\"Death\",\"Death\",\"Death\",\"Death\",\"Death\",\"Death\",\"Death\",\"Death\",\"Death\",\"Death\",\"Death\",\"Death\",\"Death\",\"Death\",\"Death\",\"Death\",\"Death\",\"Death\",\"Death\",\"Death\",\"Death\",\"Death\",\"Death\",\"Death\",\"Death\",\"Death\",\"Death\",\"Death\",\"Death\",\"Death\",\"Death\",\"Death\",\"Death\",\"Death\",\"Death\",\"Death\",\"Death\",\"Death\",\"Death\",\"Death\",\"Death\",\"Death\",\"Death\",\"Death\",\"Death\",\"Death\",\"Death\",\"Death\",\"Death\",\"Death\",\"Death\",\"Death\",\"Death\",\"Death\",\"Death\",\"Death\",\"Death\",\"Death\",\"Death\",\"Death\",\"Death\",\"Death\",\"Death\",\"Death\",\"Death\",\"Death\",\"Death\",\"Death\",\"Death\",\"Death\",\"Death\",\"Death\",\"Death\",\"Death\",\"Death\",\"Death\",\"Death\",\"Death\",\"Death\",\"Death\",\"Death\",\"Death\",\"Death\",\"Death\",\"Death\",\"Death\",\"Death\",\"Death\",\"Death\",\"Death\",\"Death\",\"Death\",\"Death\",\"Death\",\"Death\",\"Death\",\"Death\",\"Death\",\"Death\",\"Death\",\"Death\",\"Death\",\"Death\",\"Death\",\"Death\",\"Death\",\"Death\",\"Death\",\"Death\",\"Death\",\"Death\",\"Death\",\"Death\",\"Death\",\"Death\",\"Death\",\"Death\",\"Death\",\"Death\",\"Death\",\"Death\",\"Death\",\"Death\",\"Death\",\"Death\",\"Death\",\"Death\",\"Death\",\"Death\",\"Death\",\"Death\",\"Death\"],\"yaxis\":\"y\",\"type\":\"bar\"},{\"alignmentgroup\":\"True\",\"hovertemplate\":\"Genre=%{y}<br>Length=%{x}<extra></extra>\",\"legendgroup\":\"Affection\",\"marker\":{\"color\":\"#00cc96\",\"pattern\":{\"shape\":\"\"}},\"name\":\"Affection\",\"offsetgroup\":\"Affection\",\"orientation\":\"h\",\"showlegend\":true,\"textposition\":\"auto\",\"x\":[145,147,116,143,222,280,324,239,194,255,269,136,251,309,333,266,92,87,364,312,268,302,269,103,362,271,314,185,310,276,249,217,271,312,208,182,261,306,217,281,303,296,261,320,294,248,269,197,223,307,276,311,302,286,363,280,311,420,310,297,398,383,266,275,301,280,329,211,272,274,338,202,284,198,291,331,322,303,273,243,365,358,267,217,302,292,310,299,282,332,238,336,278,328,291,320,285,311,287,131,308,309,273,246,276,298,339,327,274,234,351,277,255,317,218,264,301,293,203,217,193,304,307,108,270,327,203,316,199,273,172,335,297,301,347,298,321,315,316,282,310],\"xaxis\":\"x\",\"y\":[\"Affection\",\"Affection\",\"Affection\",\"Affection\",\"Affection\",\"Affection\",\"Affection\",\"Affection\",\"Affection\",\"Affection\",\"Affection\",\"Affection\",\"Affection\",\"Affection\",\"Affection\",\"Affection\",\"Affection\",\"Affection\",\"Affection\",\"Affection\",\"Affection\",\"Affection\",\"Affection\",\"Affection\",\"Affection\",\"Affection\",\"Affection\",\"Affection\",\"Affection\",\"Affection\",\"Affection\",\"Affection\",\"Affection\",\"Affection\",\"Affection\",\"Affection\",\"Affection\",\"Affection\",\"Affection\",\"Affection\",\"Affection\",\"Affection\",\"Affection\",\"Affection\",\"Affection\",\"Affection\",\"Affection\",\"Affection\",\"Affection\",\"Affection\",\"Affection\",\"Affection\",\"Affection\",\"Affection\",\"Affection\",\"Affection\",\"Affection\",\"Affection\",\"Affection\",\"Affection\",\"Affection\",\"Affection\",\"Affection\",\"Affection\",\"Affection\",\"Affection\",\"Affection\",\"Affection\",\"Affection\",\"Affection\",\"Affection\",\"Affection\",\"Affection\",\"Affection\",\"Affection\",\"Affection\",\"Affection\",\"Affection\",\"Affection\",\"Affection\",\"Affection\",\"Affection\",\"Affection\",\"Affection\",\"Affection\",\"Affection\",\"Affection\",\"Affection\",\"Affection\",\"Affection\",\"Affection\",\"Affection\",\"Affection\",\"Affection\",\"Affection\",\"Affection\",\"Affection\",\"Affection\",\"Affection\",\"Affection\",\"Affection\",\"Affection\",\"Affection\",\"Affection\",\"Affection\",\"Affection\",\"Affection\",\"Affection\",\"Affection\",\"Affection\",\"Affection\",\"Affection\",\"Affection\",\"Affection\",\"Affection\",\"Affection\",\"Affection\",\"Affection\",\"Affection\",\"Affection\",\"Affection\",\"Affection\",\"Affection\",\"Affection\",\"Affection\",\"Affection\",\"Affection\",\"Affection\",\"Affection\",\"Affection\",\"Affection\",\"Affection\",\"Affection\",\"Affection\",\"Affection\",\"Affection\",\"Affection\",\"Affection\",\"Affection\",\"Affection\",\"Affection\"],\"yaxis\":\"y\",\"type\":\"bar\"},{\"alignmentgroup\":\"True\",\"hovertemplate\":\"Genre=%{y}<br>Length=%{x}<extra></extra>\",\"legendgroup\":\"Environment\",\"marker\":{\"color\":\"#ab63fa\",\"pattern\":{\"shape\":\"\"}},\"name\":\"Environment\",\"offsetgroup\":\"Environment\",\"orientation\":\"h\",\"showlegend\":true,\"textposition\":\"auto\",\"x\":[319,438,221,336,129,297,92,155,147,125,117,99,314,218,305,234,238,332,188,358,175,278,227,281,192,226,350,283,344,223,315,288,328,278,322,410,93,168,274,418,132,318,257,323,317,326,314,281,286,348,305,348,321,337,275,371,312,382,249,292,290,267,344,253,37,94,232,97,227,107,104,338,86,113,314,314,227,291,343,341,276,45,65,143,105,345,324,44,95,193,469,296,250,195,300,306,288,273,39,129,273,328,78,283,310,323,262,319,410,347,308,292,301,320,295,319,37,310,325,318,295,345,353,304,34,346,337,261,286,327,281,201,184,289,305,263,361,253,396,319,151,125,266,280,288,80,116,101,87,304,365,43,317,294,282,260,315,249,326,322,301,249,310,301,342,314,320,303,239,278,249,324,294,288,322,251,249,377,302,281,285,226,266,319,158,270,320,337,263,309,319,261,326,287,285,54,205,314,120,349,293,277,303,144,269,292,370,246,312,298,304,322,303,215,276,209,328,317,288,252,231,273,306,253,237,291,347],\"xaxis\":\"x\",\"y\":[\"Environment\",\"Environment\",\"Environment\",\"Environment\",\"Environment\",\"Environment\",\"Environment\",\"Environment\",\"Environment\",\"Environment\",\"Environment\",\"Environment\",\"Environment\",\"Environment\",\"Environment\",\"Environment\",\"Environment\",\"Environment\",\"Environment\",\"Environment\",\"Environment\",\"Environment\",\"Environment\",\"Environment\",\"Environment\",\"Environment\",\"Environment\",\"Environment\",\"Environment\",\"Environment\",\"Environment\",\"Environment\",\"Environment\",\"Environment\",\"Environment\",\"Environment\",\"Environment\",\"Environment\",\"Environment\",\"Environment\",\"Environment\",\"Environment\",\"Environment\",\"Environment\",\"Environment\",\"Environment\",\"Environment\",\"Environment\",\"Environment\",\"Environment\",\"Environment\",\"Environment\",\"Environment\",\"Environment\",\"Environment\",\"Environment\",\"Environment\",\"Environment\",\"Environment\",\"Environment\",\"Environment\",\"Environment\",\"Environment\",\"Environment\",\"Environment\",\"Environment\",\"Environment\",\"Environment\",\"Environment\",\"Environment\",\"Environment\",\"Environment\",\"Environment\",\"Environment\",\"Environment\",\"Environment\",\"Environment\",\"Environment\",\"Environment\",\"Environment\",\"Environment\",\"Environment\",\"Environment\",\"Environment\",\"Environment\",\"Environment\",\"Environment\",\"Environment\",\"Environment\",\"Environment\",\"Environment\",\"Environment\",\"Environment\",\"Environment\",\"Environment\",\"Environment\",\"Environment\",\"Environment\",\"Environment\",\"Environment\",\"Environment\",\"Environment\",\"Environment\",\"Environment\",\"Environment\",\"Environment\",\"Environment\",\"Environment\",\"Environment\",\"Environment\",\"Environment\",\"Environment\",\"Environment\",\"Environment\",\"Environment\",\"Environment\",\"Environment\",\"Environment\",\"Environment\",\"Environment\",\"Environment\",\"Environment\",\"Environment\",\"Environment\",\"Environment\",\"Environment\",\"Environment\",\"Environment\",\"Environment\",\"Environment\",\"Environment\",\"Environment\",\"Environment\",\"Environment\",\"Environment\",\"Environment\",\"Environment\",\"Environment\",\"Environment\",\"Environment\",\"Environment\",\"Environment\",\"Environment\",\"Environment\",\"Environment\",\"Environment\",\"Environment\",\"Environment\",\"Environment\",\"Environment\",\"Environment\",\"Environment\",\"Environment\",\"Environment\",\"Environment\",\"Environment\",\"Environment\",\"Environment\",\"Environment\",\"Environment\",\"Environment\",\"Environment\",\"Environment\",\"Environment\",\"Environment\",\"Environment\",\"Environment\",\"Environment\",\"Environment\",\"Environment\",\"Environment\",\"Environment\",\"Environment\",\"Environment\",\"Environment\",\"Environment\",\"Environment\",\"Environment\",\"Environment\",\"Environment\",\"Environment\",\"Environment\",\"Environment\",\"Environment\",\"Environment\",\"Environment\",\"Environment\",\"Environment\",\"Environment\",\"Environment\",\"Environment\",\"Environment\",\"Environment\",\"Environment\",\"Environment\",\"Environment\",\"Environment\",\"Environment\",\"Environment\",\"Environment\",\"Environment\",\"Environment\",\"Environment\",\"Environment\",\"Environment\",\"Environment\",\"Environment\",\"Environment\",\"Environment\",\"Environment\",\"Environment\",\"Environment\",\"Environment\",\"Environment\",\"Environment\",\"Environment\",\"Environment\",\"Environment\",\"Environment\",\"Environment\",\"Environment\",\"Environment\",\"Environment\",\"Environment\",\"Environment\",\"Environment\",\"Environment\"],\"yaxis\":\"y\",\"type\":\"bar\"}],                        {\"template\":{\"data\":{\"histogram2dcontour\":[{\"type\":\"histogram2dcontour\",\"colorbar\":{\"outlinewidth\":0,\"ticks\":\"\"},\"colorscale\":[[0.0,\"#0d0887\"],[0.1111111111111111,\"#46039f\"],[0.2222222222222222,\"#7201a8\"],[0.3333333333333333,\"#9c179e\"],[0.4444444444444444,\"#bd3786\"],[0.5555555555555556,\"#d8576b\"],[0.6666666666666666,\"#ed7953\"],[0.7777777777777778,\"#fb9f3a\"],[0.8888888888888888,\"#fdca26\"],[1.0,\"#f0f921\"]]}],\"choropleth\":[{\"type\":\"choropleth\",\"colorbar\":{\"outlinewidth\":0,\"ticks\":\"\"}}],\"histogram2d\":[{\"type\":\"histogram2d\",\"colorbar\":{\"outlinewidth\":0,\"ticks\":\"\"},\"colorscale\":[[0.0,\"#0d0887\"],[0.1111111111111111,\"#46039f\"],[0.2222222222222222,\"#7201a8\"],[0.3333333333333333,\"#9c179e\"],[0.4444444444444444,\"#bd3786\"],[0.5555555555555556,\"#d8576b\"],[0.6666666666666666,\"#ed7953\"],[0.7777777777777778,\"#fb9f3a\"],[0.8888888888888888,\"#fdca26\"],[1.0,\"#f0f921\"]]}],\"heatmap\":[{\"type\":\"heatmap\",\"colorbar\":{\"outlinewidth\":0,\"ticks\":\"\"},\"colorscale\":[[0.0,\"#0d0887\"],[0.1111111111111111,\"#46039f\"],[0.2222222222222222,\"#7201a8\"],[0.3333333333333333,\"#9c179e\"],[0.4444444444444444,\"#bd3786\"],[0.5555555555555556,\"#d8576b\"],[0.6666666666666666,\"#ed7953\"],[0.7777777777777778,\"#fb9f3a\"],[0.8888888888888888,\"#fdca26\"],[1.0,\"#f0f921\"]]}],\"heatmapgl\":[{\"type\":\"heatmapgl\",\"colorbar\":{\"outlinewidth\":0,\"ticks\":\"\"},\"colorscale\":[[0.0,\"#0d0887\"],[0.1111111111111111,\"#46039f\"],[0.2222222222222222,\"#7201a8\"],[0.3333333333333333,\"#9c179e\"],[0.4444444444444444,\"#bd3786\"],[0.5555555555555556,\"#d8576b\"],[0.6666666666666666,\"#ed7953\"],[0.7777777777777778,\"#fb9f3a\"],[0.8888888888888888,\"#fdca26\"],[1.0,\"#f0f921\"]]}],\"contourcarpet\":[{\"type\":\"contourcarpet\",\"colorbar\":{\"outlinewidth\":0,\"ticks\":\"\"}}],\"contour\":[{\"type\":\"contour\",\"colorbar\":{\"outlinewidth\":0,\"ticks\":\"\"},\"colorscale\":[[0.0,\"#0d0887\"],[0.1111111111111111,\"#46039f\"],[0.2222222222222222,\"#7201a8\"],[0.3333333333333333,\"#9c179e\"],[0.4444444444444444,\"#bd3786\"],[0.5555555555555556,\"#d8576b\"],[0.6666666666666666,\"#ed7953\"],[0.7777777777777778,\"#fb9f3a\"],[0.8888888888888888,\"#fdca26\"],[1.0,\"#f0f921\"]]}],\"surface\":[{\"type\":\"surface\",\"colorbar\":{\"outlinewidth\":0,\"ticks\":\"\"},\"colorscale\":[[0.0,\"#0d0887\"],[0.1111111111111111,\"#46039f\"],[0.2222222222222222,\"#7201a8\"],[0.3333333333333333,\"#9c179e\"],[0.4444444444444444,\"#bd3786\"],[0.5555555555555556,\"#d8576b\"],[0.6666666666666666,\"#ed7953\"],[0.7777777777777778,\"#fb9f3a\"],[0.8888888888888888,\"#fdca26\"],[1.0,\"#f0f921\"]]}],\"mesh3d\":[{\"type\":\"mesh3d\",\"colorbar\":{\"outlinewidth\":0,\"ticks\":\"\"}}],\"scatter\":[{\"fillpattern\":{\"fillmode\":\"overlay\",\"size\":10,\"solidity\":0.2},\"type\":\"scatter\"}],\"parcoords\":[{\"type\":\"parcoords\",\"line\":{\"colorbar\":{\"outlinewidth\":0,\"ticks\":\"\"}}}],\"scatterpolargl\":[{\"type\":\"scatterpolargl\",\"marker\":{\"colorbar\":{\"outlinewidth\":0,\"ticks\":\"\"}}}],\"bar\":[{\"error_x\":{\"color\":\"#2a3f5f\"},\"error_y\":{\"color\":\"#2a3f5f\"},\"marker\":{\"line\":{\"color\":\"#E5ECF6\",\"width\":0.5},\"pattern\":{\"fillmode\":\"overlay\",\"size\":10,\"solidity\":0.2}},\"type\":\"bar\"}],\"scattergeo\":[{\"type\":\"scattergeo\",\"marker\":{\"colorbar\":{\"outlinewidth\":0,\"ticks\":\"\"}}}],\"scatterpolar\":[{\"type\":\"scatterpolar\",\"marker\":{\"colorbar\":{\"outlinewidth\":0,\"ticks\":\"\"}}}],\"histogram\":[{\"marker\":{\"pattern\":{\"fillmode\":\"overlay\",\"size\":10,\"solidity\":0.2}},\"type\":\"histogram\"}],\"scattergl\":[{\"type\":\"scattergl\",\"marker\":{\"colorbar\":{\"outlinewidth\":0,\"ticks\":\"\"}}}],\"scatter3d\":[{\"type\":\"scatter3d\",\"line\":{\"colorbar\":{\"outlinewidth\":0,\"ticks\":\"\"}},\"marker\":{\"colorbar\":{\"outlinewidth\":0,\"ticks\":\"\"}}}],\"scattermapbox\":[{\"type\":\"scattermapbox\",\"marker\":{\"colorbar\":{\"outlinewidth\":0,\"ticks\":\"\"}}}],\"scatterternary\":[{\"type\":\"scatterternary\",\"marker\":{\"colorbar\":{\"outlinewidth\":0,\"ticks\":\"\"}}}],\"scattercarpet\":[{\"type\":\"scattercarpet\",\"marker\":{\"colorbar\":{\"outlinewidth\":0,\"ticks\":\"\"}}}],\"carpet\":[{\"aaxis\":{\"endlinecolor\":\"#2a3f5f\",\"gridcolor\":\"white\",\"linecolor\":\"white\",\"minorgridcolor\":\"white\",\"startlinecolor\":\"#2a3f5f\"},\"baxis\":{\"endlinecolor\":\"#2a3f5f\",\"gridcolor\":\"white\",\"linecolor\":\"white\",\"minorgridcolor\":\"white\",\"startlinecolor\":\"#2a3f5f\"},\"type\":\"carpet\"}],\"table\":[{\"cells\":{\"fill\":{\"color\":\"#EBF0F8\"},\"line\":{\"color\":\"white\"}},\"header\":{\"fill\":{\"color\":\"#C8D4E3\"},\"line\":{\"color\":\"white\"}},\"type\":\"table\"}],\"barpolar\":[{\"marker\":{\"line\":{\"color\":\"#E5ECF6\",\"width\":0.5},\"pattern\":{\"fillmode\":\"overlay\",\"size\":10,\"solidity\":0.2}},\"type\":\"barpolar\"}],\"pie\":[{\"automargin\":true,\"type\":\"pie\"}]},\"layout\":{\"autotypenumbers\":\"strict\",\"colorway\":[\"#636efa\",\"#EF553B\",\"#00cc96\",\"#ab63fa\",\"#FFA15A\",\"#19d3f3\",\"#FF6692\",\"#B6E880\",\"#FF97FF\",\"#FECB52\"],\"font\":{\"color\":\"#2a3f5f\"},\"hovermode\":\"closest\",\"hoverlabel\":{\"align\":\"left\"},\"paper_bgcolor\":\"white\",\"plot_bgcolor\":\"#E5ECF6\",\"polar\":{\"bgcolor\":\"#E5ECF6\",\"angularaxis\":{\"gridcolor\":\"white\",\"linecolor\":\"white\",\"ticks\":\"\"},\"radialaxis\":{\"gridcolor\":\"white\",\"linecolor\":\"white\",\"ticks\":\"\"}},\"ternary\":{\"bgcolor\":\"#E5ECF6\",\"aaxis\":{\"gridcolor\":\"white\",\"linecolor\":\"white\",\"ticks\":\"\"},\"baxis\":{\"gridcolor\":\"white\",\"linecolor\":\"white\",\"ticks\":\"\"},\"caxis\":{\"gridcolor\":\"white\",\"linecolor\":\"white\",\"ticks\":\"\"}},\"coloraxis\":{\"colorbar\":{\"outlinewidth\":0,\"ticks\":\"\"}},\"colorscale\":{\"sequential\":[[0.0,\"#0d0887\"],[0.1111111111111111,\"#46039f\"],[0.2222222222222222,\"#7201a8\"],[0.3333333333333333,\"#9c179e\"],[0.4444444444444444,\"#bd3786\"],[0.5555555555555556,\"#d8576b\"],[0.6666666666666666,\"#ed7953\"],[0.7777777777777778,\"#fb9f3a\"],[0.8888888888888888,\"#fdca26\"],[1.0,\"#f0f921\"]],\"sequentialminus\":[[0.0,\"#0d0887\"],[0.1111111111111111,\"#46039f\"],[0.2222222222222222,\"#7201a8\"],[0.3333333333333333,\"#9c179e\"],[0.4444444444444444,\"#bd3786\"],[0.5555555555555556,\"#d8576b\"],[0.6666666666666666,\"#ed7953\"],[0.7777777777777778,\"#fb9f3a\"],[0.8888888888888888,\"#fdca26\"],[1.0,\"#f0f921\"]],\"diverging\":[[0,\"#8e0152\"],[0.1,\"#c51b7d\"],[0.2,\"#de77ae\"],[0.3,\"#f1b6da\"],[0.4,\"#fde0ef\"],[0.5,\"#f7f7f7\"],[0.6,\"#e6f5d0\"],[0.7,\"#b8e186\"],[0.8,\"#7fbc41\"],[0.9,\"#4d9221\"],[1,\"#276419\"]]},\"xaxis\":{\"gridcolor\":\"white\",\"linecolor\":\"white\",\"ticks\":\"\",\"title\":{\"standoff\":15},\"zerolinecolor\":\"white\",\"automargin\":true,\"zerolinewidth\":2},\"yaxis\":{\"gridcolor\":\"white\",\"linecolor\":\"white\",\"ticks\":\"\",\"title\":{\"standoff\":15},\"zerolinecolor\":\"white\",\"automargin\":true,\"zerolinewidth\":2},\"scene\":{\"xaxis\":{\"backgroundcolor\":\"#E5ECF6\",\"gridcolor\":\"white\",\"linecolor\":\"white\",\"showbackground\":true,\"ticks\":\"\",\"zerolinecolor\":\"white\",\"gridwidth\":2},\"yaxis\":{\"backgroundcolor\":\"#E5ECF6\",\"gridcolor\":\"white\",\"linecolor\":\"white\",\"showbackground\":true,\"ticks\":\"\",\"zerolinecolor\":\"white\",\"gridwidth\":2},\"zaxis\":{\"backgroundcolor\":\"#E5ECF6\",\"gridcolor\":\"white\",\"linecolor\":\"white\",\"showbackground\":true,\"ticks\":\"\",\"zerolinecolor\":\"white\",\"gridwidth\":2}},\"shapedefaults\":{\"line\":{\"color\":\"#2a3f5f\"}},\"annotationdefaults\":{\"arrowcolor\":\"#2a3f5f\",\"arrowhead\":0,\"arrowwidth\":1},\"geo\":{\"bgcolor\":\"white\",\"landcolor\":\"#E5ECF6\",\"subunitcolor\":\"white\",\"showland\":true,\"showlakes\":true,\"lakecolor\":\"white\"},\"title\":{\"x\":0.05},\"mapbox\":{\"style\":\"light\"}}},\"xaxis\":{\"anchor\":\"y\",\"domain\":[0.0,1.0],\"title\":{\"text\":\"Length\"}},\"yaxis\":{\"anchor\":\"x\",\"domain\":[0.0,1.0],\"title\":{\"text\":\"Genre\"},\"categoryorder\":\"array\",\"categoryarray\":[\"Environment\",\"Affection\",\"Death\",\"Music\"]},\"legend\":{\"title\":{\"text\":\"Genre\"},\"tracegroupgap\":0},\"margin\":{\"t\":60},\"barmode\":\"relative\"},                        {\"responsive\": true}                    ).then(function(){\n",
       "                            \n",
       "var gd = document.getElementById('ccbbfacd-d6e2-4211-b9f8-4b4ac3f8868a');\n",
       "var x = new MutationObserver(function (mutations, observer) {{\n",
       "        var display = window.getComputedStyle(gd).display;\n",
       "        if (!display || display === 'none') {{\n",
       "            console.log([gd, 'removed!']);\n",
       "            Plotly.purge(gd);\n",
       "            observer.disconnect();\n",
       "        }}\n",
       "}});\n",
       "\n",
       "// Listen for the removal of the full notebook cells\n",
       "var notebookContainer = gd.closest('#notebook-container');\n",
       "if (notebookContainer) {{\n",
       "    x.observe(notebookContainer, {childList: true});\n",
       "}}\n",
       "\n",
       "// Listen for the clearing of the current output cell\n",
       "var outputEl = gd.closest('.output');\n",
       "if (outputEl) {{\n",
       "    x.observe(outputEl, {childList: true});\n",
       "}}\n",
       "\n",
       "                        })                };                });            </script>        </div>"
      ]
     },
     "metadata": {},
     "output_type": "display_data"
    }
   ],
   "source": [
    "fig = px.bar(train, x='Length', y='Genre',color = 'Genre')\n",
    "fig.show()"
   ]
  },
  {
   "cell_type": "markdown",
   "id": "ce2f4277",
   "metadata": {
    "papermill": {
     "duration": 0.020343,
     "end_time": "2022-10-18T11:50:49.255159",
     "exception": false,
     "start_time": "2022-10-18T11:50:49.234816",
     "status": "completed"
    },
    "tags": []
   },
   "source": [
    "We observe that **'Affection'** is pretty low compared to the other three genres. However, the other three are pretty similar when frequency's concerned. This can be dealt with by adding synthetic points using **SMOTE** so as to have a balanced dataset in our hands."
   ]
  },
  {
   "cell_type": "markdown",
   "id": "370037ee",
   "metadata": {
    "papermill": {
     "duration": 0.020262,
     "end_time": "2022-10-18T11:50:49.296086",
     "exception": false,
     "start_time": "2022-10-18T11:50:49.275824",
     "status": "completed"
    },
    "tags": []
   },
   "source": [
    "# Feature Extraction"
   ]
  },
  {
   "cell_type": "code",
   "execution_count": 10,
   "id": "a7ca9cea",
   "metadata": {
    "execution": {
     "iopub.execute_input": "2022-10-18T11:50:49.339593Z",
     "iopub.status.busy": "2022-10-18T11:50:49.339197Z",
     "iopub.status.idle": "2022-10-18T11:50:49.345218Z",
     "shell.execute_reply": "2022-10-18T11:50:49.344161Z"
    },
    "id": "PY3OrvE3BPEA",
    "papermill": {
     "duration": 0.030721,
     "end_time": "2022-10-18T11:50:49.347623",
     "exception": false,
     "start_time": "2022-10-18T11:50:49.316902",
     "status": "completed"
    },
    "tags": []
   },
   "outputs": [],
   "source": [
    "def get_avg_word_len(x):\n",
    " \n",
    "    words = x.split()\n",
    "    word_len = 0\n",
    "    for word in words:\n",
    "        word_len = word_len + len(word)\n",
    "    return word_len/len(words)"
   ]
  },
  {
   "cell_type": "code",
   "execution_count": 11,
   "id": "8d93a2a5",
   "metadata": {
    "execution": {
     "iopub.execute_input": "2022-10-18T11:50:49.391567Z",
     "iopub.status.busy": "2022-10-18T11:50:49.390790Z",
     "iopub.status.idle": "2022-10-18T11:50:49.398576Z",
     "shell.execute_reply": "2022-10-18T11:50:49.397604Z"
    },
    "id": "Rjvji-rRb0Eu",
    "papermill": {
     "duration": 0.032435,
     "end_time": "2022-10-18T11:50:49.400844",
     "exception": false,
     "start_time": "2022-10-18T11:50:49.368409",
     "status": "completed"
    },
    "tags": []
   },
   "outputs": [],
   "source": [
    "def feature_extract(df,d):\n",
    "    stop = set(stopwords.words('english'))\n",
    "    df['count'] = df[d].apply(lambda x: len(str(x).split()))\n",
    "    df['char_count'] = df[d].apply(lambda x: len(x))\n",
    "    df['nwords'] = df[d].apply(lambda x: len(x.split(' ')))\n",
    "    #df['avg word_len'] = df[d].apply(lambda x:get_avg_word_len(x))\n",
    "    df['stop_words_len'] = df[d].apply(lambda x: len([t for t in x.split() if t in stop]))\n",
    "    df['polarity'] = df[d].map(lambda text: TextBlob(text).sentiment.polarity)"
   ]
  },
  {
   "cell_type": "code",
   "execution_count": 12,
   "id": "3ae96c9c",
   "metadata": {
    "execution": {
     "iopub.execute_input": "2022-10-18T11:50:49.444392Z",
     "iopub.status.busy": "2022-10-18T11:50:49.443358Z",
     "iopub.status.idle": "2022-10-18T11:50:49.908874Z",
     "shell.execute_reply": "2022-10-18T11:50:49.907724Z"
    },
    "id": "uLb8Tto0hOny",
    "papermill": {
     "duration": 0.490371,
     "end_time": "2022-10-18T11:50:49.911812",
     "exception": false,
     "start_time": "2022-10-18T11:50:49.421441",
     "status": "completed"
    },
    "tags": []
   },
   "outputs": [],
   "source": [
    "feature_extract(train,'Poem')"
   ]
  },
  {
   "cell_type": "code",
   "execution_count": 13,
   "id": "03ceb3d3",
   "metadata": {
    "execution": {
     "iopub.execute_input": "2022-10-18T11:50:49.956200Z",
     "iopub.status.busy": "2022-10-18T11:50:49.955773Z",
     "iopub.status.idle": "2022-10-18T11:50:49.970348Z",
     "shell.execute_reply": "2022-10-18T11:50:49.969260Z"
    },
    "id": "IeA9Ka5Khdwl",
    "outputId": "973548c9-5a2a-4138-bbbf-f6f5250abcaa",
    "papermill": {
     "duration": 0.039884,
     "end_time": "2022-10-18T11:50:49.972886",
     "exception": false,
     "start_time": "2022-10-18T11:50:49.933002",
     "status": "completed"
    },
    "tags": []
   },
   "outputs": [
    {
     "data": {
      "text/html": [
       "<div>\n",
       "<style scoped>\n",
       "    .dataframe tbody tr th:only-of-type {\n",
       "        vertical-align: middle;\n",
       "    }\n",
       "\n",
       "    .dataframe tbody tr th {\n",
       "        vertical-align: top;\n",
       "    }\n",
       "\n",
       "    .dataframe thead th {\n",
       "        text-align: right;\n",
       "    }\n",
       "</style>\n",
       "<table border=\"1\" class=\"dataframe\">\n",
       "  <thead>\n",
       "    <tr style=\"text-align: right;\">\n",
       "      <th></th>\n",
       "      <th>index</th>\n",
       "      <th>Genre</th>\n",
       "      <th>Poem</th>\n",
       "      <th>Length</th>\n",
       "      <th>count</th>\n",
       "      <th>char_count</th>\n",
       "      <th>nwords</th>\n",
       "      <th>stop_words_len</th>\n",
       "      <th>polarity</th>\n",
       "    </tr>\n",
       "  </thead>\n",
       "  <tbody>\n",
       "    <tr>\n",
       "      <th>0</th>\n",
       "      <td>1</td>\n",
       "      <td>Music</td>\n",
       "      <td>In the thick brushthey spend the...</td>\n",
       "      <td>205</td>\n",
       "      <td>26</td>\n",
       "      <td>205</td>\n",
       "      <td>50</td>\n",
       "      <td>10</td>\n",
       "      <td>-0.300000</td>\n",
       "    </tr>\n",
       "    <tr>\n",
       "      <th>1</th>\n",
       "      <td>2</td>\n",
       "      <td>Music</td>\n",
       "      <td>Storms are generous.                       ...</td>\n",
       "      <td>191</td>\n",
       "      <td>26</td>\n",
       "      <td>191</td>\n",
       "      <td>50</td>\n",
       "      <td>14</td>\n",
       "      <td>-0.033333</td>\n",
       "    </tr>\n",
       "    <tr>\n",
       "      <th>2</th>\n",
       "      <td>3</td>\n",
       "      <td>Music</td>\n",
       "      <td>—After Ana Mendieta Did you carry around the ...</td>\n",
       "      <td>242</td>\n",
       "      <td>42</td>\n",
       "      <td>242</td>\n",
       "      <td>43</td>\n",
       "      <td>12</td>\n",
       "      <td>0.000000</td>\n",
       "    </tr>\n",
       "    <tr>\n",
       "      <th>3</th>\n",
       "      <td>4</td>\n",
       "      <td>Music</td>\n",
       "      <td>for Aja Sherrard at 20The portent may itself ...</td>\n",
       "      <td>209</td>\n",
       "      <td>36</td>\n",
       "      <td>209</td>\n",
       "      <td>37</td>\n",
       "      <td>15</td>\n",
       "      <td>-0.291667</td>\n",
       "    </tr>\n",
       "    <tr>\n",
       "      <th>4</th>\n",
       "      <td>5</td>\n",
       "      <td>Music</td>\n",
       "      <td>for Bob Marley, Bavaria, November 1980 Here i...</td>\n",
       "      <td>197</td>\n",
       "      <td>36</td>\n",
       "      <td>197</td>\n",
       "      <td>37</td>\n",
       "      <td>15</td>\n",
       "      <td>0.650000</td>\n",
       "    </tr>\n",
       "  </tbody>\n",
       "</table>\n",
       "</div>"
      ],
      "text/plain": [
       "   index  Genre                                               Poem  Length  \\\n",
       "0      1  Music                In the thick brushthey spend the...     205   \n",
       "1      2  Music     Storms are generous.                       ...     191   \n",
       "2      3  Music   —After Ana Mendieta Did you carry around the ...     242   \n",
       "3      4  Music   for Aja Sherrard at 20The portent may itself ...     209   \n",
       "4      5  Music   for Bob Marley, Bavaria, November 1980 Here i...     197   \n",
       "\n",
       "   count  char_count  nwords  stop_words_len  polarity  \n",
       "0     26         205      50              10 -0.300000  \n",
       "1     26         191      50              14 -0.033333  \n",
       "2     42         242      43              12  0.000000  \n",
       "3     36         209      37              15 -0.291667  \n",
       "4     36         197      37              15  0.650000  "
      ]
     },
     "execution_count": 13,
     "metadata": {},
     "output_type": "execute_result"
    }
   ],
   "source": [
    "train.head()"
   ]
  },
  {
   "cell_type": "code",
   "execution_count": 14,
   "id": "8551303d",
   "metadata": {
    "execution": {
     "iopub.execute_input": "2022-10-18T11:50:50.017453Z",
     "iopub.status.busy": "2022-10-18T11:50:50.016265Z",
     "iopub.status.idle": "2022-10-18T11:50:50.099919Z",
     "shell.execute_reply": "2022-10-18T11:50:50.098867Z"
    },
    "id": "fEiVjy-Bj-cC",
    "papermill": {
     "duration": 0.108809,
     "end_time": "2022-10-18T11:50:50.102687",
     "exception": false,
     "start_time": "2022-10-18T11:50:49.993878",
     "status": "completed"
    },
    "tags": []
   },
   "outputs": [],
   "source": [
    "feature_extract(test,'Poem')"
   ]
  },
  {
   "cell_type": "code",
   "execution_count": 15,
   "id": "a475cbed",
   "metadata": {
    "execution": {
     "iopub.execute_input": "2022-10-18T11:50:50.146801Z",
     "iopub.status.busy": "2022-10-18T11:50:50.146384Z",
     "iopub.status.idle": "2022-10-18T11:50:50.159353Z",
     "shell.execute_reply": "2022-10-18T11:50:50.158509Z"
    },
    "id": "biiq2zuikC1b",
    "outputId": "06cfef87-c8fe-4dbb-dcf4-df7fcc107b6d",
    "papermill": {
     "duration": 0.037408,
     "end_time": "2022-10-18T11:50:50.161373",
     "exception": false,
     "start_time": "2022-10-18T11:50:50.123965",
     "status": "completed"
    },
    "tags": []
   },
   "outputs": [
    {
     "data": {
      "text/html": [
       "<div>\n",
       "<style scoped>\n",
       "    .dataframe tbody tr th:only-of-type {\n",
       "        vertical-align: middle;\n",
       "    }\n",
       "\n",
       "    .dataframe tbody tr th {\n",
       "        vertical-align: top;\n",
       "    }\n",
       "\n",
       "    .dataframe thead th {\n",
       "        text-align: right;\n",
       "    }\n",
       "</style>\n",
       "<table border=\"1\" class=\"dataframe\">\n",
       "  <thead>\n",
       "    <tr style=\"text-align: right;\">\n",
       "      <th></th>\n",
       "      <th>index</th>\n",
       "      <th>Genre</th>\n",
       "      <th>Poem</th>\n",
       "      <th>Length</th>\n",
       "      <th>count</th>\n",
       "      <th>char_count</th>\n",
       "      <th>nwords</th>\n",
       "      <th>stop_words_len</th>\n",
       "      <th>polarity</th>\n",
       "    </tr>\n",
       "  </thead>\n",
       "  <tbody>\n",
       "    <tr>\n",
       "      <th>0</th>\n",
       "      <td>0</td>\n",
       "      <td>Music</td>\n",
       "      <td>A woman walks by the bench I’m sitting onwith ...</td>\n",
       "      <td>203</td>\n",
       "      <td>41</td>\n",
       "      <td>203</td>\n",
       "      <td>41</td>\n",
       "      <td>13</td>\n",
       "      <td>0.300000</td>\n",
       "    </tr>\n",
       "    <tr>\n",
       "      <th>1</th>\n",
       "      <td>1</td>\n",
       "      <td>Music</td>\n",
       "      <td>Because I am a boy, the untouchability of beau...</td>\n",
       "      <td>304</td>\n",
       "      <td>50</td>\n",
       "      <td>304</td>\n",
       "      <td>50</td>\n",
       "      <td>18</td>\n",
       "      <td>-0.041667</td>\n",
       "    </tr>\n",
       "    <tr>\n",
       "      <th>2</th>\n",
       "      <td>2</td>\n",
       "      <td>Music</td>\n",
       "      <td>Because today we did not leave this world,We n...</td>\n",
       "      <td>302</td>\n",
       "      <td>50</td>\n",
       "      <td>302</td>\n",
       "      <td>50</td>\n",
       "      <td>25</td>\n",
       "      <td>0.316667</td>\n",
       "    </tr>\n",
       "    <tr>\n",
       "      <th>3</th>\n",
       "      <td>3</td>\n",
       "      <td>Music</td>\n",
       "      <td>Big Bend has been here, been here. Shouldn’t i...</td>\n",
       "      <td>289</td>\n",
       "      <td>50</td>\n",
       "      <td>289</td>\n",
       "      <td>50</td>\n",
       "      <td>18</td>\n",
       "      <td>0.080000</td>\n",
       "    </tr>\n",
       "    <tr>\n",
       "      <th>4</th>\n",
       "      <td>4</td>\n",
       "      <td>Music</td>\n",
       "      <td>I put shells there, along the lip of the road....</td>\n",
       "      <td>192</td>\n",
       "      <td>24</td>\n",
       "      <td>192</td>\n",
       "      <td>50</td>\n",
       "      <td>6</td>\n",
       "      <td>0.000000</td>\n",
       "    </tr>\n",
       "  </tbody>\n",
       "</table>\n",
       "</div>"
      ],
      "text/plain": [
       "   index  Genre                                               Poem  Length  \\\n",
       "0      0  Music  A woman walks by the bench I’m sitting onwith ...     203   \n",
       "1      1  Music  Because I am a boy, the untouchability of beau...     304   \n",
       "2      2  Music  Because today we did not leave this world,We n...     302   \n",
       "3      3  Music  Big Bend has been here, been here. Shouldn’t i...     289   \n",
       "4      4  Music  I put shells there, along the lip of the road....     192   \n",
       "\n",
       "   count  char_count  nwords  stop_words_len  polarity  \n",
       "0     41         203      41              13  0.300000  \n",
       "1     50         304      50              18 -0.041667  \n",
       "2     50         302      50              25  0.316667  \n",
       "3     50         289      50              18  0.080000  \n",
       "4     24         192      50               6  0.000000  "
      ]
     },
     "execution_count": 15,
     "metadata": {},
     "output_type": "execute_result"
    }
   ],
   "source": [
    "test.head()"
   ]
  },
  {
   "cell_type": "markdown",
   "id": "fe1c982b",
   "metadata": {
    "papermill": {
     "duration": 0.020706,
     "end_time": "2022-10-18T11:50:50.203439",
     "exception": false,
     "start_time": "2022-10-18T11:50:50.182733",
     "status": "completed"
    },
    "tags": []
   },
   "source": [
    "Could think of only these features when extraction's concerned but suggestions to add more are welcome."
   ]
  },
  {
   "cell_type": "markdown",
   "id": "75b2462c",
   "metadata": {
    "id": "3hRnq5jtjYJ6",
    "papermill": {
     "duration": 0.020858,
     "end_time": "2022-10-18T11:50:50.245635",
     "exception": false,
     "start_time": "2022-10-18T11:50:50.224777",
     "status": "completed"
    },
    "tags": []
   },
   "source": [
    "# Frequency Distribution of POS Tags based on Genre"
   ]
  },
  {
   "cell_type": "code",
   "execution_count": 16,
   "id": "a050821c",
   "metadata": {
    "execution": {
     "iopub.execute_input": "2022-10-18T11:50:50.289468Z",
     "iopub.status.busy": "2022-10-18T11:50:50.289045Z",
     "iopub.status.idle": "2022-10-18T11:50:50.297270Z",
     "shell.execute_reply": "2022-10-18T11:50:50.296121Z"
    },
    "id": "gzW5gL0WjnF_",
    "papermill": {
     "duration": 0.033211,
     "end_time": "2022-10-18T11:50:50.299991",
     "exception": false,
     "start_time": "2022-10-18T11:50:50.266780",
     "status": "completed"
    },
    "tags": []
   },
   "outputs": [],
   "source": [
    "def countPosbyGenre(dataframe, pos) : \n",
    "    genreDict = {}\n",
    "    for i in range(len(dataframe)) : \n",
    "        if dataframe.Genre.iloc[i] not in genreDict.keys() : \n",
    "            genreDict[dataframe.Genre.iloc[i]] = dataframe.Poem.iloc[i]\n",
    "        else : \n",
    "            genreDict[dataframe.Genre.iloc[i]] += dataframe.Poem.iloc[i]\n",
    "    \n",
    "    for key in genreDict.keys() : \n",
    "        genreDict[key] = nltk.pos_tag(genreDict[key].split()) \n",
    "        counter = 0 \n",
    "        for i in range(len(genreDict[key])) :\n",
    "            if genreDict[key][i][1] == pos : \n",
    "                counter += 1 \n",
    "        genreDict[key] = counter \n",
    "\n",
    "    return genreDict"
   ]
  },
  {
   "cell_type": "code",
   "execution_count": 17,
   "id": "e25892fa",
   "metadata": {
    "execution": {
     "iopub.execute_input": "2022-10-18T11:50:50.344476Z",
     "iopub.status.busy": "2022-10-18T11:50:50.344032Z",
     "iopub.status.idle": "2022-10-18T11:50:59.115819Z",
     "shell.execute_reply": "2022-10-18T11:50:59.114611Z"
    },
    "id": "CA7Jfb5ZcGZi",
    "outputId": "1fbe35b6-2cd0-46ef-ba01-2fd3b98b45ea",
    "papermill": {
     "duration": 8.797316,
     "end_time": "2022-10-18T11:50:59.118408",
     "exception": false,
     "start_time": "2022-10-18T11:50:50.321092",
     "status": "completed"
    },
    "tags": []
   },
   "outputs": [
    {
     "name": "stdout",
     "output_type": "stream",
     "text": [
      "NN --> {'Music': 2362, 'Death': 2274, 'Affection': 1494, 'Environment': 2310}\n",
      "RB --> {'Music': 385, 'Death': 407, 'Affection': 249, 'Environment': 343}\n",
      "VB --> {'Music': 429, 'Death': 427, 'Affection': 238, 'Environment': 290}\n",
      "PRP --> {'Music': 612, 'Death': 556, 'Affection': 343, 'Environment': 391}\n"
     ]
    }
   ],
   "source": [
    "tags = ['NN','RB','VB','PRP']\n",
    "for tag in tags:\n",
    "    print(f'{tag} --> {countPosbyGenre(train, tag)}')"
   ]
  },
  {
   "cell_type": "code",
   "execution_count": 18,
   "id": "c95f9ad4",
   "metadata": {
    "execution": {
     "iopub.execute_input": "2022-10-18T11:50:59.163924Z",
     "iopub.status.busy": "2022-10-18T11:50:59.163495Z",
     "iopub.status.idle": "2022-10-18T11:51:00.731667Z",
     "shell.execute_reply": "2022-10-18T11:51:00.730691Z"
    },
    "id": "gTpzaBQUl_fj",
    "outputId": "e6e7b7e4-758c-46d4-d96d-0af17f11cf02",
    "papermill": {
     "duration": 1.594146,
     "end_time": "2022-10-18T11:51:00.734779",
     "exception": false,
     "start_time": "2022-10-18T11:50:59.140633",
     "status": "completed"
    },
    "tags": []
   },
   "outputs": [
    {
     "name": "stdout",
     "output_type": "stream",
     "text": [
      "NN --> {'Music': 127, 'Death': 132, 'Affection': 1002, 'Environment': 222}\n",
      "RB --> {'Music': 19, 'Death': 24, 'Affection': 154, 'Environment': 40}\n",
      "VB --> {'Music': 24, 'Death': 31, 'Affection': 196, 'Environment': 27}\n",
      "PRP --> {'Music': 28, 'Death': 38, 'Affection': 260, 'Environment': 42}\n"
     ]
    }
   ],
   "source": [
    "for tag in tags:\n",
    "    print(f'{tag} --> {countPosbyGenre(test, tag)}')"
   ]
  },
  {
   "cell_type": "markdown",
   "id": "2f2e3ae8",
   "metadata": {
    "papermill": {
     "duration": 0.021236,
     "end_time": "2022-10-18T11:51:00.778311",
     "exception": false,
     "start_time": "2022-10-18T11:51:00.757075",
     "status": "completed"
    },
    "tags": []
   },
   "source": [
    "Comapring just a couple of tags, we observe that:\n",
    "* Noun (NN) tag occurs more for the 'Affection' genre in Test set whereas it's the opposite scenario when it comes to Train set (which might affect while model building ig).\n",
    "* Adverbs (RB) are pretty low in comparison to the other tags which could be kind of expected when it comes to poems.\n",
    "* Even in Verbs (VB) and Pronouns (PRP) we do have a dissimilarity problem when it comes to comparing the Train and Test sets."
   ]
  },
  {
   "cell_type": "markdown",
   "id": "097d1ef3",
   "metadata": {
    "id": "Uzxe2GOuQEvR",
    "papermill": {
     "duration": 0.021678,
     "end_time": "2022-10-18T11:51:00.821608",
     "exception": false,
     "start_time": "2022-10-18T11:51:00.799930",
     "status": "completed"
    },
    "tags": []
   },
   "source": [
    "# Text Preprocessing"
   ]
  },
  {
   "cell_type": "code",
   "execution_count": 19,
   "id": "46d243db",
   "metadata": {
    "execution": {
     "iopub.execute_input": "2022-10-18T11:51:00.866883Z",
     "iopub.status.busy": "2022-10-18T11:51:00.866426Z",
     "iopub.status.idle": "2022-10-18T11:51:00.878882Z",
     "shell.execute_reply": "2022-10-18T11:51:00.877803Z"
    },
    "id": "JEUxZBt56G4I",
    "papermill": {
     "duration": 0.037825,
     "end_time": "2022-10-18T11:51:00.881127",
     "exception": false,
     "start_time": "2022-10-18T11:51:00.843302",
     "status": "completed"
    },
    "tags": []
   },
   "outputs": [],
   "source": [
    "def clean_it(df):\n",
    "    lemmatizer = WordNetLemmatizer()\n",
    "    snow = SnowballStemmer(language='english')\n",
    "    stop = set(stopwords.words('english'))\n",
    "    for i in tqdm(range(len(df))):\n",
    "        df['Poem'][i] = str(df['Poem'][i])\n",
    "        df['Poem'][i] = re.sub('\\n', ' ', df['Poem'][i])\n",
    "        df['Poem'][i] = re.sub('_','',df['Poem'][i])\n",
    "        df['Poem'][i] = ' '.join(df['Poem'][i].split())\n",
    "        df['Poem'][i] = re.sub(r'\\d+', '', df['Poem'][i])\n",
    "        df['Poem'][i] = re.sub(\"[\\(\\[].*?[\\)\\]]\", \"\", df['Poem'][i])\n",
    "        df['Poem'][i] = re.sub(\"[()]\",'', df['Poem'][i])\n",
    "        df['Poem'][i] = df['Poem'][i].lower()\n",
    "        df['Poem'][i] = contractions.fix(df['Poem'][i])\n",
    "        df['Poem'][i] = re.sub(r'[^\\w\\s]', '', df['Poem'][i])\n",
    "        df['Poem'][i] = re.sub(\" +\", ' ', df['Poem'][i])  \n",
    "        t = ''\n",
    "        for word in df['Poem'][i].split(' '):\n",
    "            if word not in stop and len(word)>2:\n",
    "                #t += ' ' + snow.stem(word)\n",
    "                t += ' ' + lemmatizer.lemmatize(word)\n",
    "        df['Poem'][i] = t.strip()"
   ]
  },
  {
   "cell_type": "markdown",
   "id": "06ea49e1",
   "metadata": {
    "papermill": {
     "duration": 0.021449,
     "end_time": "2022-10-18T11:51:00.924303",
     "exception": false,
     "start_time": "2022-10-18T11:51:00.902854",
     "status": "completed"
    },
    "tags": []
   },
   "source": [
    "Preferred lemmatization here instead of stemming as the former considers the context of the word rather than chopping off to just its root form. However, it takes longer time when it comes to lemmatization hence should be looked at when used for larger datasets.\n",
    "Other than that, fixed contractions and removed the stopwords which would otherwise prove to be a nuisance during the model building stage."
   ]
  },
  {
   "cell_type": "code",
   "execution_count": 20,
   "id": "51557472",
   "metadata": {
    "execution": {
     "iopub.execute_input": "2022-10-18T11:51:00.969886Z",
     "iopub.status.busy": "2022-10-18T11:51:00.969256Z",
     "iopub.status.idle": "2022-10-18T11:51:07.242646Z",
     "shell.execute_reply": "2022-10-18T11:51:07.241498Z"
    },
    "id": "wpLhVyzHnfY0",
    "outputId": "2b2a596b-c985-488d-ff33-c77f03395eaa",
    "papermill": {
     "duration": 6.298765,
     "end_time": "2022-10-18T11:51:07.244993",
     "exception": false,
     "start_time": "2022-10-18T11:51:00.946228",
     "status": "completed"
    },
    "tags": []
   },
   "outputs": [
    {
     "data": {
      "application/vnd.jupyter.widget-view+json": {
       "model_id": "5df184611c0845519f20c87ec8118c8c",
       "version_major": 2,
       "version_minor": 0
      },
      "text/plain": [
       "  0%|          | 0/835 [00:00<?, ?it/s]"
      ]
     },
     "metadata": {},
     "output_type": "display_data"
    },
    {
     "data": {
      "application/vnd.jupyter.widget-view+json": {
       "model_id": "961b52b7a0dc40ec96004a7b589c3187",
       "version_major": 2,
       "version_minor": 0
      },
      "text/plain": [
       "  0%|          | 0/150 [00:00<?, ?it/s]"
      ]
     },
     "metadata": {},
     "output_type": "display_data"
    }
   ],
   "source": [
    "clean_it(train)\n",
    "clean_it(test)"
   ]
  },
  {
   "cell_type": "code",
   "execution_count": 21,
   "id": "19eaab45",
   "metadata": {
    "execution": {
     "iopub.execute_input": "2022-10-18T11:51:07.291097Z",
     "iopub.status.busy": "2022-10-18T11:51:07.290664Z",
     "iopub.status.idle": "2022-10-18T11:51:07.297924Z",
     "shell.execute_reply": "2022-10-18T11:51:07.296733Z"
    },
    "id": "_JrKLecr5KcG",
    "papermill": {
     "duration": 0.032932,
     "end_time": "2022-10-18T11:51:07.300313",
     "exception": false,
     "start_time": "2022-10-18T11:51:07.267381",
     "status": "completed"
    },
    "tags": []
   },
   "outputs": [],
   "source": [
    "def generate_ngrams(text,ngram):\n",
    "    stop = set(stopwords.words('english'))\n",
    "    text = ' '.join(word for word in text.split(' ') if word not in stop)\n",
    "    words = [word for word in text.split(\" \")]  \n",
    "    temp = zip(*[words[i:] for i in range(0,ngram)])\n",
    "    ans=[' '.join(ngram) for ngram in temp]\n",
    "    return ans"
   ]
  },
  {
   "cell_type": "code",
   "execution_count": 22,
   "id": "c883cb4a",
   "metadata": {
    "execution": {
     "iopub.execute_input": "2022-10-18T11:51:07.348300Z",
     "iopub.status.busy": "2022-10-18T11:51:07.347885Z",
     "iopub.status.idle": "2022-10-18T11:51:07.526602Z",
     "shell.execute_reply": "2022-10-18T11:51:07.525389Z"
    },
    "id": "EHu5n4v-LbSO",
    "papermill": {
     "duration": 0.206798,
     "end_time": "2022-10-18T11:51:07.529396",
     "exception": false,
     "start_time": "2022-10-18T11:51:07.322598",
     "status": "completed"
    },
    "tags": []
   },
   "outputs": [],
   "source": [
    "grams = []\n",
    "for i in range(len(train)):\n",
    "    grams.extend(generate_ngrams(train['Poem'][i],3))    "
   ]
  },
  {
   "cell_type": "code",
   "execution_count": 23,
   "id": "751d0ebf",
   "metadata": {
    "execution": {
     "iopub.execute_input": "2022-10-18T11:51:07.575738Z",
     "iopub.status.busy": "2022-10-18T11:51:07.575291Z",
     "iopub.status.idle": "2022-10-18T11:51:07.976265Z",
     "shell.execute_reply": "2022-10-18T11:51:07.975382Z"
    },
    "id": "39jrnegVNR94",
    "outputId": "b9949e96-4c99-4996-8894-00555fb4094d",
    "papermill": {
     "duration": 0.42688,
     "end_time": "2022-10-18T11:51:07.978424",
     "exception": false,
     "start_time": "2022-10-18T11:51:07.551544",
     "status": "completed"
    },
    "tags": []
   },
   "outputs": [
    {
     "data": {
      "image/png": "[encoded data removed]",
      "text/plain": [
       "<Figure size 432x288 with 1 Axes>"
      ]
     },
     "metadata": {
      "needs_background": "light"
     },
     "output_type": "display_data"
    },
    {
     "data": {
      "text/plain": [
       "<AxesSubplot:xlabel='Samples', ylabel='Counts'>"
      ]
     },
     "execution_count": 23,
     "metadata": {},
     "output_type": "execute_result"
    }
   ],
   "source": [
    "fdist = nltk.FreqDist(grams)\n",
    "fdist.plot(30)"
   ]
  },
  {
   "cell_type": "markdown",
   "id": "5ad93022",
   "metadata": {
    "id": "FHwApWqlRzUZ",
    "papermill": {
     "duration": 0.022898,
     "end_time": "2022-10-18T11:51:08.024630",
     "exception": false,
     "start_time": "2022-10-18T11:51:08.001732",
     "status": "completed"
    },
    "tags": []
   },
   "source": [
    "# Word Embeddings"
   ]
  },
  {
   "cell_type": "markdown",
   "id": "925d04e2",
   "metadata": {
    "papermill": {
     "duration": 0.022594,
     "end_time": "2022-10-18T11:51:08.070273",
     "exception": false,
     "start_time": "2022-10-18T11:51:08.047679",
     "status": "completed"
    },
    "tags": []
   },
   "source": [
    "Not much here, really. Just wanted to look a for a paveway towards Information Retreival wherein if some query is provided, the model would provide similar documents as its output. However, my knowledge pertaining to Word2Vec isn't that far fetched hence had to settle with similar words and stuff."
   ]
  },
  {
   "cell_type": "code",
   "execution_count": 24,
   "id": "39afefb7",
   "metadata": {
    "execution": {
     "iopub.execute_input": "2022-10-18T11:51:08.118861Z",
     "iopub.status.busy": "2022-10-18T11:51:08.117841Z",
     "iopub.status.idle": "2022-10-18T11:51:08.124000Z",
     "shell.execute_reply": "2022-10-18T11:51:08.123177Z"
    },
    "id": "222M2Sb-R08q",
    "papermill": {
     "duration": 0.032866,
     "end_time": "2022-10-18T11:51:08.126273",
     "exception": false,
     "start_time": "2022-10-18T11:51:08.093407",
     "status": "completed"
    },
    "tags": []
   },
   "outputs": [],
   "source": [
    "cores = multiprocessing.cpu_count() \n",
    "\n",
    "w2v_model = Word2Vec(min_count = 20,\n",
    "                     window = 2,\n",
    "                     vector_size = 300,\n",
    "                     sample = 6e-5, \n",
    "                     alpha = 0.03, \n",
    "                     min_alpha = 0.0007, \n",
    "                     negative = 20,\n",
    "                     workers = cores-1)"
   ]
  },
  {
   "cell_type": "markdown",
   "id": "1291bae1",
   "metadata": {
    "papermill": {
     "duration": 0.022781,
     "end_time": "2022-10-18T11:51:08.173454",
     "exception": false,
     "start_time": "2022-10-18T11:51:08.150673",
     "status": "completed"
    },
    "tags": []
   },
   "source": [
    "Building the vocab"
   ]
  },
  {
   "cell_type": "code",
   "execution_count": 25,
   "id": "0270452a",
   "metadata": {
    "execution": {
     "iopub.execute_input": "2022-10-18T11:51:08.221204Z",
     "iopub.status.busy": "2022-10-18T11:51:08.220164Z",
     "iopub.status.idle": "2022-10-18T11:51:08.283499Z",
     "shell.execute_reply": "2022-10-18T11:51:08.281622Z"
    },
    "id": "dXY305KgTW0W",
    "outputId": "ac17d5f2-f6a0-4a99-e9fa-6f1cc7353dd4",
    "papermill": {
     "duration": 0.089959,
     "end_time": "2022-10-18T11:51:08.286282",
     "exception": false,
     "start_time": "2022-10-18T11:51:08.196323",
     "status": "completed"
    },
    "tags": []
   },
   "outputs": [
    {
     "name": "stdout",
     "output_type": "stream",
     "text": [
      "Time to build vocab: 0.0 mins\n"
     ]
    }
   ],
   "source": [
    "t = time()\n",
    "w2v_model.build_vocab([g.split() for g in grams] , progress_per = 10000)\n",
    "print('Time to build vocab: {} mins'.format(round((time() - t) / 60, 2)))"
   ]
  },
  {
   "cell_type": "code",
   "execution_count": 26,
   "id": "bb49cd31",
   "metadata": {
    "execution": {
     "iopub.execute_input": "2022-10-18T11:51:08.333794Z",
     "iopub.status.busy": "2022-10-18T11:51:08.333358Z",
     "iopub.status.idle": "2022-10-18T11:51:08.340925Z",
     "shell.execute_reply": "2022-10-18T11:51:08.339601Z"
    },
    "id": "mQCHt4QwwE9Q",
    "outputId": "ea895a50-5086-4deb-f957-070478ca9528",
    "papermill": {
     "duration": 0.034263,
     "end_time": "2022-10-18T11:51:08.343447",
     "exception": false,
     "start_time": "2022-10-18T11:51:08.309184",
     "status": "completed"
    },
    "tags": []
   },
   "outputs": [
    {
     "data": {
      "text/plain": [
       "476"
      ]
     },
     "execution_count": 26,
     "metadata": {},
     "output_type": "execute_result"
    }
   ],
   "source": [
    "len(w2v_model.wv.key_to_index.keys())"
   ]
  },
  {
   "cell_type": "markdown",
   "id": "c1e3273a",
   "metadata": {
    "papermill": {
     "duration": 0.022654,
     "end_time": "2022-10-18T11:51:08.389513",
     "exception": false,
     "start_time": "2022-10-18T11:51:08.366859",
     "status": "completed"
    },
    "tags": []
   },
   "source": [
    "Parameters of the training:\n",
    "* total_examples = int - Count of sentences\n",
    "* epochs = int - Number of iterations over the corpus"
   ]
  },
  {
   "cell_type": "code",
   "execution_count": 27,
   "id": "33888be3",
   "metadata": {
    "execution": {
     "iopub.execute_input": "2022-10-18T11:51:08.437930Z",
     "iopub.status.busy": "2022-10-18T11:51:08.436796Z",
     "iopub.status.idle": "2022-10-18T11:51:08.996468Z",
     "shell.execute_reply": "2022-10-18T11:51:08.995533Z"
    },
    "id": "CYs_jAIXTecD",
    "outputId": "33ad6315-c89d-4a0c-a140-bd10bc8cad39",
    "papermill": {
     "duration": 0.586302,
     "end_time": "2022-10-18T11:51:08.998790",
     "exception": false,
     "start_time": "2022-10-18T11:51:08.412488",
     "status": "completed"
    },
    "tags": []
   },
   "outputs": [
    {
     "name": "stdout",
     "output_type": "stream",
     "text": [
      "Time to train the model: 0.01 mins\n"
     ]
    }
   ],
   "source": [
    "t = time()\n",
    "w2v_model.train(train.Poem, total_examples = w2v_model.corpus_count, epochs = 30, report_delay = 1)\n",
    "print('Time to train the model: {} mins'.format(round((time() - t) / 60, 2)))"
   ]
  },
  {
   "cell_type": "markdown",
   "id": "8e33dc7f",
   "metadata": {
    "papermill": {
     "duration": 0.022822,
     "end_time": "2022-10-18T11:51:09.044913",
     "exception": false,
     "start_time": "2022-10-18T11:51:09.022091",
     "status": "completed"
    },
    "tags": []
   },
   "source": [
    "As we do not plan to train the model any further, we are calling init_sims(), which will make the model much more memory-efficient"
   ]
  },
  {
   "cell_type": "code",
   "execution_count": 28,
   "id": "aee3f8cf",
   "metadata": {
    "execution": {
     "iopub.execute_input": "2022-10-18T11:51:09.092842Z",
     "iopub.status.busy": "2022-10-18T11:51:09.092054Z",
     "iopub.status.idle": "2022-10-18T11:51:09.097674Z",
     "shell.execute_reply": "2022-10-18T11:51:09.096847Z"
    },
    "id": "6nMaJ5p-TgL-",
    "papermill": {
     "duration": 0.031932,
     "end_time": "2022-10-18T11:51:09.099834",
     "exception": false,
     "start_time": "2022-10-18T11:51:09.067902",
     "status": "completed"
    },
    "tags": []
   },
   "outputs": [],
   "source": [
    "w2v_model.init_sims(replace=True)"
   ]
  },
  {
   "cell_type": "code",
   "execution_count": 29,
   "id": "1b5a65cf",
   "metadata": {
    "execution": {
     "iopub.execute_input": "2022-10-18T11:51:09.149638Z",
     "iopub.status.busy": "2022-10-18T11:51:09.149209Z",
     "iopub.status.idle": "2022-10-18T11:51:09.346718Z",
     "shell.execute_reply": "2022-10-18T11:51:09.345528Z"
    },
    "id": "rR4WkJTxTh2c",
    "papermill": {
     "duration": 0.226358,
     "end_time": "2022-10-18T11:51:09.349397",
     "exception": false,
     "start_time": "2022-10-18T11:51:09.123039",
     "status": "completed"
    },
    "tags": []
   },
   "outputs": [],
   "source": [
    "# Saving the model\n",
    "w2v_model.wv.save_word2vec_format('custom_glove_300d.txt')\n",
    "# Loading it\n",
    "w2v_model = KeyedVectors.load_word2vec_format('custom_glove_300d.txt')"
   ]
  },
  {
   "cell_type": "markdown",
   "id": "134114dd",
   "metadata": {
    "papermill": {
     "duration": 0.022672,
     "end_time": "2022-10-18T11:51:09.395290",
     "exception": false,
     "start_time": "2022-10-18T11:51:09.372618",
     "status": "completed"
    },
    "tags": []
   },
   "source": [
    "Most dissimilar terms"
   ]
  },
  {
   "cell_type": "code",
   "execution_count": 30,
   "id": "c5234355",
   "metadata": {
    "execution": {
     "iopub.execute_input": "2022-10-18T11:51:09.444295Z",
     "iopub.status.busy": "2022-10-18T11:51:09.442873Z",
     "iopub.status.idle": "2022-10-18T11:51:09.458488Z",
     "shell.execute_reply": "2022-10-18T11:51:09.456970Z"
    },
    "id": "JuWbzN9Xx-zN",
    "outputId": "b3111d84-5436-4cb3-d78b-df77bf1f2573",
    "papermill": {
     "duration": 0.043733,
     "end_time": "2022-10-18T11:51:09.462128",
     "exception": false,
     "start_time": "2022-10-18T11:51:09.418395",
     "status": "completed"
    },
    "tags": []
   },
   "outputs": [
    {
     "data": {
      "text/plain": [
       "[('go', 0.17124894261360168),\n",
       " ('first', 0.13902850449085236),\n",
       " ('quiet', 0.1364378035068512),\n",
       " ('toward', 0.13520337641239166),\n",
       " ('think', 0.13492384552955627),\n",
       " ('part', 0.1275189220905304),\n",
       " ('wind', 0.1263001710176468),\n",
       " ('white', 0.12049804627895355),\n",
       " ('fence', 0.11774977296590805),\n",
       " ('throat', 0.11739947646856308)]"
      ]
     },
     "execution_count": 30,
     "metadata": {},
     "output_type": "execute_result"
    }
   ],
   "source": [
    "w2v_model.most_similar(negative=[\"blue\"])"
   ]
  },
  {
   "cell_type": "markdown",
   "id": "89784258",
   "metadata": {
    "papermill": {
     "duration": 0.038289,
     "end_time": "2022-10-18T11:51:09.539271",
     "exception": false,
     "start_time": "2022-10-18T11:51:09.500982",
     "status": "completed"
    },
    "tags": []
   },
   "source": [
    "Most similar terms"
   ]
  },
  {
   "cell_type": "code",
   "execution_count": 31,
   "id": "86bf25e9",
   "metadata": {
    "execution": {
     "iopub.execute_input": "2022-10-18T11:51:09.600534Z",
     "iopub.status.busy": "2022-10-18T11:51:09.599389Z",
     "iopub.status.idle": "2022-10-18T11:51:09.610945Z",
     "shell.execute_reply": "2022-10-18T11:51:09.609779Z"
    },
    "id": "uR9MjR4FyBbn",
    "outputId": "b0378f24-4fa3-4cf1-8ea9-f2fbc3379643",
    "papermill": {
     "duration": 0.039086,
     "end_time": "2022-10-18T11:51:09.614019",
     "exception": false,
     "start_time": "2022-10-18T11:51:09.574933",
     "status": "completed"
    },
    "tags": []
   },
   "outputs": [
    {
     "data": {
      "text/plain": [
       "[('open', 0.19612173736095428),\n",
       " ('looking', 0.1735713928937912),\n",
       " ('person', 0.16421818733215332),\n",
       " ('walk', 0.15566405653953552),\n",
       " ('island', 0.14508208632469177),\n",
       " ('girl', 0.13195320963859558),\n",
       " ('may', 0.12884578108787537),\n",
       " ('come', 0.1280348300933838),\n",
       " ('came', 0.11913197487592697),\n",
       " ('bring', 0.11674483120441437)]"
      ]
     },
     "execution_count": 31,
     "metadata": {},
     "output_type": "execute_result"
    }
   ],
   "source": [
    "w2v_model.most_similar(positive=[\"dark\"])"
   ]
  },
  {
   "cell_type": "markdown",
   "id": "76fcd9d6",
   "metadata": {
    "papermill": {
     "duration": 0.038027,
     "end_time": "2022-10-18T11:51:09.690558",
     "exception": false,
     "start_time": "2022-10-18T11:51:09.652531",
     "status": "completed"
    },
    "tags": []
   },
   "source": [
    "Most similar to word"
   ]
  },
  {
   "cell_type": "code",
   "execution_count": 32,
   "id": "ef4ff596",
   "metadata": {
    "execution": {
     "iopub.execute_input": "2022-10-18T11:51:09.752382Z",
     "iopub.status.busy": "2022-10-18T11:51:09.751601Z",
     "iopub.status.idle": "2022-10-18T11:51:09.763656Z",
     "shell.execute_reply": "2022-10-18T11:51:09.762416Z"
    },
    "id": "orWBsZ5WyEq0",
    "outputId": "b7175ee9-be8c-4a95-fec8-84cb14dab76c",
    "papermill": {
     "duration": 0.039824,
     "end_time": "2022-10-18T11:51:09.766929",
     "exception": false,
     "start_time": "2022-10-18T11:51:09.727105",
     "status": "completed"
    },
    "tags": []
   },
   "outputs": [
    {
     "data": {
      "text/plain": [
       "[('mouth', 0.15086530148983002),\n",
       " ('tell', 0.14985491335391998),\n",
       " ('make', 0.14567898213863373),\n",
       " ('bed', 0.14198017120361328),\n",
       " ('build', 0.1349385380744934),\n",
       " ('men', 0.13320991396903992),\n",
       " ('sometimes', 0.1297365427017212),\n",
       " ('parking', 0.12646041810512543),\n",
       " ('light', 0.12476848065853119),\n",
       " ('lake', 0.11796577274799347)]"
      ]
     },
     "execution_count": 32,
     "metadata": {},
     "output_type": "execute_result"
    }
   ],
   "source": [
    "w2v_model.similar_by_word('child')"
   ]
  },
  {
   "cell_type": "markdown",
   "id": "cecce558",
   "metadata": {
    "id": "MTCujqxN-7ug",
    "papermill": {
     "duration": 0.038386,
     "end_time": "2022-10-18T11:51:09.844292",
     "exception": false,
     "start_time": "2022-10-18T11:51:09.805906",
     "status": "completed"
    },
    "tags": []
   },
   "source": [
    "# Topic Modelling with LDA"
   ]
  },
  {
   "cell_type": "markdown",
   "id": "3d980501",
   "metadata": {
    "papermill": {
     "duration": 0.023103,
     "end_time": "2022-10-18T11:51:09.903539",
     "exception": false,
     "start_time": "2022-10-18T11:51:09.880436",
     "status": "completed"
    },
    "tags": []
   },
   "source": [
    "The reason behind trying Topic Modelling out was to discover the themes that are inherently hidden by analyzing the words of the original texts."
   ]
  },
  {
   "cell_type": "code",
   "execution_count": 33,
   "id": "9c6cff05",
   "metadata": {
    "execution": {
     "iopub.execute_input": "2022-10-18T11:51:09.952289Z",
     "iopub.status.busy": "2022-10-18T11:51:09.951841Z",
     "iopub.status.idle": "2022-10-18T11:51:10.006219Z",
     "shell.execute_reply": "2022-10-18T11:51:10.005144Z"
    },
    "id": "e_TUIpICCCU7",
    "papermill": {
     "duration": 0.082161,
     "end_time": "2022-10-18T11:51:10.009227",
     "exception": false,
     "start_time": "2022-10-18T11:51:09.927066",
     "status": "completed"
    },
    "tags": []
   },
   "outputs": [],
   "source": [
    "stop = set(stopwords.words('english'))\n",
    "vect = TfidfVectorizer(stop_words = stop, max_features = 1000)\n",
    "vect_text = vect.fit_transform(train['Poem'])"
   ]
  },
  {
   "cell_type": "code",
   "execution_count": 34,
   "id": "a9582063",
   "metadata": {
    "execution": {
     "iopub.execute_input": "2022-10-18T11:51:10.058497Z",
     "iopub.status.busy": "2022-10-18T11:51:10.058103Z",
     "iopub.status.idle": "2022-10-18T11:51:50.970098Z",
     "shell.execute_reply": "2022-10-18T11:51:50.968964Z"
    },
    "id": "8rPIQGwpGoyR",
    "outputId": "acd37847-5dd5-44c7-c527-f7e94f2f26b6",
    "papermill": {
     "duration": 40.962203,
     "end_time": "2022-10-18T11:51:50.995485",
     "exception": false,
     "start_time": "2022-10-18T11:51:10.033282",
     "status": "completed"
    },
    "tags": []
   },
   "outputs": [
    {
     "data": {
      "text/plain": [
       "GridSearchCV(estimator=LatentDirichletAllocation(),\n",
       "             param_grid={'learning_decay': [0.5, 0.7],\n",
       "                         'n_components': [0, 2, 4, 8, 12]})"
      ]
     },
     "execution_count": 34,
     "metadata": {},
     "output_type": "execute_result"
    }
   ],
   "source": [
    "search_params = {'n_components': [0, 2, 4, 8, 12], 'learning_decay': [.5, .7]}\n",
    "lda = LatentDirichletAllocation()\n",
    "model = GridSearchCV(lda, param_grid=search_params)\n",
    "model.fit(vect_text)"
   ]
  },
  {
   "cell_type": "code",
   "execution_count": 35,
   "id": "0967db84",
   "metadata": {
    "execution": {
     "iopub.execute_input": "2022-10-18T11:51:51.044769Z",
     "iopub.status.busy": "2022-10-18T11:51:51.044316Z",
     "iopub.status.idle": "2022-10-18T11:51:51.051492Z",
     "shell.execute_reply": "2022-10-18T11:51:51.050397Z"
    },
    "id": "IQtbFQ35G9gY",
    "outputId": "ae6b9402-b127-46eb-93f4-a82680aeb229",
    "papermill": {
     "duration": 0.034919,
     "end_time": "2022-10-18T11:51:51.054130",
     "exception": false,
     "start_time": "2022-10-18T11:51:51.019211",
     "status": "completed"
    },
    "tags": []
   },
   "outputs": [
    {
     "data": {
      "text/plain": [
       "{'learning_decay': 0.5, 'n_components': 2}"
      ]
     },
     "execution_count": 35,
     "metadata": {},
     "output_type": "execute_result"
    }
   ],
   "source": [
    "model.best_params_"
   ]
  },
  {
   "cell_type": "code",
   "execution_count": 36,
   "id": "649d4dfa",
   "metadata": {
    "execution": {
     "iopub.execute_input": "2022-10-18T11:51:51.103822Z",
     "iopub.status.busy": "2022-10-18T11:51:51.103164Z",
     "iopub.status.idle": "2022-10-18T11:51:52.575883Z",
     "shell.execute_reply": "2022-10-18T11:51:52.574612Z"
    },
    "id": "IcQFv2bNHK-A",
    "outputId": "19e90574-103d-48f6-bed5-8131ed5333cc",
    "papermill": {
     "duration": 1.5005,
     "end_time": "2022-10-18T11:51:52.578524",
     "exception": false,
     "start_time": "2022-10-18T11:51:51.078024",
     "status": "completed"
    },
    "tags": []
   },
   "outputs": [
    {
     "name": "stdout",
     "output_type": "stream",
     "text": [
      "Topic 0: wave back come one hand white night love way like\n",
      "\n",
      "\n",
      "\n",
      "\n",
      "Topic 1: always thing deep mean first dying one dream never get\n",
      "\n",
      "\n",
      "\n",
      "\n",
      "Topic 2: would like see one say heart let love tree mother\n",
      "\n",
      "\n",
      "\n",
      "\n",
      "Topic 3: time day long like still red snow child one winter\n",
      "\n",
      "\n",
      "\n",
      "\n"
     ]
    }
   ],
   "source": [
    "n_topics = 4\n",
    "model_lda = LatentDirichletAllocation(n_components=n_topics,random_state=0)\n",
    "model_lda.fit(vect_text)\n",
    "\n",
    "# Print the top 10 words per topic\n",
    "n_words = 10\n",
    "feature_names = vect.get_feature_names()\n",
    "\n",
    "topic_list = []\n",
    "for topic_idx, topic in enumerate(model_lda.components_):\n",
    "    top_n = [feature_names[i]\n",
    "              for i in topic.argsort()\n",
    "               [-n_words:]][::-1]\n",
    "    \n",
    "    top_features = ' '.join(top_n)\n",
    "    \n",
    "    topic_list.append(f\"topic_{'_'.join(top_n[:3])}\") \n",
    "\n",
    "    print(f\"Topic {topic_idx}: {top_features}\")\n",
    "    print('\\n\\n\\n')\n",
    "    \n",
    "topic_result = model_lda.transform(vect_text)\n",
    "train['topic']  = topic_result.argmax(axis=1)"
   ]
  },
  {
   "cell_type": "markdown",
   "id": "2b841efc",
   "metadata": {
    "papermill": {
     "duration": 0.023631,
     "end_time": "2022-10-18T11:51:52.625772",
     "exception": false,
     "start_time": "2022-10-18T11:51:52.602141",
     "status": "completed"
    },
    "tags": []
   },
   "source": [
    "These are the four different topics that the poems got classified with."
   ]
  },
  {
   "cell_type": "code",
   "execution_count": 37,
   "id": "cf9d1c45",
   "metadata": {
    "execution": {
     "iopub.execute_input": "2022-10-18T11:51:52.675097Z",
     "iopub.status.busy": "2022-10-18T11:51:52.674670Z",
     "iopub.status.idle": "2022-10-18T11:51:52.694642Z",
     "shell.execute_reply": "2022-10-18T11:51:52.693499Z"
    },
    "papermill": {
     "duration": 0.047486,
     "end_time": "2022-10-18T11:51:52.696999",
     "exception": false,
     "start_time": "2022-10-18T11:51:52.649513",
     "status": "completed"
    },
    "tags": []
   },
   "outputs": [
    {
     "data": {
      "text/html": [
       "<div>\n",
       "<style scoped>\n",
       "    .dataframe tbody tr th:only-of-type {\n",
       "        vertical-align: middle;\n",
       "    }\n",
       "\n",
       "    .dataframe tbody tr th {\n",
       "        vertical-align: top;\n",
       "    }\n",
       "\n",
       "    .dataframe thead th {\n",
       "        text-align: right;\n",
       "    }\n",
       "</style>\n",
       "<table border=\"1\" class=\"dataframe\">\n",
       "  <thead>\n",
       "    <tr style=\"text-align: right;\">\n",
       "      <th></th>\n",
       "      <th>index</th>\n",
       "      <th>Genre</th>\n",
       "      <th>Poem</th>\n",
       "      <th>Length</th>\n",
       "      <th>count</th>\n",
       "      <th>char_count</th>\n",
       "      <th>nwords</th>\n",
       "      <th>stop_words_len</th>\n",
       "      <th>polarity</th>\n",
       "      <th>topic</th>\n",
       "    </tr>\n",
       "  </thead>\n",
       "  <tbody>\n",
       "    <tr>\n",
       "      <th>0</th>\n",
       "      <td>1</td>\n",
       "      <td>Music</td>\n",
       "      <td>thick brushthey spend hottest part day soaking...</td>\n",
       "      <td>205</td>\n",
       "      <td>26</td>\n",
       "      <td>205</td>\n",
       "      <td>50</td>\n",
       "      <td>10</td>\n",
       "      <td>-0.300000</td>\n",
       "      <td>2</td>\n",
       "    </tr>\n",
       "    <tr>\n",
       "      <th>1</th>\n",
       "      <td>2</td>\n",
       "      <td>Music</td>\n",
       "      <td>storm generous something easy surrender sittin...</td>\n",
       "      <td>191</td>\n",
       "      <td>26</td>\n",
       "      <td>191</td>\n",
       "      <td>50</td>\n",
       "      <td>14</td>\n",
       "      <td>-0.033333</td>\n",
       "      <td>2</td>\n",
       "    </tr>\n",
       "    <tr>\n",
       "      <th>2</th>\n",
       "      <td>3</td>\n",
       "      <td>Music</td>\n",
       "      <td>ana mendieta carry around matin star hold fore...</td>\n",
       "      <td>242</td>\n",
       "      <td>42</td>\n",
       "      <td>242</td>\n",
       "      <td>43</td>\n",
       "      <td>12</td>\n",
       "      <td>0.000000</td>\n",
       "      <td>2</td>\n",
       "    </tr>\n",
       "    <tr>\n",
       "      <th>3</th>\n",
       "      <td>4</td>\n",
       "      <td>Music</td>\n",
       "      <td>aja sherrard portent may memory wallace steven...</td>\n",
       "      <td>209</td>\n",
       "      <td>36</td>\n",
       "      <td>209</td>\n",
       "      <td>37</td>\n",
       "      <td>15</td>\n",
       "      <td>-0.291667</td>\n",
       "      <td>1</td>\n",
       "    </tr>\n",
       "    <tr>\n",
       "      <th>4</th>\n",
       "      <td>5</td>\n",
       "      <td>Music</td>\n",
       "      <td>bob marley bavaria november brilliant morning ...</td>\n",
       "      <td>197</td>\n",
       "      <td>36</td>\n",
       "      <td>197</td>\n",
       "      <td>37</td>\n",
       "      <td>15</td>\n",
       "      <td>0.650000</td>\n",
       "      <td>1</td>\n",
       "    </tr>\n",
       "    <tr>\n",
       "      <th>...</th>\n",
       "      <td>...</td>\n",
       "      <td>...</td>\n",
       "      <td>...</td>\n",
       "      <td>...</td>\n",
       "      <td>...</td>\n",
       "      <td>...</td>\n",
       "      <td>...</td>\n",
       "      <td>...</td>\n",
       "      <td>...</td>\n",
       "      <td>...</td>\n",
       "    </tr>\n",
       "    <tr>\n",
       "      <th>830</th>\n",
       "      <td>836</td>\n",
       "      <td>Environment</td>\n",
       "      <td>make much fragmentary blue bird butterfly flow...</td>\n",
       "      <td>306</td>\n",
       "      <td>56</td>\n",
       "      <td>306</td>\n",
       "      <td>56</td>\n",
       "      <td>18</td>\n",
       "      <td>0.057500</td>\n",
       "      <td>2</td>\n",
       "    </tr>\n",
       "    <tr>\n",
       "      <th>831</th>\n",
       "      <td>837</td>\n",
       "      <td>Environment</td>\n",
       "      <td>woman wish know name could silence house front...</td>\n",
       "      <td>253</td>\n",
       "      <td>46</td>\n",
       "      <td>253</td>\n",
       "      <td>46</td>\n",
       "      <td>18</td>\n",
       "      <td>-0.166667</td>\n",
       "      <td>2</td>\n",
       "    </tr>\n",
       "    <tr>\n",
       "      <th>832</th>\n",
       "      <td>838</td>\n",
       "      <td>Environment</td>\n",
       "      <td>yonder kiosk beside creek paddle swift caque t...</td>\n",
       "      <td>237</td>\n",
       "      <td>41</td>\n",
       "      <td>237</td>\n",
       "      <td>41</td>\n",
       "      <td>16</td>\n",
       "      <td>0.250000</td>\n",
       "      <td>1</td>\n",
       "    </tr>\n",
       "    <tr>\n",
       "      <th>833</th>\n",
       "      <td>839</td>\n",
       "      <td>Environment</td>\n",
       "      <td>come fetch work tonight supper table see leave...</td>\n",
       "      <td>291</td>\n",
       "      <td>56</td>\n",
       "      <td>291</td>\n",
       "      <td>50</td>\n",
       "      <td>20</td>\n",
       "      <td>0.170000</td>\n",
       "      <td>2</td>\n",
       "    </tr>\n",
       "    <tr>\n",
       "      <th>834</th>\n",
       "      <td>840</td>\n",
       "      <td>Environment</td>\n",
       "      <td>see water glass air plenty liquid water moving...</td>\n",
       "      <td>347</td>\n",
       "      <td>59</td>\n",
       "      <td>347</td>\n",
       "      <td>59</td>\n",
       "      <td>29</td>\n",
       "      <td>0.107143</td>\n",
       "      <td>2</td>\n",
       "    </tr>\n",
       "  </tbody>\n",
       "</table>\n",
       "<p>835 rows × 10 columns</p>\n",
       "</div>"
      ],
      "text/plain": [
       "     index        Genre                                               Poem  \\\n",
       "0        1        Music  thick brushthey spend hottest part day soaking...   \n",
       "1        2        Music  storm generous something easy surrender sittin...   \n",
       "2        3        Music  ana mendieta carry around matin star hold fore...   \n",
       "3        4        Music  aja sherrard portent may memory wallace steven...   \n",
       "4        5        Music  bob marley bavaria november brilliant morning ...   \n",
       "..     ...          ...                                                ...   \n",
       "830    836  Environment  make much fragmentary blue bird butterfly flow...   \n",
       "831    837  Environment  woman wish know name could silence house front...   \n",
       "832    838  Environment  yonder kiosk beside creek paddle swift caque t...   \n",
       "833    839  Environment  come fetch work tonight supper table see leave...   \n",
       "834    840  Environment  see water glass air plenty liquid water moving...   \n",
       "\n",
       "     Length  count  char_count  nwords  stop_words_len  polarity  topic  \n",
       "0       205     26         205      50              10 -0.300000      2  \n",
       "1       191     26         191      50              14 -0.033333      2  \n",
       "2       242     42         242      43              12  0.000000      2  \n",
       "3       209     36         209      37              15 -0.291667      1  \n",
       "4       197     36         197      37              15  0.650000      1  \n",
       "..      ...    ...         ...     ...             ...       ...    ...  \n",
       "830     306     56         306      56              18  0.057500      2  \n",
       "831     253     46         253      46              18 -0.166667      2  \n",
       "832     237     41         237      41              16  0.250000      1  \n",
       "833     291     56         291      50              20  0.170000      2  \n",
       "834     347     59         347      59              29  0.107143      2  \n",
       "\n",
       "[835 rows x 10 columns]"
      ]
     },
     "execution_count": 37,
     "metadata": {},
     "output_type": "execute_result"
    }
   ],
   "source": [
    "train"
   ]
  },
  {
   "cell_type": "code",
   "execution_count": 38,
   "id": "95b17ce4",
   "metadata": {
    "execution": {
     "iopub.execute_input": "2022-10-18T11:51:52.749152Z",
     "iopub.status.busy": "2022-10-18T11:51:52.748217Z",
     "iopub.status.idle": "2022-10-18T11:51:52.759315Z",
     "shell.execute_reply": "2022-10-18T11:51:52.758224Z"
    },
    "papermill": {
     "duration": 0.039448,
     "end_time": "2022-10-18T11:51:52.761792",
     "exception": false,
     "start_time": "2022-10-18T11:51:52.722344",
     "status": "completed"
    },
    "tags": []
   },
   "outputs": [
    {
     "data": {
      "text/plain": [
       "3      aja sherrard portent may memory wallace steven...\n",
       "4      bob marley bavaria november brilliant morning ...\n",
       "15     lush field shadow static hush radial itch prim...\n",
       "28     exhibition gravedad los asuntos mexican russia...\n",
       "30     willie cole artist eye catch breath fire lifti...\n",
       "                             ...                        \n",
       "809    today make poet word ownand utter plaintive un...\n",
       "818    still grows winter fingernail witch femmes gre...\n",
       "822    young hid porch star throat got little older m...\n",
       "823    young dwelt valeby misty fen rang night thus m...\n",
       "832    yonder kiosk beside creek paddle swift caque t...\n",
       "Name: Poem, Length: 121, dtype: object"
      ]
     },
     "execution_count": 38,
     "metadata": {},
     "output_type": "execute_result"
    }
   ],
   "source": [
    "train[train.topic == 1]['Poem']"
   ]
  },
  {
   "cell_type": "code",
   "execution_count": 39,
   "id": "499d8361",
   "metadata": {
    "execution": {
     "iopub.execute_input": "2022-10-18T11:51:52.813113Z",
     "iopub.status.busy": "2022-10-18T11:51:52.811947Z",
     "iopub.status.idle": "2022-10-18T11:51:52.826649Z",
     "shell.execute_reply": "2022-10-18T11:51:52.825472Z"
    },
    "id": "Bn2ix-9nJg7m",
    "outputId": "fea37d1f-caf8-4389-d909-4fcd97e24b36",
    "papermill": {
     "duration": 0.043113,
     "end_time": "2022-10-18T11:51:52.829262",
     "exception": false,
     "start_time": "2022-10-18T11:51:52.786149",
     "status": "completed"
    },
    "tags": []
   },
   "outputs": [
    {
     "data": {
      "text/html": [
       "<div>\n",
       "<style scoped>\n",
       "    .dataframe tbody tr th:only-of-type {\n",
       "        vertical-align: middle;\n",
       "    }\n",
       "\n",
       "    .dataframe tbody tr th {\n",
       "        vertical-align: top;\n",
       "    }\n",
       "\n",
       "    .dataframe thead th {\n",
       "        text-align: right;\n",
       "    }\n",
       "</style>\n",
       "<table border=\"1\" class=\"dataframe\">\n",
       "  <thead>\n",
       "    <tr style=\"text-align: right;\">\n",
       "      <th></th>\n",
       "      <th>index</th>\n",
       "      <th>Genre</th>\n",
       "      <th>Poem</th>\n",
       "      <th>Length</th>\n",
       "      <th>count</th>\n",
       "      <th>char_count</th>\n",
       "      <th>nwords</th>\n",
       "      <th>stop_words_len</th>\n",
       "      <th>polarity</th>\n",
       "      <th>topic</th>\n",
       "    </tr>\n",
       "  </thead>\n",
       "  <tbody>\n",
       "    <tr>\n",
       "      <th>0</th>\n",
       "      <td>1</td>\n",
       "      <td>Music</td>\n",
       "      <td>thick brushthey spend hottest part day soaking...</td>\n",
       "      <td>205</td>\n",
       "      <td>26</td>\n",
       "      <td>205</td>\n",
       "      <td>50</td>\n",
       "      <td>10</td>\n",
       "      <td>-0.300000</td>\n",
       "      <td>2</td>\n",
       "    </tr>\n",
       "    <tr>\n",
       "      <th>1</th>\n",
       "      <td>2</td>\n",
       "      <td>Music</td>\n",
       "      <td>storm generous something easy surrender sittin...</td>\n",
       "      <td>191</td>\n",
       "      <td>26</td>\n",
       "      <td>191</td>\n",
       "      <td>50</td>\n",
       "      <td>14</td>\n",
       "      <td>-0.033333</td>\n",
       "      <td>2</td>\n",
       "    </tr>\n",
       "    <tr>\n",
       "      <th>2</th>\n",
       "      <td>3</td>\n",
       "      <td>Music</td>\n",
       "      <td>ana mendieta carry around matin star hold fore...</td>\n",
       "      <td>242</td>\n",
       "      <td>42</td>\n",
       "      <td>242</td>\n",
       "      <td>43</td>\n",
       "      <td>12</td>\n",
       "      <td>0.000000</td>\n",
       "      <td>2</td>\n",
       "    </tr>\n",
       "    <tr>\n",
       "      <th>3</th>\n",
       "      <td>4</td>\n",
       "      <td>Music</td>\n",
       "      <td>aja sherrard portent may memory wallace steven...</td>\n",
       "      <td>209</td>\n",
       "      <td>36</td>\n",
       "      <td>209</td>\n",
       "      <td>37</td>\n",
       "      <td>15</td>\n",
       "      <td>-0.291667</td>\n",
       "      <td>1</td>\n",
       "    </tr>\n",
       "    <tr>\n",
       "      <th>4</th>\n",
       "      <td>5</td>\n",
       "      <td>Music</td>\n",
       "      <td>bob marley bavaria november brilliant morning ...</td>\n",
       "      <td>197</td>\n",
       "      <td>36</td>\n",
       "      <td>197</td>\n",
       "      <td>37</td>\n",
       "      <td>15</td>\n",
       "      <td>0.650000</td>\n",
       "      <td>1</td>\n",
       "    </tr>\n",
       "  </tbody>\n",
       "</table>\n",
       "</div>"
      ],
      "text/plain": [
       "   index  Genre                                               Poem  Length  \\\n",
       "0      1  Music  thick brushthey spend hottest part day soaking...     205   \n",
       "1      2  Music  storm generous something easy surrender sittin...     191   \n",
       "2      3  Music  ana mendieta carry around matin star hold fore...     242   \n",
       "3      4  Music  aja sherrard portent may memory wallace steven...     209   \n",
       "4      5  Music  bob marley bavaria november brilliant morning ...     197   \n",
       "\n",
       "   count  char_count  nwords  stop_words_len  polarity  topic  \n",
       "0     26         205      50              10 -0.300000      2  \n",
       "1     26         191      50              14 -0.033333      2  \n",
       "2     42         242      43              12  0.000000      2  \n",
       "3     36         209      37              15 -0.291667      1  \n",
       "4     36         197      37              15  0.650000      1  "
      ]
     },
     "execution_count": 39,
     "metadata": {},
     "output_type": "execute_result"
    }
   ],
   "source": [
    "train.head()"
   ]
  },
  {
   "cell_type": "code",
   "execution_count": 40,
   "id": "02252786",
   "metadata": {
    "execution": {
     "iopub.execute_input": "2022-10-18T11:51:52.881134Z",
     "iopub.status.busy": "2022-10-18T11:51:52.879993Z",
     "iopub.status.idle": "2022-10-18T11:51:52.888123Z",
     "shell.execute_reply": "2022-10-18T11:51:52.887288Z"
    },
    "id": "Jprbz3PzJj0N",
    "outputId": "d2757bb3-1d11-41a5-d767-d2f694fa27b5",
    "papermill": {
     "duration": 0.036294,
     "end_time": "2022-10-18T11:51:52.890315",
     "exception": false,
     "start_time": "2022-10-18T11:51:52.854021",
     "status": "completed"
    },
    "tags": []
   },
   "outputs": [
    {
     "data": {
      "text/plain": [
       "Music          238\n",
       "Death          229\n",
       "Environment    227\n",
       "Affection      141\n",
       "Name: Genre, dtype: int64"
      ]
     },
     "execution_count": 40,
     "metadata": {},
     "output_type": "execute_result"
    }
   ],
   "source": [
    "train.Genre.value_counts()"
   ]
  },
  {
   "cell_type": "code",
   "execution_count": 41,
   "id": "02538adc",
   "metadata": {
    "execution": {
     "iopub.execute_input": "2022-10-18T11:51:52.942554Z",
     "iopub.status.busy": "2022-10-18T11:51:52.941404Z",
     "iopub.status.idle": "2022-10-18T11:51:52.949742Z",
     "shell.execute_reply": "2022-10-18T11:51:52.948872Z"
    },
    "id": "YdRsuzpsJqba",
    "outputId": "ee669f08-10db-484e-ceb8-8bf43cdfe548",
    "papermill": {
     "duration": 0.036733,
     "end_time": "2022-10-18T11:51:52.951997",
     "exception": false,
     "start_time": "2022-10-18T11:51:52.915264",
     "status": "completed"
    },
    "tags": []
   },
   "outputs": [
    {
     "data": {
      "text/plain": [
       "2    316\n",
       "3    255\n",
       "0    143\n",
       "1    121\n",
       "Name: topic, dtype: int64"
      ]
     },
     "execution_count": 41,
     "metadata": {},
     "output_type": "execute_result"
    }
   ],
   "source": [
    "train.topic.value_counts()"
   ]
  },
  {
   "cell_type": "markdown",
   "id": "1f7154bf",
   "metadata": {
    "papermill": {
     "duration": 0.024455,
     "end_time": "2022-10-18T11:51:53.001311",
     "exception": false,
     "start_time": "2022-10-18T11:51:52.976856",
     "status": "completed"
    },
    "tags": []
   },
   "source": [
    "We notice a similar frequency distribution of Genre and topics."
   ]
  },
  {
   "cell_type": "markdown",
   "id": "8cfdeb31",
   "metadata": {
    "id": "x4YnknNk9zAM",
    "papermill": {
     "duration": 0.024377,
     "end_time": "2022-10-18T11:51:53.050690",
     "exception": false,
     "start_time": "2022-10-18T11:51:53.026313",
     "status": "completed"
    },
    "tags": []
   },
   "source": [
    "# Model Building"
   ]
  },
  {
   "cell_type": "markdown",
   "id": "58bec941",
   "metadata": {
    "id": "5FVMmnvb91FF",
    "papermill": {
     "duration": 0.024587,
     "end_time": "2022-10-18T11:51:53.100095",
     "exception": false,
     "start_time": "2022-10-18T11:51:53.075508",
     "status": "completed"
    },
    "tags": []
   },
   "source": [
    "# 1. **Naive Bayes**"
   ]
  },
  {
   "cell_type": "code",
   "execution_count": 42,
   "id": "19f323a5",
   "metadata": {
    "execution": {
     "iopub.execute_input": "2022-10-18T11:51:53.158260Z",
     "iopub.status.busy": "2022-10-18T11:51:53.157851Z",
     "iopub.status.idle": "2022-10-18T11:51:53.323519Z",
     "shell.execute_reply": "2022-10-18T11:51:53.322343Z"
    },
    "id": "ump5FaZ-EDKG",
    "outputId": "af49be93-d352-49ce-b516-b8034bbe0c1a",
    "papermill": {
     "duration": 0.201489,
     "end_time": "2022-10-18T11:51:53.326823",
     "exception": false,
     "start_time": "2022-10-18T11:51:53.125334",
     "status": "completed"
    },
    "tags": []
   },
   "outputs": [
    {
     "data": {
      "text/plain": [
       "<AxesSubplot:xlabel='Genre', ylabel='count'>"
      ]
     },
     "execution_count": 42,
     "metadata": {},
     "output_type": "execute_result"
    },
    {
     "data": {
      "image/png": "[encoded data removed]",
      "text/plain": [
       "<Figure size 432x288 with 1 Axes>"
      ]
     },
     "metadata": {
      "needs_background": "light"
     },
     "output_type": "display_data"
    }
   ],
   "source": [
    "sns.countplot(train['Genre'])"
   ]
  },
  {
   "cell_type": "code",
   "execution_count": 43,
   "id": "25db2eec",
   "metadata": {
    "execution": {
     "iopub.execute_input": "2022-10-18T11:51:53.384641Z",
     "iopub.status.busy": "2022-10-18T11:51:53.383875Z",
     "iopub.status.idle": "2022-10-18T11:51:53.562195Z",
     "shell.execute_reply": "2022-10-18T11:51:53.561214Z"
    },
    "id": "S3vLeLIWD_oO",
    "outputId": "be66d2a4-ca36-41fc-eab3-8753b07766ac",
    "papermill": {
     "duration": 0.207474,
     "end_time": "2022-10-18T11:51:53.564670",
     "exception": false,
     "start_time": "2022-10-18T11:51:53.357196",
     "status": "completed"
    },
    "tags": []
   },
   "outputs": [
    {
     "data": {
      "text/plain": [
       "<AxesSubplot:xlabel='Genre', ylabel='count'>"
      ]
     },
     "execution_count": 43,
     "metadata": {},
     "output_type": "execute_result"
    },
    {
     "data": {
      "image/png": "[encoded data removed]",
      "text/plain": [
       "<Figure size 432x288 with 1 Axes>"
      ]
     },
     "metadata": {
      "needs_background": "light"
     },
     "output_type": "display_data"
    }
   ],
   "source": [
    "sns.countplot(test['Genre'])"
   ]
  },
  {
   "cell_type": "markdown",
   "id": "0ae2b18d",
   "metadata": {
    "papermill": {
     "duration": 0.025257,
     "end_time": "2022-10-18T11:51:53.615618",
     "exception": false,
     "start_time": "2022-10-18T11:51:53.590361",
     "status": "completed"
    },
    "tags": []
   },
   "source": [
    "Encoding the **'Genre'** variable."
   ]
  },
  {
   "cell_type": "code",
   "execution_count": 44,
   "id": "799eb6ab",
   "metadata": {
    "execution": {
     "iopub.execute_input": "2022-10-18T11:51:53.670254Z",
     "iopub.status.busy": "2022-10-18T11:51:53.669583Z",
     "iopub.status.idle": "2022-10-18T11:51:53.676481Z",
     "shell.execute_reply": "2022-10-18T11:51:53.675212Z"
    },
    "id": "oY7s9R9cPBlC",
    "papermill": {
     "duration": 0.037106,
     "end_time": "2022-10-18T11:51:53.679275",
     "exception": false,
     "start_time": "2022-10-18T11:51:53.642169",
     "status": "completed"
    },
    "tags": []
   },
   "outputs": [],
   "source": [
    "le = LabelEncoder()\n",
    "train['Genre'] = le.fit_transform(train['Genre'])\n",
    "test['Genre'] = le.transform(test['Genre'])"
   ]
  },
  {
   "cell_type": "code",
   "execution_count": 45,
   "id": "9d1afe8a",
   "metadata": {
    "execution": {
     "iopub.execute_input": "2022-10-18T11:51:53.732789Z",
     "iopub.status.busy": "2022-10-18T11:51:53.732348Z",
     "iopub.status.idle": "2022-10-18T11:51:53.741765Z",
     "shell.execute_reply": "2022-10-18T11:51:53.740576Z"
    },
    "id": "c-UakdlXICWP",
    "papermill": {
     "duration": 0.038752,
     "end_time": "2022-10-18T11:51:53.744176",
     "exception": false,
     "start_time": "2022-10-18T11:51:53.705424",
     "status": "completed"
    },
    "tags": []
   },
   "outputs": [],
   "source": [
    "y_train = train.Genre.values\n",
    "y_test = test.Genre.values\n",
    "x_train = train.drop('Genre', axis = 1)\n",
    "x_test = test.drop('Genre', axis = 1)"
   ]
  },
  {
   "cell_type": "code",
   "execution_count": 46,
   "id": "c4c79109",
   "metadata": {
    "execution": {
     "iopub.execute_input": "2022-10-18T11:51:53.798008Z",
     "iopub.status.busy": "2022-10-18T11:51:53.797252Z",
     "iopub.status.idle": "2022-10-18T11:51:53.804100Z",
     "shell.execute_reply": "2022-10-18T11:51:53.802774Z"
    },
    "id": "T5N2QT7XBjCs",
    "outputId": "dcd4aaa4-9426-4b51-f8a3-5b3088a815df",
    "papermill": {
     "duration": 0.036117,
     "end_time": "2022-10-18T11:51:53.806448",
     "exception": false,
     "start_time": "2022-10-18T11:51:53.770331",
     "status": "completed"
    },
    "tags": []
   },
   "outputs": [
    {
     "name": "stdout",
     "output_type": "stream",
     "text": [
      "(835, 9) (835,)\n",
      "(150, 8) (150,)\n"
     ]
    }
   ],
   "source": [
    "print(x_train.shape, y_train.shape)\n",
    "print(x_test.shape, y_test.shape)"
   ]
  },
  {
   "cell_type": "code",
   "execution_count": 47,
   "id": "ee00abdb",
   "metadata": {
    "execution": {
     "iopub.execute_input": "2022-10-18T11:51:53.859832Z",
     "iopub.status.busy": "2022-10-18T11:51:53.858856Z",
     "iopub.status.idle": "2022-10-18T11:51:53.906530Z",
     "shell.execute_reply": "2022-10-18T11:51:53.905347Z"
    },
    "id": "5tHJKiqjD3D_",
    "outputId": "2d682459-e56f-4226-8c50-b8169bc5257e",
    "papermill": {
     "duration": 0.076879,
     "end_time": "2022-10-18T11:51:53.908978",
     "exception": false,
     "start_time": "2022-10-18T11:51:53.832099",
     "status": "completed"
    },
    "tags": []
   },
   "outputs": [
    {
     "data": {
      "text/plain": [
       "(835, 8490)"
      ]
     },
     "execution_count": 47,
     "metadata": {},
     "output_type": "execute_result"
    }
   ],
   "source": [
    "tfidf_vect = TfidfVectorizer()\n",
    "x_train_tfidf = tfidf_vect.fit_transform(x_train.Poem)\n",
    "x_train_tfidf.shape"
   ]
  },
  {
   "cell_type": "code",
   "execution_count": 48,
   "id": "37702a21",
   "metadata": {
    "execution": {
     "iopub.execute_input": "2022-10-18T11:51:53.962117Z",
     "iopub.status.busy": "2022-10-18T11:51:53.961675Z",
     "iopub.status.idle": "2022-10-18T11:51:53.972652Z",
     "shell.execute_reply": "2022-10-18T11:51:53.971621Z"
    },
    "id": "66GfWZ14HF_T",
    "papermill": {
     "duration": 0.040389,
     "end_time": "2022-10-18T11:51:53.975230",
     "exception": false,
     "start_time": "2022-10-18T11:51:53.934841",
     "status": "completed"
    },
    "tags": []
   },
   "outputs": [],
   "source": [
    "x_test_tfidf = tfidf_vect.transform(x_test.Poem)"
   ]
  },
  {
   "cell_type": "markdown",
   "id": "a7fd316e",
   "metadata": {
    "papermill": {
     "duration": 0.025345,
     "end_time": "2022-10-18T11:51:54.026518",
     "exception": false,
     "start_time": "2022-10-18T11:51:54.001173",
     "status": "completed"
    },
    "tags": []
   },
   "source": [
    "Using Multinomial Naive Bayes in this case."
   ]
  },
  {
   "cell_type": "code",
   "execution_count": 49,
   "id": "f256cd0c",
   "metadata": {
    "execution": {
     "iopub.execute_input": "2022-10-18T11:51:54.081320Z",
     "iopub.status.busy": "2022-10-18T11:51:54.080901Z",
     "iopub.status.idle": "2022-10-18T11:51:54.093021Z",
     "shell.execute_reply": "2022-10-18T11:51:54.092062Z"
    },
    "id": "4xk6cjNcGYs4",
    "outputId": "0d094df3-7083-46c7-8bda-1a00f78da058",
    "papermill": {
     "duration": 0.041729,
     "end_time": "2022-10-18T11:51:54.095454",
     "exception": false,
     "start_time": "2022-10-18T11:51:54.053725",
     "status": "completed"
    },
    "tags": []
   },
   "outputs": [
    {
     "data": {
      "text/plain": [
       "0.14666666666666667"
      ]
     },
     "execution_count": 49,
     "metadata": {},
     "output_type": "execute_result"
    }
   ],
   "source": [
    "clf = MultinomialNB().fit(x_train_tfidf, train.Genre)\n",
    "predicted = clf.predict(x_test_tfidf)\n",
    "np.mean(predicted == y_test)"
   ]
  },
  {
   "cell_type": "markdown",
   "id": "c534de64",
   "metadata": {
    "papermill": {
     "duration": 0.025487,
     "end_time": "2022-10-18T11:51:54.146956",
     "exception": false,
     "start_time": "2022-10-18T11:51:54.121469",
     "status": "completed"
    },
    "tags": []
   },
   "source": [
    "Time for Gaussian NB."
   ]
  },
  {
   "cell_type": "code",
   "execution_count": 50,
   "id": "7750ca89",
   "metadata": {
    "execution": {
     "iopub.execute_input": "2022-10-18T11:51:54.202502Z",
     "iopub.status.busy": "2022-10-18T11:51:54.201774Z",
     "iopub.status.idle": "2022-10-18T11:51:54.415560Z",
     "shell.execute_reply": "2022-10-18T11:51:54.414060Z"
    },
    "id": "gJZ2_nlcGpe2",
    "outputId": "02625570-8987-49dd-d4a4-5a99e7218d09",
    "papermill": {
     "duration": 0.24487,
     "end_time": "2022-10-18T11:51:54.418622",
     "exception": false,
     "start_time": "2022-10-18T11:51:54.173752",
     "status": "completed"
    },
    "tags": []
   },
   "outputs": [
    {
     "name": "stdout",
     "output_type": "stream",
     "text": [
      "0.153\n"
     ]
    }
   ],
   "source": [
    "clf = GaussianNB().fit(x_train_tfidf.toarray(), train.Genre)\n",
    "predicted = clf.predict(x_test_tfidf.toarray())\n",
    "print(np.round(np.mean(predicted == y_test),3))"
   ]
  },
  {
   "cell_type": "markdown",
   "id": "84fe2d88",
   "metadata": {
    "papermill": {
     "duration": 0.025377,
     "end_time": "2022-10-18T11:51:54.470293",
     "exception": false,
     "start_time": "2022-10-18T11:51:54.444916",
     "status": "completed"
    },
    "tags": []
   },
   "source": [
    "# 2. **Support Vector Classifier**"
   ]
  },
  {
   "cell_type": "code",
   "execution_count": 51,
   "id": "e6653087",
   "metadata": {
    "execution": {
     "iopub.execute_input": "2022-10-18T11:51:54.523794Z",
     "iopub.status.busy": "2022-10-18T11:51:54.523370Z",
     "iopub.status.idle": "2022-10-18T11:52:00.448653Z",
     "shell.execute_reply": "2022-10-18T11:52:00.447409Z"
    },
    "id": "YnO25lkBJ6Th",
    "outputId": "1666cbdf-fb34-49e0-b454-ea2afda0c390",
    "papermill": {
     "duration": 5.955107,
     "end_time": "2022-10-18T11:52:00.451353",
     "exception": false,
     "start_time": "2022-10-18T11:51:54.496246",
     "status": "completed"
    },
    "tags": []
   },
   "outputs": [
    {
     "data": {
      "text/plain": [
       "0.17333333333333334"
      ]
     },
     "execution_count": 51,
     "metadata": {},
     "output_type": "execute_result"
    }
   ],
   "source": [
    "clf = SVC().fit(x_train_tfidf.toarray(), train.Genre)\n",
    "predicted = clf.predict(x_test_tfidf.toarray())\n",
    "np.mean(predicted == y_test)"
   ]
  },
  {
   "cell_type": "markdown",
   "id": "321650e9",
   "metadata": {
    "papermill": {
     "duration": 0.025316,
     "end_time": "2022-10-18T11:52:00.502661",
     "exception": false,
     "start_time": "2022-10-18T11:52:00.477345",
     "status": "completed"
    },
    "tags": []
   },
   "source": [
    "# 3. **xG Boost Classifier**"
   ]
  },
  {
   "cell_type": "code",
   "execution_count": 52,
   "id": "4ef90506",
   "metadata": {
    "execution": {
     "iopub.execute_input": "2022-10-18T11:52:00.555815Z",
     "iopub.status.busy": "2022-10-18T11:52:00.555396Z",
     "iopub.status.idle": "2022-10-18T11:52:48.114422Z",
     "shell.execute_reply": "2022-10-18T11:52:48.113453Z"
    },
    "id": "SuoNihXRKYKF",
    "outputId": "8bb59165-79fe-4ea4-b3a8-c53d7a04e3d6",
    "papermill": {
     "duration": 47.613533,
     "end_time": "2022-10-18T11:52:48.141965",
     "exception": false,
     "start_time": "2022-10-18T11:52:00.528432",
     "status": "completed"
    },
    "tags": []
   },
   "outputs": [
    {
     "data": {
      "text/plain": [
       "0.35333333333333333"
      ]
     },
     "execution_count": 52,
     "metadata": {},
     "output_type": "execute_result"
    }
   ],
   "source": [
    "clf = XGBClassifier().fit(x_train_tfidf.toarray(), train.Genre)\n",
    "predicted = clf.predict(x_test_tfidf.toarray())\n",
    "np.mean(predicted == y_test)"
   ]
  },
  {
   "cell_type": "markdown",
   "id": "4ef42499",
   "metadata": {
    "papermill": {
     "duration": 0.032124,
     "end_time": "2022-10-18T11:52:48.206374",
     "exception": false,
     "start_time": "2022-10-18T11:52:48.174250",
     "status": "completed"
    },
    "tags": []
   },
   "source": [
    "Out of all the ML models, xG boost fared out with 33 percent accuracy."
   ]
  },
  {
   "cell_type": "markdown",
   "id": "fa444b93",
   "metadata": {
    "papermill": {
     "duration": 0.026162,
     "end_time": "2022-10-18T11:52:48.265550",
     "exception": false,
     "start_time": "2022-10-18T11:52:48.239388",
     "status": "completed"
    },
    "tags": []
   },
   "source": [
    "# 4. **Using Tensorflow**"
   ]
  },
  {
   "cell_type": "code",
   "execution_count": 53,
   "id": "9622ccdc",
   "metadata": {
    "execution": {
     "iopub.execute_input": "2022-10-18T11:52:48.320284Z",
     "iopub.status.busy": "2022-10-18T11:52:48.319588Z",
     "iopub.status.idle": "2022-10-18T11:52:48.330239Z",
     "shell.execute_reply": "2022-10-18T11:52:48.329013Z"
    },
    "id": "WEvtJyIAUTxF",
    "papermill": {
     "duration": 0.040766,
     "end_time": "2022-10-18T11:52:48.332623",
     "exception": false,
     "start_time": "2022-10-18T11:52:48.291857",
     "status": "completed"
    },
    "tags": []
   },
   "outputs": [],
   "source": [
    "data = pd.concat([train,test], axis = 0)\n",
    "data = data.dropna()"
   ]
  },
  {
   "cell_type": "code",
   "execution_count": 54,
   "id": "e478fcfb",
   "metadata": {
    "execution": {
     "iopub.execute_input": "2022-10-18T11:52:48.386641Z",
     "iopub.status.busy": "2022-10-18T11:52:48.386215Z",
     "iopub.status.idle": "2022-10-18T11:52:48.391814Z",
     "shell.execute_reply": "2022-10-18T11:52:48.390715Z"
    },
    "id": "KuI6UY7_Uf8X",
    "papermill": {
     "duration": 0.03523,
     "end_time": "2022-10-18T11:52:48.394054",
     "exception": false,
     "start_time": "2022-10-18T11:52:48.358824",
     "status": "completed"
    },
    "tags": []
   },
   "outputs": [],
   "source": [
    "poems = np.array(data['Poem'])\n",
    "genres = np.array(data['Genre'])"
   ]
  },
  {
   "cell_type": "code",
   "execution_count": 55,
   "id": "46a43faa",
   "metadata": {
    "execution": {
     "iopub.execute_input": "2022-10-18T11:52:48.447804Z",
     "iopub.status.busy": "2022-10-18T11:52:48.447343Z",
     "iopub.status.idle": "2022-10-18T11:52:48.454226Z",
     "shell.execute_reply": "2022-10-18T11:52:48.453334Z"
    },
    "id": "1UAqkZRoUxc8",
    "outputId": "79075e03-d3f9-4afa-85c8-aafa67477612",
    "papermill": {
     "duration": 0.036364,
     "end_time": "2022-10-18T11:52:48.456358",
     "exception": false,
     "start_time": "2022-10-18T11:52:48.419994",
     "status": "completed"
    },
    "tags": []
   },
   "outputs": [
    {
     "data": {
      "text/plain": [
       "((835,), (835,))"
      ]
     },
     "execution_count": 55,
     "metadata": {},
     "output_type": "execute_result"
    }
   ],
   "source": [
    "poems.shape, genres.shape"
   ]
  },
  {
   "cell_type": "code",
   "execution_count": 56,
   "id": "13201965",
   "metadata": {
    "execution": {
     "iopub.execute_input": "2022-10-18T11:52:48.510799Z",
     "iopub.status.busy": "2022-10-18T11:52:48.509930Z",
     "iopub.status.idle": "2022-10-18T11:52:48.515559Z",
     "shell.execute_reply": "2022-10-18T11:52:48.514483Z"
    },
    "id": "EK48ht-lU3Hs",
    "papermill": {
     "duration": 0.035242,
     "end_time": "2022-10-18T11:52:48.517863",
     "exception": false,
     "start_time": "2022-10-18T11:52:48.482621",
     "status": "completed"
    },
    "tags": []
   },
   "outputs": [],
   "source": [
    "train_poems = poems[:900]\n",
    "test_poems = poems[900:]\n",
    "train_genres = genres[:900]\n",
    "test_genres = genres[900:]"
   ]
  },
  {
   "cell_type": "code",
   "execution_count": 57,
   "id": "befdd644",
   "metadata": {
    "execution": {
     "iopub.execute_input": "2022-10-18T11:52:48.571901Z",
     "iopub.status.busy": "2022-10-18T11:52:48.571464Z",
     "iopub.status.idle": "2022-10-18T11:52:48.638562Z",
     "shell.execute_reply": "2022-10-18T11:52:48.637279Z"
    },
    "id": "8-1crNPAVLO1",
    "papermill": {
     "duration": 0.097314,
     "end_time": "2022-10-18T11:52:48.641359",
     "exception": false,
     "start_time": "2022-10-18T11:52:48.544045",
     "status": "completed"
    },
    "tags": []
   },
   "outputs": [],
   "source": [
    "tokenizer = Tokenizer(num_words=1000, oov_token=\"<OOV>\")\n",
    "tokenizer.fit_on_texts(train_poems)\n",
    "\n",
    "word_index = tokenizer.word_index\n",
    "\n",
    "training_sequences = tokenizer.texts_to_sequences(train_poems)\n",
    "training_padded = pad_sequences(training_sequences, maxlen=200, padding='post', truncating='post')\n",
    "\n",
    "testing_sequences = tokenizer.texts_to_sequences(test_poems)\n",
    "testing_padded = pad_sequences(testing_sequences, maxlen=200, padding='post', truncating='post')"
   ]
  },
  {
   "cell_type": "code",
   "execution_count": 58,
   "id": "eef76fe7",
   "metadata": {
    "execution": {
     "iopub.execute_input": "2022-10-18T11:52:48.696344Z",
     "iopub.status.busy": "2022-10-18T11:52:48.695907Z",
     "iopub.status.idle": "2022-10-18T11:52:48.701081Z",
     "shell.execute_reply": "2022-10-18T11:52:48.700215Z"
    },
    "id": "wMBzZie-Vy3K",
    "papermill": {
     "duration": 0.035323,
     "end_time": "2022-10-18T11:52:48.703400",
     "exception": false,
     "start_time": "2022-10-18T11:52:48.668077",
     "status": "completed"
    },
    "tags": []
   },
   "outputs": [],
   "source": [
    "training_padded = np.array(training_padded)\n",
    "train_genres = np.array(train_genres)\n",
    "testing_padded = np.array(testing_padded)\n",
    "test_genres = np.array(test_genres)"
   ]
  },
  {
   "cell_type": "code",
   "execution_count": 59,
   "id": "5a6055bf",
   "metadata": {
    "execution": {
     "iopub.execute_input": "2022-10-18T11:52:48.758238Z",
     "iopub.status.busy": "2022-10-18T11:52:48.757828Z",
     "iopub.status.idle": "2022-10-18T11:52:48.917751Z",
     "shell.execute_reply": "2022-10-18T11:52:48.914546Z"
    },
    "id": "B7caTEdLV13Q",
    "outputId": "f18da452-0d93-4338-da92-0131959b38e0",
    "papermill": {
     "duration": 0.189899,
     "end_time": "2022-10-18T11:52:48.920228",
     "exception": false,
     "start_time": "2022-10-18T11:52:48.730329",
     "status": "completed"
    },
    "tags": []
   },
   "outputs": [
    {
     "name": "stdout",
     "output_type": "stream",
     "text": [
      "Model: \"sequential\"\n",
      "_________________________________________________________________\n",
      "Layer (type)                 Output Shape              Param #   \n",
      "=================================================================\n",
      "embedding (Embedding)        (None, 200, 16)           160000    \n",
      "_________________________________________________________________\n",
      "global_average_pooling1d (Gl (None, 16)                0         \n",
      "_________________________________________________________________\n",
      "flatten (Flatten)            (None, 16)                0         \n",
      "_________________________________________________________________\n",
      "dense (Dense)                (None, 50)                850       \n",
      "_________________________________________________________________\n",
      "dense_1 (Dense)              (None, 25)                1275      \n",
      "_________________________________________________________________\n",
      "dense_2 (Dense)              (None, 4)                 104       \n",
      "=================================================================\n",
      "Total params: 162,229\n",
      "Trainable params: 162,229\n",
      "Non-trainable params: 0\n",
      "_________________________________________________________________\n"
     ]
    },
    {
     "name": "stderr",
     "output_type": "stream",
     "text": [
      "2022-10-18 11:52:48.799334: I tensorflow/core/common_runtime/process_util.cc:146] Creating new thread pool with default inter op setting: 2. Tune using inter_op_parallelism_threads for best performance.\n"
     ]
    }
   ],
   "source": [
    "model = tf.keras.Sequential()\n",
    "model.add(tf.keras.layers.Embedding(10000,16,input_length=200))\n",
    "model.add(tf.keras.layers.GlobalAveragePooling1D())\n",
    "model.add(tf.keras.layers.Flatten())\n",
    "model.add(tf.keras.layers.Dense(50,activation='relu'))\n",
    "model.add(tf.keras.layers.Dense(25,activation='relu'))\n",
    "model.add(tf.keras.layers.Dense(4,activation='softmax'))\n",
    "opt = tf.keras.optimizers.Adam()\n",
    "model.compile(loss='sparse_categorical_crossentropy',optimizer=opt,metrics=['accuracy'])\n",
    "model.summary()"
   ]
  },
  {
   "cell_type": "code",
   "execution_count": 60,
   "id": "1a9c23cb",
   "metadata": {
    "execution": {
     "iopub.execute_input": "2022-10-18T11:52:48.974404Z",
     "iopub.status.busy": "2022-10-18T11:52:48.973978Z",
     "iopub.status.idle": "2022-10-18T11:53:03.058134Z",
     "shell.execute_reply": "2022-10-18T11:53:03.057103Z"
    },
    "id": "ClJEo8_IWDax",
    "outputId": "2f52d0ab-4a80-486a-f254-9b8095266b3b",
    "papermill": {
     "duration": 14.114274,
     "end_time": "2022-10-18T11:53:03.060770",
     "exception": false,
     "start_time": "2022-10-18T11:52:48.946496",
     "status": "completed"
    },
    "tags": []
   },
   "outputs": [
    {
     "name": "stderr",
     "output_type": "stream",
     "text": [
      "2022-10-18 11:52:49.058041: I tensorflow/compiler/mlir/mlir_graph_optimization_pass.cc:185] None of the MLIR Optimization Passes are enabled (registered 2)\n"
     ]
    },
    {
     "name": "stdout",
     "output_type": "stream",
     "text": [
      "Epoch 1/100\n",
      "27/27 - 1s - loss: 1.3804 - accuracy: 0.2719\n",
      "Epoch 2/100\n",
      "27/27 - 0s - loss: 1.3732 - accuracy: 0.2719\n",
      "Epoch 3/100\n",
      "27/27 - 0s - loss: 1.3688 - accuracy: 0.2719\n",
      "Epoch 4/100\n",
      "27/27 - 0s - loss: 1.3676 - accuracy: 0.2862\n",
      "Epoch 5/100\n",
      "27/27 - 0s - loss: 1.3669 - accuracy: 0.2850\n",
      "Epoch 6/100\n",
      "27/27 - 0s - loss: 1.3676 - accuracy: 0.2850\n",
      "Epoch 7/100\n",
      "27/27 - 0s - loss: 1.3661 - accuracy: 0.2850\n",
      "Epoch 8/100\n",
      "27/27 - 0s - loss: 1.3656 - accuracy: 0.2850\n",
      "Epoch 9/100\n",
      "27/27 - 0s - loss: 1.3654 - accuracy: 0.2707\n",
      "Epoch 10/100\n",
      "27/27 - 0s - loss: 1.3649 - accuracy: 0.2671\n",
      "Epoch 11/100\n",
      "27/27 - 0s - loss: 1.3640 - accuracy: 0.2922\n",
      "Epoch 12/100\n",
      "27/27 - 0s - loss: 1.3632 - accuracy: 0.3234\n",
      "Epoch 13/100\n",
      "27/27 - 0s - loss: 1.3630 - accuracy: 0.2802\n",
      "Epoch 14/100\n",
      "27/27 - 0s - loss: 1.3614 - accuracy: 0.3713\n",
      "Epoch 15/100\n",
      "27/27 - 0s - loss: 1.3598 - accuracy: 0.4347\n",
      "Epoch 16/100\n",
      "27/27 - 0s - loss: 1.3588 - accuracy: 0.3102\n",
      "Epoch 17/100\n",
      "27/27 - 0s - loss: 1.3557 - accuracy: 0.3569\n",
      "Epoch 18/100\n",
      "27/27 - 0s - loss: 1.3517 - accuracy: 0.2886\n",
      "Epoch 19/100\n",
      "27/27 - 0s - loss: 1.3460 - accuracy: 0.4192\n",
      "Epoch 20/100\n",
      "27/27 - 0s - loss: 1.3360 - accuracy: 0.4096\n",
      "Epoch 21/100\n",
      "27/27 - 0s - loss: 1.3208 - accuracy: 0.4347\n",
      "Epoch 22/100\n",
      "27/27 - 0s - loss: 1.3005 - accuracy: 0.3940\n",
      "Epoch 23/100\n",
      "27/27 - 0s - loss: 1.2810 - accuracy: 0.4192\n",
      "Epoch 24/100\n",
      "27/27 - 0s - loss: 1.2390 - accuracy: 0.4766\n",
      "Epoch 25/100\n",
      "27/27 - 0s - loss: 1.1999 - accuracy: 0.4766\n",
      "Epoch 26/100\n",
      "27/27 - 0s - loss: 1.1498 - accuracy: 0.5257\n",
      "Epoch 27/100\n",
      "27/27 - 0s - loss: 1.1067 - accuracy: 0.5329\n",
      "Epoch 28/100\n",
      "27/27 - 0s - loss: 1.0529 - accuracy: 0.5617\n",
      "Epoch 29/100\n",
      "27/27 - 0s - loss: 1.0079 - accuracy: 0.5928\n",
      "Epoch 30/100\n",
      "27/27 - 0s - loss: 0.9735 - accuracy: 0.6084\n",
      "Epoch 31/100\n",
      "27/27 - 0s - loss: 0.9391 - accuracy: 0.6263\n",
      "Epoch 32/100\n",
      "27/27 - 0s - loss: 0.8833 - accuracy: 0.6587\n",
      "Epoch 33/100\n",
      "27/27 - 0s - loss: 0.8452 - accuracy: 0.6707\n",
      "Epoch 34/100\n",
      "27/27 - 0s - loss: 0.8114 - accuracy: 0.6958\n",
      "Epoch 35/100\n",
      "27/27 - 0s - loss: 0.7923 - accuracy: 0.6910\n",
      "Epoch 36/100\n",
      "27/27 - 0s - loss: 0.7633 - accuracy: 0.7006\n",
      "Epoch 37/100\n",
      "27/27 - 0s - loss: 0.7264 - accuracy: 0.7150\n",
      "Epoch 38/100\n",
      "27/27 - 0s - loss: 0.6985 - accuracy: 0.7293\n",
      "Epoch 39/100\n",
      "27/27 - 0s - loss: 0.6943 - accuracy: 0.7114\n",
      "Epoch 40/100\n",
      "27/27 - 0s - loss: 0.6610 - accuracy: 0.7413\n",
      "Epoch 41/100\n",
      "27/27 - 0s - loss: 0.6416 - accuracy: 0.7509\n",
      "Epoch 42/100\n",
      "27/27 - 0s - loss: 0.6264 - accuracy: 0.7425\n",
      "Epoch 43/100\n",
      "27/27 - 0s - loss: 0.6051 - accuracy: 0.7629\n",
      "Epoch 44/100\n",
      "27/27 - 0s - loss: 0.5934 - accuracy: 0.7713\n",
      "Epoch 45/100\n",
      "27/27 - 0s - loss: 0.5835 - accuracy: 0.7772\n",
      "Epoch 46/100\n",
      "27/27 - 0s - loss: 0.5709 - accuracy: 0.7820\n",
      "Epoch 47/100\n",
      "27/27 - 0s - loss: 0.5454 - accuracy: 0.7713\n",
      "Epoch 48/100\n",
      "27/27 - 0s - loss: 0.5245 - accuracy: 0.8024\n",
      "Epoch 49/100\n",
      "27/27 - 0s - loss: 0.5147 - accuracy: 0.8024\n",
      "Epoch 50/100\n",
      "27/27 - 0s - loss: 0.5428 - accuracy: 0.7641\n",
      "Epoch 51/100\n",
      "27/27 - 0s - loss: 0.4889 - accuracy: 0.8108\n",
      "Epoch 52/100\n",
      "27/27 - 0s - loss: 0.4677 - accuracy: 0.8335\n",
      "Epoch 53/100\n",
      "27/27 - 0s - loss: 0.5017 - accuracy: 0.8060\n",
      "Epoch 54/100\n",
      "27/27 - 0s - loss: 0.4579 - accuracy: 0.8204\n",
      "Epoch 55/100\n",
      "27/27 - 0s - loss: 0.4549 - accuracy: 0.8180\n",
      "Epoch 56/100\n",
      "27/27 - 0s - loss: 0.4323 - accuracy: 0.8335\n",
      "Epoch 57/100\n",
      "27/27 - 0s - loss: 0.4674 - accuracy: 0.8156\n",
      "Epoch 58/100\n",
      "27/27 - 0s - loss: 0.4698 - accuracy: 0.8180\n",
      "Epoch 59/100\n",
      "27/27 - 0s - loss: 0.4082 - accuracy: 0.8551\n",
      "Epoch 60/100\n",
      "27/27 - 0s - loss: 0.4025 - accuracy: 0.8467\n",
      "Epoch 61/100\n",
      "27/27 - 0s - loss: 0.3922 - accuracy: 0.8539\n",
      "Epoch 62/100\n",
      "27/27 - 0s - loss: 0.3909 - accuracy: 0.8515\n",
      "Epoch 63/100\n",
      "27/27 - 0s - loss: 0.3797 - accuracy: 0.8623\n",
      "Epoch 64/100\n",
      "27/27 - 0s - loss: 0.3852 - accuracy: 0.8539\n",
      "Epoch 65/100\n",
      "27/27 - 0s - loss: 0.3640 - accuracy: 0.8671\n",
      "Epoch 66/100\n",
      "27/27 - 0s - loss: 0.3569 - accuracy: 0.8647\n",
      "Epoch 67/100\n",
      "27/27 - 0s - loss: 0.3430 - accuracy: 0.8826\n",
      "Epoch 68/100\n",
      "27/27 - 0s - loss: 0.3452 - accuracy: 0.8778\n",
      "Epoch 69/100\n",
      "27/27 - 0s - loss: 0.3387 - accuracy: 0.8838\n",
      "Epoch 70/100\n",
      "27/27 - 0s - loss: 0.3375 - accuracy: 0.8766\n",
      "Epoch 71/100\n",
      "27/27 - 0s - loss: 0.3160 - accuracy: 0.8838\n",
      "Epoch 72/100\n",
      "27/27 - 0s - loss: 0.3285 - accuracy: 0.8838\n",
      "Epoch 73/100\n",
      "27/27 - 0s - loss: 0.3392 - accuracy: 0.8719\n",
      "Epoch 74/100\n",
      "27/27 - 0s - loss: 0.3129 - accuracy: 0.8910\n",
      "Epoch 75/100\n",
      "27/27 - 0s - loss: 0.2977 - accuracy: 0.8970\n",
      "Epoch 76/100\n",
      "27/27 - 0s - loss: 0.2982 - accuracy: 0.8922\n",
      "Epoch 77/100\n",
      "27/27 - 0s - loss: 0.2948 - accuracy: 0.8982\n",
      "Epoch 78/100\n",
      "27/27 - 0s - loss: 0.2854 - accuracy: 0.9006\n",
      "Epoch 79/100\n",
      "27/27 - 0s - loss: 0.2851 - accuracy: 0.8910\n",
      "Epoch 80/100\n",
      "27/27 - 0s - loss: 0.2893 - accuracy: 0.9006\n",
      "Epoch 81/100\n",
      "27/27 - 0s - loss: 0.2837 - accuracy: 0.9018\n",
      "Epoch 82/100\n",
      "27/27 - 0s - loss: 0.2741 - accuracy: 0.9018\n",
      "Epoch 83/100\n",
      "27/27 - 0s - loss: 0.2663 - accuracy: 0.9066\n",
      "Epoch 84/100\n",
      "27/27 - 0s - loss: 0.2607 - accuracy: 0.9042\n",
      "Epoch 85/100\n",
      "27/27 - 0s - loss: 0.2634 - accuracy: 0.8994\n",
      "Epoch 86/100\n",
      "27/27 - 0s - loss: 0.2573 - accuracy: 0.9078\n",
      "Epoch 87/100\n",
      "27/27 - 0s - loss: 0.2570 - accuracy: 0.8982\n",
      "Epoch 88/100\n",
      "27/27 - 0s - loss: 0.2486 - accuracy: 0.8982\n",
      "Epoch 89/100\n",
      "27/27 - 0s - loss: 0.2507 - accuracy: 0.9090\n",
      "Epoch 90/100\n",
      "27/27 - 0s - loss: 0.2359 - accuracy: 0.9150\n",
      "Epoch 91/100\n",
      "27/27 - 0s - loss: 0.2512 - accuracy: 0.9126\n",
      "Epoch 92/100\n",
      "27/27 - 0s - loss: 0.2504 - accuracy: 0.9006\n",
      "Epoch 93/100\n",
      "27/27 - 0s - loss: 0.2283 - accuracy: 0.9126\n",
      "Epoch 94/100\n",
      "27/27 - 0s - loss: 0.2214 - accuracy: 0.9281\n",
      "Epoch 95/100\n",
      "27/27 - 0s - loss: 0.2466 - accuracy: 0.9006\n",
      "Epoch 96/100\n",
      "27/27 - 0s - loss: 0.2293 - accuracy: 0.9078\n",
      "Epoch 97/100\n",
      "27/27 - 0s - loss: 0.2328 - accuracy: 0.9066\n",
      "Epoch 98/100\n",
      "27/27 - 0s - loss: 0.2219 - accuracy: 0.9078\n",
      "Epoch 99/100\n",
      "27/27 - 0s - loss: 0.2175 - accuracy: 0.9102\n",
      "Epoch 100/100\n",
      "27/27 - 0s - loss: 0.2201 - accuracy: 0.9198\n"
     ]
    }
   ],
   "source": [
    "num_epochs = 100\n",
    "history = model.fit(training_padded, train_genres, epochs=num_epochs, validation_data=(testing_padded, test_genres), verbose=2)"
   ]
  },
  {
   "cell_type": "markdown",
   "id": "2790aad7",
   "metadata": {
    "papermill": {
     "duration": 0.038061,
     "end_time": "2022-10-18T11:53:03.137625",
     "exception": false,
     "start_time": "2022-10-18T11:53:03.099564",
     "status": "completed"
    },
    "tags": []
   },
   "source": [
    "This provides the best results with about 88 percent accuracy."
   ]
  },
  {
   "cell_type": "markdown",
   "id": "7b227c46",
   "metadata": {
    "papermill": {
     "duration": 0.038037,
     "end_time": "2022-10-18T11:53:03.216450",
     "exception": false,
     "start_time": "2022-10-18T11:53:03.178413",
     "status": "completed"
    },
    "tags": []
   },
   "source": [
    "A couple of things, should have gone for SMOTE and Data Augmentation to increase model performance."
   ]
  },
  {
   "cell_type": "markdown",
   "id": "0e273d4d",
   "metadata": {
    "papermill": {
     "duration": 0.0387,
     "end_time": "2022-10-18T11:53:03.294530",
     "exception": false,
     "start_time": "2022-10-18T11:53:03.255830",
     "status": "completed"
    },
    "tags": []
   },
   "source": [
    "Anyways that's it ig. Do let me know how to improve the interpretability when it comes to LDA and any modifications before the model building stage. Other feedbacks are appreciated too. Thanks!"
   ]
  }
 ],
 "metadata": {
  "kernelspec": {
   "display_name": "Python 3",
   "language": "python",
   "name": "python3"
  },
  "language_info": {
   "codemirror_mode": {
    "name": "ipython",
    "version": 3
   },
   "file_extension": ".py",
   "mimetype": "text/x-python",
   "name": "python",
   "nbconvert_exporter": "python",
   "pygments_lexer": "ipython3",
   "version": "3.7.12"
  },
  "papermill": {
   "default_parameters": {},
   "duration": 172.237416,
   "end_time": "2022-10-18T11:53:06.675466",
   "environment_variables": {},
   "exception": null,
   "input_path": "__notebook__.ipynb",
   "output_path": "__notebook__.ipynb",
   "parameters": {},
   "start_time": "2022-10-18T11:50:14.438050",
   "version": "2.3.4"
  },
  "widgets": {
   "application/vnd.jupyter.widget-state+json": {
    "state": {
     "0bb8ee48c98445739fe6428c7171ab11": {
      "model_module": "@jupyter-widgets/base",
      "model_module_version": "1.2.0",
      "model_name": "LayoutModel",
      "state": {
       "_model_module": "@jupyter-widgets/base",
       "_model_module_version": "1.2.0",
       "_model_name": "LayoutModel",
       "_view_count": null,
       "_view_module": "@jupyter-widgets/base",
       "_view_module_version": "1.2.0",
       "_view_name": "LayoutView",
       "align_content": null,
       "align_items": null,
       "align_self": null,
       "border": null,
       "bottom": null,
       "display": null,
       "flex": null,
       "flex_flow": null,
       "grid_area": null,
       "grid_auto_columns": null,
       "grid_auto_flow": null,
       "grid_auto_rows": null,
       "grid_column": null,
       "grid_gap": null,
       "grid_row": null,
       "grid_template_areas": null,
       "grid_template_columns": null,
       "grid_template_rows": null,
       "height": null,
       "justify_content": null,
       "justify_items": null,
       "left": null,
       "margin": null,
       "max_height": null,
       "max_width": null,
       "min_height": null,
       "min_width": null,
       "object_fit": null,
       "object_position": null,
       "order": null,
       "overflow": null,
       "overflow_x": null,
       "overflow_y": null,
       "padding": null,
       "right": null,
       "top": null,
       "visibility": null,
       "width": null
      }
     },
     "1ce7e0281dfe4d1ebe01e97eceeb9ae8": {
      "model_module": "@jupyter-widgets/base",
      "model_module_version": "1.2.0",
      "model_name": "LayoutModel",
      "state": {
       "_model_module": "@jupyter-widgets/base",
       "_model_module_version": "1.2.0",
       "_model_name": "LayoutModel",
       "_view_count": null,
       "_view_module": "@jupyter-widgets/base",
       "_view_module_version": "1.2.0",
       "_view_name": "LayoutView",
       "align_content": null,
       "align_items": null,
       "align_self": null,
       "border": null,
       "bottom": null,
       "display": null,
       "flex": null,
       "flex_flow": null,
       "grid_area": null,
       "grid_auto_columns": null,
       "grid_auto_flow": null,
       "grid_auto_rows": null,
       "grid_column": null,
       "grid_gap": null,
       "grid_row": null,
       "grid_template_areas": null,
       "grid_template_columns": null,
       "grid_template_rows": null,
       "height": null,
       "justify_content": null,
       "justify_items": null,
       "left": null,
       "margin": null,
       "max_height": null,
       "max_width": null,
       "min_height": null,
       "min_width": null,
       "object_fit": null,
       "object_position": null,
       "order": null,
       "overflow": null,
       "overflow_x": null,
       "overflow_y": null,
       "padding": null,
       "right": null,
       "top": null,
       "visibility": null,
       "width": null
      }
     },
     "2396777bb39e4b43b8a5ba0aa18a5b6c": {
      "model_module": "@jupyter-widgets/controls",
      "model_module_version": "1.5.0",
      "model_name": "DescriptionStyleModel",
      "state": {
       "_model_module": "@jupyter-widgets/controls",
       "_model_module_version": "1.5.0",
       "_model_name": "DescriptionStyleModel",
       "_view_count": null,
       "_view_module": "@jupyter-widgets/base",
       "_view_module_version": "1.2.0",
       "_view_name": "StyleView",
       "description_width": ""
      }
     },
     "251ae30561ff4a27b5b59ab8a3717fd1": {
      "model_module": "@jupyter-widgets/controls",
      "model_module_version": "1.5.0",
      "model_name": "HTMLModel",
      "state": {
       "_dom_classes": [],
       "_model_module": "@jupyter-widgets/controls",
       "_model_module_version": "1.5.0",
       "_model_name": "HTMLModel",
       "_view_count": null,
       "_view_module": "@jupyter-widgets/controls",
       "_view_module_version": "1.5.0",
       "_view_name": "HTMLView",
       "description": "",
       "description_tooltip": null,
       "layout": "IPY_MODEL_0bb8ee48c98445739fe6428c7171ab11",
       "placeholder": "​",
       "style": "IPY_MODEL_a7df79c469b04f429ae2d61dfec79060",
       "value": " 150/150 [00:00&lt;00:00, 234.07it/s]"
      }
     },
     "4add6ab77fa9492995886a69dcd111fb": {
      "model_module": "@jupyter-widgets/controls",
      "model_module_version": "1.5.0",
      "model_name": "ProgressStyleModel",
      "state": {
       "_model_module": "@jupyter-widgets/controls",
       "_model_module_version": "1.5.0",
       "_model_name": "ProgressStyleModel",
       "_view_count": null,
       "_view_module": "@jupyter-widgets/base",
       "_view_module_version": "1.2.0",
       "_view_name": "StyleView",
       "bar_color": null,
       "description_width": ""
      }
     },
     "4b43dbde823c4b1fbac0557ad203356d": {
      "model_module": "@jupyter-widgets/controls",
      "model_module_version": "1.5.0",
      "model_name": "ProgressStyleModel",
      "state": {
       "_model_module": "@jupyter-widgets/controls",
       "_model_module_version": "1.5.0",
       "_model_name": "ProgressStyleModel",
       "_view_count": null,
       "_view_module": "@jupyter-widgets/base",
       "_view_module_version": "1.2.0",
       "_view_name": "StyleView",
       "bar_color": null,
       "description_width": ""
      }
     },
     "4ce3fd3d620d4bd18e806a7ded8eb608": {
      "model_module": "@jupyter-widgets/base",
      "model_module_version": "1.2.0",
      "model_name": "LayoutModel",
      "state": {
       "_model_module": "@jupyter-widgets/base",
       "_model_module_version": "1.2.0",
       "_model_name": "LayoutModel",
       "_view_count": null,
       "_view_module": "@jupyter-widgets/base",
       "_view_module_version": "1.2.0",
       "_view_name": "LayoutView",
       "align_content": null,
       "align_items": null,
       "align_self": null,
       "border": null,
       "bottom": null,
       "display": null,
       "flex": null,
       "flex_flow": null,
       "grid_area": null,
       "grid_auto_columns": null,
       "grid_auto_flow": null,
       "grid_auto_rows": null,
       "grid_column": null,
       "grid_gap": null,
       "grid_row": null,
       "grid_template_areas": null,
       "grid_template_columns": null,
       "grid_template_rows": null,
       "height": null,
       "justify_content": null,
       "justify_items": null,
       "left": null,
       "margin": null,
       "max_height": null,
       "max_width": null,
       "min_height": null,
       "min_width": null,
       "object_fit": null,
       "object_position": null,
       "order": null,
       "overflow": null,
       "overflow_x": null,
       "overflow_y": null,
       "padding": null,
       "right": null,
       "top": null,
       "visibility": null,
       "width": null
      }
     },
     "5df184611c0845519f20c87ec8118c8c": {
      "model_module": "@jupyter-widgets/controls",
      "model_module_version": "1.5.0",
      "model_name": "HBoxModel",
      "state": {
       "_dom_classes": [],
       "_model_module": "@jupyter-widgets/controls",
       "_model_module_version": "1.5.0",
       "_model_name": "HBoxModel",
       "_view_count": null,
       "_view_module": "@jupyter-widgets/controls",
       "_view_module_version": "1.5.0",
       "_view_name": "HBoxView",
       "box_style": "",
       "children": [
        "IPY_MODEL_7026042f8f014c1e8625bf428fd74d1b",
        "IPY_MODEL_f3ceee627a1c462ba1500188f4e62320",
        "IPY_MODEL_e89dad7e6ebb43eb92eb365d539ccbd8"
       ],
       "layout": "IPY_MODEL_80daeb5a56ed4d9d9a26c044365b7b5f"
      }
     },
     "64538b5c652d44a8b15929a2c46921b2": {
      "model_module": "@jupyter-widgets/controls",
      "model_module_version": "1.5.0",
      "model_name": "HTMLModel",
      "state": {
       "_dom_classes": [],
       "_model_module": "@jupyter-widgets/controls",
       "_model_module_version": "1.5.0",
       "_model_name": "HTMLModel",
       "_view_count": null,
       "_view_module": "@jupyter-widgets/controls",
       "_view_module_version": "1.5.0",
       "_view_name": "HTMLView",
       "description": "",
       "description_tooltip": null,
       "layout": "IPY_MODEL_ec07f71804c3443b8bb9027987f1722b",
       "placeholder": "​",
       "style": "IPY_MODEL_97183227fca043389b86d59a990109ef",
       "value": "100%"
      }
     },
     "7026042f8f014c1e8625bf428fd74d1b": {
      "model_module": "@jupyter-widgets/controls",
      "model_module_version": "1.5.0",
      "model_name": "HTMLModel",
      "state": {
       "_dom_classes": [],
       "_model_module": "@jupyter-widgets/controls",
       "_model_module_version": "1.5.0",
       "_model_name": "HTMLModel",
       "_view_count": null,
       "_view_module": "@jupyter-widgets/controls",
       "_view_module_version": "1.5.0",
       "_view_name": "HTMLView",
       "description": "",
       "description_tooltip": null,
       "layout": "IPY_MODEL_8201d241573b4e32afb7bcbdb0658cc9",
       "placeholder": "​",
       "style": "IPY_MODEL_b435103d76df48268d1464be0eea9299",
       "value": "100%"
      }
     },
     "80daeb5a56ed4d9d9a26c044365b7b5f": {
      "model_module": "@jupyter-widgets/base",
      "model_module_version": "1.2.0",
      "model_name": "LayoutModel",
      "state": {
       "_model_module": "@jupyter-widgets/base",
       "_model_module_version": "1.2.0",
       "_model_name": "LayoutModel",
       "_view_count": null,
       "_view_module": "@jupyter-widgets/base",
       "_view_module_version": "1.2.0",
       "_view_name": "LayoutView",
       "align_content": null,
       "align_items": null,
       "align_self": null,
       "border": null,
       "bottom": null,
       "display": null,
       "flex": null,
       "flex_flow": null,
       "grid_area": null,
       "grid_auto_columns": null,
       "grid_auto_flow": null,
       "grid_auto_rows": null,
       "grid_column": null,
       "grid_gap": null,
       "grid_row": null,
       "grid_template_areas": null,
       "grid_template_columns": null,
       "grid_template_rows": null,
       "height": null,
       "justify_content": null,
       "justify_items": null,
       "left": null,
       "margin": null,
       "max_height": null,
       "max_width": null,
       "min_height": null,
       "min_width": null,
       "object_fit": null,
       "object_position": null,
       "order": null,
       "overflow": null,
       "overflow_x": null,
       "overflow_y": null,
       "padding": null,
       "right": null,
       "top": null,
       "visibility": null,
       "width": null
      }
     },
     "8201d241573b4e32afb7bcbdb0658cc9": {
      "model_module": "@jupyter-widgets/base",
      "model_module_version": "1.2.0",
      "model_name": "LayoutModel",
      "state": {
       "_model_module": "@jupyter-widgets/base",
       "_model_module_version": "1.2.0",
       "_model_name": "LayoutModel",
       "_view_count": null,
       "_view_module": "@jupyter-widgets/base",
       "_view_module_version": "1.2.0",
       "_view_name": "LayoutView",
       "align_content": null,
       "align_items": null,
       "align_self": null,
       "border": null,
       "bottom": null,
       "display": null,
       "flex": null,
       "flex_flow": null,
       "grid_area": null,
       "grid_auto_columns": null,
       "grid_auto_flow": null,
       "grid_auto_rows": null,
       "grid_column": null,
       "grid_gap": null,
       "grid_row": null,
       "grid_template_areas": null,
       "grid_template_columns": null,
       "grid_template_rows": null,
       "height": null,
       "justify_content": null,
       "justify_items": null,
       "left": null,
       "margin": null,
       "max_height": null,
       "max_width": null,
       "min_height": null,
       "min_width": null,
       "object_fit": null,
       "object_position": null,
       "order": null,
       "overflow": null,
       "overflow_x": null,
       "overflow_y": null,
       "padding": null,
       "right": null,
       "top": null,
       "visibility": null,
       "width": null
      }
     },
     "961b52b7a0dc40ec96004a7b589c3187": {
      "model_module": "@jupyter-widgets/controls",
      "model_module_version": "1.5.0",
      "model_name": "HBoxModel",
      "state": {
       "_dom_classes": [],
       "_model_module": "@jupyter-widgets/controls",
       "_model_module_version": "1.5.0",
       "_model_name": "HBoxModel",
       "_view_count": null,
       "_view_module": "@jupyter-widgets/controls",
       "_view_module_version": "1.5.0",
       "_view_name": "HBoxView",
       "box_style": "",
       "children": [
        "IPY_MODEL_64538b5c652d44a8b15929a2c46921b2",
        "IPY_MODEL_ae73f19306434287add08c944966907b",
        "IPY_MODEL_251ae30561ff4a27b5b59ab8a3717fd1"
       ],
       "layout": "IPY_MODEL_c7eecc387d7449a79f13b261f4b4763b"
      }
     },
     "97183227fca043389b86d59a990109ef": {
      "model_module": "@jupyter-widgets/controls",
      "model_module_version": "1.5.0",
      "model_name": "DescriptionStyleModel",
      "state": {
       "_model_module": "@jupyter-widgets/controls",
       "_model_module_version": "1.5.0",
       "_model_name": "DescriptionStyleModel",
       "_view_count": null,
       "_view_module": "@jupyter-widgets/base",
       "_view_module_version": "1.2.0",
       "_view_name": "StyleView",
       "description_width": ""
      }
     },
     "a7df79c469b04f429ae2d61dfec79060": {
      "model_module": "@jupyter-widgets/controls",
      "model_module_version": "1.5.0",
      "model_name": "DescriptionStyleModel",
      "state": {
       "_model_module": "@jupyter-widgets/controls",
       "_model_module_version": "1.5.0",
       "_model_name": "DescriptionStyleModel",
       "_view_count": null,
       "_view_module": "@jupyter-widgets/base",
       "_view_module_version": "1.2.0",
       "_view_name": "StyleView",
       "description_width": ""
      }
     },
     "ae73f19306434287add08c944966907b": {
      "model_module": "@jupyter-widgets/controls",
      "model_module_version": "1.5.0",
      "model_name": "FloatProgressModel",
      "state": {
       "_dom_classes": [],
       "_model_module": "@jupyter-widgets/controls",
       "_model_module_version": "1.5.0",
       "_model_name": "FloatProgressModel",
       "_view_count": null,
       "_view_module": "@jupyter-widgets/controls",
       "_view_module_version": "1.5.0",
       "_view_name": "ProgressView",
       "bar_style": "success",
       "description": "",
       "description_tooltip": null,
       "layout": "IPY_MODEL_1ce7e0281dfe4d1ebe01e97eceeb9ae8",
       "max": 150.0,
       "min": 0.0,
       "orientation": "horizontal",
       "style": "IPY_MODEL_4b43dbde823c4b1fbac0557ad203356d",
       "value": 150.0
      }
     },
     "b435103d76df48268d1464be0eea9299": {
      "model_module": "@jupyter-widgets/controls",
      "model_module_version": "1.5.0",
      "model_name": "DescriptionStyleModel",
      "state": {
       "_model_module": "@jupyter-widgets/controls",
       "_model_module_version": "1.5.0",
       "_model_name": "DescriptionStyleModel",
       "_view_count": null,
       "_view_module": "@jupyter-widgets/base",
       "_view_module_version": "1.2.0",
       "_view_name": "StyleView",
       "description_width": ""
      }
     },
     "c7eecc387d7449a79f13b261f4b4763b": {
      "model_module": "@jupyter-widgets/base",
      "model_module_version": "1.2.0",
      "model_name": "LayoutModel",
      "state": {
       "_model_module": "@jupyter-widgets/base",
       "_model_module_version": "1.2.0",
       "_model_name": "LayoutModel",
       "_view_count": null,
       "_view_module": "@jupyter-widgets/base",
       "_view_module_version": "1.2.0",
       "_view_name": "LayoutView",
       "align_content": null,
       "align_items": null,
       "align_self": null,
       "border": null,
       "bottom": null,
       "display": null,
       "flex": null,
       "flex_flow": null,
       "grid_area": null,
       "grid_auto_columns": null,
       "grid_auto_flow": null,
       "grid_auto_rows": null,
       "grid_column": null,
       "grid_gap": null,
       "grid_row": null,
       "grid_template_areas": null,
       "grid_template_columns": null,
       "grid_template_rows": null,
       "height": null,
       "justify_content": null,
       "justify_items": null,
       "left": null,
       "margin": null,
       "max_height": null,
       "max_width": null,
       "min_height": null,
       "min_width": null,
       "object_fit": null,
       "object_position": null,
       "order": null,
       "overflow": null,
       "overflow_x": null,
       "overflow_y": null,
       "padding": null,
       "right": null,
       "top": null,
       "visibility": null,
       "width": null
      }
     },
     "e89dad7e6ebb43eb92eb365d539ccbd8": {
      "model_module": "@jupyter-widgets/controls",
      "model_module_version": "1.5.0",
      "model_name": "HTMLModel",
      "state": {
       "_dom_classes": [],
       "_model_module": "@jupyter-widgets/controls",
       "_model_module_version": "1.5.0",
       "_model_name": "HTMLModel",
       "_view_count": null,
       "_view_module": "@jupyter-widgets/controls",
       "_view_module_version": "1.5.0",
       "_view_name": "HTMLView",
       "description": "",
       "description_tooltip": null,
       "layout": "IPY_MODEL_4ce3fd3d620d4bd18e806a7ded8eb608",
       "placeholder": "​",
       "style": "IPY_MODEL_2396777bb39e4b43b8a5ba0aa18a5b6c",
       "value": " 835/835 [00:05&lt;00:00, 228.52it/s]"
      }
     },
     "ec07f71804c3443b8bb9027987f1722b": {
      "model_module": "@jupyter-widgets/base",
      "model_module_version": "1.2.0",
      "model_name": "LayoutModel",
      "state": {
       "_model_module": "@jupyter-widgets/base",
       "_model_module_version": "1.2.0",
       "_model_name": "LayoutModel",
       "_view_count": null,
       "_view_module": "@jupyter-widgets/base",
       "_view_module_version": "1.2.0",
       "_view_name": "LayoutView",
       "align_content": null,
       "align_items": null,
       "align_self": null,
       "border": null,
       "bottom": null,
       "display": null,
       "flex": null,
       "flex_flow": null,
       "grid_area": null,
       "grid_auto_columns": null,
       "grid_auto_flow": null,
       "grid_auto_rows": null,
       "grid_column": null,
       "grid_gap": null,
       "grid_row": null,
       "grid_template_areas": null,
       "grid_template_columns": null,
       "grid_template_rows": null,
       "height": null,
       "justify_content": null,
       "justify_items": null,
       "left": null,
       "margin": null,
       "max_height": null,
       "max_width": null,
       "min_height": null,
       "min_width": null,
       "object_fit": null,
       "object_position": null,
       "order": null,
       "overflow": null,
       "overflow_x": null,
       "overflow_y": null,
       "padding": null,
       "right": null,
       "top": null,
       "visibility": null,
       "width": null
      }
     },
     "f3ceee627a1c462ba1500188f4e62320": {
      "model_module": "@jupyter-widgets/controls",
      "model_module_version": "1.5.0",
      "model_name": "FloatProgressModel",
      "state": {
       "_dom_classes": [],
       "_model_module": "@jupyter-widgets/controls",
       "_model_module_version": "1.5.0",
       "_model_name": "FloatProgressModel",
       "_view_count": null,
       "_view_module": "@jupyter-widgets/controls",
       "_view_module_version": "1.5.0",
       "_view_name": "ProgressView",
       "bar_style": "success",
       "description": "",
       "description_tooltip": null,
       "layout": "IPY_MODEL_fb949120612e488b8c66242e7337de1e",
       "max": 835.0,
       "min": 0.0,
       "orientation": "horizontal",
       "style": "IPY_MODEL_4add6ab77fa9492995886a69dcd111fb",
       "value": 835.0
      }
     },
     "fb949120612e488b8c66242e7337de1e": {
      "model_module": "@jupyter-widgets/base",
      "model_module_version": "1.2.0",
      "model_name": "LayoutModel",
      "state": {
       "_model_module": "@jupyter-widgets/base",
       "_model_module_version": "1.2.0",
       "_model_name": "LayoutModel",
       "_view_count": null,
       "_view_module": "@jupyter-widgets/base",
       "_view_module_version": "1.2.0",
       "_view_name": "LayoutView",
       "align_content": null,
       "align_items": null,
       "align_self": null,
       "border": null,
       "bottom": null,
       "display": null,
       "flex": null,
       "flex_flow": null,
       "grid_area": null,
       "grid_auto_columns": null,
       "grid_auto_flow": null,
       "grid_auto_rows": null,
       "grid_column": null,
       "grid_gap": null,
       "grid_row": null,
       "grid_template_areas": null,
       "grid_template_columns": null,
       "grid_template_rows": null,
       "height": null,
       "justify_content": null,
       "justify_items": null,
       "left": null,
       "margin": null,
       "max_height": null,
       "max_width": null,
       "min_height": null,
       "min_width": null,
       "object_fit": null,
       "object_position": null,
       "order": null,
       "overflow": null,
       "overflow_x": null,
       "overflow_y": null,
       "padding": null,
       "right": null,
       "top": null,
       "visibility": null,
       "width": null
      }
     }
    },
    "version_major": 2,
    "version_minor": 0
   }
  }
 },
 "nbformat": 4,
 "nbformat_minor": 5
}
