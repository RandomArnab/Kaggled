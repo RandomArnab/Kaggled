{
 "cells": [
  {
   "cell_type": "markdown",
   "id": "240a622c",
   "metadata": {
    "id": "BxzUuFyaKx43",
    "papermill": {
     "duration": 0.02081,
     "end_time": "2023-03-13T11:30:55.363436",
     "exception": false,
     "start_time": "2023-03-13T11:30:55.342626",
     "status": "completed"
    },
    "tags": []
   },
   "source": [
    "# **Import libraries and packages**"
   ]
  },
  {
   "cell_type": "code",
   "execution_count": 1,
   "id": "f4635416",
   "metadata": {
    "execution": {
     "iopub.execute_input": "2023-03-13T11:30:55.405336Z",
     "iopub.status.busy": "2023-03-13T11:30:55.404823Z",
     "iopub.status.idle": "2023-03-13T11:31:08.734484Z",
     "shell.execute_reply": "2023-03-13T11:31:08.732913Z"
    },
    "id": "dotL6p2lEHz1",
    "papermill": {
     "duration": 13.355437,
     "end_time": "2023-03-13T11:31:08.737961",
     "exception": false,
     "start_time": "2023-03-13T11:30:55.382524",
     "status": "completed"
    },
    "tags": []
   },
   "outputs": [],
   "source": [
    "import pandas as pd\n",
    "import datetime\n",
    "import regex as re\n",
    "import math\n",
    "from numpy import array\n",
    "import matplotlib.pyplot as plt\n",
    "import plotly.graph_objects as go\n",
    "import plotly.express as px\n",
    "from itertools import cycle\n",
    "import numpy as np\n",
    "from sklearn.metrics import mean_squared_error, mean_absolute_error, explained_variance_score, r2_score \n",
    "from sklearn.metrics import mean_poisson_deviance, mean_gamma_deviance, accuracy_score\n",
    "from sklearn.preprocessing import MinMaxScaler\n",
    "\n",
    "import tensorflow as tf\n",
    "from tensorflow.keras.models import Sequential\n",
    "from tensorflow.keras.layers import Dense, Dropout\n",
    "from tensorflow.keras.layers import LSTM, GRU\n",
    "\n",
    "import warnings\n",
    "warnings.filterwarnings('ignore')"
   ]
  },
  {
   "cell_type": "markdown",
   "id": "c7351a03",
   "metadata": {
    "id": "YLY42WvCK19W",
    "papermill": {
     "duration": 0.019053,
     "end_time": "2023-03-13T11:31:08.775704",
     "exception": false,
     "start_time": "2023-03-13T11:31:08.756651",
     "status": "completed"
    },
    "tags": []
   },
   "source": [
    "# **Import Dataset**"
   ]
  },
  {
   "cell_type": "code",
   "execution_count": 2,
   "id": "09f24712",
   "metadata": {
    "execution": {
     "iopub.execute_input": "2023-03-13T11:31:08.817541Z",
     "iopub.status.busy": "2023-03-13T11:31:08.815009Z",
     "iopub.status.idle": "2023-03-13T11:31:08.840815Z",
     "shell.execute_reply": "2023-03-13T11:31:08.839586Z"
    },
    "id": "l4n6IbeaEebF",
    "papermill": {
     "duration": 0.049502,
     "end_time": "2023-03-13T11:31:08.843621",
     "exception": false,
     "start_time": "2023-03-13T11:31:08.794119",
     "status": "completed"
    },
    "tags": []
   },
   "outputs": [],
   "source": [
    "matic = pd.read_csv('/kaggle/input/maticpolygon-crytocurrency-historical-dataset/Matic Historical Data.csv')"
   ]
  },
  {
   "cell_type": "code",
   "execution_count": 3,
   "id": "aec58984",
   "metadata": {
    "execution": {
     "iopub.execute_input": "2023-03-13T11:31:08.883333Z",
     "iopub.status.busy": "2023-03-13T11:31:08.882826Z",
     "iopub.status.idle": "2023-03-13T11:31:08.916506Z",
     "shell.execute_reply": "2023-03-13T11:31:08.915081Z"
    },
    "id": "-1v9SE5FEh8V",
    "outputId": "7e2a253a-31da-48b4-efe5-2b9cdff41205",
    "papermill": {
     "duration": 0.058548,
     "end_time": "2023-03-13T11:31:08.920233",
     "exception": false,
     "start_time": "2023-03-13T11:31:08.861685",
     "status": "completed"
    },
    "tags": []
   },
   "outputs": [
    {
     "data": {
      "text/html": [
       "<div>\n",
       "<style scoped>\n",
       "    .dataframe tbody tr th:only-of-type {\n",
       "        vertical-align: middle;\n",
       "    }\n",
       "\n",
       "    .dataframe tbody tr th {\n",
       "        vertical-align: top;\n",
       "    }\n",
       "\n",
       "    .dataframe thead th {\n",
       "        text-align: right;\n",
       "    }\n",
       "</style>\n",
       "<table border=\"1\" class=\"dataframe\">\n",
       "  <thead>\n",
       "    <tr style=\"text-align: right;\">\n",
       "      <th></th>\n",
       "      <th>Date</th>\n",
       "      <th>Open</th>\n",
       "      <th>High</th>\n",
       "      <th>Low</th>\n",
       "      <th>Close</th>\n",
       "      <th>Volume</th>\n",
       "    </tr>\n",
       "  </thead>\n",
       "  <tbody>\n",
       "    <tr>\n",
       "      <th>0</th>\n",
       "      <td>2019-04-28</td>\n",
       "      <td>0.004521</td>\n",
       "      <td>0.004545</td>\n",
       "      <td>0.004317</td>\n",
       "      <td>0.004421</td>\n",
       "      <td>8408136</td>\n",
       "    </tr>\n",
       "    <tr>\n",
       "      <th>1</th>\n",
       "      <td>2019-04-29</td>\n",
       "      <td>0.004418</td>\n",
       "      <td>0.004492</td>\n",
       "      <td>0.003471</td>\n",
       "      <td>0.003471</td>\n",
       "      <td>8267044</td>\n",
       "    </tr>\n",
       "    <tr>\n",
       "      <th>2</th>\n",
       "      <td>2019-04-30</td>\n",
       "      <td>0.003462</td>\n",
       "      <td>0.005078</td>\n",
       "      <td>0.003458</td>\n",
       "      <td>0.004478</td>\n",
       "      <td>25072706</td>\n",
       "    </tr>\n",
       "    <tr>\n",
       "      <th>3</th>\n",
       "      <td>2019-05-01</td>\n",
       "      <td>0.004440</td>\n",
       "      <td>0.004673</td>\n",
       "      <td>0.004071</td>\n",
       "      <td>0.004374</td>\n",
       "      <td>10567352</td>\n",
       "    </tr>\n",
       "    <tr>\n",
       "      <th>4</th>\n",
       "      <td>2019-05-02</td>\n",
       "      <td>0.004366</td>\n",
       "      <td>0.004700</td>\n",
       "      <td>0.004096</td>\n",
       "      <td>0.004198</td>\n",
       "      <td>6714908</td>\n",
       "    </tr>\n",
       "  </tbody>\n",
       "</table>\n",
       "</div>"
      ],
      "text/plain": [
       "         Date      Open      High       Low     Close    Volume\n",
       "0  2019-04-28  0.004521  0.004545  0.004317  0.004421   8408136\n",
       "1  2019-04-29  0.004418  0.004492  0.003471  0.003471   8267044\n",
       "2  2019-04-30  0.003462  0.005078  0.003458  0.004478  25072706\n",
       "3  2019-05-01  0.004440  0.004673  0.004071  0.004374  10567352\n",
       "4  2019-05-02  0.004366  0.004700  0.004096  0.004198   6714908"
      ]
     },
     "execution_count": 3,
     "metadata": {},
     "output_type": "execute_result"
    }
   ],
   "source": [
    "matic.head()"
   ]
  },
  {
   "cell_type": "markdown",
   "id": "bd2b836f",
   "metadata": {
    "id": "K3TdxS_UK_0T",
    "papermill": {
     "duration": 0.017976,
     "end_time": "2023-03-13T11:31:08.957092",
     "exception": false,
     "start_time": "2023-03-13T11:31:08.939116",
     "status": "completed"
    },
    "tags": []
   },
   "source": [
    "# **Data Preprocessing**"
   ]
  },
  {
   "cell_type": "code",
   "execution_count": 4,
   "id": "d13997d9",
   "metadata": {
    "execution": {
     "iopub.execute_input": "2023-03-13T11:31:08.998720Z",
     "iopub.status.busy": "2023-03-13T11:31:08.997774Z",
     "iopub.status.idle": "2023-03-13T11:31:09.022050Z",
     "shell.execute_reply": "2023-03-13T11:31:09.020071Z"
    },
    "id": "Gj5gooEfFPaP",
    "outputId": "2de37ca9-9199-4fd6-b366-10265456b7bf",
    "papermill": {
     "duration": 0.048404,
     "end_time": "2023-03-13T11:31:09.024970",
     "exception": false,
     "start_time": "2023-03-13T11:31:08.976566",
     "status": "completed"
    },
    "tags": []
   },
   "outputs": [
    {
     "data": {
      "text/html": [
       "<div>\n",
       "<style scoped>\n",
       "    .dataframe tbody tr th:only-of-type {\n",
       "        vertical-align: middle;\n",
       "    }\n",
       "\n",
       "    .dataframe tbody tr th {\n",
       "        vertical-align: top;\n",
       "    }\n",
       "\n",
       "    .dataframe thead th {\n",
       "        text-align: right;\n",
       "    }\n",
       "</style>\n",
       "<table border=\"1\" class=\"dataframe\">\n",
       "  <thead>\n",
       "    <tr style=\"text-align: right;\">\n",
       "      <th></th>\n",
       "      <th>Date</th>\n",
       "      <th>Open</th>\n",
       "      <th>High</th>\n",
       "      <th>Low</th>\n",
       "      <th>Close</th>\n",
       "      <th>Volume</th>\n",
       "    </tr>\n",
       "  </thead>\n",
       "  <tbody>\n",
       "    <tr>\n",
       "      <th>0</th>\n",
       "      <td>2019-04-28</td>\n",
       "      <td>0.004521</td>\n",
       "      <td>0.004545</td>\n",
       "      <td>0.004317</td>\n",
       "      <td>0.004421</td>\n",
       "      <td>8408136</td>\n",
       "    </tr>\n",
       "    <tr>\n",
       "      <th>1</th>\n",
       "      <td>2019-04-29</td>\n",
       "      <td>0.004418</td>\n",
       "      <td>0.004492</td>\n",
       "      <td>0.003471</td>\n",
       "      <td>0.003471</td>\n",
       "      <td>8267044</td>\n",
       "    </tr>\n",
       "    <tr>\n",
       "      <th>2</th>\n",
       "      <td>2019-04-30</td>\n",
       "      <td>0.003462</td>\n",
       "      <td>0.005078</td>\n",
       "      <td>0.003458</td>\n",
       "      <td>0.004478</td>\n",
       "      <td>25072706</td>\n",
       "    </tr>\n",
       "    <tr>\n",
       "      <th>3</th>\n",
       "      <td>2019-05-01</td>\n",
       "      <td>0.004440</td>\n",
       "      <td>0.004673</td>\n",
       "      <td>0.004071</td>\n",
       "      <td>0.004374</td>\n",
       "      <td>10567352</td>\n",
       "    </tr>\n",
       "    <tr>\n",
       "      <th>4</th>\n",
       "      <td>2019-05-02</td>\n",
       "      <td>0.004366</td>\n",
       "      <td>0.004700</td>\n",
       "      <td>0.004096</td>\n",
       "      <td>0.004198</td>\n",
       "      <td>6714908</td>\n",
       "    </tr>\n",
       "  </tbody>\n",
       "</table>\n",
       "</div>"
      ],
      "text/plain": [
       "        Date      Open      High       Low     Close    Volume\n",
       "0 2019-04-28  0.004521  0.004545  0.004317  0.004421   8408136\n",
       "1 2019-04-29  0.004418  0.004492  0.003471  0.003471   8267044\n",
       "2 2019-04-30  0.003462  0.005078  0.003458  0.004478  25072706\n",
       "3 2019-05-01  0.004440  0.004673  0.004071  0.004374  10567352\n",
       "4 2019-05-02  0.004366  0.004700  0.004096  0.004198   6714908"
      ]
     },
     "execution_count": 4,
     "metadata": {},
     "output_type": "execute_result"
    }
   ],
   "source": [
    "matic['Date'] = pd.to_datetime(matic.Date)\n",
    "\n",
    "# for i in range(len(matic)):\n",
    "#     matic['Price'][i] = float(re.sub(',', '', matic['Price'][i]))\n",
    "#     matic['Open'][i] = float(re.sub(',', '', matic['Open'][i]))\n",
    "#     matic['High'][i] = float(re.sub(',', '', matic['High'][i]))\n",
    "#     matic['Low'][i] = float(re.sub(',', '', matic['Low'][i]))\n",
    "#     matic['Change %'][i] = float(re.sub('%', '', matic['Change %'][i]))\n",
    "#     if matic['Vol.'][i][-1] == 'K':\n",
    "#         matic['Vol.'][i] = int(float(re.sub('K', '', matic['Vol.'][i])) * 1000) \n",
    "#     elif matic['Vol.'][i][-1] == 'M':\n",
    "#         matic['Vol.'][i] = int(float(re.sub('M', '', matic['Vol.'][i])) * 1000000) \n",
    "\n",
    "matic.head()"
   ]
  },
  {
   "cell_type": "code",
   "execution_count": 5,
   "id": "dc75ee07",
   "metadata": {
    "execution": {
     "iopub.execute_input": "2023-03-13T11:31:09.064186Z",
     "iopub.status.busy": "2023-03-13T11:31:09.063503Z",
     "iopub.status.idle": "2023-03-13T11:31:09.071472Z",
     "shell.execute_reply": "2023-03-13T11:31:09.070037Z"
    },
    "id": "LHaE0OCkHNsn",
    "outputId": "20037829-3f9a-4322-f26a-7861a8ef8e0c",
    "papermill": {
     "duration": 0.030228,
     "end_time": "2023-03-13T11:31:09.074116",
     "exception": false,
     "start_time": "2023-03-13T11:31:09.043888",
     "status": "completed"
    },
    "tags": []
   },
   "outputs": [
    {
     "data": {
      "text/plain": [
       "(1295, 6)"
      ]
     },
     "execution_count": 5,
     "metadata": {},
     "output_type": "execute_result"
    }
   ],
   "source": [
    "matic.shape"
   ]
  },
  {
   "cell_type": "code",
   "execution_count": 6,
   "id": "604a8032",
   "metadata": {
    "execution": {
     "iopub.execute_input": "2023-03-13T11:31:09.115235Z",
     "iopub.status.busy": "2023-03-13T11:31:09.114761Z",
     "iopub.status.idle": "2023-03-13T11:31:09.129237Z",
     "shell.execute_reply": "2023-03-13T11:31:09.127333Z"
    },
    "id": "5EyUoXnwGqdr",
    "outputId": "0521448d-ee09-4c27-f7e5-f2fb2316c7d7",
    "papermill": {
     "duration": 0.038871,
     "end_time": "2023-03-13T11:31:09.132596",
     "exception": false,
     "start_time": "2023-03-13T11:31:09.093725",
     "status": "completed"
    },
    "tags": []
   },
   "outputs": [
    {
     "name": "stdout",
     "output_type": "stream",
     "text": [
      "Total number of days : 1295\n",
      "Total number of fields : 6\n"
     ]
    }
   ],
   "source": [
    "print('Total number of days :', matic.Date.nunique())\n",
    "print('Total number of fields :', matic.shape[1])"
   ]
  },
  {
   "cell_type": "markdown",
   "id": "cd2df37d",
   "metadata": {
    "id": "SLyeJT9tK50C",
    "papermill": {
     "duration": 0.018707,
     "end_time": "2023-03-13T11:31:09.170689",
     "exception": false,
     "start_time": "2023-03-13T11:31:09.151982",
     "status": "completed"
    },
    "tags": []
   },
   "source": [
    "# **Chceking Null and NA values**"
   ]
  },
  {
   "cell_type": "code",
   "execution_count": 7,
   "id": "ae032e8f",
   "metadata": {
    "execution": {
     "iopub.execute_input": "2023-03-13T11:31:09.212839Z",
     "iopub.status.busy": "2023-03-13T11:31:09.211847Z",
     "iopub.status.idle": "2023-03-13T11:31:09.222802Z",
     "shell.execute_reply": "2023-03-13T11:31:09.220855Z"
    },
    "id": "4MbwkSzEJoJa",
    "outputId": "a80a736f-73d0-4ebf-d4b7-190fb71c98ee",
    "papermill": {
     "duration": 0.035942,
     "end_time": "2023-03-13T11:31:09.225967",
     "exception": false,
     "start_time": "2023-03-13T11:31:09.190025",
     "status": "completed"
    },
    "tags": []
   },
   "outputs": [
    {
     "name": "stdout",
     "output_type": "stream",
     "text": [
      "Null values : 0\n",
      "NA values : False\n"
     ]
    }
   ],
   "source": [
    "print(\"Null values :\", matic.isnull().values.sum())\n",
    "print(\"NA values :\", matic.isna().values.any())"
   ]
  },
  {
   "cell_type": "markdown",
   "id": "3b0feab6",
   "metadata": {
    "id": "fWv4KYmjLCuH",
    "papermill": {
     "duration": 0.020385,
     "end_time": "2023-03-13T11:31:09.266797",
     "exception": false,
     "start_time": "2023-03-13T11:31:09.246412",
     "status": "completed"
    },
    "tags": []
   },
   "source": [
    "# **Finding out the duration of dataset**"
   ]
  },
  {
   "cell_type": "code",
   "execution_count": 8,
   "id": "be4fa47f",
   "metadata": {
    "execution": {
     "iopub.execute_input": "2023-03-13T11:31:09.307482Z",
     "iopub.status.busy": "2023-03-13T11:31:09.305969Z",
     "iopub.status.idle": "2023-03-13T11:31:09.319778Z",
     "shell.execute_reply": "2023-03-13T11:31:09.318048Z"
    },
    "id": "R2zAYnNpKA9_",
    "outputId": "76b74426-e838-44f5-8241-f2f1594137c5",
    "papermill": {
     "duration": 0.038113,
     "end_time": "2023-03-13T11:31:09.323718",
     "exception": false,
     "start_time": "2023-03-13T11:31:09.285605",
     "status": "completed"
    },
    "tags": []
   },
   "outputs": [
    {
     "name": "stdout",
     "output_type": "stream",
     "text": [
      "Starting date : 2019-04-28 00:00:00\n",
      "Ending date : 2022-11-12 00:00:00\n",
      "Duration : 1294 days 00:00:00\n"
     ]
    }
   ],
   "source": [
    "print(\"Starting date :\", matic.iloc[0][0])\n",
    "print(\"Ending date :\", matic.iloc[-1][0])\n",
    "print(\"Duration :\", matic.iloc[-1][0]- matic.iloc[0][0])"
   ]
  },
  {
   "cell_type": "markdown",
   "id": "95b8c7f9",
   "metadata": {
    "id": "nPMSAC229BQ8",
    "papermill": {
     "duration": 0.019705,
     "end_time": "2023-03-13T11:31:09.363358",
     "exception": false,
     "start_time": "2023-03-13T11:31:09.343653",
     "status": "completed"
    },
    "tags": []
   },
   "source": [
    "# **EDA**"
   ]
  },
  {
   "cell_type": "markdown",
   "id": "7ac7bbbe",
   "metadata": {
    "id": "V7LXGOtP9NbI",
    "papermill": {
     "duration": 0.019637,
     "end_time": "2023-03-13T11:31:09.403509",
     "exception": false,
     "start_time": "2023-03-13T11:31:09.383872",
     "status": "completed"
    },
    "tags": []
   },
   "source": [
    "# **Monthwise Analysis for the year 2022**"
   ]
  },
  {
   "cell_type": "code",
   "execution_count": 9,
   "id": "2db20b97",
   "metadata": {
    "execution": {
     "iopub.execute_input": "2023-03-13T11:31:09.445335Z",
     "iopub.status.busy": "2023-03-13T11:31:09.444457Z",
     "iopub.status.idle": "2023-03-13T11:31:09.471325Z",
     "shell.execute_reply": "2023-03-13T11:31:09.470254Z"
    },
    "id": "3ugzIW3F9CPV",
    "outputId": "787b9b43-b70f-4238-a021-5b0bfb98e674",
    "papermill": {
     "duration": 0.050341,
     "end_time": "2023-03-13T11:31:09.473725",
     "exception": false,
     "start_time": "2023-03-13T11:31:09.423384",
     "status": "completed"
    },
    "tags": []
   },
   "outputs": [
    {
     "data": {
      "text/html": [
       "<div>\n",
       "<style scoped>\n",
       "    .dataframe tbody tr th:only-of-type {\n",
       "        vertical-align: middle;\n",
       "    }\n",
       "\n",
       "    .dataframe tbody tr th {\n",
       "        vertical-align: top;\n",
       "    }\n",
       "\n",
       "    .dataframe thead th {\n",
       "        text-align: right;\n",
       "    }\n",
       "</style>\n",
       "<table border=\"1\" class=\"dataframe\">\n",
       "  <thead>\n",
       "    <tr style=\"text-align: right;\">\n",
       "      <th></th>\n",
       "      <th>Date</th>\n",
       "      <th>Open</th>\n",
       "      <th>High</th>\n",
       "      <th>Low</th>\n",
       "      <th>Close</th>\n",
       "    </tr>\n",
       "  </thead>\n",
       "  <tbody>\n",
       "    <tr>\n",
       "      <th>0</th>\n",
       "      <td>2022-01-01</td>\n",
       "      <td>2.527818</td>\n",
       "      <td>2.601468</td>\n",
       "      <td>2.511482</td>\n",
       "      <td>2.574791</td>\n",
       "    </tr>\n",
       "    <tr>\n",
       "      <th>1</th>\n",
       "      <td>2022-01-02</td>\n",
       "      <td>2.574261</td>\n",
       "      <td>2.576642</td>\n",
       "      <td>2.509071</td>\n",
       "      <td>2.549190</td>\n",
       "    </tr>\n",
       "    <tr>\n",
       "      <th>2</th>\n",
       "      <td>2022-01-03</td>\n",
       "      <td>2.549156</td>\n",
       "      <td>2.549941</td>\n",
       "      <td>2.388141</td>\n",
       "      <td>2.432652</td>\n",
       "    </tr>\n",
       "    <tr>\n",
       "      <th>3</th>\n",
       "      <td>2022-01-04</td>\n",
       "      <td>2.434234</td>\n",
       "      <td>2.500873</td>\n",
       "      <td>2.363126</td>\n",
       "      <td>2.367248</td>\n",
       "    </tr>\n",
       "    <tr>\n",
       "      <th>4</th>\n",
       "      <td>2022-01-05</td>\n",
       "      <td>2.367199</td>\n",
       "      <td>2.447287</td>\n",
       "      <td>2.056368</td>\n",
       "      <td>2.195475</td>\n",
       "    </tr>\n",
       "  </tbody>\n",
       "</table>\n",
       "</div>"
      ],
      "text/plain": [
       "        Date      Open      High       Low     Close\n",
       "0 2022-01-01  2.527818  2.601468  2.511482  2.574791\n",
       "1 2022-01-02  2.574261  2.576642  2.509071  2.549190\n",
       "2 2022-01-03  2.549156  2.549941  2.388141  2.432652\n",
       "3 2022-01-04  2.434234  2.500873  2.363126  2.367248\n",
       "4 2022-01-05  2.367199  2.447287  2.056368  2.195475"
      ]
     },
     "execution_count": 9,
     "metadata": {},
     "output_type": "execute_result"
    }
   ],
   "source": [
    "y_2022 = matic[matic['Date'] >= '2022-01-01']\n",
    "y_2022 = y_2022.drop(['Volume'], axis = 1)\n",
    "y_2022.reset_index(drop = True, inplace = True)\n",
    "y_2022.head()"
   ]
  },
  {
   "cell_type": "code",
   "execution_count": 10,
   "id": "caa6532d",
   "metadata": {
    "execution": {
     "iopub.execute_input": "2023-03-13T11:31:09.531951Z",
     "iopub.status.busy": "2023-03-13T11:31:09.530625Z",
     "iopub.status.idle": "2023-03-13T11:31:09.562229Z",
     "shell.execute_reply": "2023-03-13T11:31:09.560508Z"
    },
    "id": "oNjXzqPSKKlT",
    "outputId": "e8557e7a-bbdc-4b9f-93a0-cec175e5f747",
    "papermill": {
     "duration": 0.072363,
     "end_time": "2023-03-13T11:31:09.566213",
     "exception": false,
     "start_time": "2023-03-13T11:31:09.493850",
     "status": "completed"
    },
    "tags": []
   },
   "outputs": [
    {
     "data": {
      "text/html": [
       "<div>\n",
       "<style scoped>\n",
       "    .dataframe tbody tr th:only-of-type {\n",
       "        vertical-align: middle;\n",
       "    }\n",
       "\n",
       "    .dataframe tbody tr th {\n",
       "        vertical-align: top;\n",
       "    }\n",
       "\n",
       "    .dataframe thead th {\n",
       "        text-align: right;\n",
       "    }\n",
       "</style>\n",
       "<table border=\"1\" class=\"dataframe\">\n",
       "  <thead>\n",
       "    <tr style=\"text-align: right;\">\n",
       "      <th></th>\n",
       "      <th>Date</th>\n",
       "      <th>Open</th>\n",
       "      <th>Close</th>\n",
       "      <th>High</th>\n",
       "      <th>Low</th>\n",
       "    </tr>\n",
       "  </thead>\n",
       "  <tbody>\n",
       "    <tr>\n",
       "      <th>0</th>\n",
       "      <td>January</td>\n",
       "      <td>2.051328</td>\n",
       "      <td>2.022779</td>\n",
       "      <td>2.127725</td>\n",
       "      <td>1.939756</td>\n",
       "    </tr>\n",
       "    <tr>\n",
       "      <th>1</th>\n",
       "      <td>February</td>\n",
       "      <td>1.662476</td>\n",
       "      <td>1.661469</td>\n",
       "      <td>1.729543</td>\n",
       "      <td>1.586958</td>\n",
       "    </tr>\n",
       "    <tr>\n",
       "      <th>2</th>\n",
       "      <td>March</td>\n",
       "      <td>1.518553</td>\n",
       "      <td>1.518790</td>\n",
       "      <td>1.562384</td>\n",
       "      <td>1.482534</td>\n",
       "    </tr>\n",
       "    <tr>\n",
       "      <th>3</th>\n",
       "      <td>April</td>\n",
       "      <td>1.427907</td>\n",
       "      <td>1.408560</td>\n",
       "      <td>1.461532</td>\n",
       "      <td>1.379722</td>\n",
       "    </tr>\n",
       "    <tr>\n",
       "      <th>4</th>\n",
       "      <td>May</td>\n",
       "      <td>0.782830</td>\n",
       "      <td>0.770518</td>\n",
       "      <td>0.818652</td>\n",
       "      <td>0.733169</td>\n",
       "    </tr>\n",
       "    <tr>\n",
       "      <th>5</th>\n",
       "      <td>June</td>\n",
       "      <td>0.524504</td>\n",
       "      <td>0.518362</td>\n",
       "      <td>0.549364</td>\n",
       "      <td>0.492573</td>\n",
       "    </tr>\n",
       "    <tr>\n",
       "      <th>6</th>\n",
       "      <td>July</td>\n",
       "      <td>0.705693</td>\n",
       "      <td>0.720221</td>\n",
       "      <td>0.750041</td>\n",
       "      <td>0.675645</td>\n",
       "    </tr>\n",
       "    <tr>\n",
       "      <th>7</th>\n",
       "      <td>August</td>\n",
       "      <td>0.874938</td>\n",
       "      <td>0.871830</td>\n",
       "      <td>0.901774</td>\n",
       "      <td>0.849418</td>\n",
       "    </tr>\n",
       "    <tr>\n",
       "      <th>8</th>\n",
       "      <td>September</td>\n",
       "      <td>0.817986</td>\n",
       "      <td>0.816466</td>\n",
       "      <td>0.840067</td>\n",
       "      <td>0.793467</td>\n",
       "    </tr>\n",
       "    <tr>\n",
       "      <th>9</th>\n",
       "      <td>October</td>\n",
       "      <td>0.839503</td>\n",
       "      <td>0.843617</td>\n",
       "      <td>0.860406</td>\n",
       "      <td>0.824043</td>\n",
       "    </tr>\n",
       "    <tr>\n",
       "      <th>10</th>\n",
       "      <td>November</td>\n",
       "      <td>1.032775</td>\n",
       "      <td>1.036921</td>\n",
       "      <td>1.119367</td>\n",
       "      <td>0.951807</td>\n",
       "    </tr>\n",
       "  </tbody>\n",
       "</table>\n",
       "</div>"
      ],
      "text/plain": [
       "         Date      Open     Close      High       Low\n",
       "0     January  2.051328  2.022779  2.127725  1.939756\n",
       "1    February  1.662476  1.661469  1.729543  1.586958\n",
       "2       March  1.518553  1.518790  1.562384  1.482534\n",
       "3       April  1.427907  1.408560  1.461532  1.379722\n",
       "4         May  0.782830  0.770518  0.818652  0.733169\n",
       "5        June  0.524504  0.518362  0.549364  0.492573\n",
       "6        July  0.705693  0.720221  0.750041  0.675645\n",
       "7      August  0.874938  0.871830  0.901774  0.849418\n",
       "8   September  0.817986  0.816466  0.840067  0.793467\n",
       "9     October  0.839503  0.843617  0.860406  0.824043\n",
       "10   November  1.032775  1.036921  1.119367  0.951807"
      ]
     },
     "execution_count": 10,
     "metadata": {},
     "output_type": "execute_result"
    }
   ],
   "source": [
    "monthwise = y_2022.groupby(pd.DatetimeIndex(y_2022.Date).month)[['Open', 'Close', 'High', 'Low']].mean()\n",
    "new_order = ['January', 'February', 'March', 'April', 'May', 'June', 'July', 'August', \n",
    "             'September', 'October', 'November']\n",
    "monthwise = monthwise.reset_index()\n",
    "monthwise['Date'] = new_order\n",
    "#monthwise.index = new_order\n",
    "monthwise"
   ]
  },
  {
   "cell_type": "code",
   "execution_count": 11,
   "id": "f39804d9",
   "metadata": {
    "execution": {
     "iopub.execute_input": "2023-03-13T11:31:09.608400Z",
     "iopub.status.busy": "2023-03-13T11:31:09.607418Z",
     "iopub.status.idle": "2023-03-13T11:31:09.797745Z",
     "shell.execute_reply": "2023-03-13T11:31:09.796013Z"
    },
    "id": "PvYMfcw2SA5Z",
    "outputId": "ef1468ea-e7db-497a-b43c-bc9df939a80a",
    "papermill": {
     "duration": 0.214922,
     "end_time": "2023-03-13T11:31:09.800646",
     "exception": false,
     "start_time": "2023-03-13T11:31:09.585724",
     "status": "completed"
    },
    "tags": []
   },
   "outputs": [
    {
     "data": {
      "text/html": [
       "        <script type=\"text/javascript\">\n",
       "        window.PlotlyConfig = {MathJaxConfig: 'local'};\n",
       "        if (window.MathJax && window.MathJax.Hub && window.MathJax.Hub.Config) {window.MathJax.Hub.Config({SVG: {font: \"STIX-Web\"}});}\n",
       "        if (typeof require !== 'undefined') {\n",
       "        require.undef(\"plotly\");\n",
       "        requirejs.config({\n",
       "            paths: {\n",
       "                'plotly': ['https://cdn.plot.ly/plotly-2.18.0.min']\n",
       "            }\n",
       "        });\n",
       "        require(['plotly'], function(Plotly) {\n",
       "            window._Plotly = Plotly;\n",
       "        });\n",
       "        }\n",
       "        </script>\n",
       "        "
      ]
     },
     "metadata": {},
     "output_type": "display_data"
    },
    {
     "data": {
      "text/html": [
       "<div>                            <div id=\"02caf52a-5314-46f1-978d-08deb254e695\" class=\"plotly-graph-div\" style=\"height:525px; width:100%;\"></div>            <script type=\"text/javascript\">                require([\"plotly\"], function(Plotly) {                    window.PLOTLYENV=window.PLOTLYENV || {};                                    if (document.getElementById(\"02caf52a-5314-46f1-978d-08deb254e695\")) {                    Plotly.newPlot(                        \"02caf52a-5314-46f1-978d-08deb254e695\",                        [{\"marker\":{\"color\":\"purple\"},\"name\":\"Stock Close Price\",\"x\":[\"January\",\"February\",\"March\",\"April\",\"May\",\"June\",\"July\",\"August\",\"September\",\"October\",\"November\"],\"y\":[2.022778703320411,1.6614685314042228,1.51879035657452,1.4085600932439168,0.7705175376707508,0.5183623681465784,0.7202209984102557,0.871829580876135,0.8164659957091014,0.8436167413188566,1.0369213819503784],\"type\":\"bar\"},{\"marker\":{\"color\":\"pink\"},\"name\":\"Stock Open Price\",\"x\":[\"January\",\"February\",\"March\",\"April\",\"May\",\"June\",\"July\",\"August\",\"September\",\"October\",\"November\"],\"y\":[2.051328193756842,1.6624758200986045,1.5185529185879616,1.4279070734977721,0.782829842259807,0.5245039671659469,0.7056930911156439,0.8749381399923756,0.8179860015710195,0.8395032921145039,1.0327750047047932],\"type\":\"bar\"}],                        {\"template\":{\"data\":{\"histogram2dcontour\":[{\"type\":\"histogram2dcontour\",\"colorbar\":{\"outlinewidth\":0,\"ticks\":\"\"},\"colorscale\":[[0.0,\"#0d0887\"],[0.1111111111111111,\"#46039f\"],[0.2222222222222222,\"#7201a8\"],[0.3333333333333333,\"#9c179e\"],[0.4444444444444444,\"#bd3786\"],[0.5555555555555556,\"#d8576b\"],[0.6666666666666666,\"#ed7953\"],[0.7777777777777778,\"#fb9f3a\"],[0.8888888888888888,\"#fdca26\"],[1.0,\"#f0f921\"]]}],\"choropleth\":[{\"type\":\"choropleth\",\"colorbar\":{\"outlinewidth\":0,\"ticks\":\"\"}}],\"histogram2d\":[{\"type\":\"histogram2d\",\"colorbar\":{\"outlinewidth\":0,\"ticks\":\"\"},\"colorscale\":[[0.0,\"#0d0887\"],[0.1111111111111111,\"#46039f\"],[0.2222222222222222,\"#7201a8\"],[0.3333333333333333,\"#9c179e\"],[0.4444444444444444,\"#bd3786\"],[0.5555555555555556,\"#d8576b\"],[0.6666666666666666,\"#ed7953\"],[0.7777777777777778,\"#fb9f3a\"],[0.8888888888888888,\"#fdca26\"],[1.0,\"#f0f921\"]]}],\"heatmap\":[{\"type\":\"heatmap\",\"colorbar\":{\"outlinewidth\":0,\"ticks\":\"\"},\"colorscale\":[[0.0,\"#0d0887\"],[0.1111111111111111,\"#46039f\"],[0.2222222222222222,\"#7201a8\"],[0.3333333333333333,\"#9c179e\"],[0.4444444444444444,\"#bd3786\"],[0.5555555555555556,\"#d8576b\"],[0.6666666666666666,\"#ed7953\"],[0.7777777777777778,\"#fb9f3a\"],[0.8888888888888888,\"#fdca26\"],[1.0,\"#f0f921\"]]}],\"heatmapgl\":[{\"type\":\"heatmapgl\",\"colorbar\":{\"outlinewidth\":0,\"ticks\":\"\"},\"colorscale\":[[0.0,\"#0d0887\"],[0.1111111111111111,\"#46039f\"],[0.2222222222222222,\"#7201a8\"],[0.3333333333333333,\"#9c179e\"],[0.4444444444444444,\"#bd3786\"],[0.5555555555555556,\"#d8576b\"],[0.6666666666666666,\"#ed7953\"],[0.7777777777777778,\"#fb9f3a\"],[0.8888888888888888,\"#fdca26\"],[1.0,\"#f0f921\"]]}],\"contourcarpet\":[{\"type\":\"contourcarpet\",\"colorbar\":{\"outlinewidth\":0,\"ticks\":\"\"}}],\"contour\":[{\"type\":\"contour\",\"colorbar\":{\"outlinewidth\":0,\"ticks\":\"\"},\"colorscale\":[[0.0,\"#0d0887\"],[0.1111111111111111,\"#46039f\"],[0.2222222222222222,\"#7201a8\"],[0.3333333333333333,\"#9c179e\"],[0.4444444444444444,\"#bd3786\"],[0.5555555555555556,\"#d8576b\"],[0.6666666666666666,\"#ed7953\"],[0.7777777777777778,\"#fb9f3a\"],[0.8888888888888888,\"#fdca26\"],[1.0,\"#f0f921\"]]}],\"surface\":[{\"type\":\"surface\",\"colorbar\":{\"outlinewidth\":0,\"ticks\":\"\"},\"colorscale\":[[0.0,\"#0d0887\"],[0.1111111111111111,\"#46039f\"],[0.2222222222222222,\"#7201a8\"],[0.3333333333333333,\"#9c179e\"],[0.4444444444444444,\"#bd3786\"],[0.5555555555555556,\"#d8576b\"],[0.6666666666666666,\"#ed7953\"],[0.7777777777777778,\"#fb9f3a\"],[0.8888888888888888,\"#fdca26\"],[1.0,\"#f0f921\"]]}],\"mesh3d\":[{\"type\":\"mesh3d\",\"colorbar\":{\"outlinewidth\":0,\"ticks\":\"\"}}],\"scatter\":[{\"fillpattern\":{\"fillmode\":\"overlay\",\"size\":10,\"solidity\":0.2},\"type\":\"scatter\"}],\"parcoords\":[{\"type\":\"parcoords\",\"line\":{\"colorbar\":{\"outlinewidth\":0,\"ticks\":\"\"}}}],\"scatterpolargl\":[{\"type\":\"scatterpolargl\",\"marker\":{\"colorbar\":{\"outlinewidth\":0,\"ticks\":\"\"}}}],\"bar\":[{\"error_x\":{\"color\":\"#2a3f5f\"},\"error_y\":{\"color\":\"#2a3f5f\"},\"marker\":{\"line\":{\"color\":\"#E5ECF6\",\"width\":0.5},\"pattern\":{\"fillmode\":\"overlay\",\"size\":10,\"solidity\":0.2}},\"type\":\"bar\"}],\"scattergeo\":[{\"type\":\"scattergeo\",\"marker\":{\"colorbar\":{\"outlinewidth\":0,\"ticks\":\"\"}}}],\"scatterpolar\":[{\"type\":\"scatterpolar\",\"marker\":{\"colorbar\":{\"outlinewidth\":0,\"ticks\":\"\"}}}],\"histogram\":[{\"marker\":{\"pattern\":{\"fillmode\":\"overlay\",\"size\":10,\"solidity\":0.2}},\"type\":\"histogram\"}],\"scattergl\":[{\"type\":\"scattergl\",\"marker\":{\"colorbar\":{\"outlinewidth\":0,\"ticks\":\"\"}}}],\"scatter3d\":[{\"type\":\"scatter3d\",\"line\":{\"colorbar\":{\"outlinewidth\":0,\"ticks\":\"\"}},\"marker\":{\"colorbar\":{\"outlinewidth\":0,\"ticks\":\"\"}}}],\"scattermapbox\":[{\"type\":\"scattermapbox\",\"marker\":{\"colorbar\":{\"outlinewidth\":0,\"ticks\":\"\"}}}],\"scatterternary\":[{\"type\":\"scatterternary\",\"marker\":{\"colorbar\":{\"outlinewidth\":0,\"ticks\":\"\"}}}],\"scattercarpet\":[{\"type\":\"scattercarpet\",\"marker\":{\"colorbar\":{\"outlinewidth\":0,\"ticks\":\"\"}}}],\"carpet\":[{\"aaxis\":{\"endlinecolor\":\"#2a3f5f\",\"gridcolor\":\"white\",\"linecolor\":\"white\",\"minorgridcolor\":\"white\",\"startlinecolor\":\"#2a3f5f\"},\"baxis\":{\"endlinecolor\":\"#2a3f5f\",\"gridcolor\":\"white\",\"linecolor\":\"white\",\"minorgridcolor\":\"white\",\"startlinecolor\":\"#2a3f5f\"},\"type\":\"carpet\"}],\"table\":[{\"cells\":{\"fill\":{\"color\":\"#EBF0F8\"},\"line\":{\"color\":\"white\"}},\"header\":{\"fill\":{\"color\":\"#C8D4E3\"},\"line\":{\"color\":\"white\"}},\"type\":\"table\"}],\"barpolar\":[{\"marker\":{\"line\":{\"color\":\"#E5ECF6\",\"width\":0.5},\"pattern\":{\"fillmode\":\"overlay\",\"size\":10,\"solidity\":0.2}},\"type\":\"barpolar\"}],\"pie\":[{\"automargin\":true,\"type\":\"pie\"}]},\"layout\":{\"autotypenumbers\":\"strict\",\"colorway\":[\"#636efa\",\"#EF553B\",\"#00cc96\",\"#ab63fa\",\"#FFA15A\",\"#19d3f3\",\"#FF6692\",\"#B6E880\",\"#FF97FF\",\"#FECB52\"],\"font\":{\"color\":\"#2a3f5f\"},\"hovermode\":\"closest\",\"hoverlabel\":{\"align\":\"left\"},\"paper_bgcolor\":\"white\",\"plot_bgcolor\":\"#E5ECF6\",\"polar\":{\"bgcolor\":\"#E5ECF6\",\"angularaxis\":{\"gridcolor\":\"white\",\"linecolor\":\"white\",\"ticks\":\"\"},\"radialaxis\":{\"gridcolor\":\"white\",\"linecolor\":\"white\",\"ticks\":\"\"}},\"ternary\":{\"bgcolor\":\"#E5ECF6\",\"aaxis\":{\"gridcolor\":\"white\",\"linecolor\":\"white\",\"ticks\":\"\"},\"baxis\":{\"gridcolor\":\"white\",\"linecolor\":\"white\",\"ticks\":\"\"},\"caxis\":{\"gridcolor\":\"white\",\"linecolor\":\"white\",\"ticks\":\"\"}},\"coloraxis\":{\"colorbar\":{\"outlinewidth\":0,\"ticks\":\"\"}},\"colorscale\":{\"sequential\":[[0.0,\"#0d0887\"],[0.1111111111111111,\"#46039f\"],[0.2222222222222222,\"#7201a8\"],[0.3333333333333333,\"#9c179e\"],[0.4444444444444444,\"#bd3786\"],[0.5555555555555556,\"#d8576b\"],[0.6666666666666666,\"#ed7953\"],[0.7777777777777778,\"#fb9f3a\"],[0.8888888888888888,\"#fdca26\"],[1.0,\"#f0f921\"]],\"sequentialminus\":[[0.0,\"#0d0887\"],[0.1111111111111111,\"#46039f\"],[0.2222222222222222,\"#7201a8\"],[0.3333333333333333,\"#9c179e\"],[0.4444444444444444,\"#bd3786\"],[0.5555555555555556,\"#d8576b\"],[0.6666666666666666,\"#ed7953\"],[0.7777777777777778,\"#fb9f3a\"],[0.8888888888888888,\"#fdca26\"],[1.0,\"#f0f921\"]],\"diverging\":[[0,\"#8e0152\"],[0.1,\"#c51b7d\"],[0.2,\"#de77ae\"],[0.3,\"#f1b6da\"],[0.4,\"#fde0ef\"],[0.5,\"#f7f7f7\"],[0.6,\"#e6f5d0\"],[0.7,\"#b8e186\"],[0.8,\"#7fbc41\"],[0.9,\"#4d9221\"],[1,\"#276419\"]]},\"xaxis\":{\"gridcolor\":\"white\",\"linecolor\":\"white\",\"ticks\":\"\",\"title\":{\"standoff\":15},\"zerolinecolor\":\"white\",\"automargin\":true,\"zerolinewidth\":2},\"yaxis\":{\"gridcolor\":\"white\",\"linecolor\":\"white\",\"ticks\":\"\",\"title\":{\"standoff\":15},\"zerolinecolor\":\"white\",\"automargin\":true,\"zerolinewidth\":2},\"scene\":{\"xaxis\":{\"backgroundcolor\":\"#E5ECF6\",\"gridcolor\":\"white\",\"linecolor\":\"white\",\"showbackground\":true,\"ticks\":\"\",\"zerolinecolor\":\"white\",\"gridwidth\":2},\"yaxis\":{\"backgroundcolor\":\"#E5ECF6\",\"gridcolor\":\"white\",\"linecolor\":\"white\",\"showbackground\":true,\"ticks\":\"\",\"zerolinecolor\":\"white\",\"gridwidth\":2},\"zaxis\":{\"backgroundcolor\":\"#E5ECF6\",\"gridcolor\":\"white\",\"linecolor\":\"white\",\"showbackground\":true,\"ticks\":\"\",\"zerolinecolor\":\"white\",\"gridwidth\":2}},\"shapedefaults\":{\"line\":{\"color\":\"#2a3f5f\"}},\"annotationdefaults\":{\"arrowcolor\":\"#2a3f5f\",\"arrowhead\":0,\"arrowwidth\":1},\"geo\":{\"bgcolor\":\"white\",\"landcolor\":\"#E5ECF6\",\"subunitcolor\":\"white\",\"showland\":true,\"showlakes\":true,\"lakecolor\":\"white\"},\"title\":{\"x\":0.05},\"mapbox\":{\"style\":\"light\"}}},\"xaxis\":{\"tickangle\":-45},\"barmode\":\"group\",\"title\":{\"text\":\"Monthwise comparision for Open and Close Prices for the year 2022\"}},                        {\"responsive\": true}                    ).then(function(){\n",
       "                            \n",
       "var gd = document.getElementById('02caf52a-5314-46f1-978d-08deb254e695');\n",
       "var x = new MutationObserver(function (mutations, observer) {{\n",
       "        var display = window.getComputedStyle(gd).display;\n",
       "        if (!display || display === 'none') {{\n",
       "            console.log([gd, 'removed!']);\n",
       "            Plotly.purge(gd);\n",
       "            observer.disconnect();\n",
       "        }}\n",
       "}});\n",
       "\n",
       "// Listen for the removal of the full notebook cells\n",
       "var notebookContainer = gd.closest('#notebook-container');\n",
       "if (notebookContainer) {{\n",
       "    x.observe(notebookContainer, {childList: true});\n",
       "}}\n",
       "\n",
       "// Listen for the clearing of the current output cell\n",
       "var outputEl = gd.closest('.output');\n",
       "if (outputEl) {{\n",
       "    x.observe(outputEl, {childList: true});\n",
       "}}\n",
       "\n",
       "                        })                };                });            </script>        </div>"
      ]
     },
     "metadata": {},
     "output_type": "display_data"
    }
   ],
   "source": [
    "fig = go.Figure()\n",
    "\n",
    "fig.add_trace(go.Bar(\n",
    "    x = monthwise.Date,\n",
    "    y = monthwise['Close'],\n",
    "    name = 'Stock Close Price',\n",
    "    marker_color = 'purple'\n",
    "))\n",
    "\n",
    "fig.add_trace(go.Bar(\n",
    "    x = monthwise.Date,\n",
    "    y = monthwise['Open'],\n",
    "    name = 'Stock Open Price',\n",
    "    marker_color = 'pink'\n",
    "))\n",
    "fig.update_layout(barmode = 'group', xaxis_tickangle = -45, \n",
    "                  title = 'Monthwise comparision for Open and Close Prices for the year 2022')\n",
    "fig.show()"
   ]
  },
  {
   "cell_type": "markdown",
   "id": "339babe4",
   "metadata": {
    "id": "ZB7_NIxTLTDI",
    "papermill": {
     "duration": 0.018803,
     "end_time": "2023-03-13T11:31:09.839669",
     "exception": false,
     "start_time": "2023-03-13T11:31:09.820866",
     "status": "completed"
    },
    "tags": []
   },
   "source": [
    "# **Monthwise comparision for High and Low prices**"
   ]
  },
  {
   "cell_type": "code",
   "execution_count": 12,
   "id": "49e11523",
   "metadata": {
    "execution": {
     "iopub.execute_input": "2023-03-13T11:31:09.880786Z",
     "iopub.status.busy": "2023-03-13T11:31:09.880368Z",
     "iopub.status.idle": "2023-03-13T11:31:09.898688Z",
     "shell.execute_reply": "2023-03-13T11:31:09.897538Z"
    },
    "id": "E2poNxEyNnQA",
    "papermill": {
     "duration": 0.042718,
     "end_time": "2023-03-13T11:31:09.901730",
     "exception": false,
     "start_time": "2023-03-13T11:31:09.859012",
     "status": "completed"
    },
    "tags": []
   },
   "outputs": [],
   "source": [
    "monthwise_high = y_2022.groupby(pd.DatetimeIndex(y_2022.Date).month)['High'].max()\n",
    "monthwise_high = monthwise_high.reset_index()\n",
    "monthwise_high['Date'] = new_order\n",
    "\n",
    "monthwise_low = y_2022.groupby(pd.DatetimeIndex(y_2022.Date).month)['Low'].min()\n",
    "monthwise_low = monthwise_low.reset_index()\n",
    "monthwise_low['Date'] = new_order"
   ]
  },
  {
   "cell_type": "code",
   "execution_count": 13,
   "id": "dd7e0690",
   "metadata": {
    "execution": {
     "iopub.execute_input": "2023-03-13T11:31:09.943879Z",
     "iopub.status.busy": "2023-03-13T11:31:09.943456Z",
     "iopub.status.idle": "2023-03-13T11:31:09.962696Z",
     "shell.execute_reply": "2023-03-13T11:31:09.961095Z"
    },
    "id": "z61UJY1tNnNG",
    "outputId": "438a0126-a4fe-4c36-db42-527a4e01c193",
    "papermill": {
     "duration": 0.04326,
     "end_time": "2023-03-13T11:31:09.965472",
     "exception": false,
     "start_time": "2023-03-13T11:31:09.922212",
     "status": "completed"
    },
    "tags": []
   },
   "outputs": [
    {
     "data": {
      "text/html": [
       "<div>                            <div id=\"b542dfa5-7ea1-42b6-ad38-9ef2f325e955\" class=\"plotly-graph-div\" style=\"height:525px; width:100%;\"></div>            <script type=\"text/javascript\">                require([\"plotly\"], function(Plotly) {                    window.PLOTLYENV=window.PLOTLYENV || {};                                    if (document.getElementById(\"b542dfa5-7ea1-42b6-ad38-9ef2f325e955\")) {                    Plotly.newPlot(                        \"b542dfa5-7ea1-42b6-ad38-9ef2f325e955\",                        [{\"marker\":{\"color\":\"purple\"},\"name\":\"Matic High Price\",\"x\":[\"January\",\"February\",\"March\",\"April\",\"May\",\"June\",\"July\",\"August\",\"September\",\"October\",\"November\"],\"y\":[2.601468086242676,2.07568097114563,1.7457929849624634,1.7258780002593994,1.1850850582122805,0.6678699851036072,1.0041290521621704,1.0503849983215332,0.9405890107154846,0.9641759991645812,1.2871639728546145],\"type\":\"bar\"},{\"marker\":{\"color\":\"pink\"},\"name\":\"Matic Low Price\",\"x\":[\"January\",\"February\",\"March\",\"April\",\"May\",\"June\",\"July\",\"August\",\"September\",\"October\",\"November\"],\"y\":[1.3139610290527344,1.2530779838562012,1.3350050449371338,1.0295729637145996,0.5084109902381897,0.3228209912776947,0.4504309892654419,0.7585359811782837,0.6946089863777161,0.7214319705963135,0.7789450287818909],\"type\":\"bar\"}],                        {\"template\":{\"data\":{\"histogram2dcontour\":[{\"type\":\"histogram2dcontour\",\"colorbar\":{\"outlinewidth\":0,\"ticks\":\"\"},\"colorscale\":[[0.0,\"#0d0887\"],[0.1111111111111111,\"#46039f\"],[0.2222222222222222,\"#7201a8\"],[0.3333333333333333,\"#9c179e\"],[0.4444444444444444,\"#bd3786\"],[0.5555555555555556,\"#d8576b\"],[0.6666666666666666,\"#ed7953\"],[0.7777777777777778,\"#fb9f3a\"],[0.8888888888888888,\"#fdca26\"],[1.0,\"#f0f921\"]]}],\"choropleth\":[{\"type\":\"choropleth\",\"colorbar\":{\"outlinewidth\":0,\"ticks\":\"\"}}],\"histogram2d\":[{\"type\":\"histogram2d\",\"colorbar\":{\"outlinewidth\":0,\"ticks\":\"\"},\"colorscale\":[[0.0,\"#0d0887\"],[0.1111111111111111,\"#46039f\"],[0.2222222222222222,\"#7201a8\"],[0.3333333333333333,\"#9c179e\"],[0.4444444444444444,\"#bd3786\"],[0.5555555555555556,\"#d8576b\"],[0.6666666666666666,\"#ed7953\"],[0.7777777777777778,\"#fb9f3a\"],[0.8888888888888888,\"#fdca26\"],[1.0,\"#f0f921\"]]}],\"heatmap\":[{\"type\":\"heatmap\",\"colorbar\":{\"outlinewidth\":0,\"ticks\":\"\"},\"colorscale\":[[0.0,\"#0d0887\"],[0.1111111111111111,\"#46039f\"],[0.2222222222222222,\"#7201a8\"],[0.3333333333333333,\"#9c179e\"],[0.4444444444444444,\"#bd3786\"],[0.5555555555555556,\"#d8576b\"],[0.6666666666666666,\"#ed7953\"],[0.7777777777777778,\"#fb9f3a\"],[0.8888888888888888,\"#fdca26\"],[1.0,\"#f0f921\"]]}],\"heatmapgl\":[{\"type\":\"heatmapgl\",\"colorbar\":{\"outlinewidth\":0,\"ticks\":\"\"},\"colorscale\":[[0.0,\"#0d0887\"],[0.1111111111111111,\"#46039f\"],[0.2222222222222222,\"#7201a8\"],[0.3333333333333333,\"#9c179e\"],[0.4444444444444444,\"#bd3786\"],[0.5555555555555556,\"#d8576b\"],[0.6666666666666666,\"#ed7953\"],[0.7777777777777778,\"#fb9f3a\"],[0.8888888888888888,\"#fdca26\"],[1.0,\"#f0f921\"]]}],\"contourcarpet\":[{\"type\":\"contourcarpet\",\"colorbar\":{\"outlinewidth\":0,\"ticks\":\"\"}}],\"contour\":[{\"type\":\"contour\",\"colorbar\":{\"outlinewidth\":0,\"ticks\":\"\"},\"colorscale\":[[0.0,\"#0d0887\"],[0.1111111111111111,\"#46039f\"],[0.2222222222222222,\"#7201a8\"],[0.3333333333333333,\"#9c179e\"],[0.4444444444444444,\"#bd3786\"],[0.5555555555555556,\"#d8576b\"],[0.6666666666666666,\"#ed7953\"],[0.7777777777777778,\"#fb9f3a\"],[0.8888888888888888,\"#fdca26\"],[1.0,\"#f0f921\"]]}],\"surface\":[{\"type\":\"surface\",\"colorbar\":{\"outlinewidth\":0,\"ticks\":\"\"},\"colorscale\":[[0.0,\"#0d0887\"],[0.1111111111111111,\"#46039f\"],[0.2222222222222222,\"#7201a8\"],[0.3333333333333333,\"#9c179e\"],[0.4444444444444444,\"#bd3786\"],[0.5555555555555556,\"#d8576b\"],[0.6666666666666666,\"#ed7953\"],[0.7777777777777778,\"#fb9f3a\"],[0.8888888888888888,\"#fdca26\"],[1.0,\"#f0f921\"]]}],\"mesh3d\":[{\"type\":\"mesh3d\",\"colorbar\":{\"outlinewidth\":0,\"ticks\":\"\"}}],\"scatter\":[{\"fillpattern\":{\"fillmode\":\"overlay\",\"size\":10,\"solidity\":0.2},\"type\":\"scatter\"}],\"parcoords\":[{\"type\":\"parcoords\",\"line\":{\"colorbar\":{\"outlinewidth\":0,\"ticks\":\"\"}}}],\"scatterpolargl\":[{\"type\":\"scatterpolargl\",\"marker\":{\"colorbar\":{\"outlinewidth\":0,\"ticks\":\"\"}}}],\"bar\":[{\"error_x\":{\"color\":\"#2a3f5f\"},\"error_y\":{\"color\":\"#2a3f5f\"},\"marker\":{\"line\":{\"color\":\"#E5ECF6\",\"width\":0.5},\"pattern\":{\"fillmode\":\"overlay\",\"size\":10,\"solidity\":0.2}},\"type\":\"bar\"}],\"scattergeo\":[{\"type\":\"scattergeo\",\"marker\":{\"colorbar\":{\"outlinewidth\":0,\"ticks\":\"\"}}}],\"scatterpolar\":[{\"type\":\"scatterpolar\",\"marker\":{\"colorbar\":{\"outlinewidth\":0,\"ticks\":\"\"}}}],\"histogram\":[{\"marker\":{\"pattern\":{\"fillmode\":\"overlay\",\"size\":10,\"solidity\":0.2}},\"type\":\"histogram\"}],\"scattergl\":[{\"type\":\"scattergl\",\"marker\":{\"colorbar\":{\"outlinewidth\":0,\"ticks\":\"\"}}}],\"scatter3d\":[{\"type\":\"scatter3d\",\"line\":{\"colorbar\":{\"outlinewidth\":0,\"ticks\":\"\"}},\"marker\":{\"colorbar\":{\"outlinewidth\":0,\"ticks\":\"\"}}}],\"scattermapbox\":[{\"type\":\"scattermapbox\",\"marker\":{\"colorbar\":{\"outlinewidth\":0,\"ticks\":\"\"}}}],\"scatterternary\":[{\"type\":\"scatterternary\",\"marker\":{\"colorbar\":{\"outlinewidth\":0,\"ticks\":\"\"}}}],\"scattercarpet\":[{\"type\":\"scattercarpet\",\"marker\":{\"colorbar\":{\"outlinewidth\":0,\"ticks\":\"\"}}}],\"carpet\":[{\"aaxis\":{\"endlinecolor\":\"#2a3f5f\",\"gridcolor\":\"white\",\"linecolor\":\"white\",\"minorgridcolor\":\"white\",\"startlinecolor\":\"#2a3f5f\"},\"baxis\":{\"endlinecolor\":\"#2a3f5f\",\"gridcolor\":\"white\",\"linecolor\":\"white\",\"minorgridcolor\":\"white\",\"startlinecolor\":\"#2a3f5f\"},\"type\":\"carpet\"}],\"table\":[{\"cells\":{\"fill\":{\"color\":\"#EBF0F8\"},\"line\":{\"color\":\"white\"}},\"header\":{\"fill\":{\"color\":\"#C8D4E3\"},\"line\":{\"color\":\"white\"}},\"type\":\"table\"}],\"barpolar\":[{\"marker\":{\"line\":{\"color\":\"#E5ECF6\",\"width\":0.5},\"pattern\":{\"fillmode\":\"overlay\",\"size\":10,\"solidity\":0.2}},\"type\":\"barpolar\"}],\"pie\":[{\"automargin\":true,\"type\":\"pie\"}]},\"layout\":{\"autotypenumbers\":\"strict\",\"colorway\":[\"#636efa\",\"#EF553B\",\"#00cc96\",\"#ab63fa\",\"#FFA15A\",\"#19d3f3\",\"#FF6692\",\"#B6E880\",\"#FF97FF\",\"#FECB52\"],\"font\":{\"color\":\"#2a3f5f\"},\"hovermode\":\"closest\",\"hoverlabel\":{\"align\":\"left\"},\"paper_bgcolor\":\"white\",\"plot_bgcolor\":\"#E5ECF6\",\"polar\":{\"bgcolor\":\"#E5ECF6\",\"angularaxis\":{\"gridcolor\":\"white\",\"linecolor\":\"white\",\"ticks\":\"\"},\"radialaxis\":{\"gridcolor\":\"white\",\"linecolor\":\"white\",\"ticks\":\"\"}},\"ternary\":{\"bgcolor\":\"#E5ECF6\",\"aaxis\":{\"gridcolor\":\"white\",\"linecolor\":\"white\",\"ticks\":\"\"},\"baxis\":{\"gridcolor\":\"white\",\"linecolor\":\"white\",\"ticks\":\"\"},\"caxis\":{\"gridcolor\":\"white\",\"linecolor\":\"white\",\"ticks\":\"\"}},\"coloraxis\":{\"colorbar\":{\"outlinewidth\":0,\"ticks\":\"\"}},\"colorscale\":{\"sequential\":[[0.0,\"#0d0887\"],[0.1111111111111111,\"#46039f\"],[0.2222222222222222,\"#7201a8\"],[0.3333333333333333,\"#9c179e\"],[0.4444444444444444,\"#bd3786\"],[0.5555555555555556,\"#d8576b\"],[0.6666666666666666,\"#ed7953\"],[0.7777777777777778,\"#fb9f3a\"],[0.8888888888888888,\"#fdca26\"],[1.0,\"#f0f921\"]],\"sequentialminus\":[[0.0,\"#0d0887\"],[0.1111111111111111,\"#46039f\"],[0.2222222222222222,\"#7201a8\"],[0.3333333333333333,\"#9c179e\"],[0.4444444444444444,\"#bd3786\"],[0.5555555555555556,\"#d8576b\"],[0.6666666666666666,\"#ed7953\"],[0.7777777777777778,\"#fb9f3a\"],[0.8888888888888888,\"#fdca26\"],[1.0,\"#f0f921\"]],\"diverging\":[[0,\"#8e0152\"],[0.1,\"#c51b7d\"],[0.2,\"#de77ae\"],[0.3,\"#f1b6da\"],[0.4,\"#fde0ef\"],[0.5,\"#f7f7f7\"],[0.6,\"#e6f5d0\"],[0.7,\"#b8e186\"],[0.8,\"#7fbc41\"],[0.9,\"#4d9221\"],[1,\"#276419\"]]},\"xaxis\":{\"gridcolor\":\"white\",\"linecolor\":\"white\",\"ticks\":\"\",\"title\":{\"standoff\":15},\"zerolinecolor\":\"white\",\"automargin\":true,\"zerolinewidth\":2},\"yaxis\":{\"gridcolor\":\"white\",\"linecolor\":\"white\",\"ticks\":\"\",\"title\":{\"standoff\":15},\"zerolinecolor\":\"white\",\"automargin\":true,\"zerolinewidth\":2},\"scene\":{\"xaxis\":{\"backgroundcolor\":\"#E5ECF6\",\"gridcolor\":\"white\",\"linecolor\":\"white\",\"showbackground\":true,\"ticks\":\"\",\"zerolinecolor\":\"white\",\"gridwidth\":2},\"yaxis\":{\"backgroundcolor\":\"#E5ECF6\",\"gridcolor\":\"white\",\"linecolor\":\"white\",\"showbackground\":true,\"ticks\":\"\",\"zerolinecolor\":\"white\",\"gridwidth\":2},\"zaxis\":{\"backgroundcolor\":\"#E5ECF6\",\"gridcolor\":\"white\",\"linecolor\":\"white\",\"showbackground\":true,\"ticks\":\"\",\"zerolinecolor\":\"white\",\"gridwidth\":2}},\"shapedefaults\":{\"line\":{\"color\":\"#2a3f5f\"}},\"annotationdefaults\":{\"arrowcolor\":\"#2a3f5f\",\"arrowhead\":0,\"arrowwidth\":1},\"geo\":{\"bgcolor\":\"white\",\"landcolor\":\"#E5ECF6\",\"subunitcolor\":\"white\",\"showland\":true,\"showlakes\":true,\"lakecolor\":\"white\"},\"title\":{\"x\":0.05},\"mapbox\":{\"style\":\"light\"}}},\"xaxis\":{\"tickangle\":-45},\"barmode\":\"group\",\"title\":{\"text\":\" Monthwise Matic High and Low Prices for the year 2022\"}},                        {\"responsive\": true}                    ).then(function(){\n",
       "                            \n",
       "var gd = document.getElementById('b542dfa5-7ea1-42b6-ad38-9ef2f325e955');\n",
       "var x = new MutationObserver(function (mutations, observer) {{\n",
       "        var display = window.getComputedStyle(gd).display;\n",
       "        if (!display || display === 'none') {{\n",
       "            console.log([gd, 'removed!']);\n",
       "            Plotly.purge(gd);\n",
       "            observer.disconnect();\n",
       "        }}\n",
       "}});\n",
       "\n",
       "// Listen for the removal of the full notebook cells\n",
       "var notebookContainer = gd.closest('#notebook-container');\n",
       "if (notebookContainer) {{\n",
       "    x.observe(notebookContainer, {childList: true});\n",
       "}}\n",
       "\n",
       "// Listen for the clearing of the current output cell\n",
       "var outputEl = gd.closest('.output');\n",
       "if (outputEl) {{\n",
       "    x.observe(outputEl, {childList: true});\n",
       "}}\n",
       "\n",
       "                        })                };                });            </script>        </div>"
      ]
     },
     "metadata": {},
     "output_type": "display_data"
    }
   ],
   "source": [
    "fig = go.Figure()\n",
    "fig.add_trace(go.Bar(\n",
    "    x = monthwise_high.Date,\n",
    "    y = monthwise_high.High,\n",
    "    name = 'Matic High Price',\n",
    "    marker_color = 'purple'\n",
    "))\n",
    "fig.add_trace(go.Bar(\n",
    "    x = monthwise_low.Date,\n",
    "    y = monthwise_low.Low,\n",
    "    name = 'Matic Low Price',\n",
    "    marker_color='pink'\n",
    "))\n",
    "\n",
    "fig.update_layout(barmode='group', xaxis_tickangle = -45,\n",
    "                  title=' Monthwise Matic High and Low Prices for the year 2022')\n",
    "fig.show()"
   ]
  },
  {
   "cell_type": "markdown",
   "id": "faedd5e7",
   "metadata": {
    "id": "BCTF0_GxLZpH",
    "papermill": {
     "duration": 0.019458,
     "end_time": "2023-03-13T11:31:10.004585",
     "exception": false,
     "start_time": "2023-03-13T11:31:09.985127",
     "status": "completed"
    },
    "tags": []
   },
   "source": [
    "# **Trend comparision between open, high and low prices**"
   ]
  },
  {
   "cell_type": "code",
   "execution_count": 14,
   "id": "4a16e56e",
   "metadata": {
    "execution": {
     "iopub.execute_input": "2023-03-13T11:31:10.047258Z",
     "iopub.status.busy": "2023-03-13T11:31:10.046783Z",
     "iopub.status.idle": "2023-03-13T11:31:11.809499Z",
     "shell.execute_reply": "2023-03-13T11:31:11.807455Z"
    },
    "id": "7azjDCoRXD4G",
    "outputId": "e38577c4-9656-4a40-92fc-45ef9443d833",
    "papermill": {
     "duration": 1.787506,
     "end_time": "2023-03-13T11:31:11.812401",
     "exception": false,
     "start_time": "2023-03-13T11:31:10.024895",
     "status": "completed"
    },
    "tags": []
   },
   "outputs": [
    {
     "data": {
      "text/html": [
       "<div>                            <div id=\"c05a1ad4-a7d8-430b-a844-580516559ef7\" class=\"plotly-graph-div\" style=\"height:525px; width:100%;\"></div>            <script type=\"text/javascript\">                require([\"plotly\"], function(Plotly) {                    window.PLOTLYENV=window.PLOTLYENV || {};                                    if (document.getElementById(\"c05a1ad4-a7d8-430b-a844-580516559ef7\")) {                    Plotly.newPlot(                        \"c05a1ad4-a7d8-430b-a844-580516559ef7\",                        [{\"hovertemplate\":\"variable=Open<br>Date=%{x}<br>Matic value=%{y}<extra></extra>\",\"legendgroup\":\"Open\",\"line\":{\"color\":\"#636efa\",\"dash\":\"solid\"},\"marker\":{\"symbol\":\"circle\"},\"mode\":\"lines\",\"name\":\"Matic Open Price\",\"orientation\":\"v\",\"showlegend\":true,\"x\":[\"January\",\"February\",\"March\",\"April\",\"May\",\"June\",\"July\",\"August\",\"September\",\"October\",\"November\"],\"xaxis\":\"x\",\"y\":[2.051328193756842,1.6624758200986045,1.5185529185879616,1.4279070734977721,0.782829842259807,0.5245039671659469,0.7056930911156439,0.8749381399923756,0.8179860015710195,0.8395032921145039,1.0327750047047932],\"yaxis\":\"y\",\"type\":\"scatter\"},{\"hovertemplate\":\"variable=High<br>Date=%{x}<br>Matic value=%{y}<extra></extra>\",\"legendgroup\":\"High\",\"line\":{\"color\":\"#EF553B\",\"dash\":\"solid\"},\"marker\":{\"symbol\":\"circle\"},\"mode\":\"lines\",\"name\":\"Matic High Price\",\"orientation\":\"v\",\"showlegend\":true,\"x\":[\"January\",\"February\",\"March\",\"April\",\"May\",\"June\",\"July\",\"August\",\"September\",\"October\",\"November\"],\"xaxis\":\"x\",\"y\":[2.127724643676512,1.7295434645244054,1.562383936297509,1.4615321556727092,0.81865184345553,0.5493636349836986,0.7500405878789963,0.9017735488953129,0.8400666018327078,0.8604062257274505,1.1193668444951375],\"yaxis\":\"y\",\"type\":\"scatter\"},{\"hovertemplate\":\"variable=Low<br>Date=%{x}<br>Matic value=%{y}<extra></extra>\",\"legendgroup\":\"Low\",\"line\":{\"color\":\"#00cc96\",\"dash\":\"solid\"},\"marker\":{\"symbol\":\"circle\"},\"mode\":\"lines\",\"name\":\"Matic Low Price\",\"orientation\":\"v\",\"showlegend\":true,\"x\":[\"January\",\"February\",\"March\",\"April\",\"May\",\"June\",\"July\",\"August\",\"September\",\"October\",\"November\"],\"xaxis\":\"x\",\"y\":[1.9397561588594991,1.5869578548840113,1.48253373945913,1.3797218680381775,0.733168936544849,0.49257276753584545,0.6756449659024516,0.8494182286723968,0.7934674680233001,0.8240433566031917,0.9518072009086609],\"yaxis\":\"y\",\"type\":\"scatter\"}],                        {\"template\":{\"data\":{\"histogram2dcontour\":[{\"type\":\"histogram2dcontour\",\"colorbar\":{\"outlinewidth\":0,\"ticks\":\"\"},\"colorscale\":[[0.0,\"#0d0887\"],[0.1111111111111111,\"#46039f\"],[0.2222222222222222,\"#7201a8\"],[0.3333333333333333,\"#9c179e\"],[0.4444444444444444,\"#bd3786\"],[0.5555555555555556,\"#d8576b\"],[0.6666666666666666,\"#ed7953\"],[0.7777777777777778,\"#fb9f3a\"],[0.8888888888888888,\"#fdca26\"],[1.0,\"#f0f921\"]]}],\"choropleth\":[{\"type\":\"choropleth\",\"colorbar\":{\"outlinewidth\":0,\"ticks\":\"\"}}],\"histogram2d\":[{\"type\":\"histogram2d\",\"colorbar\":{\"outlinewidth\":0,\"ticks\":\"\"},\"colorscale\":[[0.0,\"#0d0887\"],[0.1111111111111111,\"#46039f\"],[0.2222222222222222,\"#7201a8\"],[0.3333333333333333,\"#9c179e\"],[0.4444444444444444,\"#bd3786\"],[0.5555555555555556,\"#d8576b\"],[0.6666666666666666,\"#ed7953\"],[0.7777777777777778,\"#fb9f3a\"],[0.8888888888888888,\"#fdca26\"],[1.0,\"#f0f921\"]]}],\"heatmap\":[{\"type\":\"heatmap\",\"colorbar\":{\"outlinewidth\":0,\"ticks\":\"\"},\"colorscale\":[[0.0,\"#0d0887\"],[0.1111111111111111,\"#46039f\"],[0.2222222222222222,\"#7201a8\"],[0.3333333333333333,\"#9c179e\"],[0.4444444444444444,\"#bd3786\"],[0.5555555555555556,\"#d8576b\"],[0.6666666666666666,\"#ed7953\"],[0.7777777777777778,\"#fb9f3a\"],[0.8888888888888888,\"#fdca26\"],[1.0,\"#f0f921\"]]}],\"heatmapgl\":[{\"type\":\"heatmapgl\",\"colorbar\":{\"outlinewidth\":0,\"ticks\":\"\"},\"colorscale\":[[0.0,\"#0d0887\"],[0.1111111111111111,\"#46039f\"],[0.2222222222222222,\"#7201a8\"],[0.3333333333333333,\"#9c179e\"],[0.4444444444444444,\"#bd3786\"],[0.5555555555555556,\"#d8576b\"],[0.6666666666666666,\"#ed7953\"],[0.7777777777777778,\"#fb9f3a\"],[0.8888888888888888,\"#fdca26\"],[1.0,\"#f0f921\"]]}],\"contourcarpet\":[{\"type\":\"contourcarpet\",\"colorbar\":{\"outlinewidth\":0,\"ticks\":\"\"}}],\"contour\":[{\"type\":\"contour\",\"colorbar\":{\"outlinewidth\":0,\"ticks\":\"\"},\"colorscale\":[[0.0,\"#0d0887\"],[0.1111111111111111,\"#46039f\"],[0.2222222222222222,\"#7201a8\"],[0.3333333333333333,\"#9c179e\"],[0.4444444444444444,\"#bd3786\"],[0.5555555555555556,\"#d8576b\"],[0.6666666666666666,\"#ed7953\"],[0.7777777777777778,\"#fb9f3a\"],[0.8888888888888888,\"#fdca26\"],[1.0,\"#f0f921\"]]}],\"surface\":[{\"type\":\"surface\",\"colorbar\":{\"outlinewidth\":0,\"ticks\":\"\"},\"colorscale\":[[0.0,\"#0d0887\"],[0.1111111111111111,\"#46039f\"],[0.2222222222222222,\"#7201a8\"],[0.3333333333333333,\"#9c179e\"],[0.4444444444444444,\"#bd3786\"],[0.5555555555555556,\"#d8576b\"],[0.6666666666666666,\"#ed7953\"],[0.7777777777777778,\"#fb9f3a\"],[0.8888888888888888,\"#fdca26\"],[1.0,\"#f0f921\"]]}],\"mesh3d\":[{\"type\":\"mesh3d\",\"colorbar\":{\"outlinewidth\":0,\"ticks\":\"\"}}],\"scatter\":[{\"fillpattern\":{\"fillmode\":\"overlay\",\"size\":10,\"solidity\":0.2},\"type\":\"scatter\"}],\"parcoords\":[{\"type\":\"parcoords\",\"line\":{\"colorbar\":{\"outlinewidth\":0,\"ticks\":\"\"}}}],\"scatterpolargl\":[{\"type\":\"scatterpolargl\",\"marker\":{\"colorbar\":{\"outlinewidth\":0,\"ticks\":\"\"}}}],\"bar\":[{\"error_x\":{\"color\":\"#2a3f5f\"},\"error_y\":{\"color\":\"#2a3f5f\"},\"marker\":{\"line\":{\"color\":\"#E5ECF6\",\"width\":0.5},\"pattern\":{\"fillmode\":\"overlay\",\"size\":10,\"solidity\":0.2}},\"type\":\"bar\"}],\"scattergeo\":[{\"type\":\"scattergeo\",\"marker\":{\"colorbar\":{\"outlinewidth\":0,\"ticks\":\"\"}}}],\"scatterpolar\":[{\"type\":\"scatterpolar\",\"marker\":{\"colorbar\":{\"outlinewidth\":0,\"ticks\":\"\"}}}],\"histogram\":[{\"marker\":{\"pattern\":{\"fillmode\":\"overlay\",\"size\":10,\"solidity\":0.2}},\"type\":\"histogram\"}],\"scattergl\":[{\"type\":\"scattergl\",\"marker\":{\"colorbar\":{\"outlinewidth\":0,\"ticks\":\"\"}}}],\"scatter3d\":[{\"type\":\"scatter3d\",\"line\":{\"colorbar\":{\"outlinewidth\":0,\"ticks\":\"\"}},\"marker\":{\"colorbar\":{\"outlinewidth\":0,\"ticks\":\"\"}}}],\"scattermapbox\":[{\"type\":\"scattermapbox\",\"marker\":{\"colorbar\":{\"outlinewidth\":0,\"ticks\":\"\"}}}],\"scatterternary\":[{\"type\":\"scatterternary\",\"marker\":{\"colorbar\":{\"outlinewidth\":0,\"ticks\":\"\"}}}],\"scattercarpet\":[{\"type\":\"scattercarpet\",\"marker\":{\"colorbar\":{\"outlinewidth\":0,\"ticks\":\"\"}}}],\"carpet\":[{\"aaxis\":{\"endlinecolor\":\"#2a3f5f\",\"gridcolor\":\"white\",\"linecolor\":\"white\",\"minorgridcolor\":\"white\",\"startlinecolor\":\"#2a3f5f\"},\"baxis\":{\"endlinecolor\":\"#2a3f5f\",\"gridcolor\":\"white\",\"linecolor\":\"white\",\"minorgridcolor\":\"white\",\"startlinecolor\":\"#2a3f5f\"},\"type\":\"carpet\"}],\"table\":[{\"cells\":{\"fill\":{\"color\":\"#EBF0F8\"},\"line\":{\"color\":\"white\"}},\"header\":{\"fill\":{\"color\":\"#C8D4E3\"},\"line\":{\"color\":\"white\"}},\"type\":\"table\"}],\"barpolar\":[{\"marker\":{\"line\":{\"color\":\"#E5ECF6\",\"width\":0.5},\"pattern\":{\"fillmode\":\"overlay\",\"size\":10,\"solidity\":0.2}},\"type\":\"barpolar\"}],\"pie\":[{\"automargin\":true,\"type\":\"pie\"}]},\"layout\":{\"autotypenumbers\":\"strict\",\"colorway\":[\"#636efa\",\"#EF553B\",\"#00cc96\",\"#ab63fa\",\"#FFA15A\",\"#19d3f3\",\"#FF6692\",\"#B6E880\",\"#FF97FF\",\"#FECB52\"],\"font\":{\"color\":\"#2a3f5f\"},\"hovermode\":\"closest\",\"hoverlabel\":{\"align\":\"left\"},\"paper_bgcolor\":\"white\",\"plot_bgcolor\":\"#E5ECF6\",\"polar\":{\"bgcolor\":\"#E5ECF6\",\"angularaxis\":{\"gridcolor\":\"white\",\"linecolor\":\"white\",\"ticks\":\"\"},\"radialaxis\":{\"gridcolor\":\"white\",\"linecolor\":\"white\",\"ticks\":\"\"}},\"ternary\":{\"bgcolor\":\"#E5ECF6\",\"aaxis\":{\"gridcolor\":\"white\",\"linecolor\":\"white\",\"ticks\":\"\"},\"baxis\":{\"gridcolor\":\"white\",\"linecolor\":\"white\",\"ticks\":\"\"},\"caxis\":{\"gridcolor\":\"white\",\"linecolor\":\"white\",\"ticks\":\"\"}},\"coloraxis\":{\"colorbar\":{\"outlinewidth\":0,\"ticks\":\"\"}},\"colorscale\":{\"sequential\":[[0.0,\"#0d0887\"],[0.1111111111111111,\"#46039f\"],[0.2222222222222222,\"#7201a8\"],[0.3333333333333333,\"#9c179e\"],[0.4444444444444444,\"#bd3786\"],[0.5555555555555556,\"#d8576b\"],[0.6666666666666666,\"#ed7953\"],[0.7777777777777778,\"#fb9f3a\"],[0.8888888888888888,\"#fdca26\"],[1.0,\"#f0f921\"]],\"sequentialminus\":[[0.0,\"#0d0887\"],[0.1111111111111111,\"#46039f\"],[0.2222222222222222,\"#7201a8\"],[0.3333333333333333,\"#9c179e\"],[0.4444444444444444,\"#bd3786\"],[0.5555555555555556,\"#d8576b\"],[0.6666666666666666,\"#ed7953\"],[0.7777777777777778,\"#fb9f3a\"],[0.8888888888888888,\"#fdca26\"],[1.0,\"#f0f921\"]],\"diverging\":[[0,\"#8e0152\"],[0.1,\"#c51b7d\"],[0.2,\"#de77ae\"],[0.3,\"#f1b6da\"],[0.4,\"#fde0ef\"],[0.5,\"#f7f7f7\"],[0.6,\"#e6f5d0\"],[0.7,\"#b8e186\"],[0.8,\"#7fbc41\"],[0.9,\"#4d9221\"],[1,\"#276419\"]]},\"xaxis\":{\"gridcolor\":\"white\",\"linecolor\":\"white\",\"ticks\":\"\",\"title\":{\"standoff\":15},\"zerolinecolor\":\"white\",\"automargin\":true,\"zerolinewidth\":2},\"yaxis\":{\"gridcolor\":\"white\",\"linecolor\":\"white\",\"ticks\":\"\",\"title\":{\"standoff\":15},\"zerolinecolor\":\"white\",\"automargin\":true,\"zerolinewidth\":2},\"scene\":{\"xaxis\":{\"backgroundcolor\":\"#E5ECF6\",\"gridcolor\":\"white\",\"linecolor\":\"white\",\"showbackground\":true,\"ticks\":\"\",\"zerolinecolor\":\"white\",\"gridwidth\":2},\"yaxis\":{\"backgroundcolor\":\"#E5ECF6\",\"gridcolor\":\"white\",\"linecolor\":\"white\",\"showbackground\":true,\"ticks\":\"\",\"zerolinecolor\":\"white\",\"gridwidth\":2},\"zaxis\":{\"backgroundcolor\":\"#E5ECF6\",\"gridcolor\":\"white\",\"linecolor\":\"white\",\"showbackground\":true,\"ticks\":\"\",\"zerolinecolor\":\"white\",\"gridwidth\":2}},\"shapedefaults\":{\"line\":{\"color\":\"#2a3f5f\"}},\"annotationdefaults\":{\"arrowcolor\":\"#2a3f5f\",\"arrowhead\":0,\"arrowwidth\":1},\"geo\":{\"bgcolor\":\"white\",\"landcolor\":\"#E5ECF6\",\"subunitcolor\":\"white\",\"showland\":true,\"showlakes\":true,\"lakecolor\":\"white\"},\"title\":{\"x\":0.05},\"mapbox\":{\"style\":\"light\"}}},\"xaxis\":{\"anchor\":\"y\",\"domain\":[0.0,1.0],\"title\":{\"text\":\"Date\"},\"showgrid\":false},\"yaxis\":{\"anchor\":\"x\",\"domain\":[0.0,1.0],\"title\":{\"text\":\"Matic value\"},\"showgrid\":false},\"legend\":{\"title\":{\"text\":\"Matic Stock Parameters\"},\"tracegroupgap\":0},\"margin\":{\"t\":60},\"title\":{\"text\":\"Matic Price analysis chart\"},\"font\":{\"size\":15,\"color\":\"black\"}},                        {\"responsive\": true}                    ).then(function(){\n",
       "                            \n",
       "var gd = document.getElementById('c05a1ad4-a7d8-430b-a844-580516559ef7');\n",
       "var x = new MutationObserver(function (mutations, observer) {{\n",
       "        var display = window.getComputedStyle(gd).display;\n",
       "        if (!display || display === 'none') {{\n",
       "            console.log([gd, 'removed!']);\n",
       "            Plotly.purge(gd);\n",
       "            observer.disconnect();\n",
       "        }}\n",
       "}});\n",
       "\n",
       "// Listen for the removal of the full notebook cells\n",
       "var notebookContainer = gd.closest('#notebook-container');\n",
       "if (notebookContainer) {{\n",
       "    x.observe(notebookContainer, {childList: true});\n",
       "}}\n",
       "\n",
       "// Listen for the clearing of the current output cell\n",
       "var outputEl = gd.closest('.output');\n",
       "if (outputEl) {{\n",
       "    x.observe(outputEl, {childList: true});\n",
       "}}\n",
       "\n",
       "                        })                };                });            </script>        </div>"
      ]
     },
     "metadata": {},
     "output_type": "display_data"
    }
   ],
   "source": [
    "names = cycle(['Matic Open Price','Matic High Price','Matic Low Price'])\n",
    "\n",
    "fig = px.line(monthwise, x = monthwise.Date, y = [monthwise['Open'], monthwise['High'], monthwise['Low']],\n",
    "             labels = {'date': 'Date','value':'Matic value'})\n",
    "fig.update_layout(title_text = 'Matic Price analysis chart', font_size = 15, font_color = 'black',legend_title_text='Matic Stock Parameters')\n",
    "fig.for_each_trace(lambda t:  t.update(name = next(names)))\n",
    "fig.update_xaxes(showgrid = False)\n",
    "fig.update_yaxes(showgrid = False)\n",
    "\n",
    "fig.show()"
   ]
  },
  {
   "cell_type": "markdown",
   "id": "57a5cb43",
   "metadata": {
    "id": "6HLAFoTrB4Yp",
    "papermill": {
     "duration": 0.022004,
     "end_time": "2023-03-13T11:31:11.855352",
     "exception": false,
     "start_time": "2023-03-13T11:31:11.833348",
     "status": "completed"
    },
    "tags": []
   },
   "source": [
    "# Monthwise Analysis for the year 2021"
   ]
  },
  {
   "cell_type": "code",
   "execution_count": 15,
   "id": "412de8c3",
   "metadata": {
    "execution": {
     "iopub.execute_input": "2023-03-13T11:31:11.898733Z",
     "iopub.status.busy": "2023-03-13T11:31:11.898295Z",
     "iopub.status.idle": "2023-03-13T11:31:11.918653Z",
     "shell.execute_reply": "2023-03-13T11:31:11.917301Z"
    },
    "id": "OuQt26bvCRyt",
    "outputId": "91d54ace-d7b0-4d8f-e649-c7a6ba9ec0ad",
    "papermill": {
     "duration": 0.044731,
     "end_time": "2023-03-13T11:31:11.921707",
     "exception": false,
     "start_time": "2023-03-13T11:31:11.876976",
     "status": "completed"
    },
    "tags": []
   },
   "outputs": [
    {
     "data": {
      "text/html": [
       "<div>\n",
       "<style scoped>\n",
       "    .dataframe tbody tr th:only-of-type {\n",
       "        vertical-align: middle;\n",
       "    }\n",
       "\n",
       "    .dataframe tbody tr th {\n",
       "        vertical-align: top;\n",
       "    }\n",
       "\n",
       "    .dataframe thead th {\n",
       "        text-align: right;\n",
       "    }\n",
       "</style>\n",
       "<table border=\"1\" class=\"dataframe\">\n",
       "  <thead>\n",
       "    <tr style=\"text-align: right;\">\n",
       "      <th></th>\n",
       "      <th>Date</th>\n",
       "      <th>Open</th>\n",
       "      <th>High</th>\n",
       "      <th>Low</th>\n",
       "      <th>Close</th>\n",
       "    </tr>\n",
       "  </thead>\n",
       "  <tbody>\n",
       "    <tr>\n",
       "      <th>0</th>\n",
       "      <td>2021-01-01</td>\n",
       "      <td>0.017633</td>\n",
       "      <td>0.018774</td>\n",
       "      <td>0.017454</td>\n",
       "      <td>0.017812</td>\n",
       "    </tr>\n",
       "    <tr>\n",
       "      <th>1</th>\n",
       "      <td>2021-01-02</td>\n",
       "      <td>0.017812</td>\n",
       "      <td>0.019600</td>\n",
       "      <td>0.017331</td>\n",
       "      <td>0.019043</td>\n",
       "    </tr>\n",
       "    <tr>\n",
       "      <th>2</th>\n",
       "      <td>2021-01-03</td>\n",
       "      <td>0.019053</td>\n",
       "      <td>0.020570</td>\n",
       "      <td>0.018910</td>\n",
       "      <td>0.019975</td>\n",
       "    </tr>\n",
       "    <tr>\n",
       "      <th>3</th>\n",
       "      <td>2021-01-04</td>\n",
       "      <td>0.020000</td>\n",
       "      <td>0.024831</td>\n",
       "      <td>0.019763</td>\n",
       "      <td>0.024614</td>\n",
       "    </tr>\n",
       "    <tr>\n",
       "      <th>4</th>\n",
       "      <td>2021-01-05</td>\n",
       "      <td>0.024675</td>\n",
       "      <td>0.027025</td>\n",
       "      <td>0.023680</td>\n",
       "      <td>0.024467</td>\n",
       "    </tr>\n",
       "  </tbody>\n",
       "</table>\n",
       "</div>"
      ],
      "text/plain": [
       "        Date      Open      High       Low     Close\n",
       "0 2021-01-01  0.017633  0.018774  0.017454  0.017812\n",
       "1 2021-01-02  0.017812  0.019600  0.017331  0.019043\n",
       "2 2021-01-03  0.019053  0.020570  0.018910  0.019975\n",
       "3 2021-01-04  0.020000  0.024831  0.019763  0.024614\n",
       "4 2021-01-05  0.024675  0.027025  0.023680  0.024467"
      ]
     },
     "execution_count": 15,
     "metadata": {},
     "output_type": "execute_result"
    }
   ],
   "source": [
    "y_2021 = matic[(matic['Date'] >= '2021-01-01') & (matic['Date'] < '2022-01-01')]\n",
    "y_2021 = y_2021.drop(['Volume'], axis = 1)\n",
    "y_2021.reset_index(drop = True, inplace = True)\n",
    "y_2021.head()"
   ]
  },
  {
   "cell_type": "code",
   "execution_count": 16,
   "id": "43a4711e",
   "metadata": {
    "execution": {
     "iopub.execute_input": "2023-03-13T11:31:11.967702Z",
     "iopub.status.busy": "2023-03-13T11:31:11.967241Z",
     "iopub.status.idle": "2023-03-13T11:31:11.989379Z",
     "shell.execute_reply": "2023-03-13T11:31:11.987969Z"
    },
    "id": "sxFDMSHPB6gQ",
    "outputId": "1b7af05d-e9b9-4a43-84d1-c450e7033d57",
    "papermill": {
     "duration": 0.050178,
     "end_time": "2023-03-13T11:31:11.993011",
     "exception": false,
     "start_time": "2023-03-13T11:31:11.942833",
     "status": "completed"
    },
    "tags": []
   },
   "outputs": [
    {
     "data": {
      "text/html": [
       "<div>\n",
       "<style scoped>\n",
       "    .dataframe tbody tr th:only-of-type {\n",
       "        vertical-align: middle;\n",
       "    }\n",
       "\n",
       "    .dataframe tbody tr th {\n",
       "        vertical-align: top;\n",
       "    }\n",
       "\n",
       "    .dataframe thead th {\n",
       "        text-align: right;\n",
       "    }\n",
       "</style>\n",
       "<table border=\"1\" class=\"dataframe\">\n",
       "  <thead>\n",
       "    <tr style=\"text-align: right;\">\n",
       "      <th></th>\n",
       "      <th>Date</th>\n",
       "      <th>Open</th>\n",
       "      <th>Close</th>\n",
       "      <th>High</th>\n",
       "      <th>Low</th>\n",
       "    </tr>\n",
       "  </thead>\n",
       "  <tbody>\n",
       "    <tr>\n",
       "      <th>0</th>\n",
       "      <td>January</td>\n",
       "      <td>0.031312</td>\n",
       "      <td>0.031986</td>\n",
       "      <td>0.034512</td>\n",
       "      <td>0.029142</td>\n",
       "    </tr>\n",
       "    <tr>\n",
       "      <th>1</th>\n",
       "      <td>February</td>\n",
       "      <td>0.109207</td>\n",
       "      <td>0.116056</td>\n",
       "      <td>0.128579</td>\n",
       "      <td>0.099358</td>\n",
       "    </tr>\n",
       "    <tr>\n",
       "      <th>2</th>\n",
       "      <td>March</td>\n",
       "      <td>0.323199</td>\n",
       "      <td>0.327732</td>\n",
       "      <td>0.356862</td>\n",
       "      <td>0.307135</td>\n",
       "    </tr>\n",
       "    <tr>\n",
       "      <th>3</th>\n",
       "      <td>April</td>\n",
       "      <td>0.424232</td>\n",
       "      <td>0.439692</td>\n",
       "      <td>0.469618</td>\n",
       "      <td>0.394216</td>\n",
       "    </tr>\n",
       "    <tr>\n",
       "      <th>4</th>\n",
       "      <td>May</td>\n",
       "      <td>1.341641</td>\n",
       "      <td>1.376569</td>\n",
       "      <td>1.548610</td>\n",
       "      <td>1.151419</td>\n",
       "    </tr>\n",
       "    <tr>\n",
       "      <th>5</th>\n",
       "      <td>June</td>\n",
       "      <td>1.412108</td>\n",
       "      <td>1.385949</td>\n",
       "      <td>1.482881</td>\n",
       "      <td>1.311484</td>\n",
       "    </tr>\n",
       "    <tr>\n",
       "      <th>6</th>\n",
       "      <td>July</td>\n",
       "      <td>0.983595</td>\n",
       "      <td>0.981046</td>\n",
       "      <td>1.023492</td>\n",
       "      <td>0.938278</td>\n",
       "    </tr>\n",
       "    <tr>\n",
       "      <th>7</th>\n",
       "      <td>August</td>\n",
       "      <td>1.326018</td>\n",
       "      <td>1.334389</td>\n",
       "      <td>1.397587</td>\n",
       "      <td>1.272405</td>\n",
       "    </tr>\n",
       "    <tr>\n",
       "      <th>8</th>\n",
       "      <td>September</td>\n",
       "      <td>1.315239</td>\n",
       "      <td>1.309145</td>\n",
       "      <td>1.380807</td>\n",
       "      <td>1.236145</td>\n",
       "    </tr>\n",
       "    <tr>\n",
       "      <th>9</th>\n",
       "      <td>October</td>\n",
       "      <td>1.467900</td>\n",
       "      <td>1.493854</td>\n",
       "      <td>1.560371</td>\n",
       "      <td>1.413099</td>\n",
       "    </tr>\n",
       "    <tr>\n",
       "      <th>10</th>\n",
       "      <td>November</td>\n",
       "      <td>1.755618</td>\n",
       "      <td>1.745071</td>\n",
       "      <td>1.824803</td>\n",
       "      <td>1.670516</td>\n",
       "    </tr>\n",
       "    <tr>\n",
       "      <th>11</th>\n",
       "      <td>December</td>\n",
       "      <td>2.263547</td>\n",
       "      <td>2.282108</td>\n",
       "      <td>2.408069</td>\n",
       "      <td>2.133703</td>\n",
       "    </tr>\n",
       "  </tbody>\n",
       "</table>\n",
       "</div>"
      ],
      "text/plain": [
       "         Date      Open     Close      High       Low\n",
       "0     January  0.031312  0.031986  0.034512  0.029142\n",
       "1    February  0.109207  0.116056  0.128579  0.099358\n",
       "2       March  0.323199  0.327732  0.356862  0.307135\n",
       "3       April  0.424232  0.439692  0.469618  0.394216\n",
       "4         May  1.341641  1.376569  1.548610  1.151419\n",
       "5        June  1.412108  1.385949  1.482881  1.311484\n",
       "6        July  0.983595  0.981046  1.023492  0.938278\n",
       "7      August  1.326018  1.334389  1.397587  1.272405\n",
       "8   September  1.315239  1.309145  1.380807  1.236145\n",
       "9     October  1.467900  1.493854  1.560371  1.413099\n",
       "10   November  1.755618  1.745071  1.824803  1.670516\n",
       "11   December  2.263547  2.282108  2.408069  2.133703"
      ]
     },
     "execution_count": 16,
     "metadata": {},
     "output_type": "execute_result"
    }
   ],
   "source": [
    "monthwise = y_2021.groupby(pd.DatetimeIndex(y_2021.Date).month)[['Open', 'Close', 'High', 'Low']].mean()\n",
    "new_order = ['January', 'February', 'March', 'April', 'May', 'June', 'July', 'August', \n",
    "             'September', 'October', 'November', 'December']\n",
    "monthwise = monthwise.reset_index()\n",
    "monthwise['Date'] = new_order\n",
    "#monthwise.index = new_order\n",
    "monthwise"
   ]
  },
  {
   "cell_type": "code",
   "execution_count": 17,
   "id": "b73b29c5",
   "metadata": {
    "execution": {
     "iopub.execute_input": "2023-03-13T11:31:12.037450Z",
     "iopub.status.busy": "2023-03-13T11:31:12.036250Z",
     "iopub.status.idle": "2023-03-13T11:31:12.057869Z",
     "shell.execute_reply": "2023-03-13T11:31:12.055981Z"
    },
    "id": "wQw-2n9CCjXv",
    "outputId": "f6b5bb36-5c65-4273-da0f-f1310c40e013",
    "papermill": {
     "duration": 0.046874,
     "end_time": "2023-03-13T11:31:12.061313",
     "exception": false,
     "start_time": "2023-03-13T11:31:12.014439",
     "status": "completed"
    },
    "tags": []
   },
   "outputs": [
    {
     "data": {
      "text/html": [
       "<div>                            <div id=\"bfb54327-5d0c-44fc-983d-af2e127b51c2\" class=\"plotly-graph-div\" style=\"height:525px; width:100%;\"></div>            <script type=\"text/javascript\">                require([\"plotly\"], function(Plotly) {                    window.PLOTLYENV=window.PLOTLYENV || {};                                    if (document.getElementById(\"bfb54327-5d0c-44fc-983d-af2e127b51c2\")) {                    Plotly.newPlot(                        \"bfb54327-5d0c-44fc-983d-af2e127b51c2\",                        [{\"marker\":{\"color\":\"purple\"},\"name\":\"Matic High Price\",\"x\":[\"January\",\"February\",\"March\",\"April\",\"May\",\"June\",\"July\",\"August\",\"September\",\"October\",\"November\"],\"y\":[2.601468086242676,2.07568097114563,1.7457929849624634,1.7258780002593994,1.1850850582122805,0.6678699851036072,1.0041290521621704,1.0503849983215332,0.9405890107154846,0.9641759991645812,1.2871639728546145],\"type\":\"bar\"},{\"marker\":{\"color\":\"pink\"},\"name\":\"Matic Low Price\",\"x\":[\"January\",\"February\",\"March\",\"April\",\"May\",\"June\",\"July\",\"August\",\"September\",\"October\",\"November\"],\"y\":[1.3139610290527344,1.2530779838562012,1.3350050449371338,1.0295729637145996,0.5084109902381897,0.3228209912776947,0.4504309892654419,0.7585359811782837,0.6946089863777161,0.7214319705963135,0.7789450287818909],\"type\":\"bar\"}],                        {\"template\":{\"data\":{\"histogram2dcontour\":[{\"type\":\"histogram2dcontour\",\"colorbar\":{\"outlinewidth\":0,\"ticks\":\"\"},\"colorscale\":[[0.0,\"#0d0887\"],[0.1111111111111111,\"#46039f\"],[0.2222222222222222,\"#7201a8\"],[0.3333333333333333,\"#9c179e\"],[0.4444444444444444,\"#bd3786\"],[0.5555555555555556,\"#d8576b\"],[0.6666666666666666,\"#ed7953\"],[0.7777777777777778,\"#fb9f3a\"],[0.8888888888888888,\"#fdca26\"],[1.0,\"#f0f921\"]]}],\"choropleth\":[{\"type\":\"choropleth\",\"colorbar\":{\"outlinewidth\":0,\"ticks\":\"\"}}],\"histogram2d\":[{\"type\":\"histogram2d\",\"colorbar\":{\"outlinewidth\":0,\"ticks\":\"\"},\"colorscale\":[[0.0,\"#0d0887\"],[0.1111111111111111,\"#46039f\"],[0.2222222222222222,\"#7201a8\"],[0.3333333333333333,\"#9c179e\"],[0.4444444444444444,\"#bd3786\"],[0.5555555555555556,\"#d8576b\"],[0.6666666666666666,\"#ed7953\"],[0.7777777777777778,\"#fb9f3a\"],[0.8888888888888888,\"#fdca26\"],[1.0,\"#f0f921\"]]}],\"heatmap\":[{\"type\":\"heatmap\",\"colorbar\":{\"outlinewidth\":0,\"ticks\":\"\"},\"colorscale\":[[0.0,\"#0d0887\"],[0.1111111111111111,\"#46039f\"],[0.2222222222222222,\"#7201a8\"],[0.3333333333333333,\"#9c179e\"],[0.4444444444444444,\"#bd3786\"],[0.5555555555555556,\"#d8576b\"],[0.6666666666666666,\"#ed7953\"],[0.7777777777777778,\"#fb9f3a\"],[0.8888888888888888,\"#fdca26\"],[1.0,\"#f0f921\"]]}],\"heatmapgl\":[{\"type\":\"heatmapgl\",\"colorbar\":{\"outlinewidth\":0,\"ticks\":\"\"},\"colorscale\":[[0.0,\"#0d0887\"],[0.1111111111111111,\"#46039f\"],[0.2222222222222222,\"#7201a8\"],[0.3333333333333333,\"#9c179e\"],[0.4444444444444444,\"#bd3786\"],[0.5555555555555556,\"#d8576b\"],[0.6666666666666666,\"#ed7953\"],[0.7777777777777778,\"#fb9f3a\"],[0.8888888888888888,\"#fdca26\"],[1.0,\"#f0f921\"]]}],\"contourcarpet\":[{\"type\":\"contourcarpet\",\"colorbar\":{\"outlinewidth\":0,\"ticks\":\"\"}}],\"contour\":[{\"type\":\"contour\",\"colorbar\":{\"outlinewidth\":0,\"ticks\":\"\"},\"colorscale\":[[0.0,\"#0d0887\"],[0.1111111111111111,\"#46039f\"],[0.2222222222222222,\"#7201a8\"],[0.3333333333333333,\"#9c179e\"],[0.4444444444444444,\"#bd3786\"],[0.5555555555555556,\"#d8576b\"],[0.6666666666666666,\"#ed7953\"],[0.7777777777777778,\"#fb9f3a\"],[0.8888888888888888,\"#fdca26\"],[1.0,\"#f0f921\"]]}],\"surface\":[{\"type\":\"surface\",\"colorbar\":{\"outlinewidth\":0,\"ticks\":\"\"},\"colorscale\":[[0.0,\"#0d0887\"],[0.1111111111111111,\"#46039f\"],[0.2222222222222222,\"#7201a8\"],[0.3333333333333333,\"#9c179e\"],[0.4444444444444444,\"#bd3786\"],[0.5555555555555556,\"#d8576b\"],[0.6666666666666666,\"#ed7953\"],[0.7777777777777778,\"#fb9f3a\"],[0.8888888888888888,\"#fdca26\"],[1.0,\"#f0f921\"]]}],\"mesh3d\":[{\"type\":\"mesh3d\",\"colorbar\":{\"outlinewidth\":0,\"ticks\":\"\"}}],\"scatter\":[{\"fillpattern\":{\"fillmode\":\"overlay\",\"size\":10,\"solidity\":0.2},\"type\":\"scatter\"}],\"parcoords\":[{\"type\":\"parcoords\",\"line\":{\"colorbar\":{\"outlinewidth\":0,\"ticks\":\"\"}}}],\"scatterpolargl\":[{\"type\":\"scatterpolargl\",\"marker\":{\"colorbar\":{\"outlinewidth\":0,\"ticks\":\"\"}}}],\"bar\":[{\"error_x\":{\"color\":\"#2a3f5f\"},\"error_y\":{\"color\":\"#2a3f5f\"},\"marker\":{\"line\":{\"color\":\"#E5ECF6\",\"width\":0.5},\"pattern\":{\"fillmode\":\"overlay\",\"size\":10,\"solidity\":0.2}},\"type\":\"bar\"}],\"scattergeo\":[{\"type\":\"scattergeo\",\"marker\":{\"colorbar\":{\"outlinewidth\":0,\"ticks\":\"\"}}}],\"scatterpolar\":[{\"type\":\"scatterpolar\",\"marker\":{\"colorbar\":{\"outlinewidth\":0,\"ticks\":\"\"}}}],\"histogram\":[{\"marker\":{\"pattern\":{\"fillmode\":\"overlay\",\"size\":10,\"solidity\":0.2}},\"type\":\"histogram\"}],\"scattergl\":[{\"type\":\"scattergl\",\"marker\":{\"colorbar\":{\"outlinewidth\":0,\"ticks\":\"\"}}}],\"scatter3d\":[{\"type\":\"scatter3d\",\"line\":{\"colorbar\":{\"outlinewidth\":0,\"ticks\":\"\"}},\"marker\":{\"colorbar\":{\"outlinewidth\":0,\"ticks\":\"\"}}}],\"scattermapbox\":[{\"type\":\"scattermapbox\",\"marker\":{\"colorbar\":{\"outlinewidth\":0,\"ticks\":\"\"}}}],\"scatterternary\":[{\"type\":\"scatterternary\",\"marker\":{\"colorbar\":{\"outlinewidth\":0,\"ticks\":\"\"}}}],\"scattercarpet\":[{\"type\":\"scattercarpet\",\"marker\":{\"colorbar\":{\"outlinewidth\":0,\"ticks\":\"\"}}}],\"carpet\":[{\"aaxis\":{\"endlinecolor\":\"#2a3f5f\",\"gridcolor\":\"white\",\"linecolor\":\"white\",\"minorgridcolor\":\"white\",\"startlinecolor\":\"#2a3f5f\"},\"baxis\":{\"endlinecolor\":\"#2a3f5f\",\"gridcolor\":\"white\",\"linecolor\":\"white\",\"minorgridcolor\":\"white\",\"startlinecolor\":\"#2a3f5f\"},\"type\":\"carpet\"}],\"table\":[{\"cells\":{\"fill\":{\"color\":\"#EBF0F8\"},\"line\":{\"color\":\"white\"}},\"header\":{\"fill\":{\"color\":\"#C8D4E3\"},\"line\":{\"color\":\"white\"}},\"type\":\"table\"}],\"barpolar\":[{\"marker\":{\"line\":{\"color\":\"#E5ECF6\",\"width\":0.5},\"pattern\":{\"fillmode\":\"overlay\",\"size\":10,\"solidity\":0.2}},\"type\":\"barpolar\"}],\"pie\":[{\"automargin\":true,\"type\":\"pie\"}]},\"layout\":{\"autotypenumbers\":\"strict\",\"colorway\":[\"#636efa\",\"#EF553B\",\"#00cc96\",\"#ab63fa\",\"#FFA15A\",\"#19d3f3\",\"#FF6692\",\"#B6E880\",\"#FF97FF\",\"#FECB52\"],\"font\":{\"color\":\"#2a3f5f\"},\"hovermode\":\"closest\",\"hoverlabel\":{\"align\":\"left\"},\"paper_bgcolor\":\"white\",\"plot_bgcolor\":\"#E5ECF6\",\"polar\":{\"bgcolor\":\"#E5ECF6\",\"angularaxis\":{\"gridcolor\":\"white\",\"linecolor\":\"white\",\"ticks\":\"\"},\"radialaxis\":{\"gridcolor\":\"white\",\"linecolor\":\"white\",\"ticks\":\"\"}},\"ternary\":{\"bgcolor\":\"#E5ECF6\",\"aaxis\":{\"gridcolor\":\"white\",\"linecolor\":\"white\",\"ticks\":\"\"},\"baxis\":{\"gridcolor\":\"white\",\"linecolor\":\"white\",\"ticks\":\"\"},\"caxis\":{\"gridcolor\":\"white\",\"linecolor\":\"white\",\"ticks\":\"\"}},\"coloraxis\":{\"colorbar\":{\"outlinewidth\":0,\"ticks\":\"\"}},\"colorscale\":{\"sequential\":[[0.0,\"#0d0887\"],[0.1111111111111111,\"#46039f\"],[0.2222222222222222,\"#7201a8\"],[0.3333333333333333,\"#9c179e\"],[0.4444444444444444,\"#bd3786\"],[0.5555555555555556,\"#d8576b\"],[0.6666666666666666,\"#ed7953\"],[0.7777777777777778,\"#fb9f3a\"],[0.8888888888888888,\"#fdca26\"],[1.0,\"#f0f921\"]],\"sequentialminus\":[[0.0,\"#0d0887\"],[0.1111111111111111,\"#46039f\"],[0.2222222222222222,\"#7201a8\"],[0.3333333333333333,\"#9c179e\"],[0.4444444444444444,\"#bd3786\"],[0.5555555555555556,\"#d8576b\"],[0.6666666666666666,\"#ed7953\"],[0.7777777777777778,\"#fb9f3a\"],[0.8888888888888888,\"#fdca26\"],[1.0,\"#f0f921\"]],\"diverging\":[[0,\"#8e0152\"],[0.1,\"#c51b7d\"],[0.2,\"#de77ae\"],[0.3,\"#f1b6da\"],[0.4,\"#fde0ef\"],[0.5,\"#f7f7f7\"],[0.6,\"#e6f5d0\"],[0.7,\"#b8e186\"],[0.8,\"#7fbc41\"],[0.9,\"#4d9221\"],[1,\"#276419\"]]},\"xaxis\":{\"gridcolor\":\"white\",\"linecolor\":\"white\",\"ticks\":\"\",\"title\":{\"standoff\":15},\"zerolinecolor\":\"white\",\"automargin\":true,\"zerolinewidth\":2},\"yaxis\":{\"gridcolor\":\"white\",\"linecolor\":\"white\",\"ticks\":\"\",\"title\":{\"standoff\":15},\"zerolinecolor\":\"white\",\"automargin\":true,\"zerolinewidth\":2},\"scene\":{\"xaxis\":{\"backgroundcolor\":\"#E5ECF6\",\"gridcolor\":\"white\",\"linecolor\":\"white\",\"showbackground\":true,\"ticks\":\"\",\"zerolinecolor\":\"white\",\"gridwidth\":2},\"yaxis\":{\"backgroundcolor\":\"#E5ECF6\",\"gridcolor\":\"white\",\"linecolor\":\"white\",\"showbackground\":true,\"ticks\":\"\",\"zerolinecolor\":\"white\",\"gridwidth\":2},\"zaxis\":{\"backgroundcolor\":\"#E5ECF6\",\"gridcolor\":\"white\",\"linecolor\":\"white\",\"showbackground\":true,\"ticks\":\"\",\"zerolinecolor\":\"white\",\"gridwidth\":2}},\"shapedefaults\":{\"line\":{\"color\":\"#2a3f5f\"}},\"annotationdefaults\":{\"arrowcolor\":\"#2a3f5f\",\"arrowhead\":0,\"arrowwidth\":1},\"geo\":{\"bgcolor\":\"white\",\"landcolor\":\"#E5ECF6\",\"subunitcolor\":\"white\",\"showland\":true,\"showlakes\":true,\"lakecolor\":\"white\"},\"title\":{\"x\":0.05},\"mapbox\":{\"style\":\"light\"}}},\"xaxis\":{\"tickangle\":-45},\"barmode\":\"group\",\"title\":{\"text\":\" Monthwise Matic High and Low Prices for 2021\"}},                        {\"responsive\": true}                    ).then(function(){\n",
       "                            \n",
       "var gd = document.getElementById('bfb54327-5d0c-44fc-983d-af2e127b51c2');\n",
       "var x = new MutationObserver(function (mutations, observer) {{\n",
       "        var display = window.getComputedStyle(gd).display;\n",
       "        if (!display || display === 'none') {{\n",
       "            console.log([gd, 'removed!']);\n",
       "            Plotly.purge(gd);\n",
       "            observer.disconnect();\n",
       "        }}\n",
       "}});\n",
       "\n",
       "// Listen for the removal of the full notebook cells\n",
       "var notebookContainer = gd.closest('#notebook-container');\n",
       "if (notebookContainer) {{\n",
       "    x.observe(notebookContainer, {childList: true});\n",
       "}}\n",
       "\n",
       "// Listen for the clearing of the current output cell\n",
       "var outputEl = gd.closest('.output');\n",
       "if (outputEl) {{\n",
       "    x.observe(outputEl, {childList: true});\n",
       "}}\n",
       "\n",
       "                        })                };                });            </script>        </div>"
      ]
     },
     "metadata": {},
     "output_type": "display_data"
    }
   ],
   "source": [
    "fig = go.Figure()\n",
    "fig.add_trace(go.Bar(\n",
    "    x = monthwise_high.Date,\n",
    "    y = monthwise_high.High,\n",
    "    name = 'Matic High Price',\n",
    "    marker_color = 'purple'\n",
    "))\n",
    "fig.add_trace(go.Bar(\n",
    "    x = monthwise_low.Date,\n",
    "    y = monthwise_low.Low,\n",
    "    name = 'Matic Low Price',\n",
    "    marker_color='pink'\n",
    "))\n",
    "\n",
    "fig.update_layout(barmode='group', xaxis_tickangle = -45,\n",
    "                  title=' Monthwise Matic High and Low Prices for 2021')\n",
    "fig.show()"
   ]
  },
  {
   "cell_type": "code",
   "execution_count": 18,
   "id": "49680963",
   "metadata": {
    "execution": {
     "iopub.execute_input": "2023-03-13T11:31:12.107638Z",
     "iopub.status.busy": "2023-03-13T11:31:12.106861Z",
     "iopub.status.idle": "2023-03-13T11:31:12.206627Z",
     "shell.execute_reply": "2023-03-13T11:31:12.205086Z"
    },
    "id": "RnUXFbGeCnHQ",
    "outputId": "9524ba6f-097e-49e5-bbbd-8b939bd850b9",
    "papermill": {
     "duration": 0.127667,
     "end_time": "2023-03-13T11:31:12.210352",
     "exception": false,
     "start_time": "2023-03-13T11:31:12.082685",
     "status": "completed"
    },
    "tags": []
   },
   "outputs": [
    {
     "data": {
      "text/html": [
       "<div>                            <div id=\"8a7544c7-2da6-4017-baf9-7569b4570a45\" class=\"plotly-graph-div\" style=\"height:525px; width:100%;\"></div>            <script type=\"text/javascript\">                require([\"plotly\"], function(Plotly) {                    window.PLOTLYENV=window.PLOTLYENV || {};                                    if (document.getElementById(\"8a7544c7-2da6-4017-baf9-7569b4570a45\")) {                    Plotly.newPlot(                        \"8a7544c7-2da6-4017-baf9-7569b4570a45\",                        [{\"hovertemplate\":\"variable=Open<br>Date=%{x}<br>Matic value=%{y}<extra></extra>\",\"legendgroup\":\"Open\",\"line\":{\"color\":\"#636efa\",\"dash\":\"solid\"},\"marker\":{\"symbol\":\"circle\"},\"mode\":\"lines\",\"name\":\"Matic Open Price\",\"orientation\":\"v\",\"showlegend\":true,\"x\":[\"January\",\"February\",\"March\",\"April\",\"May\",\"June\",\"July\",\"August\",\"September\",\"October\",\"November\",\"December\"],\"xaxis\":\"x\",\"y\":[0.03131174206012675,0.10920735781214062,0.32319880445157323,0.42423236270745596,1.3416411626723506,1.4121076623598734,0.9835947559725854,1.3260176143338602,1.3152390360832213,1.4679002992568477,1.7556181311607362,2.2635470859466063],\"yaxis\":\"y\",\"type\":\"scatter\"},{\"hovertemplate\":\"variable=High<br>Date=%{x}<br>Matic value=%{y}<extra></extra>\",\"legendgroup\":\"High\",\"line\":{\"color\":\"#EF553B\",\"dash\":\"solid\"},\"marker\":{\"symbol\":\"circle\"},\"mode\":\"lines\",\"name\":\"Matic High Price\",\"orientation\":\"v\",\"showlegend\":true,\"x\":[\"January\",\"February\",\"March\",\"April\",\"May\",\"June\",\"July\",\"August\",\"September\",\"October\",\"November\",\"December\"],\"xaxis\":\"x\",\"y\":[0.03451190330088134,0.12857875108186684,0.3568622272822164,0.4696184992790222,1.5486100950548727,1.4828805645306906,1.0234920594000048,1.3975865187183503,1.3808068911234537,1.5603707798065678,1.824802545706431,2.4080693375679756],\"yaxis\":\"y\",\"type\":\"scatter\"},{\"hovertemplate\":\"variable=Low<br>Date=%{x}<br>Matic value=%{y}<extra></extra>\",\"legendgroup\":\"Low\",\"line\":{\"color\":\"#00cc96\",\"dash\":\"solid\"},\"marker\":{\"symbol\":\"circle\"},\"mode\":\"lines\",\"name\":\"Matic Low Price\",\"orientation\":\"v\",\"showlegend\":true,\"x\":[\"January\",\"February\",\"March\",\"April\",\"May\",\"June\",\"July\",\"August\",\"September\",\"October\",\"November\",\"December\"],\"xaxis\":\"x\",\"y\":[0.02914199990130235,0.09935785696974818,0.3071346768448429,0.39421573281288147,1.15141862246298,1.3114839474360147,0.938277748323256,1.2724051936980216,1.2361454606056212,1.4130991928039058,1.6705155928929647,2.1337031664386874],\"yaxis\":\"y\",\"type\":\"scatter\"}],                        {\"template\":{\"data\":{\"histogram2dcontour\":[{\"type\":\"histogram2dcontour\",\"colorbar\":{\"outlinewidth\":0,\"ticks\":\"\"},\"colorscale\":[[0.0,\"#0d0887\"],[0.1111111111111111,\"#46039f\"],[0.2222222222222222,\"#7201a8\"],[0.3333333333333333,\"#9c179e\"],[0.4444444444444444,\"#bd3786\"],[0.5555555555555556,\"#d8576b\"],[0.6666666666666666,\"#ed7953\"],[0.7777777777777778,\"#fb9f3a\"],[0.8888888888888888,\"#fdca26\"],[1.0,\"#f0f921\"]]}],\"choropleth\":[{\"type\":\"choropleth\",\"colorbar\":{\"outlinewidth\":0,\"ticks\":\"\"}}],\"histogram2d\":[{\"type\":\"histogram2d\",\"colorbar\":{\"outlinewidth\":0,\"ticks\":\"\"},\"colorscale\":[[0.0,\"#0d0887\"],[0.1111111111111111,\"#46039f\"],[0.2222222222222222,\"#7201a8\"],[0.3333333333333333,\"#9c179e\"],[0.4444444444444444,\"#bd3786\"],[0.5555555555555556,\"#d8576b\"],[0.6666666666666666,\"#ed7953\"],[0.7777777777777778,\"#fb9f3a\"],[0.8888888888888888,\"#fdca26\"],[1.0,\"#f0f921\"]]}],\"heatmap\":[{\"type\":\"heatmap\",\"colorbar\":{\"outlinewidth\":0,\"ticks\":\"\"},\"colorscale\":[[0.0,\"#0d0887\"],[0.1111111111111111,\"#46039f\"],[0.2222222222222222,\"#7201a8\"],[0.3333333333333333,\"#9c179e\"],[0.4444444444444444,\"#bd3786\"],[0.5555555555555556,\"#d8576b\"],[0.6666666666666666,\"#ed7953\"],[0.7777777777777778,\"#fb9f3a\"],[0.8888888888888888,\"#fdca26\"],[1.0,\"#f0f921\"]]}],\"heatmapgl\":[{\"type\":\"heatmapgl\",\"colorbar\":{\"outlinewidth\":0,\"ticks\":\"\"},\"colorscale\":[[0.0,\"#0d0887\"],[0.1111111111111111,\"#46039f\"],[0.2222222222222222,\"#7201a8\"],[0.3333333333333333,\"#9c179e\"],[0.4444444444444444,\"#bd3786\"],[0.5555555555555556,\"#d8576b\"],[0.6666666666666666,\"#ed7953\"],[0.7777777777777778,\"#fb9f3a\"],[0.8888888888888888,\"#fdca26\"],[1.0,\"#f0f921\"]]}],\"contourcarpet\":[{\"type\":\"contourcarpet\",\"colorbar\":{\"outlinewidth\":0,\"ticks\":\"\"}}],\"contour\":[{\"type\":\"contour\",\"colorbar\":{\"outlinewidth\":0,\"ticks\":\"\"},\"colorscale\":[[0.0,\"#0d0887\"],[0.1111111111111111,\"#46039f\"],[0.2222222222222222,\"#7201a8\"],[0.3333333333333333,\"#9c179e\"],[0.4444444444444444,\"#bd3786\"],[0.5555555555555556,\"#d8576b\"],[0.6666666666666666,\"#ed7953\"],[0.7777777777777778,\"#fb9f3a\"],[0.8888888888888888,\"#fdca26\"],[1.0,\"#f0f921\"]]}],\"surface\":[{\"type\":\"surface\",\"colorbar\":{\"outlinewidth\":0,\"ticks\":\"\"},\"colorscale\":[[0.0,\"#0d0887\"],[0.1111111111111111,\"#46039f\"],[0.2222222222222222,\"#7201a8\"],[0.3333333333333333,\"#9c179e\"],[0.4444444444444444,\"#bd3786\"],[0.5555555555555556,\"#d8576b\"],[0.6666666666666666,\"#ed7953\"],[0.7777777777777778,\"#fb9f3a\"],[0.8888888888888888,\"#fdca26\"],[1.0,\"#f0f921\"]]}],\"mesh3d\":[{\"type\":\"mesh3d\",\"colorbar\":{\"outlinewidth\":0,\"ticks\":\"\"}}],\"scatter\":[{\"fillpattern\":{\"fillmode\":\"overlay\",\"size\":10,\"solidity\":0.2},\"type\":\"scatter\"}],\"parcoords\":[{\"type\":\"parcoords\",\"line\":{\"colorbar\":{\"outlinewidth\":0,\"ticks\":\"\"}}}],\"scatterpolargl\":[{\"type\":\"scatterpolargl\",\"marker\":{\"colorbar\":{\"outlinewidth\":0,\"ticks\":\"\"}}}],\"bar\":[{\"error_x\":{\"color\":\"#2a3f5f\"},\"error_y\":{\"color\":\"#2a3f5f\"},\"marker\":{\"line\":{\"color\":\"#E5ECF6\",\"width\":0.5},\"pattern\":{\"fillmode\":\"overlay\",\"size\":10,\"solidity\":0.2}},\"type\":\"bar\"}],\"scattergeo\":[{\"type\":\"scattergeo\",\"marker\":{\"colorbar\":{\"outlinewidth\":0,\"ticks\":\"\"}}}],\"scatterpolar\":[{\"type\":\"scatterpolar\",\"marker\":{\"colorbar\":{\"outlinewidth\":0,\"ticks\":\"\"}}}],\"histogram\":[{\"marker\":{\"pattern\":{\"fillmode\":\"overlay\",\"size\":10,\"solidity\":0.2}},\"type\":\"histogram\"}],\"scattergl\":[{\"type\":\"scattergl\",\"marker\":{\"colorbar\":{\"outlinewidth\":0,\"ticks\":\"\"}}}],\"scatter3d\":[{\"type\":\"scatter3d\",\"line\":{\"colorbar\":{\"outlinewidth\":0,\"ticks\":\"\"}},\"marker\":{\"colorbar\":{\"outlinewidth\":0,\"ticks\":\"\"}}}],\"scattermapbox\":[{\"type\":\"scattermapbox\",\"marker\":{\"colorbar\":{\"outlinewidth\":0,\"ticks\":\"\"}}}],\"scatterternary\":[{\"type\":\"scatterternary\",\"marker\":{\"colorbar\":{\"outlinewidth\":0,\"ticks\":\"\"}}}],\"scattercarpet\":[{\"type\":\"scattercarpet\",\"marker\":{\"colorbar\":{\"outlinewidth\":0,\"ticks\":\"\"}}}],\"carpet\":[{\"aaxis\":{\"endlinecolor\":\"#2a3f5f\",\"gridcolor\":\"white\",\"linecolor\":\"white\",\"minorgridcolor\":\"white\",\"startlinecolor\":\"#2a3f5f\"},\"baxis\":{\"endlinecolor\":\"#2a3f5f\",\"gridcolor\":\"white\",\"linecolor\":\"white\",\"minorgridcolor\":\"white\",\"startlinecolor\":\"#2a3f5f\"},\"type\":\"carpet\"}],\"table\":[{\"cells\":{\"fill\":{\"color\":\"#EBF0F8\"},\"line\":{\"color\":\"white\"}},\"header\":{\"fill\":{\"color\":\"#C8D4E3\"},\"line\":{\"color\":\"white\"}},\"type\":\"table\"}],\"barpolar\":[{\"marker\":{\"line\":{\"color\":\"#E5ECF6\",\"width\":0.5},\"pattern\":{\"fillmode\":\"overlay\",\"size\":10,\"solidity\":0.2}},\"type\":\"barpolar\"}],\"pie\":[{\"automargin\":true,\"type\":\"pie\"}]},\"layout\":{\"autotypenumbers\":\"strict\",\"colorway\":[\"#636efa\",\"#EF553B\",\"#00cc96\",\"#ab63fa\",\"#FFA15A\",\"#19d3f3\",\"#FF6692\",\"#B6E880\",\"#FF97FF\",\"#FECB52\"],\"font\":{\"color\":\"#2a3f5f\"},\"hovermode\":\"closest\",\"hoverlabel\":{\"align\":\"left\"},\"paper_bgcolor\":\"white\",\"plot_bgcolor\":\"#E5ECF6\",\"polar\":{\"bgcolor\":\"#E5ECF6\",\"angularaxis\":{\"gridcolor\":\"white\",\"linecolor\":\"white\",\"ticks\":\"\"},\"radialaxis\":{\"gridcolor\":\"white\",\"linecolor\":\"white\",\"ticks\":\"\"}},\"ternary\":{\"bgcolor\":\"#E5ECF6\",\"aaxis\":{\"gridcolor\":\"white\",\"linecolor\":\"white\",\"ticks\":\"\"},\"baxis\":{\"gridcolor\":\"white\",\"linecolor\":\"white\",\"ticks\":\"\"},\"caxis\":{\"gridcolor\":\"white\",\"linecolor\":\"white\",\"ticks\":\"\"}},\"coloraxis\":{\"colorbar\":{\"outlinewidth\":0,\"ticks\":\"\"}},\"colorscale\":{\"sequential\":[[0.0,\"#0d0887\"],[0.1111111111111111,\"#46039f\"],[0.2222222222222222,\"#7201a8\"],[0.3333333333333333,\"#9c179e\"],[0.4444444444444444,\"#bd3786\"],[0.5555555555555556,\"#d8576b\"],[0.6666666666666666,\"#ed7953\"],[0.7777777777777778,\"#fb9f3a\"],[0.8888888888888888,\"#fdca26\"],[1.0,\"#f0f921\"]],\"sequentialminus\":[[0.0,\"#0d0887\"],[0.1111111111111111,\"#46039f\"],[0.2222222222222222,\"#7201a8\"],[0.3333333333333333,\"#9c179e\"],[0.4444444444444444,\"#bd3786\"],[0.5555555555555556,\"#d8576b\"],[0.6666666666666666,\"#ed7953\"],[0.7777777777777778,\"#fb9f3a\"],[0.8888888888888888,\"#fdca26\"],[1.0,\"#f0f921\"]],\"diverging\":[[0,\"#8e0152\"],[0.1,\"#c51b7d\"],[0.2,\"#de77ae\"],[0.3,\"#f1b6da\"],[0.4,\"#fde0ef\"],[0.5,\"#f7f7f7\"],[0.6,\"#e6f5d0\"],[0.7,\"#b8e186\"],[0.8,\"#7fbc41\"],[0.9,\"#4d9221\"],[1,\"#276419\"]]},\"xaxis\":{\"gridcolor\":\"white\",\"linecolor\":\"white\",\"ticks\":\"\",\"title\":{\"standoff\":15},\"zerolinecolor\":\"white\",\"automargin\":true,\"zerolinewidth\":2},\"yaxis\":{\"gridcolor\":\"white\",\"linecolor\":\"white\",\"ticks\":\"\",\"title\":{\"standoff\":15},\"zerolinecolor\":\"white\",\"automargin\":true,\"zerolinewidth\":2},\"scene\":{\"xaxis\":{\"backgroundcolor\":\"#E5ECF6\",\"gridcolor\":\"white\",\"linecolor\":\"white\",\"showbackground\":true,\"ticks\":\"\",\"zerolinecolor\":\"white\",\"gridwidth\":2},\"yaxis\":{\"backgroundcolor\":\"#E5ECF6\",\"gridcolor\":\"white\",\"linecolor\":\"white\",\"showbackground\":true,\"ticks\":\"\",\"zerolinecolor\":\"white\",\"gridwidth\":2},\"zaxis\":{\"backgroundcolor\":\"#E5ECF6\",\"gridcolor\":\"white\",\"linecolor\":\"white\",\"showbackground\":true,\"ticks\":\"\",\"zerolinecolor\":\"white\",\"gridwidth\":2}},\"shapedefaults\":{\"line\":{\"color\":\"#2a3f5f\"}},\"annotationdefaults\":{\"arrowcolor\":\"#2a3f5f\",\"arrowhead\":0,\"arrowwidth\":1},\"geo\":{\"bgcolor\":\"white\",\"landcolor\":\"#E5ECF6\",\"subunitcolor\":\"white\",\"showland\":true,\"showlakes\":true,\"lakecolor\":\"white\"},\"title\":{\"x\":0.05},\"mapbox\":{\"style\":\"light\"}}},\"xaxis\":{\"anchor\":\"y\",\"domain\":[0.0,1.0],\"title\":{\"text\":\"Date\"},\"showgrid\":false},\"yaxis\":{\"anchor\":\"x\",\"domain\":[0.0,1.0],\"title\":{\"text\":\"Matic value\"},\"showgrid\":false},\"legend\":{\"title\":{\"text\":\"Matic Stock Parameters\"},\"tracegroupgap\":0},\"margin\":{\"t\":60},\"title\":{\"text\":\"Matic Price analysis chart for 2021\"},\"font\":{\"size\":15,\"color\":\"black\"}},                        {\"responsive\": true}                    ).then(function(){\n",
       "                            \n",
       "var gd = document.getElementById('8a7544c7-2da6-4017-baf9-7569b4570a45');\n",
       "var x = new MutationObserver(function (mutations, observer) {{\n",
       "        var display = window.getComputedStyle(gd).display;\n",
       "        if (!display || display === 'none') {{\n",
       "            console.log([gd, 'removed!']);\n",
       "            Plotly.purge(gd);\n",
       "            observer.disconnect();\n",
       "        }}\n",
       "}});\n",
       "\n",
       "// Listen for the removal of the full notebook cells\n",
       "var notebookContainer = gd.closest('#notebook-container');\n",
       "if (notebookContainer) {{\n",
       "    x.observe(notebookContainer, {childList: true});\n",
       "}}\n",
       "\n",
       "// Listen for the clearing of the current output cell\n",
       "var outputEl = gd.closest('.output');\n",
       "if (outputEl) {{\n",
       "    x.observe(outputEl, {childList: true});\n",
       "}}\n",
       "\n",
       "                        })                };                });            </script>        </div>"
      ]
     },
     "metadata": {},
     "output_type": "display_data"
    }
   ],
   "source": [
    "names = cycle(['Matic Open Price','Matic High Price','Matic Low Price'])\n",
    "\n",
    "fig = px.line(monthwise, x = monthwise.Date, y = [monthwise['Open'], monthwise['High'], monthwise['Low']],\n",
    "             labels = {'date': 'Date','value':'Matic value'})\n",
    "fig.update_layout(title_text = 'Matic Price analysis chart for 2021', font_size = 15, font_color = 'black',legend_title_text='Matic Stock Parameters')\n",
    "fig.for_each_trace(lambda t:  t.update(name = next(names)))\n",
    "fig.update_xaxes(showgrid = False)\n",
    "fig.update_yaxes(showgrid = False)\n",
    "\n",
    "fig.show()"
   ]
  },
  {
   "cell_type": "markdown",
   "id": "47da9b2c",
   "metadata": {
    "id": "4ocOOzIcC95h",
    "papermill": {
     "duration": 0.022267,
     "end_time": "2023-03-13T11:31:12.255318",
     "exception": false,
     "start_time": "2023-03-13T11:31:12.233051",
     "status": "completed"
    },
    "tags": []
   },
   "source": [
    "# **Monthwise Analysis for the Year 2020**"
   ]
  },
  {
   "cell_type": "code",
   "execution_count": 19,
   "id": "55ed812c",
   "metadata": {
    "execution": {
     "iopub.execute_input": "2023-03-13T11:31:12.303126Z",
     "iopub.status.busy": "2023-03-13T11:31:12.301268Z",
     "iopub.status.idle": "2023-03-13T11:31:12.324702Z",
     "shell.execute_reply": "2023-03-13T11:31:12.323417Z"
    },
    "id": "UU02Yj-TDA2i",
    "outputId": "4b105209-bb62-425f-e371-2b77d8879dc3",
    "papermill": {
     "duration": 0.051255,
     "end_time": "2023-03-13T11:31:12.328175",
     "exception": false,
     "start_time": "2023-03-13T11:31:12.276920",
     "status": "completed"
    },
    "tags": []
   },
   "outputs": [
    {
     "data": {
      "text/html": [
       "<div>\n",
       "<style scoped>\n",
       "    .dataframe tbody tr th:only-of-type {\n",
       "        vertical-align: middle;\n",
       "    }\n",
       "\n",
       "    .dataframe tbody tr th {\n",
       "        vertical-align: top;\n",
       "    }\n",
       "\n",
       "    .dataframe thead th {\n",
       "        text-align: right;\n",
       "    }\n",
       "</style>\n",
       "<table border=\"1\" class=\"dataframe\">\n",
       "  <thead>\n",
       "    <tr style=\"text-align: right;\">\n",
       "      <th></th>\n",
       "      <th>Date</th>\n",
       "      <th>Open</th>\n",
       "      <th>High</th>\n",
       "      <th>Low</th>\n",
       "      <th>Close</th>\n",
       "    </tr>\n",
       "  </thead>\n",
       "  <tbody>\n",
       "    <tr>\n",
       "      <th>0</th>\n",
       "      <td>2020-01-01</td>\n",
       "      <td>0.013807</td>\n",
       "      <td>0.015474</td>\n",
       "      <td>0.013747</td>\n",
       "      <td>0.014962</td>\n",
       "    </tr>\n",
       "    <tr>\n",
       "      <th>1</th>\n",
       "      <td>2020-01-02</td>\n",
       "      <td>0.014942</td>\n",
       "      <td>0.015759</td>\n",
       "      <td>0.014441</td>\n",
       "      <td>0.014651</td>\n",
       "    </tr>\n",
       "    <tr>\n",
       "      <th>2</th>\n",
       "      <td>2020-01-03</td>\n",
       "      <td>0.014694</td>\n",
       "      <td>0.015427</td>\n",
       "      <td>0.014297</td>\n",
       "      <td>0.015194</td>\n",
       "    </tr>\n",
       "    <tr>\n",
       "      <th>3</th>\n",
       "      <td>2020-01-04</td>\n",
       "      <td>0.015170</td>\n",
       "      <td>0.015523</td>\n",
       "      <td>0.014865</td>\n",
       "      <td>0.014961</td>\n",
       "    </tr>\n",
       "    <tr>\n",
       "      <th>4</th>\n",
       "      <td>2020-01-05</td>\n",
       "      <td>0.014954</td>\n",
       "      <td>0.015278</td>\n",
       "      <td>0.014837</td>\n",
       "      <td>0.014914</td>\n",
       "    </tr>\n",
       "  </tbody>\n",
       "</table>\n",
       "</div>"
      ],
      "text/plain": [
       "        Date      Open      High       Low     Close\n",
       "0 2020-01-01  0.013807  0.015474  0.013747  0.014962\n",
       "1 2020-01-02  0.014942  0.015759  0.014441  0.014651\n",
       "2 2020-01-03  0.014694  0.015427  0.014297  0.015194\n",
       "3 2020-01-04  0.015170  0.015523  0.014865  0.014961\n",
       "4 2020-01-05  0.014954  0.015278  0.014837  0.014914"
      ]
     },
     "execution_count": 19,
     "metadata": {},
     "output_type": "execute_result"
    }
   ],
   "source": [
    "y_2020 = matic[(matic['Date'] >= '2020-01-01') & (matic['Date'] < '2021-01-01')]\n",
    "y_2020 = y_2020.drop(['Volume'], axis = 1)\n",
    "y_2020.reset_index(drop = True, inplace = True)\n",
    "y_2020.head()"
   ]
  },
  {
   "cell_type": "code",
   "execution_count": 20,
   "id": "2ae3e3c4",
   "metadata": {
    "execution": {
     "iopub.execute_input": "2023-03-13T11:31:12.376890Z",
     "iopub.status.busy": "2023-03-13T11:31:12.376452Z",
     "iopub.status.idle": "2023-03-13T11:31:12.397456Z",
     "shell.execute_reply": "2023-03-13T11:31:12.396113Z"
    },
    "id": "82zkUcswDTiA",
    "outputId": "f609d97f-c91a-45f9-eae8-cade58c22479",
    "papermill": {
     "duration": 0.049276,
     "end_time": "2023-03-13T11:31:12.400352",
     "exception": false,
     "start_time": "2023-03-13T11:31:12.351076",
     "status": "completed"
    },
    "tags": []
   },
   "outputs": [
    {
     "data": {
      "text/html": [
       "<div>\n",
       "<style scoped>\n",
       "    .dataframe tbody tr th:only-of-type {\n",
       "        vertical-align: middle;\n",
       "    }\n",
       "\n",
       "    .dataframe tbody tr th {\n",
       "        vertical-align: top;\n",
       "    }\n",
       "\n",
       "    .dataframe thead th {\n",
       "        text-align: right;\n",
       "    }\n",
       "</style>\n",
       "<table border=\"1\" class=\"dataframe\">\n",
       "  <thead>\n",
       "    <tr style=\"text-align: right;\">\n",
       "      <th></th>\n",
       "      <th>Date</th>\n",
       "      <th>Open</th>\n",
       "      <th>Close</th>\n",
       "      <th>High</th>\n",
       "      <th>Low</th>\n",
       "    </tr>\n",
       "  </thead>\n",
       "  <tbody>\n",
       "    <tr>\n",
       "      <th>0</th>\n",
       "      <td>January</td>\n",
       "      <td>0.015990</td>\n",
       "      <td>0.016126</td>\n",
       "      <td>0.016566</td>\n",
       "      <td>0.015567</td>\n",
       "    </tr>\n",
       "    <tr>\n",
       "      <th>1</th>\n",
       "      <td>February</td>\n",
       "      <td>0.020992</td>\n",
       "      <td>0.021084</td>\n",
       "      <td>0.021976</td>\n",
       "      <td>0.020069</td>\n",
       "    </tr>\n",
       "    <tr>\n",
       "      <th>2</th>\n",
       "      <td>March</td>\n",
       "      <td>0.015055</td>\n",
       "      <td>0.014752</td>\n",
       "      <td>0.016227</td>\n",
       "      <td>0.013789</td>\n",
       "    </tr>\n",
       "    <tr>\n",
       "      <th>3</th>\n",
       "      <td>April</td>\n",
       "      <td>0.013030</td>\n",
       "      <td>0.013181</td>\n",
       "      <td>0.013626</td>\n",
       "      <td>0.012645</td>\n",
       "    </tr>\n",
       "    <tr>\n",
       "      <th>4</th>\n",
       "      <td>May</td>\n",
       "      <td>0.019522</td>\n",
       "      <td>0.019689</td>\n",
       "      <td>0.020730</td>\n",
       "      <td>0.018654</td>\n",
       "    </tr>\n",
       "  </tbody>\n",
       "</table>\n",
       "</div>"
      ],
      "text/plain": [
       "       Date      Open     Close      High       Low\n",
       "0   January  0.015990  0.016126  0.016566  0.015567\n",
       "1  February  0.020992  0.021084  0.021976  0.020069\n",
       "2     March  0.015055  0.014752  0.016227  0.013789\n",
       "3     April  0.013030  0.013181  0.013626  0.012645\n",
       "4       May  0.019522  0.019689  0.020730  0.018654"
      ]
     },
     "execution_count": 20,
     "metadata": {},
     "output_type": "execute_result"
    }
   ],
   "source": [
    "monthwise = y_2020.groupby(pd.DatetimeIndex(y_2020.Date).month)[['Open', 'Close', 'High', 'Low']].mean()\n",
    "new_order = ['January', 'February', 'March', 'April', 'May', 'June', 'July', 'August', \n",
    "             'September', 'October', 'November','December']\n",
    "monthwise = monthwise.reset_index()\n",
    "monthwise['Date'] = new_order\n",
    "#monthwise.index = new_order\n",
    "monthwise.head()"
   ]
  },
  {
   "cell_type": "code",
   "execution_count": 21,
   "id": "314cfe7f",
   "metadata": {
    "execution": {
     "iopub.execute_input": "2023-03-13T11:31:12.449936Z",
     "iopub.status.busy": "2023-03-13T11:31:12.449500Z",
     "iopub.status.idle": "2023-03-13T11:31:12.469203Z",
     "shell.execute_reply": "2023-03-13T11:31:12.467599Z"
    },
    "id": "4JdNDCP1DgFv",
    "outputId": "43684650-4c5b-4fca-eda7-617514b8d063",
    "papermill": {
     "duration": 0.046849,
     "end_time": "2023-03-13T11:31:12.472433",
     "exception": false,
     "start_time": "2023-03-13T11:31:12.425584",
     "status": "completed"
    },
    "tags": []
   },
   "outputs": [
    {
     "data": {
      "text/html": [
       "<div>                            <div id=\"d174890d-b105-4f65-aa0f-6de111f23016\" class=\"plotly-graph-div\" style=\"height:525px; width:100%;\"></div>            <script type=\"text/javascript\">                require([\"plotly\"], function(Plotly) {                    window.PLOTLYENV=window.PLOTLYENV || {};                                    if (document.getElementById(\"d174890d-b105-4f65-aa0f-6de111f23016\")) {                    Plotly.newPlot(                        \"d174890d-b105-4f65-aa0f-6de111f23016\",                        [{\"marker\":{\"color\":\"purple\"},\"name\":\"Matic Close Price\",\"x\":[\"January\",\"February\",\"March\",\"April\",\"May\",\"June\",\"July\",\"August\",\"September\",\"October\",\"November\",\"December\"],\"y\":[0.016126032257752995,0.021084448194195443,0.014751677341278474,0.013180833278844704,0.019688903113766972,0.020837466542919424,0.02070861285732634,0.025148354891327076,0.020004666658739203,0.016855935325785946,0.016984200011938753,0.01854880637819724],\"type\":\"bar\"},{\"marker\":{\"color\":\"pink\"},\"name\":\"Matic Open Price\",\"x\":[\"January\",\"February\",\"March\",\"April\",\"May\",\"June\",\"July\",\"August\",\"September\",\"October\",\"November\",\"December\"],\"y\":[0.01598954825632029,0.02099248278757616,0.01505519344561518,0.013029633369296741,0.019522096691352662,0.02088316679000851,0.020676032249485242,0.024945032332212645,0.0202182334537307,0.0170648386701941,0.01678946667040383,0.018610903272224963],\"type\":\"bar\"}],                        {\"template\":{\"data\":{\"histogram2dcontour\":[{\"type\":\"histogram2dcontour\",\"colorbar\":{\"outlinewidth\":0,\"ticks\":\"\"},\"colorscale\":[[0.0,\"#0d0887\"],[0.1111111111111111,\"#46039f\"],[0.2222222222222222,\"#7201a8\"],[0.3333333333333333,\"#9c179e\"],[0.4444444444444444,\"#bd3786\"],[0.5555555555555556,\"#d8576b\"],[0.6666666666666666,\"#ed7953\"],[0.7777777777777778,\"#fb9f3a\"],[0.8888888888888888,\"#fdca26\"],[1.0,\"#f0f921\"]]}],\"choropleth\":[{\"type\":\"choropleth\",\"colorbar\":{\"outlinewidth\":0,\"ticks\":\"\"}}],\"histogram2d\":[{\"type\":\"histogram2d\",\"colorbar\":{\"outlinewidth\":0,\"ticks\":\"\"},\"colorscale\":[[0.0,\"#0d0887\"],[0.1111111111111111,\"#46039f\"],[0.2222222222222222,\"#7201a8\"],[0.3333333333333333,\"#9c179e\"],[0.4444444444444444,\"#bd3786\"],[0.5555555555555556,\"#d8576b\"],[0.6666666666666666,\"#ed7953\"],[0.7777777777777778,\"#fb9f3a\"],[0.8888888888888888,\"#fdca26\"],[1.0,\"#f0f921\"]]}],\"heatmap\":[{\"type\":\"heatmap\",\"colorbar\":{\"outlinewidth\":0,\"ticks\":\"\"},\"colorscale\":[[0.0,\"#0d0887\"],[0.1111111111111111,\"#46039f\"],[0.2222222222222222,\"#7201a8\"],[0.3333333333333333,\"#9c179e\"],[0.4444444444444444,\"#bd3786\"],[0.5555555555555556,\"#d8576b\"],[0.6666666666666666,\"#ed7953\"],[0.7777777777777778,\"#fb9f3a\"],[0.8888888888888888,\"#fdca26\"],[1.0,\"#f0f921\"]]}],\"heatmapgl\":[{\"type\":\"heatmapgl\",\"colorbar\":{\"outlinewidth\":0,\"ticks\":\"\"},\"colorscale\":[[0.0,\"#0d0887\"],[0.1111111111111111,\"#46039f\"],[0.2222222222222222,\"#7201a8\"],[0.3333333333333333,\"#9c179e\"],[0.4444444444444444,\"#bd3786\"],[0.5555555555555556,\"#d8576b\"],[0.6666666666666666,\"#ed7953\"],[0.7777777777777778,\"#fb9f3a\"],[0.8888888888888888,\"#fdca26\"],[1.0,\"#f0f921\"]]}],\"contourcarpet\":[{\"type\":\"contourcarpet\",\"colorbar\":{\"outlinewidth\":0,\"ticks\":\"\"}}],\"contour\":[{\"type\":\"contour\",\"colorbar\":{\"outlinewidth\":0,\"ticks\":\"\"},\"colorscale\":[[0.0,\"#0d0887\"],[0.1111111111111111,\"#46039f\"],[0.2222222222222222,\"#7201a8\"],[0.3333333333333333,\"#9c179e\"],[0.4444444444444444,\"#bd3786\"],[0.5555555555555556,\"#d8576b\"],[0.6666666666666666,\"#ed7953\"],[0.7777777777777778,\"#fb9f3a\"],[0.8888888888888888,\"#fdca26\"],[1.0,\"#f0f921\"]]}],\"surface\":[{\"type\":\"surface\",\"colorbar\":{\"outlinewidth\":0,\"ticks\":\"\"},\"colorscale\":[[0.0,\"#0d0887\"],[0.1111111111111111,\"#46039f\"],[0.2222222222222222,\"#7201a8\"],[0.3333333333333333,\"#9c179e\"],[0.4444444444444444,\"#bd3786\"],[0.5555555555555556,\"#d8576b\"],[0.6666666666666666,\"#ed7953\"],[0.7777777777777778,\"#fb9f3a\"],[0.8888888888888888,\"#fdca26\"],[1.0,\"#f0f921\"]]}],\"mesh3d\":[{\"type\":\"mesh3d\",\"colorbar\":{\"outlinewidth\":0,\"ticks\":\"\"}}],\"scatter\":[{\"fillpattern\":{\"fillmode\":\"overlay\",\"size\":10,\"solidity\":0.2},\"type\":\"scatter\"}],\"parcoords\":[{\"type\":\"parcoords\",\"line\":{\"colorbar\":{\"outlinewidth\":0,\"ticks\":\"\"}}}],\"scatterpolargl\":[{\"type\":\"scatterpolargl\",\"marker\":{\"colorbar\":{\"outlinewidth\":0,\"ticks\":\"\"}}}],\"bar\":[{\"error_x\":{\"color\":\"#2a3f5f\"},\"error_y\":{\"color\":\"#2a3f5f\"},\"marker\":{\"line\":{\"color\":\"#E5ECF6\",\"width\":0.5},\"pattern\":{\"fillmode\":\"overlay\",\"size\":10,\"solidity\":0.2}},\"type\":\"bar\"}],\"scattergeo\":[{\"type\":\"scattergeo\",\"marker\":{\"colorbar\":{\"outlinewidth\":0,\"ticks\":\"\"}}}],\"scatterpolar\":[{\"type\":\"scatterpolar\",\"marker\":{\"colorbar\":{\"outlinewidth\":0,\"ticks\":\"\"}}}],\"histogram\":[{\"marker\":{\"pattern\":{\"fillmode\":\"overlay\",\"size\":10,\"solidity\":0.2}},\"type\":\"histogram\"}],\"scattergl\":[{\"type\":\"scattergl\",\"marker\":{\"colorbar\":{\"outlinewidth\":0,\"ticks\":\"\"}}}],\"scatter3d\":[{\"type\":\"scatter3d\",\"line\":{\"colorbar\":{\"outlinewidth\":0,\"ticks\":\"\"}},\"marker\":{\"colorbar\":{\"outlinewidth\":0,\"ticks\":\"\"}}}],\"scattermapbox\":[{\"type\":\"scattermapbox\",\"marker\":{\"colorbar\":{\"outlinewidth\":0,\"ticks\":\"\"}}}],\"scatterternary\":[{\"type\":\"scatterternary\",\"marker\":{\"colorbar\":{\"outlinewidth\":0,\"ticks\":\"\"}}}],\"scattercarpet\":[{\"type\":\"scattercarpet\",\"marker\":{\"colorbar\":{\"outlinewidth\":0,\"ticks\":\"\"}}}],\"carpet\":[{\"aaxis\":{\"endlinecolor\":\"#2a3f5f\",\"gridcolor\":\"white\",\"linecolor\":\"white\",\"minorgridcolor\":\"white\",\"startlinecolor\":\"#2a3f5f\"},\"baxis\":{\"endlinecolor\":\"#2a3f5f\",\"gridcolor\":\"white\",\"linecolor\":\"white\",\"minorgridcolor\":\"white\",\"startlinecolor\":\"#2a3f5f\"},\"type\":\"carpet\"}],\"table\":[{\"cells\":{\"fill\":{\"color\":\"#EBF0F8\"},\"line\":{\"color\":\"white\"}},\"header\":{\"fill\":{\"color\":\"#C8D4E3\"},\"line\":{\"color\":\"white\"}},\"type\":\"table\"}],\"barpolar\":[{\"marker\":{\"line\":{\"color\":\"#E5ECF6\",\"width\":0.5},\"pattern\":{\"fillmode\":\"overlay\",\"size\":10,\"solidity\":0.2}},\"type\":\"barpolar\"}],\"pie\":[{\"automargin\":true,\"type\":\"pie\"}]},\"layout\":{\"autotypenumbers\":\"strict\",\"colorway\":[\"#636efa\",\"#EF553B\",\"#00cc96\",\"#ab63fa\",\"#FFA15A\",\"#19d3f3\",\"#FF6692\",\"#B6E880\",\"#FF97FF\",\"#FECB52\"],\"font\":{\"color\":\"#2a3f5f\"},\"hovermode\":\"closest\",\"hoverlabel\":{\"align\":\"left\"},\"paper_bgcolor\":\"white\",\"plot_bgcolor\":\"#E5ECF6\",\"polar\":{\"bgcolor\":\"#E5ECF6\",\"angularaxis\":{\"gridcolor\":\"white\",\"linecolor\":\"white\",\"ticks\":\"\"},\"radialaxis\":{\"gridcolor\":\"white\",\"linecolor\":\"white\",\"ticks\":\"\"}},\"ternary\":{\"bgcolor\":\"#E5ECF6\",\"aaxis\":{\"gridcolor\":\"white\",\"linecolor\":\"white\",\"ticks\":\"\"},\"baxis\":{\"gridcolor\":\"white\",\"linecolor\":\"white\",\"ticks\":\"\"},\"caxis\":{\"gridcolor\":\"white\",\"linecolor\":\"white\",\"ticks\":\"\"}},\"coloraxis\":{\"colorbar\":{\"outlinewidth\":0,\"ticks\":\"\"}},\"colorscale\":{\"sequential\":[[0.0,\"#0d0887\"],[0.1111111111111111,\"#46039f\"],[0.2222222222222222,\"#7201a8\"],[0.3333333333333333,\"#9c179e\"],[0.4444444444444444,\"#bd3786\"],[0.5555555555555556,\"#d8576b\"],[0.6666666666666666,\"#ed7953\"],[0.7777777777777778,\"#fb9f3a\"],[0.8888888888888888,\"#fdca26\"],[1.0,\"#f0f921\"]],\"sequentialminus\":[[0.0,\"#0d0887\"],[0.1111111111111111,\"#46039f\"],[0.2222222222222222,\"#7201a8\"],[0.3333333333333333,\"#9c179e\"],[0.4444444444444444,\"#bd3786\"],[0.5555555555555556,\"#d8576b\"],[0.6666666666666666,\"#ed7953\"],[0.7777777777777778,\"#fb9f3a\"],[0.8888888888888888,\"#fdca26\"],[1.0,\"#f0f921\"]],\"diverging\":[[0,\"#8e0152\"],[0.1,\"#c51b7d\"],[0.2,\"#de77ae\"],[0.3,\"#f1b6da\"],[0.4,\"#fde0ef\"],[0.5,\"#f7f7f7\"],[0.6,\"#e6f5d0\"],[0.7,\"#b8e186\"],[0.8,\"#7fbc41\"],[0.9,\"#4d9221\"],[1,\"#276419\"]]},\"xaxis\":{\"gridcolor\":\"white\",\"linecolor\":\"white\",\"ticks\":\"\",\"title\":{\"standoff\":15},\"zerolinecolor\":\"white\",\"automargin\":true,\"zerolinewidth\":2},\"yaxis\":{\"gridcolor\":\"white\",\"linecolor\":\"white\",\"ticks\":\"\",\"title\":{\"standoff\":15},\"zerolinecolor\":\"white\",\"automargin\":true,\"zerolinewidth\":2},\"scene\":{\"xaxis\":{\"backgroundcolor\":\"#E5ECF6\",\"gridcolor\":\"white\",\"linecolor\":\"white\",\"showbackground\":true,\"ticks\":\"\",\"zerolinecolor\":\"white\",\"gridwidth\":2},\"yaxis\":{\"backgroundcolor\":\"#E5ECF6\",\"gridcolor\":\"white\",\"linecolor\":\"white\",\"showbackground\":true,\"ticks\":\"\",\"zerolinecolor\":\"white\",\"gridwidth\":2},\"zaxis\":{\"backgroundcolor\":\"#E5ECF6\",\"gridcolor\":\"white\",\"linecolor\":\"white\",\"showbackground\":true,\"ticks\":\"\",\"zerolinecolor\":\"white\",\"gridwidth\":2}},\"shapedefaults\":{\"line\":{\"color\":\"#2a3f5f\"}},\"annotationdefaults\":{\"arrowcolor\":\"#2a3f5f\",\"arrowhead\":0,\"arrowwidth\":1},\"geo\":{\"bgcolor\":\"white\",\"landcolor\":\"#E5ECF6\",\"subunitcolor\":\"white\",\"showland\":true,\"showlakes\":true,\"lakecolor\":\"white\"},\"title\":{\"x\":0.05},\"mapbox\":{\"style\":\"light\"}}},\"xaxis\":{\"tickangle\":-45},\"barmode\":\"group\",\"title\":{\"text\":\"Monthwise comparision for Open and Close Prices for the year 2020\"}},                        {\"responsive\": true}                    ).then(function(){\n",
       "                            \n",
       "var gd = document.getElementById('d174890d-b105-4f65-aa0f-6de111f23016');\n",
       "var x = new MutationObserver(function (mutations, observer) {{\n",
       "        var display = window.getComputedStyle(gd).display;\n",
       "        if (!display || display === 'none') {{\n",
       "            console.log([gd, 'removed!']);\n",
       "            Plotly.purge(gd);\n",
       "            observer.disconnect();\n",
       "        }}\n",
       "}});\n",
       "\n",
       "// Listen for the removal of the full notebook cells\n",
       "var notebookContainer = gd.closest('#notebook-container');\n",
       "if (notebookContainer) {{\n",
       "    x.observe(notebookContainer, {childList: true});\n",
       "}}\n",
       "\n",
       "// Listen for the clearing of the current output cell\n",
       "var outputEl = gd.closest('.output');\n",
       "if (outputEl) {{\n",
       "    x.observe(outputEl, {childList: true});\n",
       "}}\n",
       "\n",
       "                        })                };                });            </script>        </div>"
      ]
     },
     "metadata": {},
     "output_type": "display_data"
    }
   ],
   "source": [
    "fig = go.Figure()\n",
    "\n",
    "fig.add_trace(go.Bar(\n",
    "    x = monthwise.Date,\n",
    "    y = monthwise['Close'],\n",
    "    name = 'Matic Close Price',\n",
    "    marker_color = 'purple'\n",
    "))\n",
    "\n",
    "fig.add_trace(go.Bar(\n",
    "    x = monthwise.Date,\n",
    "    y = monthwise['Open'],\n",
    "    name = 'Matic Open Price',\n",
    "    marker_color = 'pink'\n",
    "))\n",
    "fig.update_layout(barmode = 'group', xaxis_tickangle = -45, \n",
    "                  title = 'Monthwise comparision for Open and Close Prices for the year 2020')\n",
    "fig.show()"
   ]
  },
  {
   "cell_type": "code",
   "execution_count": 22,
   "id": "818c42b3",
   "metadata": {
    "execution": {
     "iopub.execute_input": "2023-03-13T11:31:12.520001Z",
     "iopub.status.busy": "2023-03-13T11:31:12.518417Z",
     "iopub.status.idle": "2023-03-13T11:31:12.609875Z",
     "shell.execute_reply": "2023-03-13T11:31:12.608500Z"
    },
    "id": "SQcMqvMCDuN_",
    "outputId": "75bcaaee-aaea-452c-f2bb-30acbc029605",
    "papermill": {
     "duration": 0.119147,
     "end_time": "2023-03-13T11:31:12.613821",
     "exception": false,
     "start_time": "2023-03-13T11:31:12.494674",
     "status": "completed"
    },
    "tags": []
   },
   "outputs": [
    {
     "data": {
      "text/html": [
       "<div>                            <div id=\"316d7968-96b8-47c6-a492-b35458f6cc55\" class=\"plotly-graph-div\" style=\"height:525px; width:100%;\"></div>            <script type=\"text/javascript\">                require([\"plotly\"], function(Plotly) {                    window.PLOTLYENV=window.PLOTLYENV || {};                                    if (document.getElementById(\"316d7968-96b8-47c6-a492-b35458f6cc55\")) {                    Plotly.newPlot(                        \"316d7968-96b8-47c6-a492-b35458f6cc55\",                        [{\"hovertemplate\":\"variable=Open<br>Date=%{x}<br>Matic value=%{y}<extra></extra>\",\"legendgroup\":\"Open\",\"line\":{\"color\":\"#636efa\",\"dash\":\"solid\"},\"marker\":{\"symbol\":\"circle\"},\"mode\":\"lines\",\"name\":\"Matic Open Price\",\"orientation\":\"v\",\"showlegend\":true,\"x\":[\"January\",\"February\",\"March\",\"April\",\"May\",\"June\",\"July\",\"August\",\"September\",\"October\",\"November\",\"December\"],\"xaxis\":\"x\",\"y\":[0.01598954825632029,0.02099248278757616,0.01505519344561518,0.013029633369296741,0.019522096691352662,0.02088316679000851,0.020676032249485242,0.024945032332212645,0.0202182334537307,0.0170648386701941,0.01678946667040383,0.018610903272224963],\"yaxis\":\"y\",\"type\":\"scatter\"},{\"hovertemplate\":\"variable=High<br>Date=%{x}<br>Matic value=%{y}<extra></extra>\",\"legendgroup\":\"High\",\"line\":{\"color\":\"#EF553B\",\"dash\":\"solid\"},\"marker\":{\"symbol\":\"circle\"},\"mode\":\"lines\",\"name\":\"Matic High Price\",\"orientation\":\"v\",\"showlegend\":true,\"x\":[\"January\",\"February\",\"March\",\"April\",\"May\",\"June\",\"July\",\"August\",\"September\",\"October\",\"November\",\"December\"],\"xaxis\":\"x\",\"y\":[0.01656599994748827,0.021976275947587193,0.01622690320495632,0.013626266705493084,0.020730483706199305,0.021491566548744786,0.021317064401603473,0.026325064561059347,0.020987366636594083,0.017456677411833064,0.017818666590998518,0.01926038702649451],\"yaxis\":\"y\",\"type\":\"scatter\"},{\"hovertemplate\":\"variable=Low<br>Date=%{x}<br>Matic value=%{y}<extra></extra>\",\"legendgroup\":\"Low\",\"line\":{\"color\":\"#00cc96\",\"dash\":\"solid\"},\"marker\":{\"symbol\":\"circle\"},\"mode\":\"lines\",\"name\":\"Matic Low Price\",\"orientation\":\"v\",\"showlegend\":true,\"x\":[\"January\",\"February\",\"March\",\"April\",\"May\",\"June\",\"July\",\"August\",\"September\",\"October\",\"November\",\"December\"],\"xaxis\":\"x\",\"y\":[0.015566709511462667,0.020068861993736187,0.013788774128883062,0.012644666650642906,0.018654032219802136,0.02014630002280073,0.02013319370246697,0.023946580627272156,0.019157233275473074,0.01642351618577392,0.016086766682565166,0.017813290379220387],\"yaxis\":\"y\",\"type\":\"scatter\"}],                        {\"template\":{\"data\":{\"histogram2dcontour\":[{\"type\":\"histogram2dcontour\",\"colorbar\":{\"outlinewidth\":0,\"ticks\":\"\"},\"colorscale\":[[0.0,\"#0d0887\"],[0.1111111111111111,\"#46039f\"],[0.2222222222222222,\"#7201a8\"],[0.3333333333333333,\"#9c179e\"],[0.4444444444444444,\"#bd3786\"],[0.5555555555555556,\"#d8576b\"],[0.6666666666666666,\"#ed7953\"],[0.7777777777777778,\"#fb9f3a\"],[0.8888888888888888,\"#fdca26\"],[1.0,\"#f0f921\"]]}],\"choropleth\":[{\"type\":\"choropleth\",\"colorbar\":{\"outlinewidth\":0,\"ticks\":\"\"}}],\"histogram2d\":[{\"type\":\"histogram2d\",\"colorbar\":{\"outlinewidth\":0,\"ticks\":\"\"},\"colorscale\":[[0.0,\"#0d0887\"],[0.1111111111111111,\"#46039f\"],[0.2222222222222222,\"#7201a8\"],[0.3333333333333333,\"#9c179e\"],[0.4444444444444444,\"#bd3786\"],[0.5555555555555556,\"#d8576b\"],[0.6666666666666666,\"#ed7953\"],[0.7777777777777778,\"#fb9f3a\"],[0.8888888888888888,\"#fdca26\"],[1.0,\"#f0f921\"]]}],\"heatmap\":[{\"type\":\"heatmap\",\"colorbar\":{\"outlinewidth\":0,\"ticks\":\"\"},\"colorscale\":[[0.0,\"#0d0887\"],[0.1111111111111111,\"#46039f\"],[0.2222222222222222,\"#7201a8\"],[0.3333333333333333,\"#9c179e\"],[0.4444444444444444,\"#bd3786\"],[0.5555555555555556,\"#d8576b\"],[0.6666666666666666,\"#ed7953\"],[0.7777777777777778,\"#fb9f3a\"],[0.8888888888888888,\"#fdca26\"],[1.0,\"#f0f921\"]]}],\"heatmapgl\":[{\"type\":\"heatmapgl\",\"colorbar\":{\"outlinewidth\":0,\"ticks\":\"\"},\"colorscale\":[[0.0,\"#0d0887\"],[0.1111111111111111,\"#46039f\"],[0.2222222222222222,\"#7201a8\"],[0.3333333333333333,\"#9c179e\"],[0.4444444444444444,\"#bd3786\"],[0.5555555555555556,\"#d8576b\"],[0.6666666666666666,\"#ed7953\"],[0.7777777777777778,\"#fb9f3a\"],[0.8888888888888888,\"#fdca26\"],[1.0,\"#f0f921\"]]}],\"contourcarpet\":[{\"type\":\"contourcarpet\",\"colorbar\":{\"outlinewidth\":0,\"ticks\":\"\"}}],\"contour\":[{\"type\":\"contour\",\"colorbar\":{\"outlinewidth\":0,\"ticks\":\"\"},\"colorscale\":[[0.0,\"#0d0887\"],[0.1111111111111111,\"#46039f\"],[0.2222222222222222,\"#7201a8\"],[0.3333333333333333,\"#9c179e\"],[0.4444444444444444,\"#bd3786\"],[0.5555555555555556,\"#d8576b\"],[0.6666666666666666,\"#ed7953\"],[0.7777777777777778,\"#fb9f3a\"],[0.8888888888888888,\"#fdca26\"],[1.0,\"#f0f921\"]]}],\"surface\":[{\"type\":\"surface\",\"colorbar\":{\"outlinewidth\":0,\"ticks\":\"\"},\"colorscale\":[[0.0,\"#0d0887\"],[0.1111111111111111,\"#46039f\"],[0.2222222222222222,\"#7201a8\"],[0.3333333333333333,\"#9c179e\"],[0.4444444444444444,\"#bd3786\"],[0.5555555555555556,\"#d8576b\"],[0.6666666666666666,\"#ed7953\"],[0.7777777777777778,\"#fb9f3a\"],[0.8888888888888888,\"#fdca26\"],[1.0,\"#f0f921\"]]}],\"mesh3d\":[{\"type\":\"mesh3d\",\"colorbar\":{\"outlinewidth\":0,\"ticks\":\"\"}}],\"scatter\":[{\"fillpattern\":{\"fillmode\":\"overlay\",\"size\":10,\"solidity\":0.2},\"type\":\"scatter\"}],\"parcoords\":[{\"type\":\"parcoords\",\"line\":{\"colorbar\":{\"outlinewidth\":0,\"ticks\":\"\"}}}],\"scatterpolargl\":[{\"type\":\"scatterpolargl\",\"marker\":{\"colorbar\":{\"outlinewidth\":0,\"ticks\":\"\"}}}],\"bar\":[{\"error_x\":{\"color\":\"#2a3f5f\"},\"error_y\":{\"color\":\"#2a3f5f\"},\"marker\":{\"line\":{\"color\":\"#E5ECF6\",\"width\":0.5},\"pattern\":{\"fillmode\":\"overlay\",\"size\":10,\"solidity\":0.2}},\"type\":\"bar\"}],\"scattergeo\":[{\"type\":\"scattergeo\",\"marker\":{\"colorbar\":{\"outlinewidth\":0,\"ticks\":\"\"}}}],\"scatterpolar\":[{\"type\":\"scatterpolar\",\"marker\":{\"colorbar\":{\"outlinewidth\":0,\"ticks\":\"\"}}}],\"histogram\":[{\"marker\":{\"pattern\":{\"fillmode\":\"overlay\",\"size\":10,\"solidity\":0.2}},\"type\":\"histogram\"}],\"scattergl\":[{\"type\":\"scattergl\",\"marker\":{\"colorbar\":{\"outlinewidth\":0,\"ticks\":\"\"}}}],\"scatter3d\":[{\"type\":\"scatter3d\",\"line\":{\"colorbar\":{\"outlinewidth\":0,\"ticks\":\"\"}},\"marker\":{\"colorbar\":{\"outlinewidth\":0,\"ticks\":\"\"}}}],\"scattermapbox\":[{\"type\":\"scattermapbox\",\"marker\":{\"colorbar\":{\"outlinewidth\":0,\"ticks\":\"\"}}}],\"scatterternary\":[{\"type\":\"scatterternary\",\"marker\":{\"colorbar\":{\"outlinewidth\":0,\"ticks\":\"\"}}}],\"scattercarpet\":[{\"type\":\"scattercarpet\",\"marker\":{\"colorbar\":{\"outlinewidth\":0,\"ticks\":\"\"}}}],\"carpet\":[{\"aaxis\":{\"endlinecolor\":\"#2a3f5f\",\"gridcolor\":\"white\",\"linecolor\":\"white\",\"minorgridcolor\":\"white\",\"startlinecolor\":\"#2a3f5f\"},\"baxis\":{\"endlinecolor\":\"#2a3f5f\",\"gridcolor\":\"white\",\"linecolor\":\"white\",\"minorgridcolor\":\"white\",\"startlinecolor\":\"#2a3f5f\"},\"type\":\"carpet\"}],\"table\":[{\"cells\":{\"fill\":{\"color\":\"#EBF0F8\"},\"line\":{\"color\":\"white\"}},\"header\":{\"fill\":{\"color\":\"#C8D4E3\"},\"line\":{\"color\":\"white\"}},\"type\":\"table\"}],\"barpolar\":[{\"marker\":{\"line\":{\"color\":\"#E5ECF6\",\"width\":0.5},\"pattern\":{\"fillmode\":\"overlay\",\"size\":10,\"solidity\":0.2}},\"type\":\"barpolar\"}],\"pie\":[{\"automargin\":true,\"type\":\"pie\"}]},\"layout\":{\"autotypenumbers\":\"strict\",\"colorway\":[\"#636efa\",\"#EF553B\",\"#00cc96\",\"#ab63fa\",\"#FFA15A\",\"#19d3f3\",\"#FF6692\",\"#B6E880\",\"#FF97FF\",\"#FECB52\"],\"font\":{\"color\":\"#2a3f5f\"},\"hovermode\":\"closest\",\"hoverlabel\":{\"align\":\"left\"},\"paper_bgcolor\":\"white\",\"plot_bgcolor\":\"#E5ECF6\",\"polar\":{\"bgcolor\":\"#E5ECF6\",\"angularaxis\":{\"gridcolor\":\"white\",\"linecolor\":\"white\",\"ticks\":\"\"},\"radialaxis\":{\"gridcolor\":\"white\",\"linecolor\":\"white\",\"ticks\":\"\"}},\"ternary\":{\"bgcolor\":\"#E5ECF6\",\"aaxis\":{\"gridcolor\":\"white\",\"linecolor\":\"white\",\"ticks\":\"\"},\"baxis\":{\"gridcolor\":\"white\",\"linecolor\":\"white\",\"ticks\":\"\"},\"caxis\":{\"gridcolor\":\"white\",\"linecolor\":\"white\",\"ticks\":\"\"}},\"coloraxis\":{\"colorbar\":{\"outlinewidth\":0,\"ticks\":\"\"}},\"colorscale\":{\"sequential\":[[0.0,\"#0d0887\"],[0.1111111111111111,\"#46039f\"],[0.2222222222222222,\"#7201a8\"],[0.3333333333333333,\"#9c179e\"],[0.4444444444444444,\"#bd3786\"],[0.5555555555555556,\"#d8576b\"],[0.6666666666666666,\"#ed7953\"],[0.7777777777777778,\"#fb9f3a\"],[0.8888888888888888,\"#fdca26\"],[1.0,\"#f0f921\"]],\"sequentialminus\":[[0.0,\"#0d0887\"],[0.1111111111111111,\"#46039f\"],[0.2222222222222222,\"#7201a8\"],[0.3333333333333333,\"#9c179e\"],[0.4444444444444444,\"#bd3786\"],[0.5555555555555556,\"#d8576b\"],[0.6666666666666666,\"#ed7953\"],[0.7777777777777778,\"#fb9f3a\"],[0.8888888888888888,\"#fdca26\"],[1.0,\"#f0f921\"]],\"diverging\":[[0,\"#8e0152\"],[0.1,\"#c51b7d\"],[0.2,\"#de77ae\"],[0.3,\"#f1b6da\"],[0.4,\"#fde0ef\"],[0.5,\"#f7f7f7\"],[0.6,\"#e6f5d0\"],[0.7,\"#b8e186\"],[0.8,\"#7fbc41\"],[0.9,\"#4d9221\"],[1,\"#276419\"]]},\"xaxis\":{\"gridcolor\":\"white\",\"linecolor\":\"white\",\"ticks\":\"\",\"title\":{\"standoff\":15},\"zerolinecolor\":\"white\",\"automargin\":true,\"zerolinewidth\":2},\"yaxis\":{\"gridcolor\":\"white\",\"linecolor\":\"white\",\"ticks\":\"\",\"title\":{\"standoff\":15},\"zerolinecolor\":\"white\",\"automargin\":true,\"zerolinewidth\":2},\"scene\":{\"xaxis\":{\"backgroundcolor\":\"#E5ECF6\",\"gridcolor\":\"white\",\"linecolor\":\"white\",\"showbackground\":true,\"ticks\":\"\",\"zerolinecolor\":\"white\",\"gridwidth\":2},\"yaxis\":{\"backgroundcolor\":\"#E5ECF6\",\"gridcolor\":\"white\",\"linecolor\":\"white\",\"showbackground\":true,\"ticks\":\"\",\"zerolinecolor\":\"white\",\"gridwidth\":2},\"zaxis\":{\"backgroundcolor\":\"#E5ECF6\",\"gridcolor\":\"white\",\"linecolor\":\"white\",\"showbackground\":true,\"ticks\":\"\",\"zerolinecolor\":\"white\",\"gridwidth\":2}},\"shapedefaults\":{\"line\":{\"color\":\"#2a3f5f\"}},\"annotationdefaults\":{\"arrowcolor\":\"#2a3f5f\",\"arrowhead\":0,\"arrowwidth\":1},\"geo\":{\"bgcolor\":\"white\",\"landcolor\":\"#E5ECF6\",\"subunitcolor\":\"white\",\"showland\":true,\"showlakes\":true,\"lakecolor\":\"white\"},\"title\":{\"x\":0.05},\"mapbox\":{\"style\":\"light\"}}},\"xaxis\":{\"anchor\":\"y\",\"domain\":[0.0,1.0],\"title\":{\"text\":\"Date\"},\"showgrid\":false},\"yaxis\":{\"anchor\":\"x\",\"domain\":[0.0,1.0],\"title\":{\"text\":\"Matic value\"},\"showgrid\":false},\"legend\":{\"title\":{\"text\":\"Matic Stock Parameters\"},\"tracegroupgap\":0},\"margin\":{\"t\":60},\"title\":{\"text\":\"Matic Price analysis chart for 2020\"},\"font\":{\"size\":15,\"color\":\"black\"}},                        {\"responsive\": true}                    ).then(function(){\n",
       "                            \n",
       "var gd = document.getElementById('316d7968-96b8-47c6-a492-b35458f6cc55');\n",
       "var x = new MutationObserver(function (mutations, observer) {{\n",
       "        var display = window.getComputedStyle(gd).display;\n",
       "        if (!display || display === 'none') {{\n",
       "            console.log([gd, 'removed!']);\n",
       "            Plotly.purge(gd);\n",
       "            observer.disconnect();\n",
       "        }}\n",
       "}});\n",
       "\n",
       "// Listen for the removal of the full notebook cells\n",
       "var notebookContainer = gd.closest('#notebook-container');\n",
       "if (notebookContainer) {{\n",
       "    x.observe(notebookContainer, {childList: true});\n",
       "}}\n",
       "\n",
       "// Listen for the clearing of the current output cell\n",
       "var outputEl = gd.closest('.output');\n",
       "if (outputEl) {{\n",
       "    x.observe(outputEl, {childList: true});\n",
       "}}\n",
       "\n",
       "                        })                };                });            </script>        </div>"
      ]
     },
     "metadata": {},
     "output_type": "display_data"
    }
   ],
   "source": [
    "names = cycle(['Matic Open Price','Matic High Price','Matic Low Price'])\n",
    "\n",
    "fig = px.line(monthwise, x = monthwise.Date, y = [monthwise['Open'], monthwise['High'], monthwise['Low']],\n",
    "             labels = {'date': 'Date','value':'Matic value'})\n",
    "fig.update_layout(title_text = 'Matic Price analysis chart for 2020', font_size = 15, font_color = 'black',legend_title_text='Matic Stock Parameters')\n",
    "fig.for_each_trace(lambda t:  t.update(name = next(names)))\n",
    "fig.update_xaxes(showgrid = False)\n",
    "fig.update_yaxes(showgrid = False)\n",
    "\n",
    "fig.show()"
   ]
  },
  {
   "cell_type": "markdown",
   "id": "0cfafc23",
   "metadata": {
    "id": "zcYu4cYjDzzo",
    "papermill": {
     "duration": 0.022874,
     "end_time": "2023-03-13T11:31:12.659935",
     "exception": false,
     "start_time": "2023-03-13T11:31:12.637061",
     "status": "completed"
    },
    "tags": []
   },
   "source": [
    "# **Monthwise Analysis for the year 2019**"
   ]
  },
  {
   "cell_type": "code",
   "execution_count": 23,
   "id": "32177028",
   "metadata": {
    "execution": {
     "iopub.execute_input": "2023-03-13T11:31:12.708872Z",
     "iopub.status.busy": "2023-03-13T11:31:12.707889Z",
     "iopub.status.idle": "2023-03-13T11:31:12.726613Z",
     "shell.execute_reply": "2023-03-13T11:31:12.725383Z"
    },
    "id": "i3caArIbD2Nt",
    "outputId": "8d0d53e0-4130-471d-a8ca-98a639a1615c",
    "papermill": {
     "duration": 0.04634,
     "end_time": "2023-03-13T11:31:12.729461",
     "exception": false,
     "start_time": "2023-03-13T11:31:12.683121",
     "status": "completed"
    },
    "tags": []
   },
   "outputs": [
    {
     "data": {
      "text/html": [
       "<div>\n",
       "<style scoped>\n",
       "    .dataframe tbody tr th:only-of-type {\n",
       "        vertical-align: middle;\n",
       "    }\n",
       "\n",
       "    .dataframe tbody tr th {\n",
       "        vertical-align: top;\n",
       "    }\n",
       "\n",
       "    .dataframe thead th {\n",
       "        text-align: right;\n",
       "    }\n",
       "</style>\n",
       "<table border=\"1\" class=\"dataframe\">\n",
       "  <thead>\n",
       "    <tr style=\"text-align: right;\">\n",
       "      <th></th>\n",
       "      <th>Date</th>\n",
       "      <th>Open</th>\n",
       "      <th>High</th>\n",
       "      <th>Low</th>\n",
       "      <th>Close</th>\n",
       "    </tr>\n",
       "  </thead>\n",
       "  <tbody>\n",
       "    <tr>\n",
       "      <th>0</th>\n",
       "      <td>2019-04-28</td>\n",
       "      <td>0.004521</td>\n",
       "      <td>0.004545</td>\n",
       "      <td>0.004317</td>\n",
       "      <td>0.004421</td>\n",
       "    </tr>\n",
       "    <tr>\n",
       "      <th>1</th>\n",
       "      <td>2019-04-29</td>\n",
       "      <td>0.004418</td>\n",
       "      <td>0.004492</td>\n",
       "      <td>0.003471</td>\n",
       "      <td>0.003471</td>\n",
       "    </tr>\n",
       "    <tr>\n",
       "      <th>2</th>\n",
       "      <td>2019-04-30</td>\n",
       "      <td>0.003462</td>\n",
       "      <td>0.005078</td>\n",
       "      <td>0.003458</td>\n",
       "      <td>0.004478</td>\n",
       "    </tr>\n",
       "    <tr>\n",
       "      <th>3</th>\n",
       "      <td>2019-05-01</td>\n",
       "      <td>0.004440</td>\n",
       "      <td>0.004673</td>\n",
       "      <td>0.004071</td>\n",
       "      <td>0.004374</td>\n",
       "    </tr>\n",
       "    <tr>\n",
       "      <th>4</th>\n",
       "      <td>2019-05-02</td>\n",
       "      <td>0.004366</td>\n",
       "      <td>0.004700</td>\n",
       "      <td>0.004096</td>\n",
       "      <td>0.004198</td>\n",
       "    </tr>\n",
       "  </tbody>\n",
       "</table>\n",
       "</div>"
      ],
      "text/plain": [
       "        Date      Open      High       Low     Close\n",
       "0 2019-04-28  0.004521  0.004545  0.004317  0.004421\n",
       "1 2019-04-29  0.004418  0.004492  0.003471  0.003471\n",
       "2 2019-04-30  0.003462  0.005078  0.003458  0.004478\n",
       "3 2019-05-01  0.004440  0.004673  0.004071  0.004374\n",
       "4 2019-05-02  0.004366  0.004700  0.004096  0.004198"
      ]
     },
     "execution_count": 23,
     "metadata": {},
     "output_type": "execute_result"
    }
   ],
   "source": [
    "y_2019 = matic[matic['Date'] < '2020-01-01']\n",
    "y_2019 = y_2019.drop(['Volume'], axis = 1)\n",
    "y_2019.reset_index(drop = True, inplace = True)\n",
    "y_2019.head()"
   ]
  },
  {
   "cell_type": "code",
   "execution_count": 24,
   "id": "560189f8",
   "metadata": {
    "execution": {
     "iopub.execute_input": "2023-03-13T11:31:12.778523Z",
     "iopub.status.busy": "2023-03-13T11:31:12.778074Z",
     "iopub.status.idle": "2023-03-13T11:31:12.799738Z",
     "shell.execute_reply": "2023-03-13T11:31:12.798276Z"
    },
    "id": "MGqtWtovEM9B",
    "outputId": "5d07bce8-6fb8-4142-e47b-3d4c02266c0a",
    "papermill": {
     "duration": 0.050005,
     "end_time": "2023-03-13T11:31:12.802811",
     "exception": false,
     "start_time": "2023-03-13T11:31:12.752806",
     "status": "completed"
    },
    "tags": []
   },
   "outputs": [
    {
     "data": {
      "text/html": [
       "<div>\n",
       "<style scoped>\n",
       "    .dataframe tbody tr th:only-of-type {\n",
       "        vertical-align: middle;\n",
       "    }\n",
       "\n",
       "    .dataframe tbody tr th {\n",
       "        vertical-align: top;\n",
       "    }\n",
       "\n",
       "    .dataframe thead th {\n",
       "        text-align: right;\n",
       "    }\n",
       "</style>\n",
       "<table border=\"1\" class=\"dataframe\">\n",
       "  <thead>\n",
       "    <tr style=\"text-align: right;\">\n",
       "      <th></th>\n",
       "      <th>Date</th>\n",
       "      <th>Open</th>\n",
       "      <th>Close</th>\n",
       "      <th>High</th>\n",
       "      <th>Low</th>\n",
       "    </tr>\n",
       "  </thead>\n",
       "  <tbody>\n",
       "    <tr>\n",
       "      <th>0</th>\n",
       "      <td>April</td>\n",
       "      <td>0.004134</td>\n",
       "      <td>0.004123</td>\n",
       "      <td>0.004705</td>\n",
       "      <td>0.003749</td>\n",
       "    </tr>\n",
       "    <tr>\n",
       "      <th>1</th>\n",
       "      <td>May</td>\n",
       "      <td>0.013119</td>\n",
       "      <td>0.013696</td>\n",
       "      <td>0.015899</td>\n",
       "      <td>0.011728</td>\n",
       "    </tr>\n",
       "    <tr>\n",
       "      <th>2</th>\n",
       "      <td>June</td>\n",
       "      <td>0.022061</td>\n",
       "      <td>0.022059</td>\n",
       "      <td>0.023646</td>\n",
       "      <td>0.020805</td>\n",
       "    </tr>\n",
       "    <tr>\n",
       "      <th>3</th>\n",
       "      <td>July</td>\n",
       "      <td>0.015062</td>\n",
       "      <td>0.014715</td>\n",
       "      <td>0.015714</td>\n",
       "      <td>0.014106</td>\n",
       "    </tr>\n",
       "    <tr>\n",
       "      <th>4</th>\n",
       "      <td>August</td>\n",
       "      <td>0.013944</td>\n",
       "      <td>0.013968</td>\n",
       "      <td>0.015131</td>\n",
       "      <td>0.013138</td>\n",
       "    </tr>\n",
       "  </tbody>\n",
       "</table>\n",
       "</div>"
      ],
      "text/plain": [
       "     Date      Open     Close      High       Low\n",
       "0   April  0.004134  0.004123  0.004705  0.003749\n",
       "1     May  0.013119  0.013696  0.015899  0.011728\n",
       "2    June  0.022061  0.022059  0.023646  0.020805\n",
       "3    July  0.015062  0.014715  0.015714  0.014106\n",
       "4  August  0.013944  0.013968  0.015131  0.013138"
      ]
     },
     "execution_count": 24,
     "metadata": {},
     "output_type": "execute_result"
    }
   ],
   "source": [
    "monthwise = y_2019.groupby(pd.DatetimeIndex(y_2019.Date).month)[['Open', 'Close', 'High', 'Low']].mean()\n",
    "new_order = ['April', 'May', 'June', 'July', 'August', \n",
    "             'September', 'October', 'November','December']\n",
    "monthwise = monthwise.reset_index()\n",
    "monthwise['Date'] = new_order\n",
    "#monthwise.index = new_order\n",
    "monthwise.head()"
   ]
  },
  {
   "cell_type": "code",
   "execution_count": 25,
   "id": "39982da9",
   "metadata": {
    "execution": {
     "iopub.execute_input": "2023-03-13T11:31:12.852503Z",
     "iopub.status.busy": "2023-03-13T11:31:12.852043Z",
     "iopub.status.idle": "2023-03-13T11:31:12.873444Z",
     "shell.execute_reply": "2023-03-13T11:31:12.871893Z"
    },
    "id": "MLJ5qTteEYip",
    "outputId": "707dd739-0686-42bd-be89-0ad9de814199",
    "papermill": {
     "duration": 0.048999,
     "end_time": "2023-03-13T11:31:12.876534",
     "exception": false,
     "start_time": "2023-03-13T11:31:12.827535",
     "status": "completed"
    },
    "tags": []
   },
   "outputs": [
    {
     "data": {
      "text/html": [
       "<div>                            <div id=\"6f6b4249-e932-4cec-8e43-a62b53bc045a\" class=\"plotly-graph-div\" style=\"height:525px; width:100%;\"></div>            <script type=\"text/javascript\">                require([\"plotly\"], function(Plotly) {                    window.PLOTLYENV=window.PLOTLYENV || {};                                    if (document.getElementById(\"6f6b4249-e932-4cec-8e43-a62b53bc045a\")) {                    Plotly.newPlot(                        \"6f6b4249-e932-4cec-8e43-a62b53bc045a\",                        [{\"marker\":{\"color\":\"purple\"},\"name\":\"Matic Close Price\",\"x\":[\"April\",\"May\",\"June\",\"July\",\"August\",\"September\",\"October\",\"November\",\"December\"],\"y\":[0.004123333298290733,0.013695548311056105,0.02205910012125963,0.014714645101658713,0.01396761290849213,0.012888566683977793,0.013461709623375204,0.016484166743854632,0.02058529027647545],\"type\":\"bar\"},{\"marker\":{\"color\":\"pink\"},\"name\":\"Matic Open Price\",\"x\":[\"April\",\"May\",\"June\",\"July\",\"August\",\"September\",\"October\",\"November\",\"December\"],\"y\":[0.0041336667879174,0.013118903130112578,0.02206113350888088,0.015062419487343633,0.013944387105443738,0.012924233327309237,0.013369032271927359,0.015967399999499268,0.021082967790144062],\"type\":\"bar\"}],                        {\"template\":{\"data\":{\"histogram2dcontour\":[{\"type\":\"histogram2dcontour\",\"colorbar\":{\"outlinewidth\":0,\"ticks\":\"\"},\"colorscale\":[[0.0,\"#0d0887\"],[0.1111111111111111,\"#46039f\"],[0.2222222222222222,\"#7201a8\"],[0.3333333333333333,\"#9c179e\"],[0.4444444444444444,\"#bd3786\"],[0.5555555555555556,\"#d8576b\"],[0.6666666666666666,\"#ed7953\"],[0.7777777777777778,\"#fb9f3a\"],[0.8888888888888888,\"#fdca26\"],[1.0,\"#f0f921\"]]}],\"choropleth\":[{\"type\":\"choropleth\",\"colorbar\":{\"outlinewidth\":0,\"ticks\":\"\"}}],\"histogram2d\":[{\"type\":\"histogram2d\",\"colorbar\":{\"outlinewidth\":0,\"ticks\":\"\"},\"colorscale\":[[0.0,\"#0d0887\"],[0.1111111111111111,\"#46039f\"],[0.2222222222222222,\"#7201a8\"],[0.3333333333333333,\"#9c179e\"],[0.4444444444444444,\"#bd3786\"],[0.5555555555555556,\"#d8576b\"],[0.6666666666666666,\"#ed7953\"],[0.7777777777777778,\"#fb9f3a\"],[0.8888888888888888,\"#fdca26\"],[1.0,\"#f0f921\"]]}],\"heatmap\":[{\"type\":\"heatmap\",\"colorbar\":{\"outlinewidth\":0,\"ticks\":\"\"},\"colorscale\":[[0.0,\"#0d0887\"],[0.1111111111111111,\"#46039f\"],[0.2222222222222222,\"#7201a8\"],[0.3333333333333333,\"#9c179e\"],[0.4444444444444444,\"#bd3786\"],[0.5555555555555556,\"#d8576b\"],[0.6666666666666666,\"#ed7953\"],[0.7777777777777778,\"#fb9f3a\"],[0.8888888888888888,\"#fdca26\"],[1.0,\"#f0f921\"]]}],\"heatmapgl\":[{\"type\":\"heatmapgl\",\"colorbar\":{\"outlinewidth\":0,\"ticks\":\"\"},\"colorscale\":[[0.0,\"#0d0887\"],[0.1111111111111111,\"#46039f\"],[0.2222222222222222,\"#7201a8\"],[0.3333333333333333,\"#9c179e\"],[0.4444444444444444,\"#bd3786\"],[0.5555555555555556,\"#d8576b\"],[0.6666666666666666,\"#ed7953\"],[0.7777777777777778,\"#fb9f3a\"],[0.8888888888888888,\"#fdca26\"],[1.0,\"#f0f921\"]]}],\"contourcarpet\":[{\"type\":\"contourcarpet\",\"colorbar\":{\"outlinewidth\":0,\"ticks\":\"\"}}],\"contour\":[{\"type\":\"contour\",\"colorbar\":{\"outlinewidth\":0,\"ticks\":\"\"},\"colorscale\":[[0.0,\"#0d0887\"],[0.1111111111111111,\"#46039f\"],[0.2222222222222222,\"#7201a8\"],[0.3333333333333333,\"#9c179e\"],[0.4444444444444444,\"#bd3786\"],[0.5555555555555556,\"#d8576b\"],[0.6666666666666666,\"#ed7953\"],[0.7777777777777778,\"#fb9f3a\"],[0.8888888888888888,\"#fdca26\"],[1.0,\"#f0f921\"]]}],\"surface\":[{\"type\":\"surface\",\"colorbar\":{\"outlinewidth\":0,\"ticks\":\"\"},\"colorscale\":[[0.0,\"#0d0887\"],[0.1111111111111111,\"#46039f\"],[0.2222222222222222,\"#7201a8\"],[0.3333333333333333,\"#9c179e\"],[0.4444444444444444,\"#bd3786\"],[0.5555555555555556,\"#d8576b\"],[0.6666666666666666,\"#ed7953\"],[0.7777777777777778,\"#fb9f3a\"],[0.8888888888888888,\"#fdca26\"],[1.0,\"#f0f921\"]]}],\"mesh3d\":[{\"type\":\"mesh3d\",\"colorbar\":{\"outlinewidth\":0,\"ticks\":\"\"}}],\"scatter\":[{\"fillpattern\":{\"fillmode\":\"overlay\",\"size\":10,\"solidity\":0.2},\"type\":\"scatter\"}],\"parcoords\":[{\"type\":\"parcoords\",\"line\":{\"colorbar\":{\"outlinewidth\":0,\"ticks\":\"\"}}}],\"scatterpolargl\":[{\"type\":\"scatterpolargl\",\"marker\":{\"colorbar\":{\"outlinewidth\":0,\"ticks\":\"\"}}}],\"bar\":[{\"error_x\":{\"color\":\"#2a3f5f\"},\"error_y\":{\"color\":\"#2a3f5f\"},\"marker\":{\"line\":{\"color\":\"#E5ECF6\",\"width\":0.5},\"pattern\":{\"fillmode\":\"overlay\",\"size\":10,\"solidity\":0.2}},\"type\":\"bar\"}],\"scattergeo\":[{\"type\":\"scattergeo\",\"marker\":{\"colorbar\":{\"outlinewidth\":0,\"ticks\":\"\"}}}],\"scatterpolar\":[{\"type\":\"scatterpolar\",\"marker\":{\"colorbar\":{\"outlinewidth\":0,\"ticks\":\"\"}}}],\"histogram\":[{\"marker\":{\"pattern\":{\"fillmode\":\"overlay\",\"size\":10,\"solidity\":0.2}},\"type\":\"histogram\"}],\"scattergl\":[{\"type\":\"scattergl\",\"marker\":{\"colorbar\":{\"outlinewidth\":0,\"ticks\":\"\"}}}],\"scatter3d\":[{\"type\":\"scatter3d\",\"line\":{\"colorbar\":{\"outlinewidth\":0,\"ticks\":\"\"}},\"marker\":{\"colorbar\":{\"outlinewidth\":0,\"ticks\":\"\"}}}],\"scattermapbox\":[{\"type\":\"scattermapbox\",\"marker\":{\"colorbar\":{\"outlinewidth\":0,\"ticks\":\"\"}}}],\"scatterternary\":[{\"type\":\"scatterternary\",\"marker\":{\"colorbar\":{\"outlinewidth\":0,\"ticks\":\"\"}}}],\"scattercarpet\":[{\"type\":\"scattercarpet\",\"marker\":{\"colorbar\":{\"outlinewidth\":0,\"ticks\":\"\"}}}],\"carpet\":[{\"aaxis\":{\"endlinecolor\":\"#2a3f5f\",\"gridcolor\":\"white\",\"linecolor\":\"white\",\"minorgridcolor\":\"white\",\"startlinecolor\":\"#2a3f5f\"},\"baxis\":{\"endlinecolor\":\"#2a3f5f\",\"gridcolor\":\"white\",\"linecolor\":\"white\",\"minorgridcolor\":\"white\",\"startlinecolor\":\"#2a3f5f\"},\"type\":\"carpet\"}],\"table\":[{\"cells\":{\"fill\":{\"color\":\"#EBF0F8\"},\"line\":{\"color\":\"white\"}},\"header\":{\"fill\":{\"color\":\"#C8D4E3\"},\"line\":{\"color\":\"white\"}},\"type\":\"table\"}],\"barpolar\":[{\"marker\":{\"line\":{\"color\":\"#E5ECF6\",\"width\":0.5},\"pattern\":{\"fillmode\":\"overlay\",\"size\":10,\"solidity\":0.2}},\"type\":\"barpolar\"}],\"pie\":[{\"automargin\":true,\"type\":\"pie\"}]},\"layout\":{\"autotypenumbers\":\"strict\",\"colorway\":[\"#636efa\",\"#EF553B\",\"#00cc96\",\"#ab63fa\",\"#FFA15A\",\"#19d3f3\",\"#FF6692\",\"#B6E880\",\"#FF97FF\",\"#FECB52\"],\"font\":{\"color\":\"#2a3f5f\"},\"hovermode\":\"closest\",\"hoverlabel\":{\"align\":\"left\"},\"paper_bgcolor\":\"white\",\"plot_bgcolor\":\"#E5ECF6\",\"polar\":{\"bgcolor\":\"#E5ECF6\",\"angularaxis\":{\"gridcolor\":\"white\",\"linecolor\":\"white\",\"ticks\":\"\"},\"radialaxis\":{\"gridcolor\":\"white\",\"linecolor\":\"white\",\"ticks\":\"\"}},\"ternary\":{\"bgcolor\":\"#E5ECF6\",\"aaxis\":{\"gridcolor\":\"white\",\"linecolor\":\"white\",\"ticks\":\"\"},\"baxis\":{\"gridcolor\":\"white\",\"linecolor\":\"white\",\"ticks\":\"\"},\"caxis\":{\"gridcolor\":\"white\",\"linecolor\":\"white\",\"ticks\":\"\"}},\"coloraxis\":{\"colorbar\":{\"outlinewidth\":0,\"ticks\":\"\"}},\"colorscale\":{\"sequential\":[[0.0,\"#0d0887\"],[0.1111111111111111,\"#46039f\"],[0.2222222222222222,\"#7201a8\"],[0.3333333333333333,\"#9c179e\"],[0.4444444444444444,\"#bd3786\"],[0.5555555555555556,\"#d8576b\"],[0.6666666666666666,\"#ed7953\"],[0.7777777777777778,\"#fb9f3a\"],[0.8888888888888888,\"#fdca26\"],[1.0,\"#f0f921\"]],\"sequentialminus\":[[0.0,\"#0d0887\"],[0.1111111111111111,\"#46039f\"],[0.2222222222222222,\"#7201a8\"],[0.3333333333333333,\"#9c179e\"],[0.4444444444444444,\"#bd3786\"],[0.5555555555555556,\"#d8576b\"],[0.6666666666666666,\"#ed7953\"],[0.7777777777777778,\"#fb9f3a\"],[0.8888888888888888,\"#fdca26\"],[1.0,\"#f0f921\"]],\"diverging\":[[0,\"#8e0152\"],[0.1,\"#c51b7d\"],[0.2,\"#de77ae\"],[0.3,\"#f1b6da\"],[0.4,\"#fde0ef\"],[0.5,\"#f7f7f7\"],[0.6,\"#e6f5d0\"],[0.7,\"#b8e186\"],[0.8,\"#7fbc41\"],[0.9,\"#4d9221\"],[1,\"#276419\"]]},\"xaxis\":{\"gridcolor\":\"white\",\"linecolor\":\"white\",\"ticks\":\"\",\"title\":{\"standoff\":15},\"zerolinecolor\":\"white\",\"automargin\":true,\"zerolinewidth\":2},\"yaxis\":{\"gridcolor\":\"white\",\"linecolor\":\"white\",\"ticks\":\"\",\"title\":{\"standoff\":15},\"zerolinecolor\":\"white\",\"automargin\":true,\"zerolinewidth\":2},\"scene\":{\"xaxis\":{\"backgroundcolor\":\"#E5ECF6\",\"gridcolor\":\"white\",\"linecolor\":\"white\",\"showbackground\":true,\"ticks\":\"\",\"zerolinecolor\":\"white\",\"gridwidth\":2},\"yaxis\":{\"backgroundcolor\":\"#E5ECF6\",\"gridcolor\":\"white\",\"linecolor\":\"white\",\"showbackground\":true,\"ticks\":\"\",\"zerolinecolor\":\"white\",\"gridwidth\":2},\"zaxis\":{\"backgroundcolor\":\"#E5ECF6\",\"gridcolor\":\"white\",\"linecolor\":\"white\",\"showbackground\":true,\"ticks\":\"\",\"zerolinecolor\":\"white\",\"gridwidth\":2}},\"shapedefaults\":{\"line\":{\"color\":\"#2a3f5f\"}},\"annotationdefaults\":{\"arrowcolor\":\"#2a3f5f\",\"arrowhead\":0,\"arrowwidth\":1},\"geo\":{\"bgcolor\":\"white\",\"landcolor\":\"#E5ECF6\",\"subunitcolor\":\"white\",\"showland\":true,\"showlakes\":true,\"lakecolor\":\"white\"},\"title\":{\"x\":0.05},\"mapbox\":{\"style\":\"light\"}}},\"xaxis\":{\"tickangle\":-45},\"barmode\":\"group\",\"title\":{\"text\":\"Monthwise comparision for Open and Close Prices for the year 2019\"}},                        {\"responsive\": true}                    ).then(function(){\n",
       "                            \n",
       "var gd = document.getElementById('6f6b4249-e932-4cec-8e43-a62b53bc045a');\n",
       "var x = new MutationObserver(function (mutations, observer) {{\n",
       "        var display = window.getComputedStyle(gd).display;\n",
       "        if (!display || display === 'none') {{\n",
       "            console.log([gd, 'removed!']);\n",
       "            Plotly.purge(gd);\n",
       "            observer.disconnect();\n",
       "        }}\n",
       "}});\n",
       "\n",
       "// Listen for the removal of the full notebook cells\n",
       "var notebookContainer = gd.closest('#notebook-container');\n",
       "if (notebookContainer) {{\n",
       "    x.observe(notebookContainer, {childList: true});\n",
       "}}\n",
       "\n",
       "// Listen for the clearing of the current output cell\n",
       "var outputEl = gd.closest('.output');\n",
       "if (outputEl) {{\n",
       "    x.observe(outputEl, {childList: true});\n",
       "}}\n",
       "\n",
       "                        })                };                });            </script>        </div>"
      ]
     },
     "metadata": {},
     "output_type": "display_data"
    }
   ],
   "source": [
    "fig = go.Figure()\n",
    "\n",
    "fig.add_trace(go.Bar(\n",
    "    x = monthwise.Date,\n",
    "    y = monthwise['Close'],\n",
    "    name = 'Matic Close Price',\n",
    "    marker_color = 'purple'\n",
    "))\n",
    "\n",
    "fig.add_trace(go.Bar(\n",
    "    x = monthwise.Date,\n",
    "    y = monthwise['Open'],\n",
    "    name = 'Matic Open Price',\n",
    "    marker_color = 'pink'\n",
    "))\n",
    "fig.update_layout(barmode = 'group', xaxis_tickangle = -45, \n",
    "                  title = 'Monthwise comparision for Open and Close Prices for the year 2019')\n",
    "fig.show()"
   ]
  },
  {
   "cell_type": "code",
   "execution_count": 26,
   "id": "2185372b",
   "metadata": {
    "execution": {
     "iopub.execute_input": "2023-03-13T11:31:12.927933Z",
     "iopub.status.busy": "2023-03-13T11:31:12.927493Z",
     "iopub.status.idle": "2023-03-13T11:31:13.017978Z",
     "shell.execute_reply": "2023-03-13T11:31:13.016377Z"
    },
    "id": "rJOjPemWEeZg",
    "outputId": "9e9f9aa4-56ab-46ca-b4ea-b1e2f7b062a9",
    "papermill": {
     "duration": 0.119388,
     "end_time": "2023-03-13T11:31:13.020825",
     "exception": false,
     "start_time": "2023-03-13T11:31:12.901437",
     "status": "completed"
    },
    "tags": []
   },
   "outputs": [
    {
     "data": {
      "text/html": [
       "<div>                            <div id=\"848db814-215c-4ad3-b197-49eb78d5be04\" class=\"plotly-graph-div\" style=\"height:525px; width:100%;\"></div>            <script type=\"text/javascript\">                require([\"plotly\"], function(Plotly) {                    window.PLOTLYENV=window.PLOTLYENV || {};                                    if (document.getElementById(\"848db814-215c-4ad3-b197-49eb78d5be04\")) {                    Plotly.newPlot(                        \"848db814-215c-4ad3-b197-49eb78d5be04\",                        [{\"hovertemplate\":\"variable=Open<br>Date=%{x}<br>Matic value=%{y}<extra></extra>\",\"legendgroup\":\"Open\",\"line\":{\"color\":\"#636efa\",\"dash\":\"solid\"},\"marker\":{\"symbol\":\"circle\"},\"mode\":\"lines\",\"name\":\"Matic Open Price\",\"orientation\":\"v\",\"showlegend\":true,\"x\":[\"April\",\"May\",\"June\",\"July\",\"August\",\"September\",\"October\",\"November\",\"December\"],\"xaxis\":\"x\",\"y\":[0.0041336667879174,0.013118903130112578,0.02206113350888088,0.015062419487343633,0.013944387105443738,0.012924233327309237,0.013369032271927359,0.015967399999499268,0.021082967790144062],\"yaxis\":\"y\",\"type\":\"scatter\"},{\"hovertemplate\":\"variable=High<br>Date=%{x}<br>Matic value=%{y}<extra></extra>\",\"legendgroup\":\"High\",\"line\":{\"color\":\"#EF553B\",\"dash\":\"solid\"},\"marker\":{\"symbol\":\"circle\"},\"mode\":\"lines\",\"name\":\"Matic High Price\",\"orientation\":\"v\",\"showlegend\":true,\"x\":[\"April\",\"May\",\"June\",\"July\",\"August\",\"September\",\"October\",\"November\",\"December\"],\"xaxis\":\"x\",\"y\":[0.0047050000478823335,0.015899322604039465,0.023646099927524682,0.015714161218174,0.01513058070333729,0.013362466699133274,0.014010999922550445,0.017009333241730883,0.022492580686605698],\"yaxis\":\"y\",\"type\":\"scatter\"},{\"hovertemplate\":\"variable=Low<br>Date=%{x}<br>Matic value=%{y}<extra></extra>\",\"legendgroup\":\"Low\",\"line\":{\"color\":\"#00cc96\",\"dash\":\"solid\"},\"marker\":{\"symbol\":\"circle\"},\"mode\":\"lines\",\"name\":\"Matic Low Price\",\"orientation\":\"v\",\"showlegend\":true,\"x\":[\"April\",\"May\",\"June\",\"July\",\"August\",\"September\",\"October\",\"November\",\"December\"],\"xaxis\":\"x\",\"y\":[0.003748666650305167,0.011728387108192769,0.020805066575606615,0.014105838633352663,0.013137774211504713,0.01243119997282818,0.012860096780763467,0.01539073335006828,0.019168258013744464],\"yaxis\":\"y\",\"type\":\"scatter\"}],                        {\"template\":{\"data\":{\"histogram2dcontour\":[{\"type\":\"histogram2dcontour\",\"colorbar\":{\"outlinewidth\":0,\"ticks\":\"\"},\"colorscale\":[[0.0,\"#0d0887\"],[0.1111111111111111,\"#46039f\"],[0.2222222222222222,\"#7201a8\"],[0.3333333333333333,\"#9c179e\"],[0.4444444444444444,\"#bd3786\"],[0.5555555555555556,\"#d8576b\"],[0.6666666666666666,\"#ed7953\"],[0.7777777777777778,\"#fb9f3a\"],[0.8888888888888888,\"#fdca26\"],[1.0,\"#f0f921\"]]}],\"choropleth\":[{\"type\":\"choropleth\",\"colorbar\":{\"outlinewidth\":0,\"ticks\":\"\"}}],\"histogram2d\":[{\"type\":\"histogram2d\",\"colorbar\":{\"outlinewidth\":0,\"ticks\":\"\"},\"colorscale\":[[0.0,\"#0d0887\"],[0.1111111111111111,\"#46039f\"],[0.2222222222222222,\"#7201a8\"],[0.3333333333333333,\"#9c179e\"],[0.4444444444444444,\"#bd3786\"],[0.5555555555555556,\"#d8576b\"],[0.6666666666666666,\"#ed7953\"],[0.7777777777777778,\"#fb9f3a\"],[0.8888888888888888,\"#fdca26\"],[1.0,\"#f0f921\"]]}],\"heatmap\":[{\"type\":\"heatmap\",\"colorbar\":{\"outlinewidth\":0,\"ticks\":\"\"},\"colorscale\":[[0.0,\"#0d0887\"],[0.1111111111111111,\"#46039f\"],[0.2222222222222222,\"#7201a8\"],[0.3333333333333333,\"#9c179e\"],[0.4444444444444444,\"#bd3786\"],[0.5555555555555556,\"#d8576b\"],[0.6666666666666666,\"#ed7953\"],[0.7777777777777778,\"#fb9f3a\"],[0.8888888888888888,\"#fdca26\"],[1.0,\"#f0f921\"]]}],\"heatmapgl\":[{\"type\":\"heatmapgl\",\"colorbar\":{\"outlinewidth\":0,\"ticks\":\"\"},\"colorscale\":[[0.0,\"#0d0887\"],[0.1111111111111111,\"#46039f\"],[0.2222222222222222,\"#7201a8\"],[0.3333333333333333,\"#9c179e\"],[0.4444444444444444,\"#bd3786\"],[0.5555555555555556,\"#d8576b\"],[0.6666666666666666,\"#ed7953\"],[0.7777777777777778,\"#fb9f3a\"],[0.8888888888888888,\"#fdca26\"],[1.0,\"#f0f921\"]]}],\"contourcarpet\":[{\"type\":\"contourcarpet\",\"colorbar\":{\"outlinewidth\":0,\"ticks\":\"\"}}],\"contour\":[{\"type\":\"contour\",\"colorbar\":{\"outlinewidth\":0,\"ticks\":\"\"},\"colorscale\":[[0.0,\"#0d0887\"],[0.1111111111111111,\"#46039f\"],[0.2222222222222222,\"#7201a8\"],[0.3333333333333333,\"#9c179e\"],[0.4444444444444444,\"#bd3786\"],[0.5555555555555556,\"#d8576b\"],[0.6666666666666666,\"#ed7953\"],[0.7777777777777778,\"#fb9f3a\"],[0.8888888888888888,\"#fdca26\"],[1.0,\"#f0f921\"]]}],\"surface\":[{\"type\":\"surface\",\"colorbar\":{\"outlinewidth\":0,\"ticks\":\"\"},\"colorscale\":[[0.0,\"#0d0887\"],[0.1111111111111111,\"#46039f\"],[0.2222222222222222,\"#7201a8\"],[0.3333333333333333,\"#9c179e\"],[0.4444444444444444,\"#bd3786\"],[0.5555555555555556,\"#d8576b\"],[0.6666666666666666,\"#ed7953\"],[0.7777777777777778,\"#fb9f3a\"],[0.8888888888888888,\"#fdca26\"],[1.0,\"#f0f921\"]]}],\"mesh3d\":[{\"type\":\"mesh3d\",\"colorbar\":{\"outlinewidth\":0,\"ticks\":\"\"}}],\"scatter\":[{\"fillpattern\":{\"fillmode\":\"overlay\",\"size\":10,\"solidity\":0.2},\"type\":\"scatter\"}],\"parcoords\":[{\"type\":\"parcoords\",\"line\":{\"colorbar\":{\"outlinewidth\":0,\"ticks\":\"\"}}}],\"scatterpolargl\":[{\"type\":\"scatterpolargl\",\"marker\":{\"colorbar\":{\"outlinewidth\":0,\"ticks\":\"\"}}}],\"bar\":[{\"error_x\":{\"color\":\"#2a3f5f\"},\"error_y\":{\"color\":\"#2a3f5f\"},\"marker\":{\"line\":{\"color\":\"#E5ECF6\",\"width\":0.5},\"pattern\":{\"fillmode\":\"overlay\",\"size\":10,\"solidity\":0.2}},\"type\":\"bar\"}],\"scattergeo\":[{\"type\":\"scattergeo\",\"marker\":{\"colorbar\":{\"outlinewidth\":0,\"ticks\":\"\"}}}],\"scatterpolar\":[{\"type\":\"scatterpolar\",\"marker\":{\"colorbar\":{\"outlinewidth\":0,\"ticks\":\"\"}}}],\"histogram\":[{\"marker\":{\"pattern\":{\"fillmode\":\"overlay\",\"size\":10,\"solidity\":0.2}},\"type\":\"histogram\"}],\"scattergl\":[{\"type\":\"scattergl\",\"marker\":{\"colorbar\":{\"outlinewidth\":0,\"ticks\":\"\"}}}],\"scatter3d\":[{\"type\":\"scatter3d\",\"line\":{\"colorbar\":{\"outlinewidth\":0,\"ticks\":\"\"}},\"marker\":{\"colorbar\":{\"outlinewidth\":0,\"ticks\":\"\"}}}],\"scattermapbox\":[{\"type\":\"scattermapbox\",\"marker\":{\"colorbar\":{\"outlinewidth\":0,\"ticks\":\"\"}}}],\"scatterternary\":[{\"type\":\"scatterternary\",\"marker\":{\"colorbar\":{\"outlinewidth\":0,\"ticks\":\"\"}}}],\"scattercarpet\":[{\"type\":\"scattercarpet\",\"marker\":{\"colorbar\":{\"outlinewidth\":0,\"ticks\":\"\"}}}],\"carpet\":[{\"aaxis\":{\"endlinecolor\":\"#2a3f5f\",\"gridcolor\":\"white\",\"linecolor\":\"white\",\"minorgridcolor\":\"white\",\"startlinecolor\":\"#2a3f5f\"},\"baxis\":{\"endlinecolor\":\"#2a3f5f\",\"gridcolor\":\"white\",\"linecolor\":\"white\",\"minorgridcolor\":\"white\",\"startlinecolor\":\"#2a3f5f\"},\"type\":\"carpet\"}],\"table\":[{\"cells\":{\"fill\":{\"color\":\"#EBF0F8\"},\"line\":{\"color\":\"white\"}},\"header\":{\"fill\":{\"color\":\"#C8D4E3\"},\"line\":{\"color\":\"white\"}},\"type\":\"table\"}],\"barpolar\":[{\"marker\":{\"line\":{\"color\":\"#E5ECF6\",\"width\":0.5},\"pattern\":{\"fillmode\":\"overlay\",\"size\":10,\"solidity\":0.2}},\"type\":\"barpolar\"}],\"pie\":[{\"automargin\":true,\"type\":\"pie\"}]},\"layout\":{\"autotypenumbers\":\"strict\",\"colorway\":[\"#636efa\",\"#EF553B\",\"#00cc96\",\"#ab63fa\",\"#FFA15A\",\"#19d3f3\",\"#FF6692\",\"#B6E880\",\"#FF97FF\",\"#FECB52\"],\"font\":{\"color\":\"#2a3f5f\"},\"hovermode\":\"closest\",\"hoverlabel\":{\"align\":\"left\"},\"paper_bgcolor\":\"white\",\"plot_bgcolor\":\"#E5ECF6\",\"polar\":{\"bgcolor\":\"#E5ECF6\",\"angularaxis\":{\"gridcolor\":\"white\",\"linecolor\":\"white\",\"ticks\":\"\"},\"radialaxis\":{\"gridcolor\":\"white\",\"linecolor\":\"white\",\"ticks\":\"\"}},\"ternary\":{\"bgcolor\":\"#E5ECF6\",\"aaxis\":{\"gridcolor\":\"white\",\"linecolor\":\"white\",\"ticks\":\"\"},\"baxis\":{\"gridcolor\":\"white\",\"linecolor\":\"white\",\"ticks\":\"\"},\"caxis\":{\"gridcolor\":\"white\",\"linecolor\":\"white\",\"ticks\":\"\"}},\"coloraxis\":{\"colorbar\":{\"outlinewidth\":0,\"ticks\":\"\"}},\"colorscale\":{\"sequential\":[[0.0,\"#0d0887\"],[0.1111111111111111,\"#46039f\"],[0.2222222222222222,\"#7201a8\"],[0.3333333333333333,\"#9c179e\"],[0.4444444444444444,\"#bd3786\"],[0.5555555555555556,\"#d8576b\"],[0.6666666666666666,\"#ed7953\"],[0.7777777777777778,\"#fb9f3a\"],[0.8888888888888888,\"#fdca26\"],[1.0,\"#f0f921\"]],\"sequentialminus\":[[0.0,\"#0d0887\"],[0.1111111111111111,\"#46039f\"],[0.2222222222222222,\"#7201a8\"],[0.3333333333333333,\"#9c179e\"],[0.4444444444444444,\"#bd3786\"],[0.5555555555555556,\"#d8576b\"],[0.6666666666666666,\"#ed7953\"],[0.7777777777777778,\"#fb9f3a\"],[0.8888888888888888,\"#fdca26\"],[1.0,\"#f0f921\"]],\"diverging\":[[0,\"#8e0152\"],[0.1,\"#c51b7d\"],[0.2,\"#de77ae\"],[0.3,\"#f1b6da\"],[0.4,\"#fde0ef\"],[0.5,\"#f7f7f7\"],[0.6,\"#e6f5d0\"],[0.7,\"#b8e186\"],[0.8,\"#7fbc41\"],[0.9,\"#4d9221\"],[1,\"#276419\"]]},\"xaxis\":{\"gridcolor\":\"white\",\"linecolor\":\"white\",\"ticks\":\"\",\"title\":{\"standoff\":15},\"zerolinecolor\":\"white\",\"automargin\":true,\"zerolinewidth\":2},\"yaxis\":{\"gridcolor\":\"white\",\"linecolor\":\"white\",\"ticks\":\"\",\"title\":{\"standoff\":15},\"zerolinecolor\":\"white\",\"automargin\":true,\"zerolinewidth\":2},\"scene\":{\"xaxis\":{\"backgroundcolor\":\"#E5ECF6\",\"gridcolor\":\"white\",\"linecolor\":\"white\",\"showbackground\":true,\"ticks\":\"\",\"zerolinecolor\":\"white\",\"gridwidth\":2},\"yaxis\":{\"backgroundcolor\":\"#E5ECF6\",\"gridcolor\":\"white\",\"linecolor\":\"white\",\"showbackground\":true,\"ticks\":\"\",\"zerolinecolor\":\"white\",\"gridwidth\":2},\"zaxis\":{\"backgroundcolor\":\"#E5ECF6\",\"gridcolor\":\"white\",\"linecolor\":\"white\",\"showbackground\":true,\"ticks\":\"\",\"zerolinecolor\":\"white\",\"gridwidth\":2}},\"shapedefaults\":{\"line\":{\"color\":\"#2a3f5f\"}},\"annotationdefaults\":{\"arrowcolor\":\"#2a3f5f\",\"arrowhead\":0,\"arrowwidth\":1},\"geo\":{\"bgcolor\":\"white\",\"landcolor\":\"#E5ECF6\",\"subunitcolor\":\"white\",\"showland\":true,\"showlakes\":true,\"lakecolor\":\"white\"},\"title\":{\"x\":0.05},\"mapbox\":{\"style\":\"light\"}}},\"xaxis\":{\"anchor\":\"y\",\"domain\":[0.0,1.0],\"title\":{\"text\":\"Date\"},\"showgrid\":false},\"yaxis\":{\"anchor\":\"x\",\"domain\":[0.0,1.0],\"title\":{\"text\":\"Matic value\"},\"showgrid\":false},\"legend\":{\"title\":{\"text\":\"Matic Stock Parameters\"},\"tracegroupgap\":0},\"margin\":{\"t\":60},\"title\":{\"text\":\"Matic Price analysis chart for 2019\"},\"font\":{\"size\":15,\"color\":\"black\"}},                        {\"responsive\": true}                    ).then(function(){\n",
       "                            \n",
       "var gd = document.getElementById('848db814-215c-4ad3-b197-49eb78d5be04');\n",
       "var x = new MutationObserver(function (mutations, observer) {{\n",
       "        var display = window.getComputedStyle(gd).display;\n",
       "        if (!display || display === 'none') {{\n",
       "            console.log([gd, 'removed!']);\n",
       "            Plotly.purge(gd);\n",
       "            observer.disconnect();\n",
       "        }}\n",
       "}});\n",
       "\n",
       "// Listen for the removal of the full notebook cells\n",
       "var notebookContainer = gd.closest('#notebook-container');\n",
       "if (notebookContainer) {{\n",
       "    x.observe(notebookContainer, {childList: true});\n",
       "}}\n",
       "\n",
       "// Listen for the clearing of the current output cell\n",
       "var outputEl = gd.closest('.output');\n",
       "if (outputEl) {{\n",
       "    x.observe(outputEl, {childList: true});\n",
       "}}\n",
       "\n",
       "                        })                };                });            </script>        </div>"
      ]
     },
     "metadata": {},
     "output_type": "display_data"
    }
   ],
   "source": [
    "names = cycle(['Matic Open Price','Matic High Price','Matic Low Price'])\n",
    "\n",
    "fig = px.line(monthwise, x = monthwise.Date, y = [monthwise['Open'], monthwise['High'], monthwise['Low']],\n",
    "             labels = {'date': 'Date','value':'Matic value'})\n",
    "fig.update_layout(title_text = 'Matic Price analysis chart for 2019', font_size = 15, font_color = 'black',legend_title_text='Matic Stock Parameters')\n",
    "fig.for_each_trace(lambda t:  t.update(name = next(names)))\n",
    "fig.update_xaxes(showgrid = False)\n",
    "fig.update_yaxes(showgrid = False)\n",
    "\n",
    "fig.show()"
   ]
  },
  {
   "cell_type": "markdown",
   "id": "01a27867",
   "metadata": {
    "id": "6PGrqcfIFm4X",
    "papermill": {
     "duration": 0.024141,
     "end_time": "2023-03-13T11:31:13.068548",
     "exception": false,
     "start_time": "2023-03-13T11:31:13.044407",
     "status": "completed"
    },
    "tags": []
   },
   "source": [
    "# **Overall Monthwise Analysis for the entire dataset**"
   ]
  },
  {
   "cell_type": "code",
   "execution_count": 27,
   "id": "e81be8ec",
   "metadata": {
    "execution": {
     "iopub.execute_input": "2023-03-13T11:31:13.120284Z",
     "iopub.status.busy": "2023-03-13T11:31:13.119843Z",
     "iopub.status.idle": "2023-03-13T11:31:13.142831Z",
     "shell.execute_reply": "2023-03-13T11:31:13.141280Z"
    },
    "id": "1x9WabH1Ft9U",
    "outputId": "13159727-dcf1-4b4d-c6fc-e0322f6832f6",
    "papermill": {
     "duration": 0.051612,
     "end_time": "2023-03-13T11:31:13.145822",
     "exception": false,
     "start_time": "2023-03-13T11:31:13.094210",
     "status": "completed"
    },
    "tags": []
   },
   "outputs": [
    {
     "data": {
      "text/html": [
       "<div>\n",
       "<style scoped>\n",
       "    .dataframe tbody tr th:only-of-type {\n",
       "        vertical-align: middle;\n",
       "    }\n",
       "\n",
       "    .dataframe tbody tr th {\n",
       "        vertical-align: top;\n",
       "    }\n",
       "\n",
       "    .dataframe thead th {\n",
       "        text-align: right;\n",
       "    }\n",
       "</style>\n",
       "<table border=\"1\" class=\"dataframe\">\n",
       "  <thead>\n",
       "    <tr style=\"text-align: right;\">\n",
       "      <th></th>\n",
       "      <th>Date</th>\n",
       "      <th>Open</th>\n",
       "      <th>Close</th>\n",
       "      <th>High</th>\n",
       "      <th>Low</th>\n",
       "    </tr>\n",
       "  </thead>\n",
       "  <tbody>\n",
       "    <tr>\n",
       "      <th>0</th>\n",
       "      <td>January</td>\n",
       "      <td>0.699543</td>\n",
       "      <td>0.690297</td>\n",
       "      <td>0.726268</td>\n",
       "      <td>0.661488</td>\n",
       "    </tr>\n",
       "    <tr>\n",
       "      <th>1</th>\n",
       "      <td>February</td>\n",
       "      <td>0.590775</td>\n",
       "      <td>0.592731</td>\n",
       "      <td>0.619585</td>\n",
       "      <td>0.562339</td>\n",
       "    </tr>\n",
       "    <tr>\n",
       "      <th>2</th>\n",
       "      <td>March</td>\n",
       "      <td>0.618936</td>\n",
       "      <td>0.620425</td>\n",
       "      <td>0.645158</td>\n",
       "      <td>0.601152</td>\n",
       "    </tr>\n",
       "    <tr>\n",
       "      <th>3</th>\n",
       "      <td>April</td>\n",
       "      <td>0.601801</td>\n",
       "      <td>0.600595</td>\n",
       "      <td>0.627499</td>\n",
       "      <td>0.576438</td>\n",
       "    </tr>\n",
       "    <tr>\n",
       "      <th>4</th>\n",
       "      <td>May</td>\n",
       "      <td>0.539278</td>\n",
       "      <td>0.545118</td>\n",
       "      <td>0.600973</td>\n",
       "      <td>0.478742</td>\n",
       "    </tr>\n",
       "  </tbody>\n",
       "</table>\n",
       "</div>"
      ],
      "text/plain": [
       "       Date      Open     Close      High       Low\n",
       "0   January  0.699543  0.690297  0.726268  0.661488\n",
       "1  February  0.590775  0.592731  0.619585  0.562339\n",
       "2     March  0.618936  0.620425  0.645158  0.601152\n",
       "3     April  0.601801  0.600595  0.627499  0.576438\n",
       "4       May  0.539278  0.545118  0.600973  0.478742"
      ]
     },
     "execution_count": 27,
     "metadata": {},
     "output_type": "execute_result"
    }
   ],
   "source": [
    "monthwise = matic.groupby(pd.DatetimeIndex(matic.Date).month)[['Open', 'Close', 'High', 'Low']].mean()\n",
    "new_order = ['January', 'February', 'March', 'April', 'May', 'June', 'July', 'August', \n",
    "             'September', 'October', 'November','December']\n",
    "monthwise = monthwise.reset_index()\n",
    "monthwise['Date'] = new_order\n",
    "#monthwise.index = new_order\n",
    "monthwise.head()"
   ]
  },
  {
   "cell_type": "code",
   "execution_count": 28,
   "id": "b30d6ef1",
   "metadata": {
    "execution": {
     "iopub.execute_input": "2023-03-13T11:31:13.198308Z",
     "iopub.status.busy": "2023-03-13T11:31:13.197724Z",
     "iopub.status.idle": "2023-03-13T11:31:13.217325Z",
     "shell.execute_reply": "2023-03-13T11:31:13.215702Z"
    },
    "id": "ckEd7xvSF5A3",
    "outputId": "80069e32-ac46-480f-86a5-af2b89083d67",
    "papermill": {
     "duration": 0.049544,
     "end_time": "2023-03-13T11:31:13.220373",
     "exception": false,
     "start_time": "2023-03-13T11:31:13.170829",
     "status": "completed"
    },
    "tags": []
   },
   "outputs": [
    {
     "data": {
      "text/html": [
       "<div>                            <div id=\"e9b7b5c4-e7f3-4e04-8213-189c302f5e79\" class=\"plotly-graph-div\" style=\"height:525px; width:100%;\"></div>            <script type=\"text/javascript\">                require([\"plotly\"], function(Plotly) {                    window.PLOTLYENV=window.PLOTLYENV || {};                                    if (document.getElementById(\"e9b7b5c4-e7f3-4e04-8213-189c302f5e79\")) {                    Plotly.newPlot(                        \"e9b7b5c4-e7f3-4e04-8213-189c302f5e79\",                        [{\"marker\":{\"color\":\"purple\"},\"name\":\"Stock Close Price\",\"x\":[\"January\",\"February\",\"March\",\"April\",\"May\",\"June\",\"July\",\"August\",\"September\",\"October\",\"November\",\"December\"],\"y\":[0.6902968688837944,0.5927311519270434,0.6204245713068753,0.6005952565064554,0.5451177487116037,0.4868020164159436,0.43417263807608714,0.5613335713578929,0.5396261500427499,0.5919471762909163,0.6450904388912022,0.7737473153098616],\"type\":\"bar\"},{\"marker\":{\"color\":\"pink\"},\"name\":\"Stock Open Price\",\"x\":[\"January\",\"February\",\"March\",\"April\",\"May\",\"June\",\"July\",\"August\",\"September\",\"October\",\"November\",\"December\"],\"y\":[0.699543161357763,0.5907754233216538,0.6189356388283833,0.6018007858881667,0.5392780011884057,0.49488898245617746,0.43125657470626455,0.5599612934409731,0.5415918761088202,0.5844593655783683,0.6474955881507519,0.7677469856696584],\"type\":\"bar\"}],                        {\"template\":{\"data\":{\"histogram2dcontour\":[{\"type\":\"histogram2dcontour\",\"colorbar\":{\"outlinewidth\":0,\"ticks\":\"\"},\"colorscale\":[[0.0,\"#0d0887\"],[0.1111111111111111,\"#46039f\"],[0.2222222222222222,\"#7201a8\"],[0.3333333333333333,\"#9c179e\"],[0.4444444444444444,\"#bd3786\"],[0.5555555555555556,\"#d8576b\"],[0.6666666666666666,\"#ed7953\"],[0.7777777777777778,\"#fb9f3a\"],[0.8888888888888888,\"#fdca26\"],[1.0,\"#f0f921\"]]}],\"choropleth\":[{\"type\":\"choropleth\",\"colorbar\":{\"outlinewidth\":0,\"ticks\":\"\"}}],\"histogram2d\":[{\"type\":\"histogram2d\",\"colorbar\":{\"outlinewidth\":0,\"ticks\":\"\"},\"colorscale\":[[0.0,\"#0d0887\"],[0.1111111111111111,\"#46039f\"],[0.2222222222222222,\"#7201a8\"],[0.3333333333333333,\"#9c179e\"],[0.4444444444444444,\"#bd3786\"],[0.5555555555555556,\"#d8576b\"],[0.6666666666666666,\"#ed7953\"],[0.7777777777777778,\"#fb9f3a\"],[0.8888888888888888,\"#fdca26\"],[1.0,\"#f0f921\"]]}],\"heatmap\":[{\"type\":\"heatmap\",\"colorbar\":{\"outlinewidth\":0,\"ticks\":\"\"},\"colorscale\":[[0.0,\"#0d0887\"],[0.1111111111111111,\"#46039f\"],[0.2222222222222222,\"#7201a8\"],[0.3333333333333333,\"#9c179e\"],[0.4444444444444444,\"#bd3786\"],[0.5555555555555556,\"#d8576b\"],[0.6666666666666666,\"#ed7953\"],[0.7777777777777778,\"#fb9f3a\"],[0.8888888888888888,\"#fdca26\"],[1.0,\"#f0f921\"]]}],\"heatmapgl\":[{\"type\":\"heatmapgl\",\"colorbar\":{\"outlinewidth\":0,\"ticks\":\"\"},\"colorscale\":[[0.0,\"#0d0887\"],[0.1111111111111111,\"#46039f\"],[0.2222222222222222,\"#7201a8\"],[0.3333333333333333,\"#9c179e\"],[0.4444444444444444,\"#bd3786\"],[0.5555555555555556,\"#d8576b\"],[0.6666666666666666,\"#ed7953\"],[0.7777777777777778,\"#fb9f3a\"],[0.8888888888888888,\"#fdca26\"],[1.0,\"#f0f921\"]]}],\"contourcarpet\":[{\"type\":\"contourcarpet\",\"colorbar\":{\"outlinewidth\":0,\"ticks\":\"\"}}],\"contour\":[{\"type\":\"contour\",\"colorbar\":{\"outlinewidth\":0,\"ticks\":\"\"},\"colorscale\":[[0.0,\"#0d0887\"],[0.1111111111111111,\"#46039f\"],[0.2222222222222222,\"#7201a8\"],[0.3333333333333333,\"#9c179e\"],[0.4444444444444444,\"#bd3786\"],[0.5555555555555556,\"#d8576b\"],[0.6666666666666666,\"#ed7953\"],[0.7777777777777778,\"#fb9f3a\"],[0.8888888888888888,\"#fdca26\"],[1.0,\"#f0f921\"]]}],\"surface\":[{\"type\":\"surface\",\"colorbar\":{\"outlinewidth\":0,\"ticks\":\"\"},\"colorscale\":[[0.0,\"#0d0887\"],[0.1111111111111111,\"#46039f\"],[0.2222222222222222,\"#7201a8\"],[0.3333333333333333,\"#9c179e\"],[0.4444444444444444,\"#bd3786\"],[0.5555555555555556,\"#d8576b\"],[0.6666666666666666,\"#ed7953\"],[0.7777777777777778,\"#fb9f3a\"],[0.8888888888888888,\"#fdca26\"],[1.0,\"#f0f921\"]]}],\"mesh3d\":[{\"type\":\"mesh3d\",\"colorbar\":{\"outlinewidth\":0,\"ticks\":\"\"}}],\"scatter\":[{\"fillpattern\":{\"fillmode\":\"overlay\",\"size\":10,\"solidity\":0.2},\"type\":\"scatter\"}],\"parcoords\":[{\"type\":\"parcoords\",\"line\":{\"colorbar\":{\"outlinewidth\":0,\"ticks\":\"\"}}}],\"scatterpolargl\":[{\"type\":\"scatterpolargl\",\"marker\":{\"colorbar\":{\"outlinewidth\":0,\"ticks\":\"\"}}}],\"bar\":[{\"error_x\":{\"color\":\"#2a3f5f\"},\"error_y\":{\"color\":\"#2a3f5f\"},\"marker\":{\"line\":{\"color\":\"#E5ECF6\",\"width\":0.5},\"pattern\":{\"fillmode\":\"overlay\",\"size\":10,\"solidity\":0.2}},\"type\":\"bar\"}],\"scattergeo\":[{\"type\":\"scattergeo\",\"marker\":{\"colorbar\":{\"outlinewidth\":0,\"ticks\":\"\"}}}],\"scatterpolar\":[{\"type\":\"scatterpolar\",\"marker\":{\"colorbar\":{\"outlinewidth\":0,\"ticks\":\"\"}}}],\"histogram\":[{\"marker\":{\"pattern\":{\"fillmode\":\"overlay\",\"size\":10,\"solidity\":0.2}},\"type\":\"histogram\"}],\"scattergl\":[{\"type\":\"scattergl\",\"marker\":{\"colorbar\":{\"outlinewidth\":0,\"ticks\":\"\"}}}],\"scatter3d\":[{\"type\":\"scatter3d\",\"line\":{\"colorbar\":{\"outlinewidth\":0,\"ticks\":\"\"}},\"marker\":{\"colorbar\":{\"outlinewidth\":0,\"ticks\":\"\"}}}],\"scattermapbox\":[{\"type\":\"scattermapbox\",\"marker\":{\"colorbar\":{\"outlinewidth\":0,\"ticks\":\"\"}}}],\"scatterternary\":[{\"type\":\"scatterternary\",\"marker\":{\"colorbar\":{\"outlinewidth\":0,\"ticks\":\"\"}}}],\"scattercarpet\":[{\"type\":\"scattercarpet\",\"marker\":{\"colorbar\":{\"outlinewidth\":0,\"ticks\":\"\"}}}],\"carpet\":[{\"aaxis\":{\"endlinecolor\":\"#2a3f5f\",\"gridcolor\":\"white\",\"linecolor\":\"white\",\"minorgridcolor\":\"white\",\"startlinecolor\":\"#2a3f5f\"},\"baxis\":{\"endlinecolor\":\"#2a3f5f\",\"gridcolor\":\"white\",\"linecolor\":\"white\",\"minorgridcolor\":\"white\",\"startlinecolor\":\"#2a3f5f\"},\"type\":\"carpet\"}],\"table\":[{\"cells\":{\"fill\":{\"color\":\"#EBF0F8\"},\"line\":{\"color\":\"white\"}},\"header\":{\"fill\":{\"color\":\"#C8D4E3\"},\"line\":{\"color\":\"white\"}},\"type\":\"table\"}],\"barpolar\":[{\"marker\":{\"line\":{\"color\":\"#E5ECF6\",\"width\":0.5},\"pattern\":{\"fillmode\":\"overlay\",\"size\":10,\"solidity\":0.2}},\"type\":\"barpolar\"}],\"pie\":[{\"automargin\":true,\"type\":\"pie\"}]},\"layout\":{\"autotypenumbers\":\"strict\",\"colorway\":[\"#636efa\",\"#EF553B\",\"#00cc96\",\"#ab63fa\",\"#FFA15A\",\"#19d3f3\",\"#FF6692\",\"#B6E880\",\"#FF97FF\",\"#FECB52\"],\"font\":{\"color\":\"#2a3f5f\"},\"hovermode\":\"closest\",\"hoverlabel\":{\"align\":\"left\"},\"paper_bgcolor\":\"white\",\"plot_bgcolor\":\"#E5ECF6\",\"polar\":{\"bgcolor\":\"#E5ECF6\",\"angularaxis\":{\"gridcolor\":\"white\",\"linecolor\":\"white\",\"ticks\":\"\"},\"radialaxis\":{\"gridcolor\":\"white\",\"linecolor\":\"white\",\"ticks\":\"\"}},\"ternary\":{\"bgcolor\":\"#E5ECF6\",\"aaxis\":{\"gridcolor\":\"white\",\"linecolor\":\"white\",\"ticks\":\"\"},\"baxis\":{\"gridcolor\":\"white\",\"linecolor\":\"white\",\"ticks\":\"\"},\"caxis\":{\"gridcolor\":\"white\",\"linecolor\":\"white\",\"ticks\":\"\"}},\"coloraxis\":{\"colorbar\":{\"outlinewidth\":0,\"ticks\":\"\"}},\"colorscale\":{\"sequential\":[[0.0,\"#0d0887\"],[0.1111111111111111,\"#46039f\"],[0.2222222222222222,\"#7201a8\"],[0.3333333333333333,\"#9c179e\"],[0.4444444444444444,\"#bd3786\"],[0.5555555555555556,\"#d8576b\"],[0.6666666666666666,\"#ed7953\"],[0.7777777777777778,\"#fb9f3a\"],[0.8888888888888888,\"#fdca26\"],[1.0,\"#f0f921\"]],\"sequentialminus\":[[0.0,\"#0d0887\"],[0.1111111111111111,\"#46039f\"],[0.2222222222222222,\"#7201a8\"],[0.3333333333333333,\"#9c179e\"],[0.4444444444444444,\"#bd3786\"],[0.5555555555555556,\"#d8576b\"],[0.6666666666666666,\"#ed7953\"],[0.7777777777777778,\"#fb9f3a\"],[0.8888888888888888,\"#fdca26\"],[1.0,\"#f0f921\"]],\"diverging\":[[0,\"#8e0152\"],[0.1,\"#c51b7d\"],[0.2,\"#de77ae\"],[0.3,\"#f1b6da\"],[0.4,\"#fde0ef\"],[0.5,\"#f7f7f7\"],[0.6,\"#e6f5d0\"],[0.7,\"#b8e186\"],[0.8,\"#7fbc41\"],[0.9,\"#4d9221\"],[1,\"#276419\"]]},\"xaxis\":{\"gridcolor\":\"white\",\"linecolor\":\"white\",\"ticks\":\"\",\"title\":{\"standoff\":15},\"zerolinecolor\":\"white\",\"automargin\":true,\"zerolinewidth\":2},\"yaxis\":{\"gridcolor\":\"white\",\"linecolor\":\"white\",\"ticks\":\"\",\"title\":{\"standoff\":15},\"zerolinecolor\":\"white\",\"automargin\":true,\"zerolinewidth\":2},\"scene\":{\"xaxis\":{\"backgroundcolor\":\"#E5ECF6\",\"gridcolor\":\"white\",\"linecolor\":\"white\",\"showbackground\":true,\"ticks\":\"\",\"zerolinecolor\":\"white\",\"gridwidth\":2},\"yaxis\":{\"backgroundcolor\":\"#E5ECF6\",\"gridcolor\":\"white\",\"linecolor\":\"white\",\"showbackground\":true,\"ticks\":\"\",\"zerolinecolor\":\"white\",\"gridwidth\":2},\"zaxis\":{\"backgroundcolor\":\"#E5ECF6\",\"gridcolor\":\"white\",\"linecolor\":\"white\",\"showbackground\":true,\"ticks\":\"\",\"zerolinecolor\":\"white\",\"gridwidth\":2}},\"shapedefaults\":{\"line\":{\"color\":\"#2a3f5f\"}},\"annotationdefaults\":{\"arrowcolor\":\"#2a3f5f\",\"arrowhead\":0,\"arrowwidth\":1},\"geo\":{\"bgcolor\":\"white\",\"landcolor\":\"#E5ECF6\",\"subunitcolor\":\"white\",\"showland\":true,\"showlakes\":true,\"lakecolor\":\"white\"},\"title\":{\"x\":0.05},\"mapbox\":{\"style\":\"light\"}}},\"xaxis\":{\"tickangle\":-45},\"barmode\":\"group\",\"title\":{\"text\":\"Monthwise comparision for Open and Close Prices since Matic's Inception\"}},                        {\"responsive\": true}                    ).then(function(){\n",
       "                            \n",
       "var gd = document.getElementById('e9b7b5c4-e7f3-4e04-8213-189c302f5e79');\n",
       "var x = new MutationObserver(function (mutations, observer) {{\n",
       "        var display = window.getComputedStyle(gd).display;\n",
       "        if (!display || display === 'none') {{\n",
       "            console.log([gd, 'removed!']);\n",
       "            Plotly.purge(gd);\n",
       "            observer.disconnect();\n",
       "        }}\n",
       "}});\n",
       "\n",
       "// Listen for the removal of the full notebook cells\n",
       "var notebookContainer = gd.closest('#notebook-container');\n",
       "if (notebookContainer) {{\n",
       "    x.observe(notebookContainer, {childList: true});\n",
       "}}\n",
       "\n",
       "// Listen for the clearing of the current output cell\n",
       "var outputEl = gd.closest('.output');\n",
       "if (outputEl) {{\n",
       "    x.observe(outputEl, {childList: true});\n",
       "}}\n",
       "\n",
       "                        })                };                });            </script>        </div>"
      ]
     },
     "metadata": {},
     "output_type": "display_data"
    }
   ],
   "source": [
    "fig = go.Figure()\n",
    "\n",
    "fig.add_trace(go.Bar(\n",
    "    x = monthwise.Date,\n",
    "    y = monthwise['Close'],\n",
    "    name = 'Stock Close Price',\n",
    "    marker_color = 'purple'\n",
    "))\n",
    "\n",
    "fig.add_trace(go.Bar(\n",
    "    x = monthwise.Date,\n",
    "    y = monthwise['Open'],\n",
    "    name = 'Stock Open Price',\n",
    "    marker_color = 'pink'\n",
    "))\n",
    "fig.update_layout(barmode = 'group', xaxis_tickangle = -45, \n",
    "                  title = \"Monthwise comparision for Open and Close Prices since Matic's Inception\")\n",
    "fig.show()"
   ]
  },
  {
   "cell_type": "code",
   "execution_count": 29,
   "id": "b5704c55",
   "metadata": {
    "execution": {
     "iopub.execute_input": "2023-03-13T11:31:13.272479Z",
     "iopub.status.busy": "2023-03-13T11:31:13.271365Z",
     "iopub.status.idle": "2023-03-13T11:31:13.293499Z",
     "shell.execute_reply": "2023-03-13T11:31:13.291324Z"
    },
    "id": "wSsp6sWxGHoT",
    "outputId": "a584e446-007d-4b0d-9d63-93ab8d67e618",
    "papermill": {
     "duration": 0.052709,
     "end_time": "2023-03-13T11:31:13.297321",
     "exception": false,
     "start_time": "2023-03-13T11:31:13.244612",
     "status": "completed"
    },
    "tags": []
   },
   "outputs": [
    {
     "data": {
      "text/html": [
       "<div>                            <div id=\"6e4f94c2-80df-49f7-8ec4-33ea93f52cf3\" class=\"plotly-graph-div\" style=\"height:525px; width:100%;\"></div>            <script type=\"text/javascript\">                require([\"plotly\"], function(Plotly) {                    window.PLOTLYENV=window.PLOTLYENV || {};                                    if (document.getElementById(\"6e4f94c2-80df-49f7-8ec4-33ea93f52cf3\")) {                    Plotly.newPlot(                        \"6e4f94c2-80df-49f7-8ec4-33ea93f52cf3\",                        [{\"marker\":{\"color\":\"purple\"},\"name\":\"Matic High Price\",\"x\":[\"January\",\"February\",\"March\",\"April\",\"May\",\"June\",\"July\",\"August\",\"September\",\"October\",\"November\"],\"y\":[2.601468086242676,2.07568097114563,1.7457929849624634,1.7258780002593994,1.1850850582122805,0.6678699851036072,1.0041290521621704,1.0503849983215332,0.9405890107154846,0.9641759991645812,1.2871639728546145],\"type\":\"bar\"},{\"marker\":{\"color\":\"pink\"},\"name\":\"Matic Low Price\",\"x\":[\"January\",\"February\",\"March\",\"April\",\"May\",\"June\",\"July\",\"August\",\"September\",\"October\",\"November\"],\"y\":[1.3139610290527344,1.2530779838562012,1.3350050449371338,1.0295729637145996,0.5084109902381897,0.3228209912776947,0.4504309892654419,0.7585359811782837,0.6946089863777161,0.7214319705963135,0.7789450287818909],\"type\":\"bar\"}],                        {\"template\":{\"data\":{\"histogram2dcontour\":[{\"type\":\"histogram2dcontour\",\"colorbar\":{\"outlinewidth\":0,\"ticks\":\"\"},\"colorscale\":[[0.0,\"#0d0887\"],[0.1111111111111111,\"#46039f\"],[0.2222222222222222,\"#7201a8\"],[0.3333333333333333,\"#9c179e\"],[0.4444444444444444,\"#bd3786\"],[0.5555555555555556,\"#d8576b\"],[0.6666666666666666,\"#ed7953\"],[0.7777777777777778,\"#fb9f3a\"],[0.8888888888888888,\"#fdca26\"],[1.0,\"#f0f921\"]]}],\"choropleth\":[{\"type\":\"choropleth\",\"colorbar\":{\"outlinewidth\":0,\"ticks\":\"\"}}],\"histogram2d\":[{\"type\":\"histogram2d\",\"colorbar\":{\"outlinewidth\":0,\"ticks\":\"\"},\"colorscale\":[[0.0,\"#0d0887\"],[0.1111111111111111,\"#46039f\"],[0.2222222222222222,\"#7201a8\"],[0.3333333333333333,\"#9c179e\"],[0.4444444444444444,\"#bd3786\"],[0.5555555555555556,\"#d8576b\"],[0.6666666666666666,\"#ed7953\"],[0.7777777777777778,\"#fb9f3a\"],[0.8888888888888888,\"#fdca26\"],[1.0,\"#f0f921\"]]}],\"heatmap\":[{\"type\":\"heatmap\",\"colorbar\":{\"outlinewidth\":0,\"ticks\":\"\"},\"colorscale\":[[0.0,\"#0d0887\"],[0.1111111111111111,\"#46039f\"],[0.2222222222222222,\"#7201a8\"],[0.3333333333333333,\"#9c179e\"],[0.4444444444444444,\"#bd3786\"],[0.5555555555555556,\"#d8576b\"],[0.6666666666666666,\"#ed7953\"],[0.7777777777777778,\"#fb9f3a\"],[0.8888888888888888,\"#fdca26\"],[1.0,\"#f0f921\"]]}],\"heatmapgl\":[{\"type\":\"heatmapgl\",\"colorbar\":{\"outlinewidth\":0,\"ticks\":\"\"},\"colorscale\":[[0.0,\"#0d0887\"],[0.1111111111111111,\"#46039f\"],[0.2222222222222222,\"#7201a8\"],[0.3333333333333333,\"#9c179e\"],[0.4444444444444444,\"#bd3786\"],[0.5555555555555556,\"#d8576b\"],[0.6666666666666666,\"#ed7953\"],[0.7777777777777778,\"#fb9f3a\"],[0.8888888888888888,\"#fdca26\"],[1.0,\"#f0f921\"]]}],\"contourcarpet\":[{\"type\":\"contourcarpet\",\"colorbar\":{\"outlinewidth\":0,\"ticks\":\"\"}}],\"contour\":[{\"type\":\"contour\",\"colorbar\":{\"outlinewidth\":0,\"ticks\":\"\"},\"colorscale\":[[0.0,\"#0d0887\"],[0.1111111111111111,\"#46039f\"],[0.2222222222222222,\"#7201a8\"],[0.3333333333333333,\"#9c179e\"],[0.4444444444444444,\"#bd3786\"],[0.5555555555555556,\"#d8576b\"],[0.6666666666666666,\"#ed7953\"],[0.7777777777777778,\"#fb9f3a\"],[0.8888888888888888,\"#fdca26\"],[1.0,\"#f0f921\"]]}],\"surface\":[{\"type\":\"surface\",\"colorbar\":{\"outlinewidth\":0,\"ticks\":\"\"},\"colorscale\":[[0.0,\"#0d0887\"],[0.1111111111111111,\"#46039f\"],[0.2222222222222222,\"#7201a8\"],[0.3333333333333333,\"#9c179e\"],[0.4444444444444444,\"#bd3786\"],[0.5555555555555556,\"#d8576b\"],[0.6666666666666666,\"#ed7953\"],[0.7777777777777778,\"#fb9f3a\"],[0.8888888888888888,\"#fdca26\"],[1.0,\"#f0f921\"]]}],\"mesh3d\":[{\"type\":\"mesh3d\",\"colorbar\":{\"outlinewidth\":0,\"ticks\":\"\"}}],\"scatter\":[{\"fillpattern\":{\"fillmode\":\"overlay\",\"size\":10,\"solidity\":0.2},\"type\":\"scatter\"}],\"parcoords\":[{\"type\":\"parcoords\",\"line\":{\"colorbar\":{\"outlinewidth\":0,\"ticks\":\"\"}}}],\"scatterpolargl\":[{\"type\":\"scatterpolargl\",\"marker\":{\"colorbar\":{\"outlinewidth\":0,\"ticks\":\"\"}}}],\"bar\":[{\"error_x\":{\"color\":\"#2a3f5f\"},\"error_y\":{\"color\":\"#2a3f5f\"},\"marker\":{\"line\":{\"color\":\"#E5ECF6\",\"width\":0.5},\"pattern\":{\"fillmode\":\"overlay\",\"size\":10,\"solidity\":0.2}},\"type\":\"bar\"}],\"scattergeo\":[{\"type\":\"scattergeo\",\"marker\":{\"colorbar\":{\"outlinewidth\":0,\"ticks\":\"\"}}}],\"scatterpolar\":[{\"type\":\"scatterpolar\",\"marker\":{\"colorbar\":{\"outlinewidth\":0,\"ticks\":\"\"}}}],\"histogram\":[{\"marker\":{\"pattern\":{\"fillmode\":\"overlay\",\"size\":10,\"solidity\":0.2}},\"type\":\"histogram\"}],\"scattergl\":[{\"type\":\"scattergl\",\"marker\":{\"colorbar\":{\"outlinewidth\":0,\"ticks\":\"\"}}}],\"scatter3d\":[{\"type\":\"scatter3d\",\"line\":{\"colorbar\":{\"outlinewidth\":0,\"ticks\":\"\"}},\"marker\":{\"colorbar\":{\"outlinewidth\":0,\"ticks\":\"\"}}}],\"scattermapbox\":[{\"type\":\"scattermapbox\",\"marker\":{\"colorbar\":{\"outlinewidth\":0,\"ticks\":\"\"}}}],\"scatterternary\":[{\"type\":\"scatterternary\",\"marker\":{\"colorbar\":{\"outlinewidth\":0,\"ticks\":\"\"}}}],\"scattercarpet\":[{\"type\":\"scattercarpet\",\"marker\":{\"colorbar\":{\"outlinewidth\":0,\"ticks\":\"\"}}}],\"carpet\":[{\"aaxis\":{\"endlinecolor\":\"#2a3f5f\",\"gridcolor\":\"white\",\"linecolor\":\"white\",\"minorgridcolor\":\"white\",\"startlinecolor\":\"#2a3f5f\"},\"baxis\":{\"endlinecolor\":\"#2a3f5f\",\"gridcolor\":\"white\",\"linecolor\":\"white\",\"minorgridcolor\":\"white\",\"startlinecolor\":\"#2a3f5f\"},\"type\":\"carpet\"}],\"table\":[{\"cells\":{\"fill\":{\"color\":\"#EBF0F8\"},\"line\":{\"color\":\"white\"}},\"header\":{\"fill\":{\"color\":\"#C8D4E3\"},\"line\":{\"color\":\"white\"}},\"type\":\"table\"}],\"barpolar\":[{\"marker\":{\"line\":{\"color\":\"#E5ECF6\",\"width\":0.5},\"pattern\":{\"fillmode\":\"overlay\",\"size\":10,\"solidity\":0.2}},\"type\":\"barpolar\"}],\"pie\":[{\"automargin\":true,\"type\":\"pie\"}]},\"layout\":{\"autotypenumbers\":\"strict\",\"colorway\":[\"#636efa\",\"#EF553B\",\"#00cc96\",\"#ab63fa\",\"#FFA15A\",\"#19d3f3\",\"#FF6692\",\"#B6E880\",\"#FF97FF\",\"#FECB52\"],\"font\":{\"color\":\"#2a3f5f\"},\"hovermode\":\"closest\",\"hoverlabel\":{\"align\":\"left\"},\"paper_bgcolor\":\"white\",\"plot_bgcolor\":\"#E5ECF6\",\"polar\":{\"bgcolor\":\"#E5ECF6\",\"angularaxis\":{\"gridcolor\":\"white\",\"linecolor\":\"white\",\"ticks\":\"\"},\"radialaxis\":{\"gridcolor\":\"white\",\"linecolor\":\"white\",\"ticks\":\"\"}},\"ternary\":{\"bgcolor\":\"#E5ECF6\",\"aaxis\":{\"gridcolor\":\"white\",\"linecolor\":\"white\",\"ticks\":\"\"},\"baxis\":{\"gridcolor\":\"white\",\"linecolor\":\"white\",\"ticks\":\"\"},\"caxis\":{\"gridcolor\":\"white\",\"linecolor\":\"white\",\"ticks\":\"\"}},\"coloraxis\":{\"colorbar\":{\"outlinewidth\":0,\"ticks\":\"\"}},\"colorscale\":{\"sequential\":[[0.0,\"#0d0887\"],[0.1111111111111111,\"#46039f\"],[0.2222222222222222,\"#7201a8\"],[0.3333333333333333,\"#9c179e\"],[0.4444444444444444,\"#bd3786\"],[0.5555555555555556,\"#d8576b\"],[0.6666666666666666,\"#ed7953\"],[0.7777777777777778,\"#fb9f3a\"],[0.8888888888888888,\"#fdca26\"],[1.0,\"#f0f921\"]],\"sequentialminus\":[[0.0,\"#0d0887\"],[0.1111111111111111,\"#46039f\"],[0.2222222222222222,\"#7201a8\"],[0.3333333333333333,\"#9c179e\"],[0.4444444444444444,\"#bd3786\"],[0.5555555555555556,\"#d8576b\"],[0.6666666666666666,\"#ed7953\"],[0.7777777777777778,\"#fb9f3a\"],[0.8888888888888888,\"#fdca26\"],[1.0,\"#f0f921\"]],\"diverging\":[[0,\"#8e0152\"],[0.1,\"#c51b7d\"],[0.2,\"#de77ae\"],[0.3,\"#f1b6da\"],[0.4,\"#fde0ef\"],[0.5,\"#f7f7f7\"],[0.6,\"#e6f5d0\"],[0.7,\"#b8e186\"],[0.8,\"#7fbc41\"],[0.9,\"#4d9221\"],[1,\"#276419\"]]},\"xaxis\":{\"gridcolor\":\"white\",\"linecolor\":\"white\",\"ticks\":\"\",\"title\":{\"standoff\":15},\"zerolinecolor\":\"white\",\"automargin\":true,\"zerolinewidth\":2},\"yaxis\":{\"gridcolor\":\"white\",\"linecolor\":\"white\",\"ticks\":\"\",\"title\":{\"standoff\":15},\"zerolinecolor\":\"white\",\"automargin\":true,\"zerolinewidth\":2},\"scene\":{\"xaxis\":{\"backgroundcolor\":\"#E5ECF6\",\"gridcolor\":\"white\",\"linecolor\":\"white\",\"showbackground\":true,\"ticks\":\"\",\"zerolinecolor\":\"white\",\"gridwidth\":2},\"yaxis\":{\"backgroundcolor\":\"#E5ECF6\",\"gridcolor\":\"white\",\"linecolor\":\"white\",\"showbackground\":true,\"ticks\":\"\",\"zerolinecolor\":\"white\",\"gridwidth\":2},\"zaxis\":{\"backgroundcolor\":\"#E5ECF6\",\"gridcolor\":\"white\",\"linecolor\":\"white\",\"showbackground\":true,\"ticks\":\"\",\"zerolinecolor\":\"white\",\"gridwidth\":2}},\"shapedefaults\":{\"line\":{\"color\":\"#2a3f5f\"}},\"annotationdefaults\":{\"arrowcolor\":\"#2a3f5f\",\"arrowhead\":0,\"arrowwidth\":1},\"geo\":{\"bgcolor\":\"white\",\"landcolor\":\"#E5ECF6\",\"subunitcolor\":\"white\",\"showland\":true,\"showlakes\":true,\"lakecolor\":\"white\"},\"title\":{\"x\":0.05},\"mapbox\":{\"style\":\"light\"}}},\"xaxis\":{\"tickangle\":-45},\"barmode\":\"group\",\"title\":{\"text\":\"Monthwise Matic High and Low Prices since it's inception\"}},                        {\"responsive\": true}                    ).then(function(){\n",
       "                            \n",
       "var gd = document.getElementById('6e4f94c2-80df-49f7-8ec4-33ea93f52cf3');\n",
       "var x = new MutationObserver(function (mutations, observer) {{\n",
       "        var display = window.getComputedStyle(gd).display;\n",
       "        if (!display || display === 'none') {{\n",
       "            console.log([gd, 'removed!']);\n",
       "            Plotly.purge(gd);\n",
       "            observer.disconnect();\n",
       "        }}\n",
       "}});\n",
       "\n",
       "// Listen for the removal of the full notebook cells\n",
       "var notebookContainer = gd.closest('#notebook-container');\n",
       "if (notebookContainer) {{\n",
       "    x.observe(notebookContainer, {childList: true});\n",
       "}}\n",
       "\n",
       "// Listen for the clearing of the current output cell\n",
       "var outputEl = gd.closest('.output');\n",
       "if (outputEl) {{\n",
       "    x.observe(outputEl, {childList: true});\n",
       "}}\n",
       "\n",
       "                        })                };                });            </script>        </div>"
      ]
     },
     "metadata": {},
     "output_type": "display_data"
    }
   ],
   "source": [
    "fig = go.Figure()\n",
    "fig.add_trace(go.Bar(\n",
    "    x = monthwise_high.Date,\n",
    "    y = monthwise_high.High,\n",
    "    name = 'Matic High Price',\n",
    "    marker_color = 'purple'\n",
    "))\n",
    "fig.add_trace(go.Bar(\n",
    "    x = monthwise_low.Date,\n",
    "    y = monthwise_low.Low,\n",
    "    name = 'Matic Low Price',\n",
    "    marker_color='pink'\n",
    "))\n",
    "\n",
    "fig.update_layout(barmode = 'group', xaxis_tickangle = -45,\n",
    "                  title = \"Monthwise Matic High and Low Prices since it's inception\")\n",
    "fig.show()"
   ]
  },
  {
   "cell_type": "code",
   "execution_count": 30,
   "id": "7fa454da",
   "metadata": {
    "execution": {
     "iopub.execute_input": "2023-03-13T11:31:13.350226Z",
     "iopub.status.busy": "2023-03-13T11:31:13.348961Z",
     "iopub.status.idle": "2023-03-13T11:31:13.441876Z",
     "shell.execute_reply": "2023-03-13T11:31:13.440092Z"
    },
    "id": "iG0eKQaGGarQ",
    "outputId": "1c99e892-f374-4506-f3f7-c09e16ba694b",
    "papermill": {
     "duration": 0.12205,
     "end_time": "2023-03-13T11:31:13.444947",
     "exception": false,
     "start_time": "2023-03-13T11:31:13.322897",
     "status": "completed"
    },
    "tags": []
   },
   "outputs": [
    {
     "data": {
      "text/html": [
       "<div>                            <div id=\"156f2c06-3956-4fbd-80be-bd057b7d4de2\" class=\"plotly-graph-div\" style=\"height:525px; width:100%;\"></div>            <script type=\"text/javascript\">                require([\"plotly\"], function(Plotly) {                    window.PLOTLYENV=window.PLOTLYENV || {};                                    if (document.getElementById(\"156f2c06-3956-4fbd-80be-bd057b7d4de2\")) {                    Plotly.newPlot(                        \"156f2c06-3956-4fbd-80be-bd057b7d4de2\",                        [{\"hovertemplate\":\"variable=Open<br>Date=%{x}<br>Matic value=%{y}<extra></extra>\",\"legendgroup\":\"Open\",\"line\":{\"color\":\"#636efa\",\"dash\":\"solid\"},\"marker\":{\"symbol\":\"circle\"},\"mode\":\"lines\",\"name\":\"Matic Open Price\",\"orientation\":\"v\",\"showlegend\":true,\"x\":[\"January\",\"February\",\"March\",\"April\",\"May\",\"June\",\"July\",\"August\",\"September\",\"October\",\"November\",\"December\"],\"xaxis\":\"x\",\"y\":[0.699543161357763,0.5907754233216538,0.6189356388283833,0.6018007858881667,0.5392780011884057,0.49488898245617746,0.43125657470626455,0.5599612934409731,0.5415918761088202,0.5844593655783683,0.6474955881507519,0.7677469856696584],\"yaxis\":\"y\",\"type\":\"scatter\"},{\"hovertemplate\":\"variable=High<br>Date=%{x}<br>Matic value=%{y}<extra></extra>\",\"legendgroup\":\"High\",\"line\":{\"color\":\"#EF553B\",\"dash\":\"solid\"},\"marker\":{\"symbol\":\"circle\"},\"mode\":\"lines\",\"name\":\"Matic High Price\",\"orientation\":\"v\",\"showlegend\":true,\"x\":[\"January\",\"February\",\"March\",\"April\",\"May\",\"June\",\"July\",\"August\",\"September\",\"October\",\"November\",\"December\"],\"xaxis\":\"x\",\"y\":[0.7262675156416272,0.6195851063465371,0.6451576889282272,0.6274991682780686,0.6009729362051603,0.5193454664976647,0.45264096822469463,0.585203928219515,0.5638058315729723,0.6130611707171004,0.6786403774521222,0.8166074350936919],\"yaxis\":\"y\",\"type\":\"scatter\"},{\"hovertemplate\":\"variable=Low<br>Date=%{x}<br>Matic value=%{y}<extra></extra>\",\"legendgroup\":\"Low\",\"line\":{\"color\":\"#00cc96\",\"dash\":\"solid\"},\"marker\":{\"symbol\":\"circle\"},\"mode\":\"lines\",\"name\":\"Matic Low Price\",\"orientation\":\"v\",\"showlegend\":true,\"x\":[\"January\",\"February\",\"March\",\"April\",\"May\",\"June\",\"July\",\"August\",\"September\",\"October\",\"November\",\"December\"],\"xaxis\":\"x\",\"y\":[0.6614882894240881,0.5623392579967484,0.601152396810952,0.5764377852150749,0.47874249458395607,0.4612520203925669,0.41204043664038176,0.5397269443022988,0.5153003404693057,0.5666065405934088,0.6125635215556066,0.7235615716105507],\"yaxis\":\"y\",\"type\":\"scatter\"}],                        {\"template\":{\"data\":{\"histogram2dcontour\":[{\"type\":\"histogram2dcontour\",\"colorbar\":{\"outlinewidth\":0,\"ticks\":\"\"},\"colorscale\":[[0.0,\"#0d0887\"],[0.1111111111111111,\"#46039f\"],[0.2222222222222222,\"#7201a8\"],[0.3333333333333333,\"#9c179e\"],[0.4444444444444444,\"#bd3786\"],[0.5555555555555556,\"#d8576b\"],[0.6666666666666666,\"#ed7953\"],[0.7777777777777778,\"#fb9f3a\"],[0.8888888888888888,\"#fdca26\"],[1.0,\"#f0f921\"]]}],\"choropleth\":[{\"type\":\"choropleth\",\"colorbar\":{\"outlinewidth\":0,\"ticks\":\"\"}}],\"histogram2d\":[{\"type\":\"histogram2d\",\"colorbar\":{\"outlinewidth\":0,\"ticks\":\"\"},\"colorscale\":[[0.0,\"#0d0887\"],[0.1111111111111111,\"#46039f\"],[0.2222222222222222,\"#7201a8\"],[0.3333333333333333,\"#9c179e\"],[0.4444444444444444,\"#bd3786\"],[0.5555555555555556,\"#d8576b\"],[0.6666666666666666,\"#ed7953\"],[0.7777777777777778,\"#fb9f3a\"],[0.8888888888888888,\"#fdca26\"],[1.0,\"#f0f921\"]]}],\"heatmap\":[{\"type\":\"heatmap\",\"colorbar\":{\"outlinewidth\":0,\"ticks\":\"\"},\"colorscale\":[[0.0,\"#0d0887\"],[0.1111111111111111,\"#46039f\"],[0.2222222222222222,\"#7201a8\"],[0.3333333333333333,\"#9c179e\"],[0.4444444444444444,\"#bd3786\"],[0.5555555555555556,\"#d8576b\"],[0.6666666666666666,\"#ed7953\"],[0.7777777777777778,\"#fb9f3a\"],[0.8888888888888888,\"#fdca26\"],[1.0,\"#f0f921\"]]}],\"heatmapgl\":[{\"type\":\"heatmapgl\",\"colorbar\":{\"outlinewidth\":0,\"ticks\":\"\"},\"colorscale\":[[0.0,\"#0d0887\"],[0.1111111111111111,\"#46039f\"],[0.2222222222222222,\"#7201a8\"],[0.3333333333333333,\"#9c179e\"],[0.4444444444444444,\"#bd3786\"],[0.5555555555555556,\"#d8576b\"],[0.6666666666666666,\"#ed7953\"],[0.7777777777777778,\"#fb9f3a\"],[0.8888888888888888,\"#fdca26\"],[1.0,\"#f0f921\"]]}],\"contourcarpet\":[{\"type\":\"contourcarpet\",\"colorbar\":{\"outlinewidth\":0,\"ticks\":\"\"}}],\"contour\":[{\"type\":\"contour\",\"colorbar\":{\"outlinewidth\":0,\"ticks\":\"\"},\"colorscale\":[[0.0,\"#0d0887\"],[0.1111111111111111,\"#46039f\"],[0.2222222222222222,\"#7201a8\"],[0.3333333333333333,\"#9c179e\"],[0.4444444444444444,\"#bd3786\"],[0.5555555555555556,\"#d8576b\"],[0.6666666666666666,\"#ed7953\"],[0.7777777777777778,\"#fb9f3a\"],[0.8888888888888888,\"#fdca26\"],[1.0,\"#f0f921\"]]}],\"surface\":[{\"type\":\"surface\",\"colorbar\":{\"outlinewidth\":0,\"ticks\":\"\"},\"colorscale\":[[0.0,\"#0d0887\"],[0.1111111111111111,\"#46039f\"],[0.2222222222222222,\"#7201a8\"],[0.3333333333333333,\"#9c179e\"],[0.4444444444444444,\"#bd3786\"],[0.5555555555555556,\"#d8576b\"],[0.6666666666666666,\"#ed7953\"],[0.7777777777777778,\"#fb9f3a\"],[0.8888888888888888,\"#fdca26\"],[1.0,\"#f0f921\"]]}],\"mesh3d\":[{\"type\":\"mesh3d\",\"colorbar\":{\"outlinewidth\":0,\"ticks\":\"\"}}],\"scatter\":[{\"fillpattern\":{\"fillmode\":\"overlay\",\"size\":10,\"solidity\":0.2},\"type\":\"scatter\"}],\"parcoords\":[{\"type\":\"parcoords\",\"line\":{\"colorbar\":{\"outlinewidth\":0,\"ticks\":\"\"}}}],\"scatterpolargl\":[{\"type\":\"scatterpolargl\",\"marker\":{\"colorbar\":{\"outlinewidth\":0,\"ticks\":\"\"}}}],\"bar\":[{\"error_x\":{\"color\":\"#2a3f5f\"},\"error_y\":{\"color\":\"#2a3f5f\"},\"marker\":{\"line\":{\"color\":\"#E5ECF6\",\"width\":0.5},\"pattern\":{\"fillmode\":\"overlay\",\"size\":10,\"solidity\":0.2}},\"type\":\"bar\"}],\"scattergeo\":[{\"type\":\"scattergeo\",\"marker\":{\"colorbar\":{\"outlinewidth\":0,\"ticks\":\"\"}}}],\"scatterpolar\":[{\"type\":\"scatterpolar\",\"marker\":{\"colorbar\":{\"outlinewidth\":0,\"ticks\":\"\"}}}],\"histogram\":[{\"marker\":{\"pattern\":{\"fillmode\":\"overlay\",\"size\":10,\"solidity\":0.2}},\"type\":\"histogram\"}],\"scattergl\":[{\"type\":\"scattergl\",\"marker\":{\"colorbar\":{\"outlinewidth\":0,\"ticks\":\"\"}}}],\"scatter3d\":[{\"type\":\"scatter3d\",\"line\":{\"colorbar\":{\"outlinewidth\":0,\"ticks\":\"\"}},\"marker\":{\"colorbar\":{\"outlinewidth\":0,\"ticks\":\"\"}}}],\"scattermapbox\":[{\"type\":\"scattermapbox\",\"marker\":{\"colorbar\":{\"outlinewidth\":0,\"ticks\":\"\"}}}],\"scatterternary\":[{\"type\":\"scatterternary\",\"marker\":{\"colorbar\":{\"outlinewidth\":0,\"ticks\":\"\"}}}],\"scattercarpet\":[{\"type\":\"scattercarpet\",\"marker\":{\"colorbar\":{\"outlinewidth\":0,\"ticks\":\"\"}}}],\"carpet\":[{\"aaxis\":{\"endlinecolor\":\"#2a3f5f\",\"gridcolor\":\"white\",\"linecolor\":\"white\",\"minorgridcolor\":\"white\",\"startlinecolor\":\"#2a3f5f\"},\"baxis\":{\"endlinecolor\":\"#2a3f5f\",\"gridcolor\":\"white\",\"linecolor\":\"white\",\"minorgridcolor\":\"white\",\"startlinecolor\":\"#2a3f5f\"},\"type\":\"carpet\"}],\"table\":[{\"cells\":{\"fill\":{\"color\":\"#EBF0F8\"},\"line\":{\"color\":\"white\"}},\"header\":{\"fill\":{\"color\":\"#C8D4E3\"},\"line\":{\"color\":\"white\"}},\"type\":\"table\"}],\"barpolar\":[{\"marker\":{\"line\":{\"color\":\"#E5ECF6\",\"width\":0.5},\"pattern\":{\"fillmode\":\"overlay\",\"size\":10,\"solidity\":0.2}},\"type\":\"barpolar\"}],\"pie\":[{\"automargin\":true,\"type\":\"pie\"}]},\"layout\":{\"autotypenumbers\":\"strict\",\"colorway\":[\"#636efa\",\"#EF553B\",\"#00cc96\",\"#ab63fa\",\"#FFA15A\",\"#19d3f3\",\"#FF6692\",\"#B6E880\",\"#FF97FF\",\"#FECB52\"],\"font\":{\"color\":\"#2a3f5f\"},\"hovermode\":\"closest\",\"hoverlabel\":{\"align\":\"left\"},\"paper_bgcolor\":\"white\",\"plot_bgcolor\":\"#E5ECF6\",\"polar\":{\"bgcolor\":\"#E5ECF6\",\"angularaxis\":{\"gridcolor\":\"white\",\"linecolor\":\"white\",\"ticks\":\"\"},\"radialaxis\":{\"gridcolor\":\"white\",\"linecolor\":\"white\",\"ticks\":\"\"}},\"ternary\":{\"bgcolor\":\"#E5ECF6\",\"aaxis\":{\"gridcolor\":\"white\",\"linecolor\":\"white\",\"ticks\":\"\"},\"baxis\":{\"gridcolor\":\"white\",\"linecolor\":\"white\",\"ticks\":\"\"},\"caxis\":{\"gridcolor\":\"white\",\"linecolor\":\"white\",\"ticks\":\"\"}},\"coloraxis\":{\"colorbar\":{\"outlinewidth\":0,\"ticks\":\"\"}},\"colorscale\":{\"sequential\":[[0.0,\"#0d0887\"],[0.1111111111111111,\"#46039f\"],[0.2222222222222222,\"#7201a8\"],[0.3333333333333333,\"#9c179e\"],[0.4444444444444444,\"#bd3786\"],[0.5555555555555556,\"#d8576b\"],[0.6666666666666666,\"#ed7953\"],[0.7777777777777778,\"#fb9f3a\"],[0.8888888888888888,\"#fdca26\"],[1.0,\"#f0f921\"]],\"sequentialminus\":[[0.0,\"#0d0887\"],[0.1111111111111111,\"#46039f\"],[0.2222222222222222,\"#7201a8\"],[0.3333333333333333,\"#9c179e\"],[0.4444444444444444,\"#bd3786\"],[0.5555555555555556,\"#d8576b\"],[0.6666666666666666,\"#ed7953\"],[0.7777777777777778,\"#fb9f3a\"],[0.8888888888888888,\"#fdca26\"],[1.0,\"#f0f921\"]],\"diverging\":[[0,\"#8e0152\"],[0.1,\"#c51b7d\"],[0.2,\"#de77ae\"],[0.3,\"#f1b6da\"],[0.4,\"#fde0ef\"],[0.5,\"#f7f7f7\"],[0.6,\"#e6f5d0\"],[0.7,\"#b8e186\"],[0.8,\"#7fbc41\"],[0.9,\"#4d9221\"],[1,\"#276419\"]]},\"xaxis\":{\"gridcolor\":\"white\",\"linecolor\":\"white\",\"ticks\":\"\",\"title\":{\"standoff\":15},\"zerolinecolor\":\"white\",\"automargin\":true,\"zerolinewidth\":2},\"yaxis\":{\"gridcolor\":\"white\",\"linecolor\":\"white\",\"ticks\":\"\",\"title\":{\"standoff\":15},\"zerolinecolor\":\"white\",\"automargin\":true,\"zerolinewidth\":2},\"scene\":{\"xaxis\":{\"backgroundcolor\":\"#E5ECF6\",\"gridcolor\":\"white\",\"linecolor\":\"white\",\"showbackground\":true,\"ticks\":\"\",\"zerolinecolor\":\"white\",\"gridwidth\":2},\"yaxis\":{\"backgroundcolor\":\"#E5ECF6\",\"gridcolor\":\"white\",\"linecolor\":\"white\",\"showbackground\":true,\"ticks\":\"\",\"zerolinecolor\":\"white\",\"gridwidth\":2},\"zaxis\":{\"backgroundcolor\":\"#E5ECF6\",\"gridcolor\":\"white\",\"linecolor\":\"white\",\"showbackground\":true,\"ticks\":\"\",\"zerolinecolor\":\"white\",\"gridwidth\":2}},\"shapedefaults\":{\"line\":{\"color\":\"#2a3f5f\"}},\"annotationdefaults\":{\"arrowcolor\":\"#2a3f5f\",\"arrowhead\":0,\"arrowwidth\":1},\"geo\":{\"bgcolor\":\"white\",\"landcolor\":\"#E5ECF6\",\"subunitcolor\":\"white\",\"showland\":true,\"showlakes\":true,\"lakecolor\":\"white\"},\"title\":{\"x\":0.05},\"mapbox\":{\"style\":\"light\"}}},\"xaxis\":{\"anchor\":\"y\",\"domain\":[0.0,1.0],\"title\":{\"text\":\"Date\"},\"showgrid\":false},\"yaxis\":{\"anchor\":\"x\",\"domain\":[0.0,1.0],\"title\":{\"text\":\"Matic value\"},\"showgrid\":false},\"legend\":{\"title\":{\"text\":\"Matic Stock Parameters\"},\"tracegroupgap\":0},\"margin\":{\"t\":60},\"title\":{\"text\":\"Matic Price analysis chart (overall)\"},\"font\":{\"size\":15,\"color\":\"black\"}},                        {\"responsive\": true}                    ).then(function(){\n",
       "                            \n",
       "var gd = document.getElementById('156f2c06-3956-4fbd-80be-bd057b7d4de2');\n",
       "var x = new MutationObserver(function (mutations, observer) {{\n",
       "        var display = window.getComputedStyle(gd).display;\n",
       "        if (!display || display === 'none') {{\n",
       "            console.log([gd, 'removed!']);\n",
       "            Plotly.purge(gd);\n",
       "            observer.disconnect();\n",
       "        }}\n",
       "}});\n",
       "\n",
       "// Listen for the removal of the full notebook cells\n",
       "var notebookContainer = gd.closest('#notebook-container');\n",
       "if (notebookContainer) {{\n",
       "    x.observe(notebookContainer, {childList: true});\n",
       "}}\n",
       "\n",
       "// Listen for the clearing of the current output cell\n",
       "var outputEl = gd.closest('.output');\n",
       "if (outputEl) {{\n",
       "    x.observe(outputEl, {childList: true});\n",
       "}}\n",
       "\n",
       "                        })                };                });            </script>        </div>"
      ]
     },
     "metadata": {},
     "output_type": "display_data"
    }
   ],
   "source": [
    "names = cycle(['Matic Open Price','Matic High Price','Matic Low Price'])\n",
    "\n",
    "fig = px.line(monthwise, x = monthwise.Date, y = [monthwise['Open'], monthwise['High'], monthwise['Low']],\n",
    "             labels = {'date': 'Date','value':'Matic value'})\n",
    "fig.update_layout(title_text = 'Matic Price analysis chart (overall)', font_size = 15, font_color = 'black',legend_title_text='Matic Stock Parameters')\n",
    "fig.for_each_trace(lambda t:  t.update(name = next(names)))\n",
    "fig.update_xaxes(showgrid = False)\n",
    "fig.update_yaxes(showgrid = False)\n",
    "\n",
    "fig.show()"
   ]
  },
  {
   "cell_type": "markdown",
   "id": "6f5ebaa5",
   "metadata": {
    "id": "DjOoKVcHLlNH",
    "papermill": {
     "duration": 0.024545,
     "end_time": "2023-03-13T11:31:13.496741",
     "exception": false,
     "start_time": "2023-03-13T11:31:13.472196",
     "status": "completed"
    },
    "tags": []
   },
   "source": [
    "# **Preparing Matic Closed Prices**"
   ]
  },
  {
   "cell_type": "code",
   "execution_count": 31,
   "id": "fb3c532d",
   "metadata": {
    "execution": {
     "iopub.execute_input": "2023-03-13T11:31:13.547311Z",
     "iopub.status.busy": "2023-03-13T11:31:13.545995Z",
     "iopub.status.idle": "2023-03-13T11:31:13.564043Z",
     "shell.execute_reply": "2023-03-13T11:31:13.562628Z"
    },
    "id": "Gga7iS1SX_1M",
    "outputId": "6c2f545e-f9b5-4007-d402-3b933536175b",
    "papermill": {
     "duration": 0.046263,
     "end_time": "2023-03-13T11:31:13.566592",
     "exception": false,
     "start_time": "2023-03-13T11:31:13.520329",
     "status": "completed"
    },
    "tags": []
   },
   "outputs": [
    {
     "name": "stdout",
     "output_type": "stream",
     "text": [
      "(1295, 2)\n"
     ]
    },
    {
     "data": {
      "text/html": [
       "<div>\n",
       "<style scoped>\n",
       "    .dataframe tbody tr th:only-of-type {\n",
       "        vertical-align: middle;\n",
       "    }\n",
       "\n",
       "    .dataframe tbody tr th {\n",
       "        vertical-align: top;\n",
       "    }\n",
       "\n",
       "    .dataframe thead th {\n",
       "        text-align: right;\n",
       "    }\n",
       "</style>\n",
       "<table border=\"1\" class=\"dataframe\">\n",
       "  <thead>\n",
       "    <tr style=\"text-align: right;\">\n",
       "      <th></th>\n",
       "      <th>Date</th>\n",
       "      <th>Close</th>\n",
       "    </tr>\n",
       "  </thead>\n",
       "  <tbody>\n",
       "    <tr>\n",
       "      <th>0</th>\n",
       "      <td>2019-04-28</td>\n",
       "      <td>0.004421</td>\n",
       "    </tr>\n",
       "    <tr>\n",
       "      <th>1</th>\n",
       "      <td>2019-04-29</td>\n",
       "      <td>0.003471</td>\n",
       "    </tr>\n",
       "    <tr>\n",
       "      <th>2</th>\n",
       "      <td>2019-04-30</td>\n",
       "      <td>0.004478</td>\n",
       "    </tr>\n",
       "    <tr>\n",
       "      <th>3</th>\n",
       "      <td>2019-05-01</td>\n",
       "      <td>0.004374</td>\n",
       "    </tr>\n",
       "    <tr>\n",
       "      <th>4</th>\n",
       "      <td>2019-05-02</td>\n",
       "      <td>0.004198</td>\n",
       "    </tr>\n",
       "  </tbody>\n",
       "</table>\n",
       "</div>"
      ],
      "text/plain": [
       "        Date     Close\n",
       "0 2019-04-28  0.004421\n",
       "1 2019-04-29  0.003471\n",
       "2 2019-04-30  0.004478\n",
       "3 2019-05-01  0.004374\n",
       "4 2019-05-02  0.004198"
      ]
     },
     "execution_count": 31,
     "metadata": {},
     "output_type": "execute_result"
    }
   ],
   "source": [
    "closed_matic = matic[['Date', 'Close']]\n",
    "print(closed_matic.shape)\n",
    "closed_matic.head()"
   ]
  },
  {
   "cell_type": "code",
   "execution_count": 32,
   "id": "cc3162d2",
   "metadata": {
    "execution": {
     "iopub.execute_input": "2023-03-13T11:31:13.621017Z",
     "iopub.status.busy": "2023-03-13T11:31:13.620123Z",
     "iopub.status.idle": "2023-03-13T11:31:13.788783Z",
     "shell.execute_reply": "2023-03-13T11:31:13.787385Z"
    },
    "id": "HyQGOCZOYkzh",
    "outputId": "a425981f-1c24-4b78-d2b6-a4c19aabdae8",
    "papermill": {
     "duration": 0.19898,
     "end_time": "2023-03-13T11:31:13.791433",
     "exception": false,
     "start_time": "2023-03-13T11:31:13.592453",
     "status": "completed"
    },
    "tags": []
   },
   "outputs": [
    {
     "data": {
      "text/html": [
       "<div>                            <div id=\"b29ec0ed-f405-4df3-8d7d-082da41bdec9\" class=\"plotly-graph-div\" style=\"height:525px; width:100%;\"></div>            <script type=\"text/javascript\">                require([\"plotly\"], function(Plotly) {                    window.PLOTLYENV=window.PLOTLYENV || {};                                    if (document.getElementById(\"b29ec0ed-f405-4df3-8d7d-082da41bdec9\")) {                    Plotly.newPlot(                        \"b29ec0ed-f405-4df3-8d7d-082da41bdec9\",                        [{\"hovertemplate\":\"Date=%{x}<br>Close=%{y}<extra></extra>\",\"legendgroup\":\"\",\"line\":{\"color\":\"#636efa\",\"dash\":\"solid\"},\"marker\":{\"symbol\":\"circle\",\"line\":{\"width\":2}},\"mode\":\"lines\",\"name\":\"\",\"showlegend\":false,\"x\":[\"2019-04-28T00:00:00\",\"2019-04-29T00:00:00\",\"2019-04-30T00:00:00\",\"2019-05-01T00:00:00\",\"2019-05-02T00:00:00\",\"2019-05-03T00:00:00\",\"2019-05-04T00:00:00\",\"2019-05-05T00:00:00\",\"2019-05-06T00:00:00\",\"2019-05-07T00:00:00\",\"2019-05-08T00:00:00\",\"2019-05-09T00:00:00\",\"2019-05-10T00:00:00\",\"2019-05-11T00:00:00\",\"2019-05-12T00:00:00\",\"2019-05-13T00:00:00\",\"2019-05-14T00:00:00\",\"2019-05-15T00:00:00\",\"2019-05-16T00:00:00\",\"2019-05-17T00:00:00\",\"2019-05-18T00:00:00\",\"2019-05-19T00:00:00\",\"2019-05-20T00:00:00\",\"2019-05-21T00:00:00\",\"2019-05-22T00:00:00\",\"2019-05-23T00:00:00\",\"2019-05-24T00:00:00\",\"2019-05-25T00:00:00\",\"2019-05-26T00:00:00\",\"2019-05-27T00:00:00\",\"2019-05-28T00:00:00\",\"2019-05-29T00:00:00\",\"2019-05-30T00:00:00\",\"2019-05-31T00:00:00\",\"2019-06-01T00:00:00\",\"2019-06-02T00:00:00\",\"2019-06-03T00:00:00\",\"2019-06-04T00:00:00\",\"2019-06-05T00:00:00\",\"2019-06-06T00:00:00\",\"2019-06-07T00:00:00\",\"2019-06-08T00:00:00\",\"2019-06-09T00:00:00\",\"2019-06-10T00:00:00\",\"2019-06-11T00:00:00\",\"2019-06-12T00:00:00\",\"2019-06-13T00:00:00\",\"2019-06-14T00:00:00\",\"2019-06-15T00:00:00\",\"2019-06-16T00:00:00\",\"2019-06-17T00:00:00\",\"2019-06-18T00:00:00\",\"2019-06-19T00:00:00\",\"2019-06-20T00:00:00\",\"2019-06-21T00:00:00\",\"2019-06-22T00:00:00\",\"2019-06-23T00:00:00\",\"2019-06-24T00:00:00\",\"2019-06-25T00:00:00\",\"2019-06-26T00:00:00\",\"2019-06-27T00:00:00\",\"2019-06-28T00:00:00\",\"2019-06-29T00:00:00\",\"2019-06-30T00:00:00\",\"2019-07-01T00:00:00\",\"2019-07-02T00:00:00\",\"2019-07-03T00:00:00\",\"2019-07-04T00:00:00\",\"2019-07-05T00:00:00\",\"2019-07-06T00:00:00\",\"2019-07-07T00:00:00\",\"2019-07-08T00:00:00\",\"2019-07-09T00:00:00\",\"2019-07-10T00:00:00\",\"2019-07-11T00:00:00\",\"2019-07-12T00:00:00\",\"2019-07-13T00:00:00\",\"2019-07-14T00:00:00\",\"2019-07-15T00:00:00\",\"2019-07-16T00:00:00\",\"2019-07-17T00:00:00\",\"2019-07-18T00:00:00\",\"2019-07-19T00:00:00\",\"2019-07-20T00:00:00\",\"2019-07-21T00:00:00\",\"2019-07-22T00:00:00\",\"2019-07-23T00:00:00\",\"2019-07-24T00:00:00\",\"2019-07-25T00:00:00\",\"2019-07-26T00:00:00\",\"2019-07-27T00:00:00\",\"2019-07-28T00:00:00\",\"2019-07-29T00:00:00\",\"2019-07-30T00:00:00\",\"2019-07-31T00:00:00\",\"2019-08-01T00:00:00\",\"2019-08-02T00:00:00\",\"2019-08-03T00:00:00\",\"2019-08-04T00:00:00\",\"2019-08-05T00:00:00\",\"2019-08-06T00:00:00\",\"2019-08-07T00:00:00\",\"2019-08-08T00:00:00\",\"2019-08-09T00:00:00\",\"2019-08-10T00:00:00\",\"2019-08-11T00:00:00\",\"2019-08-12T00:00:00\",\"2019-08-13T00:00:00\",\"2019-08-14T00:00:00\",\"2019-08-15T00:00:00\",\"2019-08-16T00:00:00\",\"2019-08-17T00:00:00\",\"2019-08-18T00:00:00\",\"2019-08-19T00:00:00\",\"2019-08-20T00:00:00\",\"2019-08-21T00:00:00\",\"2019-08-22T00:00:00\",\"2019-08-23T00:00:00\",\"2019-08-24T00:00:00\",\"2019-08-25T00:00:00\",\"2019-08-26T00:00:00\",\"2019-08-27T00:00:00\",\"2019-08-28T00:00:00\",\"2019-08-29T00:00:00\",\"2019-08-30T00:00:00\",\"2019-08-31T00:00:00\",\"2019-09-01T00:00:00\",\"2019-09-02T00:00:00\",\"2019-09-03T00:00:00\",\"2019-09-04T00:00:00\",\"2019-09-05T00:00:00\",\"2019-09-06T00:00:00\",\"2019-09-07T00:00:00\",\"2019-09-08T00:00:00\",\"2019-09-09T00:00:00\",\"2019-09-10T00:00:00\",\"2019-09-11T00:00:00\",\"2019-09-12T00:00:00\",\"2019-09-13T00:00:00\",\"2019-09-14T00:00:00\",\"2019-09-15T00:00:00\",\"2019-09-16T00:00:00\",\"2019-09-17T00:00:00\",\"2019-09-18T00:00:00\",\"2019-09-19T00:00:00\",\"2019-09-20T00:00:00\",\"2019-09-21T00:00:00\",\"2019-09-22T00:00:00\",\"2019-09-23T00:00:00\",\"2019-09-24T00:00:00\",\"2019-09-25T00:00:00\",\"2019-09-26T00:00:00\",\"2019-09-27T00:00:00\",\"2019-09-28T00:00:00\",\"2019-09-29T00:00:00\",\"2019-09-30T00:00:00\",\"2019-10-01T00:00:00\",\"2019-10-02T00:00:00\",\"2019-10-03T00:00:00\",\"2019-10-04T00:00:00\",\"2019-10-05T00:00:00\",\"2019-10-06T00:00:00\",\"2019-10-07T00:00:00\",\"2019-10-08T00:00:00\",\"2019-10-09T00:00:00\",\"2019-10-10T00:00:00\",\"2019-10-11T00:00:00\",\"2019-10-12T00:00:00\",\"2019-10-13T00:00:00\",\"2019-10-14T00:00:00\",\"2019-10-15T00:00:00\",\"2019-10-16T00:00:00\",\"2019-10-17T00:00:00\",\"2019-10-18T00:00:00\",\"2019-10-19T00:00:00\",\"2019-10-20T00:00:00\",\"2019-10-21T00:00:00\",\"2019-10-22T00:00:00\",\"2019-10-23T00:00:00\",\"2019-10-24T00:00:00\",\"2019-10-25T00:00:00\",\"2019-10-26T00:00:00\",\"2019-10-27T00:00:00\",\"2019-10-28T00:00:00\",\"2019-10-29T00:00:00\",\"2019-10-30T00:00:00\",\"2019-10-31T00:00:00\",\"2019-11-01T00:00:00\",\"2019-11-02T00:00:00\",\"2019-11-03T00:00:00\",\"2019-11-04T00:00:00\",\"2019-11-05T00:00:00\",\"2019-11-06T00:00:00\",\"2019-11-07T00:00:00\",\"2019-11-08T00:00:00\",\"2019-11-09T00:00:00\",\"2019-11-10T00:00:00\",\"2019-11-11T00:00:00\",\"2019-11-12T00:00:00\",\"2019-11-13T00:00:00\",\"2019-11-14T00:00:00\",\"2019-11-15T00:00:00\",\"2019-11-16T00:00:00\",\"2019-11-17T00:00:00\",\"2019-11-18T00:00:00\",\"2019-11-19T00:00:00\",\"2019-11-20T00:00:00\",\"2019-11-21T00:00:00\",\"2019-11-22T00:00:00\",\"2019-11-23T00:00:00\",\"2019-11-24T00:00:00\",\"2019-11-25T00:00:00\",\"2019-11-26T00:00:00\",\"2019-11-27T00:00:00\",\"2019-11-28T00:00:00\",\"2019-11-29T00:00:00\",\"2019-11-30T00:00:00\",\"2019-12-01T00:00:00\",\"2019-12-02T00:00:00\",\"2019-12-03T00:00:00\",\"2019-12-04T00:00:00\",\"2019-12-05T00:00:00\",\"2019-12-06T00:00:00\",\"2019-12-07T00:00:00\",\"2019-12-08T00:00:00\",\"2019-12-09T00:00:00\",\"2019-12-10T00:00:00\",\"2019-12-11T00:00:00\",\"2019-12-12T00:00:00\",\"2019-12-13T00:00:00\",\"2019-12-14T00:00:00\",\"2019-12-15T00:00:00\",\"2019-12-16T00:00:00\",\"2019-12-17T00:00:00\",\"2019-12-18T00:00:00\",\"2019-12-19T00:00:00\",\"2019-12-20T00:00:00\",\"2019-12-21T00:00:00\",\"2019-12-22T00:00:00\",\"2019-12-23T00:00:00\",\"2019-12-24T00:00:00\",\"2019-12-25T00:00:00\",\"2019-12-26T00:00:00\",\"2019-12-27T00:00:00\",\"2019-12-28T00:00:00\",\"2019-12-29T00:00:00\",\"2019-12-30T00:00:00\",\"2019-12-31T00:00:00\",\"2020-01-01T00:00:00\",\"2020-01-02T00:00:00\",\"2020-01-03T00:00:00\",\"2020-01-04T00:00:00\",\"2020-01-05T00:00:00\",\"2020-01-06T00:00:00\",\"2020-01-07T00:00:00\",\"2020-01-08T00:00:00\",\"2020-01-09T00:00:00\",\"2020-01-10T00:00:00\",\"2020-01-11T00:00:00\",\"2020-01-12T00:00:00\",\"2020-01-13T00:00:00\",\"2020-01-14T00:00:00\",\"2020-01-15T00:00:00\",\"2020-01-16T00:00:00\",\"2020-01-17T00:00:00\",\"2020-01-18T00:00:00\",\"2020-01-19T00:00:00\",\"2020-01-20T00:00:00\",\"2020-01-21T00:00:00\",\"2020-01-22T00:00:00\",\"2020-01-23T00:00:00\",\"2020-01-24T00:00:00\",\"2020-01-25T00:00:00\",\"2020-01-26T00:00:00\",\"2020-01-27T00:00:00\",\"2020-01-28T00:00:00\",\"2020-01-29T00:00:00\",\"2020-01-30T00:00:00\",\"2020-01-31T00:00:00\",\"2020-02-01T00:00:00\",\"2020-02-02T00:00:00\",\"2020-02-03T00:00:00\",\"2020-02-04T00:00:00\",\"2020-02-05T00:00:00\",\"2020-02-06T00:00:00\",\"2020-02-07T00:00:00\",\"2020-02-08T00:00:00\",\"2020-02-09T00:00:00\",\"2020-02-10T00:00:00\",\"2020-02-11T00:00:00\",\"2020-02-12T00:00:00\",\"2020-02-13T00:00:00\",\"2020-02-14T00:00:00\",\"2020-02-15T00:00:00\",\"2020-02-16T00:00:00\",\"2020-02-17T00:00:00\",\"2020-02-18T00:00:00\",\"2020-02-19T00:00:00\",\"2020-02-20T00:00:00\",\"2020-02-21T00:00:00\",\"2020-02-22T00:00:00\",\"2020-02-23T00:00:00\",\"2020-02-24T00:00:00\",\"2020-02-25T00:00:00\",\"2020-02-26T00:00:00\",\"2020-02-27T00:00:00\",\"2020-02-28T00:00:00\",\"2020-02-29T00:00:00\",\"2020-03-01T00:00:00\",\"2020-03-02T00:00:00\",\"2020-03-03T00:00:00\",\"2020-03-04T00:00:00\",\"2020-03-05T00:00:00\",\"2020-03-06T00:00:00\",\"2020-03-07T00:00:00\",\"2020-03-08T00:00:00\",\"2020-03-09T00:00:00\",\"2020-03-10T00:00:00\",\"2020-03-11T00:00:00\",\"2020-03-12T00:00:00\",\"2020-03-13T00:00:00\",\"2020-03-14T00:00:00\",\"2020-03-15T00:00:00\",\"2020-03-16T00:00:00\",\"2020-03-17T00:00:00\",\"2020-03-18T00:00:00\",\"2020-03-19T00:00:00\",\"2020-03-20T00:00:00\",\"2020-03-21T00:00:00\",\"2020-03-22T00:00:00\",\"2020-03-23T00:00:00\",\"2020-03-24T00:00:00\",\"2020-03-25T00:00:00\",\"2020-03-26T00:00:00\",\"2020-03-27T00:00:00\",\"2020-03-28T00:00:00\",\"2020-03-29T00:00:00\",\"2020-03-30T00:00:00\",\"2020-03-31T00:00:00\",\"2020-04-01T00:00:00\",\"2020-04-02T00:00:00\",\"2020-04-03T00:00:00\",\"2020-04-04T00:00:00\",\"2020-04-05T00:00:00\",\"2020-04-06T00:00:00\",\"2020-04-07T00:00:00\",\"2020-04-08T00:00:00\",\"2020-04-09T00:00:00\",\"2020-04-10T00:00:00\",\"2020-04-11T00:00:00\",\"2020-04-12T00:00:00\",\"2020-04-13T00:00:00\",\"2020-04-14T00:00:00\",\"2020-04-15T00:00:00\",\"2020-04-16T00:00:00\",\"2020-04-17T00:00:00\",\"2020-04-18T00:00:00\",\"2020-04-19T00:00:00\",\"2020-04-20T00:00:00\",\"2020-04-21T00:00:00\",\"2020-04-22T00:00:00\",\"2020-04-23T00:00:00\",\"2020-04-24T00:00:00\",\"2020-04-25T00:00:00\",\"2020-04-26T00:00:00\",\"2020-04-27T00:00:00\",\"2020-04-28T00:00:00\",\"2020-04-29T00:00:00\",\"2020-04-30T00:00:00\",\"2020-05-01T00:00:00\",\"2020-05-02T00:00:00\",\"2020-05-03T00:00:00\",\"2020-05-04T00:00:00\",\"2020-05-05T00:00:00\",\"2020-05-06T00:00:00\",\"2020-05-07T00:00:00\",\"2020-05-08T00:00:00\",\"2020-05-09T00:00:00\",\"2020-05-10T00:00:00\",\"2020-05-11T00:00:00\",\"2020-05-12T00:00:00\",\"2020-05-13T00:00:00\",\"2020-05-14T00:00:00\",\"2020-05-15T00:00:00\",\"2020-05-16T00:00:00\",\"2020-05-17T00:00:00\",\"2020-05-18T00:00:00\",\"2020-05-19T00:00:00\",\"2020-05-20T00:00:00\",\"2020-05-21T00:00:00\",\"2020-05-22T00:00:00\",\"2020-05-23T00:00:00\",\"2020-05-24T00:00:00\",\"2020-05-25T00:00:00\",\"2020-05-26T00:00:00\",\"2020-05-27T00:00:00\",\"2020-05-28T00:00:00\",\"2020-05-29T00:00:00\",\"2020-05-30T00:00:00\",\"2020-05-31T00:00:00\",\"2020-06-01T00:00:00\",\"2020-06-02T00:00:00\",\"2020-06-03T00:00:00\",\"2020-06-04T00:00:00\",\"2020-06-05T00:00:00\",\"2020-06-06T00:00:00\",\"2020-06-07T00:00:00\",\"2020-06-08T00:00:00\",\"2020-06-09T00:00:00\",\"2020-06-10T00:00:00\",\"2020-06-11T00:00:00\",\"2020-06-12T00:00:00\",\"2020-06-13T00:00:00\",\"2020-06-14T00:00:00\",\"2020-06-15T00:00:00\",\"2020-06-16T00:00:00\",\"2020-06-17T00:00:00\",\"2020-06-18T00:00:00\",\"2020-06-19T00:00:00\",\"2020-06-20T00:00:00\",\"2020-06-21T00:00:00\",\"2020-06-22T00:00:00\",\"2020-06-23T00:00:00\",\"2020-06-24T00:00:00\",\"2020-06-25T00:00:00\",\"2020-06-26T00:00:00\",\"2020-06-27T00:00:00\",\"2020-06-28T00:00:00\",\"2020-06-29T00:00:00\",\"2020-06-30T00:00:00\",\"2020-07-01T00:00:00\",\"2020-07-02T00:00:00\",\"2020-07-03T00:00:00\",\"2020-07-04T00:00:00\",\"2020-07-05T00:00:00\",\"2020-07-06T00:00:00\",\"2020-07-07T00:00:00\",\"2020-07-08T00:00:00\",\"2020-07-09T00:00:00\",\"2020-07-10T00:00:00\",\"2020-07-11T00:00:00\",\"2020-07-12T00:00:00\",\"2020-07-13T00:00:00\",\"2020-07-14T00:00:00\",\"2020-07-15T00:00:00\",\"2020-07-16T00:00:00\",\"2020-07-17T00:00:00\",\"2020-07-18T00:00:00\",\"2020-07-19T00:00:00\",\"2020-07-20T00:00:00\",\"2020-07-21T00:00:00\",\"2020-07-22T00:00:00\",\"2020-07-23T00:00:00\",\"2020-07-24T00:00:00\",\"2020-07-25T00:00:00\",\"2020-07-26T00:00:00\",\"2020-07-27T00:00:00\",\"2020-07-28T00:00:00\",\"2020-07-29T00:00:00\",\"2020-07-30T00:00:00\",\"2020-07-31T00:00:00\",\"2020-08-01T00:00:00\",\"2020-08-02T00:00:00\",\"2020-08-03T00:00:00\",\"2020-08-04T00:00:00\",\"2020-08-05T00:00:00\",\"2020-08-06T00:00:00\",\"2020-08-07T00:00:00\",\"2020-08-08T00:00:00\",\"2020-08-09T00:00:00\",\"2020-08-10T00:00:00\",\"2020-08-11T00:00:00\",\"2020-08-12T00:00:00\",\"2020-08-13T00:00:00\",\"2020-08-14T00:00:00\",\"2020-08-15T00:00:00\",\"2020-08-16T00:00:00\",\"2020-08-17T00:00:00\",\"2020-08-18T00:00:00\",\"2020-08-19T00:00:00\",\"2020-08-20T00:00:00\",\"2020-08-21T00:00:00\",\"2020-08-22T00:00:00\",\"2020-08-23T00:00:00\",\"2020-08-24T00:00:00\",\"2020-08-25T00:00:00\",\"2020-08-26T00:00:00\",\"2020-08-27T00:00:00\",\"2020-08-28T00:00:00\",\"2020-08-29T00:00:00\",\"2020-08-30T00:00:00\",\"2020-08-31T00:00:00\",\"2020-09-01T00:00:00\",\"2020-09-02T00:00:00\",\"2020-09-03T00:00:00\",\"2020-09-04T00:00:00\",\"2020-09-05T00:00:00\",\"2020-09-06T00:00:00\",\"2020-09-07T00:00:00\",\"2020-09-08T00:00:00\",\"2020-09-09T00:00:00\",\"2020-09-10T00:00:00\",\"2020-09-11T00:00:00\",\"2020-09-12T00:00:00\",\"2020-09-13T00:00:00\",\"2020-09-14T00:00:00\",\"2020-09-15T00:00:00\",\"2020-09-16T00:00:00\",\"2020-09-17T00:00:00\",\"2020-09-18T00:00:00\",\"2020-09-19T00:00:00\",\"2020-09-20T00:00:00\",\"2020-09-21T00:00:00\",\"2020-09-22T00:00:00\",\"2020-09-23T00:00:00\",\"2020-09-24T00:00:00\",\"2020-09-25T00:00:00\",\"2020-09-26T00:00:00\",\"2020-09-27T00:00:00\",\"2020-09-28T00:00:00\",\"2020-09-29T00:00:00\",\"2020-09-30T00:00:00\",\"2020-10-01T00:00:00\",\"2020-10-02T00:00:00\",\"2020-10-03T00:00:00\",\"2020-10-04T00:00:00\",\"2020-10-05T00:00:00\",\"2020-10-06T00:00:00\",\"2020-10-07T00:00:00\",\"2020-10-08T00:00:00\",\"2020-10-09T00:00:00\",\"2020-10-10T00:00:00\",\"2020-10-11T00:00:00\",\"2020-10-12T00:00:00\",\"2020-10-13T00:00:00\",\"2020-10-14T00:00:00\",\"2020-10-15T00:00:00\",\"2020-10-16T00:00:00\",\"2020-10-17T00:00:00\",\"2020-10-18T00:00:00\",\"2020-10-19T00:00:00\",\"2020-10-20T00:00:00\",\"2020-10-21T00:00:00\",\"2020-10-22T00:00:00\",\"2020-10-23T00:00:00\",\"2020-10-24T00:00:00\",\"2020-10-25T00:00:00\",\"2020-10-26T00:00:00\",\"2020-10-27T00:00:00\",\"2020-10-28T00:00:00\",\"2020-10-29T00:00:00\",\"2020-10-30T00:00:00\",\"2020-10-31T00:00:00\",\"2020-11-01T00:00:00\",\"2020-11-02T00:00:00\",\"2020-11-03T00:00:00\",\"2020-11-04T00:00:00\",\"2020-11-05T00:00:00\",\"2020-11-06T00:00:00\",\"2020-11-07T00:00:00\",\"2020-11-08T00:00:00\",\"2020-11-09T00:00:00\",\"2020-11-10T00:00:00\",\"2020-11-11T00:00:00\",\"2020-11-12T00:00:00\",\"2020-11-13T00:00:00\",\"2020-11-14T00:00:00\",\"2020-11-15T00:00:00\",\"2020-11-16T00:00:00\",\"2020-11-17T00:00:00\",\"2020-11-18T00:00:00\",\"2020-11-19T00:00:00\",\"2020-11-20T00:00:00\",\"2020-11-21T00:00:00\",\"2020-11-22T00:00:00\",\"2020-11-23T00:00:00\",\"2020-11-24T00:00:00\",\"2020-11-25T00:00:00\",\"2020-11-26T00:00:00\",\"2020-11-27T00:00:00\",\"2020-11-28T00:00:00\",\"2020-11-29T00:00:00\",\"2020-11-30T00:00:00\",\"2020-12-01T00:00:00\",\"2020-12-02T00:00:00\",\"2020-12-03T00:00:00\",\"2020-12-04T00:00:00\",\"2020-12-05T00:00:00\",\"2020-12-06T00:00:00\",\"2020-12-07T00:00:00\",\"2020-12-08T00:00:00\",\"2020-12-09T00:00:00\",\"2020-12-10T00:00:00\",\"2020-12-11T00:00:00\",\"2020-12-12T00:00:00\",\"2020-12-13T00:00:00\",\"2020-12-14T00:00:00\",\"2020-12-15T00:00:00\",\"2020-12-16T00:00:00\",\"2020-12-17T00:00:00\",\"2020-12-18T00:00:00\",\"2020-12-19T00:00:00\",\"2020-12-20T00:00:00\",\"2020-12-21T00:00:00\",\"2020-12-22T00:00:00\",\"2020-12-23T00:00:00\",\"2020-12-24T00:00:00\",\"2020-12-25T00:00:00\",\"2020-12-26T00:00:00\",\"2020-12-27T00:00:00\",\"2020-12-28T00:00:00\",\"2020-12-29T00:00:00\",\"2020-12-30T00:00:00\",\"2020-12-31T00:00:00\",\"2021-01-01T00:00:00\",\"2021-01-02T00:00:00\",\"2021-01-03T00:00:00\",\"2021-01-04T00:00:00\",\"2021-01-05T00:00:00\",\"2021-01-06T00:00:00\",\"2021-01-07T00:00:00\",\"2021-01-08T00:00:00\",\"2021-01-09T00:00:00\",\"2021-01-10T00:00:00\",\"2021-01-11T00:00:00\",\"2021-01-12T00:00:00\",\"2021-01-13T00:00:00\",\"2021-01-14T00:00:00\",\"2021-01-15T00:00:00\",\"2021-01-16T00:00:00\",\"2021-01-17T00:00:00\",\"2021-01-18T00:00:00\",\"2021-01-19T00:00:00\",\"2021-01-20T00:00:00\",\"2021-01-21T00:00:00\",\"2021-01-22T00:00:00\",\"2021-01-23T00:00:00\",\"2021-01-24T00:00:00\",\"2021-01-25T00:00:00\",\"2021-01-26T00:00:00\",\"2021-01-27T00:00:00\",\"2021-01-28T00:00:00\",\"2021-01-29T00:00:00\",\"2021-01-30T00:00:00\",\"2021-01-31T00:00:00\",\"2021-02-01T00:00:00\",\"2021-02-02T00:00:00\",\"2021-02-03T00:00:00\",\"2021-02-04T00:00:00\",\"2021-02-05T00:00:00\",\"2021-02-06T00:00:00\",\"2021-02-07T00:00:00\",\"2021-02-08T00:00:00\",\"2021-02-09T00:00:00\",\"2021-02-10T00:00:00\",\"2021-02-11T00:00:00\",\"2021-02-12T00:00:00\",\"2021-02-13T00:00:00\",\"2021-02-14T00:00:00\",\"2021-02-15T00:00:00\",\"2021-02-16T00:00:00\",\"2021-02-17T00:00:00\",\"2021-02-18T00:00:00\",\"2021-02-19T00:00:00\",\"2021-02-20T00:00:00\",\"2021-02-21T00:00:00\",\"2021-02-22T00:00:00\",\"2021-02-23T00:00:00\",\"2021-02-24T00:00:00\",\"2021-02-25T00:00:00\",\"2021-02-26T00:00:00\",\"2021-02-27T00:00:00\",\"2021-02-28T00:00:00\",\"2021-03-01T00:00:00\",\"2021-03-02T00:00:00\",\"2021-03-03T00:00:00\",\"2021-03-04T00:00:00\",\"2021-03-05T00:00:00\",\"2021-03-06T00:00:00\",\"2021-03-07T00:00:00\",\"2021-03-08T00:00:00\",\"2021-03-09T00:00:00\",\"2021-03-10T00:00:00\",\"2021-03-11T00:00:00\",\"2021-03-12T00:00:00\",\"2021-03-13T00:00:00\",\"2021-03-14T00:00:00\",\"2021-03-15T00:00:00\",\"2021-03-16T00:00:00\",\"2021-03-17T00:00:00\",\"2021-03-18T00:00:00\",\"2021-03-19T00:00:00\",\"2021-03-20T00:00:00\",\"2021-03-21T00:00:00\",\"2021-03-22T00:00:00\",\"2021-03-23T00:00:00\",\"2021-03-24T00:00:00\",\"2021-03-25T00:00:00\",\"2021-03-26T00:00:00\",\"2021-03-27T00:00:00\",\"2021-03-28T00:00:00\",\"2021-03-29T00:00:00\",\"2021-03-30T00:00:00\",\"2021-03-31T00:00:00\",\"2021-04-01T00:00:00\",\"2021-04-02T00:00:00\",\"2021-04-03T00:00:00\",\"2021-04-04T00:00:00\",\"2021-04-05T00:00:00\",\"2021-04-06T00:00:00\",\"2021-04-07T00:00:00\",\"2021-04-08T00:00:00\",\"2021-04-09T00:00:00\",\"2021-04-10T00:00:00\",\"2021-04-11T00:00:00\",\"2021-04-12T00:00:00\",\"2021-04-13T00:00:00\",\"2021-04-14T00:00:00\",\"2021-04-15T00:00:00\",\"2021-04-16T00:00:00\",\"2021-04-17T00:00:00\",\"2021-04-18T00:00:00\",\"2021-04-19T00:00:00\",\"2021-04-20T00:00:00\",\"2021-04-21T00:00:00\",\"2021-04-22T00:00:00\",\"2021-04-23T00:00:00\",\"2021-04-24T00:00:00\",\"2021-04-25T00:00:00\",\"2021-04-26T00:00:00\",\"2021-04-27T00:00:00\",\"2021-04-28T00:00:00\",\"2021-04-29T00:00:00\",\"2021-04-30T00:00:00\",\"2021-05-01T00:00:00\",\"2021-05-02T00:00:00\",\"2021-05-03T00:00:00\",\"2021-05-04T00:00:00\",\"2021-05-05T00:00:00\",\"2021-05-06T00:00:00\",\"2021-05-07T00:00:00\",\"2021-05-08T00:00:00\",\"2021-05-09T00:00:00\",\"2021-05-10T00:00:00\",\"2021-05-11T00:00:00\",\"2021-05-12T00:00:00\",\"2021-05-13T00:00:00\",\"2021-05-14T00:00:00\",\"2021-05-15T00:00:00\",\"2021-05-16T00:00:00\",\"2021-05-17T00:00:00\",\"2021-05-18T00:00:00\",\"2021-05-19T00:00:00\",\"2021-05-20T00:00:00\",\"2021-05-21T00:00:00\",\"2021-05-22T00:00:00\",\"2021-05-23T00:00:00\",\"2021-05-24T00:00:00\",\"2021-05-25T00:00:00\",\"2021-05-26T00:00:00\",\"2021-05-27T00:00:00\",\"2021-05-28T00:00:00\",\"2021-05-29T00:00:00\",\"2021-05-30T00:00:00\",\"2021-05-31T00:00:00\",\"2021-06-01T00:00:00\",\"2021-06-02T00:00:00\",\"2021-06-03T00:00:00\",\"2021-06-04T00:00:00\",\"2021-06-05T00:00:00\",\"2021-06-06T00:00:00\",\"2021-06-07T00:00:00\",\"2021-06-08T00:00:00\",\"2021-06-09T00:00:00\",\"2021-06-10T00:00:00\",\"2021-06-11T00:00:00\",\"2021-06-12T00:00:00\",\"2021-06-13T00:00:00\",\"2021-06-14T00:00:00\",\"2021-06-15T00:00:00\",\"2021-06-16T00:00:00\",\"2021-06-17T00:00:00\",\"2021-06-18T00:00:00\",\"2021-06-19T00:00:00\",\"2021-06-20T00:00:00\",\"2021-06-21T00:00:00\",\"2021-06-22T00:00:00\",\"2021-06-23T00:00:00\",\"2021-06-24T00:00:00\",\"2021-06-25T00:00:00\",\"2021-06-26T00:00:00\",\"2021-06-27T00:00:00\",\"2021-06-28T00:00:00\",\"2021-06-29T00:00:00\",\"2021-06-30T00:00:00\",\"2021-07-01T00:00:00\",\"2021-07-02T00:00:00\",\"2021-07-03T00:00:00\",\"2021-07-04T00:00:00\",\"2021-07-05T00:00:00\",\"2021-07-06T00:00:00\",\"2021-07-07T00:00:00\",\"2021-07-08T00:00:00\",\"2021-07-09T00:00:00\",\"2021-07-10T00:00:00\",\"2021-07-11T00:00:00\",\"2021-07-12T00:00:00\",\"2021-07-13T00:00:00\",\"2021-07-14T00:00:00\",\"2021-07-15T00:00:00\",\"2021-07-16T00:00:00\",\"2021-07-17T00:00:00\",\"2021-07-18T00:00:00\",\"2021-07-19T00:00:00\",\"2021-07-20T00:00:00\",\"2021-07-21T00:00:00\",\"2021-07-22T00:00:00\",\"2021-07-23T00:00:00\",\"2021-07-24T00:00:00\",\"2021-07-25T00:00:00\",\"2021-07-26T00:00:00\",\"2021-07-27T00:00:00\",\"2021-07-28T00:00:00\",\"2021-07-29T00:00:00\",\"2021-07-30T00:00:00\",\"2021-07-31T00:00:00\",\"2021-08-01T00:00:00\",\"2021-08-02T00:00:00\",\"2021-08-03T00:00:00\",\"2021-08-04T00:00:00\",\"2021-08-05T00:00:00\",\"2021-08-06T00:00:00\",\"2021-08-07T00:00:00\",\"2021-08-08T00:00:00\",\"2021-08-09T00:00:00\",\"2021-08-10T00:00:00\",\"2021-08-11T00:00:00\",\"2021-08-12T00:00:00\",\"2021-08-13T00:00:00\",\"2021-08-14T00:00:00\",\"2021-08-15T00:00:00\",\"2021-08-16T00:00:00\",\"2021-08-17T00:00:00\",\"2021-08-18T00:00:00\",\"2021-08-19T00:00:00\",\"2021-08-20T00:00:00\",\"2021-08-21T00:00:00\",\"2021-08-22T00:00:00\",\"2021-08-23T00:00:00\",\"2021-08-24T00:00:00\",\"2021-08-25T00:00:00\",\"2021-08-26T00:00:00\",\"2021-08-27T00:00:00\",\"2021-08-28T00:00:00\",\"2021-08-29T00:00:00\",\"2021-08-30T00:00:00\",\"2021-08-31T00:00:00\",\"2021-09-01T00:00:00\",\"2021-09-02T00:00:00\",\"2021-09-03T00:00:00\",\"2021-09-04T00:00:00\",\"2021-09-05T00:00:00\",\"2021-09-06T00:00:00\",\"2021-09-07T00:00:00\",\"2021-09-08T00:00:00\",\"2021-09-09T00:00:00\",\"2021-09-10T00:00:00\",\"2021-09-11T00:00:00\",\"2021-09-12T00:00:00\",\"2021-09-13T00:00:00\",\"2021-09-14T00:00:00\",\"2021-09-15T00:00:00\",\"2021-09-16T00:00:00\",\"2021-09-17T00:00:00\",\"2021-09-18T00:00:00\",\"2021-09-19T00:00:00\",\"2021-09-20T00:00:00\",\"2021-09-21T00:00:00\",\"2021-09-22T00:00:00\",\"2021-09-23T00:00:00\",\"2021-09-24T00:00:00\",\"2021-09-25T00:00:00\",\"2021-09-26T00:00:00\",\"2021-09-27T00:00:00\",\"2021-09-28T00:00:00\",\"2021-09-29T00:00:00\",\"2021-09-30T00:00:00\",\"2021-10-01T00:00:00\",\"2021-10-02T00:00:00\",\"2021-10-03T00:00:00\",\"2021-10-04T00:00:00\",\"2021-10-05T00:00:00\",\"2021-10-06T00:00:00\",\"2021-10-07T00:00:00\",\"2021-10-08T00:00:00\",\"2021-10-09T00:00:00\",\"2021-10-10T00:00:00\",\"2021-10-11T00:00:00\",\"2021-10-12T00:00:00\",\"2021-10-13T00:00:00\",\"2021-10-14T00:00:00\",\"2021-10-15T00:00:00\",\"2021-10-16T00:00:00\",\"2021-10-17T00:00:00\",\"2021-10-18T00:00:00\",\"2021-10-19T00:00:00\",\"2021-10-20T00:00:00\",\"2021-10-21T00:00:00\",\"2021-10-22T00:00:00\",\"2021-10-23T00:00:00\",\"2021-10-24T00:00:00\",\"2021-10-25T00:00:00\",\"2021-10-26T00:00:00\",\"2021-10-27T00:00:00\",\"2021-10-28T00:00:00\",\"2021-10-29T00:00:00\",\"2021-10-30T00:00:00\",\"2021-10-31T00:00:00\",\"2021-11-01T00:00:00\",\"2021-11-02T00:00:00\",\"2021-11-03T00:00:00\",\"2021-11-04T00:00:00\",\"2021-11-05T00:00:00\",\"2021-11-06T00:00:00\",\"2021-11-07T00:00:00\",\"2021-11-08T00:00:00\",\"2021-11-09T00:00:00\",\"2021-11-10T00:00:00\",\"2021-11-11T00:00:00\",\"2021-11-12T00:00:00\",\"2021-11-13T00:00:00\",\"2021-11-14T00:00:00\",\"2021-11-15T00:00:00\",\"2021-11-16T00:00:00\",\"2021-11-17T00:00:00\",\"2021-11-18T00:00:00\",\"2021-11-19T00:00:00\",\"2021-11-20T00:00:00\",\"2021-11-21T00:00:00\",\"2021-11-22T00:00:00\",\"2021-11-23T00:00:00\",\"2021-11-24T00:00:00\",\"2021-11-25T00:00:00\",\"2021-11-26T00:00:00\",\"2021-11-27T00:00:00\",\"2021-11-28T00:00:00\",\"2021-11-29T00:00:00\",\"2021-11-30T00:00:00\",\"2021-12-01T00:00:00\",\"2021-12-02T00:00:00\",\"2021-12-03T00:00:00\",\"2021-12-04T00:00:00\",\"2021-12-05T00:00:00\",\"2021-12-06T00:00:00\",\"2021-12-07T00:00:00\",\"2021-12-08T00:00:00\",\"2021-12-09T00:00:00\",\"2021-12-10T00:00:00\",\"2021-12-11T00:00:00\",\"2021-12-12T00:00:00\",\"2021-12-13T00:00:00\",\"2021-12-14T00:00:00\",\"2021-12-15T00:00:00\",\"2021-12-16T00:00:00\",\"2021-12-17T00:00:00\",\"2021-12-18T00:00:00\",\"2021-12-19T00:00:00\",\"2021-12-20T00:00:00\",\"2021-12-21T00:00:00\",\"2021-12-22T00:00:00\",\"2021-12-23T00:00:00\",\"2021-12-24T00:00:00\",\"2021-12-25T00:00:00\",\"2021-12-26T00:00:00\",\"2021-12-27T00:00:00\",\"2021-12-28T00:00:00\",\"2021-12-29T00:00:00\",\"2021-12-30T00:00:00\",\"2021-12-31T00:00:00\",\"2022-01-01T00:00:00\",\"2022-01-02T00:00:00\",\"2022-01-03T00:00:00\",\"2022-01-04T00:00:00\",\"2022-01-05T00:00:00\",\"2022-01-06T00:00:00\",\"2022-01-07T00:00:00\",\"2022-01-08T00:00:00\",\"2022-01-09T00:00:00\",\"2022-01-10T00:00:00\",\"2022-01-11T00:00:00\",\"2022-01-12T00:00:00\",\"2022-01-13T00:00:00\",\"2022-01-14T00:00:00\",\"2022-01-15T00:00:00\",\"2022-01-16T00:00:00\",\"2022-01-17T00:00:00\",\"2022-01-18T00:00:00\",\"2022-01-19T00:00:00\",\"2022-01-20T00:00:00\",\"2022-01-21T00:00:00\",\"2022-01-22T00:00:00\",\"2022-01-23T00:00:00\",\"2022-01-24T00:00:00\",\"2022-01-25T00:00:00\",\"2022-01-26T00:00:00\",\"2022-01-27T00:00:00\",\"2022-01-28T00:00:00\",\"2022-01-29T00:00:00\",\"2022-01-30T00:00:00\",\"2022-01-31T00:00:00\",\"2022-02-01T00:00:00\",\"2022-02-02T00:00:00\",\"2022-02-03T00:00:00\",\"2022-02-04T00:00:00\",\"2022-02-05T00:00:00\",\"2022-02-06T00:00:00\",\"2022-02-07T00:00:00\",\"2022-02-08T00:00:00\",\"2022-02-09T00:00:00\",\"2022-02-10T00:00:00\",\"2022-02-11T00:00:00\",\"2022-02-12T00:00:00\",\"2022-02-13T00:00:00\",\"2022-02-14T00:00:00\",\"2022-02-15T00:00:00\",\"2022-02-16T00:00:00\",\"2022-02-17T00:00:00\",\"2022-02-18T00:00:00\",\"2022-02-19T00:00:00\",\"2022-02-20T00:00:00\",\"2022-02-21T00:00:00\",\"2022-02-22T00:00:00\",\"2022-02-23T00:00:00\",\"2022-02-24T00:00:00\",\"2022-02-25T00:00:00\",\"2022-02-26T00:00:00\",\"2022-02-27T00:00:00\",\"2022-02-28T00:00:00\",\"2022-03-01T00:00:00\",\"2022-03-02T00:00:00\",\"2022-03-03T00:00:00\",\"2022-03-04T00:00:00\",\"2022-03-05T00:00:00\",\"2022-03-06T00:00:00\",\"2022-03-07T00:00:00\",\"2022-03-08T00:00:00\",\"2022-03-09T00:00:00\",\"2022-03-10T00:00:00\",\"2022-03-11T00:00:00\",\"2022-03-12T00:00:00\",\"2022-03-13T00:00:00\",\"2022-03-14T00:00:00\",\"2022-03-15T00:00:00\",\"2022-03-16T00:00:00\",\"2022-03-17T00:00:00\",\"2022-03-18T00:00:00\",\"2022-03-19T00:00:00\",\"2022-03-20T00:00:00\",\"2022-03-21T00:00:00\",\"2022-03-22T00:00:00\",\"2022-03-23T00:00:00\",\"2022-03-24T00:00:00\",\"2022-03-25T00:00:00\",\"2022-03-26T00:00:00\",\"2022-03-27T00:00:00\",\"2022-03-28T00:00:00\",\"2022-03-29T00:00:00\",\"2022-03-30T00:00:00\",\"2022-03-31T00:00:00\",\"2022-04-01T00:00:00\",\"2022-04-02T00:00:00\",\"2022-04-03T00:00:00\",\"2022-04-04T00:00:00\",\"2022-04-05T00:00:00\",\"2022-04-06T00:00:00\",\"2022-04-07T00:00:00\",\"2022-04-08T00:00:00\",\"2022-04-09T00:00:00\",\"2022-04-10T00:00:00\",\"2022-04-11T00:00:00\",\"2022-04-12T00:00:00\",\"2022-04-13T00:00:00\",\"2022-04-14T00:00:00\",\"2022-04-15T00:00:00\",\"2022-04-16T00:00:00\",\"2022-04-17T00:00:00\",\"2022-04-18T00:00:00\",\"2022-04-19T00:00:00\",\"2022-04-20T00:00:00\",\"2022-04-21T00:00:00\",\"2022-04-22T00:00:00\",\"2022-04-23T00:00:00\",\"2022-04-24T00:00:00\",\"2022-04-25T00:00:00\",\"2022-04-26T00:00:00\",\"2022-04-27T00:00:00\",\"2022-04-28T00:00:00\",\"2022-04-29T00:00:00\",\"2022-04-30T00:00:00\",\"2022-05-01T00:00:00\",\"2022-05-02T00:00:00\",\"2022-05-03T00:00:00\",\"2022-05-04T00:00:00\",\"2022-05-05T00:00:00\",\"2022-05-06T00:00:00\",\"2022-05-07T00:00:00\",\"2022-05-08T00:00:00\",\"2022-05-09T00:00:00\",\"2022-05-10T00:00:00\",\"2022-05-11T00:00:00\",\"2022-05-12T00:00:00\",\"2022-05-13T00:00:00\",\"2022-05-14T00:00:00\",\"2022-05-15T00:00:00\",\"2022-05-16T00:00:00\",\"2022-05-17T00:00:00\",\"2022-05-18T00:00:00\",\"2022-05-19T00:00:00\",\"2022-05-20T00:00:00\",\"2022-05-21T00:00:00\",\"2022-05-22T00:00:00\",\"2022-05-23T00:00:00\",\"2022-05-24T00:00:00\",\"2022-05-25T00:00:00\",\"2022-05-26T00:00:00\",\"2022-05-27T00:00:00\",\"2022-05-28T00:00:00\",\"2022-05-29T00:00:00\",\"2022-05-30T00:00:00\",\"2022-05-31T00:00:00\",\"2022-06-01T00:00:00\",\"2022-06-02T00:00:00\",\"2022-06-03T00:00:00\",\"2022-06-04T00:00:00\",\"2022-06-05T00:00:00\",\"2022-06-06T00:00:00\",\"2022-06-07T00:00:00\",\"2022-06-08T00:00:00\",\"2022-06-09T00:00:00\",\"2022-06-10T00:00:00\",\"2022-06-11T00:00:00\",\"2022-06-12T00:00:00\",\"2022-06-13T00:00:00\",\"2022-06-14T00:00:00\",\"2022-06-15T00:00:00\",\"2022-06-16T00:00:00\",\"2022-06-17T00:00:00\",\"2022-06-18T00:00:00\",\"2022-06-19T00:00:00\",\"2022-06-20T00:00:00\",\"2022-06-21T00:00:00\",\"2022-06-22T00:00:00\",\"2022-06-23T00:00:00\",\"2022-06-24T00:00:00\",\"2022-06-25T00:00:00\",\"2022-06-26T00:00:00\",\"2022-06-27T00:00:00\",\"2022-06-28T00:00:00\",\"2022-06-29T00:00:00\",\"2022-06-30T00:00:00\",\"2022-07-01T00:00:00\",\"2022-07-02T00:00:00\",\"2022-07-03T00:00:00\",\"2022-07-04T00:00:00\",\"2022-07-05T00:00:00\",\"2022-07-06T00:00:00\",\"2022-07-07T00:00:00\",\"2022-07-08T00:00:00\",\"2022-07-09T00:00:00\",\"2022-07-10T00:00:00\",\"2022-07-11T00:00:00\",\"2022-07-12T00:00:00\",\"2022-07-13T00:00:00\",\"2022-07-14T00:00:00\",\"2022-07-15T00:00:00\",\"2022-07-16T00:00:00\",\"2022-07-17T00:00:00\",\"2022-07-18T00:00:00\",\"2022-07-19T00:00:00\",\"2022-07-20T00:00:00\",\"2022-07-21T00:00:00\",\"2022-07-22T00:00:00\",\"2022-07-23T00:00:00\",\"2022-07-24T00:00:00\",\"2022-07-25T00:00:00\",\"2022-07-26T00:00:00\",\"2022-07-27T00:00:00\",\"2022-07-28T00:00:00\",\"2022-07-29T00:00:00\",\"2022-07-30T00:00:00\",\"2022-07-31T00:00:00\",\"2022-08-01T00:00:00\",\"2022-08-02T00:00:00\",\"2022-08-03T00:00:00\",\"2022-08-04T00:00:00\",\"2022-08-05T00:00:00\",\"2022-08-06T00:00:00\",\"2022-08-07T00:00:00\",\"2022-08-08T00:00:00\",\"2022-08-09T00:00:00\",\"2022-08-10T00:00:00\",\"2022-08-11T00:00:00\",\"2022-08-12T00:00:00\",\"2022-08-13T00:00:00\",\"2022-08-14T00:00:00\",\"2022-08-15T00:00:00\",\"2022-08-16T00:00:00\",\"2022-08-17T00:00:00\",\"2022-08-18T00:00:00\",\"2022-08-19T00:00:00\",\"2022-08-20T00:00:00\",\"2022-08-21T00:00:00\",\"2022-08-22T00:00:00\",\"2022-08-23T00:00:00\",\"2022-08-24T00:00:00\",\"2022-08-25T00:00:00\",\"2022-08-26T00:00:00\",\"2022-08-27T00:00:00\",\"2022-08-28T00:00:00\",\"2022-08-29T00:00:00\",\"2022-08-30T00:00:00\",\"2022-08-31T00:00:00\",\"2022-09-01T00:00:00\",\"2022-09-02T00:00:00\",\"2022-09-03T00:00:00\",\"2022-09-04T00:00:00\",\"2022-09-05T00:00:00\",\"2022-09-06T00:00:00\",\"2022-09-07T00:00:00\",\"2022-09-08T00:00:00\",\"2022-09-09T00:00:00\",\"2022-09-10T00:00:00\",\"2022-09-11T00:00:00\",\"2022-09-12T00:00:00\",\"2022-09-13T00:00:00\",\"2022-09-14T00:00:00\",\"2022-09-15T00:00:00\",\"2022-09-16T00:00:00\",\"2022-09-17T00:00:00\",\"2022-09-18T00:00:00\",\"2022-09-19T00:00:00\",\"2022-09-20T00:00:00\",\"2022-09-21T00:00:00\",\"2022-09-22T00:00:00\",\"2022-09-23T00:00:00\",\"2022-09-24T00:00:00\",\"2022-09-25T00:00:00\",\"2022-09-26T00:00:00\",\"2022-09-27T00:00:00\",\"2022-09-28T00:00:00\",\"2022-09-29T00:00:00\",\"2022-09-30T00:00:00\",\"2022-10-01T00:00:00\",\"2022-10-02T00:00:00\",\"2022-10-03T00:00:00\",\"2022-10-04T00:00:00\",\"2022-10-05T00:00:00\",\"2022-10-06T00:00:00\",\"2022-10-07T00:00:00\",\"2022-10-08T00:00:00\",\"2022-10-09T00:00:00\",\"2022-10-10T00:00:00\",\"2022-10-11T00:00:00\",\"2022-10-12T00:00:00\",\"2022-10-13T00:00:00\",\"2022-10-14T00:00:00\",\"2022-10-15T00:00:00\",\"2022-10-16T00:00:00\",\"2022-10-17T00:00:00\",\"2022-10-18T00:00:00\",\"2022-10-19T00:00:00\",\"2022-10-20T00:00:00\",\"2022-10-21T00:00:00\",\"2022-10-22T00:00:00\",\"2022-10-23T00:00:00\",\"2022-10-24T00:00:00\",\"2022-10-25T00:00:00\",\"2022-10-26T00:00:00\",\"2022-10-27T00:00:00\",\"2022-10-28T00:00:00\",\"2022-10-29T00:00:00\",\"2022-10-30T00:00:00\",\"2022-10-31T00:00:00\",\"2022-11-01T00:00:00\",\"2022-11-02T00:00:00\",\"2022-11-03T00:00:00\",\"2022-11-04T00:00:00\",\"2022-11-05T00:00:00\",\"2022-11-06T00:00:00\",\"2022-11-07T00:00:00\",\"2022-11-08T00:00:00\",\"2022-11-09T00:00:00\",\"2022-11-10T00:00:00\",\"2022-11-11T00:00:00\",\"2022-11-12T00:00:00\"],\"xaxis\":\"x\",\"y\":[0.0044209999032318,0.0034709998872131,0.0044780001044273,0.0043739997781813,0.0041979998350143,0.0042559998109936,0.003967999946326,0.0037469998933374,0.0037690000608563,0.0033640000037848,0.0033519999124109,0.0031409999355673,0.0037700000684708,0.0046080001629889,0.0052729998715221,0.0086669996380805,0.0077530001290142,0.0095119997859001,0.0109090004116296,0.0143529996275901,0.0122929997742176,0.0202309992164373,0.0293429996818304,0.0294540002942085,0.0221859999001026,0.0272729992866516,0.0253630001097917,0.0250020008534193,0.0243989992886781,0.0221730004996061,0.023641999810934,0.0221079997718334,0.0197930000722408,0.0222880002111196,0.0210590008646249,0.0201140008866786,0.0191130004823207,0.0212280005216598,0.0228620003908872,0.023726999759674,0.0245089996606111,0.0259060002863407,0.0254989992827177,0.0269750002771615,0.0237639993429183,0.023217000067234,0.023106999695301,0.0206460002809762,0.0218989998102188,0.022716000676155,0.0217509996145963,0.0224489998072385,0.0230880007147789,0.0224459990859031,0.0212260000407695,0.0218429993838071,0.0209880005568265,0.0206630006432533,0.0190539993345737,0.0178040005266666,0.0191820003092288,0.0191670004278421,0.0238000005483627,0.0219710003584623,0.0221570003777742,0.01999899931252,0.0192239992320537,0.018062999472022,0.0181690007448196,0.0176069997251033,0.0176660008728504,0.0167309995740652,0.0162359997630119,0.0161450002342462,0.01445799972862,0.0158179998397827,0.0166059993207454,0.0143139995634555,0.0138410003855824,0.0120379999279975,0.0132079999893903,0.0137059995904564,0.0134250000119209,0.0139720002189278,0.013430000282824,0.0127499997615814,0.0115000000223517,0.0120400004088878,0.0122239999473094,0.0127820000052452,0.0119519997388124,0.0117699997499585,0.0114200003445148,0.0115289995446801,0.0113740004599094,0.0106979999691247,0.0110590001568198,0.010687000118196,0.0102700004354119,0.0117929996922612,0.0153590003028512,0.0166459996253252,0.0143839996308088,0.0121969999745488,0.0149349998682737,0.0163930002599954,0.0169179998338222,0.0165059994906187,0.0146850002929568,0.0146120004355907,0.0133790001273155,0.0141489999368786,0.0139199998229742,0.0154659999534487,0.0157290007919073,0.0153780002146959,0.0167939998209476,0.0154659999534487,0.0148569997400045,0.013752999715507,0.0139319999143481,0.0142329996451735,0.0129460003226995,0.0117089999839663,0.0122969998046755,0.01184600032866,0.0122300004586577,0.0137149998918175,0.0143630001693964,0.0141510004177689,0.0148449996486306,0.0136529998853802,0.0139030003920197,0.013926999643445,0.0141589995473623,0.0135369999334216,0.0131149999797344,0.0129779996350407,0.0129639999940991,0.0131050003692507,0.0129129998385906,0.0129039995372295,0.013507000170648,0.0143560003489255,0.0137000000104308,0.0136630004271864,0.0133940000087022,0.0125590004026889,0.0122520001605153,0.0110769998282194,0.0110409995540976,0.010661999695003,0.0109519995748996,0.0112460004165768,0.0109390001744031,0.0108470004051923,0.0107310004532337,0.010852999985218,0.0106690004467964,0.0107159996405243,0.0105910003185272,0.0103890001773834,0.0109989996999502,0.0124390004202723,0.0143229998648166,0.016194999217987,0.0159970000386238,0.0156309995800256,0.0150210000574588,0.015255999751389,0.0144149996340274,0.0139420004561543,0.0142970001325011,0.0133670000359416,0.0138809997588396,0.0138729996979236,0.0149469999596476,0.0145709998905658,0.0132780000567436,0.0135939996689558,0.0143809998407959,0.0135469995439052,0.0140990000218153,0.0141279995441436,0.0140840001404285,0.0134720001369714,0.0136270001530647,0.0137830004096031,0.0136110000312328,0.0135730002075433,0.0143969999626278,0.014742000028491,0.0144999995827674,0.0151690002530813,0.0144210001453757,0.0148959998041391,0.0157580003142356,0.0153949996456503,0.0148790003731846,0.0149779999628663,0.0145319998264312,0.0138499997556209,0.014461999759078,0.0144260004162788,0.0141719998791813,0.0149630000814795,0.0144050000235438,0.0142480004578828,0.0140690002590417,0.0169040001928806,0.0153209995478391,0.0201779995113611,0.021994000300765,0.0245820004492998,0.0227850005030632,0.0246370006352663,0.0288949999958276,0.026427999138832,0.0263960007578134,0.0293230004608631,0.0321459993720054,0.0333230011165142,0.0415039993822574,0.039122000336647,0.0416759997606277,0.0355889983475208,0.0173979997634887,0.0178880002349615,0.0158099997788667,0.0160300005227327,0.0137019995599985,0.014291999861598,0.0133130000904202,0.0120679996907711,0.0127199999988079,0.0132320001721382,0.0156549997627735,0.0181889999657869,0.016194000840187,0.0151519998908042,0.0162540003657341,0.015786999836564,0.0156960003077983,0.0152979996055364,0.0149560002610087,0.0148000000044703,0.0143959997221827,0.0138069996610283,0.0149619998410344,0.0146509995684027,0.0151939997449517,0.0149609996005892,0.0149140004068613,0.0155870001763105,0.0151000004261732,0.0150060001760721,0.0146989999338984,0.0148529997095465,0.0148160001263022,0.0150089999660849,0.0155309997498989,0.0157309994101524,0.0163679998368024,0.0160770006477832,0.018818000331521,0.0175190009176731,0.0163969993591308,0.0168990008533,0.0171610005199909,0.0170869994908571,0.0159409996122121,0.0162540003657341,0.0160659998655319,0.016457000747323,0.0169099997729063,0.017255999147892,0.0171099994331598,0.0186449997127056,0.0179280005395412,0.0183310005813837,0.0191149991005659,0.0220860000699758,0.021128999069333,0.0214329995214939,0.0244590006768703,0.022962000221014,0.0211549997329711,0.0219199992716312,0.0216080006211996,0.0227979999035596,0.0228979997336864,0.0222520008683204,0.0232490003108978,0.0208320003002882,0.0201600007712841,0.0200559999793767,0.0215259995311498,0.0207129996269941,0.0206959992647171,0.02076300047338,0.0207959990948438,0.0222989991307258,0.0207299999892711,0.0191280003637075,0.0183819998055696,0.0196049995720386,0.0200270004570484,0.0203409995883703,0.0194509997963905,0.0212319996207952,0.0234760008752346,0.0250799991190433,0.0264289993792772,0.0248440001159906,0.0268270000815391,0.021493000909686,0.0204429998993873,0.0206179991364479,0.0189570002257823,0.0092829996719956,0.0107450000941753,0.00987199973315,0.0099259996786713,0.0080960001796484,0.0090889995917677,0.0088640004396438,0.0112579995766282,0.010831999592483,0.0111870002001523,0.0100570004433393,0.011115999892354,0.0112829999998211,0.0114449998363852,0.0118490001186728,0.0109890000894665,0.0106459995731711,0.0100940000265836,0.0107779996469616,0.0110430000349879,0.011281999759376,0.0115520004183053,0.0115780001506209,0.0117819998413324,0.0114540001377463,0.0133619997650384,0.0129060000181198,0.0137499999254941,0.0135469995439052,0.0120329996570944,0.0121879996731877,0.0123490002006292,0.0120059996843338,0.012160999700427,0.011629999615252,0.0126409996300935,0.0128269996494054,0.0133659997954964,0.0130110001191496,0.0121170002967119,0.0120700001716613,0.0127980001270771,0.0141759999096393,0.0147879999130964,0.0151350004598498,0.0156180001795291,0.0154609996825456,0.0157789997756481,0.0165560003370046,0.0155020002275705,0.0160220004618167,0.0169580001384019,0.0171329993754625,0.0170489996671676,0.0169959999620914,0.0172879993915557,0.0173969995230436,0.0179329998791217,0.0173039995133876,0.0153489997610449,0.0150809995830059,0.0169370006769895,0.0192399993538856,0.0199330002069473,0.0192750003188848,0.0199779998511075,0.0202750004827976,0.0206390004605054,0.0221599992364645,0.0208500009030103,0.0193009991198778,0.0204479992389678,0.0201900005340576,0.0195000004023313,0.0212730001658201,0.0258179996162652,0.0243710000067949,0.025152999907732,0.0259329993277788,0.0240470003336668,0.0205249991267919,0.0218119993805885,0.0207809992134571,0.0216729994863271,0.0217339992523193,0.0206979997456073,0.0206300001591444,0.0203579999506473,0.0202990006655454,0.0202389992773532,0.0213079992681741,0.0197230000048875,0.0204819999635219,0.0206569992005825,0.0206460002809762,0.0204470008611679,0.0206039994955062,0.0207349993288517,0.0204700008034706,0.0201069992035627,0.0226119998842477,0.0214060004800558,0.0220689997076988,0.0226889997720718,0.0223389994353055,0.0215910002589225,0.0208080001175403,0.0194359999150037,0.0200939998030662,0.0196870006620883,0.0189900007098913,0.0187309999018907,0.0191050004214048,0.0192300006747245,0.0194969996809959,0.0190670005977153,0.0199299994856119,0.0200999993830919,0.0216339994221925,0.0206979997456073,0.0211309995502233,0.0212999992072582,0.0211590006947517,0.0224239993840456,0.0222880002111196,0.0222750008106231,0.0209250003099441,0.0211549997329711,0.0214360002428293,0.0212299991399049,0.0215499997138977,0.021263999864459,0.021238999441266,0.0210670009255409,0.0206330008804798,0.0208250004798173,0.0206959992647171,0.01982899941504,0.0204809997230768,0.02038099989295,0.0204290002584457,0.0202580001205205,0.0209899991750717,0.0200009997934103,0.0204590000212192,0.0206460002809762,0.0213799998164176,0.0217700004577636,0.0213980004191398,0.0228470005095005,0.0227790009230375,0.0243640001863241,0.0230739992111921,0.0255440007895231,0.0273909997195005,0.0281440000981092,0.0301190000027418,0.0301610007882118,0.0287919994443655,0.026970999315381,0.0248959995806217,0.0267089996486902,0.024932000786066,0.0261509995907545,0.0253079999238252,0.0279810000211,0.0258610006421804,0.0269050002098083,0.0257370006293058,0.0268549993634223,0.0276829991489648,0.0271780006587505,0.0265730004757642,0.0256130006164312,0.0235099997371435,0.0193930007517337,0.0194569993764162,0.0180169995874166,0.0187870003283023,0.0188340004533529,0.0182509999722242,0.0201520007103681,0.0204750001430511,0.0212060008198022,0.0209810007363557,0.0198149997740983,0.0201389994472265,0.0205049999058246,0.0198570005595684,0.020431000739336,0.0210299994796514,0.0209129992872476,0.0219599995762109,0.0189469996839761,0.0196470003575086,0.0177090000361204,0.0189869999885559,0.0191459991037845,0.018928000703454,0.0187359992414712,0.018885999917984,0.0196749996393919,0.0201529990881681,0.0189800001680851,0.0182719994336366,0.0185499992221593,0.0186020005494356,0.0188410002738237,0.0171649996191263,0.0169580001384019,0.0166319999843835,0.0170939993113279,0.0172070004045963,0.0178549997508525,0.0179050005972385,0.017697999253869,0.0172349996864795,0.0171900000423192,0.0162530001252889,0.0167420003563165,0.0168869998306036,0.0162049997597932,0.0156319998204708,0.0163829997181892,0.0174039993435144,0.0170399993658065,0.0176829993724823,0.0171649996191263,0.0165619999170303,0.0157999992370605,0.015085999853909,0.0138769997283816,0.0139100002124905,0.0137210004031658,0.0141070000827312,0.0136879999190568,0.012717000208795,0.0122509999200701,0.0134770004078745,0.0155090000480413,0.0143929999321699,0.0157350003719329,0.015634000301361,0.0173140000551939,0.0166030004620552,0.0158600006252527,0.0169169995933771,0.0167510006576776,0.0164609998464584,0.016610000282526,0.0176940001547336,0.0170929990708827,0.0172719992697238,0.0178699996322393,0.0197579991072416,0.0190360005944967,0.0211629997938871,0.021663999184966,0.0212949998676776,0.0177800003439188,0.0177049990743398,0.018750000745058,0.0188560001552104,0.0195630006492137,0.0187219996005296,0.0193339996039867,0.02080599963665,0.0188710000365972,0.0197340007871389,0.0195719990879297,0.0191990006715059,0.0176049992442131,0.0180929992347955,0.0177710000425577,0.0174979995936155,0.0178689993917942,0.0180990006774663,0.0183840002864599,0.0194889996200799,0.0194339994341135,0.0189580004662275,0.0205990001559257,0.0199820008128881,0.0192200001329183,0.0181549992412328,0.0186459999531507,0.0152040002867579,0.0164630003273487,0.0166209992021322,0.019293999299407,0.0183010008186101,0.0188730005174875,0.0184489991515874,0.0181350000202655,0.0176330003887414,0.0178120005875825,0.0190430004149675,0.0199749991297721,0.0246140006929636,0.0244670007377862,0.0351350009441375,0.032999001443386,0.0317390002310276,0.0335129983723163,0.0304109994322061,0.0261240005493164,0.0260899998247623,0.0300699993968009,0.032830998301506,0.0340140014886856,0.0327679999172687,0.0340199992060661,0.0360529981553554,0.0325139984488487,0.0345330014824867,0.0286040008068084,0.0312980003654956,0.033975001424551,0.0331769995391368,0.0329779982566833,0.0433599986135959,0.0420720018446445,0.0388920009136199,0.040277000516653,0.0399250015616416,0.0382790006697177,0.0408769994974136,0.0410830006003379,0.0438360013067722,0.0473470017313957,0.0547670014202594,0.0524060018360614,0.0676420032978057,0.0712679997086525,0.0988679975271225,0.11701600253582,0.1236110031604766,0.1212330013513565,0.1116499975323677,0.1009220033884048,0.1076050028204917,0.1089000031352043,0.1122199967503547,0.1227440014481544,0.1548400074243545,0.1460810005664825,0.1622499972581863,0.1520050019025802,0.1370050013065338,0.1602430045604705,0.1761790066957473,0.1906020045280456,0.1975329965353012,0.2288469970226287,0.2515720129013061,0.2318930029869079,0.22393499314785,0.2003950029611587,0.2151709944009781,0.2129860073328018,0.2122430056333542,0.216621994972229,0.2989810109138489,0.28752401471138,0.4106050133705139,0.4144079983234405,0.425134003162384,0.3828809857368469,0.3929589986801147,0.3732219934463501,0.4032590091228485,0.3907339870929718,0.4117830097675323,0.3836149871349334,0.3810720145702362,0.3487460017204284,0.3316940069198608,0.3249790072441101,0.3018510043621063,0.3368040025234222,0.3334439992904663,0.3460099995136261,0.3839460015296936,0.3712800145149231,0.359934002161026,0.36422199010849,0.3840020000934601,0.3540309965610504,0.3626370131969452,0.3700329959392547,0.374565988779068,0.3372080028057098,0.3563059866428375,0.3676030039787292,0.358471006155014,0.3705320060253143,0.3580439984798431,0.4220739901065826,0.414680004119873,0.4427329897880554,0.4364469945430755,0.4062530100345611,0.3629010021686554,0.3271999955177307,0.3415240049362182,0.3592289984226227,0.3494449853897095,0.3818080127239227,0.3534280061721802,0.3828839957714081,0.5351930260658264,0.8327540159225464,0.7731130123138428,0.8908720016479492,0.8205680251121521,0.7868210077285767,0.8245120048522949,0.7961390018463135,0.7043830156326294,0.8110849857330322,0.7617849707603455,0.7531290054321289,0.8482580184936523,0.9698650240898132,0.8750690221786499,1.069219946861267,1.0190140008926392,1.0531539916992188,1.470762014389038,1.608185052871704,1.714745044708252,1.7279729843139648,2.45436692237854,1.6593899726867676,1.8414510488510127,1.4823360443115234,1.1932920217514038,1.0867149829864502,1.7175769805908203,1.9400500059127808,2.210166931152344,2.026745080947876,1.8232940435409544,1.6981940269470217,1.8649380207061768,1.8810240030288696,1.8211640119552608,1.7958970069885254,1.8238459825515747,1.631484031677246,1.5273339748382568,1.5834280252456665,1.4801219701766968,1.485098958015442,1.4924269914627075,1.3622050285339355,1.251965045928955,1.3412690162658691,1.4692169427871704,1.4778629541397097,1.6914600133895874,1.4771970510482788,1.5037939548492432,1.3772610425949097,1.3636950254440308,1.3989959955215454,1.0990519523620603,1.0743839740753174,1.1585869789123535,1.2031480073928833,1.0461629629135132,1.0754530429840088,1.1120330095291138,1.119223952293396,1.1672790050506592,1.1674280166625977,1.077357053756714,1.1036109924316406,1.118638038635254,1.1478650569915771,1.1016099452972412,1.1317859888076782,1.128411054611206,1.0433399677276611,1.0513290166854858,1.02987802028656,1.0421520471572876,0.9969879984855652,0.9456639885902404,0.9286959767341614,0.8767820000648499,0.8126140236854553,0.8014609813690186,0.7954570055007935,0.7307279706001282,0.6901010274887085,0.8880090117454529,0.8805509805679321,0.9492300152778624,0.9493250250816344,0.9399430155754088,1.0178860425949097,1.0398199558258057,1.015442967414856,1.025704026222229,1.0694069862365725,1.082648992538452,1.052474021911621,1.04818594455719,1.0187950134277344,1.0526820421218872,1.0649449825286863,1.0808219909667969,1.166139006614685,1.0809069871902466,1.127634048461914,1.1575889587402344,1.373568058013916,1.3210190534591677,1.513185977935791,1.4417589902877808,1.466439962387085,1.4275130033493042,1.3517589569091797,1.3385469913482666,1.469267964363098,1.5527429580688477,1.5849740505218506,1.626175045967102,1.624295949935913,1.4747469425201416,1.5259510278701782,1.3777389526367188,1.5154930353164673,1.4579119682312012,1.4207819700241089,1.3139029741287231,1.338104009628296,1.471418023109436,1.4467209577560425,1.4592169523239136,1.7339099645614624,1.679481029510498,1.64382803440094,1.3542020320892334,1.333335041999817,1.3671890497207642,1.304479956626892,1.3154699802398682,1.3297380208969116,1.2476099729537964,1.316789984703064,1.4163730144500732,1.383579969406128,1.422435998916626,1.3662420511245728,1.31454598903656,1.126376032829285,1.046900987625122,1.231153964996338,1.2255940437316897,1.1289069652557373,1.1222749948501587,1.12301504611969,1.0866930484771729,1.0503549575805664,1.0994160175323486,1.1271090507507324,1.2661950588226318,1.296617031097412,1.3253790140151978,1.2719099521636963,1.3145439624786377,1.2576429843902588,1.2765079736709597,1.3440279960632324,1.351140022277832,1.248175024986267,1.24372398853302,1.2238709926605225,1.2411179542541504,1.2630540132522583,1.583204984664917,1.506134033203125,1.4565349817276,1.4791159629821775,1.471904993057251,1.5318690538406372,1.5044549703598022,1.514093041419983,1.6419179439544678,1.5737379789352417,1.6744489669799805,1.7360249757766724,1.7599420547485352,2.128509998321533,2.0205719470977783,1.8681089878082275,1.9350030422210691,1.903897047042847,1.937505006790161,2.0345981121063232,1.9170409440994265,1.9014639854431152,1.8848860263824463,1.884112000465393,1.8940470218658447,1.77646803855896,1.7056560516357422,1.7595410346984863,1.7157000303268433,1.754876971244812,1.7296680212020874,1.6917239427566528,1.5629819631576538,1.634735941886902,1.498249053955078,1.6179649829864502,1.6646909713745115,1.6024030447006226,1.558411955833435,1.7532110214233398,1.680279016494751,1.7870880365371704,1.6318609714508057,1.6140400171279907,1.6518399715423584,1.817824959754944,1.785351037979126,2.008297920227051,2.1272881031036377,2.268029928207397,1.9803060293197632,2.0456020832061768,2.2797110080718994,2.366476058959961,2.4187300205230717,2.090277910232544,2.097673892974853,2.1325159072875977,2.086988925933838,1.8202769756317136,1.8027689456939695,2.122060060501098,2.0726890563964844,2.128067970275879,2.231473922729492,2.222235918045044,2.127742052078247,2.375984907150269,2.501101016998291,2.679162979125977,2.467272996902466,2.6368279457092285,2.8767569065093994,2.725954055786133,2.4982059001922607,2.470005989074707,2.557750940322876,2.527107000350952,2.574790954589844,2.549190044403076,2.432651996612549,2.367248058319092,2.1954751014709477,2.2507801055908203,2.053826093673706,1.995859980583191,2.115518093109131,2.0718019008636475,2.356945037841797,2.3925909996032715,2.263317108154297,2.3377270698547363,2.353693008422852,2.329822063446045,2.2219700813293457,2.128438949584961,2.035978078842163,1.960373044013977,1.698989987373352,1.530622959136963,1.6162480115890503,1.5075730085372925,1.5585379600524902,1.5910550355911257,1.591683030128479,1.679216980934143,1.694964051246643,1.605329990386963,1.6439210176467896,1.6475930213928225,1.5418850183486938,1.550246000289917,1.6908299922943115,1.714359998703003,1.7399510145187378,2.019141912460327,1.9486140012741089,2.0427680015563965,1.8958829641342163,1.7146209478378296,1.6995110511779783,1.6700210571289062,1.658877968788147,1.8628549575805664,1.8385260105133057,1.6568700075149536,1.5955140590667725,1.6318349838256836,1.515848994255066,1.4087870121002195,1.4644759893417358,1.4423739910125732,1.439592957496643,1.5506500005722046,1.5152939558029177,1.4530019760131836,1.6111910343170166,1.621351957321167,1.6352449655532837,1.5844130516052246,1.4749460220336914,1.5082659721374512,1.4366979598999023,1.416363000869751,1.4452840089797974,1.5068169832229614,1.4391969442367554,1.4065040349960327,1.3994849920272827,1.362876057624817,1.3778990507125854,1.38019597530365,1.4683589935302734,1.449110984802246,1.499554991722107,1.528071045875549,1.4639190435409546,1.466493010520935,1.5054479837417605,1.5563030242919922,1.6287649869918823,1.5795730352401731,1.6108030080795288,1.6934809684753418,1.6603870391845703,1.6747870445251465,1.6846189498901367,1.617285966873169,1.6939140558242798,1.654024958610535,1.6888099908828735,1.6499179601669312,1.592921018600464,1.4587470293045044,1.5140539407730105,1.4357019662857056,1.4643219709396362,1.4334650039672852,1.3331739902496338,1.3928680419921875,1.420106053352356,1.3726409673690796,1.396420955657959,1.3909319639205933,1.3400739431381226,1.4211549758911133,1.4281760454177856,1.4177440404891968,1.3798619508743286,1.3991390466690063,1.3659709692001345,1.3442449569702148,1.3526660203933716,1.2428330183029177,1.2576849460601809,1.2389039993286133,1.1405789852142334,1.0357500314712524,1.1011639833450315,1.0775909423828125,1.0759589672088623,1.1710319519042969,1.0646909475326538,1.044132947921753,1.0212039947509766,0.9743450284004213,0.8219149708747864,0.890408992767334,0.6662909984588623,0.6015390157699585,0.6675419807434082,0.6861389875411987,0.7375659942626953,0.6772819757461548,0.7269420027732849,0.627577006816864,0.6588169932365417,0.6365100145339966,0.6493390202522278,0.6783120036125183,0.6419389843940735,0.6615539789199829,0.6459270119667053,0.6010609865188599,0.5735759735107422,0.5878840088844299,0.5985490083694458,0.6571679711341858,0.6620870232582092,0.601777970790863,0.6194149851799011,0.589917004108429,0.5956569910049438,0.5979499816894531,0.6325010061264038,0.6166599988937378,0.607429027557373,0.6336650252342224,0.5949959754943848,0.538565993309021,0.5019019842147827,0.4278829991817474,0.4157600104808807,0.4377489984035492,0.3819270133972168,0.3998410105705261,0.3466590046882629,0.3831090033054352,0.4007590115070343,0.4188779890537262,0.4565579891204834,0.5614690184593201,0.6122009754180908,0.6004760265350342,0.5607240200042725,0.5327320098876953,0.5111070275306702,0.4952319860458374,0.4773710072040558,0.4612370133399963,0.4930419921875,0.4606389999389648,0.4915930032730102,0.5117179751396179,0.5252649784088135,0.5625439882278442,0.6062650084495544,0.5895839929580688,0.5712680220603943,0.5635250210762024,0.5398619771003723,0.6359469890594482,0.7075889706611633,0.7046700119972229,0.726830005645752,0.753013014793396,0.9617800116539,0.9257910251617432,0.8327580094337463,0.907405972480774,0.8534409999847412,0.875423014163971,0.881263017654419,0.7757260203361511,0.7802429795265198,0.8956959843635559,0.9361129999160768,0.9387419819831848,0.9296129941940308,0.9282649755477904,0.8944060206413269,0.8791570067405701,0.8876979947090149,0.8918799757957458,0.9276589751243592,0.9073359966278076,0.906690001487732,0.9215499758720398,0.8905079960823059,0.9373279809951782,0.9214040040969848,0.933907985687256,1.0248470306396484,1.0009089708328247,0.9520350098609924,0.9357960224151612,0.8831790089607239,0.8596519827842712,0.7721350193023682,0.7868880033493042,0.8202160000801086,0.8103410005569458,0.831794023513794,0.8135910034179688,0.8187280297279358,0.7637230157852173,0.8053479790687561,0.7842509746551514,0.8174030184745789,0.8145359754562378,0.8318210244178772,0.8854309916496277,0.8719679713249207,0.8892750144004822,0.8942300081253052,0.881430983543396,0.8188769817352295,0.8408460021018982,0.8442130088806152,0.8915079832077026,0.9061970114707948,0.8946130275726318,0.9300119876861572,0.8544139862060547,0.8647890090942383,0.8242989778518677,0.8060460090637207,0.8294839859008789,0.7534220218658447,0.7660380005836487,0.7332789897918701,0.7042239904403687,0.752830982208252,0.7787100076675415,0.75416100025177,0.7401890158653259,0.7547540068626404,0.7404059767723083,0.7473729848861694,0.76351398229599,0.7774459719657898,0.7658810019493103,0.7642509937286377,0.8018050193786621,0.8361300230026245,0.8513619899749756,0.8330519795417786,0.8319000005722046,0.8136389851570129,0.8253769874572754,0.815284013748169,0.7905439734458923,0.784313976764679,0.7758209705352783,0.7927230000495911,0.7901009917259216,0.7995629906654358,0.847258985042572,0.8645099997520447,0.8460860252380371,0.8101159930229187,0.8320930004119873,0.8323850035667419,0.8998370170593262,0.8938770294189453,0.9197390079498292,0.9381380081176758,0.904833972454071,0.9448480010032654,0.9338110089302064,0.9088510274887084,0.903988003730774,0.8753330111503601,0.8717179894447327,0.9521219730377196,1.1697460412979126,1.1837220191955566,1.1379679441452026,1.2524490356445312,1.0444190502166748,0.8132039904594421,1.124959945678711,1.061987042427063,0.9554285407066344],\"yaxis\":\"y\",\"type\":\"scattergl\",\"opacity\":0.8}],                        {\"template\":{\"data\":{\"histogram2dcontour\":[{\"type\":\"histogram2dcontour\",\"colorbar\":{\"outlinewidth\":0,\"ticks\":\"\"},\"colorscale\":[[0.0,\"#0d0887\"],[0.1111111111111111,\"#46039f\"],[0.2222222222222222,\"#7201a8\"],[0.3333333333333333,\"#9c179e\"],[0.4444444444444444,\"#bd3786\"],[0.5555555555555556,\"#d8576b\"],[0.6666666666666666,\"#ed7953\"],[0.7777777777777778,\"#fb9f3a\"],[0.8888888888888888,\"#fdca26\"],[1.0,\"#f0f921\"]]}],\"choropleth\":[{\"type\":\"choropleth\",\"colorbar\":{\"outlinewidth\":0,\"ticks\":\"\"}}],\"histogram2d\":[{\"type\":\"histogram2d\",\"colorbar\":{\"outlinewidth\":0,\"ticks\":\"\"},\"colorscale\":[[0.0,\"#0d0887\"],[0.1111111111111111,\"#46039f\"],[0.2222222222222222,\"#7201a8\"],[0.3333333333333333,\"#9c179e\"],[0.4444444444444444,\"#bd3786\"],[0.5555555555555556,\"#d8576b\"],[0.6666666666666666,\"#ed7953\"],[0.7777777777777778,\"#fb9f3a\"],[0.8888888888888888,\"#fdca26\"],[1.0,\"#f0f921\"]]}],\"heatmap\":[{\"type\":\"heatmap\",\"colorbar\":{\"outlinewidth\":0,\"ticks\":\"\"},\"colorscale\":[[0.0,\"#0d0887\"],[0.1111111111111111,\"#46039f\"],[0.2222222222222222,\"#7201a8\"],[0.3333333333333333,\"#9c179e\"],[0.4444444444444444,\"#bd3786\"],[0.5555555555555556,\"#d8576b\"],[0.6666666666666666,\"#ed7953\"],[0.7777777777777778,\"#fb9f3a\"],[0.8888888888888888,\"#fdca26\"],[1.0,\"#f0f921\"]]}],\"heatmapgl\":[{\"type\":\"heatmapgl\",\"colorbar\":{\"outlinewidth\":0,\"ticks\":\"\"},\"colorscale\":[[0.0,\"#0d0887\"],[0.1111111111111111,\"#46039f\"],[0.2222222222222222,\"#7201a8\"],[0.3333333333333333,\"#9c179e\"],[0.4444444444444444,\"#bd3786\"],[0.5555555555555556,\"#d8576b\"],[0.6666666666666666,\"#ed7953\"],[0.7777777777777778,\"#fb9f3a\"],[0.8888888888888888,\"#fdca26\"],[1.0,\"#f0f921\"]]}],\"contourcarpet\":[{\"type\":\"contourcarpet\",\"colorbar\":{\"outlinewidth\":0,\"ticks\":\"\"}}],\"contour\":[{\"type\":\"contour\",\"colorbar\":{\"outlinewidth\":0,\"ticks\":\"\"},\"colorscale\":[[0.0,\"#0d0887\"],[0.1111111111111111,\"#46039f\"],[0.2222222222222222,\"#7201a8\"],[0.3333333333333333,\"#9c179e\"],[0.4444444444444444,\"#bd3786\"],[0.5555555555555556,\"#d8576b\"],[0.6666666666666666,\"#ed7953\"],[0.7777777777777778,\"#fb9f3a\"],[0.8888888888888888,\"#fdca26\"],[1.0,\"#f0f921\"]]}],\"surface\":[{\"type\":\"surface\",\"colorbar\":{\"outlinewidth\":0,\"ticks\":\"\"},\"colorscale\":[[0.0,\"#0d0887\"],[0.1111111111111111,\"#46039f\"],[0.2222222222222222,\"#7201a8\"],[0.3333333333333333,\"#9c179e\"],[0.4444444444444444,\"#bd3786\"],[0.5555555555555556,\"#d8576b\"],[0.6666666666666666,\"#ed7953\"],[0.7777777777777778,\"#fb9f3a\"],[0.8888888888888888,\"#fdca26\"],[1.0,\"#f0f921\"]]}],\"mesh3d\":[{\"type\":\"mesh3d\",\"colorbar\":{\"outlinewidth\":0,\"ticks\":\"\"}}],\"scatter\":[{\"fillpattern\":{\"fillmode\":\"overlay\",\"size\":10,\"solidity\":0.2},\"type\":\"scatter\"}],\"parcoords\":[{\"type\":\"parcoords\",\"line\":{\"colorbar\":{\"outlinewidth\":0,\"ticks\":\"\"}}}],\"scatterpolargl\":[{\"type\":\"scatterpolargl\",\"marker\":{\"colorbar\":{\"outlinewidth\":0,\"ticks\":\"\"}}}],\"bar\":[{\"error_x\":{\"color\":\"#2a3f5f\"},\"error_y\":{\"color\":\"#2a3f5f\"},\"marker\":{\"line\":{\"color\":\"#E5ECF6\",\"width\":0.5},\"pattern\":{\"fillmode\":\"overlay\",\"size\":10,\"solidity\":0.2}},\"type\":\"bar\"}],\"scattergeo\":[{\"type\":\"scattergeo\",\"marker\":{\"colorbar\":{\"outlinewidth\":0,\"ticks\":\"\"}}}],\"scatterpolar\":[{\"type\":\"scatterpolar\",\"marker\":{\"colorbar\":{\"outlinewidth\":0,\"ticks\":\"\"}}}],\"histogram\":[{\"marker\":{\"pattern\":{\"fillmode\":\"overlay\",\"size\":10,\"solidity\":0.2}},\"type\":\"histogram\"}],\"scattergl\":[{\"type\":\"scattergl\",\"marker\":{\"colorbar\":{\"outlinewidth\":0,\"ticks\":\"\"}}}],\"scatter3d\":[{\"type\":\"scatter3d\",\"line\":{\"colorbar\":{\"outlinewidth\":0,\"ticks\":\"\"}},\"marker\":{\"colorbar\":{\"outlinewidth\":0,\"ticks\":\"\"}}}],\"scattermapbox\":[{\"type\":\"scattermapbox\",\"marker\":{\"colorbar\":{\"outlinewidth\":0,\"ticks\":\"\"}}}],\"scatterternary\":[{\"type\":\"scatterternary\",\"marker\":{\"colorbar\":{\"outlinewidth\":0,\"ticks\":\"\"}}}],\"scattercarpet\":[{\"type\":\"scattercarpet\",\"marker\":{\"colorbar\":{\"outlinewidth\":0,\"ticks\":\"\"}}}],\"carpet\":[{\"aaxis\":{\"endlinecolor\":\"#2a3f5f\",\"gridcolor\":\"white\",\"linecolor\":\"white\",\"minorgridcolor\":\"white\",\"startlinecolor\":\"#2a3f5f\"},\"baxis\":{\"endlinecolor\":\"#2a3f5f\",\"gridcolor\":\"white\",\"linecolor\":\"white\",\"minorgridcolor\":\"white\",\"startlinecolor\":\"#2a3f5f\"},\"type\":\"carpet\"}],\"table\":[{\"cells\":{\"fill\":{\"color\":\"#EBF0F8\"},\"line\":{\"color\":\"white\"}},\"header\":{\"fill\":{\"color\":\"#C8D4E3\"},\"line\":{\"color\":\"white\"}},\"type\":\"table\"}],\"barpolar\":[{\"marker\":{\"line\":{\"color\":\"#E5ECF6\",\"width\":0.5},\"pattern\":{\"fillmode\":\"overlay\",\"size\":10,\"solidity\":0.2}},\"type\":\"barpolar\"}],\"pie\":[{\"automargin\":true,\"type\":\"pie\"}]},\"layout\":{\"autotypenumbers\":\"strict\",\"colorway\":[\"#636efa\",\"#EF553B\",\"#00cc96\",\"#ab63fa\",\"#FFA15A\",\"#19d3f3\",\"#FF6692\",\"#B6E880\",\"#FF97FF\",\"#FECB52\"],\"font\":{\"color\":\"#2a3f5f\"},\"hovermode\":\"closest\",\"hoverlabel\":{\"align\":\"left\"},\"paper_bgcolor\":\"white\",\"plot_bgcolor\":\"#E5ECF6\",\"polar\":{\"bgcolor\":\"#E5ECF6\",\"angularaxis\":{\"gridcolor\":\"white\",\"linecolor\":\"white\",\"ticks\":\"\"},\"radialaxis\":{\"gridcolor\":\"white\",\"linecolor\":\"white\",\"ticks\":\"\"}},\"ternary\":{\"bgcolor\":\"#E5ECF6\",\"aaxis\":{\"gridcolor\":\"white\",\"linecolor\":\"white\",\"ticks\":\"\"},\"baxis\":{\"gridcolor\":\"white\",\"linecolor\":\"white\",\"ticks\":\"\"},\"caxis\":{\"gridcolor\":\"white\",\"linecolor\":\"white\",\"ticks\":\"\"}},\"coloraxis\":{\"colorbar\":{\"outlinewidth\":0,\"ticks\":\"\"}},\"colorscale\":{\"sequential\":[[0.0,\"#0d0887\"],[0.1111111111111111,\"#46039f\"],[0.2222222222222222,\"#7201a8\"],[0.3333333333333333,\"#9c179e\"],[0.4444444444444444,\"#bd3786\"],[0.5555555555555556,\"#d8576b\"],[0.6666666666666666,\"#ed7953\"],[0.7777777777777778,\"#fb9f3a\"],[0.8888888888888888,\"#fdca26\"],[1.0,\"#f0f921\"]],\"sequentialminus\":[[0.0,\"#0d0887\"],[0.1111111111111111,\"#46039f\"],[0.2222222222222222,\"#7201a8\"],[0.3333333333333333,\"#9c179e\"],[0.4444444444444444,\"#bd3786\"],[0.5555555555555556,\"#d8576b\"],[0.6666666666666666,\"#ed7953\"],[0.7777777777777778,\"#fb9f3a\"],[0.8888888888888888,\"#fdca26\"],[1.0,\"#f0f921\"]],\"diverging\":[[0,\"#8e0152\"],[0.1,\"#c51b7d\"],[0.2,\"#de77ae\"],[0.3,\"#f1b6da\"],[0.4,\"#fde0ef\"],[0.5,\"#f7f7f7\"],[0.6,\"#e6f5d0\"],[0.7,\"#b8e186\"],[0.8,\"#7fbc41\"],[0.9,\"#4d9221\"],[1,\"#276419\"]]},\"xaxis\":{\"gridcolor\":\"white\",\"linecolor\":\"white\",\"ticks\":\"\",\"title\":{\"standoff\":15},\"zerolinecolor\":\"white\",\"automargin\":true,\"zerolinewidth\":2},\"yaxis\":{\"gridcolor\":\"white\",\"linecolor\":\"white\",\"ticks\":\"\",\"title\":{\"standoff\":15},\"zerolinecolor\":\"white\",\"automargin\":true,\"zerolinewidth\":2},\"scene\":{\"xaxis\":{\"backgroundcolor\":\"#E5ECF6\",\"gridcolor\":\"white\",\"linecolor\":\"white\",\"showbackground\":true,\"ticks\":\"\",\"zerolinecolor\":\"white\",\"gridwidth\":2},\"yaxis\":{\"backgroundcolor\":\"#E5ECF6\",\"gridcolor\":\"white\",\"linecolor\":\"white\",\"showbackground\":true,\"ticks\":\"\",\"zerolinecolor\":\"white\",\"gridwidth\":2},\"zaxis\":{\"backgroundcolor\":\"#E5ECF6\",\"gridcolor\":\"white\",\"linecolor\":\"white\",\"showbackground\":true,\"ticks\":\"\",\"zerolinecolor\":\"white\",\"gridwidth\":2}},\"shapedefaults\":{\"line\":{\"color\":\"#2a3f5f\"}},\"annotationdefaults\":{\"arrowcolor\":\"#2a3f5f\",\"arrowhead\":0,\"arrowwidth\":1},\"geo\":{\"bgcolor\":\"white\",\"landcolor\":\"#E5ECF6\",\"subunitcolor\":\"white\",\"showland\":true,\"showlakes\":true,\"lakecolor\":\"white\"},\"title\":{\"x\":0.05},\"mapbox\":{\"style\":\"light\"}}},\"xaxis\":{\"anchor\":\"y\",\"domain\":[0.0,1.0],\"title\":{\"text\":\"Date\"},\"showgrid\":false},\"yaxis\":{\"anchor\":\"x\",\"domain\":[0.0,1.0],\"title\":{\"text\":\"Close\"},\"showgrid\":false},\"legend\":{\"tracegroupgap\":0},\"margin\":{\"t\":60},\"title\":{\"text\":\"Matic close price chart\"},\"font\":{\"size\":15,\"color\":\"black\"},\"plot_bgcolor\":\"white\"},                        {\"responsive\": true}                    ).then(function(){\n",
       "                            \n",
       "var gd = document.getElementById('b29ec0ed-f405-4df3-8d7d-082da41bdec9');\n",
       "var x = new MutationObserver(function (mutations, observer) {{\n",
       "        var display = window.getComputedStyle(gd).display;\n",
       "        if (!display || display === 'none') {{\n",
       "            console.log([gd, 'removed!']);\n",
       "            Plotly.purge(gd);\n",
       "            observer.disconnect();\n",
       "        }}\n",
       "}});\n",
       "\n",
       "// Listen for the removal of the full notebook cells\n",
       "var notebookContainer = gd.closest('#notebook-container');\n",
       "if (notebookContainer) {{\n",
       "    x.observe(notebookContainer, {childList: true});\n",
       "}}\n",
       "\n",
       "// Listen for the clearing of the current output cell\n",
       "var outputEl = gd.closest('.output');\n",
       "if (outputEl) {{\n",
       "    x.observe(outputEl, {childList: true});\n",
       "}}\n",
       "\n",
       "                        })                };                });            </script>        </div>"
      ]
     },
     "metadata": {},
     "output_type": "display_data"
    }
   ],
   "source": [
    "fig = px.line(closed_matic, x = closed_matic.Date, y = closed_matic.Close,labels = {'date':'Date','close':'Close Price'})\n",
    "fig.update_traces(marker_line_width = 2, opacity = 0.8)\n",
    "fig.update_layout(title_text = 'Matic close price chart', plot_bgcolor = 'white', font_size = 15, font_color = 'black')\n",
    "fig.update_xaxes(showgrid = False)\n",
    "fig.update_yaxes(showgrid = False)\n",
    "fig.show()"
   ]
  },
  {
   "cell_type": "markdown",
   "id": "9a1b03ef",
   "metadata": {
    "id": "TB47NF3LNUFm",
    "papermill": {
     "duration": 0.033185,
     "end_time": "2023-03-13T11:31:13.853306",
     "exception": false,
     "start_time": "2023-03-13T11:31:13.820121",
     "status": "completed"
    },
    "tags": []
   },
   "source": [
    "# **Considering only last 1 year data for prediction purposes.**"
   ]
  },
  {
   "cell_type": "code",
   "execution_count": 33,
   "id": "64dfabd4",
   "metadata": {
    "execution": {
     "iopub.execute_input": "2023-03-13T11:31:13.905791Z",
     "iopub.status.busy": "2023-03-13T11:31:13.904962Z",
     "iopub.status.idle": "2023-03-13T11:31:13.914408Z",
     "shell.execute_reply": "2023-03-13T11:31:13.912942Z"
    },
    "id": "dFj1_CWtY0vB",
    "outputId": "952cd9d2-b3fd-4d66-a67d-030c40f8adc3",
    "papermill": {
     "duration": 0.038464,
     "end_time": "2023-03-13T11:31:13.916777",
     "exception": false,
     "start_time": "2023-03-13T11:31:13.878313",
     "status": "completed"
    },
    "tags": []
   },
   "outputs": [
    {
     "name": "stdout",
     "output_type": "stream",
     "text": [
      "Total data for prediction : 365\n"
     ]
    }
   ],
   "source": [
    "closed_matic = closed_matic[closed_matic['Date'] > '2021-11-12']\n",
    "closed_stock = closed_matic.copy()\n",
    "print(\"Total data for prediction :\", closed_stock.shape[0])"
   ]
  },
  {
   "cell_type": "code",
   "execution_count": 34,
   "id": "9ca9e064",
   "metadata": {
    "execution": {
     "iopub.execute_input": "2023-03-13T11:31:13.970346Z",
     "iopub.status.busy": "2023-03-13T11:31:13.969884Z",
     "iopub.status.idle": "2023-03-13T11:31:14.064695Z",
     "shell.execute_reply": "2023-03-13T11:31:14.063627Z"
    },
    "id": "z0q09ggAZSa1",
    "outputId": "9eea7475-8da8-4dd7-e3f2-c4dcf9886d7b",
    "papermill": {
     "duration": 0.125032,
     "end_time": "2023-03-13T11:31:14.067998",
     "exception": false,
     "start_time": "2023-03-13T11:31:13.942966",
     "status": "completed"
    },
    "tags": []
   },
   "outputs": [
    {
     "data": {
      "text/html": [
       "<div>                            <div id=\"34aa8f09-fc01-4fa8-9444-1d223ab0a5c7\" class=\"plotly-graph-div\" style=\"height:525px; width:100%;\"></div>            <script type=\"text/javascript\">                require([\"plotly\"], function(Plotly) {                    window.PLOTLYENV=window.PLOTLYENV || {};                                    if (document.getElementById(\"34aa8f09-fc01-4fa8-9444-1d223ab0a5c7\")) {                    Plotly.newPlot(                        \"34aa8f09-fc01-4fa8-9444-1d223ab0a5c7\",                        [{\"hovertemplate\":\"Date=%{x}<br>Close Matic Price=%{y}<extra></extra>\",\"legendgroup\":\"\",\"line\":{\"color\":\"#636efa\",\"dash\":\"solid\"},\"marker\":{\"symbol\":\"circle\",\"line\":{\"color\":\"orange\",\"width\":2}},\"mode\":\"lines\",\"name\":\"\",\"orientation\":\"v\",\"showlegend\":false,\"x\":[\"2021-11-13T00:00:00\",\"2021-11-14T00:00:00\",\"2021-11-15T00:00:00\",\"2021-11-16T00:00:00\",\"2021-11-17T00:00:00\",\"2021-11-18T00:00:00\",\"2021-11-19T00:00:00\",\"2021-11-20T00:00:00\",\"2021-11-21T00:00:00\",\"2021-11-22T00:00:00\",\"2021-11-23T00:00:00\",\"2021-11-24T00:00:00\",\"2021-11-25T00:00:00\",\"2021-11-26T00:00:00\",\"2021-11-27T00:00:00\",\"2021-11-28T00:00:00\",\"2021-11-29T00:00:00\",\"2021-11-30T00:00:00\",\"2021-12-01T00:00:00\",\"2021-12-02T00:00:00\",\"2021-12-03T00:00:00\",\"2021-12-04T00:00:00\",\"2021-12-05T00:00:00\",\"2021-12-06T00:00:00\",\"2021-12-07T00:00:00\",\"2021-12-08T00:00:00\",\"2021-12-09T00:00:00\",\"2021-12-10T00:00:00\",\"2021-12-11T00:00:00\",\"2021-12-12T00:00:00\",\"2021-12-13T00:00:00\",\"2021-12-14T00:00:00\",\"2021-12-15T00:00:00\",\"2021-12-16T00:00:00\",\"2021-12-17T00:00:00\",\"2021-12-18T00:00:00\",\"2021-12-19T00:00:00\",\"2021-12-20T00:00:00\",\"2021-12-21T00:00:00\",\"2021-12-22T00:00:00\",\"2021-12-23T00:00:00\",\"2021-12-24T00:00:00\",\"2021-12-25T00:00:00\",\"2021-12-26T00:00:00\",\"2021-12-27T00:00:00\",\"2021-12-28T00:00:00\",\"2021-12-29T00:00:00\",\"2021-12-30T00:00:00\",\"2021-12-31T00:00:00\",\"2022-01-01T00:00:00\",\"2022-01-02T00:00:00\",\"2022-01-03T00:00:00\",\"2022-01-04T00:00:00\",\"2022-01-05T00:00:00\",\"2022-01-06T00:00:00\",\"2022-01-07T00:00:00\",\"2022-01-08T00:00:00\",\"2022-01-09T00:00:00\",\"2022-01-10T00:00:00\",\"2022-01-11T00:00:00\",\"2022-01-12T00:00:00\",\"2022-01-13T00:00:00\",\"2022-01-14T00:00:00\",\"2022-01-15T00:00:00\",\"2022-01-16T00:00:00\",\"2022-01-17T00:00:00\",\"2022-01-18T00:00:00\",\"2022-01-19T00:00:00\",\"2022-01-20T00:00:00\",\"2022-01-21T00:00:00\",\"2022-01-22T00:00:00\",\"2022-01-23T00:00:00\",\"2022-01-24T00:00:00\",\"2022-01-25T00:00:00\",\"2022-01-26T00:00:00\",\"2022-01-27T00:00:00\",\"2022-01-28T00:00:00\",\"2022-01-29T00:00:00\",\"2022-01-30T00:00:00\",\"2022-01-31T00:00:00\",\"2022-02-01T00:00:00\",\"2022-02-02T00:00:00\",\"2022-02-03T00:00:00\",\"2022-02-04T00:00:00\",\"2022-02-05T00:00:00\",\"2022-02-06T00:00:00\",\"2022-02-07T00:00:00\",\"2022-02-08T00:00:00\",\"2022-02-09T00:00:00\",\"2022-02-10T00:00:00\",\"2022-02-11T00:00:00\",\"2022-02-12T00:00:00\",\"2022-02-13T00:00:00\",\"2022-02-14T00:00:00\",\"2022-02-15T00:00:00\",\"2022-02-16T00:00:00\",\"2022-02-17T00:00:00\",\"2022-02-18T00:00:00\",\"2022-02-19T00:00:00\",\"2022-02-20T00:00:00\",\"2022-02-21T00:00:00\",\"2022-02-22T00:00:00\",\"2022-02-23T00:00:00\",\"2022-02-24T00:00:00\",\"2022-02-25T00:00:00\",\"2022-02-26T00:00:00\",\"2022-02-27T00:00:00\",\"2022-02-28T00:00:00\",\"2022-03-01T00:00:00\",\"2022-03-02T00:00:00\",\"2022-03-03T00:00:00\",\"2022-03-04T00:00:00\",\"2022-03-05T00:00:00\",\"2022-03-06T00:00:00\",\"2022-03-07T00:00:00\",\"2022-03-08T00:00:00\",\"2022-03-09T00:00:00\",\"2022-03-10T00:00:00\",\"2022-03-11T00:00:00\",\"2022-03-12T00:00:00\",\"2022-03-13T00:00:00\",\"2022-03-14T00:00:00\",\"2022-03-15T00:00:00\",\"2022-03-16T00:00:00\",\"2022-03-17T00:00:00\",\"2022-03-18T00:00:00\",\"2022-03-19T00:00:00\",\"2022-03-20T00:00:00\",\"2022-03-21T00:00:00\",\"2022-03-22T00:00:00\",\"2022-03-23T00:00:00\",\"2022-03-24T00:00:00\",\"2022-03-25T00:00:00\",\"2022-03-26T00:00:00\",\"2022-03-27T00:00:00\",\"2022-03-28T00:00:00\",\"2022-03-29T00:00:00\",\"2022-03-30T00:00:00\",\"2022-03-31T00:00:00\",\"2022-04-01T00:00:00\",\"2022-04-02T00:00:00\",\"2022-04-03T00:00:00\",\"2022-04-04T00:00:00\",\"2022-04-05T00:00:00\",\"2022-04-06T00:00:00\",\"2022-04-07T00:00:00\",\"2022-04-08T00:00:00\",\"2022-04-09T00:00:00\",\"2022-04-10T00:00:00\",\"2022-04-11T00:00:00\",\"2022-04-12T00:00:00\",\"2022-04-13T00:00:00\",\"2022-04-14T00:00:00\",\"2022-04-15T00:00:00\",\"2022-04-16T00:00:00\",\"2022-04-17T00:00:00\",\"2022-04-18T00:00:00\",\"2022-04-19T00:00:00\",\"2022-04-20T00:00:00\",\"2022-04-21T00:00:00\",\"2022-04-22T00:00:00\",\"2022-04-23T00:00:00\",\"2022-04-24T00:00:00\",\"2022-04-25T00:00:00\",\"2022-04-26T00:00:00\",\"2022-04-27T00:00:00\",\"2022-04-28T00:00:00\",\"2022-04-29T00:00:00\",\"2022-04-30T00:00:00\",\"2022-05-01T00:00:00\",\"2022-05-02T00:00:00\",\"2022-05-03T00:00:00\",\"2022-05-04T00:00:00\",\"2022-05-05T00:00:00\",\"2022-05-06T00:00:00\",\"2022-05-07T00:00:00\",\"2022-05-08T00:00:00\",\"2022-05-09T00:00:00\",\"2022-05-10T00:00:00\",\"2022-05-11T00:00:00\",\"2022-05-12T00:00:00\",\"2022-05-13T00:00:00\",\"2022-05-14T00:00:00\",\"2022-05-15T00:00:00\",\"2022-05-16T00:00:00\",\"2022-05-17T00:00:00\",\"2022-05-18T00:00:00\",\"2022-05-19T00:00:00\",\"2022-05-20T00:00:00\",\"2022-05-21T00:00:00\",\"2022-05-22T00:00:00\",\"2022-05-23T00:00:00\",\"2022-05-24T00:00:00\",\"2022-05-25T00:00:00\",\"2022-05-26T00:00:00\",\"2022-05-27T00:00:00\",\"2022-05-28T00:00:00\",\"2022-05-29T00:00:00\",\"2022-05-30T00:00:00\",\"2022-05-31T00:00:00\",\"2022-06-01T00:00:00\",\"2022-06-02T00:00:00\",\"2022-06-03T00:00:00\",\"2022-06-04T00:00:00\",\"2022-06-05T00:00:00\",\"2022-06-06T00:00:00\",\"2022-06-07T00:00:00\",\"2022-06-08T00:00:00\",\"2022-06-09T00:00:00\",\"2022-06-10T00:00:00\",\"2022-06-11T00:00:00\",\"2022-06-12T00:00:00\",\"2022-06-13T00:00:00\",\"2022-06-14T00:00:00\",\"2022-06-15T00:00:00\",\"2022-06-16T00:00:00\",\"2022-06-17T00:00:00\",\"2022-06-18T00:00:00\",\"2022-06-19T00:00:00\",\"2022-06-20T00:00:00\",\"2022-06-21T00:00:00\",\"2022-06-22T00:00:00\",\"2022-06-23T00:00:00\",\"2022-06-24T00:00:00\",\"2022-06-25T00:00:00\",\"2022-06-26T00:00:00\",\"2022-06-27T00:00:00\",\"2022-06-28T00:00:00\",\"2022-06-29T00:00:00\",\"2022-06-30T00:00:00\",\"2022-07-01T00:00:00\",\"2022-07-02T00:00:00\",\"2022-07-03T00:00:00\",\"2022-07-04T00:00:00\",\"2022-07-05T00:00:00\",\"2022-07-06T00:00:00\",\"2022-07-07T00:00:00\",\"2022-07-08T00:00:00\",\"2022-07-09T00:00:00\",\"2022-07-10T00:00:00\",\"2022-07-11T00:00:00\",\"2022-07-12T00:00:00\",\"2022-07-13T00:00:00\",\"2022-07-14T00:00:00\",\"2022-07-15T00:00:00\",\"2022-07-16T00:00:00\",\"2022-07-17T00:00:00\",\"2022-07-18T00:00:00\",\"2022-07-19T00:00:00\",\"2022-07-20T00:00:00\",\"2022-07-21T00:00:00\",\"2022-07-22T00:00:00\",\"2022-07-23T00:00:00\",\"2022-07-24T00:00:00\",\"2022-07-25T00:00:00\",\"2022-07-26T00:00:00\",\"2022-07-27T00:00:00\",\"2022-07-28T00:00:00\",\"2022-07-29T00:00:00\",\"2022-07-30T00:00:00\",\"2022-07-31T00:00:00\",\"2022-08-01T00:00:00\",\"2022-08-02T00:00:00\",\"2022-08-03T00:00:00\",\"2022-08-04T00:00:00\",\"2022-08-05T00:00:00\",\"2022-08-06T00:00:00\",\"2022-08-07T00:00:00\",\"2022-08-08T00:00:00\",\"2022-08-09T00:00:00\",\"2022-08-10T00:00:00\",\"2022-08-11T00:00:00\",\"2022-08-12T00:00:00\",\"2022-08-13T00:00:00\",\"2022-08-14T00:00:00\",\"2022-08-15T00:00:00\",\"2022-08-16T00:00:00\",\"2022-08-17T00:00:00\",\"2022-08-18T00:00:00\",\"2022-08-19T00:00:00\",\"2022-08-20T00:00:00\",\"2022-08-21T00:00:00\",\"2022-08-22T00:00:00\",\"2022-08-23T00:00:00\",\"2022-08-24T00:00:00\",\"2022-08-25T00:00:00\",\"2022-08-26T00:00:00\",\"2022-08-27T00:00:00\",\"2022-08-28T00:00:00\",\"2022-08-29T00:00:00\",\"2022-08-30T00:00:00\",\"2022-08-31T00:00:00\",\"2022-09-01T00:00:00\",\"2022-09-02T00:00:00\",\"2022-09-03T00:00:00\",\"2022-09-04T00:00:00\",\"2022-09-05T00:00:00\",\"2022-09-06T00:00:00\",\"2022-09-07T00:00:00\",\"2022-09-08T00:00:00\",\"2022-09-09T00:00:00\",\"2022-09-10T00:00:00\",\"2022-09-11T00:00:00\",\"2022-09-12T00:00:00\",\"2022-09-13T00:00:00\",\"2022-09-14T00:00:00\",\"2022-09-15T00:00:00\",\"2022-09-16T00:00:00\",\"2022-09-17T00:00:00\",\"2022-09-18T00:00:00\",\"2022-09-19T00:00:00\",\"2022-09-20T00:00:00\",\"2022-09-21T00:00:00\",\"2022-09-22T00:00:00\",\"2022-09-23T00:00:00\",\"2022-09-24T00:00:00\",\"2022-09-25T00:00:00\",\"2022-09-26T00:00:00\",\"2022-09-27T00:00:00\",\"2022-09-28T00:00:00\",\"2022-09-29T00:00:00\",\"2022-09-30T00:00:00\",\"2022-10-01T00:00:00\",\"2022-10-02T00:00:00\",\"2022-10-03T00:00:00\",\"2022-10-04T00:00:00\",\"2022-10-05T00:00:00\",\"2022-10-06T00:00:00\",\"2022-10-07T00:00:00\",\"2022-10-08T00:00:00\",\"2022-10-09T00:00:00\",\"2022-10-10T00:00:00\",\"2022-10-11T00:00:00\",\"2022-10-12T00:00:00\",\"2022-10-13T00:00:00\",\"2022-10-14T00:00:00\",\"2022-10-15T00:00:00\",\"2022-10-16T00:00:00\",\"2022-10-17T00:00:00\",\"2022-10-18T00:00:00\",\"2022-10-19T00:00:00\",\"2022-10-20T00:00:00\",\"2022-10-21T00:00:00\",\"2022-10-22T00:00:00\",\"2022-10-23T00:00:00\",\"2022-10-24T00:00:00\",\"2022-10-25T00:00:00\",\"2022-10-26T00:00:00\",\"2022-10-27T00:00:00\",\"2022-10-28T00:00:00\",\"2022-10-29T00:00:00\",\"2022-10-30T00:00:00\",\"2022-10-31T00:00:00\",\"2022-11-01T00:00:00\",\"2022-11-02T00:00:00\",\"2022-11-03T00:00:00\",\"2022-11-04T00:00:00\",\"2022-11-05T00:00:00\",\"2022-11-06T00:00:00\",\"2022-11-07T00:00:00\",\"2022-11-08T00:00:00\",\"2022-11-09T00:00:00\",\"2022-11-10T00:00:00\",\"2022-11-11T00:00:00\",\"2022-11-12T00:00:00\"],\"xaxis\":\"x\",\"y\":[1.754876971244812,1.7296680212020874,1.6917239427566528,1.5629819631576538,1.634735941886902,1.498249053955078,1.6179649829864502,1.6646909713745115,1.6024030447006226,1.558411955833435,1.7532110214233398,1.680279016494751,1.7870880365371704,1.6318609714508057,1.6140400171279907,1.6518399715423584,1.817824959754944,1.785351037979126,2.008297920227051,2.1272881031036377,2.268029928207397,1.9803060293197632,2.0456020832061768,2.2797110080718994,2.366476058959961,2.4187300205230717,2.090277910232544,2.097673892974853,2.1325159072875977,2.086988925933838,1.8202769756317136,1.8027689456939695,2.122060060501098,2.0726890563964844,2.128067970275879,2.231473922729492,2.222235918045044,2.127742052078247,2.375984907150269,2.501101016998291,2.679162979125977,2.467272996902466,2.6368279457092285,2.8767569065093994,2.725954055786133,2.4982059001922607,2.470005989074707,2.557750940322876,2.527107000350952,2.574790954589844,2.549190044403076,2.432651996612549,2.367248058319092,2.1954751014709477,2.2507801055908203,2.053826093673706,1.995859980583191,2.115518093109131,2.0718019008636475,2.356945037841797,2.3925909996032715,2.263317108154297,2.3377270698547363,2.353693008422852,2.329822063446045,2.2219700813293457,2.128438949584961,2.035978078842163,1.960373044013977,1.698989987373352,1.530622959136963,1.6162480115890503,1.5075730085372925,1.5585379600524902,1.5910550355911257,1.591683030128479,1.679216980934143,1.694964051246643,1.605329990386963,1.6439210176467896,1.6475930213928225,1.5418850183486938,1.550246000289917,1.6908299922943115,1.714359998703003,1.7399510145187378,2.019141912460327,1.9486140012741089,2.0427680015563965,1.8958829641342163,1.7146209478378296,1.6995110511779783,1.6700210571289062,1.658877968788147,1.8628549575805664,1.8385260105133057,1.6568700075149536,1.5955140590667725,1.6318349838256836,1.515848994255066,1.4087870121002195,1.4644759893417358,1.4423739910125732,1.439592957496643,1.5506500005722046,1.5152939558029177,1.4530019760131836,1.6111910343170166,1.621351957321167,1.6352449655532837,1.5844130516052246,1.4749460220336914,1.5082659721374512,1.4366979598999023,1.416363000869751,1.4452840089797974,1.5068169832229614,1.4391969442367554,1.4065040349960327,1.3994849920272827,1.362876057624817,1.3778990507125854,1.38019597530365,1.4683589935302734,1.449110984802246,1.499554991722107,1.528071045875549,1.4639190435409546,1.466493010520935,1.5054479837417605,1.5563030242919922,1.6287649869918823,1.5795730352401731,1.6108030080795288,1.6934809684753418,1.6603870391845703,1.6747870445251465,1.6846189498901367,1.617285966873169,1.6939140558242798,1.654024958610535,1.6888099908828735,1.6499179601669312,1.592921018600464,1.4587470293045044,1.5140539407730105,1.4357019662857056,1.4643219709396362,1.4334650039672852,1.3331739902496338,1.3928680419921875,1.420106053352356,1.3726409673690796,1.396420955657959,1.3909319639205933,1.3400739431381226,1.4211549758911133,1.4281760454177856,1.4177440404891968,1.3798619508743286,1.3991390466690063,1.3659709692001345,1.3442449569702148,1.3526660203933716,1.2428330183029177,1.2576849460601809,1.2389039993286133,1.1405789852142334,1.0357500314712524,1.1011639833450315,1.0775909423828125,1.0759589672088623,1.1710319519042969,1.0646909475326538,1.044132947921753,1.0212039947509766,0.9743450284004213,0.8219149708747864,0.890408992767334,0.6662909984588623,0.6015390157699585,0.6675419807434082,0.6861389875411987,0.7375659942626953,0.6772819757461548,0.7269420027732849,0.627577006816864,0.6588169932365417,0.6365100145339966,0.6493390202522278,0.6783120036125183,0.6419389843940735,0.6615539789199829,0.6459270119667053,0.6010609865188599,0.5735759735107422,0.5878840088844299,0.5985490083694458,0.6571679711341858,0.6620870232582092,0.601777970790863,0.6194149851799011,0.589917004108429,0.5956569910049438,0.5979499816894531,0.6325010061264038,0.6166599988937378,0.607429027557373,0.6336650252342224,0.5949959754943848,0.538565993309021,0.5019019842147827,0.4278829991817474,0.4157600104808807,0.4377489984035492,0.3819270133972168,0.3998410105705261,0.3466590046882629,0.3831090033054352,0.4007590115070343,0.4188779890537262,0.4565579891204834,0.5614690184593201,0.6122009754180908,0.6004760265350342,0.5607240200042725,0.5327320098876953,0.5111070275306702,0.4952319860458374,0.4773710072040558,0.4612370133399963,0.4930419921875,0.4606389999389648,0.4915930032730102,0.5117179751396179,0.5252649784088135,0.5625439882278442,0.6062650084495544,0.5895839929580688,0.5712680220603943,0.5635250210762024,0.5398619771003723,0.6359469890594482,0.7075889706611633,0.7046700119972229,0.726830005645752,0.753013014793396,0.9617800116539,0.9257910251617432,0.8327580094337463,0.907405972480774,0.8534409999847412,0.875423014163971,0.881263017654419,0.7757260203361511,0.7802429795265198,0.8956959843635559,0.9361129999160768,0.9387419819831848,0.9296129941940308,0.9282649755477904,0.8944060206413269,0.8791570067405701,0.8876979947090149,0.8918799757957458,0.9276589751243592,0.9073359966278076,0.906690001487732,0.9215499758720398,0.8905079960823059,0.9373279809951782,0.9214040040969848,0.933907985687256,1.0248470306396484,1.0009089708328247,0.9520350098609924,0.9357960224151612,0.8831790089607239,0.8596519827842712,0.7721350193023682,0.7868880033493042,0.8202160000801086,0.8103410005569458,0.831794023513794,0.8135910034179688,0.8187280297279358,0.7637230157852173,0.8053479790687561,0.7842509746551514,0.8174030184745789,0.8145359754562378,0.8318210244178772,0.8854309916496277,0.8719679713249207,0.8892750144004822,0.8942300081253052,0.881430983543396,0.8188769817352295,0.8408460021018982,0.8442130088806152,0.8915079832077026,0.9061970114707948,0.8946130275726318,0.9300119876861572,0.8544139862060547,0.8647890090942383,0.8242989778518677,0.8060460090637207,0.8294839859008789,0.7534220218658447,0.7660380005836487,0.7332789897918701,0.7042239904403687,0.752830982208252,0.7787100076675415,0.75416100025177,0.7401890158653259,0.7547540068626404,0.7404059767723083,0.7473729848861694,0.76351398229599,0.7774459719657898,0.7658810019493103,0.7642509937286377,0.8018050193786621,0.8361300230026245,0.8513619899749756,0.8330519795417786,0.8319000005722046,0.8136389851570129,0.8253769874572754,0.815284013748169,0.7905439734458923,0.784313976764679,0.7758209705352783,0.7927230000495911,0.7901009917259216,0.7995629906654358,0.847258985042572,0.8645099997520447,0.8460860252380371,0.8101159930229187,0.8320930004119873,0.8323850035667419,0.8998370170593262,0.8938770294189453,0.9197390079498292,0.9381380081176758,0.904833972454071,0.9448480010032654,0.9338110089302064,0.9088510274887084,0.903988003730774,0.8753330111503601,0.8717179894447327,0.9521219730377196,1.1697460412979126,1.1837220191955566,1.1379679441452026,1.2524490356445312,1.0444190502166748,0.8132039904594421,1.124959945678711,1.061987042427063,0.9554285407066344],\"yaxis\":\"y\",\"type\":\"scatter\",\"opacity\":0.8}],                        {\"template\":{\"data\":{\"histogram2dcontour\":[{\"type\":\"histogram2dcontour\",\"colorbar\":{\"outlinewidth\":0,\"ticks\":\"\"},\"colorscale\":[[0.0,\"#0d0887\"],[0.1111111111111111,\"#46039f\"],[0.2222222222222222,\"#7201a8\"],[0.3333333333333333,\"#9c179e\"],[0.4444444444444444,\"#bd3786\"],[0.5555555555555556,\"#d8576b\"],[0.6666666666666666,\"#ed7953\"],[0.7777777777777778,\"#fb9f3a\"],[0.8888888888888888,\"#fdca26\"],[1.0,\"#f0f921\"]]}],\"choropleth\":[{\"type\":\"choropleth\",\"colorbar\":{\"outlinewidth\":0,\"ticks\":\"\"}}],\"histogram2d\":[{\"type\":\"histogram2d\",\"colorbar\":{\"outlinewidth\":0,\"ticks\":\"\"},\"colorscale\":[[0.0,\"#0d0887\"],[0.1111111111111111,\"#46039f\"],[0.2222222222222222,\"#7201a8\"],[0.3333333333333333,\"#9c179e\"],[0.4444444444444444,\"#bd3786\"],[0.5555555555555556,\"#d8576b\"],[0.6666666666666666,\"#ed7953\"],[0.7777777777777778,\"#fb9f3a\"],[0.8888888888888888,\"#fdca26\"],[1.0,\"#f0f921\"]]}],\"heatmap\":[{\"type\":\"heatmap\",\"colorbar\":{\"outlinewidth\":0,\"ticks\":\"\"},\"colorscale\":[[0.0,\"#0d0887\"],[0.1111111111111111,\"#46039f\"],[0.2222222222222222,\"#7201a8\"],[0.3333333333333333,\"#9c179e\"],[0.4444444444444444,\"#bd3786\"],[0.5555555555555556,\"#d8576b\"],[0.6666666666666666,\"#ed7953\"],[0.7777777777777778,\"#fb9f3a\"],[0.8888888888888888,\"#fdca26\"],[1.0,\"#f0f921\"]]}],\"heatmapgl\":[{\"type\":\"heatmapgl\",\"colorbar\":{\"outlinewidth\":0,\"ticks\":\"\"},\"colorscale\":[[0.0,\"#0d0887\"],[0.1111111111111111,\"#46039f\"],[0.2222222222222222,\"#7201a8\"],[0.3333333333333333,\"#9c179e\"],[0.4444444444444444,\"#bd3786\"],[0.5555555555555556,\"#d8576b\"],[0.6666666666666666,\"#ed7953\"],[0.7777777777777778,\"#fb9f3a\"],[0.8888888888888888,\"#fdca26\"],[1.0,\"#f0f921\"]]}],\"contourcarpet\":[{\"type\":\"contourcarpet\",\"colorbar\":{\"outlinewidth\":0,\"ticks\":\"\"}}],\"contour\":[{\"type\":\"contour\",\"colorbar\":{\"outlinewidth\":0,\"ticks\":\"\"},\"colorscale\":[[0.0,\"#0d0887\"],[0.1111111111111111,\"#46039f\"],[0.2222222222222222,\"#7201a8\"],[0.3333333333333333,\"#9c179e\"],[0.4444444444444444,\"#bd3786\"],[0.5555555555555556,\"#d8576b\"],[0.6666666666666666,\"#ed7953\"],[0.7777777777777778,\"#fb9f3a\"],[0.8888888888888888,\"#fdca26\"],[1.0,\"#f0f921\"]]}],\"surface\":[{\"type\":\"surface\",\"colorbar\":{\"outlinewidth\":0,\"ticks\":\"\"},\"colorscale\":[[0.0,\"#0d0887\"],[0.1111111111111111,\"#46039f\"],[0.2222222222222222,\"#7201a8\"],[0.3333333333333333,\"#9c179e\"],[0.4444444444444444,\"#bd3786\"],[0.5555555555555556,\"#d8576b\"],[0.6666666666666666,\"#ed7953\"],[0.7777777777777778,\"#fb9f3a\"],[0.8888888888888888,\"#fdca26\"],[1.0,\"#f0f921\"]]}],\"mesh3d\":[{\"type\":\"mesh3d\",\"colorbar\":{\"outlinewidth\":0,\"ticks\":\"\"}}],\"scatter\":[{\"fillpattern\":{\"fillmode\":\"overlay\",\"size\":10,\"solidity\":0.2},\"type\":\"scatter\"}],\"parcoords\":[{\"type\":\"parcoords\",\"line\":{\"colorbar\":{\"outlinewidth\":0,\"ticks\":\"\"}}}],\"scatterpolargl\":[{\"type\":\"scatterpolargl\",\"marker\":{\"colorbar\":{\"outlinewidth\":0,\"ticks\":\"\"}}}],\"bar\":[{\"error_x\":{\"color\":\"#2a3f5f\"},\"error_y\":{\"color\":\"#2a3f5f\"},\"marker\":{\"line\":{\"color\":\"#E5ECF6\",\"width\":0.5},\"pattern\":{\"fillmode\":\"overlay\",\"size\":10,\"solidity\":0.2}},\"type\":\"bar\"}],\"scattergeo\":[{\"type\":\"scattergeo\",\"marker\":{\"colorbar\":{\"outlinewidth\":0,\"ticks\":\"\"}}}],\"scatterpolar\":[{\"type\":\"scatterpolar\",\"marker\":{\"colorbar\":{\"outlinewidth\":0,\"ticks\":\"\"}}}],\"histogram\":[{\"marker\":{\"pattern\":{\"fillmode\":\"overlay\",\"size\":10,\"solidity\":0.2}},\"type\":\"histogram\"}],\"scattergl\":[{\"type\":\"scattergl\",\"marker\":{\"colorbar\":{\"outlinewidth\":0,\"ticks\":\"\"}}}],\"scatter3d\":[{\"type\":\"scatter3d\",\"line\":{\"colorbar\":{\"outlinewidth\":0,\"ticks\":\"\"}},\"marker\":{\"colorbar\":{\"outlinewidth\":0,\"ticks\":\"\"}}}],\"scattermapbox\":[{\"type\":\"scattermapbox\",\"marker\":{\"colorbar\":{\"outlinewidth\":0,\"ticks\":\"\"}}}],\"scatterternary\":[{\"type\":\"scatterternary\",\"marker\":{\"colorbar\":{\"outlinewidth\":0,\"ticks\":\"\"}}}],\"scattercarpet\":[{\"type\":\"scattercarpet\",\"marker\":{\"colorbar\":{\"outlinewidth\":0,\"ticks\":\"\"}}}],\"carpet\":[{\"aaxis\":{\"endlinecolor\":\"#2a3f5f\",\"gridcolor\":\"white\",\"linecolor\":\"white\",\"minorgridcolor\":\"white\",\"startlinecolor\":\"#2a3f5f\"},\"baxis\":{\"endlinecolor\":\"#2a3f5f\",\"gridcolor\":\"white\",\"linecolor\":\"white\",\"minorgridcolor\":\"white\",\"startlinecolor\":\"#2a3f5f\"},\"type\":\"carpet\"}],\"table\":[{\"cells\":{\"fill\":{\"color\":\"#EBF0F8\"},\"line\":{\"color\":\"white\"}},\"header\":{\"fill\":{\"color\":\"#C8D4E3\"},\"line\":{\"color\":\"white\"}},\"type\":\"table\"}],\"barpolar\":[{\"marker\":{\"line\":{\"color\":\"#E5ECF6\",\"width\":0.5},\"pattern\":{\"fillmode\":\"overlay\",\"size\":10,\"solidity\":0.2}},\"type\":\"barpolar\"}],\"pie\":[{\"automargin\":true,\"type\":\"pie\"}]},\"layout\":{\"autotypenumbers\":\"strict\",\"colorway\":[\"#636efa\",\"#EF553B\",\"#00cc96\",\"#ab63fa\",\"#FFA15A\",\"#19d3f3\",\"#FF6692\",\"#B6E880\",\"#FF97FF\",\"#FECB52\"],\"font\":{\"color\":\"#2a3f5f\"},\"hovermode\":\"closest\",\"hoverlabel\":{\"align\":\"left\"},\"paper_bgcolor\":\"white\",\"plot_bgcolor\":\"#E5ECF6\",\"polar\":{\"bgcolor\":\"#E5ECF6\",\"angularaxis\":{\"gridcolor\":\"white\",\"linecolor\":\"white\",\"ticks\":\"\"},\"radialaxis\":{\"gridcolor\":\"white\",\"linecolor\":\"white\",\"ticks\":\"\"}},\"ternary\":{\"bgcolor\":\"#E5ECF6\",\"aaxis\":{\"gridcolor\":\"white\",\"linecolor\":\"white\",\"ticks\":\"\"},\"baxis\":{\"gridcolor\":\"white\",\"linecolor\":\"white\",\"ticks\":\"\"},\"caxis\":{\"gridcolor\":\"white\",\"linecolor\":\"white\",\"ticks\":\"\"}},\"coloraxis\":{\"colorbar\":{\"outlinewidth\":0,\"ticks\":\"\"}},\"colorscale\":{\"sequential\":[[0.0,\"#0d0887\"],[0.1111111111111111,\"#46039f\"],[0.2222222222222222,\"#7201a8\"],[0.3333333333333333,\"#9c179e\"],[0.4444444444444444,\"#bd3786\"],[0.5555555555555556,\"#d8576b\"],[0.6666666666666666,\"#ed7953\"],[0.7777777777777778,\"#fb9f3a\"],[0.8888888888888888,\"#fdca26\"],[1.0,\"#f0f921\"]],\"sequentialminus\":[[0.0,\"#0d0887\"],[0.1111111111111111,\"#46039f\"],[0.2222222222222222,\"#7201a8\"],[0.3333333333333333,\"#9c179e\"],[0.4444444444444444,\"#bd3786\"],[0.5555555555555556,\"#d8576b\"],[0.6666666666666666,\"#ed7953\"],[0.7777777777777778,\"#fb9f3a\"],[0.8888888888888888,\"#fdca26\"],[1.0,\"#f0f921\"]],\"diverging\":[[0,\"#8e0152\"],[0.1,\"#c51b7d\"],[0.2,\"#de77ae\"],[0.3,\"#f1b6da\"],[0.4,\"#fde0ef\"],[0.5,\"#f7f7f7\"],[0.6,\"#e6f5d0\"],[0.7,\"#b8e186\"],[0.8,\"#7fbc41\"],[0.9,\"#4d9221\"],[1,\"#276419\"]]},\"xaxis\":{\"gridcolor\":\"white\",\"linecolor\":\"white\",\"ticks\":\"\",\"title\":{\"standoff\":15},\"zerolinecolor\":\"white\",\"automargin\":true,\"zerolinewidth\":2},\"yaxis\":{\"gridcolor\":\"white\",\"linecolor\":\"white\",\"ticks\":\"\",\"title\":{\"standoff\":15},\"zerolinecolor\":\"white\",\"automargin\":true,\"zerolinewidth\":2},\"scene\":{\"xaxis\":{\"backgroundcolor\":\"#E5ECF6\",\"gridcolor\":\"white\",\"linecolor\":\"white\",\"showbackground\":true,\"ticks\":\"\",\"zerolinecolor\":\"white\",\"gridwidth\":2},\"yaxis\":{\"backgroundcolor\":\"#E5ECF6\",\"gridcolor\":\"white\",\"linecolor\":\"white\",\"showbackground\":true,\"ticks\":\"\",\"zerolinecolor\":\"white\",\"gridwidth\":2},\"zaxis\":{\"backgroundcolor\":\"#E5ECF6\",\"gridcolor\":\"white\",\"linecolor\":\"white\",\"showbackground\":true,\"ticks\":\"\",\"zerolinecolor\":\"white\",\"gridwidth\":2}},\"shapedefaults\":{\"line\":{\"color\":\"#2a3f5f\"}},\"annotationdefaults\":{\"arrowcolor\":\"#2a3f5f\",\"arrowhead\":0,\"arrowwidth\":1},\"geo\":{\"bgcolor\":\"white\",\"landcolor\":\"#E5ECF6\",\"subunitcolor\":\"white\",\"showland\":true,\"showlakes\":true,\"lakecolor\":\"white\"},\"title\":{\"x\":0.05},\"mapbox\":{\"style\":\"light\"}}},\"xaxis\":{\"anchor\":\"y\",\"domain\":[0.0,1.0],\"title\":{\"text\":\"Date\"},\"showgrid\":false},\"yaxis\":{\"anchor\":\"x\",\"domain\":[0.0,1.0],\"title\":{\"text\":\"Close Matic Price\"},\"showgrid\":false},\"legend\":{\"tracegroupgap\":0},\"margin\":{\"t\":60},\"title\":{\"text\":\"Considered period to predict Matic close price\"},\"font\":{\"size\":15,\"color\":\"black\"},\"plot_bgcolor\":\"white\"},                        {\"responsive\": true}                    ).then(function(){\n",
       "                            \n",
       "var gd = document.getElementById('34aa8f09-fc01-4fa8-9444-1d223ab0a5c7');\n",
       "var x = new MutationObserver(function (mutations, observer) {{\n",
       "        var display = window.getComputedStyle(gd).display;\n",
       "        if (!display || display === 'none') {{\n",
       "            console.log([gd, 'removed!']);\n",
       "            Plotly.purge(gd);\n",
       "            observer.disconnect();\n",
       "        }}\n",
       "}});\n",
       "\n",
       "// Listen for the removal of the full notebook cells\n",
       "var notebookContainer = gd.closest('#notebook-container');\n",
       "if (notebookContainer) {{\n",
       "    x.observe(notebookContainer, {childList: true});\n",
       "}}\n",
       "\n",
       "// Listen for the clearing of the current output cell\n",
       "var outputEl = gd.closest('.output');\n",
       "if (outputEl) {{\n",
       "    x.observe(outputEl, {childList: true});\n",
       "}}\n",
       "\n",
       "                        })                };                });            </script>        </div>"
      ]
     },
     "metadata": {},
     "output_type": "display_data"
    }
   ],
   "source": [
    "fig = px.line(closed_matic, x = closed_matic.Date, y = closed_matic.Close, labels = {'Date':'Date','Close':'Close Matic Price'})\n",
    "fig.update_traces(marker_line_width = 2, opacity = 0.8, marker_line_color = 'orange')\n",
    "fig.update_layout(title_text = 'Considered period to predict Matic close price', plot_bgcolor='white', font_size=15, font_color='black')\n",
    "fig.update_xaxes(showgrid = False)\n",
    "fig.update_yaxes(showgrid = False)\n",
    "fig.show()"
   ]
  },
  {
   "cell_type": "markdown",
   "id": "024eb146",
   "metadata": {
    "id": "6pfmoTzWGyxM",
    "papermill": {
     "duration": 0.026031,
     "end_time": "2023-03-13T11:31:14.120710",
     "exception": false,
     "start_time": "2023-03-13T11:31:14.094679",
     "status": "completed"
    },
    "tags": []
   },
   "source": [
    "# **Normalizing Open Price**"
   ]
  },
  {
   "cell_type": "code",
   "execution_count": 35,
   "id": "ac41476c",
   "metadata": {
    "execution": {
     "iopub.execute_input": "2023-03-13T11:31:14.174050Z",
     "iopub.status.busy": "2023-03-13T11:31:14.173554Z",
     "iopub.status.idle": "2023-03-13T11:31:14.181411Z",
     "shell.execute_reply": "2023-03-13T11:31:14.180386Z"
    },
    "id": "5LmIzygoZg_h",
    "outputId": "76d960ea-ef63-412d-9a6d-aaad3cff4f4d",
    "papermill": {
     "duration": 0.038176,
     "end_time": "2023-03-13T11:31:14.184406",
     "exception": false,
     "start_time": "2023-03-13T11:31:14.146230",
     "status": "completed"
    },
    "tags": []
   },
   "outputs": [
    {
     "name": "stdout",
     "output_type": "stream",
     "text": [
      "(365, 1)\n"
     ]
    }
   ],
   "source": [
    "del closed_matic['Date']\n",
    "scaler = MinMaxScaler(feature_range = (0,1))\n",
    "closed_matic = scaler.fit_transform(np.array(closed_matic).reshape(-1,1))\n",
    "print(closed_matic.shape)"
   ]
  },
  {
   "cell_type": "markdown",
   "id": "87a8b436",
   "metadata": {
    "id": "lfr8OFFMOLqS",
    "papermill": {
     "duration": 0.026634,
     "end_time": "2023-03-13T11:31:14.236576",
     "exception": false,
     "start_time": "2023-03-13T11:31:14.209942",
     "status": "completed"
    },
    "tags": []
   },
   "source": [
    "# **Preparing data for train and test**"
   ]
  },
  {
   "cell_type": "code",
   "execution_count": 36,
   "id": "3ed5b798",
   "metadata": {
    "execution": {
     "iopub.execute_input": "2023-03-13T11:31:14.292533Z",
     "iopub.status.busy": "2023-03-13T11:31:14.292090Z",
     "iopub.status.idle": "2023-03-13T11:31:14.299262Z",
     "shell.execute_reply": "2023-03-13T11:31:14.298005Z"
    },
    "id": "N23Jb3gLZ6_i",
    "outputId": "2bda8b16-01cb-4d77-80ab-386674f0b988",
    "papermill": {
     "duration": 0.037629,
     "end_time": "2023-03-13T11:31:14.301957",
     "exception": false,
     "start_time": "2023-03-13T11:31:14.264328",
     "status": "completed"
    },
    "tags": []
   },
   "outputs": [
    {
     "name": "stdout",
     "output_type": "stream",
     "text": [
      "Train_data : (255, 1)\n",
      "Test_data : (110, 1)\n"
     ]
    }
   ],
   "source": [
    "train_size = int(len(closed_matic)*0.7)\n",
    "test_size = len(closed_matic) - train_size\n",
    "train_data , test_data = closed_matic[0:train_size, :] ,closed_matic[train_size:len(closed_matic),:1]\n",
    "print(\"Train_data :\", train_data.shape)\n",
    "print(\"Test_data :\", test_data.shape)"
   ]
  },
  {
   "cell_type": "markdown",
   "id": "67e01e59",
   "metadata": {
    "id": "JYoNUXMvORZs",
    "papermill": {
     "duration": 0.025115,
     "end_time": "2023-03-13T11:31:14.353338",
     "exception": false,
     "start_time": "2023-03-13T11:31:14.328223",
     "status": "completed"
    },
    "tags": []
   },
   "source": [
    "# **Converting Open price based on Time Series Forecasting requirement**"
   ]
  },
  {
   "cell_type": "code",
   "execution_count": 37,
   "id": "b52f6696",
   "metadata": {
    "execution": {
     "iopub.execute_input": "2023-03-13T11:31:14.410138Z",
     "iopub.status.busy": "2023-03-13T11:31:14.409674Z",
     "iopub.status.idle": "2023-03-13T11:31:14.416673Z",
     "shell.execute_reply": "2023-03-13T11:31:14.415466Z"
    },
    "id": "YQztGNR0afGE",
    "papermill": {
     "duration": 0.039735,
     "end_time": "2023-03-13T11:31:14.419233",
     "exception": false,
     "start_time": "2023-03-13T11:31:14.379498",
     "status": "completed"
    },
    "tags": []
   },
   "outputs": [],
   "source": [
    "#Converting the array of values into a dataset matrix\n",
    "def create_dataset(dataset, time_step = 1):\n",
    "    dataX, dataY = [], []\n",
    "    for i in range(len(dataset) - time_step - 1):\n",
    "        a = dataset[i:(i + time_step), 0]    \n",
    "        dataX.append(a)\n",
    "        dataY.append(dataset[i + time_step, 0])\n",
    "    return np.array(dataX), np.array(dataY)"
   ]
  },
  {
   "cell_type": "code",
   "execution_count": 38,
   "id": "548f1cbd",
   "metadata": {
    "execution": {
     "iopub.execute_input": "2023-03-13T11:31:14.478252Z",
     "iopub.status.busy": "2023-03-13T11:31:14.477769Z",
     "iopub.status.idle": "2023-03-13T11:31:14.487468Z",
     "shell.execute_reply": "2023-03-13T11:31:14.485558Z"
    },
    "id": "1rdam8V6dBiX",
    "outputId": "3e55b37a-8b04-4da2-e7d3-bbc468aa52a0",
    "papermill": {
     "duration": 0.041119,
     "end_time": "2023-03-13T11:31:14.490183",
     "exception": false,
     "start_time": "2023-03-13T11:31:14.449064",
     "status": "completed"
    },
    "tags": []
   },
   "outputs": [
    {
     "name": "stdout",
     "output_type": "stream",
     "text": [
      "X_train:  (239, 15)\n",
      "y_train:  (239,)\n",
      "X_test:  (94, 15)\n",
      "y_test (94,)\n"
     ]
    }
   ],
   "source": [
    "time_step = 15\n",
    "x_train, y_train = create_dataset(train_data, time_step)\n",
    "x_test, y_test = create_dataset(test_data, time_step)\n",
    "\n",
    "print(\"X_train: \", x_train.shape)\n",
    "print(\"y_train: \", y_train.shape)\n",
    "print(\"X_test: \", x_test.shape)\n",
    "print(\"y_test\", y_test.shape)"
   ]
  },
  {
   "cell_type": "markdown",
   "id": "2109025b",
   "metadata": {
    "id": "u-rzpD4zOgYB",
    "papermill": {
     "duration": 0.025816,
     "end_time": "2023-03-13T11:31:14.542046",
     "exception": false,
     "start_time": "2023-03-13T11:31:14.516230",
     "status": "completed"
    },
    "tags": []
   },
   "source": [
    "# **Model Building (GRU)**\n"
   ]
  },
  {
   "cell_type": "markdown",
   "id": "27d4be09",
   "metadata": {
    "id": "N1k6d_xjGypJ",
    "papermill": {
     "duration": 0.027631,
     "end_time": "2023-03-13T11:31:14.599492",
     "exception": false,
     "start_time": "2023-03-13T11:31:14.571861",
     "status": "completed"
    },
    "tags": []
   },
   "source": [
    "****\n",
    "GRUs (Gated Recurrent Units) are very similar to Long Short Term Memory(LSTM). Just like LSTM, GRU uses gates to control the flow of information. They are relatively new as compared to LSTM. This is the reason they offer some improvement over LSTM and have simpler architecture.\n",
    "****"
   ]
  },
  {
   "cell_type": "code",
   "execution_count": 39,
   "id": "a752ced9",
   "metadata": {
    "execution": {
     "iopub.execute_input": "2023-03-13T11:31:14.658897Z",
     "iopub.status.busy": "2023-03-13T11:31:14.658437Z",
     "iopub.status.idle": "2023-03-13T11:31:14.668127Z",
     "shell.execute_reply": "2023-03-13T11:31:14.666452Z"
    },
    "id": "aRDVW-cDHH-S",
    "outputId": "17d17c4a-6c00-4705-99da-c7be331a4235",
    "papermill": {
     "duration": 0.041769,
     "end_time": "2023-03-13T11:31:14.670789",
     "exception": false,
     "start_time": "2023-03-13T11:31:14.629020",
     "status": "completed"
    },
    "tags": []
   },
   "outputs": [
    {
     "name": "stdout",
     "output_type": "stream",
     "text": [
      "(239, 15, 1) (94, 15, 1)\n"
     ]
    }
   ],
   "source": [
    "#Reshaping input to be of format [samples, time steps, features] which is reuqired for LSTM\n",
    "x_train_lstm = x_train.reshape(x_train.shape[0], x_train.shape[1], 1)\n",
    "x_test_lstm = x_test.reshape(x_test.shape[0], x_test.shape[1], 1)\n",
    "\n",
    "print(x_train_lstm.shape, x_test_lstm.shape)"
   ]
  },
  {
   "cell_type": "code",
   "execution_count": 40,
   "id": "3d48b74f",
   "metadata": {
    "execution": {
     "iopub.execute_input": "2023-03-13T11:31:14.751603Z",
     "iopub.status.busy": "2023-03-13T11:31:14.750674Z",
     "iopub.status.idle": "2023-03-13T11:31:15.942158Z",
     "shell.execute_reply": "2023-03-13T11:31:15.940526Z"
    },
    "id": "1-9pVdV1Hswk",
    "papermill": {
     "duration": 1.238699,
     "end_time": "2023-03-13T11:31:15.945267",
     "exception": false,
     "start_time": "2023-03-13T11:31:14.706568",
     "status": "completed"
    },
    "tags": []
   },
   "outputs": [],
   "source": [
    "tf.keras.backend.clear_session()\n",
    "model = Sequential()\n",
    "model.add(GRU(128, return_sequences = True, input_shape = (time_step, 1)))\n",
    "model.add(GRU(128, return_sequences = True))\n",
    "model.add(GRU(128))\n",
    "model.add(Dropout(0.20))\n",
    "model.add(Dense(1))\n",
    "model.compile(loss = 'mean_squared_error', optimizer = 'adam')"
   ]
  },
  {
   "cell_type": "code",
   "execution_count": 41,
   "id": "392134c0",
   "metadata": {
    "execution": {
     "iopub.execute_input": "2023-03-13T11:31:16.002644Z",
     "iopub.status.busy": "2023-03-13T11:31:16.002187Z",
     "iopub.status.idle": "2023-03-13T11:31:16.039299Z",
     "shell.execute_reply": "2023-03-13T11:31:16.036872Z"
    },
    "id": "swdAh2hQHslH",
    "outputId": "a8fc33a7-5ec2-4a0f-f091-512598033588",
    "papermill": {
     "duration": 0.073115,
     "end_time": "2023-03-13T11:31:16.045911",
     "exception": false,
     "start_time": "2023-03-13T11:31:15.972796",
     "status": "completed"
    },
    "tags": []
   },
   "outputs": [
    {
     "name": "stdout",
     "output_type": "stream",
     "text": [
      "Model: \"sequential\"\n",
      "_________________________________________________________________\n",
      " Layer (type)                Output Shape              Param #   \n",
      "=================================================================\n",
      " gru (GRU)                   (None, 15, 128)           50304     \n",
      "                                                                 \n",
      " gru_1 (GRU)                 (None, 15, 128)           99072     \n",
      "                                                                 \n",
      " gru_2 (GRU)                 (None, 128)               99072     \n",
      "                                                                 \n",
      " dropout (Dropout)           (None, 128)               0         \n",
      "                                                                 \n",
      " dense (Dense)               (None, 1)                 129       \n",
      "                                                                 \n",
      "=================================================================\n",
      "Total params: 248,577\n",
      "Trainable params: 248,577\n",
      "Non-trainable params: 0\n",
      "_________________________________________________________________\n"
     ]
    }
   ],
   "source": [
    "model.summary()"
   ]
  },
  {
   "cell_type": "code",
   "execution_count": 42,
   "id": "5b1f9913",
   "metadata": {
    "execution": {
     "iopub.execute_input": "2023-03-13T11:31:16.104551Z",
     "iopub.status.busy": "2023-03-13T11:31:16.104095Z",
     "iopub.status.idle": "2023-03-13T11:34:44.524001Z",
     "shell.execute_reply": "2023-03-13T11:34:44.522344Z"
    },
    "id": "x81zXu40IP5g",
    "papermill": {
     "duration": 208.453893,
     "end_time": "2023-03-13T11:34:44.527780",
     "exception": false,
     "start_time": "2023-03-13T11:31:16.073887",
     "status": "completed"
    },
    "tags": []
   },
   "outputs": [
    {
     "name": "stdout",
     "output_type": "stream",
     "text": [
      "Epoch 1/300\n",
      "8/8 [==============================] - 9s 247ms/step - loss: 0.0697 - val_loss: 0.0012\n",
      "Epoch 2/300\n",
      "8/8 [==============================] - 0s 61ms/step - loss: 0.0256 - val_loss: 0.0086\n",
      "Epoch 3/300\n",
      "8/8 [==============================] - 0s 58ms/step - loss: 0.0112 - val_loss: 8.4442e-04\n",
      "Epoch 4/300\n",
      "8/8 [==============================] - 0s 60ms/step - loss: 0.0084 - val_loss: 0.0013\n",
      "Epoch 5/300\n",
      "8/8 [==============================] - 0s 59ms/step - loss: 0.0053 - val_loss: 0.0016\n",
      "Epoch 6/300\n",
      "8/8 [==============================] - 0s 57ms/step - loss: 0.0049 - val_loss: 8.3566e-04\n",
      "Epoch 7/300\n",
      "8/8 [==============================] - 0s 57ms/step - loss: 0.0048 - val_loss: 9.4980e-04\n",
      "Epoch 8/300\n",
      "8/8 [==============================] - 0s 59ms/step - loss: 0.0040 - val_loss: 8.1093e-04\n",
      "Epoch 9/300\n",
      "8/8 [==============================] - 0s 58ms/step - loss: 0.0035 - val_loss: 8.8301e-04\n",
      "Epoch 10/300\n",
      "8/8 [==============================] - 0s 60ms/step - loss: 0.0034 - val_loss: 7.7301e-04\n",
      "Epoch 11/300\n",
      "8/8 [==============================] - 0s 60ms/step - loss: 0.0032 - val_loss: 7.5815e-04\n",
      "Epoch 12/300\n",
      "8/8 [==============================] - 0s 63ms/step - loss: 0.0035 - val_loss: 9.1920e-04\n",
      "Epoch 13/300\n",
      "8/8 [==============================] - 0s 62ms/step - loss: 0.0032 - val_loss: 7.6988e-04\n",
      "Epoch 14/300\n",
      "8/8 [==============================] - 1s 72ms/step - loss: 0.0024 - val_loss: 7.3471e-04\n",
      "Epoch 15/300\n",
      "8/8 [==============================] - 1s 64ms/step - loss: 0.0031 - val_loss: 7.2224e-04\n",
      "Epoch 16/300\n",
      "8/8 [==============================] - 0s 58ms/step - loss: 0.0030 - val_loss: 7.4737e-04\n",
      "Epoch 17/300\n",
      "8/8 [==============================] - 0s 59ms/step - loss: 0.0034 - val_loss: 7.1920e-04\n",
      "Epoch 18/300\n",
      "8/8 [==============================] - 0s 60ms/step - loss: 0.0028 - val_loss: 9.4029e-04\n",
      "Epoch 19/300\n",
      "8/8 [==============================] - 0s 64ms/step - loss: 0.0031 - val_loss: 7.2867e-04\n",
      "Epoch 20/300\n",
      "8/8 [==============================] - 0s 62ms/step - loss: 0.0027 - val_loss: 7.1228e-04\n",
      "Epoch 21/300\n",
      "8/8 [==============================] - 0s 62ms/step - loss: 0.0027 - val_loss: 6.9880e-04\n",
      "Epoch 22/300\n",
      "8/8 [==============================] - 0s 56ms/step - loss: 0.0026 - val_loss: 7.8242e-04\n",
      "Epoch 23/300\n",
      "8/8 [==============================] - 0s 59ms/step - loss: 0.0028 - val_loss: 9.2305e-04\n",
      "Epoch 24/300\n",
      "8/8 [==============================] - 0s 59ms/step - loss: 0.0033 - val_loss: 8.5607e-04\n",
      "Epoch 25/300\n",
      "8/8 [==============================] - 0s 65ms/step - loss: 0.0030 - val_loss: 7.8750e-04\n",
      "Epoch 26/300\n",
      "8/8 [==============================] - 0s 60ms/step - loss: 0.0024 - val_loss: 6.7531e-04\n",
      "Epoch 27/300\n",
      "8/8 [==============================] - 0s 58ms/step - loss: 0.0023 - val_loss: 7.8568e-04\n",
      "Epoch 28/300\n",
      "8/8 [==============================] - 0s 60ms/step - loss: 0.0025 - val_loss: 0.0011\n",
      "Epoch 29/300\n",
      "8/8 [==============================] - 0s 60ms/step - loss: 0.0024 - val_loss: 6.6220e-04\n",
      "Epoch 30/300\n",
      "8/8 [==============================] - 0s 60ms/step - loss: 0.0026 - val_loss: 0.0013\n",
      "Epoch 31/300\n",
      "8/8 [==============================] - 0s 60ms/step - loss: 0.0029 - val_loss: 7.7395e-04\n",
      "Epoch 32/300\n",
      "8/8 [==============================] - 0s 58ms/step - loss: 0.0030 - val_loss: 6.7519e-04\n",
      "Epoch 33/300\n",
      "8/8 [==============================] - 1s 66ms/step - loss: 0.0026 - val_loss: 7.4449e-04\n",
      "Epoch 34/300\n",
      "8/8 [==============================] - 1s 65ms/step - loss: 0.0023 - val_loss: 7.9405e-04\n",
      "Epoch 35/300\n",
      "8/8 [==============================] - 0s 60ms/step - loss: 0.0024 - val_loss: 0.0011\n",
      "Epoch 36/300\n",
      "8/8 [==============================] - 0s 62ms/step - loss: 0.0030 - val_loss: 9.4434e-04\n",
      "Epoch 37/300\n",
      "8/8 [==============================] - 0s 61ms/step - loss: 0.0026 - val_loss: 6.4245e-04\n",
      "Epoch 38/300\n",
      "8/8 [==============================] - 0s 63ms/step - loss: 0.0024 - val_loss: 8.6134e-04\n",
      "Epoch 39/300\n",
      "8/8 [==============================] - 0s 58ms/step - loss: 0.0025 - val_loss: 6.9157e-04\n",
      "Epoch 40/300\n",
      "8/8 [==============================] - 0s 60ms/step - loss: 0.0024 - val_loss: 8.8644e-04\n",
      "Epoch 41/300\n",
      "8/8 [==============================] - 0s 60ms/step - loss: 0.0027 - val_loss: 7.5336e-04\n",
      "Epoch 42/300\n",
      "8/8 [==============================] - 0s 59ms/step - loss: 0.0023 - val_loss: 7.3103e-04\n",
      "Epoch 43/300\n",
      "8/8 [==============================] - 1s 65ms/step - loss: 0.0031 - val_loss: 8.5730e-04\n",
      "Epoch 44/300\n",
      "8/8 [==============================] - 0s 60ms/step - loss: 0.0030 - val_loss: 6.4267e-04\n",
      "Epoch 45/300\n",
      "8/8 [==============================] - 0s 61ms/step - loss: 0.0024 - val_loss: 6.1328e-04\n",
      "Epoch 46/300\n",
      "8/8 [==============================] - 0s 58ms/step - loss: 0.0025 - val_loss: 0.0011\n",
      "Epoch 47/300\n",
      "8/8 [==============================] - 0s 62ms/step - loss: 0.0028 - val_loss: 6.4555e-04\n",
      "Epoch 48/300\n",
      "8/8 [==============================] - 1s 66ms/step - loss: 0.0024 - val_loss: 6.2878e-04\n",
      "Epoch 49/300\n",
      "8/8 [==============================] - 1s 64ms/step - loss: 0.0023 - val_loss: 7.8025e-04\n",
      "Epoch 50/300\n",
      "8/8 [==============================] - 0s 59ms/step - loss: 0.0028 - val_loss: 5.8864e-04\n",
      "Epoch 51/300\n",
      "8/8 [==============================] - 0s 61ms/step - loss: 0.0020 - val_loss: 7.0230e-04\n",
      "Epoch 52/300\n",
      "8/8 [==============================] - 0s 58ms/step - loss: 0.0024 - val_loss: 6.2451e-04\n",
      "Epoch 53/300\n",
      "8/8 [==============================] - 0s 60ms/step - loss: 0.0026 - val_loss: 0.0013\n",
      "Epoch 54/300\n",
      "8/8 [==============================] - 0s 58ms/step - loss: 0.0026 - val_loss: 6.7577e-04\n",
      "Epoch 55/300\n",
      "8/8 [==============================] - 0s 60ms/step - loss: 0.0022 - val_loss: 6.2537e-04\n",
      "Epoch 56/300\n",
      "8/8 [==============================] - 0s 60ms/step - loss: 0.0019 - val_loss: 9.3075e-04\n",
      "Epoch 57/300\n",
      "8/8 [==============================] - 0s 58ms/step - loss: 0.0022 - val_loss: 5.9359e-04\n",
      "Epoch 58/300\n",
      "8/8 [==============================] - 0s 58ms/step - loss: 0.0023 - val_loss: 5.9817e-04\n",
      "Epoch 59/300\n",
      "8/8 [==============================] - 0s 56ms/step - loss: 0.0019 - val_loss: 5.7740e-04\n",
      "Epoch 60/300\n",
      "8/8 [==============================] - 0s 58ms/step - loss: 0.0021 - val_loss: 6.0049e-04\n",
      "Epoch 61/300\n",
      "8/8 [==============================] - 0s 62ms/step - loss: 0.0021 - val_loss: 7.4744e-04\n",
      "Epoch 62/300\n",
      "8/8 [==============================] - 0s 61ms/step - loss: 0.0021 - val_loss: 7.1404e-04\n",
      "Epoch 63/300\n",
      "8/8 [==============================] - 0s 59ms/step - loss: 0.0018 - val_loss: 5.7786e-04\n",
      "Epoch 64/300\n",
      "8/8 [==============================] - 1s 66ms/step - loss: 0.0017 - val_loss: 5.9562e-04\n",
      "Epoch 65/300\n",
      "8/8 [==============================] - 0s 58ms/step - loss: 0.0020 - val_loss: 7.1176e-04\n",
      "Epoch 66/300\n",
      "8/8 [==============================] - 0s 61ms/step - loss: 0.0021 - val_loss: 6.4331e-04\n",
      "Epoch 67/300\n",
      "8/8 [==============================] - 1s 63ms/step - loss: 0.0030 - val_loss: 0.0010\n",
      "Epoch 68/300\n",
      "8/8 [==============================] - 0s 62ms/step - loss: 0.0035 - val_loss: 0.0011\n",
      "Epoch 69/300\n",
      "8/8 [==============================] - 1s 66ms/step - loss: 0.0027 - val_loss: 5.8285e-04\n",
      "Epoch 70/300\n",
      "8/8 [==============================] - 1s 64ms/step - loss: 0.0025 - val_loss: 0.0013\n",
      "Epoch 71/300\n",
      "8/8 [==============================] - 1s 65ms/step - loss: 0.0029 - val_loss: 6.1011e-04\n",
      "Epoch 72/300\n",
      "8/8 [==============================] - 0s 63ms/step - loss: 0.0023 - val_loss: 6.7381e-04\n",
      "Epoch 73/300\n",
      "8/8 [==============================] - 0s 63ms/step - loss: 0.0023 - val_loss: 6.1147e-04\n",
      "Epoch 74/300\n",
      "8/8 [==============================] - 0s 57ms/step - loss: 0.0019 - val_loss: 5.7931e-04\n",
      "Epoch 75/300\n",
      "8/8 [==============================] - 0s 58ms/step - loss: 0.0019 - val_loss: 5.6100e-04\n",
      "Epoch 76/300\n",
      "8/8 [==============================] - 0s 61ms/step - loss: 0.0022 - val_loss: 5.8491e-04\n",
      "Epoch 77/300\n",
      "8/8 [==============================] - 0s 58ms/step - loss: 0.0023 - val_loss: 7.3236e-04\n",
      "Epoch 78/300\n",
      "8/8 [==============================] - 1s 65ms/step - loss: 0.0024 - val_loss: 5.8492e-04\n",
      "Epoch 79/300\n",
      "8/8 [==============================] - 0s 63ms/step - loss: 0.0022 - val_loss: 0.0011\n",
      "Epoch 80/300\n",
      "8/8 [==============================] - 1s 79ms/step - loss: 0.0026 - val_loss: 6.7124e-04\n",
      "Epoch 81/300\n",
      "8/8 [==============================] - 1s 67ms/step - loss: 0.0024 - val_loss: 7.8844e-04\n",
      "Epoch 82/300\n",
      "8/8 [==============================] - 0s 61ms/step - loss: 0.0021 - val_loss: 5.6227e-04\n",
      "Epoch 83/300\n",
      "8/8 [==============================] - 0s 60ms/step - loss: 0.0021 - val_loss: 5.7524e-04\n",
      "Epoch 84/300\n",
      "8/8 [==============================] - 0s 62ms/step - loss: 0.0026 - val_loss: 5.9427e-04\n",
      "Epoch 85/300\n",
      "8/8 [==============================] - 0s 56ms/step - loss: 0.0022 - val_loss: 5.6852e-04\n",
      "Epoch 86/300\n",
      "8/8 [==============================] - 0s 57ms/step - loss: 0.0020 - val_loss: 6.0080e-04\n",
      "Epoch 87/300\n",
      "8/8 [==============================] - 0s 57ms/step - loss: 0.0020 - val_loss: 5.6916e-04\n",
      "Epoch 88/300\n",
      "8/8 [==============================] - 0s 62ms/step - loss: 0.0020 - val_loss: 5.8310e-04\n",
      "Epoch 89/300\n",
      "8/8 [==============================] - 0s 62ms/step - loss: 0.0022 - val_loss: 5.9765e-04\n",
      "Epoch 90/300\n",
      "8/8 [==============================] - 0s 61ms/step - loss: 0.0021 - val_loss: 5.6677e-04\n",
      "Epoch 91/300\n",
      "8/8 [==============================] - 1s 63ms/step - loss: 0.0024 - val_loss: 7.0676e-04\n",
      "Epoch 92/300\n",
      "8/8 [==============================] - 0s 60ms/step - loss: 0.0021 - val_loss: 6.0128e-04\n",
      "Epoch 93/300\n",
      "8/8 [==============================] - 1s 65ms/step - loss: 0.0018 - val_loss: 6.0290e-04\n",
      "Epoch 94/300\n",
      "8/8 [==============================] - 0s 61ms/step - loss: 0.0021 - val_loss: 5.9452e-04\n",
      "Epoch 95/300\n",
      "8/8 [==============================] - 0s 62ms/step - loss: 0.0019 - val_loss: 6.1122e-04\n",
      "Epoch 96/300\n",
      "8/8 [==============================] - 1s 64ms/step - loss: 0.0020 - val_loss: 5.6176e-04\n",
      "Epoch 97/300\n",
      "8/8 [==============================] - 0s 61ms/step - loss: 0.0022 - val_loss: 5.6022e-04\n",
      "Epoch 98/300\n",
      "8/8 [==============================] - 0s 59ms/step - loss: 0.0020 - val_loss: 5.8852e-04\n",
      "Epoch 99/300\n",
      "8/8 [==============================] - 0s 55ms/step - loss: 0.0023 - val_loss: 7.2208e-04\n",
      "Epoch 100/300\n",
      "8/8 [==============================] - 0s 57ms/step - loss: 0.0019 - val_loss: 6.1545e-04\n",
      "Epoch 101/300\n",
      "8/8 [==============================] - 0s 57ms/step - loss: 0.0020 - val_loss: 5.6963e-04\n",
      "Epoch 102/300\n",
      "8/8 [==============================] - 0s 56ms/step - loss: 0.0020 - val_loss: 6.2145e-04\n",
      "Epoch 103/300\n",
      "8/8 [==============================] - 0s 59ms/step - loss: 0.0022 - val_loss: 6.3125e-04\n",
      "Epoch 104/300\n",
      "8/8 [==============================] - 0s 60ms/step - loss: 0.0017 - val_loss: 6.9410e-04\n",
      "Epoch 105/300\n",
      "8/8 [==============================] - 0s 61ms/step - loss: 0.0021 - val_loss: 5.9321e-04\n",
      "Epoch 106/300\n",
      "8/8 [==============================] - 0s 64ms/step - loss: 0.0021 - val_loss: 5.7020e-04\n",
      "Epoch 107/300\n",
      "8/8 [==============================] - 1s 66ms/step - loss: 0.0018 - val_loss: 5.6614e-04\n",
      "Epoch 108/300\n",
      "8/8 [==============================] - 0s 62ms/step - loss: 0.0021 - val_loss: 5.7420e-04\n",
      "Epoch 109/300\n",
      "8/8 [==============================] - 0s 61ms/step - loss: 0.0020 - val_loss: 5.5859e-04\n",
      "Epoch 110/300\n",
      "8/8 [==============================] - 0s 59ms/step - loss: 0.0023 - val_loss: 5.9702e-04\n",
      "Epoch 111/300\n",
      "8/8 [==============================] - 0s 61ms/step - loss: 0.0020 - val_loss: 7.4965e-04\n",
      "Epoch 112/300\n",
      "8/8 [==============================] - 1s 64ms/step - loss: 0.0024 - val_loss: 6.2899e-04\n",
      "Epoch 113/300\n",
      "8/8 [==============================] - 1s 66ms/step - loss: 0.0022 - val_loss: 6.3168e-04\n",
      "Epoch 114/300\n",
      "8/8 [==============================] - 0s 58ms/step - loss: 0.0022 - val_loss: 5.7600e-04\n",
      "Epoch 115/300\n",
      "8/8 [==============================] - 0s 60ms/step - loss: 0.0021 - val_loss: 5.7024e-04\n",
      "Epoch 116/300\n",
      "8/8 [==============================] - 1s 65ms/step - loss: 0.0018 - val_loss: 7.1507e-04\n",
      "Epoch 117/300\n",
      "8/8 [==============================] - 0s 58ms/step - loss: 0.0021 - val_loss: 7.1266e-04\n",
      "Epoch 118/300\n",
      "8/8 [==============================] - 0s 58ms/step - loss: 0.0019 - val_loss: 6.2474e-04\n",
      "Epoch 119/300\n",
      "8/8 [==============================] - 1s 65ms/step - loss: 0.0023 - val_loss: 5.7575e-04\n",
      "Epoch 120/300\n",
      "8/8 [==============================] - 0s 56ms/step - loss: 0.0031 - val_loss: 0.0015\n",
      "Epoch 121/300\n",
      "8/8 [==============================] - 0s 60ms/step - loss: 0.0026 - val_loss: 5.6357e-04\n",
      "Epoch 122/300\n",
      "8/8 [==============================] - 0s 59ms/step - loss: 0.0021 - val_loss: 6.5088e-04\n",
      "Epoch 123/300\n",
      "8/8 [==============================] - 0s 57ms/step - loss: 0.0020 - val_loss: 5.9073e-04\n",
      "Epoch 124/300\n",
      "8/8 [==============================] - 0s 57ms/step - loss: 0.0021 - val_loss: 5.7701e-04\n",
      "Epoch 125/300\n",
      "8/8 [==============================] - 0s 53ms/step - loss: 0.0019 - val_loss: 5.7955e-04\n",
      "Epoch 126/300\n",
      "8/8 [==============================] - 0s 58ms/step - loss: 0.0019 - val_loss: 5.6744e-04\n",
      "Epoch 127/300\n",
      "8/8 [==============================] - 0s 60ms/step - loss: 0.0019 - val_loss: 6.9037e-04\n",
      "Epoch 128/300\n",
      "8/8 [==============================] - 0s 60ms/step - loss: 0.0019 - val_loss: 5.5519e-04\n",
      "Epoch 129/300\n",
      "8/8 [==============================] - 0s 60ms/step - loss: 0.0020 - val_loss: 5.7981e-04\n",
      "Epoch 130/300\n",
      "8/8 [==============================] - 0s 58ms/step - loss: 0.0018 - val_loss: 5.5314e-04\n",
      "Epoch 131/300\n",
      "8/8 [==============================] - 0s 58ms/step - loss: 0.0019 - val_loss: 6.0321e-04\n",
      "Epoch 132/300\n",
      "8/8 [==============================] - 0s 56ms/step - loss: 0.0019 - val_loss: 6.3421e-04\n",
      "Epoch 133/300\n",
      "8/8 [==============================] - 0s 58ms/step - loss: 0.0022 - val_loss: 5.6255e-04\n",
      "Epoch 134/300\n",
      "8/8 [==============================] - 0s 56ms/step - loss: 0.0020 - val_loss: 6.0183e-04\n",
      "Epoch 135/300\n",
      "8/8 [==============================] - 0s 62ms/step - loss: 0.0021 - val_loss: 7.3175e-04\n",
      "Epoch 136/300\n",
      "8/8 [==============================] - 0s 59ms/step - loss: 0.0026 - val_loss: 7.3344e-04\n",
      "Epoch 137/300\n",
      "8/8 [==============================] - 0s 59ms/step - loss: 0.0025 - val_loss: 6.4374e-04\n",
      "Epoch 138/300\n",
      "8/8 [==============================] - 0s 58ms/step - loss: 0.0027 - val_loss: 0.0010\n",
      "Epoch 139/300\n",
      "8/8 [==============================] - 0s 60ms/step - loss: 0.0026 - val_loss: 5.7126e-04\n",
      "Epoch 140/300\n",
      "8/8 [==============================] - 1s 68ms/step - loss: 0.0023 - val_loss: 7.2698e-04\n",
      "Epoch 141/300\n",
      "8/8 [==============================] - 0s 58ms/step - loss: 0.0020 - val_loss: 6.4377e-04\n",
      "Epoch 142/300\n",
      "8/8 [==============================] - 0s 56ms/step - loss: 0.0019 - val_loss: 5.8603e-04\n",
      "Epoch 143/300\n",
      "8/8 [==============================] - 0s 57ms/step - loss: 0.0017 - val_loss: 6.2445e-04\n",
      "Epoch 144/300\n",
      "8/8 [==============================] - 0s 60ms/step - loss: 0.0023 - val_loss: 6.0618e-04\n",
      "Epoch 145/300\n",
      "8/8 [==============================] - 0s 60ms/step - loss: 0.0018 - val_loss: 5.8309e-04\n",
      "Epoch 146/300\n",
      "8/8 [==============================] - 1s 67ms/step - loss: 0.0021 - val_loss: 5.7894e-04\n",
      "Epoch 147/300\n",
      "8/8 [==============================] - 1s 69ms/step - loss: 0.0019 - val_loss: 5.8956e-04\n",
      "Epoch 148/300\n",
      "8/8 [==============================] - 1s 64ms/step - loss: 0.0020 - val_loss: 6.6424e-04\n",
      "Epoch 149/300\n",
      "8/8 [==============================] - 0s 61ms/step - loss: 0.0021 - val_loss: 7.5144e-04\n",
      "Epoch 150/300\n",
      "8/8 [==============================] - 0s 60ms/step - loss: 0.0020 - val_loss: 5.6567e-04\n",
      "Epoch 151/300\n",
      "8/8 [==============================] - 0s 62ms/step - loss: 0.0020 - val_loss: 6.0764e-04\n",
      "Epoch 152/300\n",
      "8/8 [==============================] - 0s 61ms/step - loss: 0.0019 - val_loss: 6.7526e-04\n",
      "Epoch 153/300\n",
      "8/8 [==============================] - 0s 58ms/step - loss: 0.0027 - val_loss: 6.5030e-04\n",
      "Epoch 154/300\n",
      "8/8 [==============================] - 0s 60ms/step - loss: 0.0019 - val_loss: 6.6505e-04\n",
      "Epoch 155/300\n",
      "8/8 [==============================] - 0s 57ms/step - loss: 0.0019 - val_loss: 5.7932e-04\n",
      "Epoch 156/300\n",
      "8/8 [==============================] - 0s 59ms/step - loss: 0.0018 - val_loss: 5.7184e-04\n",
      "Epoch 157/300\n",
      "8/8 [==============================] - 0s 55ms/step - loss: 0.0018 - val_loss: 5.8586e-04\n",
      "Epoch 158/300\n",
      "8/8 [==============================] - 0s 60ms/step - loss: 0.0027 - val_loss: 6.5176e-04\n",
      "Epoch 159/300\n",
      "8/8 [==============================] - 0s 58ms/step - loss: 0.0024 - val_loss: 6.8274e-04\n",
      "Epoch 160/300\n",
      "8/8 [==============================] - 0s 57ms/step - loss: 0.0024 - val_loss: 6.1762e-04\n",
      "Epoch 161/300\n",
      "8/8 [==============================] - 0s 54ms/step - loss: 0.0020 - val_loss: 5.9682e-04\n",
      "Epoch 162/300\n",
      "8/8 [==============================] - 0s 58ms/step - loss: 0.0019 - val_loss: 6.1211e-04\n",
      "Epoch 163/300\n",
      "8/8 [==============================] - 1s 65ms/step - loss: 0.0022 - val_loss: 5.5998e-04\n",
      "Epoch 164/300\n",
      "8/8 [==============================] - 1s 65ms/step - loss: 0.0021 - val_loss: 9.2712e-04\n",
      "Epoch 165/300\n",
      "8/8 [==============================] - 0s 62ms/step - loss: 0.0023 - val_loss: 7.5328e-04\n",
      "Epoch 166/300\n",
      "8/8 [==============================] - 0s 56ms/step - loss: 0.0025 - val_loss: 8.5380e-04\n",
      "Epoch 167/300\n",
      "8/8 [==============================] - 0s 58ms/step - loss: 0.0028 - val_loss: 6.0835e-04\n",
      "Epoch 168/300\n",
      "8/8 [==============================] - 0s 62ms/step - loss: 0.0024 - val_loss: 6.8423e-04\n",
      "Epoch 169/300\n",
      "8/8 [==============================] - 0s 61ms/step - loss: 0.0018 - val_loss: 8.1976e-04\n",
      "Epoch 170/300\n",
      "8/8 [==============================] - 0s 55ms/step - loss: 0.0023 - val_loss: 5.7589e-04\n",
      "Epoch 171/300\n",
      "8/8 [==============================] - 0s 62ms/step - loss: 0.0016 - val_loss: 5.8263e-04\n",
      "Epoch 172/300\n",
      "8/8 [==============================] - 0s 58ms/step - loss: 0.0023 - val_loss: 7.1506e-04\n",
      "Epoch 173/300\n",
      "8/8 [==============================] - 0s 58ms/step - loss: 0.0020 - val_loss: 5.9464e-04\n",
      "Epoch 174/300\n",
      "8/8 [==============================] - 0s 59ms/step - loss: 0.0017 - val_loss: 5.8262e-04\n",
      "Epoch 175/300\n",
      "8/8 [==============================] - 0s 61ms/step - loss: 0.0019 - val_loss: 6.7170e-04\n",
      "Epoch 176/300\n",
      "8/8 [==============================] - 0s 61ms/step - loss: 0.0025 - val_loss: 5.8062e-04\n",
      "Epoch 177/300\n",
      "8/8 [==============================] - 0s 60ms/step - loss: 0.0020 - val_loss: 5.5004e-04\n",
      "Epoch 178/300\n",
      "8/8 [==============================] - 0s 60ms/step - loss: 0.0018 - val_loss: 5.6354e-04\n",
      "Epoch 179/300\n",
      "8/8 [==============================] - 0s 62ms/step - loss: 0.0021 - val_loss: 6.3173e-04\n",
      "Epoch 180/300\n",
      "8/8 [==============================] - 0s 58ms/step - loss: 0.0023 - val_loss: 6.6451e-04\n",
      "Epoch 181/300\n",
      "8/8 [==============================] - 0s 62ms/step - loss: 0.0025 - val_loss: 8.7760e-04\n",
      "Epoch 182/300\n",
      "8/8 [==============================] - 0s 62ms/step - loss: 0.0031 - val_loss: 6.1130e-04\n",
      "Epoch 183/300\n",
      "8/8 [==============================] - 0s 61ms/step - loss: 0.0022 - val_loss: 8.8240e-04\n",
      "Epoch 184/300\n",
      "8/8 [==============================] - 0s 59ms/step - loss: 0.0026 - val_loss: 6.0040e-04\n",
      "Epoch 185/300\n",
      "8/8 [==============================] - 0s 58ms/step - loss: 0.0019 - val_loss: 5.5826e-04\n",
      "Epoch 186/300\n",
      "8/8 [==============================] - 1s 67ms/step - loss: 0.0018 - val_loss: 6.2889e-04\n",
      "Epoch 187/300\n",
      "8/8 [==============================] - 0s 58ms/step - loss: 0.0019 - val_loss: 7.2572e-04\n",
      "Epoch 188/300\n",
      "8/8 [==============================] - 1s 63ms/step - loss: 0.0019 - val_loss: 5.5095e-04\n",
      "Epoch 189/300\n",
      "8/8 [==============================] - 1s 66ms/step - loss: 0.0017 - val_loss: 5.6754e-04\n",
      "Epoch 190/300\n",
      "8/8 [==============================] - 0s 59ms/step - loss: 0.0022 - val_loss: 6.5424e-04\n",
      "Epoch 191/300\n",
      "8/8 [==============================] - 0s 57ms/step - loss: 0.0020 - val_loss: 6.6148e-04\n",
      "Epoch 192/300\n",
      "8/8 [==============================] - 0s 63ms/step - loss: 0.0019 - val_loss: 6.6766e-04\n",
      "Epoch 193/300\n",
      "8/8 [==============================] - 0s 58ms/step - loss: 0.0021 - val_loss: 5.7761e-04\n",
      "Epoch 194/300\n",
      "8/8 [==============================] - 0s 57ms/step - loss: 0.0020 - val_loss: 6.7651e-04\n",
      "Epoch 195/300\n",
      "8/8 [==============================] - 0s 60ms/step - loss: 0.0023 - val_loss: 5.7616e-04\n",
      "Epoch 196/300\n",
      "8/8 [==============================] - 0s 58ms/step - loss: 0.0020 - val_loss: 7.1211e-04\n",
      "Epoch 197/300\n",
      "8/8 [==============================] - 0s 57ms/step - loss: 0.0019 - val_loss: 6.4019e-04\n",
      "Epoch 198/300\n",
      "8/8 [==============================] - 0s 60ms/step - loss: 0.0023 - val_loss: 5.7458e-04\n",
      "Epoch 199/300\n",
      "8/8 [==============================] - 0s 60ms/step - loss: 0.0020 - val_loss: 7.1875e-04\n",
      "Epoch 200/300\n",
      "8/8 [==============================] - 0s 61ms/step - loss: 0.0019 - val_loss: 5.6540e-04\n",
      "Epoch 201/300\n",
      "8/8 [==============================] - 0s 62ms/step - loss: 0.0017 - val_loss: 5.7985e-04\n",
      "Epoch 202/300\n",
      "8/8 [==============================] - 0s 63ms/step - loss: 0.0017 - val_loss: 6.5947e-04\n",
      "Epoch 203/300\n",
      "8/8 [==============================] - 1s 64ms/step - loss: 0.0018 - val_loss: 5.6603e-04\n",
      "Epoch 204/300\n",
      "8/8 [==============================] - 0s 61ms/step - loss: 0.0018 - val_loss: 6.6476e-04\n",
      "Epoch 205/300\n",
      "8/8 [==============================] - 1s 67ms/step - loss: 0.0022 - val_loss: 5.8632e-04\n",
      "Epoch 206/300\n",
      "8/8 [==============================] - 0s 60ms/step - loss: 0.0024 - val_loss: 0.0015\n",
      "Epoch 207/300\n",
      "8/8 [==============================] - 0s 60ms/step - loss: 0.0025 - val_loss: 5.9047e-04\n",
      "Epoch 208/300\n",
      "8/8 [==============================] - 0s 60ms/step - loss: 0.0022 - val_loss: 7.4593e-04\n",
      "Epoch 209/300\n",
      "8/8 [==============================] - 1s 66ms/step - loss: 0.0018 - val_loss: 5.6629e-04\n",
      "Epoch 210/300\n",
      "8/8 [==============================] - 0s 61ms/step - loss: 0.0021 - val_loss: 6.0771e-04\n",
      "Epoch 211/300\n",
      "8/8 [==============================] - 0s 59ms/step - loss: 0.0017 - val_loss: 0.0012\n",
      "Epoch 212/300\n",
      "8/8 [==============================] - 0s 61ms/step - loss: 0.0024 - val_loss: 5.8189e-04\n",
      "Epoch 213/300\n",
      "8/8 [==============================] - 1s 74ms/step - loss: 0.0015 - val_loss: 5.8569e-04\n",
      "Epoch 214/300\n",
      "8/8 [==============================] - 1s 73ms/step - loss: 0.0021 - val_loss: 6.4717e-04\n",
      "Epoch 215/300\n",
      "8/8 [==============================] - 0s 62ms/step - loss: 0.0019 - val_loss: 5.6248e-04\n",
      "Epoch 216/300\n",
      "8/8 [==============================] - 1s 64ms/step - loss: 0.0018 - val_loss: 9.5181e-04\n",
      "Epoch 217/300\n",
      "8/8 [==============================] - 0s 61ms/step - loss: 0.0023 - val_loss: 6.0162e-04\n",
      "Epoch 218/300\n",
      "8/8 [==============================] - 0s 60ms/step - loss: 0.0021 - val_loss: 5.8565e-04\n",
      "Epoch 219/300\n",
      "8/8 [==============================] - 0s 58ms/step - loss: 0.0022 - val_loss: 5.6891e-04\n",
      "Epoch 220/300\n",
      "8/8 [==============================] - 0s 63ms/step - loss: 0.0020 - val_loss: 5.7468e-04\n",
      "Epoch 221/300\n",
      "8/8 [==============================] - 0s 62ms/step - loss: 0.0022 - val_loss: 8.5858e-04\n",
      "Epoch 222/300\n",
      "8/8 [==============================] - 0s 61ms/step - loss: 0.0023 - val_loss: 5.4498e-04\n",
      "Epoch 223/300\n",
      "8/8 [==============================] - 0s 61ms/step - loss: 0.0022 - val_loss: 5.9667e-04\n",
      "Epoch 224/300\n",
      "8/8 [==============================] - 0s 62ms/step - loss: 0.0019 - val_loss: 6.6368e-04\n",
      "Epoch 225/300\n",
      "8/8 [==============================] - 0s 57ms/step - loss: 0.0020 - val_loss: 5.8152e-04\n",
      "Epoch 226/300\n",
      "8/8 [==============================] - 0s 57ms/step - loss: 0.0019 - val_loss: 5.7119e-04\n",
      "Epoch 227/300\n",
      "8/8 [==============================] - 0s 59ms/step - loss: 0.0024 - val_loss: 8.5129e-04\n",
      "Epoch 228/300\n",
      "8/8 [==============================] - 0s 54ms/step - loss: 0.0027 - val_loss: 5.8284e-04\n",
      "Epoch 229/300\n",
      "8/8 [==============================] - 0s 59ms/step - loss: 0.0023 - val_loss: 6.1022e-04\n",
      "Epoch 230/300\n",
      "8/8 [==============================] - 0s 58ms/step - loss: 0.0020 - val_loss: 5.7458e-04\n",
      "Epoch 231/300\n",
      "8/8 [==============================] - 1s 66ms/step - loss: 0.0020 - val_loss: 8.0534e-04\n",
      "Epoch 232/300\n",
      "8/8 [==============================] - 0s 61ms/step - loss: 0.0020 - val_loss: 5.6892e-04\n",
      "Epoch 233/300\n",
      "8/8 [==============================] - 1s 67ms/step - loss: 0.0022 - val_loss: 7.2700e-04\n",
      "Epoch 234/300\n",
      "8/8 [==============================] - 0s 57ms/step - loss: 0.0019 - val_loss: 5.8131e-04\n",
      "Epoch 235/300\n",
      "8/8 [==============================] - 0s 60ms/step - loss: 0.0024 - val_loss: 0.0013\n",
      "Epoch 236/300\n",
      "8/8 [==============================] - 1s 64ms/step - loss: 0.0021 - val_loss: 6.2750e-04\n",
      "Epoch 237/300\n",
      "8/8 [==============================] - 0s 58ms/step - loss: 0.0016 - val_loss: 5.9756e-04\n",
      "Epoch 238/300\n",
      "8/8 [==============================] - 0s 59ms/step - loss: 0.0018 - val_loss: 6.6115e-04\n",
      "Epoch 239/300\n",
      "8/8 [==============================] - 0s 63ms/step - loss: 0.0023 - val_loss: 5.8890e-04\n",
      "Epoch 240/300\n",
      "8/8 [==============================] - 0s 62ms/step - loss: 0.0018 - val_loss: 5.6441e-04\n",
      "Epoch 241/300\n",
      "8/8 [==============================] - 0s 62ms/step - loss: 0.0020 - val_loss: 5.8780e-04\n",
      "Epoch 242/300\n",
      "8/8 [==============================] - 0s 60ms/step - loss: 0.0021 - val_loss: 6.3893e-04\n",
      "Epoch 243/300\n",
      "8/8 [==============================] - 0s 59ms/step - loss: 0.0021 - val_loss: 6.5747e-04\n",
      "Epoch 244/300\n",
      "8/8 [==============================] - 0s 57ms/step - loss: 0.0028 - val_loss: 6.0435e-04\n",
      "Epoch 245/300\n",
      "8/8 [==============================] - 0s 58ms/step - loss: 0.0019 - val_loss: 6.7631e-04\n",
      "Epoch 246/300\n",
      "8/8 [==============================] - 0s 59ms/step - loss: 0.0020 - val_loss: 5.6519e-04\n",
      "Epoch 247/300\n",
      "8/8 [==============================] - 0s 61ms/step - loss: 0.0021 - val_loss: 5.6897e-04\n",
      "Epoch 248/300\n",
      "8/8 [==============================] - 0s 59ms/step - loss: 0.0018 - val_loss: 6.0489e-04\n",
      "Epoch 249/300\n",
      "8/8 [==============================] - 0s 56ms/step - loss: 0.0017 - val_loss: 6.5001e-04\n",
      "Epoch 250/300\n",
      "8/8 [==============================] - 0s 62ms/step - loss: 0.0019 - val_loss: 5.6737e-04\n",
      "Epoch 251/300\n",
      "8/8 [==============================] - 1s 64ms/step - loss: 0.0017 - val_loss: 6.0760e-04\n",
      "Epoch 252/300\n",
      "8/8 [==============================] - 0s 64ms/step - loss: 0.0021 - val_loss: 6.1996e-04\n",
      "Epoch 253/300\n",
      "8/8 [==============================] - 0s 62ms/step - loss: 0.0019 - val_loss: 5.6095e-04\n",
      "Epoch 254/300\n",
      "8/8 [==============================] - 1s 65ms/step - loss: 0.0016 - val_loss: 6.3303e-04\n",
      "Epoch 255/300\n",
      "8/8 [==============================] - 0s 61ms/step - loss: 0.0018 - val_loss: 9.3368e-04\n",
      "Epoch 256/300\n",
      "8/8 [==============================] - 0s 58ms/step - loss: 0.0024 - val_loss: 5.6757e-04\n",
      "Epoch 257/300\n",
      "8/8 [==============================] - 0s 59ms/step - loss: 0.0017 - val_loss: 7.1656e-04\n",
      "Epoch 258/300\n",
      "8/8 [==============================] - 0s 60ms/step - loss: 0.0021 - val_loss: 6.3625e-04\n",
      "Epoch 259/300\n",
      "8/8 [==============================] - 0s 58ms/step - loss: 0.0023 - val_loss: 5.9818e-04\n",
      "Epoch 260/300\n",
      "8/8 [==============================] - 0s 58ms/step - loss: 0.0020 - val_loss: 8.7908e-04\n",
      "Epoch 261/300\n",
      "8/8 [==============================] - 0s 57ms/step - loss: 0.0020 - val_loss: 6.0331e-04\n",
      "Epoch 262/300\n",
      "8/8 [==============================] - 0s 58ms/step - loss: 0.0021 - val_loss: 7.5736e-04\n",
      "Epoch 263/300\n",
      "8/8 [==============================] - 0s 60ms/step - loss: 0.0020 - val_loss: 6.5186e-04\n",
      "Epoch 264/300\n",
      "8/8 [==============================] - 1s 63ms/step - loss: 0.0014 - val_loss: 6.5990e-04\n",
      "Epoch 265/300\n",
      "8/8 [==============================] - 0s 58ms/step - loss: 0.0018 - val_loss: 5.6618e-04\n",
      "Epoch 266/300\n",
      "8/8 [==============================] - 0s 64ms/step - loss: 0.0019 - val_loss: 5.8840e-04\n",
      "Epoch 267/300\n",
      "8/8 [==============================] - 0s 57ms/step - loss: 0.0017 - val_loss: 5.5869e-04\n",
      "Epoch 268/300\n",
      "8/8 [==============================] - 0s 60ms/step - loss: 0.0018 - val_loss: 5.9572e-04\n",
      "Epoch 269/300\n",
      "8/8 [==============================] - 0s 61ms/step - loss: 0.0019 - val_loss: 6.8281e-04\n",
      "Epoch 270/300\n",
      "8/8 [==============================] - 0s 62ms/step - loss: 0.0018 - val_loss: 5.6942e-04\n",
      "Epoch 271/300\n",
      "8/8 [==============================] - 0s 60ms/step - loss: 0.0015 - val_loss: 5.6867e-04\n",
      "Epoch 272/300\n",
      "8/8 [==============================] - 0s 59ms/step - loss: 0.0015 - val_loss: 6.4004e-04\n",
      "Epoch 273/300\n",
      "8/8 [==============================] - 0s 61ms/step - loss: 0.0017 - val_loss: 5.8974e-04\n",
      "Epoch 274/300\n",
      "8/8 [==============================] - 0s 57ms/step - loss: 0.0020 - val_loss: 5.8642e-04\n",
      "Epoch 275/300\n",
      "8/8 [==============================] - 0s 62ms/step - loss: 0.0017 - val_loss: 5.8990e-04\n",
      "Epoch 276/300\n",
      "8/8 [==============================] - 0s 56ms/step - loss: 0.0019 - val_loss: 6.7541e-04\n",
      "Epoch 277/300\n",
      "8/8 [==============================] - 0s 58ms/step - loss: 0.0020 - val_loss: 5.8595e-04\n",
      "Epoch 278/300\n",
      "8/8 [==============================] - 0s 56ms/step - loss: 0.0020 - val_loss: 6.3078e-04\n",
      "Epoch 279/300\n",
      "8/8 [==============================] - 1s 73ms/step - loss: 0.0020 - val_loss: 7.4788e-04\n",
      "Epoch 280/300\n",
      "8/8 [==============================] - 1s 65ms/step - loss: 0.0020 - val_loss: 7.3333e-04\n",
      "Epoch 281/300\n",
      "8/8 [==============================] - 1s 64ms/step - loss: 0.0017 - val_loss: 6.0244e-04\n",
      "Epoch 282/300\n",
      "8/8 [==============================] - 0s 57ms/step - loss: 0.0018 - val_loss: 5.8113e-04\n",
      "Epoch 283/300\n",
      "8/8 [==============================] - 0s 62ms/step - loss: 0.0021 - val_loss: 6.1628e-04\n",
      "Epoch 284/300\n",
      "8/8 [==============================] - 0s 55ms/step - loss: 0.0019 - val_loss: 6.0942e-04\n",
      "Epoch 285/300\n",
      "8/8 [==============================] - 0s 57ms/step - loss: 0.0019 - val_loss: 6.2224e-04\n",
      "Epoch 286/300\n",
      "8/8 [==============================] - 0s 61ms/step - loss: 0.0018 - val_loss: 6.0342e-04\n",
      "Epoch 287/300\n",
      "8/8 [==============================] - 0s 62ms/step - loss: 0.0016 - val_loss: 5.6956e-04\n",
      "Epoch 288/300\n",
      "8/8 [==============================] - 0s 59ms/step - loss: 0.0017 - val_loss: 6.8012e-04\n",
      "Epoch 289/300\n",
      "8/8 [==============================] - 0s 59ms/step - loss: 0.0018 - val_loss: 6.3154e-04\n",
      "Epoch 290/300\n",
      "8/8 [==============================] - 0s 61ms/step - loss: 0.0020 - val_loss: 6.5848e-04\n",
      "Epoch 291/300\n",
      "8/8 [==============================] - 0s 62ms/step - loss: 0.0024 - val_loss: 7.4107e-04\n",
      "Epoch 292/300\n",
      "8/8 [==============================] - 0s 58ms/step - loss: 0.0024 - val_loss: 0.0014\n",
      "Epoch 293/300\n",
      "8/8 [==============================] - 0s 59ms/step - loss: 0.0024 - val_loss: 5.8639e-04\n",
      "Epoch 294/300\n",
      "8/8 [==============================] - 0s 58ms/step - loss: 0.0018 - val_loss: 6.3748e-04\n",
      "Epoch 295/300\n",
      "8/8 [==============================] - 0s 56ms/step - loss: 0.0017 - val_loss: 6.1222e-04\n",
      "Epoch 296/300\n",
      "8/8 [==============================] - 0s 60ms/step - loss: 0.0018 - val_loss: 8.3568e-04\n",
      "Epoch 297/300\n",
      "8/8 [==============================] - 1s 65ms/step - loss: 0.0020 - val_loss: 5.8327e-04\n",
      "Epoch 298/300\n",
      "8/8 [==============================] - 0s 59ms/step - loss: 0.0019 - val_loss: 8.9656e-04\n",
      "Epoch 299/300\n",
      "8/8 [==============================] - 0s 58ms/step - loss: 0.0022 - val_loss: 5.7743e-04\n",
      "Epoch 300/300\n",
      "8/8 [==============================] - 0s 63ms/step - loss: 0.0020 - val_loss: 6.5638e-04\n"
     ]
    }
   ],
   "source": [
    "history = model.fit(x_train_lstm, y_train, validation_data = (x_test_lstm, y_test), epochs = 300, batch_size = 32, verbose = 1)"
   ]
  },
  {
   "cell_type": "markdown",
   "id": "d05c1b1a",
   "metadata": {
    "id": "2SRQ7YL4O0XI",
    "papermill": {
     "duration": 0.173988,
     "end_time": "2023-03-13T11:34:44.881094",
     "exception": false,
     "start_time": "2023-03-13T11:34:44.707106",
     "status": "completed"
    },
    "tags": []
   },
   "source": [
    "# **Plotting loss charts**"
   ]
  },
  {
   "cell_type": "code",
   "execution_count": 43,
   "id": "8d0bae02",
   "metadata": {
    "execution": {
     "iopub.execute_input": "2023-03-13T11:34:45.236261Z",
     "iopub.status.busy": "2023-03-13T11:34:45.235605Z",
     "iopub.status.idle": "2023-03-13T11:34:45.563417Z",
     "shell.execute_reply": "2023-03-13T11:34:45.561501Z"
    },
    "id": "jEkOTzq7Iok2",
    "outputId": "fb57ac93-fa0f-41bc-d8e2-fd5257389ad8",
    "papermill": {
     "duration": 0.512,
     "end_time": "2023-03-13T11:34:45.566594",
     "exception": false,
     "start_time": "2023-03-13T11:34:45.054594",
     "status": "completed"
    },
    "tags": []
   },
   "outputs": [
    {
     "data": {
      "image/png": "[encoded data removed]",
      "text/plain": [
       "<Figure size 640x480 with 1 Axes>"
      ]
     },
     "metadata": {},
     "output_type": "display_data"
    },
    {
     "data": {
      "text/plain": [
       "<Figure size 640x480 with 0 Axes>"
      ]
     },
     "metadata": {},
     "output_type": "display_data"
    }
   ],
   "source": [
    "loss = history.history['loss']\n",
    "val_loss = history.history['val_loss']\n",
    "\n",
    "epochs = range(len(loss))\n",
    "\n",
    "plt.plot(epochs, loss, 'r', label='Training loss')\n",
    "plt.plot(epochs, val_loss, 'b', label='Validation loss')\n",
    "plt.title('Training and validation loss')\n",
    "plt.legend(loc=0)\n",
    "plt.figure()\n",
    "\n",
    "\n",
    "plt.show()"
   ]
  },
  {
   "cell_type": "code",
   "execution_count": 44,
   "id": "52c49401",
   "metadata": {
    "execution": {
     "iopub.execute_input": "2023-03-13T11:34:45.927593Z",
     "iopub.status.busy": "2023-03-13T11:34:45.926013Z",
     "iopub.status.idle": "2023-03-13T11:34:47.954952Z",
     "shell.execute_reply": "2023-03-13T11:34:47.953643Z"
    },
    "id": "56V6TosmIodJ",
    "outputId": "f2bb6a4f-04fb-453a-8ea6-9480b54ece75",
    "papermill": {
     "duration": 2.210889,
     "end_time": "2023-03-13T11:34:47.957714",
     "exception": false,
     "start_time": "2023-03-13T11:34:45.746825",
     "status": "completed"
    },
    "tags": []
   },
   "outputs": [
    {
     "name": "stdout",
     "output_type": "stream",
     "text": [
      "8/8 [==============================] - 1s 15ms/step\n",
      "3/3 [==============================] - 0s 19ms/step\n",
      "(239, 1) (94, 1)\n"
     ]
    }
   ],
   "source": [
    "train_predict = model.predict(x_train)\n",
    "test_predict = model.predict(x_test)\n",
    "print(train_predict.shape, test_predict.shape)"
   ]
  },
  {
   "cell_type": "markdown",
   "id": "9eecc8d0",
   "metadata": {
    "id": "DCOBtabAO43z",
    "papermill": {
     "duration": 0.179555,
     "end_time": "2023-03-13T11:34:48.324537",
     "exception": false,
     "start_time": "2023-03-13T11:34:48.144982",
     "status": "completed"
    },
    "tags": []
   },
   "source": [
    "# **Model Evaluation**"
   ]
  },
  {
   "cell_type": "code",
   "execution_count": 45,
   "id": "f6d7f361",
   "metadata": {
    "execution": {
     "iopub.execute_input": "2023-03-13T11:34:48.685011Z",
     "iopub.status.busy": "2023-03-13T11:34:48.684554Z",
     "iopub.status.idle": "2023-03-13T11:34:48.693865Z",
     "shell.execute_reply": "2023-03-13T11:34:48.692390Z"
    },
    "id": "3y-oBABlJK6S",
    "papermill": {
     "duration": 0.189407,
     "end_time": "2023-03-13T11:34:48.696511",
     "exception": false,
     "start_time": "2023-03-13T11:34:48.507104",
     "status": "completed"
    },
    "tags": []
   },
   "outputs": [],
   "source": [
    "# Transform back to original form\n",
    "\n",
    "train_predict = scaler.inverse_transform(train_predict)\n",
    "test_predict = scaler.inverse_transform(test_predict)\n",
    "original_ytrain = scaler.inverse_transform(y_train.reshape(-1,1)) \n",
    "original_ytest = scaler.inverse_transform(y_test.reshape(-1,1)) "
   ]
  },
  {
   "cell_type": "markdown",
   "id": "d4d6658a",
   "metadata": {
    "id": "NdD5Q7tFO87N",
    "papermill": {
     "duration": 0.166061,
     "end_time": "2023-03-13T11:34:49.030392",
     "exception": false,
     "start_time": "2023-03-13T11:34:48.864331",
     "status": "completed"
    },
    "tags": []
   },
   "source": [
    "**Evaluation metrics : RMSE, MSE, MAE**"
   ]
  },
  {
   "cell_type": "code",
   "execution_count": 46,
   "id": "0edc6bd5",
   "metadata": {
    "execution": {
     "iopub.execute_input": "2023-03-13T11:34:49.429998Z",
     "iopub.status.busy": "2023-03-13T11:34:49.428831Z",
     "iopub.status.idle": "2023-03-13T11:34:49.440420Z",
     "shell.execute_reply": "2023-03-13T11:34:49.438358Z"
    },
    "id": "L8HGjF9kJNDo",
    "outputId": "5eaae184-3c62-4853-b984-0acee87aa1df",
    "papermill": {
     "duration": 0.246223,
     "end_time": "2023-03-13T11:34:49.443891",
     "exception": false,
     "start_time": "2023-03-13T11:34:49.197668",
     "status": "completed"
    },
    "tags": []
   },
   "outputs": [
    {
     "name": "stdout",
     "output_type": "stream",
     "text": [
      "Train data RMSE:  0.09995301704574489\n",
      "Train data MSE:  0.009990605616546968\n",
      "Train data MAE:  0.07128607939975531\n",
      "-------------------------------------------------------------------------------------\n",
      "Test data RMSE:  0.06482065927119635\n",
      "Test data MSE:  0.004201717868352533\n",
      "Test data MAE:  0.04096258701162135\n"
     ]
    }
   ],
   "source": [
    "# Evaluation metrices RMSE and MAE\n",
    "print(\"Train data RMSE: \", math.sqrt(mean_squared_error(original_ytrain,train_predict)))\n",
    "print(\"Train data MSE: \", mean_squared_error(original_ytrain,train_predict))\n",
    "print(\"Train data MAE: \", mean_absolute_error(original_ytrain,train_predict))\n",
    "print(\"-------------------------------------------------------------------------------------\")\n",
    "print(\"Test data RMSE: \", math.sqrt(mean_squared_error(original_ytest,test_predict)))\n",
    "print(\"Test data MSE: \", mean_squared_error(original_ytest,test_predict))\n",
    "print(\"Test data MAE: \", mean_absolute_error(original_ytest,test_predict))"
   ]
  },
  {
   "cell_type": "markdown",
   "id": "0166df4f",
   "metadata": {
    "id": "3kphbTQcPDFX",
    "papermill": {
     "duration": 0.170561,
     "end_time": "2023-03-13T11:34:49.782686",
     "exception": false,
     "start_time": "2023-03-13T11:34:49.612125",
     "status": "completed"
    },
    "tags": []
   },
   "source": [
    "# **Explained Variance Regression Score:**\n"
   ]
  },
  {
   "cell_type": "markdown",
   "id": "8686644b",
   "metadata": {
    "id": "MLOn_aAYG7m5",
    "papermill": {
     "duration": 0.170469,
     "end_time": "2023-03-13T11:34:50.121475",
     "exception": false,
     "start_time": "2023-03-13T11:34:49.951006",
     "status": "completed"
    },
    "tags": []
   },
   "source": [
    "****\n",
    "The explained variance score explains the dispersion of errors of a given dataset, and the formula is written as follows: Here, and Var(y) is the variance of prediction errors and actual values respectively. Scores close to 1.0 are highly desired, indicating better squares of standard deviations of errors.\n",
    "****"
   ]
  },
  {
   "cell_type": "code",
   "execution_count": 47,
   "id": "73a2408a",
   "metadata": {
    "execution": {
     "iopub.execute_input": "2023-03-13T11:34:50.454272Z",
     "iopub.status.busy": "2023-03-13T11:34:50.453406Z",
     "iopub.status.idle": "2023-03-13T11:34:50.460700Z",
     "shell.execute_reply": "2023-03-13T11:34:50.459530Z"
    },
    "id": "ut48xgZ5Jdta",
    "outputId": "67d3ec6e-a869-48e1-97c3-5dbb28f5a21f",
    "papermill": {
     "duration": 0.175796,
     "end_time": "2023-03-13T11:34:50.463253",
     "exception": false,
     "start_time": "2023-03-13T11:34:50.287457",
     "status": "completed"
    },
    "tags": []
   },
   "outputs": [
    {
     "name": "stdout",
     "output_type": "stream",
     "text": [
      "Train data explained variance regression score: 0.9786805414418349\n",
      "Test data explained variance regression score: 0.6528765417291393\n"
     ]
    }
   ],
   "source": [
    "print(\"Train data explained variance regression score:\", explained_variance_score(original_ytrain, train_predict))\n",
    "print(\"Test data explained variance regression score:\", explained_variance_score(original_ytest, test_predict))"
   ]
  },
  {
   "cell_type": "markdown",
   "id": "1ef76a34",
   "metadata": {
    "id": "iNuORXyHPK-l",
    "papermill": {
     "duration": 0.174359,
     "end_time": "2023-03-13T11:34:50.806064",
     "exception": false,
     "start_time": "2023-03-13T11:34:50.631705",
     "status": "completed"
    },
    "tags": []
   },
   "source": [
    "# **R2 score for regression:**"
   ]
  },
  {
   "cell_type": "markdown",
   "id": "8c838341",
   "metadata": {
    "id": "Zt_arm1SHBo6",
    "papermill": {
     "duration": 0.165003,
     "end_time": "2023-03-13T11:34:51.144359",
     "exception": false,
     "start_time": "2023-03-13T11:34:50.979356",
     "status": "completed"
    },
    "tags": []
   },
   "source": [
    "****\n",
    "R-squared (R2) is a statistical measure that represents the proportion of the variance for a dependent variable that's explained by an independent variable or variables in a regression model.\n",
    "****"
   ]
  },
  {
   "cell_type": "code",
   "execution_count": 48,
   "id": "1d3bb52f",
   "metadata": {
    "execution": {
     "iopub.execute_input": "2023-03-13T11:34:51.475031Z",
     "iopub.status.busy": "2023-03-13T11:34:51.474603Z",
     "iopub.status.idle": "2023-03-13T11:34:51.483314Z",
     "shell.execute_reply": "2023-03-13T11:34:51.481308Z"
    },
    "id": "qniLD2PKJfTX",
    "outputId": "746cd4f7-7dee-48fd-efa0-79933bca840b",
    "papermill": {
     "duration": 0.17783,
     "end_time": "2023-03-13T11:34:51.486126",
     "exception": false,
     "start_time": "2023-03-13T11:34:51.308296",
     "status": "completed"
    },
    "tags": []
   },
   "outputs": [
    {
     "name": "stdout",
     "output_type": "stream",
     "text": [
      "Train data R2 score: 0.9752493424678823\n",
      "Test data R2 score: 0.5981184674095945\n"
     ]
    }
   ],
   "source": [
    "print(\"Train data R2 score:\", r2_score(original_ytrain, train_predict))\n",
    "print(\"Test data R2 score:\", r2_score(original_ytest, test_predict))"
   ]
  },
  {
   "cell_type": "markdown",
   "id": "cffcf86e",
   "metadata": {
    "id": "B_K2nN6ePPGG",
    "papermill": {
     "duration": 0.170554,
     "end_time": "2023-03-13T11:34:51.824608",
     "exception": false,
     "start_time": "2023-03-13T11:34:51.654054",
     "status": "completed"
    },
    "tags": []
   },
   "source": [
    "**Regression Loss Mean Gamma deviance regression loss (MGD) and Mean Poisson deviance regression loss (MPD)**"
   ]
  },
  {
   "cell_type": "code",
   "execution_count": 49,
   "id": "caa91901",
   "metadata": {
    "execution": {
     "iopub.execute_input": "2023-03-13T11:34:52.229837Z",
     "iopub.status.busy": "2023-03-13T11:34:52.229182Z",
     "iopub.status.idle": "2023-03-13T11:34:52.238388Z",
     "shell.execute_reply": "2023-03-13T11:34:52.236666Z"
    },
    "id": "LdxQKLI2Jk1G",
    "outputId": "1644ef94-e789-42c8-da73-78c25b0b2896",
    "papermill": {
     "duration": 0.244451,
     "end_time": "2023-03-13T11:34:52.241121",
     "exception": false,
     "start_time": "2023-03-13T11:34:51.996670",
     "status": "completed"
    },
    "tags": []
   },
   "outputs": [
    {
     "name": "stdout",
     "output_type": "stream",
     "text": [
      "Train data MGD:  0.005243717980119442\n",
      "Test data MGD:  0.004986389661583582\n",
      "----------------------------------------------------------------------\n",
      "Train data MPD:  0.006350771313577625\n",
      "Test data MPD:  0.004542051639747711\n"
     ]
    }
   ],
   "source": [
    "print(\"Train data MGD: \", mean_gamma_deviance(original_ytrain, train_predict))\n",
    "print(\"Test data MGD: \", mean_gamma_deviance(original_ytest, test_predict))\n",
    "print(\"----------------------------------------------------------------------\")\n",
    "print(\"Train data MPD: \", mean_poisson_deviance(original_ytrain, train_predict))\n",
    "print(\"Test data MPD: \", mean_poisson_deviance(original_ytest, test_predict))"
   ]
  },
  {
   "cell_type": "markdown",
   "id": "f2ed814b",
   "metadata": {
    "id": "567QW_78mOaW",
    "papermill": {
     "duration": 0.17118,
     "end_time": "2023-03-13T11:34:52.580503",
     "exception": false,
     "start_time": "2023-03-13T11:34:52.409323",
     "status": "completed"
    },
    "tags": []
   },
   "source": [
    "# **Comparison of original Matic open price and predicted Matic open price**"
   ]
  },
  {
   "cell_type": "code",
   "execution_count": 50,
   "id": "8e1ab785",
   "metadata": {
    "execution": {
     "iopub.execute_input": "2023-03-13T11:34:52.931820Z",
     "iopub.status.busy": "2023-03-13T11:34:52.930377Z",
     "iopub.status.idle": "2023-03-13T11:34:53.057005Z",
     "shell.execute_reply": "2023-03-13T11:34:53.055950Z"
    },
    "id": "5-4us90MJq0x",
    "outputId": "19fa1f6e-0330-4ebd-a3ae-556827e7fd4c",
    "papermill": {
     "duration": 0.299902,
     "end_time": "2023-03-13T11:34:53.059492",
     "exception": false,
     "start_time": "2023-03-13T11:34:52.759590",
     "status": "completed"
    },
    "tags": []
   },
   "outputs": [
    {
     "name": "stdout",
     "output_type": "stream",
     "text": [
      "Train predicted data:  (365, 1)\n",
      "Test predicted data:  (365, 1)\n"
     ]
    },
    {
     "data": {
      "text/html": [
       "<div>                            <div id=\"0fa4e706-cee3-4853-abc0-49a0d74432ad\" class=\"plotly-graph-div\" style=\"height:525px; width:100%;\"></div>            <script type=\"text/javascript\">                require([\"plotly\"], function(Plotly) {                    window.PLOTLYENV=window.PLOTLYENV || {};                                    if (document.getElementById(\"0fa4e706-cee3-4853-abc0-49a0d74432ad\")) {                    Plotly.newPlot(                        \"0fa4e706-cee3-4853-abc0-49a0d74432ad\",                        [{\"hovertemplate\":\"variable=original_close<br>Date=%{x}<br>Matic price=%{y}<extra></extra>\",\"legendgroup\":\"original_close\",\"line\":{\"color\":\"#636efa\",\"dash\":\"solid\"},\"marker\":{\"symbol\":\"circle\"},\"mode\":\"lines\",\"name\":\"Original Close price\",\"showlegend\":true,\"x\":[\"2021-11-13T00:00:00\",\"2021-11-14T00:00:00\",\"2021-11-15T00:00:00\",\"2021-11-16T00:00:00\",\"2021-11-17T00:00:00\",\"2021-11-18T00:00:00\",\"2021-11-19T00:00:00\",\"2021-11-20T00:00:00\",\"2021-11-21T00:00:00\",\"2021-11-22T00:00:00\",\"2021-11-23T00:00:00\",\"2021-11-24T00:00:00\",\"2021-11-25T00:00:00\",\"2021-11-26T00:00:00\",\"2021-11-27T00:00:00\",\"2021-11-28T00:00:00\",\"2021-11-29T00:00:00\",\"2021-11-30T00:00:00\",\"2021-12-01T00:00:00\",\"2021-12-02T00:00:00\",\"2021-12-03T00:00:00\",\"2021-12-04T00:00:00\",\"2021-12-05T00:00:00\",\"2021-12-06T00:00:00\",\"2021-12-07T00:00:00\",\"2021-12-08T00:00:00\",\"2021-12-09T00:00:00\",\"2021-12-10T00:00:00\",\"2021-12-11T00:00:00\",\"2021-12-12T00:00:00\",\"2021-12-13T00:00:00\",\"2021-12-14T00:00:00\",\"2021-12-15T00:00:00\",\"2021-12-16T00:00:00\",\"2021-12-17T00:00:00\",\"2021-12-18T00:00:00\",\"2021-12-19T00:00:00\",\"2021-12-20T00:00:00\",\"2021-12-21T00:00:00\",\"2021-12-22T00:00:00\",\"2021-12-23T00:00:00\",\"2021-12-24T00:00:00\",\"2021-12-25T00:00:00\",\"2021-12-26T00:00:00\",\"2021-12-27T00:00:00\",\"2021-12-28T00:00:00\",\"2021-12-29T00:00:00\",\"2021-12-30T00:00:00\",\"2021-12-31T00:00:00\",\"2022-01-01T00:00:00\",\"2022-01-02T00:00:00\",\"2022-01-03T00:00:00\",\"2022-01-04T00:00:00\",\"2022-01-05T00:00:00\",\"2022-01-06T00:00:00\",\"2022-01-07T00:00:00\",\"2022-01-08T00:00:00\",\"2022-01-09T00:00:00\",\"2022-01-10T00:00:00\",\"2022-01-11T00:00:00\",\"2022-01-12T00:00:00\",\"2022-01-13T00:00:00\",\"2022-01-14T00:00:00\",\"2022-01-15T00:00:00\",\"2022-01-16T00:00:00\",\"2022-01-17T00:00:00\",\"2022-01-18T00:00:00\",\"2022-01-19T00:00:00\",\"2022-01-20T00:00:00\",\"2022-01-21T00:00:00\",\"2022-01-22T00:00:00\",\"2022-01-23T00:00:00\",\"2022-01-24T00:00:00\",\"2022-01-25T00:00:00\",\"2022-01-26T00:00:00\",\"2022-01-27T00:00:00\",\"2022-01-28T00:00:00\",\"2022-01-29T00:00:00\",\"2022-01-30T00:00:00\",\"2022-01-31T00:00:00\",\"2022-02-01T00:00:00\",\"2022-02-02T00:00:00\",\"2022-02-03T00:00:00\",\"2022-02-04T00:00:00\",\"2022-02-05T00:00:00\",\"2022-02-06T00:00:00\",\"2022-02-07T00:00:00\",\"2022-02-08T00:00:00\",\"2022-02-09T00:00:00\",\"2022-02-10T00:00:00\",\"2022-02-11T00:00:00\",\"2022-02-12T00:00:00\",\"2022-02-13T00:00:00\",\"2022-02-14T00:00:00\",\"2022-02-15T00:00:00\",\"2022-02-16T00:00:00\",\"2022-02-17T00:00:00\",\"2022-02-18T00:00:00\",\"2022-02-19T00:00:00\",\"2022-02-20T00:00:00\",\"2022-02-21T00:00:00\",\"2022-02-22T00:00:00\",\"2022-02-23T00:00:00\",\"2022-02-24T00:00:00\",\"2022-02-25T00:00:00\",\"2022-02-26T00:00:00\",\"2022-02-27T00:00:00\",\"2022-02-28T00:00:00\",\"2022-03-01T00:00:00\",\"2022-03-02T00:00:00\",\"2022-03-03T00:00:00\",\"2022-03-04T00:00:00\",\"2022-03-05T00:00:00\",\"2022-03-06T00:00:00\",\"2022-03-07T00:00:00\",\"2022-03-08T00:00:00\",\"2022-03-09T00:00:00\",\"2022-03-10T00:00:00\",\"2022-03-11T00:00:00\",\"2022-03-12T00:00:00\",\"2022-03-13T00:00:00\",\"2022-03-14T00:00:00\",\"2022-03-15T00:00:00\",\"2022-03-16T00:00:00\",\"2022-03-17T00:00:00\",\"2022-03-18T00:00:00\",\"2022-03-19T00:00:00\",\"2022-03-20T00:00:00\",\"2022-03-21T00:00:00\",\"2022-03-22T00:00:00\",\"2022-03-23T00:00:00\",\"2022-03-24T00:00:00\",\"2022-03-25T00:00:00\",\"2022-03-26T00:00:00\",\"2022-03-27T00:00:00\",\"2022-03-28T00:00:00\",\"2022-03-29T00:00:00\",\"2022-03-30T00:00:00\",\"2022-03-31T00:00:00\",\"2022-04-01T00:00:00\",\"2022-04-02T00:00:00\",\"2022-04-03T00:00:00\",\"2022-04-04T00:00:00\",\"2022-04-05T00:00:00\",\"2022-04-06T00:00:00\",\"2022-04-07T00:00:00\",\"2022-04-08T00:00:00\",\"2022-04-09T00:00:00\",\"2022-04-10T00:00:00\",\"2022-04-11T00:00:00\",\"2022-04-12T00:00:00\",\"2022-04-13T00:00:00\",\"2022-04-14T00:00:00\",\"2022-04-15T00:00:00\",\"2022-04-16T00:00:00\",\"2022-04-17T00:00:00\",\"2022-04-18T00:00:00\",\"2022-04-19T00:00:00\",\"2022-04-20T00:00:00\",\"2022-04-21T00:00:00\",\"2022-04-22T00:00:00\",\"2022-04-23T00:00:00\",\"2022-04-24T00:00:00\",\"2022-04-25T00:00:00\",\"2022-04-26T00:00:00\",\"2022-04-27T00:00:00\",\"2022-04-28T00:00:00\",\"2022-04-29T00:00:00\",\"2022-04-30T00:00:00\",\"2022-05-01T00:00:00\",\"2022-05-02T00:00:00\",\"2022-05-03T00:00:00\",\"2022-05-04T00:00:00\",\"2022-05-05T00:00:00\",\"2022-05-06T00:00:00\",\"2022-05-07T00:00:00\",\"2022-05-08T00:00:00\",\"2022-05-09T00:00:00\",\"2022-05-10T00:00:00\",\"2022-05-11T00:00:00\",\"2022-05-12T00:00:00\",\"2022-05-13T00:00:00\",\"2022-05-14T00:00:00\",\"2022-05-15T00:00:00\",\"2022-05-16T00:00:00\",\"2022-05-17T00:00:00\",\"2022-05-18T00:00:00\",\"2022-05-19T00:00:00\",\"2022-05-20T00:00:00\",\"2022-05-21T00:00:00\",\"2022-05-22T00:00:00\",\"2022-05-23T00:00:00\",\"2022-05-24T00:00:00\",\"2022-05-25T00:00:00\",\"2022-05-26T00:00:00\",\"2022-05-27T00:00:00\",\"2022-05-28T00:00:00\",\"2022-05-29T00:00:00\",\"2022-05-30T00:00:00\",\"2022-05-31T00:00:00\",\"2022-06-01T00:00:00\",\"2022-06-02T00:00:00\",\"2022-06-03T00:00:00\",\"2022-06-04T00:00:00\",\"2022-06-05T00:00:00\",\"2022-06-06T00:00:00\",\"2022-06-07T00:00:00\",\"2022-06-08T00:00:00\",\"2022-06-09T00:00:00\",\"2022-06-10T00:00:00\",\"2022-06-11T00:00:00\",\"2022-06-12T00:00:00\",\"2022-06-13T00:00:00\",\"2022-06-14T00:00:00\",\"2022-06-15T00:00:00\",\"2022-06-16T00:00:00\",\"2022-06-17T00:00:00\",\"2022-06-18T00:00:00\",\"2022-06-19T00:00:00\",\"2022-06-20T00:00:00\",\"2022-06-21T00:00:00\",\"2022-06-22T00:00:00\",\"2022-06-23T00:00:00\",\"2022-06-24T00:00:00\",\"2022-06-25T00:00:00\",\"2022-06-26T00:00:00\",\"2022-06-27T00:00:00\",\"2022-06-28T00:00:00\",\"2022-06-29T00:00:00\",\"2022-06-30T00:00:00\",\"2022-07-01T00:00:00\",\"2022-07-02T00:00:00\",\"2022-07-03T00:00:00\",\"2022-07-04T00:00:00\",\"2022-07-05T00:00:00\",\"2022-07-06T00:00:00\",\"2022-07-07T00:00:00\",\"2022-07-08T00:00:00\",\"2022-07-09T00:00:00\",\"2022-07-10T00:00:00\",\"2022-07-11T00:00:00\",\"2022-07-12T00:00:00\",\"2022-07-13T00:00:00\",\"2022-07-14T00:00:00\",\"2022-07-15T00:00:00\",\"2022-07-16T00:00:00\",\"2022-07-17T00:00:00\",\"2022-07-18T00:00:00\",\"2022-07-19T00:00:00\",\"2022-07-20T00:00:00\",\"2022-07-21T00:00:00\",\"2022-07-22T00:00:00\",\"2022-07-23T00:00:00\",\"2022-07-24T00:00:00\",\"2022-07-25T00:00:00\",\"2022-07-26T00:00:00\",\"2022-07-27T00:00:00\",\"2022-07-28T00:00:00\",\"2022-07-29T00:00:00\",\"2022-07-30T00:00:00\",\"2022-07-31T00:00:00\",\"2022-08-01T00:00:00\",\"2022-08-02T00:00:00\",\"2022-08-03T00:00:00\",\"2022-08-04T00:00:00\",\"2022-08-05T00:00:00\",\"2022-08-06T00:00:00\",\"2022-08-07T00:00:00\",\"2022-08-08T00:00:00\",\"2022-08-09T00:00:00\",\"2022-08-10T00:00:00\",\"2022-08-11T00:00:00\",\"2022-08-12T00:00:00\",\"2022-08-13T00:00:00\",\"2022-08-14T00:00:00\",\"2022-08-15T00:00:00\",\"2022-08-16T00:00:00\",\"2022-08-17T00:00:00\",\"2022-08-18T00:00:00\",\"2022-08-19T00:00:00\",\"2022-08-20T00:00:00\",\"2022-08-21T00:00:00\",\"2022-08-22T00:00:00\",\"2022-08-23T00:00:00\",\"2022-08-24T00:00:00\",\"2022-08-25T00:00:00\",\"2022-08-26T00:00:00\",\"2022-08-27T00:00:00\",\"2022-08-28T00:00:00\",\"2022-08-29T00:00:00\",\"2022-08-30T00:00:00\",\"2022-08-31T00:00:00\",\"2022-09-01T00:00:00\",\"2022-09-02T00:00:00\",\"2022-09-03T00:00:00\",\"2022-09-04T00:00:00\",\"2022-09-05T00:00:00\",\"2022-09-06T00:00:00\",\"2022-09-07T00:00:00\",\"2022-09-08T00:00:00\",\"2022-09-09T00:00:00\",\"2022-09-10T00:00:00\",\"2022-09-11T00:00:00\",\"2022-09-12T00:00:00\",\"2022-09-13T00:00:00\",\"2022-09-14T00:00:00\",\"2022-09-15T00:00:00\",\"2022-09-16T00:00:00\",\"2022-09-17T00:00:00\",\"2022-09-18T00:00:00\",\"2022-09-19T00:00:00\",\"2022-09-20T00:00:00\",\"2022-09-21T00:00:00\",\"2022-09-22T00:00:00\",\"2022-09-23T00:00:00\",\"2022-09-24T00:00:00\",\"2022-09-25T00:00:00\",\"2022-09-26T00:00:00\",\"2022-09-27T00:00:00\",\"2022-09-28T00:00:00\",\"2022-09-29T00:00:00\",\"2022-09-30T00:00:00\",\"2022-10-01T00:00:00\",\"2022-10-02T00:00:00\",\"2022-10-03T00:00:00\",\"2022-10-04T00:00:00\",\"2022-10-05T00:00:00\",\"2022-10-06T00:00:00\",\"2022-10-07T00:00:00\",\"2022-10-08T00:00:00\",\"2022-10-09T00:00:00\",\"2022-10-10T00:00:00\",\"2022-10-11T00:00:00\",\"2022-10-12T00:00:00\",\"2022-10-13T00:00:00\",\"2022-10-14T00:00:00\",\"2022-10-15T00:00:00\",\"2022-10-16T00:00:00\",\"2022-10-17T00:00:00\",\"2022-10-18T00:00:00\",\"2022-10-19T00:00:00\",\"2022-10-20T00:00:00\",\"2022-10-21T00:00:00\",\"2022-10-22T00:00:00\",\"2022-10-23T00:00:00\",\"2022-10-24T00:00:00\",\"2022-10-25T00:00:00\",\"2022-10-26T00:00:00\",\"2022-10-27T00:00:00\",\"2022-10-28T00:00:00\",\"2022-10-29T00:00:00\",\"2022-10-30T00:00:00\",\"2022-10-31T00:00:00\",\"2022-11-01T00:00:00\",\"2022-11-02T00:00:00\",\"2022-11-03T00:00:00\",\"2022-11-04T00:00:00\",\"2022-11-05T00:00:00\",\"2022-11-06T00:00:00\",\"2022-11-07T00:00:00\",\"2022-11-08T00:00:00\",\"2022-11-09T00:00:00\",\"2022-11-10T00:00:00\",\"2022-11-11T00:00:00\",\"2022-11-12T00:00:00\"],\"xaxis\":\"x\",\"y\":[1.754876971244812,1.7296680212020874,1.6917239427566528,1.5629819631576538,1.634735941886902,1.498249053955078,1.6179649829864502,1.6646909713745115,1.6024030447006226,1.558411955833435,1.7532110214233398,1.680279016494751,1.7870880365371704,1.6318609714508057,1.6140400171279907,1.6518399715423584,1.817824959754944,1.785351037979126,2.008297920227051,2.1272881031036377,2.268029928207397,1.9803060293197632,2.0456020832061768,2.2797110080718994,2.366476058959961,2.4187300205230717,2.090277910232544,2.097673892974853,2.1325159072875977,2.086988925933838,1.8202769756317136,1.8027689456939695,2.122060060501098,2.0726890563964844,2.128067970275879,2.231473922729492,2.222235918045044,2.127742052078247,2.375984907150269,2.501101016998291,2.679162979125977,2.467272996902466,2.6368279457092285,2.8767569065093994,2.725954055786133,2.4982059001922607,2.470005989074707,2.557750940322876,2.527107000350952,2.574790954589844,2.549190044403076,2.432651996612549,2.367248058319092,2.1954751014709477,2.2507801055908203,2.053826093673706,1.995859980583191,2.115518093109131,2.0718019008636475,2.356945037841797,2.3925909996032715,2.263317108154297,2.3377270698547363,2.353693008422852,2.329822063446045,2.2219700813293457,2.128438949584961,2.035978078842163,1.960373044013977,1.698989987373352,1.530622959136963,1.6162480115890503,1.5075730085372925,1.5585379600524902,1.5910550355911257,1.591683030128479,1.679216980934143,1.694964051246643,1.605329990386963,1.6439210176467896,1.6475930213928225,1.5418850183486938,1.550246000289917,1.6908299922943115,1.714359998703003,1.7399510145187378,2.019141912460327,1.9486140012741089,2.0427680015563965,1.8958829641342163,1.7146209478378296,1.6995110511779783,1.6700210571289062,1.658877968788147,1.8628549575805664,1.8385260105133057,1.6568700075149536,1.5955140590667725,1.6318349838256836,1.515848994255066,1.4087870121002195,1.4644759893417358,1.4423739910125732,1.439592957496643,1.5506500005722046,1.5152939558029177,1.4530019760131836,1.6111910343170166,1.621351957321167,1.6352449655532837,1.5844130516052246,1.4749460220336914,1.5082659721374512,1.4366979598999023,1.416363000869751,1.4452840089797974,1.5068169832229614,1.4391969442367554,1.4065040349960327,1.3994849920272827,1.362876057624817,1.3778990507125854,1.38019597530365,1.4683589935302734,1.449110984802246,1.499554991722107,1.528071045875549,1.4639190435409546,1.466493010520935,1.5054479837417605,1.5563030242919922,1.6287649869918823,1.5795730352401731,1.6108030080795288,1.6934809684753418,1.6603870391845703,1.6747870445251465,1.6846189498901367,1.617285966873169,1.6939140558242798,1.654024958610535,1.6888099908828735,1.6499179601669312,1.592921018600464,1.4587470293045044,1.5140539407730105,1.4357019662857056,1.4643219709396362,1.4334650039672852,1.3331739902496338,1.3928680419921875,1.420106053352356,1.3726409673690796,1.396420955657959,1.3909319639205933,1.3400739431381226,1.4211549758911133,1.4281760454177856,1.4177440404891968,1.3798619508743286,1.3991390466690063,1.3659709692001345,1.3442449569702148,1.3526660203933716,1.2428330183029177,1.2576849460601809,1.2389039993286133,1.1405789852142334,1.0357500314712524,1.1011639833450315,1.0775909423828125,1.0759589672088623,1.1710319519042969,1.0646909475326538,1.044132947921753,1.0212039947509766,0.9743450284004213,0.8219149708747864,0.890408992767334,0.6662909984588623,0.6015390157699585,0.6675419807434082,0.6861389875411987,0.7375659942626953,0.6772819757461548,0.7269420027732849,0.627577006816864,0.6588169932365417,0.6365100145339966,0.6493390202522278,0.6783120036125183,0.6419389843940735,0.6615539789199829,0.6459270119667053,0.6010609865188599,0.5735759735107422,0.5878840088844299,0.5985490083694458,0.6571679711341858,0.6620870232582092,0.601777970790863,0.6194149851799011,0.589917004108429,0.5956569910049438,0.5979499816894531,0.6325010061264038,0.6166599988937378,0.607429027557373,0.6336650252342224,0.5949959754943848,0.538565993309021,0.5019019842147827,0.4278829991817474,0.4157600104808807,0.4377489984035492,0.3819270133972168,0.3998410105705261,0.3466590046882629,0.3831090033054352,0.4007590115070343,0.4188779890537262,0.4565579891204834,0.5614690184593201,0.6122009754180908,0.6004760265350342,0.5607240200042725,0.5327320098876953,0.5111070275306702,0.4952319860458374,0.4773710072040558,0.4612370133399963,0.4930419921875,0.4606389999389648,0.4915930032730102,0.5117179751396179,0.5252649784088135,0.5625439882278442,0.6062650084495544,0.5895839929580688,0.5712680220603943,0.5635250210762024,0.5398619771003723,0.6359469890594482,0.7075889706611633,0.7046700119972229,0.726830005645752,0.753013014793396,0.9617800116539,0.9257910251617432,0.8327580094337463,0.907405972480774,0.8534409999847412,0.875423014163971,0.881263017654419,0.7757260203361511,0.7802429795265198,0.8956959843635559,0.9361129999160768,0.9387419819831848,0.9296129941940308,0.9282649755477904,0.8944060206413269,0.8791570067405701,0.8876979947090149,0.8918799757957458,0.9276589751243592,0.9073359966278076,0.906690001487732,0.9215499758720398,0.8905079960823059,0.9373279809951782,0.9214040040969848,0.933907985687256,1.0248470306396484,1.0009089708328247,0.9520350098609924,0.9357960224151612,0.8831790089607239,0.8596519827842712,0.7721350193023682,0.7868880033493042,0.8202160000801086,0.8103410005569458,0.831794023513794,0.8135910034179688,0.8187280297279358,0.7637230157852173,0.8053479790687561,0.7842509746551514,0.8174030184745789,0.8145359754562378,0.8318210244178772,0.8854309916496277,0.8719679713249207,0.8892750144004822,0.8942300081253052,0.881430983543396,0.8188769817352295,0.8408460021018982,0.8442130088806152,0.8915079832077026,0.9061970114707948,0.8946130275726318,0.9300119876861572,0.8544139862060547,0.8647890090942383,0.8242989778518677,0.8060460090637207,0.8294839859008789,0.7534220218658447,0.7660380005836487,0.7332789897918701,0.7042239904403687,0.752830982208252,0.7787100076675415,0.75416100025177,0.7401890158653259,0.7547540068626404,0.7404059767723083,0.7473729848861694,0.76351398229599,0.7774459719657898,0.7658810019493103,0.7642509937286377,0.8018050193786621,0.8361300230026245,0.8513619899749756,0.8330519795417786,0.8319000005722046,0.8136389851570129,0.8253769874572754,0.815284013748169,0.7905439734458923,0.784313976764679,0.7758209705352783,0.7927230000495911,0.7901009917259216,0.7995629906654358,0.847258985042572,0.8645099997520447,0.8460860252380371,0.8101159930229187,0.8320930004119873,0.8323850035667419,0.8998370170593262,0.8938770294189453,0.9197390079498292,0.9381380081176758,0.904833972454071,0.9448480010032654,0.9338110089302064,0.9088510274887084,0.903988003730774,0.8753330111503601,0.8717179894447327,0.9521219730377196,1.1697460412979126,1.1837220191955566,1.1379679441452026,1.2524490356445312,1.0444190502166748,0.8132039904594421,1.124959945678711,1.061987042427063,0.9554285407066344],\"yaxis\":\"y\",\"type\":\"scattergl\"},{\"hovertemplate\":\"variable=train_predicted_close<br>Date=%{x}<br>Matic price=%{y}<extra></extra>\",\"legendgroup\":\"train_predicted_close\",\"line\":{\"color\":\"#EF553B\",\"dash\":\"solid\"},\"marker\":{\"symbol\":\"circle\"},\"mode\":\"lines\",\"name\":\"Train predicted Close price\",\"showlegend\":true,\"x\":[\"2021-11-13T00:00:00\",\"2021-11-14T00:00:00\",\"2021-11-15T00:00:00\",\"2021-11-16T00:00:00\",\"2021-11-17T00:00:00\",\"2021-11-18T00:00:00\",\"2021-11-19T00:00:00\",\"2021-11-20T00:00:00\",\"2021-11-21T00:00:00\",\"2021-11-22T00:00:00\",\"2021-11-23T00:00:00\",\"2021-11-24T00:00:00\",\"2021-11-25T00:00:00\",\"2021-11-26T00:00:00\",\"2021-11-27T00:00:00\",\"2021-11-28T00:00:00\",\"2021-11-29T00:00:00\",\"2021-11-30T00:00:00\",\"2021-12-01T00:00:00\",\"2021-12-02T00:00:00\",\"2021-12-03T00:00:00\",\"2021-12-04T00:00:00\",\"2021-12-05T00:00:00\",\"2021-12-06T00:00:00\",\"2021-12-07T00:00:00\",\"2021-12-08T00:00:00\",\"2021-12-09T00:00:00\",\"2021-12-10T00:00:00\",\"2021-12-11T00:00:00\",\"2021-12-12T00:00:00\",\"2021-12-13T00:00:00\",\"2021-12-14T00:00:00\",\"2021-12-15T00:00:00\",\"2021-12-16T00:00:00\",\"2021-12-17T00:00:00\",\"2021-12-18T00:00:00\",\"2021-12-19T00:00:00\",\"2021-12-20T00:00:00\",\"2021-12-21T00:00:00\",\"2021-12-22T00:00:00\",\"2021-12-23T00:00:00\",\"2021-12-24T00:00:00\",\"2021-12-25T00:00:00\",\"2021-12-26T00:00:00\",\"2021-12-27T00:00:00\",\"2021-12-28T00:00:00\",\"2021-12-29T00:00:00\",\"2021-12-30T00:00:00\",\"2021-12-31T00:00:00\",\"2022-01-01T00:00:00\",\"2022-01-02T00:00:00\",\"2022-01-03T00:00:00\",\"2022-01-04T00:00:00\",\"2022-01-05T00:00:00\",\"2022-01-06T00:00:00\",\"2022-01-07T00:00:00\",\"2022-01-08T00:00:00\",\"2022-01-09T00:00:00\",\"2022-01-10T00:00:00\",\"2022-01-11T00:00:00\",\"2022-01-12T00:00:00\",\"2022-01-13T00:00:00\",\"2022-01-14T00:00:00\",\"2022-01-15T00:00:00\",\"2022-01-16T00:00:00\",\"2022-01-17T00:00:00\",\"2022-01-18T00:00:00\",\"2022-01-19T00:00:00\",\"2022-01-20T00:00:00\",\"2022-01-21T00:00:00\",\"2022-01-22T00:00:00\",\"2022-01-23T00:00:00\",\"2022-01-24T00:00:00\",\"2022-01-25T00:00:00\",\"2022-01-26T00:00:00\",\"2022-01-27T00:00:00\",\"2022-01-28T00:00:00\",\"2022-01-29T00:00:00\",\"2022-01-30T00:00:00\",\"2022-01-31T00:00:00\",\"2022-02-01T00:00:00\",\"2022-02-02T00:00:00\",\"2022-02-03T00:00:00\",\"2022-02-04T00:00:00\",\"2022-02-05T00:00:00\",\"2022-02-06T00:00:00\",\"2022-02-07T00:00:00\",\"2022-02-08T00:00:00\",\"2022-02-09T00:00:00\",\"2022-02-10T00:00:00\",\"2022-02-11T00:00:00\",\"2022-02-12T00:00:00\",\"2022-02-13T00:00:00\",\"2022-02-14T00:00:00\",\"2022-02-15T00:00:00\",\"2022-02-16T00:00:00\",\"2022-02-17T00:00:00\",\"2022-02-18T00:00:00\",\"2022-02-19T00:00:00\",\"2022-02-20T00:00:00\",\"2022-02-21T00:00:00\",\"2022-02-22T00:00:00\",\"2022-02-23T00:00:00\",\"2022-02-24T00:00:00\",\"2022-02-25T00:00:00\",\"2022-02-26T00:00:00\",\"2022-02-27T00:00:00\",\"2022-02-28T00:00:00\",\"2022-03-01T00:00:00\",\"2022-03-02T00:00:00\",\"2022-03-03T00:00:00\",\"2022-03-04T00:00:00\",\"2022-03-05T00:00:00\",\"2022-03-06T00:00:00\",\"2022-03-07T00:00:00\",\"2022-03-08T00:00:00\",\"2022-03-09T00:00:00\",\"2022-03-10T00:00:00\",\"2022-03-11T00:00:00\",\"2022-03-12T00:00:00\",\"2022-03-13T00:00:00\",\"2022-03-14T00:00:00\",\"2022-03-15T00:00:00\",\"2022-03-16T00:00:00\",\"2022-03-17T00:00:00\",\"2022-03-18T00:00:00\",\"2022-03-19T00:00:00\",\"2022-03-20T00:00:00\",\"2022-03-21T00:00:00\",\"2022-03-22T00:00:00\",\"2022-03-23T00:00:00\",\"2022-03-24T00:00:00\",\"2022-03-25T00:00:00\",\"2022-03-26T00:00:00\",\"2022-03-27T00:00:00\",\"2022-03-28T00:00:00\",\"2022-03-29T00:00:00\",\"2022-03-30T00:00:00\",\"2022-03-31T00:00:00\",\"2022-04-01T00:00:00\",\"2022-04-02T00:00:00\",\"2022-04-03T00:00:00\",\"2022-04-04T00:00:00\",\"2022-04-05T00:00:00\",\"2022-04-06T00:00:00\",\"2022-04-07T00:00:00\",\"2022-04-08T00:00:00\",\"2022-04-09T00:00:00\",\"2022-04-10T00:00:00\",\"2022-04-11T00:00:00\",\"2022-04-12T00:00:00\",\"2022-04-13T00:00:00\",\"2022-04-14T00:00:00\",\"2022-04-15T00:00:00\",\"2022-04-16T00:00:00\",\"2022-04-17T00:00:00\",\"2022-04-18T00:00:00\",\"2022-04-19T00:00:00\",\"2022-04-20T00:00:00\",\"2022-04-21T00:00:00\",\"2022-04-22T00:00:00\",\"2022-04-23T00:00:00\",\"2022-04-24T00:00:00\",\"2022-04-25T00:00:00\",\"2022-04-26T00:00:00\",\"2022-04-27T00:00:00\",\"2022-04-28T00:00:00\",\"2022-04-29T00:00:00\",\"2022-04-30T00:00:00\",\"2022-05-01T00:00:00\",\"2022-05-02T00:00:00\",\"2022-05-03T00:00:00\",\"2022-05-04T00:00:00\",\"2022-05-05T00:00:00\",\"2022-05-06T00:00:00\",\"2022-05-07T00:00:00\",\"2022-05-08T00:00:00\",\"2022-05-09T00:00:00\",\"2022-05-10T00:00:00\",\"2022-05-11T00:00:00\",\"2022-05-12T00:00:00\",\"2022-05-13T00:00:00\",\"2022-05-14T00:00:00\",\"2022-05-15T00:00:00\",\"2022-05-16T00:00:00\",\"2022-05-17T00:00:00\",\"2022-05-18T00:00:00\",\"2022-05-19T00:00:00\",\"2022-05-20T00:00:00\",\"2022-05-21T00:00:00\",\"2022-05-22T00:00:00\",\"2022-05-23T00:00:00\",\"2022-05-24T00:00:00\",\"2022-05-25T00:00:00\",\"2022-05-26T00:00:00\",\"2022-05-27T00:00:00\",\"2022-05-28T00:00:00\",\"2022-05-29T00:00:00\",\"2022-05-30T00:00:00\",\"2022-05-31T00:00:00\",\"2022-06-01T00:00:00\",\"2022-06-02T00:00:00\",\"2022-06-03T00:00:00\",\"2022-06-04T00:00:00\",\"2022-06-05T00:00:00\",\"2022-06-06T00:00:00\",\"2022-06-07T00:00:00\",\"2022-06-08T00:00:00\",\"2022-06-09T00:00:00\",\"2022-06-10T00:00:00\",\"2022-06-11T00:00:00\",\"2022-06-12T00:00:00\",\"2022-06-13T00:00:00\",\"2022-06-14T00:00:00\",\"2022-06-15T00:00:00\",\"2022-06-16T00:00:00\",\"2022-06-17T00:00:00\",\"2022-06-18T00:00:00\",\"2022-06-19T00:00:00\",\"2022-06-20T00:00:00\",\"2022-06-21T00:00:00\",\"2022-06-22T00:00:00\",\"2022-06-23T00:00:00\",\"2022-06-24T00:00:00\",\"2022-06-25T00:00:00\",\"2022-06-26T00:00:00\",\"2022-06-27T00:00:00\",\"2022-06-28T00:00:00\",\"2022-06-29T00:00:00\",\"2022-06-30T00:00:00\",\"2022-07-01T00:00:00\",\"2022-07-02T00:00:00\",\"2022-07-03T00:00:00\",\"2022-07-04T00:00:00\",\"2022-07-05T00:00:00\",\"2022-07-06T00:00:00\",\"2022-07-07T00:00:00\",\"2022-07-08T00:00:00\",\"2022-07-09T00:00:00\",\"2022-07-10T00:00:00\",\"2022-07-11T00:00:00\",\"2022-07-12T00:00:00\",\"2022-07-13T00:00:00\",\"2022-07-14T00:00:00\",\"2022-07-15T00:00:00\",\"2022-07-16T00:00:00\",\"2022-07-17T00:00:00\",\"2022-07-18T00:00:00\",\"2022-07-19T00:00:00\",\"2022-07-20T00:00:00\",\"2022-07-21T00:00:00\",\"2022-07-22T00:00:00\",\"2022-07-23T00:00:00\",\"2022-07-24T00:00:00\",\"2022-07-25T00:00:00\",\"2022-07-26T00:00:00\",\"2022-07-27T00:00:00\",\"2022-07-28T00:00:00\",\"2022-07-29T00:00:00\",\"2022-07-30T00:00:00\",\"2022-07-31T00:00:00\",\"2022-08-01T00:00:00\",\"2022-08-02T00:00:00\",\"2022-08-03T00:00:00\",\"2022-08-04T00:00:00\",\"2022-08-05T00:00:00\",\"2022-08-06T00:00:00\",\"2022-08-07T00:00:00\",\"2022-08-08T00:00:00\",\"2022-08-09T00:00:00\",\"2022-08-10T00:00:00\",\"2022-08-11T00:00:00\",\"2022-08-12T00:00:00\",\"2022-08-13T00:00:00\",\"2022-08-14T00:00:00\",\"2022-08-15T00:00:00\",\"2022-08-16T00:00:00\",\"2022-08-17T00:00:00\",\"2022-08-18T00:00:00\",\"2022-08-19T00:00:00\",\"2022-08-20T00:00:00\",\"2022-08-21T00:00:00\",\"2022-08-22T00:00:00\",\"2022-08-23T00:00:00\",\"2022-08-24T00:00:00\",\"2022-08-25T00:00:00\",\"2022-08-26T00:00:00\",\"2022-08-27T00:00:00\",\"2022-08-28T00:00:00\",\"2022-08-29T00:00:00\",\"2022-08-30T00:00:00\",\"2022-08-31T00:00:00\",\"2022-09-01T00:00:00\",\"2022-09-02T00:00:00\",\"2022-09-03T00:00:00\",\"2022-09-04T00:00:00\",\"2022-09-05T00:00:00\",\"2022-09-06T00:00:00\",\"2022-09-07T00:00:00\",\"2022-09-08T00:00:00\",\"2022-09-09T00:00:00\",\"2022-09-10T00:00:00\",\"2022-09-11T00:00:00\",\"2022-09-12T00:00:00\",\"2022-09-13T00:00:00\",\"2022-09-14T00:00:00\",\"2022-09-15T00:00:00\",\"2022-09-16T00:00:00\",\"2022-09-17T00:00:00\",\"2022-09-18T00:00:00\",\"2022-09-19T00:00:00\",\"2022-09-20T00:00:00\",\"2022-09-21T00:00:00\",\"2022-09-22T00:00:00\",\"2022-09-23T00:00:00\",\"2022-09-24T00:00:00\",\"2022-09-25T00:00:00\",\"2022-09-26T00:00:00\",\"2022-09-27T00:00:00\",\"2022-09-28T00:00:00\",\"2022-09-29T00:00:00\",\"2022-09-30T00:00:00\",\"2022-10-01T00:00:00\",\"2022-10-02T00:00:00\",\"2022-10-03T00:00:00\",\"2022-10-04T00:00:00\",\"2022-10-05T00:00:00\",\"2022-10-06T00:00:00\",\"2022-10-07T00:00:00\",\"2022-10-08T00:00:00\",\"2022-10-09T00:00:00\",\"2022-10-10T00:00:00\",\"2022-10-11T00:00:00\",\"2022-10-12T00:00:00\",\"2022-10-13T00:00:00\",\"2022-10-14T00:00:00\",\"2022-10-15T00:00:00\",\"2022-10-16T00:00:00\",\"2022-10-17T00:00:00\",\"2022-10-18T00:00:00\",\"2022-10-19T00:00:00\",\"2022-10-20T00:00:00\",\"2022-10-21T00:00:00\",\"2022-10-22T00:00:00\",\"2022-10-23T00:00:00\",\"2022-10-24T00:00:00\",\"2022-10-25T00:00:00\",\"2022-10-26T00:00:00\",\"2022-10-27T00:00:00\",\"2022-10-28T00:00:00\",\"2022-10-29T00:00:00\",\"2022-10-30T00:00:00\",\"2022-10-31T00:00:00\",\"2022-11-01T00:00:00\",\"2022-11-02T00:00:00\",\"2022-11-03T00:00:00\",\"2022-11-04T00:00:00\",\"2022-11-05T00:00:00\",\"2022-11-06T00:00:00\",\"2022-11-07T00:00:00\",\"2022-11-08T00:00:00\",\"2022-11-09T00:00:00\",\"2022-11-10T00:00:00\",\"2022-11-11T00:00:00\",\"2022-11-12T00:00:00\"],\"xaxis\":\"x\",\"y\":[null,null,null,null,null,null,null,null,null,null,null,null,null,null,null,1.5797120332717896,1.6004576683044434,1.7616857290267944,1.7294269800186157,1.9654191732406616,2.0596532821655273,2.210747718811035,1.9057973623275757,2.0206968784332275,2.2002594470977783,2.273232936859131,2.3465094566345215,2.004005193710327,2.068408489227295,2.045696973800659,2.0091497898101807,1.7528046369552612,1.760615587234497,2.0538811683654785,1.983772873878479,2.088136911392212,2.170555830001831,2.152245283126831,2.065535068511963,2.3247978687286377,2.3974626064300537,2.60288667678833,2.3514134883880615,2.6079514026641846,2.7591917514801025,2.5860214233398438,2.424449920654297,2.398695707321167,2.459510564804077,2.414135694503784,2.494288921356201,2.4486663341522217,2.3459527492523193,2.2930538654327393,2.1061654090881348,2.189436435699463,1.9549527168273926,1.9451848268508911,2.0475692749023438,1.9926929473876953,2.307626724243164,2.2944629192352295,2.201183557510376,2.289991855621338,2.2659809589385986,2.252929925918579,2.1434037685394287,2.0617101192474365,1.9651334285736084,1.8931427001953125,1.633360505104065,1.4862637519836426,1.558763027191162,1.452010154724121,1.5189831256866455,1.547420620918274,1.5540771484375,1.639746069908142,1.6510884761810303,1.5681533813476562,1.6051515340805054,1.5982024669647217,1.4997111558914185,1.5100383758544922,1.6382514238357544,1.6622487306594849,1.6986414194107056,1.9695874452590942,1.8807235956192017,2.0069191455841064,1.8313366174697876,1.6729899644851685,1.6485605239868164,1.6074343919754028,1.6048222780227661,1.8081254959106445,1.779099464416504,1.6224300861358643,1.563110589981079,1.5810818672180176,1.4664260149002075,1.3725557327270508,1.420047402381897,1.3980880975723267,1.4030896425247192,1.5088856220245361,1.4770106077194214,1.4237799644470215,1.5682916641235352,1.5728654861450195,1.596910834312439,1.5455660820007324,1.439354419708252,1.4659401178359985,1.3916780948638916,1.3775157928466797,1.4030494689941406,1.4637080430984497,1.404348373413086,1.376144289970398,1.3629564046859741,1.3262766599655151,1.3400648832321167,1.3423479795455933,1.4275823831558228,1.4126609563827515,1.4644763469696045,1.4887863397598267,1.4291629791259766,1.430648922920227,1.4619799852371216,1.5115026235580444,1.5842982530593872,1.53976571559906,1.5735666751861572,1.646000862121582,1.6134440898895264,1.6337229013442993,1.637858271598816,1.572629451751709,1.6488702297210693,1.6028844118118286,1.645487666130066,1.6030019521713257,1.5521174669265747,1.4202407598495483,1.4705204963684082,1.390061855316162,1.4247791767120361,1.394092082977295,1.3028956651687622,1.3550695180892944,1.3783540725708008,1.339950442314148,1.362858772277832,1.3550628423690796,1.308170199394226,1.3817979097366333,1.3886094093322754,1.3840582370758057,1.3476008176803589,1.3626729249954224,1.3294663429260254,1.3097374439239502,1.3157377243041992,1.2135471105575562,1.2237772941589355,1.2034332752227783,1.115026593208313,1.0137159824371338,1.0621598958969116,1.0471152067184448,1.0498738288879395,1.136717438697815,1.0489788055419922,1.0232865810394287,0.9947729110717773,0.9498511552810669,0.810161292552948,0.8529016375541687,0.665713906288147,0.5839772820472717,0.6288549304008484,0.662178635597229,0.716439962387085,0.6748142838478088,0.7061299681663513,0.6251348853111267,0.6348159909248352,0.6190569996833801,0.6285096406936646,0.6563662886619568,0.6315444707870483,0.6422399282455444,0.6308252215385437,0.5903058648109436,0.5587649941444397,0.5656241178512573,0.5786862969398499,0.6323670148849487,0.6480382084846497,0.5979372262954712,0.5999013185501099,0.5755113959312439,0.5760716199874878,0.5795941948890686,0.6105076670646667,0.6041069626808167,0.5938464999198914,0.6129862666130066,0.5844069123268127,0.5303043127059937,0.48819592595100403,0.41971391439437866,0.39712607860565186,0.4151434898376465,0.3779706358909607,0.3836205005645752,0.34364113211631775,0.3630070388317108,0.3850225806236267,0.4054335355758667,0.44009533524513245,0.5334849953651428,0.5959611535072327,0.5947259664535522,0.5551155209541321,0.5195455551147461,0.4938220977783203,0.4773116707801819,0.46167853474617004,0.44708338379859924,0.47182324528694153,0.45272549986839294,0.47306105494499207,0.4951147735118866,0.5108756422996521,0.5440744161605835,0.5867488980293274,0.5800946354866028,0.5602100491523743,0.5477006435394287,0.5253475308418274,0.6020726561546326,0.6815985441207886,0.6942108273506165,0.7114430665969849,0.733389139175415,0.9156688451766968,0.9139283895492554,0.8296906352043152,0.876285195350647,0.8333093523979187,0.8479245901107788,null,null,null,null,null,null,null,null,null,null,null,null,null,null,null,null,null,null,null,null,null,null,null,null,null,null,null,null,null,null,null,null,null,null,null,null,null,null,null,null,null,null,null,null,null,null,null,null,null,null,null,null,null,null,null,null,null,null,null,null,null,null,null,null,null,null,null,null,null,null,null,null,null,null,null,null,null,null,null,null,null,null,null,null,null,null,null,null,null,null,null,null,null,null,null,null,null,null,null,null,null,null,null,null,null,null,null,null,null,null,null],\"yaxis\":\"y\",\"type\":\"scattergl\"},{\"hovertemplate\":\"variable=test_predicted_close<br>Date=%{x}<br>Matic price=%{y}<extra></extra>\",\"legendgroup\":\"test_predicted_close\",\"line\":{\"color\":\"#00cc96\",\"dash\":\"solid\"},\"marker\":{\"symbol\":\"circle\"},\"mode\":\"lines\",\"name\":\"Test predicted Close price\",\"showlegend\":true,\"x\":[\"2021-11-13T00:00:00\",\"2021-11-14T00:00:00\",\"2021-11-15T00:00:00\",\"2021-11-16T00:00:00\",\"2021-11-17T00:00:00\",\"2021-11-18T00:00:00\",\"2021-11-19T00:00:00\",\"2021-11-20T00:00:00\",\"2021-11-21T00:00:00\",\"2021-11-22T00:00:00\",\"2021-11-23T00:00:00\",\"2021-11-24T00:00:00\",\"2021-11-25T00:00:00\",\"2021-11-26T00:00:00\",\"2021-11-27T00:00:00\",\"2021-11-28T00:00:00\",\"2021-11-29T00:00:00\",\"2021-11-30T00:00:00\",\"2021-12-01T00:00:00\",\"2021-12-02T00:00:00\",\"2021-12-03T00:00:00\",\"2021-12-04T00:00:00\",\"2021-12-05T00:00:00\",\"2021-12-06T00:00:00\",\"2021-12-07T00:00:00\",\"2021-12-08T00:00:00\",\"2021-12-09T00:00:00\",\"2021-12-10T00:00:00\",\"2021-12-11T00:00:00\",\"2021-12-12T00:00:00\",\"2021-12-13T00:00:00\",\"2021-12-14T00:00:00\",\"2021-12-15T00:00:00\",\"2021-12-16T00:00:00\",\"2021-12-17T00:00:00\",\"2021-12-18T00:00:00\",\"2021-12-19T00:00:00\",\"2021-12-20T00:00:00\",\"2021-12-21T00:00:00\",\"2021-12-22T00:00:00\",\"2021-12-23T00:00:00\",\"2021-12-24T00:00:00\",\"2021-12-25T00:00:00\",\"2021-12-26T00:00:00\",\"2021-12-27T00:00:00\",\"2021-12-28T00:00:00\",\"2021-12-29T00:00:00\",\"2021-12-30T00:00:00\",\"2021-12-31T00:00:00\",\"2022-01-01T00:00:00\",\"2022-01-02T00:00:00\",\"2022-01-03T00:00:00\",\"2022-01-04T00:00:00\",\"2022-01-05T00:00:00\",\"2022-01-06T00:00:00\",\"2022-01-07T00:00:00\",\"2022-01-08T00:00:00\",\"2022-01-09T00:00:00\",\"2022-01-10T00:00:00\",\"2022-01-11T00:00:00\",\"2022-01-12T00:00:00\",\"2022-01-13T00:00:00\",\"2022-01-14T00:00:00\",\"2022-01-15T00:00:00\",\"2022-01-16T00:00:00\",\"2022-01-17T00:00:00\",\"2022-01-18T00:00:00\",\"2022-01-19T00:00:00\",\"2022-01-20T00:00:00\",\"2022-01-21T00:00:00\",\"2022-01-22T00:00:00\",\"2022-01-23T00:00:00\",\"2022-01-24T00:00:00\",\"2022-01-25T00:00:00\",\"2022-01-26T00:00:00\",\"2022-01-27T00:00:00\",\"2022-01-28T00:00:00\",\"2022-01-29T00:00:00\",\"2022-01-30T00:00:00\",\"2022-01-31T00:00:00\",\"2022-02-01T00:00:00\",\"2022-02-02T00:00:00\",\"2022-02-03T00:00:00\",\"2022-02-04T00:00:00\",\"2022-02-05T00:00:00\",\"2022-02-06T00:00:00\",\"2022-02-07T00:00:00\",\"2022-02-08T00:00:00\",\"2022-02-09T00:00:00\",\"2022-02-10T00:00:00\",\"2022-02-11T00:00:00\",\"2022-02-12T00:00:00\",\"2022-02-13T00:00:00\",\"2022-02-14T00:00:00\",\"2022-02-15T00:00:00\",\"2022-02-16T00:00:00\",\"2022-02-17T00:00:00\",\"2022-02-18T00:00:00\",\"2022-02-19T00:00:00\",\"2022-02-20T00:00:00\",\"2022-02-21T00:00:00\",\"2022-02-22T00:00:00\",\"2022-02-23T00:00:00\",\"2022-02-24T00:00:00\",\"2022-02-25T00:00:00\",\"2022-02-26T00:00:00\",\"2022-02-27T00:00:00\",\"2022-02-28T00:00:00\",\"2022-03-01T00:00:00\",\"2022-03-02T00:00:00\",\"2022-03-03T00:00:00\",\"2022-03-04T00:00:00\",\"2022-03-05T00:00:00\",\"2022-03-06T00:00:00\",\"2022-03-07T00:00:00\",\"2022-03-08T00:00:00\",\"2022-03-09T00:00:00\",\"2022-03-10T00:00:00\",\"2022-03-11T00:00:00\",\"2022-03-12T00:00:00\",\"2022-03-13T00:00:00\",\"2022-03-14T00:00:00\",\"2022-03-15T00:00:00\",\"2022-03-16T00:00:00\",\"2022-03-17T00:00:00\",\"2022-03-18T00:00:00\",\"2022-03-19T00:00:00\",\"2022-03-20T00:00:00\",\"2022-03-21T00:00:00\",\"2022-03-22T00:00:00\",\"2022-03-23T00:00:00\",\"2022-03-24T00:00:00\",\"2022-03-25T00:00:00\",\"2022-03-26T00:00:00\",\"2022-03-27T00:00:00\",\"2022-03-28T00:00:00\",\"2022-03-29T00:00:00\",\"2022-03-30T00:00:00\",\"2022-03-31T00:00:00\",\"2022-04-01T00:00:00\",\"2022-04-02T00:00:00\",\"2022-04-03T00:00:00\",\"2022-04-04T00:00:00\",\"2022-04-05T00:00:00\",\"2022-04-06T00:00:00\",\"2022-04-07T00:00:00\",\"2022-04-08T00:00:00\",\"2022-04-09T00:00:00\",\"2022-04-10T00:00:00\",\"2022-04-11T00:00:00\",\"2022-04-12T00:00:00\",\"2022-04-13T00:00:00\",\"2022-04-14T00:00:00\",\"2022-04-15T00:00:00\",\"2022-04-16T00:00:00\",\"2022-04-17T00:00:00\",\"2022-04-18T00:00:00\",\"2022-04-19T00:00:00\",\"2022-04-20T00:00:00\",\"2022-04-21T00:00:00\",\"2022-04-22T00:00:00\",\"2022-04-23T00:00:00\",\"2022-04-24T00:00:00\",\"2022-04-25T00:00:00\",\"2022-04-26T00:00:00\",\"2022-04-27T00:00:00\",\"2022-04-28T00:00:00\",\"2022-04-29T00:00:00\",\"2022-04-30T00:00:00\",\"2022-05-01T00:00:00\",\"2022-05-02T00:00:00\",\"2022-05-03T00:00:00\",\"2022-05-04T00:00:00\",\"2022-05-05T00:00:00\",\"2022-05-06T00:00:00\",\"2022-05-07T00:00:00\",\"2022-05-08T00:00:00\",\"2022-05-09T00:00:00\",\"2022-05-10T00:00:00\",\"2022-05-11T00:00:00\",\"2022-05-12T00:00:00\",\"2022-05-13T00:00:00\",\"2022-05-14T00:00:00\",\"2022-05-15T00:00:00\",\"2022-05-16T00:00:00\",\"2022-05-17T00:00:00\",\"2022-05-18T00:00:00\",\"2022-05-19T00:00:00\",\"2022-05-20T00:00:00\",\"2022-05-21T00:00:00\",\"2022-05-22T00:00:00\",\"2022-05-23T00:00:00\",\"2022-05-24T00:00:00\",\"2022-05-25T00:00:00\",\"2022-05-26T00:00:00\",\"2022-05-27T00:00:00\",\"2022-05-28T00:00:00\",\"2022-05-29T00:00:00\",\"2022-05-30T00:00:00\",\"2022-05-31T00:00:00\",\"2022-06-01T00:00:00\",\"2022-06-02T00:00:00\",\"2022-06-03T00:00:00\",\"2022-06-04T00:00:00\",\"2022-06-05T00:00:00\",\"2022-06-06T00:00:00\",\"2022-06-07T00:00:00\",\"2022-06-08T00:00:00\",\"2022-06-09T00:00:00\",\"2022-06-10T00:00:00\",\"2022-06-11T00:00:00\",\"2022-06-12T00:00:00\",\"2022-06-13T00:00:00\",\"2022-06-14T00:00:00\",\"2022-06-15T00:00:00\",\"2022-06-16T00:00:00\",\"2022-06-17T00:00:00\",\"2022-06-18T00:00:00\",\"2022-06-19T00:00:00\",\"2022-06-20T00:00:00\",\"2022-06-21T00:00:00\",\"2022-06-22T00:00:00\",\"2022-06-23T00:00:00\",\"2022-06-24T00:00:00\",\"2022-06-25T00:00:00\",\"2022-06-26T00:00:00\",\"2022-06-27T00:00:00\",\"2022-06-28T00:00:00\",\"2022-06-29T00:00:00\",\"2022-06-30T00:00:00\",\"2022-07-01T00:00:00\",\"2022-07-02T00:00:00\",\"2022-07-03T00:00:00\",\"2022-07-04T00:00:00\",\"2022-07-05T00:00:00\",\"2022-07-06T00:00:00\",\"2022-07-07T00:00:00\",\"2022-07-08T00:00:00\",\"2022-07-09T00:00:00\",\"2022-07-10T00:00:00\",\"2022-07-11T00:00:00\",\"2022-07-12T00:00:00\",\"2022-07-13T00:00:00\",\"2022-07-14T00:00:00\",\"2022-07-15T00:00:00\",\"2022-07-16T00:00:00\",\"2022-07-17T00:00:00\",\"2022-07-18T00:00:00\",\"2022-07-19T00:00:00\",\"2022-07-20T00:00:00\",\"2022-07-21T00:00:00\",\"2022-07-22T00:00:00\",\"2022-07-23T00:00:00\",\"2022-07-24T00:00:00\",\"2022-07-25T00:00:00\",\"2022-07-26T00:00:00\",\"2022-07-27T00:00:00\",\"2022-07-28T00:00:00\",\"2022-07-29T00:00:00\",\"2022-07-30T00:00:00\",\"2022-07-31T00:00:00\",\"2022-08-01T00:00:00\",\"2022-08-02T00:00:00\",\"2022-08-03T00:00:00\",\"2022-08-04T00:00:00\",\"2022-08-05T00:00:00\",\"2022-08-06T00:00:00\",\"2022-08-07T00:00:00\",\"2022-08-08T00:00:00\",\"2022-08-09T00:00:00\",\"2022-08-10T00:00:00\",\"2022-08-11T00:00:00\",\"2022-08-12T00:00:00\",\"2022-08-13T00:00:00\",\"2022-08-14T00:00:00\",\"2022-08-15T00:00:00\",\"2022-08-16T00:00:00\",\"2022-08-17T00:00:00\",\"2022-08-18T00:00:00\",\"2022-08-19T00:00:00\",\"2022-08-20T00:00:00\",\"2022-08-21T00:00:00\",\"2022-08-22T00:00:00\",\"2022-08-23T00:00:00\",\"2022-08-24T00:00:00\",\"2022-08-25T00:00:00\",\"2022-08-26T00:00:00\",\"2022-08-27T00:00:00\",\"2022-08-28T00:00:00\",\"2022-08-29T00:00:00\",\"2022-08-30T00:00:00\",\"2022-08-31T00:00:00\",\"2022-09-01T00:00:00\",\"2022-09-02T00:00:00\",\"2022-09-03T00:00:00\",\"2022-09-04T00:00:00\",\"2022-09-05T00:00:00\",\"2022-09-06T00:00:00\",\"2022-09-07T00:00:00\",\"2022-09-08T00:00:00\",\"2022-09-09T00:00:00\",\"2022-09-10T00:00:00\",\"2022-09-11T00:00:00\",\"2022-09-12T00:00:00\",\"2022-09-13T00:00:00\",\"2022-09-14T00:00:00\",\"2022-09-15T00:00:00\",\"2022-09-16T00:00:00\",\"2022-09-17T00:00:00\",\"2022-09-18T00:00:00\",\"2022-09-19T00:00:00\",\"2022-09-20T00:00:00\",\"2022-09-21T00:00:00\",\"2022-09-22T00:00:00\",\"2022-09-23T00:00:00\",\"2022-09-24T00:00:00\",\"2022-09-25T00:00:00\",\"2022-09-26T00:00:00\",\"2022-09-27T00:00:00\",\"2022-09-28T00:00:00\",\"2022-09-29T00:00:00\",\"2022-09-30T00:00:00\",\"2022-10-01T00:00:00\",\"2022-10-02T00:00:00\",\"2022-10-03T00:00:00\",\"2022-10-04T00:00:00\",\"2022-10-05T00:00:00\",\"2022-10-06T00:00:00\",\"2022-10-07T00:00:00\",\"2022-10-08T00:00:00\",\"2022-10-09T00:00:00\",\"2022-10-10T00:00:00\",\"2022-10-11T00:00:00\",\"2022-10-12T00:00:00\",\"2022-10-13T00:00:00\",\"2022-10-14T00:00:00\",\"2022-10-15T00:00:00\",\"2022-10-16T00:00:00\",\"2022-10-17T00:00:00\",\"2022-10-18T00:00:00\",\"2022-10-19T00:00:00\",\"2022-10-20T00:00:00\",\"2022-10-21T00:00:00\",\"2022-10-22T00:00:00\",\"2022-10-23T00:00:00\",\"2022-10-24T00:00:00\",\"2022-10-25T00:00:00\",\"2022-10-26T00:00:00\",\"2022-10-27T00:00:00\",\"2022-10-28T00:00:00\",\"2022-10-29T00:00:00\",\"2022-10-30T00:00:00\",\"2022-10-31T00:00:00\",\"2022-11-01T00:00:00\",\"2022-11-02T00:00:00\",\"2022-11-03T00:00:00\",\"2022-11-04T00:00:00\",\"2022-11-05T00:00:00\",\"2022-11-06T00:00:00\",\"2022-11-07T00:00:00\",\"2022-11-08T00:00:00\",\"2022-11-09T00:00:00\",\"2022-11-10T00:00:00\",\"2022-11-11T00:00:00\",\"2022-11-12T00:00:00\"],\"xaxis\":\"x\",\"y\":[null,null,null,null,null,null,null,null,null,null,null,null,null,null,null,null,null,null,null,null,null,null,null,null,null,null,null,null,null,null,null,null,null,null,null,null,null,null,null,null,null,null,null,null,null,null,null,null,null,null,null,null,null,null,null,null,null,null,null,null,null,null,null,null,null,null,null,null,null,null,null,null,null,null,null,null,null,null,null,null,null,null,null,null,null,null,null,null,null,null,null,null,null,null,null,null,null,null,null,null,null,null,null,null,null,null,null,null,null,null,null,null,null,null,null,null,null,null,null,null,null,null,null,null,null,null,null,null,null,null,null,null,null,null,null,null,null,null,null,null,null,null,null,null,null,null,null,null,null,null,null,null,null,null,null,null,null,null,null,null,null,null,null,null,null,null,null,null,null,null,null,null,null,null,null,null,null,null,null,null,null,null,null,null,null,null,null,null,null,null,null,null,null,null,null,null,null,null,null,null,null,null,null,null,null,null,null,null,null,null,null,null,null,null,null,null,null,null,null,null,null,null,null,null,null,null,null,null,null,null,null,null,null,null,null,null,null,null,null,null,null,null,null,null,null,null,null,null,null,null,null,null,null,null,null,null,null,null,null,null,null,null,null,null,null,null,null,null,null,null,0.8711267113685608,0.9086869955062866,0.899848997592926,0.9103109240531921,0.9915779232978821,0.9810059666633606,0.9362919330596924,0.913149893283844,0.8619021773338318,0.8351041078567505,0.7561253309249878,0.7589626908302307,0.791377604007721,0.7916043996810913,0.8111605644226074,0.7976866960525513,0.7988889813423157,0.7502856254577637,0.7779627442359924,0.7651364803314209,0.792836606502533,0.7952169179916382,0.8104771971702576,0.8589380383491516,0.8542819619178772,0.8676842451095581,0.8722288012504578,0.8608555793762207,0.8036525249481201,0.8137108087539673,0.8190901875495911,0.8633977174758911,0.8841056227684021,0.8768393397331238,0.9052922129631042,0.8412880301475525,0.8404449820518494,0.8040803074836731,0.7840609550476074,0.8026265501976013,0.7413834929466248,0.7430088520050049,0.7157471179962158,0.6874436736106873,0.7252207398414612,0.7562488317489624,0.7411689162254333,0.7250164747238159,0.7332512736320496,0.7223505973815918,0.726675271987915,0.7416202425956726,0.7566210627555847,0.7490754127502441,0.7455508708953857,0.7767741084098816,0.812058687210083,0.8310593366622925,0.8169245719909668,0.811834454536438,0.7938539385795593,0.8011652827262878,0.794185221195221,0.7722856402397156,0.7634797692298889,0.7551612257957458,0.7693178057670593,0.7703345417976379,0.7790042161941528,0.8216143846511841,0.8434513211250305,0.8300018310546875,0.7946399450302124,0.8066417574882507,0.8090856671333313,0.8695949912071228,0.8744250535964966,0.8975556492805481,0.9151987433433533,0.8870496153831482,0.9172181487083435,0.9107527732849121,0.8883851766586304,0.8804603219032288,0.8539999723434448,0.8477343916893005,0.9183879494667053,1.12313973903656,1.1623289585113525,1.125976324081421,1.2200019359588623,1.0306600332260132,0.807039737701416,1.0519492626190186,null],\"yaxis\":\"y\",\"type\":\"scattergl\"}],                        {\"template\":{\"data\":{\"histogram2dcontour\":[{\"type\":\"histogram2dcontour\",\"colorbar\":{\"outlinewidth\":0,\"ticks\":\"\"},\"colorscale\":[[0.0,\"#0d0887\"],[0.1111111111111111,\"#46039f\"],[0.2222222222222222,\"#7201a8\"],[0.3333333333333333,\"#9c179e\"],[0.4444444444444444,\"#bd3786\"],[0.5555555555555556,\"#d8576b\"],[0.6666666666666666,\"#ed7953\"],[0.7777777777777778,\"#fb9f3a\"],[0.8888888888888888,\"#fdca26\"],[1.0,\"#f0f921\"]]}],\"choropleth\":[{\"type\":\"choropleth\",\"colorbar\":{\"outlinewidth\":0,\"ticks\":\"\"}}],\"histogram2d\":[{\"type\":\"histogram2d\",\"colorbar\":{\"outlinewidth\":0,\"ticks\":\"\"},\"colorscale\":[[0.0,\"#0d0887\"],[0.1111111111111111,\"#46039f\"],[0.2222222222222222,\"#7201a8\"],[0.3333333333333333,\"#9c179e\"],[0.4444444444444444,\"#bd3786\"],[0.5555555555555556,\"#d8576b\"],[0.6666666666666666,\"#ed7953\"],[0.7777777777777778,\"#fb9f3a\"],[0.8888888888888888,\"#fdca26\"],[1.0,\"#f0f921\"]]}],\"heatmap\":[{\"type\":\"heatmap\",\"colorbar\":{\"outlinewidth\":0,\"ticks\":\"\"},\"colorscale\":[[0.0,\"#0d0887\"],[0.1111111111111111,\"#46039f\"],[0.2222222222222222,\"#7201a8\"],[0.3333333333333333,\"#9c179e\"],[0.4444444444444444,\"#bd3786\"],[0.5555555555555556,\"#d8576b\"],[0.6666666666666666,\"#ed7953\"],[0.7777777777777778,\"#fb9f3a\"],[0.8888888888888888,\"#fdca26\"],[1.0,\"#f0f921\"]]}],\"heatmapgl\":[{\"type\":\"heatmapgl\",\"colorbar\":{\"outlinewidth\":0,\"ticks\":\"\"},\"colorscale\":[[0.0,\"#0d0887\"],[0.1111111111111111,\"#46039f\"],[0.2222222222222222,\"#7201a8\"],[0.3333333333333333,\"#9c179e\"],[0.4444444444444444,\"#bd3786\"],[0.5555555555555556,\"#d8576b\"],[0.6666666666666666,\"#ed7953\"],[0.7777777777777778,\"#fb9f3a\"],[0.8888888888888888,\"#fdca26\"],[1.0,\"#f0f921\"]]}],\"contourcarpet\":[{\"type\":\"contourcarpet\",\"colorbar\":{\"outlinewidth\":0,\"ticks\":\"\"}}],\"contour\":[{\"type\":\"contour\",\"colorbar\":{\"outlinewidth\":0,\"ticks\":\"\"},\"colorscale\":[[0.0,\"#0d0887\"],[0.1111111111111111,\"#46039f\"],[0.2222222222222222,\"#7201a8\"],[0.3333333333333333,\"#9c179e\"],[0.4444444444444444,\"#bd3786\"],[0.5555555555555556,\"#d8576b\"],[0.6666666666666666,\"#ed7953\"],[0.7777777777777778,\"#fb9f3a\"],[0.8888888888888888,\"#fdca26\"],[1.0,\"#f0f921\"]]}],\"surface\":[{\"type\":\"surface\",\"colorbar\":{\"outlinewidth\":0,\"ticks\":\"\"},\"colorscale\":[[0.0,\"#0d0887\"],[0.1111111111111111,\"#46039f\"],[0.2222222222222222,\"#7201a8\"],[0.3333333333333333,\"#9c179e\"],[0.4444444444444444,\"#bd3786\"],[0.5555555555555556,\"#d8576b\"],[0.6666666666666666,\"#ed7953\"],[0.7777777777777778,\"#fb9f3a\"],[0.8888888888888888,\"#fdca26\"],[1.0,\"#f0f921\"]]}],\"mesh3d\":[{\"type\":\"mesh3d\",\"colorbar\":{\"outlinewidth\":0,\"ticks\":\"\"}}],\"scatter\":[{\"fillpattern\":{\"fillmode\":\"overlay\",\"size\":10,\"solidity\":0.2},\"type\":\"scatter\"}],\"parcoords\":[{\"type\":\"parcoords\",\"line\":{\"colorbar\":{\"outlinewidth\":0,\"ticks\":\"\"}}}],\"scatterpolargl\":[{\"type\":\"scatterpolargl\",\"marker\":{\"colorbar\":{\"outlinewidth\":0,\"ticks\":\"\"}}}],\"bar\":[{\"error_x\":{\"color\":\"#2a3f5f\"},\"error_y\":{\"color\":\"#2a3f5f\"},\"marker\":{\"line\":{\"color\":\"#E5ECF6\",\"width\":0.5},\"pattern\":{\"fillmode\":\"overlay\",\"size\":10,\"solidity\":0.2}},\"type\":\"bar\"}],\"scattergeo\":[{\"type\":\"scattergeo\",\"marker\":{\"colorbar\":{\"outlinewidth\":0,\"ticks\":\"\"}}}],\"scatterpolar\":[{\"type\":\"scatterpolar\",\"marker\":{\"colorbar\":{\"outlinewidth\":0,\"ticks\":\"\"}}}],\"histogram\":[{\"marker\":{\"pattern\":{\"fillmode\":\"overlay\",\"size\":10,\"solidity\":0.2}},\"type\":\"histogram\"}],\"scattergl\":[{\"type\":\"scattergl\",\"marker\":{\"colorbar\":{\"outlinewidth\":0,\"ticks\":\"\"}}}],\"scatter3d\":[{\"type\":\"scatter3d\",\"line\":{\"colorbar\":{\"outlinewidth\":0,\"ticks\":\"\"}},\"marker\":{\"colorbar\":{\"outlinewidth\":0,\"ticks\":\"\"}}}],\"scattermapbox\":[{\"type\":\"scattermapbox\",\"marker\":{\"colorbar\":{\"outlinewidth\":0,\"ticks\":\"\"}}}],\"scatterternary\":[{\"type\":\"scatterternary\",\"marker\":{\"colorbar\":{\"outlinewidth\":0,\"ticks\":\"\"}}}],\"scattercarpet\":[{\"type\":\"scattercarpet\",\"marker\":{\"colorbar\":{\"outlinewidth\":0,\"ticks\":\"\"}}}],\"carpet\":[{\"aaxis\":{\"endlinecolor\":\"#2a3f5f\",\"gridcolor\":\"white\",\"linecolor\":\"white\",\"minorgridcolor\":\"white\",\"startlinecolor\":\"#2a3f5f\"},\"baxis\":{\"endlinecolor\":\"#2a3f5f\",\"gridcolor\":\"white\",\"linecolor\":\"white\",\"minorgridcolor\":\"white\",\"startlinecolor\":\"#2a3f5f\"},\"type\":\"carpet\"}],\"table\":[{\"cells\":{\"fill\":{\"color\":\"#EBF0F8\"},\"line\":{\"color\":\"white\"}},\"header\":{\"fill\":{\"color\":\"#C8D4E3\"},\"line\":{\"color\":\"white\"}},\"type\":\"table\"}],\"barpolar\":[{\"marker\":{\"line\":{\"color\":\"#E5ECF6\",\"width\":0.5},\"pattern\":{\"fillmode\":\"overlay\",\"size\":10,\"solidity\":0.2}},\"type\":\"barpolar\"}],\"pie\":[{\"automargin\":true,\"type\":\"pie\"}]},\"layout\":{\"autotypenumbers\":\"strict\",\"colorway\":[\"#636efa\",\"#EF553B\",\"#00cc96\",\"#ab63fa\",\"#FFA15A\",\"#19d3f3\",\"#FF6692\",\"#B6E880\",\"#FF97FF\",\"#FECB52\"],\"font\":{\"color\":\"#2a3f5f\"},\"hovermode\":\"closest\",\"hoverlabel\":{\"align\":\"left\"},\"paper_bgcolor\":\"white\",\"plot_bgcolor\":\"#E5ECF6\",\"polar\":{\"bgcolor\":\"#E5ECF6\",\"angularaxis\":{\"gridcolor\":\"white\",\"linecolor\":\"white\",\"ticks\":\"\"},\"radialaxis\":{\"gridcolor\":\"white\",\"linecolor\":\"white\",\"ticks\":\"\"}},\"ternary\":{\"bgcolor\":\"#E5ECF6\",\"aaxis\":{\"gridcolor\":\"white\",\"linecolor\":\"white\",\"ticks\":\"\"},\"baxis\":{\"gridcolor\":\"white\",\"linecolor\":\"white\",\"ticks\":\"\"},\"caxis\":{\"gridcolor\":\"white\",\"linecolor\":\"white\",\"ticks\":\"\"}},\"coloraxis\":{\"colorbar\":{\"outlinewidth\":0,\"ticks\":\"\"}},\"colorscale\":{\"sequential\":[[0.0,\"#0d0887\"],[0.1111111111111111,\"#46039f\"],[0.2222222222222222,\"#7201a8\"],[0.3333333333333333,\"#9c179e\"],[0.4444444444444444,\"#bd3786\"],[0.5555555555555556,\"#d8576b\"],[0.6666666666666666,\"#ed7953\"],[0.7777777777777778,\"#fb9f3a\"],[0.8888888888888888,\"#fdca26\"],[1.0,\"#f0f921\"]],\"sequentialminus\":[[0.0,\"#0d0887\"],[0.1111111111111111,\"#46039f\"],[0.2222222222222222,\"#7201a8\"],[0.3333333333333333,\"#9c179e\"],[0.4444444444444444,\"#bd3786\"],[0.5555555555555556,\"#d8576b\"],[0.6666666666666666,\"#ed7953\"],[0.7777777777777778,\"#fb9f3a\"],[0.8888888888888888,\"#fdca26\"],[1.0,\"#f0f921\"]],\"diverging\":[[0,\"#8e0152\"],[0.1,\"#c51b7d\"],[0.2,\"#de77ae\"],[0.3,\"#f1b6da\"],[0.4,\"#fde0ef\"],[0.5,\"#f7f7f7\"],[0.6,\"#e6f5d0\"],[0.7,\"#b8e186\"],[0.8,\"#7fbc41\"],[0.9,\"#4d9221\"],[1,\"#276419\"]]},\"xaxis\":{\"gridcolor\":\"white\",\"linecolor\":\"white\",\"ticks\":\"\",\"title\":{\"standoff\":15},\"zerolinecolor\":\"white\",\"automargin\":true,\"zerolinewidth\":2},\"yaxis\":{\"gridcolor\":\"white\",\"linecolor\":\"white\",\"ticks\":\"\",\"title\":{\"standoff\":15},\"zerolinecolor\":\"white\",\"automargin\":true,\"zerolinewidth\":2},\"scene\":{\"xaxis\":{\"backgroundcolor\":\"#E5ECF6\",\"gridcolor\":\"white\",\"linecolor\":\"white\",\"showbackground\":true,\"ticks\":\"\",\"zerolinecolor\":\"white\",\"gridwidth\":2},\"yaxis\":{\"backgroundcolor\":\"#E5ECF6\",\"gridcolor\":\"white\",\"linecolor\":\"white\",\"showbackground\":true,\"ticks\":\"\",\"zerolinecolor\":\"white\",\"gridwidth\":2},\"zaxis\":{\"backgroundcolor\":\"#E5ECF6\",\"gridcolor\":\"white\",\"linecolor\":\"white\",\"showbackground\":true,\"ticks\":\"\",\"zerolinecolor\":\"white\",\"gridwidth\":2}},\"shapedefaults\":{\"line\":{\"color\":\"#2a3f5f\"}},\"annotationdefaults\":{\"arrowcolor\":\"#2a3f5f\",\"arrowhead\":0,\"arrowwidth\":1},\"geo\":{\"bgcolor\":\"white\",\"landcolor\":\"#E5ECF6\",\"subunitcolor\":\"white\",\"showland\":true,\"showlakes\":true,\"lakecolor\":\"white\"},\"title\":{\"x\":0.05},\"mapbox\":{\"style\":\"light\"}}},\"xaxis\":{\"anchor\":\"y\",\"domain\":[0.0,1.0],\"title\":{\"text\":\"Date\"},\"showgrid\":false},\"yaxis\":{\"anchor\":\"x\",\"domain\":[0.0,1.0],\"title\":{\"text\":\"Matic price\"},\"showgrid\":false},\"legend\":{\"title\":{\"text\":\"Open Price\"},\"tracegroupgap\":0},\"margin\":{\"t\":60},\"title\":{\"text\":\"Comparision between original Close price vs predicted Close price\"},\"font\":{\"size\":15,\"color\":\"black\"},\"plot_bgcolor\":\"white\"},                        {\"responsive\": true}                    ).then(function(){\n",
       "                            \n",
       "var gd = document.getElementById('0fa4e706-cee3-4853-abc0-49a0d74432ad');\n",
       "var x = new MutationObserver(function (mutations, observer) {{\n",
       "        var display = window.getComputedStyle(gd).display;\n",
       "        if (!display || display === 'none') {{\n",
       "            console.log([gd, 'removed!']);\n",
       "            Plotly.purge(gd);\n",
       "            observer.disconnect();\n",
       "        }}\n",
       "}});\n",
       "\n",
       "// Listen for the removal of the full notebook cells\n",
       "var notebookContainer = gd.closest('#notebook-container');\n",
       "if (notebookContainer) {{\n",
       "    x.observe(notebookContainer, {childList: true});\n",
       "}}\n",
       "\n",
       "// Listen for the clearing of the current output cell\n",
       "var outputEl = gd.closest('.output');\n",
       "if (outputEl) {{\n",
       "    x.observe(outputEl, {childList: true});\n",
       "}}\n",
       "\n",
       "                        })                };                });            </script>        </div>"
      ]
     },
     "metadata": {},
     "output_type": "display_data"
    }
   ],
   "source": [
    "look_back = time_step\n",
    "train_predict_plot = np.empty_like(closed_matic)\n",
    "train_predict_plot[:, :] = np.nan\n",
    "train_predict_plot[look_back : len(train_predict) + look_back, :] = train_predict\n",
    "print(\"Train predicted data: \", train_predict_plot.shape)\n",
    "\n",
    "# shift test predictions for plotting\n",
    "test_predict_plot = np.empty_like(closed_matic)\n",
    "test_predict_plot[:, :] = np.nan\n",
    "test_predict_plot[len(train_predict) + (look_back * 2) + 1:len(closed_stock) - 1, :] = test_predict\n",
    "print(\"Test predicted data: \", test_predict_plot.shape)\n",
    "\n",
    "names = cycle(['Original Close price','Train predicted Close price','Test predicted Close price'])\n",
    "\n",
    "plotdf = pd.DataFrame({'Date': closed_stock['Date'],\n",
    "                       'original_close': closed_stock['Close'],\n",
    "                      'train_predicted_close': train_predict_plot.reshape(1,-1)[0].tolist(),\n",
    "                      'test_predicted_close': test_predict_plot.reshape(1,-1)[0].tolist()})\n",
    "plotdf['original_close'] = plotdf['original_close'].astype(np.float64)\n",
    "\n",
    "fig = px.line(plotdf, x = plotdf['Date'], y = [plotdf['original_close'], plotdf['train_predicted_close'], plotdf['test_predicted_close']],\n",
    "              labels = {'value':'Matic price','Date': 'Date'})\n",
    "fig.update_layout(title_text = 'Comparision between original Close price vs predicted Close price',\n",
    "                  plot_bgcolor = 'white', font_size = 15, font_color = 'black', legend_title_text = 'Open Price')\n",
    "fig.for_each_trace(lambda t:  t.update(name = next(names)))\n",
    "\n",
    "fig.update_xaxes(showgrid=False)\n",
    "fig.update_yaxes(showgrid=False)\n",
    "fig.show()"
   ]
  },
  {
   "cell_type": "markdown",
   "id": "6dcaafcd",
   "metadata": {
    "id": "XUd4c_CVmX7b",
    "papermill": {
     "duration": 0.171359,
     "end_time": "2023-03-13T11:34:53.406914",
     "exception": false,
     "start_time": "2023-03-13T11:34:53.235555",
     "status": "completed"
    },
    "tags": []
   },
   "source": [
    "# **Predicting for the next 30 days**"
   ]
  },
  {
   "cell_type": "code",
   "execution_count": 51,
   "id": "67115dab",
   "metadata": {
    "execution": {
     "iopub.execute_input": "2023-03-13T11:34:53.757264Z",
     "iopub.status.busy": "2023-03-13T11:34:53.756427Z",
     "iopub.status.idle": "2023-03-13T11:34:57.279744Z",
     "shell.execute_reply": "2023-03-13T11:34:57.277894Z"
    },
    "id": "t5Z-KKKBVFZr",
    "outputId": "2d7dd525-76de-41dc-d1ae-649ab13b0c2d",
    "papermill": {
     "duration": 3.703235,
     "end_time": "2023-03-13T11:34:57.282766",
     "exception": false,
     "start_time": "2023-03-13T11:34:53.579531",
     "status": "completed"
    },
    "tags": []
   },
   "outputs": [
    {
     "name": "stdout",
     "output_type": "stream",
     "text": [
      "Output of predicted next days:  30\n"
     ]
    }
   ],
   "source": [
    "x_input = test_data[len(test_data) - time_step:].reshape(1,-1)\n",
    "temp_input = list(x_input)\n",
    "temp_input = temp_input[0].tolist()\n",
    "\n",
    "lst_output = []\n",
    "n_steps = time_step\n",
    "i = 0\n",
    "pred_days = 30\n",
    "while(i<pred_days):\n",
    "    \n",
    "    if(len(temp_input)>time_step):\n",
    "        \n",
    "        x_input=np.array(temp_input[1:])\n",
    "        #print(\"{} day input {}\".format(i,x_input))\n",
    "        x_input = x_input.reshape(1,-1)\n",
    "        x_input = x_input.reshape((1, n_steps, 1))\n",
    "        \n",
    "        yhat = model.predict(x_input, verbose=0)\n",
    "        #print(\"{} day output {}\".format(i,yhat))\n",
    "        temp_input.extend(yhat[0].tolist())\n",
    "        temp_input=temp_input[1:]\n",
    "        #print(temp_input)\n",
    "       \n",
    "        lst_output.extend(yhat.tolist())\n",
    "        i=i+1\n",
    "        \n",
    "    else:\n",
    "        \n",
    "        x_input = x_input.reshape((1, n_steps,1))\n",
    "        yhat = model.predict(x_input, verbose=0)\n",
    "        temp_input.extend(yhat[0].tolist())\n",
    "        \n",
    "        lst_output.extend(yhat.tolist())\n",
    "        i=i+1\n",
    "               \n",
    "print(\"Output of predicted next days: \", len(lst_output))"
   ]
  },
  {
   "cell_type": "markdown",
   "id": "174a441c",
   "metadata": {
    "id": "z3NXpaz2mc7d",
    "papermill": {
     "duration": 0.171463,
     "end_time": "2023-03-13T11:34:57.628193",
     "exception": false,
     "start_time": "2023-03-13T11:34:57.456730",
     "status": "completed"
    },
    "tags": []
   },
   "source": [
    "# **Plotting last 15 days of dataset and next predicted 30 days**"
   ]
  },
  {
   "cell_type": "code",
   "execution_count": 52,
   "id": "acfd75b3",
   "metadata": {
    "execution": {
     "iopub.execute_input": "2023-03-13T11:34:58.034102Z",
     "iopub.status.busy": "2023-03-13T11:34:58.033641Z",
     "iopub.status.idle": "2023-03-13T11:34:58.042071Z",
     "shell.execute_reply": "2023-03-13T11:34:58.040231Z"
    },
    "id": "OtpwMWWaVRuf",
    "outputId": "e72080cf-bb45-4d0d-eabd-bd6f0e5e311b",
    "papermill": {
     "duration": 0.246885,
     "end_time": "2023-03-13T11:34:58.044930",
     "exception": false,
     "start_time": "2023-03-13T11:34:57.798045",
     "status": "completed"
    },
    "tags": []
   },
   "outputs": [
    {
     "name": "stdout",
     "output_type": "stream",
     "text": [
      "[ 1  2  3  4  5  6  7  8  9 10 11 12 13 14 15]\n",
      "[16 17 18 19 20 21 22 23 24 25 26 27 28 29 30 31 32 33 34 35 36 37 38 39\n",
      " 40 41 42 43 44 45]\n"
     ]
    }
   ],
   "source": [
    "last_days = np.arange(1,time_step + 1)\n",
    "day_pred = np.arange(time_step + 1,time_step + pred_days + 1)\n",
    "print(last_days)\n",
    "print(day_pred)"
   ]
  },
  {
   "cell_type": "code",
   "execution_count": 53,
   "id": "04bde917",
   "metadata": {
    "execution": {
     "iopub.execute_input": "2023-03-13T11:34:58.397868Z",
     "iopub.status.busy": "2023-03-13T11:34:58.396454Z",
     "iopub.status.idle": "2023-03-13T11:34:58.481181Z",
     "shell.execute_reply": "2023-03-13T11:34:58.480186Z"
    },
    "id": "O5Likm-XVUOK",
    "outputId": "1ddc142d-0bec-42a3-ef91-3aeb6f08de73",
    "papermill": {
     "duration": 0.255592,
     "end_time": "2023-03-13T11:34:58.483922",
     "exception": false,
     "start_time": "2023-03-13T11:34:58.228330",
     "status": "completed"
    },
    "tags": []
   },
   "outputs": [
    {
     "data": {
      "text/html": [
       "<div>                            <div id=\"10bab34c-c51c-4484-8a0f-3ed190bb6c1a\" class=\"plotly-graph-div\" style=\"height:525px; width:100%;\"></div>            <script type=\"text/javascript\">                require([\"plotly\"], function(Plotly) {                    window.PLOTLYENV=window.PLOTLYENV || {};                                    if (document.getElementById(\"10bab34c-c51c-4484-8a0f-3ed190bb6c1a\")) {                    Plotly.newPlot(                        \"10bab34c-c51c-4484-8a0f-3ed190bb6c1a\",                        [{\"hovertemplate\":\"variable=last_original_days_value<br>Timestamp=%{x}<br>Matic price=%{y}<extra></extra>\",\"legendgroup\":\"last_original_days_value\",\"line\":{\"color\":\"#636efa\",\"dash\":\"solid\"},\"marker\":{\"symbol\":\"circle\"},\"mode\":\"lines\",\"name\":\"Last 15 days Open price\",\"orientation\":\"v\",\"showlegend\":true,\"x\":[0,1,2,3,4,5,6,7,8,9,10,11,12,13,14,15,16,17,18,19,20,21,22,23,24,25,26,27,28,29,30,31,32,33,34,35,36,37,38,39,40,41,42,43,44,45],\"xaxis\":\"x\",\"y\":[0.9338110089302063,0.9088510274887084,0.903988003730774,0.8753330111503601,0.8717179894447327,0.9521219730377196,1.1697460412979124,1.1837220191955566,1.1379679441452026,1.2524490356445312,1.0444190502166748,0.813203990459442,1.124959945678711,1.061987042427063,0.9554285407066344,null,0.9460802589145104,0.9248296027709823,0.8999437402590152,0.8761705213656102,0.8537248440517934,0.8322564623424887,0.8115166978252527,0.7913644718737415,0.7717163889985182,0.7525196295428466,0.7337418834097792,0.7153623771297503,0.6973658416371079,0.6797439826245845,0.6624881099202472,0.6455880441469949,0.6290341525979781,0.6128167271635538,0.596925871227096,0.5813517070226766,0.5660844133364629,0.5511146025206837,0.5364332073894396,0.5220314623680045,0.5079010165970157,0.49403395278317225,0.4804225421401566,0.4670595365744587,0.4539379047755993,0.4410508981935743],\"yaxis\":\"y\",\"type\":\"scatter\"},{\"hovertemplate\":\"variable=next_predicted_days_value<br>Timestamp=%{x}<br>Matic price=%{y}<extra></extra>\",\"legendgroup\":\"next_predicted_days_value\",\"line\":{\"color\":\"#EF553B\",\"dash\":\"solid\"},\"marker\":{\"symbol\":\"circle\"},\"mode\":\"lines\",\"name\":\"Predicted next 30 days Open price\",\"orientation\":\"v\",\"showlegend\":true,\"x\":[0,1,2,3,4,5,6,7,8,9,10,11,12,13,14,15,16,17,18,19,20,21,22,23,24,25,26,27,28,29,30,31,32,33,34,35,36,37,38,39,40,41,42,43,44,45],\"xaxis\":\"x\",\"y\":[0.9338110089302063,0.9088510274887084,0.903988003730774,0.8753330111503601,0.8717179894447327,0.9521219730377196,1.1697460412979124,1.1837220191955566,1.1379679441452026,1.2524490356445312,1.0444190502166748,0.813203990459442,1.124959945678711,1.061987042427063,0.9554285407066344,null,0.9460802589145104,0.9248296027709823,0.8999437402590152,0.8761705213656102,0.8537248440517934,0.8322564623424887,0.8115166978252527,0.7913644718737415,0.7717163889985182,0.7525196295428466,0.7337418834097792,0.7153623771297503,0.6973658416371079,0.6797439826245845,0.6624881099202472,0.6455880441469949,0.6290341525979781,0.6128167271635538,0.596925871227096,0.5813517070226766,0.5660844133364629,0.5511146025206837,0.5364332073894396,0.5220314623680045,0.5079010165970157,0.49403395278317225,0.4804225421401566,0.4670595365744587,0.4539379047755993,0.4410508981935743],\"yaxis\":\"y\",\"type\":\"scatter\"}],                        {\"template\":{\"data\":{\"histogram2dcontour\":[{\"type\":\"histogram2dcontour\",\"colorbar\":{\"outlinewidth\":0,\"ticks\":\"\"},\"colorscale\":[[0.0,\"#0d0887\"],[0.1111111111111111,\"#46039f\"],[0.2222222222222222,\"#7201a8\"],[0.3333333333333333,\"#9c179e\"],[0.4444444444444444,\"#bd3786\"],[0.5555555555555556,\"#d8576b\"],[0.6666666666666666,\"#ed7953\"],[0.7777777777777778,\"#fb9f3a\"],[0.8888888888888888,\"#fdca26\"],[1.0,\"#f0f921\"]]}],\"choropleth\":[{\"type\":\"choropleth\",\"colorbar\":{\"outlinewidth\":0,\"ticks\":\"\"}}],\"histogram2d\":[{\"type\":\"histogram2d\",\"colorbar\":{\"outlinewidth\":0,\"ticks\":\"\"},\"colorscale\":[[0.0,\"#0d0887\"],[0.1111111111111111,\"#46039f\"],[0.2222222222222222,\"#7201a8\"],[0.3333333333333333,\"#9c179e\"],[0.4444444444444444,\"#bd3786\"],[0.5555555555555556,\"#d8576b\"],[0.6666666666666666,\"#ed7953\"],[0.7777777777777778,\"#fb9f3a\"],[0.8888888888888888,\"#fdca26\"],[1.0,\"#f0f921\"]]}],\"heatmap\":[{\"type\":\"heatmap\",\"colorbar\":{\"outlinewidth\":0,\"ticks\":\"\"},\"colorscale\":[[0.0,\"#0d0887\"],[0.1111111111111111,\"#46039f\"],[0.2222222222222222,\"#7201a8\"],[0.3333333333333333,\"#9c179e\"],[0.4444444444444444,\"#bd3786\"],[0.5555555555555556,\"#d8576b\"],[0.6666666666666666,\"#ed7953\"],[0.7777777777777778,\"#fb9f3a\"],[0.8888888888888888,\"#fdca26\"],[1.0,\"#f0f921\"]]}],\"heatmapgl\":[{\"type\":\"heatmapgl\",\"colorbar\":{\"outlinewidth\":0,\"ticks\":\"\"},\"colorscale\":[[0.0,\"#0d0887\"],[0.1111111111111111,\"#46039f\"],[0.2222222222222222,\"#7201a8\"],[0.3333333333333333,\"#9c179e\"],[0.4444444444444444,\"#bd3786\"],[0.5555555555555556,\"#d8576b\"],[0.6666666666666666,\"#ed7953\"],[0.7777777777777778,\"#fb9f3a\"],[0.8888888888888888,\"#fdca26\"],[1.0,\"#f0f921\"]]}],\"contourcarpet\":[{\"type\":\"contourcarpet\",\"colorbar\":{\"outlinewidth\":0,\"ticks\":\"\"}}],\"contour\":[{\"type\":\"contour\",\"colorbar\":{\"outlinewidth\":0,\"ticks\":\"\"},\"colorscale\":[[0.0,\"#0d0887\"],[0.1111111111111111,\"#46039f\"],[0.2222222222222222,\"#7201a8\"],[0.3333333333333333,\"#9c179e\"],[0.4444444444444444,\"#bd3786\"],[0.5555555555555556,\"#d8576b\"],[0.6666666666666666,\"#ed7953\"],[0.7777777777777778,\"#fb9f3a\"],[0.8888888888888888,\"#fdca26\"],[1.0,\"#f0f921\"]]}],\"surface\":[{\"type\":\"surface\",\"colorbar\":{\"outlinewidth\":0,\"ticks\":\"\"},\"colorscale\":[[0.0,\"#0d0887\"],[0.1111111111111111,\"#46039f\"],[0.2222222222222222,\"#7201a8\"],[0.3333333333333333,\"#9c179e\"],[0.4444444444444444,\"#bd3786\"],[0.5555555555555556,\"#d8576b\"],[0.6666666666666666,\"#ed7953\"],[0.7777777777777778,\"#fb9f3a\"],[0.8888888888888888,\"#fdca26\"],[1.0,\"#f0f921\"]]}],\"mesh3d\":[{\"type\":\"mesh3d\",\"colorbar\":{\"outlinewidth\":0,\"ticks\":\"\"}}],\"scatter\":[{\"fillpattern\":{\"fillmode\":\"overlay\",\"size\":10,\"solidity\":0.2},\"type\":\"scatter\"}],\"parcoords\":[{\"type\":\"parcoords\",\"line\":{\"colorbar\":{\"outlinewidth\":0,\"ticks\":\"\"}}}],\"scatterpolargl\":[{\"type\":\"scatterpolargl\",\"marker\":{\"colorbar\":{\"outlinewidth\":0,\"ticks\":\"\"}}}],\"bar\":[{\"error_x\":{\"color\":\"#2a3f5f\"},\"error_y\":{\"color\":\"#2a3f5f\"},\"marker\":{\"line\":{\"color\":\"#E5ECF6\",\"width\":0.5},\"pattern\":{\"fillmode\":\"overlay\",\"size\":10,\"solidity\":0.2}},\"type\":\"bar\"}],\"scattergeo\":[{\"type\":\"scattergeo\",\"marker\":{\"colorbar\":{\"outlinewidth\":0,\"ticks\":\"\"}}}],\"scatterpolar\":[{\"type\":\"scatterpolar\",\"marker\":{\"colorbar\":{\"outlinewidth\":0,\"ticks\":\"\"}}}],\"histogram\":[{\"marker\":{\"pattern\":{\"fillmode\":\"overlay\",\"size\":10,\"solidity\":0.2}},\"type\":\"histogram\"}],\"scattergl\":[{\"type\":\"scattergl\",\"marker\":{\"colorbar\":{\"outlinewidth\":0,\"ticks\":\"\"}}}],\"scatter3d\":[{\"type\":\"scatter3d\",\"line\":{\"colorbar\":{\"outlinewidth\":0,\"ticks\":\"\"}},\"marker\":{\"colorbar\":{\"outlinewidth\":0,\"ticks\":\"\"}}}],\"scattermapbox\":[{\"type\":\"scattermapbox\",\"marker\":{\"colorbar\":{\"outlinewidth\":0,\"ticks\":\"\"}}}],\"scatterternary\":[{\"type\":\"scatterternary\",\"marker\":{\"colorbar\":{\"outlinewidth\":0,\"ticks\":\"\"}}}],\"scattercarpet\":[{\"type\":\"scattercarpet\",\"marker\":{\"colorbar\":{\"outlinewidth\":0,\"ticks\":\"\"}}}],\"carpet\":[{\"aaxis\":{\"endlinecolor\":\"#2a3f5f\",\"gridcolor\":\"white\",\"linecolor\":\"white\",\"minorgridcolor\":\"white\",\"startlinecolor\":\"#2a3f5f\"},\"baxis\":{\"endlinecolor\":\"#2a3f5f\",\"gridcolor\":\"white\",\"linecolor\":\"white\",\"minorgridcolor\":\"white\",\"startlinecolor\":\"#2a3f5f\"},\"type\":\"carpet\"}],\"table\":[{\"cells\":{\"fill\":{\"color\":\"#EBF0F8\"},\"line\":{\"color\":\"white\"}},\"header\":{\"fill\":{\"color\":\"#C8D4E3\"},\"line\":{\"color\":\"white\"}},\"type\":\"table\"}],\"barpolar\":[{\"marker\":{\"line\":{\"color\":\"#E5ECF6\",\"width\":0.5},\"pattern\":{\"fillmode\":\"overlay\",\"size\":10,\"solidity\":0.2}},\"type\":\"barpolar\"}],\"pie\":[{\"automargin\":true,\"type\":\"pie\"}]},\"layout\":{\"autotypenumbers\":\"strict\",\"colorway\":[\"#636efa\",\"#EF553B\",\"#00cc96\",\"#ab63fa\",\"#FFA15A\",\"#19d3f3\",\"#FF6692\",\"#B6E880\",\"#FF97FF\",\"#FECB52\"],\"font\":{\"color\":\"#2a3f5f\"},\"hovermode\":\"closest\",\"hoverlabel\":{\"align\":\"left\"},\"paper_bgcolor\":\"white\",\"plot_bgcolor\":\"#E5ECF6\",\"polar\":{\"bgcolor\":\"#E5ECF6\",\"angularaxis\":{\"gridcolor\":\"white\",\"linecolor\":\"white\",\"ticks\":\"\"},\"radialaxis\":{\"gridcolor\":\"white\",\"linecolor\":\"white\",\"ticks\":\"\"}},\"ternary\":{\"bgcolor\":\"#E5ECF6\",\"aaxis\":{\"gridcolor\":\"white\",\"linecolor\":\"white\",\"ticks\":\"\"},\"baxis\":{\"gridcolor\":\"white\",\"linecolor\":\"white\",\"ticks\":\"\"},\"caxis\":{\"gridcolor\":\"white\",\"linecolor\":\"white\",\"ticks\":\"\"}},\"coloraxis\":{\"colorbar\":{\"outlinewidth\":0,\"ticks\":\"\"}},\"colorscale\":{\"sequential\":[[0.0,\"#0d0887\"],[0.1111111111111111,\"#46039f\"],[0.2222222222222222,\"#7201a8\"],[0.3333333333333333,\"#9c179e\"],[0.4444444444444444,\"#bd3786\"],[0.5555555555555556,\"#d8576b\"],[0.6666666666666666,\"#ed7953\"],[0.7777777777777778,\"#fb9f3a\"],[0.8888888888888888,\"#fdca26\"],[1.0,\"#f0f921\"]],\"sequentialminus\":[[0.0,\"#0d0887\"],[0.1111111111111111,\"#46039f\"],[0.2222222222222222,\"#7201a8\"],[0.3333333333333333,\"#9c179e\"],[0.4444444444444444,\"#bd3786\"],[0.5555555555555556,\"#d8576b\"],[0.6666666666666666,\"#ed7953\"],[0.7777777777777778,\"#fb9f3a\"],[0.8888888888888888,\"#fdca26\"],[1.0,\"#f0f921\"]],\"diverging\":[[0,\"#8e0152\"],[0.1,\"#c51b7d\"],[0.2,\"#de77ae\"],[0.3,\"#f1b6da\"],[0.4,\"#fde0ef\"],[0.5,\"#f7f7f7\"],[0.6,\"#e6f5d0\"],[0.7,\"#b8e186\"],[0.8,\"#7fbc41\"],[0.9,\"#4d9221\"],[1,\"#276419\"]]},\"xaxis\":{\"gridcolor\":\"white\",\"linecolor\":\"white\",\"ticks\":\"\",\"title\":{\"standoff\":15},\"zerolinecolor\":\"white\",\"automargin\":true,\"zerolinewidth\":2},\"yaxis\":{\"gridcolor\":\"white\",\"linecolor\":\"white\",\"ticks\":\"\",\"title\":{\"standoff\":15},\"zerolinecolor\":\"white\",\"automargin\":true,\"zerolinewidth\":2},\"scene\":{\"xaxis\":{\"backgroundcolor\":\"#E5ECF6\",\"gridcolor\":\"white\",\"linecolor\":\"white\",\"showbackground\":true,\"ticks\":\"\",\"zerolinecolor\":\"white\",\"gridwidth\":2},\"yaxis\":{\"backgroundcolor\":\"#E5ECF6\",\"gridcolor\":\"white\",\"linecolor\":\"white\",\"showbackground\":true,\"ticks\":\"\",\"zerolinecolor\":\"white\",\"gridwidth\":2},\"zaxis\":{\"backgroundcolor\":\"#E5ECF6\",\"gridcolor\":\"white\",\"linecolor\":\"white\",\"showbackground\":true,\"ticks\":\"\",\"zerolinecolor\":\"white\",\"gridwidth\":2}},\"shapedefaults\":{\"line\":{\"color\":\"#2a3f5f\"}},\"annotationdefaults\":{\"arrowcolor\":\"#2a3f5f\",\"arrowhead\":0,\"arrowwidth\":1},\"geo\":{\"bgcolor\":\"white\",\"landcolor\":\"#E5ECF6\",\"subunitcolor\":\"white\",\"showland\":true,\"showlakes\":true,\"lakecolor\":\"white\"},\"title\":{\"x\":0.05},\"mapbox\":{\"style\":\"light\"}}},\"xaxis\":{\"anchor\":\"y\",\"domain\":[0.0,1.0],\"title\":{\"text\":\"Timestamp\"},\"showgrid\":false},\"yaxis\":{\"anchor\":\"x\",\"domain\":[0.0,1.0],\"title\":{\"text\":\"Matic price\"},\"showgrid\":false},\"legend\":{\"title\":{\"text\":\"Close Price\"},\"tracegroupgap\":0},\"margin\":{\"t\":60},\"title\":{\"text\":\"Comparing last 15 days vs next 30 days\"},\"font\":{\"size\":15,\"color\":\"black\"},\"plot_bgcolor\":\"white\"},                        {\"responsive\": true}                    ).then(function(){\n",
       "                            \n",
       "var gd = document.getElementById('10bab34c-c51c-4484-8a0f-3ed190bb6c1a');\n",
       "var x = new MutationObserver(function (mutations, observer) {{\n",
       "        var display = window.getComputedStyle(gd).display;\n",
       "        if (!display || display === 'none') {{\n",
       "            console.log([gd, 'removed!']);\n",
       "            Plotly.purge(gd);\n",
       "            observer.disconnect();\n",
       "        }}\n",
       "}});\n",
       "\n",
       "// Listen for the removal of the full notebook cells\n",
       "var notebookContainer = gd.closest('#notebook-container');\n",
       "if (notebookContainer) {{\n",
       "    x.observe(notebookContainer, {childList: true});\n",
       "}}\n",
       "\n",
       "// Listen for the clearing of the current output cell\n",
       "var outputEl = gd.closest('.output');\n",
       "if (outputEl) {{\n",
       "    x.observe(outputEl, {childList: true});\n",
       "}}\n",
       "\n",
       "                        })                };                });            </script>        </div>"
      ]
     },
     "metadata": {},
     "output_type": "display_data"
    }
   ],
   "source": [
    "temp_mat = np.empty((len(last_days)+pred_days+1,1))\n",
    "temp_mat[:] = np.nan\n",
    "temp_mat = temp_mat.reshape(1,-1).tolist()[0]\n",
    "\n",
    "last_original_days_value = temp_mat\n",
    "next_predicted_days_value = temp_mat\n",
    "\n",
    "last_original_days_value[0:time_step+1] = scaler.inverse_transform(closed_matic[len(closed_matic)-time_step:]).reshape(1,-1).tolist()[0]\n",
    "next_predicted_days_value[time_step+1:] = scaler.inverse_transform(np.array(lst_output).reshape(-1,1)).reshape(1,-1).tolist()[0]\n",
    "\n",
    "new_pred_plot = pd.DataFrame({\n",
    "    'last_original_days_value':last_original_days_value,\n",
    "    'next_predicted_days_value':next_predicted_days_value\n",
    "})\n",
    "\n",
    "names = cycle(['Last 15 days Open price','Predicted next 30 days Open price'])\n",
    "\n",
    "fig = px.line(new_pred_plot,x=new_pred_plot.index, y=[new_pred_plot['last_original_days_value'],\n",
    "                                                      new_pred_plot['next_predicted_days_value']],\n",
    "              labels={'value': 'Matic price','index': 'Timestamp'})\n",
    "fig.update_layout(title_text='Comparing last 15 days vs next 30 days',\n",
    "                  plot_bgcolor='white', font_size=15, font_color='black',legend_title_text='Close Price')\n",
    "\n",
    "fig.for_each_trace(lambda t:  t.update(name = next(names)))\n",
    "fig.update_xaxes(showgrid=False)\n",
    "fig.update_yaxes(showgrid=False)\n",
    "fig.show()"
   ]
  },
  {
   "cell_type": "markdown",
   "id": "72b04dff",
   "metadata": {
    "id": "ThnCmv1CmgeM",
    "papermill": {
     "duration": 0.171486,
     "end_time": "2023-03-13T11:34:58.834930",
     "exception": false,
     "start_time": "2023-03-13T11:34:58.663444",
     "status": "completed"
    },
    "tags": []
   },
   "source": [
    "# **Plotting entire Opening Stock Price with next 30 days period of prediction**"
   ]
  },
  {
   "cell_type": "code",
   "execution_count": 54,
   "id": "f424d6b9",
   "metadata": {
    "execution": {
     "iopub.execute_input": "2023-03-13T11:34:59.193948Z",
     "iopub.status.busy": "2023-03-13T11:34:59.193536Z",
     "iopub.status.idle": "2023-03-13T11:34:59.284586Z",
     "shell.execute_reply": "2023-03-13T11:34:59.283255Z"
    },
    "id": "M9RfFZDHWDLo",
    "outputId": "41e3c726-3080-4285-9f31-3178980eda50",
    "papermill": {
     "duration": 0.273946,
     "end_time": "2023-03-13T11:34:59.287541",
     "exception": false,
     "start_time": "2023-03-13T11:34:59.013595",
     "status": "completed"
    },
    "tags": []
   },
   "outputs": [
    {
     "data": {
      "text/html": [
       "<div>                            <div id=\"c9244787-1ad5-4818-b9ed-9ff1e66e014e\" class=\"plotly-graph-div\" style=\"height:525px; width:100%;\"></div>            <script type=\"text/javascript\">                require([\"plotly\"], function(Plotly) {                    window.PLOTLYENV=window.PLOTLYENV || {};                                    if (document.getElementById(\"c9244787-1ad5-4818-b9ed-9ff1e66e014e\")) {                    Plotly.newPlot(                        \"c9244787-1ad5-4818-b9ed-9ff1e66e014e\",                        [{\"hovertemplate\":\"variable=0<br>Timestamp=%{x}<br>Stock price=%{y}<extra></extra>\",\"legendgroup\":\"0\",\"line\":{\"color\":\"#636efa\",\"dash\":\"solid\"},\"marker\":{\"symbol\":\"circle\"},\"mode\":\"lines\",\"name\":\"Close price\",\"orientation\":\"v\",\"showlegend\":true,\"x\":[0,1,2,3,4,5,6,7,8,9,10,11,12,13,14,15,16,17,18,19,20,21,22,23,24,25,26,27,28,29,30,31,32,33,34,35,36,37,38,39,40,41,42,43,44,45,46,47,48,49,50,51,52,53,54,55,56,57,58,59,60,61,62,63,64,65,66,67,68,69,70,71,72,73,74,75,76,77,78,79,80,81,82,83,84,85,86,87,88,89,90,91,92,93,94,95,96,97,98,99,100,101,102,103,104,105,106,107,108,109,110,111,112,113,114,115,116,117,118,119,120,121,122,123,124,125,126,127,128,129,130,131,132,133,134,135,136,137,138,139,140,141,142,143,144,145,146,147,148,149,150,151,152,153,154,155,156,157,158,159,160,161,162,163,164,165,166,167,168,169,170,171,172,173,174,175,176,177,178,179,180,181,182,183,184,185,186,187,188,189,190,191,192,193,194,195,196,197,198,199,200,201,202,203,204,205,206,207,208,209,210,211,212,213,214,215,216,217,218,219,220,221,222,223,224,225,226,227,228,229,230,231,232,233,234,235,236,237,238,239,240,241,242,243,244,245,246,247,248,249,250,251,252,253,254,255,256,257,258,259,260,261,262,263,264,265,266,267,268,269,270,271,272,273,274,275,276,277,278,279,280,281,282,283,284,285,286,287,288,289,290,291,292,293,294,295,296,297,298,299,300,301,302,303,304,305,306,307,308,309,310,311,312,313,314,315,316,317,318,319,320,321,322,323,324,325,326,327,328,329,330,331,332,333,334,335,336,337,338,339,340,341,342,343,344,345,346,347,348,349,350,351,352,353,354,355,356,357,358,359,360,361,362,363,364,365,366,367,368,369,370,371,372,373,374,375,376,377,378,379,380,381,382,383,384,385,386,387,388,389,390,391,392,393,394],\"xaxis\":\"x\",\"y\":[1.7548769712448122,1.7296680212020872,1.6917239427566528,1.5629819631576538,1.634735941886902,1.4982490539550781,1.61796498298645,1.6646909713745115,1.6024030447006226,1.558411955833435,1.75321102142334,1.680279016494751,1.7870880365371704,1.6318609714508059,1.6140400171279907,1.6518399715423584,1.817824959754944,1.785351037979126,2.008297920227051,2.1272881031036377,2.268029928207397,1.980306029319763,2.0456020832061768,2.2797110080718994,2.366476058959961,2.4187300205230717,2.090277910232544,2.097673892974853,2.1325159072875977,2.086988925933838,1.8202769756317136,1.8027689456939695,2.122060060501098,2.0726890563964844,2.128067970275879,2.231473922729492,2.222235918045044,2.127742052078247,2.375984907150269,2.501101016998291,2.679162979125977,2.467272996902466,2.636827945709228,2.8767569065093994,2.725954055786133,2.4982059001922607,2.470005989074707,2.5577509403228755,2.527107000350952,2.574790954589844,2.5491900444030766,2.432651996612549,2.367248058319092,2.1954751014709477,2.2507801055908203,2.053826093673706,1.995859980583191,2.115518093109131,2.0718019008636475,2.356945037841797,2.3925909996032715,2.263317108154297,2.3377270698547363,2.353693008422852,2.329822063446045,2.2219700813293457,2.128438949584961,2.035978078842163,1.960373044013977,1.698989987373352,1.5306229591369631,1.6162480115890503,1.5075730085372925,1.5585379600524902,1.5910550355911257,1.5916830301284788,1.679216980934143,1.694964051246643,1.605329990386963,1.6439210176467896,1.6475930213928225,1.5418850183486938,1.5502460002899168,1.6908299922943115,1.7143599987030032,1.7399510145187378,2.019141912460327,1.9486140012741089,2.0427680015563965,1.8958829641342163,1.7146209478378296,1.6995110511779783,1.6700210571289062,1.658877968788147,1.8628549575805664,1.8385260105133057,1.6568700075149536,1.5955140590667725,1.6318349838256836,1.515848994255066,1.4087870121002195,1.4644759893417358,1.4423739910125732,1.439592957496643,1.5506500005722044,1.515293955802918,1.4530019760131836,1.6111910343170166,1.621351957321167,1.6352449655532837,1.5844130516052246,1.4749460220336914,1.5082659721374512,1.4366979598999023,1.416363000869751,1.4452840089797971,1.5068169832229614,1.4391969442367554,1.4065040349960327,1.3994849920272827,1.362876057624817,1.3778990507125854,1.38019597530365,1.4683589935302734,1.4491109848022459,1.4995549917221072,1.528071045875549,1.4639190435409544,1.466493010520935,1.5054479837417605,1.5563030242919922,1.6287649869918823,1.5795730352401733,1.6108030080795288,1.6934809684753418,1.6603870391845703,1.6747870445251465,1.6846189498901367,1.617285966873169,1.6939140558242798,1.654024958610535,1.6888099908828735,1.6499179601669312,1.592921018600464,1.4587470293045046,1.5140539407730103,1.4357019662857058,1.4643219709396362,1.433465003967285,1.3331739902496338,1.3928680419921875,1.420106053352356,1.3726409673690796,1.396420955657959,1.3909319639205933,1.3400739431381226,1.4211549758911133,1.4281760454177856,1.4177440404891968,1.3798619508743286,1.3991390466690063,1.3659709692001343,1.3442449569702148,1.3526660203933718,1.2428330183029177,1.2576849460601809,1.238903999328613,1.1405789852142332,1.0357500314712524,1.1011639833450313,1.0775909423828123,1.0759589672088623,1.1710319519042969,1.0646909475326536,1.044132947921753,1.0212039947509763,0.9743450284004213,0.8219149708747864,0.8904089927673341,0.6662909984588624,0.6015390157699585,0.6675419807434083,0.6861389875411987,0.7375659942626953,0.6772819757461548,0.7269420027732849,0.627577006816864,0.6588169932365417,0.6365100145339966,0.6493390202522278,0.6783120036125183,0.6419389843940734,0.6615539789199829,0.6459270119667053,0.6010609865188599,0.5735759735107422,0.5878840088844299,0.5985490083694458,0.6571679711341858,0.6620870232582092,0.601777970790863,0.6194149851799011,0.589917004108429,0.5956569910049438,0.5979499816894531,0.6325010061264038,0.6166599988937378,0.607429027557373,0.6336650252342224,0.5949959754943848,0.538565993309021,0.5019019842147827,0.42788299918174744,0.4157600104808807,0.4377489984035492,0.3819270133972168,0.3998410105705262,0.3466590046882629,0.38310900330543524,0.4007590115070343,0.4188779890537262,0.4565579891204834,0.5614690184593201,0.6122009754180908,0.6004760265350342,0.5607240200042725,0.5327320098876953,0.5111070275306702,0.49523198604583735,0.47737100720405584,0.4612370133399963,0.4930419921875,0.4606389999389648,0.49159300327301025,0.5117179751396179,0.5252649784088135,0.5625439882278442,0.6062650084495544,0.5895839929580688,0.5712680220603943,0.5635250210762024,0.5398619771003723,0.6359469890594482,0.7075889706611632,0.7046700119972229,0.7268300056457521,0.753013014793396,0.9617800116539,0.9257910251617433,0.8327580094337463,0.907405972480774,0.8534409999847412,0.875423014163971,0.881263017654419,0.7757260203361511,0.7802429795265197,0.8956959843635559,0.9361129999160768,0.9387419819831848,0.9296129941940308,0.9282649755477904,0.8944060206413269,0.8791570067405701,0.8876979947090149,0.8918799757957458,0.9276589751243592,0.9073359966278076,0.906690001487732,0.9215499758720398,0.890507996082306,0.9373279809951782,0.9214040040969848,0.933907985687256,1.0248470306396484,1.0009089708328247,0.9520350098609924,0.9357960224151612,0.8831790089607239,0.8596519827842712,0.7721350193023682,0.7868880033493042,0.8202160000801086,0.8103410005569457,0.831794023513794,0.8135910034179688,0.8187280297279358,0.7637230157852173,0.8053479790687562,0.7842509746551514,0.8174030184745789,0.8145359754562378,0.8318210244178771,0.8854309916496276,0.8719679713249207,0.8892750144004822,0.8942300081253052,0.881430983543396,0.8188769817352295,0.8408460021018982,0.8442130088806152,0.8915079832077026,0.9061970114707948,0.8946130275726318,0.9300119876861572,0.8544139862060547,0.8647890090942383,0.8242989778518678,0.8060460090637207,0.8294839859008789,0.7534220218658447,0.7660380005836487,0.7332789897918701,0.7042239904403687,0.752830982208252,0.7787100076675414,0.75416100025177,0.7401890158653259,0.7547540068626404,0.7404059767723083,0.7473729848861694,0.76351398229599,0.7774459719657897,0.7658810019493103,0.7642509937286377,0.8018050193786621,0.8361300230026245,0.8513619899749756,0.8330519795417786,0.8319000005722046,0.8136389851570129,0.8253769874572754,0.815284013748169,0.7905439734458922,0.7843139767646791,0.7758209705352783,0.7927230000495911,0.7901009917259217,0.7995629906654358,0.847258985042572,0.8645099997520446,0.8460860252380371,0.8101159930229187,0.8320930004119873,0.832385003566742,0.8998370170593262,0.8938770294189453,0.9197390079498292,0.9381380081176758,0.9048339724540709,0.9448480010032654,0.9338110089302063,0.9088510274887084,0.903988003730774,0.8753330111503601,0.8717179894447327,0.9521219730377196,1.1697460412979124,1.1837220191955566,1.1379679441452026,1.2524490356445312,1.0444190502166748,0.813203990459442,1.124959945678711,1.061987042427063,0.9554285407066344,0.9460802589145104,0.9248296027709823,0.8999437402590152,0.8761705213656102,0.8537248440517934,0.8322564623424887,0.8115166978252527,0.7913644718737415,0.7717163889985182,0.7525196295428466,0.7337418834097792,0.7153623771297503,0.6973658416371079,0.6797439826245845,0.6624881099202472,0.6455880441469949,0.6290341525979781,0.6128167271635538,0.596925871227096,0.5813517070226766,0.5660844133364629,0.5511146025206837,0.5364332073894396,0.5220314623680045,0.5079010165970157,0.49403395278317225,0.4804225421401566,0.4670595365744587,0.4539379047755993,0.4410508981935743],\"yaxis\":\"y\",\"type\":\"scatter\"}],                        {\"template\":{\"data\":{\"histogram2dcontour\":[{\"type\":\"histogram2dcontour\",\"colorbar\":{\"outlinewidth\":0,\"ticks\":\"\"},\"colorscale\":[[0.0,\"#0d0887\"],[0.1111111111111111,\"#46039f\"],[0.2222222222222222,\"#7201a8\"],[0.3333333333333333,\"#9c179e\"],[0.4444444444444444,\"#bd3786\"],[0.5555555555555556,\"#d8576b\"],[0.6666666666666666,\"#ed7953\"],[0.7777777777777778,\"#fb9f3a\"],[0.8888888888888888,\"#fdca26\"],[1.0,\"#f0f921\"]]}],\"choropleth\":[{\"type\":\"choropleth\",\"colorbar\":{\"outlinewidth\":0,\"ticks\":\"\"}}],\"histogram2d\":[{\"type\":\"histogram2d\",\"colorbar\":{\"outlinewidth\":0,\"ticks\":\"\"},\"colorscale\":[[0.0,\"#0d0887\"],[0.1111111111111111,\"#46039f\"],[0.2222222222222222,\"#7201a8\"],[0.3333333333333333,\"#9c179e\"],[0.4444444444444444,\"#bd3786\"],[0.5555555555555556,\"#d8576b\"],[0.6666666666666666,\"#ed7953\"],[0.7777777777777778,\"#fb9f3a\"],[0.8888888888888888,\"#fdca26\"],[1.0,\"#f0f921\"]]}],\"heatmap\":[{\"type\":\"heatmap\",\"colorbar\":{\"outlinewidth\":0,\"ticks\":\"\"},\"colorscale\":[[0.0,\"#0d0887\"],[0.1111111111111111,\"#46039f\"],[0.2222222222222222,\"#7201a8\"],[0.3333333333333333,\"#9c179e\"],[0.4444444444444444,\"#bd3786\"],[0.5555555555555556,\"#d8576b\"],[0.6666666666666666,\"#ed7953\"],[0.7777777777777778,\"#fb9f3a\"],[0.8888888888888888,\"#fdca26\"],[1.0,\"#f0f921\"]]}],\"heatmapgl\":[{\"type\":\"heatmapgl\",\"colorbar\":{\"outlinewidth\":0,\"ticks\":\"\"},\"colorscale\":[[0.0,\"#0d0887\"],[0.1111111111111111,\"#46039f\"],[0.2222222222222222,\"#7201a8\"],[0.3333333333333333,\"#9c179e\"],[0.4444444444444444,\"#bd3786\"],[0.5555555555555556,\"#d8576b\"],[0.6666666666666666,\"#ed7953\"],[0.7777777777777778,\"#fb9f3a\"],[0.8888888888888888,\"#fdca26\"],[1.0,\"#f0f921\"]]}],\"contourcarpet\":[{\"type\":\"contourcarpet\",\"colorbar\":{\"outlinewidth\":0,\"ticks\":\"\"}}],\"contour\":[{\"type\":\"contour\",\"colorbar\":{\"outlinewidth\":0,\"ticks\":\"\"},\"colorscale\":[[0.0,\"#0d0887\"],[0.1111111111111111,\"#46039f\"],[0.2222222222222222,\"#7201a8\"],[0.3333333333333333,\"#9c179e\"],[0.4444444444444444,\"#bd3786\"],[0.5555555555555556,\"#d8576b\"],[0.6666666666666666,\"#ed7953\"],[0.7777777777777778,\"#fb9f3a\"],[0.8888888888888888,\"#fdca26\"],[1.0,\"#f0f921\"]]}],\"surface\":[{\"type\":\"surface\",\"colorbar\":{\"outlinewidth\":0,\"ticks\":\"\"},\"colorscale\":[[0.0,\"#0d0887\"],[0.1111111111111111,\"#46039f\"],[0.2222222222222222,\"#7201a8\"],[0.3333333333333333,\"#9c179e\"],[0.4444444444444444,\"#bd3786\"],[0.5555555555555556,\"#d8576b\"],[0.6666666666666666,\"#ed7953\"],[0.7777777777777778,\"#fb9f3a\"],[0.8888888888888888,\"#fdca26\"],[1.0,\"#f0f921\"]]}],\"mesh3d\":[{\"type\":\"mesh3d\",\"colorbar\":{\"outlinewidth\":0,\"ticks\":\"\"}}],\"scatter\":[{\"fillpattern\":{\"fillmode\":\"overlay\",\"size\":10,\"solidity\":0.2},\"type\":\"scatter\"}],\"parcoords\":[{\"type\":\"parcoords\",\"line\":{\"colorbar\":{\"outlinewidth\":0,\"ticks\":\"\"}}}],\"scatterpolargl\":[{\"type\":\"scatterpolargl\",\"marker\":{\"colorbar\":{\"outlinewidth\":0,\"ticks\":\"\"}}}],\"bar\":[{\"error_x\":{\"color\":\"#2a3f5f\"},\"error_y\":{\"color\":\"#2a3f5f\"},\"marker\":{\"line\":{\"color\":\"#E5ECF6\",\"width\":0.5},\"pattern\":{\"fillmode\":\"overlay\",\"size\":10,\"solidity\":0.2}},\"type\":\"bar\"}],\"scattergeo\":[{\"type\":\"scattergeo\",\"marker\":{\"colorbar\":{\"outlinewidth\":0,\"ticks\":\"\"}}}],\"scatterpolar\":[{\"type\":\"scatterpolar\",\"marker\":{\"colorbar\":{\"outlinewidth\":0,\"ticks\":\"\"}}}],\"histogram\":[{\"marker\":{\"pattern\":{\"fillmode\":\"overlay\",\"size\":10,\"solidity\":0.2}},\"type\":\"histogram\"}],\"scattergl\":[{\"type\":\"scattergl\",\"marker\":{\"colorbar\":{\"outlinewidth\":0,\"ticks\":\"\"}}}],\"scatter3d\":[{\"type\":\"scatter3d\",\"line\":{\"colorbar\":{\"outlinewidth\":0,\"ticks\":\"\"}},\"marker\":{\"colorbar\":{\"outlinewidth\":0,\"ticks\":\"\"}}}],\"scattermapbox\":[{\"type\":\"scattermapbox\",\"marker\":{\"colorbar\":{\"outlinewidth\":0,\"ticks\":\"\"}}}],\"scatterternary\":[{\"type\":\"scatterternary\",\"marker\":{\"colorbar\":{\"outlinewidth\":0,\"ticks\":\"\"}}}],\"scattercarpet\":[{\"type\":\"scattercarpet\",\"marker\":{\"colorbar\":{\"outlinewidth\":0,\"ticks\":\"\"}}}],\"carpet\":[{\"aaxis\":{\"endlinecolor\":\"#2a3f5f\",\"gridcolor\":\"white\",\"linecolor\":\"white\",\"minorgridcolor\":\"white\",\"startlinecolor\":\"#2a3f5f\"},\"baxis\":{\"endlinecolor\":\"#2a3f5f\",\"gridcolor\":\"white\",\"linecolor\":\"white\",\"minorgridcolor\":\"white\",\"startlinecolor\":\"#2a3f5f\"},\"type\":\"carpet\"}],\"table\":[{\"cells\":{\"fill\":{\"color\":\"#EBF0F8\"},\"line\":{\"color\":\"white\"}},\"header\":{\"fill\":{\"color\":\"#C8D4E3\"},\"line\":{\"color\":\"white\"}},\"type\":\"table\"}],\"barpolar\":[{\"marker\":{\"line\":{\"color\":\"#E5ECF6\",\"width\":0.5},\"pattern\":{\"fillmode\":\"overlay\",\"size\":10,\"solidity\":0.2}},\"type\":\"barpolar\"}],\"pie\":[{\"automargin\":true,\"type\":\"pie\"}]},\"layout\":{\"autotypenumbers\":\"strict\",\"colorway\":[\"#636efa\",\"#EF553B\",\"#00cc96\",\"#ab63fa\",\"#FFA15A\",\"#19d3f3\",\"#FF6692\",\"#B6E880\",\"#FF97FF\",\"#FECB52\"],\"font\":{\"color\":\"#2a3f5f\"},\"hovermode\":\"closest\",\"hoverlabel\":{\"align\":\"left\"},\"paper_bgcolor\":\"white\",\"plot_bgcolor\":\"#E5ECF6\",\"polar\":{\"bgcolor\":\"#E5ECF6\",\"angularaxis\":{\"gridcolor\":\"white\",\"linecolor\":\"white\",\"ticks\":\"\"},\"radialaxis\":{\"gridcolor\":\"white\",\"linecolor\":\"white\",\"ticks\":\"\"}},\"ternary\":{\"bgcolor\":\"#E5ECF6\",\"aaxis\":{\"gridcolor\":\"white\",\"linecolor\":\"white\",\"ticks\":\"\"},\"baxis\":{\"gridcolor\":\"white\",\"linecolor\":\"white\",\"ticks\":\"\"},\"caxis\":{\"gridcolor\":\"white\",\"linecolor\":\"white\",\"ticks\":\"\"}},\"coloraxis\":{\"colorbar\":{\"outlinewidth\":0,\"ticks\":\"\"}},\"colorscale\":{\"sequential\":[[0.0,\"#0d0887\"],[0.1111111111111111,\"#46039f\"],[0.2222222222222222,\"#7201a8\"],[0.3333333333333333,\"#9c179e\"],[0.4444444444444444,\"#bd3786\"],[0.5555555555555556,\"#d8576b\"],[0.6666666666666666,\"#ed7953\"],[0.7777777777777778,\"#fb9f3a\"],[0.8888888888888888,\"#fdca26\"],[1.0,\"#f0f921\"]],\"sequentialminus\":[[0.0,\"#0d0887\"],[0.1111111111111111,\"#46039f\"],[0.2222222222222222,\"#7201a8\"],[0.3333333333333333,\"#9c179e\"],[0.4444444444444444,\"#bd3786\"],[0.5555555555555556,\"#d8576b\"],[0.6666666666666666,\"#ed7953\"],[0.7777777777777778,\"#fb9f3a\"],[0.8888888888888888,\"#fdca26\"],[1.0,\"#f0f921\"]],\"diverging\":[[0,\"#8e0152\"],[0.1,\"#c51b7d\"],[0.2,\"#de77ae\"],[0.3,\"#f1b6da\"],[0.4,\"#fde0ef\"],[0.5,\"#f7f7f7\"],[0.6,\"#e6f5d0\"],[0.7,\"#b8e186\"],[0.8,\"#7fbc41\"],[0.9,\"#4d9221\"],[1,\"#276419\"]]},\"xaxis\":{\"gridcolor\":\"white\",\"linecolor\":\"white\",\"ticks\":\"\",\"title\":{\"standoff\":15},\"zerolinecolor\":\"white\",\"automargin\":true,\"zerolinewidth\":2},\"yaxis\":{\"gridcolor\":\"white\",\"linecolor\":\"white\",\"ticks\":\"\",\"title\":{\"standoff\":15},\"zerolinecolor\":\"white\",\"automargin\":true,\"zerolinewidth\":2},\"scene\":{\"xaxis\":{\"backgroundcolor\":\"#E5ECF6\",\"gridcolor\":\"white\",\"linecolor\":\"white\",\"showbackground\":true,\"ticks\":\"\",\"zerolinecolor\":\"white\",\"gridwidth\":2},\"yaxis\":{\"backgroundcolor\":\"#E5ECF6\",\"gridcolor\":\"white\",\"linecolor\":\"white\",\"showbackground\":true,\"ticks\":\"\",\"zerolinecolor\":\"white\",\"gridwidth\":2},\"zaxis\":{\"backgroundcolor\":\"#E5ECF6\",\"gridcolor\":\"white\",\"linecolor\":\"white\",\"showbackground\":true,\"ticks\":\"\",\"zerolinecolor\":\"white\",\"gridwidth\":2}},\"shapedefaults\":{\"line\":{\"color\":\"#2a3f5f\"}},\"annotationdefaults\":{\"arrowcolor\":\"#2a3f5f\",\"arrowhead\":0,\"arrowwidth\":1},\"geo\":{\"bgcolor\":\"white\",\"landcolor\":\"#E5ECF6\",\"subunitcolor\":\"white\",\"showland\":true,\"showlakes\":true,\"lakecolor\":\"white\"},\"title\":{\"x\":0.05},\"mapbox\":{\"style\":\"light\"}}},\"xaxis\":{\"anchor\":\"y\",\"domain\":[0.0,1.0],\"title\":{\"text\":\"Timestamp\"},\"showgrid\":false},\"yaxis\":{\"anchor\":\"x\",\"domain\":[0.0,1.0],\"title\":{\"text\":\"Stock price\"},\"showgrid\":false},\"legend\":{\"title\":{\"text\":\"Stock\"},\"tracegroupgap\":0},\"margin\":{\"t\":60},\"title\":{\"text\":\"Plotting whole closing stock price with prediction\"},\"font\":{\"size\":15,\"color\":\"black\"},\"plot_bgcolor\":\"white\"},                        {\"responsive\": true}                    ).then(function(){\n",
       "                            \n",
       "var gd = document.getElementById('c9244787-1ad5-4818-b9ed-9ff1e66e014e');\n",
       "var x = new MutationObserver(function (mutations, observer) {{\n",
       "        var display = window.getComputedStyle(gd).display;\n",
       "        if (!display || display === 'none') {{\n",
       "            console.log([gd, 'removed!']);\n",
       "            Plotly.purge(gd);\n",
       "            observer.disconnect();\n",
       "        }}\n",
       "}});\n",
       "\n",
       "// Listen for the removal of the full notebook cells\n",
       "var notebookContainer = gd.closest('#notebook-container');\n",
       "if (notebookContainer) {{\n",
       "    x.observe(notebookContainer, {childList: true});\n",
       "}}\n",
       "\n",
       "// Listen for the clearing of the current output cell\n",
       "var outputEl = gd.closest('.output');\n",
       "if (outputEl) {{\n",
       "    x.observe(outputEl, {childList: true});\n",
       "}}\n",
       "\n",
       "                        })                };                });            </script>        </div>"
      ]
     },
     "metadata": {},
     "output_type": "display_data"
    }
   ],
   "source": [
    "lstmdf = closed_matic.tolist()\n",
    "lstmdf.extend((np.array(lst_output).reshape(-1,1)).tolist())\n",
    "lstmdf = scaler.inverse_transform(lstmdf).reshape(1,-1).tolist()[0]\n",
    "\n",
    "names = cycle(['Close price'])\n",
    "\n",
    "fig = px.line(lstmdf,labels={'value': 'Stock price','index': 'Timestamp'})\n",
    "fig.update_layout(title_text='Plotting whole closing stock price with prediction',\n",
    "                  plot_bgcolor='white', font_size=15, font_color='black',legend_title_text='Stock')\n",
    "\n",
    "fig.for_each_trace(lambda t:  t.update(name = next(names)))\n",
    "\n",
    "fig.update_xaxes(showgrid=False)\n",
    "fig.update_yaxes(showgrid=False)\n",
    "fig.show()"
   ]
  }
 ],
 "metadata": {
  "kernelspec": {
   "display_name": "Python 3",
   "language": "python",
   "name": "python3"
  },
  "language_info": {
   "codemirror_mode": {
    "name": "ipython",
    "version": 3
   },
   "file_extension": ".py",
   "mimetype": "text/x-python",
   "name": "python",
   "nbconvert_exporter": "python",
   "pygments_lexer": "ipython3",
   "version": "3.7.12"
  },
  "papermill": {
   "default_parameters": {},
   "duration": 260.265817,
   "end_time": "2023-03-13T11:35:02.702116",
   "environment_variables": {},
   "exception": null,
   "input_path": "__notebook__.ipynb",
   "output_path": "__notebook__.ipynb",
   "parameters": {},
   "start_time": "2023-03-13T11:30:42.436299",
   "version": "2.4.0"
  }
 },
 "nbformat": 4,
 "nbformat_minor": 5
}
