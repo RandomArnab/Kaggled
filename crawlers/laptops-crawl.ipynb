{
  "cells": [
    {
      "cell_type": "code",
      "execution_count": null,
      "metadata": {
        "id": "GjlUN3UNIBYx"
      },
      "outputs": [],
      "source": [
        "from bs4 import BeautifulSoup\n",
        "import pandas as pd\n",
        "import numpy as np\n",
        "import requests\n",
        "import regex as re\n",
        "from lxml import etree as et\n",
        "from itertools import repeat\n",
        "import csv\n",
        "import random\n",
        "import time\n",
        "from tqdm import tqdm_notebook\n",
        "import warnings\n",
        "warnings.filterwarnings('ignore')"
      ]
    },
    {
      "cell_type": "code",
      "execution_count": null,
      "metadata": {
        "id": "_x_9JM7nI5OK"
      },
      "outputs": [],
      "source": [
        "header_list = [\"Mozilla/5.0 (Windows NT 10.0; Win64; x64) AppleWebKit/537.36 (KHTML,                           like Gecko) Chrome/103.0.5060.66 Safari/537.36\",\n",
        "              \"Mozilla/5.0 (Windows NT 10.0; Win64; x64; rv:53.0) Gecko/20100101 Firefox/53.0\",\n",
        "              \"Mozilla/5.0 (Windows NT 10.0; Win64; x64) AppleWebKit/537.36 (KHTML, like Gecko) Chrome/51.0.2704.79 Safari/537.36 Edge/14.14393\"]\n",
        "\n",
        "base_url = \"https://www.amazon.in/s?k=\"\n",
        "laptop_brands = ['Apple', 'HP', 'Lenovo', 'Acer', 'Dell', 'MSI', 'Asus', 'Microsoft', 'Razer', 'Samsung', 'Alienware', 'Honor', 'Chromebook', 'Ultrabook', 'Notebook', 'Xiaomi', 'RGY', 'AVITA', 'Fujitsu']\n",
        "product_list = []\n",
        "d = 0"
      ]
    },
    {
      "cell_type": "code",
      "execution_count": null,
      "metadata": {
        "colab": {
          "base_uri": "https://localhost:8080/",
          "height": 49,
          "referenced_widgets": [
            "236e2a1a0c4b437484908ded5e2adfa7",
            "af5e00f487534c84a218886bf85bff8e",
            "622073d1a55144438933ab5b7759c9f7",
            "d8e5df61f377438b9f4bd519651d356c",
            "f7f81bdddd6d4d8494db765172ff7aa0",
            "f43123285e7347b3a9dc1bc786d37640",
            "37ebf6c74e384a79aa75635ab9c98622",
            "1564089f6803447fa099cac896f4c326",
            "1f34ffd850194cd19d5c5865486524f6",
            "fc3b558507a94057872a7cdc1426f353",
            "9deaa0a3e99e4ba4ac11a48f87dc35da"
          ]
        },
        "id": "JodmatGDI6bZ",
        "outputId": "155d3f81-a434-45a7-d455-8f47dd942c50"
      },
      "outputs": [
        {
          "output_type": "display_data",
          "data": {
            "text/plain": [
              "  0%|          | 0/19 [00:00<?, ?it/s]"
            ],
            "application/vnd.jupyter.widget-view+json": {
              "version_major": 2,
              "version_minor": 0,
              "model_id": "236e2a1a0c4b437484908ded5e2adfa7"
            }
          },
          "metadata": {}
        }
      ],
      "source": [
        "for brand in tqdm_notebook(laptop_brands):\n",
        "  for page_no in range(4):\n",
        "    page_url = base_url + brand + '-laptop-' '&page=' + str(page_no)\n",
        "    user_agent = random.choice(header_list)\n",
        "    header = {\"User-Agent\": user_agent}\n",
        "    webpage = requests.get(page_url, headers = header)\n",
        "    if webpage.status_code == 200:\n",
        "      soup1 = BeautifulSoup(webpage.content, 'html.parser')\n",
        "      soup2 = BeautifulSoup(soup1.prettify(), 'html.parser')\n",
        "      divs = soup2.find_all('div', {'class' : 'sg-col-20-of-24 s-matching-dir sg-col-16-of-20 sg-col sg-col-8-of-12 sg-col-12-of-16'} )\n",
        "      for div in divs:\n",
        "        swlink = div.find_all('a', {'class' : 'a-link-normal s-no-outline'})\n",
        "        for l in swlink:\n",
        "          product_list.append('https://www.amazon.in' + l.get('href'))\n",
        "    else:\n",
        "      d += 1"
      ]
    },
    {
      "cell_type": "code",
      "execution_count": null,
      "metadata": {
        "id": "_kLLbK8VI7v6",
        "colab": {
          "base_uri": "https://localhost:8080/"
        },
        "outputId": "510cab27-2b03-4fdc-fe50-cadc08c4a594"
      },
      "outputs": [
        {
          "output_type": "stream",
          "name": "stdout",
          "text": [
            "256 60\n"
          ]
        }
      ],
      "source": [
        "print(len(product_list), d)"
      ]
    },
    {
      "cell_type": "code",
      "execution_count": null,
      "metadata": {
        "id": "WxJ7iHDoSOsJ"
      },
      "outputs": [],
      "source": [
        "cols = ['Url', 'Brand', 'Current Price', 'Original Price', 'Discount Percentage', \n",
        "        'Rating', 'Number of Ratings', 'Picture', 'Highlights',\n",
        "        'Reviews']\n",
        "\n",
        "feature_list = ['Model', 'Model Name', 'Model Year', 'Product Dimensions', 'Ram Memory Installed Size', \n",
        "                'Ram Memory Technology', 'Hard Drive Size', 'Hard Drive Interface','Operating System', \n",
        "                'Processor Brand', 'Processor Speed', 'Processor Type', 'Graphics Card Description',\n",
        "                'Graphics RAM Type', 'Standing screen display size', 'Display Type', 'Resolution', \n",
        "                'Battery Average Life', 'Battery cell composition', 'Refresh Rate', 'Device type', \n",
        "                'Country of Origin', 'Item Weight', 'ASIN']\n",
        "\n",
        "cols.extend(feature_list)\n",
        "kagg_lap = pd.DataFrame(columns = cols)"
      ]
    },
    {
      "cell_type": "code",
      "execution_count": null,
      "metadata": {
        "id": "t4u9J5gWUOSz"
      },
      "outputs": [],
      "source": [
        "def feature_result_transform(feature_list, feature_result_dict):\n",
        "  \n",
        "  result_list = []\n",
        "  result_list.extend(repeat(np.nan, len(feature_list)))\n",
        "\n",
        "  for key in feature_result_dict.keys():\n",
        "    for i in range(len(feature_list)):\n",
        "      if feature_list[i] == key:\n",
        "        result_list[i] = feature_result_dict[key]   \n",
        "    \n",
        "  return result_list"
      ]
    },
    {
      "cell_type": "code",
      "execution_count": null,
      "metadata": {
        "colab": {
          "base_uri": "https://localhost:8080/",
          "height": 49,
          "referenced_widgets": [
            "6833be9872a2468887dcf8f59c9bbc1f",
            "61364e2517784294abc039ac34f04a71",
            "6ce5729cf89d44b99eb6c4288ab3cea2",
            "3d8b54e18a89451d93066b2ab9819790",
            "e7187c34f550493faae3fef4400f5465",
            "613677c609ee47ef9349bc2ebd545b70",
            "55e22328232040c48c87a903c44b17e2",
            "e83fad59397d40d9ad6cd7a98bbe4d1b",
            "1722fc479e2c48fb992e615bb059e522",
            "3111cc9e81b84f16829d565d2f931006",
            "f747fa6332894ec481013fd720646c06"
          ]
        },
        "id": "iRPNfOlVLudo",
        "outputId": "4945f978-8a37-409b-994c-8cc47d690b26"
      },
      "outputs": [
        {
          "output_type": "display_data",
          "data": {
            "text/plain": [
              "  0%|          | 0/256 [00:00<?, ?it/s]"
            ],
            "application/vnd.jupyter.widget-view+json": {
              "version_major": 2,
              "version_minor": 0,
              "model_id": "6833be9872a2468887dcf8f59c9bbc1f"
            }
          },
          "metadata": {}
        }
      ],
      "source": [
        "for link in tqdm_notebook(product_list):\n",
        "  url = link\n",
        "  user_agent = random.choice(header_list)\n",
        "  header = {\"User-Agent\": user_agent}\n",
        "  webpage = requests.get(url, headers = header)\n",
        "  if webpage.status_code == 200:\n",
        "    soup1 = BeautifulSoup(webpage.content, 'html.parser')\n",
        "    soup2 = BeautifulSoup(soup1.prettify(), 'html.parser')\n",
        "\n",
        "    try:\n",
        "        brand = soup2.find('tr', {'class' : 'a-spacing-small po-brand'})\n",
        "        brand = brand.get_text().strip().split()[-1]\n",
        "    except:\n",
        "        brand = np.nan\n",
        "        pass\n",
        "\n",
        "    prices = soup2.find(id = 'apex_desktop')\n",
        "    try:\n",
        "      prices = prices.find_all('span', {'class' : 'a-offscreen'})\n",
        "      cur_price = int(re.sub('₹|,', '', prices[0].get_text().strip()))\n",
        "      org_price = int(re.sub('₹|,', '', prices[1].get_text().strip()))\n",
        "      discount = ((org_price - cur_price)/org_price) * 100  \n",
        "    except:\n",
        "      cur_price = np.nan\n",
        "      org_price = np.nan\n",
        "      discount = np.nan\n",
        "    #print(cur_price, org_price, link)\n",
        "\n",
        "    # try:\n",
        "    #   nmodels = soup2.find(id = 'variation_color_name')\n",
        "    #   nmodels = len(nmodels.find_all('li'))\n",
        "    # except:\n",
        "    #   nmodels = np.nan\n",
        "    #print(nmodels)\n",
        "\n",
        "    try:\n",
        "      pic = soup2.find(id = 'landingImage').get('src')\n",
        "    except:\n",
        "      pic = np.nan\n",
        "    #print(pic)\n",
        "\n",
        "    try:\n",
        "      highlights = soup2.find('ul', {'class' : 'a-unordered-list a-vertical a-spacing-mini'})\n",
        "      highlights = highlights.find_all('span', {'class' : 'a-list-item'})\n",
        "      highlights = [h.get_text().strip() for h in highlights]\n",
        "    except:\n",
        "      highlights = np.nan\n",
        "    #print(highlights)\n",
        "\n",
        "    try:\n",
        "      table = soup2.find(id = 'prodDetails')\n",
        "\n",
        "      features = table.find_all('th', {'class': \"a-color-secondary a-size-base prodDetSectionEntry\"})\n",
        "      features = [f.get_text().strip() for f in features]\n",
        "      \n",
        "      results = table.find_all('td', {'class' : 'a-size-base prodDetAttrValue'})\n",
        "      results = [r.get_text().strip().replace('\\u200e', '') for r in results]\n",
        "      \n",
        "      dicted = {}\n",
        "      for i in range(len(features)):\n",
        "        dicted[features[i]] = results[i]    \n",
        "      #print(dicted)\n",
        "      #results = feature_result_transform(dicted)\n",
        "    except:\n",
        "      #print('---')\n",
        "      dicted  = {}\n",
        "      pass\n",
        "\n",
        "    try:\n",
        "      revs = soup2.find('div', {'class' : 'card-padding'})\n",
        "      revs = revs.find_all('div', {'class' : 'a-row a-spacing-small review-data'})\n",
        "      reviews = [rev.get_text().strip().replace('\\n', '') for rev in revs]\n",
        "    except:\n",
        "      reviews = np.nan\n",
        "    \n",
        "    try:\n",
        "      cust_revs_box = soup2.find('span', {'class' : 'cr-widget-TitleRatingsAndHistogram'})\n",
        "      text_rating = cust_revs_box.find('span', {'class' : 'a-size-medium a-color-base'}).get_text().strip()\n",
        "      nglobal_ratings = cust_revs_box.find('span', {'class' : 'a-size-base a-color-secondary'}).get_text().strip()\n",
        "      nglobal_ratings = int(re.sub(',', '', nglobal_ratings.split()[0]))\n",
        "    except:\n",
        "      text_rating = np.nan\n",
        "      nglobal_ratings = np.nan\n",
        "\n",
        "    results = feature_result_transform(feature_list, dicted)\n",
        "    row = [url, brand, cur_price, org_price, discount, text_rating, nglobal_ratings, pic, highlights, reviews]\n",
        "    row.extend(results)\n",
        "    kagg_lap.loc[len(kagg_lap.index)] = row   \n",
        "    #print(results)\n"
      ]
    },
    {
      "cell_type": "code",
      "execution_count": null,
      "metadata": {
        "id": "eAMBLCWygNM5",
        "colab": {
          "base_uri": "https://localhost:8080/"
        },
        "outputId": "d605c7f3-8687-43f5-9f3c-8e00b3ccf38f"
      },
      "outputs": [
        {
          "output_type": "stream",
          "name": "stdout",
          "text": [
            "34 24 34\n"
          ]
        }
      ],
      "source": [
        "print(len(row), len(results), len(kagg_lap.columns))"
      ]
    },
    {
      "cell_type": "markdown",
      "metadata": {
        "id": "8w8ycctBerhi"
      },
      "source": [
        "No model, model name"
      ]
    },
    {
      "cell_type": "code",
      "execution_count": null,
      "metadata": {
        "id": "PlB6BSzJU_Tg"
      },
      "outputs": [],
      "source": [
        "kagg_lap.to_csv('kagg_lap3.csv')"
      ]
    },
    {
      "cell_type": "code",
      "execution_count": null,
      "metadata": {
        "id": "7p1f7KndUjFU",
        "colab": {
          "base_uri": "https://localhost:8080/",
          "height": 438
        },
        "outputId": "fbedb8dc-28eb-4168-a36c-03832832feeb"
      },
      "outputs": [
        {
          "output_type": "execute_result",
          "data": {
            "text/plain": [
              "                                                 Url Brand  Current Price  \\\n",
              "0  https://www.amazon.in/HP-Laptop-Ryzen-Quad-Cor...   NaN            NaN   \n",
              "1  https://www.amazon.in/HP-ProBook-440-G8-i5-113...   NaN            NaN   \n",
              "2  https://www.amazon.in/Renewed-Laptop-Elitebook...   NaN            NaN   \n",
              "3  https://www.amazon.in/HP-5-5600H-Graphics-Resp...   NaN            NaN   \n",
              "4  https://www.amazon.in/HP-Pavilion-Micro-Edge-M...   NaN            NaN   \n",
              "\n",
              "   Original Price  Discount Percentage Rating  Number of Ratings Picture  \\\n",
              "0             NaN                  NaN    NaN                NaN     NaN   \n",
              "1             NaN                  NaN    NaN                NaN     NaN   \n",
              "2             NaN                  NaN    NaN                NaN     NaN   \n",
              "3             NaN                  NaN    NaN                NaN     NaN   \n",
              "4             NaN                  NaN    NaN                NaN     NaN   \n",
              "\n",
              "  Highlights Reviews  ...  Standing screen display size  Display Type  \\\n",
              "0        NaN     NaN  ...                           NaN           NaN   \n",
              "1        NaN     NaN  ...                           NaN           NaN   \n",
              "2        NaN     NaN  ...                           NaN           NaN   \n",
              "3        NaN     NaN  ...                           NaN           NaN   \n",
              "4        NaN     NaN  ...                           NaN           NaN   \n",
              "\n",
              "   Resolution  Battery Average Life  Battery cell composition  Refresh Rate  \\\n",
              "0         NaN                   NaN                       NaN           NaN   \n",
              "1         NaN                   NaN                       NaN           NaN   \n",
              "2         NaN                   NaN                       NaN           NaN   \n",
              "3         NaN                   NaN                       NaN           NaN   \n",
              "4         NaN                   NaN                       NaN           NaN   \n",
              "\n",
              "   Device type  Country of Origin  Item Weight  ASIN  \n",
              "0          NaN                NaN          NaN   NaN  \n",
              "1          NaN                NaN          NaN   NaN  \n",
              "2          NaN                NaN          NaN   NaN  \n",
              "3          NaN                NaN          NaN   NaN  \n",
              "4          NaN                NaN          NaN   NaN  \n",
              "\n",
              "[5 rows x 34 columns]"
            ],
            "text/html": [
              "\n",
              "  <div id=\"df-bd0a0adb-5d6e-4736-a093-6a6dadfb32b1\">\n",
              "    <div class=\"colab-df-container\">\n",
              "      <div>\n",
              "<style scoped>\n",
              "    .dataframe tbody tr th:only-of-type {\n",
              "        vertical-align: middle;\n",
              "    }\n",
              "\n",
              "    .dataframe tbody tr th {\n",
              "        vertical-align: top;\n",
              "    }\n",
              "\n",
              "    .dataframe thead th {\n",
              "        text-align: right;\n",
              "    }\n",
              "</style>\n",
              "<table border=\"1\" class=\"dataframe\">\n",
              "  <thead>\n",
              "    <tr style=\"text-align: right;\">\n",
              "      <th></th>\n",
              "      <th>Url</th>\n",
              "      <th>Brand</th>\n",
              "      <th>Current Price</th>\n",
              "      <th>Original Price</th>\n",
              "      <th>Discount Percentage</th>\n",
              "      <th>Rating</th>\n",
              "      <th>Number of Ratings</th>\n",
              "      <th>Picture</th>\n",
              "      <th>Highlights</th>\n",
              "      <th>Reviews</th>\n",
              "      <th>...</th>\n",
              "      <th>Standing screen display size</th>\n",
              "      <th>Display Type</th>\n",
              "      <th>Resolution</th>\n",
              "      <th>Battery Average Life</th>\n",
              "      <th>Battery cell composition</th>\n",
              "      <th>Refresh Rate</th>\n",
              "      <th>Device type</th>\n",
              "      <th>Country of Origin</th>\n",
              "      <th>Item Weight</th>\n",
              "      <th>ASIN</th>\n",
              "    </tr>\n",
              "  </thead>\n",
              "  <tbody>\n",
              "    <tr>\n",
              "      <th>0</th>\n",
              "      <td>https://www.amazon.in/HP-Laptop-Ryzen-Quad-Cor...</td>\n",
              "      <td>NaN</td>\n",
              "      <td>NaN</td>\n",
              "      <td>NaN</td>\n",
              "      <td>NaN</td>\n",
              "      <td>NaN</td>\n",
              "      <td>NaN</td>\n",
              "      <td>NaN</td>\n",
              "      <td>NaN</td>\n",
              "      <td>NaN</td>\n",
              "      <td>...</td>\n",
              "      <td>NaN</td>\n",
              "      <td>NaN</td>\n",
              "      <td>NaN</td>\n",
              "      <td>NaN</td>\n",
              "      <td>NaN</td>\n",
              "      <td>NaN</td>\n",
              "      <td>NaN</td>\n",
              "      <td>NaN</td>\n",
              "      <td>NaN</td>\n",
              "      <td>NaN</td>\n",
              "    </tr>\n",
              "    <tr>\n",
              "      <th>1</th>\n",
              "      <td>https://www.amazon.in/HP-ProBook-440-G8-i5-113...</td>\n",
              "      <td>NaN</td>\n",
              "      <td>NaN</td>\n",
              "      <td>NaN</td>\n",
              "      <td>NaN</td>\n",
              "      <td>NaN</td>\n",
              "      <td>NaN</td>\n",
              "      <td>NaN</td>\n",
              "      <td>NaN</td>\n",
              "      <td>NaN</td>\n",
              "      <td>...</td>\n",
              "      <td>NaN</td>\n",
              "      <td>NaN</td>\n",
              "      <td>NaN</td>\n",
              "      <td>NaN</td>\n",
              "      <td>NaN</td>\n",
              "      <td>NaN</td>\n",
              "      <td>NaN</td>\n",
              "      <td>NaN</td>\n",
              "      <td>NaN</td>\n",
              "      <td>NaN</td>\n",
              "    </tr>\n",
              "    <tr>\n",
              "      <th>2</th>\n",
              "      <td>https://www.amazon.in/Renewed-Laptop-Elitebook...</td>\n",
              "      <td>NaN</td>\n",
              "      <td>NaN</td>\n",
              "      <td>NaN</td>\n",
              "      <td>NaN</td>\n",
              "      <td>NaN</td>\n",
              "      <td>NaN</td>\n",
              "      <td>NaN</td>\n",
              "      <td>NaN</td>\n",
              "      <td>NaN</td>\n",
              "      <td>...</td>\n",
              "      <td>NaN</td>\n",
              "      <td>NaN</td>\n",
              "      <td>NaN</td>\n",
              "      <td>NaN</td>\n",
              "      <td>NaN</td>\n",
              "      <td>NaN</td>\n",
              "      <td>NaN</td>\n",
              "      <td>NaN</td>\n",
              "      <td>NaN</td>\n",
              "      <td>NaN</td>\n",
              "    </tr>\n",
              "    <tr>\n",
              "      <th>3</th>\n",
              "      <td>https://www.amazon.in/HP-5-5600H-Graphics-Resp...</td>\n",
              "      <td>NaN</td>\n",
              "      <td>NaN</td>\n",
              "      <td>NaN</td>\n",
              "      <td>NaN</td>\n",
              "      <td>NaN</td>\n",
              "      <td>NaN</td>\n",
              "      <td>NaN</td>\n",
              "      <td>NaN</td>\n",
              "      <td>NaN</td>\n",
              "      <td>...</td>\n",
              "      <td>NaN</td>\n",
              "      <td>NaN</td>\n",
              "      <td>NaN</td>\n",
              "      <td>NaN</td>\n",
              "      <td>NaN</td>\n",
              "      <td>NaN</td>\n",
              "      <td>NaN</td>\n",
              "      <td>NaN</td>\n",
              "      <td>NaN</td>\n",
              "      <td>NaN</td>\n",
              "    </tr>\n",
              "    <tr>\n",
              "      <th>4</th>\n",
              "      <td>https://www.amazon.in/HP-Pavilion-Micro-Edge-M...</td>\n",
              "      <td>NaN</td>\n",
              "      <td>NaN</td>\n",
              "      <td>NaN</td>\n",
              "      <td>NaN</td>\n",
              "      <td>NaN</td>\n",
              "      <td>NaN</td>\n",
              "      <td>NaN</td>\n",
              "      <td>NaN</td>\n",
              "      <td>NaN</td>\n",
              "      <td>...</td>\n",
              "      <td>NaN</td>\n",
              "      <td>NaN</td>\n",
              "      <td>NaN</td>\n",
              "      <td>NaN</td>\n",
              "      <td>NaN</td>\n",
              "      <td>NaN</td>\n",
              "      <td>NaN</td>\n",
              "      <td>NaN</td>\n",
              "      <td>NaN</td>\n",
              "      <td>NaN</td>\n",
              "    </tr>\n",
              "  </tbody>\n",
              "</table>\n",
              "<p>5 rows × 34 columns</p>\n",
              "</div>\n",
              "      <button class=\"colab-df-convert\" onclick=\"convertToInteractive('df-bd0a0adb-5d6e-4736-a093-6a6dadfb32b1')\"\n",
              "              title=\"Convert this dataframe to an interactive table.\"\n",
              "              style=\"display:none;\">\n",
              "        \n",
              "  <svg xmlns=\"http://www.w3.org/2000/svg\" height=\"24px\"viewBox=\"0 0 24 24\"\n",
              "       width=\"24px\">\n",
              "    <path d=\"M0 0h24v24H0V0z\" fill=\"none\"/>\n",
              "    <path d=\"M18.56 5.44l.94 2.06.94-2.06 2.06-.94-2.06-.94-.94-2.06-.94 2.06-2.06.94zm-11 1L8.5 8.5l.94-2.06 2.06-.94-2.06-.94L8.5 2.5l-.94 2.06-2.06.94zm10 10l.94 2.06.94-2.06 2.06-.94-2.06-.94-.94-2.06-.94 2.06-2.06.94z\"/><path d=\"M17.41 7.96l-1.37-1.37c-.4-.4-.92-.59-1.43-.59-.52 0-1.04.2-1.43.59L10.3 9.45l-7.72 7.72c-.78.78-.78 2.05 0 2.83L4 21.41c.39.39.9.59 1.41.59.51 0 1.02-.2 1.41-.59l7.78-7.78 2.81-2.81c.8-.78.8-2.07 0-2.86zM5.41 20L4 18.59l7.72-7.72 1.47 1.35L5.41 20z\"/>\n",
              "  </svg>\n",
              "      </button>\n",
              "      \n",
              "  <style>\n",
              "    .colab-df-container {\n",
              "      display:flex;\n",
              "      flex-wrap:wrap;\n",
              "      gap: 12px;\n",
              "    }\n",
              "\n",
              "    .colab-df-convert {\n",
              "      background-color: #E8F0FE;\n",
              "      border: none;\n",
              "      border-radius: 50%;\n",
              "      cursor: pointer;\n",
              "      display: none;\n",
              "      fill: #1967D2;\n",
              "      height: 32px;\n",
              "      padding: 0 0 0 0;\n",
              "      width: 32px;\n",
              "    }\n",
              "\n",
              "    .colab-df-convert:hover {\n",
              "      background-color: #E2EBFA;\n",
              "      box-shadow: 0px 1px 2px rgba(60, 64, 67, 0.3), 0px 1px 3px 1px rgba(60, 64, 67, 0.15);\n",
              "      fill: #174EA6;\n",
              "    }\n",
              "\n",
              "    [theme=dark] .colab-df-convert {\n",
              "      background-color: #3B4455;\n",
              "      fill: #D2E3FC;\n",
              "    }\n",
              "\n",
              "    [theme=dark] .colab-df-convert:hover {\n",
              "      background-color: #434B5C;\n",
              "      box-shadow: 0px 1px 3px 1px rgba(0, 0, 0, 0.15);\n",
              "      filter: drop-shadow(0px 1px 2px rgba(0, 0, 0, 0.3));\n",
              "      fill: #FFFFFF;\n",
              "    }\n",
              "  </style>\n",
              "\n",
              "      <script>\n",
              "        const buttonEl =\n",
              "          document.querySelector('#df-bd0a0adb-5d6e-4736-a093-6a6dadfb32b1 button.colab-df-convert');\n",
              "        buttonEl.style.display =\n",
              "          google.colab.kernel.accessAllowed ? 'block' : 'none';\n",
              "\n",
              "        async function convertToInteractive(key) {\n",
              "          const element = document.querySelector('#df-bd0a0adb-5d6e-4736-a093-6a6dadfb32b1');\n",
              "          const dataTable =\n",
              "            await google.colab.kernel.invokeFunction('convertToInteractive',\n",
              "                                                     [key], {});\n",
              "          if (!dataTable) return;\n",
              "\n",
              "          const docLinkHtml = 'Like what you see? Visit the ' +\n",
              "            '<a target=\"_blank\" href=https://colab.research.google.com/notebooks/data_table.ipynb>data table notebook</a>'\n",
              "            + ' to learn more about interactive tables.';\n",
              "          element.innerHTML = '';\n",
              "          dataTable['output_type'] = 'display_data';\n",
              "          await google.colab.output.renderOutput(dataTable, element);\n",
              "          const docLink = document.createElement('div');\n",
              "          docLink.innerHTML = docLinkHtml;\n",
              "          element.appendChild(docLink);\n",
              "        }\n",
              "      </script>\n",
              "    </div>\n",
              "  </div>\n",
              "  "
            ]
          },
          "metadata": {},
          "execution_count": 15
        }
      ],
      "source": [
        "kagg_lap.head()"
      ]
    },
    {
      "cell_type": "code",
      "execution_count": null,
      "metadata": {
        "id": "aOROiWonPyDv",
        "colab": {
          "base_uri": "https://localhost:8080/"
        },
        "outputId": "69fbace8-56b0-4c20-9d51-ef28312256bc"
      },
      "outputs": [
        {
          "output_type": "stream",
          "name": "stdout",
          "text": [
            "503\n"
          ]
        }
      ],
      "source": [
        "url = product_list[-100]\n",
        "user_agent = random.choice(header_list)\n",
        "header = {\"User-Agent\": user_agent}\n",
        "webpage = requests.get(url, headers = header)\n",
        "print(webpage.status_code)\n",
        "if webpage.status_code == 200:\n",
        "    soup1 = BeautifulSoup(webpage.content, 'html.parser')\n",
        "    soup2 = BeautifulSoup(soup1.prettify(), 'html.parser')\n",
        "    print(webpage.status_code)"
      ]
    },
    {
      "cell_type": "code",
      "source": [
        "soup2"
      ],
      "metadata": {
        "id": "LjF6iiZXvvh4"
      },
      "execution_count": null,
      "outputs": []
    },
    {
      "cell_type": "code",
      "execution_count": null,
      "metadata": {
        "id": "-nb0ziBaV_To",
        "colab": {
          "base_uri": "https://localhost:8080/"
        },
        "outputId": "ace6adc8-1488-4d64-a500-b1c0a7be27b4"
      },
      "outputs": [
        {
          "output_type": "stream",
          "name": "stdout",
          "text": [
            "https://www.amazon.in/ASUS-17-3-inch-RTX-3050-Ti-Graphics-G713IE-HX040W/dp/B0B3DQ36P7/ref=sr_1_13?keywords=Ultrabook-laptop-&qid=1679919022&sr=8-13\n"
          ]
        }
      ],
      "source": [
        "print(url)"
      ]
    },
    {
      "cell_type": "code",
      "execution_count": null,
      "metadata": {
        "id": "0JEpOhP8RLaz",
        "colab": {
          "base_uri": "https://localhost:8080/",
          "height": 235
        },
        "outputId": "8989466d-4bcc-42c1-c293-62175690bfbd"
      },
      "outputs": [
        {
          "output_type": "error",
          "ename": "AttributeError",
          "evalue": "ignored",
          "traceback": [
            "\u001b[0;31m---------------------------------------------------------------------------\u001b[0m",
            "\u001b[0;31mAttributeError\u001b[0m                            Traceback (most recent call last)",
            "\u001b[0;32m<ipython-input-19-750c5d1ca9cf>\u001b[0m in \u001b[0;36m<module>\u001b[0;34m\u001b[0m\n\u001b[1;32m      1\u001b[0m \u001b[0mprices\u001b[0m \u001b[0;34m=\u001b[0m \u001b[0msoup2\u001b[0m\u001b[0;34m.\u001b[0m\u001b[0mfind\u001b[0m\u001b[0;34m(\u001b[0m\u001b[0mid\u001b[0m \u001b[0;34m=\u001b[0m \u001b[0;34m'apex_desktop'\u001b[0m\u001b[0;34m)\u001b[0m\u001b[0;34m\u001b[0m\u001b[0;34m\u001b[0m\u001b[0m\n\u001b[0;32m----> 2\u001b[0;31m \u001b[0mprices\u001b[0m \u001b[0;34m=\u001b[0m \u001b[0mprices\u001b[0m\u001b[0;34m.\u001b[0m\u001b[0mfind_all\u001b[0m\u001b[0;34m(\u001b[0m\u001b[0;34m'span'\u001b[0m\u001b[0;34m,\u001b[0m \u001b[0;34m{\u001b[0m\u001b[0;34m'class'\u001b[0m \u001b[0;34m:\u001b[0m \u001b[0;34m'a-offscreen'\u001b[0m\u001b[0;34m}\u001b[0m\u001b[0;34m)\u001b[0m\u001b[0;34m\u001b[0m\u001b[0;34m\u001b[0m\u001b[0m\n\u001b[0m\u001b[1;32m      3\u001b[0m \u001b[0mcur_price\u001b[0m \u001b[0;34m=\u001b[0m \u001b[0mint\u001b[0m\u001b[0;34m(\u001b[0m\u001b[0mre\u001b[0m\u001b[0;34m.\u001b[0m\u001b[0msub\u001b[0m\u001b[0;34m(\u001b[0m\u001b[0;34m'₹|,'\u001b[0m\u001b[0;34m,\u001b[0m \u001b[0;34m''\u001b[0m\u001b[0;34m,\u001b[0m \u001b[0mprices\u001b[0m\u001b[0;34m[\u001b[0m\u001b[0;36m0\u001b[0m\u001b[0;34m]\u001b[0m\u001b[0;34m.\u001b[0m\u001b[0mget_text\u001b[0m\u001b[0;34m(\u001b[0m\u001b[0;34m)\u001b[0m\u001b[0;34m.\u001b[0m\u001b[0mstrip\u001b[0m\u001b[0;34m(\u001b[0m\u001b[0;34m)\u001b[0m\u001b[0;34m)\u001b[0m\u001b[0;34m)\u001b[0m\u001b[0;34m\u001b[0m\u001b[0;34m\u001b[0m\u001b[0m\n\u001b[1;32m      4\u001b[0m \u001b[0morg_price\u001b[0m \u001b[0;34m=\u001b[0m \u001b[0mint\u001b[0m\u001b[0;34m(\u001b[0m\u001b[0mre\u001b[0m\u001b[0;34m.\u001b[0m\u001b[0msub\u001b[0m\u001b[0;34m(\u001b[0m\u001b[0;34m'₹|,'\u001b[0m\u001b[0;34m,\u001b[0m \u001b[0;34m''\u001b[0m\u001b[0;34m,\u001b[0m \u001b[0mprices\u001b[0m\u001b[0;34m[\u001b[0m\u001b[0;36m1\u001b[0m\u001b[0;34m]\u001b[0m\u001b[0;34m.\u001b[0m\u001b[0mget_text\u001b[0m\u001b[0;34m(\u001b[0m\u001b[0;34m)\u001b[0m\u001b[0;34m.\u001b[0m\u001b[0mstrip\u001b[0m\u001b[0;34m(\u001b[0m\u001b[0;34m)\u001b[0m\u001b[0;34m)\u001b[0m\u001b[0;34m)\u001b[0m\u001b[0;34m\u001b[0m\u001b[0;34m\u001b[0m\u001b[0m\n\u001b[1;32m      5\u001b[0m \u001b[0mdiscount\u001b[0m \u001b[0;34m=\u001b[0m \u001b[0;34m(\u001b[0m\u001b[0;34m(\u001b[0m\u001b[0morg_price\u001b[0m \u001b[0;34m-\u001b[0m \u001b[0mcur_price\u001b[0m\u001b[0;34m)\u001b[0m\u001b[0;34m/\u001b[0m\u001b[0morg_price\u001b[0m\u001b[0;34m)\u001b[0m \u001b[0;34m*\u001b[0m \u001b[0;36m100\u001b[0m\u001b[0;34m\u001b[0m\u001b[0;34m\u001b[0m\u001b[0m\n",
            "\u001b[0;31mAttributeError\u001b[0m: 'NoneType' object has no attribute 'find_all'"
          ]
        }
      ],
      "source": [
        "prices = soup2.find(id = 'apex_desktop')\n",
        "prices = prices.find_all('span', {'class' : 'a-offscreen'})\n",
        "cur_price = int(re.sub('₹|,', '', prices[0].get_text().strip()))\n",
        "org_price = int(re.sub('₹|,', '', prices[1].get_text().strip()))\n",
        "discount = ((org_price - cur_price)/org_price) * 100\n",
        "print(cur_price, org_price, discount)"
      ]
    },
    {
      "cell_type": "code",
      "execution_count": null,
      "metadata": {
        "id": "-meVPPH1RVsy"
      },
      "outputs": [],
      "source": [
        "nmodels = soup2.find(id = 'variation_color_name')\n",
        "nmodels = len(nmodels.find_all('li'))\n",
        "print(nmodels)"
      ]
    },
    {
      "cell_type": "code",
      "execution_count": null,
      "metadata": {
        "id": "5lycRNhvRcj2"
      },
      "outputs": [],
      "source": [
        "pic = soup2.find(id = 'landingImage').get('src')\n",
        "print(pic)"
      ]
    },
    {
      "cell_type": "code",
      "execution_count": null,
      "metadata": {
        "id": "QwHf2uCiRfH3"
      },
      "outputs": [],
      "source": [
        "highlights = soup2.find('ul', {'class' : 'a-unordered-list a-vertical a-spacing-mini'})\n",
        "highlights = highlights.find_all('span', {'class' : 'a-list-item'})\n",
        "highlights = [h.get_text().strip() for h in highlights]\n",
        "print(highlights)"
      ]
    },
    {
      "cell_type": "code",
      "execution_count": null,
      "metadata": {
        "id": "FFklmckVRm9_"
      },
      "outputs": [],
      "source": [
        "revs = soup2.find('div', {'class' : 'card-padding'})\n",
        "revs = revs.find_all('div', {'class' : 'a-row a-spacing-small review-data'})\n",
        "reviews = [rev.get_text().strip().replace('\\n', '') for rev in revs]\n",
        "print(reviews)"
      ]
    },
    {
      "cell_type": "code",
      "execution_count": null,
      "metadata": {
        "id": "BRe4RycdR2Jc"
      },
      "outputs": [],
      "source": [
        "cust_revs_box = soup2.find('span', {'class' : 'cr-widget-TitleRatingsAndHistogram'})\n",
        "text_rating = cust_revs_box.find('span', {'class' : 'a-size-medium a-color-base'}).get_text().strip()\n",
        "nglobal_ratings = cust_revs_box.find('span', {'class' : 'a-size-base a-color-secondary'}).get_text().strip()\n",
        "nglobal_ratings = int(re.sub(',', '', nglobal_ratings.split()[0]))\n",
        "print(text_rating, nglobal_ratings)"
      ]
    },
    {
      "cell_type": "code",
      "execution_count": null,
      "metadata": {
        "id": "8jmj9x0FQDDI"
      },
      "outputs": [],
      "source": [
        "table = soup2.find(id = 'prodDetails')\n",
        "print(table)\n",
        "features = table.find_all('th', {'class': \"a-color-secondary a-size-base prodDetSectionEntry\"})\n",
        "features = [f.get_text().strip() for f in features]"
      ]
    },
    {
      "cell_type": "code",
      "execution_count": null,
      "metadata": {
        "id": "bTr0On3cW78e"
      },
      "outputs": [],
      "source": [
        "a = soup2.find('tr', {'class' : 'a-spacing-small po-brand'})\n",
        "a.get_text().strip().split()[-1]"
      ]
    },
    {
      "cell_type": "code",
      "execution_count": null,
      "metadata": {
        "id": "55NDcI3ORcM-"
      },
      "outputs": [],
      "source": [
        "features"
      ]
    },
    {
      "cell_type": "code",
      "execution_count": null,
      "metadata": {
        "id": "U3RgxF7vQEM4"
      },
      "outputs": [],
      "source": [
        "table"
      ]
    },
    {
      "cell_type": "code",
      "execution_count": null,
      "metadata": {
        "id": "uCHAmtNlQQLC"
      },
      "outputs": [],
      "source": [
        "soup2.find(id = 'productDetails_feature_div')"
      ]
    },
    {
      "cell_type": "code",
      "execution_count": null,
      "metadata": {
        "id": "jQ3kAMXKQgra"
      },
      "outputs": [],
      "source": []
    },
    {
      "cell_type": "code",
      "source": [],
      "metadata": {
        "id": "vDHBA3vfVK06"
      },
      "execution_count": null,
      "outputs": []
    }
  ],
  "metadata": {
    "colab": {
      "provenance": []
    },
    "kernelspec": {
      "display_name": "Python 3",
      "name": "python3"
    },
    "language_info": {
      "name": "python"
    },
    "widgets": {
      "application/vnd.jupyter.widget-state+json": {
        "236e2a1a0c4b437484908ded5e2adfa7": {
          "model_module": "@jupyter-widgets/controls",
          "model_name": "HBoxModel",
          "model_module_version": "1.5.0",
          "state": {
            "_dom_classes": [],
            "_model_module": "@jupyter-widgets/controls",
            "_model_module_version": "1.5.0",
            "_model_name": "HBoxModel",
            "_view_count": null,
            "_view_module": "@jupyter-widgets/controls",
            "_view_module_version": "1.5.0",
            "_view_name": "HBoxView",
            "box_style": "",
            "children": [
              "IPY_MODEL_af5e00f487534c84a218886bf85bff8e",
              "IPY_MODEL_622073d1a55144438933ab5b7759c9f7",
              "IPY_MODEL_d8e5df61f377438b9f4bd519651d356c"
            ],
            "layout": "IPY_MODEL_f7f81bdddd6d4d8494db765172ff7aa0"
          }
        },
        "af5e00f487534c84a218886bf85bff8e": {
          "model_module": "@jupyter-widgets/controls",
          "model_name": "HTMLModel",
          "model_module_version": "1.5.0",
          "state": {
            "_dom_classes": [],
            "_model_module": "@jupyter-widgets/controls",
            "_model_module_version": "1.5.0",
            "_model_name": "HTMLModel",
            "_view_count": null,
            "_view_module": "@jupyter-widgets/controls",
            "_view_module_version": "1.5.0",
            "_view_name": "HTMLView",
            "description": "",
            "description_tooltip": null,
            "layout": "IPY_MODEL_f43123285e7347b3a9dc1bc786d37640",
            "placeholder": "​",
            "style": "IPY_MODEL_37ebf6c74e384a79aa75635ab9c98622",
            "value": "100%"
          }
        },
        "622073d1a55144438933ab5b7759c9f7": {
          "model_module": "@jupyter-widgets/controls",
          "model_name": "FloatProgressModel",
          "model_module_version": "1.5.0",
          "state": {
            "_dom_classes": [],
            "_model_module": "@jupyter-widgets/controls",
            "_model_module_version": "1.5.0",
            "_model_name": "FloatProgressModel",
            "_view_count": null,
            "_view_module": "@jupyter-widgets/controls",
            "_view_module_version": "1.5.0",
            "_view_name": "ProgressView",
            "bar_style": "success",
            "description": "",
            "description_tooltip": null,
            "layout": "IPY_MODEL_1564089f6803447fa099cac896f4c326",
            "max": 19,
            "min": 0,
            "orientation": "horizontal",
            "style": "IPY_MODEL_1f34ffd850194cd19d5c5865486524f6",
            "value": 19
          }
        },
        "d8e5df61f377438b9f4bd519651d356c": {
          "model_module": "@jupyter-widgets/controls",
          "model_name": "HTMLModel",
          "model_module_version": "1.5.0",
          "state": {
            "_dom_classes": [],
            "_model_module": "@jupyter-widgets/controls",
            "_model_module_version": "1.5.0",
            "_model_name": "HTMLModel",
            "_view_count": null,
            "_view_module": "@jupyter-widgets/controls",
            "_view_module_version": "1.5.0",
            "_view_name": "HTMLView",
            "description": "",
            "description_tooltip": null,
            "layout": "IPY_MODEL_fc3b558507a94057872a7cdc1426f353",
            "placeholder": "​",
            "style": "IPY_MODEL_9deaa0a3e99e4ba4ac11a48f87dc35da",
            "value": " 19/19 [00:46&lt;00:00,  3.22s/it]"
          }
        },
        "f7f81bdddd6d4d8494db765172ff7aa0": {
          "model_module": "@jupyter-widgets/base",
          "model_name": "LayoutModel",
          "model_module_version": "1.2.0",
          "state": {
            "_model_module": "@jupyter-widgets/base",
            "_model_module_version": "1.2.0",
            "_model_name": "LayoutModel",
            "_view_count": null,
            "_view_module": "@jupyter-widgets/base",
            "_view_module_version": "1.2.0",
            "_view_name": "LayoutView",
            "align_content": null,
            "align_items": null,
            "align_self": null,
            "border": null,
            "bottom": null,
            "display": null,
            "flex": null,
            "flex_flow": null,
            "grid_area": null,
            "grid_auto_columns": null,
            "grid_auto_flow": null,
            "grid_auto_rows": null,
            "grid_column": null,
            "grid_gap": null,
            "grid_row": null,
            "grid_template_areas": null,
            "grid_template_columns": null,
            "grid_template_rows": null,
            "height": null,
            "justify_content": null,
            "justify_items": null,
            "left": null,
            "margin": null,
            "max_height": null,
            "max_width": null,
            "min_height": null,
            "min_width": null,
            "object_fit": null,
            "object_position": null,
            "order": null,
            "overflow": null,
            "overflow_x": null,
            "overflow_y": null,
            "padding": null,
            "right": null,
            "top": null,
            "visibility": null,
            "width": null
          }
        },
        "f43123285e7347b3a9dc1bc786d37640": {
          "model_module": "@jupyter-widgets/base",
          "model_name": "LayoutModel",
          "model_module_version": "1.2.0",
          "state": {
            "_model_module": "@jupyter-widgets/base",
            "_model_module_version": "1.2.0",
            "_model_name": "LayoutModel",
            "_view_count": null,
            "_view_module": "@jupyter-widgets/base",
            "_view_module_version": "1.2.0",
            "_view_name": "LayoutView",
            "align_content": null,
            "align_items": null,
            "align_self": null,
            "border": null,
            "bottom": null,
            "display": null,
            "flex": null,
            "flex_flow": null,
            "grid_area": null,
            "grid_auto_columns": null,
            "grid_auto_flow": null,
            "grid_auto_rows": null,
            "grid_column": null,
            "grid_gap": null,
            "grid_row": null,
            "grid_template_areas": null,
            "grid_template_columns": null,
            "grid_template_rows": null,
            "height": null,
            "justify_content": null,
            "justify_items": null,
            "left": null,
            "margin": null,
            "max_height": null,
            "max_width": null,
            "min_height": null,
            "min_width": null,
            "object_fit": null,
            "object_position": null,
            "order": null,
            "overflow": null,
            "overflow_x": null,
            "overflow_y": null,
            "padding": null,
            "right": null,
            "top": null,
            "visibility": null,
            "width": null
          }
        },
        "37ebf6c74e384a79aa75635ab9c98622": {
          "model_module": "@jupyter-widgets/controls",
          "model_name": "DescriptionStyleModel",
          "model_module_version": "1.5.0",
          "state": {
            "_model_module": "@jupyter-widgets/controls",
            "_model_module_version": "1.5.0",
            "_model_name": "DescriptionStyleModel",
            "_view_count": null,
            "_view_module": "@jupyter-widgets/base",
            "_view_module_version": "1.2.0",
            "_view_name": "StyleView",
            "description_width": ""
          }
        },
        "1564089f6803447fa099cac896f4c326": {
          "model_module": "@jupyter-widgets/base",
          "model_name": "LayoutModel",
          "model_module_version": "1.2.0",
          "state": {
            "_model_module": "@jupyter-widgets/base",
            "_model_module_version": "1.2.0",
            "_model_name": "LayoutModel",
            "_view_count": null,
            "_view_module": "@jupyter-widgets/base",
            "_view_module_version": "1.2.0",
            "_view_name": "LayoutView",
            "align_content": null,
            "align_items": null,
            "align_self": null,
            "border": null,
            "bottom": null,
            "display": null,
            "flex": null,
            "flex_flow": null,
            "grid_area": null,
            "grid_auto_columns": null,
            "grid_auto_flow": null,
            "grid_auto_rows": null,
            "grid_column": null,
            "grid_gap": null,
            "grid_row": null,
            "grid_template_areas": null,
            "grid_template_columns": null,
            "grid_template_rows": null,
            "height": null,
            "justify_content": null,
            "justify_items": null,
            "left": null,
            "margin": null,
            "max_height": null,
            "max_width": null,
            "min_height": null,
            "min_width": null,
            "object_fit": null,
            "object_position": null,
            "order": null,
            "overflow": null,
            "overflow_x": null,
            "overflow_y": null,
            "padding": null,
            "right": null,
            "top": null,
            "visibility": null,
            "width": null
          }
        },
        "1f34ffd850194cd19d5c5865486524f6": {
          "model_module": "@jupyter-widgets/controls",
          "model_name": "ProgressStyleModel",
          "model_module_version": "1.5.0",
          "state": {
            "_model_module": "@jupyter-widgets/controls",
            "_model_module_version": "1.5.0",
            "_model_name": "ProgressStyleModel",
            "_view_count": null,
            "_view_module": "@jupyter-widgets/base",
            "_view_module_version": "1.2.0",
            "_view_name": "StyleView",
            "bar_color": null,
            "description_width": ""
          }
        },
        "fc3b558507a94057872a7cdc1426f353": {
          "model_module": "@jupyter-widgets/base",
          "model_name": "LayoutModel",
          "model_module_version": "1.2.0",
          "state": {
            "_model_module": "@jupyter-widgets/base",
            "_model_module_version": "1.2.0",
            "_model_name": "LayoutModel",
            "_view_count": null,
            "_view_module": "@jupyter-widgets/base",
            "_view_module_version": "1.2.0",
            "_view_name": "LayoutView",
            "align_content": null,
            "align_items": null,
            "align_self": null,
            "border": null,
            "bottom": null,
            "display": null,
            "flex": null,
            "flex_flow": null,
            "grid_area": null,
            "grid_auto_columns": null,
            "grid_auto_flow": null,
            "grid_auto_rows": null,
            "grid_column": null,
            "grid_gap": null,
            "grid_row": null,
            "grid_template_areas": null,
            "grid_template_columns": null,
            "grid_template_rows": null,
            "height": null,
            "justify_content": null,
            "justify_items": null,
            "left": null,
            "margin": null,
            "max_height": null,
            "max_width": null,
            "min_height": null,
            "min_width": null,
            "object_fit": null,
            "object_position": null,
            "order": null,
            "overflow": null,
            "overflow_x": null,
            "overflow_y": null,
            "padding": null,
            "right": null,
            "top": null,
            "visibility": null,
            "width": null
          }
        },
        "9deaa0a3e99e4ba4ac11a48f87dc35da": {
          "model_module": "@jupyter-widgets/controls",
          "model_name": "DescriptionStyleModel",
          "model_module_version": "1.5.0",
          "state": {
            "_model_module": "@jupyter-widgets/controls",
            "_model_module_version": "1.5.0",
            "_model_name": "DescriptionStyleModel",
            "_view_count": null,
            "_view_module": "@jupyter-widgets/base",
            "_view_module_version": "1.2.0",
            "_view_name": "StyleView",
            "description_width": ""
          }
        },
        "6833be9872a2468887dcf8f59c9bbc1f": {
          "model_module": "@jupyter-widgets/controls",
          "model_name": "HBoxModel",
          "model_module_version": "1.5.0",
          "state": {
            "_dom_classes": [],
            "_model_module": "@jupyter-widgets/controls",
            "_model_module_version": "1.5.0",
            "_model_name": "HBoxModel",
            "_view_count": null,
            "_view_module": "@jupyter-widgets/controls",
            "_view_module_version": "1.5.0",
            "_view_name": "HBoxView",
            "box_style": "",
            "children": [
              "IPY_MODEL_61364e2517784294abc039ac34f04a71",
              "IPY_MODEL_6ce5729cf89d44b99eb6c4288ab3cea2",
              "IPY_MODEL_3d8b54e18a89451d93066b2ab9819790"
            ],
            "layout": "IPY_MODEL_e7187c34f550493faae3fef4400f5465"
          }
        },
        "61364e2517784294abc039ac34f04a71": {
          "model_module": "@jupyter-widgets/controls",
          "model_name": "HTMLModel",
          "model_module_version": "1.5.0",
          "state": {
            "_dom_classes": [],
            "_model_module": "@jupyter-widgets/controls",
            "_model_module_version": "1.5.0",
            "_model_name": "HTMLModel",
            "_view_count": null,
            "_view_module": "@jupyter-widgets/controls",
            "_view_module_version": "1.5.0",
            "_view_name": "HTMLView",
            "description": "",
            "description_tooltip": null,
            "layout": "IPY_MODEL_613677c609ee47ef9349bc2ebd545b70",
            "placeholder": "​",
            "style": "IPY_MODEL_55e22328232040c48c87a903c44b17e2",
            "value": "100%"
          }
        },
        "6ce5729cf89d44b99eb6c4288ab3cea2": {
          "model_module": "@jupyter-widgets/controls",
          "model_name": "FloatProgressModel",
          "model_module_version": "1.5.0",
          "state": {
            "_dom_classes": [],
            "_model_module": "@jupyter-widgets/controls",
            "_model_module_version": "1.5.0",
            "_model_name": "FloatProgressModel",
            "_view_count": null,
            "_view_module": "@jupyter-widgets/controls",
            "_view_module_version": "1.5.0",
            "_view_name": "ProgressView",
            "bar_style": "success",
            "description": "",
            "description_tooltip": null,
            "layout": "IPY_MODEL_e83fad59397d40d9ad6cd7a98bbe4d1b",
            "max": 256,
            "min": 0,
            "orientation": "horizontal",
            "style": "IPY_MODEL_1722fc479e2c48fb992e615bb059e522",
            "value": 256
          }
        },
        "3d8b54e18a89451d93066b2ab9819790": {
          "model_module": "@jupyter-widgets/controls",
          "model_name": "HTMLModel",
          "model_module_version": "1.5.0",
          "state": {
            "_dom_classes": [],
            "_model_module": "@jupyter-widgets/controls",
            "_model_module_version": "1.5.0",
            "_model_name": "HTMLModel",
            "_view_count": null,
            "_view_module": "@jupyter-widgets/controls",
            "_view_module_version": "1.5.0",
            "_view_name": "HTMLView",
            "description": "",
            "description_tooltip": null,
            "layout": "IPY_MODEL_3111cc9e81b84f16829d565d2f931006",
            "placeholder": "​",
            "style": "IPY_MODEL_f747fa6332894ec481013fd720646c06",
            "value": " 256/256 [01:58&lt;00:00,  2.29it/s]"
          }
        },
        "e7187c34f550493faae3fef4400f5465": {
          "model_module": "@jupyter-widgets/base",
          "model_name": "LayoutModel",
          "model_module_version": "1.2.0",
          "state": {
            "_model_module": "@jupyter-widgets/base",
            "_model_module_version": "1.2.0",
            "_model_name": "LayoutModel",
            "_view_count": null,
            "_view_module": "@jupyter-widgets/base",
            "_view_module_version": "1.2.0",
            "_view_name": "LayoutView",
            "align_content": null,
            "align_items": null,
            "align_self": null,
            "border": null,
            "bottom": null,
            "display": null,
            "flex": null,
            "flex_flow": null,
            "grid_area": null,
            "grid_auto_columns": null,
            "grid_auto_flow": null,
            "grid_auto_rows": null,
            "grid_column": null,
            "grid_gap": null,
            "grid_row": null,
            "grid_template_areas": null,
            "grid_template_columns": null,
            "grid_template_rows": null,
            "height": null,
            "justify_content": null,
            "justify_items": null,
            "left": null,
            "margin": null,
            "max_height": null,
            "max_width": null,
            "min_height": null,
            "min_width": null,
            "object_fit": null,
            "object_position": null,
            "order": null,
            "overflow": null,
            "overflow_x": null,
            "overflow_y": null,
            "padding": null,
            "right": null,
            "top": null,
            "visibility": null,
            "width": null
          }
        },
        "613677c609ee47ef9349bc2ebd545b70": {
          "model_module": "@jupyter-widgets/base",
          "model_name": "LayoutModel",
          "model_module_version": "1.2.0",
          "state": {
            "_model_module": "@jupyter-widgets/base",
            "_model_module_version": "1.2.0",
            "_model_name": "LayoutModel",
            "_view_count": null,
            "_view_module": "@jupyter-widgets/base",
            "_view_module_version": "1.2.0",
            "_view_name": "LayoutView",
            "align_content": null,
            "align_items": null,
            "align_self": null,
            "border": null,
            "bottom": null,
            "display": null,
            "flex": null,
            "flex_flow": null,
            "grid_area": null,
            "grid_auto_columns": null,
            "grid_auto_flow": null,
            "grid_auto_rows": null,
            "grid_column": null,
            "grid_gap": null,
            "grid_row": null,
            "grid_template_areas": null,
            "grid_template_columns": null,
            "grid_template_rows": null,
            "height": null,
            "justify_content": null,
            "justify_items": null,
            "left": null,
            "margin": null,
            "max_height": null,
            "max_width": null,
            "min_height": null,
            "min_width": null,
            "object_fit": null,
            "object_position": null,
            "order": null,
            "overflow": null,
            "overflow_x": null,
            "overflow_y": null,
            "padding": null,
            "right": null,
            "top": null,
            "visibility": null,
            "width": null
          }
        },
        "55e22328232040c48c87a903c44b17e2": {
          "model_module": "@jupyter-widgets/controls",
          "model_name": "DescriptionStyleModel",
          "model_module_version": "1.5.0",
          "state": {
            "_model_module": "@jupyter-widgets/controls",
            "_model_module_version": "1.5.0",
            "_model_name": "DescriptionStyleModel",
            "_view_count": null,
            "_view_module": "@jupyter-widgets/base",
            "_view_module_version": "1.2.0",
            "_view_name": "StyleView",
            "description_width": ""
          }
        },
        "e83fad59397d40d9ad6cd7a98bbe4d1b": {
          "model_module": "@jupyter-widgets/base",
          "model_name": "LayoutModel",
          "model_module_version": "1.2.0",
          "state": {
            "_model_module": "@jupyter-widgets/base",
            "_model_module_version": "1.2.0",
            "_model_name": "LayoutModel",
            "_view_count": null,
            "_view_module": "@jupyter-widgets/base",
            "_view_module_version": "1.2.0",
            "_view_name": "LayoutView",
            "align_content": null,
            "align_items": null,
            "align_self": null,
            "border": null,
            "bottom": null,
            "display": null,
            "flex": null,
            "flex_flow": null,
            "grid_area": null,
            "grid_auto_columns": null,
            "grid_auto_flow": null,
            "grid_auto_rows": null,
            "grid_column": null,
            "grid_gap": null,
            "grid_row": null,
            "grid_template_areas": null,
            "grid_template_columns": null,
            "grid_template_rows": null,
            "height": null,
            "justify_content": null,
            "justify_items": null,
            "left": null,
            "margin": null,
            "max_height": null,
            "max_width": null,
            "min_height": null,
            "min_width": null,
            "object_fit": null,
            "object_position": null,
            "order": null,
            "overflow": null,
            "overflow_x": null,
            "overflow_y": null,
            "padding": null,
            "right": null,
            "top": null,
            "visibility": null,
            "width": null
          }
        },
        "1722fc479e2c48fb992e615bb059e522": {
          "model_module": "@jupyter-widgets/controls",
          "model_name": "ProgressStyleModel",
          "model_module_version": "1.5.0",
          "state": {
            "_model_module": "@jupyter-widgets/controls",
            "_model_module_version": "1.5.0",
            "_model_name": "ProgressStyleModel",
            "_view_count": null,
            "_view_module": "@jupyter-widgets/base",
            "_view_module_version": "1.2.0",
            "_view_name": "StyleView",
            "bar_color": null,
            "description_width": ""
          }
        },
        "3111cc9e81b84f16829d565d2f931006": {
          "model_module": "@jupyter-widgets/base",
          "model_name": "LayoutModel",
          "model_module_version": "1.2.0",
          "state": {
            "_model_module": "@jupyter-widgets/base",
            "_model_module_version": "1.2.0",
            "_model_name": "LayoutModel",
            "_view_count": null,
            "_view_module": "@jupyter-widgets/base",
            "_view_module_version": "1.2.0",
            "_view_name": "LayoutView",
            "align_content": null,
            "align_items": null,
            "align_self": null,
            "border": null,
            "bottom": null,
            "display": null,
            "flex": null,
            "flex_flow": null,
            "grid_area": null,
            "grid_auto_columns": null,
            "grid_auto_flow": null,
            "grid_auto_rows": null,
            "grid_column": null,
            "grid_gap": null,
            "grid_row": null,
            "grid_template_areas": null,
            "grid_template_columns": null,
            "grid_template_rows": null,
            "height": null,
            "justify_content": null,
            "justify_items": null,
            "left": null,
            "margin": null,
            "max_height": null,
            "max_width": null,
            "min_height": null,
            "min_width": null,
            "object_fit": null,
            "object_position": null,
            "order": null,
            "overflow": null,
            "overflow_x": null,
            "overflow_y": null,
            "padding": null,
            "right": null,
            "top": null,
            "visibility": null,
            "width": null
          }
        },
        "f747fa6332894ec481013fd720646c06": {
          "model_module": "@jupyter-widgets/controls",
          "model_name": "DescriptionStyleModel",
          "model_module_version": "1.5.0",
          "state": {
            "_model_module": "@jupyter-widgets/controls",
            "_model_module_version": "1.5.0",
            "_model_name": "DescriptionStyleModel",
            "_view_count": null,
            "_view_module": "@jupyter-widgets/base",
            "_view_module_version": "1.2.0",
            "_view_name": "StyleView",
            "description_width": ""
          }
        }
      }
    }
  },
  "nbformat": 4,
  "nbformat_minor": 0
}