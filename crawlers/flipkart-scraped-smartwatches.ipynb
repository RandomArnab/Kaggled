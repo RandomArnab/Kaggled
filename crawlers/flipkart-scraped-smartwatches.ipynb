{
  "cells": [
    {
      "cell_type": "code",
      "execution_count": null,
      "metadata": {
        "id": "UVfmuLC1mrtF"
      },
      "outputs": [],
      "source": [
        "from bs4 import BeautifulSoup\n",
        "import pandas as pd\n",
        "import requests\n",
        "import regex as re\n",
        "from lxml import etree as et\n",
        "from itertools import repeat\n",
        "import csv\n",
        "import random\n",
        "import time\n",
        "import numpy as np\n",
        "from tqdm import tqdm_notebook\n",
        "import warnings\n",
        "warnings.filterwarnings('ignore')"
      ]
    },
    {
      "cell_type": "code",
      "execution_count": null,
      "metadata": {
        "id": "IJ0UE6Zydt3H"
      },
      "outputs": [],
      "source": [
        "header_list = [\"Mozilla/5.0 (Windows NT 10.0; Win64; x64) AppleWebKit/537.36 (KHTML,                           like Gecko) Chrome/103.0.5060.66 Safari/537.36\",\n",
        "              \"Mozilla/5.0 (Windows NT 10.0; Win64; x64; rv:53.0) Gecko/20100101 Firefox/53.0\",\n",
        "              \"Mozilla/5.0 (Windows NT 10.0; Win64; x64) AppleWebKit/537.36 (KHTML, like Gecko) Chrome/51.0.2704.79 Safari/537.36 Edge/14.14393\"]\n",
        "\n",
        "base_url = \"https://www.flipkart.com\"\n",
        "smartwatch_brands = ['APPLE', 'Noise', 'boAt', 'Honor', 'SAMSUNG', 'FITBIT', 'Amazfit', 'GARMIN', 'Huawei', 'FOSSIL', 'Dizo', 'Gizmore', 'Amazfit', 'Ambrane', 'Pebble', 'Zebronics', 'fireboltt']\n",
        "product_list = []"
      ]
    },
    {
      "cell_type": "code",
      "execution_count": null,
      "metadata": {
        "id": "PiQ_Ccw-5x6u"
      },
      "outputs": [],
      "source": [
        "for brand in tqdm_notebook(smartwatch_brands):\n",
        "  for page_no in range(3):\n",
        "    page_url = \"https://www.flipkart.com/wearable-smart-devices/smart-watches/pr?sid=ajy%2Cbuh&otracker=categorytree&p%5B%5D=facets.brand%255B%255D%3D\" + brand + '&page=' + str(page_no)\n",
        "    user_agent = random.choice(header_list)\n",
        "    header = {\"User-Agent\": user_agent}\n",
        "    webpage = requests.get(page_url, headers = header)\n",
        "    if webpage.status_code == 200:\n",
        "      soup1 = BeautifulSoup(webpage.content, 'html.parser')\n",
        "      soup2 = BeautifulSoup(soup1.prettify(), 'html.parser')\n",
        "      divs = soup2.find_all('div', {'class' : '_1AtVbE col-12-12'} )\n",
        "      for div in divs:\n",
        "        swlink = div.find_all('a', {'class' : '_1fQZEK'})\n",
        "        for l in swlink:\n",
        "          print(l.get('href'))\n",
        "          product_list.append(base_url + l.get('href'))"
      ]
    },
    {
      "cell_type": "code",
      "execution_count": null,
      "metadata": {
        "colab": {
          "base_uri": "https://localhost:8080/"
        },
        "id": "U4Wo8Ld0C9JW",
        "outputId": "3019f08f-906b-4a7a-8e29-2087e93869aa"
      },
      "outputs": [
        {
          "output_type": "stream",
          "name": "stdout",
          "text": [
            "0\n"
          ]
        }
      ],
      "source": [
        "print(len(product_list))"
      ]
    },
    {
      "cell_type": "code",
      "execution_count": null,
      "metadata": {
        "id": "ZQdYeZMf5ZUs"
      },
      "outputs": [],
      "source": [
        "cols = ['Url', 'Brand', 'Current Price', 'Original Price', 'Discount Percentage', 'Rating', 'Number OF Ratings', 'Highlights', 'Number of Models', 'Pictures']\n",
        "\n",
        "specs_list = ['Sales Package', 'Model Number', 'Model Name', 'Dial Shape', 'Strap Color',\n",
        " 'Strap Material', 'Size', 'Touchscreen', 'Water Resistant', 'Water Resistance Depth',\n",
        " 'Usage', 'Dial Material', 'Ideal For', 'Compatible OS', 'Sensor', 'Compatible Device',\n",
        " 'Notification', 'Battery Type', 'Battery Life', 'Rechargeable Battery', 'Charger Type',\n",
        " 'Other Features', 'Operating System', 'Compatible Operating System', 'Processor Name',\n",
        " 'Internal Memory', 'Call Function', 'Bluetooth', 'Wi-Fi', 'GPS', 'Bluetooth Version',\n",
        " 'Other Connectivity Features', 'Display Resolution', 'Display Size', 'Display Type', 'Other Display Features', 'Calorie Count',\n",
        " 'Step Count', 'Heart Rate Monitor', 'Altimeter', 'Other Fitness Features', 'Date & Time Display',\n",
        " 'Compass', 'Calendar', 'Alarm Clock', 'Language', 'Number of Buttons', 'Speaker', 'Microphone',\n",
        " 'Width', 'Thickness', 'Weight', 'Warranty Summary', 'Warranty Service Type',\n",
        " 'Covered in Warranty', 'Not Covered in Warranty', 'Domestic Warranty']\n",
        "\n",
        "description_list = ['Battery & Charger', 'Display', 'Design', 'Activity Tracking']\n",
        "\n",
        "cols.extend(specs_list)\n",
        "cols.extend(description_list)\n",
        "flipkart = pd.DataFrame(columns = cols)"
      ]
    },
    {
      "cell_type": "code",
      "execution_count": null,
      "metadata": {
        "id": "fKuvt19k4OnZ"
      },
      "outputs": [],
      "source": [
        "def feature_result_transform(specs_list, dicted):\n",
        "  \n",
        "  result_list = []\n",
        "  result_list.extend(repeat('-', len(specs_list)))\n",
        "\n",
        "  for key in dicted.keys():\n",
        "    for i in range(len(specs_list)):\n",
        "      if specs_list[i] == key:\n",
        "        result_list[i] = dicted[key]\n",
        "  \n",
        "  return result_list"
      ]
    },
    {
      "cell_type": "code",
      "execution_count": null,
      "metadata": {
        "colab": {
          "base_uri": "https://localhost:8080/",
          "height": 49,
          "referenced_widgets": [
            "d922d2b22d074af48a15c0d0c07c7abc",
            "7e149ecec7d14bf8aac684ea31100299",
            "b67bc2df0ed743eca648f3d5363527aa",
            "8c5a575188054578a33f126ee6b094d0",
            "859be3b35ad24e34815bfb5139510f77",
            "1230ea8dfd354db0a62cbe66d0441c55",
            "2629fa55d382402580acad63a47fcc2c",
            "dc53b05da72c4e61b080944261bccdb9",
            "3e34d02799e648faa9514b0093b5d59e",
            "ae2e6bdf20434d57873461daf509ce45",
            "f72018ae295a4f7b80399e4e5d4966c8"
          ]
        },
        "id": "pWYaoYhwmUnz",
        "outputId": "3667981b-e8f4-49c5-ce3d-a4ab2f469eeb"
      },
      "outputs": [
        {
          "output_type": "display_data",
          "data": {
            "text/plain": [
              "  0%|          | 0/72 [00:00<?, ?it/s]"
            ],
            "application/vnd.jupyter.widget-view+json": {
              "version_major": 2,
              "version_minor": 0,
              "model_id": "d922d2b22d074af48a15c0d0c07c7abc"
            }
          },
          "metadata": {}
        }
      ],
      "source": [
        "for link in tqdm_notebook(product_list):\n",
        "  url = link\n",
        "  webpage = requests.get(url, headers = header)\n",
        "  if webpage.status_code == 200:\n",
        "    soup1 = BeautifulSoup(webpage.content, 'html.parser')\n",
        "    soup2 = BeautifulSoup(soup1.prettify(), 'html.parser')\n",
        "\n",
        "    brand = re.split('-',re.split('https://www.flipkart.com/', url)[1])[0]\n",
        "\n",
        "    try:\n",
        "      cur_price = soup2.find('div', {'class' : '_30jeq3 _16Jk6d'})\n",
        "      cur_price = int(re.sub('₹|,', '', cur_price.get_text().strip()))\n",
        "    except:\n",
        "      cur_price = ' - '\n",
        "    try: \n",
        "      org_price = soup2.find('div', {'class' : '_3I9_wc _2p6lqe'})\n",
        "      org_price = int(re.sub('₹|,', '', org_price.get_text().strip()))\n",
        "    except:\n",
        "      org_price = ' - '\n",
        "    try:\n",
        "      discount_perc = ((org_price - cur_price)/org_price)*100\n",
        "    except:\n",
        "      discount_perc = ' - '\n",
        "\n",
        "    try:\n",
        "      rating = soup2.find('div', {'class' : '_3LWZlK'})\n",
        "      rating = rating.get_text().strip()\n",
        "      #print(rating.get_text().strip())\n",
        "    except:\n",
        "      rating = ' - '\n",
        "\n",
        "    try:\n",
        "      nratings = soup2.find('span', {'class' : '_2_R_DZ'})\n",
        "      nratings = nratings.get_text().strip().split()[0]\n",
        "      #print(nratings.get_text().strip().split()[0])\n",
        "    except:\n",
        "      nratings = ' - '\n",
        "\n",
        "    try:\n",
        "      highlights = soup2.find('div', {'class' : '_1AtVbE col-6-12'})\n",
        "      highlights = highlights.find_all('li', {'class' : '_21Ahn-'})\n",
        "      highlights = [hl.get_text().strip() for hl in highlights]\n",
        "      #print(highlights)\n",
        "    except:\n",
        "      highlights = ' - '\n",
        "\n",
        "    tables = soup2.find_all('div', {'class' : '_3k-BhJ'})\n",
        "    specs = []\n",
        "    results = []\n",
        "    for table in tables:\n",
        "      s = table.find_all('td', {'class' : '_1hKmbr col col-3-12'})\n",
        "      r = table.find_all('li', {'class' : '_21lJbe'})\n",
        "      specs.extend([i.get_text().strip() for i in s])\n",
        "      results.extend([i.get_text().strip() for i in r])\n",
        "    # for i in range(len(specs)):\n",
        "    #   print(f\"{specs[i]} :: {results[i]}\")\n",
        "    \n",
        "    dicted = {}\n",
        "    for i in range(len(specs)):\n",
        "      dicted[specs[i]] = results[i]\n",
        "\n",
        "    try:\n",
        "      nstraps = soup2.find('div', {'class' : '_22QfJJ'})\n",
        "      nstraps = nstraps.find_all('li', {'class' : '_3V2wfe'})\n",
        "      nstraps = len(nstraps)\n",
        "      #print(nstraps)\n",
        "    except:\n",
        "      nstraps = ' - '\n",
        "\n",
        "    try:\n",
        "      pictures = soup2.find('div', {'class' : '_1AtVbE col-12-12'})\n",
        "      pictures = pictures.find_all('li', {'class' : '_20Gt85 _1Y_A6W'})\n",
        "      pictures = [p.find('img').get('src') for p in pictures][0]\n",
        "      #print(pictures)\n",
        "    except:\n",
        "      pictures = ' - '\n",
        "\n",
        "    try:\n",
        "      box = soup2.find('div', {'class' : 'row _3AjFsn _2c2kV-'})\n",
        "      boxes = box.find_all('div', {'class' : '_2a78PX'})\n",
        "      votes, description = [], []\n",
        "      for box in boxes:\n",
        "        votes.append(box.find('text', {'class' : '_2Ix0io'}))\n",
        "        description.append(box.find('div', {'class' : '_3npa3F'}))\n",
        "      votes = [v.get_text().strip() for v in votes]\n",
        "      description = [d.get_text().strip() for d in description]\n",
        "      # for i in range(len(votes)):\n",
        "      #   print(f\"{description[i]} :: {votes[i]}\")\n",
        "      dicted2 = {}\n",
        "      for i in range(len(description)):\n",
        "        dicted2[description[i]] = votes[i]\n",
        "    except:\n",
        "      pass\n",
        "\n",
        "    results = feature_result_transform(specs_list, dicted)\n",
        "    votes = feature_result_transform(description_list, dicted2)\n",
        "    row = [url, brand, cur_price, org_price, discount_perc, rating, nratings, highlights, nstraps, pictures]\n",
        "    row.extend(results)\n",
        "    row.extend(votes)\n",
        "    flipkart.loc[len(flipkart.index)] = row\n"
      ]
    },
    {
      "cell_type": "code",
      "source": [
        "flipkart['Screen Size'] = np.nan\n",
        "for i in range(len(flipkart)):\n",
        "  ss = re.findall('(\\d*\\.\\d+)', flipkart['Model Name'][i])\n",
        "  if len(ss) == 1:\n",
        "    flipkart['Screen Size'][i] = ss[0]"
      ],
      "metadata": {
        "id": "IeKtJQJL8Qeq"
      },
      "execution_count": null,
      "outputs": []
    },
    {
      "cell_type": "code",
      "execution_count": null,
      "metadata": {
        "colab": {
          "base_uri": "https://localhost:8080/",
          "height": 750
        },
        "id": "khVm8mGx1BXD",
        "outputId": "e2071723-499a-4aa5-b35c-a0fa3df07796"
      },
      "outputs": [
        {
          "output_type": "execute_result",
          "data": {
            "text/plain": [
              "                                                 Url    Brand Current Price  \\\n",
              "0  https://www.flipkart.com/gizmore-gizfit-cloud-...  gizmore          1499   \n",
              "1  https://www.flipkart.com/gizmore-gizfit-cloud-...  gizmore          1499   \n",
              "2  https://www.flipkart.com/gizmore-gizfit-cloud-...  gizmore          1499   \n",
              "3  https://www.flipkart.com/gizmore-blaze-max-1-8...  gizmore          1599   \n",
              "4  https://www.flipkart.com/gizmore-gizfit-ultra-...  gizmore          1499   \n",
              "\n",
              "  Original Price Discount Percentage Rating Number OF Ratings  \\\n",
              "0           4499           66.681485    4.1               823   \n",
              "1           4499           66.681485    4.1               823   \n",
              "2           4499           66.681485    4.1               823   \n",
              "3           5999           73.345558      4             1,253   \n",
              "4           5999           75.012502    4.2             4,878   \n",
              "\n",
              "                                          Highlights Number of Models  \\\n",
              "0  [1.85 Inch Bigger Display | Rotating Crown Con...                3   \n",
              "1  [1.85 Inch Bigger Display | Rotating Crown Con...                3   \n",
              "2  [1.85 Inch Bigger Display | Rotating Crown Con...                3   \n",
              "3  [1.85 Inch large IPS display with 240 x 280 px...                3   \n",
              "4  [1.69-inch full touch 2.5D HD curve metal Disp...                3   \n",
              "\n",
              "                                            Pictures  ...  \\\n",
              "0  https://rukminim1.flixcart.com/image/128/128/x...  ...   \n",
              "1  https://rukminim1.flixcart.com/image/128/128/x...  ...   \n",
              "2  https://rukminim1.flixcart.com/image/128/128/x...  ...   \n",
              "3  https://rukminim1.flixcart.com/image/128/128/x...  ...   \n",
              "4  https://rukminim1.flixcart.com/image/128/128/x...  ...   \n",
              "\n",
              "                                    Warranty Summary Warranty Service Type  \\\n",
              "0                                                  -        Service Centre   \n",
              "1                                                  -        Service Centre   \n",
              "2                                                  -        Service Centre   \n",
              "3                                                  -                     -   \n",
              "4  Gizmore Smartwatches Comes With 12 Months Manu...                Onsite   \n",
              "\n",
              "          Covered in Warranty Not Covered in Warranty Domestic Warranty  \\\n",
              "0  Only Manufacturing Defects    Any Physical Damages            1 Year   \n",
              "1  Only Manufacturing Defects    Any Physical Damages          6 Months   \n",
              "2  Only Manufacturing Defects    Any Physical Damages            1 Year   \n",
              "3  Only Manufacturing Defects    Any Physical Damages         12 Months   \n",
              "4  Only Manufacturing Defects     Any Physical Damage            1 Year   \n",
              "\n",
              "  Battery & Charger Display Design Activity Tracking Screen Size  \n",
              "0               4.0     4.3    4.4               3.9        1.85  \n",
              "1               4.0     4.3    4.4               3.9        1.85  \n",
              "2               4.0     4.3    4.4               3.9        1.85  \n",
              "3               3.9     4.1    4.1               3.9        1.85  \n",
              "4               4.0     4.2    4.2               4.0        1.69  \n",
              "\n",
              "[5 rows x 72 columns]"
            ],
            "text/html": [
              "\n",
              "  <div id=\"df-72bcc893-bd70-437a-8171-133b5b508388\">\n",
              "    <div class=\"colab-df-container\">\n",
              "      <div>\n",
              "<style scoped>\n",
              "    .dataframe tbody tr th:only-of-type {\n",
              "        vertical-align: middle;\n",
              "    }\n",
              "\n",
              "    .dataframe tbody tr th {\n",
              "        vertical-align: top;\n",
              "    }\n",
              "\n",
              "    .dataframe thead th {\n",
              "        text-align: right;\n",
              "    }\n",
              "</style>\n",
              "<table border=\"1\" class=\"dataframe\">\n",
              "  <thead>\n",
              "    <tr style=\"text-align: right;\">\n",
              "      <th></th>\n",
              "      <th>Url</th>\n",
              "      <th>Brand</th>\n",
              "      <th>Current Price</th>\n",
              "      <th>Original Price</th>\n",
              "      <th>Discount Percentage</th>\n",
              "      <th>Rating</th>\n",
              "      <th>Number OF Ratings</th>\n",
              "      <th>Highlights</th>\n",
              "      <th>Number of Models</th>\n",
              "      <th>Pictures</th>\n",
              "      <th>...</th>\n",
              "      <th>Warranty Summary</th>\n",
              "      <th>Warranty Service Type</th>\n",
              "      <th>Covered in Warranty</th>\n",
              "      <th>Not Covered in Warranty</th>\n",
              "      <th>Domestic Warranty</th>\n",
              "      <th>Battery &amp; Charger</th>\n",
              "      <th>Display</th>\n",
              "      <th>Design</th>\n",
              "      <th>Activity Tracking</th>\n",
              "      <th>Screen Size</th>\n",
              "    </tr>\n",
              "  </thead>\n",
              "  <tbody>\n",
              "    <tr>\n",
              "      <th>0</th>\n",
              "      <td>https://www.flipkart.com/gizmore-gizfit-cloud-...</td>\n",
              "      <td>gizmore</td>\n",
              "      <td>1499</td>\n",
              "      <td>4499</td>\n",
              "      <td>66.681485</td>\n",
              "      <td>4.1</td>\n",
              "      <td>823</td>\n",
              "      <td>[1.85 Inch Bigger Display | Rotating Crown Con...</td>\n",
              "      <td>3</td>\n",
              "      <td>https://rukminim1.flixcart.com/image/128/128/x...</td>\n",
              "      <td>...</td>\n",
              "      <td>-</td>\n",
              "      <td>Service Centre</td>\n",
              "      <td>Only Manufacturing Defects</td>\n",
              "      <td>Any Physical Damages</td>\n",
              "      <td>1 Year</td>\n",
              "      <td>4.0</td>\n",
              "      <td>4.3</td>\n",
              "      <td>4.4</td>\n",
              "      <td>3.9</td>\n",
              "      <td>1.85</td>\n",
              "    </tr>\n",
              "    <tr>\n",
              "      <th>1</th>\n",
              "      <td>https://www.flipkart.com/gizmore-gizfit-cloud-...</td>\n",
              "      <td>gizmore</td>\n",
              "      <td>1499</td>\n",
              "      <td>4499</td>\n",
              "      <td>66.681485</td>\n",
              "      <td>4.1</td>\n",
              "      <td>823</td>\n",
              "      <td>[1.85 Inch Bigger Display | Rotating Crown Con...</td>\n",
              "      <td>3</td>\n",
              "      <td>https://rukminim1.flixcart.com/image/128/128/x...</td>\n",
              "      <td>...</td>\n",
              "      <td>-</td>\n",
              "      <td>Service Centre</td>\n",
              "      <td>Only Manufacturing Defects</td>\n",
              "      <td>Any Physical Damages</td>\n",
              "      <td>6 Months</td>\n",
              "      <td>4.0</td>\n",
              "      <td>4.3</td>\n",
              "      <td>4.4</td>\n",
              "      <td>3.9</td>\n",
              "      <td>1.85</td>\n",
              "    </tr>\n",
              "    <tr>\n",
              "      <th>2</th>\n",
              "      <td>https://www.flipkart.com/gizmore-gizfit-cloud-...</td>\n",
              "      <td>gizmore</td>\n",
              "      <td>1499</td>\n",
              "      <td>4499</td>\n",
              "      <td>66.681485</td>\n",
              "      <td>4.1</td>\n",
              "      <td>823</td>\n",
              "      <td>[1.85 Inch Bigger Display | Rotating Crown Con...</td>\n",
              "      <td>3</td>\n",
              "      <td>https://rukminim1.flixcart.com/image/128/128/x...</td>\n",
              "      <td>...</td>\n",
              "      <td>-</td>\n",
              "      <td>Service Centre</td>\n",
              "      <td>Only Manufacturing Defects</td>\n",
              "      <td>Any Physical Damages</td>\n",
              "      <td>1 Year</td>\n",
              "      <td>4.0</td>\n",
              "      <td>4.3</td>\n",
              "      <td>4.4</td>\n",
              "      <td>3.9</td>\n",
              "      <td>1.85</td>\n",
              "    </tr>\n",
              "    <tr>\n",
              "      <th>3</th>\n",
              "      <td>https://www.flipkart.com/gizmore-blaze-max-1-8...</td>\n",
              "      <td>gizmore</td>\n",
              "      <td>1599</td>\n",
              "      <td>5999</td>\n",
              "      <td>73.345558</td>\n",
              "      <td>4</td>\n",
              "      <td>1,253</td>\n",
              "      <td>[1.85 Inch large IPS display with 240 x 280 px...</td>\n",
              "      <td>3</td>\n",
              "      <td>https://rukminim1.flixcart.com/image/128/128/x...</td>\n",
              "      <td>...</td>\n",
              "      <td>-</td>\n",
              "      <td>-</td>\n",
              "      <td>Only Manufacturing Defects</td>\n",
              "      <td>Any Physical Damages</td>\n",
              "      <td>12 Months</td>\n",
              "      <td>3.9</td>\n",
              "      <td>4.1</td>\n",
              "      <td>4.1</td>\n",
              "      <td>3.9</td>\n",
              "      <td>1.85</td>\n",
              "    </tr>\n",
              "    <tr>\n",
              "      <th>4</th>\n",
              "      <td>https://www.flipkart.com/gizmore-gizfit-ultra-...</td>\n",
              "      <td>gizmore</td>\n",
              "      <td>1499</td>\n",
              "      <td>5999</td>\n",
              "      <td>75.012502</td>\n",
              "      <td>4.2</td>\n",
              "      <td>4,878</td>\n",
              "      <td>[1.69-inch full touch 2.5D HD curve metal Disp...</td>\n",
              "      <td>3</td>\n",
              "      <td>https://rukminim1.flixcart.com/image/128/128/x...</td>\n",
              "      <td>...</td>\n",
              "      <td>Gizmore Smartwatches Comes With 12 Months Manu...</td>\n",
              "      <td>Onsite</td>\n",
              "      <td>Only Manufacturing Defects</td>\n",
              "      <td>Any Physical Damage</td>\n",
              "      <td>1 Year</td>\n",
              "      <td>4.0</td>\n",
              "      <td>4.2</td>\n",
              "      <td>4.2</td>\n",
              "      <td>4.0</td>\n",
              "      <td>1.69</td>\n",
              "    </tr>\n",
              "  </tbody>\n",
              "</table>\n",
              "<p>5 rows × 72 columns</p>\n",
              "</div>\n",
              "      <button class=\"colab-df-convert\" onclick=\"convertToInteractive('df-72bcc893-bd70-437a-8171-133b5b508388')\"\n",
              "              title=\"Convert this dataframe to an interactive table.\"\n",
              "              style=\"display:none;\">\n",
              "        \n",
              "  <svg xmlns=\"http://www.w3.org/2000/svg\" height=\"24px\"viewBox=\"0 0 24 24\"\n",
              "       width=\"24px\">\n",
              "    <path d=\"M0 0h24v24H0V0z\" fill=\"none\"/>\n",
              "    <path d=\"M18.56 5.44l.94 2.06.94-2.06 2.06-.94-2.06-.94-.94-2.06-.94 2.06-2.06.94zm-11 1L8.5 8.5l.94-2.06 2.06-.94-2.06-.94L8.5 2.5l-.94 2.06-2.06.94zm10 10l.94 2.06.94-2.06 2.06-.94-2.06-.94-.94-2.06-.94 2.06-2.06.94z\"/><path d=\"M17.41 7.96l-1.37-1.37c-.4-.4-.92-.59-1.43-.59-.52 0-1.04.2-1.43.59L10.3 9.45l-7.72 7.72c-.78.78-.78 2.05 0 2.83L4 21.41c.39.39.9.59 1.41.59.51 0 1.02-.2 1.41-.59l7.78-7.78 2.81-2.81c.8-.78.8-2.07 0-2.86zM5.41 20L4 18.59l7.72-7.72 1.47 1.35L5.41 20z\"/>\n",
              "  </svg>\n",
              "      </button>\n",
              "      \n",
              "  <style>\n",
              "    .colab-df-container {\n",
              "      display:flex;\n",
              "      flex-wrap:wrap;\n",
              "      gap: 12px;\n",
              "    }\n",
              "\n",
              "    .colab-df-convert {\n",
              "      background-color: #E8F0FE;\n",
              "      border: none;\n",
              "      border-radius: 50%;\n",
              "      cursor: pointer;\n",
              "      display: none;\n",
              "      fill: #1967D2;\n",
              "      height: 32px;\n",
              "      padding: 0 0 0 0;\n",
              "      width: 32px;\n",
              "    }\n",
              "\n",
              "    .colab-df-convert:hover {\n",
              "      background-color: #E2EBFA;\n",
              "      box-shadow: 0px 1px 2px rgba(60, 64, 67, 0.3), 0px 1px 3px 1px rgba(60, 64, 67, 0.15);\n",
              "      fill: #174EA6;\n",
              "    }\n",
              "\n",
              "    [theme=dark] .colab-df-convert {\n",
              "      background-color: #3B4455;\n",
              "      fill: #D2E3FC;\n",
              "    }\n",
              "\n",
              "    [theme=dark] .colab-df-convert:hover {\n",
              "      background-color: #434B5C;\n",
              "      box-shadow: 0px 1px 3px 1px rgba(0, 0, 0, 0.15);\n",
              "      filter: drop-shadow(0px 1px 2px rgba(0, 0, 0, 0.3));\n",
              "      fill: #FFFFFF;\n",
              "    }\n",
              "  </style>\n",
              "\n",
              "      <script>\n",
              "        const buttonEl =\n",
              "          document.querySelector('#df-72bcc893-bd70-437a-8171-133b5b508388 button.colab-df-convert');\n",
              "        buttonEl.style.display =\n",
              "          google.colab.kernel.accessAllowed ? 'block' : 'none';\n",
              "\n",
              "        async function convertToInteractive(key) {\n",
              "          const element = document.querySelector('#df-72bcc893-bd70-437a-8171-133b5b508388');\n",
              "          const dataTable =\n",
              "            await google.colab.kernel.invokeFunction('convertToInteractive',\n",
              "                                                     [key], {});\n",
              "          if (!dataTable) return;\n",
              "\n",
              "          const docLinkHtml = 'Like what you see? Visit the ' +\n",
              "            '<a target=\"_blank\" href=https://colab.research.google.com/notebooks/data_table.ipynb>data table notebook</a>'\n",
              "            + ' to learn more about interactive tables.';\n",
              "          element.innerHTML = '';\n",
              "          dataTable['output_type'] = 'display_data';\n",
              "          await google.colab.output.renderOutput(dataTable, element);\n",
              "          const docLink = document.createElement('div');\n",
              "          docLink.innerHTML = docLinkHtml;\n",
              "          element.appendChild(docLink);\n",
              "        }\n",
              "      </script>\n",
              "    </div>\n",
              "  </div>\n",
              "  "
            ]
          },
          "metadata": {},
          "execution_count": 176
        }
      ],
      "source": [
        " flipkart.head()"
      ]
    },
    {
      "cell_type": "code",
      "execution_count": null,
      "metadata": {
        "colab": {
          "base_uri": "https://localhost:8080/"
        },
        "id": "emZ7swT4HM9p",
        "outputId": "b31dbb08-3a12-400f-ad25-f29acf0d43d0"
      },
      "outputs": [
        {
          "output_type": "execute_result",
          "data": {
            "text/plain": [
              "(22, 72)"
            ]
          },
          "metadata": {},
          "execution_count": 177
        }
      ],
      "source": [
        "flip = flipkart.drop_duplicates(subset = ['Model Number', 'Model Name'], keep = \"first\")\n",
        "flip.reset_index(drop = True, inplace = True)\n",
        "flip.shape"
      ]
    },
    {
      "cell_type": "code",
      "source": [
        "flip.to_csv('gizmore.csv')"
      ],
      "metadata": {
        "id": "ci26pCfjcrqk"
      },
      "execution_count": null,
      "outputs": []
    },
    {
      "cell_type": "code",
      "source": [
        "flip['Pictures'][0]"
      ],
      "metadata": {
        "colab": {
          "base_uri": "https://localhost:8080/",
          "height": 53
        },
        "id": "RNzzuyIveOW8",
        "outputId": "275ea91d-2183-43dc-9867-e032a2c92129"
      },
      "execution_count": null,
      "outputs": [
        {
          "output_type": "execute_result",
          "data": {
            "text/plain": [
              "'https://rukminim1.flixcart.com/image/128/128/l572ufk0/smartwatch/y/s/i/1-39-orbit-styl-android-ios-crossbeats-no-original-imagfx66qaya5rfp.jpeg?q=70'"
            ],
            "application/vnd.google.colaboratory.intrinsic+json": {
              "type": "string"
            }
          },
          "metadata": {},
          "execution_count": 47
        }
      ]
    },
    {
      "cell_type": "code",
      "execution_count": null,
      "metadata": {
        "id": "c0pm12SiIvs6"
      },
      "outputs": [],
      "source": [
        "for i in range(len(flip)):\n",
        "  try:\n",
        "    flip['Rating'][i] = float(flip['Rating'][i])\n",
        "  except:\n",
        "    flip['Rating'][i] = 0\n",
        "  try:\n",
        "    flip['Number OF Ratings'][i] = int(re.sub(',', '', flip['Number OF Ratings'][i]))\n",
        "  except:\n",
        "    flip['Number OF Ratings'][i] = 0\n",
        "  try:\n",
        "    flip['Pictures'][i] = flip['Pictures'][i][2:].split(',')[0][:-1]\n",
        "  except:\n",
        "    flip['Pictures'][i] = ' - '"
      ]
    },
    {
      "cell_type": "code",
      "execution_count": null,
      "metadata": {
        "id": "71Fc2dMo7sy1"
      },
      "outputs": [],
      "source": [
        "flipkart.to_csv('sw_flip_tableau.csv')"
      ]
    },
    {
      "cell_type": "code",
      "execution_count": null,
      "metadata": {
        "colab": {
          "base_uri": "https://localhost:8080/"
        },
        "id": "oz1wd4ik8LsZ",
        "outputId": "273c2795-ecf9-4bcd-9b18-2ecdde5fb3a8"
      },
      "outputs": [
        {
          "output_type": "execute_result",
          "data": {
            "text/plain": [
              "(328, 71)"
            ]
          },
          "metadata": {},
          "execution_count": 38
        }
      ],
      "source": [
        "flipkart.shape"
      ]
    },
    {
      "cell_type": "code",
      "execution_count": null,
      "metadata": {
        "id": "uEAMqSK0fsWb",
        "colab": {
          "base_uri": "https://localhost:8080/",
          "height": 750
        },
        "outputId": "b688c9ef-6354-4632-a642-8c964c886468"
      },
      "outputs": [
        {
          "output_type": "execute_result",
          "data": {
            "text/plain": [
              "                                                 Url  Brand Current Price  \\\n",
              "0  https://www.flipkart.com/apple-watch-se-gps-2n...  apple         29650   \n",
              "1  https://www.flipkart.com/apple-watch-se-gps-ce...  apple         37900   \n",
              "2  https://www.flipkart.com/apple-watch-series-3-...  apple         23349   \n",
              "3  https://www.flipkart.com/apple-watch-se-gps-ce...  apple         33900   \n",
              "4  https://www.flipkart.com/apple-watch-ultra-gps...  apple         89900   \n",
              "\n",
              "  Original Price Discount Percentage Rating Number OF Ratings  \\\n",
              "0          29900             0.83612    4.5               154   \n",
              "1             -                   -     4.4                65   \n",
              "2          23900            2.305439    4.6             55800   \n",
              "3             -                   -     4.6              3440   \n",
              "4             -                   -     4.7                51   \n",
              "\n",
              "                                          Highlights Number of Models  \\\n",
              "0  [Retina LTPO OLED display, With Call Function,...                3   \n",
              "1  [Retina LTPO OLED display, With Call Function,...                3   \n",
              "2  [1-GPS, 2-Retina display, 3-Swimproof, 4-Optic...                3   \n",
              "3  [GPS + Cellular model lets you call, text and ...                2   \n",
              "4  [Always-On Retina LTPO OLED display, With Call...                6   \n",
              "\n",
              "  Pictures  ...   Weight              Warranty Summary Warranty Service Type  \\\n",
              "0       -   ...   26.4 g  1 Year Manufacturer Warranty              Carry In   \n",
              "1       -   ...     33 g  1 Year Manufacturer Warranty              Carry In   \n",
              "2       -   ...        -               1 Year Warranty              Carry In   \n",
              "3       -   ...  30.68 g  1 Year Manufacturer Warranty              Carry In   \n",
              "4       -   ...   61.3 g  1 Year Manufacturer Warranty              Carry In   \n",
              "\n",
              "     Covered in Warranty Not Covered in Warranty Domestic Warranty  \\\n",
              "0  Manufacturing Defects         Physical Damage            1 Year   \n",
              "1  Manufacturing Defects         Physical Damage            1 Year   \n",
              "2  Manufacturing Defects         Physical Damage                 -   \n",
              "3  Manufacturing Defects         Physical Damage            1 Year   \n",
              "4  Manufacturing Defects         Physical Damage            1 Year   \n",
              "\n",
              "  Battery & Charger Display Design Activity Tracking  \n",
              "0               3.9     4.2    4.3               4.4  \n",
              "1                 -       -      -                 -  \n",
              "2               3.8     4.3    4.4               4.3  \n",
              "3               4.0     4.6    4.6               4.5  \n",
              "4                 -       -      -                 -  \n",
              "\n",
              "[5 rows x 71 columns]"
            ],
            "text/html": [
              "\n",
              "  <div id=\"df-f0762a23-470c-4625-873c-e4ae43fdf067\">\n",
              "    <div class=\"colab-df-container\">\n",
              "      <div>\n",
              "<style scoped>\n",
              "    .dataframe tbody tr th:only-of-type {\n",
              "        vertical-align: middle;\n",
              "    }\n",
              "\n",
              "    .dataframe tbody tr th {\n",
              "        vertical-align: top;\n",
              "    }\n",
              "\n",
              "    .dataframe thead th {\n",
              "        text-align: right;\n",
              "    }\n",
              "</style>\n",
              "<table border=\"1\" class=\"dataframe\">\n",
              "  <thead>\n",
              "    <tr style=\"text-align: right;\">\n",
              "      <th></th>\n",
              "      <th>Url</th>\n",
              "      <th>Brand</th>\n",
              "      <th>Current Price</th>\n",
              "      <th>Original Price</th>\n",
              "      <th>Discount Percentage</th>\n",
              "      <th>Rating</th>\n",
              "      <th>Number OF Ratings</th>\n",
              "      <th>Highlights</th>\n",
              "      <th>Number of Models</th>\n",
              "      <th>Pictures</th>\n",
              "      <th>...</th>\n",
              "      <th>Weight</th>\n",
              "      <th>Warranty Summary</th>\n",
              "      <th>Warranty Service Type</th>\n",
              "      <th>Covered in Warranty</th>\n",
              "      <th>Not Covered in Warranty</th>\n",
              "      <th>Domestic Warranty</th>\n",
              "      <th>Battery &amp; Charger</th>\n",
              "      <th>Display</th>\n",
              "      <th>Design</th>\n",
              "      <th>Activity Tracking</th>\n",
              "    </tr>\n",
              "  </thead>\n",
              "  <tbody>\n",
              "    <tr>\n",
              "      <th>0</th>\n",
              "      <td>https://www.flipkart.com/apple-watch-se-gps-2n...</td>\n",
              "      <td>apple</td>\n",
              "      <td>29650</td>\n",
              "      <td>29900</td>\n",
              "      <td>0.83612</td>\n",
              "      <td>4.5</td>\n",
              "      <td>154</td>\n",
              "      <td>[Retina LTPO OLED display, With Call Function,...</td>\n",
              "      <td>3</td>\n",
              "      <td>-</td>\n",
              "      <td>...</td>\n",
              "      <td>26.4 g</td>\n",
              "      <td>1 Year Manufacturer Warranty</td>\n",
              "      <td>Carry In</td>\n",
              "      <td>Manufacturing Defects</td>\n",
              "      <td>Physical Damage</td>\n",
              "      <td>1 Year</td>\n",
              "      <td>3.9</td>\n",
              "      <td>4.2</td>\n",
              "      <td>4.3</td>\n",
              "      <td>4.4</td>\n",
              "    </tr>\n",
              "    <tr>\n",
              "      <th>1</th>\n",
              "      <td>https://www.flipkart.com/apple-watch-se-gps-ce...</td>\n",
              "      <td>apple</td>\n",
              "      <td>37900</td>\n",
              "      <td>-</td>\n",
              "      <td>-</td>\n",
              "      <td>4.4</td>\n",
              "      <td>65</td>\n",
              "      <td>[Retina LTPO OLED display, With Call Function,...</td>\n",
              "      <td>3</td>\n",
              "      <td>-</td>\n",
              "      <td>...</td>\n",
              "      <td>33 g</td>\n",
              "      <td>1 Year Manufacturer Warranty</td>\n",
              "      <td>Carry In</td>\n",
              "      <td>Manufacturing Defects</td>\n",
              "      <td>Physical Damage</td>\n",
              "      <td>1 Year</td>\n",
              "      <td>-</td>\n",
              "      <td>-</td>\n",
              "      <td>-</td>\n",
              "      <td>-</td>\n",
              "    </tr>\n",
              "    <tr>\n",
              "      <th>2</th>\n",
              "      <td>https://www.flipkart.com/apple-watch-series-3-...</td>\n",
              "      <td>apple</td>\n",
              "      <td>23349</td>\n",
              "      <td>23900</td>\n",
              "      <td>2.305439</td>\n",
              "      <td>4.6</td>\n",
              "      <td>55800</td>\n",
              "      <td>[1-GPS, 2-Retina display, 3-Swimproof, 4-Optic...</td>\n",
              "      <td>3</td>\n",
              "      <td>-</td>\n",
              "      <td>...</td>\n",
              "      <td>-</td>\n",
              "      <td>1 Year Warranty</td>\n",
              "      <td>Carry In</td>\n",
              "      <td>Manufacturing Defects</td>\n",
              "      <td>Physical Damage</td>\n",
              "      <td>-</td>\n",
              "      <td>3.8</td>\n",
              "      <td>4.3</td>\n",
              "      <td>4.4</td>\n",
              "      <td>4.3</td>\n",
              "    </tr>\n",
              "    <tr>\n",
              "      <th>3</th>\n",
              "      <td>https://www.flipkart.com/apple-watch-se-gps-ce...</td>\n",
              "      <td>apple</td>\n",
              "      <td>33900</td>\n",
              "      <td>-</td>\n",
              "      <td>-</td>\n",
              "      <td>4.6</td>\n",
              "      <td>3440</td>\n",
              "      <td>[GPS + Cellular model lets you call, text and ...</td>\n",
              "      <td>2</td>\n",
              "      <td>-</td>\n",
              "      <td>...</td>\n",
              "      <td>30.68 g</td>\n",
              "      <td>1 Year Manufacturer Warranty</td>\n",
              "      <td>Carry In</td>\n",
              "      <td>Manufacturing Defects</td>\n",
              "      <td>Physical Damage</td>\n",
              "      <td>1 Year</td>\n",
              "      <td>4.0</td>\n",
              "      <td>4.6</td>\n",
              "      <td>4.6</td>\n",
              "      <td>4.5</td>\n",
              "    </tr>\n",
              "    <tr>\n",
              "      <th>4</th>\n",
              "      <td>https://www.flipkart.com/apple-watch-ultra-gps...</td>\n",
              "      <td>apple</td>\n",
              "      <td>89900</td>\n",
              "      <td>-</td>\n",
              "      <td>-</td>\n",
              "      <td>4.7</td>\n",
              "      <td>51</td>\n",
              "      <td>[Always-On Retina LTPO OLED display, With Call...</td>\n",
              "      <td>6</td>\n",
              "      <td>-</td>\n",
              "      <td>...</td>\n",
              "      <td>61.3 g</td>\n",
              "      <td>1 Year Manufacturer Warranty</td>\n",
              "      <td>Carry In</td>\n",
              "      <td>Manufacturing Defects</td>\n",
              "      <td>Physical Damage</td>\n",
              "      <td>1 Year</td>\n",
              "      <td>-</td>\n",
              "      <td>-</td>\n",
              "      <td>-</td>\n",
              "      <td>-</td>\n",
              "    </tr>\n",
              "  </tbody>\n",
              "</table>\n",
              "<p>5 rows × 71 columns</p>\n",
              "</div>\n",
              "      <button class=\"colab-df-convert\" onclick=\"convertToInteractive('df-f0762a23-470c-4625-873c-e4ae43fdf067')\"\n",
              "              title=\"Convert this dataframe to an interactive table.\"\n",
              "              style=\"display:none;\">\n",
              "        \n",
              "  <svg xmlns=\"http://www.w3.org/2000/svg\" height=\"24px\"viewBox=\"0 0 24 24\"\n",
              "       width=\"24px\">\n",
              "    <path d=\"M0 0h24v24H0V0z\" fill=\"none\"/>\n",
              "    <path d=\"M18.56 5.44l.94 2.06.94-2.06 2.06-.94-2.06-.94-.94-2.06-.94 2.06-2.06.94zm-11 1L8.5 8.5l.94-2.06 2.06-.94-2.06-.94L8.5 2.5l-.94 2.06-2.06.94zm10 10l.94 2.06.94-2.06 2.06-.94-2.06-.94-.94-2.06-.94 2.06-2.06.94z\"/><path d=\"M17.41 7.96l-1.37-1.37c-.4-.4-.92-.59-1.43-.59-.52 0-1.04.2-1.43.59L10.3 9.45l-7.72 7.72c-.78.78-.78 2.05 0 2.83L4 21.41c.39.39.9.59 1.41.59.51 0 1.02-.2 1.41-.59l7.78-7.78 2.81-2.81c.8-.78.8-2.07 0-2.86zM5.41 20L4 18.59l7.72-7.72 1.47 1.35L5.41 20z\"/>\n",
              "  </svg>\n",
              "      </button>\n",
              "      \n",
              "  <style>\n",
              "    .colab-df-container {\n",
              "      display:flex;\n",
              "      flex-wrap:wrap;\n",
              "      gap: 12px;\n",
              "    }\n",
              "\n",
              "    .colab-df-convert {\n",
              "      background-color: #E8F0FE;\n",
              "      border: none;\n",
              "      border-radius: 50%;\n",
              "      cursor: pointer;\n",
              "      display: none;\n",
              "      fill: #1967D2;\n",
              "      height: 32px;\n",
              "      padding: 0 0 0 0;\n",
              "      width: 32px;\n",
              "    }\n",
              "\n",
              "    .colab-df-convert:hover {\n",
              "      background-color: #E2EBFA;\n",
              "      box-shadow: 0px 1px 2px rgba(60, 64, 67, 0.3), 0px 1px 3px 1px rgba(60, 64, 67, 0.15);\n",
              "      fill: #174EA6;\n",
              "    }\n",
              "\n",
              "    [theme=dark] .colab-df-convert {\n",
              "      background-color: #3B4455;\n",
              "      fill: #D2E3FC;\n",
              "    }\n",
              "\n",
              "    [theme=dark] .colab-df-convert:hover {\n",
              "      background-color: #434B5C;\n",
              "      box-shadow: 0px 1px 3px 1px rgba(0, 0, 0, 0.15);\n",
              "      filter: drop-shadow(0px 1px 2px rgba(0, 0, 0, 0.3));\n",
              "      fill: #FFFFFF;\n",
              "    }\n",
              "  </style>\n",
              "\n",
              "      <script>\n",
              "        const buttonEl =\n",
              "          document.querySelector('#df-f0762a23-470c-4625-873c-e4ae43fdf067 button.colab-df-convert');\n",
              "        buttonEl.style.display =\n",
              "          google.colab.kernel.accessAllowed ? 'block' : 'none';\n",
              "\n",
              "        async function convertToInteractive(key) {\n",
              "          const element = document.querySelector('#df-f0762a23-470c-4625-873c-e4ae43fdf067');\n",
              "          const dataTable =\n",
              "            await google.colab.kernel.invokeFunction('convertToInteractive',\n",
              "                                                     [key], {});\n",
              "          if (!dataTable) return;\n",
              "\n",
              "          const docLinkHtml = 'Like what you see? Visit the ' +\n",
              "            '<a target=\"_blank\" href=https://colab.research.google.com/notebooks/data_table.ipynb>data table notebook</a>'\n",
              "            + ' to learn more about interactive tables.';\n",
              "          element.innerHTML = '';\n",
              "          dataTable['output_type'] = 'display_data';\n",
              "          await google.colab.output.renderOutput(dataTable, element);\n",
              "          const docLink = document.createElement('div');\n",
              "          docLink.innerHTML = docLinkHtml;\n",
              "          element.appendChild(docLink);\n",
              "        }\n",
              "      </script>\n",
              "    </div>\n",
              "  </div>\n",
              "  "
            ]
          },
          "metadata": {},
          "execution_count": 36
        }
      ],
      "source": [
        "flip.head()"
      ]
    },
    {
      "cell_type": "code",
      "source": [],
      "metadata": {
        "id": "DfkBRDiZjCki"
      },
      "execution_count": null,
      "outputs": []
    },
    {
      "cell_type": "code",
      "source": [],
      "metadata": {
        "id": "wW4pWd0YjCg-"
      },
      "execution_count": null,
      "outputs": []
    },
    {
      "cell_type": "code",
      "source": [],
      "metadata": {
        "id": "3NEIcQpejCe7"
      },
      "execution_count": null,
      "outputs": []
    },
    {
      "cell_type": "code",
      "source": [],
      "metadata": {
        "id": "utwRWQCmjCcm"
      },
      "execution_count": null,
      "outputs": []
    },
    {
      "cell_type": "markdown",
      "source": [
        "Preprocess :\n"
      ],
      "metadata": {
        "id": "UbzMlsFtzxDq"
      }
    },
    {
      "cell_type": "code",
      "source": [
        "flip = pd.read_csv('sw_flip_tableau.csv')"
      ],
      "metadata": {
        "id": "s2AQ_2zLjCXn"
      },
      "execution_count": null,
      "outputs": []
    },
    {
      "cell_type": "code",
      "execution_count": null,
      "metadata": {
        "id": "0ph4KuATfsS2"
      },
      "outputs": [],
      "source": [
        "for i in range(len(flip)):\n",
        "  try:\n",
        "    if ('hours' or 'hrs' in flip['Battery Life'][i].lower()) and ('day' not in flip['Battery Life'][i].lower()):\n",
        "      hours = int(re.findall('\\d+', flip['Battery Life'][i])[0])\n",
        "      if hours < 24:\n",
        "        flip['Battery Life'][i] = 0.75\n",
        "      elif hours == 24:\n",
        "        flip['Battery Life'][i] = 1\n",
        "      else:\n",
        "        flip['Battery Life'][i] = 3.6\n",
        "    else:\n",
        "        days = int(re.findall('\\d+', flip['Battery Life'][i])[0]) \n",
        "        if days < 1:\n",
        "          flip['Battery Life'][i] = 0.75\n",
        "        elif (days > 1) & (days < 6):\n",
        "          flip['Battery Life'][i] = 3.5\n",
        "        elif (days > 6) & (days < 11):\n",
        "          flip['Battery Life'][i] = 8\n",
        "        elif (days > 11) & (days < 16):\n",
        "          flip['Battery Life'][i] = 12.5\n",
        "        elif (days > 16) & (days < 21):\n",
        "          flip['Battery Life'][i] = 17.5\n",
        "        else:\n",
        "          flip['Battery Life'][i] = 22\n",
        "  except: \n",
        "    flip['Battery Life'][i] =np.nan"
      ]
    },
    {
      "cell_type": "code",
      "source": [
        "flip['Strap Material'].value_counts()"
      ],
      "metadata": {
        "id": "L1DFcIf3i17V"
      },
      "execution_count": null,
      "outputs": []
    },
    {
      "cell_type": "code",
      "source": [
        "flip['Dial Shape'].value_counts()"
      ],
      "metadata": {
        "colab": {
          "base_uri": "https://localhost:8080/"
        },
        "id": "tjbYBQhpj6qI",
        "outputId": "571c5789-250e-4732-e5b2-8f77a68ee358"
      },
      "execution_count": null,
      "outputs": [
        {
          "output_type": "execute_result",
          "data": {
            "text/plain": [
              "Circle          131\n",
              "Square          101\n",
              "Rectangle        87\n",
              "Curved            6\n",
              "Contemporary      1\n",
              "-                 1\n",
              "Oval              1\n",
              "Name: Dial Shape, dtype: int64"
            ]
          },
          "metadata": {},
          "execution_count": 33
        }
      ]
    },
    {
      "cell_type": "code",
      "source": [
        "flip['Water Resistance Depth'].value_counts()"
      ],
      "metadata": {
        "colab": {
          "base_uri": "https://localhost:8080/"
        },
        "id": "kH9iaUNxmwDY",
        "outputId": "1d8ef3c7-f971-4171-9581-35640732c73f"
      },
      "execution_count": null,
      "outputs": [
        {
          "output_type": "execute_result",
          "data": {
            "text/plain": [
              "-           126\n",
              "50 m        120\n",
              "1.5 m        22\n",
              "1 m          14\n",
              "5 m          13\n",
              "30 m          9\n",
              "10 m          5\n",
              "2 m           5\n",
              "100 m         4\n",
              "52 m          4\n",
              "51.67 m       2\n",
              "10000 mm      1\n",
              "50000 mm      1\n",
              "50 mm         1\n",
              "31 m          1\n",
              "Name: Water Resistance Depth, dtype: int64"
            ]
          },
          "metadata": {},
          "execution_count": 34
        }
      ]
    },
    {
      "cell_type": "code",
      "source": [
        "flip['Internal Memory'].value_counts()"
      ],
      "metadata": {
        "colab": {
          "base_uri": "https://localhost:8080/"
        },
        "id": "hbwJyDiZnSyJ",
        "outputId": "711682e3-7d32-4d39-98e8-b836324235a8"
      },
      "execution_count": null,
      "outputs": [
        {
          "output_type": "execute_result",
          "data": {
            "text/plain": [
              "-        251\n",
              "4 GB      32\n",
              "32 GB     25\n",
              "16 GB     14\n",
              "8 GB       6\n",
              "Name: Internal Memory, dtype: int64"
            ]
          },
          "metadata": {},
          "execution_count": 35
        }
      ]
    },
    {
      "cell_type": "code",
      "source": [
        "flip['Bluetooth Version'].value_counts()"
      ],
      "metadata": {
        "colab": {
          "base_uri": "https://localhost:8080/"
        },
        "id": "ye8cTla1nb2L",
        "outputId": "b580ef47-58b4-4fe3-bc08-507176d01d6f"
      },
      "execution_count": null,
      "outputs": [
        {
          "output_type": "execute_result",
          "data": {
            "text/plain": [
              "-                                                               126\n",
              "v5.0                                                             80\n",
              "v4.2                                                             21\n",
              "v5.1                                                             17\n",
              "v5.2                                                             11\n",
              "5                                                                 9\n",
              "5.0                                                               7\n",
              "v4.1                                                              7\n",
              "v4.0                                                              6\n",
              "v5                                                                4\n",
              "5.1                                                               4\n",
              "Bluetooth Smart Enabled / 4.1 Low Energy                          4\n",
              "Bluetooth Smart Enabled / 4.2 Low Energy                          3\n",
              "v5.0+v3.0                                                         3\n",
              "v5.3                                                              3\n",
              "V5.0                                                              3\n",
              "v5.0 + 3.0                                                        2\n",
              "Advance BT 5.0                                                    2\n",
              "V4.0                                                              2\n",
              "v3.0                                                              2\n",
              "'v5.0                                                             1\n",
              "v5.0 + v3.0                                                       1\n",
              "Advance BT V5.0                                                   1\n",
              "Bluetooth 5.0 LE, GPS, NFC SE, WiFi                               1\n",
              "3.0                                                               1\n",
              "4.1                                                               1\n",
              "Bluetooth Smart Enabled / 4.2 Low Energy, Wi-Fi 802.11 b/g/n      1\n",
              "4 BLE                                                             1\n",
              "5.2                                                               1\n",
              "Bluetoth 5.0 BLE                                                  1\n",
              "BLE V5.1                                                          1\n",
              "Bluetooth Version 5.0 and above.                                  1\n",
              "Name: Bluetooth Version, dtype: int64"
            ]
          },
          "metadata": {},
          "execution_count": 36
        }
      ]
    },
    {
      "cell_type": "code",
      "source": [
        "bt = ['5.0','5.1', '5.2', '4.0', '4.1', '4.2', '5.3', '3.0']\n",
        "for i in range(len(flip)):\n",
        "  try:\n",
        "    if re.findall('\\d.\\d', flip['Bluetooth Version'][i])[0] in bt:\n",
        "        flip['Bluetooth Version'][i] = 'v' + str(re.findall('\\d.\\d', flip['Bluetooth Version'][i])[0])\n",
        "  except:\n",
        "    flip['Bluetooth Version'][i] = 'v5.0'\n",
        "flip['Bluetooth Version'].value_counts()"
      ],
      "metadata": {
        "colab": {
          "base_uri": "https://localhost:8080/"
        },
        "id": "xs47RAWJwXp_",
        "outputId": "377958fb-4727-4270-ea98-7dcb3291833b"
      },
      "execution_count": null,
      "outputs": [
        {
          "output_type": "execute_result",
          "data": {
            "text/plain": [
              "v5.0    243\n",
              "v4.2     25\n",
              "v5.1     22\n",
              "v5.2     12\n",
              "v4.1     12\n",
              "v4.0      8\n",
              "v5.3      3\n",
              "v3.0      3\n",
              "Name: Bluetooth Version, dtype: int64"
            ]
          },
          "metadata": {},
          "execution_count": 37
        }
      ]
    },
    {
      "cell_type": "code",
      "source": [
        "flip['Size'].value_counts()"
      ],
      "metadata": {
        "colab": {
          "base_uri": "https://localhost:8080/"
        },
        "id": "Cxj-whfYmblI",
        "outputId": "616e9d5f-b30f-4466-b532-2d676525bdae"
      },
      "execution_count": null,
      "outputs": [
        {
          "output_type": "execute_result",
          "data": {
            "text/plain": [
              "Regular                          135\n",
              "Free Size                         82\n",
              "M                                 25\n",
              "FREE SIZE                          8\n",
              "Free size                          7\n",
              "1.69                               5\n",
              "L                                  4\n",
              "1.32(34mm)                         3\n",
              "1.8'' DISPLAY                      2\n",
              "1.6'' DISPLAY                      2\n",
              "1.69 inches                        2\n",
              "25                                 2\n",
              "REGULAR                            2\n",
              "m                                  2\n",
              "HD LARGE SCREEN                    2\n",
              "1.7                                2\n",
              "Small                              2\n",
              "S,L                                2\n",
              "free size                          1\n",
              "1.39 DISPLAY SIZE                  1\n",
              "4.4 x 3.6 x 0.9 cm                 1\n",
              "1.3(33mm)                          1\n",
              "1.78 display                       1\n",
              "1.69'' DISPLAY                     1\n",
              "1.3 DISPLAY                        1\n",
              "1.7 inches                         1\n",
              "1.4 inches                         1\n",
              "1.8 DISPLAY                        1\n",
              "1.32 inches                        1\n",
              "1.5 inches                         1\n",
              "35mm(1.4inches)                    1\n",
              "43mm(1.7 HD DISPLAY)               1\n",
              "1.83'' LARGE DISPLAY               1\n",
              "1.69(43mm)                         1\n",
              "40mm                               1\n",
              "1.5'' DISPLAY                      1\n",
              "?4.5 x 3.8 x 1.1 cm; 40 Grams      1\n",
              "Large                              1\n",
              "Small|Large                        1\n",
              "s,l                                1\n",
              "32                                 1\n",
              "3                                  1\n",
              "l,m,                               1\n",
              "-                                  1\n",
              "Standard Freesize                  1\n",
              "S                                  1\n",
              "Medium                             1\n",
              "1.75                               1\n",
              "Free                               1\n",
              "1.7 inch                           1\n",
              "1.85                               1\n",
              "4.5                                1\n",
              "44mm                               1\n",
              "4.3                                1\n",
              "3.3                                1\n",
              "4.57                               1\n",
              "size Free size                     1\n",
              "Name: Size, dtype: int64"
            ]
          },
          "metadata": {},
          "execution_count": 38
        }
      ]
    },
    {
      "cell_type": "code",
      "source": [
        "for i in range(len(flip)):\n",
        "  flip['Display Resolution'][i] = ' '.join(flip['Display Resolution'][i].split(' ')[:-1]) + ' pixels'\n",
        "flip['Display Resolution'].value_counts()"
      ],
      "metadata": {
        "colab": {
          "base_uri": "https://localhost:8080/"
        },
        "id": "v0JCdbJxyWXo",
        "outputId": "26353ee9-0ab2-4662-8e5b-566eea7d8ab1"
      },
      "execution_count": null,
      "outputs": [
        {
          "output_type": "execute_result",
          "data": {
            "text/plain": [
              "240 x 240 pixels           27\n",
              "360 x 360 pixels           19\n",
              "240 x 280 pixels           18\n",
              "454 x 454 pixels           17\n",
              "240*280 pixels             16\n",
              "                           ..\n",
              "72 x 154 pixels             1\n",
              "416 x 416 pixels pixels     1\n",
              "280 x 456 pixels            1\n",
              "320 x 390 pixels            1\n",
              "454*454 pixels              1\n",
              "Name: Display Resolution, Length: 93, dtype: int64"
            ]
          },
          "metadata": {},
          "execution_count": 39
        }
      ]
    },
    {
      "cell_type": "code",
      "source": [
        "for i in range(len(flip)):\n",
        "  try:\n",
        "    if 'mm' in flip['Display Size'][i].lower():\n",
        "      flip['Display Size'][i] = str(round(float(flip['Display Size'][i].split(' ')[0]) * 0.0393701, 1)) + ' inches'\n",
        "    else:\n",
        "      flip['Display Size'][i] = str(round(float(flip['Display Size'][i].split(' ')[0]), 1)) + ' inches'\n",
        "  except:\n",
        "    flip['Display Size'][i] = ' - '"
      ],
      "metadata": {
        "id": "1cS99Fof3PH6"
      },
      "execution_count": null,
      "outputs": []
    },
    {
      "cell_type": "code",
      "source": [
        "flip['Display Size'].value_counts()"
      ],
      "metadata": {
        "colab": {
          "base_uri": "https://localhost:8080/"
        },
        "id": "QL4HDLuA3-d-",
        "outputId": "1d00dd63-22e9-48f9-ce73-93f126ef66aa"
      },
      "execution_count": null,
      "outputs": [
        {
          "output_type": "execute_result",
          "data": {
            "text/plain": [
              "1.3 inches     49\n",
              "1.8 inches     44\n",
              "1.7 inches     44\n",
              "0.1 inches     36\n",
              "1.4 inches     34\n",
              "1.6 inches     28\n",
              "1.2 inches     19\n",
              "1.9 inches     15\n",
              "0.2 inches      7\n",
              "1.5 inches      6\n",
              "0.9 inches      6\n",
              "1.1 inches      6\n",
              "1.0 inches      4\n",
              " -              3\n",
              "4.3 inches      3\n",
              "0.8 inches      2\n",
              "20.0 inches     2\n",
              "3.3 inches      2\n",
              "2.7 inches      2\n",
              "0.0 inches      1\n",
              "2.3 inches      1\n",
              "6.9 inches      1\n",
              "3.5 inches      1\n",
              "2.1 inches      1\n",
              "33.0 inches     1\n",
              "2.0 inches      1\n",
              "45.0 inches     1\n",
              "4.2 inches      1\n",
              "18.5 inches     1\n",
              "27.9 inches     1\n",
              "3.0 inches      1\n",
              "15.9 inches     1\n",
              "0.6 inches      1\n",
              "4.0 inches      1\n",
              "2.4 inches      1\n",
              "Name: Display Size, dtype: int64"
            ]
          },
          "metadata": {},
          "execution_count": 41
        }
      ]
    },
    {
      "cell_type": "code",
      "source": [
        "for i in range(len(flip)):\n",
        "  try:\n",
        "    w = float(flip['Width'][i].split(' ')[0])\n",
        "    if (w < 41):\n",
        "      flip['Width'][i] = '30 - 40 mm'\n",
        "    elif (w > 40) & (w < 50):\n",
        "      flip['Width'][i] = '40 - 50 mm'\n",
        "    elif (w > 50) & (w < 100):\n",
        "      flip['Width'][i] = '50 - 100 mm'\n",
        "    elif (w > 100) & (w < 200):\n",
        "      flip['Width'][i] = '100 - 200 mm'\n",
        "    else:\n",
        "      flip['Width'][i] = '200+ mm'\n",
        "  except:\n",
        "    flip['Width'][i] = ' - '"
      ],
      "metadata": {
        "id": "IiLsaDOD5Z2a"
      },
      "execution_count": null,
      "outputs": []
    },
    {
      "cell_type": "code",
      "source": [
        "flip['Width'].value_counts()"
      ],
      "metadata": {
        "colab": {
          "base_uri": "https://localhost:8080/"
        },
        "id": "qUk5GUlZ4cKf",
        "outputId": "c8515edf-2fc9-42e3-88f1-6e5974ad7de8"
      },
      "execution_count": null,
      "outputs": [
        {
          "output_type": "execute_result",
          "data": {
            "text/plain": [
              " -             214\n",
              "30 - 40 mm      52\n",
              "40 - 50 mm      44\n",
              "200+ mm         14\n",
              "50 - 100 mm      4\n",
              "Name: Width, dtype: int64"
            ]
          },
          "metadata": {},
          "execution_count": 43
        }
      ]
    },
    {
      "cell_type": "code",
      "source": [
        "for i in range(len(flip)):\n",
        "  try:\n",
        "    w = float(flip['Weight'][i].split(' ')[0])\n",
        "    if (w <= 20):\n",
        "      flip['Weight'][i] = '<= 20 g'\n",
        "    elif (w > 20) & (w < 36):\n",
        "      flip['Weight'][i] = '20 - 35 g'\n",
        "    elif (w > 35) & (w < 50):\n",
        "      flip['Weight'][i] = '35 - 50 g'\n",
        "    elif (w > 50) & (w < 75):\n",
        "      flip['Weight'][i] = '50 - 75 g'\n",
        "    else:\n",
        "      flip['Weight'][i] = '75g +'\n",
        "  except:\n",
        "    flip['Weight'][i] = ' - '"
      ],
      "metadata": {
        "id": "rVF6wqtq96Rw"
      },
      "execution_count": null,
      "outputs": []
    },
    {
      "cell_type": "code",
      "source": [
        "flip['Weight'].value_counts()"
      ],
      "metadata": {
        "colab": {
          "base_uri": "https://localhost:8080/"
        },
        "id": "paPLO8O9-T4b",
        "outputId": "cb0ed159-dad4-42d5-9900-b3e3c9e34287"
      },
      "execution_count": null,
      "outputs": [
        {
          "output_type": "execute_result",
          "data": {
            "text/plain": [
              " -           161\n",
              "35 - 50 g     70\n",
              "20 - 35 g     38\n",
              "50 - 75 g     35\n",
              "75g +         20\n",
              "<= 20 g        4\n",
              "Name: Weight, dtype: int64"
            ]
          },
          "metadata": {},
          "execution_count": 45
        }
      ]
    },
    {
      "cell_type": "code",
      "source": [
        "for col in flip.columns:\n",
        "  for i in range(len(flip)):\n",
        "    try:\n",
        "      if flip[col][i].strip() == '-':\n",
        "        flip[col][i] = np.nan\n",
        "    except:\n",
        "      pass"
      ],
      "metadata": {
        "id": "7DjxPeec2ZD2"
      },
      "execution_count": null,
      "outputs": []
    },
    {
      "cell_type": "code",
      "source": [
        "flip.to_csv('flip_final.csv')"
      ],
      "metadata": {
        "id": "6psLRzwR_7B0"
      },
      "execution_count": null,
      "outputs": []
    },
    {
      "cell_type": "code",
      "source": [
        "for i in range(len(flip)):\n",
        "  try:\n",
        "    flip['Original Price'][i] = int(flip['Original Price'][i])\n",
        "  except:\n",
        "    flip['Original Price'][i] = \n",
        "  flip['Current Price'][i] = int(flip['Current Price'][i])\n",
        "  flip['Rating'][i] = int(flip['Rating'][i])\n",
        "  try:\n",
        "    flip['Number OF Ratings'][i] = int(re.sub(',', '', flip['Number OF Ratings'][i]))\n",
        "  except:\n",
        "    flip['Number OF Ratings'][i] = np.nan"
      ],
      "metadata": {
        "colab": {
          "base_uri": "https://localhost:8080/",
          "height": 235
        },
        "id": "j2jYafSbNnca",
        "outputId": "3384d20a-fed5-48f7-db0b-fb43b9fca834"
      },
      "execution_count": null,
      "outputs": [
        {
          "output_type": "error",
          "ename": "ValueError",
          "evalue": "ignored",
          "traceback": [
            "\u001b[0;31m---------------------------------------------------------------------------\u001b[0m",
            "\u001b[0;31mValueError\u001b[0m                                Traceback (most recent call last)",
            "\u001b[0;32m<ipython-input-63-39e509c3af49>\u001b[0m in \u001b[0;36m<module>\u001b[0;34m\u001b[0m\n\u001b[1;32m      1\u001b[0m \u001b[0;32mfor\u001b[0m \u001b[0mi\u001b[0m \u001b[0;32min\u001b[0m \u001b[0mrange\u001b[0m\u001b[0;34m(\u001b[0m\u001b[0mlen\u001b[0m\u001b[0;34m(\u001b[0m\u001b[0mflip\u001b[0m\u001b[0;34m)\u001b[0m\u001b[0;34m)\u001b[0m\u001b[0;34m:\u001b[0m\u001b[0;34m\u001b[0m\u001b[0;34m\u001b[0m\u001b[0m\n\u001b[0;32m----> 2\u001b[0;31m   \u001b[0mflip\u001b[0m\u001b[0;34m[\u001b[0m\u001b[0;34m'Original Price'\u001b[0m\u001b[0;34m]\u001b[0m\u001b[0;34m[\u001b[0m\u001b[0mi\u001b[0m\u001b[0;34m]\u001b[0m \u001b[0;34m=\u001b[0m \u001b[0mint\u001b[0m\u001b[0;34m(\u001b[0m\u001b[0mflip\u001b[0m\u001b[0;34m[\u001b[0m\u001b[0;34m'Original Price'\u001b[0m\u001b[0;34m]\u001b[0m\u001b[0;34m[\u001b[0m\u001b[0mi\u001b[0m\u001b[0;34m]\u001b[0m\u001b[0;34m)\u001b[0m\u001b[0;34m\u001b[0m\u001b[0;34m\u001b[0m\u001b[0m\n\u001b[0m\u001b[1;32m      3\u001b[0m   \u001b[0mflip\u001b[0m\u001b[0;34m[\u001b[0m\u001b[0;34m'Current Price'\u001b[0m\u001b[0;34m]\u001b[0m\u001b[0;34m[\u001b[0m\u001b[0mi\u001b[0m\u001b[0;34m]\u001b[0m \u001b[0;34m=\u001b[0m \u001b[0mint\u001b[0m\u001b[0;34m(\u001b[0m\u001b[0mflip\u001b[0m\u001b[0;34m[\u001b[0m\u001b[0;34m'Current Price'\u001b[0m\u001b[0;34m]\u001b[0m\u001b[0;34m[\u001b[0m\u001b[0mi\u001b[0m\u001b[0;34m]\u001b[0m\u001b[0;34m)\u001b[0m\u001b[0;34m\u001b[0m\u001b[0;34m\u001b[0m\u001b[0m\n\u001b[1;32m      4\u001b[0m   \u001b[0mflip\u001b[0m\u001b[0;34m[\u001b[0m\u001b[0;34m'Rating'\u001b[0m\u001b[0;34m]\u001b[0m\u001b[0;34m[\u001b[0m\u001b[0mi\u001b[0m\u001b[0;34m]\u001b[0m \u001b[0;34m=\u001b[0m \u001b[0mint\u001b[0m\u001b[0;34m(\u001b[0m\u001b[0mflip\u001b[0m\u001b[0;34m[\u001b[0m\u001b[0;34m'Rating'\u001b[0m\u001b[0;34m]\u001b[0m\u001b[0;34m[\u001b[0m\u001b[0mi\u001b[0m\u001b[0;34m]\u001b[0m\u001b[0;34m)\u001b[0m\u001b[0;34m\u001b[0m\u001b[0;34m\u001b[0m\u001b[0m\n\u001b[1;32m      5\u001b[0m   \u001b[0;32mtry\u001b[0m\u001b[0;34m:\u001b[0m\u001b[0;34m\u001b[0m\u001b[0;34m\u001b[0m\u001b[0m\n",
            "\u001b[0;31mValueError\u001b[0m: cannot convert float NaN to integer"
          ]
        }
      ]
    },
    {
      "cell_type": "code",
      "source": [
        "flip = flip.drop('Unnamed: 0', axis = 1)\n",
        "flip.reset_index(drop = True, inplace = True)"
      ],
      "metadata": {
        "id": "c8idG8sJOjG7"
      },
      "execution_count": null,
      "outputs": []
    },
    {
      "cell_type": "code",
      "source": [
        "flip.info()"
      ],
      "metadata": {
        "id": "-iCX_lzDQ75A"
      },
      "execution_count": null,
      "outputs": []
    },
    {
      "cell_type": "code",
      "source": [
        "flip['Original Price'] = flip['Original Price'].astype(np.float64)\n",
        "flip['Current Price'] = flip['Current Price'].astype(np.float64)\n",
        "flip['Rating'] = flip['Rating'].astype(np.float64)\n",
        "flip['Number OF Ratings'] = flip['Number OF Ratings'].astype(np.float64)\n",
        "flip['Battery Life'] = flip['Battery Life'].astype(np.float64)"
      ],
      "metadata": {
        "id": "sX34nauLRBbO"
      },
      "execution_count": null,
      "outputs": []
    },
    {
      "cell_type": "code",
      "source": [
        "flip.corr()"
      ],
      "metadata": {
        "colab": {
          "base_uri": "https://localhost:8080/",
          "height": 206
        },
        "id": "tOxadyDdRfjs",
        "outputId": "a269fa98-e298-44da-be2f-755df29478f4"
      },
      "execution_count": null,
      "outputs": [
        {
          "output_type": "execute_result",
          "data": {
            "text/plain": [
              "                   Current Price  Original Price    Rating  Number OF Ratings  \\\n",
              "Current Price           1.000000        0.974829  0.411232          -0.192872   \n",
              "Original Price          0.974829        1.000000  0.343435          -0.150065   \n",
              "Rating                  0.411232        0.343435  1.000000           0.108265   \n",
              "Number OF Ratings      -0.192872       -0.150065  0.108265           1.000000   \n",
              "Battery Life           -0.100583       -0.249195 -0.132609           0.024563   \n",
              "\n",
              "                   Battery Life  \n",
              "Current Price         -0.100583  \n",
              "Original Price        -0.249195  \n",
              "Rating                -0.132609  \n",
              "Number OF Ratings      0.024563  \n",
              "Battery Life           1.000000  "
            ],
            "text/html": [
              "\n",
              "  <div id=\"df-9783be52-a0b2-4278-8237-3826a72b877b\">\n",
              "    <div class=\"colab-df-container\">\n",
              "      <div>\n",
              "<style scoped>\n",
              "    .dataframe tbody tr th:only-of-type {\n",
              "        vertical-align: middle;\n",
              "    }\n",
              "\n",
              "    .dataframe tbody tr th {\n",
              "        vertical-align: top;\n",
              "    }\n",
              "\n",
              "    .dataframe thead th {\n",
              "        text-align: right;\n",
              "    }\n",
              "</style>\n",
              "<table border=\"1\" class=\"dataframe\">\n",
              "  <thead>\n",
              "    <tr style=\"text-align: right;\">\n",
              "      <th></th>\n",
              "      <th>Current Price</th>\n",
              "      <th>Original Price</th>\n",
              "      <th>Rating</th>\n",
              "      <th>Number OF Ratings</th>\n",
              "      <th>Battery Life</th>\n",
              "    </tr>\n",
              "  </thead>\n",
              "  <tbody>\n",
              "    <tr>\n",
              "      <th>Current Price</th>\n",
              "      <td>1.000000</td>\n",
              "      <td>0.974829</td>\n",
              "      <td>0.411232</td>\n",
              "      <td>-0.192872</td>\n",
              "      <td>-0.100583</td>\n",
              "    </tr>\n",
              "    <tr>\n",
              "      <th>Original Price</th>\n",
              "      <td>0.974829</td>\n",
              "      <td>1.000000</td>\n",
              "      <td>0.343435</td>\n",
              "      <td>-0.150065</td>\n",
              "      <td>-0.249195</td>\n",
              "    </tr>\n",
              "    <tr>\n",
              "      <th>Rating</th>\n",
              "      <td>0.411232</td>\n",
              "      <td>0.343435</td>\n",
              "      <td>1.000000</td>\n",
              "      <td>0.108265</td>\n",
              "      <td>-0.132609</td>\n",
              "    </tr>\n",
              "    <tr>\n",
              "      <th>Number OF Ratings</th>\n",
              "      <td>-0.192872</td>\n",
              "      <td>-0.150065</td>\n",
              "      <td>0.108265</td>\n",
              "      <td>1.000000</td>\n",
              "      <td>0.024563</td>\n",
              "    </tr>\n",
              "    <tr>\n",
              "      <th>Battery Life</th>\n",
              "      <td>-0.100583</td>\n",
              "      <td>-0.249195</td>\n",
              "      <td>-0.132609</td>\n",
              "      <td>0.024563</td>\n",
              "      <td>1.000000</td>\n",
              "    </tr>\n",
              "  </tbody>\n",
              "</table>\n",
              "</div>\n",
              "      <button class=\"colab-df-convert\" onclick=\"convertToInteractive('df-9783be52-a0b2-4278-8237-3826a72b877b')\"\n",
              "              title=\"Convert this dataframe to an interactive table.\"\n",
              "              style=\"display:none;\">\n",
              "        \n",
              "  <svg xmlns=\"http://www.w3.org/2000/svg\" height=\"24px\"viewBox=\"0 0 24 24\"\n",
              "       width=\"24px\">\n",
              "    <path d=\"M0 0h24v24H0V0z\" fill=\"none\"/>\n",
              "    <path d=\"M18.56 5.44l.94 2.06.94-2.06 2.06-.94-2.06-.94-.94-2.06-.94 2.06-2.06.94zm-11 1L8.5 8.5l.94-2.06 2.06-.94-2.06-.94L8.5 2.5l-.94 2.06-2.06.94zm10 10l.94 2.06.94-2.06 2.06-.94-2.06-.94-.94-2.06-.94 2.06-2.06.94z\"/><path d=\"M17.41 7.96l-1.37-1.37c-.4-.4-.92-.59-1.43-.59-.52 0-1.04.2-1.43.59L10.3 9.45l-7.72 7.72c-.78.78-.78 2.05 0 2.83L4 21.41c.39.39.9.59 1.41.59.51 0 1.02-.2 1.41-.59l7.78-7.78 2.81-2.81c.8-.78.8-2.07 0-2.86zM5.41 20L4 18.59l7.72-7.72 1.47 1.35L5.41 20z\"/>\n",
              "  </svg>\n",
              "      </button>\n",
              "      \n",
              "  <style>\n",
              "    .colab-df-container {\n",
              "      display:flex;\n",
              "      flex-wrap:wrap;\n",
              "      gap: 12px;\n",
              "    }\n",
              "\n",
              "    .colab-df-convert {\n",
              "      background-color: #E8F0FE;\n",
              "      border: none;\n",
              "      border-radius: 50%;\n",
              "      cursor: pointer;\n",
              "      display: none;\n",
              "      fill: #1967D2;\n",
              "      height: 32px;\n",
              "      padding: 0 0 0 0;\n",
              "      width: 32px;\n",
              "    }\n",
              "\n",
              "    .colab-df-convert:hover {\n",
              "      background-color: #E2EBFA;\n",
              "      box-shadow: 0px 1px 2px rgba(60, 64, 67, 0.3), 0px 1px 3px 1px rgba(60, 64, 67, 0.15);\n",
              "      fill: #174EA6;\n",
              "    }\n",
              "\n",
              "    [theme=dark] .colab-df-convert {\n",
              "      background-color: #3B4455;\n",
              "      fill: #D2E3FC;\n",
              "    }\n",
              "\n",
              "    [theme=dark] .colab-df-convert:hover {\n",
              "      background-color: #434B5C;\n",
              "      box-shadow: 0px 1px 3px 1px rgba(0, 0, 0, 0.15);\n",
              "      filter: drop-shadow(0px 1px 2px rgba(0, 0, 0, 0.3));\n",
              "      fill: #FFFFFF;\n",
              "    }\n",
              "  </style>\n",
              "\n",
              "      <script>\n",
              "        const buttonEl =\n",
              "          document.querySelector('#df-9783be52-a0b2-4278-8237-3826a72b877b button.colab-df-convert');\n",
              "        buttonEl.style.display =\n",
              "          google.colab.kernel.accessAllowed ? 'block' : 'none';\n",
              "\n",
              "        async function convertToInteractive(key) {\n",
              "          const element = document.querySelector('#df-9783be52-a0b2-4278-8237-3826a72b877b');\n",
              "          const dataTable =\n",
              "            await google.colab.kernel.invokeFunction('convertToInteractive',\n",
              "                                                     [key], {});\n",
              "          if (!dataTable) return;\n",
              "\n",
              "          const docLinkHtml = 'Like what you see? Visit the ' +\n",
              "            '<a target=\"_blank\" href=https://colab.research.google.com/notebooks/data_table.ipynb>data table notebook</a>'\n",
              "            + ' to learn more about interactive tables.';\n",
              "          element.innerHTML = '';\n",
              "          dataTable['output_type'] = 'display_data';\n",
              "          await google.colab.output.renderOutput(dataTable, element);\n",
              "          const docLink = document.createElement('div');\n",
              "          docLink.innerHTML = docLinkHtml;\n",
              "          element.appendChild(docLink);\n",
              "        }\n",
              "      </script>\n",
              "    </div>\n",
              "  </div>\n",
              "  "
            ]
          },
          "metadata": {},
          "execution_count": 77
        }
      ]
    },
    {
      "cell_type": "code",
      "source": [
        "import seaborn as sns\n",
        "def corrplot(col):\n",
        "  df = flip[['Current Price', col]]\n",
        "  df = pd.get_dummies(df)\n",
        "  sns.heatmap(df.corr(), cmap = \"YlGnBu\", annot = True)\n",
        "  print(sorted(df.corr()['Current Price'][1:]))"
      ],
      "metadata": {
        "id": "fikgOaHaR9ER"
      },
      "execution_count": null,
      "outputs": []
    },
    {
      "cell_type": "code",
      "source": [
        "corrplot('Dial Shape')"
      ],
      "metadata": {
        "colab": {
          "base_uri": "https://localhost:8080/",
          "height": 390
        },
        "id": "vtqbGq-MU7R1",
        "outputId": "54828fbb-0615-44a0-e05d-0c12ee14c9db"
      },
      "execution_count": null,
      "outputs": [
        {
          "output_type": "display_data",
          "data": {
            "text/plain": [
              "<Figure size 432x288 with 2 Axes>"
            ],
            "image/png": "[encoded data removed]"
          },
          "metadata": {
            "needs_background": "light"
          }
        }
      ]
    },
    {
      "cell_type": "markdown",
      "source": [
        "Circle followed by Rectangle"
      ],
      "metadata": {
        "id": "B4W4FtAaiO6q"
      }
    },
    {
      "cell_type": "code",
      "source": [
        "corrplot('Strap Material')"
      ],
      "metadata": {
        "colab": {
          "base_uri": "https://localhost:8080/",
          "height": 477
        },
        "id": "LaVrdAiziHbA",
        "outputId": "0aafec0b-7626-4f88-8515-640d683c3257"
      },
      "execution_count": null,
      "outputs": [
        {
          "output_type": "display_data",
          "data": {
            "text/plain": [
              "<Figure size 432x288 with 2 Axes>"
            ],
            "image/png": "[encoded data removed]"
          },
          "metadata": {
            "needs_background": "light"
          }
        }
      ]
    },
    {
      "cell_type": "markdown",
      "source": [
        "Aluminium"
      ],
      "metadata": {
        "id": "WUQVClakiad-"
      }
    },
    {
      "cell_type": "code",
      "source": [
        "corrplot('Internal Memory')"
      ],
      "metadata": {
        "colab": {
          "base_uri": "https://localhost:8080/",
          "height": 377
        },
        "id": "dTf6Nq0iiV87",
        "outputId": "ab17d618-11c1-420f-8000-076e08ace6f6"
      },
      "execution_count": null,
      "outputs": [
        {
          "output_type": "display_data",
          "data": {
            "text/plain": [
              "<Figure size 432x288 with 2 Axes>"
            ],
            "image/png": "[encoded data removed]"
          },
          "metadata": {
            "needs_background": "light"
          }
        }
      ]
    },
    {
      "cell_type": "markdown",
      "source": [
        "32 GB"
      ],
      "metadata": {
        "id": "saOplMqrjCmL"
      }
    },
    {
      "cell_type": "code",
      "source": [
        "corrplot('Bluetooth Version')"
      ],
      "metadata": {
        "colab": {
          "base_uri": "https://localhost:8080/",
          "height": 375
        },
        "id": "F91hnb4MjFt6",
        "outputId": "9edc84ad-c57d-447f-e513-4ae747ab8383"
      },
      "execution_count": null,
      "outputs": [
        {
          "output_type": "display_data",
          "data": {
            "text/plain": [
              "<Figure size 432x288 with 2 Axes>"
            ],
            "image/png": "[encoded data removed]"
          },
          "metadata": {
            "needs_background": "light"
          }
        }
      ]
    },
    {
      "cell_type": "markdown",
      "source": [
        "5.3 followed by 5.2"
      ],
      "metadata": {
        "id": "PJMetha-jOGN"
      }
    },
    {
      "cell_type": "code",
      "source": [
        "df = flip[['Current Price', 'Display Size']]\n",
        "df = pd.get_dummies(df)\n",
        "sns.heatmap(df.corr(), cmap = \"YlGnBu\", annot = True)\n",
        "print(sorted(df.corr()['Current Price'][1:]))"
      ],
      "metadata": {
        "id": "JwuewUA3jU7U"
      },
      "execution_count": null,
      "outputs": []
    },
    {
      "cell_type": "markdown",
      "source": [
        "1.6 inches"
      ],
      "metadata": {
        "id": "Cl3FQGkKk_qs"
      }
    },
    {
      "cell_type": "code",
      "source": [
        "corrplot('Width')"
      ],
      "metadata": {
        "colab": {
          "base_uri": "https://localhost:8080/",
          "height": 374
        },
        "id": "246eO1QgkhMz",
        "outputId": "2b4b6b97-52e8-42e4-aaf7-18bd16ee17fe"
      },
      "execution_count": null,
      "outputs": [
        {
          "output_type": "stream",
          "name": "stdout",
          "text": [
            "[-0.1306563239894932, -0.049050848443637565, 0.025296175381582305, 0.06325035862086587]\n"
          ]
        },
        {
          "output_type": "display_data",
          "data": {
            "text/plain": [
              "<Figure size 432x288 with 2 Axes>"
            ],
            "image/png": "[encoded data removed]"
          },
          "metadata": {
            "needs_background": "light"
          }
        }
      ]
    },
    {
      "cell_type": "markdown",
      "source": [
        "40-50 mm"
      ],
      "metadata": {
        "id": "PutIYYErlIv_"
      }
    },
    {
      "cell_type": "code",
      "source": [
        "df = flip[['Current Price', 'Thickness']]\n",
        "df = pd.get_dummies(df)\n",
        "#sns.heatmap(df.corr(), cmap = \"YlGnBu\", annot = True)\n",
        "df.corr()"
      ],
      "metadata": {
        "id": "KzRz_SGalKPx"
      },
      "execution_count": null,
      "outputs": []
    },
    {
      "cell_type": "markdown",
      "source": [
        "Thickness : 14.4 mm"
      ],
      "metadata": {
        "id": "lL7IQreklpiy"
      }
    },
    {
      "cell_type": "code",
      "source": [
        "corrplot('Weight')"
      ],
      "metadata": {
        "colab": {
          "base_uri": "https://localhost:8080/",
          "height": 361
        },
        "id": "QDN4mKE3lrWx",
        "outputId": "0faa47a8-1ae9-479c-df85-51758026d1ce"
      },
      "execution_count": null,
      "outputs": [
        {
          "output_type": "stream",
          "name": "stdout",
          "text": [
            "[-0.052807417350727984, -0.008819634400087381, 0.018273857781669085, 0.07653801237763352, 0.16509755241239496]\n"
          ]
        },
        {
          "output_type": "display_data",
          "data": {
            "text/plain": [
              "<Figure size 432x288 with 2 Axes>"
            ],
            "image/png": "[encoded data removed]"
          },
          "metadata": {
            "needs_background": "light"
          }
        }
      ]
    },
    {
      "cell_type": "markdown",
      "source": [
        "Weight : 20 - 35g\n",
        "\n",
        "Thickness : 14.4 mm\n",
        "\n",
        "Width : 40-50 mm\n",
        "\n",
        "Display Size : 1.6 inches\n",
        "\n",
        "Bluetooth Version : 5.3 / 5.2\n",
        "\n",
        "Internal Memory : 32 GB\n",
        "\n",
        "Strap Material : Aluminium\n",
        "\n",
        "Dial Shape : Circle followed by Rectangle"
      ],
      "metadata": {
        "id": "2T3FPdvAlwip"
      }
    },
    {
      "cell_type": "code",
      "source": [],
      "metadata": {
        "id": "hoEpqUFXjyCM"
      },
      "execution_count": null,
      "outputs": []
    },
    {
      "cell_type": "code",
      "source": [],
      "metadata": {
        "id": "vc1r5VgEjPnx"
      },
      "execution_count": null,
      "outputs": []
    }
  ],
  "metadata": {
    "colab": {
      "provenance": []
    },
    "kernelspec": {
      "display_name": "Python 3",
      "name": "python3"
    },
    "language_info": {
      "name": "python"
    },
    "widgets": {
      "application/vnd.jupyter.widget-state+json": {
        "d922d2b22d074af48a15c0d0c07c7abc": {
          "model_module": "@jupyter-widgets/controls",
          "model_name": "HBoxModel",
          "model_module_version": "1.5.0",
          "state": {
            "_dom_classes": [],
            "_model_module": "@jupyter-widgets/controls",
            "_model_module_version": "1.5.0",
            "_model_name": "HBoxModel",
            "_view_count": null,
            "_view_module": "@jupyter-widgets/controls",
            "_view_module_version": "1.5.0",
            "_view_name": "HBoxView",
            "box_style": "",
            "children": [
              "IPY_MODEL_7e149ecec7d14bf8aac684ea31100299",
              "IPY_MODEL_b67bc2df0ed743eca648f3d5363527aa",
              "IPY_MODEL_8c5a575188054578a33f126ee6b094d0"
            ],
            "layout": "IPY_MODEL_859be3b35ad24e34815bfb5139510f77"
          }
        },
        "7e149ecec7d14bf8aac684ea31100299": {
          "model_module": "@jupyter-widgets/controls",
          "model_name": "HTMLModel",
          "model_module_version": "1.5.0",
          "state": {
            "_dom_classes": [],
            "_model_module": "@jupyter-widgets/controls",
            "_model_module_version": "1.5.0",
            "_model_name": "HTMLModel",
            "_view_count": null,
            "_view_module": "@jupyter-widgets/controls",
            "_view_module_version": "1.5.0",
            "_view_name": "HTMLView",
            "description": "",
            "description_tooltip": null,
            "layout": "IPY_MODEL_1230ea8dfd354db0a62cbe66d0441c55",
            "placeholder": "​",
            "style": "IPY_MODEL_2629fa55d382402580acad63a47fcc2c",
            "value": "100%"
          }
        },
        "b67bc2df0ed743eca648f3d5363527aa": {
          "model_module": "@jupyter-widgets/controls",
          "model_name": "FloatProgressModel",
          "model_module_version": "1.5.0",
          "state": {
            "_dom_classes": [],
            "_model_module": "@jupyter-widgets/controls",
            "_model_module_version": "1.5.0",
            "_model_name": "FloatProgressModel",
            "_view_count": null,
            "_view_module": "@jupyter-widgets/controls",
            "_view_module_version": "1.5.0",
            "_view_name": "ProgressView",
            "bar_style": "success",
            "description": "",
            "description_tooltip": null,
            "layout": "IPY_MODEL_dc53b05da72c4e61b080944261bccdb9",
            "max": 72,
            "min": 0,
            "orientation": "horizontal",
            "style": "IPY_MODEL_3e34d02799e648faa9514b0093b5d59e",
            "value": 72
          }
        },
        "8c5a575188054578a33f126ee6b094d0": {
          "model_module": "@jupyter-widgets/controls",
          "model_name": "HTMLModel",
          "model_module_version": "1.5.0",
          "state": {
            "_dom_classes": [],
            "_model_module": "@jupyter-widgets/controls",
            "_model_module_version": "1.5.0",
            "_model_name": "HTMLModel",
            "_view_count": null,
            "_view_module": "@jupyter-widgets/controls",
            "_view_module_version": "1.5.0",
            "_view_name": "HTMLView",
            "description": "",
            "description_tooltip": null,
            "layout": "IPY_MODEL_ae2e6bdf20434d57873461daf509ce45",
            "placeholder": "​",
            "style": "IPY_MODEL_f72018ae295a4f7b80399e4e5d4966c8",
            "value": " 72/72 [02:49&lt;00:00,  2.13s/it]"
          }
        },
        "859be3b35ad24e34815bfb5139510f77": {
          "model_module": "@jupyter-widgets/base",
          "model_name": "LayoutModel",
          "model_module_version": "1.2.0",
          "state": {
            "_model_module": "@jupyter-widgets/base",
            "_model_module_version": "1.2.0",
            "_model_name": "LayoutModel",
            "_view_count": null,
            "_view_module": "@jupyter-widgets/base",
            "_view_module_version": "1.2.0",
            "_view_name": "LayoutView",
            "align_content": null,
            "align_items": null,
            "align_self": null,
            "border": null,
            "bottom": null,
            "display": null,
            "flex": null,
            "flex_flow": null,
            "grid_area": null,
            "grid_auto_columns": null,
            "grid_auto_flow": null,
            "grid_auto_rows": null,
            "grid_column": null,
            "grid_gap": null,
            "grid_row": null,
            "grid_template_areas": null,
            "grid_template_columns": null,
            "grid_template_rows": null,
            "height": null,
            "justify_content": null,
            "justify_items": null,
            "left": null,
            "margin": null,
            "max_height": null,
            "max_width": null,
            "min_height": null,
            "min_width": null,
            "object_fit": null,
            "object_position": null,
            "order": null,
            "overflow": null,
            "overflow_x": null,
            "overflow_y": null,
            "padding": null,
            "right": null,
            "top": null,
            "visibility": null,
            "width": null
          }
        },
        "1230ea8dfd354db0a62cbe66d0441c55": {
          "model_module": "@jupyter-widgets/base",
          "model_name": "LayoutModel",
          "model_module_version": "1.2.0",
          "state": {
            "_model_module": "@jupyter-widgets/base",
            "_model_module_version": "1.2.0",
            "_model_name": "LayoutModel",
            "_view_count": null,
            "_view_module": "@jupyter-widgets/base",
            "_view_module_version": "1.2.0",
            "_view_name": "LayoutView",
            "align_content": null,
            "align_items": null,
            "align_self": null,
            "border": null,
            "bottom": null,
            "display": null,
            "flex": null,
            "flex_flow": null,
            "grid_area": null,
            "grid_auto_columns": null,
            "grid_auto_flow": null,
            "grid_auto_rows": null,
            "grid_column": null,
            "grid_gap": null,
            "grid_row": null,
            "grid_template_areas": null,
            "grid_template_columns": null,
            "grid_template_rows": null,
            "height": null,
            "justify_content": null,
            "justify_items": null,
            "left": null,
            "margin": null,
            "max_height": null,
            "max_width": null,
            "min_height": null,
            "min_width": null,
            "object_fit": null,
            "object_position": null,
            "order": null,
            "overflow": null,
            "overflow_x": null,
            "overflow_y": null,
            "padding": null,
            "right": null,
            "top": null,
            "visibility": null,
            "width": null
          }
        },
        "2629fa55d382402580acad63a47fcc2c": {
          "model_module": "@jupyter-widgets/controls",
          "model_name": "DescriptionStyleModel",
          "model_module_version": "1.5.0",
          "state": {
            "_model_module": "@jupyter-widgets/controls",
            "_model_module_version": "1.5.0",
            "_model_name": "DescriptionStyleModel",
            "_view_count": null,
            "_view_module": "@jupyter-widgets/base",
            "_view_module_version": "1.2.0",
            "_view_name": "StyleView",
            "description_width": ""
          }
        },
        "dc53b05da72c4e61b080944261bccdb9": {
          "model_module": "@jupyter-widgets/base",
          "model_name": "LayoutModel",
          "model_module_version": "1.2.0",
          "state": {
            "_model_module": "@jupyter-widgets/base",
            "_model_module_version": "1.2.0",
            "_model_name": "LayoutModel",
            "_view_count": null,
            "_view_module": "@jupyter-widgets/base",
            "_view_module_version": "1.2.0",
            "_view_name": "LayoutView",
            "align_content": null,
            "align_items": null,
            "align_self": null,
            "border": null,
            "bottom": null,
            "display": null,
            "flex": null,
            "flex_flow": null,
            "grid_area": null,
            "grid_auto_columns": null,
            "grid_auto_flow": null,
            "grid_auto_rows": null,
            "grid_column": null,
            "grid_gap": null,
            "grid_row": null,
            "grid_template_areas": null,
            "grid_template_columns": null,
            "grid_template_rows": null,
            "height": null,
            "justify_content": null,
            "justify_items": null,
            "left": null,
            "margin": null,
            "max_height": null,
            "max_width": null,
            "min_height": null,
            "min_width": null,
            "object_fit": null,
            "object_position": null,
            "order": null,
            "overflow": null,
            "overflow_x": null,
            "overflow_y": null,
            "padding": null,
            "right": null,
            "top": null,
            "visibility": null,
            "width": null
          }
        },
        "3e34d02799e648faa9514b0093b5d59e": {
          "model_module": "@jupyter-widgets/controls",
          "model_name": "ProgressStyleModel",
          "model_module_version": "1.5.0",
          "state": {
            "_model_module": "@jupyter-widgets/controls",
            "_model_module_version": "1.5.0",
            "_model_name": "ProgressStyleModel",
            "_view_count": null,
            "_view_module": "@jupyter-widgets/base",
            "_view_module_version": "1.2.0",
            "_view_name": "StyleView",
            "bar_color": null,
            "description_width": ""
          }
        },
        "ae2e6bdf20434d57873461daf509ce45": {
          "model_module": "@jupyter-widgets/base",
          "model_name": "LayoutModel",
          "model_module_version": "1.2.0",
          "state": {
            "_model_module": "@jupyter-widgets/base",
            "_model_module_version": "1.2.0",
            "_model_name": "LayoutModel",
            "_view_count": null,
            "_view_module": "@jupyter-widgets/base",
            "_view_module_version": "1.2.0",
            "_view_name": "LayoutView",
            "align_content": null,
            "align_items": null,
            "align_self": null,
            "border": null,
            "bottom": null,
            "display": null,
            "flex": null,
            "flex_flow": null,
            "grid_area": null,
            "grid_auto_columns": null,
            "grid_auto_flow": null,
            "grid_auto_rows": null,
            "grid_column": null,
            "grid_gap": null,
            "grid_row": null,
            "grid_template_areas": null,
            "grid_template_columns": null,
            "grid_template_rows": null,
            "height": null,
            "justify_content": null,
            "justify_items": null,
            "left": null,
            "margin": null,
            "max_height": null,
            "max_width": null,
            "min_height": null,
            "min_width": null,
            "object_fit": null,
            "object_position": null,
            "order": null,
            "overflow": null,
            "overflow_x": null,
            "overflow_y": null,
            "padding": null,
            "right": null,
            "top": null,
            "visibility": null,
            "width": null
          }
        },
        "f72018ae295a4f7b80399e4e5d4966c8": {
          "model_module": "@jupyter-widgets/controls",
          "model_name": "DescriptionStyleModel",
          "model_module_version": "1.5.0",
          "state": {
            "_model_module": "@jupyter-widgets/controls",
            "_model_module_version": "1.5.0",
            "_model_name": "DescriptionStyleModel",
            "_view_count": null,
            "_view_module": "@jupyter-widgets/base",
            "_view_module_version": "1.2.0",
            "_view_name": "StyleView",
            "description_width": ""
          }
        }
      }
    }
  },
  "nbformat": 4,
  "nbformat_minor": 0
}